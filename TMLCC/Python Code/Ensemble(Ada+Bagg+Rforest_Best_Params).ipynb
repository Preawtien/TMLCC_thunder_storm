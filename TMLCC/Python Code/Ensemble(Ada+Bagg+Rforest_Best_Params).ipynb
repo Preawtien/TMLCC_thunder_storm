{
 "cells": [
  {
   "cell_type": "code",
   "metadata": {
    "tags": [],
    "cell_id": "00000-c953c03e-5d24-4069-aebc-ab508f2d6059",
    "deepnote_to_be_reexecuted": false,
    "source_hash": "5241c70a",
    "execution_start": 1634379197304,
    "execution_millis": 6531,
    "deepnote_cell_type": "code"
   },
   "source": "import pandas as pd\nimport numpy as np\nimport matplotlib.pyplot as plt\nimport math\nimport tensorflow as tf\nimport matplotlib\nimport seaborn as sns\nfrom tensorflow.keras import models\nfrom tensorflow.keras.layers import Dense, Flatten, Softmax, Dropout\nfrom sklearn.model_selection import train_test_split\nfrom sklearn.preprocessing import StandardScaler",
   "outputs": [],
   "execution_count": null
  },
  {
   "cell_type": "code",
   "metadata": {
    "tags": [],
    "cell_id": "00002-a4b02d9f-93ca-4d18-afc4-7eaae99079a8",
    "deepnote_to_be_reexecuted": false,
    "source_hash": "e8d391ce",
    "execution_start": 1634379203836,
    "execution_millis": 707,
    "deepnote_cell_type": "code"
   },
   "source": "train = pd.read_csv('train_final.csv')\ntest = pd.read_csv('test_28_final.csv')",
   "outputs": [],
   "execution_count": null
  },
  {
   "cell_type": "code",
   "metadata": {
    "tags": [],
    "cell_id": "00002-a2495d4b-8062-493c-889d-fd5085119c72",
    "deepnote_to_be_reexecuted": false,
    "source_hash": "6c7a700d",
    "execution_start": 1634379204548,
    "execution_millis": 108,
    "deepnote_cell_type": "code"
   },
   "source": "test_28 = pd.read_csv('test_28_final.csv')",
   "outputs": [],
   "execution_count": null
  },
  {
   "cell_type": "code",
   "metadata": {
    "tags": [],
    "cell_id": "00006-e927fc81-cc91-42c6-b0aa-568d40ffb5df",
    "deepnote_to_be_reexecuted": false,
    "source_hash": "79340491",
    "execution_start": 1634379204729,
    "execution_millis": 10,
    "deepnote_cell_type": "code"
   },
   "source": "for col in ['metal_linker', 'organic_linker1', 'organic_linker2']:\n    train[col] = train[col].astype('category')",
   "outputs": [],
   "execution_count": null
  },
  {
   "cell_type": "markdown",
   "source": "## Explore Data",
   "metadata": {
    "tags": [],
    "is_collapsed": false,
    "cell_id": "00006-4b91f2fa-56ab-4f27-b0d3-1e1f74ccb59e",
    "deepnote_cell_type": "text-cell-h2"
   }
  },
  {
   "cell_type": "code",
   "metadata": {
    "tags": [],
    "cell_id": "00012-29d0a4c2-e66e-488b-bb7c-0f31f4a69acb",
    "deepnote_to_be_reexecuted": false,
    "source_hash": "70d369cb",
    "execution_start": 1634379205910,
    "execution_millis": 0,
    "deepnote_cell_type": "code"
   },
   "source": "check_col= ['volume [A^3]', 'weight [u]', 'density [g/cm^3]',\n       'surface_area [m^2/g]', 'void_fraction', 'void_volume [cm^3/g]',\n       'CO2/N2_selectivity',\n       'heat_adsorption_CO2_P0.15bar_T298K [kcal/mol]']\n",
   "outputs": [],
   "execution_count": null
  },
  {
   "cell_type": "code",
   "metadata": {
    "tags": [],
    "cell_id": "00014-9916ad08-236d-43f1-8c2c-073f0abab2cb",
    "deepnote_to_be_reexecuted": false,
    "source_hash": "b56762d4",
    "execution_start": 1634379205911,
    "execution_millis": 53,
    "deepnote_cell_type": "code"
   },
   "source": "for col in check_col:\n    min_,max_ = point_outlier(train[col])\n    train.loc[train[col] < min_, col] = np.NAN\n    train.loc[train[col] > max_, col] = np.NAN",
   "outputs": [],
   "execution_count": null
  },
  {
   "cell_type": "code",
   "metadata": {
    "tags": [],
    "cell_id": "00012-64a5d241-05bc-4e9b-a744-1209d5001682",
    "deepnote_to_be_reexecuted": false,
    "source_hash": "16004683",
    "execution_start": 1634379206009,
    "execution_millis": 42,
    "deepnote_cell_type": "code"
   },
   "source": "train = train.dropna()",
   "outputs": [],
   "execution_count": null
  },
  {
   "cell_type": "code",
   "metadata": {
    "tags": [],
    "cell_id": "00018-f42943f4-e5dd-4cad-9fd8-21b9f1404435",
    "deepnote_to_be_reexecuted": false,
    "source_hash": "74267d7c",
    "execution_start": 1634379206456,
    "execution_millis": 180,
    "deepnote_cell_type": "code"
   },
   "source": "train.shape",
   "outputs": [
    {
     "output_type": "execute_result",
     "execution_count": 18,
     "data": {
      "text/plain": "(50909, 52)"
     },
     "metadata": {}
    }
   ],
   "execution_count": null
  },
  {
   "cell_type": "markdown",
   "source": "## Train",
   "metadata": {
    "tags": [],
    "is_collapsed": false,
    "cell_id": "00018-605977c0-9012-409d-aabf-4b1ae6c4275e",
    "deepnote_cell_type": "text-cell-h2"
   }
  },
  {
   "cell_type": "code",
   "metadata": {
    "tags": [],
    "cell_id": "00002-a7c5ef6e-f780-4a5a-a96a-9817f5720ae6",
    "deepnote_to_be_reexecuted": false,
    "source_hash": "2b634c7",
    "execution_start": 1634379206510,
    "execution_millis": 0,
    "deepnote_cell_type": "code"
   },
   "source": "#train_x = train.drop(columns=['CO2_working_capacity [mL/g]','functional_groups','MOFname','smiles','MolWt','MolLogP','NumValenceElectrons','HeavyAtomCount','NOCount','NumAliphaticRings','NumAromaticRings','NumHAcceptors','NumHDonors','NumHeteroatoms','NumRotatableBonds'])\n#train_y = train['CO2_working_capacity [mL/g]']\n\n# train_x = train.drop(columns=['CO2_working_capacity [mL/g]','functional_groups','MOFname','smiles','MolecularFormula','InChI','InChIKey','IUPACName'])\n# train_y = train['CO2_working_capacity [mL/g]']\n\ntrain_x = train.drop(columns=['gsa','vsa','CO2_working_capacity [mL/g]','functional_groups','MOFname','smiles','MolecularFormula','CID','InChI','InChIKey','IUPACName'])\ntrain_y = train['CO2_working_capacity [mL/g]']",
   "outputs": [],
   "execution_count": null
  },
  {
   "cell_type": "code",
   "metadata": {
    "tags": [],
    "cell_id": "00003-919a534d-e483-4844-9259-5159b0b89099",
    "deepnote_to_be_reexecuted": false,
    "source_hash": "2c8c96ab",
    "execution_start": 1634379206511,
    "execution_millis": 43,
    "deepnote_cell_type": "code"
   },
   "source": "train_x = pd.get_dummies(train_x)",
   "outputs": [],
   "execution_count": null
  },
  {
   "cell_type": "code",
   "metadata": {
    "tags": [],
    "cell_id": "00008-cba1bdb0-233e-4f01-bdc4-320e482490ad",
    "deepnote_to_be_reexecuted": false,
    "source_hash": "bfe9997f",
    "execution_start": 1634379206555,
    "execution_millis": 1,
    "deepnote_cell_type": "code"
   },
   "source": "train_x_column = train_x.columns",
   "outputs": [],
   "execution_count": null
  },
  {
   "cell_type": "code",
   "metadata": {
    "tags": [],
    "cell_id": "00010-30e8c5b9-e1a6-4f10-805e-30886c45f69f",
    "deepnote_to_be_reexecuted": false,
    "source_hash": "50639fcf",
    "execution_start": 1634379206556,
    "execution_millis": 83,
    "deepnote_cell_type": "code"
   },
   "source": "train_x_column",
   "outputs": [
    {
     "output_type": "execute_result",
     "execution_count": 22,
     "data": {
      "text/plain": "Index(['volume [A^3]', 'weight [u]', 'density [g/cm^3]',\n       'surface_area [m^2/g]', 'MolWt', 'MolLogP', 'NumValenceElectrons',\n       'HeavyAtomCount', 'NOCount', 'NumAliphaticRings',\n       ...\n       'organic_linker2_59', 'topology_acs', 'topology_bcu', 'topology_etb',\n       'topology_fof', 'topology_nbo', 'topology_pcu', 'topology_pts',\n       'topology_sra', 'topology_the'],\n      dtype='object', length=167)"
     },
     "metadata": {}
    }
   ],
   "execution_count": null
  },
  {
   "cell_type": "markdown",
   "source": "### train set",
   "metadata": {
    "tags": [],
    "is_collapsed": false,
    "cell_id": "00011-7f4907af-c50a-4090-a8e6-71083d8f8a8e",
    "deepnote_cell_type": "text-cell-h3"
   }
  },
  {
   "cell_type": "code",
   "metadata": {
    "tags": [],
    "cell_id": "00004-26c83436-8858-4439-95b6-2c06ba94bd12",
    "deepnote_to_be_reexecuted": false,
    "source_hash": "f44b911b",
    "execution_start": 1634384213424,
    "execution_millis": 204,
    "deepnote_cell_type": "code"
   },
   "source": "Xst, Xval, yst, yval = train_test_split(train_x,train_y, test_size =0.2)\nsc = StandardScaler()\nX=train_x\nX =sc.fit_transform(X)\ny=train_y #เราควรยึด distribution ของ traing set เป็นหลัก ถ้าใช้ distributionอื่นได้การฟิตด้วย ก้จะเกิดbiasได้\nXval = sc.transform (Xval)",
   "outputs": [],
   "execution_count": null
  },
  {
   "cell_type": "code",
   "metadata": {
    "tags": [],
    "cell_id": "00009-22b330ef-f2f6-45b5-a78f-fa4fed148c99",
    "deepnote_to_be_reexecuted": false,
    "source_hash": "afc0771e",
    "execution_start": 1634379206806,
    "execution_millis": 0,
    "deepnote_cell_type": "code"
   },
   "source": "from tensorflow.keras.callbacks import ModelCheckpoint\nfrom sklearn.utils import class_weight ",
   "outputs": [],
   "execution_count": null
  },
  {
   "cell_type": "code",
   "metadata": {
    "tags": [],
    "cell_id": "00028-bc7dc064-9185-4869-9fc4-3a6b9eb13d25",
    "deepnote_to_be_reexecuted": false,
    "source_hash": "99032379",
    "execution_start": 1634395170569,
    "execution_millis": 5640701,
    "deepnote_cell_type": "code"
   },
   "source": "!pip install xgboost\n\nfrom sklearn.ensemble import AdaBoostRegressor, BaggingRegressor, RandomForestRegressor, StackingRegressor\nfrom sklearn.tree import DecisionTreeRegressor\nfrom sklearn.linear_model import LinearRegression\nfrom xgboost import XGBRegressor\n\nAda = AdaBoostRegressor(base_estimator = DecisionTreeRegressor(max_depth=300),n_estimators = 200, random_state = 139)\nBagg = BaggingRegressor(base_estimator = DecisionTreeRegressor(max_depth=300), n_estimators = 200, random_state = 139)\nRforest = RandomForestRegressor(max_depth=20,random_state=139,n_estimators=300)\n#Xgbr = xgb.XGBRegressor(subsample=0.7, n_estimators=1000, max_depth=10, learning_rate=0.01, colsample_bytree=0.4, colsample_bylevel=0.4)\n\nlevel0 = list()\nlevel0.append(('Ada', Ada))\nlevel0.append(('Bagg', Bagg))\nlevel0.append(('Rforest', Rforest))\n#level0.append(('Xgbr', Xgbr))\n# define meta learner model\nlevel1 = LinearRegression()\n\nmodel = StackingRegressor(estimators=level0, final_estimator=level1, cv=5)\nmodel.fit(X, y)",
   "outputs": [
    {
     "name": "stdout",
     "text": "Requirement already satisfied: xgboost in /root/venv/lib/python3.7/site-packages (1.4.2)\nRequirement already satisfied: numpy in /shared-libs/python3.7/py/lib/python3.7/site-packages (from xgboost) (1.19.5)\nRequirement already satisfied: scipy in /shared-libs/python3.7/py/lib/python3.7/site-packages (from xgboost) (1.7.1)\n\u001b[33mWARNING: You are using pip version 21.2.4; however, version 21.3 is available.\nYou should consider upgrading via the '/root/venv/bin/python -m pip install --upgrade pip' command.\u001b[0m\nBest parameters: {'subsample': 0.7, 'n_estimators': 1000, 'max_depth': 3, 'learning_rate': 0.1, 'colsample_bytree': 0.6, 'colsample_bylevel': 0.5}\nLowest RMAE:  4.59013258284844\n",
     "output_type": "stream"
    },
    {
     "output_type": "execute_result",
     "execution_count": 57,
     "data": {
      "text/plain": "StackingRegressor(cv=5,\n                  estimators=[('Ada',\n                               AdaBoostRegressor(base_estimator=DecisionTreeRegressor(max_depth=300),\n                                                 n_estimators=200,\n                                                 random_state=139)),\n                              ('Bagg',\n                               BaggingRegressor(base_estimator=DecisionTreeRegressor(max_depth=300),\n                                                n_estimators=200,\n                                                random_state=139)),\n                              ('Rforest',\n                               RandomForestRegressor(max_depth=20,\n                                                     n_estimators=300,\n                                                     random_state=139)),\n                              ('Xgbr'...\n                                            interaction_constraints=None,\n                                            learning_rate=0.01,\n                                            max_delta_step=None, max_depth=10,\n                                            min_child_weight=None, missing=nan,\n                                            monotone_constraints=None,\n                                            n_estimators=1000, n_jobs=None,\n                                            num_parallel_tree=None,\n                                            random_state=None, reg_alpha=None,\n                                            reg_lambda=None,\n                                            scale_pos_weight=None,\n                                            subsample=0.7, tree_method=None,\n                                            validate_parameters=None,\n                                            verbosity=None))],\n                  final_estimator=LinearRegression())"
     },
     "metadata": {}
    }
   ],
   "execution_count": null
  },
  {
   "cell_type": "code",
   "metadata": {
    "tags": [],
    "cell_id": "00030-cbcf913b-3bc4-4b32-a728-e5ce40e3568f",
    "deepnote_to_be_reexecuted": false,
    "source_hash": "376a6e5c",
    "execution_start": 1634400811262,
    "execution_millis": 254,
    "deepnote_cell_type": "code"
   },
   "source": "from sklearn.metrics import mean_absolute_error\npredict = clf.predict(Xval)\nmae_model = mean_absolute_error(y_true=yval,y_pred=predict)\nmath.log10(mae_model)",
   "outputs": [
    {
     "output_type": "execute_result",
     "execution_count": 58,
     "data": {
      "text/plain": "1.281450260774855"
     },
     "metadata": {}
    }
   ],
   "execution_count": null
  },
  {
   "cell_type": "markdown",
   "source": "### val set",
   "metadata": {
    "tags": [],
    "is_collapsed": false,
    "cell_id": "00015-64b43eaa-a8fa-481f-9817-209fbaea6a79",
    "deepnote_cell_type": "text-cell-h3"
   }
  },
  {
   "cell_type": "code",
   "metadata": {
    "tags": [],
    "cell_id": "00016-a387619f-92ac-45e0-ad52-060d89a6b4f2",
    "deepnote_to_be_reexecuted": true,
    "source_hash": "f00aa816",
    "execution_start": 1633198183927,
    "execution_millis": 5,
    "deepnote_cell_type": "code"
   },
   "source": "for col in ['metal_linker', 'organic_linker1', 'organic_linker2']:\n    pretest[col] = pretest[col].astype('category')\nXval_column = Xval.columns\n\nl = []\nfor col in train_x_column:\n    if col not in Xval_column:\n        l.append(col)\nlistofzeros = [0] *2000\nfor col in l:\n    Xval[col]= listofzeros\nXval = Xval.reindex(columns = train_x_column)\nXval = sc.transform (Xval)",
   "outputs": [
    {
     "output_type": "error",
     "ename": "NameError",
     "evalue": "name 'pretest' is not defined",
     "traceback": [
      "\u001b[0;31m---------------------------------------------------------------------------\u001b[0m",
      "\u001b[0;31mNameError\u001b[0m                                 Traceback (most recent call last)",
      "\u001b[0;32m/tmp/ipykernel_74/2961825053.py\u001b[0m in \u001b[0;36m<module>\u001b[0;34m\u001b[0m\n\u001b[1;32m      1\u001b[0m \u001b[0;32mfor\u001b[0m \u001b[0mcol\u001b[0m \u001b[0;32min\u001b[0m \u001b[0;34m[\u001b[0m\u001b[0;34m'metal_linker'\u001b[0m\u001b[0;34m,\u001b[0m \u001b[0;34m'organic_linker1'\u001b[0m\u001b[0;34m,\u001b[0m \u001b[0;34m'organic_linker2'\u001b[0m\u001b[0;34m]\u001b[0m\u001b[0;34m:\u001b[0m\u001b[0;34m\u001b[0m\u001b[0;34m\u001b[0m\u001b[0m\n\u001b[0;32m----> 2\u001b[0;31m     \u001b[0mpretest\u001b[0m\u001b[0;34m[\u001b[0m\u001b[0mcol\u001b[0m\u001b[0;34m]\u001b[0m \u001b[0;34m=\u001b[0m \u001b[0mpretest\u001b[0m\u001b[0;34m[\u001b[0m\u001b[0mcol\u001b[0m\u001b[0;34m]\u001b[0m\u001b[0;34m.\u001b[0m\u001b[0mastype\u001b[0m\u001b[0;34m(\u001b[0m\u001b[0;34m'category'\u001b[0m\u001b[0;34m)\u001b[0m\u001b[0;34m\u001b[0m\u001b[0;34m\u001b[0m\u001b[0m\n\u001b[0m\u001b[1;32m      3\u001b[0m \u001b[0mXval_column\u001b[0m \u001b[0;34m=\u001b[0m \u001b[0mXval\u001b[0m\u001b[0;34m.\u001b[0m\u001b[0mcolumns\u001b[0m\u001b[0;34m\u001b[0m\u001b[0;34m\u001b[0m\u001b[0m\n\u001b[1;32m      4\u001b[0m \u001b[0;34m\u001b[0m\u001b[0m\n\u001b[1;32m      5\u001b[0m \u001b[0ml\u001b[0m \u001b[0;34m=\u001b[0m \u001b[0;34m[\u001b[0m\u001b[0;34m]\u001b[0m\u001b[0;34m\u001b[0m\u001b[0;34m\u001b[0m\u001b[0m\n",
      "\u001b[0;31mNameError\u001b[0m: name 'pretest' is not defined"
     ]
    }
   ],
   "execution_count": null
  },
  {
   "cell_type": "markdown",
   "source": "### Test set",
   "metadata": {
    "tags": [],
    "is_collapsed": false,
    "cell_id": "00015-15fb8eba-5903-4639-9d6a-11850b58f12a",
    "deepnote_cell_type": "text-cell-h3"
   }
  },
  {
   "cell_type": "code",
   "metadata": {
    "tags": [],
    "cell_id": "00006-a2b6d990-fb77-40ad-bd8e-73fc18bad8da",
    "deepnote_to_be_reexecuted": false,
    "source_hash": "17e7eb4b",
    "execution_start": 1634394690807,
    "execution_millis": 22,
    "deepnote_cell_type": "code"
   },
   "source": "for col in ['metal_linker', 'organic_linker1', 'organic_linker2']:\n    test[col] = test[col].astype('category')\n#test= test.drop(columns=['MOFname','functional_groups','smiles','MolecularFormula','InChI','InChIKey','IUPACName'])\ntest= test.drop(columns=['functional_groups','MOFname','smiles','MolecularFormula','CID','InChI','InChIKey','IUPACName'])",
   "outputs": [
    {
     "output_type": "error",
     "ename": "IndexError",
     "evalue": "only integers, slices (`:`), ellipsis (`...`), numpy.newaxis (`None`) and integer or boolean arrays are valid indices",
     "traceback": [
      "\u001b[0;31m---------------------------------------------------------------------------\u001b[0m",
      "\u001b[0;31mIndexError\u001b[0m                                Traceback (most recent call last)",
      "\u001b[0;32m<ipython-input-48-9b95926f5f65>\u001b[0m in \u001b[0;36m<module>\u001b[0;34m\u001b[0m\n\u001b[1;32m      1\u001b[0m \u001b[0;32mfor\u001b[0m \u001b[0mcol\u001b[0m \u001b[0;32min\u001b[0m \u001b[0;34m[\u001b[0m\u001b[0;34m'metal_linker'\u001b[0m\u001b[0;34m,\u001b[0m \u001b[0;34m'organic_linker1'\u001b[0m\u001b[0;34m,\u001b[0m \u001b[0;34m'organic_linker2'\u001b[0m\u001b[0;34m]\u001b[0m\u001b[0;34m:\u001b[0m\u001b[0;34m\u001b[0m\u001b[0;34m\u001b[0m\u001b[0m\n\u001b[0;32m----> 2\u001b[0;31m     \u001b[0mtest\u001b[0m\u001b[0;34m[\u001b[0m\u001b[0mcol\u001b[0m\u001b[0;34m]\u001b[0m \u001b[0;34m=\u001b[0m \u001b[0mtest\u001b[0m\u001b[0;34m[\u001b[0m\u001b[0mcol\u001b[0m\u001b[0;34m]\u001b[0m\u001b[0;34m.\u001b[0m\u001b[0mastype\u001b[0m\u001b[0;34m(\u001b[0m\u001b[0;34m'category'\u001b[0m\u001b[0;34m)\u001b[0m\u001b[0;34m\u001b[0m\u001b[0;34m\u001b[0m\u001b[0m\n\u001b[0m\u001b[1;32m      3\u001b[0m \u001b[0;31m#test= test.drop(columns=['MOFname','functional_groups','smiles','MolecularFormula','InChI','InChIKey','IUPACName'])\u001b[0m\u001b[0;34m\u001b[0m\u001b[0;34m\u001b[0m\u001b[0;34m\u001b[0m\u001b[0m\n\u001b[1;32m      4\u001b[0m \u001b[0mtest\u001b[0m\u001b[0;34m=\u001b[0m \u001b[0mtest\u001b[0m\u001b[0;34m.\u001b[0m\u001b[0mdrop\u001b[0m\u001b[0;34m(\u001b[0m\u001b[0mcolumns\u001b[0m\u001b[0;34m=\u001b[0m\u001b[0;34m[\u001b[0m\u001b[0;34m'functional_groups'\u001b[0m\u001b[0;34m,\u001b[0m\u001b[0;34m'MOFname'\u001b[0m\u001b[0;34m,\u001b[0m\u001b[0;34m'smiles'\u001b[0m\u001b[0;34m,\u001b[0m\u001b[0;34m'MolecularFormula'\u001b[0m\u001b[0;34m,\u001b[0m\u001b[0;34m'CID'\u001b[0m\u001b[0;34m,\u001b[0m\u001b[0;34m'InChI'\u001b[0m\u001b[0;34m,\u001b[0m\u001b[0;34m'InChIKey'\u001b[0m\u001b[0;34m,\u001b[0m\u001b[0;34m'IUPACName'\u001b[0m\u001b[0;34m]\u001b[0m\u001b[0;34m)\u001b[0m\u001b[0;34m\u001b[0m\u001b[0;34m\u001b[0m\u001b[0m\n",
      "\u001b[0;31mIndexError\u001b[0m: only integers, slices (`:`), ellipsis (`...`), numpy.newaxis (`None`) and integer or boolean arrays are valid indices"
     ]
    }
   ],
   "execution_count": null
  },
  {
   "cell_type": "code",
   "metadata": {
    "tags": [],
    "cell_id": "00007-8421c979-4185-4748-8233-c4520f30dee4",
    "deepnote_to_be_reexecuted": false,
    "source_hash": "afaec861",
    "execution_start": 1634394691561,
    "execution_millis": 27,
    "deepnote_cell_type": "code"
   },
   "source": "test = pd.get_dummies(test)\ntest_column = test.columns",
   "outputs": [
    {
     "output_type": "error",
     "ename": "ValueError",
     "evalue": "Data must be 1-dimensional",
     "traceback": [
      "\u001b[0;31m---------------------------------------------------------------------------\u001b[0m",
      "\u001b[0;31mValueError\u001b[0m                                Traceback (most recent call last)",
      "\u001b[0;32m<ipython-input-49-bf9b1d35bca0>\u001b[0m in \u001b[0;36m<module>\u001b[0;34m\u001b[0m\n\u001b[0;32m----> 1\u001b[0;31m \u001b[0mtest\u001b[0m \u001b[0;34m=\u001b[0m \u001b[0mpd\u001b[0m\u001b[0;34m.\u001b[0m\u001b[0mget_dummies\u001b[0m\u001b[0;34m(\u001b[0m\u001b[0mtest\u001b[0m\u001b[0;34m)\u001b[0m\u001b[0;34m\u001b[0m\u001b[0;34m\u001b[0m\u001b[0m\n\u001b[0m\u001b[1;32m      2\u001b[0m \u001b[0mtest_column\u001b[0m \u001b[0;34m=\u001b[0m \u001b[0mtest\u001b[0m\u001b[0;34m.\u001b[0m\u001b[0mcolumns\u001b[0m\u001b[0;34m\u001b[0m\u001b[0;34m\u001b[0m\u001b[0m\n",
      "\u001b[0;32m/shared-libs/python3.7/py/lib/python3.7/site-packages/pandas/core/reshape/reshape.py\u001b[0m in \u001b[0;36mget_dummies\u001b[0;34m(data, prefix, prefix_sep, dummy_na, columns, sparse, drop_first, dtype)\u001b[0m\n\u001b[1;32m    910\u001b[0m             \u001b[0msparse\u001b[0m\u001b[0;34m=\u001b[0m\u001b[0msparse\u001b[0m\u001b[0;34m,\u001b[0m\u001b[0;34m\u001b[0m\u001b[0;34m\u001b[0m\u001b[0m\n\u001b[1;32m    911\u001b[0m             \u001b[0mdrop_first\u001b[0m\u001b[0;34m=\u001b[0m\u001b[0mdrop_first\u001b[0m\u001b[0;34m,\u001b[0m\u001b[0;34m\u001b[0m\u001b[0;34m\u001b[0m\u001b[0m\n\u001b[0;32m--> 912\u001b[0;31m             \u001b[0mdtype\u001b[0m\u001b[0;34m=\u001b[0m\u001b[0mdtype\u001b[0m\u001b[0;34m,\u001b[0m\u001b[0;34m\u001b[0m\u001b[0;34m\u001b[0m\u001b[0m\n\u001b[0m\u001b[1;32m    913\u001b[0m         )\n\u001b[1;32m    914\u001b[0m     \u001b[0;32mreturn\u001b[0m \u001b[0mresult\u001b[0m\u001b[0;34m\u001b[0m\u001b[0;34m\u001b[0m\u001b[0m\n",
      "\u001b[0;32m/shared-libs/python3.7/py/lib/python3.7/site-packages/pandas/core/reshape/reshape.py\u001b[0m in \u001b[0;36m_get_dummies_1d\u001b[0;34m(data, prefix, prefix_sep, dummy_na, sparse, drop_first, dtype)\u001b[0m\n\u001b[1;32m    927\u001b[0m \u001b[0;34m\u001b[0m\u001b[0m\n\u001b[1;32m    928\u001b[0m     \u001b[0;31m# Series avoids inconsistent NaN handling\u001b[0m\u001b[0;34m\u001b[0m\u001b[0;34m\u001b[0m\u001b[0;34m\u001b[0m\u001b[0m\n\u001b[0;32m--> 929\u001b[0;31m     \u001b[0mcodes\u001b[0m\u001b[0;34m,\u001b[0m \u001b[0mlevels\u001b[0m \u001b[0;34m=\u001b[0m \u001b[0mfactorize_from_iterable\u001b[0m\u001b[0;34m(\u001b[0m\u001b[0mSeries\u001b[0m\u001b[0;34m(\u001b[0m\u001b[0mdata\u001b[0m\u001b[0;34m)\u001b[0m\u001b[0;34m)\u001b[0m\u001b[0;34m\u001b[0m\u001b[0;34m\u001b[0m\u001b[0m\n\u001b[0m\u001b[1;32m    930\u001b[0m \u001b[0;34m\u001b[0m\u001b[0m\n\u001b[1;32m    931\u001b[0m     \u001b[0;32mif\u001b[0m \u001b[0mdtype\u001b[0m \u001b[0;32mis\u001b[0m \u001b[0;32mNone\u001b[0m\u001b[0;34m:\u001b[0m\u001b[0;34m\u001b[0m\u001b[0;34m\u001b[0m\u001b[0m\n",
      "\u001b[0;32m/shared-libs/python3.7/py/lib/python3.7/site-packages/pandas/core/series.py\u001b[0m in \u001b[0;36m__init__\u001b[0;34m(self, data, index, dtype, name, copy, fastpath)\u001b[0m\n\u001b[1;32m    362\u001b[0m                     \u001b[0mdata\u001b[0m \u001b[0;34m=\u001b[0m \u001b[0mdata\u001b[0m\u001b[0;34m.\u001b[0m\u001b[0mcopy\u001b[0m\u001b[0;34m(\u001b[0m\u001b[0;34m)\u001b[0m\u001b[0;34m\u001b[0m\u001b[0;34m\u001b[0m\u001b[0m\n\u001b[1;32m    363\u001b[0m             \u001b[0;32melse\u001b[0m\u001b[0;34m:\u001b[0m\u001b[0;34m\u001b[0m\u001b[0;34m\u001b[0m\u001b[0m\n\u001b[0;32m--> 364\u001b[0;31m                 \u001b[0mdata\u001b[0m \u001b[0;34m=\u001b[0m \u001b[0msanitize_array\u001b[0m\u001b[0;34m(\u001b[0m\u001b[0mdata\u001b[0m\u001b[0;34m,\u001b[0m \u001b[0mindex\u001b[0m\u001b[0;34m,\u001b[0m \u001b[0mdtype\u001b[0m\u001b[0;34m,\u001b[0m \u001b[0mcopy\u001b[0m\u001b[0;34m,\u001b[0m \u001b[0mraise_cast_failure\u001b[0m\u001b[0;34m=\u001b[0m\u001b[0;32mTrue\u001b[0m\u001b[0;34m)\u001b[0m\u001b[0;34m\u001b[0m\u001b[0;34m\u001b[0m\u001b[0m\n\u001b[0m\u001b[1;32m    365\u001b[0m \u001b[0;34m\u001b[0m\u001b[0m\n\u001b[1;32m    366\u001b[0m                 \u001b[0mdata\u001b[0m \u001b[0;34m=\u001b[0m \u001b[0mSingleBlockManager\u001b[0m\u001b[0;34m.\u001b[0m\u001b[0mfrom_array\u001b[0m\u001b[0;34m(\u001b[0m\u001b[0mdata\u001b[0m\u001b[0;34m,\u001b[0m \u001b[0mindex\u001b[0m\u001b[0;34m)\u001b[0m\u001b[0;34m\u001b[0m\u001b[0;34m\u001b[0m\u001b[0m\n",
      "\u001b[0;32m/shared-libs/python3.7/py/lib/python3.7/site-packages/pandas/core/construction.py\u001b[0m in \u001b[0;36msanitize_array\u001b[0;34m(data, index, dtype, copy, raise_cast_failure)\u001b[0m\n\u001b[1;32m    527\u001b[0m     \u001b[0;32melif\u001b[0m \u001b[0msubarr\u001b[0m\u001b[0;34m.\u001b[0m\u001b[0mndim\u001b[0m \u001b[0;34m>\u001b[0m \u001b[0;36m1\u001b[0m\u001b[0;34m:\u001b[0m\u001b[0;34m\u001b[0m\u001b[0;34m\u001b[0m\u001b[0m\n\u001b[1;32m    528\u001b[0m         \u001b[0;32mif\u001b[0m \u001b[0misinstance\u001b[0m\u001b[0;34m(\u001b[0m\u001b[0mdata\u001b[0m\u001b[0;34m,\u001b[0m \u001b[0mnp\u001b[0m\u001b[0;34m.\u001b[0m\u001b[0mndarray\u001b[0m\u001b[0;34m)\u001b[0m\u001b[0;34m:\u001b[0m\u001b[0;34m\u001b[0m\u001b[0;34m\u001b[0m\u001b[0m\n\u001b[0;32m--> 529\u001b[0;31m             \u001b[0;32mraise\u001b[0m \u001b[0mValueError\u001b[0m\u001b[0;34m(\u001b[0m\u001b[0;34m\"Data must be 1-dimensional\"\u001b[0m\u001b[0;34m)\u001b[0m\u001b[0;34m\u001b[0m\u001b[0;34m\u001b[0m\u001b[0m\n\u001b[0m\u001b[1;32m    530\u001b[0m         \u001b[0;32melse\u001b[0m\u001b[0;34m:\u001b[0m\u001b[0;34m\u001b[0m\u001b[0;34m\u001b[0m\u001b[0m\n\u001b[1;32m    531\u001b[0m             \u001b[0msubarr\u001b[0m \u001b[0;34m=\u001b[0m \u001b[0mcom\u001b[0m\u001b[0;34m.\u001b[0m\u001b[0masarray_tuplesafe\u001b[0m\u001b[0;34m(\u001b[0m\u001b[0mdata\u001b[0m\u001b[0;34m,\u001b[0m \u001b[0mdtype\u001b[0m\u001b[0;34m=\u001b[0m\u001b[0mdtype\u001b[0m\u001b[0;34m)\u001b[0m\u001b[0;34m\u001b[0m\u001b[0;34m\u001b[0m\u001b[0m\n",
      "\u001b[0;31mValueError\u001b[0m: Data must be 1-dimensional"
     ]
    }
   ],
   "execution_count": null
  },
  {
   "cell_type": "code",
   "metadata": {
    "tags": [],
    "cell_id": "00008-5c1f08cd-9f13-4713-985e-8bbe19a841ad",
    "deepnote_to_be_reexecuted": false,
    "source_hash": "d50ddb9b",
    "execution_start": 1634394692412,
    "execution_millis": 4,
    "deepnote_cell_type": "code"
   },
   "source": "l = []\nfor col in train_x_column:\n    if col not in test_column:\n        l.append(col)\nlistofzeros = [0] *17000\nfor col in l:\n    test[col]= listofzeros\ntest.shape",
   "outputs": [
    {
     "output_type": "error",
     "ename": "IndexError",
     "evalue": "only integers, slices (`:`), ellipsis (`...`), numpy.newaxis (`None`) and integer or boolean arrays are valid indices",
     "traceback": [
      "\u001b[0;31m---------------------------------------------------------------------------\u001b[0m",
      "\u001b[0;31mIndexError\u001b[0m                                Traceback (most recent call last)",
      "\u001b[0;32m<ipython-input-50-0f3654c39e15>\u001b[0m in \u001b[0;36m<module>\u001b[0;34m\u001b[0m\n\u001b[1;32m      5\u001b[0m \u001b[0mlistofzeros\u001b[0m \u001b[0;34m=\u001b[0m \u001b[0;34m[\u001b[0m\u001b[0;36m0\u001b[0m\u001b[0;34m]\u001b[0m \u001b[0;34m*\u001b[0m\u001b[0;36m17000\u001b[0m\u001b[0;34m\u001b[0m\u001b[0;34m\u001b[0m\u001b[0m\n\u001b[1;32m      6\u001b[0m \u001b[0;32mfor\u001b[0m \u001b[0mcol\u001b[0m \u001b[0;32min\u001b[0m \u001b[0ml\u001b[0m\u001b[0;34m:\u001b[0m\u001b[0;34m\u001b[0m\u001b[0;34m\u001b[0m\u001b[0m\n\u001b[0;32m----> 7\u001b[0;31m     \u001b[0mtest\u001b[0m\u001b[0;34m[\u001b[0m\u001b[0mcol\u001b[0m\u001b[0;34m]\u001b[0m\u001b[0;34m=\u001b[0m \u001b[0mlistofzeros\u001b[0m\u001b[0;34m\u001b[0m\u001b[0;34m\u001b[0m\u001b[0m\n\u001b[0m\u001b[1;32m      8\u001b[0m \u001b[0mtest\u001b[0m\u001b[0;34m.\u001b[0m\u001b[0mshape\u001b[0m\u001b[0;34m\u001b[0m\u001b[0;34m\u001b[0m\u001b[0m\n",
      "\u001b[0;31mIndexError\u001b[0m: only integers, slices (`:`), ellipsis (`...`), numpy.newaxis (`None`) and integer or boolean arrays are valid indices"
     ]
    }
   ],
   "execution_count": null
  },
  {
   "cell_type": "code",
   "metadata": {
    "tags": [],
    "cell_id": "00009-1bd4cd4f-8a31-4ec6-9d67-12214e2f3309",
    "deepnote_to_be_reexecuted": false,
    "source_hash": "5c1a68e4",
    "execution_start": 1634394693037,
    "execution_millis": 4,
    "deepnote_cell_type": "code"
   },
   "source": "test = test.reindex(columns = train_x_column)",
   "outputs": [
    {
     "output_type": "error",
     "ename": "AttributeError",
     "evalue": "'numpy.ndarray' object has no attribute 'reindex'",
     "traceback": [
      "\u001b[0;31m---------------------------------------------------------------------------\u001b[0m",
      "\u001b[0;31mAttributeError\u001b[0m                            Traceback (most recent call last)",
      "\u001b[0;32m<ipython-input-51-7597ad472c03>\u001b[0m in \u001b[0;36m<module>\u001b[0;34m\u001b[0m\n\u001b[0;32m----> 1\u001b[0;31m \u001b[0mtest\u001b[0m \u001b[0;34m=\u001b[0m \u001b[0mtest\u001b[0m\u001b[0;34m.\u001b[0m\u001b[0mreindex\u001b[0m\u001b[0;34m(\u001b[0m\u001b[0mcolumns\u001b[0m \u001b[0;34m=\u001b[0m \u001b[0mtrain_x_column\u001b[0m\u001b[0;34m)\u001b[0m\u001b[0;34m\u001b[0m\u001b[0;34m\u001b[0m\u001b[0m\n\u001b[0m",
      "\u001b[0;31mAttributeError\u001b[0m: 'numpy.ndarray' object has no attribute 'reindex'"
     ]
    }
   ],
   "execution_count": null
  },
  {
   "cell_type": "code",
   "metadata": {
    "tags": [],
    "cell_id": "00018-b8ccda41-67a2-4b79-9ed7-b4f3f2412053",
    "deepnote_to_be_reexecuted": false,
    "source_hash": "625d131c",
    "execution_start": 1634394693601,
    "execution_millis": 16,
    "deepnote_cell_type": "code"
   },
   "source": "test = sc.transform (test)",
   "outputs": [
    {
     "name": "stderr",
     "text": "/shared-libs/python3.7/py/lib/python3.7/site-packages/sklearn/base.py:442: UserWarning: X does not have valid feature names, but StandardScaler was fitted with feature names\n  \"X does not have valid feature names, but\"\n",
     "output_type": "stream"
    }
   ],
   "execution_count": null
  },
  {
   "cell_type": "code",
   "metadata": {
    "tags": [],
    "cell_id": "00010-f1729ddd-d154-49e8-8918-0517d6687a5e",
    "deepnote_to_be_reexecuted": false,
    "source_hash": "1b45775c",
    "execution_start": 1634394695853,
    "execution_millis": 3537,
    "deepnote_cell_type": "code"
   },
   "source": "pred = model.predict(test)",
   "outputs": [],
   "execution_count": null
  },
  {
   "cell_type": "markdown",
   "source": "## Save to submission",
   "metadata": {
    "tags": [],
    "is_collapsed": false,
    "cell_id": "00020-dabed0d5-29ed-440b-9600-2ae916d69d0e",
    "deepnote_cell_type": "text-cell-h2"
   }
  },
  {
   "cell_type": "code",
   "metadata": {
    "tags": [],
    "cell_id": "00011-2bc20e86-fee9-4b5e-a767-670c6922ffa4",
    "deepnote_to_be_reexecuted": false,
    "source_hash": "b3450dbc",
    "execution_start": 1634394701402,
    "execution_millis": 50,
    "deepnote_cell_type": "code"
   },
   "source": "df = pd.DataFrame()\ndf['id'] = test_28['MOFname']\ndf['CO2_working_capacity [mL/g]'] = pred\ndf",
   "outputs": [
    {
     "output_type": "execute_result",
     "execution_count": 54,
     "data": {
      "application/vnd.deepnote.dataframe.v2+json": {
       "row_count": 17000,
       "column_count": 2,
       "columns": [
        {
         "name": "id",
         "dtype": "object",
         "stats": {
          "unique_count": 17000,
          "nan_count": 0,
          "categories": [
           {
            "name": "mof_unit_68614",
            "count": 1
           },
           {
            "name": "mof_unit_68615",
            "count": 1
           },
           {
            "name": "16998 others",
            "count": 16998
           }
          ]
         }
        },
        {
         "name": "CO2_working_capacity [mL/g]",
         "dtype": "float32",
         "stats": {
          "unique_count": 15895,
          "nan_count": 0,
          "min": "-139.5838165283203",
          "max": "115.12994384765625",
          "histogram": [
           {
            "bin_start": -139.5838165283203,
            "bin_end": -114.11244201660156,
            "count": 358
           },
           {
            "bin_start": -114.11244201660156,
            "bin_end": -88.64106750488281,
            "count": 3652
           },
           {
            "bin_start": -88.64106750488281,
            "bin_end": -63.1696891784668,
            "count": 2321
           },
           {
            "bin_start": -63.1696891784668,
            "bin_end": -37.69831085205078,
            "count": 860
           },
           {
            "bin_start": -37.69831085205078,
            "bin_end": -12.226936340332031,
            "count": 4097
           },
           {
            "bin_start": -12.226936340332031,
            "bin_end": 13.244440078735352,
            "count": 3729
           },
           {
            "bin_start": 13.244440078735352,
            "bin_end": 38.715816497802734,
            "count": 1560
           },
           {
            "bin_start": 38.715816497802734,
            "bin_end": 64.18719482421875,
            "count": 339
           },
           {
            "bin_start": 64.18719482421875,
            "bin_end": 89.6585693359375,
            "count": 59
           },
           {
            "bin_start": 89.6585693359375,
            "bin_end": 115.12994384765625,
            "count": 25
           }
          ]
         }
        },
        {
         "name": "_deepnote_index_column",
         "dtype": "int64"
        }
       ],
       "rows_top": [
        {
         "id": "mof_unit_68614",
         "CO2_working_capacity [mL/g]": -99.79708099365234,
         "_deepnote_index_column": 0
        },
        {
         "id": "mof_unit_68615",
         "CO2_working_capacity [mL/g]": -82.5167236328125,
         "_deepnote_index_column": 1
        },
        {
         "id": "mof_unit_68616",
         "CO2_working_capacity [mL/g]": 6.26993465423584,
         "_deepnote_index_column": 2
        },
        {
         "id": "mof_unit_68617",
         "CO2_working_capacity [mL/g]": 18.221710205078125,
         "_deepnote_index_column": 3
        },
        {
         "id": "mof_unit_68618",
         "CO2_working_capacity [mL/g]": -20.03335952758789,
         "_deepnote_index_column": 4
        },
        {
         "id": "mof_unit_68619",
         "CO2_working_capacity [mL/g]": 0.9864050149917603,
         "_deepnote_index_column": 5
        },
        {
         "id": "mof_unit_68620",
         "CO2_working_capacity [mL/g]": -77.90762329101562,
         "_deepnote_index_column": 6
        },
        {
         "id": "mof_unit_68621",
         "CO2_working_capacity [mL/g]": -21.492841720581055,
         "_deepnote_index_column": 7
        },
        {
         "id": "mof_unit_68622",
         "CO2_working_capacity [mL/g]": 24.532108306884766,
         "_deepnote_index_column": 8
        },
        {
         "id": "mof_unit_68623",
         "CO2_working_capacity [mL/g]": -105.71113586425781,
         "_deepnote_index_column": 9
        },
        {
         "id": "mof_unit_68624",
         "CO2_working_capacity [mL/g]": -15.204936027526855,
         "_deepnote_index_column": 10
        },
        {
         "id": "mof_unit_68625",
         "CO2_working_capacity [mL/g]": -10.648592948913574,
         "_deepnote_index_column": 11
        },
        {
         "id": "mof_unit_68626",
         "CO2_working_capacity [mL/g]": -47.676719665527344,
         "_deepnote_index_column": 12
        },
        {
         "id": "mof_unit_68627",
         "CO2_working_capacity [mL/g]": -70.09266662597656,
         "_deepnote_index_column": 13
        },
        {
         "id": "mof_unit_68628",
         "CO2_working_capacity [mL/g]": -116.7964859008789,
         "_deepnote_index_column": 14
        },
        {
         "id": "mof_unit_68629",
         "CO2_working_capacity [mL/g]": -23.710756301879883,
         "_deepnote_index_column": 15
        },
        {
         "id": "mof_unit_68630",
         "CO2_working_capacity [mL/g]": -12.616570472717285,
         "_deepnote_index_column": 16
        },
        {
         "id": "mof_unit_68631",
         "CO2_working_capacity [mL/g]": -5.2141828536987305,
         "_deepnote_index_column": 17
        },
        {
         "id": "mof_unit_68632",
         "CO2_working_capacity [mL/g]": -73.65016174316406,
         "_deepnote_index_column": 18
        },
        {
         "id": "mof_unit_68633",
         "CO2_working_capacity [mL/g]": -103.3733901977539,
         "_deepnote_index_column": 19
        },
        {
         "id": "mof_unit_68634",
         "CO2_working_capacity [mL/g]": -74.63275909423828,
         "_deepnote_index_column": 20
        },
        {
         "id": "mof_unit_68635",
         "CO2_working_capacity [mL/g]": -72.5509262084961,
         "_deepnote_index_column": 21
        },
        {
         "id": "mof_unit_68636",
         "CO2_working_capacity [mL/g]": 3.5167922973632812,
         "_deepnote_index_column": 22
        },
        {
         "id": "mof_unit_68637",
         "CO2_working_capacity [mL/g]": -5.041143417358398,
         "_deepnote_index_column": 23
        },
        {
         "id": "mof_unit_68638",
         "CO2_working_capacity [mL/g]": -49.90239715576172,
         "_deepnote_index_column": 24
        },
        {
         "id": "mof_unit_68639",
         "CO2_working_capacity [mL/g]": -88.51052856445312,
         "_deepnote_index_column": 25
        },
        {
         "id": "mof_unit_68640",
         "CO2_working_capacity [mL/g]": -81.76206970214844,
         "_deepnote_index_column": 26
        },
        {
         "id": "mof_unit_68641",
         "CO2_working_capacity [mL/g]": -87.23746490478516,
         "_deepnote_index_column": 27
        },
        {
         "id": "mof_unit_68642",
         "CO2_working_capacity [mL/g]": -23.883747100830078,
         "_deepnote_index_column": 28
        },
        {
         "id": "mof_unit_68643",
         "CO2_working_capacity [mL/g]": -98.52242279052734,
         "_deepnote_index_column": 29
        },
        {
         "id": "mof_unit_68644",
         "CO2_working_capacity [mL/g]": -75.94181060791016,
         "_deepnote_index_column": 30
        },
        {
         "id": "mof_unit_68645",
         "CO2_working_capacity [mL/g]": -100.44074249267578,
         "_deepnote_index_column": 31
        },
        {
         "id": "mof_unit_68646",
         "CO2_working_capacity [mL/g]": -56.32816696166992,
         "_deepnote_index_column": 32
        },
        {
         "id": "mof_unit_68647",
         "CO2_working_capacity [mL/g]": 26.249759674072266,
         "_deepnote_index_column": 33
        },
        {
         "id": "mof_unit_68648",
         "CO2_working_capacity [mL/g]": -90.54065704345703,
         "_deepnote_index_column": 34
        },
        {
         "id": "mof_unit_68649",
         "CO2_working_capacity [mL/g]": -100.68754577636719,
         "_deepnote_index_column": 35
        },
        {
         "id": "mof_unit_68650",
         "CO2_working_capacity [mL/g]": -58.05070877075195,
         "_deepnote_index_column": 36
        },
        {
         "id": "mof_unit_68651",
         "CO2_working_capacity [mL/g]": 9.634103775024414,
         "_deepnote_index_column": 37
        },
        {
         "id": "mof_unit_68652",
         "CO2_working_capacity [mL/g]": -64.3427734375,
         "_deepnote_index_column": 38
        },
        {
         "id": "mof_unit_68653",
         "CO2_working_capacity [mL/g]": -0.2758544385433197,
         "_deepnote_index_column": 39
        },
        {
         "id": "mof_unit_68654",
         "CO2_working_capacity [mL/g]": -82.0764389038086,
         "_deepnote_index_column": 40
        },
        {
         "id": "mof_unit_68655",
         "CO2_working_capacity [mL/g]": -18.15523910522461,
         "_deepnote_index_column": 41
        },
        {
         "id": "mof_unit_68656",
         "CO2_working_capacity [mL/g]": 29.987709045410156,
         "_deepnote_index_column": 42
        },
        {
         "id": "mof_unit_68657",
         "CO2_working_capacity [mL/g]": -94.4255142211914,
         "_deepnote_index_column": 43
        },
        {
         "id": "mof_unit_68658",
         "CO2_working_capacity [mL/g]": -22.431055068969727,
         "_deepnote_index_column": 44
        },
        {
         "id": "mof_unit_68659",
         "CO2_working_capacity [mL/g]": -0.963140070438385,
         "_deepnote_index_column": 45
        },
        {
         "id": "mof_unit_68660",
         "CO2_working_capacity [mL/g]": -101.1699447631836,
         "_deepnote_index_column": 46
        },
        {
         "id": "mof_unit_68661",
         "CO2_working_capacity [mL/g]": -92.51825714111328,
         "_deepnote_index_column": 47
        },
        {
         "id": "mof_unit_68662",
         "CO2_working_capacity [mL/g]": -88.83903503417969,
         "_deepnote_index_column": 48
        },
        {
         "id": "mof_unit_68663",
         "CO2_working_capacity [mL/g]": 2.8710460662841797,
         "_deepnote_index_column": 49
        },
        {
         "id": "mof_unit_68664",
         "CO2_working_capacity [mL/g]": -63.98114013671875,
         "_deepnote_index_column": 50
        },
        {
         "id": "mof_unit_68665",
         "CO2_working_capacity [mL/g]": 33.77558898925781,
         "_deepnote_index_column": 51
        },
        {
         "id": "mof_unit_68666",
         "CO2_working_capacity [mL/g]": -62.91625213623047,
         "_deepnote_index_column": 52
        },
        {
         "id": "mof_unit_68667",
         "CO2_working_capacity [mL/g]": -105.18647003173828,
         "_deepnote_index_column": 53
        },
        {
         "id": "mof_unit_68668",
         "CO2_working_capacity [mL/g]": 94.89112091064453,
         "_deepnote_index_column": 54
        },
        {
         "id": "mof_unit_68669",
         "CO2_working_capacity [mL/g]": 2.9965271949768066,
         "_deepnote_index_column": 55
        },
        {
         "id": "mof_unit_68670",
         "CO2_working_capacity [mL/g]": -111.68093872070312,
         "_deepnote_index_column": 56
        },
        {
         "id": "mof_unit_68671",
         "CO2_working_capacity [mL/g]": -23.370399475097656,
         "_deepnote_index_column": 57
        },
        {
         "id": "mof_unit_68672",
         "CO2_working_capacity [mL/g]": 23.006546020507812,
         "_deepnote_index_column": 58
        },
        {
         "id": "mof_unit_68673",
         "CO2_working_capacity [mL/g]": -90.29303741455078,
         "_deepnote_index_column": 59
        },
        {
         "id": "mof_unit_68674",
         "CO2_working_capacity [mL/g]": -10.27546215057373,
         "_deepnote_index_column": 60
        },
        {
         "id": "mof_unit_68675",
         "CO2_working_capacity [mL/g]": -8.71124267578125,
         "_deepnote_index_column": 61
        },
        {
         "id": "mof_unit_68676",
         "CO2_working_capacity [mL/g]": -79.22016143798828,
         "_deepnote_index_column": 62
        },
        {
         "id": "mof_unit_68677",
         "CO2_working_capacity [mL/g]": -108.10657501220703,
         "_deepnote_index_column": 63
        },
        {
         "id": "mof_unit_68678",
         "CO2_working_capacity [mL/g]": -36.075008392333984,
         "_deepnote_index_column": 64
        },
        {
         "id": "mof_unit_68679",
         "CO2_working_capacity [mL/g]": 53.90875244140625,
         "_deepnote_index_column": 65
        },
        {
         "id": "mof_unit_68680",
         "CO2_working_capacity [mL/g]": 8.702545166015625,
         "_deepnote_index_column": 66
        },
        {
         "id": "mof_unit_68681",
         "CO2_working_capacity [mL/g]": 11.6183500289917,
         "_deepnote_index_column": 67
        },
        {
         "id": "mof_unit_68682",
         "CO2_working_capacity [mL/g]": -107.38617706298828,
         "_deepnote_index_column": 68
        },
        {
         "id": "mof_unit_68683",
         "CO2_working_capacity [mL/g]": -12.645648956298828,
         "_deepnote_index_column": 69
        },
        {
         "id": "mof_unit_68684",
         "CO2_working_capacity [mL/g]": 7.263100624084473,
         "_deepnote_index_column": 70
        },
        {
         "id": "mof_unit_68685",
         "CO2_working_capacity [mL/g]": -4.9190168380737305,
         "_deepnote_index_column": 71
        },
        {
         "id": "mof_unit_68686",
         "CO2_working_capacity [mL/g]": -98.03816986083984,
         "_deepnote_index_column": 72
        },
        {
         "id": "mof_unit_68687",
         "CO2_working_capacity [mL/g]": -106.65105438232422,
         "_deepnote_index_column": 73
        },
        {
         "id": "mof_unit_68688",
         "CO2_working_capacity [mL/g]": -44.898006439208984,
         "_deepnote_index_column": 74
        },
        {
         "id": "mof_unit_68689",
         "CO2_working_capacity [mL/g]": -28.386388778686523,
         "_deepnote_index_column": 75
        },
        {
         "id": "mof_unit_68690",
         "CO2_working_capacity [mL/g]": 22.497743606567383,
         "_deepnote_index_column": 76
        },
        {
         "id": "mof_unit_68691",
         "CO2_working_capacity [mL/g]": -87.49674224853516,
         "_deepnote_index_column": 77
        },
        {
         "id": "mof_unit_68692",
         "CO2_working_capacity [mL/g]": 8.229320526123047,
         "_deepnote_index_column": 78
        },
        {
         "id": "mof_unit_68693",
         "CO2_working_capacity [mL/g]": -91.63436126708984,
         "_deepnote_index_column": 79
        },
        {
         "id": "mof_unit_68694",
         "CO2_working_capacity [mL/g]": -108.45515441894531,
         "_deepnote_index_column": 80
        },
        {
         "id": "mof_unit_68695",
         "CO2_working_capacity [mL/g]": 22.796552658081055,
         "_deepnote_index_column": 81
        },
        {
         "id": "mof_unit_68696",
         "CO2_working_capacity [mL/g]": -22.788028717041016,
         "_deepnote_index_column": 82
        },
        {
         "id": "mof_unit_68697",
         "CO2_working_capacity [mL/g]": 12.576533317565918,
         "_deepnote_index_column": 83
        },
        {
         "id": "mof_unit_68698",
         "CO2_working_capacity [mL/g]": -97.36656951904297,
         "_deepnote_index_column": 84
        },
        {
         "id": "mof_unit_68699",
         "CO2_working_capacity [mL/g]": -26.645605087280273,
         "_deepnote_index_column": 85
        },
        {
         "id": "mof_unit_68700",
         "CO2_working_capacity [mL/g]": 28.79952621459961,
         "_deepnote_index_column": 86
        },
        {
         "id": "mof_unit_68701",
         "CO2_working_capacity [mL/g]": -15.513671875,
         "_deepnote_index_column": 87
        },
        {
         "id": "mof_unit_68702",
         "CO2_working_capacity [mL/g]": 11.267609596252441,
         "_deepnote_index_column": 88
        },
        {
         "id": "mof_unit_68703",
         "CO2_working_capacity [mL/g]": 51.3230094909668,
         "_deepnote_index_column": 89
        },
        {
         "id": "mof_unit_68704",
         "CO2_working_capacity [mL/g]": -70.50799560546875,
         "_deepnote_index_column": 90
        },
        {
         "id": "mof_unit_68705",
         "CO2_working_capacity [mL/g]": 2.5558948516845703,
         "_deepnote_index_column": 91
        },
        {
         "id": "mof_unit_68706",
         "CO2_working_capacity [mL/g]": -104.1155776977539,
         "_deepnote_index_column": 92
        },
        {
         "id": "mof_unit_68707",
         "CO2_working_capacity [mL/g]": -14.003788948059082,
         "_deepnote_index_column": 93
        },
        {
         "id": "mof_unit_68708",
         "CO2_working_capacity [mL/g]": -93.67744445800781,
         "_deepnote_index_column": 94
        },
        {
         "id": "mof_unit_68709",
         "CO2_working_capacity [mL/g]": -51.84275436401367,
         "_deepnote_index_column": 95
        },
        {
         "id": "mof_unit_68710",
         "CO2_working_capacity [mL/g]": -21.679237365722656,
         "_deepnote_index_column": 96
        },
        {
         "id": "mof_unit_68711",
         "CO2_working_capacity [mL/g]": -14.597110748291016,
         "_deepnote_index_column": 97
        },
        {
         "id": "mof_unit_68712",
         "CO2_working_capacity [mL/g]": 30.241743087768555,
         "_deepnote_index_column": 98
        },
        {
         "id": "mof_unit_68713",
         "CO2_working_capacity [mL/g]": -11.928231239318848,
         "_deepnote_index_column": 99
        },
        {
         "id": "mof_unit_68714",
         "CO2_working_capacity [mL/g]": 1.1659083366394043,
         "_deepnote_index_column": 100
        },
        {
         "id": "mof_unit_68715",
         "CO2_working_capacity [mL/g]": -96.69330596923828,
         "_deepnote_index_column": 101
        },
        {
         "id": "mof_unit_68716",
         "CO2_working_capacity [mL/g]": -81.46630096435547,
         "_deepnote_index_column": 102
        },
        {
         "id": "mof_unit_68717",
         "CO2_working_capacity [mL/g]": -14.738202095031738,
         "_deepnote_index_column": 103
        },
        {
         "id": "mof_unit_68718",
         "CO2_working_capacity [mL/g]": -6.643036365509033,
         "_deepnote_index_column": 104
        },
        {
         "id": "mof_unit_68719",
         "CO2_working_capacity [mL/g]": -18.979270935058594,
         "_deepnote_index_column": 105
        },
        {
         "id": "mof_unit_68720",
         "CO2_working_capacity [mL/g]": -71.26944732666016,
         "_deepnote_index_column": 106
        },
        {
         "id": "mof_unit_68721",
         "CO2_working_capacity [mL/g]": -111.02471160888672,
         "_deepnote_index_column": 107
        },
        {
         "id": "mof_unit_68722",
         "CO2_working_capacity [mL/g]": -51.035728454589844,
         "_deepnote_index_column": 108
        },
        {
         "id": "mof_unit_68723",
         "CO2_working_capacity [mL/g]": -92.85039520263672,
         "_deepnote_index_column": 109
        },
        {
         "id": "mof_unit_68724",
         "CO2_working_capacity [mL/g]": -3.956188201904297,
         "_deepnote_index_column": 110
        },
        {
         "id": "mof_unit_68725",
         "CO2_working_capacity [mL/g]": -17.578033447265625,
         "_deepnote_index_column": 111
        },
        {
         "id": "mof_unit_68726",
         "CO2_working_capacity [mL/g]": -103.45582580566406,
         "_deepnote_index_column": 112
        },
        {
         "id": "mof_unit_68727",
         "CO2_working_capacity [mL/g]": -103.59674072265625,
         "_deepnote_index_column": 113
        },
        {
         "id": "mof_unit_68728",
         "CO2_working_capacity [mL/g]": -76.40694427490234,
         "_deepnote_index_column": 114
        },
        {
         "id": "mof_unit_68729",
         "CO2_working_capacity [mL/g]": -109.26307678222656,
         "_deepnote_index_column": 115
        },
        {
         "id": "mof_unit_68730",
         "CO2_working_capacity [mL/g]": -11.414227485656738,
         "_deepnote_index_column": 116
        },
        {
         "id": "mof_unit_68731",
         "CO2_working_capacity [mL/g]": -117.27579498291016,
         "_deepnote_index_column": 117
        },
        {
         "id": "mof_unit_68732",
         "CO2_working_capacity [mL/g]": 33.6767578125,
         "_deepnote_index_column": 118
        },
        {
         "id": "mof_unit_68733",
         "CO2_working_capacity [mL/g]": 32.87186050415039,
         "_deepnote_index_column": 119
        },
        {
         "id": "mof_unit_68734",
         "CO2_working_capacity [mL/g]": -83.14185333251953,
         "_deepnote_index_column": 120
        },
        {
         "id": "mof_unit_68735",
         "CO2_working_capacity [mL/g]": -70.49143981933594,
         "_deepnote_index_column": 121
        },
        {
         "id": "mof_unit_68736",
         "CO2_working_capacity [mL/g]": 19.219593048095703,
         "_deepnote_index_column": 122
        },
        {
         "id": "mof_unit_68737",
         "CO2_working_capacity [mL/g]": 21.85700035095215,
         "_deepnote_index_column": 123
        },
        {
         "id": "mof_unit_68738",
         "CO2_working_capacity [mL/g]": -94.87760162353516,
         "_deepnote_index_column": 124
        },
        {
         "id": "mof_unit_68739",
         "CO2_working_capacity [mL/g]": -99.639404296875,
         "_deepnote_index_column": 125
        },
        {
         "id": "mof_unit_68740",
         "CO2_working_capacity [mL/g]": -20.693180084228516,
         "_deepnote_index_column": 126
        },
        {
         "id": "mof_unit_68741",
         "CO2_working_capacity [mL/g]": 7.68843412399292,
         "_deepnote_index_column": 127
        },
        {
         "id": "mof_unit_68742",
         "CO2_working_capacity [mL/g]": -95.9250717163086,
         "_deepnote_index_column": 128
        },
        {
         "id": "mof_unit_68743",
         "CO2_working_capacity [mL/g]": -108.62438201904297,
         "_deepnote_index_column": 129
        },
        {
         "id": "mof_unit_68744",
         "CO2_working_capacity [mL/g]": -71.64866638183594,
         "_deepnote_index_column": 130
        },
        {
         "id": "mof_unit_68745",
         "CO2_working_capacity [mL/g]": 20.466890335083008,
         "_deepnote_index_column": 131
        },
        {
         "id": "mof_unit_68746",
         "CO2_working_capacity [mL/g]": -3.9111008644104004,
         "_deepnote_index_column": 132
        },
        {
         "id": "mof_unit_68747",
         "CO2_working_capacity [mL/g]": -7.8504319190979,
         "_deepnote_index_column": 133
        },
        {
         "id": "mof_unit_68748",
         "CO2_working_capacity [mL/g]": 1.9078774452209473,
         "_deepnote_index_column": 134
        },
        {
         "id": "mof_unit_68749",
         "CO2_working_capacity [mL/g]": 1.0578627586364746,
         "_deepnote_index_column": 135
        },
        {
         "id": "mof_unit_68750",
         "CO2_working_capacity [mL/g]": 3.0116586685180664,
         "_deepnote_index_column": 136
        },
        {
         "id": "mof_unit_68751",
         "CO2_working_capacity [mL/g]": -87.83003997802734,
         "_deepnote_index_column": 137
        },
        {
         "id": "mof_unit_68752",
         "CO2_working_capacity [mL/g]": -89.87327575683594,
         "_deepnote_index_column": 138
        },
        {
         "id": "mof_unit_68753",
         "CO2_working_capacity [mL/g]": -61.852657318115234,
         "_deepnote_index_column": 139
        },
        {
         "id": "mof_unit_68754",
         "CO2_working_capacity [mL/g]": -103.07147216796875,
         "_deepnote_index_column": 140
        },
        {
         "id": "mof_unit_68755",
         "CO2_working_capacity [mL/g]": -15.795039176940918,
         "_deepnote_index_column": 141
        },
        {
         "id": "mof_unit_68756",
         "CO2_working_capacity [mL/g]": -33.47747802734375,
         "_deepnote_index_column": 142
        },
        {
         "id": "mof_unit_68757",
         "CO2_working_capacity [mL/g]": -47.29408645629883,
         "_deepnote_index_column": 143
        },
        {
         "id": "mof_unit_68758",
         "CO2_working_capacity [mL/g]": -99.70043182373047,
         "_deepnote_index_column": 144
        },
        {
         "id": "mof_unit_68759",
         "CO2_working_capacity [mL/g]": -75.1655502319336,
         "_deepnote_index_column": 145
        },
        {
         "id": "mof_unit_68760",
         "CO2_working_capacity [mL/g]": -93.68852233886719,
         "_deepnote_index_column": 146
        },
        {
         "id": "mof_unit_68761",
         "CO2_working_capacity [mL/g]": -11.158782958984375,
         "_deepnote_index_column": 147
        },
        {
         "id": "mof_unit_68762",
         "CO2_working_capacity [mL/g]": -104.06741333007812,
         "_deepnote_index_column": 148
        },
        {
         "id": "mof_unit_68763",
         "CO2_working_capacity [mL/g]": -1.2419185638427734,
         "_deepnote_index_column": 149
        },
        {
         "id": "mof_unit_68764",
         "CO2_working_capacity [mL/g]": -71.40955352783203,
         "_deepnote_index_column": 150
        },
        {
         "id": "mof_unit_68765",
         "CO2_working_capacity [mL/g]": -102.57083129882812,
         "_deepnote_index_column": 151
        },
        {
         "id": "mof_unit_68766",
         "CO2_working_capacity [mL/g]": 37.5925407409668,
         "_deepnote_index_column": 152
        },
        {
         "id": "mof_unit_68767",
         "CO2_working_capacity [mL/g]": -91.30537414550781,
         "_deepnote_index_column": 153
        },
        {
         "id": "mof_unit_68768",
         "CO2_working_capacity [mL/g]": -85.67740631103516,
         "_deepnote_index_column": 154
        },
        {
         "id": "mof_unit_68769",
         "CO2_working_capacity [mL/g]": -22.48951530456543,
         "_deepnote_index_column": 155
        },
        {
         "id": "mof_unit_68770",
         "CO2_working_capacity [mL/g]": -9.774317741394043,
         "_deepnote_index_column": 156
        },
        {
         "id": "mof_unit_68771",
         "CO2_working_capacity [mL/g]": -8.444628715515137,
         "_deepnote_index_column": 157
        },
        {
         "id": "mof_unit_68772",
         "CO2_working_capacity [mL/g]": -96.39484405517578,
         "_deepnote_index_column": 158
        },
        {
         "id": "mof_unit_68773",
         "CO2_working_capacity [mL/g]": 2.504880666732788,
         "_deepnote_index_column": 159
        },
        {
         "id": "mof_unit_68774",
         "CO2_working_capacity [mL/g]": 11.989503860473633,
         "_deepnote_index_column": 160
        },
        {
         "id": "mof_unit_68775",
         "CO2_working_capacity [mL/g]": -72.65479278564453,
         "_deepnote_index_column": 161
        },
        {
         "id": "mof_unit_68776",
         "CO2_working_capacity [mL/g]": -12.10404109954834,
         "_deepnote_index_column": 162
        },
        {
         "id": "mof_unit_68777",
         "CO2_working_capacity [mL/g]": -19.10965347290039,
         "_deepnote_index_column": 163
        },
        {
         "id": "mof_unit_68778",
         "CO2_working_capacity [mL/g]": 11.589631080627441,
         "_deepnote_index_column": 164
        },
        {
         "id": "mof_unit_68779",
         "CO2_working_capacity [mL/g]": -20.551036834716797,
         "_deepnote_index_column": 165
        },
        {
         "id": "mof_unit_68780",
         "CO2_working_capacity [mL/g]": -110.12836456298828,
         "_deepnote_index_column": 166
        },
        {
         "id": "mof_unit_68781",
         "CO2_working_capacity [mL/g]": -26.212961196899414,
         "_deepnote_index_column": 167
        },
        {
         "id": "mof_unit_68782",
         "CO2_working_capacity [mL/g]": -73.95834350585938,
         "_deepnote_index_column": 168
        },
        {
         "id": "mof_unit_68783",
         "CO2_working_capacity [mL/g]": -36.10147476196289,
         "_deepnote_index_column": 169
        },
        {
         "id": "mof_unit_68784",
         "CO2_working_capacity [mL/g]": 17.304582595825195,
         "_deepnote_index_column": 170
        },
        {
         "id": "mof_unit_68785",
         "CO2_working_capacity [mL/g]": -4.7285380363464355,
         "_deepnote_index_column": 171
        },
        {
         "id": "mof_unit_68786",
         "CO2_working_capacity [mL/g]": -90.97469329833984,
         "_deepnote_index_column": 172
        },
        {
         "id": "mof_unit_68787",
         "CO2_working_capacity [mL/g]": -49.52670669555664,
         "_deepnote_index_column": 173
        },
        {
         "id": "mof_unit_68788",
         "CO2_working_capacity [mL/g]": 5.059606075286865,
         "_deepnote_index_column": 174
        },
        {
         "id": "mof_unit_68789",
         "CO2_working_capacity [mL/g]": -110.22795104980469,
         "_deepnote_index_column": 175
        },
        {
         "id": "mof_unit_68790",
         "CO2_working_capacity [mL/g]": -70.00419616699219,
         "_deepnote_index_column": 176
        },
        {
         "id": "mof_unit_68791",
         "CO2_working_capacity [mL/g]": -7.3220601081848145,
         "_deepnote_index_column": 177
        },
        {
         "id": "mof_unit_68792",
         "CO2_working_capacity [mL/g]": -15.196457862854004,
         "_deepnote_index_column": 178
        },
        {
         "id": "mof_unit_68793",
         "CO2_working_capacity [mL/g]": -100.33976745605469,
         "_deepnote_index_column": 179
        },
        {
         "id": "mof_unit_68794",
         "CO2_working_capacity [mL/g]": -91.16568756103516,
         "_deepnote_index_column": 180
        },
        {
         "id": "mof_unit_68795",
         "CO2_working_capacity [mL/g]": -21.7926082611084,
         "_deepnote_index_column": 181
        },
        {
         "id": "mof_unit_68796",
         "CO2_working_capacity [mL/g]": -42.36994934082031,
         "_deepnote_index_column": 182
        },
        {
         "id": "mof_unit_68797",
         "CO2_working_capacity [mL/g]": -13.765762329101562,
         "_deepnote_index_column": 183
        },
        {
         "id": "mof_unit_68798",
         "CO2_working_capacity [mL/g]": -12.063371658325195,
         "_deepnote_index_column": 184
        },
        {
         "id": "mof_unit_68799",
         "CO2_working_capacity [mL/g]": 21.459354400634766,
         "_deepnote_index_column": 185
        },
        {
         "id": "mof_unit_68800",
         "CO2_working_capacity [mL/g]": 13.359954833984375,
         "_deepnote_index_column": 186
        },
        {
         "id": "mof_unit_68801",
         "CO2_working_capacity [mL/g]": -22.429786682128906,
         "_deepnote_index_column": 187
        },
        {
         "id": "mof_unit_68802",
         "CO2_working_capacity [mL/g]": 10.536890983581543,
         "_deepnote_index_column": 188
        },
        {
         "id": "mof_unit_68803",
         "CO2_working_capacity [mL/g]": -97.04957580566406,
         "_deepnote_index_column": 189
        },
        {
         "id": "mof_unit_68804",
         "CO2_working_capacity [mL/g]": -34.59137725830078,
         "_deepnote_index_column": 190
        },
        {
         "id": "mof_unit_68805",
         "CO2_working_capacity [mL/g]": 1.5058104991912842,
         "_deepnote_index_column": 191
        },
        {
         "id": "mof_unit_68806",
         "CO2_working_capacity [mL/g]": 19.51719856262207,
         "_deepnote_index_column": 192
        },
        {
         "id": "mof_unit_68807",
         "CO2_working_capacity [mL/g]": 56.50808334350586,
         "_deepnote_index_column": 193
        },
        {
         "id": "mof_unit_68808",
         "CO2_working_capacity [mL/g]": -100.30131530761719,
         "_deepnote_index_column": 194
        },
        {
         "id": "mof_unit_68809",
         "CO2_working_capacity [mL/g]": -76.01140594482422,
         "_deepnote_index_column": 195
        },
        {
         "id": "mof_unit_68810",
         "CO2_working_capacity [mL/g]": -123.97638702392578,
         "_deepnote_index_column": 196
        },
        {
         "id": "mof_unit_68811",
         "CO2_working_capacity [mL/g]": 51.64680099487305,
         "_deepnote_index_column": 197
        },
        {
         "id": "mof_unit_68812",
         "CO2_working_capacity [mL/g]": 39.20600509643555,
         "_deepnote_index_column": 198
        },
        {
         "id": "mof_unit_68813",
         "CO2_working_capacity [mL/g]": 13.574304580688477,
         "_deepnote_index_column": 199
        },
        {
         "id": "mof_unit_68814",
         "CO2_working_capacity [mL/g]": -11.44678020477295,
         "_deepnote_index_column": 200
        },
        {
         "id": "mof_unit_68815",
         "CO2_working_capacity [mL/g]": -19.528766632080078,
         "_deepnote_index_column": 201
        },
        {
         "id": "mof_unit_68816",
         "CO2_working_capacity [mL/g]": -35.50069046020508,
         "_deepnote_index_column": 202
        },
        {
         "id": "mof_unit_68817",
         "CO2_working_capacity [mL/g]": -105.02201843261719,
         "_deepnote_index_column": 203
        },
        {
         "id": "mof_unit_68818",
         "CO2_working_capacity [mL/g]": -119.65404510498047,
         "_deepnote_index_column": 204
        },
        {
         "id": "mof_unit_68819",
         "CO2_working_capacity [mL/g]": -123.0634765625,
         "_deepnote_index_column": 205
        },
        {
         "id": "mof_unit_68820",
         "CO2_working_capacity [mL/g]": -97.3891372680664,
         "_deepnote_index_column": 206
        },
        {
         "id": "mof_unit_68821",
         "CO2_working_capacity [mL/g]": -122.39442443847656,
         "_deepnote_index_column": 207
        },
        {
         "id": "mof_unit_68822",
         "CO2_working_capacity [mL/g]": -100.78506469726562,
         "_deepnote_index_column": 208
        },
        {
         "id": "mof_unit_68823",
         "CO2_working_capacity [mL/g]": -110.56132507324219,
         "_deepnote_index_column": 209
        },
        {
         "id": "mof_unit_68824",
         "CO2_working_capacity [mL/g]": -99.04118347167969,
         "_deepnote_index_column": 210
        },
        {
         "id": "mof_unit_68825",
         "CO2_working_capacity [mL/g]": -107.06253814697266,
         "_deepnote_index_column": 211
        },
        {
         "id": "mof_unit_68826",
         "CO2_working_capacity [mL/g]": 7.080637454986572,
         "_deepnote_index_column": 212
        },
        {
         "id": "mof_unit_68827",
         "CO2_working_capacity [mL/g]": -48.62950897216797,
         "_deepnote_index_column": 213
        },
        {
         "id": "mof_unit_68828",
         "CO2_working_capacity [mL/g]": -12.972126960754395,
         "_deepnote_index_column": 214
        },
        {
         "id": "mof_unit_68829",
         "CO2_working_capacity [mL/g]": 19.667098999023438,
         "_deepnote_index_column": 215
        },
        {
         "id": "mof_unit_68830",
         "CO2_working_capacity [mL/g]": 38.81606674194336,
         "_deepnote_index_column": 216
        },
        {
         "id": "mof_unit_68831",
         "CO2_working_capacity [mL/g]": 14.460555076599121,
         "_deepnote_index_column": 217
        },
        {
         "id": "mof_unit_68832",
         "CO2_working_capacity [mL/g]": -52.84722900390625,
         "_deepnote_index_column": 218
        },
        {
         "id": "mof_unit_68833",
         "CO2_working_capacity [mL/g]": 45.72617721557617,
         "_deepnote_index_column": 219
        },
        {
         "id": "mof_unit_68834",
         "CO2_working_capacity [mL/g]": 19.906272888183594,
         "_deepnote_index_column": 220
        },
        {
         "id": "mof_unit_68835",
         "CO2_working_capacity [mL/g]": -17.788911819458008,
         "_deepnote_index_column": 221
        },
        {
         "id": "mof_unit_68836",
         "CO2_working_capacity [mL/g]": 2.516606569290161,
         "_deepnote_index_column": 222
        },
        {
         "id": "mof_unit_68837",
         "CO2_working_capacity [mL/g]": -16.590267181396484,
         "_deepnote_index_column": 223
        },
        {
         "id": "mof_unit_68838",
         "CO2_working_capacity [mL/g]": 15.418096542358398,
         "_deepnote_index_column": 224
        },
        {
         "id": "mof_unit_68839",
         "CO2_working_capacity [mL/g]": 42.6684455871582,
         "_deepnote_index_column": 225
        },
        {
         "id": "mof_unit_68840",
         "CO2_working_capacity [mL/g]": -11.45398235321045,
         "_deepnote_index_column": 226
        },
        {
         "id": "mof_unit_68841",
         "CO2_working_capacity [mL/g]": -92.17977905273438,
         "_deepnote_index_column": 227
        },
        {
         "id": "mof_unit_68842",
         "CO2_working_capacity [mL/g]": 26.6756649017334,
         "_deepnote_index_column": 228
        },
        {
         "id": "mof_unit_68843",
         "CO2_working_capacity [mL/g]": -5.20708703994751,
         "_deepnote_index_column": 229
        },
        {
         "id": "mof_unit_68844",
         "CO2_working_capacity [mL/g]": -78.77526092529297,
         "_deepnote_index_column": 230
        },
        {
         "id": "mof_unit_68845",
         "CO2_working_capacity [mL/g]": -22.079532623291016,
         "_deepnote_index_column": 231
        },
        {
         "id": "mof_unit_68846",
         "CO2_working_capacity [mL/g]": -15.469243049621582,
         "_deepnote_index_column": 232
        },
        {
         "id": "mof_unit_68847",
         "CO2_working_capacity [mL/g]": -15.622457504272461,
         "_deepnote_index_column": 233
        },
        {
         "id": "mof_unit_68848",
         "CO2_working_capacity [mL/g]": -83.16410827636719,
         "_deepnote_index_column": 234
        },
        {
         "id": "mof_unit_68849",
         "CO2_working_capacity [mL/g]": -2.2494513988494873,
         "_deepnote_index_column": 235
        },
        {
         "id": "mof_unit_68850",
         "CO2_working_capacity [mL/g]": -7.3472700119018555,
         "_deepnote_index_column": 236
        },
        {
         "id": "mof_unit_68851",
         "CO2_working_capacity [mL/g]": -20.256168365478516,
         "_deepnote_index_column": 237
        },
        {
         "id": "mof_unit_68852",
         "CO2_working_capacity [mL/g]": 33.90013122558594,
         "_deepnote_index_column": 238
        },
        {
         "id": "mof_unit_68853",
         "CO2_working_capacity [mL/g]": -71.4005355834961,
         "_deepnote_index_column": 239
        },
        {
         "id": "mof_unit_68854",
         "CO2_working_capacity [mL/g]": 2.017526626586914,
         "_deepnote_index_column": 240
        },
        {
         "id": "mof_unit_68855",
         "CO2_working_capacity [mL/g]": -85.56231689453125,
         "_deepnote_index_column": 241
        },
        {
         "id": "mof_unit_68856",
         "CO2_working_capacity [mL/g]": -69.62859344482422,
         "_deepnote_index_column": 242
        },
        {
         "id": "mof_unit_68857",
         "CO2_working_capacity [mL/g]": 26.05577850341797,
         "_deepnote_index_column": 243
        },
        {
         "id": "mof_unit_68858",
         "CO2_working_capacity [mL/g]": -39.43804168701172,
         "_deepnote_index_column": 244
        },
        {
         "id": "mof_unit_68859",
         "CO2_working_capacity [mL/g]": -1.5339922904968262,
         "_deepnote_index_column": 245
        },
        {
         "id": "mof_unit_68860",
         "CO2_working_capacity [mL/g]": -21.090538024902344,
         "_deepnote_index_column": 246
        },
        {
         "id": "mof_unit_68861",
         "CO2_working_capacity [mL/g]": -118.60277557373047,
         "_deepnote_index_column": 247
        },
        {
         "id": "mof_unit_68862",
         "CO2_working_capacity [mL/g]": -101.5135269165039,
         "_deepnote_index_column": 248
        },
        {
         "id": "mof_unit_68863",
         "CO2_working_capacity [mL/g]": -109.43428039550781,
         "_deepnote_index_column": 249
        }
       ],
       "rows_bottom": [
        {
         "id": "mof_unit_85364",
         "CO2_working_capacity [mL/g]": -13.28111743927002,
         "_deepnote_index_column": 16750
        },
        {
         "id": "mof_unit_85365",
         "CO2_working_capacity [mL/g]": -25.781944274902344,
         "_deepnote_index_column": 16751
        },
        {
         "id": "mof_unit_85366",
         "CO2_working_capacity [mL/g]": -30.439573287963867,
         "_deepnote_index_column": 16752
        },
        {
         "id": "mof_unit_85367",
         "CO2_working_capacity [mL/g]": -23.255599975585938,
         "_deepnote_index_column": 16753
        },
        {
         "id": "mof_unit_85368",
         "CO2_working_capacity [mL/g]": -14.108872413635254,
         "_deepnote_index_column": 16754
        },
        {
         "id": "mof_unit_85369",
         "CO2_working_capacity [mL/g]": -13.164101600646973,
         "_deepnote_index_column": 16755
        },
        {
         "id": "mof_unit_85370",
         "CO2_working_capacity [mL/g]": -25.08824920654297,
         "_deepnote_index_column": 16756
        },
        {
         "id": "mof_unit_85371",
         "CO2_working_capacity [mL/g]": -29.514371871948242,
         "_deepnote_index_column": 16757
        },
        {
         "id": "mof_unit_85372",
         "CO2_working_capacity [mL/g]": -37.84891891479492,
         "_deepnote_index_column": 16758
        },
        {
         "id": "mof_unit_85373",
         "CO2_working_capacity [mL/g]": -18.061803817749023,
         "_deepnote_index_column": 16759
        },
        {
         "id": "mof_unit_85374",
         "CO2_working_capacity [mL/g]": -18.26456069946289,
         "_deepnote_index_column": 16760
        },
        {
         "id": "mof_unit_85375",
         "CO2_working_capacity [mL/g]": -28.18862533569336,
         "_deepnote_index_column": 16761
        },
        {
         "id": "mof_unit_85376",
         "CO2_working_capacity [mL/g]": -20.666303634643555,
         "_deepnote_index_column": 16762
        },
        {
         "id": "mof_unit_85377",
         "CO2_working_capacity [mL/g]": -31.444110870361328,
         "_deepnote_index_column": 16763
        },
        {
         "id": "mof_unit_85378",
         "CO2_working_capacity [mL/g]": -20.499845504760742,
         "_deepnote_index_column": 16764
        },
        {
         "id": "mof_unit_85379",
         "CO2_working_capacity [mL/g]": -41.24135971069336,
         "_deepnote_index_column": 16765
        },
        {
         "id": "mof_unit_85380",
         "CO2_working_capacity [mL/g]": -32.44223403930664,
         "_deepnote_index_column": 16766
        },
        {
         "id": "mof_unit_85381",
         "CO2_working_capacity [mL/g]": -31.374345779418945,
         "_deepnote_index_column": 16767
        },
        {
         "id": "mof_unit_85382",
         "CO2_working_capacity [mL/g]": -29.418216705322266,
         "_deepnote_index_column": 16768
        },
        {
         "id": "mof_unit_85383",
         "CO2_working_capacity [mL/g]": -25.63007926940918,
         "_deepnote_index_column": 16769
        },
        {
         "id": "mof_unit_85384",
         "CO2_working_capacity [mL/g]": -13.657153129577637,
         "_deepnote_index_column": 16770
        },
        {
         "id": "mof_unit_85385",
         "CO2_working_capacity [mL/g]": -19.867923736572266,
         "_deepnote_index_column": 16771
        },
        {
         "id": "mof_unit_85386",
         "CO2_working_capacity [mL/g]": -27.293678283691406,
         "_deepnote_index_column": 16772
        },
        {
         "id": "mof_unit_85387",
         "CO2_working_capacity [mL/g]": -8.506158828735352,
         "_deepnote_index_column": 16773
        },
        {
         "id": "mof_unit_85388",
         "CO2_working_capacity [mL/g]": -24.738346099853516,
         "_deepnote_index_column": 16774
        },
        {
         "id": "mof_unit_85389",
         "CO2_working_capacity [mL/g]": -9.685507774353027,
         "_deepnote_index_column": 16775
        },
        {
         "id": "mof_unit_85390",
         "CO2_working_capacity [mL/g]": -12.103564262390137,
         "_deepnote_index_column": 16776
        },
        {
         "id": "mof_unit_85391",
         "CO2_working_capacity [mL/g]": -26.334125518798828,
         "_deepnote_index_column": 16777
        },
        {
         "id": "mof_unit_85392",
         "CO2_working_capacity [mL/g]": -4.417562961578369,
         "_deepnote_index_column": 16778
        },
        {
         "id": "mof_unit_85393",
         "CO2_working_capacity [mL/g]": -110.81977081298828,
         "_deepnote_index_column": 16779
        },
        {
         "id": "mof_unit_85394",
         "CO2_working_capacity [mL/g]": -40.323699951171875,
         "_deepnote_index_column": 16780
        },
        {
         "id": "mof_unit_85395",
         "CO2_working_capacity [mL/g]": -35.6591682434082,
         "_deepnote_index_column": 16781
        },
        {
         "id": "mof_unit_85396",
         "CO2_working_capacity [mL/g]": -28.6900634765625,
         "_deepnote_index_column": 16782
        },
        {
         "id": "mof_unit_85397",
         "CO2_working_capacity [mL/g]": -25.70375633239746,
         "_deepnote_index_column": 16783
        },
        {
         "id": "mof_unit_85398",
         "CO2_working_capacity [mL/g]": -33.14495849609375,
         "_deepnote_index_column": 16784
        },
        {
         "id": "mof_unit_85399",
         "CO2_working_capacity [mL/g]": 21.193706512451172,
         "_deepnote_index_column": 16785
        },
        {
         "id": "mof_unit_85400",
         "CO2_working_capacity [mL/g]": -23.770999908447266,
         "_deepnote_index_column": 16786
        },
        {
         "id": "mof_unit_85401",
         "CO2_working_capacity [mL/g]": -36.176029205322266,
         "_deepnote_index_column": 16787
        },
        {
         "id": "mof_unit_85402",
         "CO2_working_capacity [mL/g]": -20.942176818847656,
         "_deepnote_index_column": 16788
        },
        {
         "id": "mof_unit_85403",
         "CO2_working_capacity [mL/g]": -12.421390533447266,
         "_deepnote_index_column": 16789
        },
        {
         "id": "mof_unit_85404",
         "CO2_working_capacity [mL/g]": -18.864482879638672,
         "_deepnote_index_column": 16790
        },
        {
         "id": "mof_unit_85405",
         "CO2_working_capacity [mL/g]": -11.624237060546875,
         "_deepnote_index_column": 16791
        },
        {
         "id": "mof_unit_85406",
         "CO2_working_capacity [mL/g]": -16.516286849975586,
         "_deepnote_index_column": 16792
        },
        {
         "id": "mof_unit_85407",
         "CO2_working_capacity [mL/g]": -21.966049194335938,
         "_deepnote_index_column": 16793
        },
        {
         "id": "mof_unit_85408",
         "CO2_working_capacity [mL/g]": -9.954503059387207,
         "_deepnote_index_column": 16794
        },
        {
         "id": "mof_unit_85409",
         "CO2_working_capacity [mL/g]": -14.23837661743164,
         "_deepnote_index_column": 16795
        },
        {
         "id": "mof_unit_85410",
         "CO2_working_capacity [mL/g]": -6.981173038482666,
         "_deepnote_index_column": 16796
        },
        {
         "id": "mof_unit_85411",
         "CO2_working_capacity [mL/g]": -16.763790130615234,
         "_deepnote_index_column": 16797
        },
        {
         "id": "mof_unit_85412",
         "CO2_working_capacity [mL/g]": -37.743350982666016,
         "_deepnote_index_column": 16798
        },
        {
         "id": "mof_unit_85413",
         "CO2_working_capacity [mL/g]": -5.7830047607421875,
         "_deepnote_index_column": 16799
        },
        {
         "id": "mof_unit_85414",
         "CO2_working_capacity [mL/g]": 0.6092564463615417,
         "_deepnote_index_column": 16800
        },
        {
         "id": "mof_unit_85415",
         "CO2_working_capacity [mL/g]": -5.711874961853027,
         "_deepnote_index_column": 16801
        },
        {
         "id": "mof_unit_85416",
         "CO2_working_capacity [mL/g]": -19.534698486328125,
         "_deepnote_index_column": 16802
        },
        {
         "id": "mof_unit_85417",
         "CO2_working_capacity [mL/g]": -25.57637596130371,
         "_deepnote_index_column": 16803
        },
        {
         "id": "mof_unit_85418",
         "CO2_working_capacity [mL/g]": -12.335283279418945,
         "_deepnote_index_column": 16804
        },
        {
         "id": "mof_unit_85419",
         "CO2_working_capacity [mL/g]": -19.962600708007812,
         "_deepnote_index_column": 16805
        },
        {
         "id": "mof_unit_85420",
         "CO2_working_capacity [mL/g]": -16.315616607666016,
         "_deepnote_index_column": 16806
        },
        {
         "id": "mof_unit_85421",
         "CO2_working_capacity [mL/g]": -19.457809448242188,
         "_deepnote_index_column": 16807
        },
        {
         "id": "mof_unit_85422",
         "CO2_working_capacity [mL/g]": -21.487348556518555,
         "_deepnote_index_column": 16808
        },
        {
         "id": "mof_unit_85423",
         "CO2_working_capacity [mL/g]": -20.75697135925293,
         "_deepnote_index_column": 16809
        },
        {
         "id": "mof_unit_85424",
         "CO2_working_capacity [mL/g]": -23.265365600585938,
         "_deepnote_index_column": 16810
        },
        {
         "id": "mof_unit_85425",
         "CO2_working_capacity [mL/g]": 6.540223598480225,
         "_deepnote_index_column": 16811
        },
        {
         "id": "mof_unit_85426",
         "CO2_working_capacity [mL/g]": -22.967851638793945,
         "_deepnote_index_column": 16812
        },
        {
         "id": "mof_unit_85427",
         "CO2_working_capacity [mL/g]": -14.098518371582031,
         "_deepnote_index_column": 16813
        },
        {
         "id": "mof_unit_85428",
         "CO2_working_capacity [mL/g]": -30.39948272705078,
         "_deepnote_index_column": 16814
        },
        {
         "id": "mof_unit_85429",
         "CO2_working_capacity [mL/g]": -26.736351013183594,
         "_deepnote_index_column": 16815
        },
        {
         "id": "mof_unit_85430",
         "CO2_working_capacity [mL/g]": -14.214642524719238,
         "_deepnote_index_column": 16816
        },
        {
         "id": "mof_unit_85431",
         "CO2_working_capacity [mL/g]": -12.97269344329834,
         "_deepnote_index_column": 16817
        },
        {
         "id": "mof_unit_85432",
         "CO2_working_capacity [mL/g]": -15.466055870056152,
         "_deepnote_index_column": 16818
        },
        {
         "id": "mof_unit_85433",
         "CO2_working_capacity [mL/g]": -26.417179107666016,
         "_deepnote_index_column": 16819
        },
        {
         "id": "mof_unit_85434",
         "CO2_working_capacity [mL/g]": -11.948028564453125,
         "_deepnote_index_column": 16820
        },
        {
         "id": "mof_unit_85435",
         "CO2_working_capacity [mL/g]": -119.92424011230469,
         "_deepnote_index_column": 16821
        },
        {
         "id": "mof_unit_85436",
         "CO2_working_capacity [mL/g]": -26.65308380126953,
         "_deepnote_index_column": 16822
        },
        {
         "id": "mof_unit_85437",
         "CO2_working_capacity [mL/g]": 11.198188781738281,
         "_deepnote_index_column": 16823
        },
        {
         "id": "mof_unit_85438",
         "CO2_working_capacity [mL/g]": -30.61553192138672,
         "_deepnote_index_column": 16824
        },
        {
         "id": "mof_unit_85439",
         "CO2_working_capacity [mL/g]": -16.11958885192871,
         "_deepnote_index_column": 16825
        },
        {
         "id": "mof_unit_85440",
         "CO2_working_capacity [mL/g]": -14.990324020385742,
         "_deepnote_index_column": 16826
        },
        {
         "id": "mof_unit_85441",
         "CO2_working_capacity [mL/g]": -27.596923828125,
         "_deepnote_index_column": 16827
        },
        {
         "id": "mof_unit_85442",
         "CO2_working_capacity [mL/g]": -23.8236083984375,
         "_deepnote_index_column": 16828
        },
        {
         "id": "mof_unit_85443",
         "CO2_working_capacity [mL/g]": -114.85966491699219,
         "_deepnote_index_column": 16829
        },
        {
         "id": "mof_unit_85444",
         "CO2_working_capacity [mL/g]": -30.919597625732422,
         "_deepnote_index_column": 16830
        },
        {
         "id": "mof_unit_85445",
         "CO2_working_capacity [mL/g]": -22.824966430664062,
         "_deepnote_index_column": 16831
        },
        {
         "id": "mof_unit_85446",
         "CO2_working_capacity [mL/g]": 22.278060913085938,
         "_deepnote_index_column": 16832
        },
        {
         "id": "mof_unit_85447",
         "CO2_working_capacity [mL/g]": -14.334136962890625,
         "_deepnote_index_column": 16833
        },
        {
         "id": "mof_unit_85448",
         "CO2_working_capacity [mL/g]": -21.05793571472168,
         "_deepnote_index_column": 16834
        },
        {
         "id": "mof_unit_85449",
         "CO2_working_capacity [mL/g]": -23.478858947753906,
         "_deepnote_index_column": 16835
        },
        {
         "id": "mof_unit_85450",
         "CO2_working_capacity [mL/g]": -11.6255464553833,
         "_deepnote_index_column": 16836
        },
        {
         "id": "mof_unit_85451",
         "CO2_working_capacity [mL/g]": -39.471031188964844,
         "_deepnote_index_column": 16837
        },
        {
         "id": "mof_unit_85452",
         "CO2_working_capacity [mL/g]": 14.859353065490723,
         "_deepnote_index_column": 16838
        },
        {
         "id": "mof_unit_85453",
         "CO2_working_capacity [mL/g]": -8.738688468933105,
         "_deepnote_index_column": 16839
        },
        {
         "id": "mof_unit_85454",
         "CO2_working_capacity [mL/g]": -28.29659080505371,
         "_deepnote_index_column": 16840
        },
        {
         "id": "mof_unit_85455",
         "CO2_working_capacity [mL/g]": -27.393327713012695,
         "_deepnote_index_column": 16841
        },
        {
         "id": "mof_unit_85456",
         "CO2_working_capacity [mL/g]": -13.334303855895996,
         "_deepnote_index_column": 16842
        },
        {
         "id": "mof_unit_85457",
         "CO2_working_capacity [mL/g]": -25.91075897216797,
         "_deepnote_index_column": 16843
        },
        {
         "id": "mof_unit_85458",
         "CO2_working_capacity [mL/g]": -25.70361328125,
         "_deepnote_index_column": 16844
        },
        {
         "id": "mof_unit_85459",
         "CO2_working_capacity [mL/g]": 9.80814266204834,
         "_deepnote_index_column": 16845
        },
        {
         "id": "mof_unit_85460",
         "CO2_working_capacity [mL/g]": -13.352441787719727,
         "_deepnote_index_column": 16846
        },
        {
         "id": "mof_unit_85461",
         "CO2_working_capacity [mL/g]": -25.023113250732422,
         "_deepnote_index_column": 16847
        },
        {
         "id": "mof_unit_85462",
         "CO2_working_capacity [mL/g]": -24.866146087646484,
         "_deepnote_index_column": 16848
        },
        {
         "id": "mof_unit_85463",
         "CO2_working_capacity [mL/g]": -18.52461814880371,
         "_deepnote_index_column": 16849
        },
        {
         "id": "mof_unit_85464",
         "CO2_working_capacity [mL/g]": -36.7780876159668,
         "_deepnote_index_column": 16850
        },
        {
         "id": "mof_unit_85465",
         "CO2_working_capacity [mL/g]": -29.626689910888672,
         "_deepnote_index_column": 16851
        },
        {
         "id": "mof_unit_85466",
         "CO2_working_capacity [mL/g]": -30.775527954101562,
         "_deepnote_index_column": 16852
        },
        {
         "id": "mof_unit_85467",
         "CO2_working_capacity [mL/g]": -9.075967788696289,
         "_deepnote_index_column": 16853
        },
        {
         "id": "mof_unit_85468",
         "CO2_working_capacity [mL/g]": -13.108429908752441,
         "_deepnote_index_column": 16854
        },
        {
         "id": "mof_unit_85469",
         "CO2_working_capacity [mL/g]": -23.97907257080078,
         "_deepnote_index_column": 16855
        },
        {
         "id": "mof_unit_85470",
         "CO2_working_capacity [mL/g]": -25.10287094116211,
         "_deepnote_index_column": 16856
        },
        {
         "id": "mof_unit_85471",
         "CO2_working_capacity [mL/g]": 24.339691162109375,
         "_deepnote_index_column": 16857
        },
        {
         "id": "mof_unit_85472",
         "CO2_working_capacity [mL/g]": -0.345563679933548,
         "_deepnote_index_column": 16858
        },
        {
         "id": "mof_unit_85473",
         "CO2_working_capacity [mL/g]": -21.951251983642578,
         "_deepnote_index_column": 16859
        },
        {
         "id": "mof_unit_85474",
         "CO2_working_capacity [mL/g]": 10.24162769317627,
         "_deepnote_index_column": 16860
        },
        {
         "id": "mof_unit_85475",
         "CO2_working_capacity [mL/g]": -28.605459213256836,
         "_deepnote_index_column": 16861
        },
        {
         "id": "mof_unit_85476",
         "CO2_working_capacity [mL/g]": -19.48196029663086,
         "_deepnote_index_column": 16862
        },
        {
         "id": "mof_unit_85477",
         "CO2_working_capacity [mL/g]": -15.99027156829834,
         "_deepnote_index_column": 16863
        },
        {
         "id": "mof_unit_85478",
         "CO2_working_capacity [mL/g]": -55.278167724609375,
         "_deepnote_index_column": 16864
        },
        {
         "id": "mof_unit_85479",
         "CO2_working_capacity [mL/g]": -19.790512084960938,
         "_deepnote_index_column": 16865
        },
        {
         "id": "mof_unit_85480",
         "CO2_working_capacity [mL/g]": -125.63663482666016,
         "_deepnote_index_column": 16866
        },
        {
         "id": "mof_unit_85481",
         "CO2_working_capacity [mL/g]": -12.904703140258789,
         "_deepnote_index_column": 16867
        },
        {
         "id": "mof_unit_85482",
         "CO2_working_capacity [mL/g]": -23.051660537719727,
         "_deepnote_index_column": 16868
        },
        {
         "id": "mof_unit_85483",
         "CO2_working_capacity [mL/g]": -30.398500442504883,
         "_deepnote_index_column": 16869
        },
        {
         "id": "mof_unit_85484",
         "CO2_working_capacity [mL/g]": -26.000152587890625,
         "_deepnote_index_column": 16870
        },
        {
         "id": "mof_unit_85485",
         "CO2_working_capacity [mL/g]": -28.78322982788086,
         "_deepnote_index_column": 16871
        },
        {
         "id": "mof_unit_85486",
         "CO2_working_capacity [mL/g]": -18.882017135620117,
         "_deepnote_index_column": 16872
        },
        {
         "id": "mof_unit_85487",
         "CO2_working_capacity [mL/g]": -31.967275619506836,
         "_deepnote_index_column": 16873
        },
        {
         "id": "mof_unit_85488",
         "CO2_working_capacity [mL/g]": -17.78864288330078,
         "_deepnote_index_column": 16874
        },
        {
         "id": "mof_unit_85489",
         "CO2_working_capacity [mL/g]": 11.494161605834961,
         "_deepnote_index_column": 16875
        },
        {
         "id": "mof_unit_85490",
         "CO2_working_capacity [mL/g]": -21.40000343322754,
         "_deepnote_index_column": 16876
        },
        {
         "id": "mof_unit_85491",
         "CO2_working_capacity [mL/g]": 2.3471975326538086,
         "_deepnote_index_column": 16877
        },
        {
         "id": "mof_unit_85492",
         "CO2_working_capacity [mL/g]": -28.758115768432617,
         "_deepnote_index_column": 16878
        },
        {
         "id": "mof_unit_85493",
         "CO2_working_capacity [mL/g]": 2.599006175994873,
         "_deepnote_index_column": 16879
        },
        {
         "id": "mof_unit_85494",
         "CO2_working_capacity [mL/g]": -14.921442031860352,
         "_deepnote_index_column": 16880
        },
        {
         "id": "mof_unit_85495",
         "CO2_working_capacity [mL/g]": -19.257198333740234,
         "_deepnote_index_column": 16881
        },
        {
         "id": "mof_unit_85496",
         "CO2_working_capacity [mL/g]": -7.963940620422363,
         "_deepnote_index_column": 16882
        },
        {
         "id": "mof_unit_85497",
         "CO2_working_capacity [mL/g]": -29.041433334350586,
         "_deepnote_index_column": 16883
        },
        {
         "id": "mof_unit_85498",
         "CO2_working_capacity [mL/g]": -24.576946258544922,
         "_deepnote_index_column": 16884
        },
        {
         "id": "mof_unit_85499",
         "CO2_working_capacity [mL/g]": 8.287286758422852,
         "_deepnote_index_column": 16885
        },
        {
         "id": "mof_unit_85500",
         "CO2_working_capacity [mL/g]": -20.343589782714844,
         "_deepnote_index_column": 16886
        },
        {
         "id": "mof_unit_85501",
         "CO2_working_capacity [mL/g]": -28.028684616088867,
         "_deepnote_index_column": 16887
        },
        {
         "id": "mof_unit_85502",
         "CO2_working_capacity [mL/g]": -11.876397132873535,
         "_deepnote_index_column": 16888
        },
        {
         "id": "mof_unit_85503",
         "CO2_working_capacity [mL/g]": -25.992279052734375,
         "_deepnote_index_column": 16889
        },
        {
         "id": "mof_unit_85504",
         "CO2_working_capacity [mL/g]": -40.21525573730469,
         "_deepnote_index_column": 16890
        },
        {
         "id": "mof_unit_85505",
         "CO2_working_capacity [mL/g]": -18.678834915161133,
         "_deepnote_index_column": 16891
        },
        {
         "id": "mof_unit_85506",
         "CO2_working_capacity [mL/g]": -19.321876525878906,
         "_deepnote_index_column": 16892
        },
        {
         "id": "mof_unit_85507",
         "CO2_working_capacity [mL/g]": -30.74597930908203,
         "_deepnote_index_column": 16893
        },
        {
         "id": "mof_unit_85508",
         "CO2_working_capacity [mL/g]": -20.7357234954834,
         "_deepnote_index_column": 16894
        },
        {
         "id": "mof_unit_85509",
         "CO2_working_capacity [mL/g]": -37.825347900390625,
         "_deepnote_index_column": 16895
        },
        {
         "id": "mof_unit_85510",
         "CO2_working_capacity [mL/g]": -40.4859619140625,
         "_deepnote_index_column": 16896
        },
        {
         "id": "mof_unit_85511",
         "CO2_working_capacity [mL/g]": -30.94793701171875,
         "_deepnote_index_column": 16897
        },
        {
         "id": "mof_unit_85512",
         "CO2_working_capacity [mL/g]": -22.805871963500977,
         "_deepnote_index_column": 16898
        },
        {
         "id": "mof_unit_85513",
         "CO2_working_capacity [mL/g]": -14.109484672546387,
         "_deepnote_index_column": 16899
        },
        {
         "id": "mof_unit_85514",
         "CO2_working_capacity [mL/g]": -15.306622505187988,
         "_deepnote_index_column": 16900
        },
        {
         "id": "mof_unit_85515",
         "CO2_working_capacity [mL/g]": -38.0943717956543,
         "_deepnote_index_column": 16901
        },
        {
         "id": "mof_unit_85516",
         "CO2_working_capacity [mL/g]": -25.89952278137207,
         "_deepnote_index_column": 16902
        },
        {
         "id": "mof_unit_85517",
         "CO2_working_capacity [mL/g]": 26.937591552734375,
         "_deepnote_index_column": 16903
        },
        {
         "id": "mof_unit_85518",
         "CO2_working_capacity [mL/g]": -22.132110595703125,
         "_deepnote_index_column": 16904
        },
        {
         "id": "mof_unit_85519",
         "CO2_working_capacity [mL/g]": -14.877569198608398,
         "_deepnote_index_column": 16905
        },
        {
         "id": "mof_unit_85520",
         "CO2_working_capacity [mL/g]": -22.42906951904297,
         "_deepnote_index_column": 16906
        },
        {
         "id": "mof_unit_85521",
         "CO2_working_capacity [mL/g]": -20.519113540649414,
         "_deepnote_index_column": 16907
        },
        {
         "id": "mof_unit_85522",
         "CO2_working_capacity [mL/g]": -28.118846893310547,
         "_deepnote_index_column": 16908
        },
        {
         "id": "mof_unit_85523",
         "CO2_working_capacity [mL/g]": -13.423704147338867,
         "_deepnote_index_column": 16909
        },
        {
         "id": "mof_unit_85524",
         "CO2_working_capacity [mL/g]": -28.11673355102539,
         "_deepnote_index_column": 16910
        },
        {
         "id": "mof_unit_85525",
         "CO2_working_capacity [mL/g]": -25.363725662231445,
         "_deepnote_index_column": 16911
        },
        {
         "id": "mof_unit_85526",
         "CO2_working_capacity [mL/g]": 32.78428268432617,
         "_deepnote_index_column": 16912
        },
        {
         "id": "mof_unit_85527",
         "CO2_working_capacity [mL/g]": -22.963607788085938,
         "_deepnote_index_column": 16913
        },
        {
         "id": "mof_unit_85528",
         "CO2_working_capacity [mL/g]": -19.61612319946289,
         "_deepnote_index_column": 16914
        },
        {
         "id": "mof_unit_85529",
         "CO2_working_capacity [mL/g]": -24.884159088134766,
         "_deepnote_index_column": 16915
        },
        {
         "id": "mof_unit_85530",
         "CO2_working_capacity [mL/g]": -11.893694877624512,
         "_deepnote_index_column": 16916
        },
        {
         "id": "mof_unit_85531",
         "CO2_working_capacity [mL/g]": -32.684844970703125,
         "_deepnote_index_column": 16917
        },
        {
         "id": "mof_unit_85532",
         "CO2_working_capacity [mL/g]": 1.8634252548217773,
         "_deepnote_index_column": 16918
        },
        {
         "id": "mof_unit_85533",
         "CO2_working_capacity [mL/g]": -21.095399856567383,
         "_deepnote_index_column": 16919
        },
        {
         "id": "mof_unit_85534",
         "CO2_working_capacity [mL/g]": -105.87615203857422,
         "_deepnote_index_column": 16920
        },
        {
         "id": "mof_unit_85535",
         "CO2_working_capacity [mL/g]": -7.227766036987305,
         "_deepnote_index_column": 16921
        },
        {
         "id": "mof_unit_85536",
         "CO2_working_capacity [mL/g]": -21.557273864746094,
         "_deepnote_index_column": 16922
        },
        {
         "id": "mof_unit_85537",
         "CO2_working_capacity [mL/g]": -19.350337982177734,
         "_deepnote_index_column": 16923
        },
        {
         "id": "mof_unit_85538",
         "CO2_working_capacity [mL/g]": -2.4756343364715576,
         "_deepnote_index_column": 16924
        },
        {
         "id": "mof_unit_85539",
         "CO2_working_capacity [mL/g]": -26.05820655822754,
         "_deepnote_index_column": 16925
        },
        {
         "id": "mof_unit_85540",
         "CO2_working_capacity [mL/g]": -27.731874465942383,
         "_deepnote_index_column": 16926
        },
        {
         "id": "mof_unit_85541",
         "CO2_working_capacity [mL/g]": -20.36275291442871,
         "_deepnote_index_column": 16927
        },
        {
         "id": "mof_unit_85542",
         "CO2_working_capacity [mL/g]": -17.044614791870117,
         "_deepnote_index_column": 16928
        },
        {
         "id": "mof_unit_85543",
         "CO2_working_capacity [mL/g]": -18.711734771728516,
         "_deepnote_index_column": 16929
        },
        {
         "id": "mof_unit_85544",
         "CO2_working_capacity [mL/g]": -23.804168701171875,
         "_deepnote_index_column": 16930
        },
        {
         "id": "mof_unit_85545",
         "CO2_working_capacity [mL/g]": -23.553129196166992,
         "_deepnote_index_column": 16931
        },
        {
         "id": "mof_unit_85546",
         "CO2_working_capacity [mL/g]": -34.23814392089844,
         "_deepnote_index_column": 16932
        },
        {
         "id": "mof_unit_85547",
         "CO2_working_capacity [mL/g]": -29.12248992919922,
         "_deepnote_index_column": 16933
        },
        {
         "id": "mof_unit_85548",
         "CO2_working_capacity [mL/g]": -111.09896850585938,
         "_deepnote_index_column": 16934
        },
        {
         "id": "mof_unit_85549",
         "CO2_working_capacity [mL/g]": -30.142192840576172,
         "_deepnote_index_column": 16935
        },
        {
         "id": "mof_unit_85550",
         "CO2_working_capacity [mL/g]": -10.030511856079102,
         "_deepnote_index_column": 16936
        },
        {
         "id": "mof_unit_85551",
         "CO2_working_capacity [mL/g]": -22.403697967529297,
         "_deepnote_index_column": 16937
        },
        {
         "id": "mof_unit_85552",
         "CO2_working_capacity [mL/g]": -24.162464141845703,
         "_deepnote_index_column": 16938
        },
        {
         "id": "mof_unit_85553",
         "CO2_working_capacity [mL/g]": -17.675676345825195,
         "_deepnote_index_column": 16939
        },
        {
         "id": "mof_unit_85554",
         "CO2_working_capacity [mL/g]": -26.590187072753906,
         "_deepnote_index_column": 16940
        },
        {
         "id": "mof_unit_85555",
         "CO2_working_capacity [mL/g]": -25.35079002380371,
         "_deepnote_index_column": 16941
        },
        {
         "id": "mof_unit_85556",
         "CO2_working_capacity [mL/g]": 0.3597511351108551,
         "_deepnote_index_column": 16942
        },
        {
         "id": "mof_unit_85557",
         "CO2_working_capacity [mL/g]": -28.065876007080078,
         "_deepnote_index_column": 16943
        },
        {
         "id": "mof_unit_85558",
         "CO2_working_capacity [mL/g]": -34.14647674560547,
         "_deepnote_index_column": 16944
        },
        {
         "id": "mof_unit_85559",
         "CO2_working_capacity [mL/g]": -27.743440628051758,
         "_deepnote_index_column": 16945
        },
        {
         "id": "mof_unit_85560",
         "CO2_working_capacity [mL/g]": -18.7487850189209,
         "_deepnote_index_column": 16946
        },
        {
         "id": "mof_unit_85561",
         "CO2_working_capacity [mL/g]": -2.1341605186462402,
         "_deepnote_index_column": 16947
        },
        {
         "id": "mof_unit_85562",
         "CO2_working_capacity [mL/g]": -15.601853370666504,
         "_deepnote_index_column": 16948
        },
        {
         "id": "mof_unit_85563",
         "CO2_working_capacity [mL/g]": -26.387590408325195,
         "_deepnote_index_column": 16949
        },
        {
         "id": "mof_unit_85564",
         "CO2_working_capacity [mL/g]": -31.542842864990234,
         "_deepnote_index_column": 16950
        },
        {
         "id": "mof_unit_85565",
         "CO2_working_capacity [mL/g]": -20.35262680053711,
         "_deepnote_index_column": 16951
        },
        {
         "id": "mof_unit_85566",
         "CO2_working_capacity [mL/g]": 38.5855598449707,
         "_deepnote_index_column": 16952
        },
        {
         "id": "mof_unit_85567",
         "CO2_working_capacity [mL/g]": -41.284523010253906,
         "_deepnote_index_column": 16953
        },
        {
         "id": "mof_unit_85568",
         "CO2_working_capacity [mL/g]": -12.29405689239502,
         "_deepnote_index_column": 16954
        },
        {
         "id": "mof_unit_85569",
         "CO2_working_capacity [mL/g]": 8.17949104309082,
         "_deepnote_index_column": 16955
        },
        {
         "id": "mof_unit_85570",
         "CO2_working_capacity [mL/g]": -23.067188262939453,
         "_deepnote_index_column": 16956
        },
        {
         "id": "mof_unit_85571",
         "CO2_working_capacity [mL/g]": -22.591506958007812,
         "_deepnote_index_column": 16957
        },
        {
         "id": "mof_unit_85572",
         "CO2_working_capacity [mL/g]": -10.551142692565918,
         "_deepnote_index_column": 16958
        },
        {
         "id": "mof_unit_85573",
         "CO2_working_capacity [mL/g]": -20.117822647094727,
         "_deepnote_index_column": 16959
        },
        {
         "id": "mof_unit_85574",
         "CO2_working_capacity [mL/g]": 0.6984957456588745,
         "_deepnote_index_column": 16960
        },
        {
         "id": "mof_unit_85575",
         "CO2_working_capacity [mL/g]": -106.68400573730469,
         "_deepnote_index_column": 16961
        },
        {
         "id": "mof_unit_85576",
         "CO2_working_capacity [mL/g]": -18.071533203125,
         "_deepnote_index_column": 16962
        },
        {
         "id": "mof_unit_85577",
         "CO2_working_capacity [mL/g]": -8.77773666381836,
         "_deepnote_index_column": 16963
        },
        {
         "id": "mof_unit_85578",
         "CO2_working_capacity [mL/g]": -31.156949996948242,
         "_deepnote_index_column": 16964
        },
        {
         "id": "mof_unit_85579",
         "CO2_working_capacity [mL/g]": -31.627416610717773,
         "_deepnote_index_column": 16965
        },
        {
         "id": "mof_unit_85580",
         "CO2_working_capacity [mL/g]": -25.02117347717285,
         "_deepnote_index_column": 16966
        },
        {
         "id": "mof_unit_85581",
         "CO2_working_capacity [mL/g]": -31.71404266357422,
         "_deepnote_index_column": 16967
        },
        {
         "id": "mof_unit_85582",
         "CO2_working_capacity [mL/g]": -28.486536026000977,
         "_deepnote_index_column": 16968
        },
        {
         "id": "mof_unit_85583",
         "CO2_working_capacity [mL/g]": -16.939586639404297,
         "_deepnote_index_column": 16969
        },
        {
         "id": "mof_unit_85584",
         "CO2_working_capacity [mL/g]": -17.630735397338867,
         "_deepnote_index_column": 16970
        },
        {
         "id": "mof_unit_85585",
         "CO2_working_capacity [mL/g]": -8.508881568908691,
         "_deepnote_index_column": 16971
        },
        {
         "id": "mof_unit_85586",
         "CO2_working_capacity [mL/g]": -28.944427490234375,
         "_deepnote_index_column": 16972
        },
        {
         "id": "mof_unit_85587",
         "CO2_working_capacity [mL/g]": -18.442075729370117,
         "_deepnote_index_column": 16973
        },
        {
         "id": "mof_unit_85588",
         "CO2_working_capacity [mL/g]": -25.40187644958496,
         "_deepnote_index_column": 16974
        },
        {
         "id": "mof_unit_85589",
         "CO2_working_capacity [mL/g]": -21.619028091430664,
         "_deepnote_index_column": 16975
        },
        {
         "id": "mof_unit_85590",
         "CO2_working_capacity [mL/g]": -20.032001495361328,
         "_deepnote_index_column": 16976
        },
        {
         "id": "mof_unit_85591",
         "CO2_working_capacity [mL/g]": -16.207326889038086,
         "_deepnote_index_column": 16977
        },
        {
         "id": "mof_unit_85592",
         "CO2_working_capacity [mL/g]": -29.168251037597656,
         "_deepnote_index_column": 16978
        },
        {
         "id": "mof_unit_85593",
         "CO2_working_capacity [mL/g]": -10.342607498168945,
         "_deepnote_index_column": 16979
        },
        {
         "id": "mof_unit_85594",
         "CO2_working_capacity [mL/g]": -29.281728744506836,
         "_deepnote_index_column": 16980
        },
        {
         "id": "mof_unit_85595",
         "CO2_working_capacity [mL/g]": -20.12618637084961,
         "_deepnote_index_column": 16981
        },
        {
         "id": "mof_unit_85596",
         "CO2_working_capacity [mL/g]": -22.036418914794922,
         "_deepnote_index_column": 16982
        },
        {
         "id": "mof_unit_85597",
         "CO2_working_capacity [mL/g]": -22.29889488220215,
         "_deepnote_index_column": 16983
        },
        {
         "id": "mof_unit_85598",
         "CO2_working_capacity [mL/g]": -15.03037166595459,
         "_deepnote_index_column": 16984
        },
        {
         "id": "mof_unit_85599",
         "CO2_working_capacity [mL/g]": -22.819507598876953,
         "_deepnote_index_column": 16985
        },
        {
         "id": "mof_unit_85600",
         "CO2_working_capacity [mL/g]": -27.27202606201172,
         "_deepnote_index_column": 16986
        },
        {
         "id": "mof_unit_85601",
         "CO2_working_capacity [mL/g]": -13.586346626281738,
         "_deepnote_index_column": 16987
        },
        {
         "id": "mof_unit_85602",
         "CO2_working_capacity [mL/g]": -24.712560653686523,
         "_deepnote_index_column": 16988
        },
        {
         "id": "mof_unit_85603",
         "CO2_working_capacity [mL/g]": -19.69580078125,
         "_deepnote_index_column": 16989
        },
        {
         "id": "mof_unit_85604",
         "CO2_working_capacity [mL/g]": -20.43404769897461,
         "_deepnote_index_column": 16990
        },
        {
         "id": "mof_unit_85605",
         "CO2_working_capacity [mL/g]": -13.537680625915527,
         "_deepnote_index_column": 16991
        },
        {
         "id": "mof_unit_85606",
         "CO2_working_capacity [mL/g]": -35.51477813720703,
         "_deepnote_index_column": 16992
        },
        {
         "id": "mof_unit_85607",
         "CO2_working_capacity [mL/g]": -28.133089065551758,
         "_deepnote_index_column": 16993
        },
        {
         "id": "mof_unit_85608",
         "CO2_working_capacity [mL/g]": -14.98557186126709,
         "_deepnote_index_column": 16994
        },
        {
         "id": "mof_unit_85609",
         "CO2_working_capacity [mL/g]": -10.29802417755127,
         "_deepnote_index_column": 16995
        },
        {
         "id": "mof_unit_85610",
         "CO2_working_capacity [mL/g]": -22.417245864868164,
         "_deepnote_index_column": 16996
        },
        {
         "id": "mof_unit_85611",
         "CO2_working_capacity [mL/g]": -24.301265716552734,
         "_deepnote_index_column": 16997
        },
        {
         "id": "mof_unit_85612",
         "CO2_working_capacity [mL/g]": -19.979942321777344,
         "_deepnote_index_column": 16998
        },
        {
         "id": "mof_unit_85613",
         "CO2_working_capacity [mL/g]": -17.61981201171875,
         "_deepnote_index_column": 16999
        }
       ]
      },
      "text/plain": "                   id  CO2_working_capacity [mL/g]\n0      mof_unit_68614                   -99.797081\n1      mof_unit_68615                   -82.516724\n2      mof_unit_68616                     6.269935\n3      mof_unit_68617                    18.221710\n4      mof_unit_68618                   -20.033360\n...               ...                          ...\n16995  mof_unit_85609                   -10.298024\n16996  mof_unit_85610                   -22.417246\n16997  mof_unit_85611                   -24.301266\n16998  mof_unit_85612                   -19.979942\n16999  mof_unit_85613                   -17.619812\n\n[17000 rows x 2 columns]",
      "text/html": "<div>\n<style scoped>\n    .dataframe tbody tr th:only-of-type {\n        vertical-align: middle;\n    }\n\n    .dataframe tbody tr th {\n        vertical-align: top;\n    }\n\n    .dataframe thead th {\n        text-align: right;\n    }\n</style>\n<table border=\"1\" class=\"dataframe\">\n  <thead>\n    <tr style=\"text-align: right;\">\n      <th></th>\n      <th>id</th>\n      <th>CO2_working_capacity [mL/g]</th>\n    </tr>\n  </thead>\n  <tbody>\n    <tr>\n      <th>0</th>\n      <td>mof_unit_68614</td>\n      <td>-99.797081</td>\n    </tr>\n    <tr>\n      <th>1</th>\n      <td>mof_unit_68615</td>\n      <td>-82.516724</td>\n    </tr>\n    <tr>\n      <th>2</th>\n      <td>mof_unit_68616</td>\n      <td>6.269935</td>\n    </tr>\n    <tr>\n      <th>3</th>\n      <td>mof_unit_68617</td>\n      <td>18.221710</td>\n    </tr>\n    <tr>\n      <th>4</th>\n      <td>mof_unit_68618</td>\n      <td>-20.033360</td>\n    </tr>\n    <tr>\n      <th>...</th>\n      <td>...</td>\n      <td>...</td>\n    </tr>\n    <tr>\n      <th>16995</th>\n      <td>mof_unit_85609</td>\n      <td>-10.298024</td>\n    </tr>\n    <tr>\n      <th>16996</th>\n      <td>mof_unit_85610</td>\n      <td>-22.417246</td>\n    </tr>\n    <tr>\n      <th>16997</th>\n      <td>mof_unit_85611</td>\n      <td>-24.301266</td>\n    </tr>\n    <tr>\n      <th>16998</th>\n      <td>mof_unit_85612</td>\n      <td>-19.979942</td>\n    </tr>\n    <tr>\n      <th>16999</th>\n      <td>mof_unit_85613</td>\n      <td>-17.619812</td>\n    </tr>\n  </tbody>\n</table>\n<p>17000 rows × 2 columns</p>\n</div>"
     },
     "metadata": {}
    }
   ],
   "execution_count": null
  },
  {
   "cell_type": "code",
   "metadata": {
    "tags": [],
    "cell_id": "00012-fc60ebe3-76ba-41c3-b07c-f8ad8a3a3469",
    "deepnote_to_be_reexecuted": false,
    "source_hash": "b3367c10",
    "execution_start": 1634394708021,
    "execution_millis": 0,
    "deepnote_cell_type": "code"
   },
   "source": "df['id'] = df['id'].apply(lambda x:x.replace(\"mof_unit_\",\"\"))",
   "outputs": [],
   "execution_count": null
  },
  {
   "cell_type": "code",
   "metadata": {
    "tags": [],
    "cell_id": "00016-91816f8f-4e20-49ed-807f-5daca0dca490",
    "deepnote_to_be_reexecuted": false,
    "source_hash": "b00377d5",
    "execution_start": 1634394708587,
    "execution_millis": 8092,
    "deepnote_cell_type": "code"
   },
   "source": "df.to_csv('submission.csv',index=False)",
   "outputs": [],
   "execution_count": null
  },
  {
   "cell_type": "markdown",
   "source": "<a style='text-decoration:none;line-height:16px;display:flex;color:#5B5B62;padding:10px;justify-content:end;' href='https://deepnote.com?utm_source=created-in-deepnote-cell&projectId=8e807ffc-5318-4bab-9b22-eec9246d8981' target=\"_blank\">\n<img alt='Created in deepnote.com' style='display:inline;max-height:16px;margin:0px;margin-right:7.5px;' src='data:image/svg+xml;base64,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' > </img>\nCreated in <span style='font-weight:600;margin-left:4px;'>Deepnote</span></a>",
   "metadata": {
    "tags": [],
    "created_in_deepnote_cell": true,
    "deepnote_cell_type": "markdown"
   }
  }
 ],
 "nbformat": 4,
 "nbformat_minor": 2,
 "metadata": {
  "orig_nbformat": 2,
  "deepnote": {
   "is_reactive": false
  },
  "deepnote_notebook_id": "81b854c6-e601-42b0-a0de-54fddb77e103",
  "deepnote_execution_queue": []
 }
}