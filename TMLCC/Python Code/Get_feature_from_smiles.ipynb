{
 "cells": [
  {
   "cell_type": "markdown",
   "source": "### Import file and library",
   "metadata": {
    "tags": [],
    "is_collapsed": false,
    "cell_id": "00001-f78fe737-c2e3-42e0-87f3-1ba47ee9ad4b",
    "deepnote_cell_type": "text-cell-h3"
   }
  },
  {
   "cell_type": "code",
   "metadata": {
    "tags": [],
    "cell_id": "00004-3ddcbaa1-96ab-41d7-9b49-c95c8defbfc7",
    "deepnote_to_be_reexecuted": false,
    "source_hash": "d0d434a5",
    "execution_start": 1634033262573,
    "execution_millis": 50170,
    "deepnote_cell_type": "code"
   },
   "source": "! wget https://repo.anaconda.com/miniconda/Miniconda3-py37_4.8.2-Linux-x86_64.sh\n! chmod +x Miniconda3-py37_4.8.2-Linux-x86_64.sh\n! bash ./Miniconda3-py37_4.8.2-Linux-x86_64.sh -b -f -p /usr/local\n! conda install -c rdkit rdkit -y\nimport sys\nsys.path.append('/usr/local/lib/python3.7/site-packages/')\n!pip install ase\nimport os\nimport sys\nimport re\nimport copy\nimport string\nimport math\nimport numpy as np\nimport pandas as pd\nfrom ase.io import read\n\nfrom operator import itemgetter\nfrom itertools import groupby\n!pip install pubchempy\nimport pubchempy as pcp\n\nfrom rdkit import Chem\nfrom rdkit.Chem import Draw\nfrom rdkit.Chem.Draw import IPythonConsole\nfrom rdkit.Chem import Descriptors\nfrom rdkit.Chem import AllChem as Chem\nfrom rdkit.Chem import AllChem, Draw, rdDepictor\nfrom rdkit.Chem import Lipinski\nfrom rdkit import DataStructs\nfrom rdkit import *\n",
   "outputs": [
    {
     "name": "stdout",
     "text": "--2021-10-12 10:07:43--  https://repo.anaconda.com/miniconda/Miniconda3-py37_4.8.2-Linux-x86_64.sh\nResolving repo.anaconda.com (repo.anaconda.com)... 104.16.131.3, 104.16.130.3, 2606:4700::6810:8303, ...\nConnecting to repo.anaconda.com (repo.anaconda.com)|104.16.131.3|:443... connected.\nHTTP request sent, awaiting response... 200 OK\nLength: 85055499 (81M) [application/x-sh]\nSaving to: ‘Miniconda3-py37_4.8.2-Linux-x86_64.sh.20’\n\nMiniconda3-py37_4.8 100%[===================>]  81.12M  66.9MB/s    in 1.2s    \n\n2021-10-12 10:07:44 (66.9 MB/s) - ‘Miniconda3-py37_4.8.2-Linux-x86_64.sh.20’ saved [85055499/85055499]\n\nPREFIX=/usr/local\nUnpacking payload ...\nCollecting package metadata (current_repodata.json): done\nSolving environment: done\n\n## Package Plan ##\n\n  environment location: /usr/local\n\n  added / updated specs:\n    - _libgcc_mutex==0.1=main\n    - asn1crypto==1.3.0=py37_0\n    - ca-certificates==2020.1.1=0\n    - certifi==2019.11.28=py37_0\n    - cffi==1.14.0=py37h2e261b9_0\n    - chardet==3.0.4=py37_1003\n    - conda-package-handling==1.6.0=py37h7b6447c_0\n    - conda==4.8.2=py37_0\n    - cryptography==2.8=py37h1ba5d50_0\n    - idna==2.8=py37_0\n    - ld_impl_linux-64==2.33.1=h53a641e_7\n    - libedit==3.1.20181209=hc058e9b_0\n    - libffi==3.2.1=hd88cf55_4\n    - libgcc-ng==9.1.0=hdf63c60_0\n    - libstdcxx-ng==9.1.0=hdf63c60_0\n    - ncurses==6.2=he6710b0_0\n    - openssl==1.1.1d=h7b6447c_4\n    - pip==20.0.2=py37_1\n    - pycosat==0.6.3=py37h7b6447c_0\n    - pycparser==2.19=py37_0\n    - pyopenssl==19.1.0=py37_0\n    - pysocks==1.7.1=py37_0\n    - python==3.7.6=h0371630_2\n    - readline==7.0=h7b6447c_5\n    - requests==2.22.0=py37_1\n    - ruamel_yaml==0.15.87=py37h7b6447c_0\n    - setuptools==45.2.0=py37_0\n    - six==1.14.0=py37_0\n    - sqlite==3.31.1=h7b6447c_0\n    - tk==8.6.8=hbc83047_0\n    - tqdm==4.42.1=py_0\n    - urllib3==1.25.8=py37_0\n    - wheel==0.34.2=py37_0\n    - xz==5.2.4=h14c3975_4\n    - yaml==0.1.7=had09818_2\n    - zlib==1.2.11=h7b6447c_3\n\n\nThe following NEW packages will be INSTALLED:\n\n  _libgcc_mutex      pkgs/main/linux-64::_libgcc_mutex-0.1-main\n  asn1crypto         pkgs/main/linux-64::asn1crypto-1.3.0-py37_0\n  ca-certificates    pkgs/main/linux-64::ca-certificates-2020.1.1-0\n  certifi            pkgs/main/linux-64::certifi-2019.11.28-py37_0\n  cffi               pkgs/main/linux-64::cffi-1.14.0-py37h2e261b9_0\n  chardet            pkgs/main/linux-64::chardet-3.0.4-py37_1003\n  conda              pkgs/main/linux-64::conda-4.8.2-py37_0\n  conda-package-han~ pkgs/main/linux-64::conda-package-handling-1.6.0-py37h7b6447c_0\n  cryptography       pkgs/main/linux-64::cryptography-2.8-py37h1ba5d50_0\n  idna               pkgs/main/linux-64::idna-2.8-py37_0\n  ld_impl_linux-64   pkgs/main/linux-64::ld_impl_linux-64-2.33.1-h53a641e_7\n  libedit            pkgs/main/linux-64::libedit-3.1.20181209-hc058e9b_0\n  libffi             pkgs/main/linux-64::libffi-3.2.1-hd88cf55_4\n  libgcc-ng          pkgs/main/linux-64::libgcc-ng-9.1.0-hdf63c60_0\n  libstdcxx-ng       pkgs/main/linux-64::libstdcxx-ng-9.1.0-hdf63c60_0\n  ncurses            pkgs/main/linux-64::ncurses-6.2-he6710b0_0\n  openssl            pkgs/main/linux-64::openssl-1.1.1d-h7b6447c_4\n  pip                pkgs/main/linux-64::pip-20.0.2-py37_1\n  pycosat            pkgs/main/linux-64::pycosat-0.6.3-py37h7b6447c_0\n  pycparser          pkgs/main/linux-64::pycparser-2.19-py37_0\n  pyopenssl          pkgs/main/linux-64::pyopenssl-19.1.0-py37_0\n  pysocks            pkgs/main/linux-64::pysocks-1.7.1-py37_0\n  python             pkgs/main/linux-64::python-3.7.6-h0371630_2\n  readline           pkgs/main/linux-64::readline-7.0-h7b6447c_5\n  requests           pkgs/main/linux-64::requests-2.22.0-py37_1\n  ruamel_yaml        pkgs/main/linux-64::ruamel_yaml-0.15.87-py37h7b6447c_0\n  setuptools         pkgs/main/linux-64::setuptools-45.2.0-py37_0\n  six                pkgs/main/linux-64::six-1.14.0-py37_0\n  sqlite             pkgs/main/linux-64::sqlite-3.31.1-h7b6447c_0\n  tk                 pkgs/main/linux-64::tk-8.6.8-hbc83047_0\n  tqdm               pkgs/main/noarch::tqdm-4.42.1-py_0\n  urllib3            pkgs/main/linux-64::urllib3-1.25.8-py37_0\n  wheel              pkgs/main/linux-64::wheel-0.34.2-py37_0\n  xz                 pkgs/main/linux-64::xz-5.2.4-h14c3975_4\n  yaml               pkgs/main/linux-64::yaml-0.1.7-had09818_2\n  zlib               pkgs/main/linux-64::zlib-1.2.11-h7b6447c_3\n\n\nPreparing transaction: done\nExecuting transaction: done\ninstallation finished.\nWARNING:\n    You currently have a PYTHONPATH environment variable set. This may cause\n    unexpected behavior when running the Python interpreter in Miniconda3.\n    For best results, please verify that your PYTHONPATH only points to\n    directories of packages that are compatible with the Python interpreter\n    in Miniconda3: /usr/local\n/usr/local/lib/python3.7/site-packages/requests/__init__.py:91: RequestsDependencyWarning: urllib3 (1.25.8) or chardet (4.0.0) doesn't match a supported version!\n  RequestsDependencyWarning)\nCollecting package metadata (current_repodata.json): done\nSolving environment: done\n\n## Package Plan ##\n\n  environment location: /usr/local\n\n  added / updated specs:\n    - rdkit\n\n\nThe following packages will be downloaded:\n\n    package                    |            build\n    ---------------------------|-----------------\n    blas-1.0                   |              mkl           6 KB\n    bottleneck-1.3.2           |   py37heb32a55_1         125 KB\n    bzip2-1.0.8                |       h7b6447c_0          78 KB\n    ca-certificates-2021.9.30  |       h06a4308_1         116 KB\n    cairo-1.16.0               |       hf32fb01_1         1.0 MB\n    certifi-2021.5.30          |   py37h06a4308_0         139 KB\n    conda-4.10.3               |   py37h06a4308_0         2.9 MB\n    fontconfig-2.13.1          |       h6c09931_0         250 KB\n    freetype-2.10.4            |       h5ab3b9f_0         596 KB\n    glib-2.69.1                |       h5202010_0         1.7 MB\n    icu-58.2                   |       he6710b0_3        10.5 MB\n    intel-openmp-2021.3.0      |    h06a4308_3350         1.4 MB\n    jpeg-9d                    |       h7f8727e_0         232 KB\n    lcms2-2.12                 |       h3be6417_0         312 KB\n    libboost-1.73.0            |      h3ff78a5_11        13.9 MB\n    libffi-3.3                 |       he6710b0_2          50 KB\n    libpng-1.6.37              |       hbc83047_0         278 KB\n    libtiff-4.2.0              |       h85742a9_0         502 KB\n    libuuid-1.0.3              |       h7f8727e_2          17 KB\n    libwebp-base-1.2.0         |       h27cfd23_0         437 KB\n    libxcb-1.14                |       h7b6447c_0         505 KB\n    libxml2-2.9.10             |       hb55368b_3         1.2 MB\n    lz4-c-1.9.3                |       h295c915_1         185 KB\n    mkl-2021.3.0               |     h06a4308_520       141.2 MB\n    mkl-service-2.4.0          |   py37h7f8727e_0          56 KB\n    mkl_fft-1.3.0              |   py37h42c9631_2         170 KB\n    mkl_random-1.2.2           |   py37h51133e4_0         287 KB\n    numexpr-2.7.3              |   py37h22e1b3c_1         188 KB\n    numpy-1.20.3               |   py37hf144106_0          23 KB\n    numpy-base-1.20.3          |   py37h74d4b33_0         4.5 MB\n    olefile-0.46               |           py37_0          50 KB\n    openjpeg-2.4.0             |       h3ad879b_0         331 KB\n    openssl-1.1.1l             |       h7f8727e_0         2.5 MB\n    pandas-1.3.3               |   py37h8c16a72_0         9.2 MB\n    pcre-8.45                  |       h295c915_0         207 KB\n    pillow-8.3.1               |   py37h2c7a002_0         635 KB\n    pixman-0.40.0              |       h7f8727e_1         373 KB\n    py-boost-1.73.0            |  py37ha9443f7_11         204 KB\n    python-dateutil-2.8.2      |     pyhd3eb1b0_0         233 KB\n    pytz-2021.3                |     pyhd3eb1b0_0         171 KB\n    rdkit-2020.09.1.0          |   py37hd50e099_1        25.8 MB  rdkit\n    xz-5.2.5                   |       h7b6447c_0         341 KB\n    zstd-1.4.9                 |       haebb681_0         480 KB\n    ------------------------------------------------------------\n                                           Total:       223.2 MB\n\nThe following NEW packages will be INSTALLED:\n\n  blas               pkgs/main/linux-64::blas-1.0-mkl\n  bottleneck         pkgs/main/linux-64::bottleneck-1.3.2-py37heb32a55_1\n  bzip2              pkgs/main/linux-64::bzip2-1.0.8-h7b6447c_0\n  cairo              pkgs/main/linux-64::cairo-1.16.0-hf32fb01_1\n  fontconfig         pkgs/main/linux-64::fontconfig-2.13.1-h6c09931_0\n  freetype           pkgs/main/linux-64::freetype-2.10.4-h5ab3b9f_0\n  glib               pkgs/main/linux-64::glib-2.69.1-h5202010_0\n  icu                pkgs/main/linux-64::icu-58.2-he6710b0_3\n  intel-openmp       pkgs/main/linux-64::intel-openmp-2021.3.0-h06a4308_3350\n  jpeg               pkgs/main/linux-64::jpeg-9d-h7f8727e_0\n  lcms2              pkgs/main/linux-64::lcms2-2.12-h3be6417_0\n  libboost           pkgs/main/linux-64::libboost-1.73.0-h3ff78a5_11\n  libpng             pkgs/main/linux-64::libpng-1.6.37-hbc83047_0\n  libtiff            pkgs/main/linux-64::libtiff-4.2.0-h85742a9_0\n  libuuid            pkgs/main/linux-64::libuuid-1.0.3-h7f8727e_2\n  libwebp-base       pkgs/main/linux-64::libwebp-base-1.2.0-h27cfd23_0\n  libxcb             pkgs/main/linux-64::libxcb-1.14-h7b6447c_0\n  libxml2            pkgs/main/linux-64::libxml2-2.9.10-hb55368b_3\n  lz4-c              pkgs/main/linux-64::lz4-c-1.9.3-h295c915_1\n  mkl                pkgs/main/linux-64::mkl-2021.3.0-h06a4308_520\n  mkl-service        pkgs/main/linux-64::mkl-service-2.4.0-py37h7f8727e_0\n  mkl_fft            pkgs/main/linux-64::mkl_fft-1.3.0-py37h42c9631_2\n  mkl_random         pkgs/main/linux-64::mkl_random-1.2.2-py37h51133e4_0\n  numexpr            pkgs/main/linux-64::numexpr-2.7.3-py37h22e1b3c_1\n  numpy              pkgs/main/linux-64::numpy-1.20.3-py37hf144106_0\n  numpy-base         pkgs/main/linux-64::numpy-base-1.20.3-py37h74d4b33_0\n  olefile            pkgs/main/linux-64::olefile-0.46-py37_0\n  openjpeg           pkgs/main/linux-64::openjpeg-2.4.0-h3ad879b_0\n  pandas             pkgs/main/linux-64::pandas-1.3.3-py37h8c16a72_0\n  pcre               pkgs/main/linux-64::pcre-8.45-h295c915_0\n  pillow             pkgs/main/linux-64::pillow-8.3.1-py37h2c7a002_0\n  pixman             pkgs/main/linux-64::pixman-0.40.0-h7f8727e_1\n  py-boost           pkgs/main/linux-64::py-boost-1.73.0-py37ha9443f7_11\n  python-dateutil    pkgs/main/noarch::python-dateutil-2.8.2-pyhd3eb1b0_0\n  pytz               pkgs/main/noarch::pytz-2021.3-pyhd3eb1b0_0\n  rdkit              rdkit/linux-64::rdkit-2020.09.1.0-py37hd50e099_1\n  zstd               pkgs/main/linux-64::zstd-1.4.9-haebb681_0\n\nThe following packages will be UPDATED:\n\n  ca-certificates                                2020.1.1-0 --> 2021.9.30-h06a4308_1\n  certifi                                 2019.11.28-py37_0 --> 2021.5.30-py37h06a4308_0\n  conda                                        4.8.2-py37_0 --> 4.10.3-py37h06a4308_0\n  libffi                                   3.2.1-hd88cf55_4 --> 3.3-he6710b0_2\n  openssl                                 1.1.1d-h7b6447c_4 --> 1.1.1l-h7f8727e_0\n  xz                                       5.2.4-h14c3975_4 --> 5.2.5-h7b6447c_0\n\n\n\nDownloading and Extracting Packages\nmkl_fft-1.3.0        | 170 KB    | ##################################### | 100% \nnumpy-1.20.3         | 23 KB     | ##################################### | 100% \nlz4-c-1.9.3          | 185 KB    | ##################################### | 100% \nolefile-0.46         | 50 KB     | ##################################### | 100% \npixman-0.40.0        | 373 KB    | ##################################### | 100% \nmkl-service-2.4.0    | 56 KB     | ##################################### | 100% \nlibboost-1.73.0      | 13.9 MB   | ##################################### | 100% \nlibpng-1.6.37        | 278 KB    | ##################################### | 100% \nmkl-2021.3.0         | 141.2 MB  | ##################################### | 100% \ncertifi-2021.5.30    | 139 KB    | ##################################### | 100% \npcre-8.45            | 207 KB    | ##################################### | 100% \nzstd-1.4.9           | 480 KB    | ##################################### | 100% \nrdkit-2020.09.1.0    | 25.8 MB   | ##################################### | 100% \nbzip2-1.0.8          | 78 KB     | ##################################### | 100% \npytz-2021.3          | 171 KB    | ##################################### | 100% \ncairo-1.16.0         | 1.0 MB    | ##################################### | 100% \nlibxcb-1.14          | 505 KB    | ##################################### | 100% \nlibwebp-base-1.2.0   | 437 KB    | ##################################### | 100% \nlibuuid-1.0.3        | 17 KB     | ##################################### | 100% \nglib-2.69.1          | 1.7 MB    | ##################################### | 100% \nnumpy-base-1.20.3    | 4.5 MB    | ##################################### | 100% \nca-certificates-2021 | 116 KB    | ##################################### | 100% \nicu-58.2             | 10.5 MB   | ##################################### | 100% \nlibffi-3.3           | 50 KB     | ##################################### | 100% \nfontconfig-2.13.1    | 250 KB    | ##################################### | 100% \npython-dateutil-2.8. | 233 KB    | ##################################### | 100% \nmkl_random-1.2.2     | 287 KB    | ##################################### | 100% \nxz-5.2.5             | 341 KB    | ##################################### | 100% \nlcms2-2.12           | 312 KB    | ##################################### | 100% \nconda-4.10.3         | 2.9 MB    | ##################################### | 100% \nopenssl-1.1.1l       | 2.5 MB    | ##################################### | 100% \nlibtiff-4.2.0        | 502 KB    | ##################################### | 100% \nnumexpr-2.7.3        | 188 KB    | ##################################### | 100% \npandas-1.3.3         | 9.2 MB    | ##################################### | 100% \nopenjpeg-2.4.0       | 331 KB    | ##################################### | 100% \nintel-openmp-2021.3. | 1.4 MB    | ##################################### | 100% \njpeg-9d              | 232 KB    | ##################################### | 100% \nbottleneck-1.3.2     | 125 KB    | ##################################### | 100% \npy-boost-1.73.0      | 204 KB    | ##################################### | 100% \nlibxml2-2.9.10       | 1.2 MB    | ##################################### | 100% \nfreetype-2.10.4      | 596 KB    | ##################################### | 100% \npillow-8.3.1         | 635 KB    | ##################################### | 100% \nblas-1.0             | 6 KB      | ##################################### | 100% \nPreparing transaction: done\nVerifying transaction: done\nExecuting transaction: done\nCollecting ase\n  Downloading ase-3.22.0-py3-none-any.whl (2.2 MB)\n\u001b[K     |████████████████████████████████| 2.2 MB 30.4 MB/s \n\u001b[?25hRequirement already satisfied: numpy>=1.15.0 in /usr/local/lib/python3.7/site-packages (from ase) (1.20.3)\nRequirement already satisfied: scipy>=1.1.0 in /shared-libs/python3.7/py/lib/python3.7/site-packages (from ase) (1.7.1)\nRequirement already satisfied: matplotlib>=3.1.0 in /shared-libs/python3.7/py/lib/python3.7/site-packages (from ase) (3.4.3)\nRequirement already satisfied: pyparsing>=2.2.1 in /shared-libs/python3.7/py-core/lib/python3.7/site-packages (from matplotlib>=3.1.0->ase) (2.4.7)\nRequirement already satisfied: cycler>=0.10 in /shared-libs/python3.7/py/lib/python3.7/site-packages (from matplotlib>=3.1.0->ase) (0.10.0)\nRequirement already satisfied: pillow>=6.2.0 in /usr/local/lib/python3.7/site-packages (from matplotlib>=3.1.0->ase) (8.3.1)\nRequirement already satisfied: python-dateutil>=2.7 in /shared-libs/python3.7/py-core/lib/python3.7/site-packages (from matplotlib>=3.1.0->ase) (2.8.2)\nRequirement already satisfied: kiwisolver>=1.0.1 in /shared-libs/python3.7/py/lib/python3.7/site-packages (from matplotlib>=3.1.0->ase) (1.3.2)\nRequirement already satisfied: six in /shared-libs/python3.7/py-core/lib/python3.7/site-packages (from cycler>=0.10->matplotlib>=3.1.0->ase) (1.16.0)\nInstalling collected packages: ase\nSuccessfully installed ase-3.22.0\n\u001b[33mWARNING: You are using pip version 21.2.4; however, version 21.3 is available.\nYou should consider upgrading via the '/root/venv/bin/python -m pip install --upgrade pip' command.\u001b[0m\nCollecting pubchempy\n  Downloading PubChemPy-1.0.4.tar.gz (29 kB)\nBuilding wheels for collected packages: pubchempy\n  Building wheel for pubchempy (setup.py) ... \u001b[?25ldone\n\u001b[?25h  Created wheel for pubchempy: filename=PubChemPy-1.0.4-py3-none-any.whl size=13835 sha256=7e6e045a0ae920d6f974c2c828727404f64b7352bc9f787fe99b23a61a4113c7\n  Stored in directory: /root/.cache/pip/wheels/7c/3d/8c/8192697412e9899dc55bbbb08bbc1197bef333caaa2a71c448\nSuccessfully built pubchempy\nInstalling collected packages: pubchempy\nSuccessfully installed pubchempy-1.0.4\n\u001b[33mWARNING: You are using pip version 21.2.4; however, version 21.3 is available.\nYou should consider upgrading via the '/root/venv/bin/python -m pip install --upgrade pip' command.\u001b[0m\n",
     "output_type": "stream"
    }
   ],
   "execution_count": null
  },
  {
   "cell_type": "code",
   "metadata": {
    "tags": [],
    "cell_id": "00003-83f4e779-2fb7-4b5e-82c2-be8ac905f928",
    "deepnote_to_be_reexecuted": false,
    "source_hash": "196ea35",
    "execution_start": 1634033577032,
    "execution_millis": 267,
    "deepnote_cell_type": "code"
   },
   "source": "train = pd.read_csv('trainSurfaceVsa.csv')\ntrain.head()\n",
   "outputs": [
    {
     "output_type": "execute_result",
     "execution_count": 2,
     "data": {
      "application/vnd.deepnote.dataframe.v2+json": {
       "row_count": 5,
       "column_count": 17,
       "columns": [
        {
         "name": "MOFname",
         "dtype": "object",
         "stats": {
          "unique_count": 5,
          "nan_count": 0,
          "categories": [
           {
            "name": "mof_unit_1",
            "count": 1
           },
           {
            "name": "mof_unit_2",
            "count": 1
           },
           {
            "name": "3 others",
            "count": 3
           }
          ]
         }
        },
        {
         "name": "volume [A^3]",
         "dtype": "float64",
         "stats": {
          "unique_count": 5,
          "nan_count": 0,
          "min": "1089.818728",
          "max": "2769.503842",
          "histogram": [
           {
            "bin_start": 1089.818728,
            "bin_end": 1257.7872394,
            "count": 3
           },
           {
            "bin_start": 1257.7872394,
            "bin_end": 1425.7557508,
            "count": 0
           },
           {
            "bin_start": 1425.7557508,
            "bin_end": 1593.7242621999999,
            "count": 0
           },
           {
            "bin_start": 1593.7242621999999,
            "bin_end": 1761.6927736,
            "count": 0
           },
           {
            "bin_start": 1761.6927736,
            "bin_end": 1929.6612850000001,
            "count": 0
           },
           {
            "bin_start": 1929.6612850000001,
            "bin_end": 2097.6297964,
            "count": 0
           },
           {
            "bin_start": 2097.6297964,
            "bin_end": 2265.5983078,
            "count": 1
           },
           {
            "bin_start": 2265.5983078,
            "bin_end": 2433.5668192000003,
            "count": 0
           },
           {
            "bin_start": 2433.5668192000003,
            "bin_end": 2601.5353305999997,
            "count": 0
           },
           {
            "bin_start": 2601.5353305999997,
            "bin_end": 2769.503842,
            "count": 1
           }
          ]
         }
        },
        {
         "name": "weight [u]",
         "dtype": "float64",
         "stats": {
          "unique_count": 5,
          "nan_count": 0,
          "min": "773.68796",
          "max": "2211.697211",
          "histogram": [
           {
            "bin_start": 773.68796,
            "bin_end": 917.4888851000001,
            "count": 3
           },
           {
            "bin_start": 917.4888851000001,
            "bin_end": 1061.2898102,
            "count": 0
           },
           {
            "bin_start": 1061.2898102,
            "bin_end": 1205.0907353,
            "count": 0
           },
           {
            "bin_start": 1205.0907353,
            "bin_end": 1348.8916604,
            "count": 1
           },
           {
            "bin_start": 1348.8916604,
            "bin_end": 1492.6925855000002,
            "count": 0
           },
           {
            "bin_start": 1492.6925855000002,
            "bin_end": 1636.4935106000003,
            "count": 0
           },
           {
            "bin_start": 1636.4935106000003,
            "bin_end": 1780.2944357000001,
            "count": 0
           },
           {
            "bin_start": 1780.2944357000001,
            "bin_end": 1924.0953608000002,
            "count": 0
           },
           {
            "bin_start": 1924.0953608000002,
            "bin_end": 2067.8962859000003,
            "count": 0
           },
           {
            "bin_start": 2067.8962859000003,
            "bin_end": 2211.697211,
            "count": 1
           }
          ]
         }
        },
        {
         "name": "density [g/cm^3]",
         "dtype": "float64",
         "stats": {
          "unique_count": 5,
          "nan_count": 0,
          "min": "0.982408148567134",
          "max": "1.3260901216521728",
          "histogram": [
           {
            "bin_start": 0.982408148567134,
            "bin_end": 1.0167763458756378,
            "count": 1
           },
           {
            "bin_start": 1.0167763458756378,
            "bin_end": 1.0511445431841417,
            "count": 0
           },
           {
            "bin_start": 1.0511445431841417,
            "bin_end": 1.0855127404926457,
            "count": 0
           },
           {
            "bin_start": 1.0855127404926457,
            "bin_end": 1.1198809378011494,
            "count": 0
           },
           {
            "bin_start": 1.1198809378011494,
            "bin_end": 1.1542491351096533,
            "count": 0
           },
           {
            "bin_start": 1.1542491351096533,
            "bin_end": 1.1886173324181573,
            "count": 1
           },
           {
            "bin_start": 1.1886173324181573,
            "bin_end": 1.2229855297266612,
            "count": 0
           },
           {
            "bin_start": 1.2229855297266612,
            "bin_end": 1.2573537270351651,
            "count": 0
           },
           {
            "bin_start": 1.2573537270351651,
            "bin_end": 1.2917219243436688,
            "count": 0
           },
           {
            "bin_start": 1.2917219243436688,
            "bin_end": 1.3260901216521728,
            "count": 3
           }
          ]
         }
        },
        {
         "name": "surface_area [m^2/g]",
         "dtype": "float64",
         "stats": {
          "unique_count": 5,
          "nan_count": 0,
          "min": "277.7366563490379",
          "max": "1441.53",
          "histogram": [
           {
            "bin_start": 277.7366563490379,
            "bin_end": 394.1159907141341,
            "count": 1
           },
           {
            "bin_start": 394.1159907141341,
            "bin_end": 510.49532507923027,
            "count": 0
           },
           {
            "bin_start": 510.49532507923027,
            "bin_end": 626.8746594443264,
            "count": 1
           },
           {
            "bin_start": 626.8746594443264,
            "bin_end": 743.2539938094227,
            "count": 0
           },
           {
            "bin_start": 743.2539938094227,
            "bin_end": 859.633328174519,
            "count": 1
           },
           {
            "bin_start": 859.633328174519,
            "bin_end": 976.0126625396151,
            "count": 0
           },
           {
            "bin_start": 976.0126625396151,
            "bin_end": 1092.3919969047113,
            "count": 0
           },
           {
            "bin_start": 1092.3919969047113,
            "bin_end": 1208.7713312698074,
            "count": 1
           },
           {
            "bin_start": 1208.7713312698074,
            "bin_end": 1325.1506656349038,
            "count": 0
           },
           {
            "bin_start": 1325.1506656349038,
            "bin_end": 1441.53,
            "count": 1
           }
          ]
         }
        },
        {
         "name": "gsa",
         "dtype": "float64",
         "stats": {
          "unique_count": 5,
          "nan_count": 0,
          "min": "182.8391274724127",
          "max": "3925.613159996791",
          "histogram": [
           {
            "bin_start": 182.8391274724127,
            "bin_end": 557.1165307248506,
            "count": 2
           },
           {
            "bin_start": 557.1165307248506,
            "bin_end": 931.3939339772885,
            "count": 1
           },
           {
            "bin_start": 931.3939339772885,
            "bin_end": 1305.6713372297263,
            "count": 0
           },
           {
            "bin_start": 1305.6713372297263,
            "bin_end": 1679.948740482164,
            "count": 0
           },
           {
            "bin_start": 1679.948740482164,
            "bin_end": 2054.226143734602,
            "count": 1
           },
           {
            "bin_start": 2054.226143734602,
            "bin_end": 2428.50354698704,
            "count": 0
           },
           {
            "bin_start": 2428.50354698704,
            "bin_end": 2802.7809502394775,
            "count": 0
           },
           {
            "bin_start": 2802.7809502394775,
            "bin_end": 3177.0583534919156,
            "count": 0
           },
           {
            "bin_start": 3177.0583534919156,
            "bin_end": 3551.3357567443536,
            "count": 0
           },
           {
            "bin_start": 3551.3357567443536,
            "bin_end": 3925.613159996791,
            "count": 1
           }
          ]
         }
        },
        {
         "name": "vsa",
         "dtype": "float64",
         "stats": {
          "unique_count": 5,
          "nan_count": 0,
          "min": "277.7366563490379",
          "max": "1911.5645822690333",
          "histogram": [
           {
            "bin_start": 277.7366563490379,
            "bin_end": 441.11944894103743,
            "count": 1
           },
           {
            "bin_start": 441.11944894103743,
            "bin_end": 604.502241533037,
            "count": 1
           },
           {
            "bin_start": 604.502241533037,
            "bin_end": 767.8850341250366,
            "count": 0
           },
           {
            "bin_start": 767.8850341250366,
            "bin_end": 931.2678267170361,
            "count": 0
           },
           {
            "bin_start": 931.2678267170361,
            "bin_end": 1094.6506193090356,
            "count": 0
           },
           {
            "bin_start": 1094.6506193090356,
            "bin_end": 1258.0334119010352,
            "count": 1
           },
           {
            "bin_start": 1258.0334119010352,
            "bin_end": 1421.4162044930347,
            "count": 0
           },
           {
            "bin_start": 1421.4162044930347,
            "bin_end": 1584.7989970850342,
            "count": 0
           },
           {
            "bin_start": 1584.7989970850342,
            "bin_end": 1748.1817896770337,
            "count": 1
           },
           {
            "bin_start": 1748.1817896770337,
            "bin_end": 1911.5645822690333,
            "count": 1
           }
          ]
         }
        },
        {
         "name": "void_fraction",
         "dtype": "float64",
         "stats": {
          "unique_count": 5,
          "nan_count": 0,
          "min": "0.07778",
          "max": "0.21814",
          "histogram": [
           {
            "bin_start": 0.07778,
            "bin_end": 0.091816,
            "count": 2
           },
           {
            "bin_start": 0.091816,
            "bin_end": 0.105852,
            "count": 0
           },
           {
            "bin_start": 0.105852,
            "bin_end": 0.119888,
            "count": 0
           },
           {
            "bin_start": 0.119888,
            "bin_end": 0.133924,
            "count": 0
           },
           {
            "bin_start": 0.133924,
            "bin_end": 0.14795999999999998,
            "count": 1
           },
           {
            "bin_start": 0.14795999999999998,
            "bin_end": 0.16199599999999997,
            "count": 1
           },
           {
            "bin_start": 0.16199599999999997,
            "bin_end": 0.176032,
            "count": 0
           },
           {
            "bin_start": 0.176032,
            "bin_end": 0.190068,
            "count": 0
           },
           {
            "bin_start": 0.190068,
            "bin_end": 0.204104,
            "count": 0
           },
           {
            "bin_start": 0.204104,
            "bin_end": 0.21814,
            "count": 1
           }
          ]
         }
        },
        {
         "name": "void_volume [cm^3/g]",
         "dtype": "float64",
         "stats": {
          "unique_count": 5,
          "nan_count": 0,
          "min": "0.0591",
          "max": "0.222",
          "histogram": [
           {
            "bin_start": 0.0591,
            "bin_end": 0.07539,
            "count": 2
           },
           {
            "bin_start": 0.07539,
            "bin_end": 0.09168,
            "count": 0
           },
           {
            "bin_start": 0.09168,
            "bin_end": 0.10797,
            "count": 1
           },
           {
            "bin_start": 0.10797,
            "bin_end": 0.12426,
            "count": 0
           },
           {
            "bin_start": 0.12426,
            "bin_end": 0.14055,
            "count": 1
           },
           {
            "bin_start": 0.14055,
            "bin_end": 0.15683999999999998,
            "count": 0
           },
           {
            "bin_start": 0.15683999999999998,
            "bin_end": 0.17313,
            "count": 0
           },
           {
            "bin_start": 0.17313,
            "bin_end": 0.18941999999999998,
            "count": 0
           },
           {
            "bin_start": 0.18941999999999998,
            "bin_end": 0.20571,
            "count": 0
           },
           {
            "bin_start": 0.20571,
            "bin_end": 0.222,
            "count": 1
           }
          ]
         }
        },
        {
         "name": "functional_groups",
         "dtype": "object",
         "stats": {
          "unique_count": 5,
          "nan_count": 0,
          "categories": [
           {
            "name": "COOH-OEt",
            "count": 1
           },
           {
            "name": "F-OMe",
            "count": 1
           },
           {
            "name": "3 others",
            "count": 3
           }
          ]
         }
        },
        {
         "name": "metal_linker",
         "dtype": "int64",
         "stats": {
          "unique_count": 4,
          "nan_count": 0,
          "min": "2",
          "max": "10",
          "histogram": [
           {
            "bin_start": 2,
            "bin_end": 2.8,
            "count": 2
           },
           {
            "bin_start": 2.8,
            "bin_end": 3.6,
            "count": 1
           },
           {
            "bin_start": 3.6,
            "bin_end": 4.4,
            "count": 0
           },
           {
            "bin_start": 4.4,
            "bin_end": 5.2,
            "count": 0
           },
           {
            "bin_start": 5.2,
            "bin_end": 6,
            "count": 0
           },
           {
            "bin_start": 6,
            "bin_end": 6.800000000000001,
            "count": 0
           },
           {
            "bin_start": 6.800000000000001,
            "bin_end": 7.6000000000000005,
            "count": 0
           },
           {
            "bin_start": 7.6000000000000005,
            "bin_end": 8.4,
            "count": 0
           },
           {
            "bin_start": 8.4,
            "bin_end": 9.2,
            "count": 1
           },
           {
            "bin_start": 9.2,
            "bin_end": 10,
            "count": 1
           }
          ]
         }
        },
        {
         "name": "organic_linker1",
         "dtype": "int64",
         "stats": {
          "unique_count": 5,
          "nan_count": 0,
          "min": "1",
          "max": "44",
          "histogram": [
           {
            "bin_start": 1,
            "bin_end": 5.3,
            "count": 2
           },
           {
            "bin_start": 5.3,
            "bin_end": 9.6,
            "count": 0
           },
           {
            "bin_start": 9.6,
            "bin_end": 13.899999999999999,
            "count": 0
           },
           {
            "bin_start": 13.899999999999999,
            "bin_end": 18.2,
            "count": 1
           },
           {
            "bin_start": 18.2,
            "bin_end": 22.5,
            "count": 1
           },
           {
            "bin_start": 22.5,
            "bin_end": 26.799999999999997,
            "count": 0
           },
           {
            "bin_start": 26.799999999999997,
            "bin_end": 31.099999999999998,
            "count": 0
           },
           {
            "bin_start": 31.099999999999998,
            "bin_end": 35.4,
            "count": 0
           },
           {
            "bin_start": 35.4,
            "bin_end": 39.699999999999996,
            "count": 0
           },
           {
            "bin_start": 39.699999999999996,
            "bin_end": 44,
            "count": 1
           }
          ]
         }
        },
        {
         "name": "organic_linker2",
         "dtype": "int64",
         "stats": {
          "unique_count": 4,
          "nan_count": 0,
          "min": "11",
          "max": "57",
          "histogram": [
           {
            "bin_start": 11,
            "bin_end": 15.6,
            "count": 1
           },
           {
            "bin_start": 15.6,
            "bin_end": 20.2,
            "count": 0
           },
           {
            "bin_start": 20.2,
            "bin_end": 24.799999999999997,
            "count": 3
           },
           {
            "bin_start": 24.799999999999997,
            "bin_end": 29.4,
            "count": 0
           },
           {
            "bin_start": 29.4,
            "bin_end": 34,
            "count": 0
           },
           {
            "bin_start": 34,
            "bin_end": 38.599999999999994,
            "count": 0
           },
           {
            "bin_start": 38.599999999999994,
            "bin_end": 43.199999999999996,
            "count": 0
           },
           {
            "bin_start": 43.199999999999996,
            "bin_end": 47.8,
            "count": 0
           },
           {
            "bin_start": 47.8,
            "bin_end": 52.4,
            "count": 0
           },
           {
            "bin_start": 52.4,
            "bin_end": 57,
            "count": 1
           }
          ]
         }
        },
        {
         "name": "topology",
         "dtype": "object",
         "stats": {
          "unique_count": 3,
          "nan_count": 0,
          "categories": [
           {
            "name": "pcu",
            "count": 3
           },
           {
            "name": "etb",
            "count": 1
           },
           {
            "name": "sra",
            "count": 1
           }
          ]
         }
        },
        {
         "name": "CO2/N2_selectivity",
         "dtype": "float64",
         "stats": {
          "unique_count": 5,
          "nan_count": 0,
          "min": "19.26372569",
          "max": "33.61678033",
          "histogram": [
           {
            "bin_start": 19.26372569,
            "bin_end": 20.699031154,
            "count": 1
           },
           {
            "bin_start": 20.699031154,
            "bin_end": 22.134336618,
            "count": 0
           },
           {
            "bin_start": 22.134336618,
            "bin_end": 23.569642082,
            "count": 1
           },
           {
            "bin_start": 23.569642082,
            "bin_end": 25.004947546,
            "count": 0
           },
           {
            "bin_start": 25.004947546,
            "bin_end": 26.44025301,
            "count": 1
           },
           {
            "bin_start": 26.44025301,
            "bin_end": 27.875558473999998,
            "count": 0
           },
           {
            "bin_start": 27.875558473999998,
            "bin_end": 29.310863937999997,
            "count": 0
           },
           {
            "bin_start": 29.310863937999997,
            "bin_end": 30.746169402,
            "count": 1
           },
           {
            "bin_start": 30.746169402,
            "bin_end": 32.181474865999995,
            "count": 0
           },
           {
            "bin_start": 32.181474865999995,
            "bin_end": 33.61678033,
            "count": 1
           }
          ]
         }
        },
        {
         "name": "heat_adsorption_CO2_P0.15bar_T298K [kcal/mol]",
         "dtype": "float64",
         "stats": {
          "unique_count": 5,
          "nan_count": 0,
          "min": "6.190085",
          "max": "7.147286",
          "histogram": [
           {
            "bin_start": 6.190085,
            "bin_end": 6.2858051,
            "count": 1
           },
           {
            "bin_start": 6.2858051,
            "bin_end": 6.3815252,
            "count": 1
           },
           {
            "bin_start": 6.3815252,
            "bin_end": 6.4772453,
            "count": 0
           },
           {
            "bin_start": 6.4772453,
            "bin_end": 6.5729654,
            "count": 1
           },
           {
            "bin_start": 6.5729654,
            "bin_end": 6.6686855000000005,
            "count": 0
           },
           {
            "bin_start": 6.6686855000000005,
            "bin_end": 6.7644056,
            "count": 0
           },
           {
            "bin_start": 6.7644056,
            "bin_end": 6.8601257,
            "count": 1
           },
           {
            "bin_start": 6.8601257,
            "bin_end": 6.9558458000000005,
            "count": 0
           },
           {
            "bin_start": 6.9558458000000005,
            "bin_end": 7.0515659,
            "count": 0
           },
           {
            "bin_start": 7.0515659,
            "bin_end": 7.147286,
            "count": 1
           }
          ]
         }
        },
        {
         "name": "CO2_working_capacity [mL/g]",
         "dtype": "float64",
         "stats": {
          "unique_count": 5,
          "nan_count": 0,
          "min": "79.21000065588353",
          "max": "187.62600449626183",
          "histogram": [
           {
            "bin_start": 79.21000065588353,
            "bin_end": 90.05160103992137,
            "count": 1
           },
           {
            "bin_start": 90.05160103992137,
            "bin_end": 100.8932014239592,
            "count": 0
           },
           {
            "bin_start": 100.8932014239592,
            "bin_end": 111.73480180799702,
            "count": 2
           },
           {
            "bin_start": 111.73480180799702,
            "bin_end": 122.57640219203485,
            "count": 1
           },
           {
            "bin_start": 122.57640219203485,
            "bin_end": 133.4180025760727,
            "count": 0
           },
           {
            "bin_start": 133.4180025760727,
            "bin_end": 144.2596029601105,
            "count": 0
           },
           {
            "bin_start": 144.2596029601105,
            "bin_end": 155.10120334414833,
            "count": 0
           },
           {
            "bin_start": 155.10120334414833,
            "bin_end": 165.94280372818616,
            "count": 0
           },
           {
            "bin_start": 165.94280372818616,
            "bin_end": 176.784404112224,
            "count": 0
           },
           {
            "bin_start": 176.784404112224,
            "bin_end": 187.62600449626183,
            "count": 1
           }
          ]
         }
        },
        {
         "name": "_deepnote_index_column",
         "dtype": "int64"
        }
       ],
       "rows_top": [
        {
         "MOFname": "mof_unit_1",
         "volume [A^3]": 1116.667429,
         "weight [u]": 875.2405999999999,
         "density [g/cm^3]": 1.3015262988601055,
         "surface_area [m^2/g]": 1139.8287738457757,
         "gsa": 585.6690519771402,
         "vsa": 1139.8287738457757,
         "void_fraction": 0.07899,
         "void_volume [cm^3/g]": 0.0606999999999999,
         "functional_groups": "COOH-OEt",
         "metal_linker": 3,
         "organic_linker1": 4,
         "organic_linker2": 11,
         "topology": "pcu",
         "CO2/N2_selectivity": 22.86416611,
         "heat_adsorption_CO2_P0.15bar_T298K [kcal/mol]": 6.786041,
         "CO2_working_capacity [mL/g]": 105.2845017241596,
         "_deepnote_index_column": 0
        },
        {
         "MOFname": "mof_unit_2",
         "volume [A^3]": 2769.503842,
         "weight [u]": 2211.697211,
         "density [g/cm^3]": 1.3260901216521728,
         "surface_area [m^2/g]": 603.61,
         "gsa": 182.8391274724127,
         "vsa": 477.9933491501404,
         "void_fraction": 0.13794,
         "void_volume [cm^3/g]": 0.104,
         "functional_groups": "F-OMe",
         "metal_linker": 10,
         "organic_linker1": 44,
         "organic_linker2": 57,
         "topology": "etb",
         "CO2/N2_selectivity": 33.61678033,
         "heat_adsorption_CO2_P0.15bar_T298K [kcal/mol]": 7.147286,
         "CO2_working_capacity [mL/g]": 101.22477417834172,
         "_deepnote_index_column": 1
        },
        {
         "MOFname": "mof_unit_3",
         "volume [A^3]": 1089.818728,
         "weight [u]": 773.68796,
         "density [g/cm^3]": 1.1788564208802987,
         "surface_area [m^2/g]": 788.5,
         "gsa": 1704.5998324734685,
         "vsa": 1614.2123919024807,
         "void_fraction": 0.14874,
         "void_volume [cm^3/g]": 0.1262,
         "functional_groups": "OMe-COOH",
         "metal_linker": 2,
         "organic_linker1": 22,
         "organic_linker2": 24,
         "topology": "pcu",
         "CO2/N2_selectivity": 19.26372569,
         "heat_adsorption_CO2_P0.15bar_T298K [kcal/mol]": 6.347967,
         "CO2_working_capacity [mL/g]": 118.98701074687752,
         "_deepnote_index_column": 2
        },
        {
         "MOFname": "mof_unit_4",
         "volume [A^3]": 2205.1983010000004,
         "weight [u]": 1304.63872,
         "density [g/cm^3]": 0.982408148567134,
         "surface_area [m^2/g]": 1441.53,
         "gsa": 3925.613159996791,
         "vsa": 1911.5645822690333,
         "void_fraction": 0.21814,
         "void_volume [cm^3/g]": 0.222,
         "functional_groups": "H-SO3H",
         "metal_linker": 9,
         "organic_linker1": 17,
         "organic_linker2": 24,
         "topology": "sra",
         "CO2/N2_selectivity": 25.70137692,
         "heat_adsorption_CO2_P0.15bar_T298K [kcal/mol]": 6.190085,
         "CO2_working_capacity [mL/g]": 187.62600449626183,
         "_deepnote_index_column": 3
        },
        {
         "MOFname": "mof_unit_5",
         "volume [A^3]": 1137.800963,
         "weight [u]": 901.73612,
         "density [g/cm^3]": 1.3160200644906643,
         "surface_area [m^2/g]": 277.7366563490379,
         "gsa": 197.6586345273903,
         "vsa": 277.7366563490379,
         "void_fraction": 0.07778,
         "void_volume [cm^3/g]": 0.0591,
         "functional_groups": "NHMe-OH",
         "metal_linker": 2,
         "organic_linker1": 1,
         "organic_linker2": 22,
         "topology": "pcu",
         "CO2/N2_selectivity": 30.00183795,
         "heat_adsorption_CO2_P0.15bar_T298K [kcal/mol]": 6.478063,
         "CO2_working_capacity [mL/g]": 79.21000065588353,
         "_deepnote_index_column": 4
        }
       ],
       "rows_bottom": null
      },
      "text/plain": "      MOFname  volume [A^3]   weight [u]  density [g/cm^3]  \\\n0  mof_unit_1   1116.667429   875.240600          1.301526   \n1  mof_unit_2   2769.503842  2211.697211          1.326090   \n2  mof_unit_3   1089.818728   773.687960          1.178856   \n3  mof_unit_4   2205.198301  1304.638720          0.982408   \n4  mof_unit_5   1137.800963   901.736120          1.316020   \n\n   surface_area [m^2/g]          gsa          vsa  void_fraction  \\\n0           1139.828774   585.669052  1139.828774        0.07899   \n1            603.610000   182.839127   477.993349        0.13794   \n2            788.500000  1704.599832  1614.212392        0.14874   \n3           1441.530000  3925.613160  1911.564582        0.21814   \n4            277.736656   197.658635   277.736656        0.07778   \n\n   void_volume [cm^3/g] functional_groups  metal_linker  organic_linker1  \\\n0                0.0607          COOH-OEt             3                4   \n1                0.1040             F-OMe            10               44   \n2                0.1262          OMe-COOH             2               22   \n3                0.2220            H-SO3H             9               17   \n4                0.0591           NHMe-OH             2                1   \n\n   organic_linker2 topology  CO2/N2_selectivity  \\\n0               11      pcu           22.864166   \n1               57      etb           33.616780   \n2               24      pcu           19.263726   \n3               24      sra           25.701377   \n4               22      pcu           30.001838   \n\n   heat_adsorption_CO2_P0.15bar_T298K [kcal/mol]  CO2_working_capacity [mL/g]  \n0                                       6.786041                   105.284502  \n1                                       7.147286                   101.224774  \n2                                       6.347967                   118.987011  \n3                                       6.190085                   187.626004  \n4                                       6.478063                    79.210001  ",
      "text/html": "<div>\n<style scoped>\n    .dataframe tbody tr th:only-of-type {\n        vertical-align: middle;\n    }\n\n    .dataframe tbody tr th {\n        vertical-align: top;\n    }\n\n    .dataframe thead th {\n        text-align: right;\n    }\n</style>\n<table border=\"1\" class=\"dataframe\">\n  <thead>\n    <tr style=\"text-align: right;\">\n      <th></th>\n      <th>MOFname</th>\n      <th>volume [A^3]</th>\n      <th>weight [u]</th>\n      <th>density [g/cm^3]</th>\n      <th>surface_area [m^2/g]</th>\n      <th>gsa</th>\n      <th>vsa</th>\n      <th>void_fraction</th>\n      <th>void_volume [cm^3/g]</th>\n      <th>functional_groups</th>\n      <th>metal_linker</th>\n      <th>organic_linker1</th>\n      <th>organic_linker2</th>\n      <th>topology</th>\n      <th>CO2/N2_selectivity</th>\n      <th>heat_adsorption_CO2_P0.15bar_T298K [kcal/mol]</th>\n      <th>CO2_working_capacity [mL/g]</th>\n    </tr>\n  </thead>\n  <tbody>\n    <tr>\n      <th>0</th>\n      <td>mof_unit_1</td>\n      <td>1116.667429</td>\n      <td>875.240600</td>\n      <td>1.301526</td>\n      <td>1139.828774</td>\n      <td>585.669052</td>\n      <td>1139.828774</td>\n      <td>0.07899</td>\n      <td>0.0607</td>\n      <td>COOH-OEt</td>\n      <td>3</td>\n      <td>4</td>\n      <td>11</td>\n      <td>pcu</td>\n      <td>22.864166</td>\n      <td>6.786041</td>\n      <td>105.284502</td>\n    </tr>\n    <tr>\n      <th>1</th>\n      <td>mof_unit_2</td>\n      <td>2769.503842</td>\n      <td>2211.697211</td>\n      <td>1.326090</td>\n      <td>603.610000</td>\n      <td>182.839127</td>\n      <td>477.993349</td>\n      <td>0.13794</td>\n      <td>0.1040</td>\n      <td>F-OMe</td>\n      <td>10</td>\n      <td>44</td>\n      <td>57</td>\n      <td>etb</td>\n      <td>33.616780</td>\n      <td>7.147286</td>\n      <td>101.224774</td>\n    </tr>\n    <tr>\n      <th>2</th>\n      <td>mof_unit_3</td>\n      <td>1089.818728</td>\n      <td>773.687960</td>\n      <td>1.178856</td>\n      <td>788.500000</td>\n      <td>1704.599832</td>\n      <td>1614.212392</td>\n      <td>0.14874</td>\n      <td>0.1262</td>\n      <td>OMe-COOH</td>\n      <td>2</td>\n      <td>22</td>\n      <td>24</td>\n      <td>pcu</td>\n      <td>19.263726</td>\n      <td>6.347967</td>\n      <td>118.987011</td>\n    </tr>\n    <tr>\n      <th>3</th>\n      <td>mof_unit_4</td>\n      <td>2205.198301</td>\n      <td>1304.638720</td>\n      <td>0.982408</td>\n      <td>1441.530000</td>\n      <td>3925.613160</td>\n      <td>1911.564582</td>\n      <td>0.21814</td>\n      <td>0.2220</td>\n      <td>H-SO3H</td>\n      <td>9</td>\n      <td>17</td>\n      <td>24</td>\n      <td>sra</td>\n      <td>25.701377</td>\n      <td>6.190085</td>\n      <td>187.626004</td>\n    </tr>\n    <tr>\n      <th>4</th>\n      <td>mof_unit_5</td>\n      <td>1137.800963</td>\n      <td>901.736120</td>\n      <td>1.316020</td>\n      <td>277.736656</td>\n      <td>197.658635</td>\n      <td>277.736656</td>\n      <td>0.07778</td>\n      <td>0.0591</td>\n      <td>NHMe-OH</td>\n      <td>2</td>\n      <td>1</td>\n      <td>22</td>\n      <td>pcu</td>\n      <td>30.001838</td>\n      <td>6.478063</td>\n      <td>79.210001</td>\n    </tr>\n  </tbody>\n</table>\n</div>"
     },
     "metadata": {}
    }
   ],
   "execution_count": null
  },
  {
   "cell_type": "code",
   "metadata": {
    "tags": [],
    "cell_id": "00009-fa74762e-18fe-4ede-aa97-ac7931b2001f",
    "deepnote_to_be_reexecuted": false,
    "source_hash": "d36b6828",
    "execution_start": 1634033598396,
    "execution_millis": 34,
    "deepnote_cell_type": "code"
   },
   "source": "for col in ['metal_linker', 'organic_linker1', 'organic_linker2']:\n    train[col] = train[col].astype('category')\ntrain.info()\n\n",
   "outputs": [
    {
     "name": "stdout",
     "text": "<class 'pandas.core.frame.DataFrame'>\nRangeIndex: 68613 entries, 0 to 68612\nData columns (total 17 columns):\n #   Column                                         Non-Null Count  Dtype   \n---  ------                                         --------------  -----   \n 0   MOFname                                        68613 non-null  object  \n 1   volume [A^3]                                   68613 non-null  float64 \n 2   weight [u]                                     68613 non-null  float64 \n 3   density [g/cm^3]                               68613 non-null  float64 \n 4   surface_area [m^2/g]                           68613 non-null  float64 \n 5   gsa                                            68613 non-null  float64 \n 6   vsa                                            68613 non-null  float64 \n 7   void_fraction                                  65683 non-null  float64 \n 8   void_volume [cm^3/g]                           65483 non-null  float64 \n 9   functional_groups                              68290 non-null  object  \n 10  metal_linker                                   68613 non-null  category\n 11  organic_linker1                                68613 non-null  category\n 12  organic_linker2                                68613 non-null  category\n 13  topology                                       68613 non-null  object  \n 14  CO2/N2_selectivity                             68613 non-null  float64 \n 15  heat_adsorption_CO2_P0.15bar_T298K [kcal/mol]  66524 non-null  float64 \n 16  CO2_working_capacity [mL/g]                    68613 non-null  float64 \ndtypes: category(3), float64(11), object(3)\nmemory usage: 7.5+ MB\n",
     "output_type": "stream"
    }
   ],
   "execution_count": null
  },
  {
   "cell_type": "code",
   "metadata": {
    "tags": [],
    "cell_id": "00010-9b1b1358-1784-4e50-b5ce-e3494b45a162",
    "deepnote_to_be_reexecuted": false,
    "source_hash": "202f9a3e",
    "execution_start": 1634033702013,
    "execution_millis": 612,
    "deepnote_cell_type": "code"
   },
   "source": "train.dropna(inplace = True)\ntrain.isnull().sum()",
   "outputs": [
    {
     "output_type": "execute_result",
     "execution_count": 5,
     "data": {
      "text/plain": "MOFname                                          0\nvolume [A^3]                                     0\nweight [u]                                       0\ndensity [g/cm^3]                                 0\nsurface_area [m^2/g]                             0\ngsa                                              0\nvsa                                              0\nvoid_fraction                                    0\nvoid_volume [cm^3/g]                             0\nfunctional_groups                                0\nmetal_linker                                     0\norganic_linker1                                  0\norganic_linker2                                  0\ntopology                                         0\nCO2/N2_selectivity                               0\nheat_adsorption_CO2_P0.15bar_T298K [kcal/mol]    0\nCO2_working_capacity [mL/g]                      0\ndtype: int64"
     },
     "metadata": {}
    }
   ],
   "execution_count": null
  },
  {
   "cell_type": "code",
   "source": "train.shape",
   "metadata": {
    "tags": [],
    "cell_id": "00005-e71672e3-6f56-441a-aa0c-029c1d199c2d",
    "deepnote_to_be_reexecuted": false,
    "source_hash": "74267d7c",
    "execution_start": 1634033715248,
    "execution_millis": 47,
    "deepnote_cell_type": "code"
   },
   "outputs": [
    {
     "output_type": "execute_result",
     "execution_count": 6,
     "data": {
      "text/plain": "(65138, 17)"
     },
     "metadata": {}
    }
   ],
   "execution_count": null
  },
  {
   "cell_type": "code",
   "metadata": {
    "tags": [],
    "cell_id": "00005-2adbf8d6-6564-48a2-a7dd-f0e3fcecd431",
    "deepnote_to_be_reexecuted": false,
    "source_hash": "f96b6f40",
    "execution_start": 1633267332149,
    "execution_millis": 6,
    "deepnote_cell_type": "code"
   },
   "source": "#train = train[train['functional_groups'] !='H']",
   "execution_count": null,
   "outputs": []
  },
  {
   "cell_type": "markdown",
   "source": "## Get smiles",
   "metadata": {
    "tags": [],
    "is_collapsed": false,
    "cell_id": "00005-413a0862-1af1-46f4-afa6-525398bdd492",
    "deepnote_cell_type": "text-cell-h2"
   }
  },
  {
   "cell_type": "code",
   "metadata": {
    "tags": [],
    "cell_id": "00026-ab05735c-59f9-4ab6-bc64-4a6c21486c07",
    "deepnote_to_be_reexecuted": false,
    "source_hash": "b3c5e9df",
    "execution_start": 1634033745794,
    "execution_millis": 14,
    "deepnote_cell_type": "code"
   },
   "source": "def split_formula(formula):\n    \"\"\"เพื่อแยกตัวประกอบจาก functional groups \"\"\"\n    list_chem = []\n    list_formula = formula.split(\"-\")\n    n = len(list_formula)\n    for f in list_formula:\n        for i in range(len(f)):\n            if f[i].isupper() == False :\n               new_f = f[i-1]+f[i]\n               list_chem.append(new_f)\n            else:\n                try:\n                    if f[i+1].isupper() == True:                \n                        list_chem.append(f[i])\n                except:\n                    list_chem.append(f[i])\n                else :\n                    pass\n\n    return list_chem\n\ndef search_dict(dict_,func,num):\n    found = \"0\"\n    for k,v in dict_.items():\n        if k == func:\n            found = v[num]\n        \n    return found\n\ndef remove_h(func_group):\n    try:\n        group = re.search(\"H[0-9]*\",func_group).group()\n        \n        func_group = func_group.replace(group,\"\")\n        \n    except:\n        pass\n    return func_group\n\ndef inside_algorithm(func,num,list_):\n    if search_dict(smiles_dict,func,0) == '0':\n            func = remove_h(func) #เอา h ออก\n            m = split_formula(func) # split ที่เหลือ\n            for i in range(len(m)):\n                if i == 0 :\n                    list_.append(search_dict(smiles_dict,m[i],0))\n                else :list_.append(search_dict(smiles_dict,m[i],1))\n    else: list_.append(smiles_dict[func][num-1])\n\ndef convert_to_smiles(smiles_dict,func_group):\n    smiles=\"\"\n    get_smiles = []\n    #splitด้วย- ขั้นตอนต่อมา เอาที่สปลิตได้ทีละตัวไปค้นหาว่ามีอยู่ในsmiles dict มั้ย ถ้ามี แทนค่า การแทนค่า ถ้าอยู่ตัวแรกใช่valueตัวที่1 ถ้าอยู่ตัวที่2ใช้valueตัวที่2 ถ้าไม่มีให้ใช้ฟังก์ชั่น split formula แยกแล้วค้นหาในdictอีกที แล้วแทนค่า ขั้นตอนสุดท้าย เอาที่แทนค่าได้ทั้งหมดมาต่อกัน\n    func_split = func_group.split('-')\n    # ครั้งที่ 1\n    inside_algorithm(func_split[0],1,get_smiles)\n    #ครั้งที่ 2 \n    try :\n        inside_algorithm(func_split[1],2,get_smiles)\n    except: pass\n    for word in get_smiles:\n        smiles+=word\n    \n    return smiles,smiles.replace(\"-\",\"\")\n",
   "outputs": [],
   "execution_count": null
  },
  {
   "cell_type": "code",
   "metadata": {
    "tags": [],
    "cell_id": "00028-fd646f95-75f3-4c47-93b0-ca83f5a2eb7f",
    "deepnote_to_be_reexecuted": false,
    "source_hash": "2f289103",
    "execution_start": 1634033750058,
    "execution_millis": 13,
    "deepnote_cell_type": "code"
   },
   "source": "#molecule to smiles\nsmiles_dict = {\n    \"N\":[\"N\",\"-N\"],\n    \"F\":[\"F-\",\"-F\"],\n    \"Cl\":[\"Cl-\",\"-Cl\"],\n    \"Br\":[\"Br-\",\"-Br\"],\n    \"I\":[\"I-\",\"-I\"],\n    \"Me\":[\"C-\",\"-C\"],\n    \"Et\":[\"CC-\",\"-CC\"],\n    \"Pr\":[\"CCC-\",\"-CCC\"],\n    \"CO\":[\"C(=O)-\",\"-C(=O)\"],\n    \"COOH\":[\"OC(=O)-\",\"-C(=O)O\"],\n    \"OH\":[\"O-\",\"-O\"],\n    \"OMe\":[\"CO-\",\"-OC\"],\n    \"OEt\":[\"CCO-\",\"-OCC\"],\n    \"OPr\":[\"CCCO-\",\"-OCCC\"],\n    \"NH2\":[\"N-\",\"-N\"],\n    \"CN\":[\"C(#N)-\",\"-C(#N)\"],\n    \"NHCH3\":[\"CN-\",\"-NC\"],\n    \"NO2\":[\"(O=)(O=)N-\",\"-N(=O)(=O)\"],\n    \"Ph\":[\"C1=CC=CC=C1-\",\"-C1=CC=CC=C1-\"],\n    \"SO2OH\":[\"OS(=O)(=O)-\",\"-S(=O)(=O)O\"],\n    \"SO3H\":[\"OS(=O)(=O)-\",\"-S(=O)(=O)O\"],\n     \"HCO\" : [\"C(=O)-\" ,\"-C(=O)\"],\n    \"NHMe\":[\"CN-\",\"-NC\"]\n}",
   "outputs": [],
   "execution_count": null
  },
  {
   "cell_type": "code",
   "metadata": {
    "tags": [],
    "cell_id": "00032-68d01456-19fc-4cb6-9367-ece4dafa2477",
    "deepnote_to_be_reexecuted": false,
    "source_hash": "95fae07b",
    "execution_start": 1634033752613,
    "execution_millis": 0,
    "deepnote_cell_type": "code"
   },
   "source": "NO2_dict = {\"H\":\"[H]\",\n    'Pr-NO2':'CCC[N+](=O)[O-]',\n'NHMe-NO2' :'CN[N+](=O)([O-])', \n'NO2-NH2' : '[N+](=O)([O-])N',\n'NO2-OH' :'[N+](=O)([O-])O',\n'NO2-I' :  '[N+](=O)([O-])I',\n'NO2-HCO' :'[N+](=O)([O-])C(=O)',\n'OMe-NO2': 'CO[N+](=O)[O-]',\n 'NO2': '[N+](=O)([O-])',\n 'NO2-Ph': '[N+](=O)([O-])C1=C(C=CC=C1)',\n 'OPr-NO2': 'CCCO[N+](=O)([O-])',\n 'Me-NO2': 'C[N+](=O)([O-])',\n 'NO2-F': '[N+](=O)([O-])F',\n 'Cl-NO2': 'Cl[N+](=O)([O-])',\n 'NO2-SO3H': '[N+](=O)([O-])S(=O)(=O)O',\n'NH2-NO2': 'N[N+](=O)([O-])',\n 'NO2-OMe': '[N+](=O)([O-])OC',\n 'F-NO2': 'F[N+](=O)([O-])',\n 'NO2-Me': '[N+](=O)([O-])C',\n 'CN-NO2': 'C(#N)[N+](=O)([O-])',\n 'Br-NO2': 'Br[N+](=O)([O-])',\n 'NO2-Br': '[N+](=O)([O-])Br',\n 'NO2-CN': '[N+](=O)([O-])C(#N)',\n 'OH-NO2': 'O[N+](=O)([O-])',\n 'NO2-Pr': '[N+](=O)([O-])CCC',\n 'H-NO2':'[N+](=O)([O-])',\n 'NO2-NHMe': '[N+](=O)([O-])NC',\n 'NO2-OPr':'[N+](=O)([O-])OCCC',\n 'Ph-NO2':'C1=C(C=CC=C1)[N+](=O)([O-])',\n 'NO2-Cl': '[N+](=O)([O-])Cl',\n 'NO2-H':'[N+](=O)([O-])',\n 'I-NO2': 'I[N+](=O)([O-])',\n 'HCO-NO2': 'C(=O)[N+](=O)([O-])',\n 'SO3H-NO2': 'OS(=O)(=O)[N+](=O)([O-])',\n 'COOH-NO2': 'OC(=O)[N+](=O)([O-])',\n 'NO2-COOH': '[N+](=O)([O-])C(=O)O',\n 'NO2-Et': '[N+](=O)([O-])CC',\n 'NO2-OEt':'[N+](=O)([O-])OCC',\n 'Et-NO2': 'CC[N+](=O)([O-])',\n 'OEt-NO2': 'CCO[N+](=O)([O-])'}",
   "outputs": [],
   "execution_count": null
  },
  {
   "cell_type": "code",
   "metadata": {
    "tags": [],
    "cell_id": "00031-4d29fb44-7b0b-4230-a1a3-e54a8e9a7860",
    "deepnote_to_be_reexecuted": false,
    "source_hash": "320968af",
    "execution_start": 1634033757737,
    "execution_millis": 6,
    "deepnote_cell_type": "code"
   },
   "source": "formula_list = train['functional_groups'].unique()\nsmiles_list = [convert_to_smiles(smiles_dict,x)[1] for x in formula_list]",
   "outputs": [],
   "execution_count": null
  },
  {
   "cell_type": "code",
   "metadata": {
    "tags": [],
    "cell_id": "00033-f52aa223-a1c9-4d90-9fa6-f2bf453862c8",
    "deepnote_to_be_reexecuted": false,
    "source_hash": "27ccd56e",
    "execution_start": 1634033763559,
    "execution_millis": 1,
    "deepnote_cell_type": "code"
   },
   "source": "for i,formula in enumerate(formula_list):\n    for k,v in NO2_dict.items():\n        if formula == k:\n            smiles_list[i] = v\n",
   "outputs": [],
   "execution_count": null
  },
  {
   "cell_type": "code",
   "metadata": {
    "tags": [],
    "cell_id": "00032-231fbfe1-193d-44f3-8e83-20b89f7e9946",
    "deepnote_to_be_reexecuted": false,
    "source_hash": "4acef49",
    "execution_start": 1634033768134,
    "execution_millis": 0,
    "deepnote_cell_type": "code"
   },
   "source": "functional_groups_dict = dict(zip(formula_list, smiles_list))",
   "outputs": [],
   "execution_count": null
  },
  {
   "cell_type": "code",
   "source": "functional_groups_dict",
   "metadata": {
    "tags": [],
    "cell_id": "00014-338c413e-6705-4ca6-82a9-6adce4d72282",
    "deepnote_to_be_reexecuted": false,
    "source_hash": "40ece550",
    "execution_start": 1634033783781,
    "execution_millis": 46,
    "deepnote_cell_type": "code"
   },
   "outputs": [
    {
     "output_type": "execute_result",
     "execution_count": 13,
     "data": {
      "text/plain": "{'COOH-OEt': 'OC(=O)OCC',\n 'F-OMe': 'FOC',\n 'OMe-COOH': 'COC(=O)O',\n 'H-SO3H': 'S(=O)(=O)O',\n 'NHMe-OH': 'CNO',\n 'Pr-NO2': 'CCC[N+](=O)[O-]',\n 'NH2': 'N',\n 'Br': 'Br',\n 'HCO': 'C(=O)',\n 'SO3H': 'OS(=O)(=O)',\n 'Me-Br': 'CBr',\n 'NHMe-NO2': 'CN[N+](=O)([O-])',\n 'OEt-CN': 'CCOC(#N)',\n 'OMe-NH2': 'CON',\n 'Cl-Pr': 'ClCCC',\n 'Me-F': 'CF',\n 'SO3H-Pr': 'OS(=O)(=O)CCC',\n 'CN': 'C(#N)',\n 'H-Cl': 'Cl',\n 'COOH-OH': 'OC(=O)O',\n 'Et-OH': 'CCO',\n 'OH-Pr': 'OCCC',\n 'SO3H-COOH': 'OS(=O)(=O)C(=O)O',\n 'OEt-H': 'CCO',\n 'SO3H-OEt': 'OS(=O)(=O)OCC',\n 'OMe': 'CO',\n 'Et-Br': 'CCBr',\n 'OH-F': 'OF',\n 'NO2-NH2': '[N+](=O)([O-])N',\n 'NHMe-Me': 'CNC',\n 'OPr-SO3H': 'CCCOS(=O)(=O)O',\n 'Ph-Me': 'C1=CC=CC=C1C',\n 'Me': 'C',\n 'OPr-Br': 'CCCOBr',\n 'COOH-Me': 'OC(=O)C',\n 'F': 'F',\n 'NO2-OH': '[N+](=O)([O-])O',\n 'Ph': 'C1=CC=CC=C1',\n 'OH': 'O',\n 'HCO-SO3H': 'C(=O)S(=O)(=O)O',\n 'Cl-HCO': 'ClC(=O)',\n 'OPr': 'CCCO',\n 'NHMe': 'CN',\n 'H-COOH': 'C(=O)O',\n 'Cl-OPr': 'ClOCCC',\n 'COOH-Cl': 'OC(=O)Cl',\n 'NH2-OMe': 'NOC',\n 'Pr-SO3H': 'CCCS(=O)(=O)O',\n 'H-F': 'F',\n 'NO2-I': '[N+](=O)([O-])I',\n 'OEt': 'CCO',\n 'OMe-NHMe': 'CONC',\n 'F-Me': 'FC',\n 'Br-Cl': 'BrCl',\n 'I': 'I',\n 'NO2-HCO': '[N+](=O)([O-])C(=O)',\n 'HCO-OEt': 'C(=O)OCC',\n 'SO3H-HCO': 'OS(=O)(=O)C(=O)',\n 'I-SO3H': 'IS(=O)(=O)O',\n 'Cl-COOH': 'ClC(=O)O',\n 'Et': 'CC',\n 'HCO-H': 'C(=O)',\n 'OMe-NO2': 'CO[N+](=O)[O-]',\n 'OH-OEt': 'OOCC',\n 'NO2': '[N+](=O)([O-])',\n 'NO2-Ph': '[N+](=O)([O-])C1=C(C=CC=C1)',\n 'HCO-OMe': 'C(=O)OC',\n 'Pr': 'CCC',\n 'Pr-HCO': 'CCCC(=O)',\n 'HCO-CN': 'C(=O)C(#N)',\n 'Me-COOH': 'CC(=O)O',\n 'Pr-OH': 'CCCO',\n 'NHMe-OMe': 'CNOC',\n 'OEt-Cl': 'CCOCl',\n 'Ph-Cl': 'C1=CC=CC=C1Cl',\n 'OPr-F': 'CCCOF',\n 'OH-Cl': 'OCl',\n 'I-OPr': 'IOCCC',\n 'Cl-CN': 'ClC(#N)',\n 'OMe-OEt': 'COOCC',\n 'Cl-F': 'ClF',\n 'OEt-HCO': 'CCOC(=O)',\n 'Et-I': 'CCI',\n 'H-NH2': 'N',\n 'I-COOH': 'IC(=O)O',\n 'COOH-SO3H': 'OC(=O)S(=O)(=O)O',\n 'Me-CN': 'CC(#N)',\n 'OMe-HCO': 'COC(=O)',\n 'OMe-Pr': 'COCCC',\n 'OH-HCO': 'OC(=O)',\n 'F-HCO': 'FC(=O)',\n 'NHMe-Pr': 'CNCCC',\n 'Me-OH': 'CO',\n 'Ph-HCO': 'C1=CC=CC=C1C(=O)',\n 'HCO-OH': 'C(=O)O',\n 'Br-HCO': 'BrC(=O)',\n 'OMe-Et': 'COCC',\n 'H-HCO': 'C(=O)',\n 'OH-NHMe': 'ONC',\n 'H': '[H]',\n 'NHMe-NH2': 'CNN',\n 'SO3H-I': 'OS(=O)(=O)I',\n 'F-OPr': 'FOCCC',\n 'OEt-F': 'CCOF',\n 'OPr-NO2': 'CCCO[N+](=O)([O-])',\n 'NH2-OPr': 'NOCCC',\n 'Me-NO2': 'C[N+](=O)([O-])',\n 'Me-Cl': 'CCl',\n 'NH2-F': 'NF',\n 'Ph-OEt': 'C1=CC=CC=C1OCC',\n 'Me-Et': 'CCC',\n 'SO3H-OMe': 'OS(=O)(=O)OC',\n 'NHMe-Br': 'CNBr',\n 'Ph-COOH': 'C1=CC=CC=C1C(=O)O',\n 'H-OMe': 'OC',\n 'NO2-F': '[N+](=O)([O-])F',\n 'OPr-NH2': 'CCCON',\n 'SO3H-Cl': 'OS(=O)(=O)Cl',\n 'OEt-NHMe': 'CCONC',\n 'I-CN': 'IC(#N)',\n 'H-OEt': 'OCC',\n 'CN-Et': 'C(#N)CC',\n 'Br-Me': 'BrC',\n 'OMe-OH': 'COO',\n 'Ph-OMe': 'C1=CC=CC=C1OC',\n 'OEt-I': 'CCOI',\n 'NH2-H': 'N',\n 'Me-NHMe': 'CNC',\n 'SO3H-F': 'OS(=O)(=O)F',\n 'OH-Me': 'OC',\n 'Br-SO3H': 'BrS(=O)(=O)O',\n 'NHMe-Et': 'CNCC',\n 'F-Cl': 'FCl',\n 'COOH-OPr': 'OC(=O)OCCC',\n 'Me-OEt': 'COCC',\n 'Et-OMe': 'CCOC',\n 'Cl-NO2': 'Cl[N+](=O)([O-])',\n 'Br-I': 'BrI',\n 'SO3H-Br': 'OS(=O)(=O)Br',\n 'Pr-Me': 'CCCC',\n 'OEt-OPr': 'CCOOCCC',\n 'HCO-NH2': 'C(=O)N',\n 'OPr-OMe': 'CCCOOC',\n 'COOH-NHMe': 'OC(=O)NC',\n 'Br-COOH': 'BrC(=O)O',\n 'COOH': 'OC(=O)',\n 'NH2-NHMe': 'NNC',\n 'HCO-Br': 'C(=O)Br',\n 'SO3H-OPr': 'OS(=O)(=O)OCCC',\n 'NO2-SO3H': '[N+](=O)([O-])S(=O)(=O)O',\n 'NH2-NO2': 'N[N+](=O)([O-])',\n 'CN-HCO': 'C(#N)C(=O)',\n 'CN-Me': 'C(#N)C',\n 'Cl': 'Cl',\n 'CN-OPr': 'C(#N)OCCC',\n 'Pr-NHMe': 'CCCNC',\n 'F-Br': 'FBr',\n 'OEt-OH': 'CCOO',\n 'I-Br': 'IBr',\n 'NO2-OMe': '[N+](=O)([O-])OC',\n 'COOH-NH2': 'OC(=O)N',\n 'F-NO2': 'F[N+](=O)([O-])',\n 'Et-F': 'CCF',\n 'COOH-HCO': 'OC(=O)C(=O)',\n 'OMe-H': 'CO',\n 'SO3H-NHMe': 'OS(=O)(=O)NC',\n 'Br-OH': 'BrO',\n 'CN-OEt': 'C(#N)OCC',\n 'Pr-H': 'CCC',\n 'CN-NO2': 'C(#N)[N+](=O)([O-])',\n 'HCO-I': 'C(=O)I',\n 'OMe-Cl': 'COCl',\n 'H-I': 'I',\n 'Pr-OMe': 'CCCOC',\n 'Br-NHMe': 'BrNC',\n 'NH2-OH': 'NO',\n 'Pr-F': 'CCCF',\n 'Br-NO2': 'Br[N+](=O)([O-])',\n 'Et-COOH': 'CCC(=O)O',\n 'F-Et': 'FCC',\n 'H-Br': 'Br',\n 'Cl-SO3H': 'ClS(=O)(=O)O',\n 'Me-I': 'CI',\n 'OEt-OMe': 'CCOOC',\n 'H-OPr': 'OCCC',\n 'HCO-Me': 'C(=O)C',\n 'NH2-HCO': 'NC(=O)',\n 'Et-OEt': 'CCOCC',\n 'H-CN': 'C(#N)',\n 'F-H': 'F',\n 'I-Et': 'ICC',\n 'Cl-H': 'Cl',\n 'Cl-Et': 'ClCC',\n 'Et-SO3H': 'CCS(=O)(=O)O',\n 'OPr-CN': 'CCCOC(#N)',\n 'Et-OPr': 'CCOCCC',\n 'OPr-NHMe': 'CCCONC',\n 'OH-H': 'O',\n 'CN-I': 'C(#N)I',\n 'NO2-Br': '[N+](=O)([O-])Br',\n 'Me-OMe': 'COC',\n 'COOH-H': 'OC(=O)',\n 'OH-OMe': 'OOC',\n 'I-Ph': 'IC1=CC=CC=C1',\n 'OMe-OPr': 'COOCCC',\n 'OPr-Cl': 'CCCOCl',\n 'CN-H': 'C(#N)',\n 'NHMe-F': 'CNF',\n 'COOH-Pr': 'OC(=O)CCC',\n 'Br-Et': 'BrCC',\n 'CN-Ph': 'C(#N)C1=CC=CC=C1',\n 'F-Pr': 'FCCC',\n 'OEt-Me': 'CCOC',\n 'CN-Br': 'C(#N)Br',\n 'Br-H': 'Br',\n 'Ph-H': 'C1=CC=CC=C1',\n 'SO3H-CN': 'OS(=O)(=O)C(#N)',\n 'NH2-Pr': 'NCCC',\n 'F-OEt': 'FOCC',\n 'COOH-OMe': 'OC(=O)OC',\n 'NHMe-I': 'CNI',\n 'SO3H-NH2': 'OS(=O)(=O)N',\n 'COOH-F': 'OC(=O)F',\n 'HCO-Cl': 'C(=O)Cl',\n 'CN-NH2': 'C(#N)N',\n 'OMe-Br': 'COBr',\n 'SO3H-OH': 'OS(=O)(=O)O',\n 'Ph-NH2': 'C1=CC=CC=C1N',\n 'HCO-OPr': 'C(=O)OCCC',\n 'Et-Me': 'CCC',\n 'CN-OH': 'C(#N)O',\n 'Et-NH2': 'CCN',\n 'F-NHMe': 'FNC',\n 'F-NH2': 'FN',\n 'NO2-CN': '[N+](=O)([O-])C(#N)',\n 'CN-OMe': 'C(#N)OC',\n 'NH2-Br': 'NBr',\n 'Br-OMe': 'BrOC',\n 'Ph-I': 'C1=CC=CC=C1I',\n 'OMe-F': 'COF',\n 'OH-NO2': 'O[N+](=O)([O-])',\n 'OMe-SO3H': 'COS(=O)(=O)O',\n 'OH-CN': 'OC(#N)',\n 'H-OH': 'O',\n 'OPr-OEt': 'CCCOOCC',\n 'OH-Br': 'OBr',\n 'NO2-Pr': '[N+](=O)([O-])CCC',\n 'Ph-OH': 'C1=CC=CC=C1O',\n 'HCO-Pr': 'C(=O)CCC',\n 'Pr-COOH': 'CCCC(=O)O',\n 'OH-OPr': 'OOCCC',\n 'HCO-COOH': 'C(=O)C(=O)O',\n 'NHMe-H': 'CN',\n 'Me-NH2': 'CN',\n 'Cl-OH': 'ClO',\n 'NH2-COOH': 'NC(=O)O',\n 'NHMe-SO3H': 'CNS(=O)(=O)O',\n 'OMe-CN': 'COC(#N)',\n 'Br-F': 'BrF',\n 'Cl-I': 'ClI',\n 'Cl-OMe': 'ClOC',\n 'OH-Et': 'OCC',\n 'NH2-I': 'NI',\n 'HCO-F': 'C(=O)F',\n 'H-NO2': '[N+](=O)([O-])',\n 'Cl-NH2': 'ClN',\n 'Pr-OEt': 'CCCOCC',\n 'NHMe-Cl': 'CNCl',\n 'H-Me': 'C',\n 'Br-NH2': 'BrN',\n 'H-NHMe': 'NC',\n 'OPr-HCO': 'CCCOC(=O)',\n 'Br-Ph': 'BrC1=CC=CC=C1',\n 'F-COOH': 'FC(=O)O',\n 'NO2-OPr': '[N+](=O)([O-])OCCC',\n 'I-Pr': 'ICCC',\n 'F-OH': 'FO',\n 'Ph-NO2': 'C1=C(C=CC=C1)[N+](=O)([O-])',\n 'I-F': 'IF',\n 'COOH-CN': 'OC(=O)C(#N)',\n 'H-Et': 'CC',\n 'I-OH': 'IO',\n 'OH-I': 'OI',\n 'OPr-I': 'CCCOI',\n 'HCO-NHMe': 'C(=O)NC',\n 'Me-Pr': 'CCCC',\n 'NH2-CN': 'NC(#N)',\n 'NHMe-CN': 'CNC(#N)',\n 'Pr-NH2': 'CCCN',\n 'NO2-Cl': '[N+](=O)([O-])Cl',\n 'Br-CN': 'BrC(#N)',\n 'Pr-I': 'CCCI',\n 'COOH-Et': 'OC(=O)CC',\n 'I-H': 'I',\n 'OEt-COOH': 'CCOC(=O)O',\n 'NO2-H': '[N+](=O)([O-])',\n 'CN-COOH': 'C(#N)C(=O)O',\n 'NH2-OEt': 'NOCC',\n 'Et-Pr': 'CCCCC',\n 'SO3H-H': 'OS(=O)(=O)',\n 'Et-HCO': 'CCC(=O)',\n 'F-Ph': 'FC1=CC=CC=C1',\n 'NHMe-HCO': 'CNC(=O)',\n 'OH-COOH': 'OC(=O)O',\n 'I-NO2': 'I[N+](=O)([O-])',\n 'OMe-Me': 'COC',\n 'OEt-Et': 'CCOCC',\n 'Ph-F': 'C1=CC=CC=C1F',\n 'Br-OPr': 'BrOCCC',\n 'OPr-OH': 'CCCOO',\n 'COOH-I': 'OC(=O)I',\n 'HCO-NO2': 'C(=O)[N+](=O)([O-])',\n 'Me-OPr': 'COCCC',\n 'Cl-Me': 'ClC',\n 'Cl-Ph': 'ClC1=CC=CC=C1',\n 'NH2-Et': 'NCC',\n 'OH-SO3H': 'OS(=O)(=O)O',\n 'H-Ph': 'C1=CC=CC=C1',\n 'NH2-Me': 'NC',\n 'Ph-Br': 'C1=CC=CC=C1Br',\n 'NH2-Cl': 'NCl',\n 'OPr-Ph': 'CCCOC1=CC=CC=C1',\n 'NHMe-COOH': 'CNC(=O)O',\n 'Cl-OEt': 'ClOCC',\n 'Br-Pr': 'BrCCC',\n 'Cl-Br': 'ClBr',\n 'I-HCO': 'IC(=O)',\n 'Ph-OPr': 'C1=CC=CC=C1OCCC',\n 'I-Me': 'IC',\n 'I-OMe': 'IOC',\n 'SO3H-NO2': 'OS(=O)(=O)[N+](=O)([O-])',\n 'OPr-Me': 'CCCOC',\n 'CN-NHMe': 'C(#N)NC',\n 'COOH-NO2': 'OC(=O)[N+](=O)([O-])',\n 'CN-SO3H': 'C(#N)S(=O)(=O)O',\n 'I-Cl': 'ICl',\n 'NH2-SO3H': 'NS(=O)(=O)O',\n 'Pr-OPr': 'CCCOCCC',\n 'COOH-Br': 'OC(=O)Br',\n 'OEt-Br': 'CCOBr',\n 'NO2-Me': '[N+](=O)([O-])C',\n 'NO2-COOH': '[N+](=O)([O-])C(=O)O',\n 'Me-HCO': 'CC(=O)',\n 'OH-NH2': 'ON',\n 'Et-H': 'CC',\n 'NO2-Et': '[N+](=O)([O-])CC',\n 'SO3H-Me': 'OS(=O)(=O)C',\n 'I-NHMe': 'INC',\n 'Et-CN': 'CCC(#N)',\n 'OPr-COOH': 'CCCOC(=O)O',\n 'NO2-NHMe': '[N+](=O)([O-])NC',\n 'H-Pr': 'CCC',\n 'NO2-OEt': '[N+](=O)([O-])OCC',\n 'Pr-CN': 'CCCC(#N)',\n 'SO3H-Et': 'OS(=O)(=O)CC',\n 'CN-F': 'C(#N)F',\n 'Pr-Br': 'CCCBr',\n 'Me-SO3H': 'CS(=O)(=O)O',\n 'HCO-Ph': 'C(=O)C1=CC=CC=C1',\n 'Me-H': 'C',\n 'Ph-Pr': 'C1=CC=CC=C1CCC',\n 'Ph-SO3H': 'C1=CC=CC=C1S(=O)(=O)O',\n 'Et-NO2': 'CC[N+](=O)([O-])',\n 'I-OEt': 'IOCC',\n 'OPr-H': 'CCCO',\n 'NH2-Ph': 'NC1=CC=CC=C1',\n 'NHMe-Ph': 'CNC1=CC=CC=C1',\n 'Cl-NHMe': 'ClNC',\n 'F-I': 'FI',\n 'OEt-NO2': 'CCO[N+](=O)([O-])',\n 'OPr-Pr': 'CCCOCCC',\n 'F-SO3H': 'FS(=O)(=O)O',\n 'Et-NHMe': 'CCNC',\n 'OH-Ph': 'OC1=CC=CC=C1',\n 'Et-Cl': 'CCCl',\n 'OMe-Ph': 'COC1=CC=CC=C1',\n 'Ph-CN': 'C1=CC=CC=C1C(#N)',\n 'Pr-Et': 'CCCCC',\n 'OMe-I': 'COI',\n 'HCO-Et': 'C(=O)CC',\n 'OEt-Pr': 'CCOCCC',\n 'Ph-NHMe': 'C1=CC=CC=C1NC',\n 'OPr-Et': 'CCCOCC',\n 'OEt-SO3H': 'CCOS(=O)(=O)O',\n 'CN-Cl': 'C(#N)Cl',\n 'F-CN': 'FC(#N)',\n 'Pr-Cl': 'CCCCl',\n 'NHMe-OPr': 'CNOCCC',\n 'OEt-NH2': 'CCON',\n 'COOH-Ph': 'OC(=O)C1=CC=CC=C1',\n 'SO3H-Ph': 'OS(=O)(=O)C1=CC=CC=C1',\n 'NHMe-OEt': 'CNOCC',\n 'OEt-Ph': 'CCOC1=CC=CC=C1',\n 'Ph-Et': 'C1=CC=CC=C1CC',\n 'Pr-Ph': 'CCCC1=CC=CC=C1',\n 'I-NH2': 'IN',\n 'Br-OEt': 'BrOCC',\n 'Me-Ph': 'CC1=CC=CC=C1',\n 'Et-Ph': 'CCC1=CC=CC=C1',\n 'CN-Pr': 'C(#N)CCC'}"
     },
     "metadata": {}
    }
   ],
   "execution_count": null
  },
  {
   "cell_type": "code",
   "metadata": {
    "tags": [],
    "cell_id": "00036-78777308-1a65-4f52-bd0f-f46af96f2b20",
    "deepnote_to_be_reexecuted": false,
    "source_hash": "902f38ee",
    "execution_start": 1634033802634,
    "execution_millis": 6,
    "deepnote_cell_type": "code"
   },
   "source": "smiles =[functional_groups_dict[formula] for formula in train['functional_groups']]\ntrain.insert(7, 'smiles', smiles)",
   "outputs": [],
   "execution_count": null
  },
  {
   "cell_type": "code",
   "metadata": {
    "tags": [],
    "cell_id": "00036-4c3f048e-6014-47e2-a7b7-6e0b7df8fa91",
    "deepnote_to_be_reexecuted": false,
    "source_hash": "e1f0b45",
    "execution_start": 1634033805925,
    "execution_millis": 119,
    "deepnote_cell_type": "code"
   },
   "source": "train.head()",
   "outputs": [
    {
     "output_type": "execute_result",
     "execution_count": 15,
     "data": {
      "application/vnd.deepnote.dataframe.v2+json": {
       "row_count": 5,
       "column_count": 18,
       "columns": [
        {
         "name": "MOFname",
         "dtype": "object",
         "stats": {
          "unique_count": 5,
          "nan_count": 0,
          "categories": [
           {
            "name": "mof_unit_1",
            "count": 1
           },
           {
            "name": "mof_unit_2",
            "count": 1
           },
           {
            "name": "3 others",
            "count": 3
           }
          ]
         }
        },
        {
         "name": "volume [A^3]",
         "dtype": "float64",
         "stats": {
          "unique_count": 5,
          "nan_count": 0,
          "min": "1089.818728",
          "max": "2769.503842",
          "histogram": [
           {
            "bin_start": 1089.818728,
            "bin_end": 1257.7872394,
            "count": 3
           },
           {
            "bin_start": 1257.7872394,
            "bin_end": 1425.7557508,
            "count": 0
           },
           {
            "bin_start": 1425.7557508,
            "bin_end": 1593.7242621999999,
            "count": 0
           },
           {
            "bin_start": 1593.7242621999999,
            "bin_end": 1761.6927736,
            "count": 0
           },
           {
            "bin_start": 1761.6927736,
            "bin_end": 1929.6612850000001,
            "count": 0
           },
           {
            "bin_start": 1929.6612850000001,
            "bin_end": 2097.6297964,
            "count": 0
           },
           {
            "bin_start": 2097.6297964,
            "bin_end": 2265.5983078,
            "count": 1
           },
           {
            "bin_start": 2265.5983078,
            "bin_end": 2433.5668192000003,
            "count": 0
           },
           {
            "bin_start": 2433.5668192000003,
            "bin_end": 2601.5353305999997,
            "count": 0
           },
           {
            "bin_start": 2601.5353305999997,
            "bin_end": 2769.503842,
            "count": 1
           }
          ]
         }
        },
        {
         "name": "weight [u]",
         "dtype": "float64",
         "stats": {
          "unique_count": 5,
          "nan_count": 0,
          "min": "773.68796",
          "max": "2211.697211",
          "histogram": [
           {
            "bin_start": 773.68796,
            "bin_end": 917.4888851000001,
            "count": 3
           },
           {
            "bin_start": 917.4888851000001,
            "bin_end": 1061.2898102,
            "count": 0
           },
           {
            "bin_start": 1061.2898102,
            "bin_end": 1205.0907353,
            "count": 0
           },
           {
            "bin_start": 1205.0907353,
            "bin_end": 1348.8916604,
            "count": 1
           },
           {
            "bin_start": 1348.8916604,
            "bin_end": 1492.6925855000002,
            "count": 0
           },
           {
            "bin_start": 1492.6925855000002,
            "bin_end": 1636.4935106000003,
            "count": 0
           },
           {
            "bin_start": 1636.4935106000003,
            "bin_end": 1780.2944357000001,
            "count": 0
           },
           {
            "bin_start": 1780.2944357000001,
            "bin_end": 1924.0953608000002,
            "count": 0
           },
           {
            "bin_start": 1924.0953608000002,
            "bin_end": 2067.8962859000003,
            "count": 0
           },
           {
            "bin_start": 2067.8962859000003,
            "bin_end": 2211.697211,
            "count": 1
           }
          ]
         }
        },
        {
         "name": "density [g/cm^3]",
         "dtype": "float64",
         "stats": {
          "unique_count": 5,
          "nan_count": 0,
          "min": "0.982408148567134",
          "max": "1.3260901216521728",
          "histogram": [
           {
            "bin_start": 0.982408148567134,
            "bin_end": 1.0167763458756378,
            "count": 1
           },
           {
            "bin_start": 1.0167763458756378,
            "bin_end": 1.0511445431841417,
            "count": 0
           },
           {
            "bin_start": 1.0511445431841417,
            "bin_end": 1.0855127404926457,
            "count": 0
           },
           {
            "bin_start": 1.0855127404926457,
            "bin_end": 1.1198809378011494,
            "count": 0
           },
           {
            "bin_start": 1.1198809378011494,
            "bin_end": 1.1542491351096533,
            "count": 0
           },
           {
            "bin_start": 1.1542491351096533,
            "bin_end": 1.1886173324181573,
            "count": 1
           },
           {
            "bin_start": 1.1886173324181573,
            "bin_end": 1.2229855297266612,
            "count": 0
           },
           {
            "bin_start": 1.2229855297266612,
            "bin_end": 1.2573537270351651,
            "count": 0
           },
           {
            "bin_start": 1.2573537270351651,
            "bin_end": 1.2917219243436688,
            "count": 0
           },
           {
            "bin_start": 1.2917219243436688,
            "bin_end": 1.3260901216521728,
            "count": 3
           }
          ]
         }
        },
        {
         "name": "surface_area [m^2/g]",
         "dtype": "float64",
         "stats": {
          "unique_count": 5,
          "nan_count": 0,
          "min": "277.7366563490379",
          "max": "1441.53",
          "histogram": [
           {
            "bin_start": 277.7366563490379,
            "bin_end": 394.1159907141341,
            "count": 1
           },
           {
            "bin_start": 394.1159907141341,
            "bin_end": 510.49532507923027,
            "count": 0
           },
           {
            "bin_start": 510.49532507923027,
            "bin_end": 626.8746594443264,
            "count": 1
           },
           {
            "bin_start": 626.8746594443264,
            "bin_end": 743.2539938094227,
            "count": 0
           },
           {
            "bin_start": 743.2539938094227,
            "bin_end": 859.633328174519,
            "count": 1
           },
           {
            "bin_start": 859.633328174519,
            "bin_end": 976.0126625396151,
            "count": 0
           },
           {
            "bin_start": 976.0126625396151,
            "bin_end": 1092.3919969047113,
            "count": 0
           },
           {
            "bin_start": 1092.3919969047113,
            "bin_end": 1208.7713312698074,
            "count": 1
           },
           {
            "bin_start": 1208.7713312698074,
            "bin_end": 1325.1506656349038,
            "count": 0
           },
           {
            "bin_start": 1325.1506656349038,
            "bin_end": 1441.53,
            "count": 1
           }
          ]
         }
        },
        {
         "name": "gsa",
         "dtype": "float64",
         "stats": {
          "unique_count": 5,
          "nan_count": 0,
          "min": "182.8391274724127",
          "max": "3925.613159996791",
          "histogram": [
           {
            "bin_start": 182.8391274724127,
            "bin_end": 557.1165307248506,
            "count": 2
           },
           {
            "bin_start": 557.1165307248506,
            "bin_end": 931.3939339772885,
            "count": 1
           },
           {
            "bin_start": 931.3939339772885,
            "bin_end": 1305.6713372297263,
            "count": 0
           },
           {
            "bin_start": 1305.6713372297263,
            "bin_end": 1679.948740482164,
            "count": 0
           },
           {
            "bin_start": 1679.948740482164,
            "bin_end": 2054.226143734602,
            "count": 1
           },
           {
            "bin_start": 2054.226143734602,
            "bin_end": 2428.50354698704,
            "count": 0
           },
           {
            "bin_start": 2428.50354698704,
            "bin_end": 2802.7809502394775,
            "count": 0
           },
           {
            "bin_start": 2802.7809502394775,
            "bin_end": 3177.0583534919156,
            "count": 0
           },
           {
            "bin_start": 3177.0583534919156,
            "bin_end": 3551.3357567443536,
            "count": 0
           },
           {
            "bin_start": 3551.3357567443536,
            "bin_end": 3925.613159996791,
            "count": 1
           }
          ]
         }
        },
        {
         "name": "vsa",
         "dtype": "float64",
         "stats": {
          "unique_count": 5,
          "nan_count": 0,
          "min": "277.7366563490379",
          "max": "1911.5645822690333",
          "histogram": [
           {
            "bin_start": 277.7366563490379,
            "bin_end": 441.11944894103743,
            "count": 1
           },
           {
            "bin_start": 441.11944894103743,
            "bin_end": 604.502241533037,
            "count": 1
           },
           {
            "bin_start": 604.502241533037,
            "bin_end": 767.8850341250366,
            "count": 0
           },
           {
            "bin_start": 767.8850341250366,
            "bin_end": 931.2678267170361,
            "count": 0
           },
           {
            "bin_start": 931.2678267170361,
            "bin_end": 1094.6506193090356,
            "count": 0
           },
           {
            "bin_start": 1094.6506193090356,
            "bin_end": 1258.0334119010352,
            "count": 1
           },
           {
            "bin_start": 1258.0334119010352,
            "bin_end": 1421.4162044930347,
            "count": 0
           },
           {
            "bin_start": 1421.4162044930347,
            "bin_end": 1584.7989970850342,
            "count": 0
           },
           {
            "bin_start": 1584.7989970850342,
            "bin_end": 1748.1817896770337,
            "count": 1
           },
           {
            "bin_start": 1748.1817896770337,
            "bin_end": 1911.5645822690333,
            "count": 1
           }
          ]
         }
        },
        {
         "name": "smiles",
         "dtype": "object",
         "stats": {
          "unique_count": 5,
          "nan_count": 0,
          "categories": [
           {
            "name": "OC(=O)OCC",
            "count": 1
           },
           {
            "name": "FOC",
            "count": 1
           },
           {
            "name": "3 others",
            "count": 3
           }
          ]
         }
        },
        {
         "name": "void_fraction",
         "dtype": "float64",
         "stats": {
          "unique_count": 5,
          "nan_count": 0,
          "min": "0.07778",
          "max": "0.21814",
          "histogram": [
           {
            "bin_start": 0.07778,
            "bin_end": 0.091816,
            "count": 2
           },
           {
            "bin_start": 0.091816,
            "bin_end": 0.105852,
            "count": 0
           },
           {
            "bin_start": 0.105852,
            "bin_end": 0.119888,
            "count": 0
           },
           {
            "bin_start": 0.119888,
            "bin_end": 0.133924,
            "count": 0
           },
           {
            "bin_start": 0.133924,
            "bin_end": 0.14795999999999998,
            "count": 1
           },
           {
            "bin_start": 0.14795999999999998,
            "bin_end": 0.16199599999999997,
            "count": 1
           },
           {
            "bin_start": 0.16199599999999997,
            "bin_end": 0.176032,
            "count": 0
           },
           {
            "bin_start": 0.176032,
            "bin_end": 0.190068,
            "count": 0
           },
           {
            "bin_start": 0.190068,
            "bin_end": 0.204104,
            "count": 0
           },
           {
            "bin_start": 0.204104,
            "bin_end": 0.21814,
            "count": 1
           }
          ]
         }
        },
        {
         "name": "void_volume [cm^3/g]",
         "dtype": "float64",
         "stats": {
          "unique_count": 5,
          "nan_count": 0,
          "min": "0.0591",
          "max": "0.222",
          "histogram": [
           {
            "bin_start": 0.0591,
            "bin_end": 0.07539,
            "count": 2
           },
           {
            "bin_start": 0.07539,
            "bin_end": 0.09168,
            "count": 0
           },
           {
            "bin_start": 0.09168,
            "bin_end": 0.10797,
            "count": 1
           },
           {
            "bin_start": 0.10797,
            "bin_end": 0.12426,
            "count": 0
           },
           {
            "bin_start": 0.12426,
            "bin_end": 0.14055,
            "count": 1
           },
           {
            "bin_start": 0.14055,
            "bin_end": 0.15683999999999998,
            "count": 0
           },
           {
            "bin_start": 0.15683999999999998,
            "bin_end": 0.17313,
            "count": 0
           },
           {
            "bin_start": 0.17313,
            "bin_end": 0.18941999999999998,
            "count": 0
           },
           {
            "bin_start": 0.18941999999999998,
            "bin_end": 0.20571,
            "count": 0
           },
           {
            "bin_start": 0.20571,
            "bin_end": 0.222,
            "count": 1
           }
          ]
         }
        },
        {
         "name": "functional_groups",
         "dtype": "object",
         "stats": {
          "unique_count": 5,
          "nan_count": 0,
          "categories": [
           {
            "name": "COOH-OEt",
            "count": 1
           },
           {
            "name": "F-OMe",
            "count": 1
           },
           {
            "name": "3 others",
            "count": 3
           }
          ]
         }
        },
        {
         "name": "metal_linker",
         "dtype": "category",
         "stats": {
          "unique_count": 4,
          "nan_count": 0,
          "categories": [
           {
            "name": "2",
            "count": 2
           },
           {
            "name": "3",
            "count": 1
           },
           {
            "name": "2 others",
            "count": 2
           }
          ]
         }
        },
        {
         "name": "organic_linker1",
         "dtype": "category",
         "stats": {
          "unique_count": 5,
          "nan_count": 0,
          "categories": [
           {
            "name": "4",
            "count": 1
           },
           {
            "name": "44",
            "count": 1
           },
           {
            "name": "3 others",
            "count": 3
           }
          ]
         }
        },
        {
         "name": "organic_linker2",
         "dtype": "category",
         "stats": {
          "unique_count": 4,
          "nan_count": 0,
          "categories": [
           {
            "name": "24",
            "count": 2
           },
           {
            "name": "11",
            "count": 1
           },
           {
            "name": "2 others",
            "count": 2
           }
          ]
         }
        },
        {
         "name": "topology",
         "dtype": "object",
         "stats": {
          "unique_count": 3,
          "nan_count": 0,
          "categories": [
           {
            "name": "pcu",
            "count": 3
           },
           {
            "name": "etb",
            "count": 1
           },
           {
            "name": "sra",
            "count": 1
           }
          ]
         }
        },
        {
         "name": "CO2/N2_selectivity",
         "dtype": "float64",
         "stats": {
          "unique_count": 5,
          "nan_count": 0,
          "min": "19.26372569",
          "max": "33.61678033",
          "histogram": [
           {
            "bin_start": 19.26372569,
            "bin_end": 20.699031154,
            "count": 1
           },
           {
            "bin_start": 20.699031154,
            "bin_end": 22.134336618,
            "count": 0
           },
           {
            "bin_start": 22.134336618,
            "bin_end": 23.569642082,
            "count": 1
           },
           {
            "bin_start": 23.569642082,
            "bin_end": 25.004947546,
            "count": 0
           },
           {
            "bin_start": 25.004947546,
            "bin_end": 26.44025301,
            "count": 1
           },
           {
            "bin_start": 26.44025301,
            "bin_end": 27.875558473999998,
            "count": 0
           },
           {
            "bin_start": 27.875558473999998,
            "bin_end": 29.310863937999997,
            "count": 0
           },
           {
            "bin_start": 29.310863937999997,
            "bin_end": 30.746169402,
            "count": 1
           },
           {
            "bin_start": 30.746169402,
            "bin_end": 32.181474865999995,
            "count": 0
           },
           {
            "bin_start": 32.181474865999995,
            "bin_end": 33.61678033,
            "count": 1
           }
          ]
         }
        },
        {
         "name": "heat_adsorption_CO2_P0.15bar_T298K [kcal/mol]",
         "dtype": "float64",
         "stats": {
          "unique_count": 5,
          "nan_count": 0,
          "min": "6.190085",
          "max": "7.147286",
          "histogram": [
           {
            "bin_start": 6.190085,
            "bin_end": 6.2858051,
            "count": 1
           },
           {
            "bin_start": 6.2858051,
            "bin_end": 6.3815252,
            "count": 1
           },
           {
            "bin_start": 6.3815252,
            "bin_end": 6.4772453,
            "count": 0
           },
           {
            "bin_start": 6.4772453,
            "bin_end": 6.5729654,
            "count": 1
           },
           {
            "bin_start": 6.5729654,
            "bin_end": 6.6686855000000005,
            "count": 0
           },
           {
            "bin_start": 6.6686855000000005,
            "bin_end": 6.7644056,
            "count": 0
           },
           {
            "bin_start": 6.7644056,
            "bin_end": 6.8601257,
            "count": 1
           },
           {
            "bin_start": 6.8601257,
            "bin_end": 6.9558458000000005,
            "count": 0
           },
           {
            "bin_start": 6.9558458000000005,
            "bin_end": 7.0515659,
            "count": 0
           },
           {
            "bin_start": 7.0515659,
            "bin_end": 7.147286,
            "count": 1
           }
          ]
         }
        },
        {
         "name": "CO2_working_capacity [mL/g]",
         "dtype": "float64",
         "stats": {
          "unique_count": 5,
          "nan_count": 0,
          "min": "79.21000065588353",
          "max": "187.62600449626183",
          "histogram": [
           {
            "bin_start": 79.21000065588353,
            "bin_end": 90.05160103992137,
            "count": 1
           },
           {
            "bin_start": 90.05160103992137,
            "bin_end": 100.8932014239592,
            "count": 0
           },
           {
            "bin_start": 100.8932014239592,
            "bin_end": 111.73480180799702,
            "count": 2
           },
           {
            "bin_start": 111.73480180799702,
            "bin_end": 122.57640219203485,
            "count": 1
           },
           {
            "bin_start": 122.57640219203485,
            "bin_end": 133.4180025760727,
            "count": 0
           },
           {
            "bin_start": 133.4180025760727,
            "bin_end": 144.2596029601105,
            "count": 0
           },
           {
            "bin_start": 144.2596029601105,
            "bin_end": 155.10120334414833,
            "count": 0
           },
           {
            "bin_start": 155.10120334414833,
            "bin_end": 165.94280372818616,
            "count": 0
           },
           {
            "bin_start": 165.94280372818616,
            "bin_end": 176.784404112224,
            "count": 0
           },
           {
            "bin_start": 176.784404112224,
            "bin_end": 187.62600449626183,
            "count": 1
           }
          ]
         }
        },
        {
         "name": "_deepnote_index_column",
         "dtype": "int64"
        }
       ],
       "rows_top": [
        {
         "MOFname": "mof_unit_1",
         "volume [A^3]": 1116.667429,
         "weight [u]": 875.2405999999999,
         "density [g/cm^3]": 1.3015262988601055,
         "surface_area [m^2/g]": 1139.8287738457757,
         "gsa": 585.6690519771402,
         "vsa": 1139.8287738457757,
         "smiles": "OC(=O)OCC",
         "void_fraction": 0.07899,
         "void_volume [cm^3/g]": 0.0606999999999999,
         "functional_groups": "COOH-OEt",
         "metal_linker": 3,
         "organic_linker1": 4,
         "organic_linker2": 11,
         "topology": "pcu",
         "CO2/N2_selectivity": 22.86416611,
         "heat_adsorption_CO2_P0.15bar_T298K [kcal/mol]": 6.786041,
         "CO2_working_capacity [mL/g]": 105.2845017241596,
         "_deepnote_index_column": 0
        },
        {
         "MOFname": "mof_unit_2",
         "volume [A^3]": 2769.503842,
         "weight [u]": 2211.697211,
         "density [g/cm^3]": 1.3260901216521728,
         "surface_area [m^2/g]": 603.61,
         "gsa": 182.8391274724127,
         "vsa": 477.9933491501404,
         "smiles": "FOC",
         "void_fraction": 0.13794,
         "void_volume [cm^3/g]": 0.104,
         "functional_groups": "F-OMe",
         "metal_linker": 10,
         "organic_linker1": 44,
         "organic_linker2": 57,
         "topology": "etb",
         "CO2/N2_selectivity": 33.61678033,
         "heat_adsorption_CO2_P0.15bar_T298K [kcal/mol]": 7.147286,
         "CO2_working_capacity [mL/g]": 101.22477417834172,
         "_deepnote_index_column": 1
        },
        {
         "MOFname": "mof_unit_3",
         "volume [A^3]": 1089.818728,
         "weight [u]": 773.68796,
         "density [g/cm^3]": 1.1788564208802987,
         "surface_area [m^2/g]": 788.5,
         "gsa": 1704.5998324734685,
         "vsa": 1614.2123919024807,
         "smiles": "COC(=O)O",
         "void_fraction": 0.14874,
         "void_volume [cm^3/g]": 0.1262,
         "functional_groups": "OMe-COOH",
         "metal_linker": 2,
         "organic_linker1": 22,
         "organic_linker2": 24,
         "topology": "pcu",
         "CO2/N2_selectivity": 19.26372569,
         "heat_adsorption_CO2_P0.15bar_T298K [kcal/mol]": 6.347967,
         "CO2_working_capacity [mL/g]": 118.98701074687752,
         "_deepnote_index_column": 2
        },
        {
         "MOFname": "mof_unit_4",
         "volume [A^3]": 2205.1983010000004,
         "weight [u]": 1304.63872,
         "density [g/cm^3]": 0.982408148567134,
         "surface_area [m^2/g]": 1441.53,
         "gsa": 3925.613159996791,
         "vsa": 1911.5645822690333,
         "smiles": "S(=O)(=O)O",
         "void_fraction": 0.21814,
         "void_volume [cm^3/g]": 0.222,
         "functional_groups": "H-SO3H",
         "metal_linker": 9,
         "organic_linker1": 17,
         "organic_linker2": 24,
         "topology": "sra",
         "CO2/N2_selectivity": 25.70137692,
         "heat_adsorption_CO2_P0.15bar_T298K [kcal/mol]": 6.190085,
         "CO2_working_capacity [mL/g]": 187.62600449626183,
         "_deepnote_index_column": 3
        },
        {
         "MOFname": "mof_unit_5",
         "volume [A^3]": 1137.800963,
         "weight [u]": 901.73612,
         "density [g/cm^3]": 1.3160200644906643,
         "surface_area [m^2/g]": 277.7366563490379,
         "gsa": 197.6586345273903,
         "vsa": 277.7366563490379,
         "smiles": "CNO",
         "void_fraction": 0.07778,
         "void_volume [cm^3/g]": 0.0591,
         "functional_groups": "NHMe-OH",
         "metal_linker": 2,
         "organic_linker1": 1,
         "organic_linker2": 22,
         "topology": "pcu",
         "CO2/N2_selectivity": 30.00183795,
         "heat_adsorption_CO2_P0.15bar_T298K [kcal/mol]": 6.478063,
         "CO2_working_capacity [mL/g]": 79.21000065588353,
         "_deepnote_index_column": 4
        }
       ],
       "rows_bottom": null
      },
      "text/plain": "      MOFname  volume [A^3]   weight [u]  density [g/cm^3]  \\\n0  mof_unit_1   1116.667429   875.240600          1.301526   \n1  mof_unit_2   2769.503842  2211.697211          1.326090   \n2  mof_unit_3   1089.818728   773.687960          1.178856   \n3  mof_unit_4   2205.198301  1304.638720          0.982408   \n4  mof_unit_5   1137.800963   901.736120          1.316020   \n\n   surface_area [m^2/g]          gsa          vsa      smiles  void_fraction  \\\n0           1139.828774   585.669052  1139.828774   OC(=O)OCC        0.07899   \n1            603.610000   182.839127   477.993349         FOC        0.13794   \n2            788.500000  1704.599832  1614.212392    COC(=O)O        0.14874   \n3           1441.530000  3925.613160  1911.564582  S(=O)(=O)O        0.21814   \n4            277.736656   197.658635   277.736656         CNO        0.07778   \n\n   void_volume [cm^3/g] functional_groups metal_linker organic_linker1  \\\n0                0.0607          COOH-OEt            3               4   \n1                0.1040             F-OMe           10              44   \n2                0.1262          OMe-COOH            2              22   \n3                0.2220            H-SO3H            9              17   \n4                0.0591           NHMe-OH            2               1   \n\n  organic_linker2 topology  CO2/N2_selectivity  \\\n0              11      pcu           22.864166   \n1              57      etb           33.616780   \n2              24      pcu           19.263726   \n3              24      sra           25.701377   \n4              22      pcu           30.001838   \n\n   heat_adsorption_CO2_P0.15bar_T298K [kcal/mol]  CO2_working_capacity [mL/g]  \n0                                       6.786041                   105.284502  \n1                                       7.147286                   101.224774  \n2                                       6.347967                   118.987011  \n3                                       6.190085                   187.626004  \n4                                       6.478063                    79.210001  ",
      "text/html": "<div>\n<style scoped>\n    .dataframe tbody tr th:only-of-type {\n        vertical-align: middle;\n    }\n\n    .dataframe tbody tr th {\n        vertical-align: top;\n    }\n\n    .dataframe thead th {\n        text-align: right;\n    }\n</style>\n<table border=\"1\" class=\"dataframe\">\n  <thead>\n    <tr style=\"text-align: right;\">\n      <th></th>\n      <th>MOFname</th>\n      <th>volume [A^3]</th>\n      <th>weight [u]</th>\n      <th>density [g/cm^3]</th>\n      <th>surface_area [m^2/g]</th>\n      <th>gsa</th>\n      <th>vsa</th>\n      <th>smiles</th>\n      <th>void_fraction</th>\n      <th>void_volume [cm^3/g]</th>\n      <th>functional_groups</th>\n      <th>metal_linker</th>\n      <th>organic_linker1</th>\n      <th>organic_linker2</th>\n      <th>topology</th>\n      <th>CO2/N2_selectivity</th>\n      <th>heat_adsorption_CO2_P0.15bar_T298K [kcal/mol]</th>\n      <th>CO2_working_capacity [mL/g]</th>\n    </tr>\n  </thead>\n  <tbody>\n    <tr>\n      <th>0</th>\n      <td>mof_unit_1</td>\n      <td>1116.667429</td>\n      <td>875.240600</td>\n      <td>1.301526</td>\n      <td>1139.828774</td>\n      <td>585.669052</td>\n      <td>1139.828774</td>\n      <td>OC(=O)OCC</td>\n      <td>0.07899</td>\n      <td>0.0607</td>\n      <td>COOH-OEt</td>\n      <td>3</td>\n      <td>4</td>\n      <td>11</td>\n      <td>pcu</td>\n      <td>22.864166</td>\n      <td>6.786041</td>\n      <td>105.284502</td>\n    </tr>\n    <tr>\n      <th>1</th>\n      <td>mof_unit_2</td>\n      <td>2769.503842</td>\n      <td>2211.697211</td>\n      <td>1.326090</td>\n      <td>603.610000</td>\n      <td>182.839127</td>\n      <td>477.993349</td>\n      <td>FOC</td>\n      <td>0.13794</td>\n      <td>0.1040</td>\n      <td>F-OMe</td>\n      <td>10</td>\n      <td>44</td>\n      <td>57</td>\n      <td>etb</td>\n      <td>33.616780</td>\n      <td>7.147286</td>\n      <td>101.224774</td>\n    </tr>\n    <tr>\n      <th>2</th>\n      <td>mof_unit_3</td>\n      <td>1089.818728</td>\n      <td>773.687960</td>\n      <td>1.178856</td>\n      <td>788.500000</td>\n      <td>1704.599832</td>\n      <td>1614.212392</td>\n      <td>COC(=O)O</td>\n      <td>0.14874</td>\n      <td>0.1262</td>\n      <td>OMe-COOH</td>\n      <td>2</td>\n      <td>22</td>\n      <td>24</td>\n      <td>pcu</td>\n      <td>19.263726</td>\n      <td>6.347967</td>\n      <td>118.987011</td>\n    </tr>\n    <tr>\n      <th>3</th>\n      <td>mof_unit_4</td>\n      <td>2205.198301</td>\n      <td>1304.638720</td>\n      <td>0.982408</td>\n      <td>1441.530000</td>\n      <td>3925.613160</td>\n      <td>1911.564582</td>\n      <td>S(=O)(=O)O</td>\n      <td>0.21814</td>\n      <td>0.2220</td>\n      <td>H-SO3H</td>\n      <td>9</td>\n      <td>17</td>\n      <td>24</td>\n      <td>sra</td>\n      <td>25.701377</td>\n      <td>6.190085</td>\n      <td>187.626004</td>\n    </tr>\n    <tr>\n      <th>4</th>\n      <td>mof_unit_5</td>\n      <td>1137.800963</td>\n      <td>901.736120</td>\n      <td>1.316020</td>\n      <td>277.736656</td>\n      <td>197.658635</td>\n      <td>277.736656</td>\n      <td>CNO</td>\n      <td>0.07778</td>\n      <td>0.0591</td>\n      <td>NHMe-OH</td>\n      <td>2</td>\n      <td>1</td>\n      <td>22</td>\n      <td>pcu</td>\n      <td>30.001838</td>\n      <td>6.478063</td>\n      <td>79.210001</td>\n    </tr>\n  </tbody>\n</table>\n</div>"
     },
     "metadata": {}
    }
   ],
   "execution_count": null
  },
  {
   "cell_type": "markdown",
   "source": "## Get feature set 1 from smiles",
   "metadata": {
    "tags": [],
    "is_collapsed": false,
    "cell_id": "00015-4f748882-64e3-484e-a0ba-31384245f905",
    "deepnote_cell_type": "text-cell-h2"
   }
  },
  {
   "cell_type": "code",
   "metadata": {
    "tags": [],
    "cell_id": "00038-3de6640b-494c-442a-9e22-ad02537ff7fc",
    "deepnote_to_be_reexecuted": false,
    "source_hash": "f77e611f",
    "execution_start": 1634033835278,
    "execution_millis": 41419,
    "deepnote_cell_type": "code"
   },
   "source": "MolWt  = [Descriptors.MolWt(Chem.MolFromSmiles(mol)) for mol in train['smiles']]\nMolLogP = [Descriptors.MolLogP(Chem.MolFromSmiles(mol)) for mol in train['smiles']]\nNumValenceElectrons= [Descriptors.NumValenceElectrons(Chem.MolFromSmiles(mol)) for mol in train['smiles']]\nHeavyAtomCount= [Lipinski.HeavyAtomCount(Chem.MolFromSmiles(mol)) for mol in train['smiles']]\nNOCount= [Lipinski.NOCount(Chem.MolFromSmiles(mol)) for mol in train['smiles']]\nNumAliphaticRings= [Lipinski.NumAliphaticRings(Chem.MolFromSmiles(mol)) for mol in train['smiles']]\nNumAromaticRings= [Lipinski.NumAromaticRings(Chem.MolFromSmiles(mol)) for mol in train['smiles']]\nNumHAcceptors= [Lipinski.NumHAcceptors(Chem.MolFromSmiles(mol)) for mol in train['smiles']]\nNumHDonors= [Lipinski.NumHDonors(Chem.MolFromSmiles(mol)) for mol in train['smiles']]\nNumHeteroatoms= [Lipinski.NumHeteroatoms(Chem.MolFromSmiles(mol)) for mol in train['smiles']]\nNumRotatableBonds= [Lipinski.NumRotatableBonds(Chem.MolFromSmiles(mol)) for mol in train['smiles']]\n",
   "outputs": [
    {
     "name": "stderr",
     "text": "[10:17:53] WARNING: not removing hydrogen atom without neighbors\nRDKit WARNING: [10:17:53] WARNING: not removing hydrogen atom without neighbors\nRDKit WARNING: [10:17:53] WARNING: not removing hydrogen atom without neighbors\n[10:17:53] WARNING: not removing hydrogen atom without neighbors\n[10:17:53] WARNING: not removing hydrogen atom without neighbors\nRDKit WARNING: [10:17:53] WARNING: not removing hydrogen atom without neighbors\nRDKit WARNING: [10:17:53] WARNING: not removing hydrogen atom without neighbors\n[10:17:53] WARNING: not removing hydrogen atom without neighbors\n[10:17:53] WARNING: not removing hydrogen atom without neighbors\nRDKit WARNING: [10:17:53] WARNING: not removing hydrogen atom without neighbors\nRDKit WARNING: [10:17:53] WARNING: not removing hydrogen atom without neighbors\n[10:17:53] WARNING: not removing hydrogen atom without neighbors\n[10:17:53] WARNING: not removing hydrogen atom without neighbors\nRDKit WARNING: [10:17:53] WARNING: not removing hydrogen atom without neighbors\n[10:17:53] WARNING: not removing hydrogen atom without neighbors\nRDKit WARNING: [10:17:53] WARNING: not removing hydrogen atom without neighbors\nRDKit WARNING: [10:17:53] WARNING: not removing hydrogen atom without neighbors\nRDKit WARNING: [10:17:53] WARNING: not removing hydrogen atom without neighbors\n[10:17:53] WARNING: not removing hydrogen atom without neighbors\n[10:17:53] WARNING: not removing hydrogen atom without neighbors\nRDKit WARNING: [10:17:53] WARNING: not removing hydrogen atom without neighbors\nRDKit WARNING: [10:17:53] WARNING: not removing hydrogen atom without neighbors\n[10:17:53] WARNING: not removing hydrogen atom without neighbors\n[10:17:53] WARNING: not removing hydrogen atom without neighbors\n[10:17:53] WARNING: not removing hydrogen atom without neighbors\nRDKit WARNING: [10:17:53] WARNING: not removing hydrogen atom without neighbors\nRDKit WARNING: [10:17:53] WARNING: not removing hydrogen atom without neighbors\n[10:17:53] WARNING: not removing hydrogen atom without neighbors\n[10:17:53] WARNING: not removing hydrogen atom without neighbors\nRDKit WARNING: [10:17:53] WARNING: not removing hydrogen atom without neighbors\n[10:17:53] WARNING: not removing hydrogen atom without neighbors\nRDKit WARNING: [10:17:53] WARNING: not removing hydrogen atom without neighbors\nRDKit WARNING: [10:17:53] WARNING: not removing hydrogen atom without neighbors\n[10:17:53] WARNING: not removing hydrogen atom without neighbors\nRDKit WARNING: [10:17:53] WARNING: not removing hydrogen atom without neighbors\n[10:17:53] WARNING: not removing hydrogen atom without neighbors\n[10:17:53] WARNING: not removing hydrogen atom without neighbors\nRDKit WARNING: [10:17:53] WARNING: not removing hydrogen atom without neighbors\nRDKit WARNING: [10:17:53] WARNING: not removing hydrogen atom without neighbors\n[10:17:53] WARNING: not removing hydrogen atom without neighbors\nRDKit WARNING: [10:17:53] WARNING: not removing hydrogen atom without neighbors\n[10:17:53] WARNING: not removing hydrogen atom without neighbors\n[10:17:53] WARNING: not removing hydrogen atom without neighbors\nRDKit WARNING: [10:17:53] WARNING: not removing hydrogen atom without neighbors\n[10:17:53] WARNING: not removing hydrogen atom without neighbors\nRDKit WARNING: [10:17:53] WARNING: not removing hydrogen atom without neighbors\nRDKit WARNING: [10:17:53] WARNING: not removing hydrogen atom without neighbors\n[10:17:53] WARNING: not removing hydrogen atom without neighbors\n[10:17:53] WARNING: not removing hydrogen atom without neighbors\nRDKit WARNING: [10:17:53] WARNING: not removing hydrogen atom without neighbors\n[10:17:53] WARNING: not removing hydrogen atom without neighbors\n[10:17:53] WARNING: not removing hydrogen atom without neighbors\nRDKit WARNING: [10:17:53] WARNING: not removing hydrogen atom without neighbors\nRDKit WARNING: [10:17:53] WARNING: not removing hydrogen atom without neighbors\nRDKit WARNING: [10:17:53] WARNING: not removing hydrogen atom without neighbors\n[10:17:53] WARNING: not removing hydrogen atom without neighbors\n[10:17:53] WARNING: not removing hydrogen atom without neighbors\nRDKit WARNING: [10:17:53] WARNING: not removing hydrogen atom without neighbors\nRDKit WARNING: [10:17:53] WARNING: not removing hydrogen atom without neighbors\n[10:17:53] WARNING: not removing hydrogen atom without neighbors\n[10:17:53] WARNING: not removing hydrogen atom without neighbors\nRDKit WARNING: [10:17:53] WARNING: not removing hydrogen atom without neighbors\n[10:17:53] WARNING: not removing hydrogen atom without neighbors\nRDKit WARNING: [10:17:53] WARNING: not removing hydrogen atom without neighbors\n[10:17:53] WARNING: not removing hydrogen atom without neighbors\nRDKit WARNING: [10:17:53] WARNING: not removing hydrogen atom without neighbors\n[10:17:53] WARNING: not removing hydrogen atom without neighbors\nRDKit WARNING: [10:17:53] WARNING: not removing hydrogen atom without neighbors\nRDKit WARNING: [10:17:53] WARNING: not removing hydrogen atom without neighbors\nRDKit WARNING: [10:17:53] WARNING: not removing hydrogen atom without neighbors\nRDKit WARNING: [10:17:53] WARNING: not removing hydrogen atom without neighbors\n[10:17:53] WARNING: not removing hydrogen atom without neighbors\n[10:17:53] WARNING: not removing hydrogen atom without neighbors\n[10:17:53] WARNING: not removing hydrogen atom without neighbors\n[10:17:53] WARNING: not removing hydrogen atom without neighbors\nRDKit WARNING: [10:17:53] WARNING: not removing hydrogen atom without neighbors\n[10:17:53] WARNING: not removing hydrogen atom without neighbors\nRDKit WARNING: [10:17:53] WARNING: not removing hydrogen atom without neighbors\n[10:17:53] WARNING: not removing hydrogen atom without neighbors\nRDKit WARNING: [10:17:53] WARNING: not removing hydrogen atom without neighbors\n[10:17:53] WARNING: not removing hydrogen atom without neighbors\nRDKit WARNING: [10:17:53] WARNING: not removing hydrogen atom without neighbors\nRDKit WARNING: [10:17:53] WARNING: not removing hydrogen atom without neighbors\n[10:17:53] WARNING: not removing hydrogen atom without neighbors\n[10:17:53] WARNING: not removing hydrogen atom without neighbors\nRDKit WARNING: [10:17:53] WARNING: not removing hydrogen atom without neighbors\n[10:17:53] WARNING: not removing hydrogen atom without neighbors\nRDKit WARNING: [10:17:53] WARNING: not removing hydrogen atom without neighbors\n[10:17:53] WARNING: not removing hydrogen atom without neighbors\nRDKit WARNING: [10:17:53] WARNING: not removing hydrogen atom without neighbors\n[10:17:53] WARNING: not removing hydrogen atom without neighbors\nRDKit WARNING: [10:17:53] WARNING: not removing hydrogen atom without neighbors\nRDKit WARNING: [10:17:53] WARNING: not removing hydrogen atom without neighbors\nRDKit WARNING: [10:17:53] WARNING: not removing hydrogen atom without neighbors\n[10:17:53] WARNING: not removing hydrogen atom without neighbors\n[10:17:53] WARNING: not removing hydrogen atom without neighbors\nRDKit WARNING: [10:17:53] WARNING: not removing hydrogen atom without neighbors\n[10:17:53] WARNING: not removing hydrogen atom without neighbors\nRDKit WARNING: [10:17:53] WARNING: not removing hydrogen atom without neighbors\n[10:17:53] WARNING: not removing hydrogen atom without neighbors\nRDKit WARNING: [10:17:53] WARNING: not removing hydrogen atom without neighbors\nRDKit WARNING: [10:17:53] WARNING: not removing hydrogen atom without neighbors\n[10:17:53] WARNING: not removing hydrogen atom without neighbors\n[10:17:53] WARNING: not removing hydrogen atom without neighbors\n[10:17:53] WARNING: not removing hydrogen atom without neighbors\nRDKit WARNING: [10:17:53] WARNING: not removing hydrogen atom without neighbors\n[10:17:53] WARNING: not removing hydrogen atom without neighbors\nRDKit WARNING: [10:17:53] WARNING: not removing hydrogen atom without neighbors\n[10:17:53] WARNING: not removing hydrogen atom without neighbors\nRDKit WARNING: [10:17:53] WARNING: not removing hydrogen atom without neighbors\n[10:17:53] WARNING: not removing hydrogen atom without neighbors\nRDKit WARNING: [10:17:53] WARNING: not removing hydrogen atom without neighbors\nRDKit WARNING: [10:17:53] WARNING: not removing hydrogen atom without neighbors\n[10:17:53] WARNING: not removing hydrogen atom without neighbors\nRDKit WARNING: [10:17:53] WARNING: not removing hydrogen atom without neighbors\n[10:17:53] WARNING: not removing hydrogen atom without neighbors\n[10:17:53] WARNING: not removing hydrogen atom without neighbors\nRDKit WARNING: [10:17:53] WARNING: not removing hydrogen atom without neighbors\nRDKit WARNING: [10:17:53] WARNING: not removing hydrogen atom without neighbors\nRDKit WARNING: [10:17:53] WARNING: not removing hydrogen atom without neighbors\n[10:17:53] WARNING: not removing hydrogen atom without neighbors\n[10:17:53] WARNING: not removing hydrogen atom without neighbors\nRDKit WARNING: [10:17:53] WARNING: not removing hydrogen atom without neighbors\n[10:17:53] WARNING: not removing hydrogen atom without neighbors\n[10:17:53] WARNING: not removing hydrogen atom without neighbors\nRDKit WARNING: [10:17:53] WARNING: not removing hydrogen atom without neighbors\n[10:17:53] WARNING: not removing hydrogen atom without neighbors\nRDKit WARNING: [10:17:53] WARNING: not removing hydrogen atom without neighbors\nRDKit WARNING: [10:17:53] WARNING: not removing hydrogen atom without neighbors\n[10:17:53] WARNING: not removing hydrogen atom without neighbors\n[10:17:53] WARNING: not removing hydrogen atom without neighbors\nRDKit WARNING: [10:17:53] WARNING: not removing hydrogen atom without neighbors\n[10:17:53] WARNING: not removing hydrogen atom without neighbors\nRDKit WARNING: [10:17:53] WARNING: not removing hydrogen atom without neighbors\nRDKit WARNING: [10:17:53] WARNING: not removing hydrogen atom without neighbors\nRDKit WARNING: [10:17:53] WARNING: not removing hydrogen atom without neighbors\nRDKit WARNING: [10:17:53] WARNING: not removing hydrogen atom without neighbors\nRDKit WARNING: [10:17:53] WARNING: not removing hydrogen atom without neighbors\nRDKit WARNING: [10:17:53] WARNING: not removing hydrogen atom without neighbors\nRDKit WARNING: [10:17:53] WARNING: not removing hydrogen atom without neighbors\nRDKit WARNING: [10:17:53] WARNING: not removing hydrogen atom without neighbors\n[10:17:53] WARNING: not removing hydrogen atom without neighbors\n[10:17:53] WARNING: not removing hydrogen atom without neighbors\n[10:17:53] WARNING: not removing hydrogen atom without neighbors\n[10:17:53] WARNING: not removing hydrogen atom without neighbors\n[10:17:53] WARNING: not removing hydrogen atom without neighbors\n[10:17:53] WARNING: not removing hydrogen atom without neighbors\n[10:17:53] WARNING: not removing hydrogen atom without neighbors\n[10:17:53] WARNING: not removing hydrogen atom without neighbors\nRDKit WARNING: [10:17:53] WARNING: not removing hydrogen atom without neighbors\nRDKit WARNING: [10:17:53] WARNING: not removing hydrogen atom without neighbors\n[10:17:53] WARNING: not removing hydrogen atom without neighbors\n[10:17:53] WARNING: not removing hydrogen atom without neighbors\nRDKit WARNING: [10:17:53] WARNING: not removing hydrogen atom without neighbors\nRDKit WARNING: [10:17:53] WARNING: not removing hydrogen atom without neighbors\n[10:17:53] WARNING: not removing hydrogen atom without neighbors\nRDKit WARNING: [10:17:53] WARNING: not removing hydrogen atom without neighbors\n[10:17:53] WARNING: not removing hydrogen atom without neighbors\n[10:17:53] WARNING: not removing hydrogen atom without neighbors\nRDKit WARNING: [10:17:53] WARNING: not removing hydrogen atom without neighbors\n[10:17:53] WARNING: not removing hydrogen atom without neighbors\nRDKit WARNING: [10:17:53] WARNING: not removing hydrogen atom without neighbors\n[10:17:53] WARNING: not removing hydrogen atom without neighbors\nRDKit WARNING: [10:17:53] WARNING: not removing hydrogen atom without neighbors\nRDKit WARNING: [10:17:53] WARNING: not removing hydrogen atom without neighbors\n[10:17:53] WARNING: not removing hydrogen atom without neighbors\n[10:17:53] WARNING: not removing hydrogen atom without neighbors\nRDKit WARNING: [10:17:53] WARNING: not removing hydrogen atom without neighbors\n[10:17:53] WARNING: not removing hydrogen atom without neighbors\nRDKit WARNING: [10:17:53] WARNING: not removing hydrogen atom without neighbors\n[10:17:53] WARNING: not removing hydrogen atom without neighbors\nRDKit WARNING: [10:17:53] WARNING: not removing hydrogen atom without neighbors\n[10:17:53] WARNING: not removing hydrogen atom without neighbors\nRDKit WARNING: [10:17:53] WARNING: not removing hydrogen atom without neighbors\n[10:17:53] WARNING: not removing hydrogen atom without neighbors\nRDKit WARNING: [10:17:53] WARNING: not removing hydrogen atom without neighbors\n[10:17:53] WARNING: not removing hydrogen atom without neighbors\nRDKit WARNING: [10:17:53] WARNING: not removing hydrogen atom without neighbors\n[10:17:53] WARNING: not removing hydrogen atom without neighbors\nRDKit WARNING: [10:17:53] WARNING: not removing hydrogen atom without neighbors\n[10:17:53] WARNING: not removing hydrogen atom without neighbors\nRDKit WARNING: [10:17:53] WARNING: not removing hydrogen atom without neighbors\nRDKit WARNING: [10:17:53] WARNING: not removing hydrogen atom without neighbors\nRDKit WARNING: [10:17:53] WARNING: not removing hydrogen atom without neighbors\n[10:17:53] WARNING: not removing hydrogen atom without neighbors\n[10:17:53] WARNING: not removing hydrogen atom without neighbors\nRDKit WARNING: [10:17:53] WARNING: not removing hydrogen atom without neighbors\nRDKit WARNING: [10:17:53] WARNING: not removing hydrogen atom without neighbors\n[10:17:53] WARNING: not removing hydrogen atom without neighbors\n[10:17:53] WARNING: not removing hydrogen atom without neighbors\n[10:17:53] WARNING: not removing hydrogen atom without neighbors\nRDKit WARNING: [10:17:53] WARNING: not removing hydrogen atom without neighbors\n[10:17:53] WARNING: not removing hydrogen atom without neighbors\nRDKit WARNING: [10:17:53] WARNING: not removing hydrogen atom without neighbors\n[10:17:53] WARNING: not removing hydrogen atom without neighbors\nRDKit WARNING: [10:17:53] WARNING: not removing hydrogen atom without neighbors\n[10:17:53] WARNING: not removing hydrogen atom without neighbors\nRDKit WARNING: [10:17:53] WARNING: not removing hydrogen atom without neighbors\n[10:17:53] WARNING: not removing hydrogen atom without neighbors\nRDKit WARNING: [10:17:53] WARNING: not removing hydrogen atom without neighbors\nRDKit WARNING: [10:17:53] WARNING: not removing hydrogen atom without neighbors\n[10:17:53] WARNING: not removing hydrogen atom without neighbors\n[10:17:53] WARNING: not removing hydrogen atom without neighbors\nRDKit WARNING: [10:17:53] WARNING: not removing hydrogen atom without neighbors\n[10:17:53] WARNING: not removing hydrogen atom without neighbors\nRDKit WARNING: [10:17:53] WARNING: not removing hydrogen atom without neighbors\n[10:17:53] WARNING: not removing hydrogen atom without neighbors\nRDKit WARNING: [10:17:53] WARNING: not removing hydrogen atom without neighbors\n[10:17:53] WARNING: not removing hydrogen atom without neighbors\nRDKit WARNING: [10:17:53] WARNING: not removing hydrogen atom without neighbors\n[10:17:53] WARNING: not removing hydrogen atom without neighbors\nRDKit WARNING: [10:17:53] WARNING: not removing hydrogen atom without neighbors\nRDKit WARNING: [10:17:53] WARNING: not removing hydrogen atom without neighbors\n[10:17:53] WARNING: not removing hydrogen atom without neighbors\nRDKit WARNING: [10:17:53] WARNING: not removing hydrogen atom without neighbors\nRDKit WARNING: [10:17:53] WARNING: not removing hydrogen atom without neighbors\nRDKit WARNING: [10:17:53] WARNING: not removing hydrogen atom without neighbors\n[10:17:53] WARNING: not removing hydrogen atom without neighbors\n[10:17:53] WARNING: not removing hydrogen atom without neighbors\n[10:17:53] WARNING: not removing hydrogen atom without neighbors\nRDKit WARNING: [10:17:53] WARNING: not removing hydrogen atom without neighbors\n[10:17:53] WARNING: not removing hydrogen atom without neighbors\n[10:17:53] WARNING: not removing hydrogen atom without neighbors\nRDKit WARNING: [10:17:53] WARNING: not removing hydrogen atom without neighbors\n[10:17:53] WARNING: not removing hydrogen atom without neighbors\nRDKit WARNING: [10:17:53] WARNING: not removing hydrogen atom without neighbors\nRDKit WARNING: [10:17:53] WARNING: not removing hydrogen atom without neighbors\n[10:17:53] WARNING: not removing hydrogen atom without neighbors\n[10:17:53] WARNING: not removing hydrogen atom without neighbors\nRDKit WARNING: [10:17:53] WARNING: not removing hydrogen atom without neighbors\n[10:17:53] WARNING: not removing hydrogen atom without neighbors\nRDKit WARNING: [10:17:53] WARNING: not removing hydrogen atom without neighbors\nRDKit WARNING: [10:17:53] WARNING: not removing hydrogen atom without neighbors\nRDKit WARNING: [10:17:53] WARNING: not removing hydrogen atom without neighbors\n[10:17:53] WARNING: not removing hydrogen atom without neighbors\n[10:17:53] WARNING: not removing hydrogen atom without neighbors\n[10:17:53] WARNING: not removing hydrogen atom without neighbors\nRDKit WARNING: [10:17:53] WARNING: not removing hydrogen atom without neighbors\nRDKit WARNING: [10:17:53] WARNING: not removing hydrogen atom without neighbors\nRDKit WARNING: [10:17:53] WARNING: not removing hydrogen atom without neighbors\nRDKit WARNING: [10:17:53] WARNING: not removing hydrogen atom without neighbors\n[10:17:53] WARNING: not removing hydrogen atom without neighbors\n[10:17:53] WARNING: not removing hydrogen atom without neighbors\n[10:17:53] WARNING: not removing hydrogen atom without neighbors\n[10:17:53] WARNING: not removing hydrogen atom without neighbors\nRDKit WARNING: [10:17:53] WARNING: not removing hydrogen atom without neighbors\n[10:17:53] WARNING: not removing hydrogen atom without neighbors\nRDKit WARNING: [10:17:53] WARNING: not removing hydrogen atom without neighbors\n[10:17:53] WARNING: not removing hydrogen atom without neighbors\nRDKit WARNING: [10:17:53] WARNING: not removing hydrogen atom without neighbors\nRDKit WARNING: [10:17:53] WARNING: not removing hydrogen atom without neighbors\nRDKit WARNING: [10:17:53] WARNING: not removing hydrogen atom without neighbors\nRDKit WARNING: [10:17:53] WARNING: not removing hydrogen atom without neighbors\nRDKit WARNING: [10:17:53] WARNING: not removing hydrogen atom without neighbors\nRDKit WARNING: [10:17:53] WARNING: not removing hydrogen atom without neighbors\nRDKit WARNING: [10:17:53] WARNING: not removing hydrogen atom without neighbors\nRDKit WARNING: [10:17:53] WARNING: not removing hydrogen atom without neighbors\nRDKit WARNING: [10:17:53] WARNING: not removing hydrogen atom without neighbors\n[10:17:53] WARNING: not removing hydrogen atom without neighbors\n[10:17:53] WARNING: not removing hydrogen atom without neighbors\n[10:17:53] WARNING: not removing hydrogen atom without neighbors\n[10:17:53] WARNING: not removing hydrogen atom without neighbors\n[10:17:53] WARNING: not removing hydrogen atom without neighbors\n[10:17:53] WARNING: not removing hydrogen atom without neighbors\n[10:17:53] WARNING: not removing hydrogen atom without neighbors\n[10:17:53] WARNING: not removing hydrogen atom without neighbors\nRDKit WARNING: [10:17:53] WARNING: not removing hydrogen atom without neighbors\n[10:17:53] WARNING: not removing hydrogen atom without neighbors\n[10:17:53] WARNING: not removing hydrogen atom without neighbors\nRDKit WARNING: [10:17:53] WARNING: not removing hydrogen atom without neighbors\n[10:17:53] WARNING: not removing hydrogen atom without neighbors\nRDKit WARNING: [10:17:53] WARNING: not removing hydrogen atom without neighbors\n[10:17:53] WARNING: not removing hydrogen atom without neighbors\nRDKit WARNING: [10:17:53] WARNING: not removing hydrogen atom without neighbors\n[10:17:53] WARNING: not removing hydrogen atom without neighbors\nRDKit WARNING: [10:17:53] WARNING: not removing hydrogen atom without neighbors\n[10:17:53] WARNING: not removing hydrogen atom without neighbors\nRDKit WARNING: [10:17:53] WARNING: not removing hydrogen atom without neighbors\n[10:17:53] WARNING: not removing hydrogen atom without neighbors\nRDKit WARNING: [10:17:53] WARNING: not removing hydrogen atom without neighbors\n[10:17:53] WARNING: not removing hydrogen atom without neighbors\nRDKit WARNING: [10:17:53] WARNING: not removing hydrogen atom without neighbors\n[10:17:53] WARNING: not removing hydrogen atom without neighbors\nRDKit WARNING: [10:17:53] WARNING: not removing hydrogen atom without neighbors\n[10:17:53] WARNING: not removing hydrogen atom without neighbors\nRDKit WARNING: [10:17:53] WARNING: not removing hydrogen atom without neighbors\n[10:17:53] WARNING: not removing hydrogen atom without neighbors\nRDKit WARNING: [10:17:53] WARNING: not removing hydrogen atom without neighbors\n[10:17:53] WARNING: not removing hydrogen atom without neighbors\nRDKit WARNING: [10:17:54] WARNING: not removing hydrogen atom without neighbors\n[10:17:54] WARNING: not removing hydrogen atom without neighbors\nRDKit WARNING: [10:17:54] WARNING: not removing hydrogen atom without neighbors\n[10:17:54] WARNING: not removing hydrogen atom without neighbors\nRDKit WARNING: [10:17:54] WARNING: not removing hydrogen atom without neighbors\n[10:17:54] WARNING: not removing hydrogen atom without neighbors\nRDKit WARNING: [10:17:54] WARNING: not removing hydrogen atom without neighbors\n[10:17:54] WARNING: not removing hydrogen atom without neighbors\nRDKit WARNING: [10:17:54] WARNING: not removing hydrogen atom without neighbors\nRDKit WARNING: [10:17:54] WARNING: not removing hydrogen atom without neighbors\n[10:17:54] WARNING: not removing hydrogen atom without neighbors\nRDKit WARNING: [10:17:54] WARNING: not removing hydrogen atom without neighbors\n[10:17:54] WARNING: not removing hydrogen atom without neighbors\n[10:17:54] WARNING: not removing hydrogen atom without neighbors\nRDKit WARNING: [10:17:54] WARNING: not removing hydrogen atom without neighbors\n[10:17:54] WARNING: not removing hydrogen atom without neighbors\nRDKit WARNING: [10:17:54] WARNING: not removing hydrogen atom without neighbors\n[10:17:54] WARNING: not removing hydrogen atom without neighbors\nRDKit WARNING: [10:17:54] WARNING: not removing hydrogen atom without neighbors\n[10:17:54] WARNING: not removing hydrogen atom without neighbors\nRDKit WARNING: [10:17:54] WARNING: not removing hydrogen atom without neighbors\n[10:17:54] WARNING: not removing hydrogen atom without neighbors\nRDKit WARNING: [10:17:54] WARNING: not removing hydrogen atom without neighbors\n[10:17:54] WARNING: not removing hydrogen atom without neighbors\nRDKit WARNING: [10:17:54] WARNING: not removing hydrogen atom without neighbors\n[10:17:54] WARNING: not removing hydrogen atom without neighbors\nRDKit WARNING: [10:17:54] WARNING: not removing hydrogen atom without neighbors\n[10:17:54] WARNING: not removing hydrogen atom without neighbors\nRDKit WARNING: [10:17:54] WARNING: not removing hydrogen atom without neighbors\n[10:17:54] WARNING: not removing hydrogen atom without neighbors\nRDKit WARNING: [10:17:54] WARNING: not removing hydrogen atom without neighbors\n[10:17:54] WARNING: not removing hydrogen atom without neighbors\nRDKit WARNING: [10:17:54] WARNING: not removing hydrogen atom without neighbors\n[10:17:54] WARNING: not removing hydrogen atom without neighbors\nRDKit WARNING: [10:17:54] WARNING: not removing hydrogen atom without neighbors\n[10:17:54] WARNING: not removing hydrogen atom without neighbors\nRDKit WARNING: [10:17:54] WARNING: not removing hydrogen atom without neighbors\nRDKit WARNING: [10:17:54] WARNING: not removing hydrogen atom without neighbors\n[10:17:54] WARNING: not removing hydrogen atom without neighbors\nRDKit WARNING: [10:17:54] WARNING: not removing hydrogen atom without neighbors\n[10:17:54] WARNING: not removing hydrogen atom without neighbors\n[10:17:54] WARNING: not removing hydrogen atom without neighbors\nRDKit WARNING: [10:17:54] WARNING: not removing hydrogen atom without neighbors\n[10:17:54] WARNING: not removing hydrogen atom without neighbors\nRDKit WARNING: [10:17:54] WARNING: not removing hydrogen atom without neighbors\nRDKit WARNING: [10:17:54] WARNING: not removing hydrogen atom without neighbors\n[10:17:54] WARNING: not removing hydrogen atom without neighbors\n[10:17:54] WARNING: not removing hydrogen atom without neighbors\nRDKit WARNING: [10:17:54] WARNING: not removing hydrogen atom without neighbors\nRDKit WARNING: [10:17:54] WARNING: not removing hydrogen atom without neighbors\n[10:17:54] WARNING: not removing hydrogen atom without neighbors\nRDKit WARNING: [10:17:54] WARNING: not removing hydrogen atom without neighbors\nRDKit WARNING: [10:17:54] WARNING: not removing hydrogen atom without neighbors\n[10:17:54] WARNING: not removing hydrogen atom without neighbors\n[10:17:54] WARNING: not removing hydrogen atom without neighbors\n[10:17:54] WARNING: not removing hydrogen atom without neighbors\nRDKit WARNING: [10:17:54] WARNING: not removing hydrogen atom without neighbors\n[10:17:54] WARNING: not removing hydrogen atom without neighbors\nRDKit WARNING: [10:17:54] WARNING: not removing hydrogen atom without neighbors\n[10:17:54] WARNING: not removing hydrogen atom without neighbors\nRDKit WARNING: [10:17:54] WARNING: not removing hydrogen atom without neighbors\n[10:17:54] WARNING: not removing hydrogen atom without neighbors\nRDKit WARNING: [10:17:54] WARNING: not removing hydrogen atom without neighbors\n[10:17:54] WARNING: not removing hydrogen atom without neighbors\nRDKit WARNING: [10:17:54] WARNING: not removing hydrogen atom without neighbors\nRDKit WARNING: [10:17:54] WARNING: not removing hydrogen atom without neighbors\n[10:17:54] WARNING: not removing hydrogen atom without neighbors\n[10:17:54] WARNING: not removing hydrogen atom without neighbors\nRDKit WARNING: [10:17:54] WARNING: not removing hydrogen atom without neighbors\n[10:17:54] WARNING: not removing hydrogen atom without neighbors\nRDKit WARNING: [10:17:54] WARNING: not removing hydrogen atom without neighbors\nRDKit WARNING: [10:17:54] WARNING: not removing hydrogen atom without neighbors\n[10:17:54] WARNING: not removing hydrogen atom without neighbors\n[10:17:54] WARNING: not removing hydrogen atom without neighbors\nRDKit WARNING: [10:17:54] WARNING: not removing hydrogen atom without neighbors\n[10:17:54] WARNING: not removing hydrogen atom without neighbors\nRDKit WARNING: [10:17:54] WARNING: not removing hydrogen atom without neighbors\nRDKit WARNING: [10:17:54] WARNING: not removing hydrogen atom without neighbors\n[10:17:54] WARNING: not removing hydrogen atom without neighbors\nRDKit WARNING: [10:17:54] WARNING: not removing hydrogen atom without neighbors\nRDKit WARNING: [10:17:54] WARNING: not removing hydrogen atom without neighbors\nRDKit WARNING: [10:17:54] WARNING: not removing hydrogen atom without neighbors\n[10:17:54] WARNING: not removing hydrogen atom without neighbors\n[10:17:54] WARNING: not removing hydrogen atom without neighbors\n[10:17:54] WARNING: not removing hydrogen atom without neighbors\n[10:17:54] WARNING: not removing hydrogen atom without neighbors\nRDKit WARNING: [10:17:54] WARNING: not removing hydrogen atom without neighbors\n[10:17:54] WARNING: not removing hydrogen atom without neighbors\nRDKit WARNING: [10:17:54] WARNING: not removing hydrogen atom without neighbors\n[10:17:54] WARNING: not removing hydrogen atom without neighbors\nRDKit WARNING: [10:17:54] WARNING: not removing hydrogen atom without neighbors\n[10:17:54] WARNING: not removing hydrogen atom without neighbors\nRDKit WARNING: [10:17:54] WARNING: not removing hydrogen atom without neighbors\n[10:17:54] WARNING: not removing hydrogen atom without neighbors\nRDKit WARNING: [10:17:54] WARNING: not removing hydrogen atom without neighbors\n[10:17:54] WARNING: not removing hydrogen atom without neighbors\nRDKit WARNING: [10:17:54] WARNING: not removing hydrogen atom without neighbors\n[10:17:54] WARNING: not removing hydrogen atom without neighbors\nRDKit WARNING: [10:17:54] WARNING: not removing hydrogen atom without neighbors\nRDKit WARNING: [10:17:54] WARNING: not removing hydrogen atom without neighbors\n[10:17:54] WARNING: not removing hydrogen atom without neighbors\nRDKit WARNING: [10:17:54] WARNING: not removing hydrogen atom without neighbors\n[10:17:54] WARNING: not removing hydrogen atom without neighbors\n[10:17:54] WARNING: not removing hydrogen atom without neighbors\nRDKit WARNING: [10:17:54] WARNING: not removing hydrogen atom without neighbors\n[10:17:54] WARNING: not removing hydrogen atom without neighbors\nRDKit WARNING: [10:17:54] WARNING: not removing hydrogen atom without neighbors\n[10:17:54] WARNING: not removing hydrogen atom without neighbors\nRDKit WARNING: [10:17:54] WARNING: not removing hydrogen atom without neighbors\nRDKit WARNING: [10:17:54] WARNING: not removing hydrogen atom without neighbors\nRDKit WARNING: [10:17:54] WARNING: not removing hydrogen atom without neighbors\n[10:17:54] WARNING: not removing hydrogen atom without neighbors\n[10:17:54] WARNING: not removing hydrogen atom without neighbors\nRDKit WARNING: [10:17:54] WARNING: not removing hydrogen atom without neighbors\n[10:17:54] WARNING: not removing hydrogen atom without neighbors\nRDKit WARNING: [10:17:54] WARNING: not removing hydrogen atom without neighbors\n[10:17:54] WARNING: not removing hydrogen atom without neighbors\n[10:17:54] WARNING: not removing hydrogen atom without neighbors\nRDKit WARNING: [10:17:54] WARNING: not removing hydrogen atom without neighbors\n[10:17:54] WARNING: not removing hydrogen atom without neighbors\nRDKit WARNING: [10:17:54] WARNING: not removing hydrogen atom without neighbors\nRDKit WARNING: [10:17:54] WARNING: not removing hydrogen atom without neighbors\n[10:17:54] WARNING: not removing hydrogen atom without neighbors\n[10:17:54] WARNING: not removing hydrogen atom without neighbors\nRDKit WARNING: [10:17:54] WARNING: not removing hydrogen atom without neighbors\n[10:17:54] WARNING: not removing hydrogen atom without neighbors\nRDKit WARNING: [10:17:54] WARNING: not removing hydrogen atom without neighbors\n[10:17:54] WARNING: not removing hydrogen atom without neighbors\nRDKit WARNING: [10:17:54] WARNING: not removing hydrogen atom without neighbors\n[10:17:54] WARNING: not removing hydrogen atom without neighbors\nRDKit WARNING: [10:17:54] WARNING: not removing hydrogen atom without neighbors\n[10:17:54] WARNING: not removing hydrogen atom without neighbors\nRDKit WARNING: [10:17:54] WARNING: not removing hydrogen atom without neighbors\nRDKit WARNING: [10:17:54] WARNING: not removing hydrogen atom without neighbors\nRDKit WARNING: [10:17:54] WARNING: not removing hydrogen atom without neighbors\n[10:17:54] WARNING: not removing hydrogen atom without neighbors\n[10:17:54] WARNING: not removing hydrogen atom without neighbors\n[10:17:54] WARNING: not removing hydrogen atom without neighbors\nRDKit WARNING: [10:17:54] WARNING: not removing hydrogen atom without neighbors\n[10:17:54] WARNING: not removing hydrogen atom without neighbors\nRDKit WARNING: [10:17:54] WARNING: not removing hydrogen atom without neighbors\n[10:17:54] WARNING: not removing hydrogen atom without neighbors\nRDKit WARNING: [10:17:54] WARNING: not removing hydrogen atom without neighbors\n[10:17:54] WARNING: not removing hydrogen atom without neighbors\nRDKit WARNING: [10:17:54] WARNING: not removing hydrogen atom without neighbors\n[10:17:54] WARNING: not removing hydrogen atom without neighbors\nRDKit WARNING: [10:17:54] WARNING: not removing hydrogen atom without neighbors\n[10:17:54] WARNING: not removing hydrogen atom without neighbors\nRDKit WARNING: [10:17:54] WARNING: not removing hydrogen atom without neighbors\nRDKit WARNING: [10:17:54] WARNING: not removing hydrogen atom without neighbors\n[10:17:54] WARNING: not removing hydrogen atom without neighbors\n[10:17:54] WARNING: not removing hydrogen atom without neighbors\nRDKit WARNING: [10:17:54] WARNING: not removing hydrogen atom without neighbors\n[10:17:54] WARNING: not removing hydrogen atom without neighbors\nRDKit WARNING: [10:17:54] WARNING: not removing hydrogen atom without neighbors\nRDKit WARNING: [10:17:54] WARNING: not removing hydrogen atom without neighbors\nRDKit WARNING: [10:17:54] WARNING: not removing hydrogen atom without neighbors\nRDKit WARNING: [10:17:54] WARNING: not removing hydrogen atom without neighbors\n[10:17:54] WARNING: not removing hydrogen atom without neighbors\n[10:17:54] WARNING: not removing hydrogen atom without neighbors\n[10:17:54] WARNING: not removing hydrogen atom without neighbors\n[10:17:54] WARNING: not removing hydrogen atom without neighbors\nRDKit WARNING: [10:17:54] WARNING: not removing hydrogen atom without neighbors\n[10:17:54] WARNING: not removing hydrogen atom without neighbors\nRDKit WARNING: [10:17:54] WARNING: not removing hydrogen atom without neighbors\n[10:17:54] WARNING: not removing hydrogen atom without neighbors\nRDKit WARNING: [10:17:54] WARNING: not removing hydrogen atom without neighbors\n[10:17:54] WARNING: not removing hydrogen atom without neighbors\nRDKit WARNING: [10:17:54] WARNING: not removing hydrogen atom without neighbors\n[10:17:54] WARNING: not removing hydrogen atom without neighbors\nRDKit WARNING: [10:17:54] WARNING: not removing hydrogen atom without neighbors\n[10:17:54] WARNING: not removing hydrogen atom without neighbors\nRDKit WARNING: [10:17:54] WARNING: not removing hydrogen atom without neighbors\nRDKit WARNING: [10:17:54] WARNING: not removing hydrogen atom without neighbors\n[10:17:54] WARNING: not removing hydrogen atom without neighbors\nRDKit WARNING: [10:17:54] WARNING: not removing hydrogen atom without neighbors\n[10:17:54] WARNING: not removing hydrogen atom without neighbors\n[10:17:54] WARNING: not removing hydrogen atom without neighbors\nRDKit WARNING: [10:17:54] WARNING: not removing hydrogen atom without neighbors\nRDKit WARNING: [10:17:54] WARNING: not removing hydrogen atom without neighbors\n[10:17:54] WARNING: not removing hydrogen atom without neighbors\n[10:17:54] WARNING: not removing hydrogen atom without neighbors\nRDKit WARNING: [10:17:54] WARNING: not removing hydrogen atom without neighbors\n[10:17:54] WARNING: not removing hydrogen atom without neighbors\nRDKit WARNING: [10:17:54] WARNING: not removing hydrogen atom without neighbors\nRDKit WARNING: [10:17:54] WARNING: not removing hydrogen atom without neighbors\n[10:17:54] WARNING: not removing hydrogen atom without neighbors\nRDKit WARNING: [10:17:54] WARNING: not removing hydrogen atom without neighbors\n[10:17:54] WARNING: not removing hydrogen atom without neighbors\n[10:17:54] WARNING: not removing hydrogen atom without neighbors\nRDKit WARNING: [10:17:54] WARNING: not removing hydrogen atom without neighbors\n[10:17:54] WARNING: not removing hydrogen atom without neighbors\nRDKit WARNING: [10:17:54] WARNING: not removing hydrogen atom without neighbors\n[10:17:54] WARNING: not removing hydrogen atom without neighbors\nRDKit WARNING: [10:17:54] WARNING: not removing hydrogen atom without neighbors\nRDKit WARNING: [10:17:54] WARNING: not removing hydrogen atom without neighbors\n[10:17:54] WARNING: not removing hydrogen atom without neighbors\nRDKit WARNING: [10:17:54] WARNING: not removing hydrogen atom without neighbors\n[10:17:54] WARNING: not removing hydrogen atom without neighbors\n[10:17:54] WARNING: not removing hydrogen atom without neighbors\nRDKit WARNING: [10:17:54] WARNING: not removing hydrogen atom without neighbors\n[10:17:54] WARNING: not removing hydrogen atom without neighbors\nRDKit WARNING: [10:17:54] WARNING: not removing hydrogen atom without neighbors\nRDKit WARNING: [10:17:54] WARNING: not removing hydrogen atom without neighbors\n[10:17:54] WARNING: not removing hydrogen atom without neighbors\n[10:17:54] WARNING: not removing hydrogen atom without neighbors\nRDKit WARNING: [10:17:54] WARNING: not removing hydrogen atom without neighbors\nRDKit WARNING: [10:17:54] WARNING: not removing hydrogen atom without neighbors\n[10:17:54] WARNING: not removing hydrogen atom without neighbors\n[10:17:54] WARNING: not removing hydrogen atom without neighbors\nRDKit WARNING: [10:17:54] WARNING: not removing hydrogen atom without neighbors\nRDKit WARNING: [10:17:54] WARNING: not removing hydrogen atom without neighbors\n[10:17:54] WARNING: not removing hydrogen atom without neighbors\n[10:17:54] WARNING: not removing hydrogen atom without neighbors\nRDKit WARNING: [10:17:54] WARNING: not removing hydrogen atom without neighbors\nRDKit WARNING: [10:17:54] WARNING: not removing hydrogen atom without neighbors\n[10:17:54] WARNING: not removing hydrogen atom without neighbors\n[10:17:54] WARNING: not removing hydrogen atom without neighbors\nRDKit WARNING: [10:17:54] WARNING: not removing hydrogen atom without neighbors\nRDKit WARNING: [10:17:54] WARNING: not removing hydrogen atom without neighbors\nRDKit WARNING: [10:17:54] WARNING: not removing hydrogen atom without neighbors\nRDKit WARNING: [10:17:54] WARNING: not removing hydrogen atom without neighbors\nRDKit WARNING: [10:17:54] WARNING: not removing hydrogen atom without neighbors\nRDKit WARNING: [10:17:54] WARNING: not removing hydrogen atom without neighbors\n[10:17:54] WARNING: not removing hydrogen atom without neighbors\n[10:17:54] WARNING: not removing hydrogen atom without neighbors\n[10:17:54] WARNING: not removing hydrogen atom without neighbors\n[10:17:54] WARNING: not removing hydrogen atom without neighbors\n[10:17:54] WARNING: not removing hydrogen atom without neighbors\n[10:17:54] WARNING: not removing hydrogen atom without neighbors\nRDKit WARNING: [10:17:54] WARNING: not removing hydrogen atom without neighbors\n[10:17:54] WARNING: not removing hydrogen atom without neighbors\nRDKit WARNING: [10:17:54] WARNING: not removing hydrogen atom without neighbors\n[10:17:54] WARNING: not removing hydrogen atom without neighbors\nRDKit WARNING: [10:17:54] WARNING: not removing hydrogen atom without neighbors\n[10:17:54] WARNING: not removing hydrogen atom without neighbors\nRDKit WARNING: [10:17:54] WARNING: not removing hydrogen atom without neighbors\n[10:17:54] WARNING: not removing hydrogen atom without neighbors\nRDKit WARNING: [10:17:54] WARNING: not removing hydrogen atom without neighbors\nRDKit WARNING: [10:17:54] WARNING: not removing hydrogen atom without neighbors\nRDKit WARNING: [10:17:54] WARNING: not removing hydrogen atom without neighbors\n[10:17:54] WARNING: not removing hydrogen atom without neighbors\n[10:17:54] WARNING: not removing hydrogen atom without neighbors\nRDKit WARNING: [10:17:54] WARNING: not removing hydrogen atom without neighbors\n[10:17:54] WARNING: not removing hydrogen atom without neighbors\n[10:17:54] WARNING: not removing hydrogen atom without neighbors\nRDKit WARNING: [10:17:54] WARNING: not removing hydrogen atom without neighbors\n[10:17:54] WARNING: not removing hydrogen atom without neighbors\nRDKit WARNING: [10:17:54] WARNING: not removing hydrogen atom without neighbors\n[10:17:54] WARNING: not removing hydrogen atom without neighbors\nRDKit WARNING: [10:17:54] WARNING: not removing hydrogen atom without neighbors\n[10:17:54] WARNING: not removing hydrogen atom without neighbors\nRDKit WARNING: [10:17:54] WARNING: not removing hydrogen atom without neighbors\n[10:17:54] WARNING: not removing hydrogen atom without neighbors\nRDKit WARNING: [10:17:55] WARNING: not removing hydrogen atom without neighbors\n[10:17:55] WARNING: not removing hydrogen atom without neighbors\nRDKit WARNING: [10:17:55] WARNING: not removing hydrogen atom without neighbors\n[10:17:55] WARNING: not removing hydrogen atom without neighbors\nRDKit WARNING: [10:17:55] WARNING: not removing hydrogen atom without neighbors\n[10:17:55] WARNING: not removing hydrogen atom without neighbors\nRDKit WARNING: [10:17:55] WARNING: not removing hydrogen atom without neighbors\n[10:17:55] WARNING: not removing hydrogen atom without neighbors\nRDKit WARNING: [10:17:55] WARNING: not removing hydrogen atom without neighbors\nRDKit WARNING: [10:17:55] WARNING: not removing hydrogen atom without neighbors\n[10:17:55] WARNING: not removing hydrogen atom without neighbors\n[10:17:55] WARNING: not removing hydrogen atom without neighbors\nRDKit WARNING: [10:17:55] WARNING: not removing hydrogen atom without neighbors\nRDKit WARNING: [10:17:55] WARNING: not removing hydrogen atom without neighbors\nRDKit WARNING: [10:17:55] WARNING: not removing hydrogen atom without neighbors\n[10:17:55] WARNING: not removing hydrogen atom without neighbors\n[10:17:55] WARNING: not removing hydrogen atom without neighbors\n[10:17:55] WARNING: not removing hydrogen atom without neighbors\nRDKit WARNING: [10:17:55] WARNING: not removing hydrogen atom without neighbors\n[10:17:55] WARNING: not removing hydrogen atom without neighbors\nRDKit WARNING: [10:17:55] WARNING: not removing hydrogen atom without neighbors\n[10:17:55] WARNING: not removing hydrogen atom without neighbors\nRDKit WARNING: [10:17:55] WARNING: not removing hydrogen atom without neighbors\n[10:17:55] WARNING: not removing hydrogen atom without neighbors\nRDKit WARNING: [10:17:55] WARNING: not removing hydrogen atom without neighbors\nRDKit WARNING: [10:17:55] WARNING: not removing hydrogen atom without neighbors\nRDKit WARNING: [10:17:55] WARNING: not removing hydrogen atom without neighbors\nRDKit WARNING: [10:17:55] WARNING: not removing hydrogen atom without neighbors\n[10:17:55] WARNING: not removing hydrogen atom without neighbors\n[10:17:55] WARNING: not removing hydrogen atom without neighbors\n[10:17:55] WARNING: not removing hydrogen atom without neighbors\n[10:17:55] WARNING: not removing hydrogen atom without neighbors\nRDKit WARNING: [10:17:55] WARNING: not removing hydrogen atom without neighbors\nRDKit WARNING: [10:17:55] WARNING: not removing hydrogen atom without neighbors\n[10:17:55] WARNING: not removing hydrogen atom without neighbors\nRDKit WARNING: [10:17:55] WARNING: not removing hydrogen atom without neighbors\nRDKit WARNING: [10:17:55] WARNING: not removing hydrogen atom without neighbors\nRDKit WARNING: [10:17:55] WARNING: not removing hydrogen atom without neighbors\n[10:17:55] WARNING: not removing hydrogen atom without neighbors\n[10:17:55] WARNING: not removing hydrogen atom without neighbors\n[10:17:55] WARNING: not removing hydrogen atom without neighbors\n[10:17:55] WARNING: not removing hydrogen atom without neighbors\nRDKit WARNING: [10:17:55] WARNING: not removing hydrogen atom without neighbors\nRDKit WARNING: [10:17:55] WARNING: not removing hydrogen atom without neighbors\nRDKit WARNING: [10:17:55] WARNING: not removing hydrogen atom without neighbors\nRDKit WARNING: [10:17:55] WARNING: not removing hydrogen atom without neighbors\n[10:17:55] WARNING: not removing hydrogen atom without neighbors\n[10:17:55] WARNING: not removing hydrogen atom without neighbors\n[10:17:55] WARNING: not removing hydrogen atom without neighbors\n[10:17:55] WARNING: not removing hydrogen atom without neighbors\nRDKit WARNING: [10:17:55] WARNING: not removing hydrogen atom without neighbors\nRDKit WARNING: [10:17:55] WARNING: not removing hydrogen atom without neighbors\n[10:17:55] WARNING: not removing hydrogen atom without neighbors\n[10:17:55] WARNING: not removing hydrogen atom without neighbors\nRDKit WARNING: [10:17:55] WARNING: not removing hydrogen atom without neighbors\n[10:17:55] WARNING: not removing hydrogen atom without neighbors\nRDKit WARNING: [10:17:55] WARNING: not removing hydrogen atom without neighbors\n[10:17:55] WARNING: not removing hydrogen atom without neighbors\nRDKit WARNING: [10:17:55] WARNING: not removing hydrogen atom without neighbors\n[10:17:55] WARNING: not removing hydrogen atom without neighbors\nRDKit WARNING: [10:17:55] WARNING: not removing hydrogen atom without neighbors\n[10:17:55] WARNING: not removing hydrogen atom without neighbors\nRDKit WARNING: [10:17:55] WARNING: not removing hydrogen atom without neighbors\n[10:17:55] WARNING: not removing hydrogen atom without neighbors\nRDKit WARNING: [10:17:55] WARNING: not removing hydrogen atom without neighbors\nRDKit WARNING: [10:17:55] WARNING: not removing hydrogen atom without neighbors\n[10:17:55] WARNING: not removing hydrogen atom without neighbors\n[10:17:55] WARNING: not removing hydrogen atom without neighbors\nRDKit WARNING: [10:17:55] WARNING: not removing hydrogen atom without neighbors\nRDKit WARNING: [10:17:55] WARNING: not removing hydrogen atom without neighbors\n[10:17:55] WARNING: not removing hydrogen atom without neighbors\n[10:17:55] WARNING: not removing hydrogen atom without neighbors\nRDKit WARNING: [10:17:55] WARNING: not removing hydrogen atom without neighbors\n[10:17:55] WARNING: not removing hydrogen atom without neighbors\nRDKit WARNING: [10:17:55] WARNING: not removing hydrogen atom without neighbors\n[10:17:55] WARNING: not removing hydrogen atom without neighbors\nRDKit WARNING: [10:17:55] WARNING: not removing hydrogen atom without neighbors\nRDKit WARNING: [10:17:55] WARNING: not removing hydrogen atom without neighbors\n[10:17:55] WARNING: not removing hydrogen atom without neighbors\nRDKit WARNING: [10:17:55] WARNING: not removing hydrogen atom without neighbors\n[10:17:55] WARNING: not removing hydrogen atom without neighbors\n[10:17:55] WARNING: not removing hydrogen atom without neighbors\nRDKit WARNING: [10:17:55] WARNING: not removing hydrogen atom without neighbors\n[10:17:55] WARNING: not removing hydrogen atom without neighbors\nRDKit WARNING: [10:17:55] WARNING: not removing hydrogen atom without neighbors\n[10:17:55] WARNING: not removing hydrogen atom without neighbors\nRDKit WARNING: [10:17:55] WARNING: not removing hydrogen atom without neighbors\n[10:17:55] WARNING: not removing hydrogen atom without neighbors\nRDKit WARNING: [10:17:55] WARNING: not removing hydrogen atom without neighbors\n[10:17:55] WARNING: not removing hydrogen atom without neighbors\n[10:17:55] WARNING: not removing hydrogen atom without neighbors\nRDKit WARNING: [10:17:55] WARNING: not removing hydrogen atom without neighbors\nRDKit WARNING: [10:17:55] WARNING: not removing hydrogen atom without neighbors\n[10:17:55] WARNING: not removing hydrogen atom without neighbors\nRDKit WARNING: [10:17:55] WARNING: not removing hydrogen atom without neighbors\nRDKit WARNING: [10:17:55] WARNING: not removing hydrogen atom without neighbors\nRDKit WARNING: [10:17:55] WARNING: not removing hydrogen atom without neighbors\nRDKit WARNING: [10:17:55] WARNING: not removing hydrogen atom without neighbors\n[10:17:55] WARNING: not removing hydrogen atom without neighbors\n[10:17:55] WARNING: not removing hydrogen atom without neighbors\n[10:17:55] WARNING: not removing hydrogen atom without neighbors\n[10:17:55] WARNING: not removing hydrogen atom without neighbors\nRDKit WARNING: [10:17:55] WARNING: not removing hydrogen atom without neighbors\n[10:17:55] WARNING: not removing hydrogen atom without neighbors\nRDKit WARNING: [10:17:55] WARNING: not removing hydrogen atom without neighbors\n[10:17:55] WARNING: not removing hydrogen atom without neighbors\nRDKit WARNING: [10:17:55] WARNING: not removing hydrogen atom without neighbors\nRDKit WARNING: [10:17:55] WARNING: not removing hydrogen atom without neighbors\nRDKit WARNING: [10:17:55] WARNING: not removing hydrogen atom without neighbors\nRDKit WARNING: [10:17:55] WARNING: not removing hydrogen atom without neighbors\nRDKit WARNING: [10:17:55] WARNING: not removing hydrogen atom without neighbors\nRDKit WARNING: [10:17:55] WARNING: not removing hydrogen atom without neighbors\nRDKit WARNING: [10:17:55] WARNING: not removing hydrogen atom without neighbors\n[10:17:55] WARNING: not removing hydrogen atom without neighbors\n[10:17:55] WARNING: not removing hydrogen atom without neighbors\n[10:17:55] WARNING: not removing hydrogen atom without neighbors\n[10:17:55] WARNING: not removing hydrogen atom without neighbors\n[10:17:55] WARNING: not removing hydrogen atom without neighbors\n[10:17:55] WARNING: not removing hydrogen atom without neighbors\nRDKit WARNING: [10:17:55] WARNING: not removing hydrogen atom without neighbors\n[10:17:55] WARNING: not removing hydrogen atom without neighbors\n[10:17:55] WARNING: not removing hydrogen atom without neighbors\nRDKit WARNING: [10:17:55] WARNING: not removing hydrogen atom without neighbors\nRDKit WARNING: [10:17:55] WARNING: not removing hydrogen atom without neighbors\nRDKit WARNING: [10:17:55] WARNING: not removing hydrogen atom without neighbors\n[10:17:55] WARNING: not removing hydrogen atom without neighbors\n[10:17:55] WARNING: not removing hydrogen atom without neighbors\n[10:17:55] WARNING: not removing hydrogen atom without neighbors\nRDKit WARNING: [10:17:55] WARNING: not removing hydrogen atom without neighbors\n[10:17:55] WARNING: not removing hydrogen atom without neighbors\nRDKit WARNING: [10:17:55] WARNING: not removing hydrogen atom without neighbors\n[10:17:55] WARNING: not removing hydrogen atom without neighbors\nRDKit WARNING: [10:17:55] WARNING: not removing hydrogen atom without neighbors\n[10:17:55] WARNING: not removing hydrogen atom without neighbors\nRDKit WARNING: [10:17:55] WARNING: not removing hydrogen atom without neighbors\n[10:17:55] WARNING: not removing hydrogen atom without neighbors\nRDKit WARNING: [10:17:55] WARNING: not removing hydrogen atom without neighbors\nRDKit WARNING: [10:17:55] WARNING: not removing hydrogen atom without neighbors\n[10:17:55] WARNING: not removing hydrogen atom without neighbors\nRDKit WARNING: [10:17:55] WARNING: not removing hydrogen atom without neighbors\n[10:17:55] WARNING: not removing hydrogen atom without neighbors\n[10:17:55] WARNING: not removing hydrogen atom without neighbors\nRDKit WARNING: [10:17:55] WARNING: not removing hydrogen atom without neighbors\n[10:17:55] WARNING: not removing hydrogen atom without neighbors\nRDKit WARNING: [10:17:55] WARNING: not removing hydrogen atom without neighbors\n[10:17:55] WARNING: not removing hydrogen atom without neighbors\nRDKit WARNING: [10:17:55] WARNING: not removing hydrogen atom without neighbors\n[10:17:55] WARNING: not removing hydrogen atom without neighbors\nRDKit WARNING: [10:17:55] WARNING: not removing hydrogen atom without neighbors\n[10:17:55] WARNING: not removing hydrogen atom without neighbors\nRDKit WARNING: [10:17:55] WARNING: not removing hydrogen atom without neighbors\n[10:17:55] WARNING: not removing hydrogen atom without neighbors\nRDKit WARNING: [10:17:55] WARNING: not removing hydrogen atom without neighbors\n[10:17:55] WARNING: not removing hydrogen atom without neighbors\nRDKit WARNING: [10:17:55] WARNING: not removing hydrogen atom without neighbors\n[10:17:55] WARNING: not removing hydrogen atom without neighbors\nRDKit WARNING: [10:17:55] WARNING: not removing hydrogen atom without neighbors\nRDKit WARNING: [10:17:55] WARNING: not removing hydrogen atom without neighbors\n[10:17:55] WARNING: not removing hydrogen atom without neighbors\n[10:17:55] WARNING: not removing hydrogen atom without neighbors\nRDKit WARNING: [10:17:55] WARNING: not removing hydrogen atom without neighbors\n[10:17:55] WARNING: not removing hydrogen atom without neighbors\nRDKit WARNING: [10:17:55] WARNING: not removing hydrogen atom without neighbors\n[10:17:55] WARNING: not removing hydrogen atom without neighbors\nRDKit WARNING: [10:17:55] WARNING: not removing hydrogen atom without neighbors\nRDKit WARNING: [10:17:55] WARNING: not removing hydrogen atom without neighbors\nRDKit WARNING: [10:17:55] WARNING: not removing hydrogen atom without neighbors\nRDKit WARNING: [10:17:55] WARNING: not removing hydrogen atom without neighbors\n[10:17:55] WARNING: not removing hydrogen atom without neighbors\n[10:17:55] WARNING: not removing hydrogen atom without neighbors\n[10:17:55] WARNING: not removing hydrogen atom without neighbors\n[10:17:55] WARNING: not removing hydrogen atom without neighbors\nRDKit WARNING: [10:17:55] WARNING: not removing hydrogen atom without neighbors\n[10:17:55] WARNING: not removing hydrogen atom without neighbors\nRDKit WARNING: [10:17:55] WARNING: not removing hydrogen atom without neighbors\nRDKit WARNING: [10:17:55] WARNING: not removing hydrogen atom without neighbors\n[10:17:55] WARNING: not removing hydrogen atom without neighbors\n[10:17:55] WARNING: not removing hydrogen atom without neighbors\nRDKit WARNING: [10:17:55] WARNING: not removing hydrogen atom without neighbors\nRDKit WARNING: [10:17:55] WARNING: not removing hydrogen atom without neighbors\n[10:17:55] WARNING: not removing hydrogen atom without neighbors\nRDKit WARNING: [10:17:55] WARNING: not removing hydrogen atom without neighbors\n[10:17:55] WARNING: not removing hydrogen atom without neighbors\n[10:17:55] WARNING: not removing hydrogen atom without neighbors\nRDKit WARNING: [10:17:55] WARNING: not removing hydrogen atom without neighbors\nRDKit WARNING: [10:17:55] WARNING: not removing hydrogen atom without neighbors\n[10:17:55] WARNING: not removing hydrogen atom without neighbors\n[10:17:55] WARNING: not removing hydrogen atom without neighbors\nRDKit WARNING: [10:17:55] WARNING: not removing hydrogen atom without neighbors\n[10:17:55] WARNING: not removing hydrogen atom without neighbors\nRDKit WARNING: [10:17:55] WARNING: not removing hydrogen atom without neighbors\n[10:17:55] WARNING: not removing hydrogen atom without neighbors\nRDKit WARNING: [10:17:55] WARNING: not removing hydrogen atom without neighbors\n[10:17:55] WARNING: not removing hydrogen atom without neighbors\n[10:17:55] WARNING: not removing hydrogen atom without neighbors\nRDKit WARNING: [10:17:55] WARNING: not removing hydrogen atom without neighbors\nRDKit WARNING: [10:17:55] WARNING: not removing hydrogen atom without neighbors\nRDKit WARNING: [10:17:55] WARNING: not removing hydrogen atom without neighbors\n[10:17:55] WARNING: not removing hydrogen atom without neighbors\nRDKit WARNING: [10:17:55] WARNING: not removing hydrogen atom without neighbors\nRDKit WARNING: [10:17:55] WARNING: not removing hydrogen atom without neighbors\nRDKit WARNING: [10:17:55] WARNING: not removing hydrogen atom without neighbors\nRDKit WARNING: [10:17:55] WARNING: not removing hydrogen atom without neighbors\n[10:17:55] WARNING: not removing hydrogen atom without neighbors\n[10:17:55] WARNING: not removing hydrogen atom without neighbors\n[10:17:55] WARNING: not removing hydrogen atom without neighbors\n[10:17:55] WARNING: not removing hydrogen atom without neighbors\n[10:17:55] WARNING: not removing hydrogen atom without neighbors\nRDKit WARNING: [10:17:55] WARNING: not removing hydrogen atom without neighbors\n[10:17:55] WARNING: not removing hydrogen atom without neighbors\nRDKit WARNING: [10:17:55] WARNING: not removing hydrogen atom without neighbors\n[10:17:55] WARNING: not removing hydrogen atom without neighbors\nRDKit WARNING: [10:17:55] WARNING: not removing hydrogen atom without neighbors\nRDKit WARNING: [10:17:55] WARNING: not removing hydrogen atom without neighbors\n[10:17:55] WARNING: not removing hydrogen atom without neighbors\n[10:17:55] WARNING: not removing hydrogen atom without neighbors\nRDKit WARNING: [10:17:55] WARNING: not removing hydrogen atom without neighbors\nRDKit WARNING: [10:17:55] WARNING: not removing hydrogen atom without neighbors\nRDKit WARNING: [10:17:55] WARNING: not removing hydrogen atom without neighbors\n[10:17:55] WARNING: not removing hydrogen atom without neighbors\n[10:17:55] WARNING: not removing hydrogen atom without neighbors\n[10:17:55] WARNING: not removing hydrogen atom without neighbors\nRDKit WARNING: [10:17:55] WARNING: not removing hydrogen atom without neighbors\nRDKit WARNING: [10:17:55] WARNING: not removing hydrogen atom without neighbors\nRDKit WARNING: [10:17:55] WARNING: not removing hydrogen atom without neighbors\nRDKit WARNING: [10:17:55] WARNING: not removing hydrogen atom without neighbors\n[10:17:55] WARNING: not removing hydrogen atom without neighbors\n[10:17:55] WARNING: not removing hydrogen atom without neighbors\n[10:17:55] WARNING: not removing hydrogen atom without neighbors\n[10:17:55] WARNING: not removing hydrogen atom without neighbors\nRDKit WARNING: [10:17:55] WARNING: not removing hydrogen atom without neighbors\n[10:17:55] WARNING: not removing hydrogen atom without neighbors\nRDKit WARNING: [10:17:55] WARNING: not removing hydrogen atom without neighbors\n[10:17:55] WARNING: not removing hydrogen atom without neighbors\nRDKit WARNING: [10:17:55] WARNING: not removing hydrogen atom without neighbors\nRDKit WARNING: [10:17:55] WARNING: not removing hydrogen atom without neighbors\n[10:17:55] WARNING: not removing hydrogen atom without neighbors\nRDKit WARNING: [10:17:55] WARNING: not removing hydrogen atom without neighbors\nRDKit WARNING: [10:17:55] WARNING: not removing hydrogen atom without neighbors\n[10:17:55] WARNING: not removing hydrogen atom without neighbors\n[10:17:55] WARNING: not removing hydrogen atom without neighbors\n[10:17:55] WARNING: not removing hydrogen atom without neighbors\nRDKit WARNING: [10:17:55] WARNING: not removing hydrogen atom without neighbors\n[10:17:55] WARNING: not removing hydrogen atom without neighbors\nRDKit WARNING: [10:17:55] WARNING: not removing hydrogen atom without neighbors\n[10:17:55] WARNING: not removing hydrogen atom without neighbors\nRDKit WARNING: [10:17:55] WARNING: not removing hydrogen atom without neighbors\n[10:17:55] WARNING: not removing hydrogen atom without neighbors\nRDKit WARNING: [10:17:55] WARNING: not removing hydrogen atom without neighbors\n[10:17:55] WARNING: not removing hydrogen atom without neighbors\nRDKit WARNING: [10:17:55] WARNING: not removing hydrogen atom without neighbors\n[10:17:55] WARNING: not removing hydrogen atom without neighbors\nRDKit WARNING: [10:17:55] WARNING: not removing hydrogen atom without neighbors\n[10:17:55] WARNING: not removing hydrogen atom without neighbors\nRDKit WARNING: [10:17:55] WARNING: not removing hydrogen atom without neighbors\nRDKit WARNING: [10:17:55] WARNING: not removing hydrogen atom without neighbors\n[10:17:55] WARNING: not removing hydrogen atom without neighbors\n[10:17:55] WARNING: not removing hydrogen atom without neighbors\nRDKit WARNING: [10:17:55] WARNING: not removing hydrogen atom without neighbors\n[10:17:55] WARNING: not removing hydrogen atom without neighbors\nRDKit WARNING: [10:17:55] WARNING: not removing hydrogen atom without neighbors\n[10:17:55] WARNING: not removing hydrogen atom without neighbors\nRDKit WARNING: [10:17:56] WARNING: not removing hydrogen atom without neighbors\nRDKit WARNING: [10:17:56] WARNING: not removing hydrogen atom without neighbors\n[10:17:56] WARNING: not removing hydrogen atom without neighbors\n[10:17:56] WARNING: not removing hydrogen atom without neighbors\nRDKit WARNING: [10:17:56] WARNING: not removing hydrogen atom without neighbors\n[10:17:56] WARNING: not removing hydrogen atom without neighbors\nRDKit WARNING: [10:17:56] WARNING: not removing hydrogen atom without neighbors\n[10:17:56] WARNING: not removing hydrogen atom without neighbors\nRDKit WARNING: [10:17:56] WARNING: not removing hydrogen atom without neighbors\n[10:17:56] WARNING: not removing hydrogen atom without neighbors\nRDKit WARNING: [10:17:56] WARNING: not removing hydrogen atom without neighbors\n[10:17:56] WARNING: not removing hydrogen atom without neighbors\nRDKit WARNING: [10:17:56] WARNING: not removing hydrogen atom without neighbors\n[10:17:56] WARNING: not removing hydrogen atom without neighbors\nRDKit WARNING: [10:17:56] WARNING: not removing hydrogen atom without neighbors\n[10:17:56] WARNING: not removing hydrogen atom without neighbors\nRDKit WARNING: [10:17:56] WARNING: not removing hydrogen atom without neighbors\n[10:17:56] WARNING: not removing hydrogen atom without neighbors\nRDKit WARNING: [10:17:56] WARNING: not removing hydrogen atom without neighbors\n[10:17:56] WARNING: not removing hydrogen atom without neighbors\nRDKit WARNING: [10:17:56] WARNING: not removing hydrogen atom without neighbors\n[10:17:56] WARNING: not removing hydrogen atom without neighbors\nRDKit WARNING: [10:17:56] WARNING: not removing hydrogen atom without neighbors\n[10:17:56] WARNING: not removing hydrogen atom without neighbors\nRDKit WARNING: [10:17:56] WARNING: not removing hydrogen atom without neighbors\n[10:17:56] WARNING: not removing hydrogen atom without neighbors\nRDKit WARNING: [10:17:56] WARNING: not removing hydrogen atom without neighbors\n[10:17:56] WARNING: not removing hydrogen atom without neighbors\nRDKit WARNING: [10:17:56] WARNING: not removing hydrogen atom without neighbors\nRDKit WARNING: [10:17:56] WARNING: not removing hydrogen atom without neighbors\nRDKit WARNING: [10:17:56] WARNING: not removing hydrogen atom without neighbors\n[10:17:56] WARNING: not removing hydrogen atom without neighbors\n[10:17:56] WARNING: not removing hydrogen atom without neighbors\nRDKit WARNING: [10:17:56] WARNING: not removing hydrogen atom without neighbors\n[10:17:56] WARNING: not removing hydrogen atom without neighbors\nRDKit WARNING: [10:17:56] WARNING: not removing hydrogen atom without neighbors\n[10:17:56] WARNING: not removing hydrogen atom without neighbors\n[10:17:56] WARNING: not removing hydrogen atom without neighbors\nRDKit WARNING: [10:17:56] WARNING: not removing hydrogen atom without neighbors\n[10:17:56] WARNING: not removing hydrogen atom without neighbors\nRDKit WARNING: [10:17:56] WARNING: not removing hydrogen atom without neighbors\n[10:17:56] WARNING: not removing hydrogen atom without neighbors\nRDKit WARNING: [10:17:56] WARNING: not removing hydrogen atom without neighbors\n[10:17:56] WARNING: not removing hydrogen atom without neighbors\nRDKit WARNING: [10:17:56] WARNING: not removing hydrogen atom without neighbors\n[10:17:56] WARNING: not removing hydrogen atom without neighbors\nRDKit WARNING: [10:17:56] WARNING: not removing hydrogen atom without neighbors\n[10:17:56] WARNING: not removing hydrogen atom without neighbors\nRDKit WARNING: [10:17:56] WARNING: not removing hydrogen atom without neighbors\n[10:17:56] WARNING: not removing hydrogen atom without neighbors\nRDKit WARNING: [10:17:56] WARNING: not removing hydrogen atom without neighbors\n[10:17:56] WARNING: not removing hydrogen atom without neighbors\nRDKit WARNING: [10:17:56] WARNING: not removing hydrogen atom without neighbors\nRDKit WARNING: [10:17:56] WARNING: not removing hydrogen atom without neighbors\nRDKit WARNING: [10:17:56] WARNING: not removing hydrogen atom without neighbors\n[10:17:56] WARNING: not removing hydrogen atom without neighbors\n[10:17:56] WARNING: not removing hydrogen atom without neighbors\n[10:17:56] WARNING: not removing hydrogen atom without neighbors\nRDKit WARNING: [10:17:56] WARNING: not removing hydrogen atom without neighbors\nRDKit WARNING: [10:17:56] WARNING: not removing hydrogen atom without neighbors\n[10:17:56] WARNING: not removing hydrogen atom without neighbors\nRDKit WARNING: [10:17:56] WARNING: not removing hydrogen atom without neighbors\nRDKit WARNING: [10:17:56] WARNING: not removing hydrogen atom without neighbors\n[10:17:56] WARNING: not removing hydrogen atom without neighbors\n[10:17:56] WARNING: not removing hydrogen atom without neighbors\n[10:17:56] WARNING: not removing hydrogen atom without neighbors\nRDKit WARNING: [10:17:56] WARNING: not removing hydrogen atom without neighbors\n[10:17:56] WARNING: not removing hydrogen atom without neighbors\nRDKit WARNING: [10:17:56] WARNING: not removing hydrogen atom without neighbors\n[10:17:56] WARNING: not removing hydrogen atom without neighbors\nRDKit WARNING: [10:17:56] WARNING: not removing hydrogen atom without neighbors\n[10:17:56] WARNING: not removing hydrogen atom without neighbors\nRDKit WARNING: [10:17:56] WARNING: not removing hydrogen atom without neighbors\n[10:17:56] WARNING: not removing hydrogen atom without neighbors\nRDKit WARNING: [10:17:56] WARNING: not removing hydrogen atom without neighbors\n[10:17:56] WARNING: not removing hydrogen atom without neighbors\nRDKit WARNING: [10:17:56] WARNING: not removing hydrogen atom without neighbors\n[10:17:56] WARNING: not removing hydrogen atom without neighbors\nRDKit WARNING: [10:17:56] WARNING: not removing hydrogen atom without neighbors\n[10:17:56] WARNING: not removing hydrogen atom without neighbors\nRDKit WARNING: [10:17:56] WARNING: not removing hydrogen atom without neighbors\nRDKit WARNING: [10:17:56] WARNING: not removing hydrogen atom without neighbors\nRDKit WARNING: [10:17:56] WARNING: not removing hydrogen atom without neighbors\n[10:17:56] WARNING: not removing hydrogen atom without neighbors\n[10:17:56] WARNING: not removing hydrogen atom without neighbors\n[10:17:56] WARNING: not removing hydrogen atom without neighbors\nRDKit WARNING: [10:17:56] WARNING: not removing hydrogen atom without neighbors\n[10:17:56] WARNING: not removing hydrogen atom without neighbors\nRDKit WARNING: [10:17:56] WARNING: not removing hydrogen atom without neighbors\n[10:17:56] WARNING: not removing hydrogen atom without neighbors\nRDKit WARNING: [10:17:56] WARNING: not removing hydrogen atom without neighbors\n[10:17:56] WARNING: not removing hydrogen atom without neighbors\nRDKit WARNING: [10:17:56] WARNING: not removing hydrogen atom without neighbors\n[10:17:56] WARNING: not removing hydrogen atom without neighbors\nRDKit WARNING: [10:17:56] WARNING: not removing hydrogen atom without neighbors\nRDKit WARNING: [10:17:56] WARNING: not removing hydrogen atom without neighbors\n[10:17:56] WARNING: not removing hydrogen atom without neighbors\n[10:17:56] WARNING: not removing hydrogen atom without neighbors\nRDKit WARNING: [10:17:56] WARNING: not removing hydrogen atom without neighbors\n[10:17:56] WARNING: not removing hydrogen atom without neighbors\nRDKit WARNING: [10:17:56] WARNING: not removing hydrogen atom without neighbors\n[10:17:56] WARNING: not removing hydrogen atom without neighbors\nRDKit WARNING: [10:17:56] WARNING: not removing hydrogen atom without neighbors\nRDKit WARNING: [10:17:56] WARNING: not removing hydrogen atom without neighbors\nRDKit WARNING: [10:17:56] WARNING: not removing hydrogen atom without neighbors\nRDKit WARNING: [10:17:56] WARNING: not removing hydrogen atom without neighbors\nRDKit WARNING: [10:17:56] WARNING: not removing hydrogen atom without neighbors\n[10:17:56] WARNING: not removing hydrogen atom without neighbors\n[10:17:56] WARNING: not removing hydrogen atom without neighbors\n[10:17:56] WARNING: not removing hydrogen atom without neighbors\n[10:17:56] WARNING: not removing hydrogen atom without neighbors\nRDKit WARNING: [10:17:56] WARNING: not removing hydrogen atom without neighbors\n[10:17:56] WARNING: not removing hydrogen atom without neighbors\n[10:17:56] WARNING: not removing hydrogen atom without neighbors\nRDKit WARNING: [10:17:56] WARNING: not removing hydrogen atom without neighbors\nRDKit WARNING: [10:17:56] WARNING: not removing hydrogen atom without neighbors\n[10:17:56] WARNING: not removing hydrogen atom without neighbors\n[10:17:56] WARNING: not removing hydrogen atom without neighbors\nRDKit WARNING: [10:17:56] WARNING: not removing hydrogen atom without neighbors\n[10:17:56] WARNING: not removing hydrogen atom without neighbors\nRDKit WARNING: [10:17:56] WARNING: not removing hydrogen atom without neighbors\nRDKit WARNING: [10:17:56] WARNING: not removing hydrogen atom without neighbors\n[10:17:56] WARNING: not removing hydrogen atom without neighbors\n[10:17:56] WARNING: not removing hydrogen atom without neighbors\nRDKit WARNING: [10:17:56] WARNING: not removing hydrogen atom without neighbors\nRDKit WARNING: [10:17:56] WARNING: not removing hydrogen atom without neighbors\n[10:17:56] WARNING: not removing hydrogen atom without neighbors\nRDKit WARNING: [10:17:56] WARNING: not removing hydrogen atom without neighbors\nRDKit WARNING: [10:17:56] WARNING: not removing hydrogen atom without neighbors\n[10:17:56] WARNING: not removing hydrogen atom without neighbors\n[10:17:56] WARNING: not removing hydrogen atom without neighbors\n[10:17:56] WARNING: not removing hydrogen atom without neighbors\nRDKit WARNING: [10:17:56] WARNING: not removing hydrogen atom without neighbors\nRDKit WARNING: [10:17:56] WARNING: not removing hydrogen atom without neighbors\n[10:17:56] WARNING: not removing hydrogen atom without neighbors\nRDKit WARNING: [10:17:56] WARNING: not removing hydrogen atom without neighbors\n[10:17:56] WARNING: not removing hydrogen atom without neighbors\nRDKit WARNING: [10:17:56] WARNING: not removing hydrogen atom without neighbors\n[10:17:56] WARNING: not removing hydrogen atom without neighbors\n[10:17:56] WARNING: not removing hydrogen atom without neighbors\nRDKit WARNING: [10:17:56] WARNING: not removing hydrogen atom without neighbors\n[10:17:56] WARNING: not removing hydrogen atom without neighbors\nRDKit WARNING: [10:17:56] WARNING: not removing hydrogen atom without neighbors\nRDKit WARNING: [10:17:56] WARNING: not removing hydrogen atom without neighbors\n[10:17:56] WARNING: not removing hydrogen atom without neighbors\n[10:17:56] WARNING: not removing hydrogen atom without neighbors\nRDKit WARNING: [10:17:56] WARNING: not removing hydrogen atom without neighbors\nRDKit WARNING: [10:17:56] WARNING: not removing hydrogen atom without neighbors\n[10:17:56] WARNING: not removing hydrogen atom without neighbors\nRDKit WARNING: [10:17:56] WARNING: not removing hydrogen atom without neighbors\n[10:17:56] WARNING: not removing hydrogen atom without neighbors\n[10:17:56] WARNING: not removing hydrogen atom without neighbors\nRDKit WARNING: [10:17:56] WARNING: not removing hydrogen atom without neighbors\nRDKit WARNING: [10:17:56] WARNING: not removing hydrogen atom without neighbors\n[10:17:56] WARNING: not removing hydrogen atom without neighbors\n[10:17:56] WARNING: not removing hydrogen atom without neighbors\nRDKit WARNING: [10:17:56] WARNING: not removing hydrogen atom without neighbors\n[10:17:56] WARNING: not removing hydrogen atom without neighbors\nRDKit WARNING: [10:17:56] WARNING: not removing hydrogen atom without neighbors\nRDKit WARNING: [10:17:56] WARNING: not removing hydrogen atom without neighbors\n[10:17:56] WARNING: not removing hydrogen atom without neighbors\n[10:17:56] WARNING: not removing hydrogen atom without neighbors\nRDKit WARNING: [10:17:56] WARNING: not removing hydrogen atom without neighbors\n[10:17:56] WARNING: not removing hydrogen atom without neighbors\nRDKit WARNING: [10:17:56] WARNING: not removing hydrogen atom without neighbors\n[10:17:56] WARNING: not removing hydrogen atom without neighbors\nRDKit WARNING: [10:17:56] WARNING: not removing hydrogen atom without neighbors\n[10:17:56] WARNING: not removing hydrogen atom without neighbors\nRDKit WARNING: [10:17:56] WARNING: not removing hydrogen atom without neighbors\n[10:17:56] WARNING: not removing hydrogen atom without neighbors\nRDKit WARNING: [10:17:56] WARNING: not removing hydrogen atom without neighbors\nRDKit WARNING: [10:17:56] WARNING: not removing hydrogen atom without neighbors\n[10:17:56] WARNING: not removing hydrogen atom without neighbors\n[10:17:56] WARNING: not removing hydrogen atom without neighbors\nRDKit WARNING: [10:17:56] WARNING: not removing hydrogen atom without neighbors\nRDKit WARNING: [10:17:56] WARNING: not removing hydrogen atom without neighbors\nRDKit WARNING: [10:17:56] WARNING: not removing hydrogen atom without neighbors\nRDKit WARNING: [10:17:56] WARNING: not removing hydrogen atom without neighbors\n[10:17:56] WARNING: not removing hydrogen atom without neighbors\n[10:17:56] WARNING: not removing hydrogen atom without neighbors\n[10:17:56] WARNING: not removing hydrogen atom without neighbors\nRDKit WARNING: [10:17:56] WARNING: not removing hydrogen atom without neighbors\n[10:17:56] WARNING: not removing hydrogen atom without neighbors\n[10:17:56] WARNING: not removing hydrogen atom without neighbors\nRDKit WARNING: [10:17:56] WARNING: not removing hydrogen atom without neighbors\n[10:17:56] WARNING: not removing hydrogen atom without neighbors\nRDKit WARNING: [10:17:56] WARNING: not removing hydrogen atom without neighbors\n[10:17:56] WARNING: not removing hydrogen atom without neighbors\nRDKit WARNING: [10:17:56] WARNING: not removing hydrogen atom without neighbors\n[10:17:56] WARNING: not removing hydrogen atom without neighbors\nRDKit WARNING: [10:17:56] WARNING: not removing hydrogen atom without neighbors\nRDKit WARNING: [10:17:56] WARNING: not removing hydrogen atom without neighbors\n[10:17:56] WARNING: not removing hydrogen atom without neighbors\n[10:17:56] WARNING: not removing hydrogen atom without neighbors\n",
     "output_type": "stream"
    }
   ],
   "execution_count": null
  },
  {
   "cell_type": "code",
   "metadata": {
    "tags": [],
    "cell_id": "00040-a1b4430d-698a-4419-aaf5-6ee18f170814",
    "deepnote_to_be_reexecuted": false,
    "source_hash": "7650a6b6",
    "execution_start": 1634033876693,
    "execution_millis": 152,
    "deepnote_cell_type": "code"
   },
   "source": "list_of_f_ = ['MolWt','MolLogP','NumValenceElectrons','HeavyAtomCount','NOCount','NumAliphaticRings','NumAromaticRings','NumHAcceptors','NumHDonors','NumHeteroatoms','NumRotatableBonds']\nlist_dfset = [MolWt,MolLogP,NumValenceElectrons,HeavyAtomCount,NOCount,NumAliphaticRings,NumAromaticRings,NumHAcceptors,NumHDonors,NumHeteroatoms,NumRotatableBonds]\nfor i in range(len(list_of_f_)):\n    train.insert(8+i,list_of_f_[i],list_dfset[i])\n",
   "outputs": [],
   "execution_count": null
  },
  {
   "cell_type": "code",
   "metadata": {
    "tags": [],
    "cell_id": "00017-689fb4c4-777f-4804-8628-8b96fc7584a7",
    "deepnote_to_be_reexecuted": false,
    "source_hash": "e1f0b45",
    "execution_start": 1634033897480,
    "execution_millis": 60,
    "deepnote_cell_type": "code"
   },
   "source": "train.head()",
   "outputs": [
    {
     "output_type": "execute_result",
     "execution_count": 18,
     "data": {
      "application/vnd.deepnote.dataframe.v2+json": {
       "row_count": 5,
       "column_count": 29,
       "columns": [
        {
         "name": "MOFname",
         "dtype": "object",
         "stats": {
          "unique_count": 5,
          "nan_count": 0,
          "categories": [
           {
            "name": "mof_unit_1",
            "count": 1
           },
           {
            "name": "mof_unit_2",
            "count": 1
           },
           {
            "name": "3 others",
            "count": 3
           }
          ]
         }
        },
        {
         "name": "volume [A^3]",
         "dtype": "float64",
         "stats": {
          "unique_count": 5,
          "nan_count": 0,
          "min": "1089.818728",
          "max": "2769.503842",
          "histogram": [
           {
            "bin_start": 1089.818728,
            "bin_end": 1257.7872394,
            "count": 3
           },
           {
            "bin_start": 1257.7872394,
            "bin_end": 1425.7557508,
            "count": 0
           },
           {
            "bin_start": 1425.7557508,
            "bin_end": 1593.7242621999999,
            "count": 0
           },
           {
            "bin_start": 1593.7242621999999,
            "bin_end": 1761.6927736,
            "count": 0
           },
           {
            "bin_start": 1761.6927736,
            "bin_end": 1929.6612850000001,
            "count": 0
           },
           {
            "bin_start": 1929.6612850000001,
            "bin_end": 2097.6297964,
            "count": 0
           },
           {
            "bin_start": 2097.6297964,
            "bin_end": 2265.5983078,
            "count": 1
           },
           {
            "bin_start": 2265.5983078,
            "bin_end": 2433.5668192000003,
            "count": 0
           },
           {
            "bin_start": 2433.5668192000003,
            "bin_end": 2601.5353305999997,
            "count": 0
           },
           {
            "bin_start": 2601.5353305999997,
            "bin_end": 2769.503842,
            "count": 1
           }
          ]
         }
        },
        {
         "name": "weight [u]",
         "dtype": "float64",
         "stats": {
          "unique_count": 5,
          "nan_count": 0,
          "min": "773.68796",
          "max": "2211.697211",
          "histogram": [
           {
            "bin_start": 773.68796,
            "bin_end": 917.4888851000001,
            "count": 3
           },
           {
            "bin_start": 917.4888851000001,
            "bin_end": 1061.2898102,
            "count": 0
           },
           {
            "bin_start": 1061.2898102,
            "bin_end": 1205.0907353,
            "count": 0
           },
           {
            "bin_start": 1205.0907353,
            "bin_end": 1348.8916604,
            "count": 1
           },
           {
            "bin_start": 1348.8916604,
            "bin_end": 1492.6925855000002,
            "count": 0
           },
           {
            "bin_start": 1492.6925855000002,
            "bin_end": 1636.4935106000003,
            "count": 0
           },
           {
            "bin_start": 1636.4935106000003,
            "bin_end": 1780.2944357000001,
            "count": 0
           },
           {
            "bin_start": 1780.2944357000001,
            "bin_end": 1924.0953608000002,
            "count": 0
           },
           {
            "bin_start": 1924.0953608000002,
            "bin_end": 2067.8962859000003,
            "count": 0
           },
           {
            "bin_start": 2067.8962859000003,
            "bin_end": 2211.697211,
            "count": 1
           }
          ]
         }
        },
        {
         "name": "density [g/cm^3]",
         "dtype": "float64",
         "stats": {
          "unique_count": 5,
          "nan_count": 0,
          "min": "0.982408148567134",
          "max": "1.3260901216521728",
          "histogram": [
           {
            "bin_start": 0.982408148567134,
            "bin_end": 1.0167763458756378,
            "count": 1
           },
           {
            "bin_start": 1.0167763458756378,
            "bin_end": 1.0511445431841417,
            "count": 0
           },
           {
            "bin_start": 1.0511445431841417,
            "bin_end": 1.0855127404926457,
            "count": 0
           },
           {
            "bin_start": 1.0855127404926457,
            "bin_end": 1.1198809378011494,
            "count": 0
           },
           {
            "bin_start": 1.1198809378011494,
            "bin_end": 1.1542491351096533,
            "count": 0
           },
           {
            "bin_start": 1.1542491351096533,
            "bin_end": 1.1886173324181573,
            "count": 1
           },
           {
            "bin_start": 1.1886173324181573,
            "bin_end": 1.2229855297266612,
            "count": 0
           },
           {
            "bin_start": 1.2229855297266612,
            "bin_end": 1.2573537270351651,
            "count": 0
           },
           {
            "bin_start": 1.2573537270351651,
            "bin_end": 1.2917219243436688,
            "count": 0
           },
           {
            "bin_start": 1.2917219243436688,
            "bin_end": 1.3260901216521728,
            "count": 3
           }
          ]
         }
        },
        {
         "name": "surface_area [m^2/g]",
         "dtype": "float64",
         "stats": {
          "unique_count": 5,
          "nan_count": 0,
          "min": "277.7366563490379",
          "max": "1441.53",
          "histogram": [
           {
            "bin_start": 277.7366563490379,
            "bin_end": 394.1159907141341,
            "count": 1
           },
           {
            "bin_start": 394.1159907141341,
            "bin_end": 510.49532507923027,
            "count": 0
           },
           {
            "bin_start": 510.49532507923027,
            "bin_end": 626.8746594443264,
            "count": 1
           },
           {
            "bin_start": 626.8746594443264,
            "bin_end": 743.2539938094227,
            "count": 0
           },
           {
            "bin_start": 743.2539938094227,
            "bin_end": 859.633328174519,
            "count": 1
           },
           {
            "bin_start": 859.633328174519,
            "bin_end": 976.0126625396151,
            "count": 0
           },
           {
            "bin_start": 976.0126625396151,
            "bin_end": 1092.3919969047113,
            "count": 0
           },
           {
            "bin_start": 1092.3919969047113,
            "bin_end": 1208.7713312698074,
            "count": 1
           },
           {
            "bin_start": 1208.7713312698074,
            "bin_end": 1325.1506656349038,
            "count": 0
           },
           {
            "bin_start": 1325.1506656349038,
            "bin_end": 1441.53,
            "count": 1
           }
          ]
         }
        },
        {
         "name": "gsa",
         "dtype": "float64",
         "stats": {
          "unique_count": 5,
          "nan_count": 0,
          "min": "182.8391274724127",
          "max": "3925.613159996791",
          "histogram": [
           {
            "bin_start": 182.8391274724127,
            "bin_end": 557.1165307248506,
            "count": 2
           },
           {
            "bin_start": 557.1165307248506,
            "bin_end": 931.3939339772885,
            "count": 1
           },
           {
            "bin_start": 931.3939339772885,
            "bin_end": 1305.6713372297263,
            "count": 0
           },
           {
            "bin_start": 1305.6713372297263,
            "bin_end": 1679.948740482164,
            "count": 0
           },
           {
            "bin_start": 1679.948740482164,
            "bin_end": 2054.226143734602,
            "count": 1
           },
           {
            "bin_start": 2054.226143734602,
            "bin_end": 2428.50354698704,
            "count": 0
           },
           {
            "bin_start": 2428.50354698704,
            "bin_end": 2802.7809502394775,
            "count": 0
           },
           {
            "bin_start": 2802.7809502394775,
            "bin_end": 3177.0583534919156,
            "count": 0
           },
           {
            "bin_start": 3177.0583534919156,
            "bin_end": 3551.3357567443536,
            "count": 0
           },
           {
            "bin_start": 3551.3357567443536,
            "bin_end": 3925.613159996791,
            "count": 1
           }
          ]
         }
        },
        {
         "name": "vsa",
         "dtype": "float64",
         "stats": {
          "unique_count": 5,
          "nan_count": 0,
          "min": "277.7366563490379",
          "max": "1911.5645822690333",
          "histogram": [
           {
            "bin_start": 277.7366563490379,
            "bin_end": 441.11944894103743,
            "count": 1
           },
           {
            "bin_start": 441.11944894103743,
            "bin_end": 604.502241533037,
            "count": 1
           },
           {
            "bin_start": 604.502241533037,
            "bin_end": 767.8850341250366,
            "count": 0
           },
           {
            "bin_start": 767.8850341250366,
            "bin_end": 931.2678267170361,
            "count": 0
           },
           {
            "bin_start": 931.2678267170361,
            "bin_end": 1094.6506193090356,
            "count": 0
           },
           {
            "bin_start": 1094.6506193090356,
            "bin_end": 1258.0334119010352,
            "count": 1
           },
           {
            "bin_start": 1258.0334119010352,
            "bin_end": 1421.4162044930347,
            "count": 0
           },
           {
            "bin_start": 1421.4162044930347,
            "bin_end": 1584.7989970850342,
            "count": 0
           },
           {
            "bin_start": 1584.7989970850342,
            "bin_end": 1748.1817896770337,
            "count": 1
           },
           {
            "bin_start": 1748.1817896770337,
            "bin_end": 1911.5645822690333,
            "count": 1
           }
          ]
         }
        },
        {
         "name": "smiles",
         "dtype": "object",
         "stats": {
          "unique_count": 5,
          "nan_count": 0,
          "categories": [
           {
            "name": "OC(=O)OCC",
            "count": 1
           },
           {
            "name": "FOC",
            "count": 1
           },
           {
            "name": "3 others",
            "count": 3
           }
          ]
         }
        },
        {
         "name": "MolWt",
         "dtype": "float64",
         "stats": {
          "unique_count": 5,
          "nan_count": 0,
          "min": "47.057",
          "max": "90.078",
          "histogram": [
           {
            "bin_start": 47.057,
            "bin_end": 51.359100000000005,
            "count": 2
           },
           {
            "bin_start": 51.359100000000005,
            "bin_end": 55.6612,
            "count": 0
           },
           {
            "bin_start": 55.6612,
            "bin_end": 59.963300000000004,
            "count": 0
           },
           {
            "bin_start": 59.963300000000004,
            "bin_end": 64.2654,
            "count": 0
           },
           {
            "bin_start": 64.2654,
            "bin_end": 68.5675,
            "count": 0
           },
           {
            "bin_start": 68.5675,
            "bin_end": 72.8696,
            "count": 0
           },
           {
            "bin_start": 72.8696,
            "bin_end": 77.1717,
            "count": 1
           },
           {
            "bin_start": 77.1717,
            "bin_end": 81.47380000000001,
            "count": 0
           },
           {
            "bin_start": 81.47380000000001,
            "bin_end": 85.77590000000001,
            "count": 1
           },
           {
            "bin_start": 85.77590000000001,
            "bin_end": 90.078,
            "count": 1
           }
          ]
         }
        },
        {
         "name": "MolLogP",
         "dtype": "float64",
         "stats": {
          "unique_count": 5,
          "nan_count": 0,
          "min": "-0.9291999999999998",
          "max": "0.7009000000000001",
          "histogram": [
           {
            "bin_start": -0.9291999999999998,
            "bin_end": -0.7661899999999998,
            "count": 1
           },
           {
            "bin_start": -0.7661899999999998,
            "bin_end": -0.6031799999999998,
            "count": 0
           },
           {
            "bin_start": -0.6031799999999998,
            "bin_end": -0.44016999999999984,
            "count": 0
           },
           {
            "bin_start": -0.44016999999999984,
            "bin_end": -0.27715999999999985,
            "count": 1
           },
           {
            "bin_start": -0.27715999999999985,
            "bin_end": -0.11414999999999986,
            "count": 0
           },
           {
            "bin_start": -0.11414999999999986,
            "bin_end": 0.048860000000000126,
            "count": 0
           },
           {
            "bin_start": 0.048860000000000126,
            "bin_end": 0.21187000000000022,
            "count": 0
           },
           {
            "bin_start": 0.21187000000000022,
            "bin_end": 0.3748800000000001,
            "count": 1
           },
           {
            "bin_start": 0.3748800000000001,
            "bin_end": 0.53789,
            "count": 1
           },
           {
            "bin_start": 0.53789,
            "bin_end": 0.7009000000000001,
            "count": 1
           }
          ]
         }
        },
        {
         "name": "NumValenceElectrons",
         "dtype": "int64",
         "stats": {
          "unique_count": 4,
          "nan_count": 0,
          "min": "20",
          "max": "36",
          "histogram": [
           {
            "bin_start": 20,
            "bin_end": 21.6,
            "count": 2
           },
           {
            "bin_start": 21.6,
            "bin_end": 23.2,
            "count": 0
           },
           {
            "bin_start": 23.2,
            "bin_end": 24.8,
            "count": 0
           },
           {
            "bin_start": 24.8,
            "bin_end": 26.4,
            "count": 1
           },
           {
            "bin_start": 26.4,
            "bin_end": 28,
            "count": 0
           },
           {
            "bin_start": 28,
            "bin_end": 29.6,
            "count": 0
           },
           {
            "bin_start": 29.6,
            "bin_end": 31.200000000000003,
            "count": 1
           },
           {
            "bin_start": 31.200000000000003,
            "bin_end": 32.8,
            "count": 0
           },
           {
            "bin_start": 32.8,
            "bin_end": 34.4,
            "count": 0
           },
           {
            "bin_start": 34.4,
            "bin_end": 36,
            "count": 1
           }
          ]
         }
        },
        {
         "name": "HeavyAtomCount",
         "dtype": "int64",
         "stats": {
          "unique_count": 4,
          "nan_count": 0,
          "min": "3",
          "max": "6",
          "histogram": [
           {
            "bin_start": 3,
            "bin_end": 3.3,
            "count": 2
           },
           {
            "bin_start": 3.3,
            "bin_end": 3.6,
            "count": 0
           },
           {
            "bin_start": 3.6,
            "bin_end": 3.9,
            "count": 0
           },
           {
            "bin_start": 3.9,
            "bin_end": 4.2,
            "count": 1
           },
           {
            "bin_start": 4.2,
            "bin_end": 4.5,
            "count": 0
           },
           {
            "bin_start": 4.5,
            "bin_end": 4.8,
            "count": 0
           },
           {
            "bin_start": 4.8,
            "bin_end": 5.1,
            "count": 1
           },
           {
            "bin_start": 5.1,
            "bin_end": 5.4,
            "count": 0
           },
           {
            "bin_start": 5.4,
            "bin_end": 5.699999999999999,
            "count": 0
           },
           {
            "bin_start": 5.699999999999999,
            "bin_end": 6,
            "count": 1
           }
          ]
         }
        },
        {
         "name": "NOCount",
         "dtype": "int64",
         "stats": {
          "unique_count": 3,
          "nan_count": 0,
          "min": "1",
          "max": "3",
          "histogram": [
           {
            "bin_start": 1,
            "bin_end": 1.2,
            "count": 1
           },
           {
            "bin_start": 1.2,
            "bin_end": 1.4,
            "count": 0
           },
           {
            "bin_start": 1.4,
            "bin_end": 1.6,
            "count": 0
           },
           {
            "bin_start": 1.6,
            "bin_end": 1.8,
            "count": 0
           },
           {
            "bin_start": 1.8,
            "bin_end": 2,
            "count": 0
           },
           {
            "bin_start": 2,
            "bin_end": 2.2,
            "count": 1
           },
           {
            "bin_start": 2.2,
            "bin_end": 2.4000000000000004,
            "count": 0
           },
           {
            "bin_start": 2.4000000000000004,
            "bin_end": 2.6,
            "count": 0
           },
           {
            "bin_start": 2.6,
            "bin_end": 2.8,
            "count": 0
           },
           {
            "bin_start": 2.8,
            "bin_end": 3,
            "count": 3
           }
          ]
         }
        },
        {
         "name": "NumAliphaticRings",
         "dtype": "int64",
         "stats": {
          "unique_count": 1,
          "nan_count": 0,
          "min": "0",
          "max": "0",
          "histogram": [
           {
            "bin_start": -0.5,
            "bin_end": -0.4,
            "count": 0
           },
           {
            "bin_start": -0.4,
            "bin_end": -0.3,
            "count": 0
           },
           {
            "bin_start": -0.3,
            "bin_end": -0.19999999999999996,
            "count": 0
           },
           {
            "bin_start": -0.19999999999999996,
            "bin_end": -0.09999999999999998,
            "count": 0
           },
           {
            "bin_start": -0.09999999999999998,
            "bin_end": 0,
            "count": 0
           },
           {
            "bin_start": 0,
            "bin_end": 0.10000000000000009,
            "count": 5
           },
           {
            "bin_start": 0.10000000000000009,
            "bin_end": 0.20000000000000007,
            "count": 0
           },
           {
            "bin_start": 0.20000000000000007,
            "bin_end": 0.30000000000000004,
            "count": 0
           },
           {
            "bin_start": 0.30000000000000004,
            "bin_end": 0.4,
            "count": 0
           },
           {
            "bin_start": 0.4,
            "bin_end": 0.5,
            "count": 0
           }
          ]
         }
        },
        {
         "name": "NumAromaticRings",
         "dtype": "int64",
         "stats": {
          "unique_count": 1,
          "nan_count": 0,
          "min": "0",
          "max": "0",
          "histogram": [
           {
            "bin_start": -0.5,
            "bin_end": -0.4,
            "count": 0
           },
           {
            "bin_start": -0.4,
            "bin_end": -0.3,
            "count": 0
           },
           {
            "bin_start": -0.3,
            "bin_end": -0.19999999999999996,
            "count": 0
           },
           {
            "bin_start": -0.19999999999999996,
            "bin_end": -0.09999999999999998,
            "count": 0
           },
           {
            "bin_start": -0.09999999999999998,
            "bin_end": 0,
            "count": 0
           },
           {
            "bin_start": 0,
            "bin_end": 0.10000000000000009,
            "count": 5
           },
           {
            "bin_start": 0.10000000000000009,
            "bin_end": 0.20000000000000007,
            "count": 0
           },
           {
            "bin_start": 0.20000000000000007,
            "bin_end": 0.30000000000000004,
            "count": 0
           },
           {
            "bin_start": 0.30000000000000004,
            "bin_end": 0.4,
            "count": 0
           },
           {
            "bin_start": 0.4,
            "bin_end": 0.5,
            "count": 0
           }
          ]
         }
        },
        {
         "name": "NumHAcceptors",
         "dtype": "int64",
         "stats": {
          "unique_count": 2,
          "nan_count": 0,
          "min": "1",
          "max": "2",
          "histogram": [
           {
            "bin_start": 1,
            "bin_end": 1.1,
            "count": 1
           },
           {
            "bin_start": 1.1,
            "bin_end": 1.2,
            "count": 0
           },
           {
            "bin_start": 1.2,
            "bin_end": 1.3,
            "count": 0
           },
           {
            "bin_start": 1.3,
            "bin_end": 1.4,
            "count": 0
           },
           {
            "bin_start": 1.4,
            "bin_end": 1.5,
            "count": 0
           },
           {
            "bin_start": 1.5,
            "bin_end": 1.6,
            "count": 0
           },
           {
            "bin_start": 1.6,
            "bin_end": 1.7000000000000002,
            "count": 0
           },
           {
            "bin_start": 1.7000000000000002,
            "bin_end": 1.8,
            "count": 0
           },
           {
            "bin_start": 1.8,
            "bin_end": 1.9,
            "count": 0
           },
           {
            "bin_start": 1.9,
            "bin_end": 2,
            "count": 4
           }
          ]
         }
        },
        {
         "name": "NumHDonors",
         "dtype": "int64",
         "stats": {
          "unique_count": 3,
          "nan_count": 0,
          "min": "0",
          "max": "2",
          "histogram": [
           {
            "bin_start": 0,
            "bin_end": 0.2,
            "count": 1
           },
           {
            "bin_start": 0.2,
            "bin_end": 0.4,
            "count": 0
           },
           {
            "bin_start": 0.4,
            "bin_end": 0.6000000000000001,
            "count": 0
           },
           {
            "bin_start": 0.6000000000000001,
            "bin_end": 0.8,
            "count": 0
           },
           {
            "bin_start": 0.8,
            "bin_end": 1,
            "count": 0
           },
           {
            "bin_start": 1,
            "bin_end": 1.2000000000000002,
            "count": 2
           },
           {
            "bin_start": 1.2000000000000002,
            "bin_end": 1.4000000000000001,
            "count": 0
           },
           {
            "bin_start": 1.4000000000000001,
            "bin_end": 1.6,
            "count": 0
           },
           {
            "bin_start": 1.6,
            "bin_end": 1.8,
            "count": 0
           },
           {
            "bin_start": 1.8,
            "bin_end": 2,
            "count": 2
           }
          ]
         }
        },
        {
         "name": "NumHeteroatoms",
         "dtype": "int64",
         "stats": {
          "unique_count": 3,
          "nan_count": 0,
          "min": "2",
          "max": "4",
          "histogram": [
           {
            "bin_start": 2,
            "bin_end": 2.2,
            "count": 2
           },
           {
            "bin_start": 2.2,
            "bin_end": 2.4,
            "count": 0
           },
           {
            "bin_start": 2.4,
            "bin_end": 2.6,
            "count": 0
           },
           {
            "bin_start": 2.6,
            "bin_end": 2.8,
            "count": 0
           },
           {
            "bin_start": 2.8,
            "bin_end": 3,
            "count": 0
           },
           {
            "bin_start": 3,
            "bin_end": 3.2,
            "count": 2
           },
           {
            "bin_start": 3.2,
            "bin_end": 3.4000000000000004,
            "count": 0
           },
           {
            "bin_start": 3.4000000000000004,
            "bin_end": 3.6,
            "count": 0
           },
           {
            "bin_start": 3.6,
            "bin_end": 3.8,
            "count": 0
           },
           {
            "bin_start": 3.8,
            "bin_end": 4,
            "count": 1
           }
          ]
         }
        },
        {
         "name": "NumRotatableBonds",
         "dtype": "int64",
         "stats": {
          "unique_count": 2,
          "nan_count": 0,
          "min": "0",
          "max": "1",
          "histogram": [
           {
            "bin_start": 0,
            "bin_end": 0.1,
            "count": 4
           },
           {
            "bin_start": 0.1,
            "bin_end": 0.2,
            "count": 0
           },
           {
            "bin_start": 0.2,
            "bin_end": 0.30000000000000004,
            "count": 0
           },
           {
            "bin_start": 0.30000000000000004,
            "bin_end": 0.4,
            "count": 0
           },
           {
            "bin_start": 0.4,
            "bin_end": 0.5,
            "count": 0
           },
           {
            "bin_start": 0.5,
            "bin_end": 0.6000000000000001,
            "count": 0
           },
           {
            "bin_start": 0.6000000000000001,
            "bin_end": 0.7000000000000001,
            "count": 0
           },
           {
            "bin_start": 0.7000000000000001,
            "bin_end": 0.8,
            "count": 0
           },
           {
            "bin_start": 0.8,
            "bin_end": 0.9,
            "count": 0
           },
           {
            "bin_start": 0.9,
            "bin_end": 1,
            "count": 1
           }
          ]
         }
        },
        {
         "name": "void_fraction",
         "dtype": "float64",
         "stats": {
          "unique_count": 5,
          "nan_count": 0,
          "min": "0.07778",
          "max": "0.21814",
          "histogram": [
           {
            "bin_start": 0.07778,
            "bin_end": 0.091816,
            "count": 2
           },
           {
            "bin_start": 0.091816,
            "bin_end": 0.105852,
            "count": 0
           },
           {
            "bin_start": 0.105852,
            "bin_end": 0.119888,
            "count": 0
           },
           {
            "bin_start": 0.119888,
            "bin_end": 0.133924,
            "count": 0
           },
           {
            "bin_start": 0.133924,
            "bin_end": 0.14795999999999998,
            "count": 1
           },
           {
            "bin_start": 0.14795999999999998,
            "bin_end": 0.16199599999999997,
            "count": 1
           },
           {
            "bin_start": 0.16199599999999997,
            "bin_end": 0.176032,
            "count": 0
           },
           {
            "bin_start": 0.176032,
            "bin_end": 0.190068,
            "count": 0
           },
           {
            "bin_start": 0.190068,
            "bin_end": 0.204104,
            "count": 0
           },
           {
            "bin_start": 0.204104,
            "bin_end": 0.21814,
            "count": 1
           }
          ]
         }
        },
        {
         "name": "void_volume [cm^3/g]",
         "dtype": "float64",
         "stats": {
          "unique_count": 5,
          "nan_count": 0,
          "min": "0.0591",
          "max": "0.222",
          "histogram": [
           {
            "bin_start": 0.0591,
            "bin_end": 0.07539,
            "count": 2
           },
           {
            "bin_start": 0.07539,
            "bin_end": 0.09168,
            "count": 0
           },
           {
            "bin_start": 0.09168,
            "bin_end": 0.10797,
            "count": 1
           },
           {
            "bin_start": 0.10797,
            "bin_end": 0.12426,
            "count": 0
           },
           {
            "bin_start": 0.12426,
            "bin_end": 0.14055,
            "count": 1
           },
           {
            "bin_start": 0.14055,
            "bin_end": 0.15683999999999998,
            "count": 0
           },
           {
            "bin_start": 0.15683999999999998,
            "bin_end": 0.17313,
            "count": 0
           },
           {
            "bin_start": 0.17313,
            "bin_end": 0.18941999999999998,
            "count": 0
           },
           {
            "bin_start": 0.18941999999999998,
            "bin_end": 0.20571,
            "count": 0
           },
           {
            "bin_start": 0.20571,
            "bin_end": 0.222,
            "count": 1
           }
          ]
         }
        },
        {
         "name": "functional_groups",
         "dtype": "object",
         "stats": {
          "unique_count": 5,
          "nan_count": 0,
          "categories": [
           {
            "name": "COOH-OEt",
            "count": 1
           },
           {
            "name": "F-OMe",
            "count": 1
           },
           {
            "name": "3 others",
            "count": 3
           }
          ]
         }
        },
        {
         "name": "metal_linker",
         "dtype": "category",
         "stats": {
          "unique_count": 4,
          "nan_count": 0,
          "categories": [
           {
            "name": "2",
            "count": 2
           },
           {
            "name": "3",
            "count": 1
           },
           {
            "name": "2 others",
            "count": 2
           }
          ]
         }
        },
        {
         "name": "organic_linker1",
         "dtype": "category",
         "stats": {
          "unique_count": 5,
          "nan_count": 0,
          "categories": [
           {
            "name": "4",
            "count": 1
           },
           {
            "name": "44",
            "count": 1
           },
           {
            "name": "3 others",
            "count": 3
           }
          ]
         }
        },
        {
         "name": "organic_linker2",
         "dtype": "category",
         "stats": {
          "unique_count": 4,
          "nan_count": 0,
          "categories": [
           {
            "name": "24",
            "count": 2
           },
           {
            "name": "11",
            "count": 1
           },
           {
            "name": "2 others",
            "count": 2
           }
          ]
         }
        },
        {
         "name": "topology",
         "dtype": "object",
         "stats": {
          "unique_count": 3,
          "nan_count": 0,
          "categories": [
           {
            "name": "pcu",
            "count": 3
           },
           {
            "name": "etb",
            "count": 1
           },
           {
            "name": "sra",
            "count": 1
           }
          ]
         }
        },
        {
         "name": "CO2/N2_selectivity",
         "dtype": "float64",
         "stats": {
          "unique_count": 5,
          "nan_count": 0,
          "min": "19.26372569",
          "max": "33.61678033",
          "histogram": [
           {
            "bin_start": 19.26372569,
            "bin_end": 20.699031154,
            "count": 1
           },
           {
            "bin_start": 20.699031154,
            "bin_end": 22.134336618,
            "count": 0
           },
           {
            "bin_start": 22.134336618,
            "bin_end": 23.569642082,
            "count": 1
           },
           {
            "bin_start": 23.569642082,
            "bin_end": 25.004947546,
            "count": 0
           },
           {
            "bin_start": 25.004947546,
            "bin_end": 26.44025301,
            "count": 1
           },
           {
            "bin_start": 26.44025301,
            "bin_end": 27.875558473999998,
            "count": 0
           },
           {
            "bin_start": 27.875558473999998,
            "bin_end": 29.310863937999997,
            "count": 0
           },
           {
            "bin_start": 29.310863937999997,
            "bin_end": 30.746169402,
            "count": 1
           },
           {
            "bin_start": 30.746169402,
            "bin_end": 32.181474865999995,
            "count": 0
           },
           {
            "bin_start": 32.181474865999995,
            "bin_end": 33.61678033,
            "count": 1
           }
          ]
         }
        },
        {
         "name": "heat_adsorption_CO2_P0.15bar_T298K [kcal/mol]",
         "dtype": "float64",
         "stats": {
          "unique_count": 5,
          "nan_count": 0,
          "min": "6.190085",
          "max": "7.147286",
          "histogram": [
           {
            "bin_start": 6.190085,
            "bin_end": 6.2858051,
            "count": 1
           },
           {
            "bin_start": 6.2858051,
            "bin_end": 6.3815252,
            "count": 1
           },
           {
            "bin_start": 6.3815252,
            "bin_end": 6.4772453,
            "count": 0
           },
           {
            "bin_start": 6.4772453,
            "bin_end": 6.5729654,
            "count": 1
           },
           {
            "bin_start": 6.5729654,
            "bin_end": 6.6686855000000005,
            "count": 0
           },
           {
            "bin_start": 6.6686855000000005,
            "bin_end": 6.7644056,
            "count": 0
           },
           {
            "bin_start": 6.7644056,
            "bin_end": 6.8601257,
            "count": 1
           },
           {
            "bin_start": 6.8601257,
            "bin_end": 6.9558458000000005,
            "count": 0
           },
           {
            "bin_start": 6.9558458000000005,
            "bin_end": 7.0515659,
            "count": 0
           },
           {
            "bin_start": 7.0515659,
            "bin_end": 7.147286,
            "count": 1
           }
          ]
         }
        },
        {
         "name": "CO2_working_capacity [mL/g]",
         "dtype": "float64",
         "stats": {
          "unique_count": 5,
          "nan_count": 0,
          "min": "79.21000065588353",
          "max": "187.62600449626183",
          "histogram": [
           {
            "bin_start": 79.21000065588353,
            "bin_end": 90.05160103992137,
            "count": 1
           },
           {
            "bin_start": 90.05160103992137,
            "bin_end": 100.8932014239592,
            "count": 0
           },
           {
            "bin_start": 100.8932014239592,
            "bin_end": 111.73480180799702,
            "count": 2
           },
           {
            "bin_start": 111.73480180799702,
            "bin_end": 122.57640219203485,
            "count": 1
           },
           {
            "bin_start": 122.57640219203485,
            "bin_end": 133.4180025760727,
            "count": 0
           },
           {
            "bin_start": 133.4180025760727,
            "bin_end": 144.2596029601105,
            "count": 0
           },
           {
            "bin_start": 144.2596029601105,
            "bin_end": 155.10120334414833,
            "count": 0
           },
           {
            "bin_start": 155.10120334414833,
            "bin_end": 165.94280372818616,
            "count": 0
           },
           {
            "bin_start": 165.94280372818616,
            "bin_end": 176.784404112224,
            "count": 0
           },
           {
            "bin_start": 176.784404112224,
            "bin_end": 187.62600449626183,
            "count": 1
           }
          ]
         }
        },
        {
         "name": "_deepnote_index_column",
         "dtype": "int64"
        }
       ],
       "rows_top": [
        {
         "MOFname": "mof_unit_1",
         "volume [A^3]": 1116.667429,
         "weight [u]": 875.2405999999999,
         "density [g/cm^3]": 1.3015262988601055,
         "surface_area [m^2/g]": 1139.8287738457757,
         "gsa": 585.6690519771402,
         "vsa": 1139.8287738457757,
         "smiles": "OC(=O)OCC",
         "MolWt": 90.078,
         "MolLogP": 0.7009000000000001,
         "NumValenceElectrons": 36,
         "HeavyAtomCount": 6,
         "NOCount": 3,
         "NumAliphaticRings": 0,
         "NumAromaticRings": 0,
         "NumHAcceptors": 2,
         "NumHDonors": 1,
         "NumHeteroatoms": 3,
         "NumRotatableBonds": 1,
         "void_fraction": 0.07899,
         "void_volume [cm^3/g]": 0.0606999999999999,
         "functional_groups": "COOH-OEt",
         "metal_linker": 3,
         "organic_linker1": 4,
         "organic_linker2": 11,
         "topology": "pcu",
         "CO2/N2_selectivity": 22.86416611,
         "heat_adsorption_CO2_P0.15bar_T298K [kcal/mol]": 6.786041,
         "CO2_working_capacity [mL/g]": 105.2845017241596,
         "_deepnote_index_column": 0
        },
        {
         "MOFname": "mof_unit_2",
         "volume [A^3]": 2769.503842,
         "weight [u]": 2211.697211,
         "density [g/cm^3]": 1.3260901216521728,
         "surface_area [m^2/g]": 603.61,
         "gsa": 182.8391274724127,
         "vsa": 477.9933491501404,
         "smiles": "FOC",
         "MolWt": 50.032,
         "MolLogP": 0.5173,
         "NumValenceElectrons": 20,
         "HeavyAtomCount": 3,
         "NOCount": 1,
         "NumAliphaticRings": 0,
         "NumAromaticRings": 0,
         "NumHAcceptors": 1,
         "NumHDonors": 0,
         "NumHeteroatoms": 2,
         "NumRotatableBonds": 0,
         "void_fraction": 0.13794,
         "void_volume [cm^3/g]": 0.104,
         "functional_groups": "F-OMe",
         "metal_linker": 10,
         "organic_linker1": 44,
         "organic_linker2": 57,
         "topology": "etb",
         "CO2/N2_selectivity": 33.61678033,
         "heat_adsorption_CO2_P0.15bar_T298K [kcal/mol]": 7.147286,
         "CO2_working_capacity [mL/g]": 101.22477417834172,
         "_deepnote_index_column": 1
        },
        {
         "MOFname": "mof_unit_3",
         "volume [A^3]": 1089.818728,
         "weight [u]": 773.68796,
         "density [g/cm^3]": 1.1788564208802987,
         "surface_area [m^2/g]": 788.5,
         "gsa": 1704.5998324734685,
         "vsa": 1614.2123919024807,
         "smiles": "COC(=O)O",
         "MolWt": 76.051,
         "MolLogP": 0.31079999999999997,
         "NumValenceElectrons": 30,
         "HeavyAtomCount": 5,
         "NOCount": 3,
         "NumAliphaticRings": 0,
         "NumAromaticRings": 0,
         "NumHAcceptors": 2,
         "NumHDonors": 1,
         "NumHeteroatoms": 3,
         "NumRotatableBonds": 0,
         "void_fraction": 0.14874,
         "void_volume [cm^3/g]": 0.1262,
         "functional_groups": "OMe-COOH",
         "metal_linker": 2,
         "organic_linker1": 22,
         "organic_linker2": 24,
         "topology": "pcu",
         "CO2/N2_selectivity": 19.26372569,
         "heat_adsorption_CO2_P0.15bar_T298K [kcal/mol]": 6.347967,
         "CO2_working_capacity [mL/g]": 118.98701074687752,
         "_deepnote_index_column": 2
        },
        {
         "MOFname": "mof_unit_4",
         "volume [A^3]": 2205.1983010000004,
         "weight [u]": 1304.63872,
         "density [g/cm^3]": 0.982408148567134,
         "surface_area [m^2/g]": 1441.53,
         "gsa": 3925.613159996791,
         "vsa": 1911.5645822690333,
         "smiles": "S(=O)(=O)O",
         "MolWt": 82.08,
         "MolLogP": -0.9291999999999998,
         "NumValenceElectrons": 26,
         "HeavyAtomCount": 4,
         "NOCount": 3,
         "NumAliphaticRings": 0,
         "NumAromaticRings": 0,
         "NumHAcceptors": 2,
         "NumHDonors": 2,
         "NumHeteroatoms": 4,
         "NumRotatableBonds": 0,
         "void_fraction": 0.21814,
         "void_volume [cm^3/g]": 0.222,
         "functional_groups": "H-SO3H",
         "metal_linker": 9,
         "organic_linker1": 17,
         "organic_linker2": 24,
         "topology": "sra",
         "CO2/N2_selectivity": 25.70137692,
         "heat_adsorption_CO2_P0.15bar_T298K [kcal/mol]": 6.190085,
         "CO2_working_capacity [mL/g]": 187.62600449626183,
         "_deepnote_index_column": 3
        },
        {
         "MOFname": "mof_unit_5",
         "volume [A^3]": 1137.800963,
         "weight [u]": 901.73612,
         "density [g/cm^3]": 1.3160200644906643,
         "surface_area [m^2/g]": 277.7366563490379,
         "gsa": 197.6586345273903,
         "vsa": 277.7366563490379,
         "smiles": "CNO",
         "MolWt": 47.057,
         "MolLogP": -0.40499999999999997,
         "NumValenceElectrons": 20,
         "HeavyAtomCount": 3,
         "NOCount": 2,
         "NumAliphaticRings": 0,
         "NumAromaticRings": 0,
         "NumHAcceptors": 2,
         "NumHDonors": 2,
         "NumHeteroatoms": 2,
         "NumRotatableBonds": 0,
         "void_fraction": 0.07778,
         "void_volume [cm^3/g]": 0.0591,
         "functional_groups": "NHMe-OH",
         "metal_linker": 2,
         "organic_linker1": 1,
         "organic_linker2": 22,
         "topology": "pcu",
         "CO2/N2_selectivity": 30.00183795,
         "heat_adsorption_CO2_P0.15bar_T298K [kcal/mol]": 6.478063,
         "CO2_working_capacity [mL/g]": 79.21000065588353,
         "_deepnote_index_column": 4
        }
       ],
       "rows_bottom": null
      },
      "text/plain": "      MOFname  volume [A^3]   weight [u]  density [g/cm^3]  \\\n0  mof_unit_1   1116.667429   875.240600          1.301526   \n1  mof_unit_2   2769.503842  2211.697211          1.326090   \n2  mof_unit_3   1089.818728   773.687960          1.178856   \n3  mof_unit_4   2205.198301  1304.638720          0.982408   \n4  mof_unit_5   1137.800963   901.736120          1.316020   \n\n   surface_area [m^2/g]          gsa          vsa      smiles   MolWt  \\\n0           1139.828774   585.669052  1139.828774   OC(=O)OCC  90.078   \n1            603.610000   182.839127   477.993349         FOC  50.032   \n2            788.500000  1704.599832  1614.212392    COC(=O)O  76.051   \n3           1441.530000  3925.613160  1911.564582  S(=O)(=O)O  82.080   \n4            277.736656   197.658635   277.736656         CNO  47.057   \n\n   MolLogP  ...  void_fraction  void_volume [cm^3/g]  functional_groups  \\\n0   0.7009  ...        0.07899                0.0607           COOH-OEt   \n1   0.5173  ...        0.13794                0.1040              F-OMe   \n2   0.3108  ...        0.14874                0.1262           OMe-COOH   \n3  -0.9292  ...        0.21814                0.2220             H-SO3H   \n4  -0.4050  ...        0.07778                0.0591            NHMe-OH   \n\n   metal_linker  organic_linker1  organic_linker2  topology  \\\n0             3                4               11       pcu   \n1            10               44               57       etb   \n2             2               22               24       pcu   \n3             9               17               24       sra   \n4             2                1               22       pcu   \n\n   CO2/N2_selectivity  heat_adsorption_CO2_P0.15bar_T298K [kcal/mol]  \\\n0           22.864166                                       6.786041   \n1           33.616780                                       7.147286   \n2           19.263726                                       6.347967   \n3           25.701377                                       6.190085   \n4           30.001838                                       6.478063   \n\n   CO2_working_capacity [mL/g]  \n0                   105.284502  \n1                   101.224774  \n2                   118.987011  \n3                   187.626004  \n4                    79.210001  \n\n[5 rows x 29 columns]",
      "text/html": "<div>\n<style scoped>\n    .dataframe tbody tr th:only-of-type {\n        vertical-align: middle;\n    }\n\n    .dataframe tbody tr th {\n        vertical-align: top;\n    }\n\n    .dataframe thead th {\n        text-align: right;\n    }\n</style>\n<table border=\"1\" class=\"dataframe\">\n  <thead>\n    <tr style=\"text-align: right;\">\n      <th></th>\n      <th>MOFname</th>\n      <th>volume [A^3]</th>\n      <th>weight [u]</th>\n      <th>density [g/cm^3]</th>\n      <th>surface_area [m^2/g]</th>\n      <th>gsa</th>\n      <th>vsa</th>\n      <th>smiles</th>\n      <th>MolWt</th>\n      <th>MolLogP</th>\n      <th>...</th>\n      <th>void_fraction</th>\n      <th>void_volume [cm^3/g]</th>\n      <th>functional_groups</th>\n      <th>metal_linker</th>\n      <th>organic_linker1</th>\n      <th>organic_linker2</th>\n      <th>topology</th>\n      <th>CO2/N2_selectivity</th>\n      <th>heat_adsorption_CO2_P0.15bar_T298K [kcal/mol]</th>\n      <th>CO2_working_capacity [mL/g]</th>\n    </tr>\n  </thead>\n  <tbody>\n    <tr>\n      <th>0</th>\n      <td>mof_unit_1</td>\n      <td>1116.667429</td>\n      <td>875.240600</td>\n      <td>1.301526</td>\n      <td>1139.828774</td>\n      <td>585.669052</td>\n      <td>1139.828774</td>\n      <td>OC(=O)OCC</td>\n      <td>90.078</td>\n      <td>0.7009</td>\n      <td>...</td>\n      <td>0.07899</td>\n      <td>0.0607</td>\n      <td>COOH-OEt</td>\n      <td>3</td>\n      <td>4</td>\n      <td>11</td>\n      <td>pcu</td>\n      <td>22.864166</td>\n      <td>6.786041</td>\n      <td>105.284502</td>\n    </tr>\n    <tr>\n      <th>1</th>\n      <td>mof_unit_2</td>\n      <td>2769.503842</td>\n      <td>2211.697211</td>\n      <td>1.326090</td>\n      <td>603.610000</td>\n      <td>182.839127</td>\n      <td>477.993349</td>\n      <td>FOC</td>\n      <td>50.032</td>\n      <td>0.5173</td>\n      <td>...</td>\n      <td>0.13794</td>\n      <td>0.1040</td>\n      <td>F-OMe</td>\n      <td>10</td>\n      <td>44</td>\n      <td>57</td>\n      <td>etb</td>\n      <td>33.616780</td>\n      <td>7.147286</td>\n      <td>101.224774</td>\n    </tr>\n    <tr>\n      <th>2</th>\n      <td>mof_unit_3</td>\n      <td>1089.818728</td>\n      <td>773.687960</td>\n      <td>1.178856</td>\n      <td>788.500000</td>\n      <td>1704.599832</td>\n      <td>1614.212392</td>\n      <td>COC(=O)O</td>\n      <td>76.051</td>\n      <td>0.3108</td>\n      <td>...</td>\n      <td>0.14874</td>\n      <td>0.1262</td>\n      <td>OMe-COOH</td>\n      <td>2</td>\n      <td>22</td>\n      <td>24</td>\n      <td>pcu</td>\n      <td>19.263726</td>\n      <td>6.347967</td>\n      <td>118.987011</td>\n    </tr>\n    <tr>\n      <th>3</th>\n      <td>mof_unit_4</td>\n      <td>2205.198301</td>\n      <td>1304.638720</td>\n      <td>0.982408</td>\n      <td>1441.530000</td>\n      <td>3925.613160</td>\n      <td>1911.564582</td>\n      <td>S(=O)(=O)O</td>\n      <td>82.080</td>\n      <td>-0.9292</td>\n      <td>...</td>\n      <td>0.21814</td>\n      <td>0.2220</td>\n      <td>H-SO3H</td>\n      <td>9</td>\n      <td>17</td>\n      <td>24</td>\n      <td>sra</td>\n      <td>25.701377</td>\n      <td>6.190085</td>\n      <td>187.626004</td>\n    </tr>\n    <tr>\n      <th>4</th>\n      <td>mof_unit_5</td>\n      <td>1137.800963</td>\n      <td>901.736120</td>\n      <td>1.316020</td>\n      <td>277.736656</td>\n      <td>197.658635</td>\n      <td>277.736656</td>\n      <td>CNO</td>\n      <td>47.057</td>\n      <td>-0.4050</td>\n      <td>...</td>\n      <td>0.07778</td>\n      <td>0.0591</td>\n      <td>NHMe-OH</td>\n      <td>2</td>\n      <td>1</td>\n      <td>22</td>\n      <td>pcu</td>\n      <td>30.001838</td>\n      <td>6.478063</td>\n      <td>79.210001</td>\n    </tr>\n  </tbody>\n</table>\n<p>5 rows × 29 columns</p>\n</div>"
     },
     "metadata": {}
    }
   ],
   "execution_count": null
  },
  {
   "cell_type": "code",
   "source": "train.isnull().sum()",
   "metadata": {
    "tags": [],
    "cell_id": "00021-7da97a52-6b34-4e5a-bda2-b19b36e597d1",
    "deepnote_to_be_reexecuted": false,
    "source_hash": "f8683763",
    "execution_start": 1634033914341,
    "execution_millis": 40,
    "deepnote_cell_type": "code"
   },
   "outputs": [
    {
     "output_type": "execute_result",
     "execution_count": 19,
     "data": {
      "text/plain": "MOFname                                          0\nvolume [A^3]                                     0\nweight [u]                                       0\ndensity [g/cm^3]                                 0\nsurface_area [m^2/g]                             0\ngsa                                              0\nvsa                                              0\nsmiles                                           0\nMolWt                                            0\nMolLogP                                          0\nNumValenceElectrons                              0\nHeavyAtomCount                                   0\nNOCount                                          0\nNumAliphaticRings                                0\nNumAromaticRings                                 0\nNumHAcceptors                                    0\nNumHDonors                                       0\nNumHeteroatoms                                   0\nNumRotatableBonds                                0\nvoid_fraction                                    0\nvoid_volume [cm^3/g]                             0\nfunctional_groups                                0\nmetal_linker                                     0\norganic_linker1                                  0\norganic_linker2                                  0\ntopology                                         0\nCO2/N2_selectivity                               0\nheat_adsorption_CO2_P0.15bar_T298K [kcal/mol]    0\nCO2_working_capacity [mL/g]                      0\ndtype: int64"
     },
     "metadata": {}
    }
   ],
   "execution_count": null
  },
  {
   "cell_type": "code",
   "source": "train[train['functional_groups'] == 'H']",
   "metadata": {
    "tags": [],
    "cell_id": "00022-267b4dd4-7b9e-4003-b46a-8fad0cb38409",
    "deepnote_to_be_reexecuted": false,
    "source_hash": "9b49dcf8",
    "execution_start": 1634034688508,
    "execution_millis": 167,
    "deepnote_cell_type": "code"
   },
   "outputs": [
    {
     "output_type": "execute_result",
     "execution_count": 44,
     "data": {
      "application/vnd.deepnote.dataframe.v2+json": {
       "row_count": 888,
       "column_count": 29,
       "columns": [
        {
         "name": "MOFname",
         "dtype": "object",
         "stats": {
          "unique_count": 888,
          "nan_count": 0,
          "categories": [
           {
            "name": "mof_unit_133",
            "count": 1
           },
           {
            "name": "mof_unit_291",
            "count": 1
           },
           {
            "name": "886 others",
            "count": 886
           }
          ]
         }
        },
        {
         "name": "volume [A^3]",
         "dtype": "float64",
         "stats": {
          "unique_count": 885,
          "nan_count": 0,
          "min": "666.24375",
          "max": "67370.420428",
          "histogram": [
           {
            "bin_start": 666.24375,
            "bin_end": 7336.6614178,
            "count": 812
           },
           {
            "bin_start": 7336.6614178,
            "bin_end": 14007.0790856,
            "count": 33
           },
           {
            "bin_start": 14007.0790856,
            "bin_end": 20677.496753400002,
            "count": 23
           },
           {
            "bin_start": 20677.496753400002,
            "bin_end": 27347.914421200003,
            "count": 16
           },
           {
            "bin_start": 27347.914421200003,
            "bin_end": 34018.332089,
            "count": 2
           },
           {
            "bin_start": 34018.332089,
            "bin_end": 40688.7497568,
            "count": 1
           },
           {
            "bin_start": 40688.7497568,
            "bin_end": 47359.167424600004,
            "count": 0
           },
           {
            "bin_start": 47359.167424600004,
            "bin_end": 54029.585092400004,
            "count": 0
           },
           {
            "bin_start": 54029.585092400004,
            "bin_end": 60700.002760200005,
            "count": 0
           },
           {
            "bin_start": 60700.002760200005,
            "bin_end": 67370.420428,
            "count": 1
           }
          ]
         }
        },
        {
         "name": "weight [u]",
         "dtype": "float64",
         "stats": {
          "unique_count": 342,
          "nan_count": 0,
          "min": "461.3298",
          "max": "9765.96864",
          "histogram": [
           {
            "bin_start": 461.3298,
            "bin_end": 1391.793684,
            "count": 563
           },
           {
            "bin_start": 1391.793684,
            "bin_end": 2322.257568,
            "count": 177
           },
           {
            "bin_start": 2322.257568,
            "bin_end": 3252.721452,
            "count": 103
           },
           {
            "bin_start": 3252.721452,
            "bin_end": 4183.1853360000005,
            "count": 29
           },
           {
            "bin_start": 4183.1853360000005,
            "bin_end": 5113.649219999999,
            "count": 5
           },
           {
            "bin_start": 5113.649219999999,
            "bin_end": 6044.113104,
            "count": 4
           },
           {
            "bin_start": 6044.113104,
            "bin_end": 6974.576988000001,
            "count": 1
           },
           {
            "bin_start": 6974.576988000001,
            "bin_end": 7905.040872,
            "count": 1
           },
           {
            "bin_start": 7905.040872,
            "bin_end": 8835.504756,
            "count": 3
           },
           {
            "bin_start": 8835.504756,
            "bin_end": 9765.96864,
            "count": 2
           }
          ]
         }
        },
        {
         "name": "density [g/cm^3]",
         "dtype": "float64",
         "stats": {
          "unique_count": 885,
          "nan_count": 0,
          "min": "0.1779597267515402",
          "max": "1.407605690079258",
          "histogram": [
           {
            "bin_start": 0.1779597267515402,
            "bin_end": 0.30092432308431194,
            "count": 20
           },
           {
            "bin_start": 0.30092432308431194,
            "bin_end": 0.42388891941708373,
            "count": 42
           },
           {
            "bin_start": 0.42388891941708373,
            "bin_end": 0.5468535157498555,
            "count": 44
           },
           {
            "bin_start": 0.5468535157498555,
            "bin_end": 0.6698181120826272,
            "count": 81
           },
           {
            "bin_start": 0.6698181120826272,
            "bin_end": 0.7927827084153991,
            "count": 148
           },
           {
            "bin_start": 0.7927827084153991,
            "bin_end": 0.9157473047481708,
            "count": 171
           },
           {
            "bin_start": 0.9157473047481708,
            "bin_end": 1.0387119010809425,
            "count": 153
           },
           {
            "bin_start": 1.0387119010809425,
            "bin_end": 1.1616764974137144,
            "count": 114
           },
           {
            "bin_start": 1.1616764974137144,
            "bin_end": 1.284641093746486,
            "count": 94
           },
           {
            "bin_start": 1.284641093746486,
            "bin_end": 1.407605690079258,
            "count": 21
           }
          ]
         }
        },
        {
         "name": "surface_area [m^2/g]",
         "dtype": "float64",
         "stats": {
          "unique_count": 887,
          "nan_count": 0,
          "min": "128.71",
          "max": "6575.51",
          "histogram": [
           {
            "bin_start": 128.71,
            "bin_end": 773.3900000000001,
            "count": 90
           },
           {
            "bin_start": 773.3900000000001,
            "bin_end": 1418.0700000000002,
            "count": 167
           },
           {
            "bin_start": 1418.0700000000002,
            "bin_end": 2062.75,
            "count": 165
           },
           {
            "bin_start": 2062.75,
            "bin_end": 2707.4300000000003,
            "count": 177
           },
           {
            "bin_start": 2707.4300000000003,
            "bin_end": 3352.1100000000006,
            "count": 116
           },
           {
            "bin_start": 3352.1100000000006,
            "bin_end": 3996.7900000000004,
            "count": 64
           },
           {
            "bin_start": 3996.7900000000004,
            "bin_end": 4641.47,
            "count": 37
           },
           {
            "bin_start": 4641.47,
            "bin_end": 5286.150000000001,
            "count": 30
           },
           {
            "bin_start": 5286.150000000001,
            "bin_end": 5930.830000000001,
            "count": 22
           },
           {
            "bin_start": 5930.830000000001,
            "bin_end": 6575.51,
            "count": 20
           }
          ]
         }
        },
        {
         "name": "gsa",
         "dtype": "float64",
         "stats": {
          "unique_count": 888,
          "nan_count": 0,
          "min": "75.34613834558743",
          "max": "122347.5919193539",
          "histogram": [
           {
            "bin_start": 75.34613834558743,
            "bin_end": 12302.570716446418,
            "count": 754
           },
           {
            "bin_start": 12302.570716446418,
            "bin_end": 24529.79529454725,
            "count": 60
           },
           {
            "bin_start": 24529.79529454725,
            "bin_end": 36757.01987264808,
            "count": 22
           },
           {
            "bin_start": 36757.01987264808,
            "bin_end": 48984.24445074891,
            "count": 15
           },
           {
            "bin_start": 48984.24445074891,
            "bin_end": 61211.469028849744,
            "count": 7
           },
           {
            "bin_start": 61211.469028849744,
            "bin_end": 73438.69360695058,
            "count": 9
           },
           {
            "bin_start": 73438.69360695058,
            "bin_end": 85665.9181850514,
            "count": 7
           },
           {
            "bin_start": 85665.9181850514,
            "bin_end": 97893.14276315224,
            "count": 7
           },
           {
            "bin_start": 97893.14276315224,
            "bin_end": 110120.36734125308,
            "count": 0
           },
           {
            "bin_start": 110120.36734125308,
            "bin_end": 122347.5919193539,
            "count": 7
           }
          ]
         }
        },
        {
         "name": "vsa",
         "dtype": "float64",
         "stats": {
          "unique_count": 888,
          "nan_count": 0,
          "min": "197.0922452641053",
          "max": "4759.035172233174",
          "histogram": [
           {
            "bin_start": 197.0922452641053,
            "bin_end": 653.2865379610122,
            "count": 37
           },
           {
            "bin_start": 653.2865379610122,
            "bin_end": 1109.4808306579191,
            "count": 72
           },
           {
            "bin_start": 1109.4808306579191,
            "bin_end": 1565.6751233548262,
            "count": 98
           },
           {
            "bin_start": 1565.6751233548262,
            "bin_end": 2021.869416051733,
            "count": 103
           },
           {
            "bin_start": 2021.869416051733,
            "bin_end": 2478.06370874864,
            "count": 126
           },
           {
            "bin_start": 2478.06370874864,
            "bin_end": 2934.258001445547,
            "count": 158
           },
           {
            "bin_start": 2934.258001445547,
            "bin_end": 3390.452294142454,
            "count": 132
           },
           {
            "bin_start": 3390.452294142454,
            "bin_end": 3846.6465868393607,
            "count": 110
           },
           {
            "bin_start": 3846.6465868393607,
            "bin_end": 4302.8408795362675,
            "count": 48
           },
           {
            "bin_start": 4302.8408795362675,
            "bin_end": 4759.035172233174,
            "count": 4
           }
          ]
         }
        },
        {
         "name": "smiles",
         "dtype": "object",
         "stats": {
          "unique_count": 1,
          "nan_count": 0,
          "categories": [
           {
            "name": "[H]",
            "count": 888
           }
          ]
         }
        },
        {
         "name": "MolWt",
         "dtype": "float64",
         "stats": {
          "unique_count": 1,
          "nan_count": 0,
          "min": "1.008",
          "max": "1.008",
          "histogram": [
           {
            "bin_start": 0.508,
            "bin_end": 0.608,
            "count": 0
           },
           {
            "bin_start": 0.608,
            "bin_end": 0.708,
            "count": 0
           },
           {
            "bin_start": 0.708,
            "bin_end": 0.808,
            "count": 0
           },
           {
            "bin_start": 0.808,
            "bin_end": 0.908,
            "count": 0
           },
           {
            "bin_start": 0.908,
            "bin_end": 1.008,
            "count": 0
           },
           {
            "bin_start": 1.008,
            "bin_end": 1.108,
            "count": 888
           },
           {
            "bin_start": 1.108,
            "bin_end": 1.2080000000000002,
            "count": 0
           },
           {
            "bin_start": 1.2080000000000002,
            "bin_end": 1.308,
            "count": 0
           },
           {
            "bin_start": 1.308,
            "bin_end": 1.408,
            "count": 0
           },
           {
            "bin_start": 1.408,
            "bin_end": 1.508,
            "count": 0
           }
          ]
         }
        },
        {
         "name": "MolLogP",
         "dtype": "float64",
         "stats": {
          "unique_count": 1,
          "nan_count": 0,
          "min": "0.1125",
          "max": "0.1125",
          "histogram": [
           {
            "bin_start": -0.3875,
            "bin_end": -0.2875,
            "count": 0
           },
           {
            "bin_start": -0.2875,
            "bin_end": -0.1875,
            "count": 0
           },
           {
            "bin_start": -0.1875,
            "bin_end": -0.08749999999999997,
            "count": 0
           },
           {
            "bin_start": -0.08749999999999997,
            "bin_end": 0.012500000000000011,
            "count": 0
           },
           {
            "bin_start": 0.012500000000000011,
            "bin_end": 0.11249999999999999,
            "count": 0
           },
           {
            "bin_start": 0.11249999999999999,
            "bin_end": 0.21250000000000008,
            "count": 888
           },
           {
            "bin_start": 0.21250000000000008,
            "bin_end": 0.31250000000000006,
            "count": 0
           },
           {
            "bin_start": 0.31250000000000006,
            "bin_end": 0.41250000000000003,
            "count": 0
           },
           {
            "bin_start": 0.41250000000000003,
            "bin_end": 0.5125,
            "count": 0
           },
           {
            "bin_start": 0.5125,
            "bin_end": 0.6125,
            "count": 0
           }
          ]
         }
        },
        {
         "name": "NumValenceElectrons",
         "dtype": "int64",
         "stats": {
          "unique_count": 1,
          "nan_count": 0,
          "min": "1",
          "max": "1",
          "histogram": [
           {
            "bin_start": 0.5,
            "bin_end": 0.6,
            "count": 0
           },
           {
            "bin_start": 0.6,
            "bin_end": 0.7,
            "count": 0
           },
           {
            "bin_start": 0.7,
            "bin_end": 0.8,
            "count": 0
           },
           {
            "bin_start": 0.8,
            "bin_end": 0.9,
            "count": 0
           },
           {
            "bin_start": 0.9,
            "bin_end": 1,
            "count": 0
           },
           {
            "bin_start": 1,
            "bin_end": 1.1,
            "count": 888
           },
           {
            "bin_start": 1.1,
            "bin_end": 1.2000000000000002,
            "count": 0
           },
           {
            "bin_start": 1.2000000000000002,
            "bin_end": 1.3,
            "count": 0
           },
           {
            "bin_start": 1.3,
            "bin_end": 1.4,
            "count": 0
           },
           {
            "bin_start": 1.4,
            "bin_end": 1.5,
            "count": 0
           }
          ]
         }
        },
        {
         "name": "HeavyAtomCount",
         "dtype": "int64",
         "stats": {
          "unique_count": 1,
          "nan_count": 0,
          "min": "0",
          "max": "0",
          "histogram": [
           {
            "bin_start": -0.5,
            "bin_end": -0.4,
            "count": 0
           },
           {
            "bin_start": -0.4,
            "bin_end": -0.3,
            "count": 0
           },
           {
            "bin_start": -0.3,
            "bin_end": -0.19999999999999996,
            "count": 0
           },
           {
            "bin_start": -0.19999999999999996,
            "bin_end": -0.09999999999999998,
            "count": 0
           },
           {
            "bin_start": -0.09999999999999998,
            "bin_end": 0,
            "count": 0
           },
           {
            "bin_start": 0,
            "bin_end": 0.10000000000000009,
            "count": 888
           },
           {
            "bin_start": 0.10000000000000009,
            "bin_end": 0.20000000000000007,
            "count": 0
           },
           {
            "bin_start": 0.20000000000000007,
            "bin_end": 0.30000000000000004,
            "count": 0
           },
           {
            "bin_start": 0.30000000000000004,
            "bin_end": 0.4,
            "count": 0
           },
           {
            "bin_start": 0.4,
            "bin_end": 0.5,
            "count": 0
           }
          ]
         }
        },
        {
         "name": "NOCount",
         "dtype": "int64",
         "stats": {
          "unique_count": 1,
          "nan_count": 0,
          "min": "0",
          "max": "0",
          "histogram": [
           {
            "bin_start": -0.5,
            "bin_end": -0.4,
            "count": 0
           },
           {
            "bin_start": -0.4,
            "bin_end": -0.3,
            "count": 0
           },
           {
            "bin_start": -0.3,
            "bin_end": -0.19999999999999996,
            "count": 0
           },
           {
            "bin_start": -0.19999999999999996,
            "bin_end": -0.09999999999999998,
            "count": 0
           },
           {
            "bin_start": -0.09999999999999998,
            "bin_end": 0,
            "count": 0
           },
           {
            "bin_start": 0,
            "bin_end": 0.10000000000000009,
            "count": 888
           },
           {
            "bin_start": 0.10000000000000009,
            "bin_end": 0.20000000000000007,
            "count": 0
           },
           {
            "bin_start": 0.20000000000000007,
            "bin_end": 0.30000000000000004,
            "count": 0
           },
           {
            "bin_start": 0.30000000000000004,
            "bin_end": 0.4,
            "count": 0
           },
           {
            "bin_start": 0.4,
            "bin_end": 0.5,
            "count": 0
           }
          ]
         }
        },
        {
         "name": "NumAliphaticRings",
         "dtype": "int64",
         "stats": {
          "unique_count": 1,
          "nan_count": 0,
          "min": "0",
          "max": "0",
          "histogram": [
           {
            "bin_start": -0.5,
            "bin_end": -0.4,
            "count": 0
           },
           {
            "bin_start": -0.4,
            "bin_end": -0.3,
            "count": 0
           },
           {
            "bin_start": -0.3,
            "bin_end": -0.19999999999999996,
            "count": 0
           },
           {
            "bin_start": -0.19999999999999996,
            "bin_end": -0.09999999999999998,
            "count": 0
           },
           {
            "bin_start": -0.09999999999999998,
            "bin_end": 0,
            "count": 0
           },
           {
            "bin_start": 0,
            "bin_end": 0.10000000000000009,
            "count": 888
           },
           {
            "bin_start": 0.10000000000000009,
            "bin_end": 0.20000000000000007,
            "count": 0
           },
           {
            "bin_start": 0.20000000000000007,
            "bin_end": 0.30000000000000004,
            "count": 0
           },
           {
            "bin_start": 0.30000000000000004,
            "bin_end": 0.4,
            "count": 0
           },
           {
            "bin_start": 0.4,
            "bin_end": 0.5,
            "count": 0
           }
          ]
         }
        },
        {
         "name": "NumAromaticRings",
         "dtype": "int64",
         "stats": {
          "unique_count": 1,
          "nan_count": 0,
          "min": "0",
          "max": "0",
          "histogram": [
           {
            "bin_start": -0.5,
            "bin_end": -0.4,
            "count": 0
           },
           {
            "bin_start": -0.4,
            "bin_end": -0.3,
            "count": 0
           },
           {
            "bin_start": -0.3,
            "bin_end": -0.19999999999999996,
            "count": 0
           },
           {
            "bin_start": -0.19999999999999996,
            "bin_end": -0.09999999999999998,
            "count": 0
           },
           {
            "bin_start": -0.09999999999999998,
            "bin_end": 0,
            "count": 0
           },
           {
            "bin_start": 0,
            "bin_end": 0.10000000000000009,
            "count": 888
           },
           {
            "bin_start": 0.10000000000000009,
            "bin_end": 0.20000000000000007,
            "count": 0
           },
           {
            "bin_start": 0.20000000000000007,
            "bin_end": 0.30000000000000004,
            "count": 0
           },
           {
            "bin_start": 0.30000000000000004,
            "bin_end": 0.4,
            "count": 0
           },
           {
            "bin_start": 0.4,
            "bin_end": 0.5,
            "count": 0
           }
          ]
         }
        },
        {
         "name": "NumHAcceptors",
         "dtype": "int64",
         "stats": {
          "unique_count": 1,
          "nan_count": 0,
          "min": "0",
          "max": "0",
          "histogram": [
           {
            "bin_start": -0.5,
            "bin_end": -0.4,
            "count": 0
           },
           {
            "bin_start": -0.4,
            "bin_end": -0.3,
            "count": 0
           },
           {
            "bin_start": -0.3,
            "bin_end": -0.19999999999999996,
            "count": 0
           },
           {
            "bin_start": -0.19999999999999996,
            "bin_end": -0.09999999999999998,
            "count": 0
           },
           {
            "bin_start": -0.09999999999999998,
            "bin_end": 0,
            "count": 0
           },
           {
            "bin_start": 0,
            "bin_end": 0.10000000000000009,
            "count": 888
           },
           {
            "bin_start": 0.10000000000000009,
            "bin_end": 0.20000000000000007,
            "count": 0
           },
           {
            "bin_start": 0.20000000000000007,
            "bin_end": 0.30000000000000004,
            "count": 0
           },
           {
            "bin_start": 0.30000000000000004,
            "bin_end": 0.4,
            "count": 0
           },
           {
            "bin_start": 0.4,
            "bin_end": 0.5,
            "count": 0
           }
          ]
         }
        },
        {
         "name": "NumHDonors",
         "dtype": "int64",
         "stats": {
          "unique_count": 1,
          "nan_count": 0,
          "min": "0",
          "max": "0",
          "histogram": [
           {
            "bin_start": -0.5,
            "bin_end": -0.4,
            "count": 0
           },
           {
            "bin_start": -0.4,
            "bin_end": -0.3,
            "count": 0
           },
           {
            "bin_start": -0.3,
            "bin_end": -0.19999999999999996,
            "count": 0
           },
           {
            "bin_start": -0.19999999999999996,
            "bin_end": -0.09999999999999998,
            "count": 0
           },
           {
            "bin_start": -0.09999999999999998,
            "bin_end": 0,
            "count": 0
           },
           {
            "bin_start": 0,
            "bin_end": 0.10000000000000009,
            "count": 888
           },
           {
            "bin_start": 0.10000000000000009,
            "bin_end": 0.20000000000000007,
            "count": 0
           },
           {
            "bin_start": 0.20000000000000007,
            "bin_end": 0.30000000000000004,
            "count": 0
           },
           {
            "bin_start": 0.30000000000000004,
            "bin_end": 0.4,
            "count": 0
           },
           {
            "bin_start": 0.4,
            "bin_end": 0.5,
            "count": 0
           }
          ]
         }
        },
        {
         "name": "NumHeteroatoms",
         "dtype": "int64",
         "stats": {
          "unique_count": 1,
          "nan_count": 0,
          "min": "0",
          "max": "0",
          "histogram": [
           {
            "bin_start": -0.5,
            "bin_end": -0.4,
            "count": 0
           },
           {
            "bin_start": -0.4,
            "bin_end": -0.3,
            "count": 0
           },
           {
            "bin_start": -0.3,
            "bin_end": -0.19999999999999996,
            "count": 0
           },
           {
            "bin_start": -0.19999999999999996,
            "bin_end": -0.09999999999999998,
            "count": 0
           },
           {
            "bin_start": -0.09999999999999998,
            "bin_end": 0,
            "count": 0
           },
           {
            "bin_start": 0,
            "bin_end": 0.10000000000000009,
            "count": 888
           },
           {
            "bin_start": 0.10000000000000009,
            "bin_end": 0.20000000000000007,
            "count": 0
           },
           {
            "bin_start": 0.20000000000000007,
            "bin_end": 0.30000000000000004,
            "count": 0
           },
           {
            "bin_start": 0.30000000000000004,
            "bin_end": 0.4,
            "count": 0
           },
           {
            "bin_start": 0.4,
            "bin_end": 0.5,
            "count": 0
           }
          ]
         }
        },
        {
         "name": "NumRotatableBonds",
         "dtype": "int64",
         "stats": {
          "unique_count": 1,
          "nan_count": 0,
          "min": "0",
          "max": "0",
          "histogram": [
           {
            "bin_start": -0.5,
            "bin_end": -0.4,
            "count": 0
           },
           {
            "bin_start": -0.4,
            "bin_end": -0.3,
            "count": 0
           },
           {
            "bin_start": -0.3,
            "bin_end": -0.19999999999999996,
            "count": 0
           },
           {
            "bin_start": -0.19999999999999996,
            "bin_end": -0.09999999999999998,
            "count": 0
           },
           {
            "bin_start": -0.09999999999999998,
            "bin_end": 0,
            "count": 0
           },
           {
            "bin_start": 0,
            "bin_end": 0.10000000000000009,
            "count": 888
           },
           {
            "bin_start": 0.10000000000000009,
            "bin_end": 0.20000000000000007,
            "count": 0
           },
           {
            "bin_start": 0.20000000000000007,
            "bin_end": 0.30000000000000004,
            "count": 0
           },
           {
            "bin_start": 0.30000000000000004,
            "bin_end": 0.4,
            "count": 0
           },
           {
            "bin_start": 0.4,
            "bin_end": 0.5,
            "count": 0
           }
          ]
         }
        },
        {
         "name": "void_fraction",
         "dtype": "float64",
         "stats": {
          "unique_count": 820,
          "nan_count": 0,
          "min": "0.0665299999999998",
          "max": "0.8444799999999999",
          "histogram": [
           {
            "bin_start": 0.0665299999999998,
            "bin_end": 0.14432499999999981,
            "count": 109
           },
           {
            "bin_start": 0.14432499999999981,
            "bin_end": 0.22211999999999982,
            "count": 179
           },
           {
            "bin_start": 0.22211999999999982,
            "bin_end": 0.2999149999999999,
            "count": 149
           },
           {
            "bin_start": 0.2999149999999999,
            "bin_end": 0.3777099999999999,
            "count": 192
           },
           {
            "bin_start": 0.3777099999999999,
            "bin_end": 0.4555049999999999,
            "count": 120
           },
           {
            "bin_start": 0.4555049999999999,
            "bin_end": 0.5332999999999999,
            "count": 44
           },
           {
            "bin_start": 0.5332999999999999,
            "bin_end": 0.6110949999999998,
            "count": 28
           },
           {
            "bin_start": 0.6110949999999998,
            "bin_end": 0.6888899999999999,
            "count": 26
           },
           {
            "bin_start": 0.6888899999999999,
            "bin_end": 0.766685,
            "count": 27
           },
           {
            "bin_start": 0.766685,
            "bin_end": 0.8444799999999999,
            "count": 14
           }
          ]
         }
        },
        {
         "name": "void_volume [cm^3/g]",
         "dtype": "float64",
         "stats": {
          "unique_count": 729,
          "nan_count": 0,
          "min": "0.0483",
          "max": "4.7317",
          "histogram": [
           {
            "bin_start": 0.0483,
            "bin_end": 0.51664,
            "count": 642
           },
           {
            "bin_start": 0.51664,
            "bin_end": 0.98498,
            "count": 139
           },
           {
            "bin_start": 0.98498,
            "bin_end": 1.45332,
            "count": 46
           },
           {
            "bin_start": 1.45332,
            "bin_end": 1.92166,
            "count": 17
           },
           {
            "bin_start": 1.92166,
            "bin_end": 2.3899999999999997,
            "count": 22
           },
           {
            "bin_start": 2.3899999999999997,
            "bin_end": 2.8583399999999997,
            "count": 8
           },
           {
            "bin_start": 2.8583399999999997,
            "bin_end": 3.3266799999999996,
            "count": 3
           },
           {
            "bin_start": 3.3266799999999996,
            "bin_end": 3.7950199999999996,
            "count": 3
           },
           {
            "bin_start": 3.7950199999999996,
            "bin_end": 4.26336,
            "count": 2
           },
           {
            "bin_start": 4.26336,
            "bin_end": 4.7317,
            "count": 6
           }
          ]
         }
        },
        {
         "name": "functional_groups",
         "dtype": "object",
         "stats": {
          "unique_count": 1,
          "nan_count": 0,
          "categories": [
           {
            "name": "H",
            "count": 888
           }
          ]
         }
        },
        {
         "name": "metal_linker",
         "dtype": "category",
         "stats": {
          "unique_count": 7,
          "nan_count": 0,
          "categories": [
           {
            "name": "2",
            "count": 276
           },
           {
            "name": "3",
            "count": 209
           },
           {
            "name": "5 others",
            "count": 403
           }
          ]
         }
        },
        {
         "name": "organic_linker1",
         "dtype": "category",
         "stats": {
          "unique_count": 40,
          "nan_count": 0,
          "categories": [
           {
            "name": "4",
            "count": 142
           },
           {
            "name": "1",
            "count": 104
           },
           {
            "name": "38 others",
            "count": 642
           }
          ]
         }
        },
        {
         "name": "organic_linker2",
         "dtype": "category",
         "stats": {
          "unique_count": 41,
          "nan_count": 0,
          "categories": [
           {
            "name": "24",
            "count": 98
           },
           {
            "name": "18",
            "count": 82
           },
           {
            "name": "39 others",
            "count": 708
           }
          ]
         }
        },
        {
         "name": "topology",
         "dtype": "object",
         "stats": {
          "unique_count": 10,
          "nan_count": 0,
          "categories": [
           {
            "name": "pcu",
            "count": 465
           },
           {
            "name": "acs",
            "count": 150
           },
           {
            "name": "8 others",
            "count": 273
           }
          ]
         }
        },
        {
         "name": "CO2/N2_selectivity",
         "dtype": "float64",
         "stats": {
          "unique_count": 888,
          "nan_count": 0,
          "min": "2.183975616",
          "max": "298.955374",
          "histogram": [
           {
            "bin_start": 2.183975616,
            "bin_end": 31.861115454400004,
            "count": 679
           },
           {
            "bin_start": 31.861115454400004,
            "bin_end": 61.5382552928,
            "count": 144
           },
           {
            "bin_start": 61.5382552928,
            "bin_end": 91.21539513120001,
            "count": 39
           },
           {
            "bin_start": 91.21539513120001,
            "bin_end": 120.8925349696,
            "count": 19
           },
           {
            "bin_start": 120.8925349696,
            "bin_end": 150.569674808,
            "count": 4
           },
           {
            "bin_start": 150.569674808,
            "bin_end": 180.24681464640003,
            "count": 0
           },
           {
            "bin_start": 180.24681464640003,
            "bin_end": 209.92395448480002,
            "count": 0
           },
           {
            "bin_start": 209.92395448480002,
            "bin_end": 239.60109432320002,
            "count": 0
           },
           {
            "bin_start": 239.60109432320002,
            "bin_end": 269.27823416160004,
            "count": 1
           },
           {
            "bin_start": 269.27823416160004,
            "bin_end": 298.955374,
            "count": 2
           }
          ]
         }
        },
        {
         "name": "heat_adsorption_CO2_P0.15bar_T298K [kcal/mol]",
         "dtype": "float64",
         "stats": {
          "unique_count": 888,
          "nan_count": 0,
          "min": "1.612299",
          "max": "10.791553",
          "histogram": [
           {
            "bin_start": 1.612299,
            "bin_end": 2.5302244,
            "count": 17
           },
           {
            "bin_start": 2.5302244,
            "bin_end": 3.4481498,
            "count": 64
           },
           {
            "bin_start": 3.4481498,
            "bin_end": 4.3660752,
            "count": 11
           },
           {
            "bin_start": 4.3660752,
            "bin_end": 5.2840006,
            "count": 247
           },
           {
            "bin_start": 5.2840006,
            "bin_end": 6.201926,
            "count": 262
           },
           {
            "bin_start": 6.201926,
            "bin_end": 7.1198514,
            "count": 148
           },
           {
            "bin_start": 7.1198514,
            "bin_end": 8.0377768,
            "count": 90
           },
           {
            "bin_start": 8.0377768,
            "bin_end": 8.9557022,
            "count": 34
           },
           {
            "bin_start": 8.9557022,
            "bin_end": 9.8736276,
            "count": 12
           },
           {
            "bin_start": 9.8736276,
            "bin_end": 10.791553,
            "count": 3
           }
          ]
         }
        },
        {
         "name": "CO2_working_capacity [mL/g]",
         "dtype": "float64",
         "stats": {
          "unique_count": 887,
          "nan_count": 0,
          "min": "-18.992387004490507",
          "max": "675.0828542596564",
          "histogram": [
           {
            "bin_start": -18.992387004490507,
            "bin_end": 50.41513712192419,
            "count": 145
           },
           {
            "bin_start": 50.41513712192419,
            "bin_end": 119.82266124833889,
            "count": 340
           },
           {
            "bin_start": 119.82266124833889,
            "bin_end": 189.2301853747536,
            "count": 133
           },
           {
            "bin_start": 189.2301853747536,
            "bin_end": 258.6377095011683,
            "count": 100
           },
           {
            "bin_start": 258.6377095011683,
            "bin_end": 328.045233627583,
            "count": 96
           },
           {
            "bin_start": 328.045233627583,
            "bin_end": 397.4527577539977,
            "count": 29
           },
           {
            "bin_start": 397.4527577539977,
            "bin_end": 466.86028188041234,
            "count": 24
           },
           {
            "bin_start": 466.86028188041234,
            "bin_end": 536.2678060068271,
            "count": 8
           },
           {
            "bin_start": 536.2678060068271,
            "bin_end": 605.6753301332418,
            "count": 10
           },
           {
            "bin_start": 605.6753301332418,
            "bin_end": 675.0828542596564,
            "count": 3
           }
          ]
         }
        },
        {
         "name": "_deepnote_index_column",
         "dtype": "int64"
        }
       ],
       "rows_top": [
        {
         "MOFname": "mof_unit_133",
         "volume [A^3]": 2879.399691,
         "weight [u]": 1051.9117199999998,
         "density [g/cm^3]": 0.6066339080984501,
         "surface_area [m^2/g]": 3781.03,
         "gsa": 16953.53941132147,
         "vsa": 3202.028632354577,
         "smiles": "[H]",
         "MolWt": 1.008,
         "MolLogP": 0.1125,
         "NumValenceElectrons": 1,
         "HeavyAtomCount": 0,
         "NOCount": 0,
         "NumAliphaticRings": 0,
         "NumAromaticRings": 0,
         "NumHAcceptors": 0,
         "NumHDonors": 0,
         "NumHeteroatoms": 0,
         "NumRotatableBonds": 0,
         "void_fraction": 0.4469699999999999,
         "void_volume [cm^3/g]": 0.7368,
         "functional_groups": "H",
         "metal_linker": 2,
         "organic_linker1": 4,
         "organic_linker2": 29,
         "topology": "pcu",
         "CO2/N2_selectivity": 8.721836903,
         "heat_adsorption_CO2_P0.15bar_T298K [kcal/mol]": 4.484787,
         "CO2_working_capacity [mL/g]": 46.93737043854794,
         "_deepnote_index_column": 132
        },
        {
         "MOFname": "mof_unit_291",
         "volume [A^3]": 2044.232116,
         "weight [u]": 987.95388,
         "density [g/cm^3]": 0.8025198914814428,
         "surface_area [m^2/g]": 2295.55,
         "gsa": 3139.502280049792,
         "vsa": 2174.009434312352,
         "smiles": "[H]",
         "MolWt": 1.008,
         "MolLogP": 0.1125,
         "NumValenceElectrons": 1,
         "HeavyAtomCount": 0,
         "NOCount": 0,
         "NumAliphaticRings": 0,
         "NumAromaticRings": 0,
         "NumHAcceptors": 0,
         "NumHDonors": 0,
         "NumHeteroatoms": 0,
         "NumRotatableBonds": 0,
         "void_fraction": 0.30162,
         "void_volume [cm^3/g]": 0.3758,
         "functional_groups": "H",
         "metal_linker": 2,
         "organic_linker1": 9,
         "organic_linker2": 18,
         "topology": "pcu",
         "CO2/N2_selectivity": 19.28362228,
         "heat_adsorption_CO2_P0.15bar_T298K [kcal/mol]": 5.808452,
         "CO2_working_capacity [mL/g]": 179.05077305550228,
         "_deepnote_index_column": 290
        },
        {
         "MOFname": "mof_unit_462",
         "volume [A^3]": 4361.881659000001,
         "weight [u]": 1536.86384,
         "density [g/cm^3]": 0.5850740759112372,
         "surface_area [m^2/g]": 3797.52,
         "gsa": 11136.446282149198,
         "vsa": 2975.027384797362,
         "smiles": "[H]",
         "MolWt": 1.008,
         "MolLogP": 0.1125,
         "NumValenceElectrons": 1,
         "HeavyAtomCount": 0,
         "NOCount": 0,
         "NumAliphaticRings": 0,
         "NumAromaticRings": 0,
         "NumHAcceptors": 0,
         "NumHDonors": 0,
         "NumHeteroatoms": 0,
         "NumRotatableBonds": 0,
         "void_fraction": 0.4585099999999999,
         "void_volume [cm^3/g]": 0.7837,
         "functional_groups": "H",
         "metal_linker": 9,
         "organic_linker1": 18,
         "organic_linker2": 27,
         "topology": "sra",
         "CO2/N2_selectivity": 25.31239935,
         "heat_adsorption_CO2_P0.15bar_T298K [kcal/mol]": 5.845265,
         "CO2_working_capacity [mL/g]": 146.85209713168612,
         "_deepnote_index_column": 461
        },
        {
         "MOFname": "mof_unit_545",
         "volume [A^3]": 3889.091818,
         "weight [u]": 2517.2336800000003,
         "density [g/cm^3]": 1.0747926278420408,
         "surface_area [m^2/g]": 966.09,
         "gsa": 2268.9125924052955,
         "vsa": 2310.126481704049,
         "smiles": "[H]",
         "MolWt": 1.008,
         "MolLogP": 0.1125,
         "NumValenceElectrons": 1,
         "HeavyAtomCount": 0,
         "NOCount": 0,
         "NumAliphaticRings": 0,
         "NumAromaticRings": 0,
         "NumHAcceptors": 0,
         "NumHDonors": 0,
         "NumHeteroatoms": 0,
         "NumRotatableBonds": 0,
         "void_fraction": 0.17732,
         "void_volume [cm^3/g]": 0.165,
         "functional_groups": "H",
         "metal_linker": 4,
         "organic_linker1": 11,
         "organic_linker2": 14,
         "topology": "acs",
         "CO2/N2_selectivity": 25.42033769,
         "heat_adsorption_CO2_P0.15bar_T298K [kcal/mol]": 5.802776000000001,
         "CO2_working_capacity [mL/g]": 91.86575928751336,
         "_deepnote_index_column": 544
        },
        {
         "MOFname": "mof_unit_846",
         "volume [A^3]": 3915.123327,
         "weight [u]": 2020.5912,
         "density [g/cm^3]": 0.857003019064283,
         "surface_area [m^2/g]": 2303.8,
         "gsa": 2911.6602287782075,
         "vsa": 2057.2179373925333,
         "smiles": "[H]",
         "MolWt": 1.008,
         "MolLogP": 0.1125,
         "NumValenceElectrons": 1,
         "HeavyAtomCount": 0,
         "NOCount": 0,
         "NumAliphaticRings": 0,
         "NumAromaticRings": 0,
         "NumHAcceptors": 0,
         "NumHDonors": 0,
         "NumHeteroatoms": 0,
         "NumRotatableBonds": 0,
         "void_fraction": 0.3688199999999999,
         "void_volume [cm^3/g]": 0.4304,
         "functional_groups": "H",
         "metal_linker": 2,
         "organic_linker1": 41,
         "organic_linker2": 41,
         "topology": "fof",
         "CO2/N2_selectivity": 24.4632807,
         "heat_adsorption_CO2_P0.15bar_T298K [kcal/mol]": 6.055741,
         "CO2_working_capacity [mL/g]": 248.00621854746905,
         "_deepnote_index_column": 845
        },
        {
         "MOFname": "mof_unit_916",
         "volume [A^3]": 3854.95609,
         "weight [u]": 2709.40488,
         "density [g/cm^3]": 1.1670885671320836,
         "surface_area [m^2/g]": 917.12,
         "gsa": 1590.7584207855186,
         "vsa": 2047.4772436073983,
         "smiles": "[H]",
         "MolWt": 1.008,
         "MolLogP": 0.1125,
         "NumValenceElectrons": 1,
         "HeavyAtomCount": 0,
         "NOCount": 0,
         "NumAliphaticRings": 0,
         "NumAromaticRings": 0,
         "NumHAcceptors": 0,
         "NumHDonors": 0,
         "NumHeteroatoms": 0,
         "NumRotatableBonds": 0,
         "void_fraction": 0.1681,
         "void_volume [cm^3/g]": 0.1439999999999999,
         "functional_groups": "H",
         "metal_linker": 4,
         "organic_linker1": 1,
         "organic_linker2": 24,
         "topology": "acs",
         "CO2/N2_selectivity": 32.12501934,
         "heat_adsorption_CO2_P0.15bar_T298K [kcal/mol]": 6.889553,
         "CO2_working_capacity [mL/g]": 174.6691462410167,
         "_deepnote_index_column": 915
        },
        {
         "MOFname": "mof_unit_997",
         "volume [A^3]": 1213.144404,
         "weight [u]": 591.43668,
         "density [g/cm^3]": 0.8095526479527,
         "surface_area [m^2/g]": 2502.88,
         "gsa": 7064.95166778032,
         "vsa": 2518.1026833786536,
         "smiles": "[H]",
         "MolWt": 1.008,
         "MolLogP": 0.1125,
         "NumValenceElectrons": 1,
         "HeavyAtomCount": 0,
         "NOCount": 0,
         "NumAliphaticRings": 0,
         "NumAromaticRings": 0,
         "NumHAcceptors": 0,
         "NumHDonors": 0,
         "NumHeteroatoms": 0,
         "NumRotatableBonds": 0,
         "void_fraction": 0.3478199999999999,
         "void_volume [cm^3/g]": 0.4295999999999999,
         "functional_groups": "H",
         "metal_linker": 2,
         "organic_linker1": 10,
         "organic_linker2": 27,
         "topology": "pcu",
         "CO2/N2_selectivity": 9.733045951,
         "heat_adsorption_CO2_P0.15bar_T298K [kcal/mol]": 4.914482,
         "CO2_working_capacity [mL/g]": 58.03001923683696,
         "_deepnote_index_column": 996
        },
        {
         "MOFname": "mof_unit_1107",
         "volume [A^3]": 2255.607476,
         "weight [u]": 1234.37944,
         "density [g/cm^3]": 0.9087292257660524,
         "surface_area [m^2/g]": 1711.08,
         "gsa": 4407.41881936107,
         "vsa": 2689.667669539828,
         "smiles": "[H]",
         "MolWt": 1.008,
         "MolLogP": 0.1125,
         "NumValenceElectrons": 1,
         "HeavyAtomCount": 0,
         "NOCount": 0,
         "NumAliphaticRings": 0,
         "NumAromaticRings": 0,
         "NumHAcceptors": 0,
         "NumHDonors": 0,
         "NumHeteroatoms": 0,
         "NumRotatableBonds": 0,
         "void_fraction": 0.2797399999999999,
         "void_volume [cm^3/g]": 0.3078,
         "functional_groups": "H",
         "metal_linker": 3,
         "organic_linker1": 4,
         "organic_linker2": 4,
         "topology": "pcu",
         "CO2/N2_selectivity": 15.55776492,
         "heat_adsorption_CO2_P0.15bar_T298K [kcal/mol]": 5.333121,
         "CO2_working_capacity [mL/g]": 89.87064412796575,
         "_deepnote_index_column": 1106
        },
        {
         "MOFname": "mof_unit_1120",
         "volume [A^3]": 1119.970865,
         "weight [u]": 561.44716,
         "density [g/cm^3]": 0.8324372501122161,
         "surface_area [m^2/g]": 2148.94,
         "gsa": 9646.704929108771,
         "vsa": 3443.0312659379406,
         "smiles": "[H]",
         "MolWt": 1.008,
         "MolLogP": 0.1125,
         "NumValenceElectrons": 1,
         "HeavyAtomCount": 0,
         "NOCount": 0,
         "NumAliphaticRings": 0,
         "NumAromaticRings": 0,
         "NumHAcceptors": 0,
         "NumHDonors": 0,
         "NumHeteroatoms": 0,
         "NumRotatableBonds": 0,
         "void_fraction": 0.34009,
         "void_volume [cm^3/g]": 0.4086,
         "functional_groups": "H",
         "metal_linker": 2,
         "organic_linker1": 1,
         "organic_linker2": 4,
         "topology": "pcu",
         "CO2/N2_selectivity": 10.45401786,
         "heat_adsorption_CO2_P0.15bar_T298K [kcal/mol]": 5.144972,
         "CO2_working_capacity [mL/g]": 54.5094316969005,
         "_deepnote_index_column": 1119
        },
        {
         "MOFname": "mof_unit_1205",
         "volume [A^3]": 17352.217918000002,
         "weight [u]": 8561.73088,
         "density [g/cm^3]": 0.8193244611530239,
         "surface_area [m^2/g]": 1889.95,
         "gsa": 14601.107348863286,
         "vsa": 3068.481460602177,
         "smiles": "[H]",
         "MolWt": 1.008,
         "MolLogP": 0.1125,
         "NumValenceElectrons": 1,
         "HeavyAtomCount": 0,
         "NOCount": 0,
         "NumAliphaticRings": 0,
         "NumAromaticRings": 0,
         "NumHAcceptors": 0,
         "NumHDonors": 0,
         "NumHeteroatoms": 0,
         "NumRotatableBonds": 0,
         "void_fraction": 0.3754699999999999,
         "void_volume [cm^3/g]": 0.4582999999999999,
         "functional_groups": "H",
         "metal_linker": 1,
         "organic_linker1": 15,
         "organic_linker2": 15,
         "topology": "pcu",
         "CO2/N2_selectivity": 9.56229213,
         "heat_adsorption_CO2_P0.15bar_T298K [kcal/mol]": 4.963483,
         "CO2_working_capacity [mL/g]": 68.18998553872983,
         "_deepnote_index_column": 1204
        },
        {
         "MOFname": "mof_unit_1220",
         "volume [A^3]": 1645.145711,
         "weight [u]": 1076.41536,
         "density [g/cm^3]": 1.086487810741039,
         "surface_area [m^2/g]": 773.22,
         "gsa": 1231.3941222888905,
         "vsa": 1096.9648118927528,
         "smiles": "[H]",
         "MolWt": 1.008,
         "MolLogP": 0.1125,
         "NumValenceElectrons": 1,
         "HeavyAtomCount": 0,
         "NOCount": 0,
         "NumAliphaticRings": 0,
         "NumAromaticRings": 0,
         "NumHAcceptors": 0,
         "NumHDonors": 0,
         "NumHeteroatoms": 0,
         "NumRotatableBonds": 0,
         "void_fraction": 0.1454599999999998,
         "void_volume [cm^3/g]": 0.1338999999999999,
         "functional_groups": "H",
         "metal_linker": 9,
         "organic_linker1": 12,
         "organic_linker2": 2,
         "topology": "sra",
         "CO2/N2_selectivity": 43.46992316,
         "heat_adsorption_CO2_P0.15bar_T298K [kcal/mol]": 6.967805,
         "CO2_working_capacity [mL/g]": 221.84373167909047,
         "_deepnote_index_column": 1219
        },
        {
         "MOFname": "mof_unit_1549",
         "volume [A^3]": 1737.5934489999995,
         "weight [u]": 899.7197999999999,
         "density [g/cm^3]": 0.8598217940749154,
         "surface_area [m^2/g]": 2340.12,
         "gsa": 3091.345086165374,
         "vsa": 2411.892001363056,
         "smiles": "[H]",
         "MolWt": 1.008,
         "MolLogP": 0.1125,
         "NumValenceElectrons": 1,
         "HeavyAtomCount": 0,
         "NOCount": 0,
         "NumAliphaticRings": 0,
         "NumAromaticRings": 0,
         "NumHAcceptors": 0,
         "NumHDonors": 0,
         "NumHeteroatoms": 0,
         "NumRotatableBonds": 0,
         "void_fraction": 0.2679099999999999,
         "void_volume [cm^3/g]": 0.3115999999999999,
         "functional_groups": "H",
         "metal_linker": 2,
         "organic_linker1": 10,
         "organic_linker2": 29,
         "topology": "pcu",
         "CO2/N2_selectivity": 50.53886899,
         "heat_adsorption_CO2_P0.15bar_T298K [kcal/mol]": 6.721871000000001,
         "CO2_working_capacity [mL/g]": 572.3984732435918,
         "_deepnote_index_column": 1548
        },
        {
         "MOFname": "mof_unit_1559",
         "volume [A^3]": 3852.986963,
         "weight [u]": 3266.098,
         "density [g/cm^3]": 1.407605690079258,
         "surface_area [m^2/g]": 581.0467433254726,
         "gsa": 295.6016223156749,
         "vsa": 581.0467433254726,
         "smiles": "[H]",
         "MolWt": 1.008,
         "MolLogP": 0.1125,
         "NumValenceElectrons": 1,
         "HeavyAtomCount": 0,
         "NOCount": 0,
         "NumAliphaticRings": 0,
         "NumAromaticRings": 0,
         "NumHAcceptors": 0,
         "NumHDonors": 0,
         "NumHeteroatoms": 0,
         "NumRotatableBonds": 0,
         "void_fraction": 0.0811199999999999,
         "void_volume [cm^3/g]": 0.0575999999999999,
         "functional_groups": "H",
         "metal_linker": 4,
         "organic_linker1": 15,
         "organic_linker2": 24,
         "topology": "acs",
         "CO2/N2_selectivity": 56.26371425,
         "heat_adsorption_CO2_P0.15bar_T298K [kcal/mol]": 8.687511,
         "CO2_working_capacity [mL/g]": 222.17900214814904,
         "_deepnote_index_column": 1558
        },
        {
         "MOFname": "mof_unit_1572",
         "volume [A^3]": 1273.815062,
         "weight [u]": 591.1524400000001,
         "density [g/cm^3]": 0.7706238542794057,
         "surface_area [m^2/g]": 2655.89,
         "gsa": 4026.584569583907,
         "vsa": 2809.7117497930326,
         "smiles": "[H]",
         "MolWt": 1.008,
         "MolLogP": 0.1125,
         "NumValenceElectrons": 1,
         "HeavyAtomCount": 0,
         "NOCount": 0,
         "NumAliphaticRings": 0,
         "NumAromaticRings": 0,
         "NumHAcceptors": 0,
         "NumHDonors": 0,
         "NumHeteroatoms": 0,
         "NumRotatableBonds": 0,
         "void_fraction": 0.3618799999999999,
         "void_volume [cm^3/g]": 0.4696,
         "functional_groups": "H",
         "metal_linker": 3,
         "organic_linker1": 12,
         "organic_linker2": 16,
         "topology": "pcu",
         "CO2/N2_selectivity": 13.98618863,
         "heat_adsorption_CO2_P0.15bar_T298K [kcal/mol]": 4.476508,
         "CO2_working_capacity [mL/g]": 55.583254641866354,
         "_deepnote_index_column": 1571
        },
        {
         "MOFname": "mof_unit_1638",
         "volume [A^3]": 3545.931723,
         "weight [u]": 1879.676456,
         "density [g/cm^3]": 0.8802419747680629,
         "surface_area [m^2/g]": 1592.25,
         "gsa": 1889.0448390857405,
         "vsa": 1437.0993806062088,
         "smiles": "[H]",
         "MolWt": 1.008,
         "MolLogP": 0.1125,
         "NumValenceElectrons": 1,
         "HeavyAtomCount": 0,
         "NOCount": 0,
         "NumAliphaticRings": 0,
         "NumAromaticRings": 0,
         "NumHAcceptors": 0,
         "NumHDonors": 0,
         "NumHeteroatoms": 0,
         "NumRotatableBonds": 0,
         "void_fraction": 0.3495099999999999,
         "void_volume [cm^3/g]": 0.3971,
         "functional_groups": "H",
         "metal_linker": 10,
         "organic_linker1": 53,
         "organic_linker2": 55,
         "topology": "etb",
         "CO2/N2_selectivity": 15.95436883,
         "heat_adsorption_CO2_P0.15bar_T298K [kcal/mol]": 5.960901,
         "CO2_working_capacity [mL/g]": 78.77205257394746,
         "_deepnote_index_column": 1637
        },
        {
         "MOFname": "mof_unit_1662",
         "volume [A^3]": 4361.853645,
         "weight [u]": 1536.86384,
         "density [g/cm^3]": 0.5850778335488145,
         "surface_area [m^2/g]": 3805.99,
         "gsa": 10486.974121372636,
         "vsa": 3049.504231588177,
         "smiles": "[H]",
         "MolWt": 1.008,
         "MolLogP": 0.1125,
         "NumValenceElectrons": 1,
         "HeavyAtomCount": 0,
         "NOCount": 0,
         "NumAliphaticRings": 0,
         "NumAromaticRings": 0,
         "NumHAcceptors": 0,
         "NumHDonors": 0,
         "NumHeteroatoms": 0,
         "NumRotatableBonds": 0,
         "void_fraction": 0.4583899999999999,
         "void_volume [cm^3/g]": 0.7834999999999999,
         "functional_groups": "H",
         "metal_linker": 9,
         "organic_linker1": 18,
         "organic_linker2": 27,
         "topology": "sra",
         "CO2/N2_selectivity": 26.02141998,
         "heat_adsorption_CO2_P0.15bar_T298K [kcal/mol]": 6.287433,
         "CO2_working_capacity [mL/g]": 187.46868654598467,
         "_deepnote_index_column": 1661
        },
        {
         "MOFname": "mof_unit_1928",
         "volume [A^3]": 3881.814589,
         "weight [u]": 2709.40488,
         "density [g/cm^3]": 1.1590134140317645,
         "surface_area [m^2/g]": 893.84,
         "gsa": 1130.7177533080612,
         "vsa": 1210.6916757825315,
         "smiles": "[H]",
         "MolWt": 1.008,
         "MolLogP": 0.1125,
         "NumValenceElectrons": 1,
         "HeavyAtomCount": 0,
         "NOCount": 0,
         "NumAliphaticRings": 0,
         "NumAromaticRings": 0,
         "NumHAcceptors": 0,
         "NumHDonors": 0,
         "NumHeteroatoms": 0,
         "NumRotatableBonds": 0,
         "void_fraction": 0.1645399999999999,
         "void_volume [cm^3/g]": 0.1419999999999999,
         "functional_groups": "H",
         "metal_linker": 4,
         "organic_linker1": 1,
         "organic_linker2": 4,
         "topology": "acs",
         "CO2/N2_selectivity": 35.62432905,
         "heat_adsorption_CO2_P0.15bar_T298K [kcal/mol]": 6.418858,
         "CO2_working_capacity [mL/g]": 159.70858884572613,
         "_deepnote_index_column": 1927
        }
       ],
       "rows_bottom": [
        {
         "MOFname": "mof_unit_65593",
         "volume [A^3]": 14287.913336,
         "weight [u]": 3036.31536,
         "density [g/cm^3]": 0.3528802974462834,
         "surface_area [m^2/g]": 4948.67,
         "gsa": 42698.17384511166,
         "vsa": 3613.499231286006,
         "smiles": "[H]",
         "MolWt": 1.008,
         "MolLogP": 0.1125,
         "NumValenceElectrons": 1,
         "HeavyAtomCount": 0,
         "NOCount": 0,
         "NumAliphaticRings": 0,
         "NumAromaticRings": 0,
         "NumHAcceptors": 0,
         "NumHDonors": 0,
         "NumHeteroatoms": 0,
         "NumRotatableBonds": 0,
         "void_fraction": 0.69608,
         "void_volume [cm^3/g]": 1.9726,
         "functional_groups": "H",
         "metal_linker": 2,
         "organic_linker1": 1,
         "organic_linker2": 2,
         "topology": "nbo",
         "CO2/N2_selectivity": 3.978332726,
         "heat_adsorption_CO2_P0.15bar_T298K [kcal/mol]": 3.043351,
         "CO2_working_capacity [mL/g]": -3.713396948040992,
         "_deepnote_index_column": 65592
        },
        {
         "MOFname": "mof_unit_65624",
         "volume [A^3]": 4124.116787,
         "weight [u]": 763.81664,
         "density [g/cm^3]": 0.3075441722173519,
         "surface_area [m^2/g]": 5403.26,
         "gsa": 47825.117221353445,
         "vsa": 3986.677749170256,
         "smiles": "[H]",
         "MolWt": 1.008,
         "MolLogP": 0.1125,
         "NumValenceElectrons": 1,
         "HeavyAtomCount": 0,
         "NOCount": 0,
         "NumAliphaticRings": 0,
         "NumAromaticRings": 0,
         "NumHAcceptors": 0,
         "NumHDonors": 0,
         "NumHeteroatoms": 0,
         "NumRotatableBonds": 0,
         "void_fraction": 0.74921,
         "void_volume [cm^3/g]": 2.4361,
         "functional_groups": "H",
         "metal_linker": 1,
         "organic_linker1": 21,
         "organic_linker2": 21,
         "topology": "pcu",
         "CO2/N2_selectivity": 2.9935749260000004,
         "heat_adsorption_CO2_P0.15bar_T298K [kcal/mol]": 2.386726,
         "CO2_working_capacity [mL/g]": -6.651594426510957,
         "_deepnote_index_column": 65623
        },
        {
         "MOFname": "mof_unit_65630",
         "volume [A^3]": 1568.92435,
         "weight [u]": 928.2552,
         "density [g/cm^3]": 0.9824596640418002,
         "surface_area [m^2/g]": 1283.2,
         "gsa": 1629.7536729347053,
         "vsa": 1647.6664527121582,
         "smiles": "[H]",
         "MolWt": 1.008,
         "MolLogP": 0.1125,
         "NumValenceElectrons": 1,
         "HeavyAtomCount": 0,
         "NOCount": 0,
         "NumAliphaticRings": 0,
         "NumAromaticRings": 0,
         "NumHAcceptors": 0,
         "NumHDonors": 0,
         "NumHeteroatoms": 0,
         "NumRotatableBonds": 0,
         "void_fraction": 0.2100499999999999,
         "void_volume [cm^3/g]": 0.2137999999999999,
         "functional_groups": "H",
         "metal_linker": 9,
         "organic_linker1": 12,
         "organic_linker2": 24,
         "topology": "sra",
         "CO2/N2_selectivity": 12.05429344,
         "heat_adsorption_CO2_P0.15bar_T298K [kcal/mol]": 4.811261,
         "CO2_working_capacity [mL/g]": 13.55096875162206,
         "_deepnote_index_column": 65629
        },
        {
         "MOFname": "mof_unit_65659",
         "volume [A^3]": 3148.720846,
         "weight [u]": 715.5754400000001,
         "density [g/cm^3]": 0.3773728124063749,
         "surface_area [m^2/g]": 5325.01,
         "gsa": 22525.21177091113,
         "vsa": 3741.897298283805,
         "smiles": "[H]",
         "MolWt": 1.008,
         "MolLogP": 0.1125,
         "NumValenceElectrons": 1,
         "HeavyAtomCount": 0,
         "NOCount": 0,
         "NumAliphaticRings": 0,
         "NumAromaticRings": 0,
         "NumHAcceptors": 0,
         "NumHDonors": 0,
         "NumHeteroatoms": 0,
         "NumRotatableBonds": 0,
         "void_fraction": 0.64937,
         "void_volume [cm^3/g]": 1.7208,
         "functional_groups": "H",
         "metal_linker": 2,
         "organic_linker1": 8,
         "organic_linker2": 19,
         "topology": "pcu",
         "CO2/N2_selectivity": 3.977184276,
         "heat_adsorption_CO2_P0.15bar_T298K [kcal/mol]": 3.084538,
         "CO2_working_capacity [mL/g]": -5.887785238754328,
         "_deepnote_index_column": 65658
        },
        {
         "MOFname": "mof_unit_65699",
         "volume [A^3]": 11979.601761,
         "weight [u]": 3656.64736,
         "density [g/cm^3]": 0.5068623588925996,
         "surface_area [m^2/g]": 4447.56,
         "gsa": 34622.25157690839,
         "vsa": 3009.827361576465,
         "smiles": "[H]",
         "MolWt": 1.008,
         "MolLogP": 0.1125,
         "NumValenceElectrons": 1,
         "HeavyAtomCount": 0,
         "NOCount": 0,
         "NumAliphaticRings": 0,
         "NumAromaticRings": 0,
         "NumHAcceptors": 0,
         "NumHDonors": 0,
         "NumHeteroatoms": 0,
         "NumRotatableBonds": 0,
         "void_fraction": 0.5501599999999999,
         "void_volume [cm^3/g]": 1.0854,
         "functional_groups": "H",
         "metal_linker": 1,
         "organic_linker1": 22,
         "organic_linker2": 23,
         "topology": "pcu",
         "CO2/N2_selectivity": 4.654840857,
         "heat_adsorption_CO2_P0.15bar_T298K [kcal/mol]": 3.223406,
         "CO2_working_capacity [mL/g]": -1.8080834306242783,
         "_deepnote_index_column": 65698
        },
        {
         "MOFname": "mof_unit_65803",
         "volume [A^3]": 5040.922668,
         "weight [u]": 1427.02844,
         "density [g/cm^3]": 0.470080174171321,
         "surface_area [m^2/g]": 3980.71,
         "gsa": 24573.166762573037,
         "vsa": 3087.7200456896862,
         "smiles": "[H]",
         "MolWt": 1.008,
         "MolLogP": 0.1125,
         "NumValenceElectrons": 1,
         "HeavyAtomCount": 0,
         "NOCount": 0,
         "NumAliphaticRings": 0,
         "NumAromaticRings": 0,
         "NumHAcceptors": 0,
         "NumHDonors": 0,
         "NumHeteroatoms": 0,
         "NumRotatableBonds": 0,
         "void_fraction": 0.62726,
         "void_volume [cm^3/g]": 1.3344,
         "functional_groups": "H",
         "metal_linker": 3,
         "organic_linker1": 1,
         "organic_linker2": 14,
         "topology": "nbo",
         "CO2/N2_selectivity": 4.158817557,
         "heat_adsorption_CO2_P0.15bar_T298K [kcal/mol]": 3.06747,
         "CO2_working_capacity [mL/g]": -1.7801854940064112,
         "_deepnote_index_column": 65802
        },
        {
         "MOFname": "mof_unit_65850",
         "volume [A^3]": 11204.306066,
         "weight [u]": 3063.33008,
         "density [g/cm^3]": 0.4540024255923607,
         "surface_area [m^2/g]": 4263.15,
         "gsa": 18130.07963831386,
         "vsa": 3706.776613524698,
         "smiles": "[H]",
         "MolWt": 1.008,
         "MolLogP": 0.1125,
         "NumValenceElectrons": 1,
         "HeavyAtomCount": 0,
         "NOCount": 0,
         "NumAliphaticRings": 0,
         "NumAromaticRings": 0,
         "NumHAcceptors": 0,
         "NumHDonors": 0,
         "NumHeteroatoms": 0,
         "NumRotatableBonds": 0,
         "void_fraction": 0.65806,
         "void_volume [cm^3/g]": 1.4495,
         "functional_groups": "H",
         "metal_linker": 1,
         "organic_linker1": 1,
         "organic_linker2": 20,
         "topology": "pcu",
         "CO2/N2_selectivity": 3.621517223,
         "heat_adsorption_CO2_P0.15bar_T298K [kcal/mol]": 3.192035,
         "CO2_working_capacity [mL/g]": -1.2351027323957522,
         "_deepnote_index_column": 65849
        },
        {
         "MOFname": "mof_unit_65887",
         "volume [A^3]": 2033.225686,
         "weight [u]": 553.38364,
         "density [g/cm^3]": 0.4519496659386586,
         "surface_area [m^2/g]": 4796.37,
         "gsa": 43177.718432449525,
         "vsa": 2604.24893196115,
         "smiles": "[H]",
         "MolWt": 1.008,
         "MolLogP": 0.1125,
         "NumValenceElectrons": 1,
         "HeavyAtomCount": 0,
         "NOCount": 0,
         "NumAliphaticRings": 0,
         "NumAromaticRings": 0,
         "NumHAcceptors": 0,
         "NumHDonors": 0,
         "NumHeteroatoms": 0,
         "NumRotatableBonds": 0,
         "void_fraction": 0.60896,
         "void_volume [cm^3/g]": 1.3474,
         "functional_groups": "H",
         "metal_linker": 2,
         "organic_linker1": 20,
         "organic_linker2": 24,
         "topology": "pcu",
         "CO2/N2_selectivity": 3.415481494,
         "heat_adsorption_CO2_P0.15bar_T298K [kcal/mol]": 2.80674,
         "CO2_working_capacity [mL/g]": -4.520456191382749,
         "_deepnote_index_column": 65886
        },
        {
         "MOFname": "mof_unit_65910",
         "volume [A^3]": 11961.148801,
         "weight [u]": 3632.4568,
         "density [g/cm^3]": 0.5042859941820734,
         "surface_area [m^2/g]": 4388.42,
         "gsa": 23126.89043957412,
         "vsa": 3789.5540422376143,
         "smiles": "[H]",
         "MolWt": 1.008,
         "MolLogP": 0.1125,
         "NumValenceElectrons": 1,
         "HeavyAtomCount": 0,
         "NOCount": 0,
         "NumAliphaticRings": 0,
         "NumAromaticRings": 0,
         "NumHAcceptors": 0,
         "NumHDonors": 0,
         "NumHeteroatoms": 0,
         "NumRotatableBonds": 0,
         "void_fraction": 0.5645999999999999,
         "void_volume [cm^3/g]": 1.1196,
         "functional_groups": "H",
         "metal_linker": 1,
         "organic_linker1": 22,
         "organic_linker2": 25,
         "topology": "pcu",
         "CO2/N2_selectivity": 3.519736785,
         "heat_adsorption_CO2_P0.15bar_T298K [kcal/mol]": 3.545456,
         "CO2_working_capacity [mL/g]": 3.172606176679267,
         "_deepnote_index_column": 65909
        },
        {
         "MOFname": "mof_unit_65936",
         "volume [A^3]": 14238.230745,
         "weight [u]": 3058.3233600000003,
         "density [g/cm^3]": 0.3566783235338275,
         "surface_area [m^2/g]": 5054.17,
         "gsa": 32398.242990590872,
         "vsa": 3644.105486482371,
         "smiles": "[H]",
         "MolWt": 1.008,
         "MolLogP": 0.1125,
         "NumValenceElectrons": 1,
         "HeavyAtomCount": 0,
         "NOCount": 0,
         "NumAliphaticRings": 0,
         "NumAromaticRings": 0,
         "NumHAcceptors": 0,
         "NumHDonors": 0,
         "NumHeteroatoms": 0,
         "NumRotatableBonds": 0,
         "void_fraction": 0.6976,
         "void_volume [cm^3/g]": 1.9558,
         "functional_groups": "H",
         "metal_linker": 3,
         "organic_linker1": 11,
         "organic_linker2": 17,
         "topology": "nbo",
         "CO2/N2_selectivity": 3.974232215,
         "heat_adsorption_CO2_P0.15bar_T298K [kcal/mol]": 2.865482,
         "CO2_working_capacity [mL/g]": -7.211534077444739,
         "_deepnote_index_column": 65935
        },
        {
         "MOFname": "mof_unit_66012",
         "volume [A^3]": 8687.537141,
         "weight [u]": 3143.62696,
         "density [g/cm^3]": 0.6008743591463398,
         "surface_area [m^2/g]": 3622.18,
         "gsa": 17617.65308259439,
         "vsa": 4112.369680836413,
         "smiles": "[H]",
         "MolWt": 1.008,
         "MolLogP": 0.1125,
         "NumValenceElectrons": 1,
         "HeavyAtomCount": 0,
         "NOCount": 0,
         "NumAliphaticRings": 0,
         "NumAromaticRings": 0,
         "NumHAcceptors": 0,
         "NumHDonors": 0,
         "NumHeteroatoms": 0,
         "NumRotatableBonds": 0,
         "void_fraction": 0.5441399999999998,
         "void_volume [cm^3/g]": 0.9056,
         "functional_groups": "H",
         "metal_linker": 1,
         "organic_linker1": 1,
         "organic_linker2": 22,
         "topology": "pcu",
         "CO2/N2_selectivity": 4.715052861,
         "heat_adsorption_CO2_P0.15bar_T298K [kcal/mol]": 3.5914940000000004,
         "CO2_working_capacity [mL/g]": 0.8752358576800808,
         "_deepnote_index_column": 66011
        },
        {
         "MOFname": "mof_unit_66106",
         "volume [A^3]": 25492.72149,
         "weight [u]": 4697.14384,
         "density [g/cm^3]": 0.3059616540012496,
         "surface_area [m^2/g]": 5194.68,
         "gsa": 76388.0430872179,
         "vsa": 3530.9676332088347,
         "smiles": "[H]",
         "MolWt": 1.008,
         "MolLogP": 0.1125,
         "NumValenceElectrons": 1,
         "HeavyAtomCount": 0,
         "NOCount": 0,
         "NumAliphaticRings": 0,
         "NumAromaticRings": 0,
         "NumHAcceptors": 0,
         "NumHDonors": 0,
         "NumHeteroatoms": 0,
         "NumRotatableBonds": 0,
         "void_fraction": 0.7330999999999999,
         "void_volume [cm^3/g]": 2.396,
         "functional_groups": "H",
         "metal_linker": 1,
         "organic_linker1": 17,
         "organic_linker2": 27,
         "topology": "pcu",
         "CO2/N2_selectivity": 3.663297078,
         "heat_adsorption_CO2_P0.15bar_T298K [kcal/mol]": 3.109462,
         "CO2_working_capacity [mL/g]": -6.106676741448364,
         "_deepnote_index_column": 66105
        },
        {
         "MOFname": "mof_unit_66160",
         "volume [A^3]": 23903.512323,
         "weight [u]": 3720.14056,
         "density [g/cm^3]": 0.2584324061681284,
         "surface_area [m^2/g]": 6078.12,
         "gsa": 87787.93434465343,
         "vsa": 2944.4354254816176,
         "smiles": "[H]",
         "MolWt": 1.008,
         "MolLogP": 0.1125,
         "NumValenceElectrons": 1,
         "HeavyAtomCount": 0,
         "NOCount": 0,
         "NumAliphaticRings": 0,
         "NumAromaticRings": 0,
         "NumHAcceptors": 0,
         "NumHDonors": 0,
         "NumHeteroatoms": 0,
         "NumRotatableBonds": 0,
         "void_fraction": 0.7688599999999999,
         "void_volume [cm^3/g]": 2.9751,
         "functional_groups": "H",
         "metal_linker": 1,
         "organic_linker1": 6,
         "organic_linker2": 23,
         "topology": "pcu",
         "CO2/N2_selectivity": 3.24764164,
         "heat_adsorption_CO2_P0.15bar_T298K [kcal/mol]": 2.282497,
         "CO2_working_capacity [mL/g]": -13.429472412268506,
         "_deepnote_index_column": 66159
        },
        {
         "MOFname": "mof_unit_66197",
         "volume [A^3]": 16722.133300999998,
         "weight [u]": 3154.40896,
         "density [g/cm^3]": 0.3132388768916919,
         "surface_area [m^2/g]": 5480.76,
         "gsa": 59563.18657931446,
         "vsa": 3178.028562723081,
         "smiles": "[H]",
         "MolWt": 1.008,
         "MolLogP": 0.1125,
         "NumValenceElectrons": 1,
         "HeavyAtomCount": 0,
         "NOCount": 0,
         "NumAliphaticRings": 0,
         "NumAromaticRings": 0,
         "NumHAcceptors": 0,
         "NumHDonors": 0,
         "NumHeteroatoms": 0,
         "NumRotatableBonds": 0,
         "void_fraction": 0.7285099999999999,
         "void_volume [cm^3/g]": 2.3257,
         "functional_groups": "H",
         "metal_linker": 3,
         "organic_linker1": 2,
         "organic_linker2": 5,
         "topology": "nbo",
         "CO2/N2_selectivity": 4.123984354,
         "heat_adsorption_CO2_P0.15bar_T298K [kcal/mol]": 3.1328970000000003,
         "CO2_working_capacity [mL/g]": -5.675992027625783,
         "_deepnote_index_column": 66196
        },
        {
         "MOFname": "mof_unit_66334",
         "volume [A^3]": 3038.164911,
         "weight [u]": 986.20824,
         "density [g/cm^3]": 0.5390221659529923,
         "surface_area [m^2/g]": 4383.39,
         "gsa": 16072.527166280684,
         "vsa": 4297.785749240882,
         "smiles": "[H]",
         "MolWt": 1.008,
         "MolLogP": 0.1125,
         "NumValenceElectrons": 1,
         "HeavyAtomCount": 0,
         "NOCount": 0,
         "NumAliphaticRings": 0,
         "NumAromaticRings": 0,
         "NumHAcceptors": 0,
         "NumHDonors": 0,
         "NumHeteroatoms": 0,
         "NumRotatableBonds": 0,
         "void_fraction": 0.5363299999999999,
         "void_volume [cm^3/g]": 0.995,
         "functional_groups": "H",
         "metal_linker": 9,
         "organic_linker1": 20,
         "organic_linker2": 25,
         "topology": "sra",
         "CO2/N2_selectivity": 5.179174564,
         "heat_adsorption_CO2_P0.15bar_T298K [kcal/mol]": 3.431512,
         "CO2_working_capacity [mL/g]": -0.1210011097094491,
         "_deepnote_index_column": 66333
        },
        {
         "MOFname": "mof_unit_66390",
         "volume [A^3]": 4980.364066,
         "weight [u]": 1552.42764,
         "density [g/cm^3]": 0.5176063755909366,
         "surface_area [m^2/g]": 3468.47,
         "gsa": 13267.258993782556,
         "vsa": 3577.2871288516017,
         "smiles": "[H]",
         "MolWt": 1.008,
         "MolLogP": 0.1125,
         "NumValenceElectrons": 1,
         "HeavyAtomCount": 0,
         "NOCount": 0,
         "NumAliphaticRings": 0,
         "NumAromaticRings": 0,
         "NumHAcceptors": 0,
         "NumHDonors": 0,
         "NumHeteroatoms": 0,
         "NumRotatableBonds": 0,
         "void_fraction": 0.55357,
         "void_volume [cm^3/g]": 1.0695,
         "functional_groups": "H",
         "metal_linker": 2,
         "organic_linker1": 22,
         "organic_linker2": 24,
         "topology": "nbo",
         "CO2/N2_selectivity": 3.63116022,
         "heat_adsorption_CO2_P0.15bar_T298K [kcal/mol]": 3.04943,
         "CO2_working_capacity [mL/g]": -1.4087632609282932,
         "_deepnote_index_column": 66389
        },
        {
         "MOFname": "mof_unit_66414",
         "volume [A^3]": 9161.016257,
         "weight [u]": 1702.81192,
         "density [g/cm^3]": 0.3086543268031229,
         "surface_area [m^2/g]": 5432.27,
         "gsa": 57026.462706978185,
         "vsa": 3929.3812989296566,
         "smiles": "[H]",
         "MolWt": 1.008,
         "MolLogP": 0.1125,
         "NumValenceElectrons": 1,
         "HeavyAtomCount": 0,
         "NOCount": 0,
         "NumAliphaticRings": 0,
         "NumAromaticRings": 0,
         "NumHAcceptors": 0,
         "NumHDonors": 0,
         "NumHeteroatoms": 0,
         "NumRotatableBonds": 0,
         "void_fraction": 0.7008999999999999,
         "void_volume [cm^3/g]": 2.2708,
         "functional_groups": "H",
         "metal_linker": 3,
         "organic_linker1": 8,
         "organic_linker2": 8,
         "topology": "pcu",
         "CO2/N2_selectivity": 3.756841691,
         "heat_adsorption_CO2_P0.15bar_T298K [kcal/mol]": 3.0815080000000004,
         "CO2_working_capacity [mL/g]": -5.971809201703999,
         "_deepnote_index_column": 66413
        }
       ]
      },
      "text/plain": "              MOFname  volume [A^3]  weight [u]  density [g/cm^3]  \\\n132      mof_unit_133   2879.399691  1051.91172          0.606634   \n290      mof_unit_291   2044.232116   987.95388          0.802520   \n461      mof_unit_462   4361.881659  1536.86384          0.585074   \n544      mof_unit_545   3889.091818  2517.23368          1.074793   \n845      mof_unit_846   3915.123327  2020.59120          0.857003   \n...               ...           ...         ...               ...   \n66159  mof_unit_66160  23903.512323  3720.14056          0.258432   \n66196  mof_unit_66197  16722.133301  3154.40896          0.313239   \n66333  mof_unit_66334   3038.164911   986.20824          0.539022   \n66389  mof_unit_66390   4980.364066  1552.42764          0.517606   \n66413  mof_unit_66414   9161.016257  1702.81192          0.308654   \n\n       surface_area [m^2/g]           gsa          vsa smiles  MolWt  MolLogP  \\\n132                 3781.03  16953.539411  3202.028632    [H]  1.008   0.1125   \n290                 2295.55   3139.502280  2174.009434    [H]  1.008   0.1125   \n461                 3797.52  11136.446282  2975.027385    [H]  1.008   0.1125   \n544                  966.09   2268.912592  2310.126482    [H]  1.008   0.1125   \n845                 2303.80   2911.660229  2057.217937    [H]  1.008   0.1125   \n...                     ...           ...          ...    ...    ...      ...   \n66159               6078.12  87787.934345  2944.435425    [H]  1.008   0.1125   \n66196               5480.76  59563.186579  3178.028563    [H]  1.008   0.1125   \n66333               4383.39  16072.527166  4297.785749    [H]  1.008   0.1125   \n66389               3468.47  13267.258994  3577.287129    [H]  1.008   0.1125   \n66413               5432.27  57026.462707  3929.381299    [H]  1.008   0.1125   \n\n       ...  void_fraction  void_volume [cm^3/g]  functional_groups  \\\n132    ...        0.44697                0.7368                  H   \n290    ...        0.30162                0.3758                  H   \n461    ...        0.45851                0.7837                  H   \n544    ...        0.17732                0.1650                  H   \n845    ...        0.36882                0.4304                  H   \n...    ...            ...                   ...                ...   \n66159  ...        0.76886                2.9751                  H   \n66196  ...        0.72851                2.3257                  H   \n66333  ...        0.53633                0.9950                  H   \n66389  ...        0.55357                1.0695                  H   \n66413  ...        0.70090                2.2708                  H   \n\n       metal_linker  organic_linker1  organic_linker2  topology  \\\n132               2                4               29       pcu   \n290               2                9               18       pcu   \n461               9               18               27       sra   \n544               4               11               14       acs   \n845               2               41               41       fof   \n...             ...              ...              ...       ...   \n66159             1                6               23       pcu   \n66196             3                2                5       nbo   \n66333             9               20               25       sra   \n66389             2               22               24       nbo   \n66413             3                8                8       pcu   \n\n       CO2/N2_selectivity  heat_adsorption_CO2_P0.15bar_T298K [kcal/mol]  \\\n132              8.721837                                       4.484787   \n290             19.283622                                       5.808452   \n461             25.312399                                       5.845265   \n544             25.420338                                       5.802776   \n845             24.463281                                       6.055741   \n...                   ...                                            ...   \n66159            3.247642                                       2.282497   \n66196            4.123984                                       3.132897   \n66333            5.179175                                       3.431512   \n66389            3.631160                                       3.049430   \n66413            3.756842                                       3.081508   \n\n       CO2_working_capacity [mL/g]  \n132                      46.937370  \n290                     179.050773  \n461                     146.852097  \n544                      91.865759  \n845                     248.006219  \n...                            ...  \n66159                   -13.429472  \n66196                    -5.675992  \n66333                    -0.121001  \n66389                    -1.408763  \n66413                    -5.971809  \n\n[888 rows x 29 columns]",
      "text/html": "<div>\n<style scoped>\n    .dataframe tbody tr th:only-of-type {\n        vertical-align: middle;\n    }\n\n    .dataframe tbody tr th {\n        vertical-align: top;\n    }\n\n    .dataframe thead th {\n        text-align: right;\n    }\n</style>\n<table border=\"1\" class=\"dataframe\">\n  <thead>\n    <tr style=\"text-align: right;\">\n      <th></th>\n      <th>MOFname</th>\n      <th>volume [A^3]</th>\n      <th>weight [u]</th>\n      <th>density [g/cm^3]</th>\n      <th>surface_area [m^2/g]</th>\n      <th>gsa</th>\n      <th>vsa</th>\n      <th>smiles</th>\n      <th>MolWt</th>\n      <th>MolLogP</th>\n      <th>...</th>\n      <th>void_fraction</th>\n      <th>void_volume [cm^3/g]</th>\n      <th>functional_groups</th>\n      <th>metal_linker</th>\n      <th>organic_linker1</th>\n      <th>organic_linker2</th>\n      <th>topology</th>\n      <th>CO2/N2_selectivity</th>\n      <th>heat_adsorption_CO2_P0.15bar_T298K [kcal/mol]</th>\n      <th>CO2_working_capacity [mL/g]</th>\n    </tr>\n  </thead>\n  <tbody>\n    <tr>\n      <th>132</th>\n      <td>mof_unit_133</td>\n      <td>2879.399691</td>\n      <td>1051.91172</td>\n      <td>0.606634</td>\n      <td>3781.03</td>\n      <td>16953.539411</td>\n      <td>3202.028632</td>\n      <td>[H]</td>\n      <td>1.008</td>\n      <td>0.1125</td>\n      <td>...</td>\n      <td>0.44697</td>\n      <td>0.7368</td>\n      <td>H</td>\n      <td>2</td>\n      <td>4</td>\n      <td>29</td>\n      <td>pcu</td>\n      <td>8.721837</td>\n      <td>4.484787</td>\n      <td>46.937370</td>\n    </tr>\n    <tr>\n      <th>290</th>\n      <td>mof_unit_291</td>\n      <td>2044.232116</td>\n      <td>987.95388</td>\n      <td>0.802520</td>\n      <td>2295.55</td>\n      <td>3139.502280</td>\n      <td>2174.009434</td>\n      <td>[H]</td>\n      <td>1.008</td>\n      <td>0.1125</td>\n      <td>...</td>\n      <td>0.30162</td>\n      <td>0.3758</td>\n      <td>H</td>\n      <td>2</td>\n      <td>9</td>\n      <td>18</td>\n      <td>pcu</td>\n      <td>19.283622</td>\n      <td>5.808452</td>\n      <td>179.050773</td>\n    </tr>\n    <tr>\n      <th>461</th>\n      <td>mof_unit_462</td>\n      <td>4361.881659</td>\n      <td>1536.86384</td>\n      <td>0.585074</td>\n      <td>3797.52</td>\n      <td>11136.446282</td>\n      <td>2975.027385</td>\n      <td>[H]</td>\n      <td>1.008</td>\n      <td>0.1125</td>\n      <td>...</td>\n      <td>0.45851</td>\n      <td>0.7837</td>\n      <td>H</td>\n      <td>9</td>\n      <td>18</td>\n      <td>27</td>\n      <td>sra</td>\n      <td>25.312399</td>\n      <td>5.845265</td>\n      <td>146.852097</td>\n    </tr>\n    <tr>\n      <th>544</th>\n      <td>mof_unit_545</td>\n      <td>3889.091818</td>\n      <td>2517.23368</td>\n      <td>1.074793</td>\n      <td>966.09</td>\n      <td>2268.912592</td>\n      <td>2310.126482</td>\n      <td>[H]</td>\n      <td>1.008</td>\n      <td>0.1125</td>\n      <td>...</td>\n      <td>0.17732</td>\n      <td>0.1650</td>\n      <td>H</td>\n      <td>4</td>\n      <td>11</td>\n      <td>14</td>\n      <td>acs</td>\n      <td>25.420338</td>\n      <td>5.802776</td>\n      <td>91.865759</td>\n    </tr>\n    <tr>\n      <th>845</th>\n      <td>mof_unit_846</td>\n      <td>3915.123327</td>\n      <td>2020.59120</td>\n      <td>0.857003</td>\n      <td>2303.80</td>\n      <td>2911.660229</td>\n      <td>2057.217937</td>\n      <td>[H]</td>\n      <td>1.008</td>\n      <td>0.1125</td>\n      <td>...</td>\n      <td>0.36882</td>\n      <td>0.4304</td>\n      <td>H</td>\n      <td>2</td>\n      <td>41</td>\n      <td>41</td>\n      <td>fof</td>\n      <td>24.463281</td>\n      <td>6.055741</td>\n      <td>248.006219</td>\n    </tr>\n    <tr>\n      <th>...</th>\n      <td>...</td>\n      <td>...</td>\n      <td>...</td>\n      <td>...</td>\n      <td>...</td>\n      <td>...</td>\n      <td>...</td>\n      <td>...</td>\n      <td>...</td>\n      <td>...</td>\n      <td>...</td>\n      <td>...</td>\n      <td>...</td>\n      <td>...</td>\n      <td>...</td>\n      <td>...</td>\n      <td>...</td>\n      <td>...</td>\n      <td>...</td>\n      <td>...</td>\n      <td>...</td>\n    </tr>\n    <tr>\n      <th>66159</th>\n      <td>mof_unit_66160</td>\n      <td>23903.512323</td>\n      <td>3720.14056</td>\n      <td>0.258432</td>\n      <td>6078.12</td>\n      <td>87787.934345</td>\n      <td>2944.435425</td>\n      <td>[H]</td>\n      <td>1.008</td>\n      <td>0.1125</td>\n      <td>...</td>\n      <td>0.76886</td>\n      <td>2.9751</td>\n      <td>H</td>\n      <td>1</td>\n      <td>6</td>\n      <td>23</td>\n      <td>pcu</td>\n      <td>3.247642</td>\n      <td>2.282497</td>\n      <td>-13.429472</td>\n    </tr>\n    <tr>\n      <th>66196</th>\n      <td>mof_unit_66197</td>\n      <td>16722.133301</td>\n      <td>3154.40896</td>\n      <td>0.313239</td>\n      <td>5480.76</td>\n      <td>59563.186579</td>\n      <td>3178.028563</td>\n      <td>[H]</td>\n      <td>1.008</td>\n      <td>0.1125</td>\n      <td>...</td>\n      <td>0.72851</td>\n      <td>2.3257</td>\n      <td>H</td>\n      <td>3</td>\n      <td>2</td>\n      <td>5</td>\n      <td>nbo</td>\n      <td>4.123984</td>\n      <td>3.132897</td>\n      <td>-5.675992</td>\n    </tr>\n    <tr>\n      <th>66333</th>\n      <td>mof_unit_66334</td>\n      <td>3038.164911</td>\n      <td>986.20824</td>\n      <td>0.539022</td>\n      <td>4383.39</td>\n      <td>16072.527166</td>\n      <td>4297.785749</td>\n      <td>[H]</td>\n      <td>1.008</td>\n      <td>0.1125</td>\n      <td>...</td>\n      <td>0.53633</td>\n      <td>0.9950</td>\n      <td>H</td>\n      <td>9</td>\n      <td>20</td>\n      <td>25</td>\n      <td>sra</td>\n      <td>5.179175</td>\n      <td>3.431512</td>\n      <td>-0.121001</td>\n    </tr>\n    <tr>\n      <th>66389</th>\n      <td>mof_unit_66390</td>\n      <td>4980.364066</td>\n      <td>1552.42764</td>\n      <td>0.517606</td>\n      <td>3468.47</td>\n      <td>13267.258994</td>\n      <td>3577.287129</td>\n      <td>[H]</td>\n      <td>1.008</td>\n      <td>0.1125</td>\n      <td>...</td>\n      <td>0.55357</td>\n      <td>1.0695</td>\n      <td>H</td>\n      <td>2</td>\n      <td>22</td>\n      <td>24</td>\n      <td>nbo</td>\n      <td>3.631160</td>\n      <td>3.049430</td>\n      <td>-1.408763</td>\n    </tr>\n    <tr>\n      <th>66413</th>\n      <td>mof_unit_66414</td>\n      <td>9161.016257</td>\n      <td>1702.81192</td>\n      <td>0.308654</td>\n      <td>5432.27</td>\n      <td>57026.462707</td>\n      <td>3929.381299</td>\n      <td>[H]</td>\n      <td>1.008</td>\n      <td>0.1125</td>\n      <td>...</td>\n      <td>0.70090</td>\n      <td>2.2708</td>\n      <td>H</td>\n      <td>3</td>\n      <td>8</td>\n      <td>8</td>\n      <td>pcu</td>\n      <td>3.756842</td>\n      <td>3.081508</td>\n      <td>-5.971809</td>\n    </tr>\n  </tbody>\n</table>\n<p>888 rows × 29 columns</p>\n</div>"
     },
     "metadata": {}
    }
   ],
   "execution_count": null
  },
  {
   "cell_type": "markdown",
   "source": "## Get feature set2 from smiles",
   "metadata": {
    "tags": [],
    "is_collapsed": false,
    "cell_id": "00017-135f0338-7689-4eff-ba70-218639ee2a9d",
    "deepnote_cell_type": "text-cell-h2"
   }
  },
  {
   "cell_type": "code",
   "metadata": {
    "tags": [],
    "cell_id": "00020-dc138749-8624-416d-998c-fc647cc76f04",
    "deepnote_to_be_reexecuted": false,
    "source_hash": "adc33177",
    "execution_start": 1634035091679,
    "execution_millis": 19,
    "deepnote_cell_type": "code"
   },
   "source": "props_df = pd.read_csv('props_df.csv')",
   "outputs": [],
   "execution_count": null
  },
  {
   "cell_type": "code",
   "metadata": {
    "tags": [],
    "cell_id": "00018-f49a150e-16ea-4003-bc25-5567259cbe18",
    "deepnote_to_be_reexecuted": false,
    "source_hash": "a65d3f28",
    "execution_start": 1634034029740,
    "execution_millis": 3,
    "deepnote_cell_type": "code"
   },
   "source": "data = []\ncolumns = ['MolecularFormula', 'MolecularWeight','InChI', 'InChIKey', 'IUPACName', \n                                'XLogP', 'ExactMass', 'MonoisotopicMass', 'TPSA', 'Complexity', 'Charge', \n                                'HBondDonorCount', 'HBondAcceptorCount', 'RotatableBondCount', \n                                'HeavyAtomCount', 'IsotopeAtomCount', 'AtomStereoCount', \n                                'DefinedAtomStereoCount', 'UndefinedAtomStereoCount', 'BondStereoCount', \n                                'DefinedBondStereoCount', 'UndefinedBondStereoCount', 'CovalentUnitCount', \n                                'Volume3D', 'XStericQuadrupole3D', 'YStericQuadrupole3D', \n                                'ZStericQuadrupole3D', 'FeatureCount3D', 'FeatureAcceptorCount3D', \n                                'FeatureDonorCount3D', 'FeatureAnionCount3D', 'FeatureCationCount3D', \n                                'FeatureRingCount3D', 'FeatureHydrophobeCount3D', 'ConformerModelRMSD3D', \n                                'EffectiveRotorCount3D', 'ConformerCount3D']\nfor i,v in enumerate(smiles_list):\n    props = pcp.get_properties(['MolecularFormula', 'MolecularWeight','InChI', 'InChIKey', 'IUPACName', \n                                'XLogP', 'ExactMass', 'MonoisotopicMass', 'TPSA', 'Complexity', 'Charge', \n                                'HBondDonorCount', 'HBondAcceptorCount', 'RotatableBondCount', \n                                'HeavyAtomCount', 'IsotopeAtomCount', 'AtomStereoCount', \n                                'DefinedAtomStereoCount', 'UndefinedAtomStereoCount', 'BondStereoCount', \n                                'DefinedBondStereoCount', 'UndefinedBondStereoCount', 'CovalentUnitCount', \n                                'Volume3D', 'XStericQuadrupole3D', 'YStericQuadrupole3D', \n                                'ZStericQuadrupole3D', 'FeatureCount3D', 'FeatureAcceptorCount3D', \n                                'FeatureDonorCount3D', 'FeatureAnionCount3D', 'FeatureCationCount3D', \n                                'FeatureRingCount3D', 'FeatureHydrophobeCount3D', 'ConformerModelRMSD3D', \n                                'EffectiveRotorCount3D', 'ConformerCount3D'], v, 'smiles')\n    print(i)\n    data.append(props)",
   "outputs": [],
   "execution_count": null
  },
  {
   "cell_type": "code",
   "metadata": {
    "tags": [],
    "cell_id": "00019-543ce6a7-80fe-4638-ab4e-e0007db088fb",
    "deepnote_to_be_reexecuted": false,
    "source_hash": "a56fea18",
    "execution_start": 1633279724858,
    "execution_millis": 13,
    "deepnote_cell_type": "code"
   },
   "source": "rows = []\ncolumns = data[0][0].keys()\nfor i in range(len(smiles_list)):\n    rows.append(data[i][0].values())\nprops_df = pd.DataFrame(data=rows, columns=columns) \nprops_df.head()",
   "execution_count": null,
   "outputs": []
  },
  {
   "cell_type": "code",
   "metadata": {
    "tags": [],
    "cell_id": "00022-caf95e3a-8213-46a2-9565-d46eeb4ef3d4",
    "deepnote_to_be_reexecuted": false,
    "source_hash": "ffeff774",
    "execution_start": 1633279728843,
    "execution_millis": 4,
    "deepnote_cell_type": "code"
   },
   "source": "props_df.insert(0, 'smiles', smiles_list)\nprops_df.head()",
   "execution_count": null,
   "outputs": []
  },
  {
   "cell_type": "code",
   "metadata": {
    "tags": [],
    "cell_id": "00024-e689566f-a286-4ead-a1a6-0f5b40f1249c",
    "deepnote_to_be_reexecuted": false,
    "source_hash": "25d7e37b",
    "execution_start": 1633268404649,
    "execution_millis": 159,
    "deepnote_cell_type": "code"
   },
   "source": "#props_df.to_csv('props_df.csv')",
   "execution_count": null,
   "outputs": []
  },
  {
   "cell_type": "code",
   "metadata": {
    "tags": [],
    "cell_id": "00026-a3177fff-4d02-4d9a-b4cc-984aa6bf3db7",
    "deepnote_to_be_reexecuted": false,
    "source_hash": "5f2fdafa",
    "execution_start": 1634035094937,
    "execution_millis": 0,
    "deepnote_cell_type": "code"
   },
   "source": "train_copy = train.copy()",
   "outputs": [],
   "execution_count": null
  },
  {
   "cell_type": "code",
   "source": "props_df = props_df.drop(columns = ['HeavyAtomCount','Volume3D', 'XStericQuadrupole3D', 'YStericQuadrupole3D', \n                                'ZStericQuadrupole3D', 'FeatureCount3D', 'FeatureAcceptorCount3D', \n                                'FeatureDonorCount3D', 'FeatureAnionCount3D', 'FeatureCationCount3D', \n                                'FeatureRingCount3D', 'FeatureHydrophobeCount3D', 'ConformerModelRMSD3D', \n                                'EffectiveRotorCount3D', 'ConformerCount3D'])",
   "metadata": {
    "tags": [],
    "cell_id": "00031-87f98eb6-31be-4c7c-b701-468b6b598db4",
    "deepnote_to_be_reexecuted": false,
    "source_hash": "921ed30a",
    "execution_start": 1634035097639,
    "execution_millis": 4,
    "deepnote_cell_type": "code"
   },
   "outputs": [],
   "execution_count": null
  },
  {
   "cell_type": "code",
   "metadata": {
    "tags": [],
    "cell_id": "00027-6487773b-c552-46d3-8ea3-8380542f5c29",
    "deepnote_to_be_reexecuted": false,
    "source_hash": "1c599d10",
    "execution_start": 1634035099433,
    "execution_millis": 9,
    "deepnote_cell_type": "code"
   },
   "source": "cols = list(props_df.columns)\ntrain_copy[cols[2:]] = np.nan\n",
   "outputs": [],
   "execution_count": null
  },
  {
   "cell_type": "code",
   "metadata": {
    "tags": [],
    "cell_id": "00028-7dc0b089-a00f-44a6-aa34-ed6f297636c8",
    "deepnote_to_be_reexecuted": false,
    "source_hash": "40dff109",
    "execution_start": 1634035107297,
    "execution_millis": 37,
    "deepnote_cell_type": "code"
   },
   "source": "props_df = props_df.drop(columns = 'Unnamed: 0')\nprops_df.head()",
   "outputs": [
    {
     "output_type": "execute_result",
     "execution_count": 65,
     "data": {
      "application/vnd.deepnote.dataframe.v2+json": {
       "row_count": 5,
       "column_count": 24,
       "columns": [
        {
         "name": "smiles",
         "dtype": "object",
         "stats": {
          "unique_count": 5,
          "nan_count": 0,
          "categories": [
           {
            "name": "OC(=O)OCC",
            "count": 1
           },
           {
            "name": "FOC",
            "count": 1
           },
           {
            "name": "3 others",
            "count": 3
           }
          ]
         }
        },
        {
         "name": "CID",
         "dtype": "int64",
         "stats": {
          "unique_count": 5,
          "nan_count": 0,
          "min": "11647",
          "max": "142072",
          "histogram": [
           {
            "bin_start": 11647,
            "bin_end": 24689.5,
            "count": 1
           },
           {
            "bin_start": 24689.5,
            "bin_end": 37732,
            "count": 0
           },
           {
            "bin_start": 37732,
            "bin_end": 50774.5,
            "count": 0
           },
           {
            "bin_start": 50774.5,
            "bin_end": 63817,
            "count": 0
           },
           {
            "bin_start": 63817,
            "bin_end": 76859.5,
            "count": 0
           },
           {
            "bin_start": 76859.5,
            "bin_end": 89902,
            "count": 1
           },
           {
            "bin_start": 89902,
            "bin_end": 102944.5,
            "count": 0
           },
           {
            "bin_start": 102944.5,
            "bin_end": 115987,
            "count": 2
           },
           {
            "bin_start": 115987,
            "bin_end": 129029.5,
            "count": 0
           },
           {
            "bin_start": 129029.5,
            "bin_end": 142072,
            "count": 1
           }
          ]
         }
        },
        {
         "name": "MolecularFormula",
         "dtype": "object",
         "stats": {
          "unique_count": 5,
          "nan_count": 0,
          "categories": [
           {
            "name": "C3H6O3",
            "count": 1
           },
           {
            "name": "CH3FO",
            "count": 1
           },
           {
            "name": "3 others",
            "count": 3
           }
          ]
         }
        },
        {
         "name": "MolecularWeight",
         "dtype": "float64",
         "stats": {
          "unique_count": 5,
          "nan_count": 0,
          "min": "47.057",
          "max": "90.08",
          "histogram": [
           {
            "bin_start": 47.057,
            "bin_end": 51.359300000000005,
            "count": 2
           },
           {
            "bin_start": 51.359300000000005,
            "bin_end": 55.6616,
            "count": 0
           },
           {
            "bin_start": 55.6616,
            "bin_end": 59.9639,
            "count": 0
           },
           {
            "bin_start": 59.9639,
            "bin_end": 64.2662,
            "count": 0
           },
           {
            "bin_start": 64.2662,
            "bin_end": 68.5685,
            "count": 0
           },
           {
            "bin_start": 68.5685,
            "bin_end": 72.8708,
            "count": 0
           },
           {
            "bin_start": 72.8708,
            "bin_end": 77.1731,
            "count": 1
           },
           {
            "bin_start": 77.1731,
            "bin_end": 81.47540000000001,
            "count": 1
           },
           {
            "bin_start": 81.47540000000001,
            "bin_end": 85.77770000000001,
            "count": 0
           },
           {
            "bin_start": 85.77770000000001,
            "bin_end": 90.08,
            "count": 1
           }
          ]
         }
        },
        {
         "name": "InChI",
         "dtype": "object",
         "stats": {
          "unique_count": 5,
          "nan_count": 0,
          "categories": [
           {
            "name": "InChI=1S/C3H6O3/c1-2-6-3(4)5/h2H2,1H3,(H,4,5)",
            "count": 1
           },
           {
            "name": "InChI=1S/CH3FO/c1-3-2/h1H3",
            "count": 1
           },
           {
            "name": "3 others",
            "count": 3
           }
          ]
         }
        },
        {
         "name": "InChIKey",
         "dtype": "object",
         "stats": {
          "unique_count": 5,
          "nan_count": 0,
          "categories": [
           {
            "name": "CQDGTJPVBWZJAZ-UHFFFAOYSA-N",
            "count": 1
           },
           {
            "name": "XMSZANIMCDLNKA-UHFFFAOYSA-N",
            "count": 1
           },
           {
            "name": "3 others",
            "count": 3
           }
          ]
         }
        },
        {
         "name": "IUPACName",
         "dtype": "object",
         "stats": {
          "unique_count": 5,
          "nan_count": 0,
          "categories": [
           {
            "name": "ethyl hydrogen carbonate",
            "count": 1
           },
           {
            "name": "methyl hypofluorite",
            "count": 1
           },
           {
            "name": "3 others",
            "count": 3
           }
          ]
         }
        },
        {
         "name": "XLogP",
         "dtype": "float64",
         "stats": {
          "unique_count": 4,
          "nan_count": 0,
          "min": "-1.0",
          "max": "0.6",
          "histogram": [
           {
            "bin_start": -1,
            "bin_end": -0.84,
            "count": 1
           },
           {
            "bin_start": -0.84,
            "bin_end": -0.6799999999999999,
            "count": 1
           },
           {
            "bin_start": -0.6799999999999999,
            "bin_end": -0.52,
            "count": 0
           },
           {
            "bin_start": -0.52,
            "bin_end": -0.36,
            "count": 0
           },
           {
            "bin_start": -0.36,
            "bin_end": -0.19999999999999996,
            "count": 0
           },
           {
            "bin_start": -0.19999999999999996,
            "bin_end": -0.040000000000000036,
            "count": 0
           },
           {
            "bin_start": -0.040000000000000036,
            "bin_end": 0.1200000000000001,
            "count": 0
           },
           {
            "bin_start": 0.1200000000000001,
            "bin_end": 0.28,
            "count": 1
           },
           {
            "bin_start": 0.28,
            "bin_end": 0.43999999999999995,
            "count": 0
           },
           {
            "bin_start": 0.43999999999999995,
            "bin_end": 0.6,
            "count": 2
           }
          ]
         }
        },
        {
         "name": "ExactMass",
         "dtype": "float64",
         "stats": {
          "unique_count": 5,
          "nan_count": 0,
          "min": "47.037113783",
          "max": "90.031694049",
          "histogram": [
           {
            "bin_start": 47.037113783,
            "bin_end": 51.3365718096,
            "count": 2
           },
           {
            "bin_start": 51.3365718096,
            "bin_end": 55.6360298362,
            "count": 0
           },
           {
            "bin_start": 55.6360298362,
            "bin_end": 59.9354878628,
            "count": 0
           },
           {
            "bin_start": 59.9354878628,
            "bin_end": 64.2349458894,
            "count": 0
           },
           {
            "bin_start": 64.2349458894,
            "bin_end": 68.534403916,
            "count": 0
           },
           {
            "bin_start": 68.534403916,
            "bin_end": 72.8338619426,
            "count": 0
           },
           {
            "bin_start": 72.8338619426,
            "bin_end": 77.13331996919999,
            "count": 1
           },
           {
            "bin_start": 77.13331996919999,
            "bin_end": 81.4327779958,
            "count": 1
           },
           {
            "bin_start": 81.4327779958,
            "bin_end": 85.7322360224,
            "count": 0
           },
           {
            "bin_start": 85.7322360224,
            "bin_end": 90.031694049,
            "count": 1
           }
          ]
         }
        },
        {
         "name": "MonoisotopicMass",
         "dtype": "float64",
         "stats": {
          "unique_count": 5,
          "nan_count": 0,
          "min": "47.037113783",
          "max": "90.031694049",
          "histogram": [
           {
            "bin_start": 47.037113783,
            "bin_end": 51.3365718096,
            "count": 2
           },
           {
            "bin_start": 51.3365718096,
            "bin_end": 55.6360298362,
            "count": 0
           },
           {
            "bin_start": 55.6360298362,
            "bin_end": 59.9354878628,
            "count": 0
           },
           {
            "bin_start": 59.9354878628,
            "bin_end": 64.2349458894,
            "count": 0
           },
           {
            "bin_start": 64.2349458894,
            "bin_end": 68.534403916,
            "count": 0
           },
           {
            "bin_start": 68.534403916,
            "bin_end": 72.8338619426,
            "count": 0
           },
           {
            "bin_start": 72.8338619426,
            "bin_end": 77.13331996919999,
            "count": 1
           },
           {
            "bin_start": 77.13331996919999,
            "bin_end": 81.4327779958,
            "count": 1
           },
           {
            "bin_start": 81.4327779958,
            "bin_end": 85.7322360224,
            "count": 0
           },
           {
            "bin_start": 85.7322360224,
            "bin_end": 90.031694049,
            "count": 1
           }
          ]
         }
        },
        {
         "name": "TPSA",
         "dtype": "float64",
         "stats": {
          "unique_count": 4,
          "nan_count": 0,
          "min": "9.2",
          "max": "79.6",
          "histogram": [
           {
            "bin_start": 9.2,
            "bin_end": 16.24,
            "count": 1
           },
           {
            "bin_start": 16.24,
            "bin_end": 23.279999999999998,
            "count": 0
           },
           {
            "bin_start": 23.279999999999998,
            "bin_end": 30.319999999999997,
            "count": 0
           },
           {
            "bin_start": 30.319999999999997,
            "bin_end": 37.36,
            "count": 1
           },
           {
            "bin_start": 37.36,
            "bin_end": 44.39999999999999,
            "count": 0
           },
           {
            "bin_start": 44.39999999999999,
            "bin_end": 51.44,
            "count": 2
           },
           {
            "bin_start": 51.44,
            "bin_end": 58.47999999999999,
            "count": 0
           },
           {
            "bin_start": 58.47999999999999,
            "bin_end": 65.52,
            "count": 0
           },
           {
            "bin_start": 65.52,
            "bin_end": 72.55999999999999,
            "count": 0
           },
           {
            "bin_start": 72.55999999999999,
            "bin_end": 79.6,
            "count": 1
           }
          ]
         }
        },
        {
         "name": "Complexity",
         "dtype": "int64",
         "stats": {
          "unique_count": 4,
          "nan_count": 0,
          "min": "4",
          "max": "50",
          "histogram": [
           {
            "bin_start": 4,
            "bin_end": 8.6,
            "count": 2
           },
           {
            "bin_start": 8.6,
            "bin_end": 13.2,
            "count": 0
           },
           {
            "bin_start": 13.2,
            "bin_end": 17.799999999999997,
            "count": 0
           },
           {
            "bin_start": 17.799999999999997,
            "bin_end": 22.4,
            "count": 0
           },
           {
            "bin_start": 22.4,
            "bin_end": 27,
            "count": 1
           },
           {
            "bin_start": 27,
            "bin_end": 31.599999999999998,
            "count": 0
           },
           {
            "bin_start": 31.599999999999998,
            "bin_end": 36.199999999999996,
            "count": 0
           },
           {
            "bin_start": 36.199999999999996,
            "bin_end": 40.8,
            "count": 1
           },
           {
            "bin_start": 40.8,
            "bin_end": 45.4,
            "count": 0
           },
           {
            "bin_start": 45.4,
            "bin_end": 50,
            "count": 1
           }
          ]
         }
        },
        {
         "name": "Charge",
         "dtype": "int64",
         "stats": {
          "unique_count": 2,
          "nan_count": 0,
          "min": "-1",
          "max": "0",
          "histogram": [
           {
            "bin_start": -1,
            "bin_end": -0.9,
            "count": 1
           },
           {
            "bin_start": -0.9,
            "bin_end": -0.8,
            "count": 0
           },
           {
            "bin_start": -0.8,
            "bin_end": -0.7,
            "count": 0
           },
           {
            "bin_start": -0.7,
            "bin_end": -0.6,
            "count": 0
           },
           {
            "bin_start": -0.6,
            "bin_end": -0.5,
            "count": 0
           },
           {
            "bin_start": -0.5,
            "bin_end": -0.3999999999999999,
            "count": 0
           },
           {
            "bin_start": -0.3999999999999999,
            "bin_end": -0.29999999999999993,
            "count": 0
           },
           {
            "bin_start": -0.29999999999999993,
            "bin_end": -0.19999999999999996,
            "count": 0
           },
           {
            "bin_start": -0.19999999999999996,
            "bin_end": -0.09999999999999998,
            "count": 0
           },
           {
            "bin_start": -0.09999999999999998,
            "bin_end": 0,
            "count": 4
           }
          ]
         }
        },
        {
         "name": "HBondDonorCount",
         "dtype": "int64",
         "stats": {
          "unique_count": 3,
          "nan_count": 0,
          "min": "0",
          "max": "2",
          "histogram": [
           {
            "bin_start": 0,
            "bin_end": 0.2,
            "count": 1
           },
           {
            "bin_start": 0.2,
            "bin_end": 0.4,
            "count": 0
           },
           {
            "bin_start": 0.4,
            "bin_end": 0.6000000000000001,
            "count": 0
           },
           {
            "bin_start": 0.6000000000000001,
            "bin_end": 0.8,
            "count": 0
           },
           {
            "bin_start": 0.8,
            "bin_end": 1,
            "count": 0
           },
           {
            "bin_start": 1,
            "bin_end": 1.2000000000000002,
            "count": 3
           },
           {
            "bin_start": 1.2000000000000002,
            "bin_end": 1.4000000000000001,
            "count": 0
           },
           {
            "bin_start": 1.4000000000000001,
            "bin_end": 1.6,
            "count": 0
           },
           {
            "bin_start": 1.6,
            "bin_end": 1.8,
            "count": 0
           },
           {
            "bin_start": 1.8,
            "bin_end": 2,
            "count": 1
           }
          ]
         }
        },
        {
         "name": "HBondAcceptorCount",
         "dtype": "int64",
         "stats": {
          "unique_count": 3,
          "nan_count": 0,
          "min": "2",
          "max": "4",
          "histogram": [
           {
            "bin_start": 2,
            "bin_end": 2.2,
            "count": 2
           },
           {
            "bin_start": 2.2,
            "bin_end": 2.4,
            "count": 0
           },
           {
            "bin_start": 2.4,
            "bin_end": 2.6,
            "count": 0
           },
           {
            "bin_start": 2.6,
            "bin_end": 2.8,
            "count": 0
           },
           {
            "bin_start": 2.8,
            "bin_end": 3,
            "count": 0
           },
           {
            "bin_start": 3,
            "bin_end": 3.2,
            "count": 2
           },
           {
            "bin_start": 3.2,
            "bin_end": 3.4000000000000004,
            "count": 0
           },
           {
            "bin_start": 3.4000000000000004,
            "bin_end": 3.6,
            "count": 0
           },
           {
            "bin_start": 3.6,
            "bin_end": 3.8,
            "count": 0
           },
           {
            "bin_start": 3.8,
            "bin_end": 4,
            "count": 1
           }
          ]
         }
        },
        {
         "name": "RotatableBondCount",
         "dtype": "int64",
         "stats": {
          "unique_count": 3,
          "nan_count": 0,
          "min": "0",
          "max": "2",
          "histogram": [
           {
            "bin_start": 0,
            "bin_end": 0.2,
            "count": 3
           },
           {
            "bin_start": 0.2,
            "bin_end": 0.4,
            "count": 0
           },
           {
            "bin_start": 0.4,
            "bin_end": 0.6000000000000001,
            "count": 0
           },
           {
            "bin_start": 0.6000000000000001,
            "bin_end": 0.8,
            "count": 0
           },
           {
            "bin_start": 0.8,
            "bin_end": 1,
            "count": 0
           },
           {
            "bin_start": 1,
            "bin_end": 1.2000000000000002,
            "count": 1
           },
           {
            "bin_start": 1.2000000000000002,
            "bin_end": 1.4000000000000001,
            "count": 0
           },
           {
            "bin_start": 1.4000000000000001,
            "bin_end": 1.6,
            "count": 0
           },
           {
            "bin_start": 1.6,
            "bin_end": 1.8,
            "count": 0
           },
           {
            "bin_start": 1.8,
            "bin_end": 2,
            "count": 1
           }
          ]
         }
        },
        {
         "name": "IsotopeAtomCount",
         "dtype": "int64",
         "stats": {
          "unique_count": 1,
          "nan_count": 0,
          "min": "0",
          "max": "0",
          "histogram": [
           {
            "bin_start": -0.5,
            "bin_end": -0.4,
            "count": 0
           },
           {
            "bin_start": -0.4,
            "bin_end": -0.3,
            "count": 0
           },
           {
            "bin_start": -0.3,
            "bin_end": -0.19999999999999996,
            "count": 0
           },
           {
            "bin_start": -0.19999999999999996,
            "bin_end": -0.09999999999999998,
            "count": 0
           },
           {
            "bin_start": -0.09999999999999998,
            "bin_end": 0,
            "count": 0
           },
           {
            "bin_start": 0,
            "bin_end": 0.10000000000000009,
            "count": 5
           },
           {
            "bin_start": 0.10000000000000009,
            "bin_end": 0.20000000000000007,
            "count": 0
           },
           {
            "bin_start": 0.20000000000000007,
            "bin_end": 0.30000000000000004,
            "count": 0
           },
           {
            "bin_start": 0.30000000000000004,
            "bin_end": 0.4,
            "count": 0
           },
           {
            "bin_start": 0.4,
            "bin_end": 0.5,
            "count": 0
           }
          ]
         }
        },
        {
         "name": "AtomStereoCount",
         "dtype": "int64",
         "stats": {
          "unique_count": 1,
          "nan_count": 0,
          "min": "0",
          "max": "0",
          "histogram": [
           {
            "bin_start": -0.5,
            "bin_end": -0.4,
            "count": 0
           },
           {
            "bin_start": -0.4,
            "bin_end": -0.3,
            "count": 0
           },
           {
            "bin_start": -0.3,
            "bin_end": -0.19999999999999996,
            "count": 0
           },
           {
            "bin_start": -0.19999999999999996,
            "bin_end": -0.09999999999999998,
            "count": 0
           },
           {
            "bin_start": -0.09999999999999998,
            "bin_end": 0,
            "count": 0
           },
           {
            "bin_start": 0,
            "bin_end": 0.10000000000000009,
            "count": 5
           },
           {
            "bin_start": 0.10000000000000009,
            "bin_end": 0.20000000000000007,
            "count": 0
           },
           {
            "bin_start": 0.20000000000000007,
            "bin_end": 0.30000000000000004,
            "count": 0
           },
           {
            "bin_start": 0.30000000000000004,
            "bin_end": 0.4,
            "count": 0
           },
           {
            "bin_start": 0.4,
            "bin_end": 0.5,
            "count": 0
           }
          ]
         }
        },
        {
         "name": "DefinedAtomStereoCount",
         "dtype": "int64",
         "stats": {
          "unique_count": 1,
          "nan_count": 0,
          "min": "0",
          "max": "0",
          "histogram": [
           {
            "bin_start": -0.5,
            "bin_end": -0.4,
            "count": 0
           },
           {
            "bin_start": -0.4,
            "bin_end": -0.3,
            "count": 0
           },
           {
            "bin_start": -0.3,
            "bin_end": -0.19999999999999996,
            "count": 0
           },
           {
            "bin_start": -0.19999999999999996,
            "bin_end": -0.09999999999999998,
            "count": 0
           },
           {
            "bin_start": -0.09999999999999998,
            "bin_end": 0,
            "count": 0
           },
           {
            "bin_start": 0,
            "bin_end": 0.10000000000000009,
            "count": 5
           },
           {
            "bin_start": 0.10000000000000009,
            "bin_end": 0.20000000000000007,
            "count": 0
           },
           {
            "bin_start": 0.20000000000000007,
            "bin_end": 0.30000000000000004,
            "count": 0
           },
           {
            "bin_start": 0.30000000000000004,
            "bin_end": 0.4,
            "count": 0
           },
           {
            "bin_start": 0.4,
            "bin_end": 0.5,
            "count": 0
           }
          ]
         }
        },
        {
         "name": "UndefinedAtomStereoCount",
         "dtype": "int64",
         "stats": {
          "unique_count": 1,
          "nan_count": 0,
          "min": "0",
          "max": "0",
          "histogram": [
           {
            "bin_start": -0.5,
            "bin_end": -0.4,
            "count": 0
           },
           {
            "bin_start": -0.4,
            "bin_end": -0.3,
            "count": 0
           },
           {
            "bin_start": -0.3,
            "bin_end": -0.19999999999999996,
            "count": 0
           },
           {
            "bin_start": -0.19999999999999996,
            "bin_end": -0.09999999999999998,
            "count": 0
           },
           {
            "bin_start": -0.09999999999999998,
            "bin_end": 0,
            "count": 0
           },
           {
            "bin_start": 0,
            "bin_end": 0.10000000000000009,
            "count": 5
           },
           {
            "bin_start": 0.10000000000000009,
            "bin_end": 0.20000000000000007,
            "count": 0
           },
           {
            "bin_start": 0.20000000000000007,
            "bin_end": 0.30000000000000004,
            "count": 0
           },
           {
            "bin_start": 0.30000000000000004,
            "bin_end": 0.4,
            "count": 0
           },
           {
            "bin_start": 0.4,
            "bin_end": 0.5,
            "count": 0
           }
          ]
         }
        },
        {
         "name": "BondStereoCount",
         "dtype": "int64",
         "stats": {
          "unique_count": 1,
          "nan_count": 0,
          "min": "0",
          "max": "0",
          "histogram": [
           {
            "bin_start": -0.5,
            "bin_end": -0.4,
            "count": 0
           },
           {
            "bin_start": -0.4,
            "bin_end": -0.3,
            "count": 0
           },
           {
            "bin_start": -0.3,
            "bin_end": -0.19999999999999996,
            "count": 0
           },
           {
            "bin_start": -0.19999999999999996,
            "bin_end": -0.09999999999999998,
            "count": 0
           },
           {
            "bin_start": -0.09999999999999998,
            "bin_end": 0,
            "count": 0
           },
           {
            "bin_start": 0,
            "bin_end": 0.10000000000000009,
            "count": 5
           },
           {
            "bin_start": 0.10000000000000009,
            "bin_end": 0.20000000000000007,
            "count": 0
           },
           {
            "bin_start": 0.20000000000000007,
            "bin_end": 0.30000000000000004,
            "count": 0
           },
           {
            "bin_start": 0.30000000000000004,
            "bin_end": 0.4,
            "count": 0
           },
           {
            "bin_start": 0.4,
            "bin_end": 0.5,
            "count": 0
           }
          ]
         }
        },
        {
         "name": "DefinedBondStereoCount",
         "dtype": "int64",
         "stats": {
          "unique_count": 1,
          "nan_count": 0,
          "min": "0",
          "max": "0",
          "histogram": [
           {
            "bin_start": -0.5,
            "bin_end": -0.4,
            "count": 0
           },
           {
            "bin_start": -0.4,
            "bin_end": -0.3,
            "count": 0
           },
           {
            "bin_start": -0.3,
            "bin_end": -0.19999999999999996,
            "count": 0
           },
           {
            "bin_start": -0.19999999999999996,
            "bin_end": -0.09999999999999998,
            "count": 0
           },
           {
            "bin_start": -0.09999999999999998,
            "bin_end": 0,
            "count": 0
           },
           {
            "bin_start": 0,
            "bin_end": 0.10000000000000009,
            "count": 5
           },
           {
            "bin_start": 0.10000000000000009,
            "bin_end": 0.20000000000000007,
            "count": 0
           },
           {
            "bin_start": 0.20000000000000007,
            "bin_end": 0.30000000000000004,
            "count": 0
           },
           {
            "bin_start": 0.30000000000000004,
            "bin_end": 0.4,
            "count": 0
           },
           {
            "bin_start": 0.4,
            "bin_end": 0.5,
            "count": 0
           }
          ]
         }
        },
        {
         "name": "UndefinedBondStereoCount",
         "dtype": "int64",
         "stats": {
          "unique_count": 1,
          "nan_count": 0,
          "min": "0",
          "max": "0",
          "histogram": [
           {
            "bin_start": -0.5,
            "bin_end": -0.4,
            "count": 0
           },
           {
            "bin_start": -0.4,
            "bin_end": -0.3,
            "count": 0
           },
           {
            "bin_start": -0.3,
            "bin_end": -0.19999999999999996,
            "count": 0
           },
           {
            "bin_start": -0.19999999999999996,
            "bin_end": -0.09999999999999998,
            "count": 0
           },
           {
            "bin_start": -0.09999999999999998,
            "bin_end": 0,
            "count": 0
           },
           {
            "bin_start": 0,
            "bin_end": 0.10000000000000009,
            "count": 5
           },
           {
            "bin_start": 0.10000000000000009,
            "bin_end": 0.20000000000000007,
            "count": 0
           },
           {
            "bin_start": 0.20000000000000007,
            "bin_end": 0.30000000000000004,
            "count": 0
           },
           {
            "bin_start": 0.30000000000000004,
            "bin_end": 0.4,
            "count": 0
           },
           {
            "bin_start": 0.4,
            "bin_end": 0.5,
            "count": 0
           }
          ]
         }
        },
        {
         "name": "CovalentUnitCount",
         "dtype": "float64",
         "stats": {
          "unique_count": 1,
          "nan_count": 0,
          "min": "1.0",
          "max": "1.0",
          "histogram": [
           {
            "bin_start": 0.5,
            "bin_end": 0.6,
            "count": 0
           },
           {
            "bin_start": 0.6,
            "bin_end": 0.7,
            "count": 0
           },
           {
            "bin_start": 0.7,
            "bin_end": 0.8,
            "count": 0
           },
           {
            "bin_start": 0.8,
            "bin_end": 0.9,
            "count": 0
           },
           {
            "bin_start": 0.9,
            "bin_end": 1,
            "count": 0
           },
           {
            "bin_start": 1,
            "bin_end": 1.1,
            "count": 5
           },
           {
            "bin_start": 1.1,
            "bin_end": 1.2000000000000002,
            "count": 0
           },
           {
            "bin_start": 1.2000000000000002,
            "bin_end": 1.3,
            "count": 0
           },
           {
            "bin_start": 1.3,
            "bin_end": 1.4,
            "count": 0
           },
           {
            "bin_start": 1.4,
            "bin_end": 1.5,
            "count": 0
           }
          ]
         }
        },
        {
         "name": "_deepnote_index_column",
         "dtype": "int64"
        }
       ],
       "rows_top": [
        {
         "smiles": "OC(=O)OCC",
         "CID": 105349,
         "MolecularFormula": "C3H6O3",
         "MolecularWeight": 90.08,
         "InChI": "InChI=1S/C3H6O3/c1-2-6-3(4)5/h2H2,1H3,(H,4,5)",
         "InChIKey": "CQDGTJPVBWZJAZ-UHFFFAOYSA-N",
         "IUPACName": "ethyl hydrogen carbonate",
         "XLogP": 0.6,
         "ExactMass": 90.031694049,
         "MonoisotopicMass": 90.031694049,
         "TPSA": 46.5,
         "Complexity": 50,
         "Charge": 0,
         "HBondDonorCount": 1,
         "HBondAcceptorCount": 3,
         "RotatableBondCount": 2,
         "IsotopeAtomCount": 0,
         "AtomStereoCount": 0,
         "DefinedAtomStereoCount": 0,
         "UndefinedAtomStereoCount": 0,
         "BondStereoCount": 0,
         "DefinedBondStereoCount": 0,
         "UndefinedBondStereoCount": 0,
         "CovalentUnitCount": 1,
         "_deepnote_index_column": 0
        },
        {
         "smiles": "FOC",
         "CID": 142072,
         "MolecularFormula": "CH3FO",
         "MolecularWeight": 50.032,
         "InChI": "InChI=1S/CH3FO/c1-3-2/h1H3",
         "InChIKey": "XMSZANIMCDLNKA-UHFFFAOYSA-N",
         "IUPACName": "methyl hypofluorite",
         "XLogP": 0.6,
         "ExactMass": 50.016792877,
         "MonoisotopicMass": 50.016792877,
         "TPSA": 9.2,
         "Complexity": 4,
         "Charge": 0,
         "HBondDonorCount": 0,
         "HBondAcceptorCount": 2,
         "RotatableBondCount": 0,
         "IsotopeAtomCount": 0,
         "AtomStereoCount": 0,
         "DefinedAtomStereoCount": 0,
         "UndefinedAtomStereoCount": 0,
         "BondStereoCount": 0,
         "DefinedBondStereoCount": 0,
         "UndefinedBondStereoCount": 0,
         "CovalentUnitCount": 1,
         "_deepnote_index_column": 1
        },
        {
         "smiles": "COC(=O)O",
         "CID": 78579,
         "MolecularFormula": "C2H4O3",
         "MolecularWeight": 76.05,
         "InChI": "InChI=1S/C2H4O3/c1-5-2(3)4/h1H3,(H,3,4)",
         "InChIKey": "CXHHBNMLPJOKQD-UHFFFAOYSA-N",
         "IUPACName": "methyl hydrogen carbonate",
         "XLogP": 0.2,
         "ExactMass": 76.016043985,
         "MonoisotopicMass": 76.016043985,
         "TPSA": 46.5,
         "Complexity": 40,
         "Charge": 0,
         "HBondDonorCount": 1,
         "HBondAcceptorCount": 3,
         "RotatableBondCount": 1,
         "IsotopeAtomCount": 0,
         "AtomStereoCount": 0,
         "DefinedAtomStereoCount": 0,
         "UndefinedAtomStereoCount": 0,
         "BondStereoCount": 0,
         "DefinedBondStereoCount": 0,
         "UndefinedBondStereoCount": 0,
         "CovalentUnitCount": 1,
         "_deepnote_index_column": 2
        },
        {
         "smiles": "S(=O)(=O)O",
         "CID": 104748,
         "MolecularFormula": "HO3S-",
         "MolecularWeight": 81.07,
         "InChI": "InChI=1S/H2O3S/c1-4(2)3/h(H2,1,2,3)/p-1",
         "InChIKey": "LSNNMFCWUKXFEE-UHFFFAOYSA-M",
         "IUPACName": "hydrogen sulfite",
         "XLogP": -1,
         "ExactMass": 80.96464006,
         "MonoisotopicMass": 80.96464006,
         "TPSA": 79.6,
         "Complexity": 24,
         "Charge": -1,
         "HBondDonorCount": 1,
         "HBondAcceptorCount": 4,
         "RotatableBondCount": 0,
         "IsotopeAtomCount": 0,
         "AtomStereoCount": 0,
         "DefinedAtomStereoCount": 0,
         "UndefinedAtomStereoCount": 0,
         "BondStereoCount": 0,
         "DefinedBondStereoCount": 0,
         "UndefinedBondStereoCount": 0,
         "CovalentUnitCount": 1,
         "_deepnote_index_column": 3
        },
        {
         "smiles": "CNO",
         "CID": 11647,
         "MolecularFormula": "CH5NO",
         "MolecularWeight": 47.057,
         "InChI": "InChI=1S/CH5NO/c1-2-3/h2-3H,1H3",
         "InChIKey": "CPQCSJYYDADLCZ-UHFFFAOYSA-N",
         "IUPACName": "N-methylhydroxylamine",
         "XLogP": -0.7,
         "ExactMass": 47.037113783,
         "MonoisotopicMass": 47.037113783,
         "TPSA": 32.3,
         "Complexity": 4,
         "Charge": 0,
         "HBondDonorCount": 2,
         "HBondAcceptorCount": 2,
         "RotatableBondCount": 0,
         "IsotopeAtomCount": 0,
         "AtomStereoCount": 0,
         "DefinedAtomStereoCount": 0,
         "UndefinedAtomStereoCount": 0,
         "BondStereoCount": 0,
         "DefinedBondStereoCount": 0,
         "UndefinedBondStereoCount": 0,
         "CovalentUnitCount": 1,
         "_deepnote_index_column": 4
        }
       ],
       "rows_bottom": null
      },
      "text/plain": "       smiles     CID MolecularFormula  MolecularWeight  \\\n0   OC(=O)OCC  105349           C3H6O3           90.080   \n1         FOC  142072            CH3FO           50.032   \n2    COC(=O)O   78579           C2H4O3           76.050   \n3  S(=O)(=O)O  104748            HO3S-           81.070   \n4         CNO   11647            CH5NO           47.057   \n\n                                           InChI                     InChIKey  \\\n0  InChI=1S/C3H6O3/c1-2-6-3(4)5/h2H2,1H3,(H,4,5)  CQDGTJPVBWZJAZ-UHFFFAOYSA-N   \n1                     InChI=1S/CH3FO/c1-3-2/h1H3  XMSZANIMCDLNKA-UHFFFAOYSA-N   \n2        InChI=1S/C2H4O3/c1-5-2(3)4/h1H3,(H,3,4)  CXHHBNMLPJOKQD-UHFFFAOYSA-N   \n3        InChI=1S/H2O3S/c1-4(2)3/h(H2,1,2,3)/p-1  LSNNMFCWUKXFEE-UHFFFAOYSA-M   \n4                InChI=1S/CH5NO/c1-2-3/h2-3H,1H3  CPQCSJYYDADLCZ-UHFFFAOYSA-N   \n\n                   IUPACName  XLogP  ExactMass  MonoisotopicMass  ...  \\\n0   ethyl hydrogen carbonate    0.6  90.031694         90.031694  ...   \n1        methyl hypofluorite    0.6  50.016793         50.016793  ...   \n2  methyl hydrogen carbonate    0.2  76.016044         76.016044  ...   \n3           hydrogen sulfite   -1.0  80.964640         80.964640  ...   \n4      N-methylhydroxylamine   -0.7  47.037114         47.037114  ...   \n\n   HBondAcceptorCount  RotatableBondCount  IsotopeAtomCount  AtomStereoCount  \\\n0                   3                   2                 0                0   \n1                   2                   0                 0                0   \n2                   3                   1                 0                0   \n3                   4                   0                 0                0   \n4                   2                   0                 0                0   \n\n   DefinedAtomStereoCount  UndefinedAtomStereoCount  BondStereoCount  \\\n0                       0                         0                0   \n1                       0                         0                0   \n2                       0                         0                0   \n3                       0                         0                0   \n4                       0                         0                0   \n\n   DefinedBondStereoCount  UndefinedBondStereoCount  CovalentUnitCount  \n0                       0                         0                1.0  \n1                       0                         0                1.0  \n2                       0                         0                1.0  \n3                       0                         0                1.0  \n4                       0                         0                1.0  \n\n[5 rows x 24 columns]",
      "text/html": "<div>\n<style scoped>\n    .dataframe tbody tr th:only-of-type {\n        vertical-align: middle;\n    }\n\n    .dataframe tbody tr th {\n        vertical-align: top;\n    }\n\n    .dataframe thead th {\n        text-align: right;\n    }\n</style>\n<table border=\"1\" class=\"dataframe\">\n  <thead>\n    <tr style=\"text-align: right;\">\n      <th></th>\n      <th>smiles</th>\n      <th>CID</th>\n      <th>MolecularFormula</th>\n      <th>MolecularWeight</th>\n      <th>InChI</th>\n      <th>InChIKey</th>\n      <th>IUPACName</th>\n      <th>XLogP</th>\n      <th>ExactMass</th>\n      <th>MonoisotopicMass</th>\n      <th>...</th>\n      <th>HBondAcceptorCount</th>\n      <th>RotatableBondCount</th>\n      <th>IsotopeAtomCount</th>\n      <th>AtomStereoCount</th>\n      <th>DefinedAtomStereoCount</th>\n      <th>UndefinedAtomStereoCount</th>\n      <th>BondStereoCount</th>\n      <th>DefinedBondStereoCount</th>\n      <th>UndefinedBondStereoCount</th>\n      <th>CovalentUnitCount</th>\n    </tr>\n  </thead>\n  <tbody>\n    <tr>\n      <th>0</th>\n      <td>OC(=O)OCC</td>\n      <td>105349</td>\n      <td>C3H6O3</td>\n      <td>90.080</td>\n      <td>InChI=1S/C3H6O3/c1-2-6-3(4)5/h2H2,1H3,(H,4,5)</td>\n      <td>CQDGTJPVBWZJAZ-UHFFFAOYSA-N</td>\n      <td>ethyl hydrogen carbonate</td>\n      <td>0.6</td>\n      <td>90.031694</td>\n      <td>90.031694</td>\n      <td>...</td>\n      <td>3</td>\n      <td>2</td>\n      <td>0</td>\n      <td>0</td>\n      <td>0</td>\n      <td>0</td>\n      <td>0</td>\n      <td>0</td>\n      <td>0</td>\n      <td>1.0</td>\n    </tr>\n    <tr>\n      <th>1</th>\n      <td>FOC</td>\n      <td>142072</td>\n      <td>CH3FO</td>\n      <td>50.032</td>\n      <td>InChI=1S/CH3FO/c1-3-2/h1H3</td>\n      <td>XMSZANIMCDLNKA-UHFFFAOYSA-N</td>\n      <td>methyl hypofluorite</td>\n      <td>0.6</td>\n      <td>50.016793</td>\n      <td>50.016793</td>\n      <td>...</td>\n      <td>2</td>\n      <td>0</td>\n      <td>0</td>\n      <td>0</td>\n      <td>0</td>\n      <td>0</td>\n      <td>0</td>\n      <td>0</td>\n      <td>0</td>\n      <td>1.0</td>\n    </tr>\n    <tr>\n      <th>2</th>\n      <td>COC(=O)O</td>\n      <td>78579</td>\n      <td>C2H4O3</td>\n      <td>76.050</td>\n      <td>InChI=1S/C2H4O3/c1-5-2(3)4/h1H3,(H,3,4)</td>\n      <td>CXHHBNMLPJOKQD-UHFFFAOYSA-N</td>\n      <td>methyl hydrogen carbonate</td>\n      <td>0.2</td>\n      <td>76.016044</td>\n      <td>76.016044</td>\n      <td>...</td>\n      <td>3</td>\n      <td>1</td>\n      <td>0</td>\n      <td>0</td>\n      <td>0</td>\n      <td>0</td>\n      <td>0</td>\n      <td>0</td>\n      <td>0</td>\n      <td>1.0</td>\n    </tr>\n    <tr>\n      <th>3</th>\n      <td>S(=O)(=O)O</td>\n      <td>104748</td>\n      <td>HO3S-</td>\n      <td>81.070</td>\n      <td>InChI=1S/H2O3S/c1-4(2)3/h(H2,1,2,3)/p-1</td>\n      <td>LSNNMFCWUKXFEE-UHFFFAOYSA-M</td>\n      <td>hydrogen sulfite</td>\n      <td>-1.0</td>\n      <td>80.964640</td>\n      <td>80.964640</td>\n      <td>...</td>\n      <td>4</td>\n      <td>0</td>\n      <td>0</td>\n      <td>0</td>\n      <td>0</td>\n      <td>0</td>\n      <td>0</td>\n      <td>0</td>\n      <td>0</td>\n      <td>1.0</td>\n    </tr>\n    <tr>\n      <th>4</th>\n      <td>CNO</td>\n      <td>11647</td>\n      <td>CH5NO</td>\n      <td>47.057</td>\n      <td>InChI=1S/CH5NO/c1-2-3/h2-3H,1H3</td>\n      <td>CPQCSJYYDADLCZ-UHFFFAOYSA-N</td>\n      <td>N-methylhydroxylamine</td>\n      <td>-0.7</td>\n      <td>47.037114</td>\n      <td>47.037114</td>\n      <td>...</td>\n      <td>2</td>\n      <td>0</td>\n      <td>0</td>\n      <td>0</td>\n      <td>0</td>\n      <td>0</td>\n      <td>0</td>\n      <td>0</td>\n      <td>0</td>\n      <td>1.0</td>\n    </tr>\n  </tbody>\n</table>\n<p>5 rows × 24 columns</p>\n</div>"
     },
     "metadata": {}
    }
   ],
   "execution_count": null
  },
  {
   "cell_type": "code",
   "source": "props_df = props_df.set_index('smiles')",
   "metadata": {
    "tags": [],
    "cell_id": "00033-1940e81f-2623-48fe-b033-497104213df2",
    "deepnote_to_be_reexecuted": false,
    "source_hash": "3fb268b1",
    "execution_start": 1634037169724,
    "execution_millis": 1,
    "deepnote_cell_type": "code"
   },
   "outputs": [],
   "execution_count": null
  },
  {
   "cell_type": "code",
   "metadata": {
    "tags": [],
    "cell_id": "00031-045b5b8c-80e6-4eef-abf3-586778e1f8ee",
    "deepnote_to_be_reexecuted": false,
    "source_hash": "9b8b3203",
    "execution_start": 1634037180712,
    "execution_millis": 0,
    "deepnote_cell_type": "code"
   },
   "source": "props_dict = props_df.to_dict()",
   "outputs": [],
   "execution_count": null
  },
  {
   "cell_type": "code",
   "metadata": {
    "tags": [],
    "cell_id": "00034-7e2610e7-cbc2-40c8-9aaf-993d496f19fe",
    "deepnote_to_be_reexecuted": false,
    "source_hash": "8f0473a0",
    "execution_start": 1634037229068,
    "execution_millis": 145,
    "deepnote_cell_type": "code"
   },
   "source": "for col in cols[2:]:\n    train_copy[col] = train_copy['smiles'].map(props_dict[col])\n",
   "outputs": [],
   "execution_count": null
  },
  {
   "cell_type": "code",
   "source": "nan_h = {\n'CID':'5362549', \n'MolecularFormula':'H',\n'MolecularWeight':'1.0080', \n'InChI':'InChI=1S/H', \n'InChIKey':'YZCKVEUIGOORGS-UHFFFAOYSA-N', \n'IUPACName':'hydrogen', \n'XLogP':'0',\n'ExactMass':'1.0078250319', \n'MonoisotopicMass':'1.0078250319', \n'TPSA':'0', \n'Complexity':'0', \n'Charge':'0',\n'HBondDonorCount':'0', \n'HBondAcceptorCount':'0', \n'RotatableBondCount':'0',\n'IsotopeAtomCount':'0', \n'AtomStereoCount':'0', \n'DefinedAtomStereoCount':'0',\n'UndefinedAtomStereoCount':'0', \n'BondStereoCount':'0', \n'DefinedBondStereoCount':'0',\n'UndefinedBondStereoCount':'0', \n'CovalentUnitCount':'1'\n}",
   "metadata": {
    "tags": [],
    "cell_id": "00039-ce7e4a21-9d20-46f6-92cf-533e30de71cd",
    "deepnote_to_be_reexecuted": false,
    "source_hash": "887c946b",
    "execution_start": 1634037386208,
    "execution_millis": 3,
    "deepnote_cell_type": "code"
   },
   "outputs": [],
   "execution_count": null
  },
  {
   "cell_type": "code",
   "source": "for k,v in nan_h.items():\n    train_copy.loc[train_copy[\"functional_groups\"] == 'H', k] = v",
   "metadata": {
    "tags": [],
    "cell_id": "00039-d5b28c8c-1647-422f-9a64-00fe47e91580",
    "deepnote_to_be_reexecuted": false,
    "source_hash": "3f08c451",
    "execution_start": 1634037389115,
    "execution_millis": 188,
    "deepnote_cell_type": "code"
   },
   "outputs": [],
   "execution_count": null
  },
  {
   "cell_type": "code",
   "source": "train_copy.to_csv('train_final.csv',index= False)",
   "metadata": {
    "tags": [],
    "cell_id": "00038-f23a015d-527b-43e5-ab18-a4cdf36553e0",
    "deepnote_to_be_reexecuted": false,
    "source_hash": "b2ab82f9",
    "execution_start": 1634039572881,
    "execution_millis": 1921,
    "deepnote_cell_type": "code"
   },
   "outputs": [],
   "execution_count": null
  },
  {
   "cell_type": "markdown",
   "source": "# For test",
   "metadata": {
    "tags": [],
    "is_collapsed": false,
    "cell_id": "00045-42bb5a17-23d7-4d8a-816b-fb0edecf57a4",
    "deepnote_cell_type": "text-cell-h1"
   }
  },
  {
   "cell_type": "code",
   "source": "test_28 = pd.read_csv('test_28.csv')\ntest_28.shape",
   "metadata": {
    "tags": [],
    "cell_id": "00046-7919af9e-0e5d-42bc-b57e-c1abd30e30d7",
    "deepnote_to_be_reexecuted": false,
    "source_hash": "e0029e9c",
    "execution_start": 1634038686158,
    "execution_millis": 444,
    "deepnote_cell_type": "code"
   },
   "outputs": [
    {
     "output_type": "execute_result",
     "execution_count": 154,
     "data": {
      "text/plain": "(17000, 13)"
     },
     "metadata": {}
    }
   ],
   "execution_count": null
  },
  {
   "cell_type": "code",
   "source": "for col in ['metal_linker', 'organic_linker1', 'organic_linker2']:\n    test_28[col] = test_28[col].astype('category')\ntest_28.info()",
   "metadata": {
    "tags": [],
    "cell_id": "00047-dc659921-a51d-4e99-acd9-804851c26825",
    "deepnote_to_be_reexecuted": false,
    "source_hash": "3939685b",
    "execution_start": 1634038688063,
    "execution_millis": 85,
    "deepnote_cell_type": "code"
   },
   "outputs": [
    {
     "name": "stdout",
     "text": "<class 'pandas.core.frame.DataFrame'>\nRangeIndex: 17000 entries, 0 to 16999\nData columns (total 13 columns):\n #   Column                                         Non-Null Count  Dtype   \n---  ------                                         --------------  -----   \n 0   MOFname                                        17000 non-null  object  \n 1   volume [A^3]                                   17000 non-null  float64 \n 2   weight [u]                                     17000 non-null  float64 \n 3   surface_area [m^2/g]                           17000 non-null  float64 \n 4   void_fraction                                  17000 non-null  float64 \n 5   void_volume [cm^3/g]                           17000 non-null  float64 \n 6   functional_groups                              17000 non-null  object  \n 7   metal_linker                                   17000 non-null  category\n 8   organic_linker1                                17000 non-null  category\n 9   organic_linker2                                17000 non-null  category\n 10  topology                                       17000 non-null  object  \n 11  CO2/N2_selectivity                             17000 non-null  float64 \n 12  heat_adsorption_CO2_P0.15bar_T298K [kcal/mol]  17000 non-null  float64 \ndtypes: category(3), float64(7), object(3)\nmemory usage: 1.4+ MB\n",
     "output_type": "stream"
    }
   ],
   "execution_count": null
  },
  {
   "cell_type": "code",
   "source": "smiles =[functional_groups_dict[formula] for formula in test_28['functional_groups']]\ntest_28.insert(7, 'smiles', smiles)",
   "metadata": {
    "tags": [],
    "cell_id": "00048-9a069abf-2ba7-4e7c-83e8-efd91b063ac0",
    "deepnote_to_be_reexecuted": false,
    "source_hash": "2a9c980a",
    "execution_start": 1634038691349,
    "execution_millis": 1,
    "deepnote_cell_type": "code"
   },
   "outputs": [],
   "execution_count": null
  },
  {
   "cell_type": "code",
   "source": "\nMolWt  = [Descriptors.MolWt(Chem.MolFromSmiles(mol)) for mol in test_28['smiles']]\nMolLogP = [Descriptors.MolLogP(Chem.MolFromSmiles(mol)) for mol in test_28['smiles']]\nNumValenceElectrons= [Descriptors.NumValenceElectrons(Chem.MolFromSmiles(mol)) for mol in test_28['smiles']]\nHeavyAtomCount= [Lipinski.HeavyAtomCount(Chem.MolFromSmiles(mol)) for mol in test_28['smiles']]\nNOCount= [Lipinski.NOCount(Chem.MolFromSmiles(mol)) for mol in test_28['smiles']]\nNumAliphaticRings= [Lipinski.NumAliphaticRings(Chem.MolFromSmiles(mol)) for mol in test_28['smiles']]\nNumAromaticRings= [Lipinski.NumAromaticRings(Chem.MolFromSmiles(mol)) for mol in test_28['smiles']]\nNumHAcceptors= [Lipinski.NumHAcceptors(Chem.MolFromSmiles(mol)) for mol in test_28['smiles']]\nNumHDonors= [Lipinski.NumHDonors(Chem.MolFromSmiles(mol)) for mol in test_28['smiles']]\nNumHeteroatoms= [Lipinski.NumHeteroatoms(Chem.MolFromSmiles(mol)) for mol in test_28['smiles']]\nNumRotatableBonds= [Lipinski.NumRotatableBonds(Chem.MolFromSmiles(mol)) for mol in test_28['smiles']]",
   "metadata": {
    "tags": [],
    "cell_id": "00049-803d7282-fb98-4bba-871b-f88500cf12d0",
    "deepnote_to_be_reexecuted": false,
    "source_hash": "a3dec2ea",
    "execution_start": 1634037543135,
    "execution_millis": 10377,
    "deepnote_cell_type": "code"
   },
   "outputs": [
    {
     "name": "stderr",
     "text": "[11:19:11] WARNING: not removing hydrogen atom without neighbors\nRDKit WARNING: [11:19:11] WARNING: not removing hydrogen atom without neighbors\nRDKit WARNING: [11:19:11] WARNING: not removing hydrogen atom without neighbors\nRDKit WARNING: [11:19:11] WARNING: not removing hydrogen atom without neighbors\n[11:19:11] WARNING: not removing hydrogen atom without neighbors\n[11:19:11] WARNING: not removing hydrogen atom without neighbors\n[11:19:11] WARNING: not removing hydrogen atom without neighbors\nRDKit WARNING: [11:19:11] WARNING: not removing hydrogen atom without neighbors\nRDKit WARNING: [11:19:11] WARNING: not removing hydrogen atom without neighbors\nRDKit WARNING: [11:19:11] WARNING: not removing hydrogen atom without neighbors\nRDKit WARNING: [11:19:11] WARNING: not removing hydrogen atom without neighbors\n[11:19:11] WARNING: not removing hydrogen atom without neighbors\n[11:19:11] WARNING: not removing hydrogen atom without neighbors\n[11:19:11] WARNING: not removing hydrogen atom without neighbors\n[11:19:11] WARNING: not removing hydrogen atom without neighbors\nRDKit WARNING: [11:19:11] WARNING: not removing hydrogen atom without neighbors\nRDKit WARNING: [11:19:11] WARNING: not removing hydrogen atom without neighbors\n[11:19:11] WARNING: not removing hydrogen atom without neighbors\n[11:19:11] WARNING: not removing hydrogen atom without neighbors\nRDKit WARNING: [11:19:11] WARNING: not removing hydrogen atom without neighbors\nRDKit WARNING: [11:19:11] WARNING: not removing hydrogen atom without neighbors\nRDKit WARNING: [11:19:11] WARNING: not removing hydrogen atom without neighbors\n[11:19:11] WARNING: not removing hydrogen atom without neighbors\n[11:19:11] WARNING: not removing hydrogen atom without neighbors\n[11:19:11] WARNING: not removing hydrogen atom without neighbors\nRDKit WARNING: [11:19:11] WARNING: not removing hydrogen atom without neighbors\nRDKit WARNING: [11:19:11] WARNING: not removing hydrogen atom without neighbors\n[11:19:11] WARNING: not removing hydrogen atom without neighbors\n[11:19:11] WARNING: not removing hydrogen atom without neighbors\nRDKit WARNING: [11:19:11] WARNING: not removing hydrogen atom without neighbors\nRDKit WARNING: [11:19:11] WARNING: not removing hydrogen atom without neighbors\nRDKit WARNING: [11:19:11] WARNING: not removing hydrogen atom without neighbors\nRDKit WARNING: [11:19:11] WARNING: not removing hydrogen atom without neighbors\nRDKit WARNING: [11:19:11] WARNING: not removing hydrogen atom without neighbors\nRDKit WARNING: [11:19:11] WARNING: not removing hydrogen atom without neighbors\nRDKit WARNING: [11:19:11] WARNING: not removing hydrogen atom without neighbors\nRDKit WARNING: [11:19:11] WARNING: not removing hydrogen atom without neighbors\nRDKit WARNING: [11:19:11] WARNING: not removing hydrogen atom without neighbors\nRDKit WARNING: [11:19:11] WARNING: not removing hydrogen atom without neighbors\nRDKit WARNING: [11:19:11] WARNING: not removing hydrogen atom without neighbors\n[11:19:11] WARNING: not removing hydrogen atom without neighbors\n[11:19:11] WARNING: not removing hydrogen atom without neighbors\n[11:19:11] WARNING: not removing hydrogen atom without neighbors\n[11:19:11] WARNING: not removing hydrogen atom without neighbors\n[11:19:11] WARNING: not removing hydrogen atom without neighbors\n[11:19:11] WARNING: not removing hydrogen atom without neighbors\n[11:19:11] WARNING: not removing hydrogen atom without neighbors\n[11:19:11] WARNING: not removing hydrogen atom without neighbors\n[11:19:11] WARNING: not removing hydrogen atom without neighbors\n[11:19:11] WARNING: not removing hydrogen atom without neighbors\n[11:19:11] WARNING: not removing hydrogen atom without neighbors\nRDKit WARNING: [11:19:11] WARNING: not removing hydrogen atom without neighbors\nRDKit WARNING: [11:19:11] WARNING: not removing hydrogen atom without neighbors\nRDKit WARNING: [11:19:11] WARNING: not removing hydrogen atom without neighbors\nRDKit WARNING: [11:19:11] WARNING: not removing hydrogen atom without neighbors\nRDKit WARNING: [11:19:11] WARNING: not removing hydrogen atom without neighbors\nRDKit WARNING: [11:19:11] WARNING: not removing hydrogen atom without neighbors\nRDKit WARNING: [11:19:11] WARNING: not removing hydrogen atom without neighbors\nRDKit WARNING: [11:19:11] WARNING: not removing hydrogen atom without neighbors\n[11:19:11] WARNING: not removing hydrogen atom without neighbors\n[11:19:11] WARNING: not removing hydrogen atom without neighbors\n[11:19:11] WARNING: not removing hydrogen atom without neighbors\n[11:19:11] WARNING: not removing hydrogen atom without neighbors\n[11:19:11] WARNING: not removing hydrogen atom without neighbors\n[11:19:11] WARNING: not removing hydrogen atom without neighbors\n[11:19:11] WARNING: not removing hydrogen atom without neighbors\n[11:19:11] WARNING: not removing hydrogen atom without neighbors\nRDKit WARNING: [11:19:11] WARNING: not removing hydrogen atom without neighbors\nRDKit WARNING: [11:19:11] WARNING: not removing hydrogen atom without neighbors\n[11:19:11] WARNING: not removing hydrogen atom without neighbors\nRDKit WARNING: [11:19:11] WARNING: not removing hydrogen atom without neighbors\nRDKit WARNING: [11:19:11] WARNING: not removing hydrogen atom without neighbors\nRDKit WARNING: [11:19:11] WARNING: not removing hydrogen atom without neighbors\nRDKit WARNING: [11:19:11] WARNING: not removing hydrogen atom without neighbors\nRDKit WARNING: [11:19:11] WARNING: not removing hydrogen atom without neighbors\n[11:19:11] WARNING: not removing hydrogen atom without neighbors\n[11:19:11] WARNING: not removing hydrogen atom without neighbors\n[11:19:11] WARNING: not removing hydrogen atom without neighbors\n[11:19:11] WARNING: not removing hydrogen atom without neighbors\n[11:19:11] WARNING: not removing hydrogen atom without neighbors\n[11:19:11] WARNING: not removing hydrogen atom without neighbors\nRDKit WARNING: [11:19:11] WARNING: not removing hydrogen atom without neighbors\n[11:19:11] WARNING: not removing hydrogen atom without neighbors\nRDKit WARNING: [11:19:11] WARNING: not removing hydrogen atom without neighbors\nRDKit WARNING: [11:19:11] WARNING: not removing hydrogen atom without neighbors\n[11:19:11] WARNING: not removing hydrogen atom without neighbors\nRDKit WARNING: [11:19:11] WARNING: not removing hydrogen atom without neighbors\nRDKit WARNING: [11:19:11] WARNING: not removing hydrogen atom without neighbors\nRDKit WARNING: [11:19:11] WARNING: not removing hydrogen atom without neighbors\nRDKit WARNING: [11:19:11] WARNING: not removing hydrogen atom without neighbors\nRDKit WARNING: [11:19:11] WARNING: not removing hydrogen atom without neighbors\nRDKit WARNING: [11:19:11] WARNING: not removing hydrogen atom without neighbors\nRDKit WARNING: [11:19:11] WARNING: not removing hydrogen atom without neighbors\nRDKit WARNING: [11:19:11] WARNING: not removing hydrogen atom without neighbors\n[11:19:11] WARNING: not removing hydrogen atom without neighbors\n[11:19:11] WARNING: not removing hydrogen atom without neighbors\n[11:19:11] WARNING: not removing hydrogen atom without neighbors\n[11:19:11] WARNING: not removing hydrogen atom without neighbors\n[11:19:11] WARNING: not removing hydrogen atom without neighbors\n[11:19:11] WARNING: not removing hydrogen atom without neighbors\n[11:19:11] WARNING: not removing hydrogen atom without neighbors\n[11:19:11] WARNING: not removing hydrogen atom without neighbors\nRDKit WARNING: [11:19:11] WARNING: not removing hydrogen atom without neighbors\nRDKit WARNING: [11:19:11] WARNING: not removing hydrogen atom without neighbors\n[11:19:11] WARNING: not removing hydrogen atom without neighbors\n[11:19:11] WARNING: not removing hydrogen atom without neighbors\n[11:19:11] WARNING: not removing hydrogen atom without neighbors\nRDKit WARNING: [11:19:11] WARNING: not removing hydrogen atom without neighbors\n[11:19:11] WARNING: not removing hydrogen atom without neighbors\nRDKit WARNING: [11:19:11] WARNING: not removing hydrogen atom without neighbors\nRDKit WARNING: [11:19:11] WARNING: not removing hydrogen atom without neighbors\nRDKit WARNING: [11:19:11] WARNING: not removing hydrogen atom without neighbors\nRDKit WARNING: [11:19:11] WARNING: not removing hydrogen atom without neighbors\nRDKit WARNING: [11:19:11] WARNING: not removing hydrogen atom without neighbors\nRDKit WARNING: [11:19:11] WARNING: not removing hydrogen atom without neighbors\nRDKit WARNING: [11:19:11] WARNING: not removing hydrogen atom without neighbors\nRDKit WARNING: [11:19:11] WARNING: not removing hydrogen atom without neighbors\nRDKit WARNING: [11:19:11] WARNING: not removing hydrogen atom without neighbors\nRDKit WARNING: [11:19:11] WARNING: not removing hydrogen atom without neighbors\nRDKit WARNING: [11:19:11] WARNING: not removing hydrogen atom without neighbors\nRDKit WARNING: [11:19:11] WARNING: not removing hydrogen atom without neighbors\nRDKit WARNING: [11:19:11] WARNING: not removing hydrogen atom without neighbors\nRDKit WARNING: [11:19:11] WARNING: not removing hydrogen atom without neighbors\n[11:19:11] WARNING: not removing hydrogen atom without neighbors\n[11:19:11] WARNING: not removing hydrogen atom without neighbors\n[11:19:11] WARNING: not removing hydrogen atom without neighbors\n[11:19:11] WARNING: not removing hydrogen atom without neighbors\n[11:19:11] WARNING: not removing hydrogen atom without neighbors\n[11:19:11] WARNING: not removing hydrogen atom without neighbors\n[11:19:11] WARNING: not removing hydrogen atom without neighbors\n[11:19:11] WARNING: not removing hydrogen atom without neighbors\n[11:19:11] WARNING: not removing hydrogen atom without neighbors\n[11:19:11] WARNING: not removing hydrogen atom without neighbors\n[11:19:11] WARNING: not removing hydrogen atom without neighbors\n[11:19:11] WARNING: not removing hydrogen atom without neighbors\n[11:19:11] WARNING: not removing hydrogen atom without neighbors\nRDKit WARNING: [11:19:11] WARNING: not removing hydrogen atom without neighbors\nRDKit WARNING: [11:19:11] WARNING: not removing hydrogen atom without neighbors\nRDKit WARNING: [11:19:11] WARNING: not removing hydrogen atom without neighbors\nRDKit WARNING: [11:19:11] WARNING: not removing hydrogen atom without neighbors\nRDKit WARNING: [11:19:11] WARNING: not removing hydrogen atom without neighbors\nRDKit WARNING: [11:19:11] WARNING: not removing hydrogen atom without neighbors\nRDKit WARNING: [11:19:11] WARNING: not removing hydrogen atom without neighbors\nRDKit WARNING: [11:19:11] WARNING: not removing hydrogen atom without neighbors\nRDKit WARNING: [11:19:11] WARNING: not removing hydrogen atom without neighbors\nRDKit WARNING: [11:19:11] WARNING: not removing hydrogen atom without neighbors\nRDKit WARNING: [11:19:11] WARNING: not removing hydrogen atom without neighbors\nRDKit WARNING: [11:19:11] WARNING: not removing hydrogen atom without neighbors\nRDKit WARNING: [11:19:11] WARNING: not removing hydrogen atom without neighbors\n[11:19:11] WARNING: not removing hydrogen atom without neighbors\n[11:19:11] WARNING: not removing hydrogen atom without neighbors\n[11:19:11] WARNING: not removing hydrogen atom without neighbors\n[11:19:11] WARNING: not removing hydrogen atom without neighbors\n[11:19:11] WARNING: not removing hydrogen atom without neighbors\n[11:19:11] WARNING: not removing hydrogen atom without neighbors\n[11:19:11] WARNING: not removing hydrogen atom without neighbors\n[11:19:11] WARNING: not removing hydrogen atom without neighbors\n[11:19:11] WARNING: not removing hydrogen atom without neighbors\n[11:19:11] WARNING: not removing hydrogen atom without neighbors\n[11:19:11] WARNING: not removing hydrogen atom without neighbors\n[11:19:11] WARNING: not removing hydrogen atom without neighbors\n[11:19:11] WARNING: not removing hydrogen atom without neighbors\n[11:19:11] WARNING: not removing hydrogen atom without neighbors\nRDKit WARNING: [11:19:11] WARNING: not removing hydrogen atom without neighbors\n[11:19:11] WARNING: not removing hydrogen atom without neighbors\nRDKit WARNING: [11:19:11] WARNING: not removing hydrogen atom without neighbors\n[11:19:11] WARNING: not removing hydrogen atom without neighbors\nRDKit WARNING: [11:19:11] WARNING: not removing hydrogen atom without neighbors\nRDKit WARNING: [11:19:11] WARNING: not removing hydrogen atom without neighbors\nRDKit WARNING: [11:19:11] WARNING: not removing hydrogen atom without neighbors\nRDKit WARNING: [11:19:11] WARNING: not removing hydrogen atom without neighbors\n[11:19:11] WARNING: not removing hydrogen atom without neighbors\n[11:19:11] WARNING: not removing hydrogen atom without neighbors\n[11:19:11] WARNING: not removing hydrogen atom without neighbors\n[11:19:11] WARNING: not removing hydrogen atom without neighbors\nRDKit WARNING: [11:19:11] WARNING: not removing hydrogen atom without neighbors\n[11:19:11] WARNING: not removing hydrogen atom without neighbors\nRDKit WARNING: [11:19:11] WARNING: not removing hydrogen atom without neighbors\n[11:19:11] WARNING: not removing hydrogen atom without neighbors\nRDKit WARNING: [11:19:11] WARNING: not removing hydrogen atom without neighbors\nRDKit WARNING: [11:19:11] WARNING: not removing hydrogen atom without neighbors\nRDKit WARNING: [11:19:11] WARNING: not removing hydrogen atom without neighbors\nRDKit WARNING: [11:19:11] WARNING: not removing hydrogen atom without neighbors\n[11:19:11] WARNING: not removing hydrogen atom without neighbors\n[11:19:11] WARNING: not removing hydrogen atom without neighbors\n[11:19:11] WARNING: not removing hydrogen atom without neighbors\n[11:19:11] WARNING: not removing hydrogen atom without neighbors\nRDKit WARNING: [11:19:11] WARNING: not removing hydrogen atom without neighbors\nRDKit WARNING: [11:19:11] WARNING: not removing hydrogen atom without neighbors\n[11:19:11] WARNING: not removing hydrogen atom without neighbors\n[11:19:11] WARNING: not removing hydrogen atom without neighbors\nRDKit WARNING: [11:19:11] WARNING: not removing hydrogen atom without neighbors\nRDKit WARNING: [11:19:11] WARNING: not removing hydrogen atom without neighbors\nRDKit WARNING: [11:19:11] WARNING: not removing hydrogen atom without neighbors\nRDKit WARNING: [11:19:11] WARNING: not removing hydrogen atom without neighbors\nRDKit WARNING: [11:19:11] WARNING: not removing hydrogen atom without neighbors\nRDKit WARNING: [11:19:11] WARNING: not removing hydrogen atom without neighbors\nRDKit WARNING: [11:19:11] WARNING: not removing hydrogen atom without neighbors\n[11:19:11] WARNING: not removing hydrogen atom without neighbors\n[11:19:11] WARNING: not removing hydrogen atom without neighbors\n[11:19:11] WARNING: not removing hydrogen atom without neighbors\n[11:19:11] WARNING: not removing hydrogen atom without neighbors\n[11:19:11] WARNING: not removing hydrogen atom without neighbors\n[11:19:11] WARNING: not removing hydrogen atom without neighbors\n[11:19:11] WARNING: not removing hydrogen atom without neighbors\nRDKit WARNING: [11:19:11] WARNING: not removing hydrogen atom without neighbors\nRDKit WARNING: [11:19:11] WARNING: not removing hydrogen atom without neighbors\nRDKit WARNING: [11:19:11] WARNING: not removing hydrogen atom without neighbors\n[11:19:11] WARNING: not removing hydrogen atom without neighbors\n[11:19:11] WARNING: not removing hydrogen atom without neighbors\n[11:19:11] WARNING: not removing hydrogen atom without neighbors\nRDKit WARNING: [11:19:11] WARNING: not removing hydrogen atom without neighbors\nRDKit WARNING: [11:19:11] WARNING: not removing hydrogen atom without neighbors\nRDKit WARNING: [11:19:11] WARNING: not removing hydrogen atom without neighbors\nRDKit WARNING: [11:19:11] WARNING: not removing hydrogen atom without neighbors\nRDKit WARNING: [11:19:11] WARNING: not removing hydrogen atom without neighbors\nRDKit WARNING: [11:19:11] WARNING: not removing hydrogen atom without neighbors\nRDKit WARNING: [11:19:11] WARNING: not removing hydrogen atom without neighbors\n[11:19:11] WARNING: not removing hydrogen atom without neighbors\n[11:19:11] WARNING: not removing hydrogen atom without neighbors\n[11:19:11] WARNING: not removing hydrogen atom without neighbors\n[11:19:11] WARNING: not removing hydrogen atom without neighbors\n[11:19:11] WARNING: not removing hydrogen atom without neighbors\n[11:19:11] WARNING: not removing hydrogen atom without neighbors\n[11:19:11] WARNING: not removing hydrogen atom without neighbors\nRDKit WARNING: [11:19:11] WARNING: not removing hydrogen atom without neighbors\nRDKit WARNING: [11:19:11] WARNING: not removing hydrogen atom without neighbors\nRDKit WARNING: [11:19:11] WARNING: not removing hydrogen atom without neighbors\nRDKit WARNING: [11:19:11] WARNING: not removing hydrogen atom without neighbors\nRDKit WARNING: [11:19:11] WARNING: not removing hydrogen atom without neighbors\nRDKit WARNING: [11:19:11] WARNING: not removing hydrogen atom without neighbors\nRDKit WARNING: [11:19:11] WARNING: not removing hydrogen atom without neighbors\nRDKit WARNING: [11:19:11] WARNING: not removing hydrogen atom without neighbors\nRDKit WARNING: [11:19:11] WARNING: not removing hydrogen atom without neighbors\nRDKit WARNING: [11:19:11] WARNING: not removing hydrogen atom without neighbors\nRDKit WARNING: [11:19:11] WARNING: not removing hydrogen atom without neighbors\n[11:19:11] WARNING: not removing hydrogen atom without neighbors\n[11:19:11] WARNING: not removing hydrogen atom without neighbors\n[11:19:11] WARNING: not removing hydrogen atom without neighbors\n[11:19:11] WARNING: not removing hydrogen atom without neighbors\n[11:19:11] WARNING: not removing hydrogen atom without neighbors\n[11:19:11] WARNING: not removing hydrogen atom without neighbors\n[11:19:11] WARNING: not removing hydrogen atom without neighbors\n[11:19:11] WARNING: not removing hydrogen atom without neighbors\n[11:19:11] WARNING: not removing hydrogen atom without neighbors\n[11:19:11] WARNING: not removing hydrogen atom without neighbors\n[11:19:11] WARNING: not removing hydrogen atom without neighbors\nRDKit WARNING: [11:19:11] WARNING: not removing hydrogen atom without neighbors\n[11:19:11] WARNING: not removing hydrogen atom without neighbors\nRDKit WARNING: [11:19:11] WARNING: not removing hydrogen atom without neighbors\n[11:19:11] WARNING: not removing hydrogen atom without neighbors\nRDKit WARNING: [11:19:11] WARNING: not removing hydrogen atom without neighbors\n[11:19:11] WARNING: not removing hydrogen atom without neighbors\nRDKit WARNING: [11:19:11] WARNING: not removing hydrogen atom without neighbors\nRDKit WARNING: [11:19:11] WARNING: not removing hydrogen atom without neighbors\nRDKit WARNING: [11:19:11] WARNING: not removing hydrogen atom without neighbors\nRDKit WARNING: [11:19:11] WARNING: not removing hydrogen atom without neighbors\nRDKit WARNING: [11:19:11] WARNING: not removing hydrogen atom without neighbors\n[11:19:11] WARNING: not removing hydrogen atom without neighbors\n[11:19:11] WARNING: not removing hydrogen atom without neighbors\n[11:19:11] WARNING: not removing hydrogen atom without neighbors\n[11:19:11] WARNING: not removing hydrogen atom without neighbors\n[11:19:11] WARNING: not removing hydrogen atom without neighbors\nRDKit WARNING: [11:19:11] WARNING: not removing hydrogen atom without neighbors\n[11:19:11] WARNING: not removing hydrogen atom without neighbors\nRDKit WARNING: [11:19:11] WARNING: not removing hydrogen atom without neighbors\n[11:19:11] WARNING: not removing hydrogen atom without neighbors\nRDKit WARNING: [11:19:11] WARNING: not removing hydrogen atom without neighbors\n[11:19:11] WARNING: not removing hydrogen atom without neighbors\nRDKit WARNING: [11:19:11] WARNING: not removing hydrogen atom without neighbors\n[11:19:11] WARNING: not removing hydrogen atom without neighbors\nRDKit WARNING: [11:19:11] WARNING: not removing hydrogen atom without neighbors\n[11:19:11] WARNING: not removing hydrogen atom without neighbors\nRDKit WARNING: [11:19:11] WARNING: not removing hydrogen atom without neighbors\n[11:19:11] WARNING: not removing hydrogen atom without neighbors\nRDKit WARNING: [11:19:11] WARNING: not removing hydrogen atom without neighbors\n[11:19:11] WARNING: not removing hydrogen atom without neighbors\nRDKit WARNING: [11:19:11] WARNING: not removing hydrogen atom without neighbors\nRDKit WARNING: [11:19:11] WARNING: not removing hydrogen atom without neighbors\nRDKit WARNING: [11:19:11] WARNING: not removing hydrogen atom without neighbors\nRDKit WARNING: [11:19:11] WARNING: not removing hydrogen atom without neighbors\n[11:19:11] WARNING: not removing hydrogen atom without neighbors\n[11:19:11] WARNING: not removing hydrogen atom without neighbors\n[11:19:11] WARNING: not removing hydrogen atom without neighbors\n[11:19:11] WARNING: not removing hydrogen atom without neighbors\nRDKit WARNING: [11:19:11] WARNING: not removing hydrogen atom without neighbors\n[11:19:11] WARNING: not removing hydrogen atom without neighbors\nRDKit WARNING: [11:19:11] WARNING: not removing hydrogen atom without neighbors\nRDKit WARNING: [11:19:11] WARNING: not removing hydrogen atom without neighbors\nRDKit WARNING: [11:19:11] WARNING: not removing hydrogen atom without neighbors\nRDKit WARNING: [11:19:11] WARNING: not removing hydrogen atom without neighbors\nRDKit WARNING: [11:19:11] WARNING: not removing hydrogen atom without neighbors\n[11:19:11] WARNING: not removing hydrogen atom without neighbors\n[11:19:11] WARNING: not removing hydrogen atom without neighbors\n[11:19:11] WARNING: not removing hydrogen atom without neighbors\n[11:19:11] WARNING: not removing hydrogen atom without neighbors\n[11:19:11] WARNING: not removing hydrogen atom without neighbors\nRDKit WARNING: [11:19:11] WARNING: not removing hydrogen atom without neighbors\nRDKit WARNING: [11:19:11] WARNING: not removing hydrogen atom without neighbors\nRDKit WARNING: [11:19:11] WARNING: not removing hydrogen atom without neighbors\nRDKit WARNING: [11:19:11] WARNING: not removing hydrogen atom without neighbors\nRDKit WARNING: [11:19:11] WARNING: not removing hydrogen atom without neighbors\nRDKit WARNING: [11:19:11] WARNING: not removing hydrogen atom without neighbors\nRDKit WARNING: [11:19:11] WARNING: not removing hydrogen atom without neighbors\nRDKit WARNING: [11:19:11] WARNING: not removing hydrogen atom without neighbors\nRDKit WARNING: [11:19:11] WARNING: not removing hydrogen atom without neighbors\n[11:19:11] WARNING: not removing hydrogen atom without neighbors\n[11:19:11] WARNING: not removing hydrogen atom without neighbors\n[11:19:11] WARNING: not removing hydrogen atom without neighbors\n[11:19:11] WARNING: not removing hydrogen atom without neighbors\n[11:19:11] WARNING: not removing hydrogen atom without neighbors\n[11:19:11] WARNING: not removing hydrogen atom without neighbors\n[11:19:11] WARNING: not removing hydrogen atom without neighbors\n[11:19:11] WARNING: not removing hydrogen atom without neighbors\nRDKit WARNING: [11:19:11] WARNING: not removing hydrogen atom without neighbors\n[11:19:11] WARNING: not removing hydrogen atom without neighbors\n[11:19:11] WARNING: not removing hydrogen atom without neighbors\nRDKit WARNING: [11:19:11] WARNING: not removing hydrogen atom without neighbors\n[11:19:11] WARNING: not removing hydrogen atom without neighbors\nRDKit WARNING: [11:19:11] WARNING: not removing hydrogen atom without neighbors\n[11:19:11] WARNING: not removing hydrogen atom without neighbors\nRDKit WARNING: [11:19:11] WARNING: not removing hydrogen atom without neighbors\nRDKit WARNING: [11:19:11] WARNING: not removing hydrogen atom without neighbors\nRDKit WARNING: [11:19:11] WARNING: not removing hydrogen atom without neighbors\nRDKit WARNING: [11:19:11] WARNING: not removing hydrogen atom without neighbors\nRDKit WARNING: [11:19:11] WARNING: not removing hydrogen atom without neighbors\nRDKit WARNING: [11:19:11] WARNING: not removing hydrogen atom without neighbors\nRDKit WARNING: [11:19:11] WARNING: not removing hydrogen atom without neighbors\nRDKit WARNING: [11:19:11] WARNING: not removing hydrogen atom without neighbors\nRDKit WARNING: [11:19:11] WARNING: not removing hydrogen atom without neighbors\nRDKit WARNING: [11:19:11] WARNING: not removing hydrogen atom without neighbors\nRDKit WARNING: [11:19:11] WARNING: not removing hydrogen atom without neighbors\nRDKit WARNING: [11:19:11] WARNING: not removing hydrogen atom without neighbors\nRDKit WARNING: [11:19:11] WARNING: not removing hydrogen atom without neighbors\nRDKit WARNING: [11:19:11] WARNING: not removing hydrogen atom without neighbors\nRDKit WARNING: [11:19:11] WARNING: not removing hydrogen atom without neighbors\nRDKit WARNING: [11:19:11] WARNING: not removing hydrogen atom without neighbors\nRDKit WARNING: [11:19:11] WARNING: not removing hydrogen atom without neighbors\nRDKit WARNING: [11:19:11] WARNING: not removing hydrogen atom without neighbors\nRDKit WARNING: [11:19:11] WARNING: not removing hydrogen atom without neighbors\nRDKit WARNING: [11:19:11] WARNING: not removing hydrogen atom without neighbors\nRDKit WARNING: [11:19:11] WARNING: not removing hydrogen atom without neighbors\nRDKit WARNING: [11:19:11] WARNING: not removing hydrogen atom without neighbors\nRDKit WARNING: [11:19:11] WARNING: not removing hydrogen atom without neighbors\n[11:19:11] WARNING: not removing hydrogen atom without neighbors\n[11:19:11] WARNING: not removing hydrogen atom without neighbors\n[11:19:11] WARNING: not removing hydrogen atom without neighbors\n[11:19:11] WARNING: not removing hydrogen atom without neighbors\n[11:19:11] WARNING: not removing hydrogen atom without neighbors\n[11:19:11] WARNING: not removing hydrogen atom without neighbors\n[11:19:11] WARNING: not removing hydrogen atom without neighbors\n[11:19:11] WARNING: not removing hydrogen atom without neighbors\n[11:19:11] WARNING: not removing hydrogen atom without neighbors\n[11:19:11] WARNING: not removing hydrogen atom without neighbors\n[11:19:11] WARNING: not removing hydrogen atom without neighbors\n[11:19:11] WARNING: not removing hydrogen atom without neighbors\n[11:19:11] WARNING: not removing hydrogen atom without neighbors\n[11:19:11] WARNING: not removing hydrogen atom without neighbors\n[11:19:11] WARNING: not removing hydrogen atom without neighbors\n[11:19:11] WARNING: not rRDKit WARNING: [11:19:11] WARNING: not removing hydrogen atom without neighbors\nRDKit WARNING: [11:19:11] WARNING: not removing hydrogen atom without neighbors\nRDKit WARNING: [11:19:11] WARNING: not removing hydrogen atom without neighbors\nemoving hydrogen atom without neighbors\n[11:19:11] WARNING: not removing hydrogen atom without neighbors\n[11:19:11] WARNING: not removing hydrogen atom without neighbors\n[11:19:11] WARNING: not removing hydrogen atom without neighbors\n[11:19:11] WARNING: not removing hydrogen atom without neighbors\n[11:19:11] WARNING: not removing hydrogen atom without neighbors\n[11:19:11] WARNING: not removing hydrogen atom without neighbors\n[11:19:11] WARNING: not removing hydrogen atom without neighbors\n[11:19:11] WARNING: not removing hydrogen atom without neighbors\n[11:19:11] WARNING: not removing hydrogen atom without neighbors\n[11:19:11] WARNING: not removing hydrogen atom without neighbors\nRDKit WARNING: [11:19:11] WARNING: not removing hydrogen atom without neighbors\n[11:19:11] WARNING: not removing hydrogen atom without neighbors\nRDKit WARNING: [11:19:11] WARNING: not removing hydrogen atom without neighbors\n[11:19:11] WARNING: not removing hydrogen atom without neighbors\nRDKit WARNING: [11:19:11] WARNING: not removing hydrogen atom without neighbors\nRDKit WARNING: [11:19:11] WARNING: not removing hydrogen atom without neighbors\nRDKit WARNING: [11:19:11] WARNING: not removing hydrogen atom without neighbors\nRDKit WARNING: [11:19:11] WARNING: not removing hydrogen atom without neighbors\nRDKit WARNING: [11:19:11] WARNING: not removing hydrogen atom without neighbors\nRDKit WARNING: [11:19:11] WARNING: not removing hydrogen atom without neighbors\nRDKit WARNING: [11:19:11] WARNING: not removing hydrogen atom without neighbors\nRDKit WARNING: [11:19:11] WARNING: not removing hydrogen atom without neighbors\nRDKit WARNING: [11:19:11] WARNING: not removing hydrogen atom without neighbors\nRDKit WARNING: [11:19:11] WARNING: not removing hydrogen atom without neighbors\nRDKit WARNING: [11:19:11] WARNING: not removing hydrogen atom without neighbors\nRDKit WARNING: [11:19:11] WARNING: not removing hydrogen atom without neighbors\nRDKit WARNING: [11:19:11] WARNING: not removing hydrogen atom without neighbors\n[11:19:11] WARNING: not removing hydrogen atom without neighbors\n[11:19:11] WARNING: not removing hydrogen atom without neighbors\n[11:19:11] WARNING: not removing hydrogen atom without neighbors\n[11:19:11] WARNING: not removing hydrogen atom without neighbors\n[11:19:11] WARNING: not removing hydrogen atom without neighbors\n[11:19:11] WARNING: not removing hydrogen atom without neighbors\n[11:19:11] WARNING: not removing hydrogen atom without neighbors\n[11:19:11] WARNING: not removing hydrogen atom without neighbors\n[11:19:11] WARNING: not removing hydrogen atom without neighbors\n[11:19:11] WARNING: not removing hydrogen atom without neighbors\n[11:19:11] WARNING: not removing hydrogen atom without neighbors\n[11:19:11] WARNING: not removing hydrogen atom without neighbors\n[11:19:11] WARNING: not removing hydrogen atom without neighbors\nRDKit WARNING: [11:19:11] WARNING: not removing hydrogen atom without neighbors\n[11:19:11] WARNING: not removing hydrogen atom without neighbors\nRDKit WARNING: [11:19:11] WARNING: not removing hydrogen atom without neighbors\n[11:19:11] WARNING: not removing hydrogen atom without neighbors\nRDKit WARNING: [11:19:11] WARNING: not removing hydrogen atom without neighbors\nRDKit WARNING: [11:19:11] WARNING: not removing hydrogen atom without neighbors\nRDKit WARNING: [11:19:11] WARNING: not removing hydrogen atom without neighbors\nRDKit WARNING: [11:19:11] WARNING: not removing hydrogen atom without neighbors\nRDKit WARNING: [11:19:11] WARNING: not removing hydrogen atom without neighbors\nRDKit WARNING: [11:19:11] WARNING: not removing hydrogen atom without neighbors\n[11:19:11] WARNING: not removing hydrogen atom without neighbors\n[11:19:11] WARNING: not removing hydrogen atom without neighbors\n[11:19:11] WARNING: not removing hydrogen atom without neighbors\n[11:19:11] WARNING: not removing hydrogen atom without neighbors\n[11:19:11] WARNING: not removing hydrogen atom without neighbors\n[11:19:11] WARNING: not removing hydrogen atom without neighbors\nRDKit WARNING: [11:19:11] WARNING: not removing hydrogen atom without neighbors\nRDKit WARNING: [11:19:11] WARNING: not removing hydrogen atom without neighbors\nRDKit WARNING: [11:19:11] WARNING: not removing hydrogen atom without neighbors\n[11:19:11] WARNING: not removing hydrogen atom without neighbors\n[11:19:11] WARNING: not removing hydrogen atom without neighbors\nRDKit WARNING: [11:19:11] WARNING: not removing hydrogen atom without neighbors\nRDKit WARNING: [11:19:11] WARNING: not removing hydrogen atom without neighbors\nRDKit WARNING: [11:19:11] WARNING: not removing hydrogen atom without neighbors\nRDKit WARNING: [11:19:11] WARNING: not removing hydrogen atom without neighbors\nRDKit WARNING: [11:19:11] WARNING: not removing hydrogen atom without neighbors\n[11:19:11] WARNING: not removing hydrogen atom without neighbors\n[11:19:11] WARNING: not removing hydrogen atom without neighbors\n[11:19:11] WARNING: not removing hydrogen atom without neighbors\n[11:19:11] WARNING: not removing hydrogen atom without neighbors\n[11:19:11] WARNING: not removing hydrogen atom without neighbors\n[11:19:11] WARNING: not removing hydrogen atom without neighbors\nRDKit WARNING: [11:19:11] WARNING: not removing hydrogen atom without neighbors\nRDKit WARNING: [11:19:11] WARNING: not removing hydrogen atom without neighbors\n[11:19:11] WARNING: not removing hydrogen atom without neighbors\n[11:19:11] WARNING: not removing hydrogen atom without neighbors\nRDKit WARNING: [11:19:11] WARNING: not removing hydrogen atom without neighbors\nRDKit WARNING: [11:19:11] WARNING: not removing hydrogen atom without neighbors\nRDKit WARNING: [11:19:11] WARNING: not removing hydrogen atom without neighbors\nRDKit WARNING: [11:19:11] WARNING: not removing hydrogen atom without neighbors\n[11:19:11] WARNING: not removing hydrogen atom without neighbors\n[11:19:11] WARNING: not removing hydrogen atom without neighbors\n[11:19:11] WARNING: not removing hydrogen atom without neighbors\n[11:19:11] WARNING: not removing hydrogen atom without neighbors\nRDKit WARNING: [11:19:11] WARNING: not removing hydrogen atom without neighbors\nRDKit WARNING: [11:19:11] WARNING: not removing hydrogen atom without neighbors\nRDKit WARNING: [11:19:11] WARNING: not removing hydrogen atom without neighbors\n[11:19:11] WARNING: not removing hydrogen atom without neighbors\n[11:19:11] WARNING: not removing hydrogen atom without neighbors\n[11:19:11] WARNING: not removing hydrogen atom without neighbors\nRDKit WARNING: [11:19:11] WARNING: not removing hydrogen atom without neighbors\nRDKit WARNING: [11:19:11] WARNING: not removing hydrogen atom without neighbors\nRDKit WARNING: [11:19:11] WARNING: not removing hydrogen atom without neighbors\nRDKit WARNING: [11:19:11] WARNING: not removing hydrogen atom without neighbors\nRDKit WARNING: [11:19:11] WARNING: not removing hydrogen atom without neighbors\nRDKit WARNING: [11:19:11] WARNING: not removing hydrogen atom without neighbors\nRDKit WARNING: [11:19:11] WARNING: not removing hydrogen atom without neighbors\n[11:19:11] WARNING: not removing hydrogen atom without neighbors\n[11:19:11] WARNING: not removing hydrogen atom without neighbors\n[11:19:11] WARNING: not removing hydrogen atom without neighbors\n[11:19:11] WARNING: not removing hydrogen atom without neighbors\n[11:19:11] WARNING: not removing hydrogen atom without neighbors\n[11:19:11] WARNING: not removing hydrogen atom without neighbors\n[11:19:11] WARNING: not removing hydrogen atom without neighbors\nRDKit WARNING: [11:19:11] WARNING: not removing hydrogen atom without neighbors\nRDKit WARNING: [11:19:11] WARNING: not removing hydrogen atom without neighbors\nRDKit WARNING: [11:19:11] WARNING: not removing hydrogen atom without neighbors\nRDKit WARNING: [11:19:11] WARNING: not removing hydrogen atom without neighbors\nRDKit WARNING: [11:19:11] WARNING: not removing hydrogen atom without neighbors\nRDKit WARNING: [11:19:11] WARNING: not removing hydrogen atom without neighbors\nRDKit WARNING: [11:19:11] WARNING: not removing hydrogen atom without neighbors\nRDKit WARNING: [11:19:11] WARNING: not removing hydrogen atom without neighbors\nRDKit WARNING: [11:19:11] WARNING: not removing hydrogen atom without neighbors\nRDKit WARNING: [11:19:11] WARNING: not removing hydrogen atom without neighbors\nRDKit WARNING: [11:19:11] WARNING: not removing hydrogen atom without neighbors\nRDKit WARNING: [11:19:11] WARNING: not removing hydrogen atom without neighbors\nRDKit WARNING: [11:19:11] WARNING: not removing hydrogen atom without neighbors\nRDKit WARNING: [11:19:11] WARNING: not removing hydrogen atom without neighbors\nRDKit WARNING: [11:19:11] WARNING: not removing hydrogen atom without neighbors\nRDKit WARNING: [11:19:11] WARNING: not removing hydrogen atom without neighbors\nRDKit WARNING: [11:19:11] WARNING: not removing hydrogen atom without neighbors\nRDKit WARNING: [11:19:11] WARNING: not removing hydrogen atom without neighbors\n[11:19:11] WARNING: not removing hydrogen atom without neighbors\n[11:19:11] WARNING: not removing hydrogen atom without neighbors\n[11:19:11] WARNING: not removing hydrogen atom without neighbors\n[11:19:11] WARNING: not removing hydrogen atom without neighbors\n[11:19:11] WARNING: not removing hydrogen atom without neighbors\n[11:19:11] WARNING: not removing hydrogen atom without neighbors\n[11:19:11] WARNING: not removing hydrogen atom without neighbors\n[11:19:11] WARNING: not removing hydrogen atom without neighbors\n[11:19:11] WARNING: not removing hydrogen atom without neighbors\n[11:19:11] WARNING: not removing hydrogen atom without neighbors\n[11:19:11] WARNING: not removing hydrogen atom without neighbors\n[11:19:11] WARNING: not removing hydrogen atom without neighbors\n[11:19:11] WARNING: not removing hydrogen atom without neighbors\n[11:19:11] WARNING: not removing hydrogen atom without neighbors\n[11:19:11] WARNING: not removing hydrogen atom without neighbors\n[11:19:11] WARNING: not rRDKit WARNING: [11:19:11] WARNING: not removing hydrogen atom without neighbors\nRDKit WARNING: [11:19:11] WARNING: not removing hydrogen atom without neighbors\nemoving hydrogen atom without neighbors\n[11:19:11] WARNING: not removing hydrogen atom without neighbors\n[11:19:11] WARNING: not removing hydrogen atom without neighbors\n[11:19:11] WARNING: not removing hydrogen atom without neighbors\n[11:19:11] WARNING: not removing hydrogen atom without neighbors\nRDKit WARNING: [11:19:11] WARNING: not removing hydrogen atom without neighbors\n[11:19:11] WARNING: not removing hydrogen atom without neighbors\nRDKit WARNING: [11:19:11] WARNING: not removing hydrogen atom without neighbors\n[11:19:11] WARNING: not removing hydrogen atom without neighbors\nRDKit WARNING: [11:19:11] WARNING: not removing hydrogen atom without neighbors\n[11:19:11] WARNING: not removing hydrogen atom without neighbors\nRDKit WARNING: [11:19:11] WARNING: not removing hydrogen atom without neighbors\n[11:19:11] WARNING: not removing hydrogen atom without neighbors\nRDKit WARNING: [11:19:11] WARNING: not removing hydrogen atom without neighbors\n[11:19:11] WARNING: not removing hydrogen atom without neighbors\nRDKit WARNING: [11:19:11] WARNING: not removing hydrogen atom without neighbors\n[11:19:11] WARNING: not removing hydrogen atom without neighbors\nRDKit WARNING: [11:19:11] WARNING: not removing hydrogen atom without neighbors\nRDKit WARNING: [11:19:11] WARNING: not removing hydrogen atom without neighbors\n[11:19:11] WARNING: not removing hydrogen atom without neighbors\n[11:19:11] WARNING: not removing hydrogen atom without neighbors\nRDKit WARNING: [11:19:11] WARNING: not removing hydrogen atom without neighbors\n[11:19:11] WARNING: not removing hydrogen atom without neighbors\nRDKit WARNING: [11:19:11] WARNING: not removing hydrogen atom without neighbors\n[11:19:11] WARNING: not removing hydrogen atom without neighbors\nRDKit WARNING: [11:19:11] WARNING: not removing hydrogen atom without neighbors\nRDKit WARNING: [11:19:11] WARNING: not removing hydrogen atom without neighbors\n[11:19:11] WARNING: not removing hydrogen atom without neighbors\n[11:19:11] WARNING: not removing hydrogen atom without neighbors\nRDKit WARNING: [11:19:11] WARNING: not removing hydrogen atom without neighbors\nRDKit WARNING: [11:19:11] WARNING: not removing hydrogen atom without neighbors\n[11:19:11] WARNING: not removing hydrogen atom without neighbors\nRDKit WARNING: [11:19:11] WARNING: not removing hydrogen atom without neighbors\n[11:19:11] WARNING: not removing hydrogen atom without neighbors\nRDKit WARNING: [11:19:11] WARNING: not removing hydrogen atom without neighbors\n[11:19:11] WARNING: not removing hydrogen atom without neighbors\n[11:19:11] WARNING: not removing hydrogen atom without neighbors\nRDKit WARNING: [11:19:11] WARNING: not removing hydrogen atom without neighbors\nRDKit WARNING: [11:19:11] WARNING: not removing hydrogen atom without neighbors\nRDKit WARNING: [11:19:11] WARNING: not removing hydrogen atom without neighbors\nRDKit WARNING: [11:19:11] WARNING: not removing hydrogen atom without neighbors\nRDKit WARNING: [11:19:11] WARNING: not removing hydrogen atom without neighbors\nRDKit WARNING: [11:19:11] WARNING: not removing hydrogen atom without neighbors\nRDKit WARNING: [11:19:11] WARNING: not removing hydrogen atom without neighbors\nRDKit WARNING: [11:19:12] WARNING: not removing hydrogen atom without neighbors\n[11:19:11] WARNING: not removing hydrogen atom without neighbors\n[11:19:11] WARNING: not removing hydrogen atom without neighbors\n[11:19:11] WARNING: not removing hydrogen atom without neighbors\nRDKit WARNING: [11:19:12] WARNING: not removing hydrogen atom without neighbors\n[11:19:11] WARNING: not removing hydrogen atom without neighbors\n[11:19:11] WARNING: not removing hydrogen atom without neighbors\n[11:19:11] WARNING: not removing hydrogen atom without neighbors\n[11:19:11] WARNING: not removing hydrogen atom without neighbors\n[11:19:12] WARNING: not removing hydrogen atom without neighbors\n[11:19:12] WARNING: not removing hydrogen atom without neighbors\nRDKit WARNING: [11:19:12] WARNING: not removing hydrogen atom without neighbors\nRDKit WARNING: [11:19:12] WARNING: not removing hydrogen atom without neighbors\n[11:19:12] WARNING: not removing hydrogen atom without neighbors\n[11:19:12] WARNING: not removing hydrogen atom without neighbors\nRDKit WARNING: [11:19:12] WARNING: not removing hydrogen atom without neighbors\nRDKit WARNING: [11:19:12] WARNING: not removing hydrogen atom without neighbors\nRDKit WARNING: [11:19:12] WARNING: not removing hydrogen atom without neighbors\nRDKit WARNING: [11:19:12] WARNING: not removing hydrogen atom without neighbors\n[11:19:12] WARNING: not removing hydrogen atom without neighbors\n[11:19:12] WARNING: not removing hydrogen atom without neighbors\n[11:19:12] WARNING: not removing hydrogen atom without neighbors\n[11:19:12] WARNING: not removing hydrogen atom without neighbors\nRDKit WARNING: [11:19:12] WARNING: not removing hydrogen atom without neighbors\n[11:19:12] WARNING: not removing hydrogen atom without neighbors\nRDKit WARNING: [11:19:12] WARNING: not removing hydrogen atom without neighbors\n[11:19:12] WARNING: not removing hydrogen atom without neighbors\nRDKit WARNING: [11:19:12] WARNING: not removing hydrogen atom without neighbors\n[11:19:12] WARNING: not removing hydrogen atom without neighbors\nRDKit WARNING: [11:19:12] WARNING: not removing hydrogen atom without neighbors\nRDKit WARNING: [11:19:12] WARNING: not removing hydrogen atom without neighbors\n[11:19:12] WARNING: not removing hydrogen atom without neighbors\n[11:19:12] WARNING: not removing hydrogen atom without neighbors\nRDKit WARNING: [11:19:12] WARNING: not removing hydrogen atom without neighbors\n[11:19:12] WARNING: not removing hydrogen atom without neighbors\nRDKit WARNING: [11:19:12] WARNING: not removing hydrogen atom without neighbors\nRDKit WARNING: [11:19:12] WARNING: not removing hydrogen atom without neighbors\n[11:19:12] WARNING: not removing hydrogen atom without neighbors\n[11:19:12] WARNING: not removing hydrogen atom without neighbors\nRDKit WARNING: [11:19:12] WARNING: not removing hydrogen atom without neighbors\n[11:19:12] WARNING: not removing hydrogen atom without neighbors\nRDKit WARNING: [11:19:12] WARNING: not removing hydrogen atom without neighbors\nRDKit WARNING: [11:19:12] WARNING: not removing hydrogen atom without neighbors\n[11:19:12] WARNING: not removing hydrogen atom without neighbors\nRDKit WARNING: [11:19:12] WARNING: not removing hydrogen atom without neighbors\n[11:19:12] WARNING: not removing hydrogen atom without neighbors\n[11:19:12] WARNING: not removing hydrogen atom without neighbors\nRDKit WARNING: [11:19:12] WARNING: not removing hydrogen atom without neighbors\n[11:19:12] WARNING: not removing hydrogen atom without neighbors\nRDKit WARNING: [11:19:12] WARNING: not removing hydrogen atom without neighbors\n[11:19:12] WARNING: not removing hydrogen atom without neighbors\nRDKit WARNING: [11:19:12] WARNING: not removing hydrogen atom without neighbors\n[11:19:12] WARNING: not removing hydrogen atom without neighbors\nRDKit WARNING: [11:19:12] WARNING: not removing hydrogen atom without neighbors\n[11:19:12] WARNING: not removing hydrogen atom without neighbors\nRDKit WARNING: [11:19:12] WARNING: not removing hydrogen atom without neighbors\n[11:19:12] WARNING: not removing hydrogen atom without neighbors\nRDKit WARNING: [11:19:12] WARNING: not removing hydrogen atom without neighbors\n[11:19:12] WARNING: not removing hydrogen atom without neighbors\nRDKit WARNING: [11:19:12] WARNING: not removing hydrogen atom without neighbors\nRDKit WARNING: [11:19:12] WARNING: not removing hydrogen atom without neighbors\n[11:19:12] WARNING: not removing hydrogen atom without neighbors\n[11:19:12] WARNING: not removing hydrogen atom without neighbors\nRDKit WARNING: [11:19:12] WARNING: not removing hydrogen atom without neighbors\n[11:19:12] WARNING: not removing hydrogen atom without neighbors\nRDKit WARNING: [11:19:12] WARNING: not removing hydrogen atom without neighbors\n[11:19:12] WARNING: not removing hydrogen atom without neighbors\nRDKit WARNING: [11:19:12] WARNING: not removing hydrogen atom without neighbors\n[11:19:12] WARNING: not removing hydrogen atom without neighbors\nRDKit WARNING: [11:19:12] WARNING: not removing hydrogen atom without neighbors\nRDKit WARNING: [11:19:12] WARNING: not removing hydrogen atom without neighbors\nRDKit WARNING: [11:19:12] WARNING: not removing hydrogen atom without neighbors\nRDKit WARNING: [11:19:12] WARNING: not removing hydrogen atom without neighbors\nRDKit WARNING: [11:19:12] WARNING: not removing hydrogen atom without neighbors\nRDKit WARNING: [11:19:12] WARNING: not removing hydrogen atom without neighbors\nRDKit WARNING: [11:19:12] WARNING: not removing hydrogen atom without neighbors\n[11:19:12] WARNING: not removing hydrogen atom without neighbors\n[11:19:12] WARNING: not removing hydrogen atom without neighbors\nRDKit WARNING: [11:19:12] WARNING: not removing hydrogen atom without neighbors\n[11:19:12] WARNING: not removing hydrogen atom without neighbors\n[11:19:12] WARNING: not removing hydrogen atom without neighbors\n[11:19:12] WARNING: not removing hydrogen atom without neighbors\n[11:19:12] WARNING: not removing hydrogen atom without neighbors\n[11:19:12] WARNING: not removing hydrogen atom without neighbors\n[11:19:12] WARNING: not removing hydrogen atom without neighbors\nRDKit WARNING: [11:19:12] WARNING: not removing hydrogen atom without neighbors\n[11:19:12] WARNING: not removing hydrogen atom without neighbors\nRDKit WARNING: [11:19:12] WARNING: not removing hydrogen atom without neighbors\n[11:19:12] WARNING: not removing hydrogen atom without neighbors\nRDKit WARNING: [11:19:12] WARNING: not removing hydrogen atom without neighbors\n[11:19:12] WARNING: not removing hydrogen atom without neighbors\nRDKit WARNING: [11:19:12] WARNING: not removing hydrogen atom without neighbors\n[11:19:12] WARNING: not removing hydrogen atom without neighbors\nRDKit WARNING: [11:19:12] WARNING: not removing hydrogen atom without neighbors\n[11:19:12] WARNING: not removing hydrogen atom without neighbors\nRDKit WARNING: [11:19:12] WARNING: not removing hydrogen atom without neighbors\n[11:19:12] WARNING: not removing hydrogen atom without neighbors\nRDKit WARNING: [11:19:12] WARNING: not removing hydrogen atom without neighbors\n[11:19:12] WARNING: not removing hydrogen atom without neighbors\nRDKit WARNING: [11:19:12] WARNING: not removing hydrogen atom without neighbors\nRDKit WARNING: [11:19:12] WARNING: not removing hydrogen atom without neighbors\n[11:19:12] WARNING: not removing hydrogen atom without neighbors\nRDKit WARNING: [11:19:12] WARNING: not removing hydrogen atom without neighbors\nRDKit WARNING: [11:19:12] WARNING: not removing hydrogen atom without neighbors\nRDKit WARNING: [11:19:12] WARNING: not removing hydrogen atom without neighbors\nRDKit WARNING: [11:19:12] WARNING: not removing hydrogen atom without neighbors\n[11:19:12] WARNING: not removing hydrogen atom without neighbors\n[11:19:12] WARNING: not removing hydrogen atom without neighbors\n[11:19:12] WARNING: not removing hydrogen atom without neighbors\n[11:19:12] WARNING: not removing hydrogen atom without neighbors\nRDKit WARNING: [11:19:12] WARNING: not removing hydrogen atom without neighbors\n[11:19:12] WARNING: not removing hydrogen atom without neighbors\n[11:19:12] WARNING: not removing hydrogen atom without neighbors\nRDKit WARNING: [11:19:12] WARNING: not removing hydrogen atom without neighbors\n[11:19:12] WARNING: not removing hydrogen atom without neighbors\nRDKit WARNING: [11:19:12] WARNING: not removing hydrogen atom without neighbors\n[11:19:12] WARNING: not removing hydrogen atom without neighbors\nRDKit WARNING: [11:19:12] WARNING: not removing hydrogen atom without neighbors\n[11:19:12] WARNING: not removing hydrogen atom without neighbors\nRDKit WARNING: [11:19:12] WARNING: not removing hydrogen atom without neighbors\n[11:19:12] WARNING: not removing hydrogen atom without neighbors\nRDKit WARNING: [11:19:12] WARNING: not removing hydrogen atom without neighbors\n[11:19:12] WARNING: not removing hydrogen atom without neighbors\nRDKit WARNING: [11:19:12] WARNING: not removing hydrogen atom without neighbors\nRDKit WARNING: [11:19:12] WARNING: not removing hydrogen atom without neighbors\n[11:19:12] WARNING: not removing hydrogen atom without neighbors\n[11:19:12] WARNING: not removing hydrogen atom without neighbors\nRDKit WARNING: [11:19:12] WARNING: not removing hydrogen atom without neighbors\n[11:19:12] WARNING: not removing hydrogen atom without neighbors\nRDKit WARNING: [11:19:12] WARNING: not removing hydrogen atom without neighbors\n[11:19:12] WARNING: not removing hydrogen atom without neighbors\nRDKit WARNING: [11:19:12] WARNING: not removing hydrogen atom without neighbors\n[11:19:12] WARNING: not removing hydrogen atom without neighbors\nRDKit WARNING: [11:19:12] WARNING: not removing hydrogen atom without neighbors\n[11:19:12] WARNING: not removing hydrogen atom without neighbors\nRDKit WARNING: [11:19:12] WARNING: not removing hydrogen atom without neighbors\n[11:19:12] WARNING: not removing hydrogen atom without neighbors\nRDKit WARNING: [11:19:12] WARNING: not removing hydrogen atom without neighbors\n[11:19:12] WARNING: not removing hydrogen atom without neighbors\nRDKit WARNING: [11:19:12] WARNING: not removing hydrogen atom without neighbors\n[11:19:12] WARNING: not removing hydrogen atom without neighbors\nRDKit WARNING: [11:19:12] WARNING: not removing hydrogen atom without neighbors\nRDKit WARNING: [11:19:12] WARNING: not removing hydrogen atom without neighbors\n[11:19:12] WARNING: not removing hydrogen atom without neighbors\nRDKit WARNING: [11:19:12] WARNING: not removing hydrogen atom without neighbors\n[11:19:12] WARNING: not removing hydrogen atom without neighbors\nRDKit WARNING: [11:19:12] WARNING: not removing hydrogen atom without neighbors\n[11:19:12] WARNING: not removing hydrogen atom without neighbors\n[11:19:12] WARNING: not removing hydrogen atom without neighbors\nRDKit WARNING: [11:19:12] WARNING: not removing hydrogen atom without neighbors\n[11:19:12] WARNING: not removing hydrogen atom without neighbors\nRDKit WARNING: [11:19:12] WARNING: not removing hydrogen atom without neighbors\n[11:19:12] WARNING: not removing hydrogen atom without neighbors\nRDKit WARNING: [11:19:12] WARNING: not removing hydrogen atom without neighbors\n[11:19:12] WARNING: not removing hydrogen atom without neighbors\nRDKit WARNING: [11:19:12] WARNING: not removing hydrogen atom without neighbors\n[11:19:12] WARNING: not removing hydrogen atom without neighbors\nRDKit WARNING: [11:19:12] WARNING: not removing hydrogen atom without neighbors\n[11:19:12] WARNING: not removing hydrogen atom without neighbors\nRDKit WARNING: [11:19:12] WARNING: not removing hydrogen atom without neighbors\n[11:19:12] WARNING: not removing hydrogen atom without neighbors\nRDKit WARNING: [11:19:12] WARNING: not removing hydrogen atom without neighbors\n[11:19:12] WARNING: not removing hydrogen atom without neighbors\nRDKit WARNING: [11:19:12] WARNING: not removing hydrogen atom without neighbors\n[11:19:12] WARNING: not removing hydrogen atom without neighbors\nRDKit WARNING: [11:19:12] WARNING: not removing hydrogen atom without neighbors\n[11:19:12] WARNING: not removing hydrogen atom without neighbors\nRDKit WARNING: [11:19:12] WARNING: not removing hydrogen atom without neighbors\n[11:19:12] WARNING: not removing hydrogen atom without neighbors\nRDKit WARNING: [11:19:12] WARNING: not removing hydrogen atom without neighbors\n[11:19:12] WARNING: not removing hydrogen atom without neighbors\nRDKit WARNING: [11:19:12] WARNING: not removing hydrogen atom without neighbors\nRDKit WARNING: [11:19:12] WARNING: not removing hydrogen atom without neighbors\n[11:19:12] WARNING: not removing hydrogen atom without neighbors\nRDKit WARNING: [11:19:12] WARNING: not removing hydrogen atom without neighbors\n[11:19:12] WARNING: not removing hydrogen atom without neighbors\n[11:19:12] WARNING: not removing hydrogen atom without neighbors\nRDKit WARNING: [11:19:12] WARNING: not removing hydrogen atom without neighbors\n[11:19:12] WARNING: not removing hydrogen atom without neighbors\nRDKit WARNING: [11:19:12] WARNING: not removing hydrogen atom without neighbors\n[11:19:12] WARNING: not removing hydrogen atom without neighbors\nRDKit WARNING: [11:19:12] WARNING: not removing hydrogen atom without neighbors\n[11:19:12] WARNING: not removing hydrogen atom without neighbors\nRDKit WARNING: [11:19:12] WARNING: not removing hydrogen atom without neighbors\nRDKit WARNING: [11:19:12] WARNING: not removing hydrogen atom without neighbors\n[11:19:12] WARNING: not removing hydrogen atom without neighbors\nRDKit WARNING: [11:19:12] WARNING: not removing hydrogen atom without neighbors\n[11:19:12] WARNING: not removing hydrogen atom without neighbors\n[11:19:12] WARNING: not removing hydrogen atom without neighbors\nRDKit WARNING: [11:19:12] WARNING: not removing hydrogen atom without neighbors\n[11:19:12] WARNING: not removing hydrogen atom without neighbors\nRDKit WARNING: [11:19:12] WARNING: not removing hydrogen atom without neighbors\n[11:19:12] WARNING: not removing hydrogen atom without neighbors\nRDKit WARNING: [11:19:12] WARNING: not removing hydrogen atom without neighbors\nRDKit WARNING: [11:19:12] WARNING: not removing hydrogen atom without neighbors\nRDKit WARNING: [11:19:12] WARNING: not removing hydrogen atom without neighbors\n[11:19:12] WARNING: not removing hydrogen atom without neighbors\n[11:19:12] WARNING: not removing hydrogen atom without neighbors\n[11:19:12] WARNING: not removing hydrogen atom without neighbors\nRDKit WARNING: [11:19:12] WARNING: not removing hydrogen atom without neighbors\nRDKit WARNING: [11:19:12] WARNING: not removing hydrogen atom without neighbors\n[11:19:12] WARNING: not removing hydrogen atom without neighbors\n[11:19:12] WARNING: not removing hydrogen atom without neighbors\nRDKit WARNING: [11:19:12] WARNING: not removing hydrogen atom without neighbors\n[11:19:12] WARNING: not removing hydrogen atom without neighbors\nRDKit WARNING: [11:19:12] WARNING: not removing hydrogen atom without neighbors\n[11:19:12] WARNING: not removing hydrogen atom without neighbors\nRDKit WARNING: [11:19:12] WARNING: not removing hydrogen atom without neighbors\n[11:19:12] WARNING: not removing hydrogen atom without neighbors\nRDKit WARNING: [11:19:12] WARNING: not removing hydrogen atom without neighbors\n[11:19:12] WARNING: not removing hydrogen atom without neighbors\nRDKit WARNING: [11:19:12] WARNING: not removing hydrogen atom without neighbors\n[11:19:12] WARNING: not removing hydrogen atom without neighbors\nRDKit WARNING: [11:19:12] WARNING: not removing hydrogen atom without neighbors\n[11:19:12] WARNING: not removing hydrogen atom without neighbors\nRDKit WARNING: [11:19:12] WARNING: not removing hydrogen atom without neighbors\n[11:19:12] WARNING: not removing hydrogen atom without neighbors\nRDKit WARNING: [11:19:12] WARNING: not removing hydrogen atom without neighbors\n[11:19:12] WARNING: not removing hydrogen atom without neighbors\nRDKit WARNING: [11:19:12] WARNING: not removing hydrogen atom without neighbors\n[11:19:12] WARNING: not removing hydrogen atom without neighbors\nRDKit WARNING: [11:19:12] WARNING: not removing hydrogen atom without neighbors\nRDKit WARNING: [11:19:12] WARNING: not removing hydrogen atom without neighbors\nRDKit WARNING: [11:19:12] WARNING: not removing hydrogen atom without neighbors\n[11:19:12] WARNING: not removing hydrogen atom without neighbors\n[11:19:12] WARNING: not removing hydrogen atom without neighbors\n[11:19:12] WARNING: not removing hydrogen atom without neighbors\nRDKit WARNING: [11:19:12] WARNING: not removing hydrogen atom without neighbors\n[11:19:12] WARNING: not removing hydrogen atom without neighbors\nRDKit WARNING: [11:19:12] WARNING: not removing hydrogen atom without neighbors\nRDKit WARNING: [11:19:12] WARNING: not removing hydrogen atom without neighbors\n[11:19:12] WARNING: not removing hydrogen atom without neighbors\n[11:19:12] WARNING: not removing hydrogen atom without neighbors\nRDKit WARNING: [11:19:12] WARNING: not removing hydrogen atom without neighbors\n[11:19:12] WARNING: not removing hydrogen atom without neighbors\nRDKit WARNING: [11:19:12] WARNING: not removing hydrogen atom without neighbors\n[11:19:12] WARNING: not removing hydrogen atom without neighbors\nRDKit WARNING: [11:19:12] WARNING: not removing hydrogen atom without neighbors\n[11:19:12] WARNING: not removing hydrogen atom without neighbors\nRDKit WARNING: [11:19:12] WARNING: not removing hydrogen atom without neighbors\nRDKit WARNING: [11:19:12] WARNING: not removing hydrogen atom without neighbors\nRDKit WARNING: [11:19:12] WARNING: not removing hydrogen atom without neighbors\nRDKit WARNING: [11:19:12] WARNING: not removing hydrogen atom without neighbors\n[11:19:12] WARNING: not removing hydrogen atom without neighbors\nRDKit WARNING: [11:19:12] WARNING: not removing hydrogen atom without neighbors\n[11:19:12] WARNING: not removing hydrogen atom without neighbors\n[11:19:12] WARNING: not removing hydrogen atom without neighbors\n[11:19:12] WARNING: not removing hydrogen atom without neighbors\n[11:19:12] WARNING: not removing hydrogen atom without neighbors\nRDKit WARNING: [11:19:12] WARNING: not removing hydrogen atom without neighbors\n[11:19:12] WARNING: not removing hydrogen atom without neighbors\nRDKit WARNING: [11:19:12] WARNING: not removing hydrogen atom without neighbors\n[11:19:12] WARNING: not removing hydrogen atom without neighbors\nRDKit WARNING: [11:19:12] WARNING: not removing hydrogen atom without neighbors\n[11:19:12] WARNING: not removing hydrogen atom without neighbors\nRDKit WARNING: [11:19:12] WARNING: not removing hydrogen atom without neighbors\n[11:19:12] WARNING: not removing hydrogen atom without neighbors\nRDKit WARNING: [11:19:12] WARNING: not removing hydrogen atom without neighbors\nRDKit WARNING: [11:19:12] WARNING: not removing hydrogen atom without neighbors\n[11:19:12] WARNING: not removing hydrogen atom without neighbors\n[11:19:12] WARNING: not removing hydrogen atom without neighbors\nRDKit WARNING: [11:19:12] WARNING: not removing hydrogen atom without neighbors\n[11:19:12] WARNING: not removing hydrogen atom without neighbors\nRDKit WARNING: [11:19:12] WARNING: not removing hydrogen atom without neighbors\n[11:19:12] WARNING: not removing hydrogen atom without neighbors\nRDKit WARNING: [11:19:12] WARNING: not removing hydrogen atom without neighbors\n[11:19:12] WARNING: not removing hydrogen atom without neighbors\nRDKit WARNING: [11:19:12] WARNING: not removing hydrogen atom without neighbors\nRDKit WARNING: [11:19:12] WARNING: not removing hydrogen atom without neighbors\nRDKit WARNING: [11:19:12] WARNING: not removing hydrogen atom without neighbors\nRDKit WARNING: [11:19:12] WARNING: not removing hydrogen atom without neighbors\nRDKit WARNING: [11:19:12] WARNING: not removing hydrogen atom without neighbors\nRDKit WARNING: [11:19:12] WARNING: not removing hydrogen atom without neighbors\n[11:19:12] WARNING: not removing hydrogen atom without neighbors\n[11:19:12] WARNING: not removing hydrogen atom without neighbors\n[11:19:12] WARNING: not removing hydrogen atom without neighbors\n[11:19:12] WARNING: not removing hydrogen atom without neighbors\n[11:19:12] WARNING: not removing hydrogen atom without neighbors\n[11:19:12] WARNING: not removing hydrogen atom without neighbors\nRDKit WARNING: [11:19:12] WARNING: not removing hydrogen atom without neighbors\n[11:19:12] WARNING: not removing hydrogen atom without neighbors\nRDKit WARNING: [11:19:12] WARNING: not removing hydrogen atom without neighbors\n[11:19:12] WARNING: not removing hydrogen atom without neighbors\nRDKit WARNING: [11:19:12] WARNING: not removing hydrogen atom without neighbors\n[11:19:12] WARNING: not removing hydrogen atom without neighbors\nRDKit WARNING: [11:19:12] WARNING: not removing hydrogen atom without neighbors\n[11:19:12] WARNING: not removing hydrogen atom without neighbors\nRDKit WARNING: [11:19:12] WARNING: not removing hydrogen atom without neighbors\n[11:19:12] WARNING: not removing hydrogen atom without neighbors\nRDKit WARNING: [11:19:12] WARNING: not removing hydrogen atom without neighbors\n[11:19:12] WARNING: not removing hydrogen atom without neighbors\nRDKit WARNING: [11:19:12] WARNING: not removing hydrogen atom without neighbors\nRDKit WARNING: [11:19:12] WARNING: not removing hydrogen atom without neighbors\n[11:19:12] WARNING: not removing hydrogen atom without neighbors\n[11:19:12] WARNING: not removing hydrogen atom without neighbors\nRDKit WARNING: [11:19:12] WARNING: not removing hydrogen atom without neighbors\n[11:19:12] WARNING: not removing hydrogen atom without neighbors\nRDKit WARNING: [11:19:12] WARNING: not removing hydrogen atom without neighbors\n[11:19:12] WARNING: not removing hydrogen atom without neighbors\nRDKit WARNING: [11:19:12] WARNING: not removing hydrogen atom without neighbors\nRDKit WARNING: [11:19:12] WARNING: not removing hydrogen atom without neighbors\n[11:19:12] WARNING: not removing hydrogen atom without neighbors\nRDKit WARNING: [11:19:12] WARNING: not removing hydrogen atom without neighbors\n[11:19:12] WARNING: not removing hydrogen atom without neighbors\n[11:19:12] WARNING: not removing hydrogen atom without neighbors\nRDKit WARNING: [11:19:13] WARNING: not removing hydrogen atom without neighbors\n[11:19:13] WARNING: not removing hydrogen atom without neighbors\nRDKit WARNING: [11:19:13] WARNING: not removing hydrogen atom without neighbors\n[11:19:13] WARNING: not removing hydrogen atom without neighbors\nRDKit WARNING: [11:19:13] WARNING: not removing hydrogen atom without neighbors\nRDKit WARNING: [11:19:13] WARNING: not removing hydrogen atom without neighbors\nRDKit WARNING: [11:19:13] WARNING: not removing hydrogen atom without neighbors\nRDKit WARNING: [11:19:13] WARNING: not removing hydrogen atom without neighbors\n[11:19:13] WARNING: not removing hydrogen atom without neighbors\n[11:19:13] WARNING: not removing hydrogen atom without neighbors\n[11:19:13] WARNING: not removing hydrogen atom without neighbors\n[11:19:13] WARNING: not removing hydrogen atom without neighbors\nRDKit WARNING: [11:19:13] WARNING: not removing hydrogen atom without neighbors\n[11:19:13] WARNING: not removing hydrogen atom without neighbors\nRDKit WARNING: [11:19:13] WARNING: not removing hydrogen atom without neighbors\n[11:19:13] WARNING: not removing hydrogen atom without neighbors\nRDKit WARNING: [11:19:13] WARNING: not removing hydrogen atom without neighbors\nRDKit WARNING: [11:19:13] WARNING: not removing hydrogen atom without neighbors\n[11:19:13] WARNING: not removing hydrogen atom without neighbors\n[11:19:13] WARNING: not removing hydrogen atom without neighbors\nRDKit WARNING: [11:19:13] WARNING: not removing hydrogen atom without neighbors\n[11:19:13] WARNING: not removing hydrogen atom without neighbors\nRDKit WARNING: [11:19:13] WARNING: not removing hydrogen atom without neighbors\n[11:19:13] WARNING: not removing hydrogen atom without neighbors\nRDKit WARNING: [11:19:13] WARNING: not removing hydrogen atom without neighbors\n[11:19:13] WARNING: not removing hydrogen atom without neighbors\nRDKit WARNING: [11:19:13] WARNING: not removing hydrogen atom without neighbors\n[11:19:13] WARNING: not removing hydrogen atom without neighbors\nRDKit WARNING: [11:19:13] WARNING: not removing hydrogen atom without neighbors\n[11:19:13] WARNING: not removing hydrogen atom without neighbors\nRDKit WARNING: [11:19:13] WARNING: not removing hydrogen atom without neighbors\n[11:19:13] WARNING: not removing hydrogen atom without neighbors\nRDKit WARNING: [11:19:13] WARNING: not removing hydrogen atom without neighbors\n[11:19:13] WARNING: not removing hydrogen atom without neighbors\nRDKit WARNING: [11:19:13] WARNING: not removing hydrogen atom without neighbors\n[11:19:13] WARNING: not removing hydrogen atom without neighbors\nRDKit WARNING: [11:19:13] WARNING: not removing hydrogen atom without neighbors\n[11:19:13] WARNING: not removing hydrogen atom without neighbors\nRDKit WARNING: [11:19:13] WARNING: not removing hydrogen atom without neighbors\n[11:19:13] WARNING: not removing hydrogen atom without neighbors\nRDKit WARNING: [11:19:13] WARNING: not removing hydrogen atom without neighbors\nRDKit WARNING: [11:19:13] WARNING: not removing hydrogen atom without neighbors\n[11:19:13] WARNING: not removing hydrogen atom without neighbors\n[11:19:13] WARNING: not removing hydrogen atom without neighbors\nRDKit WARNING: [11:19:13] WARNING: not removing hydrogen atom without neighbors\nRDKit WARNING: [11:19:13] WARNING: not removing hydrogen atom without neighbors\nRDKit WARNING: [11:19:13] WARNING: not removing hydrogen atom without neighbors\n[11:19:13] WARNING: not removing hydrogen atom without neighbors\n[11:19:13] WARNING: not removing hydrogen atom without neighbors\nRDKit WARNING: [11:19:13] WARNING: not removing hydrogen atom without neighbors\nRDKit WARNING: [11:19:13] WARNING: not removing hydrogen atom without neighbors\nRDKit WARNING: [11:19:13] WARNING: not removing hydrogen atom without neighbors\nRDKit WARNING: [11:19:13] WARNING: not removing hydrogen atom without neighbors\n[11:19:13] WARNING: not removing hydrogen atom without neighbors\n[11:19:13] WARNING: not removing hydrogen atom without neighbors\n[11:19:13] WARNING: not removing hydrogen atom without neighbors\n[11:19:13] WARNING: not removing hydrogen atom without neighbors\n[11:19:13] WARNING: not removing hydrogen atom without neighbors\nRDKit WARNING: [11:19:13] WARNING: not removing hydrogen atom without neighbors\n[11:19:13] WARNING: not removing hydrogen atom without neighbors\nRDKit WARNING: [11:19:13] WARNING: not removing hydrogen atom without neighbors\nRDKit WARNING: [11:19:13] WARNING: not removing hydrogen atom without neighbors\nRDKit WARNING: [11:19:13] WARNING: not removing hydrogen atom without neighbors\nRDKit WARNING: [11:19:13] WARNING: not removing hydrogen atom without neighbors\n[11:19:13] WARNING: not removing hydrogen atom without neighbors\n[11:19:13] WARNING: not removing hydrogen atom without neighbors\n[11:19:13] WARNING: not removing hydrogen atom without neighbors\n[11:19:13] WARNING: not removing hydrogen atom without neighbors\nRDKit WARNING: [11:19:13] WARNING: not removing hydrogen atom without neighbors\nRDKit WARNING: [11:19:13] WARNING: not removing hydrogen atom without neighbors\nRDKit WARNING: [11:19:13] WARNING: not removing hydrogen atom without neighbors\nRDKit WARNING: [11:19:13] WARNING: not removing hydrogen atom without neighbors\nRDKit WARNING: [11:19:13] WARNING: not removing hydrogen atom without neighbors\nRDKit WARNING: [11:19:13] WARNING: not removing hydrogen atom without neighbors\n[11:19:13] WARNING: not removing hydrogen atom without neighbors\n[11:19:13] WARNING: not removing hydrogen atom without neighbors\n[11:19:13] WARNING: not removing hydrogen atom without neighbors\n[11:19:13] WARNING: not removing hydrogen atom without neighbors\n[11:19:13] WARNING: not removing hydrogen atom without neighbors\nRDKit WARNING: [11:19:13] WARNING: not removing hydrogen atom without neighbors\n[11:19:13] WARNING: not removing hydrogen atom without neighbors\n[11:19:13] WARNING: not removing hydrogen atom without neighbors\nRDKit WARNING: [11:19:13] WARNING: not removing hydrogen atom without neighbors\nRDKit WARNING: [11:19:13] WARNING: not removing hydrogen atom without neighbors\nRDKit WARNING: [11:19:13] WARNING: not removing hydrogen atom without neighbors\n[11:19:13] WARNING: not removing hydrogen atom without neighbors\n[11:19:13] WARNING: not removing hydrogen atom without neighbors\n[11:19:13] WARNING: not removing hydrogen atom without neighbors\nRDKit WARNING: [11:19:13] WARNING: not removing hydrogen atom without neighbors\nRDKit WARNING: [11:19:13] WARNING: not removing hydrogen atom without neighbors\n[11:19:13] WARNING: not removing hydrogen atom without neighbors\n[11:19:13] WARNING: not removing hydrogen atom without neighbors\nRDKit WARNING: [11:19:13] WARNING: not removing hydrogen atom without neighbors\n[11:19:13] WARNING: not removing hydrogen atom without neighbors\nRDKit WARNING: [11:19:13] WARNING: not removing hydrogen atom without neighbors\nRDKit WARNING: [11:19:13] WARNING: not removing hydrogen atom without neighbors\n[11:19:13] WARNING: not removing hydrogen atom without neighbors\n[11:19:13] WARNING: not removing hydrogen atom without neighbors\nRDKit WARNING: [11:19:13] WARNING: not removing hydrogen atom without neighbors\n[11:19:13] WARNING: not removing hydrogen atom without neighbors\nRDKit WARNING: [11:19:13] WARNING: not removing hydrogen atom without neighbors\n[11:19:13] WARNING: not removing hydrogen atom without neighbors\nRDKit WARNING: [11:19:13] WARNING: not removing hydrogen atom without neighbors\n[11:19:13] WARNING: not removing hydrogen atom without neighbors\nRDKit WARNING: [11:19:13] WARNING: not removing hydrogen atom without neighbors\n[11:19:13] WARNING: not removing hydrogen atom without neighbors\nRDKit WARNING: [11:19:13] WARNING: not removing hydrogen atom without neighbors\n[11:19:13] WARNING: not removing hydrogen atom without neighbors\nRDKit WARNING: [11:19:13] WARNING: not removing hydrogen atom without neighbors\n[11:19:13] WARNING: not removing hydrogen atom without neighbors\nRDKit WARNING: [11:19:13] WARNING: not removing hydrogen atom without neighbors\nRDKit WARNING: [11:19:13] WARNING: not removing hydrogen atom without neighbors\nRDKit WARNING: [11:19:13] WARNING: not removing hydrogen atom without neighbors\nRDKit WARNING: [11:19:13] WARNING: not removing hydrogen atom without neighbors\nRDKit WARNING: [11:19:13] WARNING: not removing hydrogen atom without neighbors\nRDKit WARNING: [11:19:13] WARNING: not removing hydrogen atom without neighbors\n[11:19:13] WARNING: not removing hydrogen atom without neighbors\n[11:19:13] WARNING: not removing hydrogen atom without neighbors\n[11:19:13] WARNING: not removing hydrogen atom without neighbors\n[11:19:13] WARNING: not removing hydrogen atom without neighbors\n[11:19:13] WARNING: not removing hydrogen atom without neighbors\n[11:19:13] WARNING: not removing hydrogen atom without neighbors\nRDKit WARNING: [11:19:13] WARNING: not removing hydrogen atom without neighbors\n[11:19:13] WARNING: not removing hydrogen atom without neighbors\nRDKit WARNING: [11:19:13] WARNING: not removing hydrogen atom without neighbors\n[11:19:13] WARNING: not removing hydrogen atom without neighbors\nRDKit WARNING: [11:19:13] WARNING: not removing hydrogen atom without neighbors\nRDKit WARNING: [11:19:13] WARNING: not removing hydrogen atom without neighbors\n[11:19:13] WARNING: not removing hydrogen atom without neighbors\nRDKit WARNING: [11:19:13] WARNING: not removing hydrogen atom without neighbors\nRDKit WARNING: [11:19:13] WARNING: not removing hydrogen atom without neighbors\nRDKit WARNING: [11:19:13] WARNING: not removing hydrogen atom without neighbors\nRDKit WARNING: [11:19:13] WARNING: not removing hydrogen atom without neighbors\n[11:19:13] WARNING: not removing hydrogen atom without neighbors\n[11:19:13] WARNING: not removing hydrogen atom without neighbors\n[11:19:13] WARNING: not removing hydrogen atom without neighbors\n[11:19:13] WARNING: not removing hydrogen atom without neighbors\n[11:19:13] WARNING: not removing hydrogen atom without neighbors\nRDKit WARNING: [11:19:13] WARNING: not removing hydrogen atom without neighbors\nRDKit WARNING: [11:19:13] WARNING: not removing hydrogen atom without neighbors\nRDKit WARNING: [11:19:13] WARNING: not removing hydrogen atom without neighbors\n[11:19:13] WARNING: not removing hydrogen atom without neighbors\n[11:19:13] WARNING: not removing hydrogen atom without neighbors\nRDKit WARNING: [11:19:13] WARNING: not removing hydrogen atom without neighbors\nRDKit WARNING: [11:19:13] WARNING: not removing hydrogen atom without neighbors\n[11:19:13] WARNING: not removing hydrogen atom without neighbors\n[11:19:13] WARNING: not removing hydrogen atom without neighbors\n[11:19:13] WARNING: not removing hydrogen atom without neighbors\n",
     "output_type": "stream"
    }
   ],
   "execution_count": null
  },
  {
   "cell_type": "code",
   "source": "list_of_f_ = ['MolWt','MolLogP','NumValenceElectrons','HeavyAtomCount','NOCount','NumAliphaticRings','NumAromaticRings','NumHAcceptors','NumHDonors','NumHeteroatoms','NumRotatableBonds']\nlist_dfset = [MolWt,MolLogP,NumValenceElectrons,HeavyAtomCount,NOCount,NumAliphaticRings,NumAromaticRings,NumHAcceptors,NumHDonors,NumHeteroatoms,NumRotatableBonds]\nfor i in range(len(list_of_f_)):\n    test_28.insert(8+i,list_of_f_[i],list_dfset[i])",
   "metadata": {
    "tags": [],
    "cell_id": "00050-b0ea7ff7-afdc-4067-bbd9-8dbe38fd84b1",
    "deepnote_to_be_reexecuted": false,
    "source_hash": "cc9e5036",
    "execution_start": 1634038694929,
    "execution_millis": 35,
    "deepnote_cell_type": "code"
   },
   "outputs": [],
   "execution_count": null
  },
  {
   "cell_type": "code",
   "source": "smiles_list = test_28['smiles'].unique()\nlen(smiles_list)",
   "metadata": {
    "tags": [],
    "cell_id": "00046-dfa6ef0a-21d4-4949-97cb-8d0c6fc0bc49",
    "deepnote_to_be_reexecuted": false,
    "source_hash": "4cc65b3b",
    "execution_start": 1634037680291,
    "execution_millis": 11,
    "deepnote_cell_type": "code"
   },
   "outputs": [
    {
     "output_type": "execute_result",
     "execution_count": 123,
     "data": {
      "text/plain": "342"
     },
     "metadata": {}
    }
   ],
   "execution_count": null
  },
  {
   "cell_type": "code",
   "source": "data_ = []\ncolumns = ['MolecularFormula', 'MolecularWeight','InChI', 'InChIKey', 'IUPACName', \n                                'XLogP', 'ExactMass', 'MonoisotopicMass', 'TPSA', 'Complexity', 'Charge', \n                                'HBondDonorCount', 'HBondAcceptorCount', 'RotatableBondCount', \n                                'HeavyAtomCount', 'IsotopeAtomCount', 'AtomStereoCount', \n                                'DefinedAtomStereoCount', 'UndefinedAtomStereoCount', 'BondStereoCount', \n                                'DefinedBondStereoCount', 'UndefinedBondStereoCount', 'CovalentUnitCount', \n                                'Volume3D', 'XStericQuadrupole3D', 'YStericQuadrupole3D', \n                                'ZStericQuadrupole3D', 'FeatureCount3D', 'FeatureAcceptorCount3D', \n                                'FeatureDonorCount3D', 'FeatureAnionCount3D', 'FeatureCationCount3D', \n                                'FeatureRingCount3D', 'FeatureHydrophobeCount3D', 'ConformerModelRMSD3D', \n                                'EffectiveRotorCount3D', 'ConformerCount3D']\nfor i,v in enumerate(smiles_list):\n    props = pcp.get_properties(['MolecularFormula', 'MolecularWeight','InChI', 'InChIKey', 'IUPACName', \n                                'XLogP', 'ExactMass', 'MonoisotopicMass', 'TPSA', 'Complexity', 'Charge', \n                                'HBondDonorCount', 'HBondAcceptorCount', 'RotatableBondCount', \n                                'HeavyAtomCount', 'IsotopeAtomCount', 'AtomStereoCount', \n                                'DefinedAtomStereoCount', 'UndefinedAtomStereoCount', 'BondStereoCount', \n                                'DefinedBondStereoCount', 'UndefinedBondStereoCount', 'CovalentUnitCount', \n                                'Volume3D', 'XStericQuadrupole3D', 'YStericQuadrupole3D', \n                                'ZStericQuadrupole3D', 'FeatureCount3D', 'FeatureAcceptorCount3D', \n                                'FeatureDonorCount3D', 'FeatureAnionCount3D', 'FeatureCationCount3D', \n                                'FeatureRingCount3D', 'FeatureHydrophobeCount3D', 'ConformerModelRMSD3D', \n                                'EffectiveRotorCount3D', 'ConformerCount3D'], v, 'smiles')\n    print(i)\n    data_.append(props)",
   "metadata": {
    "tags": [],
    "cell_id": "00051-2b62f393-0925-427d-a313-a5b61ac78796",
    "deepnote_to_be_reexecuted": false,
    "source_hash": "414ac99c",
    "execution_start": 1634037684866,
    "execution_millis": 394933,
    "deepnote_cell_type": "code"
   },
   "outputs": [
    {
     "name": "stdout",
     "text": "0\n1\n2\n3\n4\n5\n6\n7\n8\n9\n10\n11\n12\n13\n14\n15\n16\n17\n18\n19\n20\n21\n22\n23\n24\n25\n26\n27\n28\n29\n30\n31\n32\n33\n34\n35\n36\n37\n38\n39\n40\n41\n42\n43\n44\n45\n46\n47\n48\n49\n50\n51\n52\n53\n54\n55\n56\n57\n58\n59\n60\n61\n62\n63\n64\n65\n66\n67\n68\n69\n70\n71\n72\n73\n74\n75\n76\n77\n78\n79\n80\n81\n82\n83\n84\n85\n86\n87\n88\n89\n90\n91\n92\n93\n94\n95\n96\n97\n98\n99\n100\n101\n102\n103\n104\n105\n106\n107\n108\n109\n110\n111\n112\n113\n114\n115\n116\n117\n118\n119\n120\n121\n122\n123\n124\n125\n126\n127\n128\n129\n130\n131\n132\n133\n134\n135\n136\n137\n138\n139\n140\n141\n142\n143\n144\n145\n146\n147\n148\n149\n150\n151\n152\n153\n154\n155\n156\n157\n158\n159\n160\n161\n162\n163\n164\n165\n166\n167\n168\n169\n170\n171\n172\n173\n174\n175\n176\n177\n178\n179\n180\n181\n182\n183\n184\n185\n186\n187\n188\n189\n190\n191\n192\n193\n194\n195\n196\n197\n198\n199\n200\n201\n202\n203\n204\n205\n206\n207\n208\n209\n210\n211\n212\n213\n214\n215\n216\n217\n218\n219\n220\n221\n222\n223\n224\n225\n226\n227\n228\n229\n230\n231\n232\n233\n234\n235\n236\n237\n238\n239\n240\n241\n242\n243\n244\n245\n246\n247\n248\n249\n250\n251\n252\n253\n254\n255\n256\n257\n258\n259\n260\n261\n262\n263\n264\n265\n266\n267\n268\n269\n270\n271\n272\n273\n274\n275\n276\n277\n278\n279\n280\n281\n282\n283\n284\n285\n286\n287\n288\n289\n290\n291\n292\n293\n294\n295\n296\n297\n298\n299\n300\n301\n302\n303\n304\n305\n306\n307\n308\n309\n310\n311\n312\n313\n314\n315\n316\n317\n318\n319\n320\n321\n322\n323\n324\n325\n326\n327\n328\n329\n330\n331\n332\n333\n334\n335\n336\n337\n338\n339\n340\n341\n",
     "output_type": "stream"
    }
   ],
   "execution_count": null
  },
  {
   "cell_type": "code",
   "source": "rows = []\ncolumns = data_[0][0].keys()\nfor i in range(len(smiles_list)):\n    rows.append(data_[i][0].values())\nprops_df_ = pd.DataFrame(data=rows, columns=columns) \nprops_df_.head()",
   "metadata": {
    "tags": [],
    "cell_id": "00051-27066480-45b9-49f5-90c6-d186d7adb6f4",
    "deepnote_to_be_reexecuted": false,
    "source_hash": "a0653525",
    "execution_start": 1634038704189,
    "execution_millis": 85,
    "deepnote_cell_type": "code"
   },
   "outputs": [
    {
     "output_type": "execute_result",
     "execution_count": 158,
     "data": {
      "application/vnd.deepnote.dataframe.v2+json": {
       "row_count": 5,
       "column_count": 38,
       "columns": [
        {
         "name": "CID",
         "dtype": "int64",
         "stats": {
          "unique_count": 5,
          "nan_count": 0,
          "min": "540",
          "max": "24841",
          "histogram": [
           {
            "bin_start": 540,
            "bin_end": 2970.1,
            "count": 3
           },
           {
            "bin_start": 2970.1,
            "bin_end": 5400.2,
            "count": 0
           },
           {
            "bin_start": 5400.2,
            "bin_end": 7830.299999999999,
            "count": 0
           },
           {
            "bin_start": 7830.299999999999,
            "bin_end": 10260.4,
            "count": 1
           },
           {
            "bin_start": 10260.4,
            "bin_end": 12690.5,
            "count": 0
           },
           {
            "bin_start": 12690.5,
            "bin_end": 15120.599999999999,
            "count": 0
           },
           {
            "bin_start": 15120.599999999999,
            "bin_end": 17550.7,
            "count": 0
           },
           {
            "bin_start": 17550.7,
            "bin_end": 19980.8,
            "count": 0
           },
           {
            "bin_start": 19980.8,
            "bin_end": 22410.899999999998,
            "count": 0
           },
           {
            "bin_start": 22410.899999999998,
            "bin_end": 24841,
            "count": 1
           }
          ]
         }
        },
        {
         "name": "MolecularFormula",
         "dtype": "object",
         "stats": {
          "unique_count": 5,
          "nan_count": 0,
          "categories": [
           {
            "name": "C2H6O",
            "count": 1
           },
           {
            "name": "HI",
            "count": 1
           },
           {
            "name": "3 others",
            "count": 3
           }
          ]
         }
        },
        {
         "name": "MolecularWeight",
         "dtype": "object",
         "stats": {
          "unique_count": 5,
          "nan_count": 0,
          "categories": [
           {
            "name": "46.07",
            "count": 1
           },
           {
            "name": "127.9124",
            "count": 1
           },
           {
            "name": "3 others",
            "count": 3
           }
          ]
         }
        },
        {
         "name": "InChI",
         "dtype": "object",
         "stats": {
          "unique_count": 5,
          "nan_count": 0,
          "categories": [
           {
            "name": "InChI=1S/C2H6O/c1-2-3/h3H,2H2,1H3",
            "count": 1
           },
           {
            "name": "InChI=1S/HI/h1H",
            "count": 1
           },
           {
            "name": "3 others",
            "count": 3
           }
          ]
         }
        },
        {
         "name": "InChIKey",
         "dtype": "object",
         "stats": {
          "unique_count": 5,
          "nan_count": 0,
          "categories": [
           {
            "name": "LFQSCWFLJHTTHZ-UHFFFAOYSA-N",
            "count": 1
           },
           {
            "name": "XMBWDFGMSWQBCA-UHFFFAOYSA-N",
            "count": 1
           },
           {
            "name": "3 others",
            "count": 3
           }
          ]
         }
        },
        {
         "name": "IUPACName",
         "dtype": "object",
         "stats": {
          "unique_count": 5,
          "nan_count": 0,
          "categories": [
           {
            "name": "ethanol",
            "count": 1
           },
           {
            "name": "iodane",
            "count": 1
           },
           {
            "name": "3 others",
            "count": 3
           }
          ]
         }
        },
        {
         "name": "XLogP",
         "dtype": "object",
         "stats": {
          "unique_count": 4,
          "nan_count": 0,
          "categories": [
           {
            "name": "0.9",
            "count": 2
           },
           {
            "name": "-0.1",
            "count": 1
           },
           {
            "name": "2 others",
            "count": 2
           }
          ]
         }
        },
        {
         "name": "ExactMass",
         "dtype": "object",
         "stats": {
          "unique_count": 5,
          "nan_count": 0,
          "categories": [
           {
            "name": "46.041864811",
            "count": 1
           },
           {
            "name": "127.91230",
            "count": 1
           },
           {
            "name": "3 others",
            "count": 3
           }
          ]
         }
        },
        {
         "name": "MonoisotopicMass",
         "dtype": "object",
         "stats": {
          "unique_count": 5,
          "nan_count": 0,
          "categories": [
           {
            "name": "46.041864811",
            "count": 1
           },
           {
            "name": "127.91230",
            "count": 1
           },
           {
            "name": "3 others",
            "count": 3
           }
          ]
         }
        },
        {
         "name": "TPSA",
         "dtype": "float64",
         "stats": {
          "unique_count": 4,
          "nan_count": 0,
          "min": "0.0",
          "max": "45.8",
          "histogram": [
           {
            "bin_start": 0,
            "bin_end": 4.58,
            "count": 1
           },
           {
            "bin_start": 4.58,
            "bin_end": 9.16,
            "count": 0
           },
           {
            "bin_start": 9.16,
            "bin_end": 13.74,
            "count": 0
           },
           {
            "bin_start": 13.74,
            "bin_end": 18.32,
            "count": 0
           },
           {
            "bin_start": 18.32,
            "bin_end": 22.9,
            "count": 2
           },
           {
            "bin_start": 22.9,
            "bin_end": 27.48,
            "count": 0
           },
           {
            "bin_start": 27.48,
            "bin_end": 32.06,
            "count": 0
           },
           {
            "bin_start": 32.06,
            "bin_end": 36.64,
            "count": 0
           },
           {
            "bin_start": 36.64,
            "bin_end": 41.22,
            "count": 0
           },
           {
            "bin_start": 41.22,
            "bin_end": 45.8,
            "count": 2
           }
          ]
         }
        },
        {
         "name": "Complexity",
         "dtype": "int64",
         "stats": {
          "unique_count": 4,
          "nan_count": 0,
          "min": "0",
          "max": "47",
          "histogram": [
           {
            "bin_start": 0,
            "bin_end": 4.7,
            "count": 3
           },
           {
            "bin_start": 4.7,
            "bin_end": 9.4,
            "count": 0
           },
           {
            "bin_start": 9.4,
            "bin_end": 14.100000000000001,
            "count": 0
           },
           {
            "bin_start": 14.100000000000001,
            "bin_end": 18.8,
            "count": 0
           },
           {
            "bin_start": 18.8,
            "bin_end": 23.5,
            "count": 0
           },
           {
            "bin_start": 23.5,
            "bin_end": 28.200000000000003,
            "count": 0
           },
           {
            "bin_start": 28.200000000000003,
            "bin_end": 32.9,
            "count": 1
           },
           {
            "bin_start": 32.9,
            "bin_end": 37.6,
            "count": 0
           },
           {
            "bin_start": 37.6,
            "bin_end": 42.300000000000004,
            "count": 0
           },
           {
            "bin_start": 42.300000000000004,
            "bin_end": 47,
            "count": 1
           }
          ]
         }
        },
        {
         "name": "Charge",
         "dtype": "int64",
         "stats": {
          "unique_count": 1,
          "nan_count": 0,
          "min": "0",
          "max": "0",
          "histogram": [
           {
            "bin_start": -0.5,
            "bin_end": -0.4,
            "count": 0
           },
           {
            "bin_start": -0.4,
            "bin_end": -0.3,
            "count": 0
           },
           {
            "bin_start": -0.3,
            "bin_end": -0.19999999999999996,
            "count": 0
           },
           {
            "bin_start": -0.19999999999999996,
            "bin_end": -0.09999999999999998,
            "count": 0
           },
           {
            "bin_start": -0.09999999999999998,
            "bin_end": 0,
            "count": 0
           },
           {
            "bin_start": 0,
            "bin_end": 0.10000000000000009,
            "count": 5
           },
           {
            "bin_start": 0.10000000000000009,
            "bin_end": 0.20000000000000007,
            "count": 0
           },
           {
            "bin_start": 0.20000000000000007,
            "bin_end": 0.30000000000000004,
            "count": 0
           },
           {
            "bin_start": 0.30000000000000004,
            "bin_end": 0.4,
            "count": 0
           },
           {
            "bin_start": 0.4,
            "bin_end": 0.5,
            "count": 0
           }
          ]
         }
        },
        {
         "name": "HBondDonorCount",
         "dtype": "int64",
         "stats": {
          "unique_count": 2,
          "nan_count": 0,
          "min": "0",
          "max": "1",
          "histogram": [
           {
            "bin_start": 0,
            "bin_end": 0.1,
            "count": 1
           },
           {
            "bin_start": 0.1,
            "bin_end": 0.2,
            "count": 0
           },
           {
            "bin_start": 0.2,
            "bin_end": 0.30000000000000004,
            "count": 0
           },
           {
            "bin_start": 0.30000000000000004,
            "bin_end": 0.4,
            "count": 0
           },
           {
            "bin_start": 0.4,
            "bin_end": 0.5,
            "count": 0
           },
           {
            "bin_start": 0.5,
            "bin_end": 0.6000000000000001,
            "count": 0
           },
           {
            "bin_start": 0.6000000000000001,
            "bin_end": 0.7000000000000001,
            "count": 0
           },
           {
            "bin_start": 0.7000000000000001,
            "bin_end": 0.8,
            "count": 0
           },
           {
            "bin_start": 0.8,
            "bin_end": 0.9,
            "count": 0
           },
           {
            "bin_start": 0.9,
            "bin_end": 1,
            "count": 4
           }
          ]
         }
        },
        {
         "name": "HBondAcceptorCount",
         "dtype": "int64",
         "stats": {
          "unique_count": 3,
          "nan_count": 0,
          "min": "0",
          "max": "2",
          "histogram": [
           {
            "bin_start": 0,
            "bin_end": 0.2,
            "count": 1
           },
           {
            "bin_start": 0.2,
            "bin_end": 0.4,
            "count": 0
           },
           {
            "bin_start": 0.4,
            "bin_end": 0.6000000000000001,
            "count": 0
           },
           {
            "bin_start": 0.6000000000000001,
            "bin_end": 0.8,
            "count": 0
           },
           {
            "bin_start": 0.8,
            "bin_end": 1,
            "count": 0
           },
           {
            "bin_start": 1,
            "bin_end": 1.2000000000000002,
            "count": 2
           },
           {
            "bin_start": 1.2000000000000002,
            "bin_end": 1.4000000000000001,
            "count": 0
           },
           {
            "bin_start": 1.4000000000000001,
            "bin_end": 1.6,
            "count": 0
           },
           {
            "bin_start": 1.6,
            "bin_end": 1.8,
            "count": 0
           },
           {
            "bin_start": 1.8,
            "bin_end": 2,
            "count": 2
           }
          ]
         }
        },
        {
         "name": "RotatableBondCount",
         "dtype": "int64",
         "stats": {
          "unique_count": 2,
          "nan_count": 0,
          "min": "0",
          "max": "1",
          "histogram": [
           {
            "bin_start": 0,
            "bin_end": 0.1,
            "count": 4
           },
           {
            "bin_start": 0.1,
            "bin_end": 0.2,
            "count": 0
           },
           {
            "bin_start": 0.2,
            "bin_end": 0.30000000000000004,
            "count": 0
           },
           {
            "bin_start": 0.30000000000000004,
            "bin_end": 0.4,
            "count": 0
           },
           {
            "bin_start": 0.4,
            "bin_end": 0.5,
            "count": 0
           },
           {
            "bin_start": 0.5,
            "bin_end": 0.6000000000000001,
            "count": 0
           },
           {
            "bin_start": 0.6000000000000001,
            "bin_end": 0.7000000000000001,
            "count": 0
           },
           {
            "bin_start": 0.7000000000000001,
            "bin_end": 0.8,
            "count": 0
           },
           {
            "bin_start": 0.8,
            "bin_end": 0.9,
            "count": 0
           },
           {
            "bin_start": 0.9,
            "bin_end": 1,
            "count": 1
           }
          ]
         }
        },
        {
         "name": "HeavyAtomCount",
         "dtype": "int64",
         "stats": {
          "unique_count": 4,
          "nan_count": 0,
          "min": "1",
          "max": "6",
          "histogram": [
           {
            "bin_start": 1,
            "bin_end": 1.5,
            "count": 1
           },
           {
            "bin_start": 1.5,
            "bin_end": 2,
            "count": 0
           },
           {
            "bin_start": 2,
            "bin_end": 2.5,
            "count": 1
           },
           {
            "bin_start": 2.5,
            "bin_end": 3,
            "count": 0
           },
           {
            "bin_start": 3,
            "bin_end": 3.5,
            "count": 2
           },
           {
            "bin_start": 3.5,
            "bin_end": 4,
            "count": 0
           },
           {
            "bin_start": 4,
            "bin_end": 4.5,
            "count": 0
           },
           {
            "bin_start": 4.5,
            "bin_end": 5,
            "count": 0
           },
           {
            "bin_start": 5,
            "bin_end": 5.5,
            "count": 0
           },
           {
            "bin_start": 5.5,
            "bin_end": 6,
            "count": 1
           }
          ]
         }
        },
        {
         "name": "IsotopeAtomCount",
         "dtype": "int64",
         "stats": {
          "unique_count": 1,
          "nan_count": 0,
          "min": "0",
          "max": "0",
          "histogram": [
           {
            "bin_start": -0.5,
            "bin_end": -0.4,
            "count": 0
           },
           {
            "bin_start": -0.4,
            "bin_end": -0.3,
            "count": 0
           },
           {
            "bin_start": -0.3,
            "bin_end": -0.19999999999999996,
            "count": 0
           },
           {
            "bin_start": -0.19999999999999996,
            "bin_end": -0.09999999999999998,
            "count": 0
           },
           {
            "bin_start": -0.09999999999999998,
            "bin_end": 0,
            "count": 0
           },
           {
            "bin_start": 0,
            "bin_end": 0.10000000000000009,
            "count": 5
           },
           {
            "bin_start": 0.10000000000000009,
            "bin_end": 0.20000000000000007,
            "count": 0
           },
           {
            "bin_start": 0.20000000000000007,
            "bin_end": 0.30000000000000004,
            "count": 0
           },
           {
            "bin_start": 0.30000000000000004,
            "bin_end": 0.4,
            "count": 0
           },
           {
            "bin_start": 0.4,
            "bin_end": 0.5,
            "count": 0
           }
          ]
         }
        },
        {
         "name": "AtomStereoCount",
         "dtype": "int64",
         "stats": {
          "unique_count": 1,
          "nan_count": 0,
          "min": "0",
          "max": "0",
          "histogram": [
           {
            "bin_start": -0.5,
            "bin_end": -0.4,
            "count": 0
           },
           {
            "bin_start": -0.4,
            "bin_end": -0.3,
            "count": 0
           },
           {
            "bin_start": -0.3,
            "bin_end": -0.19999999999999996,
            "count": 0
           },
           {
            "bin_start": -0.19999999999999996,
            "bin_end": -0.09999999999999998,
            "count": 0
           },
           {
            "bin_start": -0.09999999999999998,
            "bin_end": 0,
            "count": 0
           },
           {
            "bin_start": 0,
            "bin_end": 0.10000000000000009,
            "count": 5
           },
           {
            "bin_start": 0.10000000000000009,
            "bin_end": 0.20000000000000007,
            "count": 0
           },
           {
            "bin_start": 0.20000000000000007,
            "bin_end": 0.30000000000000004,
            "count": 0
           },
           {
            "bin_start": 0.30000000000000004,
            "bin_end": 0.4,
            "count": 0
           },
           {
            "bin_start": 0.4,
            "bin_end": 0.5,
            "count": 0
           }
          ]
         }
        },
        {
         "name": "DefinedAtomStereoCount",
         "dtype": "int64",
         "stats": {
          "unique_count": 1,
          "nan_count": 0,
          "min": "0",
          "max": "0",
          "histogram": [
           {
            "bin_start": -0.5,
            "bin_end": -0.4,
            "count": 0
           },
           {
            "bin_start": -0.4,
            "bin_end": -0.3,
            "count": 0
           },
           {
            "bin_start": -0.3,
            "bin_end": -0.19999999999999996,
            "count": 0
           },
           {
            "bin_start": -0.19999999999999996,
            "bin_end": -0.09999999999999998,
            "count": 0
           },
           {
            "bin_start": -0.09999999999999998,
            "bin_end": 0,
            "count": 0
           },
           {
            "bin_start": 0,
            "bin_end": 0.10000000000000009,
            "count": 5
           },
           {
            "bin_start": 0.10000000000000009,
            "bin_end": 0.20000000000000007,
            "count": 0
           },
           {
            "bin_start": 0.20000000000000007,
            "bin_end": 0.30000000000000004,
            "count": 0
           },
           {
            "bin_start": 0.30000000000000004,
            "bin_end": 0.4,
            "count": 0
           },
           {
            "bin_start": 0.4,
            "bin_end": 0.5,
            "count": 0
           }
          ]
         }
        },
        {
         "name": "UndefinedAtomStereoCount",
         "dtype": "int64",
         "stats": {
          "unique_count": 1,
          "nan_count": 0,
          "min": "0",
          "max": "0",
          "histogram": [
           {
            "bin_start": -0.5,
            "bin_end": -0.4,
            "count": 0
           },
           {
            "bin_start": -0.4,
            "bin_end": -0.3,
            "count": 0
           },
           {
            "bin_start": -0.3,
            "bin_end": -0.19999999999999996,
            "count": 0
           },
           {
            "bin_start": -0.19999999999999996,
            "bin_end": -0.09999999999999998,
            "count": 0
           },
           {
            "bin_start": -0.09999999999999998,
            "bin_end": 0,
            "count": 0
           },
           {
            "bin_start": 0,
            "bin_end": 0.10000000000000009,
            "count": 5
           },
           {
            "bin_start": 0.10000000000000009,
            "bin_end": 0.20000000000000007,
            "count": 0
           },
           {
            "bin_start": 0.20000000000000007,
            "bin_end": 0.30000000000000004,
            "count": 0
           },
           {
            "bin_start": 0.30000000000000004,
            "bin_end": 0.4,
            "count": 0
           },
           {
            "bin_start": 0.4,
            "bin_end": 0.5,
            "count": 0
           }
          ]
         }
        },
        {
         "name": "BondStereoCount",
         "dtype": "int64",
         "stats": {
          "unique_count": 1,
          "nan_count": 0,
          "min": "0",
          "max": "0",
          "histogram": [
           {
            "bin_start": -0.5,
            "bin_end": -0.4,
            "count": 0
           },
           {
            "bin_start": -0.4,
            "bin_end": -0.3,
            "count": 0
           },
           {
            "bin_start": -0.3,
            "bin_end": -0.19999999999999996,
            "count": 0
           },
           {
            "bin_start": -0.19999999999999996,
            "bin_end": -0.09999999999999998,
            "count": 0
           },
           {
            "bin_start": -0.09999999999999998,
            "bin_end": 0,
            "count": 0
           },
           {
            "bin_start": 0,
            "bin_end": 0.10000000000000009,
            "count": 5
           },
           {
            "bin_start": 0.10000000000000009,
            "bin_end": 0.20000000000000007,
            "count": 0
           },
           {
            "bin_start": 0.20000000000000007,
            "bin_end": 0.30000000000000004,
            "count": 0
           },
           {
            "bin_start": 0.30000000000000004,
            "bin_end": 0.4,
            "count": 0
           },
           {
            "bin_start": 0.4,
            "bin_end": 0.5,
            "count": 0
           }
          ]
         }
        },
        {
         "name": "DefinedBondStereoCount",
         "dtype": "int64",
         "stats": {
          "unique_count": 1,
          "nan_count": 0,
          "min": "0",
          "max": "0",
          "histogram": [
           {
            "bin_start": -0.5,
            "bin_end": -0.4,
            "count": 0
           },
           {
            "bin_start": -0.4,
            "bin_end": -0.3,
            "count": 0
           },
           {
            "bin_start": -0.3,
            "bin_end": -0.19999999999999996,
            "count": 0
           },
           {
            "bin_start": -0.19999999999999996,
            "bin_end": -0.09999999999999998,
            "count": 0
           },
           {
            "bin_start": -0.09999999999999998,
            "bin_end": 0,
            "count": 0
           },
           {
            "bin_start": 0,
            "bin_end": 0.10000000000000009,
            "count": 5
           },
           {
            "bin_start": 0.10000000000000009,
            "bin_end": 0.20000000000000007,
            "count": 0
           },
           {
            "bin_start": 0.20000000000000007,
            "bin_end": 0.30000000000000004,
            "count": 0
           },
           {
            "bin_start": 0.30000000000000004,
            "bin_end": 0.4,
            "count": 0
           },
           {
            "bin_start": 0.4,
            "bin_end": 0.5,
            "count": 0
           }
          ]
         }
        },
        {
         "name": "UndefinedBondStereoCount",
         "dtype": "int64",
         "stats": {
          "unique_count": 1,
          "nan_count": 0,
          "min": "0",
          "max": "0",
          "histogram": [
           {
            "bin_start": -0.5,
            "bin_end": -0.4,
            "count": 0
           },
           {
            "bin_start": -0.4,
            "bin_end": -0.3,
            "count": 0
           },
           {
            "bin_start": -0.3,
            "bin_end": -0.19999999999999996,
            "count": 0
           },
           {
            "bin_start": -0.19999999999999996,
            "bin_end": -0.09999999999999998,
            "count": 0
           },
           {
            "bin_start": -0.09999999999999998,
            "bin_end": 0,
            "count": 0
           },
           {
            "bin_start": 0,
            "bin_end": 0.10000000000000009,
            "count": 5
           },
           {
            "bin_start": 0.10000000000000009,
            "bin_end": 0.20000000000000007,
            "count": 0
           },
           {
            "bin_start": 0.20000000000000007,
            "bin_end": 0.30000000000000004,
            "count": 0
           },
           {
            "bin_start": 0.30000000000000004,
            "bin_end": 0.4,
            "count": 0
           },
           {
            "bin_start": 0.4,
            "bin_end": 0.5,
            "count": 0
           }
          ]
         }
        },
        {
         "name": "CovalentUnitCount",
         "dtype": "float64",
         "stats": {
          "unique_count": 1,
          "nan_count": 0,
          "min": "1.0",
          "max": "1.0",
          "histogram": [
           {
            "bin_start": 0.5,
            "bin_end": 0.6,
            "count": 0
           },
           {
            "bin_start": 0.6,
            "bin_end": 0.7,
            "count": 0
           },
           {
            "bin_start": 0.7,
            "bin_end": 0.8,
            "count": 0
           },
           {
            "bin_start": 0.8,
            "bin_end": 0.9,
            "count": 0
           },
           {
            "bin_start": 0.9,
            "bin_end": 1,
            "count": 0
           },
           {
            "bin_start": 1,
            "bin_end": 1.1,
            "count": 5
           },
           {
            "bin_start": 1.1,
            "bin_end": 1.2000000000000002,
            "count": 0
           },
           {
            "bin_start": 1.2000000000000002,
            "bin_end": 1.3,
            "count": 0
           },
           {
            "bin_start": 1.3,
            "bin_end": 1.4,
            "count": 0
           },
           {
            "bin_start": 1.4,
            "bin_end": 1.5,
            "count": 0
           }
          ]
         }
        },
        {
         "name": "Volume3D",
         "dtype": "float64",
         "stats": {
          "unique_count": 5,
          "nan_count": 0,
          "min": "28.6",
          "max": "71.2",
          "histogram": [
           {
            "bin_start": 28.6,
            "bin_end": 32.86,
            "count": 2
           },
           {
            "bin_start": 32.86,
            "bin_end": 37.120000000000005,
            "count": 1
           },
           {
            "bin_start": 37.120000000000005,
            "bin_end": 41.38,
            "count": 0
           },
           {
            "bin_start": 41.38,
            "bin_end": 45.64,
            "count": 1
           },
           {
            "bin_start": 45.64,
            "bin_end": 49.9,
            "count": 0
           },
           {
            "bin_start": 49.9,
            "bin_end": 54.16,
            "count": 0
           },
           {
            "bin_start": 54.16,
            "bin_end": 58.42,
            "count": 0
           },
           {
            "bin_start": 58.42,
            "bin_end": 62.68,
            "count": 0
           },
           {
            "bin_start": 62.68,
            "bin_end": 66.94,
            "count": 0
           },
           {
            "bin_start": 66.94,
            "bin_end": 71.2,
            "count": 1
           }
          ]
         }
        },
        {
         "name": "XStericQuadrupole3D",
         "dtype": "float64",
         "stats": {
          "unique_count": 5,
          "nan_count": 0,
          "min": "0.84",
          "max": "3.13",
          "histogram": [
           {
            "bin_start": 0.84,
            "bin_end": 1.069,
            "count": 2
           },
           {
            "bin_start": 1.069,
            "bin_end": 1.298,
            "count": 0
           },
           {
            "bin_start": 1.298,
            "bin_end": 1.5270000000000001,
            "count": 2
           },
           {
            "bin_start": 1.5270000000000001,
            "bin_end": 1.756,
            "count": 0
           },
           {
            "bin_start": 1.756,
            "bin_end": 1.9849999999999999,
            "count": 0
           },
           {
            "bin_start": 1.9849999999999999,
            "bin_end": 2.214,
            "count": 0
           },
           {
            "bin_start": 2.214,
            "bin_end": 2.443,
            "count": 0
           },
           {
            "bin_start": 2.443,
            "bin_end": 2.672,
            "count": 0
           },
           {
            "bin_start": 2.672,
            "bin_end": 2.901,
            "count": 0
           },
           {
            "bin_start": 2.901,
            "bin_end": 3.13,
            "count": 1
           }
          ]
         }
        },
        {
         "name": "YStericQuadrupole3D",
         "dtype": "float64",
         "stats": {
          "unique_count": 5,
          "nan_count": 0,
          "min": "0.55",
          "max": "0.9",
          "histogram": [
           {
            "bin_start": 0.55,
            "bin_end": 0.5850000000000001,
            "count": 2
           },
           {
            "bin_start": 0.5850000000000001,
            "bin_end": 0.62,
            "count": 0
           },
           {
            "bin_start": 0.62,
            "bin_end": 0.655,
            "count": 0
           },
           {
            "bin_start": 0.655,
            "bin_end": 0.6900000000000001,
            "count": 0
           },
           {
            "bin_start": 0.6900000000000001,
            "bin_end": 0.7250000000000001,
            "count": 0
           },
           {
            "bin_start": 0.7250000000000001,
            "bin_end": 0.76,
            "count": 1
           },
           {
            "bin_start": 0.76,
            "bin_end": 0.795,
            "count": 0
           },
           {
            "bin_start": 0.795,
            "bin_end": 0.8300000000000001,
            "count": 0
           },
           {
            "bin_start": 0.8300000000000001,
            "bin_end": 0.865,
            "count": 1
           },
           {
            "bin_start": 0.865,
            "bin_end": 0.9,
            "count": 1
           }
          ]
         }
        },
        {
         "name": "ZStericQuadrupole3D",
         "dtype": "float64",
         "stats": {
          "unique_count": 5,
          "nan_count": 0,
          "min": "0.55",
          "max": "0.84",
          "histogram": [
           {
            "bin_start": 0.55,
            "bin_end": 0.5790000000000001,
            "count": 2
           },
           {
            "bin_start": 0.5790000000000001,
            "bin_end": 0.608,
            "count": 1
           },
           {
            "bin_start": 0.608,
            "bin_end": 0.637,
            "count": 0
           },
           {
            "bin_start": 0.637,
            "bin_end": 0.666,
            "count": 0
           },
           {
            "bin_start": 0.666,
            "bin_end": 0.6950000000000001,
            "count": 0
           },
           {
            "bin_start": 0.6950000000000001,
            "bin_end": 0.724,
            "count": 1
           },
           {
            "bin_start": 0.724,
            "bin_end": 0.753,
            "count": 0
           },
           {
            "bin_start": 0.753,
            "bin_end": 0.782,
            "count": 0
           },
           {
            "bin_start": 0.782,
            "bin_end": 0.8109999999999999,
            "count": 0
           },
           {
            "bin_start": 0.8109999999999999,
            "bin_end": 0.84,
            "count": 1
           }
          ]
         }
        },
        {
         "name": "FeatureCount3D",
         "dtype": "float64",
         "stats": {
          "unique_count": 4,
          "nan_count": 0,
          "min": "1.0",
          "max": "4.0",
          "histogram": [
           {
            "bin_start": 1,
            "bin_end": 1.3,
            "count": 1
           },
           {
            "bin_start": 1.3,
            "bin_end": 1.6,
            "count": 0
           },
           {
            "bin_start": 1.6,
            "bin_end": 1.9,
            "count": 0
           },
           {
            "bin_start": 1.9,
            "bin_end": 2.2,
            "count": 2
           },
           {
            "bin_start": 2.2,
            "bin_end": 2.5,
            "count": 0
           },
           {
            "bin_start": 2.5,
            "bin_end": 2.8,
            "count": 0
           },
           {
            "bin_start": 2.8,
            "bin_end": 3.1,
            "count": 1
           },
           {
            "bin_start": 3.1,
            "bin_end": 3.4,
            "count": 0
           },
           {
            "bin_start": 3.4,
            "bin_end": 3.6999999999999997,
            "count": 0
           },
           {
            "bin_start": 3.6999999999999997,
            "bin_end": 4,
            "count": 1
           }
          ]
         }
        },
        {
         "name": "FeatureAcceptorCount3D",
         "dtype": "float64",
         "stats": {
          "unique_count": 3,
          "nan_count": 0,
          "min": "0.0",
          "max": "2.0",
          "histogram": [
           {
            "bin_start": 0,
            "bin_end": 0.2,
            "count": 1
           },
           {
            "bin_start": 0.2,
            "bin_end": 0.4,
            "count": 0
           },
           {
            "bin_start": 0.4,
            "bin_end": 0.6000000000000001,
            "count": 0
           },
           {
            "bin_start": 0.6000000000000001,
            "bin_end": 0.8,
            "count": 0
           },
           {
            "bin_start": 0.8,
            "bin_end": 1,
            "count": 0
           },
           {
            "bin_start": 1,
            "bin_end": 1.2000000000000002,
            "count": 2
           },
           {
            "bin_start": 1.2000000000000002,
            "bin_end": 1.4000000000000001,
            "count": 0
           },
           {
            "bin_start": 1.4000000000000001,
            "bin_end": 1.6,
            "count": 0
           },
           {
            "bin_start": 1.6,
            "bin_end": 1.8,
            "count": 0
           },
           {
            "bin_start": 1.8,
            "bin_end": 2,
            "count": 2
           }
          ]
         }
        },
        {
         "name": "FeatureDonorCount3D",
         "dtype": "float64",
         "stats": {
          "unique_count": 2,
          "nan_count": 0,
          "min": "0.0",
          "max": "1.0",
          "histogram": [
           {
            "bin_start": 0,
            "bin_end": 0.1,
            "count": 2
           },
           {
            "bin_start": 0.1,
            "bin_end": 0.2,
            "count": 0
           },
           {
            "bin_start": 0.2,
            "bin_end": 0.30000000000000004,
            "count": 0
           },
           {
            "bin_start": 0.30000000000000004,
            "bin_end": 0.4,
            "count": 0
           },
           {
            "bin_start": 0.4,
            "bin_end": 0.5,
            "count": 0
           },
           {
            "bin_start": 0.5,
            "bin_end": 0.6000000000000001,
            "count": 0
           },
           {
            "bin_start": 0.6000000000000001,
            "bin_end": 0.7000000000000001,
            "count": 0
           },
           {
            "bin_start": 0.7000000000000001,
            "bin_end": 0.8,
            "count": 0
           },
           {
            "bin_start": 0.8,
            "bin_end": 0.9,
            "count": 0
           },
           {
            "bin_start": 0.9,
            "bin_end": 1,
            "count": 3
           }
          ]
         }
        },
        {
         "name": "FeatureAnionCount3D",
         "dtype": "float64",
         "stats": {
          "unique_count": 2,
          "nan_count": 0,
          "min": "0.0",
          "max": "1.0",
          "histogram": [
           {
            "bin_start": 0,
            "bin_end": 0.1,
            "count": 3
           },
           {
            "bin_start": 0.1,
            "bin_end": 0.2,
            "count": 0
           },
           {
            "bin_start": 0.2,
            "bin_end": 0.30000000000000004,
            "count": 0
           },
           {
            "bin_start": 0.30000000000000004,
            "bin_end": 0.4,
            "count": 0
           },
           {
            "bin_start": 0.4,
            "bin_end": 0.5,
            "count": 0
           },
           {
            "bin_start": 0.5,
            "bin_end": 0.6000000000000001,
            "count": 0
           },
           {
            "bin_start": 0.6000000000000001,
            "bin_end": 0.7000000000000001,
            "count": 0
           },
           {
            "bin_start": 0.7000000000000001,
            "bin_end": 0.8,
            "count": 0
           },
           {
            "bin_start": 0.8,
            "bin_end": 0.9,
            "count": 0
           },
           {
            "bin_start": 0.9,
            "bin_end": 1,
            "count": 2
           }
          ]
         }
        },
        {
         "name": "FeatureCationCount3D",
         "dtype": "float64",
         "stats": {
          "unique_count": 1,
          "nan_count": 0,
          "min": "0.0",
          "max": "0.0",
          "histogram": [
           {
            "bin_start": -0.5,
            "bin_end": -0.4,
            "count": 0
           },
           {
            "bin_start": -0.4,
            "bin_end": -0.3,
            "count": 0
           },
           {
            "bin_start": -0.3,
            "bin_end": -0.19999999999999996,
            "count": 0
           },
           {
            "bin_start": -0.19999999999999996,
            "bin_end": -0.09999999999999998,
            "count": 0
           },
           {
            "bin_start": -0.09999999999999998,
            "bin_end": 0,
            "count": 0
           },
           {
            "bin_start": 0,
            "bin_end": 0.10000000000000009,
            "count": 5
           },
           {
            "bin_start": 0.10000000000000009,
            "bin_end": 0.20000000000000007,
            "count": 0
           },
           {
            "bin_start": 0.20000000000000007,
            "bin_end": 0.30000000000000004,
            "count": 0
           },
           {
            "bin_start": 0.30000000000000004,
            "bin_end": 0.4,
            "count": 0
           },
           {
            "bin_start": 0.4,
            "bin_end": 0.5,
            "count": 0
           }
          ]
         }
        },
        {
         "name": "FeatureRingCount3D",
         "dtype": "float64",
         "stats": {
          "unique_count": 1,
          "nan_count": 0,
          "min": "0.0",
          "max": "0.0",
          "histogram": [
           {
            "bin_start": -0.5,
            "bin_end": -0.4,
            "count": 0
           },
           {
            "bin_start": -0.4,
            "bin_end": -0.3,
            "count": 0
           },
           {
            "bin_start": -0.3,
            "bin_end": -0.19999999999999996,
            "count": 0
           },
           {
            "bin_start": -0.19999999999999996,
            "bin_end": -0.09999999999999998,
            "count": 0
           },
           {
            "bin_start": -0.09999999999999998,
            "bin_end": 0,
            "count": 0
           },
           {
            "bin_start": 0,
            "bin_end": 0.10000000000000009,
            "count": 5
           },
           {
            "bin_start": 0.10000000000000009,
            "bin_end": 0.20000000000000007,
            "count": 0
           },
           {
            "bin_start": 0.20000000000000007,
            "bin_end": 0.30000000000000004,
            "count": 0
           },
           {
            "bin_start": 0.30000000000000004,
            "bin_end": 0.4,
            "count": 0
           },
           {
            "bin_start": 0.4,
            "bin_end": 0.5,
            "count": 0
           }
          ]
         }
        },
        {
         "name": "FeatureHydrophobeCount3D",
         "dtype": "float64",
         "stats": {
          "unique_count": 2,
          "nan_count": 0,
          "min": "0.0",
          "max": "1.0",
          "histogram": [
           {
            "bin_start": 0,
            "bin_end": 0.1,
            "count": 4
           },
           {
            "bin_start": 0.1,
            "bin_end": 0.2,
            "count": 0
           },
           {
            "bin_start": 0.2,
            "bin_end": 0.30000000000000004,
            "count": 0
           },
           {
            "bin_start": 0.30000000000000004,
            "bin_end": 0.4,
            "count": 0
           },
           {
            "bin_start": 0.4,
            "bin_end": 0.5,
            "count": 0
           },
           {
            "bin_start": 0.5,
            "bin_end": 0.6000000000000001,
            "count": 0
           },
           {
            "bin_start": 0.6000000000000001,
            "bin_end": 0.7000000000000001,
            "count": 0
           },
           {
            "bin_start": 0.7000000000000001,
            "bin_end": 0.8,
            "count": 0
           },
           {
            "bin_start": 0.8,
            "bin_end": 0.9,
            "count": 0
           },
           {
            "bin_start": 0.9,
            "bin_end": 1,
            "count": 1
           }
          ]
         }
        },
        {
         "name": "ConformerModelRMSD3D",
         "dtype": "float64",
         "stats": {
          "unique_count": 1,
          "nan_count": 0,
          "min": "0.4",
          "max": "0.4",
          "histogram": [
           {
            "bin_start": -0.09999999999999998,
            "bin_end": 2.7755575615628914e-17,
            "count": 0
           },
           {
            "bin_start": 2.7755575615628914e-17,
            "bin_end": 0.10000000000000003,
            "count": 0
           },
           {
            "bin_start": 0.10000000000000003,
            "bin_end": 0.20000000000000007,
            "count": 0
           },
           {
            "bin_start": 0.20000000000000007,
            "bin_end": 0.30000000000000004,
            "count": 0
           },
           {
            "bin_start": 0.30000000000000004,
            "bin_end": 0.4,
            "count": 0
           },
           {
            "bin_start": 0.4,
            "bin_end": 0.5000000000000001,
            "count": 5
           },
           {
            "bin_start": 0.5000000000000001,
            "bin_end": 0.6000000000000001,
            "count": 0
           },
           {
            "bin_start": 0.6000000000000001,
            "bin_end": 0.7000000000000001,
            "count": 0
           },
           {
            "bin_start": 0.7000000000000001,
            "bin_end": 0.8,
            "count": 0
           },
           {
            "bin_start": 0.8,
            "bin_end": 0.9,
            "count": 0
           }
          ]
         }
        },
        {
         "name": "EffectiveRotorCount3D",
         "dtype": "float64",
         "stats": {
          "unique_count": 2,
          "nan_count": 0,
          "min": "0.0",
          "max": "2.0",
          "histogram": [
           {
            "bin_start": 0,
            "bin_end": 0.2,
            "count": 4
           },
           {
            "bin_start": 0.2,
            "bin_end": 0.4,
            "count": 0
           },
           {
            "bin_start": 0.4,
            "bin_end": 0.6000000000000001,
            "count": 0
           },
           {
            "bin_start": 0.6000000000000001,
            "bin_end": 0.8,
            "count": 0
           },
           {
            "bin_start": 0.8,
            "bin_end": 1,
            "count": 0
           },
           {
            "bin_start": 1,
            "bin_end": 1.2000000000000002,
            "count": 0
           },
           {
            "bin_start": 1.2000000000000002,
            "bin_end": 1.4000000000000001,
            "count": 0
           },
           {
            "bin_start": 1.4000000000000001,
            "bin_end": 1.6,
            "count": 0
           },
           {
            "bin_start": 1.6,
            "bin_end": 1.8,
            "count": 0
           },
           {
            "bin_start": 1.8,
            "bin_end": 2,
            "count": 1
           }
          ]
         }
        },
        {
         "name": "ConformerCount3D",
         "dtype": "float64",
         "stats": {
          "unique_count": 2,
          "nan_count": 0,
          "min": "1.0",
          "max": "8.0",
          "histogram": [
           {
            "bin_start": 1,
            "bin_end": 1.7,
            "count": 4
           },
           {
            "bin_start": 1.7,
            "bin_end": 2.4,
            "count": 0
           },
           {
            "bin_start": 2.4,
            "bin_end": 3.0999999999999996,
            "count": 0
           },
           {
            "bin_start": 3.0999999999999996,
            "bin_end": 3.8,
            "count": 0
           },
           {
            "bin_start": 3.8,
            "bin_end": 4.5,
            "count": 0
           },
           {
            "bin_start": 4.5,
            "bin_end": 5.199999999999999,
            "count": 0
           },
           {
            "bin_start": 5.199999999999999,
            "bin_end": 5.8999999999999995,
            "count": 0
           },
           {
            "bin_start": 5.8999999999999995,
            "bin_end": 6.6,
            "count": 0
           },
           {
            "bin_start": 6.6,
            "bin_end": 7.3,
            "count": 0
           },
           {
            "bin_start": 7.3,
            "bin_end": 8,
            "count": 1
           }
          ]
         }
        },
        {
         "name": "_deepnote_index_column",
         "dtype": "int64"
        }
       ],
       "rows_top": [
        {
         "CID": 702,
         "MolecularFormula": "C2H6O",
         "MolecularWeight": "46.07",
         "InChI": "InChI=1S/C2H6O/c1-2-3/h3H,2H2,1H3",
         "InChIKey": "LFQSCWFLJHTTHZ-UHFFFAOYSA-N",
         "IUPACName": "ethanol",
         "XLogP": "-0.1",
         "ExactMass": "46.041864811",
         "MonoisotopicMass": "46.041864811",
         "TPSA": 20.2,
         "Complexity": 2,
         "Charge": 0,
         "HBondDonorCount": 1,
         "HBondAcceptorCount": 1,
         "RotatableBondCount": 0,
         "HeavyAtomCount": 3,
         "IsotopeAtomCount": 0,
         "AtomStereoCount": 0,
         "DefinedAtomStereoCount": 0,
         "UndefinedAtomStereoCount": 0,
         "BondStereoCount": 0,
         "DefinedBondStereoCount": 0,
         "UndefinedBondStereoCount": 0,
         "CovalentUnitCount": 1,
         "Volume3D": 41.5,
         "XStericQuadrupole3D": 1.48,
         "YStericQuadrupole3D": 0.75,
         "ZStericQuadrupole3D": 0.58,
         "FeatureCount3D": 2,
         "FeatureAcceptorCount3D": 1,
         "FeatureDonorCount3D": 1,
         "FeatureAnionCount3D": 0,
         "FeatureCationCount3D": 0,
         "FeatureRingCount3D": 0,
         "FeatureHydrophobeCount3D": 0,
         "ConformerModelRMSD3D": 0.4,
         "EffectiveRotorCount3D": 0,
         "ConformerCount3D": 1,
         "_deepnote_index_column": 0
        },
        {
         "CID": 24841,
         "MolecularFormula": "HI",
         "MolecularWeight": "127.9124",
         "InChI": "InChI=1S/HI/h1H",
         "InChIKey": "XMBWDFGMSWQBCA-UHFFFAOYSA-N",
         "IUPACName": "iodane",
         "XLogP": "0.9",
         "ExactMass": "127.91230",
         "MonoisotopicMass": "127.91230",
         "TPSA": 0,
         "Complexity": 0,
         "Charge": 0,
         "HBondDonorCount": 1,
         "HBondAcceptorCount": 0,
         "RotatableBondCount": 0,
         "HeavyAtomCount": 1,
         "IsotopeAtomCount": 0,
         "AtomStereoCount": 0,
         "DefinedAtomStereoCount": 0,
         "UndefinedAtomStereoCount": 0,
         "BondStereoCount": 0,
         "DefinedBondStereoCount": 0,
         "UndefinedBondStereoCount": 0,
         "CovalentUnitCount": 1,
         "Volume3D": 32.5,
         "XStericQuadrupole3D": 0.84,
         "YStericQuadrupole3D": 0.84,
         "ZStericQuadrupole3D": 0.84,
         "FeatureCount3D": 1,
         "FeatureAcceptorCount3D": 0,
         "FeatureDonorCount3D": 0,
         "FeatureAnionCount3D": 1,
         "FeatureCationCount3D": 0,
         "FeatureRingCount3D": 0,
         "FeatureHydrophobeCount3D": 0,
         "ConformerModelRMSD3D": 0.4,
         "EffectiveRotorCount3D": 0,
         "ConformerCount3D": 1,
         "_deepnote_index_column": 1
        },
        {
         "CID": 540,
         "MolecularFormula": "CHNO",
         "MolecularWeight": "43.025",
         "InChI": "InChI=1S/CHNO/c2-1-3/h3H",
         "InChIKey": "XLJMAIOERFSOGZ-UHFFFAOYSA-N",
         "IUPACName": "cyanic acid",
         "XLogP": "0.1",
         "ExactMass": "43.005813655",
         "MonoisotopicMass": "43.005813655",
         "TPSA": 44,
         "Complexity": 31,
         "Charge": 0,
         "HBondDonorCount": 1,
         "HBondAcceptorCount": 2,
         "RotatableBondCount": 0,
         "HeavyAtomCount": 3,
         "IsotopeAtomCount": 0,
         "AtomStereoCount": 0,
         "DefinedAtomStereoCount": 0,
         "UndefinedAtomStereoCount": 0,
         "BondStereoCount": 0,
         "DefinedBondStereoCount": 0,
         "UndefinedBondStereoCount": 0,
         "CovalentUnitCount": 1,
         "Volume3D": 33.3,
         "XStericQuadrupole3D": 1.47,
         "YStericQuadrupole3D": 0.55,
         "ZStericQuadrupole3D": 0.55,
         "FeatureCount3D": 3,
         "FeatureAcceptorCount3D": 2,
         "FeatureDonorCount3D": 1,
         "FeatureAnionCount3D": 0,
         "FeatureCationCount3D": 0,
         "FeatureRingCount3D": 0,
         "FeatureHydrophobeCount3D": 0,
         "ConformerModelRMSD3D": 0.4,
         "EffectiveRotorCount3D": 0,
         "ConformerCount3D": 1,
         "_deepnote_index_column": 2
        },
        {
         "CID": 887,
         "MolecularFormula": "CH4O",
         "MolecularWeight": "32.042",
         "InChI": "InChI=1S/CH4O/c1-2/h2H,1H3",
         "InChIKey": "OKKJLVBELUTLKV-UHFFFAOYSA-N",
         "IUPACName": "methanol",
         "XLogP": "-0.5",
         "ExactMass": "32.026214747",
         "MonoisotopicMass": "32.026214747",
         "TPSA": 20.2,
         "Complexity": 2,
         "Charge": 0,
         "HBondDonorCount": 1,
         "HBondAcceptorCount": 1,
         "RotatableBondCount": 0,
         "HeavyAtomCount": 2,
         "IsotopeAtomCount": 0,
         "AtomStereoCount": 0,
         "DefinedAtomStereoCount": 0,
         "UndefinedAtomStereoCount": 0,
         "BondStereoCount": 0,
         "DefinedBondStereoCount": 0,
         "UndefinedBondStereoCount": 0,
         "CovalentUnitCount": 1,
         "Volume3D": 28.6,
         "XStericQuadrupole3D": 1.05,
         "YStericQuadrupole3D": 0.56,
         "ZStericQuadrupole3D": 0.56,
         "FeatureCount3D": 2,
         "FeatureAcceptorCount3D": 1,
         "FeatureDonorCount3D": 1,
         "FeatureAnionCount3D": 0,
         "FeatureCationCount3D": 0,
         "FeatureRingCount3D": 0,
         "FeatureHydrophobeCount3D": 0,
         "ConformerModelRMSD3D": 0.4,
         "EffectiveRotorCount3D": 0,
         "ConformerCount3D": 1,
         "_deepnote_index_column": 3
        },
        {
         "CID": 7903,
         "MolecularFormula": "C3H7NO2",
         "MolecularWeight": "89.09",
         "InChI": "InChI=1S/C3H7NO2/c1-2-3-4(5)6/h2-3H2,1H3",
         "InChIKey": "JSZOAYXJRCEYSX-UHFFFAOYSA-N",
         "IUPACName": "1-nitropropane",
         "XLogP": "0.9",
         "ExactMass": "89.047678466",
         "MonoisotopicMass": "89.047678466",
         "TPSA": 45.8,
         "Complexity": 47,
         "Charge": 0,
         "HBondDonorCount": 0,
         "HBondAcceptorCount": 2,
         "RotatableBondCount": 1,
         "HeavyAtomCount": 6,
         "IsotopeAtomCount": 0,
         "AtomStereoCount": 0,
         "DefinedAtomStereoCount": 0,
         "UndefinedAtomStereoCount": 0,
         "BondStereoCount": 0,
         "DefinedBondStereoCount": 0,
         "UndefinedBondStereoCount": 0,
         "CovalentUnitCount": 1,
         "Volume3D": 71.2,
         "XStericQuadrupole3D": 3.13,
         "YStericQuadrupole3D": 0.9,
         "ZStericQuadrupole3D": 0.7,
         "FeatureCount3D": 4,
         "FeatureAcceptorCount3D": 2,
         "FeatureDonorCount3D": 0,
         "FeatureAnionCount3D": 1,
         "FeatureCationCount3D": 0,
         "FeatureRingCount3D": 0,
         "FeatureHydrophobeCount3D": 1,
         "ConformerModelRMSD3D": 0.4,
         "EffectiveRotorCount3D": 2,
         "ConformerCount3D": 8,
         "_deepnote_index_column": 4
        }
       ],
       "rows_bottom": null
      },
      "text/plain": "     CID MolecularFormula MolecularWeight  \\\n0    702            C2H6O           46.07   \n1  24841               HI        127.9124   \n2    540             CHNO          43.025   \n3    887             CH4O          32.042   \n4   7903          C3H7NO2           89.09   \n\n                                      InChI                     InChIKey  \\\n0         InChI=1S/C2H6O/c1-2-3/h3H,2H2,1H3  LFQSCWFLJHTTHZ-UHFFFAOYSA-N   \n1                           InChI=1S/HI/h1H  XMBWDFGMSWQBCA-UHFFFAOYSA-N   \n2                  InChI=1S/CHNO/c2-1-3/h3H  XLJMAIOERFSOGZ-UHFFFAOYSA-N   \n3                InChI=1S/CH4O/c1-2/h2H,1H3  OKKJLVBELUTLKV-UHFFFAOYSA-N   \n4  InChI=1S/C3H7NO2/c1-2-3-4(5)6/h2-3H2,1H3  JSZOAYXJRCEYSX-UHFFFAOYSA-N   \n\n        IUPACName XLogP     ExactMass MonoisotopicMass  TPSA  ...  \\\n0         ethanol  -0.1  46.041864811     46.041864811  20.2  ...   \n1          iodane   0.9     127.91230        127.91230   0.0  ...   \n2     cyanic acid   0.1  43.005813655     43.005813655  44.0  ...   \n3        methanol  -0.5  32.026214747     32.026214747  20.2  ...   \n4  1-nitropropane   0.9  89.047678466     89.047678466  45.8  ...   \n\n   FeatureCount3D  FeatureAcceptorCount3D  FeatureDonorCount3D  \\\n0             2.0                     1.0                  1.0   \n1             1.0                     0.0                  0.0   \n2             3.0                     2.0                  1.0   \n3             2.0                     1.0                  1.0   \n4             4.0                     2.0                  0.0   \n\n   FeatureAnionCount3D  FeatureCationCount3D  FeatureRingCount3D  \\\n0                  0.0                   0.0                 0.0   \n1                  1.0                   0.0                 0.0   \n2                  0.0                   0.0                 0.0   \n3                  0.0                   0.0                 0.0   \n4                  1.0                   0.0                 0.0   \n\n   FeatureHydrophobeCount3D  ConformerModelRMSD3D  EffectiveRotorCount3D  \\\n0                       0.0                   0.4                    0.0   \n1                       0.0                   0.4                    0.0   \n2                       0.0                   0.4                    0.0   \n3                       0.0                   0.4                    0.0   \n4                       1.0                   0.4                    2.0   \n\n   ConformerCount3D  \n0               1.0  \n1               1.0  \n2               1.0  \n3               1.0  \n4               8.0  \n\n[5 rows x 38 columns]",
      "text/html": "<div>\n<style scoped>\n    .dataframe tbody tr th:only-of-type {\n        vertical-align: middle;\n    }\n\n    .dataframe tbody tr th {\n        vertical-align: top;\n    }\n\n    .dataframe thead th {\n        text-align: right;\n    }\n</style>\n<table border=\"1\" class=\"dataframe\">\n  <thead>\n    <tr style=\"text-align: right;\">\n      <th></th>\n      <th>CID</th>\n      <th>MolecularFormula</th>\n      <th>MolecularWeight</th>\n      <th>InChI</th>\n      <th>InChIKey</th>\n      <th>IUPACName</th>\n      <th>XLogP</th>\n      <th>ExactMass</th>\n      <th>MonoisotopicMass</th>\n      <th>TPSA</th>\n      <th>...</th>\n      <th>FeatureCount3D</th>\n      <th>FeatureAcceptorCount3D</th>\n      <th>FeatureDonorCount3D</th>\n      <th>FeatureAnionCount3D</th>\n      <th>FeatureCationCount3D</th>\n      <th>FeatureRingCount3D</th>\n      <th>FeatureHydrophobeCount3D</th>\n      <th>ConformerModelRMSD3D</th>\n      <th>EffectiveRotorCount3D</th>\n      <th>ConformerCount3D</th>\n    </tr>\n  </thead>\n  <tbody>\n    <tr>\n      <th>0</th>\n      <td>702</td>\n      <td>C2H6O</td>\n      <td>46.07</td>\n      <td>InChI=1S/C2H6O/c1-2-3/h3H,2H2,1H3</td>\n      <td>LFQSCWFLJHTTHZ-UHFFFAOYSA-N</td>\n      <td>ethanol</td>\n      <td>-0.1</td>\n      <td>46.041864811</td>\n      <td>46.041864811</td>\n      <td>20.2</td>\n      <td>...</td>\n      <td>2.0</td>\n      <td>1.0</td>\n      <td>1.0</td>\n      <td>0.0</td>\n      <td>0.0</td>\n      <td>0.0</td>\n      <td>0.0</td>\n      <td>0.4</td>\n      <td>0.0</td>\n      <td>1.0</td>\n    </tr>\n    <tr>\n      <th>1</th>\n      <td>24841</td>\n      <td>HI</td>\n      <td>127.9124</td>\n      <td>InChI=1S/HI/h1H</td>\n      <td>XMBWDFGMSWQBCA-UHFFFAOYSA-N</td>\n      <td>iodane</td>\n      <td>0.9</td>\n      <td>127.91230</td>\n      <td>127.91230</td>\n      <td>0.0</td>\n      <td>...</td>\n      <td>1.0</td>\n      <td>0.0</td>\n      <td>0.0</td>\n      <td>1.0</td>\n      <td>0.0</td>\n      <td>0.0</td>\n      <td>0.0</td>\n      <td>0.4</td>\n      <td>0.0</td>\n      <td>1.0</td>\n    </tr>\n    <tr>\n      <th>2</th>\n      <td>540</td>\n      <td>CHNO</td>\n      <td>43.025</td>\n      <td>InChI=1S/CHNO/c2-1-3/h3H</td>\n      <td>XLJMAIOERFSOGZ-UHFFFAOYSA-N</td>\n      <td>cyanic acid</td>\n      <td>0.1</td>\n      <td>43.005813655</td>\n      <td>43.005813655</td>\n      <td>44.0</td>\n      <td>...</td>\n      <td>3.0</td>\n      <td>2.0</td>\n      <td>1.0</td>\n      <td>0.0</td>\n      <td>0.0</td>\n      <td>0.0</td>\n      <td>0.0</td>\n      <td>0.4</td>\n      <td>0.0</td>\n      <td>1.0</td>\n    </tr>\n    <tr>\n      <th>3</th>\n      <td>887</td>\n      <td>CH4O</td>\n      <td>32.042</td>\n      <td>InChI=1S/CH4O/c1-2/h2H,1H3</td>\n      <td>OKKJLVBELUTLKV-UHFFFAOYSA-N</td>\n      <td>methanol</td>\n      <td>-0.5</td>\n      <td>32.026214747</td>\n      <td>32.026214747</td>\n      <td>20.2</td>\n      <td>...</td>\n      <td>2.0</td>\n      <td>1.0</td>\n      <td>1.0</td>\n      <td>0.0</td>\n      <td>0.0</td>\n      <td>0.0</td>\n      <td>0.0</td>\n      <td>0.4</td>\n      <td>0.0</td>\n      <td>1.0</td>\n    </tr>\n    <tr>\n      <th>4</th>\n      <td>7903</td>\n      <td>C3H7NO2</td>\n      <td>89.09</td>\n      <td>InChI=1S/C3H7NO2/c1-2-3-4(5)6/h2-3H2,1H3</td>\n      <td>JSZOAYXJRCEYSX-UHFFFAOYSA-N</td>\n      <td>1-nitropropane</td>\n      <td>0.9</td>\n      <td>89.047678466</td>\n      <td>89.047678466</td>\n      <td>45.8</td>\n      <td>...</td>\n      <td>4.0</td>\n      <td>2.0</td>\n      <td>0.0</td>\n      <td>1.0</td>\n      <td>0.0</td>\n      <td>0.0</td>\n      <td>1.0</td>\n      <td>0.4</td>\n      <td>2.0</td>\n      <td>8.0</td>\n    </tr>\n  </tbody>\n</table>\n<p>5 rows × 38 columns</p>\n</div>"
     },
     "metadata": {}
    }
   ],
   "execution_count": null
  },
  {
   "cell_type": "code",
   "source": "props_df_.insert(0, 'smiles', smiles_list)\nprops_df_.head()",
   "metadata": {
    "tags": [],
    "cell_id": "00052-2ab9ea89-d256-42fb-b73b-371488576b79",
    "deepnote_to_be_reexecuted": false,
    "source_hash": "da2545e1",
    "execution_start": 1634038707011,
    "execution_millis": 87,
    "deepnote_cell_type": "code"
   },
   "outputs": [
    {
     "output_type": "execute_result",
     "execution_count": 159,
     "data": {
      "application/vnd.deepnote.dataframe.v2+json": {
       "row_count": 5,
       "column_count": 39,
       "columns": [
        {
         "name": "smiles",
         "dtype": "object",
         "stats": {
          "unique_count": 5,
          "nan_count": 0,
          "categories": [
           {
            "name": "CCO",
            "count": 1
           },
           {
            "name": "I",
            "count": 1
           },
           {
            "name": "3 others",
            "count": 3
           }
          ]
         }
        },
        {
         "name": "CID",
         "dtype": "int64",
         "stats": {
          "unique_count": 5,
          "nan_count": 0,
          "min": "540",
          "max": "24841",
          "histogram": [
           {
            "bin_start": 540,
            "bin_end": 2970.1,
            "count": 3
           },
           {
            "bin_start": 2970.1,
            "bin_end": 5400.2,
            "count": 0
           },
           {
            "bin_start": 5400.2,
            "bin_end": 7830.299999999999,
            "count": 0
           },
           {
            "bin_start": 7830.299999999999,
            "bin_end": 10260.4,
            "count": 1
           },
           {
            "bin_start": 10260.4,
            "bin_end": 12690.5,
            "count": 0
           },
           {
            "bin_start": 12690.5,
            "bin_end": 15120.599999999999,
            "count": 0
           },
           {
            "bin_start": 15120.599999999999,
            "bin_end": 17550.7,
            "count": 0
           },
           {
            "bin_start": 17550.7,
            "bin_end": 19980.8,
            "count": 0
           },
           {
            "bin_start": 19980.8,
            "bin_end": 22410.899999999998,
            "count": 0
           },
           {
            "bin_start": 22410.899999999998,
            "bin_end": 24841,
            "count": 1
           }
          ]
         }
        },
        {
         "name": "MolecularFormula",
         "dtype": "object",
         "stats": {
          "unique_count": 5,
          "nan_count": 0,
          "categories": [
           {
            "name": "C2H6O",
            "count": 1
           },
           {
            "name": "HI",
            "count": 1
           },
           {
            "name": "3 others",
            "count": 3
           }
          ]
         }
        },
        {
         "name": "MolecularWeight",
         "dtype": "object",
         "stats": {
          "unique_count": 5,
          "nan_count": 0,
          "categories": [
           {
            "name": "46.07",
            "count": 1
           },
           {
            "name": "127.9124",
            "count": 1
           },
           {
            "name": "3 others",
            "count": 3
           }
          ]
         }
        },
        {
         "name": "InChI",
         "dtype": "object",
         "stats": {
          "unique_count": 5,
          "nan_count": 0,
          "categories": [
           {
            "name": "InChI=1S/C2H6O/c1-2-3/h3H,2H2,1H3",
            "count": 1
           },
           {
            "name": "InChI=1S/HI/h1H",
            "count": 1
           },
           {
            "name": "3 others",
            "count": 3
           }
          ]
         }
        },
        {
         "name": "InChIKey",
         "dtype": "object",
         "stats": {
          "unique_count": 5,
          "nan_count": 0,
          "categories": [
           {
            "name": "LFQSCWFLJHTTHZ-UHFFFAOYSA-N",
            "count": 1
           },
           {
            "name": "XMBWDFGMSWQBCA-UHFFFAOYSA-N",
            "count": 1
           },
           {
            "name": "3 others",
            "count": 3
           }
          ]
         }
        },
        {
         "name": "IUPACName",
         "dtype": "object",
         "stats": {
          "unique_count": 5,
          "nan_count": 0,
          "categories": [
           {
            "name": "ethanol",
            "count": 1
           },
           {
            "name": "iodane",
            "count": 1
           },
           {
            "name": "3 others",
            "count": 3
           }
          ]
         }
        },
        {
         "name": "XLogP",
         "dtype": "object",
         "stats": {
          "unique_count": 4,
          "nan_count": 0,
          "categories": [
           {
            "name": "0.9",
            "count": 2
           },
           {
            "name": "-0.1",
            "count": 1
           },
           {
            "name": "2 others",
            "count": 2
           }
          ]
         }
        },
        {
         "name": "ExactMass",
         "dtype": "object",
         "stats": {
          "unique_count": 5,
          "nan_count": 0,
          "categories": [
           {
            "name": "46.041864811",
            "count": 1
           },
           {
            "name": "127.91230",
            "count": 1
           },
           {
            "name": "3 others",
            "count": 3
           }
          ]
         }
        },
        {
         "name": "MonoisotopicMass",
         "dtype": "object",
         "stats": {
          "unique_count": 5,
          "nan_count": 0,
          "categories": [
           {
            "name": "46.041864811",
            "count": 1
           },
           {
            "name": "127.91230",
            "count": 1
           },
           {
            "name": "3 others",
            "count": 3
           }
          ]
         }
        },
        {
         "name": "TPSA",
         "dtype": "float64",
         "stats": {
          "unique_count": 4,
          "nan_count": 0,
          "min": "0.0",
          "max": "45.8",
          "histogram": [
           {
            "bin_start": 0,
            "bin_end": 4.58,
            "count": 1
           },
           {
            "bin_start": 4.58,
            "bin_end": 9.16,
            "count": 0
           },
           {
            "bin_start": 9.16,
            "bin_end": 13.74,
            "count": 0
           },
           {
            "bin_start": 13.74,
            "bin_end": 18.32,
            "count": 0
           },
           {
            "bin_start": 18.32,
            "bin_end": 22.9,
            "count": 2
           },
           {
            "bin_start": 22.9,
            "bin_end": 27.48,
            "count": 0
           },
           {
            "bin_start": 27.48,
            "bin_end": 32.06,
            "count": 0
           },
           {
            "bin_start": 32.06,
            "bin_end": 36.64,
            "count": 0
           },
           {
            "bin_start": 36.64,
            "bin_end": 41.22,
            "count": 0
           },
           {
            "bin_start": 41.22,
            "bin_end": 45.8,
            "count": 2
           }
          ]
         }
        },
        {
         "name": "Complexity",
         "dtype": "int64",
         "stats": {
          "unique_count": 4,
          "nan_count": 0,
          "min": "0",
          "max": "47",
          "histogram": [
           {
            "bin_start": 0,
            "bin_end": 4.7,
            "count": 3
           },
           {
            "bin_start": 4.7,
            "bin_end": 9.4,
            "count": 0
           },
           {
            "bin_start": 9.4,
            "bin_end": 14.100000000000001,
            "count": 0
           },
           {
            "bin_start": 14.100000000000001,
            "bin_end": 18.8,
            "count": 0
           },
           {
            "bin_start": 18.8,
            "bin_end": 23.5,
            "count": 0
           },
           {
            "bin_start": 23.5,
            "bin_end": 28.200000000000003,
            "count": 0
           },
           {
            "bin_start": 28.200000000000003,
            "bin_end": 32.9,
            "count": 1
           },
           {
            "bin_start": 32.9,
            "bin_end": 37.6,
            "count": 0
           },
           {
            "bin_start": 37.6,
            "bin_end": 42.300000000000004,
            "count": 0
           },
           {
            "bin_start": 42.300000000000004,
            "bin_end": 47,
            "count": 1
           }
          ]
         }
        },
        {
         "name": "Charge",
         "dtype": "int64",
         "stats": {
          "unique_count": 1,
          "nan_count": 0,
          "min": "0",
          "max": "0",
          "histogram": [
           {
            "bin_start": -0.5,
            "bin_end": -0.4,
            "count": 0
           },
           {
            "bin_start": -0.4,
            "bin_end": -0.3,
            "count": 0
           },
           {
            "bin_start": -0.3,
            "bin_end": -0.19999999999999996,
            "count": 0
           },
           {
            "bin_start": -0.19999999999999996,
            "bin_end": -0.09999999999999998,
            "count": 0
           },
           {
            "bin_start": -0.09999999999999998,
            "bin_end": 0,
            "count": 0
           },
           {
            "bin_start": 0,
            "bin_end": 0.10000000000000009,
            "count": 5
           },
           {
            "bin_start": 0.10000000000000009,
            "bin_end": 0.20000000000000007,
            "count": 0
           },
           {
            "bin_start": 0.20000000000000007,
            "bin_end": 0.30000000000000004,
            "count": 0
           },
           {
            "bin_start": 0.30000000000000004,
            "bin_end": 0.4,
            "count": 0
           },
           {
            "bin_start": 0.4,
            "bin_end": 0.5,
            "count": 0
           }
          ]
         }
        },
        {
         "name": "HBondDonorCount",
         "dtype": "int64",
         "stats": {
          "unique_count": 2,
          "nan_count": 0,
          "min": "0",
          "max": "1",
          "histogram": [
           {
            "bin_start": 0,
            "bin_end": 0.1,
            "count": 1
           },
           {
            "bin_start": 0.1,
            "bin_end": 0.2,
            "count": 0
           },
           {
            "bin_start": 0.2,
            "bin_end": 0.30000000000000004,
            "count": 0
           },
           {
            "bin_start": 0.30000000000000004,
            "bin_end": 0.4,
            "count": 0
           },
           {
            "bin_start": 0.4,
            "bin_end": 0.5,
            "count": 0
           },
           {
            "bin_start": 0.5,
            "bin_end": 0.6000000000000001,
            "count": 0
           },
           {
            "bin_start": 0.6000000000000001,
            "bin_end": 0.7000000000000001,
            "count": 0
           },
           {
            "bin_start": 0.7000000000000001,
            "bin_end": 0.8,
            "count": 0
           },
           {
            "bin_start": 0.8,
            "bin_end": 0.9,
            "count": 0
           },
           {
            "bin_start": 0.9,
            "bin_end": 1,
            "count": 4
           }
          ]
         }
        },
        {
         "name": "HBondAcceptorCount",
         "dtype": "int64",
         "stats": {
          "unique_count": 3,
          "nan_count": 0,
          "min": "0",
          "max": "2",
          "histogram": [
           {
            "bin_start": 0,
            "bin_end": 0.2,
            "count": 1
           },
           {
            "bin_start": 0.2,
            "bin_end": 0.4,
            "count": 0
           },
           {
            "bin_start": 0.4,
            "bin_end": 0.6000000000000001,
            "count": 0
           },
           {
            "bin_start": 0.6000000000000001,
            "bin_end": 0.8,
            "count": 0
           },
           {
            "bin_start": 0.8,
            "bin_end": 1,
            "count": 0
           },
           {
            "bin_start": 1,
            "bin_end": 1.2000000000000002,
            "count": 2
           },
           {
            "bin_start": 1.2000000000000002,
            "bin_end": 1.4000000000000001,
            "count": 0
           },
           {
            "bin_start": 1.4000000000000001,
            "bin_end": 1.6,
            "count": 0
           },
           {
            "bin_start": 1.6,
            "bin_end": 1.8,
            "count": 0
           },
           {
            "bin_start": 1.8,
            "bin_end": 2,
            "count": 2
           }
          ]
         }
        },
        {
         "name": "RotatableBondCount",
         "dtype": "int64",
         "stats": {
          "unique_count": 2,
          "nan_count": 0,
          "min": "0",
          "max": "1",
          "histogram": [
           {
            "bin_start": 0,
            "bin_end": 0.1,
            "count": 4
           },
           {
            "bin_start": 0.1,
            "bin_end": 0.2,
            "count": 0
           },
           {
            "bin_start": 0.2,
            "bin_end": 0.30000000000000004,
            "count": 0
           },
           {
            "bin_start": 0.30000000000000004,
            "bin_end": 0.4,
            "count": 0
           },
           {
            "bin_start": 0.4,
            "bin_end": 0.5,
            "count": 0
           },
           {
            "bin_start": 0.5,
            "bin_end": 0.6000000000000001,
            "count": 0
           },
           {
            "bin_start": 0.6000000000000001,
            "bin_end": 0.7000000000000001,
            "count": 0
           },
           {
            "bin_start": 0.7000000000000001,
            "bin_end": 0.8,
            "count": 0
           },
           {
            "bin_start": 0.8,
            "bin_end": 0.9,
            "count": 0
           },
           {
            "bin_start": 0.9,
            "bin_end": 1,
            "count": 1
           }
          ]
         }
        },
        {
         "name": "HeavyAtomCount",
         "dtype": "int64",
         "stats": {
          "unique_count": 4,
          "nan_count": 0,
          "min": "1",
          "max": "6",
          "histogram": [
           {
            "bin_start": 1,
            "bin_end": 1.5,
            "count": 1
           },
           {
            "bin_start": 1.5,
            "bin_end": 2,
            "count": 0
           },
           {
            "bin_start": 2,
            "bin_end": 2.5,
            "count": 1
           },
           {
            "bin_start": 2.5,
            "bin_end": 3,
            "count": 0
           },
           {
            "bin_start": 3,
            "bin_end": 3.5,
            "count": 2
           },
           {
            "bin_start": 3.5,
            "bin_end": 4,
            "count": 0
           },
           {
            "bin_start": 4,
            "bin_end": 4.5,
            "count": 0
           },
           {
            "bin_start": 4.5,
            "bin_end": 5,
            "count": 0
           },
           {
            "bin_start": 5,
            "bin_end": 5.5,
            "count": 0
           },
           {
            "bin_start": 5.5,
            "bin_end": 6,
            "count": 1
           }
          ]
         }
        },
        {
         "name": "IsotopeAtomCount",
         "dtype": "int64",
         "stats": {
          "unique_count": 1,
          "nan_count": 0,
          "min": "0",
          "max": "0",
          "histogram": [
           {
            "bin_start": -0.5,
            "bin_end": -0.4,
            "count": 0
           },
           {
            "bin_start": -0.4,
            "bin_end": -0.3,
            "count": 0
           },
           {
            "bin_start": -0.3,
            "bin_end": -0.19999999999999996,
            "count": 0
           },
           {
            "bin_start": -0.19999999999999996,
            "bin_end": -0.09999999999999998,
            "count": 0
           },
           {
            "bin_start": -0.09999999999999998,
            "bin_end": 0,
            "count": 0
           },
           {
            "bin_start": 0,
            "bin_end": 0.10000000000000009,
            "count": 5
           },
           {
            "bin_start": 0.10000000000000009,
            "bin_end": 0.20000000000000007,
            "count": 0
           },
           {
            "bin_start": 0.20000000000000007,
            "bin_end": 0.30000000000000004,
            "count": 0
           },
           {
            "bin_start": 0.30000000000000004,
            "bin_end": 0.4,
            "count": 0
           },
           {
            "bin_start": 0.4,
            "bin_end": 0.5,
            "count": 0
           }
          ]
         }
        },
        {
         "name": "AtomStereoCount",
         "dtype": "int64",
         "stats": {
          "unique_count": 1,
          "nan_count": 0,
          "min": "0",
          "max": "0",
          "histogram": [
           {
            "bin_start": -0.5,
            "bin_end": -0.4,
            "count": 0
           },
           {
            "bin_start": -0.4,
            "bin_end": -0.3,
            "count": 0
           },
           {
            "bin_start": -0.3,
            "bin_end": -0.19999999999999996,
            "count": 0
           },
           {
            "bin_start": -0.19999999999999996,
            "bin_end": -0.09999999999999998,
            "count": 0
           },
           {
            "bin_start": -0.09999999999999998,
            "bin_end": 0,
            "count": 0
           },
           {
            "bin_start": 0,
            "bin_end": 0.10000000000000009,
            "count": 5
           },
           {
            "bin_start": 0.10000000000000009,
            "bin_end": 0.20000000000000007,
            "count": 0
           },
           {
            "bin_start": 0.20000000000000007,
            "bin_end": 0.30000000000000004,
            "count": 0
           },
           {
            "bin_start": 0.30000000000000004,
            "bin_end": 0.4,
            "count": 0
           },
           {
            "bin_start": 0.4,
            "bin_end": 0.5,
            "count": 0
           }
          ]
         }
        },
        {
         "name": "DefinedAtomStereoCount",
         "dtype": "int64",
         "stats": {
          "unique_count": 1,
          "nan_count": 0,
          "min": "0",
          "max": "0",
          "histogram": [
           {
            "bin_start": -0.5,
            "bin_end": -0.4,
            "count": 0
           },
           {
            "bin_start": -0.4,
            "bin_end": -0.3,
            "count": 0
           },
           {
            "bin_start": -0.3,
            "bin_end": -0.19999999999999996,
            "count": 0
           },
           {
            "bin_start": -0.19999999999999996,
            "bin_end": -0.09999999999999998,
            "count": 0
           },
           {
            "bin_start": -0.09999999999999998,
            "bin_end": 0,
            "count": 0
           },
           {
            "bin_start": 0,
            "bin_end": 0.10000000000000009,
            "count": 5
           },
           {
            "bin_start": 0.10000000000000009,
            "bin_end": 0.20000000000000007,
            "count": 0
           },
           {
            "bin_start": 0.20000000000000007,
            "bin_end": 0.30000000000000004,
            "count": 0
           },
           {
            "bin_start": 0.30000000000000004,
            "bin_end": 0.4,
            "count": 0
           },
           {
            "bin_start": 0.4,
            "bin_end": 0.5,
            "count": 0
           }
          ]
         }
        },
        {
         "name": "UndefinedAtomStereoCount",
         "dtype": "int64",
         "stats": {
          "unique_count": 1,
          "nan_count": 0,
          "min": "0",
          "max": "0",
          "histogram": [
           {
            "bin_start": -0.5,
            "bin_end": -0.4,
            "count": 0
           },
           {
            "bin_start": -0.4,
            "bin_end": -0.3,
            "count": 0
           },
           {
            "bin_start": -0.3,
            "bin_end": -0.19999999999999996,
            "count": 0
           },
           {
            "bin_start": -0.19999999999999996,
            "bin_end": -0.09999999999999998,
            "count": 0
           },
           {
            "bin_start": -0.09999999999999998,
            "bin_end": 0,
            "count": 0
           },
           {
            "bin_start": 0,
            "bin_end": 0.10000000000000009,
            "count": 5
           },
           {
            "bin_start": 0.10000000000000009,
            "bin_end": 0.20000000000000007,
            "count": 0
           },
           {
            "bin_start": 0.20000000000000007,
            "bin_end": 0.30000000000000004,
            "count": 0
           },
           {
            "bin_start": 0.30000000000000004,
            "bin_end": 0.4,
            "count": 0
           },
           {
            "bin_start": 0.4,
            "bin_end": 0.5,
            "count": 0
           }
          ]
         }
        },
        {
         "name": "BondStereoCount",
         "dtype": "int64",
         "stats": {
          "unique_count": 1,
          "nan_count": 0,
          "min": "0",
          "max": "0",
          "histogram": [
           {
            "bin_start": -0.5,
            "bin_end": -0.4,
            "count": 0
           },
           {
            "bin_start": -0.4,
            "bin_end": -0.3,
            "count": 0
           },
           {
            "bin_start": -0.3,
            "bin_end": -0.19999999999999996,
            "count": 0
           },
           {
            "bin_start": -0.19999999999999996,
            "bin_end": -0.09999999999999998,
            "count": 0
           },
           {
            "bin_start": -0.09999999999999998,
            "bin_end": 0,
            "count": 0
           },
           {
            "bin_start": 0,
            "bin_end": 0.10000000000000009,
            "count": 5
           },
           {
            "bin_start": 0.10000000000000009,
            "bin_end": 0.20000000000000007,
            "count": 0
           },
           {
            "bin_start": 0.20000000000000007,
            "bin_end": 0.30000000000000004,
            "count": 0
           },
           {
            "bin_start": 0.30000000000000004,
            "bin_end": 0.4,
            "count": 0
           },
           {
            "bin_start": 0.4,
            "bin_end": 0.5,
            "count": 0
           }
          ]
         }
        },
        {
         "name": "DefinedBondStereoCount",
         "dtype": "int64",
         "stats": {
          "unique_count": 1,
          "nan_count": 0,
          "min": "0",
          "max": "0",
          "histogram": [
           {
            "bin_start": -0.5,
            "bin_end": -0.4,
            "count": 0
           },
           {
            "bin_start": -0.4,
            "bin_end": -0.3,
            "count": 0
           },
           {
            "bin_start": -0.3,
            "bin_end": -0.19999999999999996,
            "count": 0
           },
           {
            "bin_start": -0.19999999999999996,
            "bin_end": -0.09999999999999998,
            "count": 0
           },
           {
            "bin_start": -0.09999999999999998,
            "bin_end": 0,
            "count": 0
           },
           {
            "bin_start": 0,
            "bin_end": 0.10000000000000009,
            "count": 5
           },
           {
            "bin_start": 0.10000000000000009,
            "bin_end": 0.20000000000000007,
            "count": 0
           },
           {
            "bin_start": 0.20000000000000007,
            "bin_end": 0.30000000000000004,
            "count": 0
           },
           {
            "bin_start": 0.30000000000000004,
            "bin_end": 0.4,
            "count": 0
           },
           {
            "bin_start": 0.4,
            "bin_end": 0.5,
            "count": 0
           }
          ]
         }
        },
        {
         "name": "UndefinedBondStereoCount",
         "dtype": "int64",
         "stats": {
          "unique_count": 1,
          "nan_count": 0,
          "min": "0",
          "max": "0",
          "histogram": [
           {
            "bin_start": -0.5,
            "bin_end": -0.4,
            "count": 0
           },
           {
            "bin_start": -0.4,
            "bin_end": -0.3,
            "count": 0
           },
           {
            "bin_start": -0.3,
            "bin_end": -0.19999999999999996,
            "count": 0
           },
           {
            "bin_start": -0.19999999999999996,
            "bin_end": -0.09999999999999998,
            "count": 0
           },
           {
            "bin_start": -0.09999999999999998,
            "bin_end": 0,
            "count": 0
           },
           {
            "bin_start": 0,
            "bin_end": 0.10000000000000009,
            "count": 5
           },
           {
            "bin_start": 0.10000000000000009,
            "bin_end": 0.20000000000000007,
            "count": 0
           },
           {
            "bin_start": 0.20000000000000007,
            "bin_end": 0.30000000000000004,
            "count": 0
           },
           {
            "bin_start": 0.30000000000000004,
            "bin_end": 0.4,
            "count": 0
           },
           {
            "bin_start": 0.4,
            "bin_end": 0.5,
            "count": 0
           }
          ]
         }
        },
        {
         "name": "CovalentUnitCount",
         "dtype": "float64",
         "stats": {
          "unique_count": 1,
          "nan_count": 0,
          "min": "1.0",
          "max": "1.0",
          "histogram": [
           {
            "bin_start": 0.5,
            "bin_end": 0.6,
            "count": 0
           },
           {
            "bin_start": 0.6,
            "bin_end": 0.7,
            "count": 0
           },
           {
            "bin_start": 0.7,
            "bin_end": 0.8,
            "count": 0
           },
           {
            "bin_start": 0.8,
            "bin_end": 0.9,
            "count": 0
           },
           {
            "bin_start": 0.9,
            "bin_end": 1,
            "count": 0
           },
           {
            "bin_start": 1,
            "bin_end": 1.1,
            "count": 5
           },
           {
            "bin_start": 1.1,
            "bin_end": 1.2000000000000002,
            "count": 0
           },
           {
            "bin_start": 1.2000000000000002,
            "bin_end": 1.3,
            "count": 0
           },
           {
            "bin_start": 1.3,
            "bin_end": 1.4,
            "count": 0
           },
           {
            "bin_start": 1.4,
            "bin_end": 1.5,
            "count": 0
           }
          ]
         }
        },
        {
         "name": "Volume3D",
         "dtype": "float64",
         "stats": {
          "unique_count": 5,
          "nan_count": 0,
          "min": "28.6",
          "max": "71.2",
          "histogram": [
           {
            "bin_start": 28.6,
            "bin_end": 32.86,
            "count": 2
           },
           {
            "bin_start": 32.86,
            "bin_end": 37.120000000000005,
            "count": 1
           },
           {
            "bin_start": 37.120000000000005,
            "bin_end": 41.38,
            "count": 0
           },
           {
            "bin_start": 41.38,
            "bin_end": 45.64,
            "count": 1
           },
           {
            "bin_start": 45.64,
            "bin_end": 49.9,
            "count": 0
           },
           {
            "bin_start": 49.9,
            "bin_end": 54.16,
            "count": 0
           },
           {
            "bin_start": 54.16,
            "bin_end": 58.42,
            "count": 0
           },
           {
            "bin_start": 58.42,
            "bin_end": 62.68,
            "count": 0
           },
           {
            "bin_start": 62.68,
            "bin_end": 66.94,
            "count": 0
           },
           {
            "bin_start": 66.94,
            "bin_end": 71.2,
            "count": 1
           }
          ]
         }
        },
        {
         "name": "XStericQuadrupole3D",
         "dtype": "float64",
         "stats": {
          "unique_count": 5,
          "nan_count": 0,
          "min": "0.84",
          "max": "3.13",
          "histogram": [
           {
            "bin_start": 0.84,
            "bin_end": 1.069,
            "count": 2
           },
           {
            "bin_start": 1.069,
            "bin_end": 1.298,
            "count": 0
           },
           {
            "bin_start": 1.298,
            "bin_end": 1.5270000000000001,
            "count": 2
           },
           {
            "bin_start": 1.5270000000000001,
            "bin_end": 1.756,
            "count": 0
           },
           {
            "bin_start": 1.756,
            "bin_end": 1.9849999999999999,
            "count": 0
           },
           {
            "bin_start": 1.9849999999999999,
            "bin_end": 2.214,
            "count": 0
           },
           {
            "bin_start": 2.214,
            "bin_end": 2.443,
            "count": 0
           },
           {
            "bin_start": 2.443,
            "bin_end": 2.672,
            "count": 0
           },
           {
            "bin_start": 2.672,
            "bin_end": 2.901,
            "count": 0
           },
           {
            "bin_start": 2.901,
            "bin_end": 3.13,
            "count": 1
           }
          ]
         }
        },
        {
         "name": "YStericQuadrupole3D",
         "dtype": "float64",
         "stats": {
          "unique_count": 5,
          "nan_count": 0,
          "min": "0.55",
          "max": "0.9",
          "histogram": [
           {
            "bin_start": 0.55,
            "bin_end": 0.5850000000000001,
            "count": 2
           },
           {
            "bin_start": 0.5850000000000001,
            "bin_end": 0.62,
            "count": 0
           },
           {
            "bin_start": 0.62,
            "bin_end": 0.655,
            "count": 0
           },
           {
            "bin_start": 0.655,
            "bin_end": 0.6900000000000001,
            "count": 0
           },
           {
            "bin_start": 0.6900000000000001,
            "bin_end": 0.7250000000000001,
            "count": 0
           },
           {
            "bin_start": 0.7250000000000001,
            "bin_end": 0.76,
            "count": 1
           },
           {
            "bin_start": 0.76,
            "bin_end": 0.795,
            "count": 0
           },
           {
            "bin_start": 0.795,
            "bin_end": 0.8300000000000001,
            "count": 0
           },
           {
            "bin_start": 0.8300000000000001,
            "bin_end": 0.865,
            "count": 1
           },
           {
            "bin_start": 0.865,
            "bin_end": 0.9,
            "count": 1
           }
          ]
         }
        },
        {
         "name": "ZStericQuadrupole3D",
         "dtype": "float64",
         "stats": {
          "unique_count": 5,
          "nan_count": 0,
          "min": "0.55",
          "max": "0.84",
          "histogram": [
           {
            "bin_start": 0.55,
            "bin_end": 0.5790000000000001,
            "count": 2
           },
           {
            "bin_start": 0.5790000000000001,
            "bin_end": 0.608,
            "count": 1
           },
           {
            "bin_start": 0.608,
            "bin_end": 0.637,
            "count": 0
           },
           {
            "bin_start": 0.637,
            "bin_end": 0.666,
            "count": 0
           },
           {
            "bin_start": 0.666,
            "bin_end": 0.6950000000000001,
            "count": 0
           },
           {
            "bin_start": 0.6950000000000001,
            "bin_end": 0.724,
            "count": 1
           },
           {
            "bin_start": 0.724,
            "bin_end": 0.753,
            "count": 0
           },
           {
            "bin_start": 0.753,
            "bin_end": 0.782,
            "count": 0
           },
           {
            "bin_start": 0.782,
            "bin_end": 0.8109999999999999,
            "count": 0
           },
           {
            "bin_start": 0.8109999999999999,
            "bin_end": 0.84,
            "count": 1
           }
          ]
         }
        },
        {
         "name": "FeatureCount3D",
         "dtype": "float64",
         "stats": {
          "unique_count": 4,
          "nan_count": 0,
          "min": "1.0",
          "max": "4.0",
          "histogram": [
           {
            "bin_start": 1,
            "bin_end": 1.3,
            "count": 1
           },
           {
            "bin_start": 1.3,
            "bin_end": 1.6,
            "count": 0
           },
           {
            "bin_start": 1.6,
            "bin_end": 1.9,
            "count": 0
           },
           {
            "bin_start": 1.9,
            "bin_end": 2.2,
            "count": 2
           },
           {
            "bin_start": 2.2,
            "bin_end": 2.5,
            "count": 0
           },
           {
            "bin_start": 2.5,
            "bin_end": 2.8,
            "count": 0
           },
           {
            "bin_start": 2.8,
            "bin_end": 3.1,
            "count": 1
           },
           {
            "bin_start": 3.1,
            "bin_end": 3.4,
            "count": 0
           },
           {
            "bin_start": 3.4,
            "bin_end": 3.6999999999999997,
            "count": 0
           },
           {
            "bin_start": 3.6999999999999997,
            "bin_end": 4,
            "count": 1
           }
          ]
         }
        },
        {
         "name": "FeatureAcceptorCount3D",
         "dtype": "float64",
         "stats": {
          "unique_count": 3,
          "nan_count": 0,
          "min": "0.0",
          "max": "2.0",
          "histogram": [
           {
            "bin_start": 0,
            "bin_end": 0.2,
            "count": 1
           },
           {
            "bin_start": 0.2,
            "bin_end": 0.4,
            "count": 0
           },
           {
            "bin_start": 0.4,
            "bin_end": 0.6000000000000001,
            "count": 0
           },
           {
            "bin_start": 0.6000000000000001,
            "bin_end": 0.8,
            "count": 0
           },
           {
            "bin_start": 0.8,
            "bin_end": 1,
            "count": 0
           },
           {
            "bin_start": 1,
            "bin_end": 1.2000000000000002,
            "count": 2
           },
           {
            "bin_start": 1.2000000000000002,
            "bin_end": 1.4000000000000001,
            "count": 0
           },
           {
            "bin_start": 1.4000000000000001,
            "bin_end": 1.6,
            "count": 0
           },
           {
            "bin_start": 1.6,
            "bin_end": 1.8,
            "count": 0
           },
           {
            "bin_start": 1.8,
            "bin_end": 2,
            "count": 2
           }
          ]
         }
        },
        {
         "name": "FeatureDonorCount3D",
         "dtype": "float64",
         "stats": {
          "unique_count": 2,
          "nan_count": 0,
          "min": "0.0",
          "max": "1.0",
          "histogram": [
           {
            "bin_start": 0,
            "bin_end": 0.1,
            "count": 2
           },
           {
            "bin_start": 0.1,
            "bin_end": 0.2,
            "count": 0
           },
           {
            "bin_start": 0.2,
            "bin_end": 0.30000000000000004,
            "count": 0
           },
           {
            "bin_start": 0.30000000000000004,
            "bin_end": 0.4,
            "count": 0
           },
           {
            "bin_start": 0.4,
            "bin_end": 0.5,
            "count": 0
           },
           {
            "bin_start": 0.5,
            "bin_end": 0.6000000000000001,
            "count": 0
           },
           {
            "bin_start": 0.6000000000000001,
            "bin_end": 0.7000000000000001,
            "count": 0
           },
           {
            "bin_start": 0.7000000000000001,
            "bin_end": 0.8,
            "count": 0
           },
           {
            "bin_start": 0.8,
            "bin_end": 0.9,
            "count": 0
           },
           {
            "bin_start": 0.9,
            "bin_end": 1,
            "count": 3
           }
          ]
         }
        },
        {
         "name": "FeatureAnionCount3D",
         "dtype": "float64",
         "stats": {
          "unique_count": 2,
          "nan_count": 0,
          "min": "0.0",
          "max": "1.0",
          "histogram": [
           {
            "bin_start": 0,
            "bin_end": 0.1,
            "count": 3
           },
           {
            "bin_start": 0.1,
            "bin_end": 0.2,
            "count": 0
           },
           {
            "bin_start": 0.2,
            "bin_end": 0.30000000000000004,
            "count": 0
           },
           {
            "bin_start": 0.30000000000000004,
            "bin_end": 0.4,
            "count": 0
           },
           {
            "bin_start": 0.4,
            "bin_end": 0.5,
            "count": 0
           },
           {
            "bin_start": 0.5,
            "bin_end": 0.6000000000000001,
            "count": 0
           },
           {
            "bin_start": 0.6000000000000001,
            "bin_end": 0.7000000000000001,
            "count": 0
           },
           {
            "bin_start": 0.7000000000000001,
            "bin_end": 0.8,
            "count": 0
           },
           {
            "bin_start": 0.8,
            "bin_end": 0.9,
            "count": 0
           },
           {
            "bin_start": 0.9,
            "bin_end": 1,
            "count": 2
           }
          ]
         }
        },
        {
         "name": "FeatureCationCount3D",
         "dtype": "float64",
         "stats": {
          "unique_count": 1,
          "nan_count": 0,
          "min": "0.0",
          "max": "0.0",
          "histogram": [
           {
            "bin_start": -0.5,
            "bin_end": -0.4,
            "count": 0
           },
           {
            "bin_start": -0.4,
            "bin_end": -0.3,
            "count": 0
           },
           {
            "bin_start": -0.3,
            "bin_end": -0.19999999999999996,
            "count": 0
           },
           {
            "bin_start": -0.19999999999999996,
            "bin_end": -0.09999999999999998,
            "count": 0
           },
           {
            "bin_start": -0.09999999999999998,
            "bin_end": 0,
            "count": 0
           },
           {
            "bin_start": 0,
            "bin_end": 0.10000000000000009,
            "count": 5
           },
           {
            "bin_start": 0.10000000000000009,
            "bin_end": 0.20000000000000007,
            "count": 0
           },
           {
            "bin_start": 0.20000000000000007,
            "bin_end": 0.30000000000000004,
            "count": 0
           },
           {
            "bin_start": 0.30000000000000004,
            "bin_end": 0.4,
            "count": 0
           },
           {
            "bin_start": 0.4,
            "bin_end": 0.5,
            "count": 0
           }
          ]
         }
        },
        {
         "name": "FeatureRingCount3D",
         "dtype": "float64",
         "stats": {
          "unique_count": 1,
          "nan_count": 0,
          "min": "0.0",
          "max": "0.0",
          "histogram": [
           {
            "bin_start": -0.5,
            "bin_end": -0.4,
            "count": 0
           },
           {
            "bin_start": -0.4,
            "bin_end": -0.3,
            "count": 0
           },
           {
            "bin_start": -0.3,
            "bin_end": -0.19999999999999996,
            "count": 0
           },
           {
            "bin_start": -0.19999999999999996,
            "bin_end": -0.09999999999999998,
            "count": 0
           },
           {
            "bin_start": -0.09999999999999998,
            "bin_end": 0,
            "count": 0
           },
           {
            "bin_start": 0,
            "bin_end": 0.10000000000000009,
            "count": 5
           },
           {
            "bin_start": 0.10000000000000009,
            "bin_end": 0.20000000000000007,
            "count": 0
           },
           {
            "bin_start": 0.20000000000000007,
            "bin_end": 0.30000000000000004,
            "count": 0
           },
           {
            "bin_start": 0.30000000000000004,
            "bin_end": 0.4,
            "count": 0
           },
           {
            "bin_start": 0.4,
            "bin_end": 0.5,
            "count": 0
           }
          ]
         }
        },
        {
         "name": "FeatureHydrophobeCount3D",
         "dtype": "float64",
         "stats": {
          "unique_count": 2,
          "nan_count": 0,
          "min": "0.0",
          "max": "1.0",
          "histogram": [
           {
            "bin_start": 0,
            "bin_end": 0.1,
            "count": 4
           },
           {
            "bin_start": 0.1,
            "bin_end": 0.2,
            "count": 0
           },
           {
            "bin_start": 0.2,
            "bin_end": 0.30000000000000004,
            "count": 0
           },
           {
            "bin_start": 0.30000000000000004,
            "bin_end": 0.4,
            "count": 0
           },
           {
            "bin_start": 0.4,
            "bin_end": 0.5,
            "count": 0
           },
           {
            "bin_start": 0.5,
            "bin_end": 0.6000000000000001,
            "count": 0
           },
           {
            "bin_start": 0.6000000000000001,
            "bin_end": 0.7000000000000001,
            "count": 0
           },
           {
            "bin_start": 0.7000000000000001,
            "bin_end": 0.8,
            "count": 0
           },
           {
            "bin_start": 0.8,
            "bin_end": 0.9,
            "count": 0
           },
           {
            "bin_start": 0.9,
            "bin_end": 1,
            "count": 1
           }
          ]
         }
        },
        {
         "name": "ConformerModelRMSD3D",
         "dtype": "float64",
         "stats": {
          "unique_count": 1,
          "nan_count": 0,
          "min": "0.4",
          "max": "0.4",
          "histogram": [
           {
            "bin_start": -0.09999999999999998,
            "bin_end": 2.7755575615628914e-17,
            "count": 0
           },
           {
            "bin_start": 2.7755575615628914e-17,
            "bin_end": 0.10000000000000003,
            "count": 0
           },
           {
            "bin_start": 0.10000000000000003,
            "bin_end": 0.20000000000000007,
            "count": 0
           },
           {
            "bin_start": 0.20000000000000007,
            "bin_end": 0.30000000000000004,
            "count": 0
           },
           {
            "bin_start": 0.30000000000000004,
            "bin_end": 0.4,
            "count": 0
           },
           {
            "bin_start": 0.4,
            "bin_end": 0.5000000000000001,
            "count": 5
           },
           {
            "bin_start": 0.5000000000000001,
            "bin_end": 0.6000000000000001,
            "count": 0
           },
           {
            "bin_start": 0.6000000000000001,
            "bin_end": 0.7000000000000001,
            "count": 0
           },
           {
            "bin_start": 0.7000000000000001,
            "bin_end": 0.8,
            "count": 0
           },
           {
            "bin_start": 0.8,
            "bin_end": 0.9,
            "count": 0
           }
          ]
         }
        },
        {
         "name": "EffectiveRotorCount3D",
         "dtype": "float64",
         "stats": {
          "unique_count": 2,
          "nan_count": 0,
          "min": "0.0",
          "max": "2.0",
          "histogram": [
           {
            "bin_start": 0,
            "bin_end": 0.2,
            "count": 4
           },
           {
            "bin_start": 0.2,
            "bin_end": 0.4,
            "count": 0
           },
           {
            "bin_start": 0.4,
            "bin_end": 0.6000000000000001,
            "count": 0
           },
           {
            "bin_start": 0.6000000000000001,
            "bin_end": 0.8,
            "count": 0
           },
           {
            "bin_start": 0.8,
            "bin_end": 1,
            "count": 0
           },
           {
            "bin_start": 1,
            "bin_end": 1.2000000000000002,
            "count": 0
           },
           {
            "bin_start": 1.2000000000000002,
            "bin_end": 1.4000000000000001,
            "count": 0
           },
           {
            "bin_start": 1.4000000000000001,
            "bin_end": 1.6,
            "count": 0
           },
           {
            "bin_start": 1.6,
            "bin_end": 1.8,
            "count": 0
           },
           {
            "bin_start": 1.8,
            "bin_end": 2,
            "count": 1
           }
          ]
         }
        },
        {
         "name": "ConformerCount3D",
         "dtype": "float64",
         "stats": {
          "unique_count": 2,
          "nan_count": 0,
          "min": "1.0",
          "max": "8.0",
          "histogram": [
           {
            "bin_start": 1,
            "bin_end": 1.7,
            "count": 4
           },
           {
            "bin_start": 1.7,
            "bin_end": 2.4,
            "count": 0
           },
           {
            "bin_start": 2.4,
            "bin_end": 3.0999999999999996,
            "count": 0
           },
           {
            "bin_start": 3.0999999999999996,
            "bin_end": 3.8,
            "count": 0
           },
           {
            "bin_start": 3.8,
            "bin_end": 4.5,
            "count": 0
           },
           {
            "bin_start": 4.5,
            "bin_end": 5.199999999999999,
            "count": 0
           },
           {
            "bin_start": 5.199999999999999,
            "bin_end": 5.8999999999999995,
            "count": 0
           },
           {
            "bin_start": 5.8999999999999995,
            "bin_end": 6.6,
            "count": 0
           },
           {
            "bin_start": 6.6,
            "bin_end": 7.3,
            "count": 0
           },
           {
            "bin_start": 7.3,
            "bin_end": 8,
            "count": 1
           }
          ]
         }
        },
        {
         "name": "_deepnote_index_column",
         "dtype": "int64"
        }
       ],
       "rows_top": [
        {
         "smiles": "CCO",
         "CID": 702,
         "MolecularFormula": "C2H6O",
         "MolecularWeight": "46.07",
         "InChI": "InChI=1S/C2H6O/c1-2-3/h3H,2H2,1H3",
         "InChIKey": "LFQSCWFLJHTTHZ-UHFFFAOYSA-N",
         "IUPACName": "ethanol",
         "XLogP": "-0.1",
         "ExactMass": "46.041864811",
         "MonoisotopicMass": "46.041864811",
         "TPSA": 20.2,
         "Complexity": 2,
         "Charge": 0,
         "HBondDonorCount": 1,
         "HBondAcceptorCount": 1,
         "RotatableBondCount": 0,
         "HeavyAtomCount": 3,
         "IsotopeAtomCount": 0,
         "AtomStereoCount": 0,
         "DefinedAtomStereoCount": 0,
         "UndefinedAtomStereoCount": 0,
         "BondStereoCount": 0,
         "DefinedBondStereoCount": 0,
         "UndefinedBondStereoCount": 0,
         "CovalentUnitCount": 1,
         "Volume3D": 41.5,
         "XStericQuadrupole3D": 1.48,
         "YStericQuadrupole3D": 0.75,
         "ZStericQuadrupole3D": 0.58,
         "FeatureCount3D": 2,
         "FeatureAcceptorCount3D": 1,
         "FeatureDonorCount3D": 1,
         "FeatureAnionCount3D": 0,
         "FeatureCationCount3D": 0,
         "FeatureRingCount3D": 0,
         "FeatureHydrophobeCount3D": 0,
         "ConformerModelRMSD3D": 0.4,
         "EffectiveRotorCount3D": 0,
         "ConformerCount3D": 1,
         "_deepnote_index_column": 0
        },
        {
         "smiles": "I",
         "CID": 24841,
         "MolecularFormula": "HI",
         "MolecularWeight": "127.9124",
         "InChI": "InChI=1S/HI/h1H",
         "InChIKey": "XMBWDFGMSWQBCA-UHFFFAOYSA-N",
         "IUPACName": "iodane",
         "XLogP": "0.9",
         "ExactMass": "127.91230",
         "MonoisotopicMass": "127.91230",
         "TPSA": 0,
         "Complexity": 0,
         "Charge": 0,
         "HBondDonorCount": 1,
         "HBondAcceptorCount": 0,
         "RotatableBondCount": 0,
         "HeavyAtomCount": 1,
         "IsotopeAtomCount": 0,
         "AtomStereoCount": 0,
         "DefinedAtomStereoCount": 0,
         "UndefinedAtomStereoCount": 0,
         "BondStereoCount": 0,
         "DefinedBondStereoCount": 0,
         "UndefinedBondStereoCount": 0,
         "CovalentUnitCount": 1,
         "Volume3D": 32.5,
         "XStericQuadrupole3D": 0.84,
         "YStericQuadrupole3D": 0.84,
         "ZStericQuadrupole3D": 0.84,
         "FeatureCount3D": 1,
         "FeatureAcceptorCount3D": 0,
         "FeatureDonorCount3D": 0,
         "FeatureAnionCount3D": 1,
         "FeatureCationCount3D": 0,
         "FeatureRingCount3D": 0,
         "FeatureHydrophobeCount3D": 0,
         "ConformerModelRMSD3D": 0.4,
         "EffectiveRotorCount3D": 0,
         "ConformerCount3D": 1,
         "_deepnote_index_column": 1
        },
        {
         "smiles": "C(#N)O",
         "CID": 540,
         "MolecularFormula": "CHNO",
         "MolecularWeight": "43.025",
         "InChI": "InChI=1S/CHNO/c2-1-3/h3H",
         "InChIKey": "XLJMAIOERFSOGZ-UHFFFAOYSA-N",
         "IUPACName": "cyanic acid",
         "XLogP": "0.1",
         "ExactMass": "43.005813655",
         "MonoisotopicMass": "43.005813655",
         "TPSA": 44,
         "Complexity": 31,
         "Charge": 0,
         "HBondDonorCount": 1,
         "HBondAcceptorCount": 2,
         "RotatableBondCount": 0,
         "HeavyAtomCount": 3,
         "IsotopeAtomCount": 0,
         "AtomStereoCount": 0,
         "DefinedAtomStereoCount": 0,
         "UndefinedAtomStereoCount": 0,
         "BondStereoCount": 0,
         "DefinedBondStereoCount": 0,
         "UndefinedBondStereoCount": 0,
         "CovalentUnitCount": 1,
         "Volume3D": 33.3,
         "XStericQuadrupole3D": 1.47,
         "YStericQuadrupole3D": 0.55,
         "ZStericQuadrupole3D": 0.55,
         "FeatureCount3D": 3,
         "FeatureAcceptorCount3D": 2,
         "FeatureDonorCount3D": 1,
         "FeatureAnionCount3D": 0,
         "FeatureCationCount3D": 0,
         "FeatureRingCount3D": 0,
         "FeatureHydrophobeCount3D": 0,
         "ConformerModelRMSD3D": 0.4,
         "EffectiveRotorCount3D": 0,
         "ConformerCount3D": 1,
         "_deepnote_index_column": 2
        },
        {
         "smiles": "CO",
         "CID": 887,
         "MolecularFormula": "CH4O",
         "MolecularWeight": "32.042",
         "InChI": "InChI=1S/CH4O/c1-2/h2H,1H3",
         "InChIKey": "OKKJLVBELUTLKV-UHFFFAOYSA-N",
         "IUPACName": "methanol",
         "XLogP": "-0.5",
         "ExactMass": "32.026214747",
         "MonoisotopicMass": "32.026214747",
         "TPSA": 20.2,
         "Complexity": 2,
         "Charge": 0,
         "HBondDonorCount": 1,
         "HBondAcceptorCount": 1,
         "RotatableBondCount": 0,
         "HeavyAtomCount": 2,
         "IsotopeAtomCount": 0,
         "AtomStereoCount": 0,
         "DefinedAtomStereoCount": 0,
         "UndefinedAtomStereoCount": 0,
         "BondStereoCount": 0,
         "DefinedBondStereoCount": 0,
         "UndefinedBondStereoCount": 0,
         "CovalentUnitCount": 1,
         "Volume3D": 28.6,
         "XStericQuadrupole3D": 1.05,
         "YStericQuadrupole3D": 0.56,
         "ZStericQuadrupole3D": 0.56,
         "FeatureCount3D": 2,
         "FeatureAcceptorCount3D": 1,
         "FeatureDonorCount3D": 1,
         "FeatureAnionCount3D": 0,
         "FeatureCationCount3D": 0,
         "FeatureRingCount3D": 0,
         "FeatureHydrophobeCount3D": 0,
         "ConformerModelRMSD3D": 0.4,
         "EffectiveRotorCount3D": 0,
         "ConformerCount3D": 1,
         "_deepnote_index_column": 3
        },
        {
         "smiles": "[N+](=O)([O-])CCC",
         "CID": 7903,
         "MolecularFormula": "C3H7NO2",
         "MolecularWeight": "89.09",
         "InChI": "InChI=1S/C3H7NO2/c1-2-3-4(5)6/h2-3H2,1H3",
         "InChIKey": "JSZOAYXJRCEYSX-UHFFFAOYSA-N",
         "IUPACName": "1-nitropropane",
         "XLogP": "0.9",
         "ExactMass": "89.047678466",
         "MonoisotopicMass": "89.047678466",
         "TPSA": 45.8,
         "Complexity": 47,
         "Charge": 0,
         "HBondDonorCount": 0,
         "HBondAcceptorCount": 2,
         "RotatableBondCount": 1,
         "HeavyAtomCount": 6,
         "IsotopeAtomCount": 0,
         "AtomStereoCount": 0,
         "DefinedAtomStereoCount": 0,
         "UndefinedAtomStereoCount": 0,
         "BondStereoCount": 0,
         "DefinedBondStereoCount": 0,
         "UndefinedBondStereoCount": 0,
         "CovalentUnitCount": 1,
         "Volume3D": 71.2,
         "XStericQuadrupole3D": 3.13,
         "YStericQuadrupole3D": 0.9,
         "ZStericQuadrupole3D": 0.7,
         "FeatureCount3D": 4,
         "FeatureAcceptorCount3D": 2,
         "FeatureDonorCount3D": 0,
         "FeatureAnionCount3D": 1,
         "FeatureCationCount3D": 0,
         "FeatureRingCount3D": 0,
         "FeatureHydrophobeCount3D": 1,
         "ConformerModelRMSD3D": 0.4,
         "EffectiveRotorCount3D": 2,
         "ConformerCount3D": 8,
         "_deepnote_index_column": 4
        }
       ],
       "rows_bottom": null
      },
      "text/plain": "              smiles    CID MolecularFormula MolecularWeight  \\\n0                CCO    702            C2H6O           46.07   \n1                  I  24841               HI        127.9124   \n2             C(#N)O    540             CHNO          43.025   \n3                 CO    887             CH4O          32.042   \n4  [N+](=O)([O-])CCC   7903          C3H7NO2           89.09   \n\n                                      InChI                     InChIKey  \\\n0         InChI=1S/C2H6O/c1-2-3/h3H,2H2,1H3  LFQSCWFLJHTTHZ-UHFFFAOYSA-N   \n1                           InChI=1S/HI/h1H  XMBWDFGMSWQBCA-UHFFFAOYSA-N   \n2                  InChI=1S/CHNO/c2-1-3/h3H  XLJMAIOERFSOGZ-UHFFFAOYSA-N   \n3                InChI=1S/CH4O/c1-2/h2H,1H3  OKKJLVBELUTLKV-UHFFFAOYSA-N   \n4  InChI=1S/C3H7NO2/c1-2-3-4(5)6/h2-3H2,1H3  JSZOAYXJRCEYSX-UHFFFAOYSA-N   \n\n        IUPACName XLogP     ExactMass MonoisotopicMass  ...  FeatureCount3D  \\\n0         ethanol  -0.1  46.041864811     46.041864811  ...             2.0   \n1          iodane   0.9     127.91230        127.91230  ...             1.0   \n2     cyanic acid   0.1  43.005813655     43.005813655  ...             3.0   \n3        methanol  -0.5  32.026214747     32.026214747  ...             2.0   \n4  1-nitropropane   0.9  89.047678466     89.047678466  ...             4.0   \n\n   FeatureAcceptorCount3D  FeatureDonorCount3D  FeatureAnionCount3D  \\\n0                     1.0                  1.0                  0.0   \n1                     0.0                  0.0                  1.0   \n2                     2.0                  1.0                  0.0   \n3                     1.0                  1.0                  0.0   \n4                     2.0                  0.0                  1.0   \n\n   FeatureCationCount3D  FeatureRingCount3D  FeatureHydrophobeCount3D  \\\n0                   0.0                 0.0                       0.0   \n1                   0.0                 0.0                       0.0   \n2                   0.0                 0.0                       0.0   \n3                   0.0                 0.0                       0.0   \n4                   0.0                 0.0                       1.0   \n\n   ConformerModelRMSD3D  EffectiveRotorCount3D  ConformerCount3D  \n0                   0.4                    0.0               1.0  \n1                   0.4                    0.0               1.0  \n2                   0.4                    0.0               1.0  \n3                   0.4                    0.0               1.0  \n4                   0.4                    2.0               8.0  \n\n[5 rows x 39 columns]",
      "text/html": "<div>\n<style scoped>\n    .dataframe tbody tr th:only-of-type {\n        vertical-align: middle;\n    }\n\n    .dataframe tbody tr th {\n        vertical-align: top;\n    }\n\n    .dataframe thead th {\n        text-align: right;\n    }\n</style>\n<table border=\"1\" class=\"dataframe\">\n  <thead>\n    <tr style=\"text-align: right;\">\n      <th></th>\n      <th>smiles</th>\n      <th>CID</th>\n      <th>MolecularFormula</th>\n      <th>MolecularWeight</th>\n      <th>InChI</th>\n      <th>InChIKey</th>\n      <th>IUPACName</th>\n      <th>XLogP</th>\n      <th>ExactMass</th>\n      <th>MonoisotopicMass</th>\n      <th>...</th>\n      <th>FeatureCount3D</th>\n      <th>FeatureAcceptorCount3D</th>\n      <th>FeatureDonorCount3D</th>\n      <th>FeatureAnionCount3D</th>\n      <th>FeatureCationCount3D</th>\n      <th>FeatureRingCount3D</th>\n      <th>FeatureHydrophobeCount3D</th>\n      <th>ConformerModelRMSD3D</th>\n      <th>EffectiveRotorCount3D</th>\n      <th>ConformerCount3D</th>\n    </tr>\n  </thead>\n  <tbody>\n    <tr>\n      <th>0</th>\n      <td>CCO</td>\n      <td>702</td>\n      <td>C2H6O</td>\n      <td>46.07</td>\n      <td>InChI=1S/C2H6O/c1-2-3/h3H,2H2,1H3</td>\n      <td>LFQSCWFLJHTTHZ-UHFFFAOYSA-N</td>\n      <td>ethanol</td>\n      <td>-0.1</td>\n      <td>46.041864811</td>\n      <td>46.041864811</td>\n      <td>...</td>\n      <td>2.0</td>\n      <td>1.0</td>\n      <td>1.0</td>\n      <td>0.0</td>\n      <td>0.0</td>\n      <td>0.0</td>\n      <td>0.0</td>\n      <td>0.4</td>\n      <td>0.0</td>\n      <td>1.0</td>\n    </tr>\n    <tr>\n      <th>1</th>\n      <td>I</td>\n      <td>24841</td>\n      <td>HI</td>\n      <td>127.9124</td>\n      <td>InChI=1S/HI/h1H</td>\n      <td>XMBWDFGMSWQBCA-UHFFFAOYSA-N</td>\n      <td>iodane</td>\n      <td>0.9</td>\n      <td>127.91230</td>\n      <td>127.91230</td>\n      <td>...</td>\n      <td>1.0</td>\n      <td>0.0</td>\n      <td>0.0</td>\n      <td>1.0</td>\n      <td>0.0</td>\n      <td>0.0</td>\n      <td>0.0</td>\n      <td>0.4</td>\n      <td>0.0</td>\n      <td>1.0</td>\n    </tr>\n    <tr>\n      <th>2</th>\n      <td>C(#N)O</td>\n      <td>540</td>\n      <td>CHNO</td>\n      <td>43.025</td>\n      <td>InChI=1S/CHNO/c2-1-3/h3H</td>\n      <td>XLJMAIOERFSOGZ-UHFFFAOYSA-N</td>\n      <td>cyanic acid</td>\n      <td>0.1</td>\n      <td>43.005813655</td>\n      <td>43.005813655</td>\n      <td>...</td>\n      <td>3.0</td>\n      <td>2.0</td>\n      <td>1.0</td>\n      <td>0.0</td>\n      <td>0.0</td>\n      <td>0.0</td>\n      <td>0.0</td>\n      <td>0.4</td>\n      <td>0.0</td>\n      <td>1.0</td>\n    </tr>\n    <tr>\n      <th>3</th>\n      <td>CO</td>\n      <td>887</td>\n      <td>CH4O</td>\n      <td>32.042</td>\n      <td>InChI=1S/CH4O/c1-2/h2H,1H3</td>\n      <td>OKKJLVBELUTLKV-UHFFFAOYSA-N</td>\n      <td>methanol</td>\n      <td>-0.5</td>\n      <td>32.026214747</td>\n      <td>32.026214747</td>\n      <td>...</td>\n      <td>2.0</td>\n      <td>1.0</td>\n      <td>1.0</td>\n      <td>0.0</td>\n      <td>0.0</td>\n      <td>0.0</td>\n      <td>0.0</td>\n      <td>0.4</td>\n      <td>0.0</td>\n      <td>1.0</td>\n    </tr>\n    <tr>\n      <th>4</th>\n      <td>[N+](=O)([O-])CCC</td>\n      <td>7903</td>\n      <td>C3H7NO2</td>\n      <td>89.09</td>\n      <td>InChI=1S/C3H7NO2/c1-2-3-4(5)6/h2-3H2,1H3</td>\n      <td>JSZOAYXJRCEYSX-UHFFFAOYSA-N</td>\n      <td>1-nitropropane</td>\n      <td>0.9</td>\n      <td>89.047678466</td>\n      <td>89.047678466</td>\n      <td>...</td>\n      <td>4.0</td>\n      <td>2.0</td>\n      <td>0.0</td>\n      <td>1.0</td>\n      <td>0.0</td>\n      <td>0.0</td>\n      <td>1.0</td>\n      <td>0.4</td>\n      <td>2.0</td>\n      <td>8.0</td>\n    </tr>\n  </tbody>\n</table>\n<p>5 rows × 39 columns</p>\n</div>"
     },
     "metadata": {}
    }
   ],
   "execution_count": null
  },
  {
   "cell_type": "code",
   "source": "props_df_ =props_df_.set_index('smiles')",
   "metadata": {
    "tags": [],
    "cell_id": "00050-cf6a306b-7175-495d-8f79-a68d99ddfbb2",
    "deepnote_to_be_reexecuted": false,
    "source_hash": "50d08e9",
    "execution_start": 1634038717376,
    "execution_millis": 5,
    "deepnote_cell_type": "code"
   },
   "outputs": [],
   "execution_count": null
  },
  {
   "cell_type": "code",
   "source": "props_df_.columns",
   "metadata": {
    "tags": [],
    "cell_id": "00051-29dac049-d73e-4804-afd9-b742ec449c9a",
    "deepnote_to_be_reexecuted": false,
    "source_hash": "cfe701cb",
    "execution_start": 1634038719565,
    "execution_millis": 28,
    "deepnote_cell_type": "code"
   },
   "outputs": [
    {
     "output_type": "execute_result",
     "execution_count": 161,
     "data": {
      "text/plain": "Index(['CID', 'MolecularFormula', 'MolecularWeight', 'InChI', 'InChIKey',\n       'IUPACName', 'XLogP', 'ExactMass', 'MonoisotopicMass', 'TPSA',\n       'Complexity', 'Charge', 'HBondDonorCount', 'HBondAcceptorCount',\n       'RotatableBondCount', 'HeavyAtomCount', 'IsotopeAtomCount',\n       'AtomStereoCount', 'DefinedAtomStereoCount', 'UndefinedAtomStereoCount',\n       'BondStereoCount', 'DefinedBondStereoCount', 'UndefinedBondStereoCount',\n       'CovalentUnitCount', 'Volume3D', 'XStericQuadrupole3D',\n       'YStericQuadrupole3D', 'ZStericQuadrupole3D', 'FeatureCount3D',\n       'FeatureAcceptorCount3D', 'FeatureDonorCount3D', 'FeatureAnionCount3D',\n       'FeatureCationCount3D', 'FeatureRingCount3D',\n       'FeatureHydrophobeCount3D', 'ConformerModelRMSD3D',\n       'EffectiveRotorCount3D', 'ConformerCount3D'],\n      dtype='object')"
     },
     "metadata": {}
    }
   ],
   "execution_count": null
  },
  {
   "cell_type": "code",
   "source": "props_df_ = props_df_.drop(columns = ['HeavyAtomCount','Volume3D', 'XStericQuadrupole3D', 'YStericQuadrupole3D', \n                                'ZStericQuadrupole3D', 'FeatureCount3D', 'FeatureAcceptorCount3D', \n                                'FeatureDonorCount3D', 'FeatureAnionCount3D', 'FeatureCationCount3D', \n                                'FeatureRingCount3D', 'FeatureHydrophobeCount3D', 'ConformerModelRMSD3D', \n                                'EffectiveRotorCount3D', 'ConformerCount3D'])",
   "metadata": {
    "tags": [],
    "cell_id": "00056-94897293-b612-4180-946c-c7e8c6e6785c",
    "deepnote_to_be_reexecuted": false,
    "source_hash": "2b0392c1",
    "execution_start": 1634038726579,
    "execution_millis": 4,
    "deepnote_cell_type": "code"
   },
   "outputs": [],
   "execution_count": null
  },
  {
   "cell_type": "code",
   "source": "cols = list(props_df_.columns)\ntest_28[cols] = np.nan",
   "metadata": {
    "tags": [],
    "cell_id": "00051-55f9429a-dfac-447f-8c17-d5919a5508a5",
    "deepnote_to_be_reexecuted": false,
    "source_hash": "6ec6f9b",
    "execution_start": 1634038729816,
    "execution_millis": 7,
    "deepnote_cell_type": "code"
   },
   "outputs": [],
   "execution_count": null
  },
  {
   "cell_type": "code",
   "source": "props_dict = props_df_.to_dict()",
   "metadata": {
    "tags": [],
    "cell_id": "00051-4fcd3b9d-5644-4c5e-bf0e-72a814fed1eb",
    "deepnote_to_be_reexecuted": false,
    "source_hash": "e78c076",
    "execution_start": 1634038736056,
    "execution_millis": 0,
    "deepnote_cell_type": "code"
   },
   "outputs": [],
   "execution_count": null
  },
  {
   "cell_type": "code",
   "source": "for col in cols:\n    test_28[col] = test_28['smiles'].map(props_dict[col])\n",
   "metadata": {
    "tags": [],
    "cell_id": "00052-0e0e5346-ed92-478d-9d4d-941fe3b0cfc9",
    "deepnote_to_be_reexecuted": false,
    "source_hash": "a6b6bfb3",
    "execution_start": 1634038808815,
    "execution_millis": 46,
    "deepnote_cell_type": "code"
   },
   "outputs": [],
   "execution_count": null
  },
  {
   "cell_type": "code",
   "source": "for k,v in nan_h.items():\n    test_28.loc[test_28[\"functional_groups\"] == 'H', k] = v",
   "metadata": {
    "tags": [],
    "cell_id": "00055-4b514ca2-279b-4a51-b277-3cc71575241c",
    "deepnote_to_be_reexecuted": false,
    "source_hash": "292a423c",
    "execution_start": 1634038811422,
    "execution_millis": 1,
    "deepnote_cell_type": "code"
   },
   "outputs": [],
   "execution_count": null
  },
  {
   "cell_type": "code",
   "source": "test_28.isnull().sum()",
   "metadata": {
    "tags": [],
    "cell_id": "00057-083a26e7-f836-4067-91c1-b78db365ca58",
    "deepnote_to_be_reexecuted": false,
    "source_hash": "146c8cd5",
    "execution_start": 1634038813742,
    "execution_millis": 53,
    "deepnote_cell_type": "code"
   },
   "outputs": [
    {
     "output_type": "execute_result",
     "execution_count": 171,
     "data": {
      "text/plain": "MOFname                                          0\nvolume [A^3]                                     0\nweight [u]                                       0\nsurface_area [m^2/g]                             0\nvoid_fraction                                    0\nvoid_volume [cm^3/g]                             0\nfunctional_groups                                0\nsmiles                                           0\nMolWt                                            0\nMolLogP                                          0\nNumValenceElectrons                              0\nHeavyAtomCount                                   0\nNOCount                                          0\nNumAliphaticRings                                0\nNumAromaticRings                                 0\nNumHAcceptors                                    0\nNumHDonors                                       0\nNumHeteroatoms                                   0\nNumRotatableBonds                                0\nmetal_linker                                     0\norganic_linker1                                  0\norganic_linker2                                  0\ntopology                                         0\nCO2/N2_selectivity                               0\nheat_adsorption_CO2_P0.15bar_T298K [kcal/mol]    0\nCID                                              0\nMolecularFormula                                 0\nMolecularWeight                                  0\nInChI                                            0\nInChIKey                                         0\nIUPACName                                        0\nXLogP                                            0\nExactMass                                        0\nMonoisotopicMass                                 0\nTPSA                                             0\nComplexity                                       0\nCharge                                           0\nHBondDonorCount                                  0\nHBondAcceptorCount                               0\nRotatableBondCount                               0\nIsotopeAtomCount                                 0\nAtomStereoCount                                  0\nDefinedAtomStereoCount                           0\nUndefinedAtomStereoCount                         0\nBondStereoCount                                  0\nDefinedBondStereoCount                           0\nUndefinedBondStereoCount                         0\nCovalentUnitCount                                0\ndtype: int64"
     },
     "metadata": {}
    }
   ],
   "execution_count": null
  },
  {
   "cell_type": "code",
   "source": "set(train_copy.columns) - set(test_28.columns)",
   "metadata": {
    "tags": [],
    "cell_id": "00058-3a74d018-3cfd-477c-99b2-0baa8f5f53ba",
    "deepnote_to_be_reexecuted": false,
    "source_hash": "41b9f521",
    "execution_start": 1634039109731,
    "execution_millis": 399,
    "deepnote_cell_type": "code"
   },
   "outputs": [
    {
     "output_type": "execute_result",
     "execution_count": 181,
     "data": {
      "text/plain": "{'CO2_working_capacity [mL/g]', 'gsa', 'vsa'}"
     },
     "metadata": {}
    }
   ],
   "execution_count": null
  },
  {
   "cell_type": "code",
   "source": "test_28.insert(\n    loc=3,\n    column=\"density [g/cm^3]\",\n    value=(test_28[\"weight [u]\"] / test_28[\"volume [A^3]\"]) * 1.66054,\n)",
   "metadata": {
    "tags": [],
    "cell_id": "00059-29c33e5a-e12b-4e40-8d36-fcb142071edd",
    "deepnote_to_be_reexecuted": false,
    "source_hash": "225f7c79",
    "execution_start": 1634039104101,
    "execution_millis": 1,
    "deepnote_cell_type": "code"
   },
   "outputs": [],
   "execution_count": null
  },
  {
   "cell_type": "code",
   "source": "l = list(train_copy.columns)\nl.remove('CO2_working_capacity [mL/g]')\nl.remove('gsa')\nl.remove('vsa')",
   "metadata": {
    "tags": [],
    "cell_id": "00059-04e70247-c050-4b2f-b718-3b79cf57acfe",
    "deepnote_to_be_reexecuted": false,
    "source_hash": "89ee3cae",
    "execution_start": 1634039413248,
    "execution_millis": 1,
    "deepnote_cell_type": "code"
   },
   "outputs": [],
   "execution_count": null
  },
  {
   "cell_type": "code",
   "source": "test_28 = test_28[l]",
   "metadata": {
    "tags": [],
    "cell_id": "00059-c725db47-2b96-4ec9-95f0-674db11364bd",
    "deepnote_to_be_reexecuted": false,
    "source_hash": "10d206eb",
    "execution_start": 1634039469809,
    "execution_millis": 1,
    "deepnote_cell_type": "code"
   },
   "outputs": [],
   "execution_count": null
  },
  {
   "cell_type": "code",
   "source": "test_28.columns",
   "metadata": {
    "tags": [],
    "cell_id": "00063-9a314177-c36f-4568-b08d-b9c9bc5b4140",
    "deepnote_to_be_reexecuted": false,
    "source_hash": "19a0c78d",
    "execution_start": 1634039487337,
    "execution_millis": 4,
    "deepnote_cell_type": "code"
   },
   "outputs": [
    {
     "output_type": "execute_result",
     "execution_count": 193,
     "data": {
      "text/plain": "Index(['MOFname', 'volume [A^3]', 'weight [u]', 'density [g/cm^3]',\n       'surface_area [m^2/g]', 'smiles', 'MolWt', 'MolLogP',\n       'NumValenceElectrons', 'HeavyAtomCount', 'NOCount', 'NumAliphaticRings',\n       'NumAromaticRings', 'NumHAcceptors', 'NumHDonors', 'NumHeteroatoms',\n       'NumRotatableBonds', 'void_fraction', 'void_volume [cm^3/g]',\n       'functional_groups', 'metal_linker', 'organic_linker1',\n       'organic_linker2', 'topology', 'CO2/N2_selectivity',\n       'heat_adsorption_CO2_P0.15bar_T298K [kcal/mol]', 'CID',\n       'MolecularFormula', 'MolecularWeight', 'InChI', 'InChIKey', 'IUPACName',\n       'XLogP', 'ExactMass', 'MonoisotopicMass', 'TPSA', 'Complexity',\n       'Charge', 'HBondDonorCount', 'HBondAcceptorCount', 'RotatableBondCount',\n       'IsotopeAtomCount', 'AtomStereoCount', 'DefinedAtomStereoCount',\n       'UndefinedAtomStereoCount', 'BondStereoCount', 'DefinedBondStereoCount',\n       'UndefinedBondStereoCount', 'CovalentUnitCount'],\n      dtype='object')"
     },
     "metadata": {}
    }
   ],
   "execution_count": null
  },
  {
   "cell_type": "code",
   "source": "train_copy.columns",
   "metadata": {
    "tags": [],
    "cell_id": "00060-2665833b-18de-4992-9392-bf806f0e9668",
    "deepnote_to_be_reexecuted": false,
    "source_hash": "2e738fa2",
    "execution_start": 1634039445788,
    "execution_millis": 20,
    "deepnote_cell_type": "code"
   },
   "outputs": [
    {
     "output_type": "execute_result",
     "execution_count": 191,
     "data": {
      "text/plain": "Index(['MOFname', 'volume [A^3]', 'weight [u]', 'density [g/cm^3]',\n       'surface_area [m^2/g]', 'gsa', 'vsa', 'smiles', 'MolWt', 'MolLogP',\n       'NumValenceElectrons', 'HeavyAtomCount', 'NOCount', 'NumAliphaticRings',\n       'NumAromaticRings', 'NumHAcceptors', 'NumHDonors', 'NumHeteroatoms',\n       'NumRotatableBonds', 'void_fraction', 'void_volume [cm^3/g]',\n       'functional_groups', 'metal_linker', 'organic_linker1',\n       'organic_linker2', 'topology', 'CO2/N2_selectivity',\n       'heat_adsorption_CO2_P0.15bar_T298K [kcal/mol]',\n       'CO2_working_capacity [mL/g]', 'CID', 'MolecularFormula',\n       'MolecularWeight', 'InChI', 'InChIKey', 'IUPACName', 'XLogP',\n       'ExactMass', 'MonoisotopicMass', 'TPSA', 'Complexity', 'Charge',\n       'HBondDonorCount', 'HBondAcceptorCount', 'RotatableBondCount',\n       'IsotopeAtomCount', 'AtomStereoCount', 'DefinedAtomStereoCount',\n       'UndefinedAtomStereoCount', 'BondStereoCount', 'DefinedBondStereoCount',\n       'UndefinedBondStereoCount', 'CovalentUnitCount'],\n      dtype='object')"
     },
     "metadata": {}
    }
   ],
   "execution_count": null
  },
  {
   "cell_type": "code",
   "source": "test_28.to_csv('test_28_final.csv',index = False)",
   "metadata": {
    "tags": [],
    "cell_id": "00064-7ad1246d-038f-4843-b87d-7ccbf7a62a03",
    "deepnote_to_be_reexecuted": false,
    "source_hash": "d4af88be",
    "execution_start": 1634039553609,
    "execution_millis": 354,
    "deepnote_cell_type": "code"
   },
   "outputs": [],
   "execution_count": null
  },
  {
   "cell_type": "markdown",
   "source": "<a style='text-decoration:none;line-height:16px;display:flex;color:#5B5B62;padding:10px;justify-content:end;' href='https://deepnote.com?utm_source=created-in-deepnote-cell&projectId=fa57721c-b209-430d-97e4-796ac27ee623' target=\"_blank\">\n<img alt='Created in deepnote.com' style='display:inline;max-height:16px;margin:0px;margin-right:7.5px;' src='data:image/svg+xml;base64,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' > </img>\nCreated in <span style='font-weight:600;margin-left:4px;'>Deepnote</span></a>",
   "metadata": {
    "tags": [],
    "created_in_deepnote_cell": true,
    "deepnote_cell_type": "markdown"
   }
  }
 ],
 "nbformat": 4,
 "nbformat_minor": 2,
 "metadata": {
  "orig_nbformat": 2,
  "deepnote": {
   "is_reactive": false
  },
  "deepnote_notebook_id": "5a9607aa-253d-4e05-9de8-2bb140058fd0",
  "deepnote_execution_queue": []
 }
}