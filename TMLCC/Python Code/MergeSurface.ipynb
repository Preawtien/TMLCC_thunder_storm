{
 "cells": [
  {
   "cell_type": "markdown",
   "source": "### สิ่งที่ต้องทำ : รวมข้อมูล และ surfaceจากทุกแหล่งมาดูว่าอันไหนดีสุด อันไหน missing ก็ impute ",
   "metadata": {
    "tags": [],
    "is_collapsed": false,
    "cell_id": "00000-96517ec8-95c3-4e13-8299-8aa0c4e0eb73",
    "deepnote_cell_type": "text-cell-h3"
   }
  },
  {
   "cell_type": "code",
   "metadata": {
    "tags": [],
    "cell_id": "00000-4cb351f7-3037-42b3-b36e-7bbdd7cc4a9b",
    "deepnote_to_be_reexecuted": false,
    "source_hash": "d2c43b4d",
    "execution_start": 1633972180351,
    "execution_millis": 1,
    "deepnote_cell_type": "code"
   },
   "source": "import os\nimport glob\nimport pandas as pd\nimport numpy as np",
   "execution_count": null,
   "outputs": []
  },
  {
   "cell_type": "code",
   "metadata": {
    "tags": [],
    "cell_id": "00001-db2878fd-c42d-44b7-a26d-46d4ebf20937",
    "deepnote_to_be_reexecuted": false,
    "source_hash": "8dd240a1",
    "execution_start": 1633972869725,
    "execution_millis": 261,
    "deepnote_cell_type": "code"
   },
   "source": "file_extension = '.csv'\nall_filenames = [i for i in glob.glob(f\"/work/data/*{file_extension}\")]",
   "execution_count": null,
   "outputs": []
  },
  {
   "cell_type": "code",
   "metadata": {
    "tags": [],
    "cell_id": "00002-ad17daa3-da63-4601-8582-03dccc1daf42",
    "deepnote_to_be_reexecuted": false,
    "source_hash": "b0ee422d",
    "execution_start": 1633972871003,
    "execution_millis": 27,
    "deepnote_cell_type": "code"
   },
   "source": "print(f\"These are all of the filenames ending in .csv {all_filenames}.\")",
   "execution_count": null,
   "outputs": [
    {
     "name": "stdout",
     "text": "These are all of the filenames ending in .csv ['/work/data/surface_train_set_60001_61000.csv', '/work/data/surface_train_set_40001_50000.csv', '/work/data/surface_train_set_19500_20001.csv', '/work/data/surface_train_set_30601_30801.csv', '/work/data/surface_train_set_16500_17000.csv', '/work/data/surface_train_set_65301_65400.csv', '/work/data/surface_train_set_36001_36501.csv', '/work/data/surface_train_set_62901_63001.csv', '/work/data/surface_train_set_15000_15500.csv', '/work/data/surface_train_set_17000_17500.csv', '/work/data/surface_train_set_33501_34001.csv', '/work/data/surface_train_set_34001_34501.csv', '/work/data/surface_train_set_35501_36001.csv', '/work/data/surface_train_set_17500_18000.csv', '/work/data/surface_train_set_62601_62701.csv', '/work/data/surface_train_set_7501_8000.csv', '/work/data/surface_train_set_63001_65000_ver_สำรอง.csv', '/work/data/surface_train_set_14500_15000.csv', '/work/data/surface_train_set_65201_65300.csv', '/work/data/surface_train_set_62401_62501.csv', '/work/data/surface_train_set_18000_18500.csv', '/work/data/surface_train_set_66001_67000.csv', '/work/data/surface_train_set_10500_11000.csv', '/work/data/surface_train_set_38501_39001.csv', '/work/data/surface_train_set_30201_30401.csv', '/work/data/surface_train_set_65001_65100.csv', '/work/data/surface_train_set_13000_13500.csv', '/work/data/surface_train_set_63001_65000.csv', '/work/data/surface_train_set_61700_62000.csv', '/work/data/surface_train_set_501_1000.csv', '/work/data/surface_train_set_32001_32501.csv', '/work/data/surface_train_set_353_500.csv', '/work/data/surface_train_set_11000_11500.csv', '/work/data/surface_train_set_31001_31201.csv', '/work/data/surface_train_set_30401_30601.csv', '/work/data/surface_train_set_12500_13000.csv', '/work/data/surface_train_set_39001_39501.csv', '/work/data/surface_train_set_67401_68613.csv', '/work/data/surface_train_set_31201_31401.csv', '/work/data/surface_train_set_30801_31001.csv', '/work/data/surface_train_set_8001_9000.csv', '/work/data/surface_train_set_9001_10000.csv', '/work/data/surface_train_set_65401_65500.csv', '/work/data/surface_train_set_12000_12500.csv', '/work/data/surface_train_set_19000_19500.csv', '/work/data/surface_train_set_62701_62801.csv', '/work/data/surface_train_set_32501_33001.csv', '/work/data/surface_train_set_61001_61500.csv', '/work/data/surface_train_set_31601_32001.csv', '/work/data/surface_train_set_3501_4000.csv', '/work/data/surface_train_set_38001_38501.csv', '/work/data/surface_train_set_30001_30201.csv', '/work/data/surface_train_set_10000_10500.csv', '/work/data/surface_train_set_33001_33501.csv', '/work/data/surface_train_set_39501_40001.csv', '/work/data/surface_train_set_1_352.csv', '/work/data/surface_train_set_62801_62901.csv', '/work/data/surface_train_set_18500_19000.csv', '/work/data/surface_train_set_11500_12000.csv', '/work/data/surface_train_set_31401_31601.csv', '/work/data/surface_train_set_1001_1500.csv', '/work/data/surface_train_set_67001_67400.csv', '/work/data/surface_train_set_2501_3000.csv', '/work/data/surface_train_set_37501_38001.csv', '/work/data/surface_train_set_62301_62401.csv', '/work/data/surface_train_set_15500_16000.csv', '/work/data/surface_train_set_2001_2500.csv', '/work/data/surface_train_set_14000_14500.csv', '/work/data/surface_train_set_13500_14000.csv', '/work/data/surface_train_set_3001_3500.csv', '/work/data/surface_train_set_37001_37501.csv', '/work/data/surface_train_set_4501_5000.csv', '/work/data/surface_train_set_7001_7500.csv', '/work/data/surface_train_set_51001-60000.csv', '/work/data/surface_train_set_6001_6500.csv', '/work/data/surface_train_set_34501_35001.csv', '/work/data/surface_train_set_4001_4500.csv', '/work/data/surface_train_set_65401_66000.csv', '/work/data/surface_train_set_5001_5500.csv', '/work/data/surface_train_set_20001-30000.csv', '/work/data/surface_train_set_6501_7000.csv', '/work/data/surface_train_set_36501_37001.csv', '/work/data/surface_train_set_65101_65200.csv', '/work/data/surface_train_set_1501_2000.csv', '/work/data/surface_train_set_5501_6000.csv', '/work/data/surface_train_set_35001_35501.csv', '/work/data/surface_train_set_62201_62301.csv', '/work/data/surface_train_set_16000_16500.csv', '/work/data/surface_train_set_61501_61728.csv', '/work/data/surface_train_set_62501_62601.csv', '/work/data/surface_train_set_62001_62201.csv'].\n",
     "output_type": "stream"
    }
   ]
  },
  {
   "cell_type": "code",
   "metadata": {
    "tags": [],
    "cell_id": "00003-7f9c4773-a647-4bd5-b9cb-549697229d41",
    "deepnote_to_be_reexecuted": false,
    "source_hash": "b8dd4fbb",
    "execution_start": 1633973755681,
    "execution_millis": 512,
    "deepnote_cell_type": "code"
   },
   "source": "combined_csv_data = pd.concat([pd.read_csv(f) for f in all_filenames])",
   "execution_count": null,
   "outputs": []
  },
  {
   "cell_type": "code",
   "metadata": {
    "tags": [],
    "cell_id": "00004-82f7da05-a7a7-47b5-b691-d0c985975d8a",
    "deepnote_to_be_reexecuted": false,
    "source_hash": "13021789",
    "execution_start": 1633972874489,
    "execution_millis": 7,
    "deepnote_cell_type": "code"
   },
   "source": "combined_csv_data.shape",
   "execution_count": null,
   "outputs": [
    {
     "output_type": "execute_result",
     "execution_count": 23,
     "data": {
      "text/plain": "(71744, 3)"
     },
     "metadata": {}
    }
   ]
  },
  {
   "cell_type": "code",
   "metadata": {
    "tags": [],
    "cell_id": "00004-e8459de5-7729-4385-bb68-fec4a107f212",
    "deepnote_to_be_reexecuted": false,
    "source_hash": "d21941b8",
    "execution_start": 1633972877234,
    "execution_millis": 3,
    "deepnote_cell_type": "code"
   },
   "source": "# combined_csv_data = combined_csv_data.drop_duplicates(subset=['MOFname'])\n# combined_csv_data.shape",
   "execution_count": null,
   "outputs": []
  },
  {
   "cell_type": "code",
   "metadata": {
    "tags": [],
    "cell_id": "00004-5edf3922-1642-405e-ac38-803c0383add4",
    "deepnote_to_be_reexecuted": false,
    "source_hash": "cd837ce3",
    "execution_start": 1633972880556,
    "execution_millis": 28,
    "deepnote_cell_type": "code"
   },
   "source": "name_mof = ['mof_unit_'+str(i) for i in range(1,68614,1) ]",
   "execution_count": null,
   "outputs": []
  },
  {
   "cell_type": "code",
   "metadata": {
    "tags": [],
    "cell_id": "00006-8f736565-35f5-474d-91f6-bac380dacef3",
    "deepnote_to_be_reexecuted": false,
    "source_hash": "bde922b5",
    "execution_start": 1633972882321,
    "execution_millis": 153,
    "deepnote_cell_type": "code"
   },
   "source": "left = set(name_mof) - set(combined_csv_data['MOFname'])\nsorted(left)",
   "execution_count": null,
   "outputs": [
    {
     "output_type": "execute_result",
     "execution_count": 26,
     "data": {
      "text/plain": "[]"
     },
     "metadata": {}
    }
   ]
  },
  {
   "cell_type": "code",
   "metadata": {
    "tags": [],
    "cell_id": "00010-5f841461-9bc9-4d4b-9e37-563d5318f8e4",
    "deepnote_to_be_reexecuted": false,
    "source_hash": "dd1eebc0",
    "execution_start": 1633973760129,
    "execution_millis": 18,
    "deepnote_cell_type": "code"
   },
   "source": "combined_csv_data = combined_csv_data.drop_duplicates(subset=['MOFname'])\ncombined_csv_data.shape",
   "execution_count": null,
   "outputs": [
    {
     "output_type": "execute_result",
     "execution_count": 67,
     "data": {
      "text/plain": "(68614, 3)"
     },
     "metadata": {}
    }
   ]
  },
  {
   "cell_type": "code",
   "metadata": {
    "tags": [],
    "cell_id": "00010-209b6043-ff25-46d9-9609-7fe4f0259f70",
    "deepnote_to_be_reexecuted": false,
    "source_hash": "b653b68f",
    "execution_start": 1633973763176,
    "execution_millis": 17,
    "deepnote_cell_type": "code"
   },
   "source": "combined_csv_data.MOFname.is_unique",
   "execution_count": null,
   "outputs": [
    {
     "output_type": "execute_result",
     "execution_count": 68,
     "data": {
      "text/plain": "True"
     },
     "metadata": {}
    }
   ]
  },
  {
   "cell_type": "code",
   "metadata": {
    "tags": [],
    "cell_id": "00012-c9770c3b-19ac-4e6d-9c52-839a11397702",
    "deepnote_to_be_reexecuted": false,
    "source_hash": "bbebb2ef",
    "execution_start": 1633974101253,
    "execution_millis": 8,
    "deepnote_cell_type": "code"
   },
   "source": "combined_csv_data['index'] = combined_csv_data['MOFname'].apply(lambda x: float(str(x).replace('mof_unit_',\"\")))",
   "execution_count": null,
   "outputs": []
  },
  {
   "cell_type": "code",
   "metadata": {
    "tags": [],
    "cell_id": "00011-3edc318a-ac81-4801-b4aa-58efd492b361",
    "deepnote_to_be_reexecuted": false,
    "source_hash": "5cce91f0",
    "execution_start": 1633974126763,
    "execution_millis": 33,
    "deepnote_cell_type": "code"
   },
   "source": "combined_csv_data=combined_csv_data.sort_values([\"index\"], ascending=True)\ncombined_csv_data.head()",
   "execution_count": null,
   "outputs": [
    {
     "output_type": "execute_result",
     "execution_count": 85,
     "data": {
      "application/vnd.deepnote.dataframe.v2+json": {
       "row_count": 5,
       "column_count": 4,
       "columns": [
        {
         "name": "MOFname",
         "dtype": "object",
         "stats": {
          "unique_count": 5,
          "nan_count": 0,
          "categories": [
           {
            "name": "mof_unit_1",
            "count": 1
           },
           {
            "name": "mof_unit_2",
            "count": 1
           },
           {
            "name": "3 others",
            "count": 3
           }
          ]
         }
        },
        {
         "name": "gsa",
         "dtype": "float64",
         "stats": {
          "unique_count": 5,
          "nan_count": 0,
          "min": "321.5253502114773",
          "max": "3788.7104252208455",
          "histogram": [
           {
            "bin_start": 321.5253502114773,
            "bin_end": 668.2438577124142,
            "count": 2
           },
           {
            "bin_start": 668.2438577124142,
            "bin_end": 1014.962365213351,
            "count": 1
           },
           {
            "bin_start": 1014.962365213351,
            "bin_end": 1361.680872714288,
            "count": 0
           },
           {
            "bin_start": 1361.680872714288,
            "bin_end": 1708.3993802152245,
            "count": 0
           },
           {
            "bin_start": 1708.3993802152245,
            "bin_end": 2055.1178877161615,
            "count": 0
           },
           {
            "bin_start": 2055.1178877161615,
            "bin_end": 2401.8363952170985,
            "count": 1
           },
           {
            "bin_start": 2401.8363952170985,
            "bin_end": 2748.554902718035,
            "count": 0
           },
           {
            "bin_start": 2748.554902718035,
            "bin_end": 3095.273410218972,
            "count": 0
           },
           {
            "bin_start": 3095.273410218972,
            "bin_end": 3441.991917719909,
            "count": 0
           },
           {
            "bin_start": 3441.991917719909,
            "bin_end": 3788.7104252208455,
            "count": 1
           }
          ]
         }
        },
        {
         "name": "vsa",
         "dtype": "float64",
         "stats": {
          "unique_count": 5,
          "nan_count": 0,
          "min": "277.7366563490379",
          "max": "1911.5645822690335",
          "histogram": [
           {
            "bin_start": 277.7366563490379,
            "bin_end": 441.1194489410375,
            "count": 1
           },
           {
            "bin_start": 441.1194489410375,
            "bin_end": 604.502241533037,
            "count": 1
           },
           {
            "bin_start": 604.502241533037,
            "bin_end": 767.8850341250366,
            "count": 0
           },
           {
            "bin_start": 767.8850341250366,
            "bin_end": 931.2678267170361,
            "count": 0
           },
           {
            "bin_start": 931.2678267170361,
            "bin_end": 1094.6506193090356,
            "count": 0
           },
           {
            "bin_start": 1094.6506193090356,
            "bin_end": 1258.0334119010354,
            "count": 1
           },
           {
            "bin_start": 1258.0334119010354,
            "bin_end": 1421.416204493035,
            "count": 0
           },
           {
            "bin_start": 1421.416204493035,
            "bin_end": 1584.7989970850344,
            "count": 0
           },
           {
            "bin_start": 1584.7989970850344,
            "bin_end": 1748.181789677034,
            "count": 1
           },
           {
            "bin_start": 1748.181789677034,
            "bin_end": 1911.5645822690335,
            "count": 1
           }
          ]
         }
        },
        {
         "name": "index",
         "dtype": "float64",
         "stats": {
          "unique_count": 5,
          "nan_count": 0,
          "min": "1.0",
          "max": "5.0",
          "histogram": [
           {
            "bin_start": 1,
            "bin_end": 1.4,
            "count": 1
           },
           {
            "bin_start": 1.4,
            "bin_end": 1.8,
            "count": 0
           },
           {
            "bin_start": 1.8,
            "bin_end": 2.2,
            "count": 1
           },
           {
            "bin_start": 2.2,
            "bin_end": 2.6,
            "count": 0
           },
           {
            "bin_start": 2.6,
            "bin_end": 3,
            "count": 0
           },
           {
            "bin_start": 3,
            "bin_end": 3.4000000000000004,
            "count": 1
           },
           {
            "bin_start": 3.4000000000000004,
            "bin_end": 3.8000000000000003,
            "count": 0
           },
           {
            "bin_start": 3.8000000000000003,
            "bin_end": 4.2,
            "count": 1
           },
           {
            "bin_start": 4.2,
            "bin_end": 4.6,
            "count": 0
           },
           {
            "bin_start": 4.6,
            "bin_end": 5,
            "count": 1
           }
          ]
         }
        },
        {
         "name": "_deepnote_index_column",
         "dtype": "int64"
        }
       ],
       "rows_top": [
        {
         "MOFname": "mof_unit_1",
         "gsa": 992.1062178258082,
         "vsa": 1139.8287738457757,
         "index": 1,
         "_deepnote_index_column": 0
        },
        {
         "MOFname": "mof_unit_2",
         "gsa": 321.5253502114773,
         "vsa": 477.9933491501404,
         "index": 2,
         "_deepnote_index_column": 111
        },
        {
         "MOFname": "mof_unit_3",
         "gsa": 2368.886582295004,
         "vsa": 1614.2123919024807,
         "index": 3,
         "_deepnote_index_column": 222
        },
        {
         "MOFname": "mof_unit_4",
         "gsa": 3788.7104252208455,
         "vsa": 1911.5645822690335,
         "index": 4,
         "_deepnote_index_column": 286
        },
        {
         "MOFname": "mof_unit_5",
         "gsa": 342.3267305386274,
         "vsa": 277.7366563490379,
         "index": 5,
         "_deepnote_index_column": 297
        }
       ],
       "rows_bottom": null
      },
      "text/plain": "        MOFname          gsa          vsa  index\n0    mof_unit_1   992.106218  1139.828774    1.0\n111  mof_unit_2   321.525350   477.993349    2.0\n222  mof_unit_3  2368.886582  1614.212392    3.0\n286  mof_unit_4  3788.710425  1911.564582    4.0\n297  mof_unit_5   342.326731   277.736656    5.0",
      "text/html": "<div>\n<style scoped>\n    .dataframe tbody tr th:only-of-type {\n        vertical-align: middle;\n    }\n\n    .dataframe tbody tr th {\n        vertical-align: top;\n    }\n\n    .dataframe thead th {\n        text-align: right;\n    }\n</style>\n<table border=\"1\" class=\"dataframe\">\n  <thead>\n    <tr style=\"text-align: right;\">\n      <th></th>\n      <th>MOFname</th>\n      <th>gsa</th>\n      <th>vsa</th>\n      <th>index</th>\n    </tr>\n  </thead>\n  <tbody>\n    <tr>\n      <th>0</th>\n      <td>mof_unit_1</td>\n      <td>992.106218</td>\n      <td>1139.828774</td>\n      <td>1.0</td>\n    </tr>\n    <tr>\n      <th>111</th>\n      <td>mof_unit_2</td>\n      <td>321.525350</td>\n      <td>477.993349</td>\n      <td>2.0</td>\n    </tr>\n    <tr>\n      <th>222</th>\n      <td>mof_unit_3</td>\n      <td>2368.886582</td>\n      <td>1614.212392</td>\n      <td>3.0</td>\n    </tr>\n    <tr>\n      <th>286</th>\n      <td>mof_unit_4</td>\n      <td>3788.710425</td>\n      <td>1911.564582</td>\n      <td>4.0</td>\n    </tr>\n    <tr>\n      <th>297</th>\n      <td>mof_unit_5</td>\n      <td>342.326731</td>\n      <td>277.736656</td>\n      <td>5.0</td>\n    </tr>\n  </tbody>\n</table>\n</div>"
     },
     "metadata": {}
    }
   ]
  },
  {
   "cell_type": "code",
   "metadata": {
    "tags": [],
    "cell_id": "00013-dea4d983-9606-4d45-afa3-b010d75515c2",
    "deepnote_to_be_reexecuted": false,
    "source_hash": "44a5a1d0",
    "execution_start": 1633974239698,
    "execution_millis": 27,
    "deepnote_cell_type": "code"
   },
   "source": "combined_csv_data = combined_csv_data.reset_index()\ncombined_csv_data = combined_csv_data.drop(columns = ['index','level_0'])\ncombined_csv_data.head()",
   "execution_count": null,
   "outputs": [
    {
     "output_type": "execute_result",
     "execution_count": 87,
     "data": {
      "application/vnd.deepnote.dataframe.v2+json": {
       "row_count": 5,
       "column_count": 3,
       "columns": [
        {
         "name": "MOFname",
         "dtype": "object",
         "stats": {
          "unique_count": 5,
          "nan_count": 0,
          "categories": [
           {
            "name": "mof_unit_1",
            "count": 1
           },
           {
            "name": "mof_unit_2",
            "count": 1
           },
           {
            "name": "3 others",
            "count": 3
           }
          ]
         }
        },
        {
         "name": "gsa",
         "dtype": "float64",
         "stats": {
          "unique_count": 5,
          "nan_count": 0,
          "min": "321.5253502114773",
          "max": "3788.7104252208455",
          "histogram": [
           {
            "bin_start": 321.5253502114773,
            "bin_end": 668.2438577124142,
            "count": 2
           },
           {
            "bin_start": 668.2438577124142,
            "bin_end": 1014.962365213351,
            "count": 1
           },
           {
            "bin_start": 1014.962365213351,
            "bin_end": 1361.680872714288,
            "count": 0
           },
           {
            "bin_start": 1361.680872714288,
            "bin_end": 1708.3993802152245,
            "count": 0
           },
           {
            "bin_start": 1708.3993802152245,
            "bin_end": 2055.1178877161615,
            "count": 0
           },
           {
            "bin_start": 2055.1178877161615,
            "bin_end": 2401.8363952170985,
            "count": 1
           },
           {
            "bin_start": 2401.8363952170985,
            "bin_end": 2748.554902718035,
            "count": 0
           },
           {
            "bin_start": 2748.554902718035,
            "bin_end": 3095.273410218972,
            "count": 0
           },
           {
            "bin_start": 3095.273410218972,
            "bin_end": 3441.991917719909,
            "count": 0
           },
           {
            "bin_start": 3441.991917719909,
            "bin_end": 3788.7104252208455,
            "count": 1
           }
          ]
         }
        },
        {
         "name": "vsa",
         "dtype": "float64",
         "stats": {
          "unique_count": 5,
          "nan_count": 0,
          "min": "277.7366563490379",
          "max": "1911.5645822690335",
          "histogram": [
           {
            "bin_start": 277.7366563490379,
            "bin_end": 441.1194489410375,
            "count": 1
           },
           {
            "bin_start": 441.1194489410375,
            "bin_end": 604.502241533037,
            "count": 1
           },
           {
            "bin_start": 604.502241533037,
            "bin_end": 767.8850341250366,
            "count": 0
           },
           {
            "bin_start": 767.8850341250366,
            "bin_end": 931.2678267170361,
            "count": 0
           },
           {
            "bin_start": 931.2678267170361,
            "bin_end": 1094.6506193090356,
            "count": 0
           },
           {
            "bin_start": 1094.6506193090356,
            "bin_end": 1258.0334119010354,
            "count": 1
           },
           {
            "bin_start": 1258.0334119010354,
            "bin_end": 1421.416204493035,
            "count": 0
           },
           {
            "bin_start": 1421.416204493035,
            "bin_end": 1584.7989970850344,
            "count": 0
           },
           {
            "bin_start": 1584.7989970850344,
            "bin_end": 1748.181789677034,
            "count": 1
           },
           {
            "bin_start": 1748.181789677034,
            "bin_end": 1911.5645822690335,
            "count": 1
           }
          ]
         }
        },
        {
         "name": "_deepnote_index_column",
         "dtype": "int64"
        }
       ],
       "rows_top": [
        {
         "MOFname": "mof_unit_1",
         "gsa": 992.1062178258082,
         "vsa": 1139.8287738457757,
         "_deepnote_index_column": 0
        },
        {
         "MOFname": "mof_unit_2",
         "gsa": 321.5253502114773,
         "vsa": 477.9933491501404,
         "_deepnote_index_column": 1
        },
        {
         "MOFname": "mof_unit_3",
         "gsa": 2368.886582295004,
         "vsa": 1614.2123919024807,
         "_deepnote_index_column": 2
        },
        {
         "MOFname": "mof_unit_4",
         "gsa": 3788.7104252208455,
         "vsa": 1911.5645822690335,
         "_deepnote_index_column": 3
        },
        {
         "MOFname": "mof_unit_5",
         "gsa": 342.3267305386274,
         "vsa": 277.7366563490379,
         "_deepnote_index_column": 4
        }
       ],
       "rows_bottom": null
      },
      "text/plain": "      MOFname          gsa          vsa\n0  mof_unit_1   992.106218  1139.828774\n1  mof_unit_2   321.525350   477.993349\n2  mof_unit_3  2368.886582  1614.212392\n3  mof_unit_4  3788.710425  1911.564582\n4  mof_unit_5   342.326731   277.736656",
      "text/html": "<div>\n<style scoped>\n    .dataframe tbody tr th:only-of-type {\n        vertical-align: middle;\n    }\n\n    .dataframe tbody tr th {\n        vertical-align: top;\n    }\n\n    .dataframe thead th {\n        text-align: right;\n    }\n</style>\n<table border=\"1\" class=\"dataframe\">\n  <thead>\n    <tr style=\"text-align: right;\">\n      <th></th>\n      <th>MOFname</th>\n      <th>gsa</th>\n      <th>vsa</th>\n    </tr>\n  </thead>\n  <tbody>\n    <tr>\n      <th>0</th>\n      <td>mof_unit_1</td>\n      <td>992.106218</td>\n      <td>1139.828774</td>\n    </tr>\n    <tr>\n      <th>1</th>\n      <td>mof_unit_2</td>\n      <td>321.525350</td>\n      <td>477.993349</td>\n    </tr>\n    <tr>\n      <th>2</th>\n      <td>mof_unit_3</td>\n      <td>2368.886582</td>\n      <td>1614.212392</td>\n    </tr>\n    <tr>\n      <th>3</th>\n      <td>mof_unit_4</td>\n      <td>3788.710425</td>\n      <td>1911.564582</td>\n    </tr>\n    <tr>\n      <th>4</th>\n      <td>mof_unit_5</td>\n      <td>342.326731</td>\n      <td>277.736656</td>\n    </tr>\n  </tbody>\n</table>\n</div>"
     },
     "metadata": {}
    }
   ]
  },
  {
   "cell_type": "markdown",
   "source": "# Density",
   "metadata": {
    "tags": [],
    "is_collapsed": false,
    "cell_id": "00011-b09bccd3-4d78-4581-af43-464402c4dc60",
    "deepnote_cell_type": "text-cell-h1"
   }
  },
  {
   "cell_type": "markdown",
   "source": "GSA จะหารด้วย Density",
   "metadata": {
    "tags": [],
    "cell_id": "00009-1ba39786-d981-4590-a3f6-fd797fb6d221",
    "deepnote_cell_type": "markdown"
   }
  },
  {
   "cell_type": "code",
   "metadata": {
    "tags": [],
    "cell_id": "00012-2d39e97c-2d0b-4cd8-9465-1cb149049cde",
    "deepnote_to_be_reexecuted": false,
    "source_hash": "8ec942a7",
    "execution_start": 1633974274918,
    "execution_millis": 201,
    "deepnote_cell_type": "code"
   },
   "source": "train = pd.read_csv('train.csv')\ntrain.info()",
   "execution_count": null,
   "outputs": [
    {
     "name": "stdout",
     "text": "<class 'pandas.core.frame.DataFrame'>\nRangeIndex: 68613 entries, 0 to 68612\nData columns (total 14 columns):\n #   Column                                         Non-Null Count  Dtype  \n---  ------                                         --------------  -----  \n 0   MOFname                                        68613 non-null  object \n 1   volume [A^3]                                   68613 non-null  float64\n 2   weight [u]                                     68613 non-null  float64\n 3   surface_area [m^2/g]                           68613 non-null  float64\n 4   void_fraction                                  68613 non-null  float64\n 5   void_volume [cm^3/g]                           68613 non-null  float64\n 6   functional_groups                              68290 non-null  object \n 7   metal_linker                                   68613 non-null  int64  \n 8   organic_linker1                                68613 non-null  int64  \n 9   organic_linker2                                68613 non-null  int64  \n 10  topology                                       68613 non-null  object \n 11  CO2/N2_selectivity                             68613 non-null  float64\n 12  heat_adsorption_CO2_P0.15bar_T298K [kcal/mol]  66526 non-null  float64\n 13  CO2_working_capacity [mL/g]                    68613 non-null  float64\ndtypes: float64(8), int64(3), object(3)\nmemory usage: 7.3+ MB\n",
     "output_type": "stream"
    }
   ]
  },
  {
   "cell_type": "code",
   "metadata": {
    "tags": [],
    "cell_id": "00011-b253f16a-b099-4584-a90a-ecfa4b26c439",
    "deepnote_to_be_reexecuted": false,
    "source_hash": "6c819ac9",
    "execution_start": 1633974279207,
    "execution_millis": 5,
    "deepnote_cell_type": "code"
   },
   "source": "train.insert(\n    loc=3,\n    column=\"density [g/cm^3]\",\n    value=(train[\"weight [u]\"] / train[\"volume [A^3]\"]) * 1.66054,\n)",
   "execution_count": null,
   "outputs": []
  },
  {
   "cell_type": "code",
   "metadata": {
    "tags": [],
    "cell_id": "00014-433220e8-5b11-4ed4-84c2-2f2e711e3c28",
    "deepnote_to_be_reexecuted": false,
    "source_hash": "e1f0b45",
    "execution_start": 1633974281391,
    "execution_millis": 48,
    "deepnote_cell_type": "code"
   },
   "source": "train.head()",
   "execution_count": null,
   "outputs": [
    {
     "output_type": "execute_result",
     "execution_count": 90,
     "data": {
      "application/vnd.deepnote.dataframe.v2+json": {
       "row_count": 5,
       "column_count": 15,
       "columns": [
        {
         "name": "MOFname",
         "dtype": "object",
         "stats": {
          "unique_count": 5,
          "nan_count": 0,
          "categories": [
           {
            "name": "mof_unit_1",
            "count": 1
           },
           {
            "name": "mof_unit_2",
            "count": 1
           },
           {
            "name": "3 others",
            "count": 3
           }
          ]
         }
        },
        {
         "name": "volume [A^3]",
         "dtype": "float64",
         "stats": {
          "unique_count": 5,
          "nan_count": 0,
          "min": "1089.818728",
          "max": "2769.503842",
          "histogram": [
           {
            "bin_start": 1089.818728,
            "bin_end": 1257.7872394,
            "count": 3
           },
           {
            "bin_start": 1257.7872394,
            "bin_end": 1425.7557508,
            "count": 0
           },
           {
            "bin_start": 1425.7557508,
            "bin_end": 1593.7242621999999,
            "count": 0
           },
           {
            "bin_start": 1593.7242621999999,
            "bin_end": 1761.6927736,
            "count": 0
           },
           {
            "bin_start": 1761.6927736,
            "bin_end": 1929.6612850000001,
            "count": 0
           },
           {
            "bin_start": 1929.6612850000001,
            "bin_end": 2097.6297964,
            "count": 0
           },
           {
            "bin_start": 2097.6297964,
            "bin_end": 2265.5983078,
            "count": 1
           },
           {
            "bin_start": 2265.5983078,
            "bin_end": 2433.5668192000003,
            "count": 0
           },
           {
            "bin_start": 2433.5668192000003,
            "bin_end": 2601.5353305999997,
            "count": 0
           },
           {
            "bin_start": 2601.5353305999997,
            "bin_end": 2769.503842,
            "count": 1
           }
          ]
         }
        },
        {
         "name": "weight [u]",
         "dtype": "float64",
         "stats": {
          "unique_count": 5,
          "nan_count": 0,
          "min": "773.68796",
          "max": "2211.697211",
          "histogram": [
           {
            "bin_start": 773.68796,
            "bin_end": 917.4888851000001,
            "count": 3
           },
           {
            "bin_start": 917.4888851000001,
            "bin_end": 1061.2898102,
            "count": 0
           },
           {
            "bin_start": 1061.2898102,
            "bin_end": 1205.0907353,
            "count": 0
           },
           {
            "bin_start": 1205.0907353,
            "bin_end": 1348.8916604,
            "count": 1
           },
           {
            "bin_start": 1348.8916604,
            "bin_end": 1492.6925855000002,
            "count": 0
           },
           {
            "bin_start": 1492.6925855000002,
            "bin_end": 1636.4935106000003,
            "count": 0
           },
           {
            "bin_start": 1636.4935106000003,
            "bin_end": 1780.2944357000001,
            "count": 0
           },
           {
            "bin_start": 1780.2944357000001,
            "bin_end": 1924.0953608000002,
            "count": 0
           },
           {
            "bin_start": 1924.0953608000002,
            "bin_end": 2067.8962859000003,
            "count": 0
           },
           {
            "bin_start": 2067.8962859000003,
            "bin_end": 2211.697211,
            "count": 1
           }
          ]
         }
        },
        {
         "name": "density [g/cm^3]",
         "dtype": "float64",
         "stats": {
          "unique_count": 5,
          "nan_count": 0,
          "min": "0.9824081485671339",
          "max": "1.3260901216521728",
          "histogram": [
           {
            "bin_start": 0.9824081485671339,
            "bin_end": 1.0167763458756378,
            "count": 1
           },
           {
            "bin_start": 1.0167763458756378,
            "bin_end": 1.0511445431841417,
            "count": 0
           },
           {
            "bin_start": 1.0511445431841417,
            "bin_end": 1.0855127404926455,
            "count": 0
           },
           {
            "bin_start": 1.0855127404926455,
            "bin_end": 1.1198809378011494,
            "count": 0
           },
           {
            "bin_start": 1.1198809378011494,
            "bin_end": 1.1542491351096533,
            "count": 0
           },
           {
            "bin_start": 1.1542491351096533,
            "bin_end": 1.1886173324181573,
            "count": 1
           },
           {
            "bin_start": 1.1886173324181573,
            "bin_end": 1.2229855297266612,
            "count": 0
           },
           {
            "bin_start": 1.2229855297266612,
            "bin_end": 1.2573537270351651,
            "count": 0
           },
           {
            "bin_start": 1.2573537270351651,
            "bin_end": 1.2917219243436688,
            "count": 0
           },
           {
            "bin_start": 1.2917219243436688,
            "bin_end": 1.3260901216521728,
            "count": 3
           }
          ]
         }
        },
        {
         "name": "surface_area [m^2/g]",
         "dtype": "float64",
         "stats": {
          "unique_count": 4,
          "nan_count": 0,
          "min": "0.0",
          "max": "1441.53",
          "histogram": [
           {
            "bin_start": 0,
            "bin_end": 144.153,
            "count": 2
           },
           {
            "bin_start": 144.153,
            "bin_end": 288.306,
            "count": 0
           },
           {
            "bin_start": 288.306,
            "bin_end": 432.45899999999995,
            "count": 0
           },
           {
            "bin_start": 432.45899999999995,
            "bin_end": 576.612,
            "count": 0
           },
           {
            "bin_start": 576.612,
            "bin_end": 720.765,
            "count": 1
           },
           {
            "bin_start": 720.765,
            "bin_end": 864.9179999999999,
            "count": 1
           },
           {
            "bin_start": 864.9179999999999,
            "bin_end": 1009.0709999999999,
            "count": 0
           },
           {
            "bin_start": 1009.0709999999999,
            "bin_end": 1153.224,
            "count": 0
           },
           {
            "bin_start": 1153.224,
            "bin_end": 1297.377,
            "count": 0
           },
           {
            "bin_start": 1297.377,
            "bin_end": 1441.53,
            "count": 1
           }
          ]
         }
        },
        {
         "name": "void_fraction",
         "dtype": "float64",
         "stats": {
          "unique_count": 5,
          "nan_count": 0,
          "min": "0.07778",
          "max": "0.21814",
          "histogram": [
           {
            "bin_start": 0.07778,
            "bin_end": 0.091816,
            "count": 2
           },
           {
            "bin_start": 0.091816,
            "bin_end": 0.105852,
            "count": 0
           },
           {
            "bin_start": 0.105852,
            "bin_end": 0.119888,
            "count": 0
           },
           {
            "bin_start": 0.119888,
            "bin_end": 0.133924,
            "count": 0
           },
           {
            "bin_start": 0.133924,
            "bin_end": 0.14795999999999998,
            "count": 1
           },
           {
            "bin_start": 0.14795999999999998,
            "bin_end": 0.16199599999999997,
            "count": 1
           },
           {
            "bin_start": 0.16199599999999997,
            "bin_end": 0.176032,
            "count": 0
           },
           {
            "bin_start": 0.176032,
            "bin_end": 0.190068,
            "count": 0
           },
           {
            "bin_start": 0.190068,
            "bin_end": 0.204104,
            "count": 0
           },
           {
            "bin_start": 0.204104,
            "bin_end": 0.21814,
            "count": 1
           }
          ]
         }
        },
        {
         "name": "void_volume [cm^3/g]",
         "dtype": "float64",
         "stats": {
          "unique_count": 5,
          "nan_count": 0,
          "min": "0.0591",
          "max": "0.222",
          "histogram": [
           {
            "bin_start": 0.0591,
            "bin_end": 0.07539,
            "count": 2
           },
           {
            "bin_start": 0.07539,
            "bin_end": 0.09168,
            "count": 0
           },
           {
            "bin_start": 0.09168,
            "bin_end": 0.10797,
            "count": 1
           },
           {
            "bin_start": 0.10797,
            "bin_end": 0.12426,
            "count": 0
           },
           {
            "bin_start": 0.12426,
            "bin_end": 0.14055,
            "count": 1
           },
           {
            "bin_start": 0.14055,
            "bin_end": 0.15683999999999998,
            "count": 0
           },
           {
            "bin_start": 0.15683999999999998,
            "bin_end": 0.17313,
            "count": 0
           },
           {
            "bin_start": 0.17313,
            "bin_end": 0.18941999999999998,
            "count": 0
           },
           {
            "bin_start": 0.18941999999999998,
            "bin_end": 0.20571,
            "count": 0
           },
           {
            "bin_start": 0.20571,
            "bin_end": 0.222,
            "count": 1
           }
          ]
         }
        },
        {
         "name": "functional_groups",
         "dtype": "object",
         "stats": {
          "unique_count": 5,
          "nan_count": 0,
          "categories": [
           {
            "name": "COOH-OEt",
            "count": 1
           },
           {
            "name": "F-OMe",
            "count": 1
           },
           {
            "name": "3 others",
            "count": 3
           }
          ]
         }
        },
        {
         "name": "metal_linker",
         "dtype": "int64",
         "stats": {
          "unique_count": 4,
          "nan_count": 0,
          "min": "2",
          "max": "10",
          "histogram": [
           {
            "bin_start": 2,
            "bin_end": 2.8,
            "count": 2
           },
           {
            "bin_start": 2.8,
            "bin_end": 3.6,
            "count": 1
           },
           {
            "bin_start": 3.6,
            "bin_end": 4.4,
            "count": 0
           },
           {
            "bin_start": 4.4,
            "bin_end": 5.2,
            "count": 0
           },
           {
            "bin_start": 5.2,
            "bin_end": 6,
            "count": 0
           },
           {
            "bin_start": 6,
            "bin_end": 6.800000000000001,
            "count": 0
           },
           {
            "bin_start": 6.800000000000001,
            "bin_end": 7.6000000000000005,
            "count": 0
           },
           {
            "bin_start": 7.6000000000000005,
            "bin_end": 8.4,
            "count": 0
           },
           {
            "bin_start": 8.4,
            "bin_end": 9.2,
            "count": 1
           },
           {
            "bin_start": 9.2,
            "bin_end": 10,
            "count": 1
           }
          ]
         }
        },
        {
         "name": "organic_linker1",
         "dtype": "int64",
         "stats": {
          "unique_count": 5,
          "nan_count": 0,
          "min": "1",
          "max": "44",
          "histogram": [
           {
            "bin_start": 1,
            "bin_end": 5.3,
            "count": 2
           },
           {
            "bin_start": 5.3,
            "bin_end": 9.6,
            "count": 0
           },
           {
            "bin_start": 9.6,
            "bin_end": 13.899999999999999,
            "count": 0
           },
           {
            "bin_start": 13.899999999999999,
            "bin_end": 18.2,
            "count": 1
           },
           {
            "bin_start": 18.2,
            "bin_end": 22.5,
            "count": 1
           },
           {
            "bin_start": 22.5,
            "bin_end": 26.799999999999997,
            "count": 0
           },
           {
            "bin_start": 26.799999999999997,
            "bin_end": 31.099999999999998,
            "count": 0
           },
           {
            "bin_start": 31.099999999999998,
            "bin_end": 35.4,
            "count": 0
           },
           {
            "bin_start": 35.4,
            "bin_end": 39.699999999999996,
            "count": 0
           },
           {
            "bin_start": 39.699999999999996,
            "bin_end": 44,
            "count": 1
           }
          ]
         }
        },
        {
         "name": "organic_linker2",
         "dtype": "int64",
         "stats": {
          "unique_count": 4,
          "nan_count": 0,
          "min": "11",
          "max": "57",
          "histogram": [
           {
            "bin_start": 11,
            "bin_end": 15.6,
            "count": 1
           },
           {
            "bin_start": 15.6,
            "bin_end": 20.2,
            "count": 0
           },
           {
            "bin_start": 20.2,
            "bin_end": 24.799999999999997,
            "count": 3
           },
           {
            "bin_start": 24.799999999999997,
            "bin_end": 29.4,
            "count": 0
           },
           {
            "bin_start": 29.4,
            "bin_end": 34,
            "count": 0
           },
           {
            "bin_start": 34,
            "bin_end": 38.599999999999994,
            "count": 0
           },
           {
            "bin_start": 38.599999999999994,
            "bin_end": 43.199999999999996,
            "count": 0
           },
           {
            "bin_start": 43.199999999999996,
            "bin_end": 47.8,
            "count": 0
           },
           {
            "bin_start": 47.8,
            "bin_end": 52.4,
            "count": 0
           },
           {
            "bin_start": 52.4,
            "bin_end": 57,
            "count": 1
           }
          ]
         }
        },
        {
         "name": "topology",
         "dtype": "object",
         "stats": {
          "unique_count": 3,
          "nan_count": 0,
          "categories": [
           {
            "name": "pcu",
            "count": 3
           },
           {
            "name": "etb",
            "count": 1
           },
           {
            "name": "sra",
            "count": 1
           }
          ]
         }
        },
        {
         "name": "CO2/N2_selectivity",
         "dtype": "float64",
         "stats": {
          "unique_count": 5,
          "nan_count": 0,
          "min": "19.26372569",
          "max": "33.61678033",
          "histogram": [
           {
            "bin_start": 19.26372569,
            "bin_end": 20.699031154,
            "count": 1
           },
           {
            "bin_start": 20.699031154,
            "bin_end": 22.134336618,
            "count": 0
           },
           {
            "bin_start": 22.134336618,
            "bin_end": 23.569642082,
            "count": 1
           },
           {
            "bin_start": 23.569642082,
            "bin_end": 25.004947546,
            "count": 0
           },
           {
            "bin_start": 25.004947546,
            "bin_end": 26.44025301,
            "count": 1
           },
           {
            "bin_start": 26.44025301,
            "bin_end": 27.875558473999998,
            "count": 0
           },
           {
            "bin_start": 27.875558473999998,
            "bin_end": 29.310863937999997,
            "count": 0
           },
           {
            "bin_start": 29.310863937999997,
            "bin_end": 30.746169402,
            "count": 1
           },
           {
            "bin_start": 30.746169402,
            "bin_end": 32.181474865999995,
            "count": 0
           },
           {
            "bin_start": 32.181474865999995,
            "bin_end": 33.61678033,
            "count": 1
           }
          ]
         }
        },
        {
         "name": "heat_adsorption_CO2_P0.15bar_T298K [kcal/mol]",
         "dtype": "float64",
         "stats": {
          "unique_count": 5,
          "nan_count": 0,
          "min": "6.190085",
          "max": "7.147286",
          "histogram": [
           {
            "bin_start": 6.190085,
            "bin_end": 6.2858051,
            "count": 1
           },
           {
            "bin_start": 6.2858051,
            "bin_end": 6.3815252,
            "count": 1
           },
           {
            "bin_start": 6.3815252,
            "bin_end": 6.4772453,
            "count": 0
           },
           {
            "bin_start": 6.4772453,
            "bin_end": 6.5729654,
            "count": 1
           },
           {
            "bin_start": 6.5729654,
            "bin_end": 6.6686855000000005,
            "count": 0
           },
           {
            "bin_start": 6.6686855000000005,
            "bin_end": 6.7644056,
            "count": 0
           },
           {
            "bin_start": 6.7644056,
            "bin_end": 6.8601257,
            "count": 1
           },
           {
            "bin_start": 6.8601257,
            "bin_end": 6.9558458000000005,
            "count": 0
           },
           {
            "bin_start": 6.9558458000000005,
            "bin_end": 7.0515659,
            "count": 0
           },
           {
            "bin_start": 7.0515659,
            "bin_end": 7.147286,
            "count": 1
           }
          ]
         }
        },
        {
         "name": "CO2_working_capacity [mL/g]",
         "dtype": "float64",
         "stats": {
          "unique_count": 5,
          "nan_count": 0,
          "min": "79.21000065588353",
          "max": "187.62600449626183",
          "histogram": [
           {
            "bin_start": 79.21000065588353,
            "bin_end": 90.05160103992137,
            "count": 1
           },
           {
            "bin_start": 90.05160103992137,
            "bin_end": 100.8932014239592,
            "count": 0
           },
           {
            "bin_start": 100.8932014239592,
            "bin_end": 111.73480180799702,
            "count": 2
           },
           {
            "bin_start": 111.73480180799702,
            "bin_end": 122.57640219203485,
            "count": 1
           },
           {
            "bin_start": 122.57640219203485,
            "bin_end": 133.4180025760727,
            "count": 0
           },
           {
            "bin_start": 133.4180025760727,
            "bin_end": 144.2596029601105,
            "count": 0
           },
           {
            "bin_start": 144.2596029601105,
            "bin_end": 155.10120334414833,
            "count": 0
           },
           {
            "bin_start": 155.10120334414833,
            "bin_end": 165.94280372818616,
            "count": 0
           },
           {
            "bin_start": 165.94280372818616,
            "bin_end": 176.784404112224,
            "count": 0
           },
           {
            "bin_start": 176.784404112224,
            "bin_end": 187.62600449626183,
            "count": 1
           }
          ]
         }
        },
        {
         "name": "_deepnote_index_column",
         "dtype": "int64"
        }
       ],
       "rows_top": [
        {
         "MOFname": "mof_unit_1",
         "volume [A^3]": 1116.667429,
         "weight [u]": 875.2405999999999,
         "density [g/cm^3]": 1.3015262988601055,
         "surface_area [m^2/g]": 0,
         "void_fraction": 0.07899,
         "void_volume [cm^3/g]": 0.0606999999999999,
         "functional_groups": "COOH-OEt",
         "metal_linker": 3,
         "organic_linker1": 4,
         "organic_linker2": 11,
         "topology": "pcu",
         "CO2/N2_selectivity": 22.86416611,
         "heat_adsorption_CO2_P0.15bar_T298K [kcal/mol]": 6.786041,
         "CO2_working_capacity [mL/g]": 105.2845017241596,
         "_deepnote_index_column": 0
        },
        {
         "MOFname": "mof_unit_2",
         "volume [A^3]": 2769.503842,
         "weight [u]": 2211.697211,
         "density [g/cm^3]": 1.3260901216521728,
         "surface_area [m^2/g]": 603.61,
         "void_fraction": 0.13794,
         "void_volume [cm^3/g]": 0.104,
         "functional_groups": "F-OMe",
         "metal_linker": 10,
         "organic_linker1": 44,
         "organic_linker2": 57,
         "topology": "etb",
         "CO2/N2_selectivity": 33.61678033,
         "heat_adsorption_CO2_P0.15bar_T298K [kcal/mol]": 7.147286,
         "CO2_working_capacity [mL/g]": 101.22477417834172,
         "_deepnote_index_column": 1
        },
        {
         "MOFname": "mof_unit_3",
         "volume [A^3]": 1089.818728,
         "weight [u]": 773.68796,
         "density [g/cm^3]": 1.1788564208802987,
         "surface_area [m^2/g]": 788.5,
         "void_fraction": 0.14874,
         "void_volume [cm^3/g]": 0.1262,
         "functional_groups": "OMe-COOH",
         "metal_linker": 2,
         "organic_linker1": 22,
         "organic_linker2": 24,
         "topology": "pcu",
         "CO2/N2_selectivity": 19.26372569,
         "heat_adsorption_CO2_P0.15bar_T298K [kcal/mol]": 6.347967,
         "CO2_working_capacity [mL/g]": 118.98701074687752,
         "_deepnote_index_column": 2
        },
        {
         "MOFname": "mof_unit_4",
         "volume [A^3]": 2205.1983010000004,
         "weight [u]": 1304.63872,
         "density [g/cm^3]": 0.9824081485671339,
         "surface_area [m^2/g]": 1441.53,
         "void_fraction": 0.21814,
         "void_volume [cm^3/g]": 0.222,
         "functional_groups": "H-SO3H",
         "metal_linker": 9,
         "organic_linker1": 17,
         "organic_linker2": 24,
         "topology": "sra",
         "CO2/N2_selectivity": 25.70137692,
         "heat_adsorption_CO2_P0.15bar_T298K [kcal/mol]": 6.190085,
         "CO2_working_capacity [mL/g]": 187.62600449626183,
         "_deepnote_index_column": 3
        },
        {
         "MOFname": "mof_unit_5",
         "volume [A^3]": 1137.800963,
         "weight [u]": 901.73612,
         "density [g/cm^3]": 1.3160200644906643,
         "surface_area [m^2/g]": 0,
         "void_fraction": 0.07778,
         "void_volume [cm^3/g]": 0.0591,
         "functional_groups": "NHMe-OH",
         "metal_linker": 2,
         "organic_linker1": 1,
         "organic_linker2": 22,
         "topology": "pcu",
         "CO2/N2_selectivity": 30.00183795,
         "heat_adsorption_CO2_P0.15bar_T298K [kcal/mol]": 6.478063,
         "CO2_working_capacity [mL/g]": 79.21000065588353,
         "_deepnote_index_column": 4
        }
       ],
       "rows_bottom": null
      },
      "text/plain": "      MOFname  volume [A^3]   weight [u]  density [g/cm^3]  \\\n0  mof_unit_1   1116.667429   875.240600          1.301526   \n1  mof_unit_2   2769.503842  2211.697211          1.326090   \n2  mof_unit_3   1089.818728   773.687960          1.178856   \n3  mof_unit_4   2205.198301  1304.638720          0.982408   \n4  mof_unit_5   1137.800963   901.736120          1.316020   \n\n   surface_area [m^2/g]  void_fraction  void_volume [cm^3/g]  \\\n0                  0.00        0.07899                0.0607   \n1                603.61        0.13794                0.1040   \n2                788.50        0.14874                0.1262   \n3               1441.53        0.21814                0.2220   \n4                  0.00        0.07778                0.0591   \n\n  functional_groups  metal_linker  organic_linker1  organic_linker2 topology  \\\n0          COOH-OEt             3                4               11      pcu   \n1             F-OMe            10               44               57      etb   \n2          OMe-COOH             2               22               24      pcu   \n3            H-SO3H             9               17               24      sra   \n4           NHMe-OH             2                1               22      pcu   \n\n   CO2/N2_selectivity  heat_adsorption_CO2_P0.15bar_T298K [kcal/mol]  \\\n0           22.864166                                       6.786041   \n1           33.616780                                       7.147286   \n2           19.263726                                       6.347967   \n3           25.701377                                       6.190085   \n4           30.001838                                       6.478063   \n\n   CO2_working_capacity [mL/g]  \n0                   105.284502  \n1                   101.224774  \n2                   118.987011  \n3                   187.626004  \n4                    79.210001  ",
      "text/html": "<div>\n<style scoped>\n    .dataframe tbody tr th:only-of-type {\n        vertical-align: middle;\n    }\n\n    .dataframe tbody tr th {\n        vertical-align: top;\n    }\n\n    .dataframe thead th {\n        text-align: right;\n    }\n</style>\n<table border=\"1\" class=\"dataframe\">\n  <thead>\n    <tr style=\"text-align: right;\">\n      <th></th>\n      <th>MOFname</th>\n      <th>volume [A^3]</th>\n      <th>weight [u]</th>\n      <th>density [g/cm^3]</th>\n      <th>surface_area [m^2/g]</th>\n      <th>void_fraction</th>\n      <th>void_volume [cm^3/g]</th>\n      <th>functional_groups</th>\n      <th>metal_linker</th>\n      <th>organic_linker1</th>\n      <th>organic_linker2</th>\n      <th>topology</th>\n      <th>CO2/N2_selectivity</th>\n      <th>heat_adsorption_CO2_P0.15bar_T298K [kcal/mol]</th>\n      <th>CO2_working_capacity [mL/g]</th>\n    </tr>\n  </thead>\n  <tbody>\n    <tr>\n      <th>0</th>\n      <td>mof_unit_1</td>\n      <td>1116.667429</td>\n      <td>875.240600</td>\n      <td>1.301526</td>\n      <td>0.00</td>\n      <td>0.07899</td>\n      <td>0.0607</td>\n      <td>COOH-OEt</td>\n      <td>3</td>\n      <td>4</td>\n      <td>11</td>\n      <td>pcu</td>\n      <td>22.864166</td>\n      <td>6.786041</td>\n      <td>105.284502</td>\n    </tr>\n    <tr>\n      <th>1</th>\n      <td>mof_unit_2</td>\n      <td>2769.503842</td>\n      <td>2211.697211</td>\n      <td>1.326090</td>\n      <td>603.61</td>\n      <td>0.13794</td>\n      <td>0.1040</td>\n      <td>F-OMe</td>\n      <td>10</td>\n      <td>44</td>\n      <td>57</td>\n      <td>etb</td>\n      <td>33.616780</td>\n      <td>7.147286</td>\n      <td>101.224774</td>\n    </tr>\n    <tr>\n      <th>2</th>\n      <td>mof_unit_3</td>\n      <td>1089.818728</td>\n      <td>773.687960</td>\n      <td>1.178856</td>\n      <td>788.50</td>\n      <td>0.14874</td>\n      <td>0.1262</td>\n      <td>OMe-COOH</td>\n      <td>2</td>\n      <td>22</td>\n      <td>24</td>\n      <td>pcu</td>\n      <td>19.263726</td>\n      <td>6.347967</td>\n      <td>118.987011</td>\n    </tr>\n    <tr>\n      <th>3</th>\n      <td>mof_unit_4</td>\n      <td>2205.198301</td>\n      <td>1304.638720</td>\n      <td>0.982408</td>\n      <td>1441.53</td>\n      <td>0.21814</td>\n      <td>0.2220</td>\n      <td>H-SO3H</td>\n      <td>9</td>\n      <td>17</td>\n      <td>24</td>\n      <td>sra</td>\n      <td>25.701377</td>\n      <td>6.190085</td>\n      <td>187.626004</td>\n    </tr>\n    <tr>\n      <th>4</th>\n      <td>mof_unit_5</td>\n      <td>1137.800963</td>\n      <td>901.736120</td>\n      <td>1.316020</td>\n      <td>0.00</td>\n      <td>0.07778</td>\n      <td>0.0591</td>\n      <td>NHMe-OH</td>\n      <td>2</td>\n      <td>1</td>\n      <td>22</td>\n      <td>pcu</td>\n      <td>30.001838</td>\n      <td>6.478063</td>\n      <td>79.210001</td>\n    </tr>\n  </tbody>\n</table>\n</div>"
     },
     "metadata": {}
    }
   ]
  },
  {
   "cell_type": "code",
   "metadata": {
    "tags": [],
    "cell_id": "00015-8986fe49-5462-452b-ad51-c2af305e97e9",
    "deepnote_to_be_reexecuted": false,
    "source_hash": "6ab3b706",
    "execution_start": 1633974283804,
    "execution_millis": 1,
    "deepnote_cell_type": "code"
   },
   "source": "train.insert(\n    loc=5,\n    column=\"gsa\",\n    value=combined_csv_data['gsa'],\n)",
   "execution_count": null,
   "outputs": []
  },
  {
   "cell_type": "code",
   "metadata": {
    "tags": [],
    "cell_id": "00020-70279565-d5e5-4ed0-9051-1f879363cf8b",
    "deepnote_to_be_reexecuted": false,
    "source_hash": "6cad3f43",
    "execution_start": 1633974285667,
    "execution_millis": 8,
    "deepnote_cell_type": "code"
   },
   "source": "train.insert(\n    loc=6,\n    column=\"vsa\",\n    value=combined_csv_data['vsa'],\n)",
   "execution_count": null,
   "outputs": []
  },
  {
   "cell_type": "code",
   "metadata": {
    "tags": [],
    "cell_id": "00021-f3a5dbc9-09b7-4875-8db8-7b285e38ae0c",
    "deepnote_to_be_reexecuted": false,
    "source_hash": "1febcce2",
    "execution_start": 1633974288127,
    "execution_millis": 47,
    "deepnote_cell_type": "code"
   },
   "source": "train.head()\n",
   "execution_count": null,
   "outputs": [
    {
     "output_type": "execute_result",
     "execution_count": 93,
     "data": {
      "application/vnd.deepnote.dataframe.v2+json": {
       "row_count": 5,
       "column_count": 17,
       "columns": [
        {
         "name": "MOFname",
         "dtype": "object",
         "stats": {
          "unique_count": 5,
          "nan_count": 0,
          "categories": [
           {
            "name": "mof_unit_1",
            "count": 1
           },
           {
            "name": "mof_unit_2",
            "count": 1
           },
           {
            "name": "3 others",
            "count": 3
           }
          ]
         }
        },
        {
         "name": "volume [A^3]",
         "dtype": "float64",
         "stats": {
          "unique_count": 5,
          "nan_count": 0,
          "min": "1089.818728",
          "max": "2769.503842",
          "histogram": [
           {
            "bin_start": 1089.818728,
            "bin_end": 1257.7872394,
            "count": 3
           },
           {
            "bin_start": 1257.7872394,
            "bin_end": 1425.7557508,
            "count": 0
           },
           {
            "bin_start": 1425.7557508,
            "bin_end": 1593.7242621999999,
            "count": 0
           },
           {
            "bin_start": 1593.7242621999999,
            "bin_end": 1761.6927736,
            "count": 0
           },
           {
            "bin_start": 1761.6927736,
            "bin_end": 1929.6612850000001,
            "count": 0
           },
           {
            "bin_start": 1929.6612850000001,
            "bin_end": 2097.6297964,
            "count": 0
           },
           {
            "bin_start": 2097.6297964,
            "bin_end": 2265.5983078,
            "count": 1
           },
           {
            "bin_start": 2265.5983078,
            "bin_end": 2433.5668192000003,
            "count": 0
           },
           {
            "bin_start": 2433.5668192000003,
            "bin_end": 2601.5353305999997,
            "count": 0
           },
           {
            "bin_start": 2601.5353305999997,
            "bin_end": 2769.503842,
            "count": 1
           }
          ]
         }
        },
        {
         "name": "weight [u]",
         "dtype": "float64",
         "stats": {
          "unique_count": 5,
          "nan_count": 0,
          "min": "773.68796",
          "max": "2211.697211",
          "histogram": [
           {
            "bin_start": 773.68796,
            "bin_end": 917.4888851000001,
            "count": 3
           },
           {
            "bin_start": 917.4888851000001,
            "bin_end": 1061.2898102,
            "count": 0
           },
           {
            "bin_start": 1061.2898102,
            "bin_end": 1205.0907353,
            "count": 0
           },
           {
            "bin_start": 1205.0907353,
            "bin_end": 1348.8916604,
            "count": 1
           },
           {
            "bin_start": 1348.8916604,
            "bin_end": 1492.6925855000002,
            "count": 0
           },
           {
            "bin_start": 1492.6925855000002,
            "bin_end": 1636.4935106000003,
            "count": 0
           },
           {
            "bin_start": 1636.4935106000003,
            "bin_end": 1780.2944357000001,
            "count": 0
           },
           {
            "bin_start": 1780.2944357000001,
            "bin_end": 1924.0953608000002,
            "count": 0
           },
           {
            "bin_start": 1924.0953608000002,
            "bin_end": 2067.8962859000003,
            "count": 0
           },
           {
            "bin_start": 2067.8962859000003,
            "bin_end": 2211.697211,
            "count": 1
           }
          ]
         }
        },
        {
         "name": "density [g/cm^3]",
         "dtype": "float64",
         "stats": {
          "unique_count": 5,
          "nan_count": 0,
          "min": "0.9824081485671339",
          "max": "1.3260901216521728",
          "histogram": [
           {
            "bin_start": 0.9824081485671339,
            "bin_end": 1.0167763458756378,
            "count": 1
           },
           {
            "bin_start": 1.0167763458756378,
            "bin_end": 1.0511445431841417,
            "count": 0
           },
           {
            "bin_start": 1.0511445431841417,
            "bin_end": 1.0855127404926455,
            "count": 0
           },
           {
            "bin_start": 1.0855127404926455,
            "bin_end": 1.1198809378011494,
            "count": 0
           },
           {
            "bin_start": 1.1198809378011494,
            "bin_end": 1.1542491351096533,
            "count": 0
           },
           {
            "bin_start": 1.1542491351096533,
            "bin_end": 1.1886173324181573,
            "count": 1
           },
           {
            "bin_start": 1.1886173324181573,
            "bin_end": 1.2229855297266612,
            "count": 0
           },
           {
            "bin_start": 1.2229855297266612,
            "bin_end": 1.2573537270351651,
            "count": 0
           },
           {
            "bin_start": 1.2573537270351651,
            "bin_end": 1.2917219243436688,
            "count": 0
           },
           {
            "bin_start": 1.2917219243436688,
            "bin_end": 1.3260901216521728,
            "count": 3
           }
          ]
         }
        },
        {
         "name": "surface_area [m^2/g]",
         "dtype": "float64",
         "stats": {
          "unique_count": 4,
          "nan_count": 0,
          "min": "0.0",
          "max": "1441.53",
          "histogram": [
           {
            "bin_start": 0,
            "bin_end": 144.153,
            "count": 2
           },
           {
            "bin_start": 144.153,
            "bin_end": 288.306,
            "count": 0
           },
           {
            "bin_start": 288.306,
            "bin_end": 432.45899999999995,
            "count": 0
           },
           {
            "bin_start": 432.45899999999995,
            "bin_end": 576.612,
            "count": 0
           },
           {
            "bin_start": 576.612,
            "bin_end": 720.765,
            "count": 1
           },
           {
            "bin_start": 720.765,
            "bin_end": 864.9179999999999,
            "count": 1
           },
           {
            "bin_start": 864.9179999999999,
            "bin_end": 1009.0709999999999,
            "count": 0
           },
           {
            "bin_start": 1009.0709999999999,
            "bin_end": 1153.224,
            "count": 0
           },
           {
            "bin_start": 1153.224,
            "bin_end": 1297.377,
            "count": 0
           },
           {
            "bin_start": 1297.377,
            "bin_end": 1441.53,
            "count": 1
           }
          ]
         }
        },
        {
         "name": "gsa",
         "dtype": "float64",
         "stats": {
          "unique_count": 5,
          "nan_count": 0,
          "min": "321.5253502114773",
          "max": "3788.7104252208455",
          "histogram": [
           {
            "bin_start": 321.5253502114773,
            "bin_end": 668.2438577124142,
            "count": 2
           },
           {
            "bin_start": 668.2438577124142,
            "bin_end": 1014.962365213351,
            "count": 1
           },
           {
            "bin_start": 1014.962365213351,
            "bin_end": 1361.680872714288,
            "count": 0
           },
           {
            "bin_start": 1361.680872714288,
            "bin_end": 1708.3993802152245,
            "count": 0
           },
           {
            "bin_start": 1708.3993802152245,
            "bin_end": 2055.1178877161615,
            "count": 0
           },
           {
            "bin_start": 2055.1178877161615,
            "bin_end": 2401.8363952170985,
            "count": 1
           },
           {
            "bin_start": 2401.8363952170985,
            "bin_end": 2748.554902718035,
            "count": 0
           },
           {
            "bin_start": 2748.554902718035,
            "bin_end": 3095.273410218972,
            "count": 0
           },
           {
            "bin_start": 3095.273410218972,
            "bin_end": 3441.991917719909,
            "count": 0
           },
           {
            "bin_start": 3441.991917719909,
            "bin_end": 3788.7104252208455,
            "count": 1
           }
          ]
         }
        },
        {
         "name": "vsa",
         "dtype": "float64",
         "stats": {
          "unique_count": 5,
          "nan_count": 0,
          "min": "277.7366563490379",
          "max": "1911.5645822690335",
          "histogram": [
           {
            "bin_start": 277.7366563490379,
            "bin_end": 441.1194489410375,
            "count": 1
           },
           {
            "bin_start": 441.1194489410375,
            "bin_end": 604.502241533037,
            "count": 1
           },
           {
            "bin_start": 604.502241533037,
            "bin_end": 767.8850341250366,
            "count": 0
           },
           {
            "bin_start": 767.8850341250366,
            "bin_end": 931.2678267170361,
            "count": 0
           },
           {
            "bin_start": 931.2678267170361,
            "bin_end": 1094.6506193090356,
            "count": 0
           },
           {
            "bin_start": 1094.6506193090356,
            "bin_end": 1258.0334119010354,
            "count": 1
           },
           {
            "bin_start": 1258.0334119010354,
            "bin_end": 1421.416204493035,
            "count": 0
           },
           {
            "bin_start": 1421.416204493035,
            "bin_end": 1584.7989970850344,
            "count": 0
           },
           {
            "bin_start": 1584.7989970850344,
            "bin_end": 1748.181789677034,
            "count": 1
           },
           {
            "bin_start": 1748.181789677034,
            "bin_end": 1911.5645822690335,
            "count": 1
           }
          ]
         }
        },
        {
         "name": "void_fraction",
         "dtype": "float64",
         "stats": {
          "unique_count": 5,
          "nan_count": 0,
          "min": "0.07778",
          "max": "0.21814",
          "histogram": [
           {
            "bin_start": 0.07778,
            "bin_end": 0.091816,
            "count": 2
           },
           {
            "bin_start": 0.091816,
            "bin_end": 0.105852,
            "count": 0
           },
           {
            "bin_start": 0.105852,
            "bin_end": 0.119888,
            "count": 0
           },
           {
            "bin_start": 0.119888,
            "bin_end": 0.133924,
            "count": 0
           },
           {
            "bin_start": 0.133924,
            "bin_end": 0.14795999999999998,
            "count": 1
           },
           {
            "bin_start": 0.14795999999999998,
            "bin_end": 0.16199599999999997,
            "count": 1
           },
           {
            "bin_start": 0.16199599999999997,
            "bin_end": 0.176032,
            "count": 0
           },
           {
            "bin_start": 0.176032,
            "bin_end": 0.190068,
            "count": 0
           },
           {
            "bin_start": 0.190068,
            "bin_end": 0.204104,
            "count": 0
           },
           {
            "bin_start": 0.204104,
            "bin_end": 0.21814,
            "count": 1
           }
          ]
         }
        },
        {
         "name": "void_volume [cm^3/g]",
         "dtype": "float64",
         "stats": {
          "unique_count": 5,
          "nan_count": 0,
          "min": "0.0591",
          "max": "0.222",
          "histogram": [
           {
            "bin_start": 0.0591,
            "bin_end": 0.07539,
            "count": 2
           },
           {
            "bin_start": 0.07539,
            "bin_end": 0.09168,
            "count": 0
           },
           {
            "bin_start": 0.09168,
            "bin_end": 0.10797,
            "count": 1
           },
           {
            "bin_start": 0.10797,
            "bin_end": 0.12426,
            "count": 0
           },
           {
            "bin_start": 0.12426,
            "bin_end": 0.14055,
            "count": 1
           },
           {
            "bin_start": 0.14055,
            "bin_end": 0.15683999999999998,
            "count": 0
           },
           {
            "bin_start": 0.15683999999999998,
            "bin_end": 0.17313,
            "count": 0
           },
           {
            "bin_start": 0.17313,
            "bin_end": 0.18941999999999998,
            "count": 0
           },
           {
            "bin_start": 0.18941999999999998,
            "bin_end": 0.20571,
            "count": 0
           },
           {
            "bin_start": 0.20571,
            "bin_end": 0.222,
            "count": 1
           }
          ]
         }
        },
        {
         "name": "functional_groups",
         "dtype": "object",
         "stats": {
          "unique_count": 5,
          "nan_count": 0,
          "categories": [
           {
            "name": "COOH-OEt",
            "count": 1
           },
           {
            "name": "F-OMe",
            "count": 1
           },
           {
            "name": "3 others",
            "count": 3
           }
          ]
         }
        },
        {
         "name": "metal_linker",
         "dtype": "int64",
         "stats": {
          "unique_count": 4,
          "nan_count": 0,
          "min": "2",
          "max": "10",
          "histogram": [
           {
            "bin_start": 2,
            "bin_end": 2.8,
            "count": 2
           },
           {
            "bin_start": 2.8,
            "bin_end": 3.6,
            "count": 1
           },
           {
            "bin_start": 3.6,
            "bin_end": 4.4,
            "count": 0
           },
           {
            "bin_start": 4.4,
            "bin_end": 5.2,
            "count": 0
           },
           {
            "bin_start": 5.2,
            "bin_end": 6,
            "count": 0
           },
           {
            "bin_start": 6,
            "bin_end": 6.800000000000001,
            "count": 0
           },
           {
            "bin_start": 6.800000000000001,
            "bin_end": 7.6000000000000005,
            "count": 0
           },
           {
            "bin_start": 7.6000000000000005,
            "bin_end": 8.4,
            "count": 0
           },
           {
            "bin_start": 8.4,
            "bin_end": 9.2,
            "count": 1
           },
           {
            "bin_start": 9.2,
            "bin_end": 10,
            "count": 1
           }
          ]
         }
        },
        {
         "name": "organic_linker1",
         "dtype": "int64",
         "stats": {
          "unique_count": 5,
          "nan_count": 0,
          "min": "1",
          "max": "44",
          "histogram": [
           {
            "bin_start": 1,
            "bin_end": 5.3,
            "count": 2
           },
           {
            "bin_start": 5.3,
            "bin_end": 9.6,
            "count": 0
           },
           {
            "bin_start": 9.6,
            "bin_end": 13.899999999999999,
            "count": 0
           },
           {
            "bin_start": 13.899999999999999,
            "bin_end": 18.2,
            "count": 1
           },
           {
            "bin_start": 18.2,
            "bin_end": 22.5,
            "count": 1
           },
           {
            "bin_start": 22.5,
            "bin_end": 26.799999999999997,
            "count": 0
           },
           {
            "bin_start": 26.799999999999997,
            "bin_end": 31.099999999999998,
            "count": 0
           },
           {
            "bin_start": 31.099999999999998,
            "bin_end": 35.4,
            "count": 0
           },
           {
            "bin_start": 35.4,
            "bin_end": 39.699999999999996,
            "count": 0
           },
           {
            "bin_start": 39.699999999999996,
            "bin_end": 44,
            "count": 1
           }
          ]
         }
        },
        {
         "name": "organic_linker2",
         "dtype": "int64",
         "stats": {
          "unique_count": 4,
          "nan_count": 0,
          "min": "11",
          "max": "57",
          "histogram": [
           {
            "bin_start": 11,
            "bin_end": 15.6,
            "count": 1
           },
           {
            "bin_start": 15.6,
            "bin_end": 20.2,
            "count": 0
           },
           {
            "bin_start": 20.2,
            "bin_end": 24.799999999999997,
            "count": 3
           },
           {
            "bin_start": 24.799999999999997,
            "bin_end": 29.4,
            "count": 0
           },
           {
            "bin_start": 29.4,
            "bin_end": 34,
            "count": 0
           },
           {
            "bin_start": 34,
            "bin_end": 38.599999999999994,
            "count": 0
           },
           {
            "bin_start": 38.599999999999994,
            "bin_end": 43.199999999999996,
            "count": 0
           },
           {
            "bin_start": 43.199999999999996,
            "bin_end": 47.8,
            "count": 0
           },
           {
            "bin_start": 47.8,
            "bin_end": 52.4,
            "count": 0
           },
           {
            "bin_start": 52.4,
            "bin_end": 57,
            "count": 1
           }
          ]
         }
        },
        {
         "name": "topology",
         "dtype": "object",
         "stats": {
          "unique_count": 3,
          "nan_count": 0,
          "categories": [
           {
            "name": "pcu",
            "count": 3
           },
           {
            "name": "etb",
            "count": 1
           },
           {
            "name": "sra",
            "count": 1
           }
          ]
         }
        },
        {
         "name": "CO2/N2_selectivity",
         "dtype": "float64",
         "stats": {
          "unique_count": 5,
          "nan_count": 0,
          "min": "19.26372569",
          "max": "33.61678033",
          "histogram": [
           {
            "bin_start": 19.26372569,
            "bin_end": 20.699031154,
            "count": 1
           },
           {
            "bin_start": 20.699031154,
            "bin_end": 22.134336618,
            "count": 0
           },
           {
            "bin_start": 22.134336618,
            "bin_end": 23.569642082,
            "count": 1
           },
           {
            "bin_start": 23.569642082,
            "bin_end": 25.004947546,
            "count": 0
           },
           {
            "bin_start": 25.004947546,
            "bin_end": 26.44025301,
            "count": 1
           },
           {
            "bin_start": 26.44025301,
            "bin_end": 27.875558473999998,
            "count": 0
           },
           {
            "bin_start": 27.875558473999998,
            "bin_end": 29.310863937999997,
            "count": 0
           },
           {
            "bin_start": 29.310863937999997,
            "bin_end": 30.746169402,
            "count": 1
           },
           {
            "bin_start": 30.746169402,
            "bin_end": 32.181474865999995,
            "count": 0
           },
           {
            "bin_start": 32.181474865999995,
            "bin_end": 33.61678033,
            "count": 1
           }
          ]
         }
        },
        {
         "name": "heat_adsorption_CO2_P0.15bar_T298K [kcal/mol]",
         "dtype": "float64",
         "stats": {
          "unique_count": 5,
          "nan_count": 0,
          "min": "6.190085",
          "max": "7.147286",
          "histogram": [
           {
            "bin_start": 6.190085,
            "bin_end": 6.2858051,
            "count": 1
           },
           {
            "bin_start": 6.2858051,
            "bin_end": 6.3815252,
            "count": 1
           },
           {
            "bin_start": 6.3815252,
            "bin_end": 6.4772453,
            "count": 0
           },
           {
            "bin_start": 6.4772453,
            "bin_end": 6.5729654,
            "count": 1
           },
           {
            "bin_start": 6.5729654,
            "bin_end": 6.6686855000000005,
            "count": 0
           },
           {
            "bin_start": 6.6686855000000005,
            "bin_end": 6.7644056,
            "count": 0
           },
           {
            "bin_start": 6.7644056,
            "bin_end": 6.8601257,
            "count": 1
           },
           {
            "bin_start": 6.8601257,
            "bin_end": 6.9558458000000005,
            "count": 0
           },
           {
            "bin_start": 6.9558458000000005,
            "bin_end": 7.0515659,
            "count": 0
           },
           {
            "bin_start": 7.0515659,
            "bin_end": 7.147286,
            "count": 1
           }
          ]
         }
        },
        {
         "name": "CO2_working_capacity [mL/g]",
         "dtype": "float64",
         "stats": {
          "unique_count": 5,
          "nan_count": 0,
          "min": "79.21000065588353",
          "max": "187.62600449626183",
          "histogram": [
           {
            "bin_start": 79.21000065588353,
            "bin_end": 90.05160103992137,
            "count": 1
           },
           {
            "bin_start": 90.05160103992137,
            "bin_end": 100.8932014239592,
            "count": 0
           },
           {
            "bin_start": 100.8932014239592,
            "bin_end": 111.73480180799702,
            "count": 2
           },
           {
            "bin_start": 111.73480180799702,
            "bin_end": 122.57640219203485,
            "count": 1
           },
           {
            "bin_start": 122.57640219203485,
            "bin_end": 133.4180025760727,
            "count": 0
           },
           {
            "bin_start": 133.4180025760727,
            "bin_end": 144.2596029601105,
            "count": 0
           },
           {
            "bin_start": 144.2596029601105,
            "bin_end": 155.10120334414833,
            "count": 0
           },
           {
            "bin_start": 155.10120334414833,
            "bin_end": 165.94280372818616,
            "count": 0
           },
           {
            "bin_start": 165.94280372818616,
            "bin_end": 176.784404112224,
            "count": 0
           },
           {
            "bin_start": 176.784404112224,
            "bin_end": 187.62600449626183,
            "count": 1
           }
          ]
         }
        },
        {
         "name": "_deepnote_index_column",
         "dtype": "int64"
        }
       ],
       "rows_top": [
        {
         "MOFname": "mof_unit_1",
         "volume [A^3]": 1116.667429,
         "weight [u]": 875.2405999999999,
         "density [g/cm^3]": 1.3015262988601055,
         "surface_area [m^2/g]": 0,
         "gsa": 992.1062178258082,
         "vsa": 1139.8287738457757,
         "void_fraction": 0.07899,
         "void_volume [cm^3/g]": 0.0606999999999999,
         "functional_groups": "COOH-OEt",
         "metal_linker": 3,
         "organic_linker1": 4,
         "organic_linker2": 11,
         "topology": "pcu",
         "CO2/N2_selectivity": 22.86416611,
         "heat_adsorption_CO2_P0.15bar_T298K [kcal/mol]": 6.786041,
         "CO2_working_capacity [mL/g]": 105.2845017241596,
         "_deepnote_index_column": 0
        },
        {
         "MOFname": "mof_unit_2",
         "volume [A^3]": 2769.503842,
         "weight [u]": 2211.697211,
         "density [g/cm^3]": 1.3260901216521728,
         "surface_area [m^2/g]": 603.61,
         "gsa": 321.5253502114773,
         "vsa": 477.9933491501404,
         "void_fraction": 0.13794,
         "void_volume [cm^3/g]": 0.104,
         "functional_groups": "F-OMe",
         "metal_linker": 10,
         "organic_linker1": 44,
         "organic_linker2": 57,
         "topology": "etb",
         "CO2/N2_selectivity": 33.61678033,
         "heat_adsorption_CO2_P0.15bar_T298K [kcal/mol]": 7.147286,
         "CO2_working_capacity [mL/g]": 101.22477417834172,
         "_deepnote_index_column": 1
        },
        {
         "MOFname": "mof_unit_3",
         "volume [A^3]": 1089.818728,
         "weight [u]": 773.68796,
         "density [g/cm^3]": 1.1788564208802987,
         "surface_area [m^2/g]": 788.5,
         "gsa": 2368.886582295004,
         "vsa": 1614.2123919024807,
         "void_fraction": 0.14874,
         "void_volume [cm^3/g]": 0.1262,
         "functional_groups": "OMe-COOH",
         "metal_linker": 2,
         "organic_linker1": 22,
         "organic_linker2": 24,
         "topology": "pcu",
         "CO2/N2_selectivity": 19.26372569,
         "heat_adsorption_CO2_P0.15bar_T298K [kcal/mol]": 6.347967,
         "CO2_working_capacity [mL/g]": 118.98701074687752,
         "_deepnote_index_column": 2
        },
        {
         "MOFname": "mof_unit_4",
         "volume [A^3]": 2205.1983010000004,
         "weight [u]": 1304.63872,
         "density [g/cm^3]": 0.9824081485671339,
         "surface_area [m^2/g]": 1441.53,
         "gsa": 3788.7104252208455,
         "vsa": 1911.5645822690335,
         "void_fraction": 0.21814,
         "void_volume [cm^3/g]": 0.222,
         "functional_groups": "H-SO3H",
         "metal_linker": 9,
         "organic_linker1": 17,
         "organic_linker2": 24,
         "topology": "sra",
         "CO2/N2_selectivity": 25.70137692,
         "heat_adsorption_CO2_P0.15bar_T298K [kcal/mol]": 6.190085,
         "CO2_working_capacity [mL/g]": 187.62600449626183,
         "_deepnote_index_column": 3
        },
        {
         "MOFname": "mof_unit_5",
         "volume [A^3]": 1137.800963,
         "weight [u]": 901.73612,
         "density [g/cm^3]": 1.3160200644906643,
         "surface_area [m^2/g]": 0,
         "gsa": 342.3267305386274,
         "vsa": 277.7366563490379,
         "void_fraction": 0.07778,
         "void_volume [cm^3/g]": 0.0591,
         "functional_groups": "NHMe-OH",
         "metal_linker": 2,
         "organic_linker1": 1,
         "organic_linker2": 22,
         "topology": "pcu",
         "CO2/N2_selectivity": 30.00183795,
         "heat_adsorption_CO2_P0.15bar_T298K [kcal/mol]": 6.478063,
         "CO2_working_capacity [mL/g]": 79.21000065588353,
         "_deepnote_index_column": 4
        }
       ],
       "rows_bottom": null
      },
      "text/plain": "      MOFname  volume [A^3]   weight [u]  density [g/cm^3]  \\\n0  mof_unit_1   1116.667429   875.240600          1.301526   \n1  mof_unit_2   2769.503842  2211.697211          1.326090   \n2  mof_unit_3   1089.818728   773.687960          1.178856   \n3  mof_unit_4   2205.198301  1304.638720          0.982408   \n4  mof_unit_5   1137.800963   901.736120          1.316020   \n\n   surface_area [m^2/g]          gsa          vsa  void_fraction  \\\n0                  0.00   992.106218  1139.828774        0.07899   \n1                603.61   321.525350   477.993349        0.13794   \n2                788.50  2368.886582  1614.212392        0.14874   \n3               1441.53  3788.710425  1911.564582        0.21814   \n4                  0.00   342.326731   277.736656        0.07778   \n\n   void_volume [cm^3/g] functional_groups  metal_linker  organic_linker1  \\\n0                0.0607          COOH-OEt             3                4   \n1                0.1040             F-OMe            10               44   \n2                0.1262          OMe-COOH             2               22   \n3                0.2220            H-SO3H             9               17   \n4                0.0591           NHMe-OH             2                1   \n\n   organic_linker2 topology  CO2/N2_selectivity  \\\n0               11      pcu           22.864166   \n1               57      etb           33.616780   \n2               24      pcu           19.263726   \n3               24      sra           25.701377   \n4               22      pcu           30.001838   \n\n   heat_adsorption_CO2_P0.15bar_T298K [kcal/mol]  CO2_working_capacity [mL/g]  \n0                                       6.786041                   105.284502  \n1                                       7.147286                   101.224774  \n2                                       6.347967                   118.987011  \n3                                       6.190085                   187.626004  \n4                                       6.478063                    79.210001  ",
      "text/html": "<div>\n<style scoped>\n    .dataframe tbody tr th:only-of-type {\n        vertical-align: middle;\n    }\n\n    .dataframe tbody tr th {\n        vertical-align: top;\n    }\n\n    .dataframe thead th {\n        text-align: right;\n    }\n</style>\n<table border=\"1\" class=\"dataframe\">\n  <thead>\n    <tr style=\"text-align: right;\">\n      <th></th>\n      <th>MOFname</th>\n      <th>volume [A^3]</th>\n      <th>weight [u]</th>\n      <th>density [g/cm^3]</th>\n      <th>surface_area [m^2/g]</th>\n      <th>gsa</th>\n      <th>vsa</th>\n      <th>void_fraction</th>\n      <th>void_volume [cm^3/g]</th>\n      <th>functional_groups</th>\n      <th>metal_linker</th>\n      <th>organic_linker1</th>\n      <th>organic_linker2</th>\n      <th>topology</th>\n      <th>CO2/N2_selectivity</th>\n      <th>heat_adsorption_CO2_P0.15bar_T298K [kcal/mol]</th>\n      <th>CO2_working_capacity [mL/g]</th>\n    </tr>\n  </thead>\n  <tbody>\n    <tr>\n      <th>0</th>\n      <td>mof_unit_1</td>\n      <td>1116.667429</td>\n      <td>875.240600</td>\n      <td>1.301526</td>\n      <td>0.00</td>\n      <td>992.106218</td>\n      <td>1139.828774</td>\n      <td>0.07899</td>\n      <td>0.0607</td>\n      <td>COOH-OEt</td>\n      <td>3</td>\n      <td>4</td>\n      <td>11</td>\n      <td>pcu</td>\n      <td>22.864166</td>\n      <td>6.786041</td>\n      <td>105.284502</td>\n    </tr>\n    <tr>\n      <th>1</th>\n      <td>mof_unit_2</td>\n      <td>2769.503842</td>\n      <td>2211.697211</td>\n      <td>1.326090</td>\n      <td>603.61</td>\n      <td>321.525350</td>\n      <td>477.993349</td>\n      <td>0.13794</td>\n      <td>0.1040</td>\n      <td>F-OMe</td>\n      <td>10</td>\n      <td>44</td>\n      <td>57</td>\n      <td>etb</td>\n      <td>33.616780</td>\n      <td>7.147286</td>\n      <td>101.224774</td>\n    </tr>\n    <tr>\n      <th>2</th>\n      <td>mof_unit_3</td>\n      <td>1089.818728</td>\n      <td>773.687960</td>\n      <td>1.178856</td>\n      <td>788.50</td>\n      <td>2368.886582</td>\n      <td>1614.212392</td>\n      <td>0.14874</td>\n      <td>0.1262</td>\n      <td>OMe-COOH</td>\n      <td>2</td>\n      <td>22</td>\n      <td>24</td>\n      <td>pcu</td>\n      <td>19.263726</td>\n      <td>6.347967</td>\n      <td>118.987011</td>\n    </tr>\n    <tr>\n      <th>3</th>\n      <td>mof_unit_4</td>\n      <td>2205.198301</td>\n      <td>1304.638720</td>\n      <td>0.982408</td>\n      <td>1441.53</td>\n      <td>3788.710425</td>\n      <td>1911.564582</td>\n      <td>0.21814</td>\n      <td>0.2220</td>\n      <td>H-SO3H</td>\n      <td>9</td>\n      <td>17</td>\n      <td>24</td>\n      <td>sra</td>\n      <td>25.701377</td>\n      <td>6.190085</td>\n      <td>187.626004</td>\n    </tr>\n    <tr>\n      <th>4</th>\n      <td>mof_unit_5</td>\n      <td>1137.800963</td>\n      <td>901.736120</td>\n      <td>1.316020</td>\n      <td>0.00</td>\n      <td>342.326731</td>\n      <td>277.736656</td>\n      <td>0.07778</td>\n      <td>0.0591</td>\n      <td>NHMe-OH</td>\n      <td>2</td>\n      <td>1</td>\n      <td>22</td>\n      <td>pcu</td>\n      <td>30.001838</td>\n      <td>6.478063</td>\n      <td>79.210001</td>\n    </tr>\n  </tbody>\n</table>\n</div>"
     },
     "metadata": {}
    }
   ]
  },
  {
   "cell_type": "code",
   "metadata": {
    "tags": [],
    "cell_id": "00022-a9bcadc6-937c-441b-a52e-47995d21edf7",
    "deepnote_to_be_reexecuted": false,
    "source_hash": "344ad3ea",
    "execution_start": 1633974375335,
    "execution_millis": 1,
    "deepnote_cell_type": "code"
   },
   "source": "train['gsa'] = train['gsa']/train['density [g/cm^3]']",
   "execution_count": null,
   "outputs": []
  },
  {
   "cell_type": "code",
   "metadata": {
    "tags": [],
    "cell_id": "00023-b74a046d-a492-4912-b7e9-cddc3bec17df",
    "deepnote_to_be_reexecuted": false,
    "source_hash": "2ecaabe6",
    "execution_start": 1633974421557,
    "execution_millis": 84,
    "deepnote_cell_type": "code"
   },
   "source": "train.head(10)",
   "execution_count": null,
   "outputs": [
    {
     "output_type": "execute_result",
     "execution_count": 97,
     "data": {
      "application/vnd.deepnote.dataframe.v2+json": {
       "row_count": 10,
       "column_count": 17,
       "columns": [
        {
         "name": "MOFname",
         "dtype": "object",
         "stats": {
          "unique_count": 10,
          "nan_count": 0,
          "categories": [
           {
            "name": "mof_unit_1",
            "count": 1
           },
           {
            "name": "mof_unit_2",
            "count": 1
           },
           {
            "name": "8 others",
            "count": 8
           }
          ]
         }
        },
        {
         "name": "volume [A^3]",
         "dtype": "float64",
         "stats": {
          "unique_count": 10,
          "nan_count": 0,
          "min": "916.0439070000001",
          "max": "4275.421420000001",
          "histogram": [
           {
            "bin_start": 916.0439070000001,
            "bin_end": 1251.9816583000002,
            "count": 4
           },
           {
            "bin_start": 1251.9816583000002,
            "bin_end": 1587.9194096,
            "count": 0
           },
           {
            "bin_start": 1587.9194096,
            "bin_end": 1923.8571609000003,
            "count": 0
           },
           {
            "bin_start": 1923.8571609000003,
            "bin_end": 2259.7949122000005,
            "count": 2
           },
           {
            "bin_start": 2259.7949122000005,
            "bin_end": 2595.7326635000004,
            "count": 0
           },
           {
            "bin_start": 2595.7326635000004,
            "bin_end": 2931.6704148000003,
            "count": 1
           },
           {
            "bin_start": 2931.6704148000003,
            "bin_end": 3267.6081661000007,
            "count": 0
           },
           {
            "bin_start": 3267.6081661000007,
            "bin_end": 3603.5459174000007,
            "count": 1
           },
           {
            "bin_start": 3603.5459174000007,
            "bin_end": 3939.4836687000006,
            "count": 0
           },
           {
            "bin_start": 3939.4836687000006,
            "bin_end": 4275.421420000001,
            "count": 2
           }
          ]
         }
        },
        {
         "name": "weight [u]",
         "dtype": "float64",
         "stats": {
          "unique_count": 10,
          "nan_count": 0,
          "min": "639.11156",
          "max": "2211.697211",
          "histogram": [
           {
            "bin_start": 639.11156,
            "bin_end": 796.3701251,
            "count": 2
           },
           {
            "bin_start": 796.3701251,
            "bin_end": 953.6286902,
            "count": 2
           },
           {
            "bin_start": 953.6286902,
            "bin_end": 1110.8872553,
            "count": 0
           },
           {
            "bin_start": 1110.8872553,
            "bin_end": 1268.1458204,
            "count": 0
           },
           {
            "bin_start": 1268.1458204,
            "bin_end": 1425.4043855,
            "count": 2
           },
           {
            "bin_start": 1425.4043855,
            "bin_end": 1582.6629506,
            "count": 1
           },
           {
            "bin_start": 1582.6629506,
            "bin_end": 1739.9215157,
            "count": 1
           },
           {
            "bin_start": 1739.9215157,
            "bin_end": 1897.1800808,
            "count": 0
           },
           {
            "bin_start": 1897.1800808,
            "bin_end": 2054.4386458999998,
            "count": 1
           },
           {
            "bin_start": 2054.4386458999998,
            "bin_end": 2211.697211,
            "count": 1
           }
          ]
         }
        },
        {
         "name": "density [g/cm^3]",
         "dtype": "float64",
         "stats": {
          "unique_count": 10,
          "nan_count": 0,
          "min": "0.6238338736301693",
          "max": "1.3260901216521728",
          "histogram": [
           {
            "bin_start": 0.6238338736301693,
            "bin_end": 0.6940594984323696,
            "count": 2
           },
           {
            "bin_start": 0.6940594984323696,
            "bin_end": 0.76428512323457,
            "count": 0
           },
           {
            "bin_start": 0.76428512323457,
            "bin_end": 0.8345107480367704,
            "count": 0
           },
           {
            "bin_start": 0.8345107480367704,
            "bin_end": 0.9047363728389707,
            "count": 0
           },
           {
            "bin_start": 0.9047363728389707,
            "bin_end": 0.974961997641171,
            "count": 1
           },
           {
            "bin_start": 0.974961997641171,
            "bin_end": 1.0451876224433714,
            "count": 1
           },
           {
            "bin_start": 1.0451876224433714,
            "bin_end": 1.1154132472455718,
            "count": 1
           },
           {
            "bin_start": 1.1154132472455718,
            "bin_end": 1.1856388720477722,
            "count": 2
           },
           {
            "bin_start": 1.1856388720477722,
            "bin_end": 1.2558644968499726,
            "count": 0
           },
           {
            "bin_start": 1.2558644968499726,
            "bin_end": 1.3260901216521728,
            "count": 3
           }
          ]
         }
        },
        {
         "name": "surface_area [m^2/g]",
         "dtype": "float64",
         "stats": {
          "unique_count": 9,
          "nan_count": 0,
          "min": "0.0",
          "max": "3276.11",
          "histogram": [
           {
            "bin_start": 0,
            "bin_end": 327.611,
            "count": 2
           },
           {
            "bin_start": 327.611,
            "bin_end": 655.222,
            "count": 1
           },
           {
            "bin_start": 655.222,
            "bin_end": 982.833,
            "count": 1
           },
           {
            "bin_start": 982.833,
            "bin_end": 1310.444,
            "count": 0
           },
           {
            "bin_start": 1310.444,
            "bin_end": 1638.0549999999998,
            "count": 3
           },
           {
            "bin_start": 1638.0549999999998,
            "bin_end": 1965.666,
            "count": 1
           },
           {
            "bin_start": 1965.666,
            "bin_end": 2293.277,
            "count": 0
           },
           {
            "bin_start": 2293.277,
            "bin_end": 2620.888,
            "count": 1
           },
           {
            "bin_start": 2620.888,
            "bin_end": 2948.499,
            "count": 0
           },
           {
            "bin_start": 2948.499,
            "bin_end": 3276.11,
            "count": 1
           }
          ]
         }
        },
        {
         "name": "gsa",
         "dtype": "float64",
         "stats": {
          "unique_count": 10,
          "nan_count": 0,
          "min": "182.8391274724127",
          "max": "6774.281899080137",
          "histogram": [
           {
            "bin_start": 182.8391274724127,
            "bin_end": 841.983404633185,
            "count": 3
           },
           {
            "bin_start": 841.983404633185,
            "bin_end": 1501.1276817939574,
            "count": 0
           },
           {
            "bin_start": 1501.1276817939574,
            "bin_end": 2160.27195895473,
            "count": 3
           },
           {
            "bin_start": 2160.27195895473,
            "bin_end": 2819.416236115502,
            "count": 1
           },
           {
            "bin_start": 2819.416236115502,
            "bin_end": 3478.560513276275,
            "count": 0
           },
           {
            "bin_start": 3478.560513276275,
            "bin_end": 4137.704790437047,
            "count": 1
           },
           {
            "bin_start": 4137.704790437047,
            "bin_end": 4796.849067597819,
            "count": 0
           },
           {
            "bin_start": 4796.849067597819,
            "bin_end": 5455.993344758592,
            "count": 1
           },
           {
            "bin_start": 5455.993344758592,
            "bin_end": 6115.137621919364,
            "count": 0
           },
           {
            "bin_start": 6115.137621919364,
            "bin_end": 6774.281899080137,
            "count": 1
           }
          ]
         }
        },
        {
         "name": "vsa",
         "dtype": "float64",
         "stats": {
          "unique_count": 10,
          "nan_count": 0,
          "min": "277.7366563490379",
          "max": "2821.898425388202",
          "histogram": [
           {
            "bin_start": 277.7366563490379,
            "bin_end": 532.1528332529543,
            "count": 2
           },
           {
            "bin_start": 532.1528332529543,
            "bin_end": 786.5690101568707,
            "count": 0
           },
           {
            "bin_start": 786.5690101568707,
            "bin_end": 1040.9851870607872,
            "count": 0
           },
           {
            "bin_start": 1040.9851870607872,
            "bin_end": 1295.4013639647037,
            "count": 1
           },
           {
            "bin_start": 1295.4013639647037,
            "bin_end": 1549.8175408686202,
            "count": 1
           },
           {
            "bin_start": 1549.8175408686202,
            "bin_end": 1804.2337177725365,
            "count": 1
           },
           {
            "bin_start": 1804.2337177725365,
            "bin_end": 2058.6498946764527,
            "count": 2
           },
           {
            "bin_start": 2058.6498946764527,
            "bin_end": 2313.066071580369,
            "count": 0
           },
           {
            "bin_start": 2313.066071580369,
            "bin_end": 2567.4822484842857,
            "count": 1
           },
           {
            "bin_start": 2567.4822484842857,
            "bin_end": 2821.898425388202,
            "count": 2
           }
          ]
         }
        },
        {
         "name": "void_fraction",
         "dtype": "float64",
         "stats": {
          "unique_count": 10,
          "nan_count": 0,
          "min": "0.07778",
          "max": "0.4100399999999999",
          "histogram": [
           {
            "bin_start": 0.07778,
            "bin_end": 0.111006,
            "count": 2
           },
           {
            "bin_start": 0.111006,
            "bin_end": 0.14423199999999997,
            "count": 1
           },
           {
            "bin_start": 0.14423199999999997,
            "bin_end": 0.17745799999999998,
            "count": 1
           },
           {
            "bin_start": 0.17745799999999998,
            "bin_end": 0.21068399999999998,
            "count": 0
           },
           {
            "bin_start": 0.21068399999999998,
            "bin_end": 0.24390999999999996,
            "count": 2
           },
           {
            "bin_start": 0.24390999999999996,
            "bin_end": 0.27713599999999994,
            "count": 0
           },
           {
            "bin_start": 0.27713599999999994,
            "bin_end": 0.31036199999999997,
            "count": 1
           },
           {
            "bin_start": 0.31036199999999997,
            "bin_end": 0.34358799999999995,
            "count": 1
           },
           {
            "bin_start": 0.34358799999999995,
            "bin_end": 0.3768139999999999,
            "count": 1
           },
           {
            "bin_start": 0.3768139999999999,
            "bin_end": 0.4100399999999999,
            "count": 1
           }
          ]
         }
        },
        {
         "name": "void_volume [cm^3/g]",
         "dtype": "float64",
         "stats": {
          "unique_count": 10,
          "nan_count": 0,
          "min": "0.0591",
          "max": "0.6573",
          "histogram": [
           {
            "bin_start": 0.0591,
            "bin_end": 0.11892,
            "count": 3
           },
           {
            "bin_start": 0.11892,
            "bin_end": 0.17874,
            "count": 1
           },
           {
            "bin_start": 0.17874,
            "bin_end": 0.23856,
            "count": 2
           },
           {
            "bin_start": 0.23856,
            "bin_end": 0.29838,
            "count": 1
           },
           {
            "bin_start": 0.29838,
            "bin_end": 0.35819999999999996,
            "count": 0
           },
           {
            "bin_start": 0.35819999999999996,
            "bin_end": 0.41802,
            "count": 1
           },
           {
            "bin_start": 0.41802,
            "bin_end": 0.47784,
            "count": 0
           },
           {
            "bin_start": 0.47784,
            "bin_end": 0.53766,
            "count": 0
           },
           {
            "bin_start": 0.53766,
            "bin_end": 0.59748,
            "count": 1
           },
           {
            "bin_start": 0.59748,
            "bin_end": 0.6573,
            "count": 1
           }
          ]
         }
        },
        {
         "name": "functional_groups",
         "dtype": "object",
         "stats": {
          "unique_count": 9,
          "nan_count": 0,
          "categories": [
           {
            "name": "NHMe-OH",
            "count": 2
           },
           {
            "name": "COOH-OEt",
            "count": 1
           },
           {
            "name": "7 others",
            "count": 7
           }
          ]
         }
        },
        {
         "name": "metal_linker",
         "dtype": "int64",
         "stats": {
          "unique_count": 5,
          "nan_count": 0,
          "min": "2",
          "max": "10",
          "histogram": [
           {
            "bin_start": 2,
            "bin_end": 2.8,
            "count": 3
           },
           {
            "bin_start": 2.8,
            "bin_end": 3.6,
            "count": 2
           },
           {
            "bin_start": 3.6,
            "bin_end": 4.4,
            "count": 1
           },
           {
            "bin_start": 4.4,
            "bin_end": 5.2,
            "count": 0
           },
           {
            "bin_start": 5.2,
            "bin_end": 6,
            "count": 0
           },
           {
            "bin_start": 6,
            "bin_end": 6.800000000000001,
            "count": 0
           },
           {
            "bin_start": 6.800000000000001,
            "bin_end": 7.6000000000000005,
            "count": 0
           },
           {
            "bin_start": 7.6000000000000005,
            "bin_end": 8.4,
            "count": 0
           },
           {
            "bin_start": 8.4,
            "bin_end": 9.2,
            "count": 2
           },
           {
            "bin_start": 9.2,
            "bin_end": 10,
            "count": 2
           }
          ]
         }
        },
        {
         "name": "organic_linker1",
         "dtype": "int64",
         "stats": {
          "unique_count": 10,
          "nan_count": 0,
          "min": "1",
          "max": "53",
          "histogram": [
           {
            "bin_start": 1,
            "bin_end": 6.2,
            "count": 3
           },
           {
            "bin_start": 6.2,
            "bin_end": 11.4,
            "count": 1
           },
           {
            "bin_start": 11.4,
            "bin_end": 16.6,
            "count": 2
           },
           {
            "bin_start": 16.6,
            "bin_end": 21.8,
            "count": 1
           },
           {
            "bin_start": 21.8,
            "bin_end": 27,
            "count": 1
           },
           {
            "bin_start": 27,
            "bin_end": 32.2,
            "count": 0
           },
           {
            "bin_start": 32.2,
            "bin_end": 37.4,
            "count": 0
           },
           {
            "bin_start": 37.4,
            "bin_end": 42.6,
            "count": 0
           },
           {
            "bin_start": 42.6,
            "bin_end": 47.800000000000004,
            "count": 1
           },
           {
            "bin_start": 47.800000000000004,
            "bin_end": 53,
            "count": 1
           }
          ]
         }
        },
        {
         "name": "organic_linker2",
         "dtype": "int64",
         "stats": {
          "unique_count": 9,
          "nan_count": 0,
          "min": "11",
          "max": "57",
          "histogram": [
           {
            "bin_start": 11,
            "bin_end": 15.6,
            "count": 2
           },
           {
            "bin_start": 15.6,
            "bin_end": 20.2,
            "count": 1
           },
           {
            "bin_start": 20.2,
            "bin_end": 24.799999999999997,
            "count": 4
           },
           {
            "bin_start": 24.799999999999997,
            "bin_end": 29.4,
            "count": 1
           },
           {
            "bin_start": 29.4,
            "bin_end": 34,
            "count": 0
           },
           {
            "bin_start": 34,
            "bin_end": 38.599999999999994,
            "count": 0
           },
           {
            "bin_start": 38.599999999999994,
            "bin_end": 43.199999999999996,
            "count": 0
           },
           {
            "bin_start": 43.199999999999996,
            "bin_end": 47.8,
            "count": 0
           },
           {
            "bin_start": 47.8,
            "bin_end": 52.4,
            "count": 0
           },
           {
            "bin_start": 52.4,
            "bin_end": 57,
            "count": 2
           }
          ]
         }
        },
        {
         "name": "topology",
         "dtype": "object",
         "stats": {
          "unique_count": 4,
          "nan_count": 0,
          "categories": [
           {
            "name": "pcu",
            "count": 5
           },
           {
            "name": "etb",
            "count": 2
           },
           {
            "name": "2 others",
            "count": 3
           }
          ]
         }
        },
        {
         "name": "CO2/N2_selectivity",
         "dtype": "float64",
         "stats": {
          "unique_count": 10,
          "nan_count": 0,
          "min": "10.9992991",
          "max": "37.04042435",
          "histogram": [
           {
            "bin_start": 10.9992991,
            "bin_end": 13.603411625,
            "count": 2
           },
           {
            "bin_start": 13.603411625,
            "bin_end": 16.20752415,
            "count": 0
           },
           {
            "bin_start": 16.20752415,
            "bin_end": 18.811636675000003,
            "count": 2
           },
           {
            "bin_start": 18.811636675000003,
            "bin_end": 21.4157492,
            "count": 1
           },
           {
            "bin_start": 21.4157492,
            "bin_end": 24.019861725,
            "count": 1
           },
           {
            "bin_start": 24.019861725,
            "bin_end": 26.623974250000003,
            "count": 1
           },
           {
            "bin_start": 26.623974250000003,
            "bin_end": 29.228086775,
            "count": 0
           },
           {
            "bin_start": 29.228086775,
            "bin_end": 31.8321993,
            "count": 1
           },
           {
            "bin_start": 31.8321993,
            "bin_end": 34.436311825000004,
            "count": 1
           },
           {
            "bin_start": 34.436311825000004,
            "bin_end": 37.04042435,
            "count": 1
           }
          ]
         }
        },
        {
         "name": "heat_adsorption_CO2_P0.15bar_T298K [kcal/mol]",
         "dtype": "float64",
         "stats": {
          "unique_count": 10,
          "nan_count": 0,
          "min": "5.234732",
          "max": "7.147286",
          "histogram": [
           {
            "bin_start": 5.234732,
            "bin_end": 5.4259874,
            "count": 2
           },
           {
            "bin_start": 5.4259874,
            "bin_end": 5.6172428000000005,
            "count": 1
           },
           {
            "bin_start": 5.6172428000000005,
            "bin_end": 5.808498200000001,
            "count": 0
           },
           {
            "bin_start": 5.808498200000001,
            "bin_end": 5.9997536,
            "count": 0
           },
           {
            "bin_start": 5.9997536,
            "bin_end": 6.191009,
            "count": 1
           },
           {
            "bin_start": 6.191009,
            "bin_end": 6.3822644,
            "count": 3
           },
           {
            "bin_start": 6.3822644,
            "bin_end": 6.573519800000001,
            "count": 1
           },
           {
            "bin_start": 6.573519800000001,
            "bin_end": 6.764775200000001,
            "count": 0
           },
           {
            "bin_start": 6.764775200000001,
            "bin_end": 6.9560306,
            "count": 1
           },
           {
            "bin_start": 6.9560306,
            "bin_end": 7.147286,
            "count": 1
           }
          ]
         }
        },
        {
         "name": "CO2_working_capacity [mL/g]",
         "dtype": "float64",
         "stats": {
          "unique_count": 10,
          "nan_count": 0,
          "min": "55.7869591021412",
          "max": "187.62600449626183",
          "histogram": [
           {
            "bin_start": 55.7869591021412,
            "bin_end": 68.97086364155327,
            "count": 3
           },
           {
            "bin_start": 68.97086364155327,
            "bin_end": 82.15476818096533,
            "count": 1
           },
           {
            "bin_start": 82.15476818096533,
            "bin_end": 95.33867272037739,
            "count": 0
           },
           {
            "bin_start": 95.33867272037739,
            "bin_end": 108.52257725978946,
            "count": 2
           },
           {
            "bin_start": 108.52257725978946,
            "bin_end": 121.70648179920153,
            "count": 2
           },
           {
            "bin_start": 121.70648179920153,
            "bin_end": 134.89038633861358,
            "count": 0
           },
           {
            "bin_start": 134.89038633861358,
            "bin_end": 148.07429087802564,
            "count": 1
           },
           {
            "bin_start": 148.07429087802564,
            "bin_end": 161.25819541743772,
            "count": 0
           },
           {
            "bin_start": 161.25819541743772,
            "bin_end": 174.44209995684977,
            "count": 0
           },
           {
            "bin_start": 174.44209995684977,
            "bin_end": 187.62600449626183,
            "count": 1
           }
          ]
         }
        },
        {
         "name": "_deepnote_index_column",
         "dtype": "int64"
        }
       ],
       "rows_top": [
        {
         "MOFname": "mof_unit_1",
         "volume [A^3]": 1116.667429,
         "weight [u]": 875.2405999999999,
         "density [g/cm^3]": 1.3015262988601055,
         "surface_area [m^2/g]": 0,
         "gsa": 585.6690519771402,
         "vsa": 1139.8287738457757,
         "void_fraction": 0.07899,
         "void_volume [cm^3/g]": 0.0606999999999999,
         "functional_groups": "COOH-OEt",
         "metal_linker": 3,
         "organic_linker1": 4,
         "organic_linker2": 11,
         "topology": "pcu",
         "CO2/N2_selectivity": 22.86416611,
         "heat_adsorption_CO2_P0.15bar_T298K [kcal/mol]": 6.786041,
         "CO2_working_capacity [mL/g]": 105.2845017241596,
         "_deepnote_index_column": 0
        },
        {
         "MOFname": "mof_unit_2",
         "volume [A^3]": 2769.503842,
         "weight [u]": 2211.697211,
         "density [g/cm^3]": 1.3260901216521728,
         "surface_area [m^2/g]": 603.61,
         "gsa": 182.8391274724127,
         "vsa": 477.9933491501404,
         "void_fraction": 0.13794,
         "void_volume [cm^3/g]": 0.104,
         "functional_groups": "F-OMe",
         "metal_linker": 10,
         "organic_linker1": 44,
         "organic_linker2": 57,
         "topology": "etb",
         "CO2/N2_selectivity": 33.61678033,
         "heat_adsorption_CO2_P0.15bar_T298K [kcal/mol]": 7.147286,
         "CO2_working_capacity [mL/g]": 101.22477417834172,
         "_deepnote_index_column": 1
        },
        {
         "MOFname": "mof_unit_3",
         "volume [A^3]": 1089.818728,
         "weight [u]": 773.68796,
         "density [g/cm^3]": 1.1788564208802987,
         "surface_area [m^2/g]": 788.5,
         "gsa": 1704.5998324734685,
         "vsa": 1614.2123919024807,
         "void_fraction": 0.14874,
         "void_volume [cm^3/g]": 0.1262,
         "functional_groups": "OMe-COOH",
         "metal_linker": 2,
         "organic_linker1": 22,
         "organic_linker2": 24,
         "topology": "pcu",
         "CO2/N2_selectivity": 19.26372569,
         "heat_adsorption_CO2_P0.15bar_T298K [kcal/mol]": 6.347967,
         "CO2_working_capacity [mL/g]": 118.98701074687752,
         "_deepnote_index_column": 2
        },
        {
         "MOFname": "mof_unit_4",
         "volume [A^3]": 2205.1983010000004,
         "weight [u]": 1304.63872,
         "density [g/cm^3]": 0.9824081485671339,
         "surface_area [m^2/g]": 1441.53,
         "gsa": 3925.6131599967907,
         "vsa": 1911.5645822690335,
         "void_fraction": 0.21814,
         "void_volume [cm^3/g]": 0.222,
         "functional_groups": "H-SO3H",
         "metal_linker": 9,
         "organic_linker1": 17,
         "organic_linker2": 24,
         "topology": "sra",
         "CO2/N2_selectivity": 25.70137692,
         "heat_adsorption_CO2_P0.15bar_T298K [kcal/mol]": 6.190085,
         "CO2_working_capacity [mL/g]": 187.62600449626183,
         "_deepnote_index_column": 3
        },
        {
         "MOFname": "mof_unit_5",
         "volume [A^3]": 1137.800963,
         "weight [u]": 901.73612,
         "density [g/cm^3]": 1.3160200644906643,
         "surface_area [m^2/g]": 0,
         "gsa": 197.6586345273903,
         "vsa": 277.7366563490379,
         "void_fraction": 0.07778,
         "void_volume [cm^3/g]": 0.0591,
         "functional_groups": "NHMe-OH",
         "metal_linker": 2,
         "organic_linker1": 1,
         "organic_linker2": 22,
         "topology": "pcu",
         "CO2/N2_selectivity": 30.00183795,
         "heat_adsorption_CO2_P0.15bar_T298K [kcal/mol]": 6.478063,
         "CO2_working_capacity [mL/g]": 79.21000065588353,
         "_deepnote_index_column": 4
        },
        {
         "MOFname": "mof_unit_6",
         "volume [A^3]": 3954.659761,
         "weight [u]": 1543.02768,
         "density [g/cm^3]": 0.6479088818248402,
         "surface_area [m^2/g]": 2430.55,
         "gsa": 5144.207811177199,
         "vsa": 2316.211282362762,
         "void_fraction": 0.3709399999999999,
         "void_volume [cm^3/g]": 0.5725,
         "functional_groups": "Pr-NO2",
         "metal_linker": 9,
         "organic_linker1": 7,
         "organic_linker2": 23,
         "topology": "sra",
         "CO2/N2_selectivity": 17.14654102,
         "heat_adsorption_CO2_P0.15bar_T298K [kcal/mol]": 5.398304,
         "CO2_working_capacity [mL/g]": 55.7869591021412,
         "_deepnote_index_column": 5
        },
        {
         "MOFname": "mof_unit_7",
         "volume [A^3]": 3565.914939,
         "weight [u]": 1954.749656,
         "density [g/cm^3]": 0.9102684862933125,
         "surface_area [m^2/g]": 1530.02,
         "gsa": 2284.3287543475603,
         "vsa": 1379.5918150155758,
         "void_fraction": 0.33337,
         "void_volume [cm^3/g]": 0.3662,
         "functional_groups": "NH2",
         "metal_linker": 10,
         "organic_linker1": 53,
         "organic_linker2": 55,
         "topology": "etb",
         "CO2/N2_selectivity": 18.36379134,
         "heat_adsorption_CO2_P0.15bar_T298K [kcal/mol]": 6.303857,
         "CO2_working_capacity [mL/g]": 111.69046224719489,
         "_deepnote_index_column": 6
        },
        {
         "MOFname": "mof_unit_8",
         "volume [A^3]": 916.0439070000001,
         "weight [u]": 639.11156,
         "density [g/cm^3]": 1.1585365087116941,
         "surface_area [m^2/g]": 1685.58,
         "gsa": 2071.3027137200697,
         "vsa": 2821.898425388202,
         "void_fraction": 0.28458,
         "void_volume [cm^3/g]": 0.2456,
         "functional_groups": "Br",
         "metal_linker": 2,
         "organic_linker1": 5,
         "organic_linker2": 13,
         "topology": "pcu",
         "CO2/N2_selectivity": 12.68480443,
         "heat_adsorption_CO2_P0.15bar_T298K [kcal/mol]": 5.234732,
         "CO2_working_capacity [mL/g]": 58.989774287110805,
         "_deepnote_index_column": 7
        },
        {
         "MOFname": "mof_unit_9",
         "volume [A^3]": 2228.882339,
         "weight [u]": 1422.69182,
         "density [g/cm^3]": 1.059919868108749,
         "surface_area [m^2/g]": 1458.02,
         "gsa": 1807.7071667477883,
         "vsa": 1929.0075798932185,
         "void_fraction": 0.2427699999999999,
         "void_volume [cm^3/g]": 0.2291,
         "functional_groups": "HCO",
         "metal_linker": 4,
         "organic_linker1": 14,
         "organic_linker2": 19,
         "topology": "acs",
         "CO2/N2_selectivity": 37.04042435,
         "heat_adsorption_CO2_P0.15bar_T298K [kcal/mol]": 6.298964,
         "CO2_working_capacity [mL/g]": 135.58710841724886,
         "_deepnote_index_column": 8
        },
        {
         "MOFname": "mof_unit_10",
         "volume [A^3]": 4275.421420000001,
         "weight [u]": 1606.196,
         "density [g/cm^3]": 0.6238338736301693,
         "surface_area [m^2/g]": 3276.11,
         "gsa": 6774.281899080137,
         "vsa": 2664.1443951396463,
         "void_fraction": 0.4100399999999999,
         "void_volume [cm^3/g]": 0.6573,
         "functional_groups": "NHMe-OH",
         "metal_linker": 3,
         "organic_linker1": 13,
         "organic_linker2": 29,
         "topology": "pcu",
         "CO2/N2_selectivity": 10.9992991,
         "heat_adsorption_CO2_P0.15bar_T298K [kcal/mol]": 5.539327,
         "CO2_working_capacity [mL/g]": 59.73905673864041,
         "_deepnote_index_column": 9
        }
       ],
       "rows_bottom": null
      },
      "text/plain": "       MOFname  volume [A^3]   weight [u]  density [g/cm^3]  \\\n0   mof_unit_1   1116.667429   875.240600          1.301526   \n1   mof_unit_2   2769.503842  2211.697211          1.326090   \n2   mof_unit_3   1089.818728   773.687960          1.178856   \n3   mof_unit_4   2205.198301  1304.638720          0.982408   \n4   mof_unit_5   1137.800963   901.736120          1.316020   \n5   mof_unit_6   3954.659761  1543.027680          0.647909   \n6   mof_unit_7   3565.914939  1954.749656          0.910268   \n7   mof_unit_8    916.043907   639.111560          1.158537   \n8   mof_unit_9   2228.882339  1422.691820          1.059920   \n9  mof_unit_10   4275.421420  1606.196000          0.623834   \n\n   surface_area [m^2/g]          gsa          vsa  void_fraction  \\\n0                  0.00   585.669052  1139.828774        0.07899   \n1                603.61   182.839127   477.993349        0.13794   \n2                788.50  1704.599832  1614.212392        0.14874   \n3               1441.53  3925.613160  1911.564582        0.21814   \n4                  0.00   197.658635   277.736656        0.07778   \n5               2430.55  5144.207811  2316.211282        0.37094   \n6               1530.02  2284.328754  1379.591815        0.33337   \n7               1685.58  2071.302714  2821.898425        0.28458   \n8               1458.02  1807.707167  1929.007580        0.24277   \n9               3276.11  6774.281899  2664.144395        0.41004   \n\n   void_volume [cm^3/g] functional_groups  metal_linker  organic_linker1  \\\n0                0.0607          COOH-OEt             3                4   \n1                0.1040             F-OMe            10               44   \n2                0.1262          OMe-COOH             2               22   \n3                0.2220            H-SO3H             9               17   \n4                0.0591           NHMe-OH             2                1   \n5                0.5725            Pr-NO2             9                7   \n6                0.3662               NH2            10               53   \n7                0.2456                Br             2                5   \n8                0.2291               HCO             4               14   \n9                0.6573           NHMe-OH             3               13   \n\n   organic_linker2 topology  CO2/N2_selectivity  \\\n0               11      pcu           22.864166   \n1               57      etb           33.616780   \n2               24      pcu           19.263726   \n3               24      sra           25.701377   \n4               22      pcu           30.001838   \n5               23      sra           17.146541   \n6               55      etb           18.363791   \n7               13      pcu           12.684804   \n8               19      acs           37.040424   \n9               29      pcu           10.999299   \n\n   heat_adsorption_CO2_P0.15bar_T298K [kcal/mol]  CO2_working_capacity [mL/g]  \n0                                       6.786041                   105.284502  \n1                                       7.147286                   101.224774  \n2                                       6.347967                   118.987011  \n3                                       6.190085                   187.626004  \n4                                       6.478063                    79.210001  \n5                                       5.398304                    55.786959  \n6                                       6.303857                   111.690462  \n7                                       5.234732                    58.989774  \n8                                       6.298964                   135.587108  \n9                                       5.539327                    59.739057  ",
      "text/html": "<div>\n<style scoped>\n    .dataframe tbody tr th:only-of-type {\n        vertical-align: middle;\n    }\n\n    .dataframe tbody tr th {\n        vertical-align: top;\n    }\n\n    .dataframe thead th {\n        text-align: right;\n    }\n</style>\n<table border=\"1\" class=\"dataframe\">\n  <thead>\n    <tr style=\"text-align: right;\">\n      <th></th>\n      <th>MOFname</th>\n      <th>volume [A^3]</th>\n      <th>weight [u]</th>\n      <th>density [g/cm^3]</th>\n      <th>surface_area [m^2/g]</th>\n      <th>gsa</th>\n      <th>vsa</th>\n      <th>void_fraction</th>\n      <th>void_volume [cm^3/g]</th>\n      <th>functional_groups</th>\n      <th>metal_linker</th>\n      <th>organic_linker1</th>\n      <th>organic_linker2</th>\n      <th>topology</th>\n      <th>CO2/N2_selectivity</th>\n      <th>heat_adsorption_CO2_P0.15bar_T298K [kcal/mol]</th>\n      <th>CO2_working_capacity [mL/g]</th>\n    </tr>\n  </thead>\n  <tbody>\n    <tr>\n      <th>0</th>\n      <td>mof_unit_1</td>\n      <td>1116.667429</td>\n      <td>875.240600</td>\n      <td>1.301526</td>\n      <td>0.00</td>\n      <td>585.669052</td>\n      <td>1139.828774</td>\n      <td>0.07899</td>\n      <td>0.0607</td>\n      <td>COOH-OEt</td>\n      <td>3</td>\n      <td>4</td>\n      <td>11</td>\n      <td>pcu</td>\n      <td>22.864166</td>\n      <td>6.786041</td>\n      <td>105.284502</td>\n    </tr>\n    <tr>\n      <th>1</th>\n      <td>mof_unit_2</td>\n      <td>2769.503842</td>\n      <td>2211.697211</td>\n      <td>1.326090</td>\n      <td>603.61</td>\n      <td>182.839127</td>\n      <td>477.993349</td>\n      <td>0.13794</td>\n      <td>0.1040</td>\n      <td>F-OMe</td>\n      <td>10</td>\n      <td>44</td>\n      <td>57</td>\n      <td>etb</td>\n      <td>33.616780</td>\n      <td>7.147286</td>\n      <td>101.224774</td>\n    </tr>\n    <tr>\n      <th>2</th>\n      <td>mof_unit_3</td>\n      <td>1089.818728</td>\n      <td>773.687960</td>\n      <td>1.178856</td>\n      <td>788.50</td>\n      <td>1704.599832</td>\n      <td>1614.212392</td>\n      <td>0.14874</td>\n      <td>0.1262</td>\n      <td>OMe-COOH</td>\n      <td>2</td>\n      <td>22</td>\n      <td>24</td>\n      <td>pcu</td>\n      <td>19.263726</td>\n      <td>6.347967</td>\n      <td>118.987011</td>\n    </tr>\n    <tr>\n      <th>3</th>\n      <td>mof_unit_4</td>\n      <td>2205.198301</td>\n      <td>1304.638720</td>\n      <td>0.982408</td>\n      <td>1441.53</td>\n      <td>3925.613160</td>\n      <td>1911.564582</td>\n      <td>0.21814</td>\n      <td>0.2220</td>\n      <td>H-SO3H</td>\n      <td>9</td>\n      <td>17</td>\n      <td>24</td>\n      <td>sra</td>\n      <td>25.701377</td>\n      <td>6.190085</td>\n      <td>187.626004</td>\n    </tr>\n    <tr>\n      <th>4</th>\n      <td>mof_unit_5</td>\n      <td>1137.800963</td>\n      <td>901.736120</td>\n      <td>1.316020</td>\n      <td>0.00</td>\n      <td>197.658635</td>\n      <td>277.736656</td>\n      <td>0.07778</td>\n      <td>0.0591</td>\n      <td>NHMe-OH</td>\n      <td>2</td>\n      <td>1</td>\n      <td>22</td>\n      <td>pcu</td>\n      <td>30.001838</td>\n      <td>6.478063</td>\n      <td>79.210001</td>\n    </tr>\n    <tr>\n      <th>5</th>\n      <td>mof_unit_6</td>\n      <td>3954.659761</td>\n      <td>1543.027680</td>\n      <td>0.647909</td>\n      <td>2430.55</td>\n      <td>5144.207811</td>\n      <td>2316.211282</td>\n      <td>0.37094</td>\n      <td>0.5725</td>\n      <td>Pr-NO2</td>\n      <td>9</td>\n      <td>7</td>\n      <td>23</td>\n      <td>sra</td>\n      <td>17.146541</td>\n      <td>5.398304</td>\n      <td>55.786959</td>\n    </tr>\n    <tr>\n      <th>6</th>\n      <td>mof_unit_7</td>\n      <td>3565.914939</td>\n      <td>1954.749656</td>\n      <td>0.910268</td>\n      <td>1530.02</td>\n      <td>2284.328754</td>\n      <td>1379.591815</td>\n      <td>0.33337</td>\n      <td>0.3662</td>\n      <td>NH2</td>\n      <td>10</td>\n      <td>53</td>\n      <td>55</td>\n      <td>etb</td>\n      <td>18.363791</td>\n      <td>6.303857</td>\n      <td>111.690462</td>\n    </tr>\n    <tr>\n      <th>7</th>\n      <td>mof_unit_8</td>\n      <td>916.043907</td>\n      <td>639.111560</td>\n      <td>1.158537</td>\n      <td>1685.58</td>\n      <td>2071.302714</td>\n      <td>2821.898425</td>\n      <td>0.28458</td>\n      <td>0.2456</td>\n      <td>Br</td>\n      <td>2</td>\n      <td>5</td>\n      <td>13</td>\n      <td>pcu</td>\n      <td>12.684804</td>\n      <td>5.234732</td>\n      <td>58.989774</td>\n    </tr>\n    <tr>\n      <th>8</th>\n      <td>mof_unit_9</td>\n      <td>2228.882339</td>\n      <td>1422.691820</td>\n      <td>1.059920</td>\n      <td>1458.02</td>\n      <td>1807.707167</td>\n      <td>1929.007580</td>\n      <td>0.24277</td>\n      <td>0.2291</td>\n      <td>HCO</td>\n      <td>4</td>\n      <td>14</td>\n      <td>19</td>\n      <td>acs</td>\n      <td>37.040424</td>\n      <td>6.298964</td>\n      <td>135.587108</td>\n    </tr>\n    <tr>\n      <th>9</th>\n      <td>mof_unit_10</td>\n      <td>4275.421420</td>\n      <td>1606.196000</td>\n      <td>0.623834</td>\n      <td>3276.11</td>\n      <td>6774.281899</td>\n      <td>2664.144395</td>\n      <td>0.41004</td>\n      <td>0.6573</td>\n      <td>NHMe-OH</td>\n      <td>3</td>\n      <td>13</td>\n      <td>29</td>\n      <td>pcu</td>\n      <td>10.999299</td>\n      <td>5.539327</td>\n      <td>59.739057</td>\n    </tr>\n  </tbody>\n</table>\n</div>"
     },
     "metadata": {}
    }
   ]
  },
  {
   "cell_type": "markdown",
   "source": "# compare",
   "metadata": {
    "tags": [],
    "is_collapsed": false,
    "cell_id": "00011-bf8859f5-d6d0-4ee8-9392-84da42ba6560",
    "deepnote_cell_type": "text-cell-h1"
   }
  },
  {
   "cell_type": "code",
   "metadata": {
    "tags": [],
    "cell_id": "00013-4eb61680-25f3-4317-b37e-7c47c85cd7f3",
    "deepnote_to_be_reexecuted": false,
    "source_hash": "afa04642",
    "execution_start": 1633974523132,
    "execution_millis": 8,
    "deepnote_cell_type": "code"
   },
   "source": "train.loc[train[\"surface_area [m^2/g]\"] == 0, \"surface_area [m^2/g]\"] = np.NAN\ntrain.loc[train[\"surface_area [m^2/g]\"] == -1, \"surface_area [m^2/g]\"] = np.NAN\ntrain.loc[train[\"void_fraction\"] == 0, \"void_fraction\"] = np.NAN\ntrain.loc[train[\"void_fraction\"] == -1, \"void_fraction\"] = np.NAN\ntrain.loc[train[\"void_volume [cm^3/g]\"] == 0, \"void_volume [cm^3/g]\"] = np.NAN\ntrain.loc[train[\"heat_adsorption_CO2_P0.15bar_T298K [kcal/mol]\"] == np.inf, \"heat_adsorption_CO2_P0.15bar_T298K [kcal/mol]\"] = np.nan\n",
   "execution_count": null,
   "outputs": []
  },
  {
   "cell_type": "code",
   "metadata": {
    "tags": [],
    "cell_id": "00014-5df45da8-8971-41d3-89cf-72991831d9b1",
    "deepnote_to_be_reexecuted": false,
    "source_hash": "fea28bdd",
    "execution_start": 1633974525977,
    "execution_millis": 24,
    "deepnote_cell_type": "code"
   },
   "source": "train.info()",
   "execution_count": null,
   "outputs": [
    {
     "name": "stdout",
     "text": "<class 'pandas.core.frame.DataFrame'>\nRangeIndex: 68613 entries, 0 to 68612\nData columns (total 17 columns):\n #   Column                                         Non-Null Count  Dtype  \n---  ------                                         --------------  -----  \n 0   MOFname                                        68613 non-null  object \n 1   volume [A^3]                                   68613 non-null  float64\n 2   weight [u]                                     68613 non-null  float64\n 3   density [g/cm^3]                               68613 non-null  float64\n 4   surface_area [m^2/g]                           54074 non-null  float64\n 5   gsa                                            68613 non-null  float64\n 6   vsa                                            68613 non-null  float64\n 7   void_fraction                                  65683 non-null  float64\n 8   void_volume [cm^3/g]                           65483 non-null  float64\n 9   functional_groups                              68290 non-null  object \n 10  metal_linker                                   68613 non-null  int64  \n 11  organic_linker1                                68613 non-null  int64  \n 12  organic_linker2                                68613 non-null  int64  \n 13  topology                                       68613 non-null  object \n 14  CO2/N2_selectivity                             68613 non-null  float64\n 15  heat_adsorption_CO2_P0.15bar_T298K [kcal/mol]  66524 non-null  float64\n 16  CO2_working_capacity [mL/g]                    68613 non-null  float64\ndtypes: float64(11), int64(3), object(3)\nmemory usage: 8.9+ MB\n",
     "output_type": "stream"
    }
   ]
  },
  {
   "cell_type": "code",
   "metadata": {
    "tags": [],
    "cell_id": "00027-c807e2ef-9aa7-4a9a-8994-cc79e200239c",
    "deepnote_to_be_reexecuted": false,
    "source_hash": "c440e714",
    "execution_start": 1633974614634,
    "execution_millis": 1,
    "deepnote_cell_type": "code"
   },
   "source": "train_wo_nan = train.dropna()",
   "execution_count": null,
   "outputs": []
  },
  {
   "cell_type": "code",
   "metadata": {
    "tags": [],
    "cell_id": "00028-a7238df3-c914-473e-bcca-0a347a9855be",
    "deepnote_to_be_reexecuted": false,
    "source_hash": "9a510875",
    "execution_start": 1633974624765,
    "execution_millis": 131,
    "deepnote_cell_type": "code"
   },
   "source": "train_wo_nan",
   "execution_count": null,
   "outputs": [
    {
     "output_type": "execute_result",
     "execution_count": 101,
     "data": {
      "application/vnd.deepnote.dataframe.v2+json": {
       "row_count": 53778,
       "column_count": 17,
       "columns": [
        {
         "name": "MOFname",
         "dtype": "object",
         "stats": {
          "unique_count": 53778,
          "nan_count": 0,
          "categories": [
           {
            "name": "mof_unit_2",
            "count": 1
           },
           {
            "name": "mof_unit_3",
            "count": 1
           },
           {
            "name": "53776 others",
            "count": 53776
           }
          ]
         }
        },
        {
         "name": "volume [A^3]",
         "dtype": "float64"
        },
        {
         "name": "weight [u]",
         "dtype": "float64"
        },
        {
         "name": "density [g/cm^3]",
         "dtype": "float64"
        },
        {
         "name": "surface_area [m^2/g]",
         "dtype": "float64"
        },
        {
         "name": "gsa",
         "dtype": "float64"
        },
        {
         "name": "vsa",
         "dtype": "float64"
        },
        {
         "name": "void_fraction",
         "dtype": "float64"
        },
        {
         "name": "void_volume [cm^3/g]",
         "dtype": "float64"
        },
        {
         "name": "functional_groups",
         "dtype": "object"
        },
        {
         "name": "metal_linker",
         "dtype": "int64"
        },
        {
         "name": "organic_linker1",
         "dtype": "int64"
        },
        {
         "name": "organic_linker2",
         "dtype": "int64"
        },
        {
         "name": "topology",
         "dtype": "object"
        },
        {
         "name": "CO2/N2_selectivity",
         "dtype": "float64"
        },
        {
         "name": "heat_adsorption_CO2_P0.15bar_T298K [kcal/mol]",
         "dtype": "float64"
        },
        {
         "name": "CO2_working_capacity [mL/g]",
         "dtype": "float64"
        },
        {
         "name": "_deepnote_index_column",
         "dtype": "int64"
        }
       ],
       "rows_top": [
        {
         "MOFname": "mof_unit_2",
         "volume [A^3]": 2769.503842,
         "weight [u]": 2211.697211,
         "density [g/cm^3]": 1.3260901216521728,
         "surface_area [m^2/g]": 603.61,
         "gsa": 182.8391274724127,
         "vsa": 477.9933491501404,
         "void_fraction": 0.13794,
         "void_volume [cm^3/g]": 0.104,
         "functional_groups": "F-OMe",
         "metal_linker": 10,
         "organic_linker1": 44,
         "organic_linker2": 57,
         "topology": "etb",
         "CO2/N2_selectivity": 33.61678033,
         "heat_adsorption_CO2_P0.15bar_T298K [kcal/mol]": 7.147286,
         "CO2_working_capacity [mL/g]": 101.22477417834172,
         "_deepnote_index_column": 1
        },
        {
         "MOFname": "mof_unit_3",
         "volume [A^3]": 1089.818728,
         "weight [u]": 773.68796,
         "density [g/cm^3]": 1.1788564208802987,
         "surface_area [m^2/g]": 788.5,
         "gsa": 1704.5998324734685,
         "vsa": 1614.2123919024807,
         "void_fraction": 0.14874,
         "void_volume [cm^3/g]": 0.1262,
         "functional_groups": "OMe-COOH",
         "metal_linker": 2,
         "organic_linker1": 22,
         "organic_linker2": 24,
         "topology": "pcu",
         "CO2/N2_selectivity": 19.26372569,
         "heat_adsorption_CO2_P0.15bar_T298K [kcal/mol]": 6.347967,
         "CO2_working_capacity [mL/g]": 118.98701074687752,
         "_deepnote_index_column": 2
        },
        {
         "MOFname": "mof_unit_4",
         "volume [A^3]": 2205.1983010000004,
         "weight [u]": 1304.63872,
         "density [g/cm^3]": 0.9824081485671339,
         "surface_area [m^2/g]": 1441.53,
         "gsa": 3925.6131599967907,
         "vsa": 1911.5645822690335,
         "void_fraction": 0.21814,
         "void_volume [cm^3/g]": 0.222,
         "functional_groups": "H-SO3H",
         "metal_linker": 9,
         "organic_linker1": 17,
         "organic_linker2": 24,
         "topology": "sra",
         "CO2/N2_selectivity": 25.70137692,
         "heat_adsorption_CO2_P0.15bar_T298K [kcal/mol]": 6.190085,
         "CO2_working_capacity [mL/g]": 187.62600449626183,
         "_deepnote_index_column": 3
        },
        {
         "MOFname": "mof_unit_6",
         "volume [A^3]": 3954.659761,
         "weight [u]": 1543.02768,
         "density [g/cm^3]": 0.6479088818248402,
         "surface_area [m^2/g]": 2430.55,
         "gsa": 5144.207811177199,
         "vsa": 2316.211282362762,
         "void_fraction": 0.3709399999999999,
         "void_volume [cm^3/g]": 0.5725,
         "functional_groups": "Pr-NO2",
         "metal_linker": 9,
         "organic_linker1": 7,
         "organic_linker2": 23,
         "topology": "sra",
         "CO2/N2_selectivity": 17.14654102,
         "heat_adsorption_CO2_P0.15bar_T298K [kcal/mol]": 5.398304,
         "CO2_working_capacity [mL/g]": 55.7869591021412,
         "_deepnote_index_column": 5
        },
        {
         "MOFname": "mof_unit_7",
         "volume [A^3]": 3565.914939,
         "weight [u]": 1954.749656,
         "density [g/cm^3]": 0.9102684862933125,
         "surface_area [m^2/g]": 1530.02,
         "gsa": 2284.3287543475603,
         "vsa": 1379.5918150155758,
         "void_fraction": 0.33337,
         "void_volume [cm^3/g]": 0.3662,
         "functional_groups": "NH2",
         "metal_linker": 10,
         "organic_linker1": 53,
         "organic_linker2": 55,
         "topology": "etb",
         "CO2/N2_selectivity": 18.36379134,
         "heat_adsorption_CO2_P0.15bar_T298K [kcal/mol]": 6.303857,
         "CO2_working_capacity [mL/g]": 111.69046224719489,
         "_deepnote_index_column": 6
        },
        {
         "MOFname": "mof_unit_8",
         "volume [A^3]": 916.0439070000001,
         "weight [u]": 639.11156,
         "density [g/cm^3]": 1.1585365087116941,
         "surface_area [m^2/g]": 1685.58,
         "gsa": 2071.3027137200697,
         "vsa": 2821.898425388202,
         "void_fraction": 0.28458,
         "void_volume [cm^3/g]": 0.2456,
         "functional_groups": "Br",
         "metal_linker": 2,
         "organic_linker1": 5,
         "organic_linker2": 13,
         "topology": "pcu",
         "CO2/N2_selectivity": 12.68480443,
         "heat_adsorption_CO2_P0.15bar_T298K [kcal/mol]": 5.234732,
         "CO2_working_capacity [mL/g]": 58.989774287110805,
         "_deepnote_index_column": 7
        },
        {
         "MOFname": "mof_unit_9",
         "volume [A^3]": 2228.882339,
         "weight [u]": 1422.69182,
         "density [g/cm^3]": 1.059919868108749,
         "surface_area [m^2/g]": 1458.02,
         "gsa": 1807.7071667477883,
         "vsa": 1929.0075798932185,
         "void_fraction": 0.2427699999999999,
         "void_volume [cm^3/g]": 0.2291,
         "functional_groups": "HCO",
         "metal_linker": 4,
         "organic_linker1": 14,
         "organic_linker2": 19,
         "topology": "acs",
         "CO2/N2_selectivity": 37.04042435,
         "heat_adsorption_CO2_P0.15bar_T298K [kcal/mol]": 6.298964,
         "CO2_working_capacity [mL/g]": 135.58710841724886,
         "_deepnote_index_column": 8
        },
        {
         "MOFname": "mof_unit_10",
         "volume [A^3]": 4275.421420000001,
         "weight [u]": 1606.196,
         "density [g/cm^3]": 0.6238338736301693,
         "surface_area [m^2/g]": 3276.11,
         "gsa": 6774.281899080137,
         "vsa": 2664.1443951396463,
         "void_fraction": 0.4100399999999999,
         "void_volume [cm^3/g]": 0.6573,
         "functional_groups": "NHMe-OH",
         "metal_linker": 3,
         "organic_linker1": 13,
         "organic_linker2": 29,
         "topology": "pcu",
         "CO2/N2_selectivity": 10.9992991,
         "heat_adsorption_CO2_P0.15bar_T298K [kcal/mol]": 5.539327,
         "CO2_working_capacity [mL/g]": 59.73905673864041,
         "_deepnote_index_column": 9
        },
        {
         "MOFname": "mof_unit_11",
         "volume [A^3]": 1607.935338,
         "weight [u]": 1110.38712,
         "density [g/cm^3]": 1.1467141648483379,
         "surface_area [m^2/g]": 1098.36,
         "gsa": 1157.4793849388602,
         "vsa": 1664.8893729596916,
         "void_fraction": 0.18787,
         "void_volume [cm^3/g]": 0.1638,
         "functional_groups": "SO3H",
         "metal_linker": 9,
         "organic_linker1": 1,
         "organic_linker2": 24,
         "topology": "sra",
         "CO2/N2_selectivity": 24.25902464,
         "heat_adsorption_CO2_P0.15bar_T298K [kcal/mol]": 5.926444,
         "CO2_working_capacity [mL/g]": 161.06749898914796,
         "_deepnote_index_column": 10
        },
        {
         "MOFname": "mof_unit_13",
         "volume [A^3]": 1650.879383,
         "weight [u]": 796.6896799999998,
         "density [g/cm^3]": 0.8013517491648267,
         "surface_area [m^2/g]": 2117.01,
         "gsa": 3276.6538623298734,
         "vsa": 2983.563850704983,
         "void_fraction": 0.3040499999999999,
         "void_volume [cm^3/g]": 0.3794,
         "functional_groups": "NHMe-NO2",
         "metal_linker": 2,
         "organic_linker1": 4,
         "organic_linker2": 6,
         "topology": "pcu",
         "CO2/N2_selectivity": 12.99674112,
         "heat_adsorption_CO2_P0.15bar_T298K [kcal/mol]": 4.936655,
         "CO2_working_capacity [mL/g]": 79.91916950624072,
         "_deepnote_index_column": 12
        },
        {
         "MOFname": "mof_unit_15",
         "volume [A^3]": 1769.973982,
         "weight [u]": 945.403413,
         "density [g/cm^3]": 0.8869509944146851,
         "surface_area [m^2/g]": 1870.11,
         "gsa": 1576.3866041420085,
         "vsa": 1876.329949034444,
         "void_fraction": 0.27705,
         "void_volume [cm^3/g]": 0.3124,
         "functional_groups": "F-OMe",
         "metal_linker": 3,
         "organic_linker1": 4,
         "organic_linker2": 26,
         "topology": "pcu",
         "CO2/N2_selectivity": 17.01166312,
         "heat_adsorption_CO2_P0.15bar_T298K [kcal/mol]": 5.139598,
         "CO2_working_capacity [mL/g]": 62.32762208837283,
         "_deepnote_index_column": 14
        },
        {
         "MOFname": "mof_unit_16",
         "volume [A^3]": 4282.561071,
         "weight [u]": 2478.166816,
         "density [g/cm^3]": 0.9608958416277164,
         "surface_area [m^2/g]": 1294.48,
         "gsa": 874.987673751352,
         "vsa": 1106.6814923660734,
         "void_fraction": 0.2860699999999999,
         "void_volume [cm^3/g]": 0.2977,
         "functional_groups": "OMe-NH2",
         "metal_linker": 10,
         "organic_linker1": 52,
         "organic_linker2": 54,
         "topology": "etb",
         "CO2/N2_selectivity": 19.28955582,
         "heat_adsorption_CO2_P0.15bar_T298K [kcal/mol]": 5.867149,
         "CO2_working_capacity [mL/g]": 54.93615457357025,
         "_deepnote_index_column": 15
        },
        {
         "MOFname": "mof_unit_17",
         "volume [A^3]": 7840.492345,
         "weight [u]": 4627.98816,
         "density [g/cm^3]": 0.9801628674642114,
         "surface_area [m^2/g]": 1664.62,
         "gsa": 2907.75783477996,
         "vsa": 2246.071195671117,
         "void_fraction": 0.2688499999999999,
         "void_volume [cm^3/g]": 0.2742999999999999,
         "functional_groups": "Cl-Pr",
         "metal_linker": 2,
         "organic_linker1": 38,
         "organic_linker2": 41,
         "topology": "fof",
         "CO2/N2_selectivity": 15.894512699999998,
         "heat_adsorption_CO2_P0.15bar_T298K [kcal/mol]": 5.390903,
         "CO2_working_capacity [mL/g]": 98.10944956383052,
         "_deepnote_index_column": 16
        },
        {
         "MOFname": "mof_unit_18",
         "volume [A^3]": 2252.940492,
         "weight [u]": 1583.399493,
         "density [g/cm^3]": 1.167051772313842,
         "surface_area [m^2/g]": 851.0399999999998,
         "gsa": 856.2292366315972,
         "vsa": 1063.5552779553698,
         "void_fraction": 0.15162,
         "void_volume [cm^3/g]": 0.1298999999999999,
         "functional_groups": "Me-F",
         "metal_linker": 2,
         "organic_linker1": 14,
         "organic_linker2": 14,
         "topology": "pcu",
         "CO2/N2_selectivity": 35.34220222,
         "heat_adsorption_CO2_P0.15bar_T298K [kcal/mol]": 7.488088999999999,
         "CO2_working_capacity [mL/g]": 324.0160452431515,
         "_deepnote_index_column": 17
        },
        {
         "MOFname": "mof_unit_19",
         "volume [A^3]": 2334.528642,
         "weight [u]": 937.8558,
         "density [g/cm^3]": 0.6670927236077149,
         "surface_area [m^2/g]": 2773.01,
         "gsa": 4457.30642746136,
         "vsa": 3547.88855421766,
         "void_fraction": 0.41436,
         "void_volume [cm^3/g]": 0.6210999999999999,
         "functional_groups": "SO3H-Pr",
         "metal_linker": 2,
         "organic_linker1": 8,
         "organic_linker2": 10,
         "topology": "pcu",
         "CO2/N2_selectivity": 11.94115719,
         "heat_adsorption_CO2_P0.15bar_T298K [kcal/mol]": 5.547678,
         "CO2_working_capacity [mL/g]": 60.05088633787799,
         "_deepnote_index_column": 18
        },
        {
         "MOFname": "mof_unit_21",
         "volume [A^3]": 1585.308617,
         "weight [u]": 866.6691800000001,
         "density [g/cm^3]": 0.907797273492774,
         "surface_area [m^2/g]": 1825.67,
         "gsa": 2508.949810712234,
         "vsa": 2321.756067378933,
         "void_fraction": 0.31685,
         "void_volume [cm^3/g]": 0.3489999999999999,
         "functional_groups": "H-Cl",
         "metal_linker": 3,
         "organic_linker1": 14,
         "organic_linker2": 17,
         "topology": "pcu",
         "CO2/N2_selectivity": 14.56002553,
         "heat_adsorption_CO2_P0.15bar_T298K [kcal/mol]": 5.713488,
         "CO2_working_capacity [mL/g]": 104.97861488065128,
         "_deepnote_index_column": 20
        },
        {
         "MOFname": "mof_unit_22",
         "volume [A^3]": 3409.7421659999995,
         "weight [u]": 1812.74148,
         "density [g/cm^3]": 0.8828027430386067,
         "surface_area [m^2/g]": 1922.93,
         "gsa": 2884.72348078169,
         "vsa": 2148.8032994897903,
         "void_fraction": 0.2671999999999999,
         "void_volume [cm^3/g]": 0.3027,
         "functional_groups": "COOH-OH",
         "metal_linker": 9,
         "organic_linker1": 7,
         "organic_linker2": 16,
         "topology": "sra",
         "CO2/N2_selectivity": 40.54284142,
         "heat_adsorption_CO2_P0.15bar_T298K [kcal/mol]": 6.425527,
         "CO2_working_capacity [mL/g]": 230.69959325150907,
         "_deepnote_index_column": 21
        },
        {
         "MOFname": "mof_unit_23",
         "volume [A^3]": 4366.170427,
         "weight [u]": 1937.4993600000005,
         "density [g/cm^3]": 0.7368688971367083,
         "surface_area [m^2/g]": 2148.78,
         "gsa": 5231.006350374244,
         "vsa": 1851.973258461688,
         "void_fraction": 0.2641699999999999,
         "void_volume [cm^3/g]": 0.3584999999999999,
         "functional_groups": "Et-OH",
         "metal_linker": 9,
         "organic_linker1": 18,
         "organic_linker2": 27,
         "topology": "sra",
         "CO2/N2_selectivity": 56.34296165,
         "heat_adsorption_CO2_P0.15bar_T298K [kcal/mol]": 6.857435000000001,
         "CO2_working_capacity [mL/g]": 252.38041691729305,
         "_deepnote_index_column": 22
        },
        {
         "MOFname": "mof_unit_24",
         "volume [A^3]": 1906.333143,
         "weight [u]": 1033.97772,
         "density [g/cm^3]": 0.9006617597104851,
         "surface_area [m^2/g]": 1523.05,
         "gsa": 1167.0522310961287,
         "vsa": 1098.137861550375,
         "void_fraction": 0.2350699999999998,
         "void_volume [cm^3/g]": 0.261,
         "functional_groups": "OH-Pr",
         "metal_linker": 2,
         "organic_linker1": 16,
         "organic_linker2": 18,
         "topology": "pcu",
         "CO2/N2_selectivity": 22.9136176,
         "heat_adsorption_CO2_P0.15bar_T298K [kcal/mol]": 6.870048,
         "CO2_working_capacity [mL/g]": 262.6415751431312,
         "_deepnote_index_column": 23
        },
        {
         "MOFname": "mof_unit_25",
         "volume [A^3]": 1803.619737,
         "weight [u]": 973.70752,
         "density [g/cm^3]": 0.8964640672818276,
         "surface_area [m^2/g]": 1957.26,
         "gsa": 4080.1515017450783,
         "vsa": 2413.0283683644484,
         "void_fraction": 0.27738,
         "void_volume [cm^3/g]": 0.3094,
         "functional_groups": "SO3H-COOH",
         "metal_linker": 2,
         "organic_linker1": 2,
         "organic_linker2": 10,
         "topology": "pcu",
         "CO2/N2_selectivity": 23.01799947,
         "heat_adsorption_CO2_P0.15bar_T298K [kcal/mol]": 6.021285,
         "CO2_working_capacity [mL/g]": 136.52804474104676,
         "_deepnote_index_column": 24
        },
        {
         "MOFname": "mof_unit_26",
         "volume [A^3]": 2777.131295,
         "weight [u]": 1480.42508,
         "density [g/cm^3]": 0.8851958374345423,
         "surface_area [m^2/g]": 1135.53,
         "gsa": 1777.8262685643383,
         "vsa": 1085.1316126222805,
         "void_fraction": 0.1655599999999999,
         "void_volume [cm^3/g]": 0.187,
         "functional_groups": "OEt-H",
         "metal_linker": 2,
         "organic_linker1": 12,
         "organic_linker2": 29,
         "topology": "pcu",
         "CO2/N2_selectivity": 26.1894427,
         "heat_adsorption_CO2_P0.15bar_T298K [kcal/mol]": 7.153111,
         "CO2_working_capacity [mL/g]": 346.0309838421578,
         "_deepnote_index_column": 25
        },
        {
         "MOFname": "mof_unit_27",
         "volume [A^3]": 1629.942174,
         "weight [u]": 1093.94384,
         "density [g/cm^3]": 1.1144797239129538,
         "surface_area [m^2/g]": 1139.7,
         "gsa": 1055.7064286651907,
         "vsa": 1400.2388893746,
         "void_fraction": 0.2069199999999999,
         "void_volume [cm^3/g]": 0.1857,
         "functional_groups": "SO3H-OEt",
         "metal_linker": 2,
         "organic_linker1": 13,
         "organic_linker2": 14,
         "topology": "pcu",
         "CO2/N2_selectivity": 22.47671204,
         "heat_adsorption_CO2_P0.15bar_T298K [kcal/mol]": 6.1497,
         "CO2_working_capacity [mL/g]": 100.479453563965,
         "_deepnote_index_column": 26
        },
        {
         "MOFname": "mof_unit_28",
         "volume [A^3]": 1208.371986,
         "weight [u]": 655.4740400000001,
         "density [g/cm^3]": 0.9007498311712764,
         "surface_area [m^2/g]": 2286.28,
         "gsa": 6199.771161910092,
         "vsa": 3253.1852503797268,
         "void_fraction": 0.26882,
         "void_volume [cm^3/g]": 0.2984,
         "functional_groups": "OMe",
         "metal_linker": 2,
         "organic_linker1": 5,
         "organic_linker2": 8,
         "topology": "pcu",
         "CO2/N2_selectivity": 14.97878372,
         "heat_adsorption_CO2_P0.15bar_T298K [kcal/mol]": 5.160807,
         "CO2_working_capacity [mL/g]": 75.63295693651922,
         "_deepnote_index_column": 27
        },
        {
         "MOFname": "mof_unit_29",
         "volume [A^3]": 8686.956791,
         "weight [u]": 4552.65248,
         "density [g/cm^3]": 0.8702543055090924,
         "surface_area [m^2/g]": 1765.83,
         "gsa": 6425.956143912494,
         "vsa": 3066.2508000516987,
         "void_fraction": 0.2883399999999999,
         "void_volume [cm^3/g]": 0.3312999999999999,
         "functional_groups": "Pr-NO2",
         "metal_linker": 1,
         "organic_linker1": 5,
         "organic_linker2": 17,
         "topology": "pcu",
         "CO2/N2_selectivity": 14.96061853,
         "heat_adsorption_CO2_P0.15bar_T298K [kcal/mol]": 5.359237,
         "CO2_working_capacity [mL/g]": 69.87261079284771,
         "_deepnote_index_column": 28
        },
        {
         "MOFname": "mof_unit_30",
         "volume [A^3]": 1824.319922,
         "weight [u]": 1059.29236,
         "density [g/cm^3]": 0.9641934587580522,
         "surface_area [m^2/g]": 2112.92,
         "gsa": 6586.7968179607915,
         "vsa": 3255.446940065355,
         "void_fraction": 0.31239,
         "void_volume [cm^3/g]": 0.324,
         "functional_groups": "Et-Br",
         "metal_linker": 2,
         "organic_linker1": 4,
         "organic_linker2": 7,
         "topology": "pcu",
         "CO2/N2_selectivity": 11.22829945,
         "heat_adsorption_CO2_P0.15bar_T298K [kcal/mol]": 5.341077,
         "CO2_working_capacity [mL/g]": 66.1344523626015,
         "_deepnote_index_column": 29
        },
        {
         "MOFname": "mof_unit_31",
         "volume [A^3]": 2270.674945,
         "weight [u]": 1520.58351,
         "density [g/cm^3]": 1.1119996489393595,
         "surface_area [m^2/g]": 1474,
         "gsa": 2646.9534048706114,
         "vsa": 2014.5336411333772,
         "void_fraction": 0.2485499999999999,
         "void_volume [cm^3/g]": 0.2235,
         "functional_groups": "OH-F",
         "metal_linker": 4,
         "organic_linker1": 4,
         "organic_linker2": 19,
         "topology": "acs",
         "CO2/N2_selectivity": 25.46720601,
         "heat_adsorption_CO2_P0.15bar_T298K [kcal/mol]": 6.200198,
         "CO2_working_capacity [mL/g]": 84.0399753748314,
         "_deepnote_index_column": 30
        },
        {
         "MOFname": "mof_unit_32",
         "volume [A^3]": 2648.735681,
         "weight [u]": 1800.495496,
         "density [g/cm^3]": 1.1287629839301583,
         "surface_area [m^2/g]": 1068.24,
         "gsa": 1237.7212022870267,
         "vsa": 1232.37941993325,
         "void_fraction": 0.22341,
         "void_volume [cm^3/g]": 0.1978999999999999,
         "functional_groups": "NO2-NH2",
         "metal_linker": 10,
         "organic_linker1": 44,
         "organic_linker2": 56,
         "topology": "etb",
         "CO2/N2_selectivity": 28.8402435,
         "heat_adsorption_CO2_P0.15bar_T298K [kcal/mol]": 5.997696,
         "CO2_working_capacity [mL/g]": 77.21637118526824,
         "_deepnote_index_column": 31
        },
        {
         "MOFname": "mof_unit_33",
         "volume [A^3]": 1811.246493,
         "weight [u]": 957.79592,
         "density [g/cm^3]": 0.8781015964108204,
         "surface_area [m^2/g]": 2277.35,
         "gsa": 3463.206777542766,
         "vsa": 2399.575229591588,
         "void_fraction": 0.2790699999999999,
         "void_volume [cm^3/g]": 0.3178,
         "functional_groups": "SO3H",
         "metal_linker": 2,
         "organic_linker1": 2,
         "organic_linker2": 10,
         "topology": "pcu",
         "CO2/N2_selectivity": 30.67616776,
         "heat_adsorption_CO2_P0.15bar_T298K [kcal/mol]": 5.951407,
         "CO2_working_capacity [mL/g]": 264.7743641437398,
         "_deepnote_index_column": 32
        },
        {
         "MOFname": "mof_unit_34",
         "volume [A^3]": 2300.488977,
         "weight [u]": 982.03564,
         "density [g/cm^3]": 0.7088534124480614,
         "surface_area [m^2/g]": 2909.69,
         "gsa": 3343.202109776199,
         "vsa": 1866.793736514134,
         "void_fraction": 0.33992,
         "void_volume [cm^3/g]": 0.4794999999999999,
         "functional_groups": "NHMe-Me",
         "metal_linker": 2,
         "organic_linker1": 2,
         "organic_linker2": 9,
         "topology": "pcu",
         "CO2/N2_selectivity": 16.2403506,
         "heat_adsorption_CO2_P0.15bar_T298K [kcal/mol]": 5.48463,
         "CO2_working_capacity [mL/g]": 62.92916102941136,
         "_deepnote_index_column": 33
        }
       ],
       "rows_bottom": [
        {
         "MOFname": "mof_unit_66496",
         "volume [A^3]": 8757.277240000001,
         "weight [u]": 4653.560544,
         "density [g/cm^3]": 0.8824002271434035,
         "surface_area [m^2/g]": 2515.72,
         "gsa": 8057.261873194337,
         "vsa": 3269.807737757841,
         "void_fraction": 0.4916599999999999,
         "void_volume [cm^3/g]": 0.5572,
         "functional_groups": "F-Br",
         "metal_linker": 1,
         "organic_linker1": 1,
         "organic_linker2": 11,
         "topology": "pcu",
         "CO2/N2_selectivity": 5.042533655,
         "heat_adsorption_CO2_P0.15bar_T298K [kcal/mol]": 3.89984,
         "CO2_working_capacity [mL/g]": 3.194891510663955,
         "_deepnote_index_column": 66495
        },
        {
         "MOFname": "mof_unit_66497",
         "volume [A^3]": 15098.490219,
         "weight [u]": 3412.7603200000003,
         "density [g/cm^3]": 0.3753371985923065,
         "surface_area [m^2/g]": 5018.37,
         "gsa": 39025.935043529906,
         "vsa": 3908.160993457511,
         "void_fraction": 0.66181,
         "void_volume [cm^3/g]": 1.7632,
         "functional_groups": "OEt",
         "metal_linker": 2,
         "organic_linker1": 4,
         "organic_linker2": 25,
         "topology": "nbo",
         "CO2/N2_selectivity": 3.745566693,
         "heat_adsorption_CO2_P0.15bar_T298K [kcal/mol]": 3.232914,
         "CO2_working_capacity [mL/g]": -3.904060361021108,
         "_deepnote_index_column": 66496
        },
        {
         "MOFname": "mof_unit_66498",
         "volume [A^3]": 3683.502821,
         "weight [u]": 3238.892512,
         "density [g/cm^3]": 1.460107629404875,
         "surface_area [m^2/g]": 117.7,
         "gsa": 781.2053226339328,
         "vsa": 1518.4683497898343,
         "void_fraction": 0.03773,
         "void_volume [cm^3/g]": 0.0258,
         "functional_groups": "NH2",
         "metal_linker": 10,
         "organic_linker1": 42,
         "organic_linker2": 42,
         "topology": "etb",
         "CO2/N2_selectivity": 33.29617873,
         "heat_adsorption_CO2_P0.15bar_T298K [kcal/mol]": 6.319732,
         "CO2_working_capacity [mL/g]": 21.393755548751564,
         "_deepnote_index_column": 66497
        },
        {
         "MOFname": "mof_unit_66499",
         "volume [A^3]": 32970.167637,
         "weight [u]": 5808.7681600000005,
         "density [g/cm^3]": 0.2925581691486988,
         "surface_area [m^2/g]": 3935.69,
         "gsa": 44463.918248786664,
         "vsa": 2878.1092968128805,
         "void_fraction": 0.81056,
         "void_volume [cm^3/g]": 2.7706,
         "functional_groups": "HCO-I",
         "metal_linker": 3,
         "organic_linker1": 20,
         "organic_linker2": 27,
         "topology": "nbo",
         "CO2/N2_selectivity": 2.925569292,
         "heat_adsorption_CO2_P0.15bar_T298K [kcal/mol]": 2.30272,
         "CO2_working_capacity [mL/g]": -5.848992249966168,
         "_deepnote_index_column": 66498
        },
        {
         "MOFname": "mof_unit_66500",
         "volume [A^3]": 14263.406192,
         "weight [u]": 3834.410918,
         "density [g/cm^3]": 0.4464005736124183,
         "surface_area [m^2/g]": 4169.34,
         "gsa": 32065.145308023362,
         "vsa": 3618.168461022892,
         "void_fraction": 0.6398599999999999,
         "void_volume [cm^3/g]": 1.4334,
         "functional_groups": "F-HCO",
         "metal_linker": 3,
         "organic_linker1": 11,
         "organic_linker2": 17,
         "topology": "nbo",
         "CO2/N2_selectivity": 4.496794246,
         "heat_adsorption_CO2_P0.15bar_T298K [kcal/mol]": 3.515851,
         "CO2_working_capacity [mL/g]": -3.610389182067343,
         "_deepnote_index_column": 66499
        },
        {
         "MOFname": "mof_unit_66501",
         "volume [A^3]": 3350.477992,
         "weight [u]": 1011.20508,
         "density [g/cm^3]": 0.5011662477868919,
         "surface_area [m^2/g]": 4311.15,
         "gsa": 22791.75653570097,
         "vsa": 3151.34739885657,
         "void_fraction": 0.5751199999999999,
         "void_volume [cm^3/g]": 1.1476,
         "functional_groups": "Cl",
         "metal_linker": 2,
         "organic_linker1": 2,
         "organic_linker2": 6,
         "topology": "pcu",
         "CO2/N2_selectivity": 4.24533991,
         "heat_adsorption_CO2_P0.15bar_T298K [kcal/mol]": 3.5980550000000004,
         "CO2_working_capacity [mL/g]": 1.151243845994115,
         "_deepnote_index_column": 66500
        },
        {
         "MOFname": "mof_unit_66502",
         "volume [A^3]": 3742.16069,
         "weight [u]": 1071.23338,
         "density [g/cm^3]": 0.4753472723869588,
         "surface_area [m^2/g]": 4655.17,
         "gsa": 34241.05657863711,
         "vsa": 3717.971916652051,
         "void_fraction": 0.6068899999999999,
         "void_volume [cm^3/g]": 1.2767,
         "functional_groups": "I",
         "metal_linker": 3,
         "organic_linker1": 3,
         "organic_linker2": 12,
         "topology": "pcu",
         "CO2/N2_selectivity": 4.089941704,
         "heat_adsorption_CO2_P0.15bar_T298K [kcal/mol]": 3.453383,
         "CO2_working_capacity [mL/g]": -4.101656989018667,
         "_deepnote_index_column": 66501
        },
        {
         "MOFname": "mof_unit_66503",
         "volume [A^3]": 12222.229745,
         "weight [u]": 5186.18744,
         "density [g/cm^3]": 0.7046072501738593,
         "surface_area [m^2/g]": 3056.64,
         "gsa": 19666.318047503213,
         "vsa": 3635.373051704992,
         "void_fraction": 0.53316,
         "void_volume [cm^3/g]": 0.7567,
         "functional_groups": "H-Br",
         "metal_linker": 1,
         "organic_linker1": 4,
         "organic_linker2": 23,
         "topology": "pcu",
         "CO2/N2_selectivity": 4.915684483,
         "heat_adsorption_CO2_P0.15bar_T298K [kcal/mol]": 3.725492,
         "CO2_working_capacity [mL/g]": 4.089111171368028,
         "_deepnote_index_column": 66502
        },
        {
         "MOFname": "mof_unit_66504",
         "volume [A^3]": 11965.928955,
         "weight [u]": 3864.78656,
         "density [g/cm^3]": 0.5363254870120864,
         "surface_area [m^2/g]": 4049.25,
         "gsa": 17786.229547995346,
         "vsa": 3854.524492760492,
         "void_fraction": 0.53154,
         "void_volume [cm^3/g]": 0.9911,
         "functional_groups": "NHMe",
         "metal_linker": 1,
         "organic_linker1": 22,
         "organic_linker2": 25,
         "topology": "pcu",
         "CO2/N2_selectivity": 5.225211372,
         "heat_adsorption_CO2_P0.15bar_T298K [kcal/mol]": 3.762463,
         "CO2_working_capacity [mL/g]": 4.498996240138236,
         "_deepnote_index_column": 66503
        },
        {
         "MOFname": "mof_unit_66505",
         "volume [A^3]": 3954.814105,
         "weight [u]": 996.91444,
         "density [g/cm^3]": 0.41858258321287134,
         "surface_area [m^2/g]": 4815.13,
         "gsa": 20635.298913824485,
         "vsa": 3921.883220420546,
         "void_fraction": 0.65642,
         "void_volume [cm^3/g]": 1.5682,
         "functional_groups": "Cl",
         "metal_linker": 1,
         "organic_linker1": 8,
         "organic_linker2": 10,
         "topology": "pcu",
         "CO2/N2_selectivity": 4.429411439,
         "heat_adsorption_CO2_P0.15bar_T298K [kcal/mol]": 3.113156,
         "CO2_working_capacity [mL/g]": -6.171386748277976,
         "_deepnote_index_column": 66504
        },
        {
         "MOFname": "mof_unit_66506",
         "volume [A^3]": 4572.083971,
         "weight [u]": 899.68004,
         "density [g/cm^3]": 0.3267557426979724,
         "surface_area [m^2/g]": 5634.98,
         "gsa": 69297.53215286948,
         "vsa": 3414.911230358333,
         "void_fraction": 0.68506,
         "void_volume [cm^3/g]": 2.0966,
         "functional_groups": "HCO",
         "metal_linker": 2,
         "organic_linker1": 6,
         "organic_linker2": 27,
         "topology": "pcu",
         "CO2/N2_selectivity": 3.704234441,
         "heat_adsorption_CO2_P0.15bar_T298K [kcal/mol]": 3.011439,
         "CO2_working_capacity [mL/g]": -4.297933004631947,
         "_deepnote_index_column": 66505
        },
        {
         "MOFname": "mof_unit_66507",
         "volume [A^3]": 1185.303201,
         "weight [u]": 950.93616,
         "density [g/cm^3]": 1.332205573893831,
         "surface_area [m^2/g]": 1292.34,
         "gsa": 4165.9258258197615,
         "vsa": 3062.6247332628814,
         "void_fraction": 0.2526199999999999,
         "void_volume [cm^3/g]": 0.1895999999999999,
         "functional_groups": "COOH-Br",
         "metal_linker": 2,
         "organic_linker1": 12,
         "organic_linker2": 19,
         "topology": "pcu",
         "CO2/N2_selectivity": 7.8510654729999985,
         "heat_adsorption_CO2_P0.15bar_T298K [kcal/mol]": 4.379991,
         "CO2_working_capacity [mL/g]": 7.483415152057922,
         "_deepnote_index_column": 66506
        },
        {
         "MOFname": "mof_unit_66508",
         "volume [A^3]": 14879.036708,
         "weight [u]": 3242.76936,
         "density [g/cm^3]": 0.36190167002943047,
         "surface_area [m^2/g]": 5176.33,
         "gsa": 34267.36695668237,
         "vsa": 4104.514233346299,
         "void_fraction": 0.6690599999999999,
         "void_volume [cm^3/g]": 1.8487,
         "functional_groups": "Pr",
         "metal_linker": 3,
         "organic_linker1": 1,
         "organic_linker2": 23,
         "topology": "nbo",
         "CO2/N2_selectivity": 3.761001968,
         "heat_adsorption_CO2_P0.15bar_T298K [kcal/mol]": 2.993403,
         "CO2_working_capacity [mL/g]": -2.1091830542396064,
         "_deepnote_index_column": 66507
        },
        {
         "MOFname": "mof_unit_66509",
         "volume [A^3]": 4124.627977,
         "weight [u]": 939.646366,
         "density [g/cm^3]": 0.37829360254994937,
         "surface_area [m^2/g]": 5691.94,
         "gsa": 34314.64457890609,
         "vsa": 4271.899716729224,
         "void_fraction": 0.6462999999999999,
         "void_volume [cm^3/g]": 1.7085,
         "functional_groups": "F-OH",
         "metal_linker": 2,
         "organic_linker1": 21,
         "organic_linker2": 28,
         "topology": "pcu",
         "CO2/N2_selectivity": 3.499299647,
         "heat_adsorption_CO2_P0.15bar_T298K [kcal/mol]": 2.765098,
         "CO2_working_capacity [mL/g]": -7.77328957040689,
         "_deepnote_index_column": 66508
        },
        {
         "MOFname": "mof_unit_66510",
         "volume [A^3]": 2877.936283,
         "weight [u]": 1696.658166,
         "density [g/cm^3]": 0.9789545264125085,
         "surface_area [m^2/g]": 2056.3,
         "gsa": 2747.7775610843405,
         "vsa": 3854.528177940457,
         "void_fraction": 0.47765,
         "void_volume [cm^3/g]": 0.4879,
         "functional_groups": "F-I",
         "metal_linker": 3,
         "organic_linker1": 8,
         "organic_linker2": 14,
         "topology": "pcu",
         "CO2/N2_selectivity": 7.379663654,
         "heat_adsorption_CO2_P0.15bar_T298K [kcal/mol]": 4.309148,
         "CO2_working_capacity [mL/g]": 5.968177517647236,
         "_deepnote_index_column": 66509
        },
        {
         "MOFname": "mof_unit_66511",
         "volume [A^3]": 22414.460966,
         "weight [u]": 3378.3175200000005,
         "density [g/cm^3]": 0.250277326908295,
         "surface_area [m^2/g]": 5881.23,
         "gsa": 67507.24004583458,
         "vsa": 3809.5555620926734,
         "void_fraction": 0.77778,
         "void_volume [cm^3/g]": 3.1077,
         "functional_groups": "HCO",
         "metal_linker": 3,
         "organic_linker1": 6,
         "organic_linker2": 11,
         "topology": "nbo",
         "CO2/N2_selectivity": 3.4079671460000003,
         "heat_adsorption_CO2_P0.15bar_T298K [kcal/mol]": 2.462803,
         "CO2_working_capacity [mL/g]": -8.438713135534844,
         "_deepnote_index_column": 66510
        },
        {
         "MOFname": "mof_unit_66512",
         "volume [A^3]": 14632.394634,
         "weight [u]": 2357.53424,
         "density [g/cm^3]": 0.2675419850824124,
         "surface_area [m^2/g]": 4886.25,
         "gsa": 83373.27861298485,
         "vsa": 3397.392462588293,
         "void_fraction": 0.7764999999999999,
         "void_volume [cm^3/g]": 2.9024,
         "functional_groups": "CN-Br",
         "metal_linker": 3,
         "organic_linker1": 28,
         "organic_linker2": 29,
         "topology": "pcu",
         "CO2/N2_selectivity": 4.188874682,
         "heat_adsorption_CO2_P0.15bar_T298K [kcal/mol]": 3.220736,
         "CO2_working_capacity [mL/g]": -6.624356796085244,
         "_deepnote_index_column": 66511
        },
        {
         "MOFname": "mof_unit_66513",
         "volume [A^3]": 29156.715463,
         "weight [u]": 4470.04024,
         "density [g/cm^3]": 0.25457876520930534,
         "surface_area [m^2/g]": 5720.93,
         "gsa": 93385.64563019415,
         "vsa": 3482.495852443285,
         "void_fraction": 0.7543499999999999,
         "void_volume [cm^3/g]": 2.9631,
         "functional_groups": "Pr-HCO",
         "metal_linker": 2,
         "organic_linker1": 17,
         "organic_linker2": 25,
         "topology": "nbo",
         "CO2/N2_selectivity": 3.664737979,
         "heat_adsorption_CO2_P0.15bar_T298K [kcal/mol]": 3.145731,
         "CO2_working_capacity [mL/g]": -6.830702481128641,
         "_deepnote_index_column": 66512
        },
        {
         "MOFname": "mof_unit_66514",
         "volume [A^3]": 19809.756802,
         "weight [u]": 4678.806477,
         "density [g/cm^3]": 0.3921979146424041,
         "surface_area [m^2/g]": 4469.41,
         "gsa": 32224.9595283871,
         "vsa": 4183.890570710064,
         "void_fraction": 0.67258,
         "void_volume [cm^3/g]": 1.7149,
         "functional_groups": "F-Cl",
         "metal_linker": 3,
         "organic_linker1": 2,
         "organic_linker2": 9,
         "topology": "nbo",
         "CO2/N2_selectivity": 5.529955161,
         "heat_adsorption_CO2_P0.15bar_T298K [kcal/mol]": 3.412269,
         "CO2_working_capacity [mL/g]": 0.9486949215555144,
         "_deepnote_index_column": 66513
        },
        {
         "MOFname": "mof_unit_66515",
         "volume [A^3]": 7458.847904000002,
         "weight [u]": 2383.865127,
         "density [g/cm^3]": 0.5307124436557727,
         "surface_area [m^2/g]": 3625.06,
         "gsa": 20073.610932745793,
         "vsa": 3637.5828185949313,
         "void_fraction": 0.5438199999999999,
         "void_volume [cm^3/g]": 1.0247,
         "functional_groups": "Et-F",
         "metal_linker": 3,
         "organic_linker1": 4,
         "organic_linker2": 23,
         "topology": "nbo",
         "CO2/N2_selectivity": 4.248572084,
         "heat_adsorption_CO2_P0.15bar_T298K [kcal/mol]": 3.79478,
         "CO2_working_capacity [mL/g]": 5.125461739929993,
         "_deepnote_index_column": 66514
        },
        {
         "MOFname": "mof_unit_66516",
         "volume [A^3]": 4427.983349,
         "weight [u]": 1960.71144,
         "density [g/cm^3]": 0.7352872669028638,
         "surface_area [m^2/g]": 2398.38,
         "gsa": 6054.755399544398,
         "vsa": 3308.102361762165,
         "void_fraction": 0.5829199999999999,
         "void_volume [cm^3/g]": 0.7928,
         "functional_groups": "NH2-I",
         "metal_linker": 3,
         "organic_linker1": 7,
         "organic_linker2": 17,
         "topology": "pcu",
         "CO2/N2_selectivity": 5.2664642310000005,
         "heat_adsorption_CO2_P0.15bar_T298K [kcal/mol]": 3.758129,
         "CO2_working_capacity [mL/g]": 6.346202812646742,
         "_deepnote_index_column": 66515
        },
        {
         "MOFname": "mof_unit_66517",
         "volume [A^3]": 117426.309902,
         "weight [u]": 10039.836314,
         "density [g/cm^3]": 0.14197456947053066,
         "surface_area [m^2/g]": 6351.84,
         "gsa": 152615.78473289649,
         "vsa": 3052.9623409218066,
         "void_fraction": 0.86555,
         "void_volume [cm^3/g]": 6.0965,
         "functional_groups": "F-H",
         "metal_linker": 3,
         "organic_linker1": 3,
         "organic_linker2": 27,
         "topology": "nbo",
         "CO2/N2_selectivity": 2.542452151,
         "heat_adsorption_CO2_P0.15bar_T298K [kcal/mol]": 2.778698,
         "CO2_working_capacity [mL/g]": -11.847048622807687,
         "_deepnote_index_column": 66516
        },
        {
         "MOFname": "mof_unit_66518",
         "volume [A^3]": 22053.573003,
         "weight [u]": 6292.857279999999,
         "density [g/cm^3]": 0.4738253173900538,
         "surface_area [m^2/g]": 3474.82,
         "gsa": 25831.446720300577,
         "vsa": 2002.172586405292,
         "void_fraction": 0.70533,
         "void_volume [cm^3/g]": 1.4886,
         "functional_groups": "Br",
         "metal_linker": 1,
         "organic_linker1": 7,
         "organic_linker2": 19,
         "topology": "pcu",
         "CO2/N2_selectivity": 4.593338943,
         "heat_adsorption_CO2_P0.15bar_T298K [kcal/mol]": 3.136394,
         "CO2_working_capacity [mL/g]": -4.4053978374025515,
         "_deepnote_index_column": 66517
        },
        {
         "MOFname": "mof_unit_66519",
         "volume [A^3]": 3763.103252,
         "weight [u]": 979.22892,
         "density [g/cm^3]": 0.4321031558070041,
         "surface_area [m^2/g]": 5154.42,
         "gsa": 24709.869812786455,
         "vsa": 4107.945124093263,
         "void_fraction": 0.60648,
         "void_volume [cm^3/g]": 1.4035,
         "functional_groups": "NO2",
         "metal_linker": 3,
         "organic_linker1": 6,
         "organic_linker2": 25,
         "topology": "pcu",
         "CO2/N2_selectivity": 4.894371444,
         "heat_adsorption_CO2_P0.15bar_T298K [kcal/mol]": 3.400658,
         "CO2_working_capacity [mL/g]": -4.211102740365669,
         "_deepnote_index_column": 66518
        },
        {
         "MOFname": "mof_unit_66520",
         "volume [A^3]": 1426.47981,
         "weight [u]": 1272.45154,
         "density [g/cm^3]": 1.4812384061934951,
         "surface_area [m^2/g]": 1343.62,
         "gsa": 1551.3377456724213,
         "vsa": 3462.232541549682,
         "void_fraction": 0.3019,
         "void_volume [cm^3/g]": 0.2038,
         "functional_groups": "Me-I",
         "metal_linker": 3,
         "organic_linker1": 12,
         "organic_linker2": 21,
         "topology": "pcu",
         "CO2/N2_selectivity": 5.867673803,
         "heat_adsorption_CO2_P0.15bar_T298K [kcal/mol]": 4.485481,
         "CO2_working_capacity [mL/g]": 7.602105190094867,
         "_deepnote_index_column": 66519
        },
        {
         "MOFname": "mof_unit_66521",
         "volume [A^3]": 23943.701366,
         "weight [u]": 5497.7523200000005,
         "density [g/cm^3]": 0.3812792975448773,
         "surface_area [m^2/g]": 4182.24,
         "gsa": 39515.23078773603,
         "vsa": 3860.16819057848,
         "void_fraction": 0.6633999999999999,
         "void_volume [cm^3/g]": 1.7399,
         "functional_groups": "HCO-Me",
         "metal_linker": 1,
         "organic_linker1": 9,
         "organic_linker2": 27,
         "topology": "pcu",
         "CO2/N2_selectivity": 4.0607719730000005,
         "heat_adsorption_CO2_P0.15bar_T298K [kcal/mol]": 3.605688,
         "CO2_working_capacity [mL/g]": 2.675230537450658,
         "_deepnote_index_column": 66520
        },
        {
         "MOFname": "mof_unit_66522",
         "volume [A^3]": 14389.971556,
         "weight [u]": 4396.16432,
         "density [g/cm^3]": 0.507298202190609,
         "surface_area [m^2/g]": 4149.64,
         "gsa": 23450.055014992202,
         "vsa": 4465.5901841727455,
         "void_fraction": 0.57051,
         "void_volume [cm^3/g]": 1.1246,
         "functional_groups": "OPr-Cl",
         "metal_linker": 1,
         "organic_linker1": 9,
         "organic_linker2": 20,
         "topology": "pcu",
         "CO2/N2_selectivity": 4.313411135,
         "heat_adsorption_CO2_P0.15bar_T298K [kcal/mol]": 3.3612330000000004,
         "CO2_working_capacity [mL/g]": -1.6860918616266212,
         "_deepnote_index_column": 66521
        },
        {
         "MOFname": "mof_unit_66523",
         "volume [A^3]": 16997.806645,
         "weight [u]": 3932.70368,
         "density [g/cm^3]": 0.3841914374704431,
         "surface_area [m^2/g]": 4326.62,
         "gsa": 37394.24658053061,
         "vsa": 3601.910168265283,
         "void_fraction": 0.66963,
         "void_volume [cm^3/g]": 1.743,
         "functional_groups": "CN",
         "metal_linker": 2,
         "organic_linker1": 2,
         "organic_linker2": 5,
         "topology": "nbo",
         "CO2/N2_selectivity": 3.447440153,
         "heat_adsorption_CO2_P0.15bar_T298K [kcal/mol]": 2.781566,
         "CO2_working_capacity [mL/g]": -7.546804546503256,
         "_deepnote_index_column": 66522
        },
        {
         "MOFname": "mof_unit_66524",
         "volume [A^3]": 7391.212512999999,
         "weight [u]": 2142.4686,
         "density [g/cm^3]": 0.4813357487403638,
         "surface_area [m^2/g]": 3835.28,
         "gsa": 14398.642666815382,
         "vsa": 3568.477716989785,
         "void_fraction": 0.5249099999999999,
         "void_volume [cm^3/g]": 1.0905,
         "functional_groups": "Et-Me",
         "metal_linker": 3,
         "organic_linker1": 22,
         "organic_linker2": 23,
         "topology": "nbo",
         "CO2/N2_selectivity": 4.943256913,
         "heat_adsorption_CO2_P0.15bar_T298K [kcal/mol]": 3.80415,
         "CO2_working_capacity [mL/g]": 4.5873121933367935,
         "_deepnote_index_column": 66523
        }
       ]
      },
      "text/plain": "              MOFname  volume [A^3]   weight [u]  density [g/cm^3]  \\\n1          mof_unit_2   2769.503842  2211.697211          1.326090   \n2          mof_unit_3   1089.818728   773.687960          1.178856   \n3          mof_unit_4   2205.198301  1304.638720          0.982408   \n5          mof_unit_6   3954.659761  1543.027680          0.647909   \n6          mof_unit_7   3565.914939  1954.749656          0.910268   \n...               ...           ...          ...               ...   \n66519  mof_unit_66520   1426.479810  1272.451540          1.481238   \n66520  mof_unit_66521  23943.701366  5497.752320          0.381279   \n66521  mof_unit_66522  14389.971556  4396.164320          0.507298   \n66522  mof_unit_66523  16997.806645  3932.703680          0.384191   \n66523  mof_unit_66524   7391.212513  2142.468600          0.481336   \n\n       surface_area [m^2/g]           gsa          vsa  void_fraction  \\\n1                    603.61    182.839127   477.993349        0.13794   \n2                    788.50   1704.599832  1614.212392        0.14874   \n3                   1441.53   3925.613160  1911.564582        0.21814   \n5                   2430.55   5144.207811  2316.211282        0.37094   \n6                   1530.02   2284.328754  1379.591815        0.33337   \n...                     ...           ...          ...            ...   \n66519               1343.62   1551.337746  3462.232542        0.30190   \n66520               4182.24  39515.230788  3860.168191        0.66340   \n66521               4149.64  23450.055015  4465.590184        0.57051   \n66522               4326.62  37394.246581  3601.910168        0.66963   \n66523               3835.28  14398.642667  3568.477717        0.52491   \n\n       void_volume [cm^3/g] functional_groups  metal_linker  organic_linker1  \\\n1                    0.1040             F-OMe            10               44   \n2                    0.1262          OMe-COOH             2               22   \n3                    0.2220            H-SO3H             9               17   \n5                    0.5725            Pr-NO2             9                7   \n6                    0.3662               NH2            10               53   \n...                     ...               ...           ...              ...   \n66519                0.2038              Me-I             3               12   \n66520                1.7399            HCO-Me             1                9   \n66521                1.1246            OPr-Cl             1                9   \n66522                1.7430                CN             2                2   \n66523                1.0905             Et-Me             3               22   \n\n       organic_linker2 topology  CO2/N2_selectivity  \\\n1                   57      etb           33.616780   \n2                   24      pcu           19.263726   \n3                   24      sra           25.701377   \n5                   23      sra           17.146541   \n6                   55      etb           18.363791   \n...                ...      ...                 ...   \n66519               21      pcu            5.867674   \n66520               27      pcu            4.060772   \n66521               20      pcu            4.313411   \n66522                5      nbo            3.447440   \n66523               23      nbo            4.943257   \n\n       heat_adsorption_CO2_P0.15bar_T298K [kcal/mol]  \\\n1                                           7.147286   \n2                                           6.347967   \n3                                           6.190085   \n5                                           5.398304   \n6                                           6.303857   \n...                                              ...   \n66519                                       4.485481   \n66520                                       3.605688   \n66521                                       3.361233   \n66522                                       2.781566   \n66523                                       3.804150   \n\n       CO2_working_capacity [mL/g]  \n1                       101.224774  \n2                       118.987011  \n3                       187.626004  \n5                        55.786959  \n6                       111.690462  \n...                            ...  \n66519                     7.602105  \n66520                     2.675231  \n66521                    -1.686092  \n66522                    -7.546805  \n66523                     4.587312  \n\n[53778 rows x 17 columns]",
      "text/html": "<div>\n<style scoped>\n    .dataframe tbody tr th:only-of-type {\n        vertical-align: middle;\n    }\n\n    .dataframe tbody tr th {\n        vertical-align: top;\n    }\n\n    .dataframe thead th {\n        text-align: right;\n    }\n</style>\n<table border=\"1\" class=\"dataframe\">\n  <thead>\n    <tr style=\"text-align: right;\">\n      <th></th>\n      <th>MOFname</th>\n      <th>volume [A^3]</th>\n      <th>weight [u]</th>\n      <th>density [g/cm^3]</th>\n      <th>surface_area [m^2/g]</th>\n      <th>gsa</th>\n      <th>vsa</th>\n      <th>void_fraction</th>\n      <th>void_volume [cm^3/g]</th>\n      <th>functional_groups</th>\n      <th>metal_linker</th>\n      <th>organic_linker1</th>\n      <th>organic_linker2</th>\n      <th>topology</th>\n      <th>CO2/N2_selectivity</th>\n      <th>heat_adsorption_CO2_P0.15bar_T298K [kcal/mol]</th>\n      <th>CO2_working_capacity [mL/g]</th>\n    </tr>\n  </thead>\n  <tbody>\n    <tr>\n      <th>1</th>\n      <td>mof_unit_2</td>\n      <td>2769.503842</td>\n      <td>2211.697211</td>\n      <td>1.326090</td>\n      <td>603.61</td>\n      <td>182.839127</td>\n      <td>477.993349</td>\n      <td>0.13794</td>\n      <td>0.1040</td>\n      <td>F-OMe</td>\n      <td>10</td>\n      <td>44</td>\n      <td>57</td>\n      <td>etb</td>\n      <td>33.616780</td>\n      <td>7.147286</td>\n      <td>101.224774</td>\n    </tr>\n    <tr>\n      <th>2</th>\n      <td>mof_unit_3</td>\n      <td>1089.818728</td>\n      <td>773.687960</td>\n      <td>1.178856</td>\n      <td>788.50</td>\n      <td>1704.599832</td>\n      <td>1614.212392</td>\n      <td>0.14874</td>\n      <td>0.1262</td>\n      <td>OMe-COOH</td>\n      <td>2</td>\n      <td>22</td>\n      <td>24</td>\n      <td>pcu</td>\n      <td>19.263726</td>\n      <td>6.347967</td>\n      <td>118.987011</td>\n    </tr>\n    <tr>\n      <th>3</th>\n      <td>mof_unit_4</td>\n      <td>2205.198301</td>\n      <td>1304.638720</td>\n      <td>0.982408</td>\n      <td>1441.53</td>\n      <td>3925.613160</td>\n      <td>1911.564582</td>\n      <td>0.21814</td>\n      <td>0.2220</td>\n      <td>H-SO3H</td>\n      <td>9</td>\n      <td>17</td>\n      <td>24</td>\n      <td>sra</td>\n      <td>25.701377</td>\n      <td>6.190085</td>\n      <td>187.626004</td>\n    </tr>\n    <tr>\n      <th>5</th>\n      <td>mof_unit_6</td>\n      <td>3954.659761</td>\n      <td>1543.027680</td>\n      <td>0.647909</td>\n      <td>2430.55</td>\n      <td>5144.207811</td>\n      <td>2316.211282</td>\n      <td>0.37094</td>\n      <td>0.5725</td>\n      <td>Pr-NO2</td>\n      <td>9</td>\n      <td>7</td>\n      <td>23</td>\n      <td>sra</td>\n      <td>17.146541</td>\n      <td>5.398304</td>\n      <td>55.786959</td>\n    </tr>\n    <tr>\n      <th>6</th>\n      <td>mof_unit_7</td>\n      <td>3565.914939</td>\n      <td>1954.749656</td>\n      <td>0.910268</td>\n      <td>1530.02</td>\n      <td>2284.328754</td>\n      <td>1379.591815</td>\n      <td>0.33337</td>\n      <td>0.3662</td>\n      <td>NH2</td>\n      <td>10</td>\n      <td>53</td>\n      <td>55</td>\n      <td>etb</td>\n      <td>18.363791</td>\n      <td>6.303857</td>\n      <td>111.690462</td>\n    </tr>\n    <tr>\n      <th>...</th>\n      <td>...</td>\n      <td>...</td>\n      <td>...</td>\n      <td>...</td>\n      <td>...</td>\n      <td>...</td>\n      <td>...</td>\n      <td>...</td>\n      <td>...</td>\n      <td>...</td>\n      <td>...</td>\n      <td>...</td>\n      <td>...</td>\n      <td>...</td>\n      <td>...</td>\n      <td>...</td>\n      <td>...</td>\n    </tr>\n    <tr>\n      <th>66519</th>\n      <td>mof_unit_66520</td>\n      <td>1426.479810</td>\n      <td>1272.451540</td>\n      <td>1.481238</td>\n      <td>1343.62</td>\n      <td>1551.337746</td>\n      <td>3462.232542</td>\n      <td>0.30190</td>\n      <td>0.2038</td>\n      <td>Me-I</td>\n      <td>3</td>\n      <td>12</td>\n      <td>21</td>\n      <td>pcu</td>\n      <td>5.867674</td>\n      <td>4.485481</td>\n      <td>7.602105</td>\n    </tr>\n    <tr>\n      <th>66520</th>\n      <td>mof_unit_66521</td>\n      <td>23943.701366</td>\n      <td>5497.752320</td>\n      <td>0.381279</td>\n      <td>4182.24</td>\n      <td>39515.230788</td>\n      <td>3860.168191</td>\n      <td>0.66340</td>\n      <td>1.7399</td>\n      <td>HCO-Me</td>\n      <td>1</td>\n      <td>9</td>\n      <td>27</td>\n      <td>pcu</td>\n      <td>4.060772</td>\n      <td>3.605688</td>\n      <td>2.675231</td>\n    </tr>\n    <tr>\n      <th>66521</th>\n      <td>mof_unit_66522</td>\n      <td>14389.971556</td>\n      <td>4396.164320</td>\n      <td>0.507298</td>\n      <td>4149.64</td>\n      <td>23450.055015</td>\n      <td>4465.590184</td>\n      <td>0.57051</td>\n      <td>1.1246</td>\n      <td>OPr-Cl</td>\n      <td>1</td>\n      <td>9</td>\n      <td>20</td>\n      <td>pcu</td>\n      <td>4.313411</td>\n      <td>3.361233</td>\n      <td>-1.686092</td>\n    </tr>\n    <tr>\n      <th>66522</th>\n      <td>mof_unit_66523</td>\n      <td>16997.806645</td>\n      <td>3932.703680</td>\n      <td>0.384191</td>\n      <td>4326.62</td>\n      <td>37394.246581</td>\n      <td>3601.910168</td>\n      <td>0.66963</td>\n      <td>1.7430</td>\n      <td>CN</td>\n      <td>2</td>\n      <td>2</td>\n      <td>5</td>\n      <td>nbo</td>\n      <td>3.447440</td>\n      <td>2.781566</td>\n      <td>-7.546805</td>\n    </tr>\n    <tr>\n      <th>66523</th>\n      <td>mof_unit_66524</td>\n      <td>7391.212513</td>\n      <td>2142.468600</td>\n      <td>0.481336</td>\n      <td>3835.28</td>\n      <td>14398.642667</td>\n      <td>3568.477717</td>\n      <td>0.52491</td>\n      <td>1.0905</td>\n      <td>Et-Me</td>\n      <td>3</td>\n      <td>22</td>\n      <td>23</td>\n      <td>nbo</td>\n      <td>4.943257</td>\n      <td>3.804150</td>\n      <td>4.587312</td>\n    </tr>\n  </tbody>\n</table>\n<p>53778 rows × 17 columns</p>\n</div>"
     },
     "metadata": {}
    }
   ]
  },
  {
   "cell_type": "code",
   "metadata": {
    "tags": [],
    "cell_id": "00029-facba1d8-2e4d-4dd5-8520-7228fc1f22c9",
    "deepnote_to_be_reexecuted": false,
    "source_hash": "8bd69402",
    "execution_start": 1633974732203,
    "execution_millis": 11,
    "deepnote_cell_type": "code"
   },
   "source": "sum(abs(train_wo_nan['surface_area [m^2/g]'] - train_wo_nan['gsa']))/train_wo_nan.shape[0]",
   "execution_count": null,
   "outputs": [
    {
     "output_type": "execute_result",
     "execution_count": 103,
     "data": {
      "text/plain": "4878.9313757314785"
     },
     "metadata": {}
    }
   ]
  },
  {
   "cell_type": "code",
   "metadata": {
    "tags": [],
    "cell_id": "00030-e28127ab-1917-4bc3-8055-c9f26127fc58",
    "deepnote_to_be_reexecuted": false,
    "source_hash": "200dfaa7",
    "execution_start": 1633974745575,
    "execution_millis": 40,
    "deepnote_cell_type": "code"
   },
   "source": "sum(abs(train_wo_nan['surface_area [m^2/g]'] - train_wo_nan['vsa']))/train_wo_nan.shape[0]",
   "execution_count": null,
   "outputs": [
    {
     "output_type": "execute_result",
     "execution_count": 104,
     "data": {
      "text/plain": "602.4422837738799"
     },
     "metadata": {}
    }
   ]
  },
  {
   "cell_type": "code",
   "metadata": {
    "tags": [],
    "cell_id": "00031-086b7916-bb50-4a2a-b3b3-675f3203f939",
    "deepnote_to_be_reexecuted": false,
    "source_hash": "759d9497",
    "execution_start": 1633974855673,
    "execution_millis": 57,
    "deepnote_cell_type": "code"
   },
   "source": "train_wo_nan[train_wo_nan['vsa'] == -1]",
   "execution_count": null,
   "outputs": [
    {
     "output_type": "execute_result",
     "execution_count": 106,
     "data": {
      "application/vnd.deepnote.dataframe.v2+json": {
       "row_count": 0,
       "column_count": 17,
       "columns": [
        {
         "name": "MOFname",
         "dtype": "object",
         "stats": {
          "unique_count": 0,
          "nan_count": 0,
          "categories": []
         }
        },
        {
         "name": "volume [A^3]",
         "dtype": "float64",
         "stats": {
          "unique_count": 0,
          "nan_count": 0,
          "min": null,
          "max": null,
          "histogram": [
           {
            "bin_start": 0,
            "bin_end": 0.1,
            "count": 0
           },
           {
            "bin_start": 0.1,
            "bin_end": 0.2,
            "count": 0
           },
           {
            "bin_start": 0.2,
            "bin_end": 0.30000000000000004,
            "count": 0
           },
           {
            "bin_start": 0.30000000000000004,
            "bin_end": 0.4,
            "count": 0
           },
           {
            "bin_start": 0.4,
            "bin_end": 0.5,
            "count": 0
           },
           {
            "bin_start": 0.5,
            "bin_end": 0.6000000000000001,
            "count": 0
           },
           {
            "bin_start": 0.6000000000000001,
            "bin_end": 0.7000000000000001,
            "count": 0
           },
           {
            "bin_start": 0.7000000000000001,
            "bin_end": 0.8,
            "count": 0
           },
           {
            "bin_start": 0.8,
            "bin_end": 0.9,
            "count": 0
           },
           {
            "bin_start": 0.9,
            "bin_end": 1,
            "count": 0
           }
          ]
         }
        },
        {
         "name": "weight [u]",
         "dtype": "float64",
         "stats": {
          "unique_count": 0,
          "nan_count": 0,
          "min": null,
          "max": null,
          "histogram": [
           {
            "bin_start": 0,
            "bin_end": 0.1,
            "count": 0
           },
           {
            "bin_start": 0.1,
            "bin_end": 0.2,
            "count": 0
           },
           {
            "bin_start": 0.2,
            "bin_end": 0.30000000000000004,
            "count": 0
           },
           {
            "bin_start": 0.30000000000000004,
            "bin_end": 0.4,
            "count": 0
           },
           {
            "bin_start": 0.4,
            "bin_end": 0.5,
            "count": 0
           },
           {
            "bin_start": 0.5,
            "bin_end": 0.6000000000000001,
            "count": 0
           },
           {
            "bin_start": 0.6000000000000001,
            "bin_end": 0.7000000000000001,
            "count": 0
           },
           {
            "bin_start": 0.7000000000000001,
            "bin_end": 0.8,
            "count": 0
           },
           {
            "bin_start": 0.8,
            "bin_end": 0.9,
            "count": 0
           },
           {
            "bin_start": 0.9,
            "bin_end": 1,
            "count": 0
           }
          ]
         }
        },
        {
         "name": "density [g/cm^3]",
         "dtype": "float64",
         "stats": {
          "unique_count": 0,
          "nan_count": 0,
          "min": null,
          "max": null,
          "histogram": [
           {
            "bin_start": 0,
            "bin_end": 0.1,
            "count": 0
           },
           {
            "bin_start": 0.1,
            "bin_end": 0.2,
            "count": 0
           },
           {
            "bin_start": 0.2,
            "bin_end": 0.30000000000000004,
            "count": 0
           },
           {
            "bin_start": 0.30000000000000004,
            "bin_end": 0.4,
            "count": 0
           },
           {
            "bin_start": 0.4,
            "bin_end": 0.5,
            "count": 0
           },
           {
            "bin_start": 0.5,
            "bin_end": 0.6000000000000001,
            "count": 0
           },
           {
            "bin_start": 0.6000000000000001,
            "bin_end": 0.7000000000000001,
            "count": 0
           },
           {
            "bin_start": 0.7000000000000001,
            "bin_end": 0.8,
            "count": 0
           },
           {
            "bin_start": 0.8,
            "bin_end": 0.9,
            "count": 0
           },
           {
            "bin_start": 0.9,
            "bin_end": 1,
            "count": 0
           }
          ]
         }
        },
        {
         "name": "surface_area [m^2/g]",
         "dtype": "float64",
         "stats": {
          "unique_count": 0,
          "nan_count": 0,
          "min": null,
          "max": null,
          "histogram": [
           {
            "bin_start": 0,
            "bin_end": 0.1,
            "count": 0
           },
           {
            "bin_start": 0.1,
            "bin_end": 0.2,
            "count": 0
           },
           {
            "bin_start": 0.2,
            "bin_end": 0.30000000000000004,
            "count": 0
           },
           {
            "bin_start": 0.30000000000000004,
            "bin_end": 0.4,
            "count": 0
           },
           {
            "bin_start": 0.4,
            "bin_end": 0.5,
            "count": 0
           },
           {
            "bin_start": 0.5,
            "bin_end": 0.6000000000000001,
            "count": 0
           },
           {
            "bin_start": 0.6000000000000001,
            "bin_end": 0.7000000000000001,
            "count": 0
           },
           {
            "bin_start": 0.7000000000000001,
            "bin_end": 0.8,
            "count": 0
           },
           {
            "bin_start": 0.8,
            "bin_end": 0.9,
            "count": 0
           },
           {
            "bin_start": 0.9,
            "bin_end": 1,
            "count": 0
           }
          ]
         }
        },
        {
         "name": "gsa",
         "dtype": "float64",
         "stats": {
          "unique_count": 0,
          "nan_count": 0,
          "min": null,
          "max": null,
          "histogram": [
           {
            "bin_start": 0,
            "bin_end": 0.1,
            "count": 0
           },
           {
            "bin_start": 0.1,
            "bin_end": 0.2,
            "count": 0
           },
           {
            "bin_start": 0.2,
            "bin_end": 0.30000000000000004,
            "count": 0
           },
           {
            "bin_start": 0.30000000000000004,
            "bin_end": 0.4,
            "count": 0
           },
           {
            "bin_start": 0.4,
            "bin_end": 0.5,
            "count": 0
           },
           {
            "bin_start": 0.5,
            "bin_end": 0.6000000000000001,
            "count": 0
           },
           {
            "bin_start": 0.6000000000000001,
            "bin_end": 0.7000000000000001,
            "count": 0
           },
           {
            "bin_start": 0.7000000000000001,
            "bin_end": 0.8,
            "count": 0
           },
           {
            "bin_start": 0.8,
            "bin_end": 0.9,
            "count": 0
           },
           {
            "bin_start": 0.9,
            "bin_end": 1,
            "count": 0
           }
          ]
         }
        },
        {
         "name": "vsa",
         "dtype": "float64",
         "stats": {
          "unique_count": 0,
          "nan_count": 0,
          "min": null,
          "max": null,
          "histogram": [
           {
            "bin_start": 0,
            "bin_end": 0.1,
            "count": 0
           },
           {
            "bin_start": 0.1,
            "bin_end": 0.2,
            "count": 0
           },
           {
            "bin_start": 0.2,
            "bin_end": 0.30000000000000004,
            "count": 0
           },
           {
            "bin_start": 0.30000000000000004,
            "bin_end": 0.4,
            "count": 0
           },
           {
            "bin_start": 0.4,
            "bin_end": 0.5,
            "count": 0
           },
           {
            "bin_start": 0.5,
            "bin_end": 0.6000000000000001,
            "count": 0
           },
           {
            "bin_start": 0.6000000000000001,
            "bin_end": 0.7000000000000001,
            "count": 0
           },
           {
            "bin_start": 0.7000000000000001,
            "bin_end": 0.8,
            "count": 0
           },
           {
            "bin_start": 0.8,
            "bin_end": 0.9,
            "count": 0
           },
           {
            "bin_start": 0.9,
            "bin_end": 1,
            "count": 0
           }
          ]
         }
        },
        {
         "name": "void_fraction",
         "dtype": "float64",
         "stats": {
          "unique_count": 0,
          "nan_count": 0,
          "min": null,
          "max": null,
          "histogram": [
           {
            "bin_start": 0,
            "bin_end": 0.1,
            "count": 0
           },
           {
            "bin_start": 0.1,
            "bin_end": 0.2,
            "count": 0
           },
           {
            "bin_start": 0.2,
            "bin_end": 0.30000000000000004,
            "count": 0
           },
           {
            "bin_start": 0.30000000000000004,
            "bin_end": 0.4,
            "count": 0
           },
           {
            "bin_start": 0.4,
            "bin_end": 0.5,
            "count": 0
           },
           {
            "bin_start": 0.5,
            "bin_end": 0.6000000000000001,
            "count": 0
           },
           {
            "bin_start": 0.6000000000000001,
            "bin_end": 0.7000000000000001,
            "count": 0
           },
           {
            "bin_start": 0.7000000000000001,
            "bin_end": 0.8,
            "count": 0
           },
           {
            "bin_start": 0.8,
            "bin_end": 0.9,
            "count": 0
           },
           {
            "bin_start": 0.9,
            "bin_end": 1,
            "count": 0
           }
          ]
         }
        },
        {
         "name": "void_volume [cm^3/g]",
         "dtype": "float64",
         "stats": {
          "unique_count": 0,
          "nan_count": 0,
          "min": null,
          "max": null,
          "histogram": [
           {
            "bin_start": 0,
            "bin_end": 0.1,
            "count": 0
           },
           {
            "bin_start": 0.1,
            "bin_end": 0.2,
            "count": 0
           },
           {
            "bin_start": 0.2,
            "bin_end": 0.30000000000000004,
            "count": 0
           },
           {
            "bin_start": 0.30000000000000004,
            "bin_end": 0.4,
            "count": 0
           },
           {
            "bin_start": 0.4,
            "bin_end": 0.5,
            "count": 0
           },
           {
            "bin_start": 0.5,
            "bin_end": 0.6000000000000001,
            "count": 0
           },
           {
            "bin_start": 0.6000000000000001,
            "bin_end": 0.7000000000000001,
            "count": 0
           },
           {
            "bin_start": 0.7000000000000001,
            "bin_end": 0.8,
            "count": 0
           },
           {
            "bin_start": 0.8,
            "bin_end": 0.9,
            "count": 0
           },
           {
            "bin_start": 0.9,
            "bin_end": 1,
            "count": 0
           }
          ]
         }
        },
        {
         "name": "functional_groups",
         "dtype": "object",
         "stats": {
          "unique_count": 0,
          "nan_count": 0,
          "categories": []
         }
        },
        {
         "name": "metal_linker",
         "dtype": "int64",
         "stats": {
          "unique_count": 0,
          "nan_count": 0,
          "min": null,
          "max": null,
          "histogram": [
           {
            "bin_start": 0,
            "bin_end": 0.1,
            "count": 0
           },
           {
            "bin_start": 0.1,
            "bin_end": 0.2,
            "count": 0
           },
           {
            "bin_start": 0.2,
            "bin_end": 0.30000000000000004,
            "count": 0
           },
           {
            "bin_start": 0.30000000000000004,
            "bin_end": 0.4,
            "count": 0
           },
           {
            "bin_start": 0.4,
            "bin_end": 0.5,
            "count": 0
           },
           {
            "bin_start": 0.5,
            "bin_end": 0.6000000000000001,
            "count": 0
           },
           {
            "bin_start": 0.6000000000000001,
            "bin_end": 0.7000000000000001,
            "count": 0
           },
           {
            "bin_start": 0.7000000000000001,
            "bin_end": 0.8,
            "count": 0
           },
           {
            "bin_start": 0.8,
            "bin_end": 0.9,
            "count": 0
           },
           {
            "bin_start": 0.9,
            "bin_end": 1,
            "count": 0
           }
          ]
         }
        },
        {
         "name": "organic_linker1",
         "dtype": "int64",
         "stats": {
          "unique_count": 0,
          "nan_count": 0,
          "min": null,
          "max": null,
          "histogram": [
           {
            "bin_start": 0,
            "bin_end": 0.1,
            "count": 0
           },
           {
            "bin_start": 0.1,
            "bin_end": 0.2,
            "count": 0
           },
           {
            "bin_start": 0.2,
            "bin_end": 0.30000000000000004,
            "count": 0
           },
           {
            "bin_start": 0.30000000000000004,
            "bin_end": 0.4,
            "count": 0
           },
           {
            "bin_start": 0.4,
            "bin_end": 0.5,
            "count": 0
           },
           {
            "bin_start": 0.5,
            "bin_end": 0.6000000000000001,
            "count": 0
           },
           {
            "bin_start": 0.6000000000000001,
            "bin_end": 0.7000000000000001,
            "count": 0
           },
           {
            "bin_start": 0.7000000000000001,
            "bin_end": 0.8,
            "count": 0
           },
           {
            "bin_start": 0.8,
            "bin_end": 0.9,
            "count": 0
           },
           {
            "bin_start": 0.9,
            "bin_end": 1,
            "count": 0
           }
          ]
         }
        },
        {
         "name": "organic_linker2",
         "dtype": "int64",
         "stats": {
          "unique_count": 0,
          "nan_count": 0,
          "min": null,
          "max": null,
          "histogram": [
           {
            "bin_start": 0,
            "bin_end": 0.1,
            "count": 0
           },
           {
            "bin_start": 0.1,
            "bin_end": 0.2,
            "count": 0
           },
           {
            "bin_start": 0.2,
            "bin_end": 0.30000000000000004,
            "count": 0
           },
           {
            "bin_start": 0.30000000000000004,
            "bin_end": 0.4,
            "count": 0
           },
           {
            "bin_start": 0.4,
            "bin_end": 0.5,
            "count": 0
           },
           {
            "bin_start": 0.5,
            "bin_end": 0.6000000000000001,
            "count": 0
           },
           {
            "bin_start": 0.6000000000000001,
            "bin_end": 0.7000000000000001,
            "count": 0
           },
           {
            "bin_start": 0.7000000000000001,
            "bin_end": 0.8,
            "count": 0
           },
           {
            "bin_start": 0.8,
            "bin_end": 0.9,
            "count": 0
           },
           {
            "bin_start": 0.9,
            "bin_end": 1,
            "count": 0
           }
          ]
         }
        },
        {
         "name": "topology",
         "dtype": "object",
         "stats": {
          "unique_count": 0,
          "nan_count": 0,
          "categories": []
         }
        },
        {
         "name": "CO2/N2_selectivity",
         "dtype": "float64",
         "stats": {
          "unique_count": 0,
          "nan_count": 0,
          "min": null,
          "max": null,
          "histogram": [
           {
            "bin_start": 0,
            "bin_end": 0.1,
            "count": 0
           },
           {
            "bin_start": 0.1,
            "bin_end": 0.2,
            "count": 0
           },
           {
            "bin_start": 0.2,
            "bin_end": 0.30000000000000004,
            "count": 0
           },
           {
            "bin_start": 0.30000000000000004,
            "bin_end": 0.4,
            "count": 0
           },
           {
            "bin_start": 0.4,
            "bin_end": 0.5,
            "count": 0
           },
           {
            "bin_start": 0.5,
            "bin_end": 0.6000000000000001,
            "count": 0
           },
           {
            "bin_start": 0.6000000000000001,
            "bin_end": 0.7000000000000001,
            "count": 0
           },
           {
            "bin_start": 0.7000000000000001,
            "bin_end": 0.8,
            "count": 0
           },
           {
            "bin_start": 0.8,
            "bin_end": 0.9,
            "count": 0
           },
           {
            "bin_start": 0.9,
            "bin_end": 1,
            "count": 0
           }
          ]
         }
        },
        {
         "name": "heat_adsorption_CO2_P0.15bar_T298K [kcal/mol]",
         "dtype": "float64",
         "stats": {
          "unique_count": 0,
          "nan_count": 0,
          "min": null,
          "max": null,
          "histogram": [
           {
            "bin_start": 0,
            "bin_end": 0.1,
            "count": 0
           },
           {
            "bin_start": 0.1,
            "bin_end": 0.2,
            "count": 0
           },
           {
            "bin_start": 0.2,
            "bin_end": 0.30000000000000004,
            "count": 0
           },
           {
            "bin_start": 0.30000000000000004,
            "bin_end": 0.4,
            "count": 0
           },
           {
            "bin_start": 0.4,
            "bin_end": 0.5,
            "count": 0
           },
           {
            "bin_start": 0.5,
            "bin_end": 0.6000000000000001,
            "count": 0
           },
           {
            "bin_start": 0.6000000000000001,
            "bin_end": 0.7000000000000001,
            "count": 0
           },
           {
            "bin_start": 0.7000000000000001,
            "bin_end": 0.8,
            "count": 0
           },
           {
            "bin_start": 0.8,
            "bin_end": 0.9,
            "count": 0
           },
           {
            "bin_start": 0.9,
            "bin_end": 1,
            "count": 0
           }
          ]
         }
        },
        {
         "name": "CO2_working_capacity [mL/g]",
         "dtype": "float64",
         "stats": {
          "unique_count": 0,
          "nan_count": 0,
          "min": null,
          "max": null,
          "histogram": [
           {
            "bin_start": 0,
            "bin_end": 0.1,
            "count": 0
           },
           {
            "bin_start": 0.1,
            "bin_end": 0.2,
            "count": 0
           },
           {
            "bin_start": 0.2,
            "bin_end": 0.30000000000000004,
            "count": 0
           },
           {
            "bin_start": 0.30000000000000004,
            "bin_end": 0.4,
            "count": 0
           },
           {
            "bin_start": 0.4,
            "bin_end": 0.5,
            "count": 0
           },
           {
            "bin_start": 0.5,
            "bin_end": 0.6000000000000001,
            "count": 0
           },
           {
            "bin_start": 0.6000000000000001,
            "bin_end": 0.7000000000000001,
            "count": 0
           },
           {
            "bin_start": 0.7000000000000001,
            "bin_end": 0.8,
            "count": 0
           },
           {
            "bin_start": 0.8,
            "bin_end": 0.9,
            "count": 0
           },
           {
            "bin_start": 0.9,
            "bin_end": 1,
            "count": 0
           }
          ]
         }
        },
        {
         "name": "_deepnote_index_column",
         "dtype": "int64"
        }
       ],
       "rows_top": [],
       "rows_bottom": null
      },
      "text/plain": "Empty DataFrame\nColumns: [MOFname, volume [A^3], weight [u], density [g/cm^3], surface_area [m^2/g], gsa, vsa, void_fraction, void_volume [cm^3/g], functional_groups, metal_linker, organic_linker1, organic_linker2, topology, CO2/N2_selectivity, heat_adsorption_CO2_P0.15bar_T298K [kcal/mol], CO2_working_capacity [mL/g]]\nIndex: []",
      "text/html": "<div>\n<style scoped>\n    .dataframe tbody tr th:only-of-type {\n        vertical-align: middle;\n    }\n\n    .dataframe tbody tr th {\n        vertical-align: top;\n    }\n\n    .dataframe thead th {\n        text-align: right;\n    }\n</style>\n<table border=\"1\" class=\"dataframe\">\n  <thead>\n    <tr style=\"text-align: right;\">\n      <th></th>\n      <th>MOFname</th>\n      <th>volume [A^3]</th>\n      <th>weight [u]</th>\n      <th>density [g/cm^3]</th>\n      <th>surface_area [m^2/g]</th>\n      <th>gsa</th>\n      <th>vsa</th>\n      <th>void_fraction</th>\n      <th>void_volume [cm^3/g]</th>\n      <th>functional_groups</th>\n      <th>metal_linker</th>\n      <th>organic_linker1</th>\n      <th>organic_linker2</th>\n      <th>topology</th>\n      <th>CO2/N2_selectivity</th>\n      <th>heat_adsorption_CO2_P0.15bar_T298K [kcal/mol]</th>\n      <th>CO2_working_capacity [mL/g]</th>\n    </tr>\n  </thead>\n  <tbody>\n  </tbody>\n</table>\n</div>"
     },
     "metadata": {}
    }
   ]
  },
  {
   "cell_type": "markdown",
   "source": "# Impute",
   "metadata": {
    "tags": [],
    "is_collapsed": false,
    "cell_id": "00032-ceac1f1f-0c68-44d1-bb6e-d6748492369a",
    "deepnote_cell_type": "text-cell-h1"
   }
  },
  {
   "cell_type": "code",
   "metadata": {
    "tags": [],
    "cell_id": "00032-8e5ee147-1332-44c5-97f2-9889faf58eda",
    "deepnote_to_be_reexecuted": false,
    "source_hash": "e40232ab",
    "execution_start": 1633975134273,
    "execution_millis": 4,
    "deepnote_cell_type": "code"
   },
   "source": "train['surface_area [m^2/g]'] = train['surface_area [m^2/g]'].fillna(train['vsa'])",
   "execution_count": null,
   "outputs": []
  },
  {
   "cell_type": "code",
   "metadata": {
    "tags": [],
    "cell_id": "00034-99e91654-aaac-44be-b3ab-cb4fca9d4715",
    "deepnote_to_be_reexecuted": false,
    "source_hash": "f8683763",
    "execution_start": 1633975148675,
    "execution_millis": 59,
    "deepnote_cell_type": "code"
   },
   "source": "train.isnull().sum()",
   "execution_count": null,
   "outputs": [
    {
     "output_type": "execute_result",
     "execution_count": 109,
     "data": {
      "text/plain": "MOFname                                             0\nvolume [A^3]                                        0\nweight [u]                                          0\ndensity [g/cm^3]                                    0\nsurface_area [m^2/g]                                0\ngsa                                                 0\nvsa                                                 0\nvoid_fraction                                    2930\nvoid_volume [cm^3/g]                             3130\nfunctional_groups                                 323\nmetal_linker                                        0\norganic_linker1                                     0\norganic_linker2                                     0\ntopology                                            0\nCO2/N2_selectivity                                  0\nheat_adsorption_CO2_P0.15bar_T298K [kcal/mol]    2089\nCO2_working_capacity [mL/g]                         0\ndtype: int64"
     },
     "metadata": {}
    }
   ]
  },
  {
   "cell_type": "code",
   "metadata": {
    "tags": [],
    "cell_id": "00035-d00fd89c-fad9-4fe1-9014-19732927607d",
    "deepnote_to_be_reexecuted": false,
    "source_hash": "8794c6e4",
    "execution_start": 1633975230184,
    "execution_millis": 983,
    "deepnote_cell_type": "code"
   },
   "source": "train.to_csv('trainSurfaceVsa.csv',index = False)",
   "execution_count": null,
   "outputs": []
  },
  {
   "cell_type": "markdown",
   "source": "<a style='text-decoration:none;line-height:16px;display:flex;color:#5B5B62;padding:10px;justify-content:end;' href='https://deepnote.com?utm_source=created-in-deepnote-cell&projectId=fa57721c-b209-430d-97e4-796ac27ee623' target=\"_blank\">\n<img alt='Created in deepnote.com' style='display:inline;max-height:16px;margin:0px;margin-right:7.5px;' src='data:image/svg+xml;base64,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' > </img>\nCreated in <span style='font-weight:600;margin-left:4px;'>Deepnote</span></a>",
   "metadata": {
    "tags": [],
    "created_in_deepnote_cell": true,
    "deepnote_cell_type": "markdown"
   }
  }
 ],
 "nbformat": 4,
 "nbformat_minor": 2,
 "metadata": {
  "orig_nbformat": 2,
  "deepnote": {
   "is_reactive": false
  },
  "deepnote_notebook_id": "d804baf0-29f2-47f4-8bf0-cc490ebf2242",
  "deepnote_execution_queue": []
 }
}