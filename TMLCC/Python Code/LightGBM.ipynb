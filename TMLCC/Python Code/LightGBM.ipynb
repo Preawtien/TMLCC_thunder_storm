{
 "cells": [
  {
   "cell_type": "code",
   "metadata": {
    "tags": [],
    "cell_id": "00000-268666a1-c310-476d-b311-0cf5e47daebc",
    "deepnote_to_be_reexecuted": false,
    "source_hash": "e2238c3e",
    "execution_start": 1634392450398,
    "execution_millis": 1872,
    "deepnote_cell_type": "code"
   },
   "source": "import pandas as pd\nimport numpy as np\nimport matplotlib.pyplot as plt\nimport math",
   "execution_count": null,
   "outputs": []
  },
  {
   "cell_type": "code",
   "metadata": {
    "tags": [],
    "cell_id": "00001-1899fb31-1417-48f2-859a-18b471bfed0e",
    "deepnote_to_be_reexecuted": false,
    "source_hash": "3a9bc0ab",
    "execution_start": 1634392459152,
    "execution_millis": 501,
    "deepnote_cell_type": "code"
   },
   "source": "from sklearn.model_selection import train_test_split\nfrom sklearn.preprocessing import StandardScaler",
   "execution_count": null,
   "outputs": []
  },
  {
   "cell_type": "code",
   "metadata": {
    "tags": [],
    "cell_id": "00002-ed6cfc71-f084-4639-89d3-d1ba1dba08c1",
    "deepnote_to_be_reexecuted": false,
    "source_hash": "8a8f6834",
    "execution_start": 1634393411738,
    "execution_millis": 2539,
    "deepnote_cell_type": "code"
   },
   "source": "train = pd.read_csv('train_final.csv')\n#pretest = pd.read_csv('pretest_impute_linear_with_smiles.csv')\npretest = pd.read_csv('test_28_final.csv')",
   "execution_count": null,
   "outputs": []
  },
  {
   "cell_type": "code",
   "metadata": {
    "tags": [],
    "cell_id": "00003-32490b9e-c811-4b37-a0e1-bfcb49872702",
    "deepnote_to_be_reexecuted": false,
    "source_hash": "fea28bdd",
    "execution_start": 1634393432790,
    "execution_millis": 36,
    "deepnote_cell_type": "code"
   },
   "source": "train.info()",
   "execution_count": null,
   "outputs": [
    {
     "name": "stdout",
     "text": "<class 'pandas.core.frame.DataFrame'>\nRangeIndex: 65138 entries, 0 to 65137\nData columns (total 52 columns):\n #   Column                                         Non-Null Count  Dtype  \n---  ------                                         --------------  -----  \n 0   MOFname                                        65138 non-null  object \n 1   volume [A^3]                                   65138 non-null  float64\n 2   weight [u]                                     65138 non-null  float64\n 3   density [g/cm^3]                               65138 non-null  float64\n 4   surface_area [m^2/g]                           65138 non-null  float64\n 5   gsa                                            65138 non-null  float64\n 6   vsa                                            65138 non-null  float64\n 7   smiles                                         65138 non-null  object \n 8   MolWt                                          65138 non-null  float64\n 9   MolLogP                                        65138 non-null  float64\n 10  NumValenceElectrons                            65138 non-null  int64  \n 11  HeavyAtomCount                                 65138 non-null  int64  \n 12  NOCount                                        65138 non-null  int64  \n 13  NumAliphaticRings                              65138 non-null  int64  \n 14  NumAromaticRings                               65138 non-null  int64  \n 15  NumHAcceptors                                  65138 non-null  int64  \n 16  NumHDonors                                     65138 non-null  int64  \n 17  NumHeteroatoms                                 65138 non-null  int64  \n 18  NumRotatableBonds                              65138 non-null  int64  \n 19  void_fraction                                  65138 non-null  float64\n 20  void_volume [cm^3/g]                           65138 non-null  float64\n 21  functional_groups                              65138 non-null  object \n 22  metal_linker                                   65138 non-null  int64  \n 23  organic_linker1                                65138 non-null  int64  \n 24  organic_linker2                                65138 non-null  int64  \n 25  topology                                       65138 non-null  object \n 26  CO2/N2_selectivity                             65138 non-null  float64\n 27  heat_adsorption_CO2_P0.15bar_T298K [kcal/mol]  65138 non-null  float64\n 28  CO2_working_capacity [mL/g]                    65138 non-null  float64\n 29  CID                                            65138 non-null  float64\n 30  MolecularFormula                               65138 non-null  object \n 31  MolecularWeight                                65138 non-null  float64\n 32  InChI                                          65138 non-null  object \n 33  InChIKey                                       65138 non-null  object \n 34  IUPACName                                      65138 non-null  object \n 35  XLogP                                          65138 non-null  float64\n 36  ExactMass                                      65138 non-null  float64\n 37  MonoisotopicMass                               65138 non-null  float64\n 38  TPSA                                           65138 non-null  float64\n 39  Complexity                                     65138 non-null  float64\n 40  Charge                                         65138 non-null  float64\n 41  HBondDonorCount                                65138 non-null  float64\n 42  HBondAcceptorCount                             65138 non-null  float64\n 43  RotatableBondCount                             65138 non-null  float64\n 44  IsotopeAtomCount                               65138 non-null  float64\n 45  AtomStereoCount                                65138 non-null  float64\n 46  DefinedAtomStereoCount                         65138 non-null  float64\n 47  UndefinedAtomStereoCount                       65138 non-null  float64\n 48  BondStereoCount                                65138 non-null  float64\n 49  DefinedBondStereoCount                         65138 non-null  float64\n 50  UndefinedBondStereoCount                       65138 non-null  float64\n 51  CovalentUnitCount                              65138 non-null  float64\ndtypes: float64(32), int64(12), object(8)\nmemory usage: 25.8+ MB\n",
     "output_type": "stream"
    }
   ]
  },
  {
   "cell_type": "code",
   "metadata": {
    "tags": [],
    "cell_id": "00004-17d7f008-7d9a-4cb6-a225-bcf2e7409670",
    "deepnote_to_be_reexecuted": false,
    "source_hash": "49c1af32",
    "execution_start": 1634393441208,
    "execution_millis": 3,
    "deepnote_cell_type": "code"
   },
   "source": "train_x = train.drop(columns=['gsa','vsa','CO2_working_capacity [mL/g]','functional_groups',\n'MOFname','smiles','MolecularFormula','CID','InChI','InChIKey','IUPACName'])\ntrain_y = train['CO2_working_capacity [mL/g]']",
   "execution_count": null,
   "outputs": []
  },
  {
   "cell_type": "code",
   "metadata": {
    "tags": [],
    "cell_id": "00004-233c0186-1b96-475a-9fa2-521e4d993f25",
    "deepnote_to_be_reexecuted": false,
    "source_hash": "695a6ea6",
    "execution_start": 1633201295174,
    "execution_millis": 0,
    "deepnote_cell_type": "code"
   },
   "source": "#train_x = train.drop(columns=['CO2_working_capacity [mL/g]','functional_groups','MOFname','smiles','MolWt','MolLogP','NumValenceElectrons','HeavyAtomCount','NOCount','NumAliphaticRings','NumAromaticRings','NumHAcceptors','NumHDonors','NumHeteroatoms','NumRotatableBonds'])\n#train_y = train['CO2_working_capacity [mL/g]']\n##train_x = train.drop(columns=['CO2_working_capacity [mL/g]','functional_groups','MOFname','smiles'])\n##train_y = train['CO2_working_capacity [mL/g]']",
   "execution_count": null,
   "outputs": []
  },
  {
   "cell_type": "code",
   "metadata": {
    "tags": [],
    "cell_id": "00006-7ece9b9f-bc3c-44d8-a850-2141b31160f6",
    "deepnote_to_be_reexecuted": false,
    "source_hash": "95fc1977",
    "execution_start": 1634393466588,
    "execution_millis": 28,
    "deepnote_cell_type": "code"
   },
   "source": "train_x = pd.get_dummies(train_x)\ntrain_x_column = train_x.columns",
   "execution_count": null,
   "outputs": []
  },
  {
   "cell_type": "code",
   "metadata": {
    "tags": [],
    "cell_id": "00007-1547fe94-4a36-42d5-bb13-d5a14751cd2b",
    "deepnote_to_be_reexecuted": false,
    "source_hash": "8ea8a7f2",
    "execution_start": 1634393481561,
    "execution_millis": 60,
    "deepnote_cell_type": "code"
   },
   "source": "sc = StandardScaler()\nX = sc.fit_transform(train_x) \ny = train_y",
   "execution_count": null,
   "outputs": []
  },
  {
   "cell_type": "code",
   "metadata": {
    "tags": [],
    "cell_id": "00005-c2c7337b-5bea-439f-a1e1-33eb5a4394a5",
    "deepnote_to_be_reexecuted": false,
    "source_hash": "cdc3ac8e",
    "execution_start": 1634229476460,
    "execution_millis": 92,
    "deepnote_cell_type": "code"
   },
   "source": "X, Xval, y, yval = train_test_split(train_x,train_y, test_size =0.2)\nsc = StandardScaler()\nX = sc.fit_transform(X) \nXval = sc.transform (Xval)",
   "execution_count": null,
   "outputs": []
  },
  {
   "cell_type": "code",
   "metadata": {
    "tags": [],
    "cell_id": "00007-dd916fcf-ab66-45aa-af3d-e53d0ed9b5dd",
    "deepnote_to_be_reexecuted": false,
    "source_hash": "4506e71d",
    "execution_start": 1634393488221,
    "execution_millis": 102,
    "deepnote_cell_type": "code"
   },
   "source": "pretest",
   "execution_count": null,
   "outputs": [
    {
     "output_type": "execute_result",
     "execution_count": 38,
     "data": {
      "application/vnd.deepnote.dataframe.v2+json": {
       "row_count": 17000,
       "column_count": 49,
       "columns": [
        {
         "name": "MOFname",
         "dtype": "object",
         "stats": {
          "unique_count": 17000,
          "nan_count": 0,
          "categories": [
           {
            "name": "mof_unit_68614",
            "count": 1
           },
           {
            "name": "mof_unit_68615",
            "count": 1
           },
           {
            "name": "16998 others",
            "count": 16998
           }
          ]
         }
        },
        {
         "name": "volume [A^3]",
         "dtype": "float64",
         "stats": {
          "unique_count": 16999,
          "nan_count": 0,
          "min": "608.3784820000001",
          "max": "78968.77943099999",
          "histogram": [
           {
            "bin_start": 608.3784820000001,
            "bin_end": 8444.4185769,
            "count": 15702
           },
           {
            "bin_start": 8444.4185769,
            "bin_end": 16280.458671799997,
            "count": 667
           },
           {
            "bin_start": 16280.458671799997,
            "bin_end": 24116.498766699995,
            "count": 342
           },
           {
            "bin_start": 24116.498766699995,
            "bin_end": 31952.538861599995,
            "count": 154
           },
           {
            "bin_start": 31952.538861599995,
            "bin_end": 39788.578956499994,
            "count": 76
           },
           {
            "bin_start": 39788.578956499994,
            "bin_end": 47624.61905139999,
            "count": 31
           },
           {
            "bin_start": 47624.61905139999,
            "bin_end": 55460.65914629999,
            "count": 10
           },
           {
            "bin_start": 55460.65914629999,
            "bin_end": 63296.69924119999,
            "count": 12
           },
           {
            "bin_start": 63296.69924119999,
            "bin_end": 71132.73933609998,
            "count": 3
           },
           {
            "bin_start": 71132.73933609998,
            "bin_end": 78968.77943099999,
            "count": 3
           }
          ]
         }
        },
        {
         "name": "weight [u]",
         "dtype": "float64",
         "stats": {
          "unique_count": 15576,
          "nan_count": 0,
          "min": "439.28122",
          "max": "21347.65344",
          "histogram": [
           {
            "bin_start": 439.28122,
            "bin_end": 2530.1184419999995,
            "count": 14362
           },
           {
            "bin_start": 2530.1184419999995,
            "bin_end": 4620.955663999999,
            "count": 1888
           },
           {
            "bin_start": 4620.955663999999,
            "bin_end": 6711.792885999998,
            "count": 536
           },
           {
            "bin_start": 6711.792885999998,
            "bin_end": 8802.630108,
            "count": 158
           },
           {
            "bin_start": 8802.630108,
            "bin_end": 10893.46733,
            "count": 32
           },
           {
            "bin_start": 10893.46733,
            "bin_end": 12984.304551999998,
            "count": 15
           },
           {
            "bin_start": 12984.304551999998,
            "bin_end": 15075.141773999998,
            "count": 5
           },
           {
            "bin_start": 15075.141773999998,
            "bin_end": 17165.978995999998,
            "count": 0
           },
           {
            "bin_start": 17165.978995999998,
            "bin_end": 19256.816217999996,
            "count": 2
           },
           {
            "bin_start": 19256.816217999996,
            "bin_end": 21347.65344,
            "count": 2
           }
          ]
         }
        },
        {
         "name": "density [g/cm^3]",
         "dtype": "float64",
         "stats": {
          "unique_count": 17000,
          "nan_count": 0,
          "min": "0.1413674963187567",
          "max": "2.6655773905942195",
          "histogram": [
           {
            "bin_start": 0.1413674963187567,
            "bin_end": 0.393788485746303,
            "count": 662
           },
           {
            "bin_start": 0.393788485746303,
            "bin_end": 0.6462094751738493,
            "count": 2306
           },
           {
            "bin_start": 0.6462094751738493,
            "bin_end": 0.8986304646013956,
            "count": 6164
           },
           {
            "bin_start": 0.8986304646013956,
            "bin_end": 1.151051454028942,
            "count": 5264
           },
           {
            "bin_start": 1.151051454028942,
            "bin_end": 1.4034724434564885,
            "count": 1902
           },
           {
            "bin_start": 1.4034724434564885,
            "bin_end": 1.6558934328840347,
            "count": 528
           },
           {
            "bin_start": 1.6558934328840347,
            "bin_end": 1.9083144223115809,
            "count": 127
           },
           {
            "bin_start": 1.9083144223115809,
            "bin_end": 2.160735411739127,
            "count": 33
           },
           {
            "bin_start": 2.160735411739127,
            "bin_end": 2.4131564011666735,
            "count": 12
           },
           {
            "bin_start": 2.4131564011666735,
            "bin_end": 2.6655773905942195,
            "count": 2
           }
          ]
         }
        },
        {
         "name": "surface_area [m^2/g]",
         "dtype": "float64",
         "stats": {
          "unique_count": 16635,
          "nan_count": 0,
          "min": "46.47",
          "max": "6955.78",
          "histogram": [
           {
            "bin_start": 46.47,
            "bin_end": 737.401,
            "count": 1598
           },
           {
            "bin_start": 737.401,
            "bin_end": 1428.3319999999999,
            "count": 3698
           },
           {
            "bin_start": 1428.3319999999999,
            "bin_end": 2119.2629999999995,
            "count": 4128
           },
           {
            "bin_start": 2119.2629999999995,
            "bin_end": 2810.1939999999995,
            "count": 3208
           },
           {
            "bin_start": 2810.1939999999995,
            "bin_end": 3501.1249999999995,
            "count": 2047
           },
           {
            "bin_start": 3501.1249999999995,
            "bin_end": 4192.056,
            "count": 1120
           },
           {
            "bin_start": 4192.056,
            "bin_end": 4882.987,
            "count": 609
           },
           {
            "bin_start": 4882.987,
            "bin_end": 5573.918,
            "count": 390
           },
           {
            "bin_start": 5573.918,
            "bin_end": 6264.848999999999,
            "count": 169
           },
           {
            "bin_start": 6264.848999999999,
            "bin_end": 6955.78,
            "count": 33
           }
          ]
         }
        },
        {
         "name": "smiles",
         "dtype": "object"
        },
        {
         "name": "MolWt",
         "dtype": "float64"
        },
        {
         "name": "MolLogP",
         "dtype": "float64"
        },
        {
         "name": "NumValenceElectrons",
         "dtype": "int64"
        },
        {
         "name": "HeavyAtomCount",
         "dtype": "int64"
        },
        {
         "name": "NOCount",
         "dtype": "int64"
        },
        {
         "name": "NumAliphaticRings",
         "dtype": "int64"
        },
        {
         "name": "NumAromaticRings",
         "dtype": "int64"
        },
        {
         "name": "NumHAcceptors",
         "dtype": "int64"
        },
        {
         "name": "NumHDonors",
         "dtype": "int64"
        },
        {
         "name": "NumHeteroatoms",
         "dtype": "int64"
        },
        {
         "name": "NumRotatableBonds",
         "dtype": "int64"
        },
        {
         "name": "void_fraction",
         "dtype": "float64"
        },
        {
         "name": "void_volume [cm^3/g]",
         "dtype": "float64"
        },
        {
         "name": "functional_groups",
         "dtype": "object"
        },
        {
         "name": "metal_linker",
         "dtype": "int64"
        },
        {
         "name": "organic_linker1",
         "dtype": "int64"
        },
        {
         "name": "organic_linker2",
         "dtype": "int64"
        },
        {
         "name": "topology",
         "dtype": "object"
        },
        {
         "name": "CO2/N2_selectivity",
         "dtype": "float64"
        },
        {
         "name": "heat_adsorption_CO2_P0.15bar_T298K [kcal/mol]",
         "dtype": "float64"
        },
        {
         "name": "CID",
         "dtype": "int64"
        },
        {
         "name": "MolecularFormula",
         "dtype": "object"
        },
        {
         "name": "MolecularWeight",
         "dtype": "float64"
        },
        {
         "name": "InChI",
         "dtype": "object"
        },
        {
         "name": "InChIKey",
         "dtype": "object"
        },
        {
         "name": "IUPACName",
         "dtype": "object"
        },
        {
         "name": "XLogP",
         "dtype": "float64"
        },
        {
         "name": "ExactMass",
         "dtype": "float64"
        },
        {
         "name": "MonoisotopicMass",
         "dtype": "float64"
        },
        {
         "name": "TPSA",
         "dtype": "float64"
        },
        {
         "name": "Complexity",
         "dtype": "int64"
        },
        {
         "name": "Charge",
         "dtype": "int64"
        },
        {
         "name": "HBondDonorCount",
         "dtype": "int64"
        },
        {
         "name": "HBondAcceptorCount",
         "dtype": "int64"
        },
        {
         "name": "RotatableBondCount",
         "dtype": "int64"
        },
        {
         "name": "IsotopeAtomCount",
         "dtype": "int64"
        },
        {
         "name": "AtomStereoCount",
         "dtype": "int64"
        },
        {
         "name": "DefinedAtomStereoCount",
         "dtype": "int64"
        },
        {
         "name": "UndefinedAtomStereoCount",
         "dtype": "int64"
        },
        {
         "name": "BondStereoCount",
         "dtype": "int64"
        },
        {
         "name": "DefinedBondStereoCount",
         "dtype": "int64"
        },
        {
         "name": "UndefinedBondStereoCount",
         "dtype": "int64"
        },
        {
         "name": "CovalentUnitCount",
         "dtype": "float64"
        },
        {
         "name": "_deepnote_index_column",
         "dtype": "int64"
        }
       ],
       "rows_top": [
        {
         "MOFname": "mof_unit_68614",
         "volume [A^3]": 1208.301332,
         "weight [u]": 797.70936,
         "density [g/cm^3]": 1.0962731444331468,
         "surface_area [m^2/g]": 586.54,
         "smiles": "CCO",
         "MolWt": 46.069,
         "MolLogP": -0.0014,
         "NumValenceElectrons": 20,
         "HeavyAtomCount": 3,
         "NOCount": 1,
         "NumAliphaticRings": 0,
         "NumAromaticRings": 0,
         "NumHAcceptors": 1,
         "NumHDonors": 1,
         "NumHeteroatoms": 1,
         "NumRotatableBonds": 0,
         "void_fraction": 0.11392,
         "void_volume [cm^3/g]": 0.1039,
         "functional_groups": "OEt",
         "metal_linker": 2,
         "organic_linker1": 5,
         "organic_linker2": 26,
         "topology": "pcu",
         "CO2/N2_selectivity": 36.63979083,
         "heat_adsorption_CO2_P0.15bar_T298K [kcal/mol]": 7.00564,
         "CID": 702,
         "MolecularFormula": "C2H6O",
         "MolecularWeight": 46.07,
         "InChI": "InChI=1S/C2H6O/c1-2-3/h3H,2H2,1H3",
         "InChIKey": "LFQSCWFLJHTTHZ-UHFFFAOYSA-N",
         "IUPACName": "ethanol",
         "XLogP": -0.1,
         "ExactMass": 46.041864811,
         "MonoisotopicMass": 46.041864811,
         "TPSA": 20.2,
         "Complexity": 2,
         "Charge": 0,
         "HBondDonorCount": 1,
         "HBondAcceptorCount": 1,
         "RotatableBondCount": 0,
         "IsotopeAtomCount": 0,
         "AtomStereoCount": 0,
         "DefinedAtomStereoCount": 0,
         "UndefinedAtomStereoCount": 0,
         "BondStereoCount": 0,
         "DefinedBondStereoCount": 0,
         "UndefinedBondStereoCount": 0,
         "CovalentUnitCount": 1,
         "_deepnote_index_column": 0
        },
        {
         "MOFname": "mof_unit_68615",
         "volume [A^3]": 4126.414623,
         "weight [u]": 3733.65779,
         "density [g/cm^3]": 1.5024879157924118,
         "surface_area [m^2/g]": 852.49,
         "smiles": "I",
         "MolWt": 127.912,
         "MolLogP": 0.6180000000000001,
         "NumValenceElectrons": 8,
         "HeavyAtomCount": 1,
         "NOCount": 0,
         "NumAliphaticRings": 0,
         "NumAromaticRings": 0,
         "NumHAcceptors": 0,
         "NumHDonors": 0,
         "NumHeteroatoms": 1,
         "NumRotatableBonds": 0,
         "void_fraction": 0.2136699999999999,
         "void_volume [cm^3/g]": 0.1422,
         "functional_groups": "H-I",
         "metal_linker": 4,
         "organic_linker1": 6,
         "organic_linker2": 17,
         "topology": "acs",
         "CO2/N2_selectivity": 18.39069095,
         "heat_adsorption_CO2_P0.15bar_T298K [kcal/mol]": 5.119399,
         "CID": 24841,
         "MolecularFormula": "HI",
         "MolecularWeight": 127.9124,
         "InChI": "InChI=1S/HI/h1H",
         "InChIKey": "XMBWDFGMSWQBCA-UHFFFAOYSA-N",
         "IUPACName": "iodane",
         "XLogP": 0.9,
         "ExactMass": 127.9123,
         "MonoisotopicMass": 127.9123,
         "TPSA": 0,
         "Complexity": 0,
         "Charge": 0,
         "HBondDonorCount": 1,
         "HBondAcceptorCount": 0,
         "RotatableBondCount": 0,
         "IsotopeAtomCount": 0,
         "AtomStereoCount": 0,
         "DefinedAtomStereoCount": 0,
         "UndefinedAtomStereoCount": 0,
         "BondStereoCount": 0,
         "DefinedBondStereoCount": 0,
         "UndefinedBondStereoCount": 0,
         "CovalentUnitCount": 1,
         "_deepnote_index_column": 1
        },
        {
         "MOFname": "mof_unit_68616",
         "volume [A^3]": 1602.148373,
         "weight [u]": 747.21048,
         "density [g/cm^3]": 0.7744431860177033,
         "surface_area [m^2/g]": 3155.73,
         "smiles": "C(#N)O",
         "MolWt": 43.025000000000006,
         "MolLogP": -0.16002,
         "NumValenceElectrons": 16,
         "HeavyAtomCount": 3,
         "NOCount": 2,
         "NumAliphaticRings": 0,
         "NumAromaticRings": 0,
         "NumHAcceptors": 2,
         "NumHDonors": 1,
         "NumHeteroatoms": 2,
         "NumRotatableBonds": 0,
         "void_fraction": 0.33883,
         "void_volume [cm^3/g]": 0.4375,
         "functional_groups": "CN-OH",
         "metal_linker": 3,
         "organic_linker1": 11,
         "organic_linker2": 17,
         "topology": "pcu",
         "CO2/N2_selectivity": 13.06285017,
         "heat_adsorption_CO2_P0.15bar_T298K [kcal/mol]": 5.0454,
         "CID": 540,
         "MolecularFormula": "CHNO",
         "MolecularWeight": 43.025,
         "InChI": "InChI=1S/CHNO/c2-1-3/h3H",
         "InChIKey": "XLJMAIOERFSOGZ-UHFFFAOYSA-N",
         "IUPACName": "cyanic acid",
         "XLogP": 0.1,
         "ExactMass": 43.005813655,
         "MonoisotopicMass": 43.005813655,
         "TPSA": 44,
         "Complexity": 31,
         "Charge": 0,
         "HBondDonorCount": 1,
         "HBondAcceptorCount": 2,
         "RotatableBondCount": 0,
         "IsotopeAtomCount": 0,
         "AtomStereoCount": 0,
         "DefinedAtomStereoCount": 0,
         "UndefinedAtomStereoCount": 0,
         "BondStereoCount": 0,
         "DefinedBondStereoCount": 0,
         "UndefinedBondStereoCount": 0,
         "CovalentUnitCount": 1,
         "_deepnote_index_column": 2
        },
        {
         "MOFname": "mof_unit_68617",
         "volume [A^3]": 2436.629312,
         "weight [u]": 995.80232,
         "density [g/cm^3]": 0.6786299320578805,
         "surface_area [m^2/g]": 3521.09,
         "smiles": "CO",
         "MolWt": 32.042,
         "MolLogP": -0.3915,
         "NumValenceElectrons": 14,
         "HeavyAtomCount": 2,
         "NOCount": 1,
         "NumAliphaticRings": 0,
         "NumAromaticRings": 0,
         "NumHAcceptors": 1,
         "NumHDonors": 1,
         "NumHeteroatoms": 1,
         "NumRotatableBonds": 0,
         "void_fraction": 0.40464,
         "void_volume [cm^3/g]": 0.5963,
         "functional_groups": "OMe",
         "metal_linker": 2,
         "organic_linker1": 1,
         "organic_linker2": 28,
         "topology": "pcu",
         "CO2/N2_selectivity": 9.601197536,
         "heat_adsorption_CO2_P0.15bar_T298K [kcal/mol]": 5.106237999999999,
         "CID": 887,
         "MolecularFormula": "CH4O",
         "MolecularWeight": 32.042,
         "InChI": "InChI=1S/CH4O/c1-2/h2H,1H3",
         "InChIKey": "OKKJLVBELUTLKV-UHFFFAOYSA-N",
         "IUPACName": "methanol",
         "XLogP": -0.5,
         "ExactMass": 32.026214747,
         "MonoisotopicMass": 32.026214747,
         "TPSA": 20.2,
         "Complexity": 2,
         "Charge": 0,
         "HBondDonorCount": 1,
         "HBondAcceptorCount": 1,
         "RotatableBondCount": 0,
         "IsotopeAtomCount": 0,
         "AtomStereoCount": 0,
         "DefinedAtomStereoCount": 0,
         "UndefinedAtomStereoCount": 0,
         "BondStereoCount": 0,
         "DefinedBondStereoCount": 0,
         "UndefinedBondStereoCount": 0,
         "CovalentUnitCount": 1,
         "_deepnote_index_column": 3
        },
        {
         "MOFname": "mof_unit_68618",
         "volume [A^3]": 3123.418006,
         "weight [u]": 1337.538,
         "density [g/cm^3]": 0.7110912936576059,
         "surface_area [m^2/g]": 2678.46,
         "smiles": "[N+](=O)([O-])CCC",
         "MolWt": 89.09400000000001,
         "MolLogP": 0.6730999999999999,
         "NumValenceElectrons": 36,
         "HeavyAtomCount": 6,
         "NOCount": 3,
         "NumAliphaticRings": 0,
         "NumAromaticRings": 0,
         "NumHAcceptors": 2,
         "NumHDonors": 0,
         "NumHeteroatoms": 3,
         "NumRotatableBonds": 2,
         "void_fraction": 0.38959,
         "void_volume [cm^3/g]": 0.5479,
         "functional_groups": "NO2-Pr",
         "metal_linker": 3,
         "organic_linker1": 8,
         "organic_linker2": 19,
         "topology": "pcu",
         "CO2/N2_selectivity": 12.97495429,
         "heat_adsorption_CO2_P0.15bar_T298K [kcal/mol]": 5.287639,
         "CID": 7903,
         "MolecularFormula": "C3H7NO2",
         "MolecularWeight": 89.09,
         "InChI": "InChI=1S/C3H7NO2/c1-2-3-4(5)6/h2-3H2,1H3",
         "InChIKey": "JSZOAYXJRCEYSX-UHFFFAOYSA-N",
         "IUPACName": "1-nitropropane",
         "XLogP": 0.9,
         "ExactMass": 89.047678466,
         "MonoisotopicMass": 89.047678466,
         "TPSA": 45.8,
         "Complexity": 47,
         "Charge": 0,
         "HBondDonorCount": 0,
         "HBondAcceptorCount": 2,
         "RotatableBondCount": 1,
         "IsotopeAtomCount": 0,
         "AtomStereoCount": 0,
         "DefinedAtomStereoCount": 0,
         "UndefinedAtomStereoCount": 0,
         "BondStereoCount": 0,
         "DefinedBondStereoCount": 0,
         "UndefinedBondStereoCount": 0,
         "CovalentUnitCount": 1,
         "_deepnote_index_column": 4
        },
        {
         "MOFname": "mof_unit_68619",
         "volume [A^3]": 897.5894810000001,
         "weight [u]": 489.0192,
         "density [g/cm^3]": 0.9046852258822314,
         "surface_area [m^2/g]": 2185.94,
         "smiles": "[H]",
         "MolWt": 1.008,
         "MolLogP": 0.1125,
         "NumValenceElectrons": 1,
         "HeavyAtomCount": 0,
         "NOCount": 0,
         "NumAliphaticRings": 0,
         "NumAromaticRings": 0,
         "NumHAcceptors": 0,
         "NumHDonors": 0,
         "NumHeteroatoms": 0,
         "NumRotatableBonds": 0,
         "void_fraction": 0.32569,
         "void_volume [cm^3/g]": 0.36,
         "functional_groups": "H",
         "metal_linker": 3,
         "organic_linker1": 1,
         "organic_linker2": 10,
         "topology": "pcu",
         "CO2/N2_selectivity": 12.90693335,
         "heat_adsorption_CO2_P0.15bar_T298K [kcal/mol]": 5.080938,
         "CID": 5362549,
         "MolecularFormula": "H",
         "MolecularWeight": 1.008,
         "InChI": "InChI=1S/H",
         "InChIKey": "YZCKVEUIGOORGS-UHFFFAOYSA-N",
         "IUPACName": "hydrogen",
         "XLogP": 0,
         "ExactMass": 1.0078250319,
         "MonoisotopicMass": 1.0078250319,
         "TPSA": 0,
         "Complexity": 0,
         "Charge": 0,
         "HBondDonorCount": 0,
         "HBondAcceptorCount": 0,
         "RotatableBondCount": 0,
         "IsotopeAtomCount": 0,
         "AtomStereoCount": 0,
         "DefinedAtomStereoCount": 0,
         "UndefinedAtomStereoCount": 0,
         "BondStereoCount": 0,
         "DefinedBondStereoCount": 0,
         "UndefinedBondStereoCount": 0,
         "CovalentUnitCount": 1,
         "_deepnote_index_column": 5
        },
        {
         "MOFname": "mof_unit_68620",
         "volume [A^3]": 2014.815495,
         "weight [u]": 1167.981056,
         "density [g/cm^3]": 0.962608867930232,
         "surface_area [m^2/g]": 1290.89,
         "smiles": "COF",
         "MolWt": 50.032,
         "MolLogP": 0.5173000000000001,
         "NumValenceElectrons": 20,
         "HeavyAtomCount": 3,
         "NOCount": 1,
         "NumAliphaticRings": 0,
         "NumAromaticRings": 0,
         "NumHAcceptors": 1,
         "NumHDonors": 0,
         "NumHeteroatoms": 2,
         "NumRotatableBonds": 0,
         "void_fraction": 0.19322,
         "void_volume [cm^3/g]": 0.2007,
         "functional_groups": "OMe-F",
         "metal_linker": 2,
         "organic_linker1": 18,
         "organic_linker2": 22,
         "topology": "pcu",
         "CO2/N2_selectivity": 20.10836842,
         "heat_adsorption_CO2_P0.15bar_T298K [kcal/mol]": 6.149144000000001,
         "CID": 142072,
         "MolecularFormula": "CH3FO",
         "MolecularWeight": 50.032,
         "InChI": "InChI=1S/CH3FO/c1-3-2/h1H3",
         "InChIKey": "XMSZANIMCDLNKA-UHFFFAOYSA-N",
         "IUPACName": "methyl hypofluorite",
         "XLogP": 0.6,
         "ExactMass": 50.016792877,
         "MonoisotopicMass": 50.016792877,
         "TPSA": 9.2,
         "Complexity": 4,
         "Charge": 0,
         "HBondDonorCount": 0,
         "HBondAcceptorCount": 2,
         "RotatableBondCount": 0,
         "IsotopeAtomCount": 0,
         "AtomStereoCount": 0,
         "DefinedAtomStereoCount": 0,
         "UndefinedAtomStereoCount": 0,
         "BondStereoCount": 0,
         "DefinedBondStereoCount": 0,
         "UndefinedBondStereoCount": 0,
         "CovalentUnitCount": 1,
         "_deepnote_index_column": 6
        },
        {
         "MOFname": "mof_unit_68621",
         "volume [A^3]": 2789.9469,
         "weight [u]": 1332.49496,
         "density [g/cm^3]": 0.7930836177844102,
         "surface_area [m^2/g]": 2923.4,
         "smiles": "OC",
         "MolWt": 32.042,
         "MolLogP": -0.3914999999999999,
         "NumValenceElectrons": 14,
         "HeavyAtomCount": 2,
         "NOCount": 1,
         "NumAliphaticRings": 0,
         "NumAromaticRings": 0,
         "NumHAcceptors": 1,
         "NumHDonors": 1,
         "NumHeteroatoms": 1,
         "NumRotatableBonds": 0,
         "void_fraction": 0.31513,
         "void_volume [cm^3/g]": 0.3974,
         "functional_groups": "OH-Me",
         "metal_linker": 9,
         "organic_linker1": 16,
         "organic_linker2": 20,
         "topology": "sra",
         "CO2/N2_selectivity": 35.9398719,
         "heat_adsorption_CO2_P0.15bar_T298K [kcal/mol]": 6.073856,
         "CID": 887,
         "MolecularFormula": "CH4O",
         "MolecularWeight": 32.042,
         "InChI": "InChI=1S/CH4O/c1-2/h2H,1H3",
         "InChIKey": "OKKJLVBELUTLKV-UHFFFAOYSA-N",
         "IUPACName": "methanol",
         "XLogP": -0.5,
         "ExactMass": 32.026214747,
         "MonoisotopicMass": 32.026214747,
         "TPSA": 20.2,
         "Complexity": 2,
         "Charge": 0,
         "HBondDonorCount": 1,
         "HBondAcceptorCount": 1,
         "RotatableBondCount": 0,
         "IsotopeAtomCount": 0,
         "AtomStereoCount": 0,
         "DefinedAtomStereoCount": 0,
         "UndefinedAtomStereoCount": 0,
         "BondStereoCount": 0,
         "DefinedBondStereoCount": 0,
         "UndefinedBondStereoCount": 0,
         "CovalentUnitCount": 1,
         "_deepnote_index_column": 7
        },
        {
         "MOFname": "mof_unit_68622",
         "volume [A^3]": 3408.040043,
         "weight [u]": 1408.36396,
         "density [g/cm^3]": 0.6862139706785129,
         "surface_area [m^2/g]": 2746.62,
         "smiles": "CCCO",
         "MolWt": 60.096,
         "MolLogP": 0.3887,
         "NumValenceElectrons": 26,
         "HeavyAtomCount": 4,
         "NOCount": 1,
         "NumAliphaticRings": 0,
         "NumAromaticRings": 0,
         "NumHAcceptors": 1,
         "NumHDonors": 1,
         "NumHeteroatoms": 1,
         "NumRotatableBonds": 1,
         "void_fraction": 0.31454,
         "void_volume [cm^3/g]": 0.4584,
         "functional_groups": "OPr-H",
         "metal_linker": 2,
         "organic_linker1": 19,
         "organic_linker2": 29,
         "topology": "pcu",
         "CO2/N2_selectivity": 13.06927271,
         "heat_adsorption_CO2_P0.15bar_T298K [kcal/mol]": 5.112328,
         "CID": 1031,
         "MolecularFormula": "C3H8O",
         "MolecularWeight": 60.1,
         "InChI": "InChI=1S/C3H8O/c1-2-3-4/h4H,2-3H2,1H3",
         "InChIKey": "BDERNNFJNOPAEC-UHFFFAOYSA-N",
         "IUPACName": "propan-1-ol",
         "XLogP": 0.3,
         "ExactMass": 60.057514874,
         "MonoisotopicMass": 60.057514874,
         "TPSA": 20.2,
         "Complexity": 7,
         "Charge": 0,
         "HBondDonorCount": 1,
         "HBondAcceptorCount": 1,
         "RotatableBondCount": 1,
         "IsotopeAtomCount": 0,
         "AtomStereoCount": 0,
         "DefinedAtomStereoCount": 0,
         "UndefinedAtomStereoCount": 0,
         "BondStereoCount": 0,
         "DefinedBondStereoCount": 0,
         "UndefinedBondStereoCount": 0,
         "CovalentUnitCount": 1,
         "_deepnote_index_column": 8
        },
        {
         "MOFname": "mof_unit_68623",
         "volume [A^3]": 1518.580764,
         "weight [u]": 1101.64884,
         "density [g/cm^3]": 1.2046326465739428,
         "surface_area [m^2/g]": 731.03,
         "smiles": "BrC(=O)",
         "MolWt": 108.92199999999998,
         "MolLogP": 0.5715,
         "NumValenceElectrons": 18,
         "HeavyAtomCount": 3,
         "NOCount": 1,
         "NumAliphaticRings": 0,
         "NumAromaticRings": 0,
         "NumHAcceptors": 1,
         "NumHDonors": 0,
         "NumHeteroatoms": 2,
         "NumRotatableBonds": 0,
         "void_fraction": 0.14728,
         "void_volume [cm^3/g]": 0.1223,
         "functional_groups": "Br-HCO",
         "metal_linker": 2,
         "organic_linker1": 9,
         "organic_linker2": 16,
         "topology": "pcu",
         "CO2/N2_selectivity": 27.95723885,
         "heat_adsorption_CO2_P0.15bar_T298K [kcal/mol]": 6.705177000000001,
         "CID": 165634,
         "MolecularFormula": "CHBrO",
         "MolecularWeight": 108.92,
         "InChI": "InChI=1S/CHBrO/c2-1-3/h1H",
         "InChIKey": "AIFARXRIYKCEEV-UHFFFAOYSA-N",
         "IUPACName": "formyl bromide",
         "XLogP": 0.8,
         "ExactMass": 107.92108,
         "MonoisotopicMass": 107.92108,
         "TPSA": 17.1,
         "Complexity": 12,
         "Charge": 0,
         "HBondDonorCount": 0,
         "HBondAcceptorCount": 1,
         "RotatableBondCount": 0,
         "IsotopeAtomCount": 0,
         "AtomStereoCount": 0,
         "DefinedAtomStereoCount": 0,
         "UndefinedAtomStereoCount": 0,
         "BondStereoCount": 0,
         "DefinedBondStereoCount": 0,
         "UndefinedBondStereoCount": 0,
         "CovalentUnitCount": 1,
         "_deepnote_index_column": 9
        }
       ],
       "rows_bottom": [
        {
         "MOFname": "mof_unit_85604",
         "volume [A^3]": 13752.870784,
         "weight [u]": 4508.6452,
         "density [g/cm^3]": 0.5443798475237677,
         "surface_area [m^2/g]": 3210.63,
         "smiles": "Br",
         "MolWt": 80.91199999999999,
         "MolLogP": 0.5779000000000001,
         "NumValenceElectrons": 8,
         "HeavyAtomCount": 1,
         "NOCount": 0,
         "NumAliphaticRings": 0,
         "NumAromaticRings": 0,
         "NumHAcceptors": 0,
         "NumHDonors": 0,
         "NumHeteroatoms": 1,
         "NumRotatableBonds": 0,
         "void_fraction": 0.67375,
         "void_volume [cm^3/g]": 1.2377,
         "functional_groups": "Br",
         "metal_linker": 2,
         "organic_linker1": 3,
         "organic_linker2": 3,
         "topology": "pcu",
         "CO2/N2_selectivity": 4.089437693,
         "heat_adsorption_CO2_P0.15bar_T298K [kcal/mol]": 3.903029,
         "CID": 260,
         "MolecularFormula": "BrH",
         "MolecularWeight": 80.91,
         "InChI": "InChI=1S/BrH/h1H",
         "InChIKey": "CPELXLSAUQHCOX-UHFFFAOYSA-N",
         "IUPACName": "bromane",
         "XLogP": 1,
         "ExactMass": 79.92616,
         "MonoisotopicMass": 79.92616,
         "TPSA": 0,
         "Complexity": 0,
         "Charge": 0,
         "HBondDonorCount": 1,
         "HBondAcceptorCount": 0,
         "RotatableBondCount": 0,
         "IsotopeAtomCount": 0,
         "AtomStereoCount": 0,
         "DefinedAtomStereoCount": 0,
         "UndefinedAtomStereoCount": 0,
         "BondStereoCount": 0,
         "DefinedBondStereoCount": 0,
         "UndefinedBondStereoCount": 0,
         "CovalentUnitCount": 1,
         "_deepnote_index_column": 16990
        },
        {
         "MOFname": "mof_unit_85605",
         "volume [A^3]": 2783.094965,
         "weight [u]": 1329.3583199999998,
         "density [g/cm^3]": 0.7931646934271249,
         "surface_area [m^2/g]": 2696.63,
         "smiles": "ICC",
         "MolWt": 155.96599999999998,
         "MolLogP": 1.4413,
         "NumValenceElectrons": 20,
         "HeavyAtomCount": 3,
         "NOCount": 0,
         "NumAliphaticRings": 0,
         "NumAromaticRings": 0,
         "NumHAcceptors": 0,
         "NumHDonors": 0,
         "NumHeteroatoms": 1,
         "NumRotatableBonds": 0,
         "void_fraction": 0.46396,
         "void_volume [cm^3/g]": 0.585,
         "functional_groups": "I-Et",
         "metal_linker": 2,
         "organic_linker1": 8,
         "organic_linker2": 24,
         "topology": "pcu",
         "CO2/N2_selectivity": 5.84158825,
         "heat_adsorption_CO2_P0.15bar_T298K [kcal/mol]": 3.887196,
         "CID": 6340,
         "MolecularFormula": "C2H5I",
         "MolecularWeight": 155.97,
         "InChI": "InChI=1S/C2H5I/c1-2-3/h2H2,1H3",
         "InChIKey": "HVTICUPFWKNHNG-UHFFFAOYSA-N",
         "IUPACName": "iodoethane",
         "XLogP": 2.1,
         "ExactMass": 155.9436,
         "MonoisotopicMass": 155.9436,
         "TPSA": 0,
         "Complexity": 2,
         "Charge": 0,
         "HBondDonorCount": 0,
         "HBondAcceptorCount": 0,
         "RotatableBondCount": 0,
         "IsotopeAtomCount": 0,
         "AtomStereoCount": 0,
         "DefinedAtomStereoCount": 0,
         "UndefinedAtomStereoCount": 0,
         "BondStereoCount": 0,
         "DefinedBondStereoCount": 0,
         "UndefinedBondStereoCount": 0,
         "CovalentUnitCount": 1,
         "_deepnote_index_column": 16991
        },
        {
         "MOFname": "mof_unit_85606",
         "volume [A^3]": 2589.507907,
         "weight [u]": 787.46432,
         "density [g/cm^3]": 0.5049669855797818,
         "surface_area [m^2/g]": 4635.78,
         "smiles": "[N+](=O)([O-])",
         "MolWt": 46.005,
         "MolLogP": -0.4136000000000001,
         "NumValenceElectrons": 17,
         "HeavyAtomCount": 3,
         "NOCount": 3,
         "NumAliphaticRings": 0,
         "NumAromaticRings": 0,
         "NumHAcceptors": 3,
         "NumHDonors": 0,
         "NumHeteroatoms": 3,
         "NumRotatableBonds": 0,
         "void_fraction": 0.5582,
         "void_volume [cm^3/g]": 1.1054,
         "functional_groups": "NO2",
         "metal_linker": 2,
         "organic_linker1": 6,
         "organic_linker2": 11,
         "topology": "pcu",
         "CO2/N2_selectivity": 4.062733892,
         "heat_adsorption_CO2_P0.15bar_T298K [kcal/mol]": 3.208315,
         "CID": 24529,
         "MolecularFormula": "HNO2",
         "MolecularWeight": 47.014,
         "InChI": "InChI=1S/HNO2/c2-1-3/h(H,2,3)",
         "InChIKey": "IOVCWXUNBOPUCH-UHFFFAOYSA-N",
         "IUPACName": "nitrous acid",
         "XLogP": -0.3,
         "ExactMass": 47.000728275,
         "MonoisotopicMass": 47.000728275,
         "TPSA": 49.7,
         "Complexity": 10,
         "Charge": 0,
         "HBondDonorCount": 1,
         "HBondAcceptorCount": 3,
         "RotatableBondCount": 0,
         "IsotopeAtomCount": 0,
         "AtomStereoCount": 0,
         "DefinedAtomStereoCount": 0,
         "UndefinedAtomStereoCount": 0,
         "BondStereoCount": 0,
         "DefinedBondStereoCount": 0,
         "UndefinedBondStereoCount": 0,
         "CovalentUnitCount": 1,
         "_deepnote_index_column": 16992
        },
        {
         "MOFname": "mof_unit_85607",
         "volume [A^3]": 27365.782947000003,
         "weight [u]": 6971.820448,
         "density [g/cm^3]": 0.4230460626375412,
         "surface_area [m^2/g]": 4021.62,
         "smiles": "[N+](=O)([O-])F",
         "MolWt": 65.003,
         "MolLogP": 0.1475999999999999,
         "NumValenceElectrons": 24,
         "HeavyAtomCount": 4,
         "NOCount": 3,
         "NumAliphaticRings": 0,
         "NumAromaticRings": 0,
         "NumHAcceptors": 2,
         "NumHDonors": 0,
         "NumHeteroatoms": 4,
         "NumRotatableBonds": 0,
         "void_fraction": 0.68098,
         "void_volume [cm^3/g]": 1.6097,
         "functional_groups": "NO2-F",
         "metal_linker": 3,
         "organic_linker1": 4,
         "organic_linker2": 20,
         "topology": "nbo",
         "CO2/N2_selectivity": 3.938447215,
         "heat_adsorption_CO2_P0.15bar_T298K [kcal/mol]": 3.045902,
         "CID": 66203,
         "MolecularFormula": "FNO2",
         "MolecularWeight": 65.004,
         "InChI": "InChI=1S/FNO2/c1-2(3)4",
         "InChIKey": "JVJQPDTXIALXOG-UHFFFAOYSA-N",
         "IUPACName": "0.6",
         "XLogP": 64.9913064,
         "ExactMass": 64.9913064,
         "MonoisotopicMass": 45.8,
         "TPSA": 27,
         "Complexity": 0,
         "Charge": 0,
         "HBondDonorCount": 3,
         "HBondAcceptorCount": 0,
         "RotatableBondCount": 4,
         "IsotopeAtomCount": 0,
         "AtomStereoCount": 0,
         "DefinedAtomStereoCount": 0,
         "UndefinedAtomStereoCount": 0,
         "BondStereoCount": 0,
         "DefinedBondStereoCount": 0,
         "UndefinedBondStereoCount": 1,
         "CovalentUnitCount": 36.4,
         "_deepnote_index_column": 16993
        },
        {
         "MOFname": "mof_unit_85608",
         "volume [A^3]": 5021.462092,
         "weight [u]": 1409.05468,
         "density [g/cm^3]": 0.4659582439255821,
         "surface_area [m^2/g]": 4028.85,
         "smiles": "[H]",
         "MolWt": 1.008,
         "MolLogP": 0.1125,
         "NumValenceElectrons": 1,
         "HeavyAtomCount": 0,
         "NOCount": 0,
         "NumAliphaticRings": 0,
         "NumAromaticRings": 0,
         "NumHAcceptors": 0,
         "NumHDonors": 0,
         "NumHeteroatoms": 0,
         "NumRotatableBonds": 0,
         "void_fraction": 0.6235,
         "void_volume [cm^3/g]": 1.3381,
         "functional_groups": "H",
         "metal_linker": 3,
         "organic_linker1": 1,
         "organic_linker2": 22,
         "topology": "nbo",
         "CO2/N2_selectivity": 3.417419627,
         "heat_adsorption_CO2_P0.15bar_T298K [kcal/mol]": 2.822775,
         "CID": 5362549,
         "MolecularFormula": "H",
         "MolecularWeight": 1.008,
         "InChI": "InChI=1S/H",
         "InChIKey": "YZCKVEUIGOORGS-UHFFFAOYSA-N",
         "IUPACName": "hydrogen",
         "XLogP": 0,
         "ExactMass": 1.0078250319,
         "MonoisotopicMass": 1.0078250319,
         "TPSA": 0,
         "Complexity": 0,
         "Charge": 0,
         "HBondDonorCount": 0,
         "HBondAcceptorCount": 0,
         "RotatableBondCount": 0,
         "IsotopeAtomCount": 0,
         "AtomStereoCount": 0,
         "DefinedAtomStereoCount": 0,
         "UndefinedAtomStereoCount": 0,
         "BondStereoCount": 0,
         "DefinedBondStereoCount": 0,
         "UndefinedBondStereoCount": 0,
         "CovalentUnitCount": 1,
         "_deepnote_index_column": 16994
        },
        {
         "MOFname": "mof_unit_85609",
         "volume [A^3]": 32660.944605,
         "weight [u]": 4723.682879999999,
         "density [g/cm^3]": 0.2401603647542513,
         "surface_area [m^2/g]": 5720.14,
         "smiles": "O[N+](=O)([O-])",
         "MolWt": 63.01200000000001,
         "MolLogP": -0.3477,
         "NumValenceElectrons": 24,
         "HeavyAtomCount": 4,
         "NOCount": 4,
         "NumAliphaticRings": 0,
         "NumAromaticRings": 0,
         "NumHAcceptors": 2,
         "NumHDonors": 1,
         "NumHeteroatoms": 4,
         "NumRotatableBonds": 0,
         "void_fraction": 0.7761399999999999,
         "void_volume [cm^3/g]": 3.2318,
         "functional_groups": "OH-NO2",
         "metal_linker": 3,
         "organic_linker1": 3,
         "organic_linker2": 14,
         "topology": "nbo",
         "CO2/N2_selectivity": 4.536625621000001,
         "heat_adsorption_CO2_P0.15bar_T298K [kcal/mol]": 3.146698,
         "CID": 944,
         "MolecularFormula": "HNO3",
         "MolecularWeight": 63.013,
         "InChI": "InChI=1S/HNO3/c2-1(3)4/h(H,2,3,4)",
         "InChIKey": "GRYLNZFGIOXLOG-UHFFFAOYSA-N",
         "IUPACName": "nitric acid",
         "XLogP": 0.2,
         "ExactMass": 62.995642894,
         "MonoisotopicMass": 62.995642894,
         "TPSA": 66,
         "Complexity": 24,
         "Charge": 0,
         "HBondDonorCount": 1,
         "HBondAcceptorCount": 3,
         "RotatableBondCount": 0,
         "IsotopeAtomCount": 0,
         "AtomStereoCount": 0,
         "DefinedAtomStereoCount": 0,
         "UndefinedAtomStereoCount": 0,
         "BondStereoCount": 0,
         "DefinedBondStereoCount": 0,
         "UndefinedBondStereoCount": 0,
         "CovalentUnitCount": 1,
         "_deepnote_index_column": 16995
        },
        {
         "MOFname": "mof_unit_85610",
         "volume [A^3]": 5070.998617,
         "weight [u]": 1499.13262,
         "density [g/cm^3]": 0.4909032458556476,
         "surface_area [m^2/g]": 4017.28,
         "smiles": "COC",
         "MolWt": 46.069,
         "MolLogP": 0.2626,
         "NumValenceElectrons": 20,
         "HeavyAtomCount": 3,
         "NOCount": 1,
         "NumAliphaticRings": 0,
         "NumAromaticRings": 0,
         "NumHAcceptors": 1,
         "NumHDonors": 0,
         "NumHeteroatoms": 1,
         "NumRotatableBonds": 0,
         "void_fraction": 0.59192,
         "void_volume [cm^3/g]": 1.2058,
         "functional_groups": "Me-OMe",
         "metal_linker": 3,
         "organic_linker1": 1,
         "organic_linker2": 11,
         "topology": "nbo",
         "CO2/N2_selectivity": 6.745507689,
         "heat_adsorption_CO2_P0.15bar_T298K [kcal/mol]": 3.658871,
         "CID": 8254,
         "MolecularFormula": "C2H6O",
         "MolecularWeight": 46.07,
         "InChI": "InChI=1S/C2H6O/c1-3-2/h1-2H3",
         "InChIKey": "LCGLNKUTAGEVQW-UHFFFAOYSA-N",
         "IUPACName": "methoxymethane",
         "XLogP": 0.1,
         "ExactMass": 46.041864811,
         "MonoisotopicMass": 46.041864811,
         "TPSA": 9.2,
         "Complexity": 2,
         "Charge": 0,
         "HBondDonorCount": 0,
         "HBondAcceptorCount": 1,
         "RotatableBondCount": 0,
         "IsotopeAtomCount": 0,
         "AtomStereoCount": 0,
         "DefinedAtomStereoCount": 0,
         "UndefinedAtomStereoCount": 0,
         "BondStereoCount": 0,
         "DefinedBondStereoCount": 0,
         "UndefinedBondStereoCount": 0,
         "CovalentUnitCount": 1,
         "_deepnote_index_column": 16996
        },
        {
         "MOFname": "mof_unit_85611",
         "volume [A^3]": 4669.804446,
         "weight [u]": 1322.04892,
         "density [g/cm^3]": 0.4701085749955191,
         "surface_area [m^2/g]": 4288.76,
         "smiles": "CC(#N)",
         "MolWt": 41.053,
         "MolLogP": 0.52988,
         "NumValenceElectrons": 16,
         "HeavyAtomCount": 3,
         "NOCount": 1,
         "NumAliphaticRings": 0,
         "NumAromaticRings": 0,
         "NumHAcceptors": 1,
         "NumHDonors": 0,
         "NumHeteroatoms": 1,
         "NumRotatableBonds": 0,
         "void_fraction": 0.5495,
         "void_volume [cm^3/g]": 1.1689,
         "functional_groups": "Me-CN",
         "metal_linker": 2,
         "organic_linker1": 7,
         "organic_linker2": 23,
         "topology": "pcu",
         "CO2/N2_selectivity": 4.666206015,
         "heat_adsorption_CO2_P0.15bar_T298K [kcal/mol]": 3.593052,
         "CID": 6342,
         "MolecularFormula": "C2H3N",
         "MolecularWeight": 41.05,
         "InChI": "InChI=1S/C2H3N/c1-2-3/h1H3",
         "InChIKey": "WEVYAHXRMPXWCK-UHFFFAOYSA-N",
         "IUPACName": "acetonitrile",
         "XLogP": 0,
         "ExactMass": 41.0265491,
         "MonoisotopicMass": 41.0265491,
         "TPSA": 23.8,
         "Complexity": 29,
         "Charge": 0,
         "HBondDonorCount": 0,
         "HBondAcceptorCount": 1,
         "RotatableBondCount": 0,
         "IsotopeAtomCount": 0,
         "AtomStereoCount": 0,
         "DefinedAtomStereoCount": 0,
         "UndefinedAtomStereoCount": 0,
         "BondStereoCount": 0,
         "DefinedBondStereoCount": 0,
         "UndefinedBondStereoCount": 0,
         "CovalentUnitCount": 1,
         "_deepnote_index_column": 16997
        },
        {
         "MOFname": "mof_unit_85612",
         "volume [A^3]": 4682.120862,
         "weight [u]": 1213.51148,
         "density [g/cm^3]": 0.4303785426287442,
         "surface_area [m^2/g]": 4331.86,
         "smiles": "OC(=O)",
         "MolWt": 46.025,
         "MolLogP": -0.2991999999999999,
         "NumValenceElectrons": 18,
         "HeavyAtomCount": 3,
         "NOCount": 2,
         "NumAliphaticRings": 0,
         "NumAromaticRings": 0,
         "NumHAcceptors": 1,
         "NumHDonors": 1,
         "NumHeteroatoms": 2,
         "NumRotatableBonds": 0,
         "void_fraction": 0.60643,
         "void_volume [cm^3/g]": 1.4091,
         "functional_groups": "OH-HCO",
         "metal_linker": 3,
         "organic_linker1": 7,
         "organic_linker2": 25,
         "topology": "pcu",
         "CO2/N2_selectivity": 4.82330486,
         "heat_adsorption_CO2_P0.15bar_T298K [kcal/mol]": 3.454497,
         "CID": 284,
         "MolecularFormula": "CH2O2",
         "MolecularWeight": 46.025,
         "InChI": "InChI=1S/CH2O2/c2-1-3/h1H,(H,2,3)",
         "InChIKey": "BDAGIHXWWSANSR-UHFFFAOYSA-N",
         "IUPACName": "formic acid",
         "XLogP": -0.2,
         "ExactMass": 46.005479302,
         "MonoisotopicMass": 46.005479302,
         "TPSA": 37.3,
         "Complexity": 10,
         "Charge": 0,
         "HBondDonorCount": 1,
         "HBondAcceptorCount": 2,
         "RotatableBondCount": 0,
         "IsotopeAtomCount": 0,
         "AtomStereoCount": 0,
         "DefinedAtomStereoCount": 0,
         "UndefinedAtomStereoCount": 0,
         "BondStereoCount": 0,
         "DefinedBondStereoCount": 0,
         "UndefinedBondStereoCount": 0,
         "CovalentUnitCount": 1,
         "_deepnote_index_column": 16998
        },
        {
         "MOFname": "mof_unit_85613",
         "volume [A^3]": 25702.628698,
         "weight [u]": 4793.21712,
         "density [g/cm^3]": 0.3096698337732335,
         "surface_area [m^2/g]": 5006.39,
         "smiles": "CO",
         "MolWt": 32.042,
         "MolLogP": -0.3915,
         "NumValenceElectrons": 14,
         "HeavyAtomCount": 2,
         "NOCount": 1,
         "NumAliphaticRings": 0,
         "NumAromaticRings": 0,
         "NumHAcceptors": 1,
         "NumHDonors": 1,
         "NumHeteroatoms": 1,
         "NumRotatableBonds": 0,
         "void_fraction": 0.7173,
         "void_volume [cm^3/g]": 2.3163,
         "functional_groups": "OMe",
         "metal_linker": 1,
         "organic_linker1": 2,
         "organic_linker2": 27,
         "topology": "pcu",
         "CO2/N2_selectivity": 4.278184385,
         "heat_adsorption_CO2_P0.15bar_T298K [kcal/mol]": 3.169874,
         "CID": 887,
         "MolecularFormula": "CH4O",
         "MolecularWeight": 32.042,
         "InChI": "InChI=1S/CH4O/c1-2/h2H,1H3",
         "InChIKey": "OKKJLVBELUTLKV-UHFFFAOYSA-N",
         "IUPACName": "methanol",
         "XLogP": -0.5,
         "ExactMass": 32.026214747,
         "MonoisotopicMass": 32.026214747,
         "TPSA": 20.2,
         "Complexity": 2,
         "Charge": 0,
         "HBondDonorCount": 1,
         "HBondAcceptorCount": 1,
         "RotatableBondCount": 0,
         "IsotopeAtomCount": 0,
         "AtomStereoCount": 0,
         "DefinedAtomStereoCount": 0,
         "UndefinedAtomStereoCount": 0,
         "BondStereoCount": 0,
         "DefinedBondStereoCount": 0,
         "UndefinedBondStereoCount": 0,
         "CovalentUnitCount": 1,
         "_deepnote_index_column": 16999
        }
       ]
      },
      "text/plain": "              MOFname  volume [A^3]  weight [u]  density [g/cm^3]  \\\n0      mof_unit_68614   1208.301332   797.70936          1.096273   \n1      mof_unit_68615   4126.414623  3733.65779          1.502488   \n2      mof_unit_68616   1602.148373   747.21048          0.774443   \n3      mof_unit_68617   2436.629312   995.80232          0.678630   \n4      mof_unit_68618   3123.418006  1337.53800          0.711091   \n...               ...           ...         ...               ...   \n16995  mof_unit_85609  32660.944605  4723.68288          0.240160   \n16996  mof_unit_85610   5070.998617  1499.13262          0.490903   \n16997  mof_unit_85611   4669.804446  1322.04892          0.470109   \n16998  mof_unit_85612   4682.120862  1213.51148          0.430379   \n16999  mof_unit_85613  25702.628698  4793.21712          0.309670   \n\n       surface_area [m^2/g]             smiles    MolWt  MolLogP  \\\n0                    586.54                CCO   46.069 -0.00140   \n1                    852.49                  I  127.912  0.61800   \n2                   3155.73             C(#N)O   43.025 -0.16002   \n3                   3521.09                 CO   32.042 -0.39150   \n4                   2678.46  [N+](=O)([O-])CCC   89.094  0.67310   \n...                     ...                ...      ...      ...   \n16995               5720.14    O[N+](=O)([O-])   63.012 -0.34770   \n16996               4017.28                COC   46.069  0.26260   \n16997               4288.76             CC(#N)   41.053  0.52988   \n16998               4331.86             OC(=O)   46.025 -0.29920   \n16999               5006.39                 CO   32.042 -0.39150   \n\n       NumValenceElectrons  HeavyAtomCount  ...  HBondAcceptorCount  \\\n0                       20               3  ...                   1   \n1                        8               1  ...                   0   \n2                       16               3  ...                   2   \n3                       14               2  ...                   1   \n4                       36               6  ...                   2   \n...                    ...             ...  ...                 ...   \n16995                   24               4  ...                   3   \n16996                   20               3  ...                   1   \n16997                   16               3  ...                   1   \n16998                   18               3  ...                   2   \n16999                   14               2  ...                   1   \n\n       RotatableBondCount  IsotopeAtomCount  AtomStereoCount  \\\n0                       0                 0                0   \n1                       0                 0                0   \n2                       0                 0                0   \n3                       0                 0                0   \n4                       1                 0                0   \n...                   ...               ...              ...   \n16995                   0                 0                0   \n16996                   0                 0                0   \n16997                   0                 0                0   \n16998                   0                 0                0   \n16999                   0                 0                0   \n\n       DefinedAtomStereoCount  UndefinedAtomStereoCount  BondStereoCount  \\\n0                           0                         0                0   \n1                           0                         0                0   \n2                           0                         0                0   \n3                           0                         0                0   \n4                           0                         0                0   \n...                       ...                       ...              ...   \n16995                       0                         0                0   \n16996                       0                         0                0   \n16997                       0                         0                0   \n16998                       0                         0                0   \n16999                       0                         0                0   \n\n       DefinedBondStereoCount  UndefinedBondStereoCount CovalentUnitCount  \n0                           0                         0               1.0  \n1                           0                         0               1.0  \n2                           0                         0               1.0  \n3                           0                         0               1.0  \n4                           0                         0               1.0  \n...                       ...                       ...               ...  \n16995                       0                         0               1.0  \n16996                       0                         0               1.0  \n16997                       0                         0               1.0  \n16998                       0                         0               1.0  \n16999                       0                         0               1.0  \n\n[17000 rows x 49 columns]",
      "text/html": "<div>\n<style scoped>\n    .dataframe tbody tr th:only-of-type {\n        vertical-align: middle;\n    }\n\n    .dataframe tbody tr th {\n        vertical-align: top;\n    }\n\n    .dataframe thead th {\n        text-align: right;\n    }\n</style>\n<table border=\"1\" class=\"dataframe\">\n  <thead>\n    <tr style=\"text-align: right;\">\n      <th></th>\n      <th>MOFname</th>\n      <th>volume [A^3]</th>\n      <th>weight [u]</th>\n      <th>density [g/cm^3]</th>\n      <th>surface_area [m^2/g]</th>\n      <th>smiles</th>\n      <th>MolWt</th>\n      <th>MolLogP</th>\n      <th>NumValenceElectrons</th>\n      <th>HeavyAtomCount</th>\n      <th>...</th>\n      <th>HBondAcceptorCount</th>\n      <th>RotatableBondCount</th>\n      <th>IsotopeAtomCount</th>\n      <th>AtomStereoCount</th>\n      <th>DefinedAtomStereoCount</th>\n      <th>UndefinedAtomStereoCount</th>\n      <th>BondStereoCount</th>\n      <th>DefinedBondStereoCount</th>\n      <th>UndefinedBondStereoCount</th>\n      <th>CovalentUnitCount</th>\n    </tr>\n  </thead>\n  <tbody>\n    <tr>\n      <th>0</th>\n      <td>mof_unit_68614</td>\n      <td>1208.301332</td>\n      <td>797.70936</td>\n      <td>1.096273</td>\n      <td>586.54</td>\n      <td>CCO</td>\n      <td>46.069</td>\n      <td>-0.00140</td>\n      <td>20</td>\n      <td>3</td>\n      <td>...</td>\n      <td>1</td>\n      <td>0</td>\n      <td>0</td>\n      <td>0</td>\n      <td>0</td>\n      <td>0</td>\n      <td>0</td>\n      <td>0</td>\n      <td>0</td>\n      <td>1.0</td>\n    </tr>\n    <tr>\n      <th>1</th>\n      <td>mof_unit_68615</td>\n      <td>4126.414623</td>\n      <td>3733.65779</td>\n      <td>1.502488</td>\n      <td>852.49</td>\n      <td>I</td>\n      <td>127.912</td>\n      <td>0.61800</td>\n      <td>8</td>\n      <td>1</td>\n      <td>...</td>\n      <td>0</td>\n      <td>0</td>\n      <td>0</td>\n      <td>0</td>\n      <td>0</td>\n      <td>0</td>\n      <td>0</td>\n      <td>0</td>\n      <td>0</td>\n      <td>1.0</td>\n    </tr>\n    <tr>\n      <th>2</th>\n      <td>mof_unit_68616</td>\n      <td>1602.148373</td>\n      <td>747.21048</td>\n      <td>0.774443</td>\n      <td>3155.73</td>\n      <td>C(#N)O</td>\n      <td>43.025</td>\n      <td>-0.16002</td>\n      <td>16</td>\n      <td>3</td>\n      <td>...</td>\n      <td>2</td>\n      <td>0</td>\n      <td>0</td>\n      <td>0</td>\n      <td>0</td>\n      <td>0</td>\n      <td>0</td>\n      <td>0</td>\n      <td>0</td>\n      <td>1.0</td>\n    </tr>\n    <tr>\n      <th>3</th>\n      <td>mof_unit_68617</td>\n      <td>2436.629312</td>\n      <td>995.80232</td>\n      <td>0.678630</td>\n      <td>3521.09</td>\n      <td>CO</td>\n      <td>32.042</td>\n      <td>-0.39150</td>\n      <td>14</td>\n      <td>2</td>\n      <td>...</td>\n      <td>1</td>\n      <td>0</td>\n      <td>0</td>\n      <td>0</td>\n      <td>0</td>\n      <td>0</td>\n      <td>0</td>\n      <td>0</td>\n      <td>0</td>\n      <td>1.0</td>\n    </tr>\n    <tr>\n      <th>4</th>\n      <td>mof_unit_68618</td>\n      <td>3123.418006</td>\n      <td>1337.53800</td>\n      <td>0.711091</td>\n      <td>2678.46</td>\n      <td>[N+](=O)([O-])CCC</td>\n      <td>89.094</td>\n      <td>0.67310</td>\n      <td>36</td>\n      <td>6</td>\n      <td>...</td>\n      <td>2</td>\n      <td>1</td>\n      <td>0</td>\n      <td>0</td>\n      <td>0</td>\n      <td>0</td>\n      <td>0</td>\n      <td>0</td>\n      <td>0</td>\n      <td>1.0</td>\n    </tr>\n    <tr>\n      <th>...</th>\n      <td>...</td>\n      <td>...</td>\n      <td>...</td>\n      <td>...</td>\n      <td>...</td>\n      <td>...</td>\n      <td>...</td>\n      <td>...</td>\n      <td>...</td>\n      <td>...</td>\n      <td>...</td>\n      <td>...</td>\n      <td>...</td>\n      <td>...</td>\n      <td>...</td>\n      <td>...</td>\n      <td>...</td>\n      <td>...</td>\n      <td>...</td>\n      <td>...</td>\n      <td>...</td>\n    </tr>\n    <tr>\n      <th>16995</th>\n      <td>mof_unit_85609</td>\n      <td>32660.944605</td>\n      <td>4723.68288</td>\n      <td>0.240160</td>\n      <td>5720.14</td>\n      <td>O[N+](=O)([O-])</td>\n      <td>63.012</td>\n      <td>-0.34770</td>\n      <td>24</td>\n      <td>4</td>\n      <td>...</td>\n      <td>3</td>\n      <td>0</td>\n      <td>0</td>\n      <td>0</td>\n      <td>0</td>\n      <td>0</td>\n      <td>0</td>\n      <td>0</td>\n      <td>0</td>\n      <td>1.0</td>\n    </tr>\n    <tr>\n      <th>16996</th>\n      <td>mof_unit_85610</td>\n      <td>5070.998617</td>\n      <td>1499.13262</td>\n      <td>0.490903</td>\n      <td>4017.28</td>\n      <td>COC</td>\n      <td>46.069</td>\n      <td>0.26260</td>\n      <td>20</td>\n      <td>3</td>\n      <td>...</td>\n      <td>1</td>\n      <td>0</td>\n      <td>0</td>\n      <td>0</td>\n      <td>0</td>\n      <td>0</td>\n      <td>0</td>\n      <td>0</td>\n      <td>0</td>\n      <td>1.0</td>\n    </tr>\n    <tr>\n      <th>16997</th>\n      <td>mof_unit_85611</td>\n      <td>4669.804446</td>\n      <td>1322.04892</td>\n      <td>0.470109</td>\n      <td>4288.76</td>\n      <td>CC(#N)</td>\n      <td>41.053</td>\n      <td>0.52988</td>\n      <td>16</td>\n      <td>3</td>\n      <td>...</td>\n      <td>1</td>\n      <td>0</td>\n      <td>0</td>\n      <td>0</td>\n      <td>0</td>\n      <td>0</td>\n      <td>0</td>\n      <td>0</td>\n      <td>0</td>\n      <td>1.0</td>\n    </tr>\n    <tr>\n      <th>16998</th>\n      <td>mof_unit_85612</td>\n      <td>4682.120862</td>\n      <td>1213.51148</td>\n      <td>0.430379</td>\n      <td>4331.86</td>\n      <td>OC(=O)</td>\n      <td>46.025</td>\n      <td>-0.29920</td>\n      <td>18</td>\n      <td>3</td>\n      <td>...</td>\n      <td>2</td>\n      <td>0</td>\n      <td>0</td>\n      <td>0</td>\n      <td>0</td>\n      <td>0</td>\n      <td>0</td>\n      <td>0</td>\n      <td>0</td>\n      <td>1.0</td>\n    </tr>\n    <tr>\n      <th>16999</th>\n      <td>mof_unit_85613</td>\n      <td>25702.628698</td>\n      <td>4793.21712</td>\n      <td>0.309670</td>\n      <td>5006.39</td>\n      <td>CO</td>\n      <td>32.042</td>\n      <td>-0.39150</td>\n      <td>14</td>\n      <td>2</td>\n      <td>...</td>\n      <td>1</td>\n      <td>0</td>\n      <td>0</td>\n      <td>0</td>\n      <td>0</td>\n      <td>0</td>\n      <td>0</td>\n      <td>0</td>\n      <td>0</td>\n      <td>1.0</td>\n    </tr>\n  </tbody>\n</table>\n<p>17000 rows × 49 columns</p>\n</div>"
     },
     "metadata": {}
    }
   ]
  },
  {
   "cell_type": "code",
   "metadata": {
    "tags": [],
    "cell_id": "00008-dffdfda8-7c07-4869-a92b-c02c7ac9f7e9",
    "deepnote_to_be_reexecuted": false,
    "source_hash": "f8827d72",
    "execution_start": 1634392483643,
    "execution_millis": 0,
    "deepnote_cell_type": "code"
   },
   "source": "from numpy import mean\nfrom numpy import std\nfrom numpy import absolute",
   "execution_count": null,
   "outputs": []
  },
  {
   "cell_type": "code",
   "metadata": {
    "tags": [],
    "cell_id": "00010-c8e09732-56fc-47d1-b576-b1592f5c8d4a",
    "deepnote_to_be_reexecuted": false,
    "source_hash": "385c9dff",
    "execution_start": 1634392496165,
    "execution_millis": 2,
    "deepnote_cell_type": "code"
   },
   "source": "from sklearn.model_selection import GridSearchCV",
   "execution_count": null,
   "outputs": []
  },
  {
   "cell_type": "markdown",
   "source": "# test",
   "metadata": {
    "tags": [],
    "is_collapsed": false,
    "cell_id": "00013-816cbb7e-1b79-4822-9844-589e3ac0dca0",
    "deepnote_cell_type": "text-cell-h1"
   }
  },
  {
   "cell_type": "code",
   "metadata": {
    "tags": [],
    "cell_id": "00013-cbb1ccf0-45d8-46f2-ae1d-8f36aab636d1",
    "deepnote_to_be_reexecuted": false,
    "source_hash": "f7cda883",
    "execution_start": 1634393664581,
    "execution_millis": 1,
    "deepnote_cell_type": "code"
   },
   "source": "for col in ['metal_linker', 'organic_linker1', 'organic_linker2']:\n    pretest[col] = pretest[col].astype('category')\n#test= test.drop(columns=['MOFname','functional_groups','smiles','MolecularFormula','InChI','InChIKey','IUPACName'])\nXtest= pretest.drop(columns=['functional_groups','MOFname','smiles','MolecularFormula','CID','InChI','InChIKey','IUPACName'])",
   "execution_count": null,
   "outputs": []
  },
  {
   "cell_type": "code",
   "metadata": {
    "tags": [],
    "cell_id": "00014-e5c20f6c-ff8a-482a-b716-43884d5e796b",
    "deepnote_to_be_reexecuted": false,
    "source_hash": "42b38492",
    "execution_start": 1634393506351,
    "execution_millis": 102,
    "deepnote_cell_type": "code"
   },
   "source": "Xtest",
   "execution_count": null,
   "outputs": [
    {
     "output_type": "execute_result",
     "execution_count": 40,
     "data": {
      "application/vnd.deepnote.dataframe.v2+json": {
       "row_count": 17000,
       "column_count": 41,
       "columns": [
        {
         "name": "volume [A^3]",
         "dtype": "float64",
         "stats": {
          "unique_count": 16999,
          "nan_count": 0,
          "min": "608.3784820000001",
          "max": "78968.77943099999",
          "histogram": [
           {
            "bin_start": 608.3784820000001,
            "bin_end": 8444.4185769,
            "count": 15702
           },
           {
            "bin_start": 8444.4185769,
            "bin_end": 16280.458671799997,
            "count": 667
           },
           {
            "bin_start": 16280.458671799997,
            "bin_end": 24116.498766699995,
            "count": 342
           },
           {
            "bin_start": 24116.498766699995,
            "bin_end": 31952.538861599995,
            "count": 154
           },
           {
            "bin_start": 31952.538861599995,
            "bin_end": 39788.578956499994,
            "count": 76
           },
           {
            "bin_start": 39788.578956499994,
            "bin_end": 47624.61905139999,
            "count": 31
           },
           {
            "bin_start": 47624.61905139999,
            "bin_end": 55460.65914629999,
            "count": 10
           },
           {
            "bin_start": 55460.65914629999,
            "bin_end": 63296.69924119999,
            "count": 12
           },
           {
            "bin_start": 63296.69924119999,
            "bin_end": 71132.73933609998,
            "count": 3
           },
           {
            "bin_start": 71132.73933609998,
            "bin_end": 78968.77943099999,
            "count": 3
           }
          ]
         }
        },
        {
         "name": "weight [u]",
         "dtype": "float64",
         "stats": {
          "unique_count": 15576,
          "nan_count": 0,
          "min": "439.28122",
          "max": "21347.65344",
          "histogram": [
           {
            "bin_start": 439.28122,
            "bin_end": 2530.1184419999995,
            "count": 14362
           },
           {
            "bin_start": 2530.1184419999995,
            "bin_end": 4620.955663999999,
            "count": 1888
           },
           {
            "bin_start": 4620.955663999999,
            "bin_end": 6711.792885999998,
            "count": 536
           },
           {
            "bin_start": 6711.792885999998,
            "bin_end": 8802.630108,
            "count": 158
           },
           {
            "bin_start": 8802.630108,
            "bin_end": 10893.46733,
            "count": 32
           },
           {
            "bin_start": 10893.46733,
            "bin_end": 12984.304551999998,
            "count": 15
           },
           {
            "bin_start": 12984.304551999998,
            "bin_end": 15075.141773999998,
            "count": 5
           },
           {
            "bin_start": 15075.141773999998,
            "bin_end": 17165.978995999998,
            "count": 0
           },
           {
            "bin_start": 17165.978995999998,
            "bin_end": 19256.816217999996,
            "count": 2
           },
           {
            "bin_start": 19256.816217999996,
            "bin_end": 21347.65344,
            "count": 2
           }
          ]
         }
        },
        {
         "name": "density [g/cm^3]",
         "dtype": "float64",
         "stats": {
          "unique_count": 17000,
          "nan_count": 0,
          "min": "0.1413674963187567",
          "max": "2.6655773905942195",
          "histogram": [
           {
            "bin_start": 0.1413674963187567,
            "bin_end": 0.393788485746303,
            "count": 662
           },
           {
            "bin_start": 0.393788485746303,
            "bin_end": 0.6462094751738493,
            "count": 2306
           },
           {
            "bin_start": 0.6462094751738493,
            "bin_end": 0.8986304646013956,
            "count": 6164
           },
           {
            "bin_start": 0.8986304646013956,
            "bin_end": 1.151051454028942,
            "count": 5264
           },
           {
            "bin_start": 1.151051454028942,
            "bin_end": 1.4034724434564885,
            "count": 1902
           },
           {
            "bin_start": 1.4034724434564885,
            "bin_end": 1.6558934328840347,
            "count": 528
           },
           {
            "bin_start": 1.6558934328840347,
            "bin_end": 1.9083144223115809,
            "count": 127
           },
           {
            "bin_start": 1.9083144223115809,
            "bin_end": 2.160735411739127,
            "count": 33
           },
           {
            "bin_start": 2.160735411739127,
            "bin_end": 2.4131564011666735,
            "count": 12
           },
           {
            "bin_start": 2.4131564011666735,
            "bin_end": 2.6655773905942195,
            "count": 2
           }
          ]
         }
        },
        {
         "name": "surface_area [m^2/g]",
         "dtype": "float64",
         "stats": {
          "unique_count": 16635,
          "nan_count": 0,
          "min": "46.47",
          "max": "6955.78",
          "histogram": [
           {
            "bin_start": 46.47,
            "bin_end": 737.401,
            "count": 1598
           },
           {
            "bin_start": 737.401,
            "bin_end": 1428.3319999999999,
            "count": 3698
           },
           {
            "bin_start": 1428.3319999999999,
            "bin_end": 2119.2629999999995,
            "count": 4128
           },
           {
            "bin_start": 2119.2629999999995,
            "bin_end": 2810.1939999999995,
            "count": 3208
           },
           {
            "bin_start": 2810.1939999999995,
            "bin_end": 3501.1249999999995,
            "count": 2047
           },
           {
            "bin_start": 3501.1249999999995,
            "bin_end": 4192.056,
            "count": 1120
           },
           {
            "bin_start": 4192.056,
            "bin_end": 4882.987,
            "count": 609
           },
           {
            "bin_start": 4882.987,
            "bin_end": 5573.918,
            "count": 390
           },
           {
            "bin_start": 5573.918,
            "bin_end": 6264.848999999999,
            "count": 169
           },
           {
            "bin_start": 6264.848999999999,
            "bin_end": 6955.78,
            "count": 33
           }
          ]
         }
        },
        {
         "name": "MolWt",
         "dtype": "float64",
         "stats": {
          "unique_count": 216,
          "nan_count": 0,
          "min": "1.008",
          "max": "207.976",
          "histogram": [
           {
            "bin_start": 1.008,
            "bin_end": 21.7048,
            "count": 1767
           },
           {
            "bin_start": 21.7048,
            "bin_end": 42.4016,
            "count": 2704
           },
           {
            "bin_start": 42.4016,
            "bin_end": 63.098400000000005,
            "count": 5157
           },
           {
            "bin_start": 63.098400000000005,
            "bin_end": 83.7952,
            "count": 3057
           },
           {
            "bin_start": 83.7952,
            "bin_end": 104.49199999999999,
            "count": 1462
           },
           {
            "bin_start": 104.49199999999999,
            "bin_end": 125.1888,
            "count": 1245
           },
           {
            "bin_start": 125.1888,
            "bin_end": 145.8856,
            "count": 818
           },
           {
            "bin_start": 145.8856,
            "bin_end": 166.5824,
            "count": 439
           },
           {
            "bin_start": 166.5824,
            "bin_end": 187.2792,
            "count": 251
           },
           {
            "bin_start": 187.2792,
            "bin_end": 207.976,
            "count": 100
           }
          ]
         }
        },
        {
         "name": "MolLogP",
         "dtype": "float64"
        },
        {
         "name": "NumValenceElectrons",
         "dtype": "int64"
        },
        {
         "name": "HeavyAtomCount",
         "dtype": "int64"
        },
        {
         "name": "NOCount",
         "dtype": "int64"
        },
        {
         "name": "NumAliphaticRings",
         "dtype": "int64"
        },
        {
         "name": "NumAromaticRings",
         "dtype": "int64"
        },
        {
         "name": "NumHAcceptors",
         "dtype": "int64"
        },
        {
         "name": "NumHDonors",
         "dtype": "int64"
        },
        {
         "name": "NumHeteroatoms",
         "dtype": "int64"
        },
        {
         "name": "NumRotatableBonds",
         "dtype": "int64"
        },
        {
         "name": "void_fraction",
         "dtype": "float64"
        },
        {
         "name": "void_volume [cm^3/g]",
         "dtype": "float64"
        },
        {
         "name": "metal_linker",
         "dtype": "category"
        },
        {
         "name": "organic_linker1",
         "dtype": "category"
        },
        {
         "name": "organic_linker2",
         "dtype": "category"
        },
        {
         "name": "topology",
         "dtype": "object"
        },
        {
         "name": "CO2/N2_selectivity",
         "dtype": "float64"
        },
        {
         "name": "heat_adsorption_CO2_P0.15bar_T298K [kcal/mol]",
         "dtype": "float64"
        },
        {
         "name": "MolecularWeight",
         "dtype": "float64"
        },
        {
         "name": "XLogP",
         "dtype": "float64"
        },
        {
         "name": "ExactMass",
         "dtype": "float64"
        },
        {
         "name": "MonoisotopicMass",
         "dtype": "float64"
        },
        {
         "name": "TPSA",
         "dtype": "float64"
        },
        {
         "name": "Complexity",
         "dtype": "int64"
        },
        {
         "name": "Charge",
         "dtype": "int64"
        },
        {
         "name": "HBondDonorCount",
         "dtype": "int64"
        },
        {
         "name": "HBondAcceptorCount",
         "dtype": "int64"
        },
        {
         "name": "RotatableBondCount",
         "dtype": "int64"
        },
        {
         "name": "IsotopeAtomCount",
         "dtype": "int64"
        },
        {
         "name": "AtomStereoCount",
         "dtype": "int64"
        },
        {
         "name": "DefinedAtomStereoCount",
         "dtype": "int64"
        },
        {
         "name": "UndefinedAtomStereoCount",
         "dtype": "int64"
        },
        {
         "name": "BondStereoCount",
         "dtype": "int64"
        },
        {
         "name": "DefinedBondStereoCount",
         "dtype": "int64"
        },
        {
         "name": "UndefinedBondStereoCount",
         "dtype": "int64"
        },
        {
         "name": "CovalentUnitCount",
         "dtype": "float64"
        },
        {
         "name": "_deepnote_index_column",
         "dtype": "int64"
        }
       ],
       "rows_top": [
        {
         "volume [A^3]": 1208.301332,
         "weight [u]": 797.70936,
         "density [g/cm^3]": 1.0962731444331468,
         "surface_area [m^2/g]": 586.54,
         "MolWt": 46.069,
         "MolLogP": -0.0014,
         "NumValenceElectrons": 20,
         "HeavyAtomCount": 3,
         "NOCount": 1,
         "NumAliphaticRings": 0,
         "NumAromaticRings": 0,
         "NumHAcceptors": 1,
         "NumHDonors": 1,
         "NumHeteroatoms": 1,
         "NumRotatableBonds": 0,
         "void_fraction": 0.11392,
         "void_volume [cm^3/g]": 0.1039,
         "metal_linker": 2,
         "organic_linker1": 5,
         "organic_linker2": 26,
         "topology": "pcu",
         "CO2/N2_selectivity": 36.63979083,
         "heat_adsorption_CO2_P0.15bar_T298K [kcal/mol]": 7.00564,
         "MolecularWeight": 46.07,
         "XLogP": -0.1,
         "ExactMass": 46.041864811,
         "MonoisotopicMass": 46.041864811,
         "TPSA": 20.2,
         "Complexity": 2,
         "Charge": 0,
         "HBondDonorCount": 1,
         "HBondAcceptorCount": 1,
         "RotatableBondCount": 0,
         "IsotopeAtomCount": 0,
         "AtomStereoCount": 0,
         "DefinedAtomStereoCount": 0,
         "UndefinedAtomStereoCount": 0,
         "BondStereoCount": 0,
         "DefinedBondStereoCount": 0,
         "UndefinedBondStereoCount": 0,
         "CovalentUnitCount": 1,
         "_deepnote_index_column": 0
        },
        {
         "volume [A^3]": 4126.414623,
         "weight [u]": 3733.65779,
         "density [g/cm^3]": 1.5024879157924118,
         "surface_area [m^2/g]": 852.49,
         "MolWt": 127.912,
         "MolLogP": 0.6180000000000001,
         "NumValenceElectrons": 8,
         "HeavyAtomCount": 1,
         "NOCount": 0,
         "NumAliphaticRings": 0,
         "NumAromaticRings": 0,
         "NumHAcceptors": 0,
         "NumHDonors": 0,
         "NumHeteroatoms": 1,
         "NumRotatableBonds": 0,
         "void_fraction": 0.2136699999999999,
         "void_volume [cm^3/g]": 0.1422,
         "metal_linker": 4,
         "organic_linker1": 6,
         "organic_linker2": 17,
         "topology": "acs",
         "CO2/N2_selectivity": 18.39069095,
         "heat_adsorption_CO2_P0.15bar_T298K [kcal/mol]": 5.119399,
         "MolecularWeight": 127.9124,
         "XLogP": 0.9,
         "ExactMass": 127.9123,
         "MonoisotopicMass": 127.9123,
         "TPSA": 0,
         "Complexity": 0,
         "Charge": 0,
         "HBondDonorCount": 1,
         "HBondAcceptorCount": 0,
         "RotatableBondCount": 0,
         "IsotopeAtomCount": 0,
         "AtomStereoCount": 0,
         "DefinedAtomStereoCount": 0,
         "UndefinedAtomStereoCount": 0,
         "BondStereoCount": 0,
         "DefinedBondStereoCount": 0,
         "UndefinedBondStereoCount": 0,
         "CovalentUnitCount": 1,
         "_deepnote_index_column": 1
        },
        {
         "volume [A^3]": 1602.148373,
         "weight [u]": 747.21048,
         "density [g/cm^3]": 0.7744431860177033,
         "surface_area [m^2/g]": 3155.73,
         "MolWt": 43.025000000000006,
         "MolLogP": -0.16002,
         "NumValenceElectrons": 16,
         "HeavyAtomCount": 3,
         "NOCount": 2,
         "NumAliphaticRings": 0,
         "NumAromaticRings": 0,
         "NumHAcceptors": 2,
         "NumHDonors": 1,
         "NumHeteroatoms": 2,
         "NumRotatableBonds": 0,
         "void_fraction": 0.33883,
         "void_volume [cm^3/g]": 0.4375,
         "metal_linker": 3,
         "organic_linker1": 11,
         "organic_linker2": 17,
         "topology": "pcu",
         "CO2/N2_selectivity": 13.06285017,
         "heat_adsorption_CO2_P0.15bar_T298K [kcal/mol]": 5.0454,
         "MolecularWeight": 43.025,
         "XLogP": 0.1,
         "ExactMass": 43.005813655,
         "MonoisotopicMass": 43.005813655,
         "TPSA": 44,
         "Complexity": 31,
         "Charge": 0,
         "HBondDonorCount": 1,
         "HBondAcceptorCount": 2,
         "RotatableBondCount": 0,
         "IsotopeAtomCount": 0,
         "AtomStereoCount": 0,
         "DefinedAtomStereoCount": 0,
         "UndefinedAtomStereoCount": 0,
         "BondStereoCount": 0,
         "DefinedBondStereoCount": 0,
         "UndefinedBondStereoCount": 0,
         "CovalentUnitCount": 1,
         "_deepnote_index_column": 2
        },
        {
         "volume [A^3]": 2436.629312,
         "weight [u]": 995.80232,
         "density [g/cm^3]": 0.6786299320578805,
         "surface_area [m^2/g]": 3521.09,
         "MolWt": 32.042,
         "MolLogP": -0.3915,
         "NumValenceElectrons": 14,
         "HeavyAtomCount": 2,
         "NOCount": 1,
         "NumAliphaticRings": 0,
         "NumAromaticRings": 0,
         "NumHAcceptors": 1,
         "NumHDonors": 1,
         "NumHeteroatoms": 1,
         "NumRotatableBonds": 0,
         "void_fraction": 0.40464,
         "void_volume [cm^3/g]": 0.5963,
         "metal_linker": 2,
         "organic_linker1": 1,
         "organic_linker2": 28,
         "topology": "pcu",
         "CO2/N2_selectivity": 9.601197536,
         "heat_adsorption_CO2_P0.15bar_T298K [kcal/mol]": 5.106237999999999,
         "MolecularWeight": 32.042,
         "XLogP": -0.5,
         "ExactMass": 32.026214747,
         "MonoisotopicMass": 32.026214747,
         "TPSA": 20.2,
         "Complexity": 2,
         "Charge": 0,
         "HBondDonorCount": 1,
         "HBondAcceptorCount": 1,
         "RotatableBondCount": 0,
         "IsotopeAtomCount": 0,
         "AtomStereoCount": 0,
         "DefinedAtomStereoCount": 0,
         "UndefinedAtomStereoCount": 0,
         "BondStereoCount": 0,
         "DefinedBondStereoCount": 0,
         "UndefinedBondStereoCount": 0,
         "CovalentUnitCount": 1,
         "_deepnote_index_column": 3
        },
        {
         "volume [A^3]": 3123.418006,
         "weight [u]": 1337.538,
         "density [g/cm^3]": 0.7110912936576059,
         "surface_area [m^2/g]": 2678.46,
         "MolWt": 89.09400000000001,
         "MolLogP": 0.6730999999999999,
         "NumValenceElectrons": 36,
         "HeavyAtomCount": 6,
         "NOCount": 3,
         "NumAliphaticRings": 0,
         "NumAromaticRings": 0,
         "NumHAcceptors": 2,
         "NumHDonors": 0,
         "NumHeteroatoms": 3,
         "NumRotatableBonds": 2,
         "void_fraction": 0.38959,
         "void_volume [cm^3/g]": 0.5479,
         "metal_linker": 3,
         "organic_linker1": 8,
         "organic_linker2": 19,
         "topology": "pcu",
         "CO2/N2_selectivity": 12.97495429,
         "heat_adsorption_CO2_P0.15bar_T298K [kcal/mol]": 5.287639,
         "MolecularWeight": 89.09,
         "XLogP": 0.9,
         "ExactMass": 89.047678466,
         "MonoisotopicMass": 89.047678466,
         "TPSA": 45.8,
         "Complexity": 47,
         "Charge": 0,
         "HBondDonorCount": 0,
         "HBondAcceptorCount": 2,
         "RotatableBondCount": 1,
         "IsotopeAtomCount": 0,
         "AtomStereoCount": 0,
         "DefinedAtomStereoCount": 0,
         "UndefinedAtomStereoCount": 0,
         "BondStereoCount": 0,
         "DefinedBondStereoCount": 0,
         "UndefinedBondStereoCount": 0,
         "CovalentUnitCount": 1,
         "_deepnote_index_column": 4
        },
        {
         "volume [A^3]": 897.5894810000001,
         "weight [u]": 489.0192,
         "density [g/cm^3]": 0.9046852258822314,
         "surface_area [m^2/g]": 2185.94,
         "MolWt": 1.008,
         "MolLogP": 0.1125,
         "NumValenceElectrons": 1,
         "HeavyAtomCount": 0,
         "NOCount": 0,
         "NumAliphaticRings": 0,
         "NumAromaticRings": 0,
         "NumHAcceptors": 0,
         "NumHDonors": 0,
         "NumHeteroatoms": 0,
         "NumRotatableBonds": 0,
         "void_fraction": 0.32569,
         "void_volume [cm^3/g]": 0.36,
         "metal_linker": 3,
         "organic_linker1": 1,
         "organic_linker2": 10,
         "topology": "pcu",
         "CO2/N2_selectivity": 12.90693335,
         "heat_adsorption_CO2_P0.15bar_T298K [kcal/mol]": 5.080938,
         "MolecularWeight": 1.008,
         "XLogP": 0,
         "ExactMass": 1.0078250319,
         "MonoisotopicMass": 1.0078250319,
         "TPSA": 0,
         "Complexity": 0,
         "Charge": 0,
         "HBondDonorCount": 0,
         "HBondAcceptorCount": 0,
         "RotatableBondCount": 0,
         "IsotopeAtomCount": 0,
         "AtomStereoCount": 0,
         "DefinedAtomStereoCount": 0,
         "UndefinedAtomStereoCount": 0,
         "BondStereoCount": 0,
         "DefinedBondStereoCount": 0,
         "UndefinedBondStereoCount": 0,
         "CovalentUnitCount": 1,
         "_deepnote_index_column": 5
        },
        {
         "volume [A^3]": 2014.815495,
         "weight [u]": 1167.981056,
         "density [g/cm^3]": 0.962608867930232,
         "surface_area [m^2/g]": 1290.89,
         "MolWt": 50.032,
         "MolLogP": 0.5173000000000001,
         "NumValenceElectrons": 20,
         "HeavyAtomCount": 3,
         "NOCount": 1,
         "NumAliphaticRings": 0,
         "NumAromaticRings": 0,
         "NumHAcceptors": 1,
         "NumHDonors": 0,
         "NumHeteroatoms": 2,
         "NumRotatableBonds": 0,
         "void_fraction": 0.19322,
         "void_volume [cm^3/g]": 0.2007,
         "metal_linker": 2,
         "organic_linker1": 18,
         "organic_linker2": 22,
         "topology": "pcu",
         "CO2/N2_selectivity": 20.10836842,
         "heat_adsorption_CO2_P0.15bar_T298K [kcal/mol]": 6.149144000000001,
         "MolecularWeight": 50.032,
         "XLogP": 0.6,
         "ExactMass": 50.016792877,
         "MonoisotopicMass": 50.016792877,
         "TPSA": 9.2,
         "Complexity": 4,
         "Charge": 0,
         "HBondDonorCount": 0,
         "HBondAcceptorCount": 2,
         "RotatableBondCount": 0,
         "IsotopeAtomCount": 0,
         "AtomStereoCount": 0,
         "DefinedAtomStereoCount": 0,
         "UndefinedAtomStereoCount": 0,
         "BondStereoCount": 0,
         "DefinedBondStereoCount": 0,
         "UndefinedBondStereoCount": 0,
         "CovalentUnitCount": 1,
         "_deepnote_index_column": 6
        },
        {
         "volume [A^3]": 2789.9469,
         "weight [u]": 1332.49496,
         "density [g/cm^3]": 0.7930836177844102,
         "surface_area [m^2/g]": 2923.4,
         "MolWt": 32.042,
         "MolLogP": -0.3914999999999999,
         "NumValenceElectrons": 14,
         "HeavyAtomCount": 2,
         "NOCount": 1,
         "NumAliphaticRings": 0,
         "NumAromaticRings": 0,
         "NumHAcceptors": 1,
         "NumHDonors": 1,
         "NumHeteroatoms": 1,
         "NumRotatableBonds": 0,
         "void_fraction": 0.31513,
         "void_volume [cm^3/g]": 0.3974,
         "metal_linker": 9,
         "organic_linker1": 16,
         "organic_linker2": 20,
         "topology": "sra",
         "CO2/N2_selectivity": 35.9398719,
         "heat_adsorption_CO2_P0.15bar_T298K [kcal/mol]": 6.073856,
         "MolecularWeight": 32.042,
         "XLogP": -0.5,
         "ExactMass": 32.026214747,
         "MonoisotopicMass": 32.026214747,
         "TPSA": 20.2,
         "Complexity": 2,
         "Charge": 0,
         "HBondDonorCount": 1,
         "HBondAcceptorCount": 1,
         "RotatableBondCount": 0,
         "IsotopeAtomCount": 0,
         "AtomStereoCount": 0,
         "DefinedAtomStereoCount": 0,
         "UndefinedAtomStereoCount": 0,
         "BondStereoCount": 0,
         "DefinedBondStereoCount": 0,
         "UndefinedBondStereoCount": 0,
         "CovalentUnitCount": 1,
         "_deepnote_index_column": 7
        },
        {
         "volume [A^3]": 3408.040043,
         "weight [u]": 1408.36396,
         "density [g/cm^3]": 0.6862139706785129,
         "surface_area [m^2/g]": 2746.62,
         "MolWt": 60.096,
         "MolLogP": 0.3887,
         "NumValenceElectrons": 26,
         "HeavyAtomCount": 4,
         "NOCount": 1,
         "NumAliphaticRings": 0,
         "NumAromaticRings": 0,
         "NumHAcceptors": 1,
         "NumHDonors": 1,
         "NumHeteroatoms": 1,
         "NumRotatableBonds": 1,
         "void_fraction": 0.31454,
         "void_volume [cm^3/g]": 0.4584,
         "metal_linker": 2,
         "organic_linker1": 19,
         "organic_linker2": 29,
         "topology": "pcu",
         "CO2/N2_selectivity": 13.06927271,
         "heat_adsorption_CO2_P0.15bar_T298K [kcal/mol]": 5.112328,
         "MolecularWeight": 60.1,
         "XLogP": 0.3,
         "ExactMass": 60.057514874,
         "MonoisotopicMass": 60.057514874,
         "TPSA": 20.2,
         "Complexity": 7,
         "Charge": 0,
         "HBondDonorCount": 1,
         "HBondAcceptorCount": 1,
         "RotatableBondCount": 1,
         "IsotopeAtomCount": 0,
         "AtomStereoCount": 0,
         "DefinedAtomStereoCount": 0,
         "UndefinedAtomStereoCount": 0,
         "BondStereoCount": 0,
         "DefinedBondStereoCount": 0,
         "UndefinedBondStereoCount": 0,
         "CovalentUnitCount": 1,
         "_deepnote_index_column": 8
        },
        {
         "volume [A^3]": 1518.580764,
         "weight [u]": 1101.64884,
         "density [g/cm^3]": 1.2046326465739428,
         "surface_area [m^2/g]": 731.03,
         "MolWt": 108.92199999999998,
         "MolLogP": 0.5715,
         "NumValenceElectrons": 18,
         "HeavyAtomCount": 3,
         "NOCount": 1,
         "NumAliphaticRings": 0,
         "NumAromaticRings": 0,
         "NumHAcceptors": 1,
         "NumHDonors": 0,
         "NumHeteroatoms": 2,
         "NumRotatableBonds": 0,
         "void_fraction": 0.14728,
         "void_volume [cm^3/g]": 0.1223,
         "metal_linker": 2,
         "organic_linker1": 9,
         "organic_linker2": 16,
         "topology": "pcu",
         "CO2/N2_selectivity": 27.95723885,
         "heat_adsorption_CO2_P0.15bar_T298K [kcal/mol]": 6.705177000000001,
         "MolecularWeight": 108.92,
         "XLogP": 0.8,
         "ExactMass": 107.92108,
         "MonoisotopicMass": 107.92108,
         "TPSA": 17.1,
         "Complexity": 12,
         "Charge": 0,
         "HBondDonorCount": 0,
         "HBondAcceptorCount": 1,
         "RotatableBondCount": 0,
         "IsotopeAtomCount": 0,
         "AtomStereoCount": 0,
         "DefinedAtomStereoCount": 0,
         "UndefinedAtomStereoCount": 0,
         "BondStereoCount": 0,
         "DefinedBondStereoCount": 0,
         "UndefinedBondStereoCount": 0,
         "CovalentUnitCount": 1,
         "_deepnote_index_column": 9
        },
        {
         "volume [A^3]": 2708.974802,
         "weight [u]": 979.59148,
         "density [g/cm^3]": 0.60046731885371,
         "surface_area [m^2/g]": 3256.18,
         "MolWt": 111.122,
         "MolLogP": -0.9913999999999998,
         "NumValenceElectrons": 38,
         "HeavyAtomCount": 6,
         "NOCount": 4,
         "NumAliphaticRings": 0,
         "NumAromaticRings": 0,
         "NumHAcceptors": 2,
         "NumHDonors": 2,
         "NumHeteroatoms": 5,
         "NumRotatableBonds": 1,
         "void_fraction": 0.45742,
         "void_volume [cm^3/g]": 0.7618,
         "metal_linker": 3,
         "organic_linker1": 16,
         "organic_linker2": 26,
         "topology": "pcu",
         "CO2/N2_selectivity": 11.52298495,
         "heat_adsorption_CO2_P0.15bar_T298K [kcal/mol]": 4.794058000000001,
         "MolecularWeight": 111.12,
         "XLogP": -1.2,
         "ExactMass": 110.9990142,
         "MonoisotopicMass": 110.9990142,
         "TPSA": 74.8,
         "Complexity": 107,
         "Charge": 0,
         "HBondDonorCount": 2,
         "HBondAcceptorCount": 4,
         "RotatableBondCount": 1,
         "IsotopeAtomCount": 0,
         "AtomStereoCount": 0,
         "DefinedAtomStereoCount": 0,
         "UndefinedAtomStereoCount": 0,
         "BondStereoCount": 0,
         "DefinedBondStereoCount": 0,
         "UndefinedBondStereoCount": 0,
         "CovalentUnitCount": 1,
         "_deepnote_index_column": 10
        },
        {
         "volume [A^3]": 8636.655182999999,
         "weight [u]": 4673.04688,
         "density [g/cm^3]": 0.8984706581072267,
         "surface_area [m^2/g]": 1791.73,
         "MolWt": 62.028,
         "MolLogP": -0.8632,
         "NumValenceElectrons": 24,
         "HeavyAtomCount": 4,
         "NOCount": 4,
         "NumAliphaticRings": 0,
         "NumAromaticRings": 0,
         "NumHAcceptors": 2,
         "NumHDonors": 1,
         "NumHeteroatoms": 4,
         "NumRotatableBonds": 0,
         "void_fraction": 0.31231,
         "void_volume [cm^3/g]": 0.3476,
         "metal_linker": 1,
         "organic_linker1": 15,
         "organic_linker2": 24,
         "topology": "pcu",
         "CO2/N2_selectivity": 13.49723945,
         "heat_adsorption_CO2_P0.15bar_T298K [kcal/mol]": 5.320612000000001,
         "MolecularWeight": 62.028,
         "XLogP": -0.2,
         "ExactMass": 62.011627311,
         "MonoisotopicMass": 62.011627311,
         "TPSA": 71.8,
         "Complexity": 25,
         "Charge": 0,
         "HBondDonorCount": 1,
         "HBondAcceptorCount": 3,
         "RotatableBondCount": 0,
         "IsotopeAtomCount": 0,
         "AtomStereoCount": 0,
         "DefinedAtomStereoCount": 0,
         "UndefinedAtomStereoCount": 0,
         "BondStereoCount": 0,
         "DefinedBondStereoCount": 0,
         "UndefinedBondStereoCount": 0,
         "CovalentUnitCount": 1,
         "_deepnote_index_column": 11
        }
       ],
       "rows_bottom": [
        {
         "volume [A^3]": 13441.533326,
         "weight [u]": 4864.146662,
         "density [g/cm^3]": 0.6009068982103329,
         "surface_area [m^2/g]": 3297.84,
         "MolWt": 45.016,
         "MolLogP": 0.43698,
         "NumValenceElectrons": 16,
         "HeavyAtomCount": 3,
         "NOCount": 1,
         "NumAliphaticRings": 0,
         "NumAromaticRings": 0,
         "NumHAcceptors": 1,
         "NumHDonors": 0,
         "NumHeteroatoms": 2,
         "NumRotatableBonds": 0,
         "void_fraction": 0.54285,
         "void_volume [cm^3/g]": 0.9034,
         "metal_linker": 1,
         "organic_linker1": 4,
         "organic_linker2": 7,
         "topology": "pcu",
         "CO2/N2_selectivity": 4.936430871000001,
         "heat_adsorption_CO2_P0.15bar_T298K [kcal/mol]": 3.501781,
         "MolecularWeight": 45.016,
         "XLogP": 0.5,
         "ExactMass": 45.001477166,
         "MonoisotopicMass": 45.001477166,
         "TPSA": 23.8,
         "Complexity": 31,
         "Charge": 0,
         "HBondDonorCount": 0,
         "HBondAcceptorCount": 2,
         "RotatableBondCount": 0,
         "IsotopeAtomCount": 0,
         "AtomStereoCount": 0,
         "DefinedAtomStereoCount": 0,
         "UndefinedAtomStereoCount": 0,
         "BondStereoCount": 0,
         "DefinedBondStereoCount": 0,
         "UndefinedBondStereoCount": 0,
         "CovalentUnitCount": 1,
         "_deepnote_index_column": 16988
        },
        {
         "volume [A^3]": 6819.273612000001,
         "weight [u]": 1690.8329199999998,
         "density [g/cm^3]": 0.411729438753718,
         "surface_area [m^2/g]": 4101.48,
         "MolWt": 95.927,
         "MolLogP": 0.2550000000000001,
         "NumValenceElectrons": 14,
         "HeavyAtomCount": 2,
         "NOCount": 1,
         "NumAliphaticRings": 0,
         "NumAromaticRings": 0,
         "NumHAcceptors": 1,
         "NumHDonors": 1,
         "NumHeteroatoms": 2,
         "NumRotatableBonds": 0,
         "void_fraction": 0.68872,
         "void_volume [cm^3/g]": 1.6728,
         "metal_linker": 3,
         "organic_linker1": 3,
         "organic_linker2": 27,
         "topology": "pcu",
         "CO2/N2_selectivity": 4.231240069,
         "heat_adsorption_CO2_P0.15bar_T298K [kcal/mol]": 3.272748,
         "MolecularWeight": 95.93,
         "XLogP": 94.93706,
         "ExactMass": 94.93706,
         "MonoisotopicMass": 26,
         "TPSA": 2,
         "Complexity": 0,
         "Charge": 1,
         "HBondDonorCount": 1,
         "HBondAcceptorCount": 0,
         "RotatableBondCount": 2,
         "IsotopeAtomCount": 0,
         "AtomStereoCount": 0,
         "DefinedAtomStereoCount": 0,
         "UndefinedAtomStereoCount": 0,
         "BondStereoCount": 0,
         "DefinedBondStereoCount": 0,
         "UndefinedBondStereoCount": 1,
         "CovalentUnitCount": 37.3,
         "_deepnote_index_column": 16989
        },
        {
         "volume [A^3]": 13752.870784,
         "weight [u]": 4508.6452,
         "density [g/cm^3]": 0.5443798475237677,
         "surface_area [m^2/g]": 3210.63,
         "MolWt": 80.91199999999999,
         "MolLogP": 0.5779000000000001,
         "NumValenceElectrons": 8,
         "HeavyAtomCount": 1,
         "NOCount": 0,
         "NumAliphaticRings": 0,
         "NumAromaticRings": 0,
         "NumHAcceptors": 0,
         "NumHDonors": 0,
         "NumHeteroatoms": 1,
         "NumRotatableBonds": 0,
         "void_fraction": 0.67375,
         "void_volume [cm^3/g]": 1.2377,
         "metal_linker": 2,
         "organic_linker1": 3,
         "organic_linker2": 3,
         "topology": "pcu",
         "CO2/N2_selectivity": 4.089437693,
         "heat_adsorption_CO2_P0.15bar_T298K [kcal/mol]": 3.903029,
         "MolecularWeight": 80.91,
         "XLogP": 1,
         "ExactMass": 79.92616,
         "MonoisotopicMass": 79.92616,
         "TPSA": 0,
         "Complexity": 0,
         "Charge": 0,
         "HBondDonorCount": 1,
         "HBondAcceptorCount": 0,
         "RotatableBondCount": 0,
         "IsotopeAtomCount": 0,
         "AtomStereoCount": 0,
         "DefinedAtomStereoCount": 0,
         "UndefinedAtomStereoCount": 0,
         "BondStereoCount": 0,
         "DefinedBondStereoCount": 0,
         "UndefinedBondStereoCount": 0,
         "CovalentUnitCount": 1,
         "_deepnote_index_column": 16990
        },
        {
         "volume [A^3]": 2783.094965,
         "weight [u]": 1329.3583199999998,
         "density [g/cm^3]": 0.7931646934271249,
         "surface_area [m^2/g]": 2696.63,
         "MolWt": 155.96599999999998,
         "MolLogP": 1.4413,
         "NumValenceElectrons": 20,
         "HeavyAtomCount": 3,
         "NOCount": 0,
         "NumAliphaticRings": 0,
         "NumAromaticRings": 0,
         "NumHAcceptors": 0,
         "NumHDonors": 0,
         "NumHeteroatoms": 1,
         "NumRotatableBonds": 0,
         "void_fraction": 0.46396,
         "void_volume [cm^3/g]": 0.585,
         "metal_linker": 2,
         "organic_linker1": 8,
         "organic_linker2": 24,
         "topology": "pcu",
         "CO2/N2_selectivity": 5.84158825,
         "heat_adsorption_CO2_P0.15bar_T298K [kcal/mol]": 3.887196,
         "MolecularWeight": 155.97,
         "XLogP": 2.1,
         "ExactMass": 155.9436,
         "MonoisotopicMass": 155.9436,
         "TPSA": 0,
         "Complexity": 2,
         "Charge": 0,
         "HBondDonorCount": 0,
         "HBondAcceptorCount": 0,
         "RotatableBondCount": 0,
         "IsotopeAtomCount": 0,
         "AtomStereoCount": 0,
         "DefinedAtomStereoCount": 0,
         "UndefinedAtomStereoCount": 0,
         "BondStereoCount": 0,
         "DefinedBondStereoCount": 0,
         "UndefinedBondStereoCount": 0,
         "CovalentUnitCount": 1,
         "_deepnote_index_column": 16991
        },
        {
         "volume [A^3]": 2589.507907,
         "weight [u]": 787.46432,
         "density [g/cm^3]": 0.5049669855797818,
         "surface_area [m^2/g]": 4635.78,
         "MolWt": 46.005,
         "MolLogP": -0.4136000000000001,
         "NumValenceElectrons": 17,
         "HeavyAtomCount": 3,
         "NOCount": 3,
         "NumAliphaticRings": 0,
         "NumAromaticRings": 0,
         "NumHAcceptors": 3,
         "NumHDonors": 0,
         "NumHeteroatoms": 3,
         "NumRotatableBonds": 0,
         "void_fraction": 0.5582,
         "void_volume [cm^3/g]": 1.1054,
         "metal_linker": 2,
         "organic_linker1": 6,
         "organic_linker2": 11,
         "topology": "pcu",
         "CO2/N2_selectivity": 4.062733892,
         "heat_adsorption_CO2_P0.15bar_T298K [kcal/mol]": 3.208315,
         "MolecularWeight": 47.014,
         "XLogP": -0.3,
         "ExactMass": 47.000728275,
         "MonoisotopicMass": 47.000728275,
         "TPSA": 49.7,
         "Complexity": 10,
         "Charge": 0,
         "HBondDonorCount": 1,
         "HBondAcceptorCount": 3,
         "RotatableBondCount": 0,
         "IsotopeAtomCount": 0,
         "AtomStereoCount": 0,
         "DefinedAtomStereoCount": 0,
         "UndefinedAtomStereoCount": 0,
         "BondStereoCount": 0,
         "DefinedBondStereoCount": 0,
         "UndefinedBondStereoCount": 0,
         "CovalentUnitCount": 1,
         "_deepnote_index_column": 16992
        },
        {
         "volume [A^3]": 27365.782947000003,
         "weight [u]": 6971.820448,
         "density [g/cm^3]": 0.4230460626375412,
         "surface_area [m^2/g]": 4021.62,
         "MolWt": 65.003,
         "MolLogP": 0.1475999999999999,
         "NumValenceElectrons": 24,
         "HeavyAtomCount": 4,
         "NOCount": 3,
         "NumAliphaticRings": 0,
         "NumAromaticRings": 0,
         "NumHAcceptors": 2,
         "NumHDonors": 0,
         "NumHeteroatoms": 4,
         "NumRotatableBonds": 0,
         "void_fraction": 0.68098,
         "void_volume [cm^3/g]": 1.6097,
         "metal_linker": 3,
         "organic_linker1": 4,
         "organic_linker2": 20,
         "topology": "nbo",
         "CO2/N2_selectivity": 3.938447215,
         "heat_adsorption_CO2_P0.15bar_T298K [kcal/mol]": 3.045902,
         "MolecularWeight": 65.004,
         "XLogP": 64.9913064,
         "ExactMass": 64.9913064,
         "MonoisotopicMass": 45.8,
         "TPSA": 27,
         "Complexity": 0,
         "Charge": 0,
         "HBondDonorCount": 3,
         "HBondAcceptorCount": 0,
         "RotatableBondCount": 4,
         "IsotopeAtomCount": 0,
         "AtomStereoCount": 0,
         "DefinedAtomStereoCount": 0,
         "UndefinedAtomStereoCount": 0,
         "BondStereoCount": 0,
         "DefinedBondStereoCount": 0,
         "UndefinedBondStereoCount": 1,
         "CovalentUnitCount": 36.4,
         "_deepnote_index_column": 16993
        },
        {
         "volume [A^3]": 5021.462092,
         "weight [u]": 1409.05468,
         "density [g/cm^3]": 0.4659582439255821,
         "surface_area [m^2/g]": 4028.85,
         "MolWt": 1.008,
         "MolLogP": 0.1125,
         "NumValenceElectrons": 1,
         "HeavyAtomCount": 0,
         "NOCount": 0,
         "NumAliphaticRings": 0,
         "NumAromaticRings": 0,
         "NumHAcceptors": 0,
         "NumHDonors": 0,
         "NumHeteroatoms": 0,
         "NumRotatableBonds": 0,
         "void_fraction": 0.6235,
         "void_volume [cm^3/g]": 1.3381,
         "metal_linker": 3,
         "organic_linker1": 1,
         "organic_linker2": 22,
         "topology": "nbo",
         "CO2/N2_selectivity": 3.417419627,
         "heat_adsorption_CO2_P0.15bar_T298K [kcal/mol]": 2.822775,
         "MolecularWeight": 1.008,
         "XLogP": 0,
         "ExactMass": 1.0078250319,
         "MonoisotopicMass": 1.0078250319,
         "TPSA": 0,
         "Complexity": 0,
         "Charge": 0,
         "HBondDonorCount": 0,
         "HBondAcceptorCount": 0,
         "RotatableBondCount": 0,
         "IsotopeAtomCount": 0,
         "AtomStereoCount": 0,
         "DefinedAtomStereoCount": 0,
         "UndefinedAtomStereoCount": 0,
         "BondStereoCount": 0,
         "DefinedBondStereoCount": 0,
         "UndefinedBondStereoCount": 0,
         "CovalentUnitCount": 1,
         "_deepnote_index_column": 16994
        },
        {
         "volume [A^3]": 32660.944605,
         "weight [u]": 4723.682879999999,
         "density [g/cm^3]": 0.2401603647542513,
         "surface_area [m^2/g]": 5720.14,
         "MolWt": 63.01200000000001,
         "MolLogP": -0.3477,
         "NumValenceElectrons": 24,
         "HeavyAtomCount": 4,
         "NOCount": 4,
         "NumAliphaticRings": 0,
         "NumAromaticRings": 0,
         "NumHAcceptors": 2,
         "NumHDonors": 1,
         "NumHeteroatoms": 4,
         "NumRotatableBonds": 0,
         "void_fraction": 0.7761399999999999,
         "void_volume [cm^3/g]": 3.2318,
         "metal_linker": 3,
         "organic_linker1": 3,
         "organic_linker2": 14,
         "topology": "nbo",
         "CO2/N2_selectivity": 4.536625621000001,
         "heat_adsorption_CO2_P0.15bar_T298K [kcal/mol]": 3.146698,
         "MolecularWeight": 63.013,
         "XLogP": 0.2,
         "ExactMass": 62.995642894,
         "MonoisotopicMass": 62.995642894,
         "TPSA": 66,
         "Complexity": 24,
         "Charge": 0,
         "HBondDonorCount": 1,
         "HBondAcceptorCount": 3,
         "RotatableBondCount": 0,
         "IsotopeAtomCount": 0,
         "AtomStereoCount": 0,
         "DefinedAtomStereoCount": 0,
         "UndefinedAtomStereoCount": 0,
         "BondStereoCount": 0,
         "DefinedBondStereoCount": 0,
         "UndefinedBondStereoCount": 0,
         "CovalentUnitCount": 1,
         "_deepnote_index_column": 16995
        },
        {
         "volume [A^3]": 5070.998617,
         "weight [u]": 1499.13262,
         "density [g/cm^3]": 0.4909032458556476,
         "surface_area [m^2/g]": 4017.28,
         "MolWt": 46.069,
         "MolLogP": 0.2626,
         "NumValenceElectrons": 20,
         "HeavyAtomCount": 3,
         "NOCount": 1,
         "NumAliphaticRings": 0,
         "NumAromaticRings": 0,
         "NumHAcceptors": 1,
         "NumHDonors": 0,
         "NumHeteroatoms": 1,
         "NumRotatableBonds": 0,
         "void_fraction": 0.59192,
         "void_volume [cm^3/g]": 1.2058,
         "metal_linker": 3,
         "organic_linker1": 1,
         "organic_linker2": 11,
         "topology": "nbo",
         "CO2/N2_selectivity": 6.745507689,
         "heat_adsorption_CO2_P0.15bar_T298K [kcal/mol]": 3.658871,
         "MolecularWeight": 46.07,
         "XLogP": 0.1,
         "ExactMass": 46.041864811,
         "MonoisotopicMass": 46.041864811,
         "TPSA": 9.2,
         "Complexity": 2,
         "Charge": 0,
         "HBondDonorCount": 0,
         "HBondAcceptorCount": 1,
         "RotatableBondCount": 0,
         "IsotopeAtomCount": 0,
         "AtomStereoCount": 0,
         "DefinedAtomStereoCount": 0,
         "UndefinedAtomStereoCount": 0,
         "BondStereoCount": 0,
         "DefinedBondStereoCount": 0,
         "UndefinedBondStereoCount": 0,
         "CovalentUnitCount": 1,
         "_deepnote_index_column": 16996
        },
        {
         "volume [A^3]": 4669.804446,
         "weight [u]": 1322.04892,
         "density [g/cm^3]": 0.4701085749955191,
         "surface_area [m^2/g]": 4288.76,
         "MolWt": 41.053,
         "MolLogP": 0.52988,
         "NumValenceElectrons": 16,
         "HeavyAtomCount": 3,
         "NOCount": 1,
         "NumAliphaticRings": 0,
         "NumAromaticRings": 0,
         "NumHAcceptors": 1,
         "NumHDonors": 0,
         "NumHeteroatoms": 1,
         "NumRotatableBonds": 0,
         "void_fraction": 0.5495,
         "void_volume [cm^3/g]": 1.1689,
         "metal_linker": 2,
         "organic_linker1": 7,
         "organic_linker2": 23,
         "topology": "pcu",
         "CO2/N2_selectivity": 4.666206015,
         "heat_adsorption_CO2_P0.15bar_T298K [kcal/mol]": 3.593052,
         "MolecularWeight": 41.05,
         "XLogP": 0,
         "ExactMass": 41.0265491,
         "MonoisotopicMass": 41.0265491,
         "TPSA": 23.8,
         "Complexity": 29,
         "Charge": 0,
         "HBondDonorCount": 0,
         "HBondAcceptorCount": 1,
         "RotatableBondCount": 0,
         "IsotopeAtomCount": 0,
         "AtomStereoCount": 0,
         "DefinedAtomStereoCount": 0,
         "UndefinedAtomStereoCount": 0,
         "BondStereoCount": 0,
         "DefinedBondStereoCount": 0,
         "UndefinedBondStereoCount": 0,
         "CovalentUnitCount": 1,
         "_deepnote_index_column": 16997
        },
        {
         "volume [A^3]": 4682.120862,
         "weight [u]": 1213.51148,
         "density [g/cm^3]": 0.4303785426287442,
         "surface_area [m^2/g]": 4331.86,
         "MolWt": 46.025,
         "MolLogP": -0.2991999999999999,
         "NumValenceElectrons": 18,
         "HeavyAtomCount": 3,
         "NOCount": 2,
         "NumAliphaticRings": 0,
         "NumAromaticRings": 0,
         "NumHAcceptors": 1,
         "NumHDonors": 1,
         "NumHeteroatoms": 2,
         "NumRotatableBonds": 0,
         "void_fraction": 0.60643,
         "void_volume [cm^3/g]": 1.4091,
         "metal_linker": 3,
         "organic_linker1": 7,
         "organic_linker2": 25,
         "topology": "pcu",
         "CO2/N2_selectivity": 4.82330486,
         "heat_adsorption_CO2_P0.15bar_T298K [kcal/mol]": 3.454497,
         "MolecularWeight": 46.025,
         "XLogP": -0.2,
         "ExactMass": 46.005479302,
         "MonoisotopicMass": 46.005479302,
         "TPSA": 37.3,
         "Complexity": 10,
         "Charge": 0,
         "HBondDonorCount": 1,
         "HBondAcceptorCount": 2,
         "RotatableBondCount": 0,
         "IsotopeAtomCount": 0,
         "AtomStereoCount": 0,
         "DefinedAtomStereoCount": 0,
         "UndefinedAtomStereoCount": 0,
         "BondStereoCount": 0,
         "DefinedBondStereoCount": 0,
         "UndefinedBondStereoCount": 0,
         "CovalentUnitCount": 1,
         "_deepnote_index_column": 16998
        },
        {
         "volume [A^3]": 25702.628698,
         "weight [u]": 4793.21712,
         "density [g/cm^3]": 0.3096698337732335,
         "surface_area [m^2/g]": 5006.39,
         "MolWt": 32.042,
         "MolLogP": -0.3915,
         "NumValenceElectrons": 14,
         "HeavyAtomCount": 2,
         "NOCount": 1,
         "NumAliphaticRings": 0,
         "NumAromaticRings": 0,
         "NumHAcceptors": 1,
         "NumHDonors": 1,
         "NumHeteroatoms": 1,
         "NumRotatableBonds": 0,
         "void_fraction": 0.7173,
         "void_volume [cm^3/g]": 2.3163,
         "metal_linker": 1,
         "organic_linker1": 2,
         "organic_linker2": 27,
         "topology": "pcu",
         "CO2/N2_selectivity": 4.278184385,
         "heat_adsorption_CO2_P0.15bar_T298K [kcal/mol]": 3.169874,
         "MolecularWeight": 32.042,
         "XLogP": -0.5,
         "ExactMass": 32.026214747,
         "MonoisotopicMass": 32.026214747,
         "TPSA": 20.2,
         "Complexity": 2,
         "Charge": 0,
         "HBondDonorCount": 1,
         "HBondAcceptorCount": 1,
         "RotatableBondCount": 0,
         "IsotopeAtomCount": 0,
         "AtomStereoCount": 0,
         "DefinedAtomStereoCount": 0,
         "UndefinedAtomStereoCount": 0,
         "BondStereoCount": 0,
         "DefinedBondStereoCount": 0,
         "UndefinedBondStereoCount": 0,
         "CovalentUnitCount": 1,
         "_deepnote_index_column": 16999
        }
       ]
      },
      "text/plain": "       volume [A^3]  weight [u]  density [g/cm^3]  surface_area [m^2/g]  \\\n0       1208.301332   797.70936          1.096273                586.54   \n1       4126.414623  3733.65779          1.502488                852.49   \n2       1602.148373   747.21048          0.774443               3155.73   \n3       2436.629312   995.80232          0.678630               3521.09   \n4       3123.418006  1337.53800          0.711091               2678.46   \n...             ...         ...               ...                   ...   \n16995  32660.944605  4723.68288          0.240160               5720.14   \n16996   5070.998617  1499.13262          0.490903               4017.28   \n16997   4669.804446  1322.04892          0.470109               4288.76   \n16998   4682.120862  1213.51148          0.430379               4331.86   \n16999  25702.628698  4793.21712          0.309670               5006.39   \n\n         MolWt  MolLogP  NumValenceElectrons  HeavyAtomCount  NOCount  \\\n0       46.069 -0.00140                   20               3        1   \n1      127.912  0.61800                    8               1        0   \n2       43.025 -0.16002                   16               3        2   \n3       32.042 -0.39150                   14               2        1   \n4       89.094  0.67310                   36               6        3   \n...        ...      ...                  ...             ...      ...   \n16995   63.012 -0.34770                   24               4        4   \n16996   46.069  0.26260                   20               3        1   \n16997   41.053  0.52988                   16               3        1   \n16998   46.025 -0.29920                   18               3        2   \n16999   32.042 -0.39150                   14               2        1   \n\n       NumAliphaticRings  ...  HBondAcceptorCount  RotatableBondCount  \\\n0                      0  ...                   1                   0   \n1                      0  ...                   0                   0   \n2                      0  ...                   2                   0   \n3                      0  ...                   1                   0   \n4                      0  ...                   2                   1   \n...                  ...  ...                 ...                 ...   \n16995                  0  ...                   3                   0   \n16996                  0  ...                   1                   0   \n16997                  0  ...                   1                   0   \n16998                  0  ...                   2                   0   \n16999                  0  ...                   1                   0   \n\n       IsotopeAtomCount  AtomStereoCount  DefinedAtomStereoCount  \\\n0                     0                0                       0   \n1                     0                0                       0   \n2                     0                0                       0   \n3                     0                0                       0   \n4                     0                0                       0   \n...                 ...              ...                     ...   \n16995                 0                0                       0   \n16996                 0                0                       0   \n16997                 0                0                       0   \n16998                 0                0                       0   \n16999                 0                0                       0   \n\n       UndefinedAtomStereoCount  BondStereoCount DefinedBondStereoCount  \\\n0                             0                0                      0   \n1                             0                0                      0   \n2                             0                0                      0   \n3                             0                0                      0   \n4                             0                0                      0   \n...                         ...              ...                    ...   \n16995                         0                0                      0   \n16996                         0                0                      0   \n16997                         0                0                      0   \n16998                         0                0                      0   \n16999                         0                0                      0   \n\n      UndefinedBondStereoCount CovalentUnitCount  \n0                            0               1.0  \n1                            0               1.0  \n2                            0               1.0  \n3                            0               1.0  \n4                            0               1.0  \n...                        ...               ...  \n16995                        0               1.0  \n16996                        0               1.0  \n16997                        0               1.0  \n16998                        0               1.0  \n16999                        0               1.0  \n\n[17000 rows x 41 columns]",
      "text/html": "<div>\n<style scoped>\n    .dataframe tbody tr th:only-of-type {\n        vertical-align: middle;\n    }\n\n    .dataframe tbody tr th {\n        vertical-align: top;\n    }\n\n    .dataframe thead th {\n        text-align: right;\n    }\n</style>\n<table border=\"1\" class=\"dataframe\">\n  <thead>\n    <tr style=\"text-align: right;\">\n      <th></th>\n      <th>volume [A^3]</th>\n      <th>weight [u]</th>\n      <th>density [g/cm^3]</th>\n      <th>surface_area [m^2/g]</th>\n      <th>MolWt</th>\n      <th>MolLogP</th>\n      <th>NumValenceElectrons</th>\n      <th>HeavyAtomCount</th>\n      <th>NOCount</th>\n      <th>NumAliphaticRings</th>\n      <th>...</th>\n      <th>HBondAcceptorCount</th>\n      <th>RotatableBondCount</th>\n      <th>IsotopeAtomCount</th>\n      <th>AtomStereoCount</th>\n      <th>DefinedAtomStereoCount</th>\n      <th>UndefinedAtomStereoCount</th>\n      <th>BondStereoCount</th>\n      <th>DefinedBondStereoCount</th>\n      <th>UndefinedBondStereoCount</th>\n      <th>CovalentUnitCount</th>\n    </tr>\n  </thead>\n  <tbody>\n    <tr>\n      <th>0</th>\n      <td>1208.301332</td>\n      <td>797.70936</td>\n      <td>1.096273</td>\n      <td>586.54</td>\n      <td>46.069</td>\n      <td>-0.00140</td>\n      <td>20</td>\n      <td>3</td>\n      <td>1</td>\n      <td>0</td>\n      <td>...</td>\n      <td>1</td>\n      <td>0</td>\n      <td>0</td>\n      <td>0</td>\n      <td>0</td>\n      <td>0</td>\n      <td>0</td>\n      <td>0</td>\n      <td>0</td>\n      <td>1.0</td>\n    </tr>\n    <tr>\n      <th>1</th>\n      <td>4126.414623</td>\n      <td>3733.65779</td>\n      <td>1.502488</td>\n      <td>852.49</td>\n      <td>127.912</td>\n      <td>0.61800</td>\n      <td>8</td>\n      <td>1</td>\n      <td>0</td>\n      <td>0</td>\n      <td>...</td>\n      <td>0</td>\n      <td>0</td>\n      <td>0</td>\n      <td>0</td>\n      <td>0</td>\n      <td>0</td>\n      <td>0</td>\n      <td>0</td>\n      <td>0</td>\n      <td>1.0</td>\n    </tr>\n    <tr>\n      <th>2</th>\n      <td>1602.148373</td>\n      <td>747.21048</td>\n      <td>0.774443</td>\n      <td>3155.73</td>\n      <td>43.025</td>\n      <td>-0.16002</td>\n      <td>16</td>\n      <td>3</td>\n      <td>2</td>\n      <td>0</td>\n      <td>...</td>\n      <td>2</td>\n      <td>0</td>\n      <td>0</td>\n      <td>0</td>\n      <td>0</td>\n      <td>0</td>\n      <td>0</td>\n      <td>0</td>\n      <td>0</td>\n      <td>1.0</td>\n    </tr>\n    <tr>\n      <th>3</th>\n      <td>2436.629312</td>\n      <td>995.80232</td>\n      <td>0.678630</td>\n      <td>3521.09</td>\n      <td>32.042</td>\n      <td>-0.39150</td>\n      <td>14</td>\n      <td>2</td>\n      <td>1</td>\n      <td>0</td>\n      <td>...</td>\n      <td>1</td>\n      <td>0</td>\n      <td>0</td>\n      <td>0</td>\n      <td>0</td>\n      <td>0</td>\n      <td>0</td>\n      <td>0</td>\n      <td>0</td>\n      <td>1.0</td>\n    </tr>\n    <tr>\n      <th>4</th>\n      <td>3123.418006</td>\n      <td>1337.53800</td>\n      <td>0.711091</td>\n      <td>2678.46</td>\n      <td>89.094</td>\n      <td>0.67310</td>\n      <td>36</td>\n      <td>6</td>\n      <td>3</td>\n      <td>0</td>\n      <td>...</td>\n      <td>2</td>\n      <td>1</td>\n      <td>0</td>\n      <td>0</td>\n      <td>0</td>\n      <td>0</td>\n      <td>0</td>\n      <td>0</td>\n      <td>0</td>\n      <td>1.0</td>\n    </tr>\n    <tr>\n      <th>...</th>\n      <td>...</td>\n      <td>...</td>\n      <td>...</td>\n      <td>...</td>\n      <td>...</td>\n      <td>...</td>\n      <td>...</td>\n      <td>...</td>\n      <td>...</td>\n      <td>...</td>\n      <td>...</td>\n      <td>...</td>\n      <td>...</td>\n      <td>...</td>\n      <td>...</td>\n      <td>...</td>\n      <td>...</td>\n      <td>...</td>\n      <td>...</td>\n      <td>...</td>\n      <td>...</td>\n    </tr>\n    <tr>\n      <th>16995</th>\n      <td>32660.944605</td>\n      <td>4723.68288</td>\n      <td>0.240160</td>\n      <td>5720.14</td>\n      <td>63.012</td>\n      <td>-0.34770</td>\n      <td>24</td>\n      <td>4</td>\n      <td>4</td>\n      <td>0</td>\n      <td>...</td>\n      <td>3</td>\n      <td>0</td>\n      <td>0</td>\n      <td>0</td>\n      <td>0</td>\n      <td>0</td>\n      <td>0</td>\n      <td>0</td>\n      <td>0</td>\n      <td>1.0</td>\n    </tr>\n    <tr>\n      <th>16996</th>\n      <td>5070.998617</td>\n      <td>1499.13262</td>\n      <td>0.490903</td>\n      <td>4017.28</td>\n      <td>46.069</td>\n      <td>0.26260</td>\n      <td>20</td>\n      <td>3</td>\n      <td>1</td>\n      <td>0</td>\n      <td>...</td>\n      <td>1</td>\n      <td>0</td>\n      <td>0</td>\n      <td>0</td>\n      <td>0</td>\n      <td>0</td>\n      <td>0</td>\n      <td>0</td>\n      <td>0</td>\n      <td>1.0</td>\n    </tr>\n    <tr>\n      <th>16997</th>\n      <td>4669.804446</td>\n      <td>1322.04892</td>\n      <td>0.470109</td>\n      <td>4288.76</td>\n      <td>41.053</td>\n      <td>0.52988</td>\n      <td>16</td>\n      <td>3</td>\n      <td>1</td>\n      <td>0</td>\n      <td>...</td>\n      <td>1</td>\n      <td>0</td>\n      <td>0</td>\n      <td>0</td>\n      <td>0</td>\n      <td>0</td>\n      <td>0</td>\n      <td>0</td>\n      <td>0</td>\n      <td>1.0</td>\n    </tr>\n    <tr>\n      <th>16998</th>\n      <td>4682.120862</td>\n      <td>1213.51148</td>\n      <td>0.430379</td>\n      <td>4331.86</td>\n      <td>46.025</td>\n      <td>-0.29920</td>\n      <td>18</td>\n      <td>3</td>\n      <td>2</td>\n      <td>0</td>\n      <td>...</td>\n      <td>2</td>\n      <td>0</td>\n      <td>0</td>\n      <td>0</td>\n      <td>0</td>\n      <td>0</td>\n      <td>0</td>\n      <td>0</td>\n      <td>0</td>\n      <td>1.0</td>\n    </tr>\n    <tr>\n      <th>16999</th>\n      <td>25702.628698</td>\n      <td>4793.21712</td>\n      <td>0.309670</td>\n      <td>5006.39</td>\n      <td>32.042</td>\n      <td>-0.39150</td>\n      <td>14</td>\n      <td>2</td>\n      <td>1</td>\n      <td>0</td>\n      <td>...</td>\n      <td>1</td>\n      <td>0</td>\n      <td>0</td>\n      <td>0</td>\n      <td>0</td>\n      <td>0</td>\n      <td>0</td>\n      <td>0</td>\n      <td>0</td>\n      <td>1.0</td>\n    </tr>\n  </tbody>\n</table>\n<p>17000 rows × 41 columns</p>\n</div>"
     },
     "metadata": {}
    }
   ]
  },
  {
   "cell_type": "code",
   "metadata": {
    "tags": [],
    "cell_id": "00015-66e808ae-cd25-4a7e-9939-5a70decec2a2",
    "deepnote_to_be_reexecuted": false,
    "source_hash": "4d8df6bd",
    "execution_start": 1634393557866,
    "execution_millis": 19,
    "deepnote_cell_type": "code"
   },
   "source": "Xtest.info()",
   "execution_count": null,
   "outputs": [
    {
     "name": "stdout",
     "text": "<class 'pandas.core.frame.DataFrame'>\nRangeIndex: 17000 entries, 0 to 16999\nData columns (total 41 columns):\n #   Column                                         Non-Null Count  Dtype   \n---  ------                                         --------------  -----   \n 0   volume [A^3]                                   17000 non-null  float64 \n 1   weight [u]                                     17000 non-null  float64 \n 2   density [g/cm^3]                               17000 non-null  float64 \n 3   surface_area [m^2/g]                           17000 non-null  float64 \n 4   MolWt                                          17000 non-null  float64 \n 5   MolLogP                                        17000 non-null  float64 \n 6   NumValenceElectrons                            17000 non-null  int64   \n 7   HeavyAtomCount                                 17000 non-null  int64   \n 8   NOCount                                        17000 non-null  int64   \n 9   NumAliphaticRings                              17000 non-null  int64   \n 10  NumAromaticRings                               17000 non-null  int64   \n 11  NumHAcceptors                                  17000 non-null  int64   \n 12  NumHDonors                                     17000 non-null  int64   \n 13  NumHeteroatoms                                 17000 non-null  int64   \n 14  NumRotatableBonds                              17000 non-null  int64   \n 15  void_fraction                                  17000 non-null  float64 \n 16  void_volume [cm^3/g]                           17000 non-null  float64 \n 17  metal_linker                                   17000 non-null  category\n 18  organic_linker1                                17000 non-null  category\n 19  organic_linker2                                17000 non-null  category\n 20  topology                                       17000 non-null  object  \n 21  CO2/N2_selectivity                             17000 non-null  float64 \n 22  heat_adsorption_CO2_P0.15bar_T298K [kcal/mol]  17000 non-null  float64 \n 23  MolecularWeight                                17000 non-null  float64 \n 24  XLogP                                          17000 non-null  float64 \n 25  ExactMass                                      17000 non-null  float64 \n 26  MonoisotopicMass                               17000 non-null  float64 \n 27  TPSA                                           17000 non-null  float64 \n 28  Complexity                                     17000 non-null  int64   \n 29  Charge                                         17000 non-null  int64   \n 30  HBondDonorCount                                17000 non-null  int64   \n 31  HBondAcceptorCount                             17000 non-null  int64   \n 32  RotatableBondCount                             17000 non-null  int64   \n 33  IsotopeAtomCount                               17000 non-null  int64   \n 34  AtomStereoCount                                17000 non-null  int64   \n 35  DefinedAtomStereoCount                         17000 non-null  int64   \n 36  UndefinedAtomStereoCount                       17000 non-null  int64   \n 37  BondStereoCount                                17000 non-null  int64   \n 38  DefinedBondStereoCount                         17000 non-null  int64   \n 39  UndefinedBondStereoCount                       17000 non-null  int64   \n 40  CovalentUnitCount                              17000 non-null  float64 \ndtypes: category(3), float64(16), int64(21), object(1)\nmemory usage: 5.0+ MB\n",
     "output_type": "stream"
    }
   ]
  },
  {
   "cell_type": "code",
   "metadata": {
    "tags": [],
    "cell_id": "00015-b339d09c-7169-419e-ac77-7617fb0005e7",
    "deepnote_to_be_reexecuted": false,
    "source_hash": "3477473",
    "execution_start": 1634393677596,
    "execution_millis": 0,
    "deepnote_cell_type": "code"
   },
   "source": "Xtest = pd.get_dummies(Xtest)\nXtest_column = Xtest.columns",
   "execution_count": null,
   "outputs": []
  },
  {
   "cell_type": "code",
   "metadata": {
    "tags": [],
    "cell_id": "00017-eafc4a60-e77c-479a-8adf-b164df23f1f0",
    "deepnote_to_be_reexecuted": false,
    "source_hash": "15ca9d88",
    "execution_start": 1634393683991,
    "execution_millis": 7,
    "deepnote_cell_type": "code"
   },
   "source": "Xtest.shape",
   "execution_count": null,
   "outputs": [
    {
     "output_type": "execute_result",
     "execution_count": 45,
     "data": {
      "text/plain": "(17000, 167)"
     },
     "metadata": {}
    }
   ]
  },
  {
   "cell_type": "code",
   "metadata": {
    "tags": [],
    "cell_id": "00016-44349aa9-f6eb-479f-96d5-8d7e34fe9a75",
    "deepnote_to_be_reexecuted": false,
    "source_hash": "3bdcc4f1",
    "execution_start": 1634393693712,
    "execution_millis": 23,
    "deepnote_cell_type": "code"
   },
   "source": "l = []\nfor col in train_x_column:\n    if col not in Xtest_column:\n        l.append(col)\nlistofzeros = [0] *17000\nfor col in l:\n    Xtest[col]= listofzeros\nXtest.shape",
   "execution_count": null,
   "outputs": [
    {
     "output_type": "execute_result",
     "execution_count": 46,
     "data": {
      "text/plain": "(17000, 170)"
     },
     "metadata": {}
    }
   ]
  },
  {
   "cell_type": "code",
   "metadata": {
    "tags": [],
    "cell_id": "00017-1272390c-eede-4afd-be5f-65eea4b3f8e7",
    "deepnote_to_be_reexecuted": false,
    "source_hash": "3d8a156",
    "execution_start": 1634393700175,
    "execution_millis": 1,
    "deepnote_cell_type": "code"
   },
   "source": "Xtest = Xtest.reindex(columns = train_x_column)",
   "execution_count": null,
   "outputs": []
  },
  {
   "cell_type": "code",
   "metadata": {
    "tags": [],
    "cell_id": "00018-1ad2cae1-7cb4-4c47-9479-bfb27a50520c",
    "deepnote_to_be_reexecuted": false,
    "source_hash": "d27040f4",
    "execution_start": 1634393725623,
    "execution_millis": 0,
    "deepnote_cell_type": "code"
   },
   "source": "Xtest = sc.transform (Xtest)",
   "execution_count": null,
   "outputs": []
  },
  {
   "cell_type": "code",
   "metadata": {
    "tags": [],
    "cell_id": "00019-a2acfd01-f09d-4fd0-97e1-543e36caf695",
    "deepnote_to_be_reexecuted": false,
    "source_hash": "15ab2b8d",
    "execution_start": 1633166029463,
    "execution_millis": 214,
    "deepnote_cell_type": "code"
   },
   "source": "#pred = results.predict(Xtest)",
   "execution_count": null,
   "outputs": [
    {
     "output_type": "error",
     "ename": "NameError",
     "evalue": "name 'results' is not defined",
     "traceback": [
      "\u001b[0;31m---------------------------------------------------------------------------\u001b[0m",
      "\u001b[0;31mNameError\u001b[0m                                 Traceback (most recent call last)",
      "\u001b[0;32m/tmp/ipykernel_115/223388795.py\u001b[0m in \u001b[0;36m<module>\u001b[0;34m\u001b[0m\n\u001b[0;32m----> 1\u001b[0;31m \u001b[0mpred\u001b[0m \u001b[0;34m=\u001b[0m \u001b[0mresults\u001b[0m\u001b[0;34m.\u001b[0m\u001b[0mpredict\u001b[0m\u001b[0;34m(\u001b[0m\u001b[0mXtest\u001b[0m\u001b[0;34m)\u001b[0m\u001b[0;34m\u001b[0m\u001b[0;34m\u001b[0m\u001b[0m\n\u001b[0m",
      "\u001b[0;31mNameError\u001b[0m: name 'results' is not defined"
     ]
    }
   ]
  },
  {
   "cell_type": "markdown",
   "source": "### model",
   "metadata": {
    "tags": [],
    "is_collapsed": false,
    "cell_id": "00017-05ab5326-2c02-44f7-b75b-028814cf0b81",
    "deepnote_cell_type": "text-cell-h3"
   }
  },
  {
   "cell_type": "code",
   "metadata": {
    "tags": [],
    "cell_id": "00030-eca78ccc-1aee-49b7-a09b-e62f789f413e",
    "deepnote_to_be_reexecuted": false,
    "source_hash": "16b9bd07",
    "execution_start": 1634392559771,
    "execution_millis": 4115,
    "deepnote_cell_type": "code"
   },
   "source": "!pip install lightgbm==3.2.1",
   "execution_count": null,
   "outputs": [
    {
     "name": "stdout",
     "text": "Collecting lightgbm==3.2.1\n  Downloading lightgbm-3.2.1-py3-none-manylinux1_x86_64.whl (2.0 MB)\n\u001b[K     |████████████████████████████████| 2.0 MB 47.7 MB/s \n\u001b[?25hRequirement already satisfied: numpy in /shared-libs/python3.7/py/lib/python3.7/site-packages (from lightgbm==3.2.1) (1.19.5)\nRequirement already satisfied: wheel in /root/venv/lib/python3.7/site-packages (from lightgbm==3.2.1) (0.37.0)\nRequirement already satisfied: scikit-learn!=0.22.0 in /shared-libs/python3.7/py/lib/python3.7/site-packages (from lightgbm==3.2.1) (1.0)\nRequirement already satisfied: scipy in /shared-libs/python3.7/py/lib/python3.7/site-packages (from lightgbm==3.2.1) (1.7.1)\nRequirement already satisfied: threadpoolctl>=2.0.0 in /shared-libs/python3.7/py/lib/python3.7/site-packages (from scikit-learn!=0.22.0->lightgbm==3.2.1) (3.0.0)\nRequirement already satisfied: joblib>=0.11 in /shared-libs/python3.7/py/lib/python3.7/site-packages (from scikit-learn!=0.22.0->lightgbm==3.2.1) (1.1.0)\nInstalling collected packages: lightgbm\nSuccessfully installed lightgbm-3.2.1\n\u001b[33mWARNING: You are using pip version 21.2.4; however, version 21.3 is available.\nYou should consider upgrading via the '/root/venv/bin/python -m pip install --upgrade pip' command.\u001b[0m\n",
     "output_type": "stream"
    }
   ]
  },
  {
   "cell_type": "code",
   "metadata": {
    "tags": [],
    "cell_id": "00038-28b5fe93-54e3-47c4-b969-87f78c8a6543",
    "deepnote_to_be_reexecuted": false,
    "source_hash": "9ee67851",
    "execution_start": 1634392563886,
    "execution_millis": 12,
    "deepnote_cell_type": "code"
   },
   "source": "import lightgbm as lgb",
   "execution_count": null,
   "outputs": []
  },
  {
   "cell_type": "code",
   "metadata": {
    "tags": [],
    "cell_id": "00039-6ba9dbd7-2ed9-45b9-88e8-ac6ad28f2863",
    "deepnote_to_be_reexecuted": false,
    "source_hash": "385c9dff",
    "execution_start": 1634392564057,
    "execution_millis": 0,
    "deepnote_cell_type": "code"
   },
   "source": "from sklearn.model_selection import GridSearchCV",
   "execution_count": null,
   "outputs": []
  },
  {
   "cell_type": "code",
   "metadata": {
    "tags": [],
    "cell_id": "00039-c3492cb3-4661-4e63-8f58-331bda74fc34",
    "deepnote_to_be_reexecuted": false,
    "source_hash": "dc51c118",
    "execution_start": 1634392565258,
    "execution_millis": 115898,
    "deepnote_cell_type": "code"
   },
   "source": "# other scikit-learn modules\nestimator = lgb.LGBMRegressor(num_leaves=31)\n\nparam_grid = {\n    'n_estimators': [20, 40],\n    'learning_rate': [0.01,0.1,0.2,0.3,0.4],\n    'max_depth': [10,15,20,25,30]\n}\n\ngbm = GridSearchCV(estimator, param_grid, cv=3)\ngbm.fit(X, y)\n\nprint(f'Best parameters found by grid search are: {gbm.best_params_}')",
   "execution_count": null,
   "outputs": [
    {
     "name": "stdout",
     "text": "Best parameters found by grid search are: {'learning_rate': 0.3, 'max_depth': 15, 'n_estimators': 40}\n",
     "output_type": "stream"
    }
   ]
  },
  {
   "cell_type": "code",
   "metadata": {
    "tags": [],
    "cell_id": "00022-e02db680-6dd7-47ca-8f33-cb88f7b4ea7e",
    "deepnote_to_be_reexecuted": false,
    "source_hash": "32806082",
    "execution_start": 1633201418757,
    "execution_millis": 918,
    "deepnote_cell_type": "code"
   },
   "source": "gbm = lgb.LGBMRegressor(num_leaves=31, learning_rate=  0.2, max_depth= 20, n_estimators= 40)\ngbm.fit(X, y)",
   "execution_count": null,
   "outputs": [
    {
     "output_type": "execute_result",
     "execution_count": 29,
     "data": {
      "text/plain": "LGBMRegressor(learning_rate=0.3, max_depth=15, n_estimators=40)"
     },
     "metadata": {}
    }
   ]
  },
  {
   "cell_type": "code",
   "metadata": {
    "tags": [],
    "cell_id": "00023-47287ff2-ecc5-4bd5-aac3-cf8129d0fadf",
    "deepnote_to_be_reexecuted": false,
    "source_hash": "c0d7b201",
    "execution_start": 1634392725628,
    "execution_millis": 0,
    "deepnote_cell_type": "code"
   },
   "source": "from sklearn.metrics import mean_absolute_error\nimport math",
   "execution_count": null,
   "outputs": []
  },
  {
   "cell_type": "code",
   "metadata": {
    "tags": [],
    "cell_id": "00040-a6ea7ba7-e144-4a50-bb76-28eb4f203c48",
    "deepnote_to_be_reexecuted": false,
    "source_hash": "58a2874c",
    "execution_start": 1634139865292,
    "execution_millis": 59,
    "deepnote_cell_type": "code"
   },
   "source": "#Best parameters found by grid search are: {'learning_rate': 0.3, 'max_depth': 15, 'n_estimators': 40}\nprediction = gbm.predict(Xval)\nprint(\"Mean Absolute Error : \" + str(mean_absolute_error(prediction, yval)))\nmath.log10(mean_absolute_error(prediction, yval))",
   "execution_count": null,
   "outputs": [
    {
     "name": "stdout",
     "text": "Mean Absolute Error : 20.887672274010882\n",
     "output_type": "stream"
    },
    {
     "output_type": "execute_result",
     "execution_count": 22,
     "data": {
      "text/plain": "1.3198900448209578"
     },
     "metadata": {}
    }
   ]
  },
  {
   "cell_type": "code",
   "metadata": {
    "tags": [],
    "cell_id": "00041-124c970d-f2c2-4d2f-a1d7-a6c535e5a82a",
    "deepnote_to_be_reexecuted": false,
    "source_hash": "aec3740b",
    "allow_embed": false,
    "execution_start": 1634393745541,
    "execution_millis": 22,
    "deepnote_cell_type": "code"
   },
   "source": "ytest_pred = gbm.predict(Xtest)",
   "execution_count": null,
   "outputs": []
  },
  {
   "cell_type": "code",
   "metadata": {
    "tags": [],
    "cell_id": "00047-425e3d3a-ac26-447e-b4cd-37c63d91a81e",
    "deepnote_to_be_reexecuted": false,
    "source_hash": "5f55adb2",
    "execution_start": 1634393747513,
    "execution_millis": 12,
    "deepnote_cell_type": "code"
   },
   "source": "ytest_pred",
   "execution_count": null,
   "outputs": [
    {
     "output_type": "execute_result",
     "execution_count": 50,
     "data": {
      "text/plain": "array([195.72766212,  57.3965448 ,  66.45522676, ...,   1.80046234,\n         1.98090828,  -1.80514035])"
     },
     "metadata": {}
    }
   ]
  },
  {
   "cell_type": "code",
   "metadata": {
    "tags": [],
    "cell_id": "00030-8e2c0fae-1cb4-4074-882d-7f5dd3203fb3",
    "deepnote_to_be_reexecuted": false,
    "source_hash": "42b38492",
    "execution_start": 1634393764074,
    "execution_millis": 4,
    "deepnote_cell_type": "code"
   },
   "source": "Xtest",
   "execution_count": null,
   "outputs": [
    {
     "output_type": "execute_result",
     "execution_count": 51,
     "data": {
      "text/plain": "array([[-0.47191281, -0.67524424,  0.41068635, ..., -0.37241992,\n        -0.0228526 , -0.02540081],\n       [ 0.12544953,  1.65839895,  1.70630039, ..., -0.37241992,\n        -0.0228526 , -0.02540081],\n       [-0.391289  , -0.71538335, -0.61578399, ..., -0.37241992,\n        -0.0228526 , -0.02540081],\n       ...,\n       [ 0.236686  , -0.25847212, -1.58645327, ..., -0.37241992,\n        -0.0228526 , -0.02540081],\n       [ 0.23920728, -0.34474328, -1.71317143, ..., -0.37241992,\n        -0.0228526 , -0.02540081],\n       [ 4.54228208,  2.50059134, -2.09816949, ..., -0.37241992,\n        -0.0228526 , -0.02540081]])"
     },
     "metadata": {}
    }
   ]
  },
  {
   "cell_type": "markdown",
   "source": "## submission",
   "metadata": {
    "tags": [],
    "is_collapsed": false,
    "cell_id": "00026-eaf0ba2e-1945-4240-a2f7-1874e5a21647",
    "deepnote_cell_type": "text-cell-h2"
   }
  },
  {
   "cell_type": "code",
   "metadata": {
    "tags": [],
    "cell_id": "00046-d6aca720-dabd-40b8-bc8c-61d0b30fa9b2",
    "deepnote_to_be_reexecuted": false,
    "source_hash": "92a3f35a",
    "execution_start": 1634393804537,
    "execution_millis": 41,
    "deepnote_cell_type": "code"
   },
   "source": "df = pd.DataFrame()\ndf['id'] = pretest['MOFname']\ndf['CO2_working_capacity [mL/g]'] = ytest_pred\ndf['id'] = df['id'].apply(lambda x:x.replace(\"mof_unit_\",\"\"))\ndf",
   "execution_count": null,
   "outputs": [
    {
     "output_type": "execute_result",
     "execution_count": 52,
     "data": {
      "application/vnd.deepnote.dataframe.v2+json": {
       "row_count": 17000,
       "column_count": 2,
       "columns": [
        {
         "name": "id",
         "dtype": "object",
         "stats": {
          "unique_count": 17000,
          "nan_count": 0,
          "categories": [
           {
            "name": "68614",
            "count": 1
           },
           {
            "name": "68615",
            "count": 1
           },
           {
            "name": "16998 others",
            "count": 16998
           }
          ]
         }
        },
        {
         "name": "CO2_working_capacity [mL/g]",
         "dtype": "float64",
         "stats": {
          "unique_count": 15211,
          "nan_count": 0,
          "min": "-11.535561484924232",
          "max": "483.9612201498544",
          "histogram": [
           {
            "bin_start": -11.535561484924232,
            "bin_end": 38.014116678553634,
            "count": 2320
           },
           {
            "bin_start": 38.014116678553634,
            "bin_end": 87.5637948420315,
            "count": 6059
           },
           {
            "bin_start": 87.5637948420315,
            "bin_end": 137.11347300550935,
            "count": 4725
           },
           {
            "bin_start": 137.11347300550935,
            "bin_end": 186.6631511689872,
            "count": 2125
           },
           {
            "bin_start": 186.6631511689872,
            "bin_end": 236.21282933246508,
            "count": 1087
           },
           {
            "bin_start": 236.21282933246508,
            "bin_end": 285.76250749594294,
            "count": 429
           },
           {
            "bin_start": 285.76250749594294,
            "bin_end": 335.3121856594208,
            "count": 170
           },
           {
            "bin_start": 335.3121856594208,
            "bin_end": 384.86186382289867,
            "count": 61
           },
           {
            "bin_start": 384.86186382289867,
            "bin_end": 434.41154198637656,
            "count": 20
           },
           {
            "bin_start": 434.41154198637656,
            "bin_end": 483.9612201498544,
            "count": 4
           }
          ]
         }
        },
        {
         "name": "_deepnote_index_column",
         "dtype": "int64"
        }
       ],
       "rows_top": [
        {
         "id": "68614",
         "CO2_working_capacity [mL/g]": 195.72766211614893,
         "_deepnote_index_column": 0
        },
        {
         "id": "68615",
         "CO2_working_capacity [mL/g]": 57.396544796262354,
         "_deepnote_index_column": 1
        },
        {
         "id": "68616",
         "CO2_working_capacity [mL/g]": 66.45522676358046,
         "_deepnote_index_column": 2
        },
        {
         "id": "68617",
         "CO2_working_capacity [mL/g]": 53.90238795933916,
         "_deepnote_index_column": 3
        },
        {
         "id": "68618",
         "CO2_working_capacity [mL/g]": 60.68966345574086,
         "_deepnote_index_column": 4
        },
        {
         "id": "68619",
         "CO2_working_capacity [mL/g]": 70.18985885366924,
         "_deepnote_index_column": 5
        },
        {
         "id": "68620",
         "CO2_working_capacity [mL/g]": 118.26730232092036,
         "_deepnote_index_column": 6
        },
        {
         "id": "68621",
         "CO2_working_capacity [mL/g]": 211.16740641843845,
         "_deepnote_index_column": 7
        },
        {
         "id": "68622",
         "CO2_working_capacity [mL/g]": 64.40187385649234,
         "_deepnote_index_column": 8
        },
        {
         "id": "68623",
         "CO2_working_capacity [mL/g]": 130.28899809618474,
         "_deepnote_index_column": 9
        },
        {
         "id": "68624",
         "CO2_working_capacity [mL/g]": 48.13028745467299,
         "_deepnote_index_column": 10
        },
        {
         "id": "68625",
         "CO2_working_capacity [mL/g]": 59.351150774692016,
         "_deepnote_index_column": 11
        },
        {
         "id": "68626",
         "CO2_working_capacity [mL/g]": 218.22189565959823,
         "_deepnote_index_column": 12
        },
        {
         "id": "68627",
         "CO2_working_capacity [mL/g]": 142.8346469770972,
         "_deepnote_index_column": 13
        },
        {
         "id": "68628",
         "CO2_working_capacity [mL/g]": 112.42750629864258,
         "_deepnote_index_column": 14
        },
        {
         "id": "68629",
         "CO2_working_capacity [mL/g]": 109.95481218227293,
         "_deepnote_index_column": 15
        },
        {
         "id": "68630",
         "CO2_working_capacity [mL/g]": 59.2074878243215,
         "_deepnote_index_column": 16
        },
        {
         "id": "68631",
         "CO2_working_capacity [mL/g]": 59.59660592922163,
         "_deepnote_index_column": 17
        },
        {
         "id": "68632",
         "CO2_working_capacity [mL/g]": 131.29816399164147,
         "_deepnote_index_column": 18
        },
        {
         "id": "68633",
         "CO2_working_capacity [mL/g]": 74.45720169534371,
         "_deepnote_index_column": 19
        },
        {
         "id": "68634",
         "CO2_working_capacity [mL/g]": 196.55314878762556,
         "_deepnote_index_column": 20
        },
        {
         "id": "68635",
         "CO2_working_capacity [mL/g]": 122.46540868435923,
         "_deepnote_index_column": 21
        },
        {
         "id": "68636",
         "CO2_working_capacity [mL/g]": 87.94571751705692,
         "_deepnote_index_column": 22
        },
        {
         "id": "68637",
         "CO2_working_capacity [mL/g]": 92.24894110454784,
         "_deepnote_index_column": 23
        },
        {
         "id": "68638",
         "CO2_working_capacity [mL/g]": 178.7076040634438,
         "_deepnote_index_column": 24
        },
        {
         "id": "68639",
         "CO2_working_capacity [mL/g]": 121.76453442838587,
         "_deepnote_index_column": 25
        },
        {
         "id": "68640",
         "CO2_working_capacity [mL/g]": 114.04199417688476,
         "_deepnote_index_column": 26
        },
        {
         "id": "68641",
         "CO2_working_capacity [mL/g]": 188.0203853900197,
         "_deepnote_index_column": 27
        },
        {
         "id": "68642",
         "CO2_working_capacity [mL/g]": 69.24210833387855,
         "_deepnote_index_column": 28
        },
        {
         "id": "68643",
         "CO2_working_capacity [mL/g]": 76.23181656354927,
         "_deepnote_index_column": 29
        },
        {
         "id": "68644",
         "CO2_working_capacity [mL/g]": 102.55724435670342,
         "_deepnote_index_column": 30
        },
        {
         "id": "68645",
         "CO2_working_capacity [mL/g]": 90.4170746831613,
         "_deepnote_index_column": 31
        },
        {
         "id": "68646",
         "CO2_working_capacity [mL/g]": 233.8304445539086,
         "_deepnote_index_column": 32
        },
        {
         "id": "68647",
         "CO2_working_capacity [mL/g]": 79.66810355224246,
         "_deepnote_index_column": 33
        },
        {
         "id": "68648",
         "CO2_working_capacity [mL/g]": 202.18109140938628,
         "_deepnote_index_column": 34
        },
        {
         "id": "68649",
         "CO2_working_capacity [mL/g]": 73.09873405320837,
         "_deepnote_index_column": 35
        },
        {
         "id": "68650",
         "CO2_working_capacity [mL/g]": 155.4718584358674,
         "_deepnote_index_column": 36
        },
        {
         "id": "68651",
         "CO2_working_capacity [mL/g]": 78.09321533039757,
         "_deepnote_index_column": 37
        },
        {
         "id": "68652",
         "CO2_working_capacity [mL/g]": 86.2507126711327,
         "_deepnote_index_column": 38
        },
        {
         "id": "68653",
         "CO2_working_capacity [mL/g]": 126.60049016795259,
         "_deepnote_index_column": 39
        },
        {
         "id": "68654",
         "CO2_working_capacity [mL/g]": 93.38029797290027,
         "_deepnote_index_column": 40
        },
        {
         "id": "68655",
         "CO2_working_capacity [mL/g]": 83.8321249920749,
         "_deepnote_index_column": 41
        },
        {
         "id": "68656",
         "CO2_working_capacity [mL/g]": 83.81347578219273,
         "_deepnote_index_column": 42
        },
        {
         "id": "68657",
         "CO2_working_capacity [mL/g]": 155.1014350999743,
         "_deepnote_index_column": 43
        },
        {
         "id": "68658",
         "CO2_working_capacity [mL/g]": 55.876466982465544,
         "_deepnote_index_column": 44
        },
        {
         "id": "68659",
         "CO2_working_capacity [mL/g]": 87.66259866716916,
         "_deepnote_index_column": 45
        },
        {
         "id": "68660",
         "CO2_working_capacity [mL/g]": 184.3050577077542,
         "_deepnote_index_column": 46
        },
        {
         "id": "68661",
         "CO2_working_capacity [mL/g]": 163.88728274124628,
         "_deepnote_index_column": 47
        },
        {
         "id": "68662",
         "CO2_working_capacity [mL/g]": 79.21891407565204,
         "_deepnote_index_column": 48
        },
        {
         "id": "68663",
         "CO2_working_capacity [mL/g]": 70.61415879408216,
         "_deepnote_index_column": 49
        },
        {
         "id": "68664",
         "CO2_working_capacity [mL/g]": 71.15422655566647,
         "_deepnote_index_column": 50
        },
        {
         "id": "68665",
         "CO2_working_capacity [mL/g]": 78.62952862107804,
         "_deepnote_index_column": 51
        },
        {
         "id": "68666",
         "CO2_working_capacity [mL/g]": 141.634490957966,
         "_deepnote_index_column": 52
        },
        {
         "id": "68667",
         "CO2_working_capacity [mL/g]": 82.66479356607486,
         "_deepnote_index_column": 53
        },
        {
         "id": "68668",
         "CO2_working_capacity [mL/g]": 193.52648714078262,
         "_deepnote_index_column": 54
        },
        {
         "id": "68669",
         "CO2_working_capacity [mL/g]": 85.16815211245797,
         "_deepnote_index_column": 55
        },
        {
         "id": "68670",
         "CO2_working_capacity [mL/g]": 252.89444914684373,
         "_deepnote_index_column": 56
        },
        {
         "id": "68671",
         "CO2_working_capacity [mL/g]": 92.24205166232517,
         "_deepnote_index_column": 57
        },
        {
         "id": "68672",
         "CO2_working_capacity [mL/g]": 65.01486846925336,
         "_deepnote_index_column": 58
        },
        {
         "id": "68673",
         "CO2_working_capacity [mL/g]": 111.84334619791926,
         "_deepnote_index_column": 59
        },
        {
         "id": "68674",
         "CO2_working_capacity [mL/g]": 69.52289992798734,
         "_deepnote_index_column": 60
        },
        {
         "id": "68675",
         "CO2_working_capacity [mL/g]": 81.29729548057234,
         "_deepnote_index_column": 61
        },
        {
         "id": "68676",
         "CO2_working_capacity [mL/g]": 143.91173549583098,
         "_deepnote_index_column": 62
        },
        {
         "id": "68677",
         "CO2_working_capacity [mL/g]": 114.9566401379325,
         "_deepnote_index_column": 63
        },
        {
         "id": "68678",
         "CO2_working_capacity [mL/g]": 162.8144000049015,
         "_deepnote_index_column": 64
        },
        {
         "id": "68679",
         "CO2_working_capacity [mL/g]": 71.64826924359586,
         "_deepnote_index_column": 65
        },
        {
         "id": "68680",
         "CO2_working_capacity [mL/g]": 72.66218948882343,
         "_deepnote_index_column": 66
        },
        {
         "id": "68681",
         "CO2_working_capacity [mL/g]": 112.16624762375301,
         "_deepnote_index_column": 67
        },
        {
         "id": "68682",
         "CO2_working_capacity [mL/g]": 85.4167747023514,
         "_deepnote_index_column": 68
        },
        {
         "id": "68683",
         "CO2_working_capacity [mL/g]": 76.46937757655867,
         "_deepnote_index_column": 69
        },
        {
         "id": "68684",
         "CO2_working_capacity [mL/g]": 87.56311788665049,
         "_deepnote_index_column": 70
        },
        {
         "id": "68685",
         "CO2_working_capacity [mL/g]": 81.18899523942402,
         "_deepnote_index_column": 71
        },
        {
         "id": "68686",
         "CO2_working_capacity [mL/g]": 156.91489039980812,
         "_deepnote_index_column": 72
        },
        {
         "id": "68687",
         "CO2_working_capacity [mL/g]": 90.29344587653274,
         "_deepnote_index_column": 73
        },
        {
         "id": "68688",
         "CO2_working_capacity [mL/g]": 104.88131562528869,
         "_deepnote_index_column": 74
        },
        {
         "id": "68689",
         "CO2_working_capacity [mL/g]": 86.64128942332778,
         "_deepnote_index_column": 75
        },
        {
         "id": "68690",
         "CO2_working_capacity [mL/g]": 136.85473219537744,
         "_deepnote_index_column": 76
        },
        {
         "id": "68691",
         "CO2_working_capacity [mL/g]": 188.9504627469343,
         "_deepnote_index_column": 77
        },
        {
         "id": "68692",
         "CO2_working_capacity [mL/g]": 60.746534204941646,
         "_deepnote_index_column": 78
        },
        {
         "id": "68693",
         "CO2_working_capacity [mL/g]": 213.4966502151573,
         "_deepnote_index_column": 79
        },
        {
         "id": "68694",
         "CO2_working_capacity [mL/g]": 121.30979202507945,
         "_deepnote_index_column": 80
        },
        {
         "id": "68695",
         "CO2_working_capacity [mL/g]": 145.62167978046534,
         "_deepnote_index_column": 81
        },
        {
         "id": "68696",
         "CO2_working_capacity [mL/g]": 59.546714057931794,
         "_deepnote_index_column": 82
        },
        {
         "id": "68697",
         "CO2_working_capacity [mL/g]": 116.45510250632687,
         "_deepnote_index_column": 83
        },
        {
         "id": "68698",
         "CO2_working_capacity [mL/g]": 147.49251931684586,
         "_deepnote_index_column": 84
        },
        {
         "id": "68699",
         "CO2_working_capacity [mL/g]": 57.673601520995895,
         "_deepnote_index_column": 85
        },
        {
         "id": "68700",
         "CO2_working_capacity [mL/g]": 49.94847084039138,
         "_deepnote_index_column": 86
        },
        {
         "id": "68701",
         "CO2_working_capacity [mL/g]": 195.1777459190804,
         "_deepnote_index_column": 87
        },
        {
         "id": "68702",
         "CO2_working_capacity [mL/g]": 83.21150593671737,
         "_deepnote_index_column": 88
        },
        {
         "id": "68703",
         "CO2_working_capacity [mL/g]": 121.37688993012014,
         "_deepnote_index_column": 89
        },
        {
         "id": "68704",
         "CO2_working_capacity [mL/g]": 127.93406456162167,
         "_deepnote_index_column": 90
        },
        {
         "id": "68705",
         "CO2_working_capacity [mL/g]": 87.13654988773956,
         "_deepnote_index_column": 91
        },
        {
         "id": "68706",
         "CO2_working_capacity [mL/g]": 99.63882138222979,
         "_deepnote_index_column": 92
        },
        {
         "id": "68707",
         "CO2_working_capacity [mL/g]": 95.97165657864362,
         "_deepnote_index_column": 93
        },
        {
         "id": "68708",
         "CO2_working_capacity [mL/g]": 115.2475290917766,
         "_deepnote_index_column": 94
        },
        {
         "id": "68709",
         "CO2_working_capacity [mL/g]": 108.01417740844201,
         "_deepnote_index_column": 95
        },
        {
         "id": "68710",
         "CO2_working_capacity [mL/g]": 60.24136356733878,
         "_deepnote_index_column": 96
        },
        {
         "id": "68711",
         "CO2_working_capacity [mL/g]": 96.70873848484099,
         "_deepnote_index_column": 97
        },
        {
         "id": "68712",
         "CO2_working_capacity [mL/g]": 78.41511227238871,
         "_deepnote_index_column": 98
        },
        {
         "id": "68713",
         "CO2_working_capacity [mL/g]": 58.15603497531753,
         "_deepnote_index_column": 99
        },
        {
         "id": "68714",
         "CO2_working_capacity [mL/g]": 57.220788084304644,
         "_deepnote_index_column": 100
        },
        {
         "id": "68715",
         "CO2_working_capacity [mL/g]": 122.04223420635051,
         "_deepnote_index_column": 101
        },
        {
         "id": "68716",
         "CO2_working_capacity [mL/g]": 117.29914828621777,
         "_deepnote_index_column": 102
        },
        {
         "id": "68717",
         "CO2_working_capacity [mL/g]": 64.60646132533202,
         "_deepnote_index_column": 103
        },
        {
         "id": "68718",
         "CO2_working_capacity [mL/g]": 40.09925250970779,
         "_deepnote_index_column": 104
        },
        {
         "id": "68719",
         "CO2_working_capacity [mL/g]": 57.188610508634596,
         "_deepnote_index_column": 105
        },
        {
         "id": "68720",
         "CO2_working_capacity [mL/g]": 160.18282406681422,
         "_deepnote_index_column": 106
        },
        {
         "id": "68721",
         "CO2_working_capacity [mL/g]": 181.96225059522789,
         "_deepnote_index_column": 107
        },
        {
         "id": "68722",
         "CO2_working_capacity [mL/g]": 104.56198001527805,
         "_deepnote_index_column": 108
        },
        {
         "id": "68723",
         "CO2_working_capacity [mL/g]": 90.40199119708019,
         "_deepnote_index_column": 109
        },
        {
         "id": "68724",
         "CO2_working_capacity [mL/g]": 75.83981055172556,
         "_deepnote_index_column": 110
        },
        {
         "id": "68725",
         "CO2_working_capacity [mL/g]": 89.75251048000273,
         "_deepnote_index_column": 111
        },
        {
         "id": "68726",
         "CO2_working_capacity [mL/g]": 147.4777069448647,
         "_deepnote_index_column": 112
        },
        {
         "id": "68727",
         "CO2_working_capacity [mL/g]": 130.33585241970013,
         "_deepnote_index_column": 113
        },
        {
         "id": "68728",
         "CO2_working_capacity [mL/g]": 144.78637115742032,
         "_deepnote_index_column": 114
        },
        {
         "id": "68729",
         "CO2_working_capacity [mL/g]": 246.78985498787637,
         "_deepnote_index_column": 115
        },
        {
         "id": "68730",
         "CO2_working_capacity [mL/g]": 132.19615057124116,
         "_deepnote_index_column": 116
        },
        {
         "id": "68731",
         "CO2_working_capacity [mL/g]": 147.99151939210597,
         "_deepnote_index_column": 117
        },
        {
         "id": "68732",
         "CO2_working_capacity [mL/g]": 66.72922215598149,
         "_deepnote_index_column": 118
        },
        {
         "id": "68733",
         "CO2_working_capacity [mL/g]": 75.61194213452752,
         "_deepnote_index_column": 119
        },
        {
         "id": "68734",
         "CO2_working_capacity [mL/g]": 124.90140892973902,
         "_deepnote_index_column": 120
        },
        {
         "id": "68735",
         "CO2_working_capacity [mL/g]": 171.78904516942907,
         "_deepnote_index_column": 121
        },
        {
         "id": "68736",
         "CO2_working_capacity [mL/g]": 51.62634090374377,
         "_deepnote_index_column": 122
        },
        {
         "id": "68737",
         "CO2_working_capacity [mL/g]": 101.52045359807525,
         "_deepnote_index_column": 123
        },
        {
         "id": "68738",
         "CO2_working_capacity [mL/g]": 158.9601806663266,
         "_deepnote_index_column": 124
        },
        {
         "id": "68739",
         "CO2_working_capacity [mL/g]": 132.02815582538784,
         "_deepnote_index_column": 125
        },
        {
         "id": "68740",
         "CO2_working_capacity [mL/g]": 182.5236891052807,
         "_deepnote_index_column": 126
        },
        {
         "id": "68741",
         "CO2_working_capacity [mL/g]": 69.60128719202702,
         "_deepnote_index_column": 127
        },
        {
         "id": "68742",
         "CO2_working_capacity [mL/g]": 161.96696865276945,
         "_deepnote_index_column": 128
        },
        {
         "id": "68743",
         "CO2_working_capacity [mL/g]": 90.93935537389729,
         "_deepnote_index_column": 129
        },
        {
         "id": "68744",
         "CO2_working_capacity [mL/g]": 178.96998273721522,
         "_deepnote_index_column": 130
        },
        {
         "id": "68745",
         "CO2_working_capacity [mL/g]": 87.40641631428511,
         "_deepnote_index_column": 131
        },
        {
         "id": "68746",
         "CO2_working_capacity [mL/g]": 78.63693584999855,
         "_deepnote_index_column": 132
        },
        {
         "id": "68747",
         "CO2_working_capacity [mL/g]": 157.80337932999439,
         "_deepnote_index_column": 133
        },
        {
         "id": "68748",
         "CO2_working_capacity [mL/g]": 76.68351204551946,
         "_deepnote_index_column": 134
        },
        {
         "id": "68749",
         "CO2_working_capacity [mL/g]": 72.21532512533425,
         "_deepnote_index_column": 135
        },
        {
         "id": "68750",
         "CO2_working_capacity [mL/g]": 80.01248371218402,
         "_deepnote_index_column": 136
        },
        {
         "id": "68751",
         "CO2_working_capacity [mL/g]": 233.6504201458527,
         "_deepnote_index_column": 137
        },
        {
         "id": "68752",
         "CO2_working_capacity [mL/g]": 94.18351631451492,
         "_deepnote_index_column": 138
        },
        {
         "id": "68753",
         "CO2_working_capacity [mL/g]": 202.2820345936246,
         "_deepnote_index_column": 139
        },
        {
         "id": "68754",
         "CO2_working_capacity [mL/g]": 114.85086790125277,
         "_deepnote_index_column": 140
        },
        {
         "id": "68755",
         "CO2_working_capacity [mL/g]": 75.12957513179218,
         "_deepnote_index_column": 141
        },
        {
         "id": "68756",
         "CO2_working_capacity [mL/g]": 102.31069809710894,
         "_deepnote_index_column": 142
        },
        {
         "id": "68757",
         "CO2_working_capacity [mL/g]": 233.96695955607623,
         "_deepnote_index_column": 143
        },
        {
         "id": "68758",
         "CO2_working_capacity [mL/g]": 327.13789789062247,
         "_deepnote_index_column": 144
        },
        {
         "id": "68759",
         "CO2_working_capacity [mL/g]": 215.34327394534142,
         "_deepnote_index_column": 145
        },
        {
         "id": "68760",
         "CO2_working_capacity [mL/g]": 156.32379077629295,
         "_deepnote_index_column": 146
        },
        {
         "id": "68761",
         "CO2_working_capacity [mL/g]": 99.3283547797211,
         "_deepnote_index_column": 147
        },
        {
         "id": "68762",
         "CO2_working_capacity [mL/g]": 60.829070448100005,
         "_deepnote_index_column": 148
        },
        {
         "id": "68763",
         "CO2_working_capacity [mL/g]": 65.45842476498395,
         "_deepnote_index_column": 149
        },
        {
         "id": "68764",
         "CO2_working_capacity [mL/g]": 85.16924865728346,
         "_deepnote_index_column": 150
        },
        {
         "id": "68765",
         "CO2_working_capacity [mL/g]": 176.4542413343796,
         "_deepnote_index_column": 151
        },
        {
         "id": "68766",
         "CO2_working_capacity [mL/g]": 51.258671426592514,
         "_deepnote_index_column": 152
        },
        {
         "id": "68767",
         "CO2_working_capacity [mL/g]": 80.85615466006615,
         "_deepnote_index_column": 153
        },
        {
         "id": "68768",
         "CO2_working_capacity [mL/g]": 115.18206088147501,
         "_deepnote_index_column": 154
        },
        {
         "id": "68769",
         "CO2_working_capacity [mL/g]": 61.7552336812867,
         "_deepnote_index_column": 155
        },
        {
         "id": "68770",
         "CO2_working_capacity [mL/g]": 112.2183238877289,
         "_deepnote_index_column": 156
        },
        {
         "id": "68771",
         "CO2_working_capacity [mL/g]": 62.301701603382526,
         "_deepnote_index_column": 157
        },
        {
         "id": "68772",
         "CO2_working_capacity [mL/g]": 63.808220747670596,
         "_deepnote_index_column": 158
        },
        {
         "id": "68773",
         "CO2_working_capacity [mL/g]": 73.12115441833542,
         "_deepnote_index_column": 159
        },
        {
         "id": "68774",
         "CO2_working_capacity [mL/g]": 62.89373099493554,
         "_deepnote_index_column": 160
        },
        {
         "id": "68775",
         "CO2_working_capacity [mL/g]": 76.10129871537201,
         "_deepnote_index_column": 161
        },
        {
         "id": "68776",
         "CO2_working_capacity [mL/g]": 84.08602702044703,
         "_deepnote_index_column": 162
        },
        {
         "id": "68777",
         "CO2_working_capacity [mL/g]": 65.42305315545697,
         "_deepnote_index_column": 163
        },
        {
         "id": "68778",
         "CO2_working_capacity [mL/g]": 52.856342453829136,
         "_deepnote_index_column": 164
        },
        {
         "id": "68779",
         "CO2_working_capacity [mL/g]": 57.33648950911529,
         "_deepnote_index_column": 165
        },
        {
         "id": "68780",
         "CO2_working_capacity [mL/g]": 139.43082307721676,
         "_deepnote_index_column": 166
        },
        {
         "id": "68781",
         "CO2_working_capacity [mL/g]": 63.78593218261176,
         "_deepnote_index_column": 167
        },
        {
         "id": "68782",
         "CO2_working_capacity [mL/g]": 96.40921849205483,
         "_deepnote_index_column": 168
        },
        {
         "id": "68783",
         "CO2_working_capacity [mL/g]": 74.26199876405396,
         "_deepnote_index_column": 169
        },
        {
         "id": "68784",
         "CO2_working_capacity [mL/g]": 69.22013866177392,
         "_deepnote_index_column": 170
        },
        {
         "id": "68785",
         "CO2_working_capacity [mL/g]": 124.5057709085787,
         "_deepnote_index_column": 171
        },
        {
         "id": "68786",
         "CO2_working_capacity [mL/g]": 93.89781853731738,
         "_deepnote_index_column": 172
        },
        {
         "id": "68787",
         "CO2_working_capacity [mL/g]": 221.65130635755546,
         "_deepnote_index_column": 173
        },
        {
         "id": "68788",
         "CO2_working_capacity [mL/g]": 53.47966579663283,
         "_deepnote_index_column": 174
        },
        {
         "id": "68789",
         "CO2_working_capacity [mL/g]": 84.10470939708907,
         "_deepnote_index_column": 175
        },
        {
         "id": "68790",
         "CO2_working_capacity [mL/g]": 248.8658805185619,
         "_deepnote_index_column": 176
        },
        {
         "id": "68791",
         "CO2_working_capacity [mL/g]": 61.40635564196525,
         "_deepnote_index_column": 177
        },
        {
         "id": "68792",
         "CO2_working_capacity [mL/g]": 99.39684681339918,
         "_deepnote_index_column": 178
        },
        {
         "id": "68793",
         "CO2_working_capacity [mL/g]": 98.52930266922955,
         "_deepnote_index_column": 179
        },
        {
         "id": "68794",
         "CO2_working_capacity [mL/g]": 104.83937126632775,
         "_deepnote_index_column": 180
        },
        {
         "id": "68795",
         "CO2_working_capacity [mL/g]": 123.39347329707678,
         "_deepnote_index_column": 181
        },
        {
         "id": "68796",
         "CO2_working_capacity [mL/g]": 71.89285480111792,
         "_deepnote_index_column": 182
        },
        {
         "id": "68797",
         "CO2_working_capacity [mL/g]": 127.75390681160981,
         "_deepnote_index_column": 183
        },
        {
         "id": "68798",
         "CO2_working_capacity [mL/g]": 59.85923524853155,
         "_deepnote_index_column": 184
        },
        {
         "id": "68799",
         "CO2_working_capacity [mL/g]": 74.82353290332125,
         "_deepnote_index_column": 185
        },
        {
         "id": "68800",
         "CO2_working_capacity [mL/g]": 56.04628276204523,
         "_deepnote_index_column": 186
        },
        {
         "id": "68801",
         "CO2_working_capacity [mL/g]": 102.8394671600099,
         "_deepnote_index_column": 187
        },
        {
         "id": "68802",
         "CO2_working_capacity [mL/g]": 85.87759213425522,
         "_deepnote_index_column": 188
        },
        {
         "id": "68803",
         "CO2_working_capacity [mL/g]": 79.30022523086295,
         "_deepnote_index_column": 189
        },
        {
         "id": "68804",
         "CO2_working_capacity [mL/g]": 65.1732436977123,
         "_deepnote_index_column": 190
        },
        {
         "id": "68805",
         "CO2_working_capacity [mL/g]": 59.75056680979167,
         "_deepnote_index_column": 191
        },
        {
         "id": "68806",
         "CO2_working_capacity [mL/g]": 86.00965520298845,
         "_deepnote_index_column": 192
        },
        {
         "id": "68807",
         "CO2_working_capacity [mL/g]": 91.38783368024669,
         "_deepnote_index_column": 193
        },
        {
         "id": "68808",
         "CO2_working_capacity [mL/g]": 66.80199066292623,
         "_deepnote_index_column": 194
        },
        {
         "id": "68809",
         "CO2_working_capacity [mL/g]": 162.17958479455714,
         "_deepnote_index_column": 195
        },
        {
         "id": "68810",
         "CO2_working_capacity [mL/g]": 122.85255603934249,
         "_deepnote_index_column": 196
        },
        {
         "id": "68811",
         "CO2_working_capacity [mL/g]": 130.93939510952796,
         "_deepnote_index_column": 197
        },
        {
         "id": "68812",
         "CO2_working_capacity [mL/g]": 91.77240340520063,
         "_deepnote_index_column": 198
        },
        {
         "id": "68813",
         "CO2_working_capacity [mL/g]": 51.813187129689425,
         "_deepnote_index_column": 199
        },
        {
         "id": "68814",
         "CO2_working_capacity [mL/g]": 92.21623520950178,
         "_deepnote_index_column": 200
        },
        {
         "id": "68815",
         "CO2_working_capacity [mL/g]": 69.183375711571,
         "_deepnote_index_column": 201
        },
        {
         "id": "68816",
         "CO2_working_capacity [mL/g]": 294.93490592704717,
         "_deepnote_index_column": 202
        },
        {
         "id": "68817",
         "CO2_working_capacity [mL/g]": 91.99799342594414,
         "_deepnote_index_column": 203
        },
        {
         "id": "68818",
         "CO2_working_capacity [mL/g]": 93.81537527267707,
         "_deepnote_index_column": 204
        },
        {
         "id": "68819",
         "CO2_working_capacity [mL/g]": 95.26890637864898,
         "_deepnote_index_column": 205
        },
        {
         "id": "68820",
         "CO2_working_capacity [mL/g]": 149.15951068283073,
         "_deepnote_index_column": 206
        },
        {
         "id": "68821",
         "CO2_working_capacity [mL/g]": 171.97033235089603,
         "_deepnote_index_column": 207
        },
        {
         "id": "68822",
         "CO2_working_capacity [mL/g]": 362.4183995400877,
         "_deepnote_index_column": 208
        },
        {
         "id": "68823",
         "CO2_working_capacity [mL/g]": 109.42014104559269,
         "_deepnote_index_column": 209
        },
        {
         "id": "68824",
         "CO2_working_capacity [mL/g]": 199.05560833216657,
         "_deepnote_index_column": 210
        },
        {
         "id": "68825",
         "CO2_working_capacity [mL/g]": 81.84737430575579,
         "_deepnote_index_column": 211
        },
        {
         "id": "68826",
         "CO2_working_capacity [mL/g]": 136.76608312898193,
         "_deepnote_index_column": 212
        },
        {
         "id": "68827",
         "CO2_working_capacity [mL/g]": 127.49504154710453,
         "_deepnote_index_column": 213
        },
        {
         "id": "68828",
         "CO2_working_capacity [mL/g]": 63.84008000002765,
         "_deepnote_index_column": 214
        },
        {
         "id": "68829",
         "CO2_working_capacity [mL/g]": 53.39339343607997,
         "_deepnote_index_column": 215
        },
        {
         "id": "68830",
         "CO2_working_capacity [mL/g]": 69.89201892194173,
         "_deepnote_index_column": 216
        },
        {
         "id": "68831",
         "CO2_working_capacity [mL/g]": 102.8182863522704,
         "_deepnote_index_column": 217
        },
        {
         "id": "68832",
         "CO2_working_capacity [mL/g]": 118.75917116108745,
         "_deepnote_index_column": 218
        },
        {
         "id": "68833",
         "CO2_working_capacity [mL/g]": 91.88639693636128,
         "_deepnote_index_column": 219
        },
        {
         "id": "68834",
         "CO2_working_capacity [mL/g]": 71.26069179453393,
         "_deepnote_index_column": 220
        },
        {
         "id": "68835",
         "CO2_working_capacity [mL/g]": 63.84893036973848,
         "_deepnote_index_column": 221
        },
        {
         "id": "68836",
         "CO2_working_capacity [mL/g]": 124.78937118057819,
         "_deepnote_index_column": 222
        },
        {
         "id": "68837",
         "CO2_working_capacity [mL/g]": 66.029544009876,
         "_deepnote_index_column": 223
        },
        {
         "id": "68838",
         "CO2_working_capacity [mL/g]": 46.146865732385656,
         "_deepnote_index_column": 224
        },
        {
         "id": "68839",
         "CO2_working_capacity [mL/g]": 155.63818257159895,
         "_deepnote_index_column": 225
        },
        {
         "id": "68840",
         "CO2_working_capacity [mL/g]": 59.84363319361346,
         "_deepnote_index_column": 226
        },
        {
         "id": "68841",
         "CO2_working_capacity [mL/g]": 149.33773758989614,
         "_deepnote_index_column": 227
        },
        {
         "id": "68842",
         "CO2_working_capacity [mL/g]": 117.0781678656485,
         "_deepnote_index_column": 228
        },
        {
         "id": "68843",
         "CO2_working_capacity [mL/g]": 98.90472092034092,
         "_deepnote_index_column": 229
        },
        {
         "id": "68844",
         "CO2_working_capacity [mL/g]": 158.12445049530925,
         "_deepnote_index_column": 230
        },
        {
         "id": "68845",
         "CO2_working_capacity [mL/g]": 57.30490733514625,
         "_deepnote_index_column": 231
        },
        {
         "id": "68846",
         "CO2_working_capacity [mL/g]": 68.43689434148065,
         "_deepnote_index_column": 232
        },
        {
         "id": "68847",
         "CO2_working_capacity [mL/g]": 161.45019487297265,
         "_deepnote_index_column": 233
        },
        {
         "id": "68848",
         "CO2_working_capacity [mL/g]": 157.79070130677385,
         "_deepnote_index_column": 234
        },
        {
         "id": "68849",
         "CO2_working_capacity [mL/g]": 102.32877597280385,
         "_deepnote_index_column": 235
        },
        {
         "id": "68850",
         "CO2_working_capacity [mL/g]": 87.99484286623907,
         "_deepnote_index_column": 236
        },
        {
         "id": "68851",
         "CO2_working_capacity [mL/g]": 71.82334102626808,
         "_deepnote_index_column": 237
        },
        {
         "id": "68852",
         "CO2_working_capacity [mL/g]": 61.880374013816,
         "_deepnote_index_column": 238
        },
        {
         "id": "68853",
         "CO2_working_capacity [mL/g]": 152.18606059519956,
         "_deepnote_index_column": 239
        },
        {
         "id": "68854",
         "CO2_working_capacity [mL/g]": 63.83579715336358,
         "_deepnote_index_column": 240
        },
        {
         "id": "68855",
         "CO2_working_capacity [mL/g]": 74.87733139472796,
         "_deepnote_index_column": 241
        },
        {
         "id": "68856",
         "CO2_working_capacity [mL/g]": 347.6946405829192,
         "_deepnote_index_column": 242
        },
        {
         "id": "68857",
         "CO2_working_capacity [mL/g]": 62.807797424630806,
         "_deepnote_index_column": 243
        },
        {
         "id": "68858",
         "CO2_working_capacity [mL/g]": 96.77597179475477,
         "_deepnote_index_column": 244
        },
        {
         "id": "68859",
         "CO2_working_capacity [mL/g]": 78.06404696757562,
         "_deepnote_index_column": 245
        },
        {
         "id": "68860",
         "CO2_working_capacity [mL/g]": 49.89022293208204,
         "_deepnote_index_column": 246
        },
        {
         "id": "68861",
         "CO2_working_capacity [mL/g]": 74.28730107946679,
         "_deepnote_index_column": 247
        },
        {
         "id": "68862",
         "CO2_working_capacity [mL/g]": 233.56626355355803,
         "_deepnote_index_column": 248
        },
        {
         "id": "68863",
         "CO2_working_capacity [mL/g]": 72.83491300262268,
         "_deepnote_index_column": 249
        }
       ],
       "rows_bottom": [
        {
         "id": "85364",
         "CO2_working_capacity [mL/g]": 14.6523030554931,
         "_deepnote_index_column": 16750
        },
        {
         "id": "85365",
         "CO2_working_capacity [mL/g]": -1.477169559808745,
         "_deepnote_index_column": 16751
        },
        {
         "id": "85366",
         "CO2_working_capacity [mL/g]": 2.3510541229964304,
         "_deepnote_index_column": 16752
        },
        {
         "id": "85367",
         "CO2_working_capacity [mL/g]": 0.31177253949561146,
         "_deepnote_index_column": 16753
        },
        {
         "id": "85368",
         "CO2_working_capacity [mL/g]": -0.3246163507852623,
         "_deepnote_index_column": 16754
        },
        {
         "id": "85369",
         "CO2_working_capacity [mL/g]": 23.120631888678457,
         "_deepnote_index_column": 16755
        },
        {
         "id": "85370",
         "CO2_working_capacity [mL/g]": -0.05837330719780835,
         "_deepnote_index_column": 16756
        },
        {
         "id": "85371",
         "CO2_working_capacity [mL/g]": -0.16339482585788012,
         "_deepnote_index_column": 16757
        },
        {
         "id": "85372",
         "CO2_working_capacity [mL/g]": -0.6748230162131487,
         "_deepnote_index_column": 16758
        },
        {
         "id": "85373",
         "CO2_working_capacity [mL/g]": 5.746661581772491,
         "_deepnote_index_column": 16759
        },
        {
         "id": "85374",
         "CO2_working_capacity [mL/g]": -1.268380615492658,
         "_deepnote_index_column": 16760
        },
        {
         "id": "85375",
         "CO2_working_capacity [mL/g]": 5.681731915588627,
         "_deepnote_index_column": 16761
        },
        {
         "id": "85376",
         "CO2_working_capacity [mL/g]": -0.24715000880478416,
         "_deepnote_index_column": 16762
        },
        {
         "id": "85377",
         "CO2_working_capacity [mL/g]": 11.402083522701933,
         "_deepnote_index_column": 16763
        },
        {
         "id": "85378",
         "CO2_working_capacity [mL/g]": -0.4940596002094926,
         "_deepnote_index_column": 16764
        },
        {
         "id": "85379",
         "CO2_working_capacity [mL/g]": -7.574187092333836,
         "_deepnote_index_column": 16765
        },
        {
         "id": "85380",
         "CO2_working_capacity [mL/g]": 1.972544220331166,
         "_deepnote_index_column": 16766
        },
        {
         "id": "85381",
         "CO2_working_capacity [mL/g]": -7.611992288122125,
         "_deepnote_index_column": 16767
        },
        {
         "id": "85382",
         "CO2_working_capacity [mL/g]": -0.793316772621149,
         "_deepnote_index_column": 16768
        },
        {
         "id": "85383",
         "CO2_working_capacity [mL/g]": 4.214986639172156,
         "_deepnote_index_column": 16769
        },
        {
         "id": "85384",
         "CO2_working_capacity [mL/g]": 7.297272702223998,
         "_deepnote_index_column": 16770
        },
        {
         "id": "85385",
         "CO2_working_capacity [mL/g]": 1.9363544566700932,
         "_deepnote_index_column": 16771
        },
        {
         "id": "85386",
         "CO2_working_capacity [mL/g]": 1.7565871301900706,
         "_deepnote_index_column": 16772
        },
        {
         "id": "85387",
         "CO2_working_capacity [mL/g]": 1.8625816294407191,
         "_deepnote_index_column": 16773
        },
        {
         "id": "85388",
         "CO2_working_capacity [mL/g]": -2.9672869097950705,
         "_deepnote_index_column": 16774
        },
        {
         "id": "85389",
         "CO2_working_capacity [mL/g]": 1.765883167453413,
         "_deepnote_index_column": 16775
        },
        {
         "id": "85390",
         "CO2_working_capacity [mL/g]": 0.7886387672798693,
         "_deepnote_index_column": 16776
        },
        {
         "id": "85391",
         "CO2_working_capacity [mL/g]": 1.8806503994127506,
         "_deepnote_index_column": 16777
        },
        {
         "id": "85392",
         "CO2_working_capacity [mL/g]": 1.7185709854776798,
         "_deepnote_index_column": 16778
        },
        {
         "id": "85393",
         "CO2_working_capacity [mL/g]": 19.218249470074934,
         "_deepnote_index_column": 16779
        },
        {
         "id": "85394",
         "CO2_working_capacity [mL/g]": -6.157499485312674,
         "_deepnote_index_column": 16780
        },
        {
         "id": "85395",
         "CO2_working_capacity [mL/g]": 3.842664942350059,
         "_deepnote_index_column": 16781
        },
        {
         "id": "85396",
         "CO2_working_capacity [mL/g]": 2.2732214044579773,
         "_deepnote_index_column": 16782
        },
        {
         "id": "85397",
         "CO2_working_capacity [mL/g]": -3.2978422470936266,
         "_deepnote_index_column": 16783
        },
        {
         "id": "85398",
         "CO2_working_capacity [mL/g]": -9.800740517242117,
         "_deepnote_index_column": 16784
        },
        {
         "id": "85399",
         "CO2_working_capacity [mL/g]": 0.7287002118275384,
         "_deepnote_index_column": 16785
        },
        {
         "id": "85400",
         "CO2_working_capacity [mL/g]": -0.8752081304625808,
         "_deepnote_index_column": 16786
        },
        {
         "id": "85401",
         "CO2_working_capacity [mL/g]": 1.9548576059503648,
         "_deepnote_index_column": 16787
        },
        {
         "id": "85402",
         "CO2_working_capacity [mL/g]": -1.3952782019673133,
         "_deepnote_index_column": 16788
        },
        {
         "id": "85403",
         "CO2_working_capacity [mL/g]": 1.4924357827472994,
         "_deepnote_index_column": 16789
        },
        {
         "id": "85404",
         "CO2_working_capacity [mL/g]": -3.0496402012504413,
         "_deepnote_index_column": 16790
        },
        {
         "id": "85405",
         "CO2_working_capacity [mL/g]": 1.7185709854776798,
         "_deepnote_index_column": 16791
        },
        {
         "id": "85406",
         "CO2_working_capacity [mL/g]": -1.8870317065018232,
         "_deepnote_index_column": 16792
        },
        {
         "id": "85407",
         "CO2_working_capacity [mL/g]": -0.8752081304625808,
         "_deepnote_index_column": 16793
        },
        {
         "id": "85408",
         "CO2_working_capacity [mL/g]": -0.6947621974786822,
         "_deepnote_index_column": 16794
        },
        {
         "id": "85409",
         "CO2_working_capacity [mL/g]": -0.8752081304625808,
         "_deepnote_index_column": 16795
        },
        {
         "id": "85410",
         "CO2_working_capacity [mL/g]": 2.657250585041823,
         "_deepnote_index_column": 16796
        },
        {
         "id": "85411",
         "CO2_working_capacity [mL/g]": 4.851143001582878,
         "_deepnote_index_column": 16797
        },
        {
         "id": "85412",
         "CO2_working_capacity [mL/g]": -6.342004057599552,
         "_deepnote_index_column": 16798
        },
        {
         "id": "85413",
         "CO2_working_capacity [mL/g]": 4.06960768510767,
         "_deepnote_index_column": 16799
        },
        {
         "id": "85414",
         "CO2_working_capacity [mL/g]": -7.6825505631726685,
         "_deepnote_index_column": 16800
        },
        {
         "id": "85415",
         "CO2_working_capacity [mL/g]": 1.8625816294407191,
         "_deepnote_index_column": 16801
        },
        {
         "id": "85416",
         "CO2_working_capacity [mL/g]": -2.458342084078372,
         "_deepnote_index_column": 16802
        },
        {
         "id": "85417",
         "CO2_working_capacity [mL/g]": -3.4807681910117894,
         "_deepnote_index_column": 16803
        },
        {
         "id": "85418",
         "CO2_working_capacity [mL/g]": 1.5113124239692426,
         "_deepnote_index_column": 16804
        },
        {
         "id": "85419",
         "CO2_working_capacity [mL/g]": -0.27702949122599596,
         "_deepnote_index_column": 16805
        },
        {
         "id": "85420",
         "CO2_working_capacity [mL/g]": 2.3510541229964304,
         "_deepnote_index_column": 16806
        },
        {
         "id": "85421",
         "CO2_working_capacity [mL/g]": -0.8752081304625808,
         "_deepnote_index_column": 16807
        },
        {
         "id": "85422",
         "CO2_working_capacity [mL/g]": -2.3651118996681264,
         "_deepnote_index_column": 16808
        },
        {
         "id": "85423",
         "CO2_working_capacity [mL/g]": 1.8713692401678452,
         "_deepnote_index_column": 16809
        },
        {
         "id": "85424",
         "CO2_working_capacity [mL/g]": 23.987842499478887,
         "_deepnote_index_column": 16810
        },
        {
         "id": "85425",
         "CO2_working_capacity [mL/g]": 1.8625816294407191,
         "_deepnote_index_column": 16811
        },
        {
         "id": "85426",
         "CO2_working_capacity [mL/g]": 1.8713692401678452,
         "_deepnote_index_column": 16812
        },
        {
         "id": "85427",
         "CO2_working_capacity [mL/g]": 2.3004071491377713,
         "_deepnote_index_column": 16813
        },
        {
         "id": "85428",
         "CO2_working_capacity [mL/g]": -0.6100274961571275,
         "_deepnote_index_column": 16814
        },
        {
         "id": "85429",
         "CO2_working_capacity [mL/g]": 5.226078384169654,
         "_deepnote_index_column": 16815
        },
        {
         "id": "85430",
         "CO2_working_capacity [mL/g]": -1.8870317065018232,
         "_deepnote_index_column": 16816
        },
        {
         "id": "85431",
         "CO2_working_capacity [mL/g]": 6.055879737421197,
         "_deepnote_index_column": 16817
        },
        {
         "id": "85432",
         "CO2_working_capacity [mL/g]": 0.9607206442919236,
         "_deepnote_index_column": 16818
        },
        {
         "id": "85433",
         "CO2_working_capacity [mL/g]": -1.0143762869126178,
         "_deepnote_index_column": 16819
        },
        {
         "id": "85434",
         "CO2_working_capacity [mL/g]": -0.5327191129115483,
         "_deepnote_index_column": 16820
        },
        {
         "id": "85435",
         "CO2_working_capacity [mL/g]": 80.89197901248323,
         "_deepnote_index_column": 16821
        },
        {
         "id": "85436",
         "CO2_working_capacity [mL/g]": -3.0491782676365027,
         "_deepnote_index_column": 16822
        },
        {
         "id": "85437",
         "CO2_working_capacity [mL/g]": 1.8625816294407191,
         "_deepnote_index_column": 16823
        },
        {
         "id": "85438",
         "CO2_working_capacity [mL/g]": -7.4949678621799665,
         "_deepnote_index_column": 16824
        },
        {
         "id": "85439",
         "CO2_working_capacity [mL/g]": -0.7706707039684056,
         "_deepnote_index_column": 16825
        },
        {
         "id": "85440",
         "CO2_working_capacity [mL/g]": 0.3307061690397395,
         "_deepnote_index_column": 16826
        },
        {
         "id": "85441",
         "CO2_working_capacity [mL/g]": 1.8625816294407191,
         "_deepnote_index_column": 16827
        },
        {
         "id": "85442",
         "CO2_working_capacity [mL/g]": -3.203806612097388,
         "_deepnote_index_column": 16828
        },
        {
         "id": "85443",
         "CO2_working_capacity [mL/g]": 29.236365742610968,
         "_deepnote_index_column": 16829
        },
        {
         "id": "85444",
         "CO2_working_capacity [mL/g]": -4.2194949742705425,
         "_deepnote_index_column": 16830
        },
        {
         "id": "85445",
         "CO2_working_capacity [mL/g]": 6.677260919715727,
         "_deepnote_index_column": 16831
        },
        {
         "id": "85446",
         "CO2_working_capacity [mL/g]": -2.941898518008632,
         "_deepnote_index_column": 16832
        },
        {
         "id": "85447",
         "CO2_working_capacity [mL/g]": 0.6299633414513958,
         "_deepnote_index_column": 16833
        },
        {
         "id": "85448",
         "CO2_working_capacity [mL/g]": 2.269162765154998,
         "_deepnote_index_column": 16834
        },
        {
         "id": "85449",
         "CO2_working_capacity [mL/g]": -1.3952782019673133,
         "_deepnote_index_column": 16835
        },
        {
         "id": "85450",
         "CO2_working_capacity [mL/g]": 8.004479530421559,
         "_deepnote_index_column": 16836
        },
        {
         "id": "85451",
         "CO2_working_capacity [mL/g]": -3.459616388667223,
         "_deepnote_index_column": 16837
        },
        {
         "id": "85452",
         "CO2_working_capacity [mL/g]": -11.478820978125606,
         "_deepnote_index_column": 16838
        },
        {
         "id": "85453",
         "CO2_working_capacity [mL/g]": 1.8625816294407191,
         "_deepnote_index_column": 16839
        },
        {
         "id": "85454",
         "CO2_working_capacity [mL/g]": -7.530100930280693,
         "_deepnote_index_column": 16840
        },
        {
         "id": "85455",
         "CO2_working_capacity [mL/g]": -5.1853922092730915,
         "_deepnote_index_column": 16841
        },
        {
         "id": "85456",
         "CO2_working_capacity [mL/g]": 3.7638297996433714,
         "_deepnote_index_column": 16842
        },
        {
         "id": "85457",
         "CO2_working_capacity [mL/g]": -1.6246944156764926,
         "_deepnote_index_column": 16843
        },
        {
         "id": "85458",
         "CO2_working_capacity [mL/g]": 1.4524741488264337,
         "_deepnote_index_column": 16844
        },
        {
         "id": "85459",
         "CO2_working_capacity [mL/g]": 2.3510541229964304,
         "_deepnote_index_column": 16845
        },
        {
         "id": "85460",
         "CO2_working_capacity [mL/g]": 3.6110315449532058,
         "_deepnote_index_column": 16846
        },
        {
         "id": "85461",
         "CO2_working_capacity [mL/g]": -3.850523613932491,
         "_deepnote_index_column": 16847
        },
        {
         "id": "85462",
         "CO2_working_capacity [mL/g]": -1.3952782019673133,
         "_deepnote_index_column": 16848
        },
        {
         "id": "85463",
         "CO2_working_capacity [mL/g]": -0.24272499294383043,
         "_deepnote_index_column": 16849
        },
        {
         "id": "85464",
         "CO2_working_capacity [mL/g]": -5.521565604284617,
         "_deepnote_index_column": 16850
        },
        {
         "id": "85465",
         "CO2_working_capacity [mL/g]": -1.127153120898504,
         "_deepnote_index_column": 16851
        },
        {
         "id": "85466",
         "CO2_working_capacity [mL/g]": -1.096021029555657,
         "_deepnote_index_column": 16852
        },
        {
         "id": "85467",
         "CO2_working_capacity [mL/g]": -0.8752081304625808,
         "_deepnote_index_column": 16853
        },
        {
         "id": "85468",
         "CO2_working_capacity [mL/g]": 2.269162765154998,
         "_deepnote_index_column": 16854
        },
        {
         "id": "85469",
         "CO2_working_capacity [mL/g]": -4.5967063466028115,
         "_deepnote_index_column": 16855
        },
        {
         "id": "85470",
         "CO2_working_capacity [mL/g]": 1.4017853479182083,
         "_deepnote_index_column": 16856
        },
        {
         "id": "85471",
         "CO2_working_capacity [mL/g]": 0.31177253949561146,
         "_deepnote_index_column": 16857
        },
        {
         "id": "85472",
         "CO2_working_capacity [mL/g]": 1.8625816294407191,
         "_deepnote_index_column": 16858
        },
        {
         "id": "85473",
         "CO2_working_capacity [mL/g]": 1.48367670575964,
         "_deepnote_index_column": 16859
        },
        {
         "id": "85474",
         "CO2_working_capacity [mL/g]": 1.9370480094464542,
         "_deepnote_index_column": 16860
        },
        {
         "id": "85475",
         "CO2_working_capacity [mL/g]": 15.45429149352676,
         "_deepnote_index_column": 16861
        },
        {
         "id": "85476",
         "CO2_working_capacity [mL/g]": 5.777905965755263,
         "_deepnote_index_column": 16862
        },
        {
         "id": "85477",
         "CO2_working_capacity [mL/g]": 39.27177132466367,
         "_deepnote_index_column": 16863
        },
        {
         "id": "85478",
         "CO2_working_capacity [mL/g]": 1.8249195896198682,
         "_deepnote_index_column": 16864
        },
        {
         "id": "85479",
         "CO2_working_capacity [mL/g]": 2.1910212442999404,
         "_deepnote_index_column": 16865
        },
        {
         "id": "85480",
         "CO2_working_capacity [mL/g]": 19.021654174127494,
         "_deepnote_index_column": 16866
        },
        {
         "id": "85481",
         "CO2_working_capacity [mL/g]": 3.7892713561131024,
         "_deepnote_index_column": 16867
        },
        {
         "id": "85482",
         "CO2_working_capacity [mL/g]": 20.487178677399385,
         "_deepnote_index_column": 16868
        },
        {
         "id": "85483",
         "CO2_working_capacity [mL/g]": -1.2491367672655793,
         "_deepnote_index_column": 16869
        },
        {
         "id": "85484",
         "CO2_working_capacity [mL/g]": -1.7065857735179244,
         "_deepnote_index_column": 16870
        },
        {
         "id": "85485",
         "CO2_working_capacity [mL/g]": 2.2732214044579773,
         "_deepnote_index_column": 16871
        },
        {
         "id": "85486",
         "CO2_working_capacity [mL/g]": -0.3205577114822832,
         "_deepnote_index_column": 16872
        },
        {
         "id": "85487",
         "CO2_working_capacity [mL/g]": -0.6748230162131487,
         "_deepnote_index_column": 16873
        },
        {
         "id": "85488",
         "CO2_working_capacity [mL/g]": -1.2545485689830729,
         "_deepnote_index_column": 16874
        },
        {
         "id": "85489",
         "CO2_working_capacity [mL/g]": -3.229624200620401,
         "_deepnote_index_column": 16875
        },
        {
         "id": "85490",
         "CO2_working_capacity [mL/g]": -0.24272499294383043,
         "_deepnote_index_column": 16876
        },
        {
         "id": "85491",
         "CO2_working_capacity [mL/g]": 0.31177253949561146,
         "_deepnote_index_column": 16877
        },
        {
         "id": "85492",
         "CO2_working_capacity [mL/g]": -4.2603796464649895,
         "_deepnote_index_column": 16878
        },
        {
         "id": "85493",
         "CO2_working_capacity [mL/g]": 0.20811701422470197,
         "_deepnote_index_column": 16879
        },
        {
         "id": "85494",
         "CO2_working_capacity [mL/g]": -5.101573860489137,
         "_deepnote_index_column": 16880
        },
        {
         "id": "85495",
         "CO2_working_capacity [mL/g]": 1.1166095561315161,
         "_deepnote_index_column": 16881
        },
        {
         "id": "85496",
         "CO2_working_capacity [mL/g]": 1.018307939010414,
         "_deepnote_index_column": 16882
        },
        {
         "id": "85497",
         "CO2_working_capacity [mL/g]": -7.467981644159086,
         "_deepnote_index_column": 16883
        },
        {
         "id": "85498",
         "CO2_working_capacity [mL/g]": 3.8774274750815154,
         "_deepnote_index_column": 16884
        },
        {
         "id": "85499",
         "CO2_working_capacity [mL/g]": -0.793316772621149,
         "_deepnote_index_column": 16885
        },
        {
         "id": "85500",
         "CO2_working_capacity [mL/g]": -1.477169559808745,
         "_deepnote_index_column": 16886
        },
        {
         "id": "85501",
         "CO2_working_capacity [mL/g]": 0.7374878225546647,
         "_deepnote_index_column": 16887
        },
        {
         "id": "85502",
         "CO2_working_capacity [mL/g]": -1.0143762869126178,
         "_deepnote_index_column": 16888
        },
        {
         "id": "85503",
         "CO2_working_capacity [mL/g]": -0.3246163507852623,
         "_deepnote_index_column": 16889
        },
        {
         "id": "85504",
         "CO2_working_capacity [mL/g]": -0.3246163507852623,
         "_deepnote_index_column": 16890
        },
        {
         "id": "85505",
         "CO2_working_capacity [mL/g]": -1.6631502056008614,
         "_deepnote_index_column": 16891
        },
        {
         "id": "85506",
         "CO2_working_capacity [mL/g]": -7.086370882991293,
         "_deepnote_index_column": 16892
        },
        {
         "id": "85507",
         "CO2_working_capacity [mL/g]": 8.227509789286346,
         "_deepnote_index_column": 16893
        },
        {
         "id": "85508",
         "CO2_working_capacity [mL/g]": 5.746661581772491,
         "_deepnote_index_column": 16894
        },
        {
         "id": "85509",
         "CO2_working_capacity [mL/g]": 1.5621499706736943,
         "_deepnote_index_column": 16895
        },
        {
         "id": "85510",
         "CO2_working_capacity [mL/g]": 5.653234143984153,
         "_deepnote_index_column": 16896
        },
        {
         "id": "85511",
         "CO2_working_capacity [mL/g]": -1.1013433331929612,
         "_deepnote_index_column": 16897
        },
        {
         "id": "85512",
         "CO2_working_capacity [mL/g]": -3.3426029828757438,
         "_deepnote_index_column": 16898
        },
        {
         "id": "85513",
         "CO2_working_capacity [mL/g]": 2.0997195157307686,
         "_deepnote_index_column": 16899
        },
        {
         "id": "85514",
         "CO2_working_capacity [mL/g]": -0.8752081304625808,
         "_deepnote_index_column": 16900
        },
        {
         "id": "85515",
         "CO2_working_capacity [mL/g]": -3.481569191056324,
         "_deepnote_index_column": 16901
        },
        {
         "id": "85516",
         "CO2_working_capacity [mL/g]": -6.979509150603375,
         "_deepnote_index_column": 16902
        },
        {
         "id": "85517",
         "CO2_working_capacity [mL/g]": 1.8625816294407191,
         "_deepnote_index_column": 16903
        },
        {
         "id": "85518",
         "CO2_working_capacity [mL/g]": -3.229624200620401,
         "_deepnote_index_column": 16904
        },
        {
         "id": "85519",
         "CO2_working_capacity [mL/g]": 1.0426120021333554,
         "_deepnote_index_column": 16905
        },
        {
         "id": "85520",
         "CO2_working_capacity [mL/g]": -2.7378706960858907,
         "_deepnote_index_column": 16906
        },
        {
         "id": "85521",
         "CO2_working_capacity [mL/g]": 4.969934599364793,
         "_deepnote_index_column": 16907
        },
        {
         "id": "85522",
         "CO2_working_capacity [mL/g]": -0.05837330719780835,
         "_deepnote_index_column": 16908
        },
        {
         "id": "85523",
         "CO2_working_capacity [mL/g]": 1.018307939010414,
         "_deepnote_index_column": 16909
        },
        {
         "id": "85524",
         "CO2_working_capacity [mL/g]": -6.342004057599552,
         "_deepnote_index_column": 16910
        },
        {
         "id": "85525",
         "CO2_working_capacity [mL/g]": -8.745873705735306,
         "_deepnote_index_column": 16911
        },
        {
         "id": "85526",
         "CO2_working_capacity [mL/g]": 3.45426505486712,
         "_deepnote_index_column": 16912
        },
        {
         "id": "85527",
         "CO2_working_capacity [mL/g]": -3.3375585470932845,
         "_deepnote_index_column": 16913
        },
        {
         "id": "85528",
         "CO2_working_capacity [mL/g]": -2.217800624581159,
         "_deepnote_index_column": 16914
        },
        {
         "id": "85529",
         "CO2_working_capacity [mL/g]": 1.8990169184615786,
         "_deepnote_index_column": 16915
        },
        {
         "id": "85530",
         "CO2_working_capacity [mL/g]": -0.24272499294383043,
         "_deepnote_index_column": 16916
        },
        {
         "id": "85531",
         "CO2_working_capacity [mL/g]": 5.340080446058212,
         "_deepnote_index_column": 16917
        },
        {
         "id": "85532",
         "CO2_working_capacity [mL/g]": 1.6921700647890634,
         "_deepnote_index_column": 16918
        },
        {
         "id": "85533",
         "CO2_working_capacity [mL/g]": -0.793316772621149,
         "_deepnote_index_column": 16919
        },
        {
         "id": "85534",
         "CO2_working_capacity [mL/g]": 76.12276944198513,
         "_deepnote_index_column": 16920
        },
        {
         "id": "85535",
         "CO2_working_capacity [mL/g]": 1.4924357827472994,
         "_deepnote_index_column": 16921
        },
        {
         "id": "85536",
         "CO2_working_capacity [mL/g]": 2.0997195157307686,
         "_deepnote_index_column": 16922
        },
        {
         "id": "85537",
         "CO2_working_capacity [mL/g]": -2.4386135236742343,
         "_deepnote_index_column": 16923
        },
        {
         "id": "85538",
         "CO2_working_capacity [mL/g]": 2.3510541229964304,
         "_deepnote_index_column": 16924
        },
        {
         "id": "85539",
         "CO2_working_capacity [mL/g]": -6.019311979809329,
         "_deepnote_index_column": 16925
        },
        {
         "id": "85540",
         "CO2_working_capacity [mL/g]": 1.2404907923113764,
         "_deepnote_index_column": 16926
        },
        {
         "id": "85541",
         "CO2_working_capacity [mL/g]": -0.4940596002094926,
         "_deepnote_index_column": 16927
        },
        {
         "id": "85542",
         "CO2_working_capacity [mL/g]": 1.8625816294407191,
         "_deepnote_index_column": 16928
        },
        {
         "id": "85543",
         "CO2_working_capacity [mL/g]": 1.9809082763030104,
         "_deepnote_index_column": 16929
        },
        {
         "id": "85544",
         "CO2_working_capacity [mL/g]": 4.969934599364793,
         "_deepnote_index_column": 16930
        },
        {
         "id": "85545",
         "CO2_working_capacity [mL/g]": 4.81672936357468,
         "_deepnote_index_column": 16931
        },
        {
         "id": "85546",
         "CO2_working_capacity [mL/g]": -6.241440908347819,
         "_deepnote_index_column": 16932
        },
        {
         "id": "85547",
         "CO2_working_capacity [mL/g]": 0.09658557540768002,
         "_deepnote_index_column": 16933
        },
        {
         "id": "85548",
         "CO2_working_capacity [mL/g]": 40.53833801270139,
         "_deepnote_index_column": 16934
        },
        {
         "id": "85549",
         "CO2_working_capacity [mL/g]": -3.2368958145566977,
         "_deepnote_index_column": 16935
        },
        {
         "id": "85550",
         "CO2_working_capacity [mL/g]": -8.280722491848639,
         "_deepnote_index_column": 16936
        },
        {
         "id": "85551",
         "CO2_working_capacity [mL/g]": -3.0371096459305775,
         "_deepnote_index_column": 16937
        },
        {
         "id": "85552",
         "CO2_working_capacity [mL/g]": -6.26011269975812,
         "_deepnote_index_column": 16938
        },
        {
         "id": "85553",
         "CO2_working_capacity [mL/g]": -2.1170238945486446,
         "_deepnote_index_column": 16939
        },
        {
         "id": "85554",
         "CO2_working_capacity [mL/g]": 23.96083488237279,
         "_deepnote_index_column": 16940
        },
        {
         "id": "85555",
         "CO2_working_capacity [mL/g]": 9.870948086868264,
         "_deepnote_index_column": 16941
        },
        {
         "id": "85556",
         "CO2_working_capacity [mL/g]": 28.25081995739457,
         "_deepnote_index_column": 16942
        },
        {
         "id": "85557",
         "CO2_working_capacity [mL/g]": 0.7287002118275384,
         "_deepnote_index_column": 16943
        },
        {
         "id": "85558",
         "CO2_working_capacity [mL/g]": 0.48061220670805693,
         "_deepnote_index_column": 16944
        },
        {
         "id": "85559",
         "CO2_working_capacity [mL/g]": -2.9544908793042604,
         "_deepnote_index_column": 16945
        },
        {
         "id": "85560",
         "CO2_working_capacity [mL/g]": -4.948775605798972,
         "_deepnote_index_column": 16946
        },
        {
         "id": "85561",
         "CO2_working_capacity [mL/g]": -1.8650789041127216,
         "_deepnote_index_column": 16947
        },
        {
         "id": "85562",
         "CO2_working_capacity [mL/g]": 43.486176632079705,
         "_deepnote_index_column": 16948
        },
        {
         "id": "85563",
         "CO2_working_capacity [mL/g]": -0.9944813035042779,
         "_deepnote_index_column": 16949
        },
        {
         "id": "85564",
         "CO2_working_capacity [mL/g]": 0.29355832727745107,
         "_deepnote_index_column": 16950
        },
        {
         "id": "85565",
         "CO2_working_capacity [mL/g]": -1.0711167937112462,
         "_deepnote_index_column": 16951
        },
        {
         "id": "85566",
         "CO2_working_capacity [mL/g]": -3.0209131241150033,
         "_deepnote_index_column": 16952
        },
        {
         "id": "85567",
         "CO2_working_capacity [mL/g]": -3.3760063756665266,
         "_deepnote_index_column": 16953
        },
        {
         "id": "85568",
         "CO2_working_capacity [mL/g]": -6.72991340190353,
         "_deepnote_index_column": 16954
        },
        {
         "id": "85569",
         "CO2_working_capacity [mL/g]": -0.7311974864995415,
         "_deepnote_index_column": 16955
        },
        {
         "id": "85570",
         "CO2_working_capacity [mL/g]": -4.057720832696947,
         "_deepnote_index_column": 16956
        },
        {
         "id": "85571",
         "CO2_working_capacity [mL/g]": 2.3551127622994095,
         "_deepnote_index_column": 16957
        },
        {
         "id": "85572",
         "CO2_working_capacity [mL/g]": -0.27702949122599596,
         "_deepnote_index_column": 16958
        },
        {
         "id": "85573",
         "CO2_working_capacity [mL/g]": 0.056532179467825794,
         "_deepnote_index_column": 16959
        },
        {
         "id": "85574",
         "CO2_working_capacity [mL/g]": 0.6299633414513958,
         "_deepnote_index_column": 16960
        },
        {
         "id": "85575",
         "CO2_working_capacity [mL/g]": 74.44716875839563,
         "_deepnote_index_column": 16961
        },
        {
         "id": "85576",
         "CO2_working_capacity [mL/g]": 1.7185709854776798,
         "_deepnote_index_column": 16962
        },
        {
         "id": "85577",
         "CO2_working_capacity [mL/g]": 1.1166095561315161,
         "_deepnote_index_column": 16963
        },
        {
         "id": "85578",
         "CO2_working_capacity [mL/g]": -5.1853922092730915,
         "_deepnote_index_column": 16964
        },
        {
         "id": "85579",
         "CO2_working_capacity [mL/g]": -3.0768259459302354,
         "_deepnote_index_column": 16965
        },
        {
         "id": "85580",
         "CO2_working_capacity [mL/g]": 1.198500913972948,
         "_deepnote_index_column": 16966
        },
        {
         "id": "85581",
         "CO2_working_capacity [mL/g]": 48.30536265120036,
         "_deepnote_index_column": 16967
        },
        {
         "id": "85582",
         "CO2_working_capacity [mL/g]": -1.1013433331929612,
         "_deepnote_index_column": 16968
        },
        {
         "id": "85583",
         "CO2_working_capacity [mL/g]": 17.218687206990623,
         "_deepnote_index_column": 16969
        },
        {
         "id": "85584",
         "CO2_working_capacity [mL/g]": -0.7224098757724152,
         "_deepnote_index_column": 16970
        },
        {
         "id": "85585",
         "CO2_working_capacity [mL/g]": 2.650311295408087,
         "_deepnote_index_column": 16971
        },
        {
         "id": "85586",
         "CO2_working_capacity [mL/g]": -8.601863061772267,
         "_deepnote_index_column": 16972
        },
        {
         "id": "85587",
         "CO2_working_capacity [mL/g]": -0.8752081304625808,
         "_deepnote_index_column": 16973
        },
        {
         "id": "85588",
         "CO2_working_capacity [mL/g]": -1.0143762869126178,
         "_deepnote_index_column": 16974
        },
        {
         "id": "85589",
         "CO2_working_capacity [mL/g]": -2.171930151853959,
         "_deepnote_index_column": 16975
        },
        {
         "id": "85590",
         "CO2_working_capacity [mL/g]": -1.9554633337558287,
         "_deepnote_index_column": 16976
        },
        {
         "id": "85591",
         "CO2_working_capacity [mL/g]": -3.614970722407519,
         "_deepnote_index_column": 16977
        },
        {
         "id": "85592",
         "CO2_working_capacity [mL/g]": -1.3952782019673133,
         "_deepnote_index_column": 16978
        },
        {
         "id": "85593",
         "CO2_working_capacity [mL/g]": 2.607950681311652,
         "_deepnote_index_column": 16979
        },
        {
         "id": "85594",
         "CO2_working_capacity [mL/g]": 3.45426505486712,
         "_deepnote_index_column": 16980
        },
        {
         "id": "85595",
         "CO2_working_capacity [mL/g]": 1.5345022923799616,
         "_deepnote_index_column": 16981
        },
        {
         "id": "85596",
         "CO2_working_capacity [mL/g]": -1.477169559808745,
         "_deepnote_index_column": 16982
        },
        {
         "id": "85597",
         "CO2_working_capacity [mL/g]": -1.6661741404798107,
         "_deepnote_index_column": 16983
        },
        {
         "id": "85598",
         "CO2_working_capacity [mL/g]": 1.8625816294407191,
         "_deepnote_index_column": 16984
        },
        {
         "id": "85599",
         "CO2_working_capacity [mL/g]": 7.469678891823785,
         "_deepnote_index_column": 16985
        },
        {
         "id": "85600",
         "CO2_working_capacity [mL/g]": 6.32080791526212,
         "_deepnote_index_column": 16986
        },
        {
         "id": "85601",
         "CO2_working_capacity [mL/g]": -0.24272499294383043,
         "_deepnote_index_column": 16987
        },
        {
         "id": "85602",
         "CO2_working_capacity [mL/g]": 1.8625816294407191,
         "_deepnote_index_column": 16988
        },
        {
         "id": "85603",
         "CO2_working_capacity [mL/g]": -1.5754711769298468,
         "_deepnote_index_column": 16989
        },
        {
         "id": "85604",
         "CO2_working_capacity [mL/g]": 5.340080446058212,
         "_deepnote_index_column": 16990
        },
        {
         "id": "85605",
         "CO2_working_capacity [mL/g]": 5.746661581772491,
         "_deepnote_index_column": 16991
        },
        {
         "id": "85606",
         "CO2_working_capacity [mL/g]": -1.9552497529750483,
         "_deepnote_index_column": 16992
        },
        {
         "id": "85607",
         "CO2_working_capacity [mL/g]": -4.742036820466061,
         "_deepnote_index_column": 16993
        },
        {
         "id": "85608",
         "CO2_working_capacity [mL/g]": 0.7118430840540197,
         "_deepnote_index_column": 16994
        },
        {
         "id": "85609",
         "CO2_working_capacity [mL/g]": -5.754581843074234,
         "_deepnote_index_column": 16995
        },
        {
         "id": "85610",
         "CO2_working_capacity [mL/g]": 2.269162765154998,
         "_deepnote_index_column": 16996
        },
        {
         "id": "85611",
         "CO2_working_capacity [mL/g]": 1.8004623433191116,
         "_deepnote_index_column": 16997
        },
        {
         "id": "85612",
         "CO2_working_capacity [mL/g]": 1.9809082763030104,
         "_deepnote_index_column": 16998
        },
        {
         "id": "85613",
         "CO2_working_capacity [mL/g]": -1.8051403486603914,
         "_deepnote_index_column": 16999
        }
       ]
      },
      "text/plain": "          id  CO2_working_capacity [mL/g]\n0      68614                   195.727662\n1      68615                    57.396545\n2      68616                    66.455227\n3      68617                    53.902388\n4      68618                    60.689663\n...      ...                          ...\n16995  85609                    -5.754582\n16996  85610                     2.269163\n16997  85611                     1.800462\n16998  85612                     1.980908\n16999  85613                    -1.805140\n\n[17000 rows x 2 columns]",
      "text/html": "<div>\n<style scoped>\n    .dataframe tbody tr th:only-of-type {\n        vertical-align: middle;\n    }\n\n    .dataframe tbody tr th {\n        vertical-align: top;\n    }\n\n    .dataframe thead th {\n        text-align: right;\n    }\n</style>\n<table border=\"1\" class=\"dataframe\">\n  <thead>\n    <tr style=\"text-align: right;\">\n      <th></th>\n      <th>id</th>\n      <th>CO2_working_capacity [mL/g]</th>\n    </tr>\n  </thead>\n  <tbody>\n    <tr>\n      <th>0</th>\n      <td>68614</td>\n      <td>195.727662</td>\n    </tr>\n    <tr>\n      <th>1</th>\n      <td>68615</td>\n      <td>57.396545</td>\n    </tr>\n    <tr>\n      <th>2</th>\n      <td>68616</td>\n      <td>66.455227</td>\n    </tr>\n    <tr>\n      <th>3</th>\n      <td>68617</td>\n      <td>53.902388</td>\n    </tr>\n    <tr>\n      <th>4</th>\n      <td>68618</td>\n      <td>60.689663</td>\n    </tr>\n    <tr>\n      <th>...</th>\n      <td>...</td>\n      <td>...</td>\n    </tr>\n    <tr>\n      <th>16995</th>\n      <td>85609</td>\n      <td>-5.754582</td>\n    </tr>\n    <tr>\n      <th>16996</th>\n      <td>85610</td>\n      <td>2.269163</td>\n    </tr>\n    <tr>\n      <th>16997</th>\n      <td>85611</td>\n      <td>1.800462</td>\n    </tr>\n    <tr>\n      <th>16998</th>\n      <td>85612</td>\n      <td>1.980908</td>\n    </tr>\n    <tr>\n      <th>16999</th>\n      <td>85613</td>\n      <td>-1.805140</td>\n    </tr>\n  </tbody>\n</table>\n<p>17000 rows × 2 columns</p>\n</div>"
     },
     "metadata": {}
    }
   ]
  },
  {
   "cell_type": "code",
   "metadata": {
    "tags": [],
    "cell_id": "00027-2febb9bf-dcc7-4602-b482-e22c77d6337b",
    "deepnote_to_be_reexecuted": false,
    "source_hash": "b00377d5",
    "execution_start": 1634393820498,
    "execution_millis": 2677,
    "deepnote_cell_type": "code"
   },
   "source": "df.to_csv('submission.csv',index=False)",
   "execution_count": null,
   "outputs": []
  },
  {
   "cell_type": "markdown",
   "source": "<a style='text-decoration:none;line-height:16px;display:flex;color:#5B5B62;padding:10px;justify-content:end;' href='https://deepnote.com?utm_source=created-in-deepnote-cell&projectId=722d58f1-7106-4091-999d-622fea1f4030' target=\"_blank\">\n<img alt='Created in deepnote.com' style='display:inline;max-height:16px;margin:0px;margin-right:7.5px;' src='data:image/svg+xml;base64,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' > </img>\nCreated in <span style='font-weight:600;margin-left:4px;'>Deepnote</span></a>",
   "metadata": {
    "tags": [],
    "created_in_deepnote_cell": true,
    "deepnote_cell_type": "markdown"
   }
  }
 ],
 "nbformat": 4,
 "nbformat_minor": 2,
 "metadata": {
  "orig_nbformat": 2,
  "deepnote": {
   "is_reactive": false
  },
  "deepnote_notebook_id": "4f4985bb-54df-4225-852c-e56e76afd80b",
  "deepnote_execution_queue": []
 }
}