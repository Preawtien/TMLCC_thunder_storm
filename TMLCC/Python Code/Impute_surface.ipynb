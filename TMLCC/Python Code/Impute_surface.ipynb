{
 "cells": [
  {
   "cell_type": "code",
   "metadata": {
    "tags": [],
    "cell_id": "00000-d8f93c10-b0f6-4292-b872-81556e59a8d4",
    "deepnote_to_be_reexecuted": false,
    "source_hash": "c76c7c51",
    "execution_start": 1633266161939,
    "execution_millis": 1,
    "deepnote_cell_type": "code"
   },
   "source": "import pandas as pd\nimport numpy as np",
   "execution_count": null,
   "outputs": []
  },
  {
   "cell_type": "code",
   "metadata": {
    "tags": [],
    "cell_id": "00001-0428ef6c-64fe-4e90-bfb2-f6029f03b9d9",
    "deepnote_to_be_reexecuted": false,
    "source_hash": "43c0104a",
    "execution_start": 1633266217853,
    "execution_millis": 4,
    "deepnote_cell_type": "code"
   },
   "source": "df1 = pd.DataFrame({\"Id\": [0,1,2,3], \"Val1\": [1,2,3,1], \"Val2\": [2,3,5,3]})\ndf2 = pd.DataFrame({\"Id\": [0,1,2,3], \"Val3\": [3,5,4,5]})",
   "execution_count": null,
   "outputs": []
  },
  {
   "cell_type": "code",
   "metadata": {
    "tags": [],
    "cell_id": "00002-d984126a-fd47-4dac-889c-13f538d24a33",
    "deepnote_to_be_reexecuted": false,
    "source_hash": "72779df",
    "execution_start": 1633266220620,
    "execution_millis": 27,
    "deepnote_cell_type": "code"
   },
   "source": "df = pd.merge(left=df1, right=df2, how='inner')\n\ndf",
   "execution_count": null,
   "outputs": [
    {
     "output_type": "execute_result",
     "execution_count": 6,
     "data": {
      "application/vnd.deepnote.dataframe.v2+json": {
       "row_count": 4,
       "column_count": 4,
       "columns": [
        {
         "name": "Id",
         "dtype": "int64",
         "stats": {
          "unique_count": 4,
          "nan_count": 0,
          "min": "0",
          "max": "3",
          "histogram": [
           {
            "bin_start": 0,
            "bin_end": 0.3,
            "count": 1
           },
           {
            "bin_start": 0.3,
            "bin_end": 0.6,
            "count": 0
           },
           {
            "bin_start": 0.6,
            "bin_end": 0.8999999999999999,
            "count": 0
           },
           {
            "bin_start": 0.8999999999999999,
            "bin_end": 1.2,
            "count": 1
           },
           {
            "bin_start": 1.2,
            "bin_end": 1.5,
            "count": 0
           },
           {
            "bin_start": 1.5,
            "bin_end": 1.7999999999999998,
            "count": 0
           },
           {
            "bin_start": 1.7999999999999998,
            "bin_end": 2.1,
            "count": 1
           },
           {
            "bin_start": 2.1,
            "bin_end": 2.4,
            "count": 0
           },
           {
            "bin_start": 2.4,
            "bin_end": 2.6999999999999997,
            "count": 0
           },
           {
            "bin_start": 2.6999999999999997,
            "bin_end": 3,
            "count": 1
           }
          ]
         }
        },
        {
         "name": "Val1",
         "dtype": "int64",
         "stats": {
          "unique_count": 3,
          "nan_count": 0,
          "min": "1",
          "max": "3",
          "histogram": [
           {
            "bin_start": 1,
            "bin_end": 1.2,
            "count": 2
           },
           {
            "bin_start": 1.2,
            "bin_end": 1.4,
            "count": 0
           },
           {
            "bin_start": 1.4,
            "bin_end": 1.6,
            "count": 0
           },
           {
            "bin_start": 1.6,
            "bin_end": 1.8,
            "count": 0
           },
           {
            "bin_start": 1.8,
            "bin_end": 2,
            "count": 0
           },
           {
            "bin_start": 2,
            "bin_end": 2.2,
            "count": 1
           },
           {
            "bin_start": 2.2,
            "bin_end": 2.4000000000000004,
            "count": 0
           },
           {
            "bin_start": 2.4000000000000004,
            "bin_end": 2.6,
            "count": 0
           },
           {
            "bin_start": 2.6,
            "bin_end": 2.8,
            "count": 0
           },
           {
            "bin_start": 2.8,
            "bin_end": 3,
            "count": 1
           }
          ]
         }
        },
        {
         "name": "Val2",
         "dtype": "int64",
         "stats": {
          "unique_count": 3,
          "nan_count": 0,
          "min": "2",
          "max": "5",
          "histogram": [
           {
            "bin_start": 2,
            "bin_end": 2.3,
            "count": 1
           },
           {
            "bin_start": 2.3,
            "bin_end": 2.6,
            "count": 0
           },
           {
            "bin_start": 2.6,
            "bin_end": 2.9,
            "count": 0
           },
           {
            "bin_start": 2.9,
            "bin_end": 3.2,
            "count": 2
           },
           {
            "bin_start": 3.2,
            "bin_end": 3.5,
            "count": 0
           },
           {
            "bin_start": 3.5,
            "bin_end": 3.8,
            "count": 0
           },
           {
            "bin_start": 3.8,
            "bin_end": 4.1,
            "count": 0
           },
           {
            "bin_start": 4.1,
            "bin_end": 4.4,
            "count": 0
           },
           {
            "bin_start": 4.4,
            "bin_end": 4.699999999999999,
            "count": 0
           },
           {
            "bin_start": 4.699999999999999,
            "bin_end": 5,
            "count": 1
           }
          ]
         }
        },
        {
         "name": "Val3",
         "dtype": "int64",
         "stats": {
          "unique_count": 3,
          "nan_count": 0,
          "min": "3",
          "max": "5",
          "histogram": [
           {
            "bin_start": 3,
            "bin_end": 3.2,
            "count": 1
           },
           {
            "bin_start": 3.2,
            "bin_end": 3.4,
            "count": 0
           },
           {
            "bin_start": 3.4,
            "bin_end": 3.6,
            "count": 0
           },
           {
            "bin_start": 3.6,
            "bin_end": 3.8,
            "count": 0
           },
           {
            "bin_start": 3.8,
            "bin_end": 4,
            "count": 0
           },
           {
            "bin_start": 4,
            "bin_end": 4.2,
            "count": 1
           },
           {
            "bin_start": 4.2,
            "bin_end": 4.4,
            "count": 0
           },
           {
            "bin_start": 4.4,
            "bin_end": 4.6,
            "count": 0
           },
           {
            "bin_start": 4.6,
            "bin_end": 4.8,
            "count": 0
           },
           {
            "bin_start": 4.8,
            "bin_end": 5,
            "count": 2
           }
          ]
         }
        },
        {
         "name": "_deepnote_index_column",
         "dtype": "int64"
        }
       ],
       "rows_top": [
        {
         "Id": 0,
         "Val1": 1,
         "Val2": 2,
         "Val3": 3,
         "_deepnote_index_column": 0
        },
        {
         "Id": 1,
         "Val1": 2,
         "Val2": 3,
         "Val3": 5,
         "_deepnote_index_column": 1
        },
        {
         "Id": 2,
         "Val1": 3,
         "Val2": 5,
         "Val3": 4,
         "_deepnote_index_column": 2
        },
        {
         "Id": 3,
         "Val1": 1,
         "Val2": 3,
         "Val3": 5,
         "_deepnote_index_column": 3
        }
       ],
       "rows_bottom": null
      },
      "text/plain": "   Id  Val1  Val2  Val3\n0   0     1     2     3\n1   1     2     3     5\n2   2     3     5     4\n3   3     1     3     5",
      "text/html": "<div>\n<style scoped>\n    .dataframe tbody tr th:only-of-type {\n        vertical-align: middle;\n    }\n\n    .dataframe tbody tr th {\n        vertical-align: top;\n    }\n\n    .dataframe thead th {\n        text-align: right;\n    }\n</style>\n<table border=\"1\" class=\"dataframe\">\n  <thead>\n    <tr style=\"text-align: right;\">\n      <th></th>\n      <th>Id</th>\n      <th>Val1</th>\n      <th>Val2</th>\n      <th>Val3</th>\n    </tr>\n  </thead>\n  <tbody>\n    <tr>\n      <th>0</th>\n      <td>0</td>\n      <td>1</td>\n      <td>2</td>\n      <td>3</td>\n    </tr>\n    <tr>\n      <th>1</th>\n      <td>1</td>\n      <td>2</td>\n      <td>3</td>\n      <td>5</td>\n    </tr>\n    <tr>\n      <th>2</th>\n      <td>2</td>\n      <td>3</td>\n      <td>5</td>\n      <td>4</td>\n    </tr>\n    <tr>\n      <th>3</th>\n      <td>3</td>\n      <td>1</td>\n      <td>3</td>\n      <td>5</td>\n    </tr>\n  </tbody>\n</table>\n</div>"
     },
     "metadata": {}
    }
   ]
  },
  {
   "cell_type": "code",
   "metadata": {
    "tags": [],
    "cell_id": "00001-bc96e3da-45e4-4d73-ac48-83c9b0c3c061",
    "deepnote_to_be_reexecuted": false,
    "source_hash": "952491ac",
    "execution_start": 1632893171526,
    "execution_millis": 1269,
    "deepnote_cell_type": "code"
   },
   "source": "from sklearn import linear_model\ndata = pd.DataFrame(columns = missing_columns)\n",
   "execution_count": null,
   "outputs": []
  },
  {
   "cell_type": "code",
   "metadata": {
    "tags": [],
    "cell_id": "00001-4b1d0710-6687-4c1c-89ef-6ec0772c51a1",
    "deepnote_to_be_reexecuted": false,
    "source_hash": "8ec942a7",
    "execution_start": 1632893046714,
    "execution_millis": 337,
    "deepnote_cell_type": "code"
   },
   "source": "train = pd.read_csv('train.csv')\ntrain.info()",
   "execution_count": null,
   "outputs": [
    {
     "name": "stdout",
     "text": "<class 'pandas.core.frame.DataFrame'>\nRangeIndex: 68613 entries, 0 to 68612\nData columns (total 14 columns):\n #   Column                                         Non-Null Count  Dtype  \n---  ------                                         --------------  -----  \n 0   MOFname                                        68613 non-null  object \n 1   volume [A^3]                                   68613 non-null  float64\n 2   weight [u]                                     68613 non-null  float64\n 3   surface_area [m^2/g]                           68613 non-null  float64\n 4   void_fraction                                  68613 non-null  float64\n 5   void_volume [cm^3/g]                           68613 non-null  float64\n 6   functional_groups                              68290 non-null  object \n 7   metal_linker                                   68613 non-null  int64  \n 8   organic_linker1                                68613 non-null  int64  \n 9   organic_linker2                                68613 non-null  int64  \n 10  topology                                       68613 non-null  object \n 11  CO2/N2_selectivity                             68613 non-null  float64\n 12  heat_adsorption_CO2_P0.15bar_T298K [kcal/mol]  66526 non-null  float64\n 13  CO2_working_capacity [mL/g]                    68613 non-null  float64\ndtypes: float64(8), int64(3), object(3)\nmemory usage: 7.3+ MB\n",
     "output_type": "stream"
    }
   ]
  },
  {
   "cell_type": "code",
   "metadata": {
    "tags": [],
    "cell_id": "00002-2c108ed8-520c-4e97-a044-4c0be8722e8a",
    "deepnote_to_be_reexecuted": false,
    "source_hash": "3dc5e06b",
    "execution_start": 1632893051175,
    "execution_millis": 141,
    "deepnote_cell_type": "code"
   },
   "source": "train.describe()",
   "execution_count": null,
   "outputs": [
    {
     "output_type": "execute_result",
     "execution_count": 3,
     "data": {
      "application/vnd.deepnote.dataframe.v2+json": {
       "row_count": 8,
       "column_count": 11,
       "columns": [
        {
         "name": "volume [A^3]",
         "dtype": "float64",
         "stats": {
          "unique_count": 8,
          "nan_count": 0,
          "min": "606.576038",
          "max": "223964.854408",
          "histogram": [
           {
            "bin_start": 606.576038,
            "bin_end": 22942.403875,
            "count": 6
           },
           {
            "bin_start": 22942.403875,
            "bin_end": 45278.231712,
            "count": 0
           },
           {
            "bin_start": 45278.231712,
            "bin_end": 67614.059549,
            "count": 0
           },
           {
            "bin_start": 67614.059549,
            "bin_end": 89949.887386,
            "count": 1
           },
           {
            "bin_start": 89949.887386,
            "bin_end": 112285.715223,
            "count": 0
           },
           {
            "bin_start": 112285.715223,
            "bin_end": 134621.54306,
            "count": 0
           },
           {
            "bin_start": 134621.54306,
            "bin_end": 156957.37089700002,
            "count": 0
           },
           {
            "bin_start": 156957.37089700002,
            "bin_end": 179293.198734,
            "count": 0
           },
           {
            "bin_start": 179293.198734,
            "bin_end": 201629.026571,
            "count": 0
           },
           {
            "bin_start": 201629.026571,
            "bin_end": 223964.854408,
            "count": 1
           }
          ]
         }
        },
        {
         "name": "weight [u]",
         "dtype": "float64",
         "stats": {
          "unique_count": 8,
          "nan_count": 0,
          "min": "439.28122",
          "max": "68613.0",
          "histogram": [
           {
            "bin_start": 439.28122,
            "bin_end": 7256.653098,
            "count": 6
           },
           {
            "bin_start": 7256.653098,
            "bin_end": 14074.024976,
            "count": 0
           },
           {
            "bin_start": 14074.024976,
            "bin_end": 20891.396854000002,
            "count": 0
           },
           {
            "bin_start": 20891.396854000002,
            "bin_end": 27708.768732,
            "count": 1
           },
           {
            "bin_start": 27708.768732,
            "bin_end": 34526.140609999995,
            "count": 0
           },
           {
            "bin_start": 34526.140609999995,
            "bin_end": 41343.512488,
            "count": 0
           },
           {
            "bin_start": 41343.512488,
            "bin_end": 48160.884366,
            "count": 0
           },
           {
            "bin_start": 48160.884366,
            "bin_end": 54978.256244,
            "count": 0
           },
           {
            "bin_start": 54978.256244,
            "bin_end": 61795.628121999995,
            "count": 0
           },
           {
            "bin_start": 61795.628121999995,
            "bin_end": 68613,
            "count": 1
           }
          ]
         }
        },
        {
         "name": "surface_area [m^2/g]",
         "dtype": "float64",
         "stats": {
          "unique_count": 8,
          "nan_count": 0,
          "min": "-1.0",
          "max": "68613.0",
          "histogram": [
           {
            "bin_start": -1,
            "bin_end": 6860.4,
            "count": 6
           },
           {
            "bin_start": 6860.4,
            "bin_end": 13721.8,
            "count": 1
           },
           {
            "bin_start": 13721.8,
            "bin_end": 20583.199999999997,
            "count": 0
           },
           {
            "bin_start": 20583.199999999997,
            "bin_end": 27444.6,
            "count": 0
           },
           {
            "bin_start": 27444.6,
            "bin_end": 34306,
            "count": 0
           },
           {
            "bin_start": 34306,
            "bin_end": 41167.399999999994,
            "count": 0
           },
           {
            "bin_start": 41167.399999999994,
            "bin_end": 48028.799999999996,
            "count": 0
           },
           {
            "bin_start": 48028.799999999996,
            "bin_end": 54890.2,
            "count": 0
           },
           {
            "bin_start": 54890.2,
            "bin_end": 61751.6,
            "count": 0
           },
           {
            "bin_start": 61751.6,
            "bin_end": 68613,
            "count": 1
           }
          ]
         }
        },
        {
         "name": "void_fraction",
         "dtype": "float64",
         "stats": {
          "unique_count": 8,
          "nan_count": 0,
          "min": "-1.0",
          "max": "68613.0",
          "histogram": [
           {
            "bin_start": -1,
            "bin_end": 6860.4,
            "count": 7
           },
           {
            "bin_start": 6860.4,
            "bin_end": 13721.8,
            "count": 0
           },
           {
            "bin_start": 13721.8,
            "bin_end": 20583.199999999997,
            "count": 0
           },
           {
            "bin_start": 20583.199999999997,
            "bin_end": 27444.6,
            "count": 0
           },
           {
            "bin_start": 27444.6,
            "bin_end": 34306,
            "count": 0
           },
           {
            "bin_start": 34306,
            "bin_end": 41167.399999999994,
            "count": 0
           },
           {
            "bin_start": 41167.399999999994,
            "bin_end": 48028.799999999996,
            "count": 0
           },
           {
            "bin_start": 48028.799999999996,
            "bin_end": 54890.2,
            "count": 0
           },
           {
            "bin_start": 54890.2,
            "bin_end": 61751.6,
            "count": 0
           },
           {
            "bin_start": 61751.6,
            "bin_end": 68613,
            "count": 1
           }
          ]
         }
        },
        {
         "name": "void_volume [cm^3/g]",
         "dtype": "float64",
         "stats": {
          "unique_count": 8,
          "nan_count": 0,
          "min": "0.0",
          "max": "68613.0",
          "histogram": [
           {
            "bin_start": 0,
            "bin_end": 6861.3,
            "count": 7
           },
           {
            "bin_start": 6861.3,
            "bin_end": 13722.6,
            "count": 0
           },
           {
            "bin_start": 13722.6,
            "bin_end": 20583.9,
            "count": 0
           },
           {
            "bin_start": 20583.9,
            "bin_end": 27445.2,
            "count": 0
           },
           {
            "bin_start": 27445.2,
            "bin_end": 34306.5,
            "count": 0
           },
           {
            "bin_start": 34306.5,
            "bin_end": 41167.8,
            "count": 0
           },
           {
            "bin_start": 41167.8,
            "bin_end": 48029.1,
            "count": 0
           },
           {
            "bin_start": 48029.1,
            "bin_end": 54890.4,
            "count": 0
           },
           {
            "bin_start": 54890.4,
            "bin_end": 61751.700000000004,
            "count": 0
           },
           {
            "bin_start": 61751.700000000004,
            "bin_end": 68613,
            "count": 1
           }
          ]
         }
        },
        {
         "name": "metal_linker",
         "dtype": "float64",
         "stats": {
          "unique_count": 8,
          "nan_count": 0,
          "min": "1.0",
          "max": "68613.0",
          "histogram": [
           {
            "bin_start": 1,
            "bin_end": 6862.2,
            "count": 7
           },
           {
            "bin_start": 6862.2,
            "bin_end": 13723.4,
            "count": 0
           },
           {
            "bin_start": 13723.4,
            "bin_end": 20584.6,
            "count": 0
           },
           {
            "bin_start": 20584.6,
            "bin_end": 27445.8,
            "count": 0
           },
           {
            "bin_start": 27445.8,
            "bin_end": 34307,
            "count": 0
           },
           {
            "bin_start": 34307,
            "bin_end": 41168.2,
            "count": 0
           },
           {
            "bin_start": 41168.2,
            "bin_end": 48029.4,
            "count": 0
           },
           {
            "bin_start": 48029.4,
            "bin_end": 54890.6,
            "count": 0
           },
           {
            "bin_start": 54890.6,
            "bin_end": 61751.799999999996,
            "count": 0
           },
           {
            "bin_start": 61751.799999999996,
            "bin_end": 68613,
            "count": 1
           }
          ]
         }
        },
        {
         "name": "organic_linker1",
         "dtype": "float64",
         "stats": {
          "unique_count": 8,
          "nan_count": 0,
          "min": "1.0",
          "max": "68613.0",
          "histogram": [
           {
            "bin_start": 1,
            "bin_end": 6862.2,
            "count": 7
           },
           {
            "bin_start": 6862.2,
            "bin_end": 13723.4,
            "count": 0
           },
           {
            "bin_start": 13723.4,
            "bin_end": 20584.6,
            "count": 0
           },
           {
            "bin_start": 20584.6,
            "bin_end": 27445.8,
            "count": 0
           },
           {
            "bin_start": 27445.8,
            "bin_end": 34307,
            "count": 0
           },
           {
            "bin_start": 34307,
            "bin_end": 41168.2,
            "count": 0
           },
           {
            "bin_start": 41168.2,
            "bin_end": 48029.4,
            "count": 0
           },
           {
            "bin_start": 48029.4,
            "bin_end": 54890.6,
            "count": 0
           },
           {
            "bin_start": 54890.6,
            "bin_end": 61751.799999999996,
            "count": 0
           },
           {
            "bin_start": 61751.799999999996,
            "bin_end": 68613,
            "count": 1
           }
          ]
         }
        },
        {
         "name": "organic_linker2",
         "dtype": "float64",
         "stats": {
          "unique_count": 8,
          "nan_count": 0,
          "min": "1.0",
          "max": "68613.0",
          "histogram": [
           {
            "bin_start": 1,
            "bin_end": 6862.2,
            "count": 7
           },
           {
            "bin_start": 6862.2,
            "bin_end": 13723.4,
            "count": 0
           },
           {
            "bin_start": 13723.4,
            "bin_end": 20584.6,
            "count": 0
           },
           {
            "bin_start": 20584.6,
            "bin_end": 27445.8,
            "count": 0
           },
           {
            "bin_start": 27445.8,
            "bin_end": 34307,
            "count": 0
           },
           {
            "bin_start": 34307,
            "bin_end": 41168.2,
            "count": 0
           },
           {
            "bin_start": 41168.2,
            "bin_end": 48029.4,
            "count": 0
           },
           {
            "bin_start": 48029.4,
            "bin_end": 54890.6,
            "count": 0
           },
           {
            "bin_start": 54890.6,
            "bin_end": 61751.799999999996,
            "count": 0
           },
           {
            "bin_start": 61751.799999999996,
            "bin_end": 68613,
            "count": 1
           }
          ]
         }
        },
        {
         "name": "CO2/N2_selectivity",
         "dtype": "float64",
         "stats": {
          "unique_count": 8,
          "nan_count": 0,
          "min": "0.0",
          "max": "68613.0",
          "histogram": [
           {
            "bin_start": 0,
            "bin_end": 6861.3,
            "count": 6
           },
           {
            "bin_start": 6861.3,
            "bin_end": 13722.6,
            "count": 0
           },
           {
            "bin_start": 13722.6,
            "bin_end": 20583.9,
            "count": 0
           },
           {
            "bin_start": 20583.9,
            "bin_end": 27445.2,
            "count": 0
           },
           {
            "bin_start": 27445.2,
            "bin_end": 34306.5,
            "count": 1
           },
           {
            "bin_start": 34306.5,
            "bin_end": 41167.8,
            "count": 0
           },
           {
            "bin_start": 41167.8,
            "bin_end": 48029.1,
            "count": 0
           },
           {
            "bin_start": 48029.1,
            "bin_end": 54890.4,
            "count": 0
           },
           {
            "bin_start": 54890.4,
            "bin_end": 61751.700000000004,
            "count": 0
           },
           {
            "bin_start": 61751.700000000004,
            "bin_end": 68613,
            "count": 1
           }
          ]
         }
        },
        {
         "name": "heat_adsorption_CO2_P0.15bar_T298K [kcal/mol]",
         "dtype": "float64",
         "stats": {
          "unique_count": 6,
          "nan_count": 1,
          "min": "1.612299",
          "max": "inf",
          "histogram": [
           {
            "bin_start": 1.612299,
            "bin_end": 6654.0510691,
            "count": 4
           },
           {
            "bin_start": 6654.0510691,
            "bin_end": 13306.4898392,
            "count": 0
           },
           {
            "bin_start": 13306.4898392,
            "bin_end": 19958.928609299997,
            "count": 0
           },
           {
            "bin_start": 19958.928609299997,
            "bin_end": 26611.3673794,
            "count": 0
           },
           {
            "bin_start": 26611.3673794,
            "bin_end": 33263.8061495,
            "count": 0
           },
           {
            "bin_start": 33263.8061495,
            "bin_end": 39916.244919599994,
            "count": 0
           },
           {
            "bin_start": 39916.244919599994,
            "bin_end": 46568.683689699996,
            "count": 0
           },
           {
            "bin_start": 46568.683689699996,
            "bin_end": 53221.1224598,
            "count": 0
           },
           {
            "bin_start": 53221.1224598,
            "bin_end": 59873.5612299,
            "count": 0
           },
           {
            "bin_start": 59873.5612299,
            "bin_end": 66526,
            "count": 1
           }
          ]
         }
        },
        {
         "name": "CO2_working_capacity [mL/g]",
         "dtype": "float64",
         "stats": {
          "unique_count": 8,
          "nan_count": 0,
          "min": "-44.28574584746623",
          "max": "68613.0",
          "histogram": [
           {
            "bin_start": -44.28574584746623,
            "bin_end": 6821.442828737279,
            "count": 7
           },
           {
            "bin_start": 6821.442828737279,
            "bin_end": 13687.171403322025,
            "count": 0
           },
           {
            "bin_start": 13687.171403322025,
            "bin_end": 20552.89997790677,
            "count": 0
           },
           {
            "bin_start": 20552.89997790677,
            "bin_end": 27418.62855249152,
            "count": 0
           },
           {
            "bin_start": 27418.62855249152,
            "bin_end": 34284.35712707626,
            "count": 0
           },
           {
            "bin_start": 34284.35712707626,
            "bin_end": 41150.085701661,
            "count": 0
           },
           {
            "bin_start": 41150.085701661,
            "bin_end": 48015.81427624575,
            "count": 0
           },
           {
            "bin_start": 48015.81427624575,
            "bin_end": 54881.5428508305,
            "count": 0
           },
           {
            "bin_start": 54881.5428508305,
            "bin_end": 61747.271425415245,
            "count": 0
           },
           {
            "bin_start": 61747.271425415245,
            "bin_end": 68613,
            "count": 1
           }
          ]
         }
        },
        {
         "name": "_deepnote_index_column",
         "dtype": "object"
        }
       ],
       "rows_top": [
        {
         "volume [A^3]": 68613,
         "weight [u]": 68613,
         "surface_area [m^2/g]": 68613,
         "void_fraction": 68613,
         "void_volume [cm^3/g]": 68613,
         "metal_linker": 68613,
         "organic_linker1": 68613,
         "organic_linker2": 68613,
         "CO2/N2_selectivity": 68613,
         "heat_adsorption_CO2_P0.15bar_T298K [kcal/mol]": 66526,
         "CO2_working_capacity [mL/g]": 68613,
         "_deepnote_index_column": "count"
        },
        {
         "volume [A^3]": 3447.3632072204687,
         "weight [u]": 1656.7618582920877,
         "surface_area [m^2/g]": 1666.7666901316077,
         "void_fraction": 0.25916399647297156,
         "void_volume [cm^3/g]": 0.37605215483946186,
         "metal_linker": 4.203270517248918,
         "organic_linker1": 11.919257283605148,
         "organic_linker2": 20.583592030664743,
         "CO2/N2_selectivity": 28.599681259069374,
         "heat_adsorption_CO2_P0.15bar_T298K [kcal/mol]": "inf",
         "CO2_working_capacity [mL/g]": 120.00279715582528,
         "_deepnote_index_column": "mean"
        },
        {
         "volume [A^3]": 4840.665781593269,
         "weight [u]": 1259.0863204525162,
         "surface_area [m^2/g]": 1366.3172231578415,
         "void_fraction": 0.16475774557492448,
         "void_volume [cm^3/g]": 0.476451661203303,
         "metal_linker": 3.1449049473471096,
         "organic_linker1": 10.783136178592896,
         "organic_linker2": 10.100869890834506,
         "CO2/N2_selectivity": 153.80688689733458,
         "heat_adsorption_CO2_P0.15bar_T298K [kcal/mol]": "nan",
         "CO2_working_capacity [mL/g]": 89.57311179852928,
         "_deepnote_index_column": "std"
        },
        {
         "volume [A^3]": 606.576038,
         "weight [u]": 439.28122,
         "surface_area [m^2/g]": -1,
         "void_fraction": -1,
         "void_volume [cm^3/g]": 0,
         "metal_linker": 1,
         "organic_linker1": 1,
         "organic_linker2": 1,
         "CO2/N2_selectivity": 0,
         "heat_adsorption_CO2_P0.15bar_T298K [kcal/mol]": 1.612299,
         "CO2_working_capacity [mL/g]": -44.28574584746623,
         "_deepnote_index_column": "min"
        },
        {
         "volume [A^3]": 1556.075767,
         "weight [u]": 893.6626999999999,
         "surface_area [m^2/g]": 511.93,
         "void_fraction": 0.1425799999999999,
         "void_volume [cm^3/g]": 0.1189999999999999,
         "metal_linker": 2,
         "organic_linker1": 4,
         "organic_linker2": 14,
         "CO2/N2_selectivity": 12.81836619,
         "heat_adsorption_CO2_P0.15bar_T298K [kcal/mol]": 5.26753575,
         "CO2_working_capacity [mL/g]": 65.53720541181188,
         "_deepnote_index_column": "25%"
        },
        {
         "volume [A^3]": 2190.442847,
         "weight [u]": 1259.699253,
         "surface_area [m^2/g]": 1542.83,
         "void_fraction": 0.2426199999999998,
         "void_volume [cm^3/g]": 0.2484,
         "metal_linker": 3,
         "organic_linker1": 10,
         "organic_linker2": 20,
         "CO2/N2_selectivity": 19.68988957,
         "heat_adsorption_CO2_P0.15bar_T298K [kcal/mol]": 5.899089,
         "CO2_working_capacity [mL/g]": 98.55218486565961,
         "_deepnote_index_column": "50%"
        },
        {
         "volume [A^3]": 3605.836441,
         "weight [u]": 1897.16366,
         "surface_area [m^2/g]": 2517.96,
         "void_fraction": 0.3451199999999999,
         "void_volume [cm^3/g]": 0.4437999999999999,
         "metal_linker": 4,
         "organic_linker1": 16,
         "organic_linker2": 25,
         "CO2/N2_selectivity": 32.95438839,
         "heat_adsorption_CO2_P0.15bar_T298K [kcal/mol]": 6.76836475,
         "CO2_working_capacity [mL/g]": 163.13953982007973,
         "_deepnote_index_column": "75%"
        },
        {
         "volume [A^3]": 223964.854408,
         "weight [u]": 22595.92896,
         "surface_area [m^2/g]": 7083.53,
         "void_fraction": 0.87206,
         "void_volume [cm^3/g]": 6.6101,
         "metal_linker": 12,
         "organic_linker1": 59,
         "organic_linker2": 59,
         "CO2/N2_selectivity": 29369.77778,
         "heat_adsorption_CO2_P0.15bar_T298K [kcal/mol]": "inf",
         "CO2_working_capacity [mL/g]": 736.0616358740374,
         "_deepnote_index_column": "max"
        }
       ],
       "rows_bottom": null
      },
      "text/plain": "        volume [A^3]    weight [u]  surface_area [m^2/g]  void_fraction  \\\ncount   68613.000000  68613.000000          68613.000000   68613.000000   \nmean     3447.363207   1656.761858           1666.766690       0.259164   \nstd      4840.665782   1259.086320           1366.317223       0.164758   \nmin       606.576038    439.281220             -1.000000      -1.000000   \n25%      1556.075767    893.662700            511.930000       0.142580   \n50%      2190.442847   1259.699253           1542.830000       0.242620   \n75%      3605.836441   1897.163660           2517.960000       0.345120   \nmax    223964.854408  22595.928960           7083.530000       0.872060   \n\n       void_volume [cm^3/g]  metal_linker  organic_linker1  organic_linker2  \\\ncount          68613.000000  68613.000000     68613.000000     68613.000000   \nmean               0.376052      4.203271        11.919257        20.583592   \nstd                0.476452      3.144905        10.783136        10.100870   \nmin                0.000000      1.000000         1.000000         1.000000   \n25%                0.119000      2.000000         4.000000        14.000000   \n50%                0.248400      3.000000        10.000000        20.000000   \n75%                0.443800      4.000000        16.000000        25.000000   \nmax                6.610100     12.000000        59.000000        59.000000   \n\n       CO2/N2_selectivity  heat_adsorption_CO2_P0.15bar_T298K [kcal/mol]  \\\ncount        68613.000000                                   6.652600e+04   \nmean            28.599681                                            inf   \nstd            153.806887                                            NaN   \nmin              0.000000                                   1.612299e+00   \n25%             12.818366                                   5.267536e+00   \n50%             19.689890                                   5.899089e+00   \n75%             32.954388                                   6.768365e+00   \nmax          29369.777780                                            inf   \n\n       CO2_working_capacity [mL/g]  \ncount                 68613.000000  \nmean                    120.002797  \nstd                      89.573112  \nmin                     -44.285746  \n25%                      65.537205  \n50%                      98.552185  \n75%                     163.139540  \nmax                     736.061636  ",
      "text/html": "<div>\n<style scoped>\n    .dataframe tbody tr th:only-of-type {\n        vertical-align: middle;\n    }\n\n    .dataframe tbody tr th {\n        vertical-align: top;\n    }\n\n    .dataframe thead th {\n        text-align: right;\n    }\n</style>\n<table border=\"1\" class=\"dataframe\">\n  <thead>\n    <tr style=\"text-align: right;\">\n      <th></th>\n      <th>volume [A^3]</th>\n      <th>weight [u]</th>\n      <th>surface_area [m^2/g]</th>\n      <th>void_fraction</th>\n      <th>void_volume [cm^3/g]</th>\n      <th>metal_linker</th>\n      <th>organic_linker1</th>\n      <th>organic_linker2</th>\n      <th>CO2/N2_selectivity</th>\n      <th>heat_adsorption_CO2_P0.15bar_T298K [kcal/mol]</th>\n      <th>CO2_working_capacity [mL/g]</th>\n    </tr>\n  </thead>\n  <tbody>\n    <tr>\n      <th>count</th>\n      <td>68613.000000</td>\n      <td>68613.000000</td>\n      <td>68613.000000</td>\n      <td>68613.000000</td>\n      <td>68613.000000</td>\n      <td>68613.000000</td>\n      <td>68613.000000</td>\n      <td>68613.000000</td>\n      <td>68613.000000</td>\n      <td>6.652600e+04</td>\n      <td>68613.000000</td>\n    </tr>\n    <tr>\n      <th>mean</th>\n      <td>3447.363207</td>\n      <td>1656.761858</td>\n      <td>1666.766690</td>\n      <td>0.259164</td>\n      <td>0.376052</td>\n      <td>4.203271</td>\n      <td>11.919257</td>\n      <td>20.583592</td>\n      <td>28.599681</td>\n      <td>inf</td>\n      <td>120.002797</td>\n    </tr>\n    <tr>\n      <th>std</th>\n      <td>4840.665782</td>\n      <td>1259.086320</td>\n      <td>1366.317223</td>\n      <td>0.164758</td>\n      <td>0.476452</td>\n      <td>3.144905</td>\n      <td>10.783136</td>\n      <td>10.100870</td>\n      <td>153.806887</td>\n      <td>NaN</td>\n      <td>89.573112</td>\n    </tr>\n    <tr>\n      <th>min</th>\n      <td>606.576038</td>\n      <td>439.281220</td>\n      <td>-1.000000</td>\n      <td>-1.000000</td>\n      <td>0.000000</td>\n      <td>1.000000</td>\n      <td>1.000000</td>\n      <td>1.000000</td>\n      <td>0.000000</td>\n      <td>1.612299e+00</td>\n      <td>-44.285746</td>\n    </tr>\n    <tr>\n      <th>25%</th>\n      <td>1556.075767</td>\n      <td>893.662700</td>\n      <td>511.930000</td>\n      <td>0.142580</td>\n      <td>0.119000</td>\n      <td>2.000000</td>\n      <td>4.000000</td>\n      <td>14.000000</td>\n      <td>12.818366</td>\n      <td>5.267536e+00</td>\n      <td>65.537205</td>\n    </tr>\n    <tr>\n      <th>50%</th>\n      <td>2190.442847</td>\n      <td>1259.699253</td>\n      <td>1542.830000</td>\n      <td>0.242620</td>\n      <td>0.248400</td>\n      <td>3.000000</td>\n      <td>10.000000</td>\n      <td>20.000000</td>\n      <td>19.689890</td>\n      <td>5.899089e+00</td>\n      <td>98.552185</td>\n    </tr>\n    <tr>\n      <th>75%</th>\n      <td>3605.836441</td>\n      <td>1897.163660</td>\n      <td>2517.960000</td>\n      <td>0.345120</td>\n      <td>0.443800</td>\n      <td>4.000000</td>\n      <td>16.000000</td>\n      <td>25.000000</td>\n      <td>32.954388</td>\n      <td>6.768365e+00</td>\n      <td>163.139540</td>\n    </tr>\n    <tr>\n      <th>max</th>\n      <td>223964.854408</td>\n      <td>22595.928960</td>\n      <td>7083.530000</td>\n      <td>0.872060</td>\n      <td>6.610100</td>\n      <td>12.000000</td>\n      <td>59.000000</td>\n      <td>59.000000</td>\n      <td>29369.777780</td>\n      <td>inf</td>\n      <td>736.061636</td>\n    </tr>\n  </tbody>\n</table>\n</div>"
     },
     "metadata": {}
    }
   ]
  },
  {
   "cell_type": "markdown",
   "source": "## Imputation",
   "metadata": {
    "tags": [],
    "is_collapsed": false,
    "cell_id": "00003-138b0ddb-046f-4615-967b-e2bac6fa7212",
    "deepnote_cell_type": "text-cell-h2"
   }
  },
  {
   "cell_type": "code",
   "metadata": {
    "tags": [],
    "cell_id": "00002-6d3eba7a-fba4-46c7-928b-3f0bc4d1afed",
    "deepnote_to_be_reexecuted": false,
    "source_hash": "afa04642",
    "execution_start": 1632893056306,
    "execution_millis": 23,
    "deepnote_cell_type": "code"
   },
   "source": "train.loc[train[\"surface_area [m^2/g]\"] == 0, \"surface_area [m^2/g]\"] = np.NAN\ntrain.loc[train[\"surface_area [m^2/g]\"] == -1, \"surface_area [m^2/g]\"] = np.NAN\ntrain.loc[train[\"void_fraction\"] == 0, \"void_fraction\"] = np.NAN\ntrain.loc[train[\"void_fraction\"] == -1, \"void_fraction\"] = np.NAN\ntrain.loc[train[\"void_volume [cm^3/g]\"] == 0, \"void_volume [cm^3/g]\"] = np.NAN\ntrain.loc[train[\"heat_adsorption_CO2_P0.15bar_T298K [kcal/mol]\"] == np.inf, \"heat_adsorption_CO2_P0.15bar_T298K [kcal/mol]\"] = np.nan\n",
   "execution_count": null,
   "outputs": []
  },
  {
   "cell_type": "code",
   "metadata": {
    "tags": [],
    "cell_id": "00003-bdcf5e23-cc49-4912-a3d7-e2aa9453493c",
    "deepnote_to_be_reexecuted": false,
    "source_hash": "79340491",
    "execution_start": 1632893058743,
    "execution_millis": 19,
    "deepnote_cell_type": "code"
   },
   "source": "for col in ['metal_linker', 'organic_linker1', 'organic_linker2']:\n    train[col] = train[col].astype('category')",
   "execution_count": null,
   "outputs": []
  },
  {
   "cell_type": "code",
   "metadata": {
    "tags": [],
    "cell_id": "00002-2f8eccf2-665c-49a8-ba34-36baef00f953",
    "deepnote_to_be_reexecuted": false,
    "source_hash": "f8683763",
    "execution_start": 1632893061256,
    "execution_millis": 101,
    "deepnote_cell_type": "code"
   },
   "source": "train.isnull().sum()",
   "execution_count": null,
   "outputs": [
    {
     "output_type": "execute_result",
     "execution_count": 6,
     "data": {
      "text/plain": "MOFname                                              0\nvolume [A^3]                                         0\nweight [u]                                           0\nsurface_area [m^2/g]                             14539\nvoid_fraction                                     2930\nvoid_volume [cm^3/g]                              3130\nfunctional_groups                                  323\nmetal_linker                                         0\norganic_linker1                                      0\norganic_linker2                                      0\ntopology                                             0\nCO2/N2_selectivity                                   0\nheat_adsorption_CO2_P0.15bar_T298K [kcal/mol]     2089\nCO2_working_capacity [mL/g]                          0\ndtype: int64"
     },
     "metadata": {}
    }
   ]
  },
  {
   "cell_type": "code",
   "metadata": {
    "tags": [],
    "cell_id": "00005-88bc11ba-21ce-49e5-9669-6612acb99fa8",
    "deepnote_to_be_reexecuted": false,
    "source_hash": "93b97cc6",
    "execution_start": 1632893064228,
    "execution_millis": 3,
    "deepnote_cell_type": "code"
   },
   "source": "missing_columns = [\"surface_area [m^2/g]\", \"void_fraction\", \"void_volume [cm^3/g]\"]\ncate_columns = ['topology','functional_groups','MOFname','metal_linker', 'organic_linker1', 'organic_linker2']",
   "execution_count": null,
   "outputs": []
  },
  {
   "cell_type": "code",
   "metadata": {
    "tags": [],
    "cell_id": "00007-01ee3006-4b46-4b85-81f6-1f764177f271",
    "deepnote_to_be_reexecuted": false,
    "source_hash": "3e7e68a9",
    "execution_start": 1632893066353,
    "execution_millis": 10,
    "deepnote_cell_type": "code"
   },
   "source": "train = train.dropna(subset=['heat_adsorption_CO2_P0.15bar_T298K [kcal/mol]'])",
   "execution_count": null,
   "outputs": []
  },
  {
   "cell_type": "code",
   "metadata": {
    "tags": [],
    "cell_id": "00009-a541e047-a01e-43c9-beb8-353d2c44b0bc",
    "deepnote_to_be_reexecuted": false,
    "source_hash": "2dcf9913",
    "execution_start": 1632893068869,
    "execution_millis": 8,
    "deepnote_cell_type": "code"
   },
   "source": "prepare_train = train.copy()",
   "execution_count": null,
   "outputs": []
  },
  {
   "cell_type": "code",
   "metadata": {
    "tags": [],
    "cell_id": "00009-0487d2a4-73c2-48e4-98ef-f7e3e5af0260",
    "deepnote_to_be_reexecuted": false,
    "source_hash": "6b53bce3",
    "execution_start": 1632893072299,
    "execution_millis": 4,
    "deepnote_cell_type": "code"
   },
   "source": "def random_imputation(df, feature):\n\n    number_missing = df[feature].isnull().sum()\n    observed_values = df.loc[df[feature].notnull(), feature]\n    df.loc[df[feature].isnull(), feature + '_imp'] = np.random.choice(observed_values, number_missing, replace = True)\n    \n    return df",
   "execution_count": null,
   "outputs": []
  },
  {
   "cell_type": "code",
   "metadata": {
    "tags": [],
    "cell_id": "00010-fbb84012-9f79-4c69-970f-01fb12c6910d",
    "deepnote_to_be_reexecuted": false,
    "source_hash": "f3880ae5",
    "execution_start": 1632893074881,
    "execution_millis": 14,
    "deepnote_cell_type": "code"
   },
   "source": "for feature in missing_columns:\n    train[feature + '_imp'] = train[feature]\n    train = random_imputation(train, feature)",
   "execution_count": null,
   "outputs": []
  },
  {
   "cell_type": "markdown",
   "source": "## Trainning set",
   "metadata": {
    "tags": [],
    "is_collapsed": false,
    "cell_id": "00012-fffe2953-98c9-4962-b525-d985598b79a6",
    "deepnote_cell_type": "text-cell-h2"
   }
  },
  {
   "cell_type": "code",
   "metadata": {
    "tags": [],
    "cell_id": "00006-7dbe1412-4307-47cf-a046-309fd6208a06",
    "deepnote_to_be_reexecuted": false,
    "source_hash": "58811efe",
    "execution_start": 1632837900606,
    "execution_millis": 1520,
    "deepnote_cell_type": "code"
   },
   "source": "\nfor feature in missing_columns:\n        \n    data[feature] = train[feature+'_imp']\n    parameters = list(set(train.columns) - set(missing_columns)-set(cate_columns)-{feature + '_imp'} - set(['CO2_working_capacity [mL/g]']))\n    #print(train[parameters])\n    #Create a Linear Regression model to estimate the missing data\n    model = linear_model.LinearRegression()\n    model.fit(train[parameters],train[feature + '_imp'])\n    \n    #observe that I preserve the index of the missing data from the original dataframe\n    data.loc[train[feature].isnull(),feature] = model.predict(train[parameters])[train[feature].isnull()]",
   "execution_count": null,
   "outputs": []
  },
  {
   "cell_type": "code",
   "metadata": {
    "tags": [],
    "cell_id": "00013-dbcf4f1f-fb6a-4ea7-8136-9dab56292c22",
    "deepnote_to_be_reexecuted": false,
    "source_hash": "109e2b77",
    "execution_start": 1632837902189,
    "execution_millis": 5,
    "deepnote_cell_type": "code"
   },
   "source": "for column in missing_columns:\n    prepare_train[column] = data[column]",
   "execution_count": null,
   "outputs": []
  },
  {
   "cell_type": "code",
   "metadata": {
    "tags": [],
    "cell_id": "00004-656a64a6-8cf8-49ad-8115-2ed7aa60230c",
    "deepnote_to_be_reexecuted": false,
    "source_hash": "3dbc869e",
    "execution_start": 1632837902206,
    "execution_millis": 89,
    "deepnote_cell_type": "code"
   },
   "source": "prepare_train.dropna(inplace=True)",
   "execution_count": null,
   "outputs": []
  },
  {
   "cell_type": "code",
   "metadata": {
    "tags": [],
    "cell_id": "00015-7ddd6821-2a99-47c6-b89a-31bd638623e2",
    "deepnote_to_be_reexecuted": false,
    "source_hash": "9caf4287",
    "execution_start": 1632837902309,
    "execution_millis": 31,
    "deepnote_cell_type": "code"
   },
   "source": "prepare_train.info()",
   "execution_count": null,
   "outputs": [
    {
     "name": "stdout",
     "text": "<class 'pandas.core.frame.DataFrame'>\nInt64Index: 66203 entries, 0 to 66523\nData columns (total 14 columns):\n #   Column                                         Non-Null Count  Dtype   \n---  ------                                         --------------  -----   \n 0   MOFname                                        66203 non-null  object  \n 1   volume [A^3]                                   66203 non-null  float64 \n 2   weight [u]                                     66203 non-null  float64 \n 3   surface_area [m^2/g]                           66203 non-null  float64 \n 4   void_fraction                                  66203 non-null  float64 \n 5   void_volume [cm^3/g]                           66203 non-null  float64 \n 6   functional_groups                              66203 non-null  object  \n 7   metal_linker                                   66203 non-null  category\n 8   organic_linker1                                66203 non-null  category\n 9   organic_linker2                                66203 non-null  category\n 10  topology                                       66203 non-null  object  \n 11  CO2/N2_selectivity                             66203 non-null  float64 \n 12  heat_adsorption_CO2_P0.15bar_T298K [kcal/mol]  66203 non-null  float64 \n 13  CO2_working_capacity [mL/g]                    66203 non-null  float64 \ndtypes: category(3), float64(8), object(3)\nmemory usage: 6.3+ MB\n",
     "output_type": "stream"
    }
   ]
  },
  {
   "cell_type": "code",
   "metadata": {
    "tags": [],
    "cell_id": "00016-f49281d4-dd1c-40eb-ad12-3ab2ac0c46c2",
    "deepnote_to_be_reexecuted": false,
    "source_hash": "30e5df35",
    "execution_start": 1632837902334,
    "execution_millis": 829,
    "deepnote_cell_type": "code"
   },
   "source": "prepare_train.to_csv('prepare_train.csv',index=False)",
   "execution_count": null,
   "outputs": []
  },
  {
   "cell_type": "markdown",
   "source": "# Test-set",
   "metadata": {
    "tags": [],
    "is_collapsed": false,
    "cell_id": "00008-e17e4411-b8d1-4a74-817d-0610517e3e01",
    "deepnote_cell_type": "text-cell-h1"
   }
  },
  {
   "cell_type": "code",
   "metadata": {
    "tags": [],
    "cell_id": "00018-c314631a-1c37-4081-a56d-71cee85c8c7c",
    "deepnote_to_be_reexecuted": false,
    "source_hash": "640b794c",
    "execution_start": 1632893120734,
    "execution_millis": 118,
    "deepnote_cell_type": "code"
   },
   "source": "test = pd.read_csv('pretest.csv')",
   "execution_count": null,
   "outputs": []
  },
  {
   "cell_type": "code",
   "metadata": {
    "tags": [],
    "cell_id": "00019-a87b7140-ab88-4c80-a0b4-26031d479dfa",
    "deepnote_to_be_reexecuted": false,
    "source_hash": "2f23ba3e",
    "execution_start": 1632893122258,
    "execution_millis": 3,
    "deepnote_cell_type": "code"
   },
   "source": "test.loc[test[\"surface_area [m^2/g]\"] == 0, \"surface_area [m^2/g]\"] = np.NAN\ntest.loc[test[\"surface_area [m^2/g]\"] == -1, \"surface_area [m^2/g]\"] = np.NAN\ntest.loc[test[\"void_fraction\"] == 0, \"void_fraction\"] = np.NAN\ntest.loc[test[\"void_fraction\"] == -1, \"void_fraction\"] = np.NAN\ntest.loc[test[\"void_volume [cm^3/g]\"] == 0, \"void_volume [cm^3/g]\"] = np.NAN\ntest.loc[test[\"heat_adsorption_CO2_P0.15bar_T298K [kcal/mol]\"] == np.inf, \"heat_adsorption_CO2_P0.15bar_T298K [kcal/mol]\"] = np.nan\n",
   "execution_count": null,
   "outputs": []
  },
  {
   "cell_type": "code",
   "metadata": {
    "tags": [],
    "cell_id": "00019-cf53e159-7568-49e2-8af8-de0ec832b078",
    "deepnote_to_be_reexecuted": false,
    "source_hash": "e232148d",
    "execution_start": 1632893124403,
    "execution_millis": 12,
    "deepnote_cell_type": "code"
   },
   "source": "test.info()",
   "execution_count": null,
   "outputs": [
    {
     "name": "stdout",
     "text": "<class 'pandas.core.frame.DataFrame'>\nRangeIndex: 2000 entries, 0 to 1999\nData columns (total 13 columns):\n #   Column                                         Non-Null Count  Dtype  \n---  ------                                         --------------  -----  \n 0   MOFname                                        2000 non-null   object \n 1   volume [A^3]                                   2000 non-null   float64\n 2   weight [u]                                     2000 non-null   float64\n 3   surface_area [m^2/g]                           1688 non-null   float64\n 4   void_fraction                                  1973 non-null   float64\n 5   void_volume [cm^3/g]                           1972 non-null   float64\n 6   functional_groups                              1979 non-null   object \n 7   metal_linker                                   2000 non-null   int64  \n 8   organic_linker1                                2000 non-null   int64  \n 9   organic_linker2                                2000 non-null   int64  \n 10  topology                                       2000 non-null   object \n 11  CO2/N2_selectivity                             2000 non-null   float64\n 12  heat_adsorption_CO2_P0.15bar_T298K [kcal/mol]  2000 non-null   float64\ndtypes: float64(7), int64(3), object(3)\nmemory usage: 203.2+ KB\n",
     "output_type": "stream"
    }
   ]
  },
  {
   "cell_type": "code",
   "metadata": {
    "tags": [],
    "cell_id": "00020-cb499618-0784-45fe-b3fd-5955cf95bfda",
    "deepnote_to_be_reexecuted": false,
    "source_hash": "37804f6d",
    "execution_start": 1632893126794,
    "execution_millis": 2,
    "deepnote_cell_type": "code"
   },
   "source": "prepare_test = test.copy()",
   "execution_count": null,
   "outputs": []
  },
  {
   "cell_type": "code",
   "metadata": {
    "tags": [],
    "cell_id": "00020-026d5b35-02c7-4cbb-8bb8-33cd10614a5f",
    "deepnote_to_be_reexecuted": false,
    "source_hash": "2d700b1c",
    "execution_start": 1632893131174,
    "execution_millis": 0,
    "deepnote_cell_type": "code"
   },
   "source": "for feature in missing_columns:\n    test[feature + '_imp'] = test[feature]\n    test = random_imputation(test, feature)",
   "execution_count": null,
   "outputs": []
  },
  {
   "cell_type": "markdown",
   "source": "## Deterministic test set",
   "metadata": {
    "tags": [],
    "is_collapsed": false,
    "cell_id": "00023-4313b2d8-2f91-4798-af26-36e875aed871",
    "deepnote_cell_type": "text-cell-h2"
   }
  },
  {
   "cell_type": "code",
   "metadata": {
    "tags": [],
    "cell_id": "00020-584deec3-e8b0-412e-a9ed-e35fcd5df4ea",
    "deepnote_to_be_reexecuted": false,
    "source_hash": "1c2dfb98",
    "execution_start": 1632837903295,
    "execution_millis": 14,
    "deepnote_cell_type": "code"
   },
   "source": "data_test = pd.DataFrame(columns = missing_columns)\n\nfor feature in missing_columns:\n        \n    data_test[feature] = test[feature+'_imp']\n    parameters = list(set(test.columns) - set(missing_columns)-set(cate_columns)-{feature + '_imp'} - set('CO2_working_capacity [mL/g]'))\n    \n    #observe that I preserve the index of the missing data_test from the original data_testframe\n    data_test.loc[test[feature].isnull(),feature] = model.predict(test[parameters])[test[feature].isnull()]",
   "execution_count": null,
   "outputs": [
    {
     "name": "stderr",
     "text": "/shared-libs/python3.7/py/lib/python3.7/site-packages/sklearn/base.py:484: FutureWarning: The feature names should match those that were passed during fit. Starting version 1.2, an error will be raised.\nFeature names unseen at fit time:\n- void_volume [cm^3/g]_imp\nFeature names seen at fit time, yet now missing:\n- surface_area [m^2/g]_imp\n\n  warnings.warn(message, FutureWarning)\n/shared-libs/python3.7/py/lib/python3.7/site-packages/sklearn/base.py:484: FutureWarning: The feature names should match those that were passed during fit. Starting version 1.2, an error will be raised.\nFeature names unseen at fit time:\n- void_volume [cm^3/g]_imp\nFeature names seen at fit time, yet now missing:\n- void_fraction_imp\n\n  warnings.warn(message, FutureWarning)\n",
     "output_type": "stream"
    }
   ]
  },
  {
   "cell_type": "code",
   "metadata": {
    "tags": [],
    "cell_id": "00022-0722320a-c0dd-4d7c-b4ce-99a1e586e09e",
    "deepnote_to_be_reexecuted": false,
    "source_hash": "a9e356c",
    "execution_start": 1632837903342,
    "execution_millis": 0,
    "deepnote_cell_type": "code"
   },
   "source": "for column in missing_columns:\n    prepare_test[column] = data_test[column]",
   "execution_count": null,
   "outputs": []
  },
  {
   "cell_type": "code",
   "metadata": {
    "tags": [],
    "cell_id": "00025-84675c23-702e-40af-8bf8-0cc2789599da",
    "deepnote_to_be_reexecuted": false,
    "source_hash": "6a8dafed",
    "execution_start": 1632837903342,
    "execution_millis": 51,
    "deepnote_cell_type": "code"
   },
   "source": "prepare_test.to_csv('prepare_test.csv',index=False)",
   "execution_count": null,
   "outputs": []
  },
  {
   "cell_type": "markdown",
   "source": "## stochastic impute",
   "metadata": {
    "tags": [],
    "is_collapsed": false,
    "cell_id": "00026-4ec43a84-c81a-4032-82ab-93e0ee7d93c5",
    "deepnote_cell_type": "text-cell-h2"
   }
  },
  {
   "cell_type": "code",
   "metadata": {
    "tags": [],
    "cell_id": "00027-c2402e32-0cd0-4f7f-9036-799d6359c474",
    "deepnote_to_be_reexecuted": false,
    "source_hash": "9b5c7a88",
    "execution_start": 1632893199993,
    "execution_millis": 214,
    "deepnote_cell_type": "code"
   },
   "source": "random_data = pd.DataFrame(columns = [name for name in missing_columns])\n\nfor feature in missing_columns:\n        \n    random_data[feature] = train[feature + '_imp']\n    parameters = list(set(train.columns) - set(missing_columns)-set(cate_columns)-{feature + '_imp'} - set(['CO2_working_capacity [mL/g]']))\n    \n    model = linear_model.LinearRegression()\n    model.fit(X = train[parameters], y = train[feature + '_imp'])\n    \n    #Standard Error of the regression estimates is equal to std() of the errors of each estimates\n    predict = model.predict(train[parameters])\n    std_error = (predict[train[feature].notnull()] - train.loc[train[feature].notnull(), feature + '_imp']).std()\n    \n    #observe that I preserve the index of the missing data from the original dataframe\n    random_predict = np.random.normal(size = train[feature].shape[0], \n                                      loc = predict, \n                                      scale = std_error)\n    random_data.loc[(train[feature].isnull()) & (random_predict > 0), feature] = random_predict[(train[feature].isnull()) & \n                                                                            (random_predict > 0)]",
   "execution_count": null,
   "outputs": []
  },
  {
   "cell_type": "code",
   "metadata": {
    "tags": [],
    "cell_id": "00028-b26e2597-e107-457b-88d2-63e93ec95766",
    "deepnote_to_be_reexecuted": false,
    "source_hash": "dfde9a42",
    "execution_start": 1632893204118,
    "execution_millis": 11,
    "deepnote_cell_type": "code"
   },
   "source": "for column in missing_columns:\n    prepare_train[column] = random_data[column]",
   "execution_count": null,
   "outputs": []
  },
  {
   "cell_type": "code",
   "metadata": {
    "tags": [],
    "cell_id": "00030-2a803581-7a3e-45c9-8bbc-ddffea7630fb",
    "deepnote_to_be_reexecuted": false,
    "source_hash": "742705ac",
    "execution_start": 1632893207030,
    "execution_millis": 871,
    "deepnote_cell_type": "code"
   },
   "source": "prepare_train.dropna(inplace=True)\nprepare_train.to_csv('train_impute_stochastic_wo_smiles.csv',index=False)",
   "execution_count": null,
   "outputs": []
  },
  {
   "cell_type": "markdown",
   "source": "### test set",
   "metadata": {
    "tags": [],
    "is_collapsed": false,
    "cell_id": "00030-96337389-027c-4515-bed2-d2808012b523",
    "deepnote_cell_type": "text-cell-h3"
   }
  },
  {
   "cell_type": "code",
   "metadata": {
    "tags": [],
    "cell_id": "00033-0816324b-0b75-4869-be4b-0f1ef34e0c05",
    "deepnote_to_be_reexecuted": false,
    "source_hash": "2592ed32",
    "execution_start": 1632893215246,
    "execution_millis": 17,
    "deepnote_cell_type": "code"
   },
   "source": "data_test = pd.DataFrame(columns = missing_columns)\n\nfor feature in missing_columns:\n        \n    data_test[feature] = test[feature+'_imp']\n    parameters = list(set(test.columns) - set(missing_columns)-set(cate_columns)-{feature + '_imp'} - set('CO2_working_capacity [mL/g]'))\n    \n    #observe that I preserve the index of the missing data_test from the original data_testframe\n    data_test.loc[test[feature].isnull(),feature] = model.predict(test[parameters])[test[feature].isnull()]\n    random_data.loc[(train[feature].isnull()) & (random_predict > 0), feature] = random_predict[(train[feature].isnull()) & \n                                                                            (random_predict > 0)]",
   "execution_count": null,
   "outputs": []
  },
  {
   "cell_type": "code",
   "metadata": {
    "tags": [],
    "cell_id": "00034-fae4eebb-4047-4e85-b098-24bc3c0c9afe",
    "deepnote_to_be_reexecuted": false,
    "source_hash": "5c3c331e",
    "execution_start": 1632893217960,
    "execution_millis": 138,
    "deepnote_cell_type": "code"
   },
   "source": "for column in missing_columns:\n    prepare_test[column] = data_test[column]\nprepare_test.to_csv('pretest_impute_stochastic_wo_smile.csv',index=False)",
   "execution_count": null,
   "outputs": []
  },
  {
   "cell_type": "markdown",
   "source": "<a style='text-decoration:none;line-height:16px;display:flex;color:#5B5B62;padding:10px;justify-content:end;' href='https://deepnote.com?utm_source=created-in-deepnote-cell&projectId=fa57721c-b209-430d-97e4-796ac27ee623' target=\"_blank\">\n<img alt='Created in deepnote.com' style='display:inline;max-height:16px;margin:0px;margin-right:7.5px;' src='data:image/svg+xml;base64,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' > </img>\nCreated in <span style='font-weight:600;margin-left:4px;'>Deepnote</span></a>",
   "metadata": {
    "tags": [],
    "created_in_deepnote_cell": true,
    "deepnote_cell_type": "markdown"
   }
  }
 ],
 "nbformat": 4,
 "nbformat_minor": 2,
 "metadata": {
  "orig_nbformat": 2,
  "deepnote": {
   "is_reactive": false
  },
  "deepnote_notebook_id": "21d05c23-da16-4e72-85fe-8527b0d75249",
  "deepnote_execution_queue": []
 }
}