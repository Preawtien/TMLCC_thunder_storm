{
 "cells": [
  {
   "cell_type": "code",
   "metadata": {
    "tags": [],
    "cell_id": "00000-5714b702-7ce3-4978-bdaf-25291f10535e",
    "deepnote_to_be_reexecuted": false,
    "source_hash": "e2238c3e",
    "execution_start": 1634393448991,
    "execution_millis": 1237,
    "deepnote_cell_type": "code"
   },
   "source": "import pandas as pd\nimport numpy as np\nimport matplotlib.pyplot as plt\nimport math",
   "outputs": [],
   "execution_count": null
  },
  {
   "cell_type": "code",
   "metadata": {
    "tags": [],
    "cell_id": "00001-50af6874-0061-4708-ad13-594844960e29",
    "deepnote_to_be_reexecuted": false,
    "source_hash": "293cd7df",
    "execution_start": 1634393462292,
    "execution_millis": 1053,
    "deepnote_cell_type": "code"
   },
   "source": "from sklearn import neighbors\nfrom sklearn.preprocessing import StandardScaler\nfrom sklearn.model_selection import train_test_split",
   "outputs": [],
   "execution_count": null
  },
  {
   "cell_type": "code",
   "metadata": {
    "tags": [],
    "cell_id": "00002-ed4fad4d-8e97-427d-95f9-91496113bb25",
    "deepnote_to_be_reexecuted": false,
    "source_hash": "b422108b",
    "execution_start": 1634393469990,
    "execution_millis": 660,
    "deepnote_cell_type": "code"
   },
   "source": "train = pd.read_csv('/work/train_final.csv')\ntrain.head()",
   "outputs": [
    {
     "output_type": "execute_result",
     "execution_count": 3,
     "data": {
      "application/vnd.deepnote.dataframe.v2+json": {
       "row_count": 5,
       "column_count": 52,
       "columns": [
        {
         "name": "MOFname",
         "dtype": "object",
         "stats": {
          "unique_count": 5,
          "nan_count": 0,
          "categories": [
           {
            "name": "mof_unit_1",
            "count": 1
           },
           {
            "name": "mof_unit_2",
            "count": 1
           },
           {
            "name": "3 others",
            "count": 3
           }
          ]
         }
        },
        {
         "name": "volume [A^3]",
         "dtype": "float64",
         "stats": {
          "unique_count": 5,
          "nan_count": 0,
          "min": "1089.818728",
          "max": "2769.503842",
          "histogram": [
           {
            "bin_start": 1089.818728,
            "bin_end": 1257.7872394,
            "count": 3
           },
           {
            "bin_start": 1257.7872394,
            "bin_end": 1425.7557508,
            "count": 0
           },
           {
            "bin_start": 1425.7557508,
            "bin_end": 1593.7242621999999,
            "count": 0
           },
           {
            "bin_start": 1593.7242621999999,
            "bin_end": 1761.6927736,
            "count": 0
           },
           {
            "bin_start": 1761.6927736,
            "bin_end": 1929.6612850000001,
            "count": 0
           },
           {
            "bin_start": 1929.6612850000001,
            "bin_end": 2097.6297964,
            "count": 0
           },
           {
            "bin_start": 2097.6297964,
            "bin_end": 2265.5983078,
            "count": 1
           },
           {
            "bin_start": 2265.5983078,
            "bin_end": 2433.5668192000003,
            "count": 0
           },
           {
            "bin_start": 2433.5668192000003,
            "bin_end": 2601.5353305999997,
            "count": 0
           },
           {
            "bin_start": 2601.5353305999997,
            "bin_end": 2769.503842,
            "count": 1
           }
          ]
         }
        },
        {
         "name": "weight [u]",
         "dtype": "float64",
         "stats": {
          "unique_count": 5,
          "nan_count": 0,
          "min": "773.68796",
          "max": "2211.697211",
          "histogram": [
           {
            "bin_start": 773.68796,
            "bin_end": 917.4888851000001,
            "count": 3
           },
           {
            "bin_start": 917.4888851000001,
            "bin_end": 1061.2898102,
            "count": 0
           },
           {
            "bin_start": 1061.2898102,
            "bin_end": 1205.0907353,
            "count": 0
           },
           {
            "bin_start": 1205.0907353,
            "bin_end": 1348.8916604,
            "count": 1
           },
           {
            "bin_start": 1348.8916604,
            "bin_end": 1492.6925855000002,
            "count": 0
           },
           {
            "bin_start": 1492.6925855000002,
            "bin_end": 1636.4935106000003,
            "count": 0
           },
           {
            "bin_start": 1636.4935106000003,
            "bin_end": 1780.2944357000001,
            "count": 0
           },
           {
            "bin_start": 1780.2944357000001,
            "bin_end": 1924.0953608000002,
            "count": 0
           },
           {
            "bin_start": 1924.0953608000002,
            "bin_end": 2067.8962859000003,
            "count": 0
           },
           {
            "bin_start": 2067.8962859000003,
            "bin_end": 2211.697211,
            "count": 1
           }
          ]
         }
        },
        {
         "name": "density [g/cm^3]",
         "dtype": "float64",
         "stats": {
          "unique_count": 5,
          "nan_count": 0,
          "min": "0.982408148567134",
          "max": "1.3260901216521728",
          "histogram": [
           {
            "bin_start": 0.982408148567134,
            "bin_end": 1.0167763458756378,
            "count": 1
           },
           {
            "bin_start": 1.0167763458756378,
            "bin_end": 1.0511445431841417,
            "count": 0
           },
           {
            "bin_start": 1.0511445431841417,
            "bin_end": 1.0855127404926457,
            "count": 0
           },
           {
            "bin_start": 1.0855127404926457,
            "bin_end": 1.1198809378011494,
            "count": 0
           },
           {
            "bin_start": 1.1198809378011494,
            "bin_end": 1.1542491351096533,
            "count": 0
           },
           {
            "bin_start": 1.1542491351096533,
            "bin_end": 1.1886173324181573,
            "count": 1
           },
           {
            "bin_start": 1.1886173324181573,
            "bin_end": 1.2229855297266612,
            "count": 0
           },
           {
            "bin_start": 1.2229855297266612,
            "bin_end": 1.2573537270351651,
            "count": 0
           },
           {
            "bin_start": 1.2573537270351651,
            "bin_end": 1.2917219243436688,
            "count": 0
           },
           {
            "bin_start": 1.2917219243436688,
            "bin_end": 1.3260901216521728,
            "count": 3
           }
          ]
         }
        },
        {
         "name": "surface_area [m^2/g]",
         "dtype": "float64",
         "stats": {
          "unique_count": 5,
          "nan_count": 0,
          "min": "277.7366563490379",
          "max": "1441.53",
          "histogram": [
           {
            "bin_start": 277.7366563490379,
            "bin_end": 394.1159907141341,
            "count": 1
           },
           {
            "bin_start": 394.1159907141341,
            "bin_end": 510.49532507923027,
            "count": 0
           },
           {
            "bin_start": 510.49532507923027,
            "bin_end": 626.8746594443264,
            "count": 1
           },
           {
            "bin_start": 626.8746594443264,
            "bin_end": 743.2539938094227,
            "count": 0
           },
           {
            "bin_start": 743.2539938094227,
            "bin_end": 859.633328174519,
            "count": 1
           },
           {
            "bin_start": 859.633328174519,
            "bin_end": 976.0126625396151,
            "count": 0
           },
           {
            "bin_start": 976.0126625396151,
            "bin_end": 1092.3919969047113,
            "count": 0
           },
           {
            "bin_start": 1092.3919969047113,
            "bin_end": 1208.7713312698074,
            "count": 1
           },
           {
            "bin_start": 1208.7713312698074,
            "bin_end": 1325.1506656349038,
            "count": 0
           },
           {
            "bin_start": 1325.1506656349038,
            "bin_end": 1441.53,
            "count": 1
           }
          ]
         }
        },
        {
         "name": "gsa",
         "dtype": "float64",
         "stats": {
          "unique_count": 5,
          "nan_count": 0,
          "min": "182.8391274724127",
          "max": "3925.613159996791",
          "histogram": [
           {
            "bin_start": 182.8391274724127,
            "bin_end": 557.1165307248506,
            "count": 2
           },
           {
            "bin_start": 557.1165307248506,
            "bin_end": 931.3939339772885,
            "count": 1
           },
           {
            "bin_start": 931.3939339772885,
            "bin_end": 1305.6713372297263,
            "count": 0
           },
           {
            "bin_start": 1305.6713372297263,
            "bin_end": 1679.948740482164,
            "count": 0
           },
           {
            "bin_start": 1679.948740482164,
            "bin_end": 2054.226143734602,
            "count": 1
           },
           {
            "bin_start": 2054.226143734602,
            "bin_end": 2428.50354698704,
            "count": 0
           },
           {
            "bin_start": 2428.50354698704,
            "bin_end": 2802.7809502394775,
            "count": 0
           },
           {
            "bin_start": 2802.7809502394775,
            "bin_end": 3177.0583534919156,
            "count": 0
           },
           {
            "bin_start": 3177.0583534919156,
            "bin_end": 3551.3357567443536,
            "count": 0
           },
           {
            "bin_start": 3551.3357567443536,
            "bin_end": 3925.613159996791,
            "count": 1
           }
          ]
         }
        },
        {
         "name": "vsa",
         "dtype": "float64",
         "stats": {
          "unique_count": 5,
          "nan_count": 0,
          "min": "277.7366563490379",
          "max": "1911.5645822690333",
          "histogram": [
           {
            "bin_start": 277.7366563490379,
            "bin_end": 441.11944894103743,
            "count": 1
           },
           {
            "bin_start": 441.11944894103743,
            "bin_end": 604.502241533037,
            "count": 1
           },
           {
            "bin_start": 604.502241533037,
            "bin_end": 767.8850341250366,
            "count": 0
           },
           {
            "bin_start": 767.8850341250366,
            "bin_end": 931.2678267170361,
            "count": 0
           },
           {
            "bin_start": 931.2678267170361,
            "bin_end": 1094.6506193090356,
            "count": 0
           },
           {
            "bin_start": 1094.6506193090356,
            "bin_end": 1258.0334119010352,
            "count": 1
           },
           {
            "bin_start": 1258.0334119010352,
            "bin_end": 1421.4162044930347,
            "count": 0
           },
           {
            "bin_start": 1421.4162044930347,
            "bin_end": 1584.7989970850342,
            "count": 0
           },
           {
            "bin_start": 1584.7989970850342,
            "bin_end": 1748.1817896770337,
            "count": 1
           },
           {
            "bin_start": 1748.1817896770337,
            "bin_end": 1911.5645822690333,
            "count": 1
           }
          ]
         }
        },
        {
         "name": "smiles",
         "dtype": "object",
         "stats": {
          "unique_count": 5,
          "nan_count": 0,
          "categories": [
           {
            "name": "OC(=O)OCC",
            "count": 1
           },
           {
            "name": "FOC",
            "count": 1
           },
           {
            "name": "3 others",
            "count": 3
           }
          ]
         }
        },
        {
         "name": "MolWt",
         "dtype": "float64",
         "stats": {
          "unique_count": 5,
          "nan_count": 0,
          "min": "47.057",
          "max": "90.078",
          "histogram": [
           {
            "bin_start": 47.057,
            "bin_end": 51.359100000000005,
            "count": 2
           },
           {
            "bin_start": 51.359100000000005,
            "bin_end": 55.6612,
            "count": 0
           },
           {
            "bin_start": 55.6612,
            "bin_end": 59.963300000000004,
            "count": 0
           },
           {
            "bin_start": 59.963300000000004,
            "bin_end": 64.2654,
            "count": 0
           },
           {
            "bin_start": 64.2654,
            "bin_end": 68.5675,
            "count": 0
           },
           {
            "bin_start": 68.5675,
            "bin_end": 72.8696,
            "count": 0
           },
           {
            "bin_start": 72.8696,
            "bin_end": 77.1717,
            "count": 1
           },
           {
            "bin_start": 77.1717,
            "bin_end": 81.47380000000001,
            "count": 0
           },
           {
            "bin_start": 81.47380000000001,
            "bin_end": 85.77590000000001,
            "count": 1
           },
           {
            "bin_start": 85.77590000000001,
            "bin_end": 90.078,
            "count": 1
           }
          ]
         }
        },
        {
         "name": "MolLogP",
         "dtype": "float64",
         "stats": {
          "unique_count": 5,
          "nan_count": 0,
          "min": "-0.9291999999999998",
          "max": "0.7009000000000001",
          "histogram": [
           {
            "bin_start": -0.9291999999999998,
            "bin_end": -0.7661899999999998,
            "count": 1
           },
           {
            "bin_start": -0.7661899999999998,
            "bin_end": -0.6031799999999998,
            "count": 0
           },
           {
            "bin_start": -0.6031799999999998,
            "bin_end": -0.44016999999999984,
            "count": 0
           },
           {
            "bin_start": -0.44016999999999984,
            "bin_end": -0.27715999999999985,
            "count": 1
           },
           {
            "bin_start": -0.27715999999999985,
            "bin_end": -0.11414999999999986,
            "count": 0
           },
           {
            "bin_start": -0.11414999999999986,
            "bin_end": 0.048860000000000126,
            "count": 0
           },
           {
            "bin_start": 0.048860000000000126,
            "bin_end": 0.21187000000000022,
            "count": 0
           },
           {
            "bin_start": 0.21187000000000022,
            "bin_end": 0.3748800000000001,
            "count": 1
           },
           {
            "bin_start": 0.3748800000000001,
            "bin_end": 0.53789,
            "count": 1
           },
           {
            "bin_start": 0.53789,
            "bin_end": 0.7009000000000001,
            "count": 1
           }
          ]
         }
        },
        {
         "name": "NumValenceElectrons",
         "dtype": "int64",
         "stats": {
          "unique_count": 4,
          "nan_count": 0,
          "min": "20",
          "max": "36",
          "histogram": [
           {
            "bin_start": 20,
            "bin_end": 21.6,
            "count": 2
           },
           {
            "bin_start": 21.6,
            "bin_end": 23.2,
            "count": 0
           },
           {
            "bin_start": 23.2,
            "bin_end": 24.8,
            "count": 0
           },
           {
            "bin_start": 24.8,
            "bin_end": 26.4,
            "count": 1
           },
           {
            "bin_start": 26.4,
            "bin_end": 28,
            "count": 0
           },
           {
            "bin_start": 28,
            "bin_end": 29.6,
            "count": 0
           },
           {
            "bin_start": 29.6,
            "bin_end": 31.200000000000003,
            "count": 1
           },
           {
            "bin_start": 31.200000000000003,
            "bin_end": 32.8,
            "count": 0
           },
           {
            "bin_start": 32.8,
            "bin_end": 34.4,
            "count": 0
           },
           {
            "bin_start": 34.4,
            "bin_end": 36,
            "count": 1
           }
          ]
         }
        },
        {
         "name": "HeavyAtomCount",
         "dtype": "int64",
         "stats": {
          "unique_count": 4,
          "nan_count": 0,
          "min": "3",
          "max": "6",
          "histogram": [
           {
            "bin_start": 3,
            "bin_end": 3.3,
            "count": 2
           },
           {
            "bin_start": 3.3,
            "bin_end": 3.6,
            "count": 0
           },
           {
            "bin_start": 3.6,
            "bin_end": 3.9,
            "count": 0
           },
           {
            "bin_start": 3.9,
            "bin_end": 4.2,
            "count": 1
           },
           {
            "bin_start": 4.2,
            "bin_end": 4.5,
            "count": 0
           },
           {
            "bin_start": 4.5,
            "bin_end": 4.8,
            "count": 0
           },
           {
            "bin_start": 4.8,
            "bin_end": 5.1,
            "count": 1
           },
           {
            "bin_start": 5.1,
            "bin_end": 5.4,
            "count": 0
           },
           {
            "bin_start": 5.4,
            "bin_end": 5.699999999999999,
            "count": 0
           },
           {
            "bin_start": 5.699999999999999,
            "bin_end": 6,
            "count": 1
           }
          ]
         }
        },
        {
         "name": "NOCount",
         "dtype": "int64",
         "stats": {
          "unique_count": 3,
          "nan_count": 0,
          "min": "1",
          "max": "3",
          "histogram": [
           {
            "bin_start": 1,
            "bin_end": 1.2,
            "count": 1
           },
           {
            "bin_start": 1.2,
            "bin_end": 1.4,
            "count": 0
           },
           {
            "bin_start": 1.4,
            "bin_end": 1.6,
            "count": 0
           },
           {
            "bin_start": 1.6,
            "bin_end": 1.8,
            "count": 0
           },
           {
            "bin_start": 1.8,
            "bin_end": 2,
            "count": 0
           },
           {
            "bin_start": 2,
            "bin_end": 2.2,
            "count": 1
           },
           {
            "bin_start": 2.2,
            "bin_end": 2.4000000000000004,
            "count": 0
           },
           {
            "bin_start": 2.4000000000000004,
            "bin_end": 2.6,
            "count": 0
           },
           {
            "bin_start": 2.6,
            "bin_end": 2.8,
            "count": 0
           },
           {
            "bin_start": 2.8,
            "bin_end": 3,
            "count": 3
           }
          ]
         }
        },
        {
         "name": "NumAliphaticRings",
         "dtype": "int64",
         "stats": {
          "unique_count": 1,
          "nan_count": 0,
          "min": "0",
          "max": "0",
          "histogram": [
           {
            "bin_start": -0.5,
            "bin_end": -0.4,
            "count": 0
           },
           {
            "bin_start": -0.4,
            "bin_end": -0.3,
            "count": 0
           },
           {
            "bin_start": -0.3,
            "bin_end": -0.19999999999999996,
            "count": 0
           },
           {
            "bin_start": -0.19999999999999996,
            "bin_end": -0.09999999999999998,
            "count": 0
           },
           {
            "bin_start": -0.09999999999999998,
            "bin_end": 0,
            "count": 0
           },
           {
            "bin_start": 0,
            "bin_end": 0.10000000000000009,
            "count": 5
           },
           {
            "bin_start": 0.10000000000000009,
            "bin_end": 0.20000000000000007,
            "count": 0
           },
           {
            "bin_start": 0.20000000000000007,
            "bin_end": 0.30000000000000004,
            "count": 0
           },
           {
            "bin_start": 0.30000000000000004,
            "bin_end": 0.4,
            "count": 0
           },
           {
            "bin_start": 0.4,
            "bin_end": 0.5,
            "count": 0
           }
          ]
         }
        },
        {
         "name": "NumAromaticRings",
         "dtype": "int64",
         "stats": {
          "unique_count": 1,
          "nan_count": 0,
          "min": "0",
          "max": "0",
          "histogram": [
           {
            "bin_start": -0.5,
            "bin_end": -0.4,
            "count": 0
           },
           {
            "bin_start": -0.4,
            "bin_end": -0.3,
            "count": 0
           },
           {
            "bin_start": -0.3,
            "bin_end": -0.19999999999999996,
            "count": 0
           },
           {
            "bin_start": -0.19999999999999996,
            "bin_end": -0.09999999999999998,
            "count": 0
           },
           {
            "bin_start": -0.09999999999999998,
            "bin_end": 0,
            "count": 0
           },
           {
            "bin_start": 0,
            "bin_end": 0.10000000000000009,
            "count": 5
           },
           {
            "bin_start": 0.10000000000000009,
            "bin_end": 0.20000000000000007,
            "count": 0
           },
           {
            "bin_start": 0.20000000000000007,
            "bin_end": 0.30000000000000004,
            "count": 0
           },
           {
            "bin_start": 0.30000000000000004,
            "bin_end": 0.4,
            "count": 0
           },
           {
            "bin_start": 0.4,
            "bin_end": 0.5,
            "count": 0
           }
          ]
         }
        },
        {
         "name": "NumHAcceptors",
         "dtype": "int64",
         "stats": {
          "unique_count": 2,
          "nan_count": 0,
          "min": "1",
          "max": "2",
          "histogram": [
           {
            "bin_start": 1,
            "bin_end": 1.1,
            "count": 1
           },
           {
            "bin_start": 1.1,
            "bin_end": 1.2,
            "count": 0
           },
           {
            "bin_start": 1.2,
            "bin_end": 1.3,
            "count": 0
           },
           {
            "bin_start": 1.3,
            "bin_end": 1.4,
            "count": 0
           },
           {
            "bin_start": 1.4,
            "bin_end": 1.5,
            "count": 0
           },
           {
            "bin_start": 1.5,
            "bin_end": 1.6,
            "count": 0
           },
           {
            "bin_start": 1.6,
            "bin_end": 1.7000000000000002,
            "count": 0
           },
           {
            "bin_start": 1.7000000000000002,
            "bin_end": 1.8,
            "count": 0
           },
           {
            "bin_start": 1.8,
            "bin_end": 1.9,
            "count": 0
           },
           {
            "bin_start": 1.9,
            "bin_end": 2,
            "count": 4
           }
          ]
         }
        },
        {
         "name": "NumHDonors",
         "dtype": "int64",
         "stats": {
          "unique_count": 3,
          "nan_count": 0,
          "min": "0",
          "max": "2",
          "histogram": [
           {
            "bin_start": 0,
            "bin_end": 0.2,
            "count": 1
           },
           {
            "bin_start": 0.2,
            "bin_end": 0.4,
            "count": 0
           },
           {
            "bin_start": 0.4,
            "bin_end": 0.6000000000000001,
            "count": 0
           },
           {
            "bin_start": 0.6000000000000001,
            "bin_end": 0.8,
            "count": 0
           },
           {
            "bin_start": 0.8,
            "bin_end": 1,
            "count": 0
           },
           {
            "bin_start": 1,
            "bin_end": 1.2000000000000002,
            "count": 2
           },
           {
            "bin_start": 1.2000000000000002,
            "bin_end": 1.4000000000000001,
            "count": 0
           },
           {
            "bin_start": 1.4000000000000001,
            "bin_end": 1.6,
            "count": 0
           },
           {
            "bin_start": 1.6,
            "bin_end": 1.8,
            "count": 0
           },
           {
            "bin_start": 1.8,
            "bin_end": 2,
            "count": 2
           }
          ]
         }
        },
        {
         "name": "NumHeteroatoms",
         "dtype": "int64",
         "stats": {
          "unique_count": 3,
          "nan_count": 0,
          "min": "2",
          "max": "4",
          "histogram": [
           {
            "bin_start": 2,
            "bin_end": 2.2,
            "count": 2
           },
           {
            "bin_start": 2.2,
            "bin_end": 2.4,
            "count": 0
           },
           {
            "bin_start": 2.4,
            "bin_end": 2.6,
            "count": 0
           },
           {
            "bin_start": 2.6,
            "bin_end": 2.8,
            "count": 0
           },
           {
            "bin_start": 2.8,
            "bin_end": 3,
            "count": 0
           },
           {
            "bin_start": 3,
            "bin_end": 3.2,
            "count": 2
           },
           {
            "bin_start": 3.2,
            "bin_end": 3.4000000000000004,
            "count": 0
           },
           {
            "bin_start": 3.4000000000000004,
            "bin_end": 3.6,
            "count": 0
           },
           {
            "bin_start": 3.6,
            "bin_end": 3.8,
            "count": 0
           },
           {
            "bin_start": 3.8,
            "bin_end": 4,
            "count": 1
           }
          ]
         }
        },
        {
         "name": "NumRotatableBonds",
         "dtype": "int64",
         "stats": {
          "unique_count": 2,
          "nan_count": 0,
          "min": "0",
          "max": "1",
          "histogram": [
           {
            "bin_start": 0,
            "bin_end": 0.1,
            "count": 4
           },
           {
            "bin_start": 0.1,
            "bin_end": 0.2,
            "count": 0
           },
           {
            "bin_start": 0.2,
            "bin_end": 0.30000000000000004,
            "count": 0
           },
           {
            "bin_start": 0.30000000000000004,
            "bin_end": 0.4,
            "count": 0
           },
           {
            "bin_start": 0.4,
            "bin_end": 0.5,
            "count": 0
           },
           {
            "bin_start": 0.5,
            "bin_end": 0.6000000000000001,
            "count": 0
           },
           {
            "bin_start": 0.6000000000000001,
            "bin_end": 0.7000000000000001,
            "count": 0
           },
           {
            "bin_start": 0.7000000000000001,
            "bin_end": 0.8,
            "count": 0
           },
           {
            "bin_start": 0.8,
            "bin_end": 0.9,
            "count": 0
           },
           {
            "bin_start": 0.9,
            "bin_end": 1,
            "count": 1
           }
          ]
         }
        },
        {
         "name": "void_fraction",
         "dtype": "float64",
         "stats": {
          "unique_count": 5,
          "nan_count": 0,
          "min": "0.07778",
          "max": "0.21814",
          "histogram": [
           {
            "bin_start": 0.07778,
            "bin_end": 0.091816,
            "count": 2
           },
           {
            "bin_start": 0.091816,
            "bin_end": 0.105852,
            "count": 0
           },
           {
            "bin_start": 0.105852,
            "bin_end": 0.119888,
            "count": 0
           },
           {
            "bin_start": 0.119888,
            "bin_end": 0.133924,
            "count": 0
           },
           {
            "bin_start": 0.133924,
            "bin_end": 0.14795999999999998,
            "count": 1
           },
           {
            "bin_start": 0.14795999999999998,
            "bin_end": 0.16199599999999997,
            "count": 1
           },
           {
            "bin_start": 0.16199599999999997,
            "bin_end": 0.176032,
            "count": 0
           },
           {
            "bin_start": 0.176032,
            "bin_end": 0.190068,
            "count": 0
           },
           {
            "bin_start": 0.190068,
            "bin_end": 0.204104,
            "count": 0
           },
           {
            "bin_start": 0.204104,
            "bin_end": 0.21814,
            "count": 1
           }
          ]
         }
        },
        {
         "name": "void_volume [cm^3/g]",
         "dtype": "float64",
         "stats": {
          "unique_count": 5,
          "nan_count": 0,
          "min": "0.0591",
          "max": "0.222",
          "histogram": [
           {
            "bin_start": 0.0591,
            "bin_end": 0.07539,
            "count": 2
           },
           {
            "bin_start": 0.07539,
            "bin_end": 0.09168,
            "count": 0
           },
           {
            "bin_start": 0.09168,
            "bin_end": 0.10797,
            "count": 1
           },
           {
            "bin_start": 0.10797,
            "bin_end": 0.12426,
            "count": 0
           },
           {
            "bin_start": 0.12426,
            "bin_end": 0.14055,
            "count": 1
           },
           {
            "bin_start": 0.14055,
            "bin_end": 0.15683999999999998,
            "count": 0
           },
           {
            "bin_start": 0.15683999999999998,
            "bin_end": 0.17313,
            "count": 0
           },
           {
            "bin_start": 0.17313,
            "bin_end": 0.18941999999999998,
            "count": 0
           },
           {
            "bin_start": 0.18941999999999998,
            "bin_end": 0.20571,
            "count": 0
           },
           {
            "bin_start": 0.20571,
            "bin_end": 0.222,
            "count": 1
           }
          ]
         }
        },
        {
         "name": "functional_groups",
         "dtype": "object",
         "stats": {
          "unique_count": 5,
          "nan_count": 0,
          "categories": [
           {
            "name": "COOH-OEt",
            "count": 1
           },
           {
            "name": "F-OMe",
            "count": 1
           },
           {
            "name": "3 others",
            "count": 3
           }
          ]
         }
        },
        {
         "name": "metal_linker",
         "dtype": "int64",
         "stats": {
          "unique_count": 4,
          "nan_count": 0,
          "min": "2",
          "max": "10",
          "histogram": [
           {
            "bin_start": 2,
            "bin_end": 2.8,
            "count": 2
           },
           {
            "bin_start": 2.8,
            "bin_end": 3.6,
            "count": 1
           },
           {
            "bin_start": 3.6,
            "bin_end": 4.4,
            "count": 0
           },
           {
            "bin_start": 4.4,
            "bin_end": 5.2,
            "count": 0
           },
           {
            "bin_start": 5.2,
            "bin_end": 6,
            "count": 0
           },
           {
            "bin_start": 6,
            "bin_end": 6.800000000000001,
            "count": 0
           },
           {
            "bin_start": 6.800000000000001,
            "bin_end": 7.6000000000000005,
            "count": 0
           },
           {
            "bin_start": 7.6000000000000005,
            "bin_end": 8.4,
            "count": 0
           },
           {
            "bin_start": 8.4,
            "bin_end": 9.2,
            "count": 1
           },
           {
            "bin_start": 9.2,
            "bin_end": 10,
            "count": 1
           }
          ]
         }
        },
        {
         "name": "organic_linker1",
         "dtype": "int64",
         "stats": {
          "unique_count": 5,
          "nan_count": 0,
          "min": "1",
          "max": "44",
          "histogram": [
           {
            "bin_start": 1,
            "bin_end": 5.3,
            "count": 2
           },
           {
            "bin_start": 5.3,
            "bin_end": 9.6,
            "count": 0
           },
           {
            "bin_start": 9.6,
            "bin_end": 13.899999999999999,
            "count": 0
           },
           {
            "bin_start": 13.899999999999999,
            "bin_end": 18.2,
            "count": 1
           },
           {
            "bin_start": 18.2,
            "bin_end": 22.5,
            "count": 1
           },
           {
            "bin_start": 22.5,
            "bin_end": 26.799999999999997,
            "count": 0
           },
           {
            "bin_start": 26.799999999999997,
            "bin_end": 31.099999999999998,
            "count": 0
           },
           {
            "bin_start": 31.099999999999998,
            "bin_end": 35.4,
            "count": 0
           },
           {
            "bin_start": 35.4,
            "bin_end": 39.699999999999996,
            "count": 0
           },
           {
            "bin_start": 39.699999999999996,
            "bin_end": 44,
            "count": 1
           }
          ]
         }
        },
        {
         "name": "organic_linker2",
         "dtype": "int64",
         "stats": {
          "unique_count": 4,
          "nan_count": 0,
          "min": "11",
          "max": "57",
          "histogram": [
           {
            "bin_start": 11,
            "bin_end": 15.6,
            "count": 1
           },
           {
            "bin_start": 15.6,
            "bin_end": 20.2,
            "count": 0
           },
           {
            "bin_start": 20.2,
            "bin_end": 24.799999999999997,
            "count": 3
           },
           {
            "bin_start": 24.799999999999997,
            "bin_end": 29.4,
            "count": 0
           },
           {
            "bin_start": 29.4,
            "bin_end": 34,
            "count": 0
           },
           {
            "bin_start": 34,
            "bin_end": 38.599999999999994,
            "count": 0
           },
           {
            "bin_start": 38.599999999999994,
            "bin_end": 43.199999999999996,
            "count": 0
           },
           {
            "bin_start": 43.199999999999996,
            "bin_end": 47.8,
            "count": 0
           },
           {
            "bin_start": 47.8,
            "bin_end": 52.4,
            "count": 0
           },
           {
            "bin_start": 52.4,
            "bin_end": 57,
            "count": 1
           }
          ]
         }
        },
        {
         "name": "topology",
         "dtype": "object",
         "stats": {
          "unique_count": 3,
          "nan_count": 0,
          "categories": [
           {
            "name": "pcu",
            "count": 3
           },
           {
            "name": "etb",
            "count": 1
           },
           {
            "name": "sra",
            "count": 1
           }
          ]
         }
        },
        {
         "name": "CO2/N2_selectivity",
         "dtype": "float64",
         "stats": {
          "unique_count": 5,
          "nan_count": 0,
          "min": "19.26372569",
          "max": "33.61678033",
          "histogram": [
           {
            "bin_start": 19.26372569,
            "bin_end": 20.699031154,
            "count": 1
           },
           {
            "bin_start": 20.699031154,
            "bin_end": 22.134336618,
            "count": 0
           },
           {
            "bin_start": 22.134336618,
            "bin_end": 23.569642082,
            "count": 1
           },
           {
            "bin_start": 23.569642082,
            "bin_end": 25.004947546,
            "count": 0
           },
           {
            "bin_start": 25.004947546,
            "bin_end": 26.44025301,
            "count": 1
           },
           {
            "bin_start": 26.44025301,
            "bin_end": 27.875558473999998,
            "count": 0
           },
           {
            "bin_start": 27.875558473999998,
            "bin_end": 29.310863937999997,
            "count": 0
           },
           {
            "bin_start": 29.310863937999997,
            "bin_end": 30.746169402,
            "count": 1
           },
           {
            "bin_start": 30.746169402,
            "bin_end": 32.181474865999995,
            "count": 0
           },
           {
            "bin_start": 32.181474865999995,
            "bin_end": 33.61678033,
            "count": 1
           }
          ]
         }
        },
        {
         "name": "heat_adsorption_CO2_P0.15bar_T298K [kcal/mol]",
         "dtype": "float64",
         "stats": {
          "unique_count": 5,
          "nan_count": 0,
          "min": "6.190085",
          "max": "7.147286",
          "histogram": [
           {
            "bin_start": 6.190085,
            "bin_end": 6.2858051,
            "count": 1
           },
           {
            "bin_start": 6.2858051,
            "bin_end": 6.3815252,
            "count": 1
           },
           {
            "bin_start": 6.3815252,
            "bin_end": 6.4772453,
            "count": 0
           },
           {
            "bin_start": 6.4772453,
            "bin_end": 6.5729654,
            "count": 1
           },
           {
            "bin_start": 6.5729654,
            "bin_end": 6.6686855000000005,
            "count": 0
           },
           {
            "bin_start": 6.6686855000000005,
            "bin_end": 6.7644056,
            "count": 0
           },
           {
            "bin_start": 6.7644056,
            "bin_end": 6.8601257,
            "count": 1
           },
           {
            "bin_start": 6.8601257,
            "bin_end": 6.9558458000000005,
            "count": 0
           },
           {
            "bin_start": 6.9558458000000005,
            "bin_end": 7.0515659,
            "count": 0
           },
           {
            "bin_start": 7.0515659,
            "bin_end": 7.147286,
            "count": 1
           }
          ]
         }
        },
        {
         "name": "CO2_working_capacity [mL/g]",
         "dtype": "float64",
         "stats": {
          "unique_count": 5,
          "nan_count": 0,
          "min": "79.21000065588353",
          "max": "187.62600449626183",
          "histogram": [
           {
            "bin_start": 79.21000065588353,
            "bin_end": 90.05160103992137,
            "count": 1
           },
           {
            "bin_start": 90.05160103992137,
            "bin_end": 100.8932014239592,
            "count": 0
           },
           {
            "bin_start": 100.8932014239592,
            "bin_end": 111.73480180799702,
            "count": 2
           },
           {
            "bin_start": 111.73480180799702,
            "bin_end": 122.57640219203485,
            "count": 1
           },
           {
            "bin_start": 122.57640219203485,
            "bin_end": 133.4180025760727,
            "count": 0
           },
           {
            "bin_start": 133.4180025760727,
            "bin_end": 144.2596029601105,
            "count": 0
           },
           {
            "bin_start": 144.2596029601105,
            "bin_end": 155.10120334414833,
            "count": 0
           },
           {
            "bin_start": 155.10120334414833,
            "bin_end": 165.94280372818616,
            "count": 0
           },
           {
            "bin_start": 165.94280372818616,
            "bin_end": 176.784404112224,
            "count": 0
           },
           {
            "bin_start": 176.784404112224,
            "bin_end": 187.62600449626183,
            "count": 1
           }
          ]
         }
        },
        {
         "name": "CID",
         "dtype": "float64",
         "stats": {
          "unique_count": 5,
          "nan_count": 0,
          "min": "11647.0",
          "max": "142072.0",
          "histogram": [
           {
            "bin_start": 11647,
            "bin_end": 24689.5,
            "count": 1
           },
           {
            "bin_start": 24689.5,
            "bin_end": 37732,
            "count": 0
           },
           {
            "bin_start": 37732,
            "bin_end": 50774.5,
            "count": 0
           },
           {
            "bin_start": 50774.5,
            "bin_end": 63817,
            "count": 0
           },
           {
            "bin_start": 63817,
            "bin_end": 76859.5,
            "count": 0
           },
           {
            "bin_start": 76859.5,
            "bin_end": 89902,
            "count": 1
           },
           {
            "bin_start": 89902,
            "bin_end": 102944.5,
            "count": 0
           },
           {
            "bin_start": 102944.5,
            "bin_end": 115987,
            "count": 2
           },
           {
            "bin_start": 115987,
            "bin_end": 129029.5,
            "count": 0
           },
           {
            "bin_start": 129029.5,
            "bin_end": 142072,
            "count": 1
           }
          ]
         }
        },
        {
         "name": "MolecularFormula",
         "dtype": "object",
         "stats": {
          "unique_count": 5,
          "nan_count": 0,
          "categories": [
           {
            "name": "C3H6O3",
            "count": 1
           },
           {
            "name": "CH3FO",
            "count": 1
           },
           {
            "name": "3 others",
            "count": 3
           }
          ]
         }
        },
        {
         "name": "MolecularWeight",
         "dtype": "float64",
         "stats": {
          "unique_count": 5,
          "nan_count": 0,
          "min": "47.057",
          "max": "90.08",
          "histogram": [
           {
            "bin_start": 47.057,
            "bin_end": 51.359300000000005,
            "count": 2
           },
           {
            "bin_start": 51.359300000000005,
            "bin_end": 55.6616,
            "count": 0
           },
           {
            "bin_start": 55.6616,
            "bin_end": 59.9639,
            "count": 0
           },
           {
            "bin_start": 59.9639,
            "bin_end": 64.2662,
            "count": 0
           },
           {
            "bin_start": 64.2662,
            "bin_end": 68.5685,
            "count": 0
           },
           {
            "bin_start": 68.5685,
            "bin_end": 72.8708,
            "count": 0
           },
           {
            "bin_start": 72.8708,
            "bin_end": 77.1731,
            "count": 1
           },
           {
            "bin_start": 77.1731,
            "bin_end": 81.47540000000001,
            "count": 1
           },
           {
            "bin_start": 81.47540000000001,
            "bin_end": 85.77770000000001,
            "count": 0
           },
           {
            "bin_start": 85.77770000000001,
            "bin_end": 90.08,
            "count": 1
           }
          ]
         }
        },
        {
         "name": "InChI",
         "dtype": "object",
         "stats": {
          "unique_count": 5,
          "nan_count": 0,
          "categories": [
           {
            "name": "InChI=1S/C3H6O3/c1-2-6-3(4)5/h2H2,1H3,(H,4,5)",
            "count": 1
           },
           {
            "name": "InChI=1S/CH3FO/c1-3-2/h1H3",
            "count": 1
           },
           {
            "name": "3 others",
            "count": 3
           }
          ]
         }
        },
        {
         "name": "InChIKey",
         "dtype": "object",
         "stats": {
          "unique_count": 5,
          "nan_count": 0,
          "categories": [
           {
            "name": "CQDGTJPVBWZJAZ-UHFFFAOYSA-N",
            "count": 1
           },
           {
            "name": "XMSZANIMCDLNKA-UHFFFAOYSA-N",
            "count": 1
           },
           {
            "name": "3 others",
            "count": 3
           }
          ]
         }
        },
        {
         "name": "IUPACName",
         "dtype": "object",
         "stats": {
          "unique_count": 5,
          "nan_count": 0,
          "categories": [
           {
            "name": "ethyl hydrogen carbonate",
            "count": 1
           },
           {
            "name": "methyl hypofluorite",
            "count": 1
           },
           {
            "name": "3 others",
            "count": 3
           }
          ]
         }
        },
        {
         "name": "XLogP",
         "dtype": "float64",
         "stats": {
          "unique_count": 4,
          "nan_count": 0,
          "min": "-1.0",
          "max": "0.6",
          "histogram": [
           {
            "bin_start": -1,
            "bin_end": -0.84,
            "count": 1
           },
           {
            "bin_start": -0.84,
            "bin_end": -0.6799999999999999,
            "count": 1
           },
           {
            "bin_start": -0.6799999999999999,
            "bin_end": -0.52,
            "count": 0
           },
           {
            "bin_start": -0.52,
            "bin_end": -0.36,
            "count": 0
           },
           {
            "bin_start": -0.36,
            "bin_end": -0.19999999999999996,
            "count": 0
           },
           {
            "bin_start": -0.19999999999999996,
            "bin_end": -0.040000000000000036,
            "count": 0
           },
           {
            "bin_start": -0.040000000000000036,
            "bin_end": 0.1200000000000001,
            "count": 0
           },
           {
            "bin_start": 0.1200000000000001,
            "bin_end": 0.28,
            "count": 1
           },
           {
            "bin_start": 0.28,
            "bin_end": 0.43999999999999995,
            "count": 0
           },
           {
            "bin_start": 0.43999999999999995,
            "bin_end": 0.6,
            "count": 2
           }
          ]
         }
        },
        {
         "name": "ExactMass",
         "dtype": "float64",
         "stats": {
          "unique_count": 5,
          "nan_count": 0,
          "min": "47.037113783",
          "max": "90.031694049",
          "histogram": [
           {
            "bin_start": 47.037113783,
            "bin_end": 51.3365718096,
            "count": 2
           },
           {
            "bin_start": 51.3365718096,
            "bin_end": 55.6360298362,
            "count": 0
           },
           {
            "bin_start": 55.6360298362,
            "bin_end": 59.9354878628,
            "count": 0
           },
           {
            "bin_start": 59.9354878628,
            "bin_end": 64.2349458894,
            "count": 0
           },
           {
            "bin_start": 64.2349458894,
            "bin_end": 68.534403916,
            "count": 0
           },
           {
            "bin_start": 68.534403916,
            "bin_end": 72.8338619426,
            "count": 0
           },
           {
            "bin_start": 72.8338619426,
            "bin_end": 77.13331996919999,
            "count": 1
           },
           {
            "bin_start": 77.13331996919999,
            "bin_end": 81.4327779958,
            "count": 1
           },
           {
            "bin_start": 81.4327779958,
            "bin_end": 85.7322360224,
            "count": 0
           },
           {
            "bin_start": 85.7322360224,
            "bin_end": 90.031694049,
            "count": 1
           }
          ]
         }
        },
        {
         "name": "MonoisotopicMass",
         "dtype": "float64",
         "stats": {
          "unique_count": 5,
          "nan_count": 0,
          "min": "47.037113783",
          "max": "90.031694049",
          "histogram": [
           {
            "bin_start": 47.037113783,
            "bin_end": 51.3365718096,
            "count": 2
           },
           {
            "bin_start": 51.3365718096,
            "bin_end": 55.6360298362,
            "count": 0
           },
           {
            "bin_start": 55.6360298362,
            "bin_end": 59.9354878628,
            "count": 0
           },
           {
            "bin_start": 59.9354878628,
            "bin_end": 64.2349458894,
            "count": 0
           },
           {
            "bin_start": 64.2349458894,
            "bin_end": 68.534403916,
            "count": 0
           },
           {
            "bin_start": 68.534403916,
            "bin_end": 72.8338619426,
            "count": 0
           },
           {
            "bin_start": 72.8338619426,
            "bin_end": 77.13331996919999,
            "count": 1
           },
           {
            "bin_start": 77.13331996919999,
            "bin_end": 81.4327779958,
            "count": 1
           },
           {
            "bin_start": 81.4327779958,
            "bin_end": 85.7322360224,
            "count": 0
           },
           {
            "bin_start": 85.7322360224,
            "bin_end": 90.031694049,
            "count": 1
           }
          ]
         }
        },
        {
         "name": "TPSA",
         "dtype": "float64",
         "stats": {
          "unique_count": 4,
          "nan_count": 0,
          "min": "9.2",
          "max": "79.6",
          "histogram": [
           {
            "bin_start": 9.2,
            "bin_end": 16.24,
            "count": 1
           },
           {
            "bin_start": 16.24,
            "bin_end": 23.279999999999998,
            "count": 0
           },
           {
            "bin_start": 23.279999999999998,
            "bin_end": 30.319999999999997,
            "count": 0
           },
           {
            "bin_start": 30.319999999999997,
            "bin_end": 37.36,
            "count": 1
           },
           {
            "bin_start": 37.36,
            "bin_end": 44.39999999999999,
            "count": 0
           },
           {
            "bin_start": 44.39999999999999,
            "bin_end": 51.44,
            "count": 2
           },
           {
            "bin_start": 51.44,
            "bin_end": 58.47999999999999,
            "count": 0
           },
           {
            "bin_start": 58.47999999999999,
            "bin_end": 65.52,
            "count": 0
           },
           {
            "bin_start": 65.52,
            "bin_end": 72.55999999999999,
            "count": 0
           },
           {
            "bin_start": 72.55999999999999,
            "bin_end": 79.6,
            "count": 1
           }
          ]
         }
        },
        {
         "name": "Complexity",
         "dtype": "float64",
         "stats": {
          "unique_count": 4,
          "nan_count": 0,
          "min": "4.0",
          "max": "50.0",
          "histogram": [
           {
            "bin_start": 4,
            "bin_end": 8.6,
            "count": 2
           },
           {
            "bin_start": 8.6,
            "bin_end": 13.2,
            "count": 0
           },
           {
            "bin_start": 13.2,
            "bin_end": 17.799999999999997,
            "count": 0
           },
           {
            "bin_start": 17.799999999999997,
            "bin_end": 22.4,
            "count": 0
           },
           {
            "bin_start": 22.4,
            "bin_end": 27,
            "count": 1
           },
           {
            "bin_start": 27,
            "bin_end": 31.599999999999998,
            "count": 0
           },
           {
            "bin_start": 31.599999999999998,
            "bin_end": 36.199999999999996,
            "count": 0
           },
           {
            "bin_start": 36.199999999999996,
            "bin_end": 40.8,
            "count": 1
           },
           {
            "bin_start": 40.8,
            "bin_end": 45.4,
            "count": 0
           },
           {
            "bin_start": 45.4,
            "bin_end": 50,
            "count": 1
           }
          ]
         }
        },
        {
         "name": "Charge",
         "dtype": "float64",
         "stats": {
          "unique_count": 2,
          "nan_count": 0,
          "min": "-1.0",
          "max": "0.0",
          "histogram": [
           {
            "bin_start": -1,
            "bin_end": -0.9,
            "count": 1
           },
           {
            "bin_start": -0.9,
            "bin_end": -0.8,
            "count": 0
           },
           {
            "bin_start": -0.8,
            "bin_end": -0.7,
            "count": 0
           },
           {
            "bin_start": -0.7,
            "bin_end": -0.6,
            "count": 0
           },
           {
            "bin_start": -0.6,
            "bin_end": -0.5,
            "count": 0
           },
           {
            "bin_start": -0.5,
            "bin_end": -0.3999999999999999,
            "count": 0
           },
           {
            "bin_start": -0.3999999999999999,
            "bin_end": -0.29999999999999993,
            "count": 0
           },
           {
            "bin_start": -0.29999999999999993,
            "bin_end": -0.19999999999999996,
            "count": 0
           },
           {
            "bin_start": -0.19999999999999996,
            "bin_end": -0.09999999999999998,
            "count": 0
           },
           {
            "bin_start": -0.09999999999999998,
            "bin_end": 0,
            "count": 4
           }
          ]
         }
        },
        {
         "name": "HBondDonorCount",
         "dtype": "float64",
         "stats": {
          "unique_count": 3,
          "nan_count": 0,
          "min": "0.0",
          "max": "2.0",
          "histogram": [
           {
            "bin_start": 0,
            "bin_end": 0.2,
            "count": 1
           },
           {
            "bin_start": 0.2,
            "bin_end": 0.4,
            "count": 0
           },
           {
            "bin_start": 0.4,
            "bin_end": 0.6000000000000001,
            "count": 0
           },
           {
            "bin_start": 0.6000000000000001,
            "bin_end": 0.8,
            "count": 0
           },
           {
            "bin_start": 0.8,
            "bin_end": 1,
            "count": 0
           },
           {
            "bin_start": 1,
            "bin_end": 1.2000000000000002,
            "count": 3
           },
           {
            "bin_start": 1.2000000000000002,
            "bin_end": 1.4000000000000001,
            "count": 0
           },
           {
            "bin_start": 1.4000000000000001,
            "bin_end": 1.6,
            "count": 0
           },
           {
            "bin_start": 1.6,
            "bin_end": 1.8,
            "count": 0
           },
           {
            "bin_start": 1.8,
            "bin_end": 2,
            "count": 1
           }
          ]
         }
        },
        {
         "name": "HBondAcceptorCount",
         "dtype": "float64",
         "stats": {
          "unique_count": 3,
          "nan_count": 0,
          "min": "2.0",
          "max": "4.0",
          "histogram": [
           {
            "bin_start": 2,
            "bin_end": 2.2,
            "count": 2
           },
           {
            "bin_start": 2.2,
            "bin_end": 2.4,
            "count": 0
           },
           {
            "bin_start": 2.4,
            "bin_end": 2.6,
            "count": 0
           },
           {
            "bin_start": 2.6,
            "bin_end": 2.8,
            "count": 0
           },
           {
            "bin_start": 2.8,
            "bin_end": 3,
            "count": 0
           },
           {
            "bin_start": 3,
            "bin_end": 3.2,
            "count": 2
           },
           {
            "bin_start": 3.2,
            "bin_end": 3.4000000000000004,
            "count": 0
           },
           {
            "bin_start": 3.4000000000000004,
            "bin_end": 3.6,
            "count": 0
           },
           {
            "bin_start": 3.6,
            "bin_end": 3.8,
            "count": 0
           },
           {
            "bin_start": 3.8,
            "bin_end": 4,
            "count": 1
           }
          ]
         }
        },
        {
         "name": "RotatableBondCount",
         "dtype": "float64",
         "stats": {
          "unique_count": 3,
          "nan_count": 0,
          "min": "0.0",
          "max": "2.0",
          "histogram": [
           {
            "bin_start": 0,
            "bin_end": 0.2,
            "count": 3
           },
           {
            "bin_start": 0.2,
            "bin_end": 0.4,
            "count": 0
           },
           {
            "bin_start": 0.4,
            "bin_end": 0.6000000000000001,
            "count": 0
           },
           {
            "bin_start": 0.6000000000000001,
            "bin_end": 0.8,
            "count": 0
           },
           {
            "bin_start": 0.8,
            "bin_end": 1,
            "count": 0
           },
           {
            "bin_start": 1,
            "bin_end": 1.2000000000000002,
            "count": 1
           },
           {
            "bin_start": 1.2000000000000002,
            "bin_end": 1.4000000000000001,
            "count": 0
           },
           {
            "bin_start": 1.4000000000000001,
            "bin_end": 1.6,
            "count": 0
           },
           {
            "bin_start": 1.6,
            "bin_end": 1.8,
            "count": 0
           },
           {
            "bin_start": 1.8,
            "bin_end": 2,
            "count": 1
           }
          ]
         }
        },
        {
         "name": "IsotopeAtomCount",
         "dtype": "float64",
         "stats": {
          "unique_count": 1,
          "nan_count": 0,
          "min": "0.0",
          "max": "0.0",
          "histogram": [
           {
            "bin_start": -0.5,
            "bin_end": -0.4,
            "count": 0
           },
           {
            "bin_start": -0.4,
            "bin_end": -0.3,
            "count": 0
           },
           {
            "bin_start": -0.3,
            "bin_end": -0.19999999999999996,
            "count": 0
           },
           {
            "bin_start": -0.19999999999999996,
            "bin_end": -0.09999999999999998,
            "count": 0
           },
           {
            "bin_start": -0.09999999999999998,
            "bin_end": 0,
            "count": 0
           },
           {
            "bin_start": 0,
            "bin_end": 0.10000000000000009,
            "count": 5
           },
           {
            "bin_start": 0.10000000000000009,
            "bin_end": 0.20000000000000007,
            "count": 0
           },
           {
            "bin_start": 0.20000000000000007,
            "bin_end": 0.30000000000000004,
            "count": 0
           },
           {
            "bin_start": 0.30000000000000004,
            "bin_end": 0.4,
            "count": 0
           },
           {
            "bin_start": 0.4,
            "bin_end": 0.5,
            "count": 0
           }
          ]
         }
        },
        {
         "name": "AtomStereoCount",
         "dtype": "float64",
         "stats": {
          "unique_count": 1,
          "nan_count": 0,
          "min": "0.0",
          "max": "0.0",
          "histogram": [
           {
            "bin_start": -0.5,
            "bin_end": -0.4,
            "count": 0
           },
           {
            "bin_start": -0.4,
            "bin_end": -0.3,
            "count": 0
           },
           {
            "bin_start": -0.3,
            "bin_end": -0.19999999999999996,
            "count": 0
           },
           {
            "bin_start": -0.19999999999999996,
            "bin_end": -0.09999999999999998,
            "count": 0
           },
           {
            "bin_start": -0.09999999999999998,
            "bin_end": 0,
            "count": 0
           },
           {
            "bin_start": 0,
            "bin_end": 0.10000000000000009,
            "count": 5
           },
           {
            "bin_start": 0.10000000000000009,
            "bin_end": 0.20000000000000007,
            "count": 0
           },
           {
            "bin_start": 0.20000000000000007,
            "bin_end": 0.30000000000000004,
            "count": 0
           },
           {
            "bin_start": 0.30000000000000004,
            "bin_end": 0.4,
            "count": 0
           },
           {
            "bin_start": 0.4,
            "bin_end": 0.5,
            "count": 0
           }
          ]
         }
        },
        {
         "name": "DefinedAtomStereoCount",
         "dtype": "float64",
         "stats": {
          "unique_count": 1,
          "nan_count": 0,
          "min": "0.0",
          "max": "0.0",
          "histogram": [
           {
            "bin_start": -0.5,
            "bin_end": -0.4,
            "count": 0
           },
           {
            "bin_start": -0.4,
            "bin_end": -0.3,
            "count": 0
           },
           {
            "bin_start": -0.3,
            "bin_end": -0.19999999999999996,
            "count": 0
           },
           {
            "bin_start": -0.19999999999999996,
            "bin_end": -0.09999999999999998,
            "count": 0
           },
           {
            "bin_start": -0.09999999999999998,
            "bin_end": 0,
            "count": 0
           },
           {
            "bin_start": 0,
            "bin_end": 0.10000000000000009,
            "count": 5
           },
           {
            "bin_start": 0.10000000000000009,
            "bin_end": 0.20000000000000007,
            "count": 0
           },
           {
            "bin_start": 0.20000000000000007,
            "bin_end": 0.30000000000000004,
            "count": 0
           },
           {
            "bin_start": 0.30000000000000004,
            "bin_end": 0.4,
            "count": 0
           },
           {
            "bin_start": 0.4,
            "bin_end": 0.5,
            "count": 0
           }
          ]
         }
        },
        {
         "name": "UndefinedAtomStereoCount",
         "dtype": "float64",
         "stats": {
          "unique_count": 1,
          "nan_count": 0,
          "min": "0.0",
          "max": "0.0",
          "histogram": [
           {
            "bin_start": -0.5,
            "bin_end": -0.4,
            "count": 0
           },
           {
            "bin_start": -0.4,
            "bin_end": -0.3,
            "count": 0
           },
           {
            "bin_start": -0.3,
            "bin_end": -0.19999999999999996,
            "count": 0
           },
           {
            "bin_start": -0.19999999999999996,
            "bin_end": -0.09999999999999998,
            "count": 0
           },
           {
            "bin_start": -0.09999999999999998,
            "bin_end": 0,
            "count": 0
           },
           {
            "bin_start": 0,
            "bin_end": 0.10000000000000009,
            "count": 5
           },
           {
            "bin_start": 0.10000000000000009,
            "bin_end": 0.20000000000000007,
            "count": 0
           },
           {
            "bin_start": 0.20000000000000007,
            "bin_end": 0.30000000000000004,
            "count": 0
           },
           {
            "bin_start": 0.30000000000000004,
            "bin_end": 0.4,
            "count": 0
           },
           {
            "bin_start": 0.4,
            "bin_end": 0.5,
            "count": 0
           }
          ]
         }
        },
        {
         "name": "BondStereoCount",
         "dtype": "float64",
         "stats": {
          "unique_count": 1,
          "nan_count": 0,
          "min": "0.0",
          "max": "0.0",
          "histogram": [
           {
            "bin_start": -0.5,
            "bin_end": -0.4,
            "count": 0
           },
           {
            "bin_start": -0.4,
            "bin_end": -0.3,
            "count": 0
           },
           {
            "bin_start": -0.3,
            "bin_end": -0.19999999999999996,
            "count": 0
           },
           {
            "bin_start": -0.19999999999999996,
            "bin_end": -0.09999999999999998,
            "count": 0
           },
           {
            "bin_start": -0.09999999999999998,
            "bin_end": 0,
            "count": 0
           },
           {
            "bin_start": 0,
            "bin_end": 0.10000000000000009,
            "count": 5
           },
           {
            "bin_start": 0.10000000000000009,
            "bin_end": 0.20000000000000007,
            "count": 0
           },
           {
            "bin_start": 0.20000000000000007,
            "bin_end": 0.30000000000000004,
            "count": 0
           },
           {
            "bin_start": 0.30000000000000004,
            "bin_end": 0.4,
            "count": 0
           },
           {
            "bin_start": 0.4,
            "bin_end": 0.5,
            "count": 0
           }
          ]
         }
        },
        {
         "name": "DefinedBondStereoCount",
         "dtype": "float64",
         "stats": {
          "unique_count": 1,
          "nan_count": 0,
          "min": "0.0",
          "max": "0.0",
          "histogram": [
           {
            "bin_start": -0.5,
            "bin_end": -0.4,
            "count": 0
           },
           {
            "bin_start": -0.4,
            "bin_end": -0.3,
            "count": 0
           },
           {
            "bin_start": -0.3,
            "bin_end": -0.19999999999999996,
            "count": 0
           },
           {
            "bin_start": -0.19999999999999996,
            "bin_end": -0.09999999999999998,
            "count": 0
           },
           {
            "bin_start": -0.09999999999999998,
            "bin_end": 0,
            "count": 0
           },
           {
            "bin_start": 0,
            "bin_end": 0.10000000000000009,
            "count": 5
           },
           {
            "bin_start": 0.10000000000000009,
            "bin_end": 0.20000000000000007,
            "count": 0
           },
           {
            "bin_start": 0.20000000000000007,
            "bin_end": 0.30000000000000004,
            "count": 0
           },
           {
            "bin_start": 0.30000000000000004,
            "bin_end": 0.4,
            "count": 0
           },
           {
            "bin_start": 0.4,
            "bin_end": 0.5,
            "count": 0
           }
          ]
         }
        },
        {
         "name": "UndefinedBondStereoCount",
         "dtype": "float64",
         "stats": {
          "unique_count": 1,
          "nan_count": 0,
          "min": "0.0",
          "max": "0.0",
          "histogram": [
           {
            "bin_start": -0.5,
            "bin_end": -0.4,
            "count": 0
           },
           {
            "bin_start": -0.4,
            "bin_end": -0.3,
            "count": 0
           },
           {
            "bin_start": -0.3,
            "bin_end": -0.19999999999999996,
            "count": 0
           },
           {
            "bin_start": -0.19999999999999996,
            "bin_end": -0.09999999999999998,
            "count": 0
           },
           {
            "bin_start": -0.09999999999999998,
            "bin_end": 0,
            "count": 0
           },
           {
            "bin_start": 0,
            "bin_end": 0.10000000000000009,
            "count": 5
           },
           {
            "bin_start": 0.10000000000000009,
            "bin_end": 0.20000000000000007,
            "count": 0
           },
           {
            "bin_start": 0.20000000000000007,
            "bin_end": 0.30000000000000004,
            "count": 0
           },
           {
            "bin_start": 0.30000000000000004,
            "bin_end": 0.4,
            "count": 0
           },
           {
            "bin_start": 0.4,
            "bin_end": 0.5,
            "count": 0
           }
          ]
         }
        },
        {
         "name": "CovalentUnitCount",
         "dtype": "float64",
         "stats": {
          "unique_count": 1,
          "nan_count": 0,
          "min": "1.0",
          "max": "1.0",
          "histogram": [
           {
            "bin_start": 0.5,
            "bin_end": 0.6,
            "count": 0
           },
           {
            "bin_start": 0.6,
            "bin_end": 0.7,
            "count": 0
           },
           {
            "bin_start": 0.7,
            "bin_end": 0.8,
            "count": 0
           },
           {
            "bin_start": 0.8,
            "bin_end": 0.9,
            "count": 0
           },
           {
            "bin_start": 0.9,
            "bin_end": 1,
            "count": 0
           },
           {
            "bin_start": 1,
            "bin_end": 1.1,
            "count": 5
           },
           {
            "bin_start": 1.1,
            "bin_end": 1.2000000000000002,
            "count": 0
           },
           {
            "bin_start": 1.2000000000000002,
            "bin_end": 1.3,
            "count": 0
           },
           {
            "bin_start": 1.3,
            "bin_end": 1.4,
            "count": 0
           },
           {
            "bin_start": 1.4,
            "bin_end": 1.5,
            "count": 0
           }
          ]
         }
        },
        {
         "name": "_deepnote_index_column",
         "dtype": "int64"
        }
       ],
       "rows_top": [
        {
         "MOFname": "mof_unit_1",
         "volume [A^3]": 1116.667429,
         "weight [u]": 875.2405999999999,
         "density [g/cm^3]": 1.3015262988601055,
         "surface_area [m^2/g]": 1139.8287738457757,
         "gsa": 585.6690519771402,
         "vsa": 1139.8287738457757,
         "smiles": "OC(=O)OCC",
         "MolWt": 90.078,
         "MolLogP": 0.7009000000000001,
         "NumValenceElectrons": 36,
         "HeavyAtomCount": 6,
         "NOCount": 3,
         "NumAliphaticRings": 0,
         "NumAromaticRings": 0,
         "NumHAcceptors": 2,
         "NumHDonors": 1,
         "NumHeteroatoms": 3,
         "NumRotatableBonds": 1,
         "void_fraction": 0.07899,
         "void_volume [cm^3/g]": 0.0606999999999999,
         "functional_groups": "COOH-OEt",
         "metal_linker": 3,
         "organic_linker1": 4,
         "organic_linker2": 11,
         "topology": "pcu",
         "CO2/N2_selectivity": 22.86416611,
         "heat_adsorption_CO2_P0.15bar_T298K [kcal/mol]": 6.786041,
         "CO2_working_capacity [mL/g]": 105.2845017241596,
         "CID": 105349,
         "MolecularFormula": "C3H6O3",
         "MolecularWeight": 90.08,
         "InChI": "InChI=1S/C3H6O3/c1-2-6-3(4)5/h2H2,1H3,(H,4,5)",
         "InChIKey": "CQDGTJPVBWZJAZ-UHFFFAOYSA-N",
         "IUPACName": "ethyl hydrogen carbonate",
         "XLogP": 0.6,
         "ExactMass": 90.031694049,
         "MonoisotopicMass": 90.031694049,
         "TPSA": 46.5,
         "Complexity": 50,
         "Charge": 0,
         "HBondDonorCount": 1,
         "HBondAcceptorCount": 3,
         "RotatableBondCount": 2,
         "IsotopeAtomCount": 0,
         "AtomStereoCount": 0,
         "DefinedAtomStereoCount": 0,
         "UndefinedAtomStereoCount": 0,
         "BondStereoCount": 0,
         "DefinedBondStereoCount": 0,
         "UndefinedBondStereoCount": 0,
         "CovalentUnitCount": 1,
         "_deepnote_index_column": 0
        },
        {
         "MOFname": "mof_unit_2",
         "volume [A^3]": 2769.503842,
         "weight [u]": 2211.697211,
         "density [g/cm^3]": 1.3260901216521728,
         "surface_area [m^2/g]": 603.61,
         "gsa": 182.8391274724127,
         "vsa": 477.9933491501404,
         "smiles": "FOC",
         "MolWt": 50.032,
         "MolLogP": 0.5173,
         "NumValenceElectrons": 20,
         "HeavyAtomCount": 3,
         "NOCount": 1,
         "NumAliphaticRings": 0,
         "NumAromaticRings": 0,
         "NumHAcceptors": 1,
         "NumHDonors": 0,
         "NumHeteroatoms": 2,
         "NumRotatableBonds": 0,
         "void_fraction": 0.13794,
         "void_volume [cm^3/g]": 0.104,
         "functional_groups": "F-OMe",
         "metal_linker": 10,
         "organic_linker1": 44,
         "organic_linker2": 57,
         "topology": "etb",
         "CO2/N2_selectivity": 33.61678033,
         "heat_adsorption_CO2_P0.15bar_T298K [kcal/mol]": 7.147286,
         "CO2_working_capacity [mL/g]": 101.22477417834172,
         "CID": 142072,
         "MolecularFormula": "CH3FO",
         "MolecularWeight": 50.032,
         "InChI": "InChI=1S/CH3FO/c1-3-2/h1H3",
         "InChIKey": "XMSZANIMCDLNKA-UHFFFAOYSA-N",
         "IUPACName": "methyl hypofluorite",
         "XLogP": 0.6,
         "ExactMass": 50.016792877,
         "MonoisotopicMass": 50.016792877,
         "TPSA": 9.2,
         "Complexity": 4,
         "Charge": 0,
         "HBondDonorCount": 0,
         "HBondAcceptorCount": 2,
         "RotatableBondCount": 0,
         "IsotopeAtomCount": 0,
         "AtomStereoCount": 0,
         "DefinedAtomStereoCount": 0,
         "UndefinedAtomStereoCount": 0,
         "BondStereoCount": 0,
         "DefinedBondStereoCount": 0,
         "UndefinedBondStereoCount": 0,
         "CovalentUnitCount": 1,
         "_deepnote_index_column": 1
        },
        {
         "MOFname": "mof_unit_3",
         "volume [A^3]": 1089.818728,
         "weight [u]": 773.68796,
         "density [g/cm^3]": 1.1788564208802987,
         "surface_area [m^2/g]": 788.5,
         "gsa": 1704.5998324734685,
         "vsa": 1614.2123919024807,
         "smiles": "COC(=O)O",
         "MolWt": 76.051,
         "MolLogP": 0.3107999999999999,
         "NumValenceElectrons": 30,
         "HeavyAtomCount": 5,
         "NOCount": 3,
         "NumAliphaticRings": 0,
         "NumAromaticRings": 0,
         "NumHAcceptors": 2,
         "NumHDonors": 1,
         "NumHeteroatoms": 3,
         "NumRotatableBonds": 0,
         "void_fraction": 0.14874,
         "void_volume [cm^3/g]": 0.1262,
         "functional_groups": "OMe-COOH",
         "metal_linker": 2,
         "organic_linker1": 22,
         "organic_linker2": 24,
         "topology": "pcu",
         "CO2/N2_selectivity": 19.26372569,
         "heat_adsorption_CO2_P0.15bar_T298K [kcal/mol]": 6.347967,
         "CO2_working_capacity [mL/g]": 118.98701074687752,
         "CID": 78579,
         "MolecularFormula": "C2H4O3",
         "MolecularWeight": 76.05,
         "InChI": "InChI=1S/C2H4O3/c1-5-2(3)4/h1H3,(H,3,4)",
         "InChIKey": "CXHHBNMLPJOKQD-UHFFFAOYSA-N",
         "IUPACName": "methyl hydrogen carbonate",
         "XLogP": 0.2,
         "ExactMass": 76.016043985,
         "MonoisotopicMass": 76.016043985,
         "TPSA": 46.5,
         "Complexity": 40,
         "Charge": 0,
         "HBondDonorCount": 1,
         "HBondAcceptorCount": 3,
         "RotatableBondCount": 1,
         "IsotopeAtomCount": 0,
         "AtomStereoCount": 0,
         "DefinedAtomStereoCount": 0,
         "UndefinedAtomStereoCount": 0,
         "BondStereoCount": 0,
         "DefinedBondStereoCount": 0,
         "UndefinedBondStereoCount": 0,
         "CovalentUnitCount": 1,
         "_deepnote_index_column": 2
        },
        {
         "MOFname": "mof_unit_4",
         "volume [A^3]": 2205.1983010000004,
         "weight [u]": 1304.63872,
         "density [g/cm^3]": 0.982408148567134,
         "surface_area [m^2/g]": 1441.53,
         "gsa": 3925.613159996791,
         "vsa": 1911.5645822690333,
         "smiles": "S(=O)(=O)O",
         "MolWt": 82.08,
         "MolLogP": -0.9291999999999998,
         "NumValenceElectrons": 26,
         "HeavyAtomCount": 4,
         "NOCount": 3,
         "NumAliphaticRings": 0,
         "NumAromaticRings": 0,
         "NumHAcceptors": 2,
         "NumHDonors": 2,
         "NumHeteroatoms": 4,
         "NumRotatableBonds": 0,
         "void_fraction": 0.21814,
         "void_volume [cm^3/g]": 0.222,
         "functional_groups": "H-SO3H",
         "metal_linker": 9,
         "organic_linker1": 17,
         "organic_linker2": 24,
         "topology": "sra",
         "CO2/N2_selectivity": 25.70137692,
         "heat_adsorption_CO2_P0.15bar_T298K [kcal/mol]": 6.190085,
         "CO2_working_capacity [mL/g]": 187.62600449626183,
         "CID": 104748,
         "MolecularFormula": "HO3S-",
         "MolecularWeight": 81.07,
         "InChI": "InChI=1S/H2O3S/c1-4(2)3/h(H2,1,2,3)/p-1",
         "InChIKey": "LSNNMFCWUKXFEE-UHFFFAOYSA-M",
         "IUPACName": "hydrogen sulfite",
         "XLogP": -1,
         "ExactMass": 80.96464006,
         "MonoisotopicMass": 80.96464006,
         "TPSA": 79.6,
         "Complexity": 24,
         "Charge": -1,
         "HBondDonorCount": 1,
         "HBondAcceptorCount": 4,
         "RotatableBondCount": 0,
         "IsotopeAtomCount": 0,
         "AtomStereoCount": 0,
         "DefinedAtomStereoCount": 0,
         "UndefinedAtomStereoCount": 0,
         "BondStereoCount": 0,
         "DefinedBondStereoCount": 0,
         "UndefinedBondStereoCount": 0,
         "CovalentUnitCount": 1,
         "_deepnote_index_column": 3
        },
        {
         "MOFname": "mof_unit_5",
         "volume [A^3]": 1137.800963,
         "weight [u]": 901.73612,
         "density [g/cm^3]": 1.3160200644906643,
         "surface_area [m^2/g]": 277.7366563490379,
         "gsa": 197.6586345273903,
         "vsa": 277.7366563490379,
         "smiles": "CNO",
         "MolWt": 47.057,
         "MolLogP": -0.4049999999999999,
         "NumValenceElectrons": 20,
         "HeavyAtomCount": 3,
         "NOCount": 2,
         "NumAliphaticRings": 0,
         "NumAromaticRings": 0,
         "NumHAcceptors": 2,
         "NumHDonors": 2,
         "NumHeteroatoms": 2,
         "NumRotatableBonds": 0,
         "void_fraction": 0.07778,
         "void_volume [cm^3/g]": 0.0591,
         "functional_groups": "NHMe-OH",
         "metal_linker": 2,
         "organic_linker1": 1,
         "organic_linker2": 22,
         "topology": "pcu",
         "CO2/N2_selectivity": 30.00183795,
         "heat_adsorption_CO2_P0.15bar_T298K [kcal/mol]": 6.478063,
         "CO2_working_capacity [mL/g]": 79.21000065588353,
         "CID": 11647,
         "MolecularFormula": "CH5NO",
         "MolecularWeight": 47.057,
         "InChI": "InChI=1S/CH5NO/c1-2-3/h2-3H,1H3",
         "InChIKey": "CPQCSJYYDADLCZ-UHFFFAOYSA-N",
         "IUPACName": "N-methylhydroxylamine",
         "XLogP": -0.7,
         "ExactMass": 47.037113783,
         "MonoisotopicMass": 47.037113783,
         "TPSA": 32.3,
         "Complexity": 4,
         "Charge": 0,
         "HBondDonorCount": 2,
         "HBondAcceptorCount": 2,
         "RotatableBondCount": 0,
         "IsotopeAtomCount": 0,
         "AtomStereoCount": 0,
         "DefinedAtomStereoCount": 0,
         "UndefinedAtomStereoCount": 0,
         "BondStereoCount": 0,
         "DefinedBondStereoCount": 0,
         "UndefinedBondStereoCount": 0,
         "CovalentUnitCount": 1,
         "_deepnote_index_column": 4
        }
       ],
       "rows_bottom": null
      },
      "text/plain": "      MOFname  volume [A^3]   weight [u]  density [g/cm^3]  \\\n0  mof_unit_1   1116.667429   875.240600          1.301526   \n1  mof_unit_2   2769.503842  2211.697211          1.326090   \n2  mof_unit_3   1089.818728   773.687960          1.178856   \n3  mof_unit_4   2205.198301  1304.638720          0.982408   \n4  mof_unit_5   1137.800963   901.736120          1.316020   \n\n   surface_area [m^2/g]          gsa          vsa      smiles   MolWt  \\\n0           1139.828774   585.669052  1139.828774   OC(=O)OCC  90.078   \n1            603.610000   182.839127   477.993349         FOC  50.032   \n2            788.500000  1704.599832  1614.212392    COC(=O)O  76.051   \n3           1441.530000  3925.613160  1911.564582  S(=O)(=O)O  82.080   \n4            277.736656   197.658635   277.736656         CNO  47.057   \n\n   MolLogP  ...  HBondAcceptorCount  RotatableBondCount  IsotopeAtomCount  \\\n0   0.7009  ...                 3.0                 2.0               0.0   \n1   0.5173  ...                 2.0                 0.0               0.0   \n2   0.3108  ...                 3.0                 1.0               0.0   \n3  -0.9292  ...                 4.0                 0.0               0.0   \n4  -0.4050  ...                 2.0                 0.0               0.0   \n\n   AtomStereoCount  DefinedAtomStereoCount  UndefinedAtomStereoCount  \\\n0              0.0                     0.0                       0.0   \n1              0.0                     0.0                       0.0   \n2              0.0                     0.0                       0.0   \n3              0.0                     0.0                       0.0   \n4              0.0                     0.0                       0.0   \n\n   BondStereoCount  DefinedBondStereoCount  UndefinedBondStereoCount  \\\n0              0.0                     0.0                       0.0   \n1              0.0                     0.0                       0.0   \n2              0.0                     0.0                       0.0   \n3              0.0                     0.0                       0.0   \n4              0.0                     0.0                       0.0   \n\n   CovalentUnitCount  \n0                1.0  \n1                1.0  \n2                1.0  \n3                1.0  \n4                1.0  \n\n[5 rows x 52 columns]",
      "text/html": "<div>\n<style scoped>\n    .dataframe tbody tr th:only-of-type {\n        vertical-align: middle;\n    }\n\n    .dataframe tbody tr th {\n        vertical-align: top;\n    }\n\n    .dataframe thead th {\n        text-align: right;\n    }\n</style>\n<table border=\"1\" class=\"dataframe\">\n  <thead>\n    <tr style=\"text-align: right;\">\n      <th></th>\n      <th>MOFname</th>\n      <th>volume [A^3]</th>\n      <th>weight [u]</th>\n      <th>density [g/cm^3]</th>\n      <th>surface_area [m^2/g]</th>\n      <th>gsa</th>\n      <th>vsa</th>\n      <th>smiles</th>\n      <th>MolWt</th>\n      <th>MolLogP</th>\n      <th>...</th>\n      <th>HBondAcceptorCount</th>\n      <th>RotatableBondCount</th>\n      <th>IsotopeAtomCount</th>\n      <th>AtomStereoCount</th>\n      <th>DefinedAtomStereoCount</th>\n      <th>UndefinedAtomStereoCount</th>\n      <th>BondStereoCount</th>\n      <th>DefinedBondStereoCount</th>\n      <th>UndefinedBondStereoCount</th>\n      <th>CovalentUnitCount</th>\n    </tr>\n  </thead>\n  <tbody>\n    <tr>\n      <th>0</th>\n      <td>mof_unit_1</td>\n      <td>1116.667429</td>\n      <td>875.240600</td>\n      <td>1.301526</td>\n      <td>1139.828774</td>\n      <td>585.669052</td>\n      <td>1139.828774</td>\n      <td>OC(=O)OCC</td>\n      <td>90.078</td>\n      <td>0.7009</td>\n      <td>...</td>\n      <td>3.0</td>\n      <td>2.0</td>\n      <td>0.0</td>\n      <td>0.0</td>\n      <td>0.0</td>\n      <td>0.0</td>\n      <td>0.0</td>\n      <td>0.0</td>\n      <td>0.0</td>\n      <td>1.0</td>\n    </tr>\n    <tr>\n      <th>1</th>\n      <td>mof_unit_2</td>\n      <td>2769.503842</td>\n      <td>2211.697211</td>\n      <td>1.326090</td>\n      <td>603.610000</td>\n      <td>182.839127</td>\n      <td>477.993349</td>\n      <td>FOC</td>\n      <td>50.032</td>\n      <td>0.5173</td>\n      <td>...</td>\n      <td>2.0</td>\n      <td>0.0</td>\n      <td>0.0</td>\n      <td>0.0</td>\n      <td>0.0</td>\n      <td>0.0</td>\n      <td>0.0</td>\n      <td>0.0</td>\n      <td>0.0</td>\n      <td>1.0</td>\n    </tr>\n    <tr>\n      <th>2</th>\n      <td>mof_unit_3</td>\n      <td>1089.818728</td>\n      <td>773.687960</td>\n      <td>1.178856</td>\n      <td>788.500000</td>\n      <td>1704.599832</td>\n      <td>1614.212392</td>\n      <td>COC(=O)O</td>\n      <td>76.051</td>\n      <td>0.3108</td>\n      <td>...</td>\n      <td>3.0</td>\n      <td>1.0</td>\n      <td>0.0</td>\n      <td>0.0</td>\n      <td>0.0</td>\n      <td>0.0</td>\n      <td>0.0</td>\n      <td>0.0</td>\n      <td>0.0</td>\n      <td>1.0</td>\n    </tr>\n    <tr>\n      <th>3</th>\n      <td>mof_unit_4</td>\n      <td>2205.198301</td>\n      <td>1304.638720</td>\n      <td>0.982408</td>\n      <td>1441.530000</td>\n      <td>3925.613160</td>\n      <td>1911.564582</td>\n      <td>S(=O)(=O)O</td>\n      <td>82.080</td>\n      <td>-0.9292</td>\n      <td>...</td>\n      <td>4.0</td>\n      <td>0.0</td>\n      <td>0.0</td>\n      <td>0.0</td>\n      <td>0.0</td>\n      <td>0.0</td>\n      <td>0.0</td>\n      <td>0.0</td>\n      <td>0.0</td>\n      <td>1.0</td>\n    </tr>\n    <tr>\n      <th>4</th>\n      <td>mof_unit_5</td>\n      <td>1137.800963</td>\n      <td>901.736120</td>\n      <td>1.316020</td>\n      <td>277.736656</td>\n      <td>197.658635</td>\n      <td>277.736656</td>\n      <td>CNO</td>\n      <td>47.057</td>\n      <td>-0.4050</td>\n      <td>...</td>\n      <td>2.0</td>\n      <td>0.0</td>\n      <td>0.0</td>\n      <td>0.0</td>\n      <td>0.0</td>\n      <td>0.0</td>\n      <td>0.0</td>\n      <td>0.0</td>\n      <td>0.0</td>\n      <td>1.0</td>\n    </tr>\n  </tbody>\n</table>\n<p>5 rows × 52 columns</p>\n</div>"
     },
     "metadata": {}
    }
   ],
   "execution_count": null
  },
  {
   "cell_type": "code",
   "metadata": {
    "tags": [],
    "cell_id": "00003-834d524d-911d-4442-aafb-543e5a93d8b5",
    "deepnote_to_be_reexecuted": false,
    "source_hash": "55133c46",
    "execution_start": 1634393479388,
    "execution_millis": 109,
    "deepnote_cell_type": "code"
   },
   "source": "pretest = pd.read_csv('/work/test_28_final.csv')",
   "outputs": [],
   "execution_count": null
  },
  {
   "cell_type": "code",
   "source": "for col in ['metal_linker', 'organic_linker1', 'organic_linker2']:\n    train[col] = train[col].astype('category')",
   "metadata": {
    "tags": [],
    "cell_id": "00005-e624d7c7-f369-413a-ace0-99fd19bb3442",
    "deepnote_to_be_reexecuted": false,
    "source_hash": "79340491",
    "execution_start": 1634393643164,
    "execution_millis": 3,
    "deepnote_cell_type": "code"
   },
   "outputs": [],
   "execution_count": null
  },
  {
   "cell_type": "code",
   "metadata": {
    "tags": [],
    "cell_id": "00004-277950c2-776f-4fe7-824e-3c246944dfad",
    "deepnote_to_be_reexecuted": false,
    "source_hash": "78c81075",
    "execution_start": 1634393562387,
    "execution_millis": 1,
    "deepnote_cell_type": "code"
   },
   "source": "#train_x = train.drop(columns=['CO2_working_capacity [mL/g]','functional_groups','MOFname','smiles'])\n#train_y = train['CO2_working_capacity [mL/g]']\n\ntrain_x = train.drop(columns=['gsa','vsa','CO2_working_capacity [mL/g]','functional_groups','MOFname','smiles','MolecularFormula','CID','InChI','InChIKey','IUPACName'])\ntrain_y = train['CO2_working_capacity [mL/g]']",
   "outputs": [],
   "execution_count": null
  },
  {
   "cell_type": "code",
   "metadata": {
    "tags": [],
    "cell_id": "00005-0b8c250e-6953-449f-bcbd-56c2525992b9",
    "deepnote_to_be_reexecuted": false,
    "source_hash": "95fc1977",
    "execution_start": 1634393572963,
    "execution_millis": 3266,
    "deepnote_cell_type": "code"
   },
   "source": "train_x = pd.get_dummies(train_x)\ntrain_x_column = train_x.columns",
   "outputs": [],
   "execution_count": null
  },
  {
   "cell_type": "code",
   "metadata": {
    "tags": [],
    "cell_id": "00006-41d75ddb-47f9-4eea-9d0e-757eff939b2a",
    "deepnote_to_be_reexecuted": false,
    "source_hash": "c0a0d896",
    "execution_start": 1634393594068,
    "execution_millis": 252,
    "deepnote_cell_type": "code"
   },
   "source": "#X, Xval, y, yval = train_test_split(train_x,train_y, test_size =0.2)\nsc = StandardScaler()\nX = sc.fit_transform(train_x) \n#Xval = sc.transform (Xval)",
   "outputs": [],
   "execution_count": null
  },
  {
   "cell_type": "code",
   "metadata": {
    "tags": [],
    "cell_id": "00007-9f8943cf-04cf-409f-bcfd-bdb638999a84",
    "deepnote_to_be_reexecuted": false,
    "source_hash": "91f15d87",
    "execution_start": 1634224813264,
    "execution_millis": 39,
    "deepnote_cell_type": "code"
   },
   "source": "from sklearn.preprocessing import MinMaxScaler\nscaler = MinMaxScaler(feature_range=(0, 1))\n\nx_train_scaled = scaler.fit_transform(X)\nx_train = pd.DataFrame(x_train_scaled)\n\nx_test_scaled = scaler.fit_transform(Xval)\nx_test = pd.DataFrame(x_test_scaled)",
   "execution_count": null,
   "outputs": []
  },
  {
   "cell_type": "code",
   "metadata": {
    "tags": [],
    "cell_id": "00007-613a604a-336c-4fbd-9884-e27a672a4769",
    "deepnote_to_be_reexecuted": false,
    "source_hash": "d3696d3b",
    "execution_start": 1634141443457,
    "execution_millis": 9,
    "deepnote_cell_type": "code"
   },
   "source": "X\ny",
   "execution_count": null,
   "outputs": [
    {
     "output_type": "execute_result",
     "execution_count": 9,
     "data": {
      "text/plain": "35639     84.154373\n636       49.038135\n54169     64.124810\n2497      98.006277\n38388    167.593140\n            ...    \n26862    187.675362\n26137    197.740575\n44710     51.544657\n9665     187.171714\n8335     191.425076\nName: CO2_working_capacity [mL/g], Length: 52110, dtype: float64"
     },
     "metadata": {}
    }
   ]
  },
  {
   "cell_type": "code",
   "metadata": {
    "tags": [],
    "cell_id": "00007-a23e0574-caa7-4990-bc96-4c46b03dee52",
    "deepnote_to_be_reexecuted": false,
    "source_hash": "ca22c3a1",
    "execution_start": 1634393650352,
    "execution_millis": 12,
    "deepnote_cell_type": "code"
   },
   "source": "for col in ['metal_linker', 'organic_linker1', 'organic_linker2']:\n    pretest[col] = pretest[col].astype('category')\ntest_x= pretest.drop(columns=['MOFname'])\ntest_x = pd.get_dummies(test_x)\nXtest_column = test_x.columns\nl = []\nfor col in train_x_column:\n    if col not in Xtest_column:\n        l.append(col)\nlistofzeros = [0] *17000\nfor col in l:\n    test_x[col]= listofzeros\ntest_x.shape",
   "outputs": [
    {
     "output_type": "execute_result",
     "execution_count": 11,
     "data": {
      "text/plain": "(17000, 1623)"
     },
     "metadata": {}
    }
   ],
   "execution_count": null
  },
  {
   "cell_type": "code",
   "metadata": {
    "tags": [],
    "cell_id": "00008-71b02263-ec5e-4548-910f-3e72b9c38675",
    "deepnote_to_be_reexecuted": false,
    "source_hash": "687f8649",
    "execution_start": 1634384550571,
    "execution_millis": 24,
    "deepnote_cell_type": "code"
   },
   "source": "test_x = test_x.reindex(columns = train_x_column)",
   "outputs": [],
   "execution_count": null
  },
  {
   "cell_type": "code",
   "metadata": {
    "tags": [],
    "cell_id": "00007-dcd28d77-728b-4f16-a679-633b1528d90b",
    "deepnote_to_be_reexecuted": false,
    "source_hash": "2fdc9a18",
    "execution_start": 1634141572517,
    "execution_millis": 11,
    "deepnote_cell_type": "code"
   },
   "source": "math.sqrt(len(yval))",
   "execution_count": null,
   "outputs": [
    {
     "output_type": "execute_result",
     "execution_count": 18,
     "data": {
      "text/plain": "114.1402645870422"
     },
     "metadata": {}
    }
   ]
  },
  {
   "cell_type": "markdown",
   "source": "# K-value",
   "metadata": {
    "tags": [],
    "is_collapsed": false,
    "cell_id": "00011-d20ae423-e7fb-444e-96f3-a93e53b1eda3",
    "deepnote_cell_type": "text-cell-h1"
   }
  },
  {
   "cell_type": "code",
   "metadata": {
    "tags": [],
    "cell_id": "00013-45ed064a-7e3e-4c75-87d2-876473238c87",
    "deepnote_to_be_reexecuted": false,
    "source_hash": "bcd295dc",
    "execution_start": 1634393716723,
    "execution_millis": 10600,
    "deepnote_cell_type": "code"
   },
   "source": "from sklearn.metrics import mean_squared_error \nfrom math import sqrt\n%matplotlib inline",
   "outputs": [],
   "execution_count": null
  },
  {
   "cell_type": "code",
   "metadata": {
    "tags": [],
    "cell_id": "00015-8a9909ed-5591-4266-9224-d33dc31f78c7",
    "deepnote_to_be_reexecuted": false,
    "source_hash": "a8f10d91",
    "execution_start": 1634146751557,
    "execution_millis": 92751,
    "output_cleared": false,
    "deepnote_cell_type": "code"
   },
   "source": "rmse_val = [] #to store rmse values for different k\nfor K in range(10):\n    K = K+1\n    model = neighbors.KNeighborsRegressor(n_neighbors = K, weights = 'distance', algorithm= 'ball_tree', leaf_size=40)\n\n    model.fit(x_train, y)  #fit the model\n    pred=model.predict(x_test) #make prediction on test set\n    error = sqrt(mean_squared_error(yval,pred)) #calculate rmse\n    rmse_val.append(error) #store rmse values\n    print('RMSE value for k= ' , K , 'is:', error)",
   "execution_count": null,
   "outputs": [
    {
     "name": "stdout",
     "text": "RMSE value for k=  1 is: 62.265267166105055\n",
     "output_type": "stream"
    },
    {
     "output_type": "error",
     "ename": "KeyboardInterrupt",
     "evalue": "",
     "traceback": [
      "\u001b[0;31m---------------------------------------------------------------------------\u001b[0m",
      "\u001b[0;31mKeyboardInterrupt\u001b[0m                         Traceback (most recent call last)",
      "\u001b[0;32m<ipython-input-17-ad9df606b1c6>\u001b[0m in \u001b[0;36m<module>\u001b[0;34m\u001b[0m\n\u001b[1;32m      5\u001b[0m \u001b[0;34m\u001b[0m\u001b[0m\n\u001b[1;32m      6\u001b[0m     \u001b[0mmodel\u001b[0m\u001b[0;34m.\u001b[0m\u001b[0mfit\u001b[0m\u001b[0;34m(\u001b[0m\u001b[0mx_train\u001b[0m\u001b[0;34m,\u001b[0m \u001b[0my\u001b[0m\u001b[0;34m)\u001b[0m  \u001b[0;31m#fit the model\u001b[0m\u001b[0;34m\u001b[0m\u001b[0;34m\u001b[0m\u001b[0m\n\u001b[0;32m----> 7\u001b[0;31m     \u001b[0mpred\u001b[0m\u001b[0;34m=\u001b[0m\u001b[0mmodel\u001b[0m\u001b[0;34m.\u001b[0m\u001b[0mpredict\u001b[0m\u001b[0;34m(\u001b[0m\u001b[0mx_test\u001b[0m\u001b[0;34m)\u001b[0m \u001b[0;31m#make prediction on test set\u001b[0m\u001b[0;34m\u001b[0m\u001b[0;34m\u001b[0m\u001b[0m\n\u001b[0m\u001b[1;32m      8\u001b[0m     \u001b[0merror\u001b[0m \u001b[0;34m=\u001b[0m \u001b[0msqrt\u001b[0m\u001b[0;34m(\u001b[0m\u001b[0mmean_squared_error\u001b[0m\u001b[0;34m(\u001b[0m\u001b[0myval\u001b[0m\u001b[0;34m,\u001b[0m\u001b[0mpred\u001b[0m\u001b[0;34m)\u001b[0m\u001b[0;34m)\u001b[0m \u001b[0;31m#calculate rmse\u001b[0m\u001b[0;34m\u001b[0m\u001b[0;34m\u001b[0m\u001b[0m\n\u001b[1;32m      9\u001b[0m     \u001b[0mrmse_val\u001b[0m\u001b[0;34m.\u001b[0m\u001b[0mappend\u001b[0m\u001b[0;34m(\u001b[0m\u001b[0merror\u001b[0m\u001b[0;34m)\u001b[0m \u001b[0;31m#store rmse values\u001b[0m\u001b[0;34m\u001b[0m\u001b[0;34m\u001b[0m\u001b[0m\n",
      "\u001b[0;32m/shared-libs/python3.7/py/lib/python3.7/site-packages/sklearn/neighbors/_regression.py\u001b[0m in \u001b[0;36mpredict\u001b[0;34m(self, X)\u001b[0m\n\u001b[1;32m    229\u001b[0m         \u001b[0mX\u001b[0m \u001b[0;34m=\u001b[0m \u001b[0mself\u001b[0m\u001b[0;34m.\u001b[0m\u001b[0m_validate_data\u001b[0m\u001b[0;34m(\u001b[0m\u001b[0mX\u001b[0m\u001b[0;34m,\u001b[0m \u001b[0maccept_sparse\u001b[0m\u001b[0;34m=\u001b[0m\u001b[0;34m\"csr\"\u001b[0m\u001b[0;34m,\u001b[0m \u001b[0mreset\u001b[0m\u001b[0;34m=\u001b[0m\u001b[0;32mFalse\u001b[0m\u001b[0;34m)\u001b[0m\u001b[0;34m\u001b[0m\u001b[0;34m\u001b[0m\u001b[0m\n\u001b[1;32m    230\u001b[0m \u001b[0;34m\u001b[0m\u001b[0m\n\u001b[0;32m--> 231\u001b[0;31m         \u001b[0mneigh_dist\u001b[0m\u001b[0;34m,\u001b[0m \u001b[0mneigh_ind\u001b[0m \u001b[0;34m=\u001b[0m \u001b[0mself\u001b[0m\u001b[0;34m.\u001b[0m\u001b[0mkneighbors\u001b[0m\u001b[0;34m(\u001b[0m\u001b[0mX\u001b[0m\u001b[0;34m)\u001b[0m\u001b[0;34m\u001b[0m\u001b[0;34m\u001b[0m\u001b[0m\n\u001b[0m\u001b[1;32m    232\u001b[0m \u001b[0;34m\u001b[0m\u001b[0m\n\u001b[1;32m    233\u001b[0m         \u001b[0mweights\u001b[0m \u001b[0;34m=\u001b[0m \u001b[0m_get_weights\u001b[0m\u001b[0;34m(\u001b[0m\u001b[0mneigh_dist\u001b[0m\u001b[0;34m,\u001b[0m \u001b[0mself\u001b[0m\u001b[0;34m.\u001b[0m\u001b[0mweights\u001b[0m\u001b[0;34m)\u001b[0m\u001b[0;34m\u001b[0m\u001b[0;34m\u001b[0m\u001b[0m\n",
      "\u001b[0;32m/shared-libs/python3.7/py/lib/python3.7/site-packages/sklearn/neighbors/_base.py\u001b[0m in \u001b[0;36mkneighbors\u001b[0;34m(self, X, n_neighbors, return_distance)\u001b[0m\n\u001b[1;32m    775\u001b[0m                     \u001b[0mself\u001b[0m\u001b[0;34m.\u001b[0m\u001b[0m_tree\u001b[0m\u001b[0;34m,\u001b[0m \u001b[0mX\u001b[0m\u001b[0;34m[\u001b[0m\u001b[0ms\u001b[0m\u001b[0;34m]\u001b[0m\u001b[0;34m,\u001b[0m \u001b[0mn_neighbors\u001b[0m\u001b[0;34m,\u001b[0m \u001b[0mreturn_distance\u001b[0m\u001b[0;34m\u001b[0m\u001b[0;34m\u001b[0m\u001b[0m\n\u001b[1;32m    776\u001b[0m                 )\n\u001b[0;32m--> 777\u001b[0;31m                 \u001b[0;32mfor\u001b[0m \u001b[0ms\u001b[0m \u001b[0;32min\u001b[0m \u001b[0mgen_even_slices\u001b[0m\u001b[0;34m(\u001b[0m\u001b[0mX\u001b[0m\u001b[0;34m.\u001b[0m\u001b[0mshape\u001b[0m\u001b[0;34m[\u001b[0m\u001b[0;36m0\u001b[0m\u001b[0;34m]\u001b[0m\u001b[0;34m,\u001b[0m \u001b[0mn_jobs\u001b[0m\u001b[0;34m)\u001b[0m\u001b[0;34m\u001b[0m\u001b[0;34m\u001b[0m\u001b[0m\n\u001b[0m\u001b[1;32m    778\u001b[0m             )\n\u001b[1;32m    779\u001b[0m         \u001b[0;32melse\u001b[0m\u001b[0;34m:\u001b[0m\u001b[0;34m\u001b[0m\u001b[0;34m\u001b[0m\u001b[0m\n",
      "\u001b[0;32m/shared-libs/python3.7/py/lib/python3.7/site-packages/joblib/parallel.py\u001b[0m in \u001b[0;36m__call__\u001b[0;34m(self, iterable)\u001b[0m\n\u001b[1;32m   1041\u001b[0m             \u001b[0;31m# remaining jobs.\u001b[0m\u001b[0;34m\u001b[0m\u001b[0;34m\u001b[0m\u001b[0;34m\u001b[0m\u001b[0m\n\u001b[1;32m   1042\u001b[0m             \u001b[0mself\u001b[0m\u001b[0;34m.\u001b[0m\u001b[0m_iterating\u001b[0m \u001b[0;34m=\u001b[0m \u001b[0;32mFalse\u001b[0m\u001b[0;34m\u001b[0m\u001b[0;34m\u001b[0m\u001b[0m\n\u001b[0;32m-> 1043\u001b[0;31m             \u001b[0;32mif\u001b[0m \u001b[0mself\u001b[0m\u001b[0;34m.\u001b[0m\u001b[0mdispatch_one_batch\u001b[0m\u001b[0;34m(\u001b[0m\u001b[0miterator\u001b[0m\u001b[0;34m)\u001b[0m\u001b[0;34m:\u001b[0m\u001b[0;34m\u001b[0m\u001b[0;34m\u001b[0m\u001b[0m\n\u001b[0m\u001b[1;32m   1044\u001b[0m                 \u001b[0mself\u001b[0m\u001b[0;34m.\u001b[0m\u001b[0m_iterating\u001b[0m \u001b[0;34m=\u001b[0m \u001b[0mself\u001b[0m\u001b[0;34m.\u001b[0m\u001b[0m_original_iterator\u001b[0m \u001b[0;32mis\u001b[0m \u001b[0;32mnot\u001b[0m \u001b[0;32mNone\u001b[0m\u001b[0;34m\u001b[0m\u001b[0;34m\u001b[0m\u001b[0m\n\u001b[1;32m   1045\u001b[0m \u001b[0;34m\u001b[0m\u001b[0m\n",
      "\u001b[0;32m/shared-libs/python3.7/py/lib/python3.7/site-packages/joblib/parallel.py\u001b[0m in \u001b[0;36mdispatch_one_batch\u001b[0;34m(self, iterator)\u001b[0m\n\u001b[1;32m    859\u001b[0m                 \u001b[0;32mreturn\u001b[0m \u001b[0;32mFalse\u001b[0m\u001b[0;34m\u001b[0m\u001b[0;34m\u001b[0m\u001b[0m\n\u001b[1;32m    860\u001b[0m             \u001b[0;32melse\u001b[0m\u001b[0;34m:\u001b[0m\u001b[0;34m\u001b[0m\u001b[0;34m\u001b[0m\u001b[0m\n\u001b[0;32m--> 861\u001b[0;31m                 \u001b[0mself\u001b[0m\u001b[0;34m.\u001b[0m\u001b[0m_dispatch\u001b[0m\u001b[0;34m(\u001b[0m\u001b[0mtasks\u001b[0m\u001b[0;34m)\u001b[0m\u001b[0;34m\u001b[0m\u001b[0;34m\u001b[0m\u001b[0m\n\u001b[0m\u001b[1;32m    862\u001b[0m                 \u001b[0;32mreturn\u001b[0m \u001b[0;32mTrue\u001b[0m\u001b[0;34m\u001b[0m\u001b[0;34m\u001b[0m\u001b[0m\n\u001b[1;32m    863\u001b[0m \u001b[0;34m\u001b[0m\u001b[0m\n",
      "\u001b[0;32m/shared-libs/python3.7/py/lib/python3.7/site-packages/joblib/parallel.py\u001b[0m in \u001b[0;36m_dispatch\u001b[0;34m(self, batch)\u001b[0m\n\u001b[1;32m    777\u001b[0m         \u001b[0;32mwith\u001b[0m \u001b[0mself\u001b[0m\u001b[0;34m.\u001b[0m\u001b[0m_lock\u001b[0m\u001b[0;34m:\u001b[0m\u001b[0;34m\u001b[0m\u001b[0;34m\u001b[0m\u001b[0m\n\u001b[1;32m    778\u001b[0m             \u001b[0mjob_idx\u001b[0m \u001b[0;34m=\u001b[0m \u001b[0mlen\u001b[0m\u001b[0;34m(\u001b[0m\u001b[0mself\u001b[0m\u001b[0;34m.\u001b[0m\u001b[0m_jobs\u001b[0m\u001b[0;34m)\u001b[0m\u001b[0;34m\u001b[0m\u001b[0;34m\u001b[0m\u001b[0m\n\u001b[0;32m--> 779\u001b[0;31m             \u001b[0mjob\u001b[0m \u001b[0;34m=\u001b[0m \u001b[0mself\u001b[0m\u001b[0;34m.\u001b[0m\u001b[0m_backend\u001b[0m\u001b[0;34m.\u001b[0m\u001b[0mapply_async\u001b[0m\u001b[0;34m(\u001b[0m\u001b[0mbatch\u001b[0m\u001b[0;34m,\u001b[0m \u001b[0mcallback\u001b[0m\u001b[0;34m=\u001b[0m\u001b[0mcb\u001b[0m\u001b[0;34m)\u001b[0m\u001b[0;34m\u001b[0m\u001b[0;34m\u001b[0m\u001b[0m\n\u001b[0m\u001b[1;32m    780\u001b[0m             \u001b[0;31m# A job can complete so quickly than its callback is\u001b[0m\u001b[0;34m\u001b[0m\u001b[0;34m\u001b[0m\u001b[0;34m\u001b[0m\u001b[0m\n\u001b[1;32m    781\u001b[0m             \u001b[0;31m# called before we get here, causing self._jobs to\u001b[0m\u001b[0;34m\u001b[0m\u001b[0;34m\u001b[0m\u001b[0;34m\u001b[0m\u001b[0m\n",
      "\u001b[0;32m/shared-libs/python3.7/py/lib/python3.7/site-packages/joblib/_parallel_backends.py\u001b[0m in \u001b[0;36mapply_async\u001b[0;34m(self, func, callback)\u001b[0m\n\u001b[1;32m    206\u001b[0m     \u001b[0;32mdef\u001b[0m \u001b[0mapply_async\u001b[0m\u001b[0;34m(\u001b[0m\u001b[0mself\u001b[0m\u001b[0;34m,\u001b[0m \u001b[0mfunc\u001b[0m\u001b[0;34m,\u001b[0m \u001b[0mcallback\u001b[0m\u001b[0;34m=\u001b[0m\u001b[0;32mNone\u001b[0m\u001b[0;34m)\u001b[0m\u001b[0;34m:\u001b[0m\u001b[0;34m\u001b[0m\u001b[0;34m\u001b[0m\u001b[0m\n\u001b[1;32m    207\u001b[0m         \u001b[0;34m\"\"\"Schedule a func to be run\"\"\"\u001b[0m\u001b[0;34m\u001b[0m\u001b[0;34m\u001b[0m\u001b[0m\n\u001b[0;32m--> 208\u001b[0;31m         \u001b[0mresult\u001b[0m \u001b[0;34m=\u001b[0m \u001b[0mImmediateResult\u001b[0m\u001b[0;34m(\u001b[0m\u001b[0mfunc\u001b[0m\u001b[0;34m)\u001b[0m\u001b[0;34m\u001b[0m\u001b[0;34m\u001b[0m\u001b[0m\n\u001b[0m\u001b[1;32m    209\u001b[0m         \u001b[0;32mif\u001b[0m \u001b[0mcallback\u001b[0m\u001b[0;34m:\u001b[0m\u001b[0;34m\u001b[0m\u001b[0;34m\u001b[0m\u001b[0m\n\u001b[1;32m    210\u001b[0m             \u001b[0mcallback\u001b[0m\u001b[0;34m(\u001b[0m\u001b[0mresult\u001b[0m\u001b[0;34m)\u001b[0m\u001b[0;34m\u001b[0m\u001b[0;34m\u001b[0m\u001b[0m\n",
      "\u001b[0;32m/shared-libs/python3.7/py/lib/python3.7/site-packages/joblib/_parallel_backends.py\u001b[0m in \u001b[0;36m__init__\u001b[0;34m(self, batch)\u001b[0m\n\u001b[1;32m    570\u001b[0m         \u001b[0;31m# Don't delay the application, to avoid keeping the input\u001b[0m\u001b[0;34m\u001b[0m\u001b[0;34m\u001b[0m\u001b[0;34m\u001b[0m\u001b[0m\n\u001b[1;32m    571\u001b[0m         \u001b[0;31m# arguments in memory\u001b[0m\u001b[0;34m\u001b[0m\u001b[0;34m\u001b[0m\u001b[0;34m\u001b[0m\u001b[0m\n\u001b[0;32m--> 572\u001b[0;31m         \u001b[0mself\u001b[0m\u001b[0;34m.\u001b[0m\u001b[0mresults\u001b[0m \u001b[0;34m=\u001b[0m \u001b[0mbatch\u001b[0m\u001b[0;34m(\u001b[0m\u001b[0;34m)\u001b[0m\u001b[0;34m\u001b[0m\u001b[0;34m\u001b[0m\u001b[0m\n\u001b[0m\u001b[1;32m    573\u001b[0m \u001b[0;34m\u001b[0m\u001b[0m\n\u001b[1;32m    574\u001b[0m     \u001b[0;32mdef\u001b[0m \u001b[0mget\u001b[0m\u001b[0;34m(\u001b[0m\u001b[0mself\u001b[0m\u001b[0;34m)\u001b[0m\u001b[0;34m:\u001b[0m\u001b[0;34m\u001b[0m\u001b[0;34m\u001b[0m\u001b[0m\n",
      "\u001b[0;32m/shared-libs/python3.7/py/lib/python3.7/site-packages/joblib/parallel.py\u001b[0m in \u001b[0;36m__call__\u001b[0;34m(self)\u001b[0m\n\u001b[1;32m    261\u001b[0m         \u001b[0;32mwith\u001b[0m \u001b[0mparallel_backend\u001b[0m\u001b[0;34m(\u001b[0m\u001b[0mself\u001b[0m\u001b[0;34m.\u001b[0m\u001b[0m_backend\u001b[0m\u001b[0;34m,\u001b[0m \u001b[0mn_jobs\u001b[0m\u001b[0;34m=\u001b[0m\u001b[0mself\u001b[0m\u001b[0;34m.\u001b[0m\u001b[0m_n_jobs\u001b[0m\u001b[0;34m)\u001b[0m\u001b[0;34m:\u001b[0m\u001b[0;34m\u001b[0m\u001b[0;34m\u001b[0m\u001b[0m\n\u001b[1;32m    262\u001b[0m             return [func(*args, **kwargs)\n\u001b[0;32m--> 263\u001b[0;31m                     for func, args, kwargs in self.items]\n\u001b[0m\u001b[1;32m    264\u001b[0m \u001b[0;34m\u001b[0m\u001b[0m\n\u001b[1;32m    265\u001b[0m     \u001b[0;32mdef\u001b[0m \u001b[0m__reduce__\u001b[0m\u001b[0;34m(\u001b[0m\u001b[0mself\u001b[0m\u001b[0;34m)\u001b[0m\u001b[0;34m:\u001b[0m\u001b[0;34m\u001b[0m\u001b[0;34m\u001b[0m\u001b[0m\n",
      "\u001b[0;32m/shared-libs/python3.7/py/lib/python3.7/site-packages/joblib/parallel.py\u001b[0m in \u001b[0;36m<listcomp>\u001b[0;34m(.0)\u001b[0m\n\u001b[1;32m    261\u001b[0m         \u001b[0;32mwith\u001b[0m \u001b[0mparallel_backend\u001b[0m\u001b[0;34m(\u001b[0m\u001b[0mself\u001b[0m\u001b[0;34m.\u001b[0m\u001b[0m_backend\u001b[0m\u001b[0;34m,\u001b[0m \u001b[0mn_jobs\u001b[0m\u001b[0;34m=\u001b[0m\u001b[0mself\u001b[0m\u001b[0;34m.\u001b[0m\u001b[0m_n_jobs\u001b[0m\u001b[0;34m)\u001b[0m\u001b[0;34m:\u001b[0m\u001b[0;34m\u001b[0m\u001b[0;34m\u001b[0m\u001b[0m\n\u001b[1;32m    262\u001b[0m             return [func(*args, **kwargs)\n\u001b[0;32m--> 263\u001b[0;31m                     for func, args, kwargs in self.items]\n\u001b[0m\u001b[1;32m    264\u001b[0m \u001b[0;34m\u001b[0m\u001b[0m\n\u001b[1;32m    265\u001b[0m     \u001b[0;32mdef\u001b[0m \u001b[0m__reduce__\u001b[0m\u001b[0;34m(\u001b[0m\u001b[0mself\u001b[0m\u001b[0;34m)\u001b[0m\u001b[0;34m:\u001b[0m\u001b[0;34m\u001b[0m\u001b[0;34m\u001b[0m\u001b[0m\n",
      "\u001b[0;32m/shared-libs/python3.7/py/lib/python3.7/site-packages/sklearn/utils/fixes.py\u001b[0m in \u001b[0;36m__call__\u001b[0;34m(self, *args, **kwargs)\u001b[0m\n\u001b[1;32m    207\u001b[0m     \u001b[0;32mdef\u001b[0m \u001b[0m__call__\u001b[0m\u001b[0;34m(\u001b[0m\u001b[0mself\u001b[0m\u001b[0;34m,\u001b[0m \u001b[0;34m*\u001b[0m\u001b[0margs\u001b[0m\u001b[0;34m,\u001b[0m \u001b[0;34m**\u001b[0m\u001b[0mkwargs\u001b[0m\u001b[0;34m)\u001b[0m\u001b[0;34m:\u001b[0m\u001b[0;34m\u001b[0m\u001b[0;34m\u001b[0m\u001b[0m\n\u001b[1;32m    208\u001b[0m         \u001b[0;32mwith\u001b[0m \u001b[0mconfig_context\u001b[0m\u001b[0;34m(\u001b[0m\u001b[0;34m**\u001b[0m\u001b[0mself\u001b[0m\u001b[0;34m.\u001b[0m\u001b[0mconfig\u001b[0m\u001b[0;34m)\u001b[0m\u001b[0;34m:\u001b[0m\u001b[0;34m\u001b[0m\u001b[0;34m\u001b[0m\u001b[0m\n\u001b[0;32m--> 209\u001b[0;31m             \u001b[0;32mreturn\u001b[0m \u001b[0mself\u001b[0m\u001b[0;34m.\u001b[0m\u001b[0mfunction\u001b[0m\u001b[0;34m(\u001b[0m\u001b[0;34m*\u001b[0m\u001b[0margs\u001b[0m\u001b[0;34m,\u001b[0m \u001b[0;34m**\u001b[0m\u001b[0mkwargs\u001b[0m\u001b[0;34m)\u001b[0m\u001b[0;34m\u001b[0m\u001b[0;34m\u001b[0m\u001b[0m\n\u001b[0m\u001b[1;32m    210\u001b[0m \u001b[0;34m\u001b[0m\u001b[0m\n\u001b[1;32m    211\u001b[0m \u001b[0;34m\u001b[0m\u001b[0m\n",
      "\u001b[0;32m/shared-libs/python3.7/py/lib/python3.7/site-packages/sklearn/neighbors/_base.py\u001b[0m in \u001b[0;36m_tree_query_parallel_helper\u001b[0;34m(tree, *args, **kwargs)\u001b[0m\n\u001b[1;32m    595\u001b[0m     \u001b[0munder\u001b[0m \u001b[0mPyPy\u001b[0m\u001b[0;34m.\u001b[0m\u001b[0;34m\u001b[0m\u001b[0;34m\u001b[0m\u001b[0m\n\u001b[1;32m    596\u001b[0m     \"\"\"\n\u001b[0;32m--> 597\u001b[0;31m     \u001b[0;32mreturn\u001b[0m \u001b[0mtree\u001b[0m\u001b[0;34m.\u001b[0m\u001b[0mquery\u001b[0m\u001b[0;34m(\u001b[0m\u001b[0;34m*\u001b[0m\u001b[0margs\u001b[0m\u001b[0;34m,\u001b[0m \u001b[0;34m**\u001b[0m\u001b[0mkwargs\u001b[0m\u001b[0;34m)\u001b[0m\u001b[0;34m\u001b[0m\u001b[0;34m\u001b[0m\u001b[0m\n\u001b[0m\u001b[1;32m    598\u001b[0m \u001b[0;34m\u001b[0m\u001b[0m\n\u001b[1;32m    599\u001b[0m \u001b[0;34m\u001b[0m\u001b[0m\n",
      "\u001b[0;31mKeyboardInterrupt\u001b[0m: "
     ]
    }
   ]
  },
  {
   "cell_type": "code",
   "metadata": {
    "tags": [],
    "cell_id": "00016-0bf80aaf-eec9-4d11-af97-4a1c3b7bc3a0",
    "deepnote_to_be_reexecuted": false,
    "source_hash": "e69489dd",
    "execution_start": 1634142330508,
    "execution_millis": 207,
    "deepnote_cell_type": "code"
   },
   "source": "#plotting the rmse values against k values\ncurve = pd.DataFrame(rmse_val) #elbow curve \ncurve.plot()",
   "execution_count": null,
   "outputs": [
    {
     "output_type": "execute_result",
     "execution_count": 27,
     "data": {
      "text/plain": "<AxesSubplot:>"
     },
     "metadata": {}
    },
    {
     "data": {
      "text/plain": "<Figure size 432x288 with 1 Axes>",
      "image/png": "[encoded data removed]"
     },
     "metadata": {
      "needs_background": "light",
      "image/png": {
       "width": 368,
       "height": 248
      }
     },
     "output_type": "display_data"
    }
   ]
  },
  {
   "cell_type": "code",
   "metadata": {
    "tags": [],
    "cell_id": "00016-37fd244c-b033-4eab-9c69-16969bb13c52",
    "deepnote_to_be_reexecuted": false,
    "source_hash": "82d11a17",
    "execution_start": 1634393746008,
    "execution_millis": 1,
    "deepnote_cell_type": "code"
   },
   "source": "from numpy import mean\nfrom numpy import std\nfrom numpy import absolute\nfrom sklearn.metrics import mean_absolute_error",
   "outputs": [],
   "execution_count": null
  },
  {
   "cell_type": "markdown",
   "source": "### k=5",
   "metadata": {
    "tags": [],
    "is_collapsed": false,
    "cell_id": "00017-fcb6feef-96f7-4826-a341-a9300acad25d",
    "deepnote_cell_type": "text-cell-h3"
   }
  },
  {
   "cell_type": "code",
   "metadata": {
    "tags": [],
    "cell_id": "00003-9cf7dbf5-238b-4b8f-bd9a-df1f0a87ec38",
    "deepnote_to_be_reexecuted": false,
    "source_hash": "62711bd8",
    "execution_start": 1634142694281,
    "execution_millis": 14483,
    "deepnote_cell_type": "code"
   },
   "source": "model = neighbors.KNeighborsRegressor(n_neighbors = 5)\nmodel.fit(x_train, y)\npred=model.predict(x_test)\n#math.log10(mean_absolute_error(pred, yval))\nmae_k32 = mean_absolute_error(y_true=yval,y_pred=pred)\nmath.log10(mae_k32)",
   "execution_count": null,
   "outputs": [
    {
     "output_type": "execute_result",
     "execution_count": 31,
     "data": {
      "text/plain": "1.5430918146871033"
     },
     "metadata": {}
    }
   ]
  },
  {
   "cell_type": "markdown",
   "source": "### k=6, weights=distance",
   "metadata": {
    "tags": [],
    "is_collapsed": false,
    "cell_id": "00019-60512dd3-7e3b-47a6-b0c4-087439d5ef4f",
    "deepnote_cell_type": "text-cell-h3"
   }
  },
  {
   "cell_type": "code",
   "metadata": {
    "tags": [],
    "cell_id": "00018-9de1a8bc-980d-4ed4-ab62-13683b26984c",
    "deepnote_to_be_reexecuted": false,
    "source_hash": "24a7c0c7",
    "allow_embed": false,
    "execution_start": 1634144048477,
    "execution_millis": 14119,
    "deepnote_cell_type": "code"
   },
   "source": "model = neighbors.KNeighborsRegressor(n_neighbors = 6, weights = 'distance')\nmodel.fit(x_train, y)\npred=model.predict(x_test)\n#math.log10(mean_absolute_error(pred, yval))\nmae_k32 = mean_absolute_error(y_true=yval,y_pred=pred)\nmath.log10(mae_k32)",
   "execution_count": null,
   "outputs": [
    {
     "output_type": "execute_result",
     "execution_count": 38,
     "data": {
      "text/plain": "1.5345457914266878"
     },
     "metadata": {}
    }
   ]
  },
  {
   "cell_type": "markdown",
   "source": "### k=6, weights=distance, algorithm=&nbsp;'ball_tree'",
   "metadata": {
    "tags": [],
    "is_collapsed": false,
    "cell_id": "00020-54e6f105-26a5-4543-9674-07488a5af944",
    "deepnote_cell_type": "text-cell-h3"
   }
  },
  {
   "cell_type": "code",
   "metadata": {
    "tags": [],
    "cell_id": "00021-7de6eae6-db4d-4cfa-b040-091b60a77965",
    "deepnote_to_be_reexecuted": false,
    "source_hash": "bcd2852d",
    "allow_embed": false,
    "execution_start": 1634143774718,
    "execution_millis": 44392,
    "deepnote_cell_type": "code"
   },
   "source": "model = neighbors.KNeighborsRegressor(n_neighbors = 6, weights = 'distance', algorithm= 'ball_tree')\nmodel.fit(x_train, y)\npred=model.predict(x_test)\n#math.log10(mean_absolute_error(pred, yval))\nmae_k32 = mean_absolute_error(y_true=yval,y_pred=pred)\nmath.log10(mae_k32)",
   "execution_count": null,
   "outputs": [
    {
     "output_type": "execute_result",
     "execution_count": 35,
     "data": {
      "text/plain": "1.5345457914266878"
     },
     "metadata": {}
    }
   ]
  },
  {
   "cell_type": "markdown",
   "source": "### k=6, weights=distance, algorithm=&nbsp;'ball_tree'",
   "metadata": {
    "tags": [],
    "is_collapsed": false,
    "cell_id": "00022-f2aad3e3-5177-4ef3-80d0-e76504c2a975",
    "deepnote_cell_type": "text-cell-h3"
   }
  },
  {
   "cell_type": "code",
   "metadata": {
    "tags": [],
    "cell_id": "00023-60c8affc-0d8f-40dd-9292-9cdf73fe8e41",
    "deepnote_to_be_reexecuted": false,
    "source_hash": "206e0def",
    "allow_embed": false,
    "execution_start": 1634146596854,
    "execution_millis": 47931,
    "deepnote_cell_type": "code"
   },
   "source": "model = neighbors.KNeighborsRegressor(n_neighbors = 7, weights = 'distance', algorithm= 'ball_tree', leaf_size=20)\nmodel.fit(x_train, y)\npred=model.predict(x_test)\n#math.log10(mean_absolute_error(pred, yval))\nmae_k32 = mean_absolute_error(y_true=yval,y_pred=pred)\nmath.log10(mae_k32)",
   "execution_count": null,
   "outputs": [
    {
     "output_type": "execute_result",
     "execution_count": 16,
     "data": {
      "text/plain": "1.537777754819111"
     },
     "metadata": {}
    }
   ]
  },
  {
   "cell_type": "markdown",
   "source": "# Ensemble",
   "metadata": {
    "tags": [],
    "is_collapsed": false,
    "cell_id": "00025-69c5962e-6388-444e-bd2e-97d30c97bfe4",
    "deepnote_cell_type": "text-cell-h1"
   }
  },
  {
   "cell_type": "code",
   "metadata": {
    "tags": [],
    "cell_id": "00026-a2ae4a54-a80c-4924-a8d2-90f2710500e7",
    "deepnote_to_be_reexecuted": false,
    "source_hash": "4d27a39e",
    "execution_start": 1634393753741,
    "execution_millis": 11594,
    "deepnote_cell_type": "code"
   },
   "source": "!pip install xgboost",
   "outputs": [
    {
     "name": "stdout",
     "text": "Collecting xgboost\n  Downloading xgboost-1.4.2-py3-none-manylinux2010_x86_64.whl (166.7 MB)\n\u001b[K     |████████████████████████████████| 166.7 MB 58.5 MB/s \n\u001b[?25hRequirement already satisfied: scipy in /shared-libs/python3.7/py/lib/python3.7/site-packages (from xgboost) (1.7.1)\nRequirement already satisfied: numpy in /shared-libs/python3.7/py/lib/python3.7/site-packages (from xgboost) (1.19.5)\nInstalling collected packages: xgboost\nSuccessfully installed xgboost-1.4.2\n\u001b[33mWARNING: You are using pip version 21.2.4; however, version 21.3 is available.\nYou should consider upgrading via the '/root/venv/bin/python -m pip install --upgrade pip' command.\u001b[0m\n",
     "output_type": "stream"
    }
   ],
   "execution_count": null
  },
  {
   "cell_type": "code",
   "metadata": {
    "tags": [],
    "cell_id": "00026-9dfc3983-1dd8-4dd6-b82c-5ee57ea0fdc5",
    "deepnote_to_be_reexecuted": false,
    "source_hash": "ae97eb1a",
    "execution_start": 1634393765343,
    "execution_millis": 900,
    "deepnote_cell_type": "code"
   },
   "source": "# importing utility modules\nimport pandas as pd\nfrom sklearn.model_selection import train_test_split\nfrom sklearn.metrics import mean_squared_error\n \n# importing machine learning models for prediction\nfrom sklearn.ensemble import RandomForestRegressor\nimport xgboost as xgb\nfrom sklearn.linear_model import LinearRegression\nfrom sklearn.ensemble import AdaBoostRegressor\nfrom sklearn.tree import DecisionTreeRegressor",
   "outputs": [],
   "execution_count": null
  },
  {
   "cell_type": "code",
   "metadata": {
    "tags": [],
    "cell_id": "00027-6b8953d9-92f6-4148-91c0-e05cd50f1715",
    "deepnote_to_be_reexecuted": false,
    "source_hash": "a83b7dc0",
    "execution_start": 1634224776963,
    "execution_millis": 818,
    "deepnote_cell_type": "code"
   },
   "source": "# loading train data set in dataframe from train_data.csv file\n#train = pd.read_csv('/work/train_final.csv')\n#train.head()",
   "execution_count": null,
   "outputs": [
    {
     "output_type": "execute_result",
     "execution_count": 13,
     "data": {
      "application/vnd.deepnote.dataframe.v2+json": {
       "row_count": 5,
       "column_count": 52,
       "columns": [
        {
         "name": "MOFname",
         "dtype": "object",
         "stats": {
          "unique_count": 5,
          "nan_count": 0,
          "categories": [
           {
            "name": "mof_unit_1",
            "count": 1
           },
           {
            "name": "mof_unit_2",
            "count": 1
           },
           {
            "name": "3 others",
            "count": 3
           }
          ]
         }
        },
        {
         "name": "volume [A^3]",
         "dtype": "float64",
         "stats": {
          "unique_count": 5,
          "nan_count": 0,
          "min": "1089.818728",
          "max": "2769.503842",
          "histogram": [
           {
            "bin_start": 1089.818728,
            "bin_end": 1257.7872394,
            "count": 3
           },
           {
            "bin_start": 1257.7872394,
            "bin_end": 1425.7557508,
            "count": 0
           },
           {
            "bin_start": 1425.7557508,
            "bin_end": 1593.7242621999999,
            "count": 0
           },
           {
            "bin_start": 1593.7242621999999,
            "bin_end": 1761.6927736,
            "count": 0
           },
           {
            "bin_start": 1761.6927736,
            "bin_end": 1929.6612850000001,
            "count": 0
           },
           {
            "bin_start": 1929.6612850000001,
            "bin_end": 2097.6297964,
            "count": 0
           },
           {
            "bin_start": 2097.6297964,
            "bin_end": 2265.5983078,
            "count": 1
           },
           {
            "bin_start": 2265.5983078,
            "bin_end": 2433.5668192000003,
            "count": 0
           },
           {
            "bin_start": 2433.5668192000003,
            "bin_end": 2601.5353305999997,
            "count": 0
           },
           {
            "bin_start": 2601.5353305999997,
            "bin_end": 2769.503842,
            "count": 1
           }
          ]
         }
        },
        {
         "name": "weight [u]",
         "dtype": "float64",
         "stats": {
          "unique_count": 5,
          "nan_count": 0,
          "min": "773.68796",
          "max": "2211.697211",
          "histogram": [
           {
            "bin_start": 773.68796,
            "bin_end": 917.4888851000001,
            "count": 3
           },
           {
            "bin_start": 917.4888851000001,
            "bin_end": 1061.2898102,
            "count": 0
           },
           {
            "bin_start": 1061.2898102,
            "bin_end": 1205.0907353,
            "count": 0
           },
           {
            "bin_start": 1205.0907353,
            "bin_end": 1348.8916604,
            "count": 1
           },
           {
            "bin_start": 1348.8916604,
            "bin_end": 1492.6925855000002,
            "count": 0
           },
           {
            "bin_start": 1492.6925855000002,
            "bin_end": 1636.4935106000003,
            "count": 0
           },
           {
            "bin_start": 1636.4935106000003,
            "bin_end": 1780.2944357000001,
            "count": 0
           },
           {
            "bin_start": 1780.2944357000001,
            "bin_end": 1924.0953608000002,
            "count": 0
           },
           {
            "bin_start": 1924.0953608000002,
            "bin_end": 2067.8962859000003,
            "count": 0
           },
           {
            "bin_start": 2067.8962859000003,
            "bin_end": 2211.697211,
            "count": 1
           }
          ]
         }
        },
        {
         "name": "density [g/cm^3]",
         "dtype": "float64",
         "stats": {
          "unique_count": 5,
          "nan_count": 0,
          "min": "0.982408148567134",
          "max": "1.3260901216521728",
          "histogram": [
           {
            "bin_start": 0.982408148567134,
            "bin_end": 1.0167763458756378,
            "count": 1
           },
           {
            "bin_start": 1.0167763458756378,
            "bin_end": 1.0511445431841417,
            "count": 0
           },
           {
            "bin_start": 1.0511445431841417,
            "bin_end": 1.0855127404926457,
            "count": 0
           },
           {
            "bin_start": 1.0855127404926457,
            "bin_end": 1.1198809378011494,
            "count": 0
           },
           {
            "bin_start": 1.1198809378011494,
            "bin_end": 1.1542491351096533,
            "count": 0
           },
           {
            "bin_start": 1.1542491351096533,
            "bin_end": 1.1886173324181573,
            "count": 1
           },
           {
            "bin_start": 1.1886173324181573,
            "bin_end": 1.2229855297266612,
            "count": 0
           },
           {
            "bin_start": 1.2229855297266612,
            "bin_end": 1.2573537270351651,
            "count": 0
           },
           {
            "bin_start": 1.2573537270351651,
            "bin_end": 1.2917219243436688,
            "count": 0
           },
           {
            "bin_start": 1.2917219243436688,
            "bin_end": 1.3260901216521728,
            "count": 3
           }
          ]
         }
        },
        {
         "name": "surface_area [m^2/g]",
         "dtype": "float64",
         "stats": {
          "unique_count": 5,
          "nan_count": 0,
          "min": "277.7366563490379",
          "max": "1441.53",
          "histogram": [
           {
            "bin_start": 277.7366563490379,
            "bin_end": 394.1159907141341,
            "count": 1
           },
           {
            "bin_start": 394.1159907141341,
            "bin_end": 510.49532507923027,
            "count": 0
           },
           {
            "bin_start": 510.49532507923027,
            "bin_end": 626.8746594443264,
            "count": 1
           },
           {
            "bin_start": 626.8746594443264,
            "bin_end": 743.2539938094227,
            "count": 0
           },
           {
            "bin_start": 743.2539938094227,
            "bin_end": 859.633328174519,
            "count": 1
           },
           {
            "bin_start": 859.633328174519,
            "bin_end": 976.0126625396151,
            "count": 0
           },
           {
            "bin_start": 976.0126625396151,
            "bin_end": 1092.3919969047113,
            "count": 0
           },
           {
            "bin_start": 1092.3919969047113,
            "bin_end": 1208.7713312698074,
            "count": 1
           },
           {
            "bin_start": 1208.7713312698074,
            "bin_end": 1325.1506656349038,
            "count": 0
           },
           {
            "bin_start": 1325.1506656349038,
            "bin_end": 1441.53,
            "count": 1
           }
          ]
         }
        },
        {
         "name": "gsa",
         "dtype": "float64",
         "stats": {
          "unique_count": 5,
          "nan_count": 0,
          "min": "182.8391274724127",
          "max": "3925.613159996791",
          "histogram": [
           {
            "bin_start": 182.8391274724127,
            "bin_end": 557.1165307248506,
            "count": 2
           },
           {
            "bin_start": 557.1165307248506,
            "bin_end": 931.3939339772885,
            "count": 1
           },
           {
            "bin_start": 931.3939339772885,
            "bin_end": 1305.6713372297263,
            "count": 0
           },
           {
            "bin_start": 1305.6713372297263,
            "bin_end": 1679.948740482164,
            "count": 0
           },
           {
            "bin_start": 1679.948740482164,
            "bin_end": 2054.226143734602,
            "count": 1
           },
           {
            "bin_start": 2054.226143734602,
            "bin_end": 2428.50354698704,
            "count": 0
           },
           {
            "bin_start": 2428.50354698704,
            "bin_end": 2802.7809502394775,
            "count": 0
           },
           {
            "bin_start": 2802.7809502394775,
            "bin_end": 3177.0583534919156,
            "count": 0
           },
           {
            "bin_start": 3177.0583534919156,
            "bin_end": 3551.3357567443536,
            "count": 0
           },
           {
            "bin_start": 3551.3357567443536,
            "bin_end": 3925.613159996791,
            "count": 1
           }
          ]
         }
        },
        {
         "name": "vsa",
         "dtype": "float64",
         "stats": {
          "unique_count": 5,
          "nan_count": 0,
          "min": "277.7366563490379",
          "max": "1911.5645822690333",
          "histogram": [
           {
            "bin_start": 277.7366563490379,
            "bin_end": 441.11944894103743,
            "count": 1
           },
           {
            "bin_start": 441.11944894103743,
            "bin_end": 604.502241533037,
            "count": 1
           },
           {
            "bin_start": 604.502241533037,
            "bin_end": 767.8850341250366,
            "count": 0
           },
           {
            "bin_start": 767.8850341250366,
            "bin_end": 931.2678267170361,
            "count": 0
           },
           {
            "bin_start": 931.2678267170361,
            "bin_end": 1094.6506193090356,
            "count": 0
           },
           {
            "bin_start": 1094.6506193090356,
            "bin_end": 1258.0334119010352,
            "count": 1
           },
           {
            "bin_start": 1258.0334119010352,
            "bin_end": 1421.4162044930347,
            "count": 0
           },
           {
            "bin_start": 1421.4162044930347,
            "bin_end": 1584.7989970850342,
            "count": 0
           },
           {
            "bin_start": 1584.7989970850342,
            "bin_end": 1748.1817896770337,
            "count": 1
           },
           {
            "bin_start": 1748.1817896770337,
            "bin_end": 1911.5645822690333,
            "count": 1
           }
          ]
         }
        },
        {
         "name": "smiles",
         "dtype": "object",
         "stats": {
          "unique_count": 5,
          "nan_count": 0,
          "categories": [
           {
            "name": "OC(=O)OCC",
            "count": 1
           },
           {
            "name": "FOC",
            "count": 1
           },
           {
            "name": "3 others",
            "count": 3
           }
          ]
         }
        },
        {
         "name": "MolWt",
         "dtype": "float64",
         "stats": {
          "unique_count": 5,
          "nan_count": 0,
          "min": "47.057",
          "max": "90.078",
          "histogram": [
           {
            "bin_start": 47.057,
            "bin_end": 51.359100000000005,
            "count": 2
           },
           {
            "bin_start": 51.359100000000005,
            "bin_end": 55.6612,
            "count": 0
           },
           {
            "bin_start": 55.6612,
            "bin_end": 59.963300000000004,
            "count": 0
           },
           {
            "bin_start": 59.963300000000004,
            "bin_end": 64.2654,
            "count": 0
           },
           {
            "bin_start": 64.2654,
            "bin_end": 68.5675,
            "count": 0
           },
           {
            "bin_start": 68.5675,
            "bin_end": 72.8696,
            "count": 0
           },
           {
            "bin_start": 72.8696,
            "bin_end": 77.1717,
            "count": 1
           },
           {
            "bin_start": 77.1717,
            "bin_end": 81.47380000000001,
            "count": 0
           },
           {
            "bin_start": 81.47380000000001,
            "bin_end": 85.77590000000001,
            "count": 1
           },
           {
            "bin_start": 85.77590000000001,
            "bin_end": 90.078,
            "count": 1
           }
          ]
         }
        },
        {
         "name": "MolLogP",
         "dtype": "float64",
         "stats": {
          "unique_count": 5,
          "nan_count": 0,
          "min": "-0.9291999999999998",
          "max": "0.7009000000000001",
          "histogram": [
           {
            "bin_start": -0.9291999999999998,
            "bin_end": -0.7661899999999998,
            "count": 1
           },
           {
            "bin_start": -0.7661899999999998,
            "bin_end": -0.6031799999999998,
            "count": 0
           },
           {
            "bin_start": -0.6031799999999998,
            "bin_end": -0.44016999999999984,
            "count": 0
           },
           {
            "bin_start": -0.44016999999999984,
            "bin_end": -0.27715999999999985,
            "count": 1
           },
           {
            "bin_start": -0.27715999999999985,
            "bin_end": -0.11414999999999986,
            "count": 0
           },
           {
            "bin_start": -0.11414999999999986,
            "bin_end": 0.048860000000000126,
            "count": 0
           },
           {
            "bin_start": 0.048860000000000126,
            "bin_end": 0.21187000000000022,
            "count": 0
           },
           {
            "bin_start": 0.21187000000000022,
            "bin_end": 0.3748800000000001,
            "count": 1
           },
           {
            "bin_start": 0.3748800000000001,
            "bin_end": 0.53789,
            "count": 1
           },
           {
            "bin_start": 0.53789,
            "bin_end": 0.7009000000000001,
            "count": 1
           }
          ]
         }
        },
        {
         "name": "NumValenceElectrons",
         "dtype": "int64",
         "stats": {
          "unique_count": 4,
          "nan_count": 0,
          "min": "20",
          "max": "36",
          "histogram": [
           {
            "bin_start": 20,
            "bin_end": 21.6,
            "count": 2
           },
           {
            "bin_start": 21.6,
            "bin_end": 23.2,
            "count": 0
           },
           {
            "bin_start": 23.2,
            "bin_end": 24.8,
            "count": 0
           },
           {
            "bin_start": 24.8,
            "bin_end": 26.4,
            "count": 1
           },
           {
            "bin_start": 26.4,
            "bin_end": 28,
            "count": 0
           },
           {
            "bin_start": 28,
            "bin_end": 29.6,
            "count": 0
           },
           {
            "bin_start": 29.6,
            "bin_end": 31.200000000000003,
            "count": 1
           },
           {
            "bin_start": 31.200000000000003,
            "bin_end": 32.8,
            "count": 0
           },
           {
            "bin_start": 32.8,
            "bin_end": 34.4,
            "count": 0
           },
           {
            "bin_start": 34.4,
            "bin_end": 36,
            "count": 1
           }
          ]
         }
        },
        {
         "name": "HeavyAtomCount",
         "dtype": "int64",
         "stats": {
          "unique_count": 4,
          "nan_count": 0,
          "min": "3",
          "max": "6",
          "histogram": [
           {
            "bin_start": 3,
            "bin_end": 3.3,
            "count": 2
           },
           {
            "bin_start": 3.3,
            "bin_end": 3.6,
            "count": 0
           },
           {
            "bin_start": 3.6,
            "bin_end": 3.9,
            "count": 0
           },
           {
            "bin_start": 3.9,
            "bin_end": 4.2,
            "count": 1
           },
           {
            "bin_start": 4.2,
            "bin_end": 4.5,
            "count": 0
           },
           {
            "bin_start": 4.5,
            "bin_end": 4.8,
            "count": 0
           },
           {
            "bin_start": 4.8,
            "bin_end": 5.1,
            "count": 1
           },
           {
            "bin_start": 5.1,
            "bin_end": 5.4,
            "count": 0
           },
           {
            "bin_start": 5.4,
            "bin_end": 5.699999999999999,
            "count": 0
           },
           {
            "bin_start": 5.699999999999999,
            "bin_end": 6,
            "count": 1
           }
          ]
         }
        },
        {
         "name": "NOCount",
         "dtype": "int64",
         "stats": {
          "unique_count": 3,
          "nan_count": 0,
          "min": "1",
          "max": "3",
          "histogram": [
           {
            "bin_start": 1,
            "bin_end": 1.2,
            "count": 1
           },
           {
            "bin_start": 1.2,
            "bin_end": 1.4,
            "count": 0
           },
           {
            "bin_start": 1.4,
            "bin_end": 1.6,
            "count": 0
           },
           {
            "bin_start": 1.6,
            "bin_end": 1.8,
            "count": 0
           },
           {
            "bin_start": 1.8,
            "bin_end": 2,
            "count": 0
           },
           {
            "bin_start": 2,
            "bin_end": 2.2,
            "count": 1
           },
           {
            "bin_start": 2.2,
            "bin_end": 2.4000000000000004,
            "count": 0
           },
           {
            "bin_start": 2.4000000000000004,
            "bin_end": 2.6,
            "count": 0
           },
           {
            "bin_start": 2.6,
            "bin_end": 2.8,
            "count": 0
           },
           {
            "bin_start": 2.8,
            "bin_end": 3,
            "count": 3
           }
          ]
         }
        },
        {
         "name": "NumAliphaticRings",
         "dtype": "int64",
         "stats": {
          "unique_count": 1,
          "nan_count": 0,
          "min": "0",
          "max": "0",
          "histogram": [
           {
            "bin_start": -0.5,
            "bin_end": -0.4,
            "count": 0
           },
           {
            "bin_start": -0.4,
            "bin_end": -0.3,
            "count": 0
           },
           {
            "bin_start": -0.3,
            "bin_end": -0.19999999999999996,
            "count": 0
           },
           {
            "bin_start": -0.19999999999999996,
            "bin_end": -0.09999999999999998,
            "count": 0
           },
           {
            "bin_start": -0.09999999999999998,
            "bin_end": 0,
            "count": 0
           },
           {
            "bin_start": 0,
            "bin_end": 0.10000000000000009,
            "count": 5
           },
           {
            "bin_start": 0.10000000000000009,
            "bin_end": 0.20000000000000007,
            "count": 0
           },
           {
            "bin_start": 0.20000000000000007,
            "bin_end": 0.30000000000000004,
            "count": 0
           },
           {
            "bin_start": 0.30000000000000004,
            "bin_end": 0.4,
            "count": 0
           },
           {
            "bin_start": 0.4,
            "bin_end": 0.5,
            "count": 0
           }
          ]
         }
        },
        {
         "name": "NumAromaticRings",
         "dtype": "int64",
         "stats": {
          "unique_count": 1,
          "nan_count": 0,
          "min": "0",
          "max": "0",
          "histogram": [
           {
            "bin_start": -0.5,
            "bin_end": -0.4,
            "count": 0
           },
           {
            "bin_start": -0.4,
            "bin_end": -0.3,
            "count": 0
           },
           {
            "bin_start": -0.3,
            "bin_end": -0.19999999999999996,
            "count": 0
           },
           {
            "bin_start": -0.19999999999999996,
            "bin_end": -0.09999999999999998,
            "count": 0
           },
           {
            "bin_start": -0.09999999999999998,
            "bin_end": 0,
            "count": 0
           },
           {
            "bin_start": 0,
            "bin_end": 0.10000000000000009,
            "count": 5
           },
           {
            "bin_start": 0.10000000000000009,
            "bin_end": 0.20000000000000007,
            "count": 0
           },
           {
            "bin_start": 0.20000000000000007,
            "bin_end": 0.30000000000000004,
            "count": 0
           },
           {
            "bin_start": 0.30000000000000004,
            "bin_end": 0.4,
            "count": 0
           },
           {
            "bin_start": 0.4,
            "bin_end": 0.5,
            "count": 0
           }
          ]
         }
        },
        {
         "name": "NumHAcceptors",
         "dtype": "int64",
         "stats": {
          "unique_count": 2,
          "nan_count": 0,
          "min": "1",
          "max": "2",
          "histogram": [
           {
            "bin_start": 1,
            "bin_end": 1.1,
            "count": 1
           },
           {
            "bin_start": 1.1,
            "bin_end": 1.2,
            "count": 0
           },
           {
            "bin_start": 1.2,
            "bin_end": 1.3,
            "count": 0
           },
           {
            "bin_start": 1.3,
            "bin_end": 1.4,
            "count": 0
           },
           {
            "bin_start": 1.4,
            "bin_end": 1.5,
            "count": 0
           },
           {
            "bin_start": 1.5,
            "bin_end": 1.6,
            "count": 0
           },
           {
            "bin_start": 1.6,
            "bin_end": 1.7000000000000002,
            "count": 0
           },
           {
            "bin_start": 1.7000000000000002,
            "bin_end": 1.8,
            "count": 0
           },
           {
            "bin_start": 1.8,
            "bin_end": 1.9,
            "count": 0
           },
           {
            "bin_start": 1.9,
            "bin_end": 2,
            "count": 4
           }
          ]
         }
        },
        {
         "name": "NumHDonors",
         "dtype": "int64",
         "stats": {
          "unique_count": 3,
          "nan_count": 0,
          "min": "0",
          "max": "2",
          "histogram": [
           {
            "bin_start": 0,
            "bin_end": 0.2,
            "count": 1
           },
           {
            "bin_start": 0.2,
            "bin_end": 0.4,
            "count": 0
           },
           {
            "bin_start": 0.4,
            "bin_end": 0.6000000000000001,
            "count": 0
           },
           {
            "bin_start": 0.6000000000000001,
            "bin_end": 0.8,
            "count": 0
           },
           {
            "bin_start": 0.8,
            "bin_end": 1,
            "count": 0
           },
           {
            "bin_start": 1,
            "bin_end": 1.2000000000000002,
            "count": 2
           },
           {
            "bin_start": 1.2000000000000002,
            "bin_end": 1.4000000000000001,
            "count": 0
           },
           {
            "bin_start": 1.4000000000000001,
            "bin_end": 1.6,
            "count": 0
           },
           {
            "bin_start": 1.6,
            "bin_end": 1.8,
            "count": 0
           },
           {
            "bin_start": 1.8,
            "bin_end": 2,
            "count": 2
           }
          ]
         }
        },
        {
         "name": "NumHeteroatoms",
         "dtype": "int64",
         "stats": {
          "unique_count": 3,
          "nan_count": 0,
          "min": "2",
          "max": "4",
          "histogram": [
           {
            "bin_start": 2,
            "bin_end": 2.2,
            "count": 2
           },
           {
            "bin_start": 2.2,
            "bin_end": 2.4,
            "count": 0
           },
           {
            "bin_start": 2.4,
            "bin_end": 2.6,
            "count": 0
           },
           {
            "bin_start": 2.6,
            "bin_end": 2.8,
            "count": 0
           },
           {
            "bin_start": 2.8,
            "bin_end": 3,
            "count": 0
           },
           {
            "bin_start": 3,
            "bin_end": 3.2,
            "count": 2
           },
           {
            "bin_start": 3.2,
            "bin_end": 3.4000000000000004,
            "count": 0
           },
           {
            "bin_start": 3.4000000000000004,
            "bin_end": 3.6,
            "count": 0
           },
           {
            "bin_start": 3.6,
            "bin_end": 3.8,
            "count": 0
           },
           {
            "bin_start": 3.8,
            "bin_end": 4,
            "count": 1
           }
          ]
         }
        },
        {
         "name": "NumRotatableBonds",
         "dtype": "int64",
         "stats": {
          "unique_count": 2,
          "nan_count": 0,
          "min": "0",
          "max": "1",
          "histogram": [
           {
            "bin_start": 0,
            "bin_end": 0.1,
            "count": 4
           },
           {
            "bin_start": 0.1,
            "bin_end": 0.2,
            "count": 0
           },
           {
            "bin_start": 0.2,
            "bin_end": 0.30000000000000004,
            "count": 0
           },
           {
            "bin_start": 0.30000000000000004,
            "bin_end": 0.4,
            "count": 0
           },
           {
            "bin_start": 0.4,
            "bin_end": 0.5,
            "count": 0
           },
           {
            "bin_start": 0.5,
            "bin_end": 0.6000000000000001,
            "count": 0
           },
           {
            "bin_start": 0.6000000000000001,
            "bin_end": 0.7000000000000001,
            "count": 0
           },
           {
            "bin_start": 0.7000000000000001,
            "bin_end": 0.8,
            "count": 0
           },
           {
            "bin_start": 0.8,
            "bin_end": 0.9,
            "count": 0
           },
           {
            "bin_start": 0.9,
            "bin_end": 1,
            "count": 1
           }
          ]
         }
        },
        {
         "name": "void_fraction",
         "dtype": "float64",
         "stats": {
          "unique_count": 5,
          "nan_count": 0,
          "min": "0.07778",
          "max": "0.21814",
          "histogram": [
           {
            "bin_start": 0.07778,
            "bin_end": 0.091816,
            "count": 2
           },
           {
            "bin_start": 0.091816,
            "bin_end": 0.105852,
            "count": 0
           },
           {
            "bin_start": 0.105852,
            "bin_end": 0.119888,
            "count": 0
           },
           {
            "bin_start": 0.119888,
            "bin_end": 0.133924,
            "count": 0
           },
           {
            "bin_start": 0.133924,
            "bin_end": 0.14795999999999998,
            "count": 1
           },
           {
            "bin_start": 0.14795999999999998,
            "bin_end": 0.16199599999999997,
            "count": 1
           },
           {
            "bin_start": 0.16199599999999997,
            "bin_end": 0.176032,
            "count": 0
           },
           {
            "bin_start": 0.176032,
            "bin_end": 0.190068,
            "count": 0
           },
           {
            "bin_start": 0.190068,
            "bin_end": 0.204104,
            "count": 0
           },
           {
            "bin_start": 0.204104,
            "bin_end": 0.21814,
            "count": 1
           }
          ]
         }
        },
        {
         "name": "void_volume [cm^3/g]",
         "dtype": "float64",
         "stats": {
          "unique_count": 5,
          "nan_count": 0,
          "min": "0.0591",
          "max": "0.222",
          "histogram": [
           {
            "bin_start": 0.0591,
            "bin_end": 0.07539,
            "count": 2
           },
           {
            "bin_start": 0.07539,
            "bin_end": 0.09168,
            "count": 0
           },
           {
            "bin_start": 0.09168,
            "bin_end": 0.10797,
            "count": 1
           },
           {
            "bin_start": 0.10797,
            "bin_end": 0.12426,
            "count": 0
           },
           {
            "bin_start": 0.12426,
            "bin_end": 0.14055,
            "count": 1
           },
           {
            "bin_start": 0.14055,
            "bin_end": 0.15683999999999998,
            "count": 0
           },
           {
            "bin_start": 0.15683999999999998,
            "bin_end": 0.17313,
            "count": 0
           },
           {
            "bin_start": 0.17313,
            "bin_end": 0.18941999999999998,
            "count": 0
           },
           {
            "bin_start": 0.18941999999999998,
            "bin_end": 0.20571,
            "count": 0
           },
           {
            "bin_start": 0.20571,
            "bin_end": 0.222,
            "count": 1
           }
          ]
         }
        },
        {
         "name": "functional_groups",
         "dtype": "object",
         "stats": {
          "unique_count": 5,
          "nan_count": 0,
          "categories": [
           {
            "name": "COOH-OEt",
            "count": 1
           },
           {
            "name": "F-OMe",
            "count": 1
           },
           {
            "name": "3 others",
            "count": 3
           }
          ]
         }
        },
        {
         "name": "metal_linker",
         "dtype": "int64",
         "stats": {
          "unique_count": 4,
          "nan_count": 0,
          "min": "2",
          "max": "10",
          "histogram": [
           {
            "bin_start": 2,
            "bin_end": 2.8,
            "count": 2
           },
           {
            "bin_start": 2.8,
            "bin_end": 3.6,
            "count": 1
           },
           {
            "bin_start": 3.6,
            "bin_end": 4.4,
            "count": 0
           },
           {
            "bin_start": 4.4,
            "bin_end": 5.2,
            "count": 0
           },
           {
            "bin_start": 5.2,
            "bin_end": 6,
            "count": 0
           },
           {
            "bin_start": 6,
            "bin_end": 6.800000000000001,
            "count": 0
           },
           {
            "bin_start": 6.800000000000001,
            "bin_end": 7.6000000000000005,
            "count": 0
           },
           {
            "bin_start": 7.6000000000000005,
            "bin_end": 8.4,
            "count": 0
           },
           {
            "bin_start": 8.4,
            "bin_end": 9.2,
            "count": 1
           },
           {
            "bin_start": 9.2,
            "bin_end": 10,
            "count": 1
           }
          ]
         }
        },
        {
         "name": "organic_linker1",
         "dtype": "int64",
         "stats": {
          "unique_count": 5,
          "nan_count": 0,
          "min": "1",
          "max": "44",
          "histogram": [
           {
            "bin_start": 1,
            "bin_end": 5.3,
            "count": 2
           },
           {
            "bin_start": 5.3,
            "bin_end": 9.6,
            "count": 0
           },
           {
            "bin_start": 9.6,
            "bin_end": 13.899999999999999,
            "count": 0
           },
           {
            "bin_start": 13.899999999999999,
            "bin_end": 18.2,
            "count": 1
           },
           {
            "bin_start": 18.2,
            "bin_end": 22.5,
            "count": 1
           },
           {
            "bin_start": 22.5,
            "bin_end": 26.799999999999997,
            "count": 0
           },
           {
            "bin_start": 26.799999999999997,
            "bin_end": 31.099999999999998,
            "count": 0
           },
           {
            "bin_start": 31.099999999999998,
            "bin_end": 35.4,
            "count": 0
           },
           {
            "bin_start": 35.4,
            "bin_end": 39.699999999999996,
            "count": 0
           },
           {
            "bin_start": 39.699999999999996,
            "bin_end": 44,
            "count": 1
           }
          ]
         }
        },
        {
         "name": "organic_linker2",
         "dtype": "int64",
         "stats": {
          "unique_count": 4,
          "nan_count": 0,
          "min": "11",
          "max": "57",
          "histogram": [
           {
            "bin_start": 11,
            "bin_end": 15.6,
            "count": 1
           },
           {
            "bin_start": 15.6,
            "bin_end": 20.2,
            "count": 0
           },
           {
            "bin_start": 20.2,
            "bin_end": 24.799999999999997,
            "count": 3
           },
           {
            "bin_start": 24.799999999999997,
            "bin_end": 29.4,
            "count": 0
           },
           {
            "bin_start": 29.4,
            "bin_end": 34,
            "count": 0
           },
           {
            "bin_start": 34,
            "bin_end": 38.599999999999994,
            "count": 0
           },
           {
            "bin_start": 38.599999999999994,
            "bin_end": 43.199999999999996,
            "count": 0
           },
           {
            "bin_start": 43.199999999999996,
            "bin_end": 47.8,
            "count": 0
           },
           {
            "bin_start": 47.8,
            "bin_end": 52.4,
            "count": 0
           },
           {
            "bin_start": 52.4,
            "bin_end": 57,
            "count": 1
           }
          ]
         }
        },
        {
         "name": "topology",
         "dtype": "object",
         "stats": {
          "unique_count": 3,
          "nan_count": 0,
          "categories": [
           {
            "name": "pcu",
            "count": 3
           },
           {
            "name": "etb",
            "count": 1
           },
           {
            "name": "sra",
            "count": 1
           }
          ]
         }
        },
        {
         "name": "CO2/N2_selectivity",
         "dtype": "float64",
         "stats": {
          "unique_count": 5,
          "nan_count": 0,
          "min": "19.26372569",
          "max": "33.61678033",
          "histogram": [
           {
            "bin_start": 19.26372569,
            "bin_end": 20.699031154,
            "count": 1
           },
           {
            "bin_start": 20.699031154,
            "bin_end": 22.134336618,
            "count": 0
           },
           {
            "bin_start": 22.134336618,
            "bin_end": 23.569642082,
            "count": 1
           },
           {
            "bin_start": 23.569642082,
            "bin_end": 25.004947546,
            "count": 0
           },
           {
            "bin_start": 25.004947546,
            "bin_end": 26.44025301,
            "count": 1
           },
           {
            "bin_start": 26.44025301,
            "bin_end": 27.875558473999998,
            "count": 0
           },
           {
            "bin_start": 27.875558473999998,
            "bin_end": 29.310863937999997,
            "count": 0
           },
           {
            "bin_start": 29.310863937999997,
            "bin_end": 30.746169402,
            "count": 1
           },
           {
            "bin_start": 30.746169402,
            "bin_end": 32.181474865999995,
            "count": 0
           },
           {
            "bin_start": 32.181474865999995,
            "bin_end": 33.61678033,
            "count": 1
           }
          ]
         }
        },
        {
         "name": "heat_adsorption_CO2_P0.15bar_T298K [kcal/mol]",
         "dtype": "float64",
         "stats": {
          "unique_count": 5,
          "nan_count": 0,
          "min": "6.190085",
          "max": "7.147286",
          "histogram": [
           {
            "bin_start": 6.190085,
            "bin_end": 6.2858051,
            "count": 1
           },
           {
            "bin_start": 6.2858051,
            "bin_end": 6.3815252,
            "count": 1
           },
           {
            "bin_start": 6.3815252,
            "bin_end": 6.4772453,
            "count": 0
           },
           {
            "bin_start": 6.4772453,
            "bin_end": 6.5729654,
            "count": 1
           },
           {
            "bin_start": 6.5729654,
            "bin_end": 6.6686855000000005,
            "count": 0
           },
           {
            "bin_start": 6.6686855000000005,
            "bin_end": 6.7644056,
            "count": 0
           },
           {
            "bin_start": 6.7644056,
            "bin_end": 6.8601257,
            "count": 1
           },
           {
            "bin_start": 6.8601257,
            "bin_end": 6.9558458000000005,
            "count": 0
           },
           {
            "bin_start": 6.9558458000000005,
            "bin_end": 7.0515659,
            "count": 0
           },
           {
            "bin_start": 7.0515659,
            "bin_end": 7.147286,
            "count": 1
           }
          ]
         }
        },
        {
         "name": "CO2_working_capacity [mL/g]",
         "dtype": "float64",
         "stats": {
          "unique_count": 5,
          "nan_count": 0,
          "min": "79.21000065588353",
          "max": "187.62600449626183",
          "histogram": [
           {
            "bin_start": 79.21000065588353,
            "bin_end": 90.05160103992137,
            "count": 1
           },
           {
            "bin_start": 90.05160103992137,
            "bin_end": 100.8932014239592,
            "count": 0
           },
           {
            "bin_start": 100.8932014239592,
            "bin_end": 111.73480180799702,
            "count": 2
           },
           {
            "bin_start": 111.73480180799702,
            "bin_end": 122.57640219203485,
            "count": 1
           },
           {
            "bin_start": 122.57640219203485,
            "bin_end": 133.4180025760727,
            "count": 0
           },
           {
            "bin_start": 133.4180025760727,
            "bin_end": 144.2596029601105,
            "count": 0
           },
           {
            "bin_start": 144.2596029601105,
            "bin_end": 155.10120334414833,
            "count": 0
           },
           {
            "bin_start": 155.10120334414833,
            "bin_end": 165.94280372818616,
            "count": 0
           },
           {
            "bin_start": 165.94280372818616,
            "bin_end": 176.784404112224,
            "count": 0
           },
           {
            "bin_start": 176.784404112224,
            "bin_end": 187.62600449626183,
            "count": 1
           }
          ]
         }
        },
        {
         "name": "CID",
         "dtype": "float64",
         "stats": {
          "unique_count": 5,
          "nan_count": 0,
          "min": "11647.0",
          "max": "142072.0",
          "histogram": [
           {
            "bin_start": 11647,
            "bin_end": 24689.5,
            "count": 1
           },
           {
            "bin_start": 24689.5,
            "bin_end": 37732,
            "count": 0
           },
           {
            "bin_start": 37732,
            "bin_end": 50774.5,
            "count": 0
           },
           {
            "bin_start": 50774.5,
            "bin_end": 63817,
            "count": 0
           },
           {
            "bin_start": 63817,
            "bin_end": 76859.5,
            "count": 0
           },
           {
            "bin_start": 76859.5,
            "bin_end": 89902,
            "count": 1
           },
           {
            "bin_start": 89902,
            "bin_end": 102944.5,
            "count": 0
           },
           {
            "bin_start": 102944.5,
            "bin_end": 115987,
            "count": 2
           },
           {
            "bin_start": 115987,
            "bin_end": 129029.5,
            "count": 0
           },
           {
            "bin_start": 129029.5,
            "bin_end": 142072,
            "count": 1
           }
          ]
         }
        },
        {
         "name": "MolecularFormula",
         "dtype": "object",
         "stats": {
          "unique_count": 5,
          "nan_count": 0,
          "categories": [
           {
            "name": "C3H6O3",
            "count": 1
           },
           {
            "name": "CH3FO",
            "count": 1
           },
           {
            "name": "3 others",
            "count": 3
           }
          ]
         }
        },
        {
         "name": "MolecularWeight",
         "dtype": "float64",
         "stats": {
          "unique_count": 5,
          "nan_count": 0,
          "min": "47.057",
          "max": "90.08",
          "histogram": [
           {
            "bin_start": 47.057,
            "bin_end": 51.359300000000005,
            "count": 2
           },
           {
            "bin_start": 51.359300000000005,
            "bin_end": 55.6616,
            "count": 0
           },
           {
            "bin_start": 55.6616,
            "bin_end": 59.9639,
            "count": 0
           },
           {
            "bin_start": 59.9639,
            "bin_end": 64.2662,
            "count": 0
           },
           {
            "bin_start": 64.2662,
            "bin_end": 68.5685,
            "count": 0
           },
           {
            "bin_start": 68.5685,
            "bin_end": 72.8708,
            "count": 0
           },
           {
            "bin_start": 72.8708,
            "bin_end": 77.1731,
            "count": 1
           },
           {
            "bin_start": 77.1731,
            "bin_end": 81.47540000000001,
            "count": 1
           },
           {
            "bin_start": 81.47540000000001,
            "bin_end": 85.77770000000001,
            "count": 0
           },
           {
            "bin_start": 85.77770000000001,
            "bin_end": 90.08,
            "count": 1
           }
          ]
         }
        },
        {
         "name": "InChI",
         "dtype": "object",
         "stats": {
          "unique_count": 5,
          "nan_count": 0,
          "categories": [
           {
            "name": "InChI=1S/C3H6O3/c1-2-6-3(4)5/h2H2,1H3,(H,4,5)",
            "count": 1
           },
           {
            "name": "InChI=1S/CH3FO/c1-3-2/h1H3",
            "count": 1
           },
           {
            "name": "3 others",
            "count": 3
           }
          ]
         }
        },
        {
         "name": "InChIKey",
         "dtype": "object",
         "stats": {
          "unique_count": 5,
          "nan_count": 0,
          "categories": [
           {
            "name": "CQDGTJPVBWZJAZ-UHFFFAOYSA-N",
            "count": 1
           },
           {
            "name": "XMSZANIMCDLNKA-UHFFFAOYSA-N",
            "count": 1
           },
           {
            "name": "3 others",
            "count": 3
           }
          ]
         }
        },
        {
         "name": "IUPACName",
         "dtype": "object",
         "stats": {
          "unique_count": 5,
          "nan_count": 0,
          "categories": [
           {
            "name": "ethyl hydrogen carbonate",
            "count": 1
           },
           {
            "name": "methyl hypofluorite",
            "count": 1
           },
           {
            "name": "3 others",
            "count": 3
           }
          ]
         }
        },
        {
         "name": "XLogP",
         "dtype": "float64",
         "stats": {
          "unique_count": 4,
          "nan_count": 0,
          "min": "-1.0",
          "max": "0.6",
          "histogram": [
           {
            "bin_start": -1,
            "bin_end": -0.84,
            "count": 1
           },
           {
            "bin_start": -0.84,
            "bin_end": -0.6799999999999999,
            "count": 1
           },
           {
            "bin_start": -0.6799999999999999,
            "bin_end": -0.52,
            "count": 0
           },
           {
            "bin_start": -0.52,
            "bin_end": -0.36,
            "count": 0
           },
           {
            "bin_start": -0.36,
            "bin_end": -0.19999999999999996,
            "count": 0
           },
           {
            "bin_start": -0.19999999999999996,
            "bin_end": -0.040000000000000036,
            "count": 0
           },
           {
            "bin_start": -0.040000000000000036,
            "bin_end": 0.1200000000000001,
            "count": 0
           },
           {
            "bin_start": 0.1200000000000001,
            "bin_end": 0.28,
            "count": 1
           },
           {
            "bin_start": 0.28,
            "bin_end": 0.43999999999999995,
            "count": 0
           },
           {
            "bin_start": 0.43999999999999995,
            "bin_end": 0.6,
            "count": 2
           }
          ]
         }
        },
        {
         "name": "ExactMass",
         "dtype": "float64",
         "stats": {
          "unique_count": 5,
          "nan_count": 0,
          "min": "47.037113783",
          "max": "90.031694049",
          "histogram": [
           {
            "bin_start": 47.037113783,
            "bin_end": 51.3365718096,
            "count": 2
           },
           {
            "bin_start": 51.3365718096,
            "bin_end": 55.6360298362,
            "count": 0
           },
           {
            "bin_start": 55.6360298362,
            "bin_end": 59.9354878628,
            "count": 0
           },
           {
            "bin_start": 59.9354878628,
            "bin_end": 64.2349458894,
            "count": 0
           },
           {
            "bin_start": 64.2349458894,
            "bin_end": 68.534403916,
            "count": 0
           },
           {
            "bin_start": 68.534403916,
            "bin_end": 72.8338619426,
            "count": 0
           },
           {
            "bin_start": 72.8338619426,
            "bin_end": 77.13331996919999,
            "count": 1
           },
           {
            "bin_start": 77.13331996919999,
            "bin_end": 81.4327779958,
            "count": 1
           },
           {
            "bin_start": 81.4327779958,
            "bin_end": 85.7322360224,
            "count": 0
           },
           {
            "bin_start": 85.7322360224,
            "bin_end": 90.031694049,
            "count": 1
           }
          ]
         }
        },
        {
         "name": "MonoisotopicMass",
         "dtype": "float64",
         "stats": {
          "unique_count": 5,
          "nan_count": 0,
          "min": "47.037113783",
          "max": "90.031694049",
          "histogram": [
           {
            "bin_start": 47.037113783,
            "bin_end": 51.3365718096,
            "count": 2
           },
           {
            "bin_start": 51.3365718096,
            "bin_end": 55.6360298362,
            "count": 0
           },
           {
            "bin_start": 55.6360298362,
            "bin_end": 59.9354878628,
            "count": 0
           },
           {
            "bin_start": 59.9354878628,
            "bin_end": 64.2349458894,
            "count": 0
           },
           {
            "bin_start": 64.2349458894,
            "bin_end": 68.534403916,
            "count": 0
           },
           {
            "bin_start": 68.534403916,
            "bin_end": 72.8338619426,
            "count": 0
           },
           {
            "bin_start": 72.8338619426,
            "bin_end": 77.13331996919999,
            "count": 1
           },
           {
            "bin_start": 77.13331996919999,
            "bin_end": 81.4327779958,
            "count": 1
           },
           {
            "bin_start": 81.4327779958,
            "bin_end": 85.7322360224,
            "count": 0
           },
           {
            "bin_start": 85.7322360224,
            "bin_end": 90.031694049,
            "count": 1
           }
          ]
         }
        },
        {
         "name": "TPSA",
         "dtype": "float64",
         "stats": {
          "unique_count": 4,
          "nan_count": 0,
          "min": "9.2",
          "max": "79.6",
          "histogram": [
           {
            "bin_start": 9.2,
            "bin_end": 16.24,
            "count": 1
           },
           {
            "bin_start": 16.24,
            "bin_end": 23.279999999999998,
            "count": 0
           },
           {
            "bin_start": 23.279999999999998,
            "bin_end": 30.319999999999997,
            "count": 0
           },
           {
            "bin_start": 30.319999999999997,
            "bin_end": 37.36,
            "count": 1
           },
           {
            "bin_start": 37.36,
            "bin_end": 44.39999999999999,
            "count": 0
           },
           {
            "bin_start": 44.39999999999999,
            "bin_end": 51.44,
            "count": 2
           },
           {
            "bin_start": 51.44,
            "bin_end": 58.47999999999999,
            "count": 0
           },
           {
            "bin_start": 58.47999999999999,
            "bin_end": 65.52,
            "count": 0
           },
           {
            "bin_start": 65.52,
            "bin_end": 72.55999999999999,
            "count": 0
           },
           {
            "bin_start": 72.55999999999999,
            "bin_end": 79.6,
            "count": 1
           }
          ]
         }
        },
        {
         "name": "Complexity",
         "dtype": "float64",
         "stats": {
          "unique_count": 4,
          "nan_count": 0,
          "min": "4.0",
          "max": "50.0",
          "histogram": [
           {
            "bin_start": 4,
            "bin_end": 8.6,
            "count": 2
           },
           {
            "bin_start": 8.6,
            "bin_end": 13.2,
            "count": 0
           },
           {
            "bin_start": 13.2,
            "bin_end": 17.799999999999997,
            "count": 0
           },
           {
            "bin_start": 17.799999999999997,
            "bin_end": 22.4,
            "count": 0
           },
           {
            "bin_start": 22.4,
            "bin_end": 27,
            "count": 1
           },
           {
            "bin_start": 27,
            "bin_end": 31.599999999999998,
            "count": 0
           },
           {
            "bin_start": 31.599999999999998,
            "bin_end": 36.199999999999996,
            "count": 0
           },
           {
            "bin_start": 36.199999999999996,
            "bin_end": 40.8,
            "count": 1
           },
           {
            "bin_start": 40.8,
            "bin_end": 45.4,
            "count": 0
           },
           {
            "bin_start": 45.4,
            "bin_end": 50,
            "count": 1
           }
          ]
         }
        },
        {
         "name": "Charge",
         "dtype": "float64",
         "stats": {
          "unique_count": 2,
          "nan_count": 0,
          "min": "-1.0",
          "max": "0.0",
          "histogram": [
           {
            "bin_start": -1,
            "bin_end": -0.9,
            "count": 1
           },
           {
            "bin_start": -0.9,
            "bin_end": -0.8,
            "count": 0
           },
           {
            "bin_start": -0.8,
            "bin_end": -0.7,
            "count": 0
           },
           {
            "bin_start": -0.7,
            "bin_end": -0.6,
            "count": 0
           },
           {
            "bin_start": -0.6,
            "bin_end": -0.5,
            "count": 0
           },
           {
            "bin_start": -0.5,
            "bin_end": -0.3999999999999999,
            "count": 0
           },
           {
            "bin_start": -0.3999999999999999,
            "bin_end": -0.29999999999999993,
            "count": 0
           },
           {
            "bin_start": -0.29999999999999993,
            "bin_end": -0.19999999999999996,
            "count": 0
           },
           {
            "bin_start": -0.19999999999999996,
            "bin_end": -0.09999999999999998,
            "count": 0
           },
           {
            "bin_start": -0.09999999999999998,
            "bin_end": 0,
            "count": 4
           }
          ]
         }
        },
        {
         "name": "HBondDonorCount",
         "dtype": "float64",
         "stats": {
          "unique_count": 3,
          "nan_count": 0,
          "min": "0.0",
          "max": "2.0",
          "histogram": [
           {
            "bin_start": 0,
            "bin_end": 0.2,
            "count": 1
           },
           {
            "bin_start": 0.2,
            "bin_end": 0.4,
            "count": 0
           },
           {
            "bin_start": 0.4,
            "bin_end": 0.6000000000000001,
            "count": 0
           },
           {
            "bin_start": 0.6000000000000001,
            "bin_end": 0.8,
            "count": 0
           },
           {
            "bin_start": 0.8,
            "bin_end": 1,
            "count": 0
           },
           {
            "bin_start": 1,
            "bin_end": 1.2000000000000002,
            "count": 3
           },
           {
            "bin_start": 1.2000000000000002,
            "bin_end": 1.4000000000000001,
            "count": 0
           },
           {
            "bin_start": 1.4000000000000001,
            "bin_end": 1.6,
            "count": 0
           },
           {
            "bin_start": 1.6,
            "bin_end": 1.8,
            "count": 0
           },
           {
            "bin_start": 1.8,
            "bin_end": 2,
            "count": 1
           }
          ]
         }
        },
        {
         "name": "HBondAcceptorCount",
         "dtype": "float64",
         "stats": {
          "unique_count": 3,
          "nan_count": 0,
          "min": "2.0",
          "max": "4.0",
          "histogram": [
           {
            "bin_start": 2,
            "bin_end": 2.2,
            "count": 2
           },
           {
            "bin_start": 2.2,
            "bin_end": 2.4,
            "count": 0
           },
           {
            "bin_start": 2.4,
            "bin_end": 2.6,
            "count": 0
           },
           {
            "bin_start": 2.6,
            "bin_end": 2.8,
            "count": 0
           },
           {
            "bin_start": 2.8,
            "bin_end": 3,
            "count": 0
           },
           {
            "bin_start": 3,
            "bin_end": 3.2,
            "count": 2
           },
           {
            "bin_start": 3.2,
            "bin_end": 3.4000000000000004,
            "count": 0
           },
           {
            "bin_start": 3.4000000000000004,
            "bin_end": 3.6,
            "count": 0
           },
           {
            "bin_start": 3.6,
            "bin_end": 3.8,
            "count": 0
           },
           {
            "bin_start": 3.8,
            "bin_end": 4,
            "count": 1
           }
          ]
         }
        },
        {
         "name": "RotatableBondCount",
         "dtype": "float64",
         "stats": {
          "unique_count": 3,
          "nan_count": 0,
          "min": "0.0",
          "max": "2.0",
          "histogram": [
           {
            "bin_start": 0,
            "bin_end": 0.2,
            "count": 3
           },
           {
            "bin_start": 0.2,
            "bin_end": 0.4,
            "count": 0
           },
           {
            "bin_start": 0.4,
            "bin_end": 0.6000000000000001,
            "count": 0
           },
           {
            "bin_start": 0.6000000000000001,
            "bin_end": 0.8,
            "count": 0
           },
           {
            "bin_start": 0.8,
            "bin_end": 1,
            "count": 0
           },
           {
            "bin_start": 1,
            "bin_end": 1.2000000000000002,
            "count": 1
           },
           {
            "bin_start": 1.2000000000000002,
            "bin_end": 1.4000000000000001,
            "count": 0
           },
           {
            "bin_start": 1.4000000000000001,
            "bin_end": 1.6,
            "count": 0
           },
           {
            "bin_start": 1.6,
            "bin_end": 1.8,
            "count": 0
           },
           {
            "bin_start": 1.8,
            "bin_end": 2,
            "count": 1
           }
          ]
         }
        },
        {
         "name": "IsotopeAtomCount",
         "dtype": "float64",
         "stats": {
          "unique_count": 1,
          "nan_count": 0,
          "min": "0.0",
          "max": "0.0",
          "histogram": [
           {
            "bin_start": -0.5,
            "bin_end": -0.4,
            "count": 0
           },
           {
            "bin_start": -0.4,
            "bin_end": -0.3,
            "count": 0
           },
           {
            "bin_start": -0.3,
            "bin_end": -0.19999999999999996,
            "count": 0
           },
           {
            "bin_start": -0.19999999999999996,
            "bin_end": -0.09999999999999998,
            "count": 0
           },
           {
            "bin_start": -0.09999999999999998,
            "bin_end": 0,
            "count": 0
           },
           {
            "bin_start": 0,
            "bin_end": 0.10000000000000009,
            "count": 5
           },
           {
            "bin_start": 0.10000000000000009,
            "bin_end": 0.20000000000000007,
            "count": 0
           },
           {
            "bin_start": 0.20000000000000007,
            "bin_end": 0.30000000000000004,
            "count": 0
           },
           {
            "bin_start": 0.30000000000000004,
            "bin_end": 0.4,
            "count": 0
           },
           {
            "bin_start": 0.4,
            "bin_end": 0.5,
            "count": 0
           }
          ]
         }
        },
        {
         "name": "AtomStereoCount",
         "dtype": "float64",
         "stats": {
          "unique_count": 1,
          "nan_count": 0,
          "min": "0.0",
          "max": "0.0",
          "histogram": [
           {
            "bin_start": -0.5,
            "bin_end": -0.4,
            "count": 0
           },
           {
            "bin_start": -0.4,
            "bin_end": -0.3,
            "count": 0
           },
           {
            "bin_start": -0.3,
            "bin_end": -0.19999999999999996,
            "count": 0
           },
           {
            "bin_start": -0.19999999999999996,
            "bin_end": -0.09999999999999998,
            "count": 0
           },
           {
            "bin_start": -0.09999999999999998,
            "bin_end": 0,
            "count": 0
           },
           {
            "bin_start": 0,
            "bin_end": 0.10000000000000009,
            "count": 5
           },
           {
            "bin_start": 0.10000000000000009,
            "bin_end": 0.20000000000000007,
            "count": 0
           },
           {
            "bin_start": 0.20000000000000007,
            "bin_end": 0.30000000000000004,
            "count": 0
           },
           {
            "bin_start": 0.30000000000000004,
            "bin_end": 0.4,
            "count": 0
           },
           {
            "bin_start": 0.4,
            "bin_end": 0.5,
            "count": 0
           }
          ]
         }
        },
        {
         "name": "DefinedAtomStereoCount",
         "dtype": "float64",
         "stats": {
          "unique_count": 1,
          "nan_count": 0,
          "min": "0.0",
          "max": "0.0",
          "histogram": [
           {
            "bin_start": -0.5,
            "bin_end": -0.4,
            "count": 0
           },
           {
            "bin_start": -0.4,
            "bin_end": -0.3,
            "count": 0
           },
           {
            "bin_start": -0.3,
            "bin_end": -0.19999999999999996,
            "count": 0
           },
           {
            "bin_start": -0.19999999999999996,
            "bin_end": -0.09999999999999998,
            "count": 0
           },
           {
            "bin_start": -0.09999999999999998,
            "bin_end": 0,
            "count": 0
           },
           {
            "bin_start": 0,
            "bin_end": 0.10000000000000009,
            "count": 5
           },
           {
            "bin_start": 0.10000000000000009,
            "bin_end": 0.20000000000000007,
            "count": 0
           },
           {
            "bin_start": 0.20000000000000007,
            "bin_end": 0.30000000000000004,
            "count": 0
           },
           {
            "bin_start": 0.30000000000000004,
            "bin_end": 0.4,
            "count": 0
           },
           {
            "bin_start": 0.4,
            "bin_end": 0.5,
            "count": 0
           }
          ]
         }
        },
        {
         "name": "UndefinedAtomStereoCount",
         "dtype": "float64",
         "stats": {
          "unique_count": 1,
          "nan_count": 0,
          "min": "0.0",
          "max": "0.0",
          "histogram": [
           {
            "bin_start": -0.5,
            "bin_end": -0.4,
            "count": 0
           },
           {
            "bin_start": -0.4,
            "bin_end": -0.3,
            "count": 0
           },
           {
            "bin_start": -0.3,
            "bin_end": -0.19999999999999996,
            "count": 0
           },
           {
            "bin_start": -0.19999999999999996,
            "bin_end": -0.09999999999999998,
            "count": 0
           },
           {
            "bin_start": -0.09999999999999998,
            "bin_end": 0,
            "count": 0
           },
           {
            "bin_start": 0,
            "bin_end": 0.10000000000000009,
            "count": 5
           },
           {
            "bin_start": 0.10000000000000009,
            "bin_end": 0.20000000000000007,
            "count": 0
           },
           {
            "bin_start": 0.20000000000000007,
            "bin_end": 0.30000000000000004,
            "count": 0
           },
           {
            "bin_start": 0.30000000000000004,
            "bin_end": 0.4,
            "count": 0
           },
           {
            "bin_start": 0.4,
            "bin_end": 0.5,
            "count": 0
           }
          ]
         }
        },
        {
         "name": "BondStereoCount",
         "dtype": "float64",
         "stats": {
          "unique_count": 1,
          "nan_count": 0,
          "min": "0.0",
          "max": "0.0",
          "histogram": [
           {
            "bin_start": -0.5,
            "bin_end": -0.4,
            "count": 0
           },
           {
            "bin_start": -0.4,
            "bin_end": -0.3,
            "count": 0
           },
           {
            "bin_start": -0.3,
            "bin_end": -0.19999999999999996,
            "count": 0
           },
           {
            "bin_start": -0.19999999999999996,
            "bin_end": -0.09999999999999998,
            "count": 0
           },
           {
            "bin_start": -0.09999999999999998,
            "bin_end": 0,
            "count": 0
           },
           {
            "bin_start": 0,
            "bin_end": 0.10000000000000009,
            "count": 5
           },
           {
            "bin_start": 0.10000000000000009,
            "bin_end": 0.20000000000000007,
            "count": 0
           },
           {
            "bin_start": 0.20000000000000007,
            "bin_end": 0.30000000000000004,
            "count": 0
           },
           {
            "bin_start": 0.30000000000000004,
            "bin_end": 0.4,
            "count": 0
           },
           {
            "bin_start": 0.4,
            "bin_end": 0.5,
            "count": 0
           }
          ]
         }
        },
        {
         "name": "DefinedBondStereoCount",
         "dtype": "float64",
         "stats": {
          "unique_count": 1,
          "nan_count": 0,
          "min": "0.0",
          "max": "0.0",
          "histogram": [
           {
            "bin_start": -0.5,
            "bin_end": -0.4,
            "count": 0
           },
           {
            "bin_start": -0.4,
            "bin_end": -0.3,
            "count": 0
           },
           {
            "bin_start": -0.3,
            "bin_end": -0.19999999999999996,
            "count": 0
           },
           {
            "bin_start": -0.19999999999999996,
            "bin_end": -0.09999999999999998,
            "count": 0
           },
           {
            "bin_start": -0.09999999999999998,
            "bin_end": 0,
            "count": 0
           },
           {
            "bin_start": 0,
            "bin_end": 0.10000000000000009,
            "count": 5
           },
           {
            "bin_start": 0.10000000000000009,
            "bin_end": 0.20000000000000007,
            "count": 0
           },
           {
            "bin_start": 0.20000000000000007,
            "bin_end": 0.30000000000000004,
            "count": 0
           },
           {
            "bin_start": 0.30000000000000004,
            "bin_end": 0.4,
            "count": 0
           },
           {
            "bin_start": 0.4,
            "bin_end": 0.5,
            "count": 0
           }
          ]
         }
        },
        {
         "name": "UndefinedBondStereoCount",
         "dtype": "float64",
         "stats": {
          "unique_count": 1,
          "nan_count": 0,
          "min": "0.0",
          "max": "0.0",
          "histogram": [
           {
            "bin_start": -0.5,
            "bin_end": -0.4,
            "count": 0
           },
           {
            "bin_start": -0.4,
            "bin_end": -0.3,
            "count": 0
           },
           {
            "bin_start": -0.3,
            "bin_end": -0.19999999999999996,
            "count": 0
           },
           {
            "bin_start": -0.19999999999999996,
            "bin_end": -0.09999999999999998,
            "count": 0
           },
           {
            "bin_start": -0.09999999999999998,
            "bin_end": 0,
            "count": 0
           },
           {
            "bin_start": 0,
            "bin_end": 0.10000000000000009,
            "count": 5
           },
           {
            "bin_start": 0.10000000000000009,
            "bin_end": 0.20000000000000007,
            "count": 0
           },
           {
            "bin_start": 0.20000000000000007,
            "bin_end": 0.30000000000000004,
            "count": 0
           },
           {
            "bin_start": 0.30000000000000004,
            "bin_end": 0.4,
            "count": 0
           },
           {
            "bin_start": 0.4,
            "bin_end": 0.5,
            "count": 0
           }
          ]
         }
        },
        {
         "name": "CovalentUnitCount",
         "dtype": "float64",
         "stats": {
          "unique_count": 1,
          "nan_count": 0,
          "min": "1.0",
          "max": "1.0",
          "histogram": [
           {
            "bin_start": 0.5,
            "bin_end": 0.6,
            "count": 0
           },
           {
            "bin_start": 0.6,
            "bin_end": 0.7,
            "count": 0
           },
           {
            "bin_start": 0.7,
            "bin_end": 0.8,
            "count": 0
           },
           {
            "bin_start": 0.8,
            "bin_end": 0.9,
            "count": 0
           },
           {
            "bin_start": 0.9,
            "bin_end": 1,
            "count": 0
           },
           {
            "bin_start": 1,
            "bin_end": 1.1,
            "count": 5
           },
           {
            "bin_start": 1.1,
            "bin_end": 1.2000000000000002,
            "count": 0
           },
           {
            "bin_start": 1.2000000000000002,
            "bin_end": 1.3,
            "count": 0
           },
           {
            "bin_start": 1.3,
            "bin_end": 1.4,
            "count": 0
           },
           {
            "bin_start": 1.4,
            "bin_end": 1.5,
            "count": 0
           }
          ]
         }
        },
        {
         "name": "_deepnote_index_column",
         "dtype": "int64"
        }
       ],
       "rows_top": [
        {
         "MOFname": "mof_unit_1",
         "volume [A^3]": 1116.667429,
         "weight [u]": 875.2405999999999,
         "density [g/cm^3]": 1.3015262988601055,
         "surface_area [m^2/g]": 1139.8287738457757,
         "gsa": 585.6690519771402,
         "vsa": 1139.8287738457757,
         "smiles": "OC(=O)OCC",
         "MolWt": 90.078,
         "MolLogP": 0.7009000000000001,
         "NumValenceElectrons": 36,
         "HeavyAtomCount": 6,
         "NOCount": 3,
         "NumAliphaticRings": 0,
         "NumAromaticRings": 0,
         "NumHAcceptors": 2,
         "NumHDonors": 1,
         "NumHeteroatoms": 3,
         "NumRotatableBonds": 1,
         "void_fraction": 0.07899,
         "void_volume [cm^3/g]": 0.0606999999999999,
         "functional_groups": "COOH-OEt",
         "metal_linker": 3,
         "organic_linker1": 4,
         "organic_linker2": 11,
         "topology": "pcu",
         "CO2/N2_selectivity": 22.86416611,
         "heat_adsorption_CO2_P0.15bar_T298K [kcal/mol]": 6.786041,
         "CO2_working_capacity [mL/g]": 105.2845017241596,
         "CID": 105349,
         "MolecularFormula": "C3H6O3",
         "MolecularWeight": 90.08,
         "InChI": "InChI=1S/C3H6O3/c1-2-6-3(4)5/h2H2,1H3,(H,4,5)",
         "InChIKey": "CQDGTJPVBWZJAZ-UHFFFAOYSA-N",
         "IUPACName": "ethyl hydrogen carbonate",
         "XLogP": 0.6,
         "ExactMass": 90.031694049,
         "MonoisotopicMass": 90.031694049,
         "TPSA": 46.5,
         "Complexity": 50,
         "Charge": 0,
         "HBondDonorCount": 1,
         "HBondAcceptorCount": 3,
         "RotatableBondCount": 2,
         "IsotopeAtomCount": 0,
         "AtomStereoCount": 0,
         "DefinedAtomStereoCount": 0,
         "UndefinedAtomStereoCount": 0,
         "BondStereoCount": 0,
         "DefinedBondStereoCount": 0,
         "UndefinedBondStereoCount": 0,
         "CovalentUnitCount": 1,
         "_deepnote_index_column": 0
        },
        {
         "MOFname": "mof_unit_2",
         "volume [A^3]": 2769.503842,
         "weight [u]": 2211.697211,
         "density [g/cm^3]": 1.3260901216521728,
         "surface_area [m^2/g]": 603.61,
         "gsa": 182.8391274724127,
         "vsa": 477.9933491501404,
         "smiles": "FOC",
         "MolWt": 50.032,
         "MolLogP": 0.5173,
         "NumValenceElectrons": 20,
         "HeavyAtomCount": 3,
         "NOCount": 1,
         "NumAliphaticRings": 0,
         "NumAromaticRings": 0,
         "NumHAcceptors": 1,
         "NumHDonors": 0,
         "NumHeteroatoms": 2,
         "NumRotatableBonds": 0,
         "void_fraction": 0.13794,
         "void_volume [cm^3/g]": 0.104,
         "functional_groups": "F-OMe",
         "metal_linker": 10,
         "organic_linker1": 44,
         "organic_linker2": 57,
         "topology": "etb",
         "CO2/N2_selectivity": 33.61678033,
         "heat_adsorption_CO2_P0.15bar_T298K [kcal/mol]": 7.147286,
         "CO2_working_capacity [mL/g]": 101.22477417834172,
         "CID": 142072,
         "MolecularFormula": "CH3FO",
         "MolecularWeight": 50.032,
         "InChI": "InChI=1S/CH3FO/c1-3-2/h1H3",
         "InChIKey": "XMSZANIMCDLNKA-UHFFFAOYSA-N",
         "IUPACName": "methyl hypofluorite",
         "XLogP": 0.6,
         "ExactMass": 50.016792877,
         "MonoisotopicMass": 50.016792877,
         "TPSA": 9.2,
         "Complexity": 4,
         "Charge": 0,
         "HBondDonorCount": 0,
         "HBondAcceptorCount": 2,
         "RotatableBondCount": 0,
         "IsotopeAtomCount": 0,
         "AtomStereoCount": 0,
         "DefinedAtomStereoCount": 0,
         "UndefinedAtomStereoCount": 0,
         "BondStereoCount": 0,
         "DefinedBondStereoCount": 0,
         "UndefinedBondStereoCount": 0,
         "CovalentUnitCount": 1,
         "_deepnote_index_column": 1
        },
        {
         "MOFname": "mof_unit_3",
         "volume [A^3]": 1089.818728,
         "weight [u]": 773.68796,
         "density [g/cm^3]": 1.1788564208802987,
         "surface_area [m^2/g]": 788.5,
         "gsa": 1704.5998324734685,
         "vsa": 1614.2123919024807,
         "smiles": "COC(=O)O",
         "MolWt": 76.051,
         "MolLogP": 0.3107999999999999,
         "NumValenceElectrons": 30,
         "HeavyAtomCount": 5,
         "NOCount": 3,
         "NumAliphaticRings": 0,
         "NumAromaticRings": 0,
         "NumHAcceptors": 2,
         "NumHDonors": 1,
         "NumHeteroatoms": 3,
         "NumRotatableBonds": 0,
         "void_fraction": 0.14874,
         "void_volume [cm^3/g]": 0.1262,
         "functional_groups": "OMe-COOH",
         "metal_linker": 2,
         "organic_linker1": 22,
         "organic_linker2": 24,
         "topology": "pcu",
         "CO2/N2_selectivity": 19.26372569,
         "heat_adsorption_CO2_P0.15bar_T298K [kcal/mol]": 6.347967,
         "CO2_working_capacity [mL/g]": 118.98701074687752,
         "CID": 78579,
         "MolecularFormula": "C2H4O3",
         "MolecularWeight": 76.05,
         "InChI": "InChI=1S/C2H4O3/c1-5-2(3)4/h1H3,(H,3,4)",
         "InChIKey": "CXHHBNMLPJOKQD-UHFFFAOYSA-N",
         "IUPACName": "methyl hydrogen carbonate",
         "XLogP": 0.2,
         "ExactMass": 76.016043985,
         "MonoisotopicMass": 76.016043985,
         "TPSA": 46.5,
         "Complexity": 40,
         "Charge": 0,
         "HBondDonorCount": 1,
         "HBondAcceptorCount": 3,
         "RotatableBondCount": 1,
         "IsotopeAtomCount": 0,
         "AtomStereoCount": 0,
         "DefinedAtomStereoCount": 0,
         "UndefinedAtomStereoCount": 0,
         "BondStereoCount": 0,
         "DefinedBondStereoCount": 0,
         "UndefinedBondStereoCount": 0,
         "CovalentUnitCount": 1,
         "_deepnote_index_column": 2
        },
        {
         "MOFname": "mof_unit_4",
         "volume [A^3]": 2205.1983010000004,
         "weight [u]": 1304.63872,
         "density [g/cm^3]": 0.982408148567134,
         "surface_area [m^2/g]": 1441.53,
         "gsa": 3925.613159996791,
         "vsa": 1911.5645822690333,
         "smiles": "S(=O)(=O)O",
         "MolWt": 82.08,
         "MolLogP": -0.9291999999999998,
         "NumValenceElectrons": 26,
         "HeavyAtomCount": 4,
         "NOCount": 3,
         "NumAliphaticRings": 0,
         "NumAromaticRings": 0,
         "NumHAcceptors": 2,
         "NumHDonors": 2,
         "NumHeteroatoms": 4,
         "NumRotatableBonds": 0,
         "void_fraction": 0.21814,
         "void_volume [cm^3/g]": 0.222,
         "functional_groups": "H-SO3H",
         "metal_linker": 9,
         "organic_linker1": 17,
         "organic_linker2": 24,
         "topology": "sra",
         "CO2/N2_selectivity": 25.70137692,
         "heat_adsorption_CO2_P0.15bar_T298K [kcal/mol]": 6.190085,
         "CO2_working_capacity [mL/g]": 187.62600449626183,
         "CID": 104748,
         "MolecularFormula": "HO3S-",
         "MolecularWeight": 81.07,
         "InChI": "InChI=1S/H2O3S/c1-4(2)3/h(H2,1,2,3)/p-1",
         "InChIKey": "LSNNMFCWUKXFEE-UHFFFAOYSA-M",
         "IUPACName": "hydrogen sulfite",
         "XLogP": -1,
         "ExactMass": 80.96464006,
         "MonoisotopicMass": 80.96464006,
         "TPSA": 79.6,
         "Complexity": 24,
         "Charge": -1,
         "HBondDonorCount": 1,
         "HBondAcceptorCount": 4,
         "RotatableBondCount": 0,
         "IsotopeAtomCount": 0,
         "AtomStereoCount": 0,
         "DefinedAtomStereoCount": 0,
         "UndefinedAtomStereoCount": 0,
         "BondStereoCount": 0,
         "DefinedBondStereoCount": 0,
         "UndefinedBondStereoCount": 0,
         "CovalentUnitCount": 1,
         "_deepnote_index_column": 3
        },
        {
         "MOFname": "mof_unit_5",
         "volume [A^3]": 1137.800963,
         "weight [u]": 901.73612,
         "density [g/cm^3]": 1.3160200644906643,
         "surface_area [m^2/g]": 277.7366563490379,
         "gsa": 197.6586345273903,
         "vsa": 277.7366563490379,
         "smiles": "CNO",
         "MolWt": 47.057,
         "MolLogP": -0.4049999999999999,
         "NumValenceElectrons": 20,
         "HeavyAtomCount": 3,
         "NOCount": 2,
         "NumAliphaticRings": 0,
         "NumAromaticRings": 0,
         "NumHAcceptors": 2,
         "NumHDonors": 2,
         "NumHeteroatoms": 2,
         "NumRotatableBonds": 0,
         "void_fraction": 0.07778,
         "void_volume [cm^3/g]": 0.0591,
         "functional_groups": "NHMe-OH",
         "metal_linker": 2,
         "organic_linker1": 1,
         "organic_linker2": 22,
         "topology": "pcu",
         "CO2/N2_selectivity": 30.00183795,
         "heat_adsorption_CO2_P0.15bar_T298K [kcal/mol]": 6.478063,
         "CO2_working_capacity [mL/g]": 79.21000065588353,
         "CID": 11647,
         "MolecularFormula": "CH5NO",
         "MolecularWeight": 47.057,
         "InChI": "InChI=1S/CH5NO/c1-2-3/h2-3H,1H3",
         "InChIKey": "CPQCSJYYDADLCZ-UHFFFAOYSA-N",
         "IUPACName": "N-methylhydroxylamine",
         "XLogP": -0.7,
         "ExactMass": 47.037113783,
         "MonoisotopicMass": 47.037113783,
         "TPSA": 32.3,
         "Complexity": 4,
         "Charge": 0,
         "HBondDonorCount": 2,
         "HBondAcceptorCount": 2,
         "RotatableBondCount": 0,
         "IsotopeAtomCount": 0,
         "AtomStereoCount": 0,
         "DefinedAtomStereoCount": 0,
         "UndefinedAtomStereoCount": 0,
         "BondStereoCount": 0,
         "DefinedBondStereoCount": 0,
         "UndefinedBondStereoCount": 0,
         "CovalentUnitCount": 1,
         "_deepnote_index_column": 4
        }
       ],
       "rows_bottom": null
      },
      "text/plain": "      MOFname  volume [A^3]   weight [u]  density [g/cm^3]  \\\n0  mof_unit_1   1116.667429   875.240600          1.301526   \n1  mof_unit_2   2769.503842  2211.697211          1.326090   \n2  mof_unit_3   1089.818728   773.687960          1.178856   \n3  mof_unit_4   2205.198301  1304.638720          0.982408   \n4  mof_unit_5   1137.800963   901.736120          1.316020   \n\n   surface_area [m^2/g]          gsa          vsa      smiles   MolWt  \\\n0           1139.828774   585.669052  1139.828774   OC(=O)OCC  90.078   \n1            603.610000   182.839127   477.993349         FOC  50.032   \n2            788.500000  1704.599832  1614.212392    COC(=O)O  76.051   \n3           1441.530000  3925.613160  1911.564582  S(=O)(=O)O  82.080   \n4            277.736656   197.658635   277.736656         CNO  47.057   \n\n   MolLogP  ...  HBondAcceptorCount  RotatableBondCount  IsotopeAtomCount  \\\n0   0.7009  ...                 3.0                 2.0               0.0   \n1   0.5173  ...                 2.0                 0.0               0.0   \n2   0.3108  ...                 3.0                 1.0               0.0   \n3  -0.9292  ...                 4.0                 0.0               0.0   \n4  -0.4050  ...                 2.0                 0.0               0.0   \n\n   AtomStereoCount  DefinedAtomStereoCount  UndefinedAtomStereoCount  \\\n0              0.0                     0.0                       0.0   \n1              0.0                     0.0                       0.0   \n2              0.0                     0.0                       0.0   \n3              0.0                     0.0                       0.0   \n4              0.0                     0.0                       0.0   \n\n   BondStereoCount  DefinedBondStereoCount  UndefinedBondStereoCount  \\\n0              0.0                     0.0                       0.0   \n1              0.0                     0.0                       0.0   \n2              0.0                     0.0                       0.0   \n3              0.0                     0.0                       0.0   \n4              0.0                     0.0                       0.0   \n\n   CovalentUnitCount  \n0                1.0  \n1                1.0  \n2                1.0  \n3                1.0  \n4                1.0  \n\n[5 rows x 52 columns]",
      "text/html": "<div>\n<style scoped>\n    .dataframe tbody tr th:only-of-type {\n        vertical-align: middle;\n    }\n\n    .dataframe tbody tr th {\n        vertical-align: top;\n    }\n\n    .dataframe thead th {\n        text-align: right;\n    }\n</style>\n<table border=\"1\" class=\"dataframe\">\n  <thead>\n    <tr style=\"text-align: right;\">\n      <th></th>\n      <th>MOFname</th>\n      <th>volume [A^3]</th>\n      <th>weight [u]</th>\n      <th>density [g/cm^3]</th>\n      <th>surface_area [m^2/g]</th>\n      <th>gsa</th>\n      <th>vsa</th>\n      <th>smiles</th>\n      <th>MolWt</th>\n      <th>MolLogP</th>\n      <th>...</th>\n      <th>HBondAcceptorCount</th>\n      <th>RotatableBondCount</th>\n      <th>IsotopeAtomCount</th>\n      <th>AtomStereoCount</th>\n      <th>DefinedAtomStereoCount</th>\n      <th>UndefinedAtomStereoCount</th>\n      <th>BondStereoCount</th>\n      <th>DefinedBondStereoCount</th>\n      <th>UndefinedBondStereoCount</th>\n      <th>CovalentUnitCount</th>\n    </tr>\n  </thead>\n  <tbody>\n    <tr>\n      <th>0</th>\n      <td>mof_unit_1</td>\n      <td>1116.667429</td>\n      <td>875.240600</td>\n      <td>1.301526</td>\n      <td>1139.828774</td>\n      <td>585.669052</td>\n      <td>1139.828774</td>\n      <td>OC(=O)OCC</td>\n      <td>90.078</td>\n      <td>0.7009</td>\n      <td>...</td>\n      <td>3.0</td>\n      <td>2.0</td>\n      <td>0.0</td>\n      <td>0.0</td>\n      <td>0.0</td>\n      <td>0.0</td>\n      <td>0.0</td>\n      <td>0.0</td>\n      <td>0.0</td>\n      <td>1.0</td>\n    </tr>\n    <tr>\n      <th>1</th>\n      <td>mof_unit_2</td>\n      <td>2769.503842</td>\n      <td>2211.697211</td>\n      <td>1.326090</td>\n      <td>603.610000</td>\n      <td>182.839127</td>\n      <td>477.993349</td>\n      <td>FOC</td>\n      <td>50.032</td>\n      <td>0.5173</td>\n      <td>...</td>\n      <td>2.0</td>\n      <td>0.0</td>\n      <td>0.0</td>\n      <td>0.0</td>\n      <td>0.0</td>\n      <td>0.0</td>\n      <td>0.0</td>\n      <td>0.0</td>\n      <td>0.0</td>\n      <td>1.0</td>\n    </tr>\n    <tr>\n      <th>2</th>\n      <td>mof_unit_3</td>\n      <td>1089.818728</td>\n      <td>773.687960</td>\n      <td>1.178856</td>\n      <td>788.500000</td>\n      <td>1704.599832</td>\n      <td>1614.212392</td>\n      <td>COC(=O)O</td>\n      <td>76.051</td>\n      <td>0.3108</td>\n      <td>...</td>\n      <td>3.0</td>\n      <td>1.0</td>\n      <td>0.0</td>\n      <td>0.0</td>\n      <td>0.0</td>\n      <td>0.0</td>\n      <td>0.0</td>\n      <td>0.0</td>\n      <td>0.0</td>\n      <td>1.0</td>\n    </tr>\n    <tr>\n      <th>3</th>\n      <td>mof_unit_4</td>\n      <td>2205.198301</td>\n      <td>1304.638720</td>\n      <td>0.982408</td>\n      <td>1441.530000</td>\n      <td>3925.613160</td>\n      <td>1911.564582</td>\n      <td>S(=O)(=O)O</td>\n      <td>82.080</td>\n      <td>-0.9292</td>\n      <td>...</td>\n      <td>4.0</td>\n      <td>0.0</td>\n      <td>0.0</td>\n      <td>0.0</td>\n      <td>0.0</td>\n      <td>0.0</td>\n      <td>0.0</td>\n      <td>0.0</td>\n      <td>0.0</td>\n      <td>1.0</td>\n    </tr>\n    <tr>\n      <th>4</th>\n      <td>mof_unit_5</td>\n      <td>1137.800963</td>\n      <td>901.736120</td>\n      <td>1.316020</td>\n      <td>277.736656</td>\n      <td>197.658635</td>\n      <td>277.736656</td>\n      <td>CNO</td>\n      <td>47.057</td>\n      <td>-0.4050</td>\n      <td>...</td>\n      <td>2.0</td>\n      <td>0.0</td>\n      <td>0.0</td>\n      <td>0.0</td>\n      <td>0.0</td>\n      <td>0.0</td>\n      <td>0.0</td>\n      <td>0.0</td>\n      <td>0.0</td>\n      <td>1.0</td>\n    </tr>\n  </tbody>\n</table>\n<p>5 rows × 52 columns</p>\n</div>"
     },
     "metadata": {}
    }
   ]
  },
  {
   "cell_type": "code",
   "metadata": {
    "tags": [],
    "cell_id": "00026-104c2460-7318-4a49-80d3-ca45aeb45f2f",
    "deepnote_to_be_reexecuted": false,
    "source_hash": "33b54c92",
    "execution_start": 1634226238369,
    "execution_millis": 22350,
    "output_cleared": true,
    "deepnote_cell_type": "code"
   },
   "source": "# loading train data set in dataframe from train_data.csv file\n#df = pd.read_csv(\"train_data.csv\")\n \n# getting target data from the dataframe\n#target = df[\"target\"]\n \n# getting train data from the dataframe\n#train = df.drop(\"target\")\n \n# Splitting between train data into training and validation dataset\n#X_train, X_test, y_train, y_test = train_test_split(\n    #train, target, test_size=0.20)\n \n# initializing all the model objects with default parameters\nmodel_1 = LinearRegression()\n#model_1 = AdaBoostRegressor(base_estimator= DecisionTreeRegressor(max_depth=300), n_estimators=200, random_state=139)\nmodel_2 = xgb.XGBRegressor()\nmodel_3 = RandomForestRegressor()\nmodel_4 = neighbors.KNeighborsRegressor(n_neighbors = 6, weights = 'distance', algorithm= 'ball_tree', leaf_size=40)\n# training all the model on the training dataset\nmodel_1.fit(x_train, y)\nmodel_2.fit(x_train, y)\nmodel_3.fit(x_train, y)\n \n",
   "execution_count": null,
   "outputs": []
  },
  {
   "cell_type": "code",
   "metadata": {
    "tags": [],
    "cell_id": "00029-f621479b-5b85-42de-8624-6c341f8df345",
    "deepnote_to_be_reexecuted": false,
    "source_hash": "54163193",
    "execution_start": 1634226282981,
    "execution_millis": 133939,
    "output_cleared": true,
    "deepnote_cell_type": "code"
   },
   "source": "# initializing all the model objects with default parameters\nmodel_1 = LinearRegression()\n#model_1 = AdaBoostRegressor(base_estimator= DecisionTreeRegressor(max_depth=300), n_estimators=200, random_state=139)\nmodel_2 = xgb.XGBRegressor()\nmodel_3 = RandomForestRegressor()\n \n# training all the model on the training dataset\nmodel_1.fit(x_train, y)\nmodel_2.fit(x_train, y)\nmodel_3.fit(x_train, y)\n# predicting the output on the validation dataset\npred_1 = model_1.predict(x_test)\npred_2 = model_2.predict(x_test)\npred_3 = model_3.predict(x_test)\n \n# final prediction after averaging on the prediction of all 3 models\npred_final = (pred_1+pred_2+pred_3)/3.0\n \n# printing the root mean squared error between real value and predicted value\n#print(mean_squared_error(y, pred_final))\nmae_k32 = mean_absolute_error(y_true=yval,y_pred=pred_final)\nmath.log10(mae_k32)\n#1.9",
   "execution_count": null,
   "outputs": []
  },
  {
   "cell_type": "code",
   "metadata": {
    "tags": [],
    "cell_id": "00030-e5e90a6f-e53c-4212-846d-1323d0707604",
    "allow_embed": false,
    "deepnote_to_be_reexecuted": false,
    "source_hash": "4df92417",
    "execution_start": 1634229591917,
    "execution_millis": 169050,
    "output_cleared": true,
    "deepnote_cell_type": "code"
   },
   "source": "model_1 = LinearRegression()\n#model_1 = AdaBoostRegressor(base_estimator= DecisionTreeRegressor(max_depth=300), n_estimators=200, random_state=139)\n#model_2 = xgb.XGBRegressor()\nmodel_3 = RandomForestRegressor()\nmodel_4 = neighbors.KNeighborsRegressor(n_neighbors = 6, weights = 'distance', algorithm= 'ball_tree', leaf_size=40)\n\n# training all the model on the training dataset\nmodel_1.fit(X, y)\nmodel_3.fit(X, y)\nmodel_4.fit(X, y)\n \n# predicting the output on the validation dataset\npred_1 = model_1.predict(Xval)\n#pred_2 = model_2.predict(Xval)\npred_3 = model_3.predict(Xval)\npred_4 = model_4.predict(Xval)\n\n# final prediction after averaging on the prediction of all 3 models\npred_final = (pred_1+pred_3+pred_4)/3.0\n \n# printing the root mean squared error between real value and predicted value\n#print(mean_squared_error(y, pred_final))\nmae_k32 = mean_absolute_error(y_true=yval,y_pred=pred_final)\nmath.log10(mae_k32)\n#1.4022980679450625",
   "execution_count": null,
   "outputs": []
  },
  {
   "cell_type": "code",
   "metadata": {
    "tags": [],
    "cell_id": "00032-d91f09e6-ddd8-4bde-a439-74ba98aa75c3",
    "allow_embed": false,
    "deepnote_to_be_reexecuted": false,
    "source_hash": "fb5fd3a8",
    "execution_start": 1634230087815,
    "execution_millis": 448030,
    "output_cleared": true,
    "deepnote_cell_type": "code"
   },
   "source": "#model_1 = LinearRegression()\nmodel_1 = AdaBoostRegressor(base_estimator= DecisionTreeRegressor(max_depth=300), n_estimators=200, random_state=139)\n#model_2 = xgb.XGBRegressor()\nmodel_3 = RandomForestRegressor()\nmodel_4 = neighbors.KNeighborsRegressor(n_neighbors = 6, weights = 'distance', algorithm= 'ball_tree', leaf_size=40)\n\n# training all the model on the training dataset\nmodel_1.fit(X, y)\nmodel_3.fit(X, y)\nmodel_4.fit(X, y)\n \n# predicting the output on the validation dataset\npred_1 = model_1.predict(Xval)\n#pred_2 = model_2.predict(Xval)\npred_3 = model_3.predict(Xval)\npred_4 = model_4.predict(Xval)\n\n# final prediction after averaging on the prediction of all 3 models\npred_final = (pred_1+pred_3+pred_4)/3.0\n \n# printing the root mean squared error between real value and predicted value\n#print(mean_squared_error(y, pred_final))\nmae_k32 = mean_absolute_error(y_true=yval,y_pred=pred_final)\nmath.log10(mae_k32)\n#1.3384496213994015",
   "execution_count": null,
   "outputs": []
  },
  {
   "cell_type": "code",
   "metadata": {
    "tags": [],
    "cell_id": "00033-c297404c-827e-4ec5-9441-4d90d8e16757",
    "allow_embed": false,
    "deepnote_to_be_reexecuted": false,
    "source_hash": "f84ea993",
    "execution_start": 1634235060717,
    "execution_millis": 418390,
    "output_cleared": true,
    "deepnote_cell_type": "code"
   },
   "source": "#model_1 = LinearRegression()\nmodel_1 = AdaBoostRegressor(base_estimator= DecisionTreeRegressor(max_depth=300), n_estimators=200, random_state=139)\n#model_2 = xgb.XGBRegressor()\nmodel_3 = RandomForestRegressor()\nmodel_4 = neighbors.KNeighborsRegressor(n_neighbors = 6, weights = 'distance', algorithm= 'ball_tree', leaf_size=50)\n\n# training all the model on the training dataset\nmodel_1.fit(X, y)\nmodel_3.fit(X, y)\nmodel_4.fit(X, y)\n \n# predicting the output on the validation dataset\npred_1 = model_1.predict(Xval)\n#pred_2 = model_2.predict(Xval)\npred_3 = model_3.predict(Xval)\npred_4 = model_4.predict(Xval)\n\n# final prediction after averaging on the prediction of all 3 models\npred_final = (pred_1+pred_3+pred_4)/3.0\n \n# printing the root mean squared error between real value and predicted value\n#print(mean_squared_error(y, pred_final))\nmae_k32 = mean_absolute_error(y_true=yval,y_pred=pred_final)\nmath.log10(mae_k32)\n#1.3383549191224315 depth=250\n#1.3382672147382932 depth=300",
   "execution_count": null,
   "outputs": []
  },
  {
   "cell_type": "code",
   "metadata": {
    "tags": [],
    "cell_id": "00034-750a03ae-430b-40fe-aeee-311b45fe1e1e",
    "allow_embed": false,
    "deepnote_to_be_reexecuted": false,
    "source_hash": "194a1e2b",
    "output_cleared": false,
    "execution_start": 1634395190060,
    "execution_millis": 627043,
    "deepnote_cell_type": "code"
   },
   "source": "#model_1 = LinearRegression()\nmodel_1 = AdaBoostRegressor(base_estimator= DecisionTreeRegressor(max_depth=300), n_estimators=200, random_state=139)\n#model_2 = xgb.XGBRegressor()\nmodel_3 = RandomForestRegressor()\nmodel_4 = neighbors.KNeighborsRegressor(n_neighbors = 6, weights = 'distance', algorithm= 'kd_tree', leaf_size=50)\n\n# training all the model on the training dataset\nmodel_1.fit(X, train_y)\nmodel_3.fit(X, train_y)\nmodel_4.fit(X, train_y)\n \n# predicting the output on the validation dataset\n#pred_1 = model_1.predict(Xval)\n#pred_2 = model_2.predict(Xval)\n#pred_3 = model_3.predict(Xval)\n#pred_4 = model_4.predict(Xval)\n\n# final prediction after averaging on the prediction of all 3 models\n#pred_final = (pred_1+pred_3+pred_4)/3.0\n \n# printing the root mean squared error between real value and predicted value\n#print(mean_squared_error(y, pred_final))\n#mae_k32 = mean_absolute_error(y_true=yval,y_pred=pred_final)\n#math.log10(mae_k32)\n",
   "outputs": [
    {
     "output_type": "execute_result",
     "execution_count": 19,
     "data": {
      "text/plain": "KNeighborsRegressor(algorithm='kd_tree', leaf_size=50, n_neighbors=6,\n                    weights='distance')"
     },
     "metadata": {}
    }
   ],
   "execution_count": null
  },
  {
   "cell_type": "code",
   "metadata": {
    "tags": [],
    "cell_id": "00035-0bb5c0e8-5dff-473b-a7cb-527a3dcb88d9",
    "allow_embed": false,
    "deepnote_to_be_reexecuted": false,
    "source_hash": "74197551",
    "output_cleared": false,
    "execution_start": 1634321084554,
    "execution_millis": 350116,
    "deepnote_cell_type": "code"
   },
   "source": "#model_1 = LinearRegression()\nmodel_1 = AdaBoostRegressor(base_estimator= DecisionTreeRegressor(max_depth=300), n_estimators=200, random_state=139)\n#model_2 = xgb.XGBRegressor()\nmodel_3 = RandomForestRegressor(n_estimators=200, criterion='squared_error', max_depth=300, random_state=123)\nmodel_4 = neighbors.KNeighborsRegressor(n_neighbors = 6, weights = 'distance', algorithm= 'brute', leaf_size=50)\n\n# training all the model on the training dataset\nmodel_1.fit(X, y)\nmodel_3.fit(X, y)\nmodel_4.fit(X, y)\n \n# predicting the output on the validation dataset\npred_1 = model_1.predict(Xval)\n#pred_2 = model_2.predict(Xval)\npred_3 = model_3.predict(Xval)\npred_4 = model_4.predict(Xval)\n\n# final prediction after averaging on the prediction of all 3 models\npred_final = (pred_1+pred_3+pred_4)/3.0\n \n# printing the root mean squared error between real value and predicted value\n#print(mean_squared_error(y, pred_final))\nmae_k32 = mean_absolute_error(y_true=yval,y_pred=pred_final)\nmath.log10(mae_k32)\n",
   "execution_count": null,
   "outputs": [
    {
     "output_type": "error",
     "ename": "KernelInterrupted",
     "evalue": "Execution interrupted by the Jupyter kernel.",
     "traceback": [
      "\u001b[0;31m---------------------------------------------------------------------------\u001b[0m",
      "\u001b[0;31mKernelInterrupted\u001b[0m: Execution interrupted by the Jupyter kernel."
     ]
    }
   ]
  },
  {
   "cell_type": "markdown",
   "source": "# ของเจน",
   "metadata": {
    "tags": [],
    "is_collapsed": false,
    "cell_id": "00036-9dd0f27c-363e-4fb4-8b5c-bc2e3e73f463",
    "deepnote_cell_type": "text-cell-h1"
   }
  },
  {
   "cell_type": "code",
   "source": "model = AdaBoostRegressor(base_estimator = DecisionTreeRegressor(max_depth=300),n_estimators = 500, random_state = 139)\nmodel.fit(X,train_y)\npredict = model.predict(test_x)",
   "metadata": {
    "tags": [],
    "cell_id": "00037-20da8cba-ebb2-40a0-8c3c-8e93be14276b",
    "deepnote_to_be_reexecuted": false,
    "source_hash": "3b0c2b67",
    "execution_start": 1634384751514,
    "execution_millis": 784747,
    "deepnote_cell_type": "code"
   },
   "outputs": [
    {
     "name": "stderr",
     "text": "/shared-libs/python3.7/py/lib/python3.7/site-packages/sklearn/base.py:435: UserWarning: X has feature names, but AdaBoostRegressor was fitted without feature names\n  f\"X has feature names, but {self.__class__.__name__} was fitted without\"\n",
     "output_type": "stream"
    }
   ],
   "execution_count": null
  },
  {
   "cell_type": "markdown",
   "source": "# Submission",
   "metadata": {
    "tags": [],
    "is_collapsed": false,
    "cell_id": "00018-1077d9bf-cb0c-4110-8c2e-ef7ed38be2be",
    "deepnote_cell_type": "text-cell-h1"
   }
  },
  {
   "cell_type": "code",
   "metadata": {
    "tags": [],
    "cell_id": "00020-a157e65a-40a9-462e-b20e-18679f6ff760",
    "deepnote_to_be_reexecuted": false,
    "source_hash": "1418dc7b",
    "execution_start": 1634386725174,
    "execution_millis": 38,
    "deepnote_cell_type": "code"
   },
   "source": "x_train_scaled = sc.fit_transform(X)\nx_train = pd.DataFrame(x_train_scaled)\n\n#x_test_scaled = sc.fit_transform(Xval)\n#x_test = pd.DataFrame(x_test_scaled)",
   "outputs": [
    {
     "name": "stderr",
     "text": "/shared-libs/python3.7/py/lib/python3.7/site-packages/sklearn/base.py:442: UserWarning: X does not have valid feature names, but StandardScaler was fitted with feature names\n  \"X does not have valid feature names, but\"\n",
     "output_type": "stream"
    }
   ],
   "execution_count": null
  },
  {
   "cell_type": "code",
   "source": "pretest.shape",
   "metadata": {
    "tags": [],
    "cell_id": "00040-b8bb3e3d-60df-4681-a079-43c6d3c22159",
    "deepnote_to_be_reexecuted": false,
    "source_hash": "b1d4f2a2",
    "execution_start": 1634388337906,
    "execution_millis": 5,
    "deepnote_cell_type": "code"
   },
   "outputs": [
    {
     "output_type": "execute_result",
     "execution_count": 45,
     "data": {
      "text/plain": "(17000, 49)"
     },
     "metadata": {}
    }
   ],
   "execution_count": null
  },
  {
   "cell_type": "code",
   "metadata": {
    "tags": [],
    "cell_id": "00022-3eed982a-255b-407a-89fc-b396dfb94e1e",
    "deepnote_to_be_reexecuted": false,
    "source_hash": "5a2d7a2b",
    "execution_start": 1634395968031,
    "execution_millis": 0,
    "deepnote_cell_type": "code"
   },
   "source": "for col in ['metal_linker', 'organic_linker1', 'organic_linker2']:\n    pretest[col] = pretest[col].astype('category')\nXtest= pretest.drop(columns=['functional_groups','MOFname','smiles','MolecularFormula','CID','InChI','InChIKey','IUPACName'])",
   "outputs": [],
   "execution_count": null
  },
  {
   "cell_type": "code",
   "metadata": {
    "tags": [],
    "cell_id": "00023-0ab8e65e-b8f0-4894-9fab-ce7aa89b792a",
    "deepnote_to_be_reexecuted": false,
    "source_hash": "3477473",
    "execution_start": 1634395980345,
    "execution_millis": 1,
    "deepnote_cell_type": "code"
   },
   "source": "Xtest = pd.get_dummies(Xtest)\nXtest_column = Xtest.columns",
   "outputs": [],
   "execution_count": null
  },
  {
   "cell_type": "code",
   "metadata": {
    "tags": [],
    "cell_id": "00024-748c8822-efad-429d-a82a-efa0a4fa64dc",
    "deepnote_to_be_reexecuted": false,
    "source_hash": "3bdcc4f1",
    "execution_start": 1634395985267,
    "execution_millis": 67,
    "deepnote_cell_type": "code"
   },
   "source": "l = []\nfor col in train_x_column:\n    if col not in Xtest_column:\n        l.append(col)\nlistofzeros = [0] *17000\nfor col in l:\n    Xtest[col]= listofzeros\nXtest.shape",
   "outputs": [
    {
     "output_type": "execute_result",
     "execution_count": 22,
     "data": {
      "text/plain": "(17000, 169)"
     },
     "metadata": {}
    }
   ],
   "execution_count": null
  },
  {
   "cell_type": "code",
   "metadata": {
    "tags": [],
    "cell_id": "00025-7c01de06-6a0c-4565-95bf-9f4a41cc64b8",
    "deepnote_to_be_reexecuted": false,
    "source_hash": "3d8a156",
    "execution_start": 1634396008003,
    "execution_millis": 7,
    "deepnote_cell_type": "code"
   },
   "source": "Xtest = Xtest.reindex(columns = train_x_column)",
   "outputs": [],
   "execution_count": null
  },
  {
   "cell_type": "code",
   "metadata": {
    "tags": [],
    "cell_id": "00026-5d778dd4-6f9a-4b99-bc25-5cd2a9ccbfea",
    "deepnote_to_be_reexecuted": false,
    "source_hash": "994fa892",
    "execution_start": 1634396025459,
    "execution_millis": 22,
    "deepnote_cell_type": "code"
   },
   "source": "#scaler = MinMaxScaler(feature_range=(0, 1))\n#Xtest = scaler.fit_transform (Xtest)\n\nXtest = sc.transform(Xtest) \n",
   "outputs": [],
   "execution_count": null
  },
  {
   "cell_type": "code",
   "metadata": {
    "tags": [],
    "cell_id": "00027-46c18065-1c46-4960-abb3-d9d5e73b0818",
    "deepnote_to_be_reexecuted": false,
    "source_hash": "e82973f2",
    "execution_start": 1634396073356,
    "execution_millis": 265726,
    "deepnote_cell_type": "code"
   },
   "source": "#pred_fi = model.predict(Xtest)\n\n\n# predicting the output on the validation dataset\npred_1 = model_1.predict(Xtest)\n#pred_2 = model_2.predict(Xval)\npred_3 = model_3.predict(Xtest)\npred_4 = model_4.predict(Xtest)\n\n# final prediction after averaging on the prediction of all 3 models\npred_final = (pred_1+pred_3+pred_4)/3.0\n",
   "outputs": [],
   "execution_count": null
  },
  {
   "cell_type": "code",
   "source": "pred_fi = model.predict(Xtest)",
   "metadata": {
    "tags": [],
    "cell_id": "00046-af8c9ae2-1a11-4dcf-b222-7c32266e3181",
    "deepnote_to_be_reexecuted": false,
    "source_hash": "1458a59e",
    "execution_start": 1634396383013,
    "execution_millis": 3543,
    "deepnote_cell_type": "code"
   },
   "outputs": [
    {
     "output_type": "error",
     "ename": "NameError",
     "evalue": "name 'model' is not defined",
     "traceback": [
      "\u001b[0;31m---------------------------------------------------------------------------\u001b[0m",
      "\u001b[0;31mNameError\u001b[0m                                 Traceback (most recent call last)",
      "\u001b[0;32m<ipython-input-26-ffa5917ce3df>\u001b[0m in \u001b[0;36m<module>\u001b[0;34m\u001b[0m\n\u001b[0;32m----> 1\u001b[0;31m \u001b[0mpred_fi\u001b[0m \u001b[0;34m=\u001b[0m \u001b[0mmodel\u001b[0m\u001b[0;34m.\u001b[0m\u001b[0mpredict\u001b[0m\u001b[0;34m(\u001b[0m\u001b[0mXtest\u001b[0m\u001b[0;34m)\u001b[0m\u001b[0;34m\u001b[0m\u001b[0;34m\u001b[0m\u001b[0m\n\u001b[0m",
      "\u001b[0;31mNameError\u001b[0m: name 'model' is not defined"
     ]
    }
   ],
   "execution_count": null
  },
  {
   "cell_type": "code",
   "metadata": {
    "tags": [],
    "cell_id": "00027-6d2871bb-b713-4386-b2e6-9e2622335739",
    "deepnote_to_be_reexecuted": false,
    "source_hash": "f5d7999",
    "execution_start": 1634396408382,
    "execution_millis": 5,
    "deepnote_cell_type": "code"
   },
   "source": "pred_final",
   "outputs": [
    {
     "output_type": "execute_result",
     "execution_count": 27,
     "data": {
      "text/plain": "array([164.54281298,  64.78346305,  74.75812205, ...,   1.86838955,\n         3.50443364,  -4.14549746])"
     },
     "metadata": {}
    }
   ],
   "execution_count": null
  },
  {
   "cell_type": "code",
   "metadata": {
    "tags": [],
    "cell_id": "00020-0234ee9a-06f3-45a7-b07c-cbba04cdf26f",
    "deepnote_to_be_reexecuted": false,
    "source_hash": "88849017",
    "execution_start": 1634396486511,
    "execution_millis": 63,
    "deepnote_cell_type": "code"
   },
   "source": "df = pd.DataFrame()\ndf['id'] = pretest['MOFname']\ndf['CO2_working_capacity [mL/g]'] = pred_final\ndf['id'] = df['id'].apply(lambda x:x.replace(\"mof_unit_\",\"\"))\ndf",
   "outputs": [
    {
     "output_type": "execute_result",
     "execution_count": 30,
     "data": {
      "application/vnd.deepnote.dataframe.v2+json": {
       "row_count": 17000,
       "column_count": 2,
       "columns": [
        {
         "name": "id",
         "dtype": "object",
         "stats": {
          "unique_count": 17000,
          "nan_count": 0,
          "categories": [
           {
            "name": "68614",
            "count": 1
           },
           {
            "name": "68615",
            "count": 1
           },
           {
            "name": "16998 others",
            "count": 16998
           }
          ]
         }
        },
        {
         "name": "CO2_working_capacity [mL/g]",
         "dtype": "float64",
         "stats": {
          "unique_count": 17000,
          "nan_count": 0,
          "min": "-18.462249743059633",
          "max": "567.4586404629343",
          "histogram": [
           {
            "bin_start": -18.462249743059633,
            "bin_end": 40.12983927753976,
            "count": 2279
           },
           {
            "bin_start": 40.12983927753976,
            "bin_end": 98.72192829813916,
            "count": 7022
           },
           {
            "bin_start": 98.72192829813916,
            "bin_end": 157.31401731873856,
            "count": 4414
           },
           {
            "bin_start": 157.31401731873856,
            "bin_end": 215.90610633933795,
            "count": 1855
           },
           {
            "bin_start": 215.90610633933795,
            "bin_end": 274.4981953599373,
            "count": 927
           },
           {
            "bin_start": 274.4981953599373,
            "bin_end": 333.09028438053673,
            "count": 268
           },
           {
            "bin_start": 333.09028438053673,
            "bin_end": 391.6823734011361,
            "count": 142
           },
           {
            "bin_start": 391.6823734011361,
            "bin_end": 450.2744624217355,
            "count": 63
           },
           {
            "bin_start": 450.2744624217355,
            "bin_end": 508.8665514423349,
            "count": 15
           },
           {
            "bin_start": 508.8665514423349,
            "bin_end": 567.4586404629343,
            "count": 15
           }
          ]
         }
        },
        {
         "name": "_deepnote_index_column",
         "dtype": "int64"
        }
       ],
       "rows_top": [
        {
         "id": "68614",
         "CO2_working_capacity [mL/g]": 164.54281297829158,
         "_deepnote_index_column": 0
        },
        {
         "id": "68615",
         "CO2_working_capacity [mL/g]": 64.78346305031987,
         "_deepnote_index_column": 1
        },
        {
         "id": "68616",
         "CO2_working_capacity [mL/g]": 74.75812205287195,
         "_deepnote_index_column": 2
        },
        {
         "id": "68617",
         "CO2_working_capacity [mL/g]": 66.92741724009484,
         "_deepnote_index_column": 3
        },
        {
         "id": "68618",
         "CO2_working_capacity [mL/g]": 68.18873783573223,
         "_deepnote_index_column": 4
        },
        {
         "id": "68619",
         "CO2_working_capacity [mL/g]": 63.16174331138526,
         "_deepnote_index_column": 5
        },
        {
         "id": "68620",
         "CO2_working_capacity [mL/g]": 148.18113148722108,
         "_deepnote_index_column": 6
        },
        {
         "id": "68621",
         "CO2_working_capacity [mL/g]": 197.8906440517359,
         "_deepnote_index_column": 7
        },
        {
         "id": "68622",
         "CO2_working_capacity [mL/g]": 80.43958819806518,
         "_deepnote_index_column": 8
        },
        {
         "id": "68623",
         "CO2_working_capacity [mL/g]": 175.3857451918735,
         "_deepnote_index_column": 9
        },
        {
         "id": "68624",
         "CO2_working_capacity [mL/g]": 70.3153153780185,
         "_deepnote_index_column": 10
        },
        {
         "id": "68625",
         "CO2_working_capacity [mL/g]": 79.60844611751652,
         "_deepnote_index_column": 11
        },
        {
         "id": "68626",
         "CO2_working_capacity [mL/g]": 279.7767563326588,
         "_deepnote_index_column": 12
        },
        {
         "id": "68627",
         "CO2_working_capacity [mL/g]": 209.83752651683025,
         "_deepnote_index_column": 13
        },
        {
         "id": "68628",
         "CO2_working_capacity [mL/g]": 93.02505652096943,
         "_deepnote_index_column": 14
        },
        {
         "id": "68629",
         "CO2_working_capacity [mL/g]": 141.3833587218102,
         "_deepnote_index_column": 15
        },
        {
         "id": "68630",
         "CO2_working_capacity [mL/g]": 67.6465409257508,
         "_deepnote_index_column": 16
        },
        {
         "id": "68631",
         "CO2_working_capacity [mL/g]": 64.80711731633455,
         "_deepnote_index_column": 17
        },
        {
         "id": "68632",
         "CO2_working_capacity [mL/g]": 123.23130366661405,
         "_deepnote_index_column": 18
        },
        {
         "id": "68633",
         "CO2_working_capacity [mL/g]": 74.28114624531146,
         "_deepnote_index_column": 19
        },
        {
         "id": "68634",
         "CO2_working_capacity [mL/g]": 208.44015791496813,
         "_deepnote_index_column": 20
        },
        {
         "id": "68635",
         "CO2_working_capacity [mL/g]": 118.53595946980677,
         "_deepnote_index_column": 21
        },
        {
         "id": "68636",
         "CO2_working_capacity [mL/g]": 93.50027679083179,
         "_deepnote_index_column": 22
        },
        {
         "id": "68637",
         "CO2_working_capacity [mL/g]": 85.31802520143232,
         "_deepnote_index_column": 23
        },
        {
         "id": "68638",
         "CO2_working_capacity [mL/g]": 252.49869916103216,
         "_deepnote_index_column": 24
        },
        {
         "id": "68639",
         "CO2_working_capacity [mL/g]": 134.78942504510772,
         "_deepnote_index_column": 25
        },
        {
         "id": "68640",
         "CO2_working_capacity [mL/g]": 110.23566038428095,
         "_deepnote_index_column": 26
        },
        {
         "id": "68641",
         "CO2_working_capacity [mL/g]": 212.78802344438887,
         "_deepnote_index_column": 27
        },
        {
         "id": "68642",
         "CO2_working_capacity [mL/g]": 69.51402553255403,
         "_deepnote_index_column": 28
        },
        {
         "id": "68643",
         "CO2_working_capacity [mL/g]": 76.31267965767692,
         "_deepnote_index_column": 29
        },
        {
         "id": "68644",
         "CO2_working_capacity [mL/g]": 132.022284529403,
         "_deepnote_index_column": 30
        },
        {
         "id": "68645",
         "CO2_working_capacity [mL/g]": 116.39910584632828,
         "_deepnote_index_column": 31
        },
        {
         "id": "68646",
         "CO2_working_capacity [mL/g]": 257.58716918331913,
         "_deepnote_index_column": 32
        },
        {
         "id": "68647",
         "CO2_working_capacity [mL/g]": 85.91891336589613,
         "_deepnote_index_column": 33
        },
        {
         "id": "68648",
         "CO2_working_capacity [mL/g]": 131.5119262316351,
         "_deepnote_index_column": 34
        },
        {
         "id": "68649",
         "CO2_working_capacity [mL/g]": 86.8270403370001,
         "_deepnote_index_column": 35
        },
        {
         "id": "68650",
         "CO2_working_capacity [mL/g]": 228.61932473679477,
         "_deepnote_index_column": 36
        },
        {
         "id": "68651",
         "CO2_working_capacity [mL/g]": 72.9114538328089,
         "_deepnote_index_column": 37
        },
        {
         "id": "68652",
         "CO2_working_capacity [mL/g]": 104.59541694157178,
         "_deepnote_index_column": 38
        },
        {
         "id": "68653",
         "CO2_working_capacity [mL/g]": 134.9792128470313,
         "_deepnote_index_column": 39
        },
        {
         "id": "68654",
         "CO2_working_capacity [mL/g]": 101.37407402448655,
         "_deepnote_index_column": 40
        },
        {
         "id": "68655",
         "CO2_working_capacity [mL/g]": 91.90445967089276,
         "_deepnote_index_column": 41
        },
        {
         "id": "68656",
         "CO2_working_capacity [mL/g]": 95.93042927870874,
         "_deepnote_index_column": 42
        },
        {
         "id": "68657",
         "CO2_working_capacity [mL/g]": 199.21312173966294,
         "_deepnote_index_column": 43
        },
        {
         "id": "68658",
         "CO2_working_capacity [mL/g]": 80.36465046679434,
         "_deepnote_index_column": 44
        },
        {
         "id": "68659",
         "CO2_working_capacity [mL/g]": 115.40396403559906,
         "_deepnote_index_column": 45
        },
        {
         "id": "68660",
         "CO2_working_capacity [mL/g]": 214.04562047390178,
         "_deepnote_index_column": 46
        },
        {
         "id": "68661",
         "CO2_working_capacity [mL/g]": 147.80793059298188,
         "_deepnote_index_column": 47
        },
        {
         "id": "68662",
         "CO2_working_capacity [mL/g]": 70.92723754509662,
         "_deepnote_index_column": 48
        },
        {
         "id": "68663",
         "CO2_working_capacity [mL/g]": 90.70227146972361,
         "_deepnote_index_column": 49
        },
        {
         "id": "68664",
         "CO2_working_capacity [mL/g]": 87.32067470372904,
         "_deepnote_index_column": 50
        },
        {
         "id": "68665",
         "CO2_working_capacity [mL/g]": 107.55996580810582,
         "_deepnote_index_column": 51
        },
        {
         "id": "68666",
         "CO2_working_capacity [mL/g]": 166.01876578194154,
         "_deepnote_index_column": 52
        },
        {
         "id": "68667",
         "CO2_working_capacity [mL/g]": 92.17336307622094,
         "_deepnote_index_column": 53
        },
        {
         "id": "68668",
         "CO2_working_capacity [mL/g]": 259.8530299902644,
         "_deepnote_index_column": 54
        },
        {
         "id": "68669",
         "CO2_working_capacity [mL/g]": 109.05568894098212,
         "_deepnote_index_column": 55
        },
        {
         "id": "68670",
         "CO2_working_capacity [mL/g]": 238.2573529208712,
         "_deepnote_index_column": 56
        },
        {
         "id": "68671",
         "CO2_working_capacity [mL/g]": 99.23718385873201,
         "_deepnote_index_column": 57
        },
        {
         "id": "68672",
         "CO2_working_capacity [mL/g]": 78.11939530116315,
         "_deepnote_index_column": 58
        },
        {
         "id": "68673",
         "CO2_working_capacity [mL/g]": 128.99579617381048,
         "_deepnote_index_column": 59
        },
        {
         "id": "68674",
         "CO2_working_capacity [mL/g]": 67.65357072389699,
         "_deepnote_index_column": 60
        },
        {
         "id": "68675",
         "CO2_working_capacity [mL/g]": 77.18477799059781,
         "_deepnote_index_column": 61
        },
        {
         "id": "68676",
         "CO2_working_capacity [mL/g]": 151.57152256874988,
         "_deepnote_index_column": 62
        },
        {
         "id": "68677",
         "CO2_working_capacity [mL/g]": 134.55693186532753,
         "_deepnote_index_column": 63
        },
        {
         "id": "68678",
         "CO2_working_capacity [mL/g]": 176.23480092591467,
         "_deepnote_index_column": 64
        },
        {
         "id": "68679",
         "CO2_working_capacity [mL/g]": 94.84028338085075,
         "_deepnote_index_column": 65
        },
        {
         "id": "68680",
         "CO2_working_capacity [mL/g]": 78.24805388440559,
         "_deepnote_index_column": 66
        },
        {
         "id": "68681",
         "CO2_working_capacity [mL/g]": 111.12526236157345,
         "_deepnote_index_column": 67
        },
        {
         "id": "68682",
         "CO2_working_capacity [mL/g]": 78.65352120488008,
         "_deepnote_index_column": 68
        },
        {
         "id": "68683",
         "CO2_working_capacity [mL/g]": 84.02550051132671,
         "_deepnote_index_column": 69
        },
        {
         "id": "68684",
         "CO2_working_capacity [mL/g]": 88.54994738052847,
         "_deepnote_index_column": 70
        },
        {
         "id": "68685",
         "CO2_working_capacity [mL/g]": 81.6948230445142,
         "_deepnote_index_column": 71
        },
        {
         "id": "68686",
         "CO2_working_capacity [mL/g]": 162.91649444218288,
         "_deepnote_index_column": 72
        },
        {
         "id": "68687",
         "CO2_working_capacity [mL/g]": 82.12475183820634,
         "_deepnote_index_column": 73
        },
        {
         "id": "68688",
         "CO2_working_capacity [mL/g]": 94.28162913088933,
         "_deepnote_index_column": 74
        },
        {
         "id": "68689",
         "CO2_working_capacity [mL/g]": 91.05775577914699,
         "_deepnote_index_column": 75
        },
        {
         "id": "68690",
         "CO2_working_capacity [mL/g]": 141.50938951902586,
         "_deepnote_index_column": 76
        },
        {
         "id": "68691",
         "CO2_working_capacity [mL/g]": 166.72991736204523,
         "_deepnote_index_column": 77
        },
        {
         "id": "68692",
         "CO2_working_capacity [mL/g]": 70.13609536739413,
         "_deepnote_index_column": 78
        },
        {
         "id": "68693",
         "CO2_working_capacity [mL/g]": 170.27671954315107,
         "_deepnote_index_column": 79
        },
        {
         "id": "68694",
         "CO2_working_capacity [mL/g]": 104.1838639322885,
         "_deepnote_index_column": 80
        },
        {
         "id": "68695",
         "CO2_working_capacity [mL/g]": 184.9215160449602,
         "_deepnote_index_column": 81
        },
        {
         "id": "68696",
         "CO2_working_capacity [mL/g]": 75.88395786471592,
         "_deepnote_index_column": 82
        },
        {
         "id": "68697",
         "CO2_working_capacity [mL/g]": 110.06598204572367,
         "_deepnote_index_column": 83
        },
        {
         "id": "68698",
         "CO2_working_capacity [mL/g]": 177.0268747239098,
         "_deepnote_index_column": 84
        },
        {
         "id": "68699",
         "CO2_working_capacity [mL/g]": 57.13658772519717,
         "_deepnote_index_column": 85
        },
        {
         "id": "68700",
         "CO2_working_capacity [mL/g]": 61.55999151092643,
         "_deepnote_index_column": 86
        },
        {
         "id": "68701",
         "CO2_working_capacity [mL/g]": 199.69800548836756,
         "_deepnote_index_column": 87
        },
        {
         "id": "68702",
         "CO2_working_capacity [mL/g]": 97.47454196267756,
         "_deepnote_index_column": 88
        },
        {
         "id": "68703",
         "CO2_working_capacity [mL/g]": 146.925125926797,
         "_deepnote_index_column": 89
        },
        {
         "id": "68704",
         "CO2_working_capacity [mL/g]": 112.78878512452134,
         "_deepnote_index_column": 90
        },
        {
         "id": "68705",
         "CO2_working_capacity [mL/g]": 85.6293468167358,
         "_deepnote_index_column": 91
        },
        {
         "id": "68706",
         "CO2_working_capacity [mL/g]": 129.4571306609449,
         "_deepnote_index_column": 92
        },
        {
         "id": "68707",
         "CO2_working_capacity [mL/g]": 89.41470039956484,
         "_deepnote_index_column": 93
        },
        {
         "id": "68708",
         "CO2_working_capacity [mL/g]": 121.48057578222894,
         "_deepnote_index_column": 94
        },
        {
         "id": "68709",
         "CO2_working_capacity [mL/g]": 151.2626266806806,
         "_deepnote_index_column": 95
        },
        {
         "id": "68710",
         "CO2_working_capacity [mL/g]": 87.73831772159805,
         "_deepnote_index_column": 96
        },
        {
         "id": "68711",
         "CO2_working_capacity [mL/g]": 122.50422742204078,
         "_deepnote_index_column": 97
        },
        {
         "id": "68712",
         "CO2_working_capacity [mL/g]": 85.64749142333243,
         "_deepnote_index_column": 98
        },
        {
         "id": "68713",
         "CO2_working_capacity [mL/g]": 65.10714531500997,
         "_deepnote_index_column": 99
        },
        {
         "id": "68714",
         "CO2_working_capacity [mL/g]": 60.72319141823533,
         "_deepnote_index_column": 100
        },
        {
         "id": "68715",
         "CO2_working_capacity [mL/g]": 122.59202638118245,
         "_deepnote_index_column": 101
        },
        {
         "id": "68716",
         "CO2_working_capacity [mL/g]": 113.00907851696934,
         "_deepnote_index_column": 102
        },
        {
         "id": "68717",
         "CO2_working_capacity [mL/g]": 64.33726176975829,
         "_deepnote_index_column": 103
        },
        {
         "id": "68718",
         "CO2_working_capacity [mL/g]": 49.37973033290206,
         "_deepnote_index_column": 104
        },
        {
         "id": "68719",
         "CO2_working_capacity [mL/g]": 58.559468059596846,
         "_deepnote_index_column": 105
        },
        {
         "id": "68720",
         "CO2_working_capacity [mL/g]": 157.44115582403586,
         "_deepnote_index_column": 106
        },
        {
         "id": "68721",
         "CO2_working_capacity [mL/g]": 204.2477091279488,
         "_deepnote_index_column": 107
        },
        {
         "id": "68722",
         "CO2_working_capacity [mL/g]": 130.2914687333705,
         "_deepnote_index_column": 108
        },
        {
         "id": "68723",
         "CO2_working_capacity [mL/g]": 85.87824555780797,
         "_deepnote_index_column": 109
        },
        {
         "id": "68724",
         "CO2_working_capacity [mL/g]": 86.14831325484334,
         "_deepnote_index_column": 110
        },
        {
         "id": "68725",
         "CO2_working_capacity [mL/g]": 100.53610638963,
         "_deepnote_index_column": 111
        },
        {
         "id": "68726",
         "CO2_working_capacity [mL/g]": 129.88703616338066,
         "_deepnote_index_column": 112
        },
        {
         "id": "68727",
         "CO2_working_capacity [mL/g]": 102.81229481919826,
         "_deepnote_index_column": 113
        },
        {
         "id": "68728",
         "CO2_working_capacity [mL/g]": 140.45609317555932,
         "_deepnote_index_column": 114
        },
        {
         "id": "68729",
         "CO2_working_capacity [mL/g]": 303.63971785926753,
         "_deepnote_index_column": 115
        },
        {
         "id": "68730",
         "CO2_working_capacity [mL/g]": 106.37787257835105,
         "_deepnote_index_column": 116
        },
        {
         "id": "68731",
         "CO2_working_capacity [mL/g]": 75.58975653767216,
         "_deepnote_index_column": 117
        },
        {
         "id": "68732",
         "CO2_working_capacity [mL/g]": 89.09504733905912,
         "_deepnote_index_column": 118
        },
        {
         "id": "68733",
         "CO2_working_capacity [mL/g]": 78.46224076021332,
         "_deepnote_index_column": 119
        },
        {
         "id": "68734",
         "CO2_working_capacity [mL/g]": 116.51671811373778,
         "_deepnote_index_column": 120
        },
        {
         "id": "68735",
         "CO2_working_capacity [mL/g]": 208.36742654321665,
         "_deepnote_index_column": 121
        },
        {
         "id": "68736",
         "CO2_working_capacity [mL/g]": 59.82479337310648,
         "_deepnote_index_column": 122
        },
        {
         "id": "68737",
         "CO2_working_capacity [mL/g]": 116.69109564436843,
         "_deepnote_index_column": 123
        },
        {
         "id": "68738",
         "CO2_working_capacity [mL/g]": 179.87091677250464,
         "_deepnote_index_column": 124
        },
        {
         "id": "68739",
         "CO2_working_capacity [mL/g]": 133.00821828977328,
         "_deepnote_index_column": 125
        },
        {
         "id": "68740",
         "CO2_working_capacity [mL/g]": 213.5549570487889,
         "_deepnote_index_column": 126
        },
        {
         "id": "68741",
         "CO2_working_capacity [mL/g]": 84.79115576790493,
         "_deepnote_index_column": 127
        },
        {
         "id": "68742",
         "CO2_working_capacity [mL/g]": 113.72090275842272,
         "_deepnote_index_column": 128
        },
        {
         "id": "68743",
         "CO2_working_capacity [mL/g]": 91.02946085367802,
         "_deepnote_index_column": 129
        },
        {
         "id": "68744",
         "CO2_working_capacity [mL/g]": 196.05101834124525,
         "_deepnote_index_column": 130
        },
        {
         "id": "68745",
         "CO2_working_capacity [mL/g]": 111.0311335490764,
         "_deepnote_index_column": 131
        },
        {
         "id": "68746",
         "CO2_working_capacity [mL/g]": 121.99847724076261,
         "_deepnote_index_column": 132
        },
        {
         "id": "68747",
         "CO2_working_capacity [mL/g]": 128.70611599290513,
         "_deepnote_index_column": 133
        },
        {
         "id": "68748",
         "CO2_working_capacity [mL/g]": 104.65344275536911,
         "_deepnote_index_column": 134
        },
        {
         "id": "68749",
         "CO2_working_capacity [mL/g]": 89.1898467112784,
         "_deepnote_index_column": 135
        },
        {
         "id": "68750",
         "CO2_working_capacity [mL/g]": 92.12833460164677,
         "_deepnote_index_column": 136
        },
        {
         "id": "68751",
         "CO2_working_capacity [mL/g]": 189.99082765572845,
         "_deepnote_index_column": 137
        },
        {
         "id": "68752",
         "CO2_working_capacity [mL/g]": 84.064205291633,
         "_deepnote_index_column": 138
        },
        {
         "id": "68753",
         "CO2_working_capacity [mL/g]": 231.619268791787,
         "_deepnote_index_column": 139
        },
        {
         "id": "68754",
         "CO2_working_capacity [mL/g]": 150.278069545531,
         "_deepnote_index_column": 140
        },
        {
         "id": "68755",
         "CO2_working_capacity [mL/g]": 75.12953589052393,
         "_deepnote_index_column": 141
        },
        {
         "id": "68756",
         "CO2_working_capacity [mL/g]": 84.01730943654987,
         "_deepnote_index_column": 142
        },
        {
         "id": "68757",
         "CO2_working_capacity [mL/g]": 300.14959503441327,
         "_deepnote_index_column": 143
        },
        {
         "id": "68758",
         "CO2_working_capacity [mL/g]": 318.73050786399364,
         "_deepnote_index_column": 144
        },
        {
         "id": "68759",
         "CO2_working_capacity [mL/g]": 205.57664635919733,
         "_deepnote_index_column": 145
        },
        {
         "id": "68760",
         "CO2_working_capacity [mL/g]": 168.2649347850251,
         "_deepnote_index_column": 146
        },
        {
         "id": "68761",
         "CO2_working_capacity [mL/g]": 124.34509419810026,
         "_deepnote_index_column": 147
        },
        {
         "id": "68762",
         "CO2_working_capacity [mL/g]": 71.14847889458662,
         "_deepnote_index_column": 148
        },
        {
         "id": "68763",
         "CO2_working_capacity [mL/g]": 82.99258107226001,
         "_deepnote_index_column": 149
        },
        {
         "id": "68764",
         "CO2_working_capacity [mL/g]": 106.66135316889881,
         "_deepnote_index_column": 150
        },
        {
         "id": "68765",
         "CO2_working_capacity [mL/g]": 173.30467278685344,
         "_deepnote_index_column": 151
        },
        {
         "id": "68766",
         "CO2_working_capacity [mL/g]": 53.25833301828582,
         "_deepnote_index_column": 152
        },
        {
         "id": "68767",
         "CO2_working_capacity [mL/g]": 91.67679844060922,
         "_deepnote_index_column": 153
        },
        {
         "id": "68768",
         "CO2_working_capacity [mL/g]": 122.25672180250221,
         "_deepnote_index_column": 154
        },
        {
         "id": "68769",
         "CO2_working_capacity [mL/g]": 64.80983776744972,
         "_deepnote_index_column": 155
        },
        {
         "id": "68770",
         "CO2_working_capacity [mL/g]": 105.42060374891093,
         "_deepnote_index_column": 156
        },
        {
         "id": "68771",
         "CO2_working_capacity [mL/g]": 72.64983968489759,
         "_deepnote_index_column": 157
        },
        {
         "id": "68772",
         "CO2_working_capacity [mL/g]": 76.90730932341144,
         "_deepnote_index_column": 158
        },
        {
         "id": "68773",
         "CO2_working_capacity [mL/g]": 86.59820516222332,
         "_deepnote_index_column": 159
        },
        {
         "id": "68774",
         "CO2_working_capacity [mL/g]": 79.99637047171761,
         "_deepnote_index_column": 160
        },
        {
         "id": "68775",
         "CO2_working_capacity [mL/g]": 74.50205169686855,
         "_deepnote_index_column": 161
        },
        {
         "id": "68776",
         "CO2_working_capacity [mL/g]": 83.70419724504211,
         "_deepnote_index_column": 162
        },
        {
         "id": "68777",
         "CO2_working_capacity [mL/g]": 65.13821126304887,
         "_deepnote_index_column": 163
        },
        {
         "id": "68778",
         "CO2_working_capacity [mL/g]": 65.84048549051668,
         "_deepnote_index_column": 164
        },
        {
         "id": "68779",
         "CO2_working_capacity [mL/g]": 57.657032344110156,
         "_deepnote_index_column": 165
        },
        {
         "id": "68780",
         "CO2_working_capacity [mL/g]": 139.113805031015,
         "_deepnote_index_column": 166
        },
        {
         "id": "68781",
         "CO2_working_capacity [mL/g]": 79.68072611728823,
         "_deepnote_index_column": 167
        },
        {
         "id": "68782",
         "CO2_working_capacity [mL/g]": 106.01395846988997,
         "_deepnote_index_column": 168
        },
        {
         "id": "68783",
         "CO2_working_capacity [mL/g]": 70.30289228241458,
         "_deepnote_index_column": 169
        },
        {
         "id": "68784",
         "CO2_working_capacity [mL/g]": 74.74794500229774,
         "_deepnote_index_column": 170
        },
        {
         "id": "68785",
         "CO2_working_capacity [mL/g]": 108.16049375398073,
         "_deepnote_index_column": 171
        },
        {
         "id": "68786",
         "CO2_working_capacity [mL/g]": 96.82161957751453,
         "_deepnote_index_column": 172
        },
        {
         "id": "68787",
         "CO2_working_capacity [mL/g]": 272.69575100998765,
         "_deepnote_index_column": 173
        },
        {
         "id": "68788",
         "CO2_working_capacity [mL/g]": 73.55931480288349,
         "_deepnote_index_column": 174
        },
        {
         "id": "68789",
         "CO2_working_capacity [mL/g]": 81.35886701664265,
         "_deepnote_index_column": 175
        },
        {
         "id": "68790",
         "CO2_working_capacity [mL/g]": 257.2658865951832,
         "_deepnote_index_column": 176
        },
        {
         "id": "68791",
         "CO2_working_capacity [mL/g]": 65.15500662544247,
         "_deepnote_index_column": 177
        },
        {
         "id": "68792",
         "CO2_working_capacity [mL/g]": 157.66530281331845,
         "_deepnote_index_column": 178
        },
        {
         "id": "68793",
         "CO2_working_capacity [mL/g]": 81.07381692204389,
         "_deepnote_index_column": 179
        },
        {
         "id": "68794",
         "CO2_working_capacity [mL/g]": 112.22224798693446,
         "_deepnote_index_column": 180
        },
        {
         "id": "68795",
         "CO2_working_capacity [mL/g]": 123.2628256161086,
         "_deepnote_index_column": 181
        },
        {
         "id": "68796",
         "CO2_working_capacity [mL/g]": 73.2836722465347,
         "_deepnote_index_column": 182
        },
        {
         "id": "68797",
         "CO2_working_capacity [mL/g]": 115.33907933290028,
         "_deepnote_index_column": 183
        },
        {
         "id": "68798",
         "CO2_working_capacity [mL/g]": 77.37613619471016,
         "_deepnote_index_column": 184
        },
        {
         "id": "68799",
         "CO2_working_capacity [mL/g]": 69.18446003382898,
         "_deepnote_index_column": 185
        },
        {
         "id": "68800",
         "CO2_working_capacity [mL/g]": 63.54801361292855,
         "_deepnote_index_column": 186
        },
        {
         "id": "68801",
         "CO2_working_capacity [mL/g]": 100.20151571875634,
         "_deepnote_index_column": 187
        },
        {
         "id": "68802",
         "CO2_working_capacity [mL/g]": 104.0045546639883,
         "_deepnote_index_column": 188
        },
        {
         "id": "68803",
         "CO2_working_capacity [mL/g]": 86.66028385610866,
         "_deepnote_index_column": 189
        },
        {
         "id": "68804",
         "CO2_working_capacity [mL/g]": 65.91364714159177,
         "_deepnote_index_column": 190
        },
        {
         "id": "68805",
         "CO2_working_capacity [mL/g]": 75.82093115084234,
         "_deepnote_index_column": 191
        },
        {
         "id": "68806",
         "CO2_working_capacity [mL/g]": 83.08463201350844,
         "_deepnote_index_column": 192
        },
        {
         "id": "68807",
         "CO2_working_capacity [mL/g]": 131.01165498881483,
         "_deepnote_index_column": 193
        },
        {
         "id": "68808",
         "CO2_working_capacity [mL/g]": 72.12835071550259,
         "_deepnote_index_column": 194
        },
        {
         "id": "68809",
         "CO2_working_capacity [mL/g]": 165.1269392118991,
         "_deepnote_index_column": 195
        },
        {
         "id": "68810",
         "CO2_working_capacity [mL/g]": 117.60466554576118,
         "_deepnote_index_column": 196
        },
        {
         "id": "68811",
         "CO2_working_capacity [mL/g]": 185.80953636823747,
         "_deepnote_index_column": 197
        },
        {
         "id": "68812",
         "CO2_working_capacity [mL/g]": 106.2907999327666,
         "_deepnote_index_column": 198
        },
        {
         "id": "68813",
         "CO2_working_capacity [mL/g]": 60.626681841610825,
         "_deepnote_index_column": 199
        },
        {
         "id": "68814",
         "CO2_working_capacity [mL/g]": 101.21180031150703,
         "_deepnote_index_column": 200
        },
        {
         "id": "68815",
         "CO2_working_capacity [mL/g]": 66.92817584851338,
         "_deepnote_index_column": 201
        },
        {
         "id": "68816",
         "CO2_working_capacity [mL/g]": 412.1009912779741,
         "_deepnote_index_column": 202
        },
        {
         "id": "68817",
         "CO2_working_capacity [mL/g]": 92.31417676225054,
         "_deepnote_index_column": 203
        },
        {
         "id": "68818",
         "CO2_working_capacity [mL/g]": 80.71156257969801,
         "_deepnote_index_column": 204
        },
        {
         "id": "68819",
         "CO2_working_capacity [mL/g]": 84.8941616940006,
         "_deepnote_index_column": 205
        },
        {
         "id": "68820",
         "CO2_working_capacity [mL/g]": 162.0993220640547,
         "_deepnote_index_column": 206
        },
        {
         "id": "68821",
         "CO2_working_capacity [mL/g]": 135.70705011575015,
         "_deepnote_index_column": 207
        },
        {
         "id": "68822",
         "CO2_working_capacity [mL/g]": 368.29458143394385,
         "_deepnote_index_column": 208
        },
        {
         "id": "68823",
         "CO2_working_capacity [mL/g]": 92.41416857336851,
         "_deepnote_index_column": 209
        },
        {
         "id": "68824",
         "CO2_working_capacity [mL/g]": 186.32086272624312,
         "_deepnote_index_column": 210
        },
        {
         "id": "68825",
         "CO2_working_capacity [mL/g]": 88.25321180843792,
         "_deepnote_index_column": 211
        },
        {
         "id": "68826",
         "CO2_working_capacity [mL/g]": 166.56932086789826,
         "_deepnote_index_column": 212
        },
        {
         "id": "68827",
         "CO2_working_capacity [mL/g]": 140.16102704153326,
         "_deepnote_index_column": 213
        },
        {
         "id": "68828",
         "CO2_working_capacity [mL/g]": 69.40415393427969,
         "_deepnote_index_column": 214
        },
        {
         "id": "68829",
         "CO2_working_capacity [mL/g]": 59.734781572999196,
         "_deepnote_index_column": 215
        },
        {
         "id": "68830",
         "CO2_working_capacity [mL/g]": 67.60202952157282,
         "_deepnote_index_column": 216
        },
        {
         "id": "68831",
         "CO2_working_capacity [mL/g]": 130.4243505248347,
         "_deepnote_index_column": 217
        },
        {
         "id": "68832",
         "CO2_working_capacity [mL/g]": 168.70120126291937,
         "_deepnote_index_column": 218
        },
        {
         "id": "68833",
         "CO2_working_capacity [mL/g]": 104.13600020996978,
         "_deepnote_index_column": 219
        },
        {
         "id": "68834",
         "CO2_working_capacity [mL/g]": 92.83518475659544,
         "_deepnote_index_column": 220
        },
        {
         "id": "68835",
         "CO2_working_capacity [mL/g]": 75.15936355212011,
         "_deepnote_index_column": 221
        },
        {
         "id": "68836",
         "CO2_working_capacity [mL/g]": 113.29754210820376,
         "_deepnote_index_column": 222
        },
        {
         "id": "68837",
         "CO2_working_capacity [mL/g]": 68.2244952089503,
         "_deepnote_index_column": 223
        },
        {
         "id": "68838",
         "CO2_working_capacity [mL/g]": 61.29386962657096,
         "_deepnote_index_column": 224
        },
        {
         "id": "68839",
         "CO2_working_capacity [mL/g]": 179.31223134535753,
         "_deepnote_index_column": 225
        },
        {
         "id": "68840",
         "CO2_working_capacity [mL/g]": 63.07874727254159,
         "_deepnote_index_column": 226
        },
        {
         "id": "68841",
         "CO2_working_capacity [mL/g]": 152.61391813324235,
         "_deepnote_index_column": 227
        },
        {
         "id": "68842",
         "CO2_working_capacity [mL/g]": 162.24607014954086,
         "_deepnote_index_column": 228
        },
        {
         "id": "68843",
         "CO2_working_capacity [mL/g]": 98.47954767008794,
         "_deepnote_index_column": 229
        },
        {
         "id": "68844",
         "CO2_working_capacity [mL/g]": 181.30731929850856,
         "_deepnote_index_column": 230
        },
        {
         "id": "68845",
         "CO2_working_capacity [mL/g]": 63.869537944312725,
         "_deepnote_index_column": 231
        },
        {
         "id": "68846",
         "CO2_working_capacity [mL/g]": 71.8410136176763,
         "_deepnote_index_column": 232
        },
        {
         "id": "68847",
         "CO2_working_capacity [mL/g]": 171.78063397415198,
         "_deepnote_index_column": 233
        },
        {
         "id": "68848",
         "CO2_working_capacity [mL/g]": 155.43127189744203,
         "_deepnote_index_column": 234
        },
        {
         "id": "68849",
         "CO2_working_capacity [mL/g]": 119.3602801781082,
         "_deepnote_index_column": 235
        },
        {
         "id": "68850",
         "CO2_working_capacity [mL/g]": 111.07697715580984,
         "_deepnote_index_column": 236
        },
        {
         "id": "68851",
         "CO2_working_capacity [mL/g]": 67.34486199672136,
         "_deepnote_index_column": 237
        },
        {
         "id": "68852",
         "CO2_working_capacity [mL/g]": 78.0355671724025,
         "_deepnote_index_column": 238
        },
        {
         "id": "68853",
         "CO2_working_capacity [mL/g]": 203.4293178761341,
         "_deepnote_index_column": 239
        },
        {
         "id": "68854",
         "CO2_working_capacity [mL/g]": 88.53962704884827,
         "_deepnote_index_column": 240
        },
        {
         "id": "68855",
         "CO2_working_capacity [mL/g]": 93.85573820676768,
         "_deepnote_index_column": 241
        },
        {
         "id": "68856",
         "CO2_working_capacity [mL/g]": 362.6871160683861,
         "_deepnote_index_column": 242
        },
        {
         "id": "68857",
         "CO2_working_capacity [mL/g]": 67.88368933479683,
         "_deepnote_index_column": 243
        },
        {
         "id": "68858",
         "CO2_working_capacity [mL/g]": 89.58852768099804,
         "_deepnote_index_column": 244
        },
        {
         "id": "68859",
         "CO2_working_capacity [mL/g]": 88.33868045454699,
         "_deepnote_index_column": 245
        },
        {
         "id": "68860",
         "CO2_working_capacity [mL/g]": 56.02676815396728,
         "_deepnote_index_column": 246
        },
        {
         "id": "68861",
         "CO2_working_capacity [mL/g]": 77.5471910084634,
         "_deepnote_index_column": 247
        },
        {
         "id": "68862",
         "CO2_working_capacity [mL/g]": 241.89820039269975,
         "_deepnote_index_column": 248
        },
        {
         "id": "68863",
         "CO2_working_capacity [mL/g]": 76.97026016488782,
         "_deepnote_index_column": 249
        }
       ],
       "rows_bottom": [
        {
         "id": "85364",
         "CO2_working_capacity [mL/g]": 4.196555144212739,
         "_deepnote_index_column": 16750
        },
        {
         "id": "85365",
         "CO2_working_capacity [mL/g]": -1.021253841972581,
         "_deepnote_index_column": 16751
        },
        {
         "id": "85366",
         "CO2_working_capacity [mL/g]": 0.01078193223031391,
         "_deepnote_index_column": 16752
        },
        {
         "id": "85367",
         "CO2_working_capacity [mL/g]": 1.8307165472081683,
         "_deepnote_index_column": 16753
        },
        {
         "id": "85368",
         "CO2_working_capacity [mL/g]": 0.7243129097112537,
         "_deepnote_index_column": 16754
        },
        {
         "id": "85369",
         "CO2_working_capacity [mL/g]": 23.908947004650184,
         "_deepnote_index_column": 16755
        },
        {
         "id": "85370",
         "CO2_working_capacity [mL/g]": -0.6195691286177604,
         "_deepnote_index_column": 16756
        },
        {
         "id": "85371",
         "CO2_working_capacity [mL/g]": -4.0778732389018915,
         "_deepnote_index_column": 16757
        },
        {
         "id": "85372",
         "CO2_working_capacity [mL/g]": -0.20003712807934226,
         "_deepnote_index_column": 16758
        },
        {
         "id": "85373",
         "CO2_working_capacity [mL/g]": 1.2110516721327491,
         "_deepnote_index_column": 16759
        },
        {
         "id": "85374",
         "CO2_working_capacity [mL/g]": -1.9395014535017037,
         "_deepnote_index_column": 16760
        },
        {
         "id": "85375",
         "CO2_working_capacity [mL/g]": 3.1676308325969678,
         "_deepnote_index_column": 16761
        },
        {
         "id": "85376",
         "CO2_working_capacity [mL/g]": -3.290200035031198,
         "_deepnote_index_column": 16762
        },
        {
         "id": "85377",
         "CO2_working_capacity [mL/g]": 6.5799009002705455,
         "_deepnote_index_column": 16763
        },
        {
         "id": "85378",
         "CO2_working_capacity [mL/g]": -1.777159357045645,
         "_deepnote_index_column": 16764
        },
        {
         "id": "85379",
         "CO2_working_capacity [mL/g]": -7.897690630717534,
         "_deepnote_index_column": 16765
        },
        {
         "id": "85380",
         "CO2_working_capacity [mL/g]": -2.78512859210576,
         "_deepnote_index_column": 16766
        },
        {
         "id": "85381",
         "CO2_working_capacity [mL/g]": -14.176170592821128,
         "_deepnote_index_column": 16767
        },
        {
         "id": "85382",
         "CO2_working_capacity [mL/g]": -3.678792680638125,
         "_deepnote_index_column": 16768
        },
        {
         "id": "85383",
         "CO2_working_capacity [mL/g]": 4.771310332481516,
         "_deepnote_index_column": 16769
        },
        {
         "id": "85384",
         "CO2_working_capacity [mL/g]": 6.5406688927453125,
         "_deepnote_index_column": 16770
        },
        {
         "id": "85385",
         "CO2_working_capacity [mL/g]": -0.37252098043654636,
         "_deepnote_index_column": 16771
        },
        {
         "id": "85386",
         "CO2_working_capacity [mL/g]": 6.2329154015164105,
         "_deepnote_index_column": 16772
        },
        {
         "id": "85387",
         "CO2_working_capacity [mL/g]": 0.4235202326969503,
         "_deepnote_index_column": 16773
        },
        {
         "id": "85388",
         "CO2_working_capacity [mL/g]": -5.052873148356175,
         "_deepnote_index_column": 16774
        },
        {
         "id": "85389",
         "CO2_working_capacity [mL/g]": 0.40788444085455994,
         "_deepnote_index_column": 16775
        },
        {
         "id": "85390",
         "CO2_working_capacity [mL/g]": -1.3357845848817016,
         "_deepnote_index_column": 16776
        },
        {
         "id": "85391",
         "CO2_working_capacity [mL/g]": 3.650689224704801,
         "_deepnote_index_column": 16777
        },
        {
         "id": "85392",
         "CO2_working_capacity [mL/g]": 5.49216100156617,
         "_deepnote_index_column": 16778
        },
        {
         "id": "85393",
         "CO2_working_capacity [mL/g]": 31.89011728651135,
         "_deepnote_index_column": 16779
        },
        {
         "id": "85394",
         "CO2_working_capacity [mL/g]": -5.699969502822995,
         "_deepnote_index_column": 16780
        },
        {
         "id": "85395",
         "CO2_working_capacity [mL/g]": 4.620625918522582,
         "_deepnote_index_column": 16781
        },
        {
         "id": "85396",
         "CO2_working_capacity [mL/g]": 1.0545492341196576,
         "_deepnote_index_column": 16782
        },
        {
         "id": "85397",
         "CO2_working_capacity [mL/g]": -4.468899179348436,
         "_deepnote_index_column": 16783
        },
        {
         "id": "85398",
         "CO2_working_capacity [mL/g]": -11.332438554857001,
         "_deepnote_index_column": 16784
        },
        {
         "id": "85399",
         "CO2_working_capacity [mL/g]": 1.005936001953373,
         "_deepnote_index_column": 16785
        },
        {
         "id": "85400",
         "CO2_working_capacity [mL/g]": -1.2945203280133228,
         "_deepnote_index_column": 16786
        },
        {
         "id": "85401",
         "CO2_working_capacity [mL/g]": 21.05434394891289,
         "_deepnote_index_column": 16787
        },
        {
         "id": "85402",
         "CO2_working_capacity [mL/g]": 3.618668568927653,
         "_deepnote_index_column": 16788
        },
        {
         "id": "85403",
         "CO2_working_capacity [mL/g]": 1.306789029008122,
         "_deepnote_index_column": 16789
        },
        {
         "id": "85404",
         "CO2_working_capacity [mL/g]": -4.522770249298155,
         "_deepnote_index_column": 16790
        },
        {
         "id": "85405",
         "CO2_working_capacity [mL/g]": 1.5334541568613511,
         "_deepnote_index_column": 16791
        },
        {
         "id": "85406",
         "CO2_working_capacity [mL/g]": -2.412871697758685,
         "_deepnote_index_column": 16792
        },
        {
         "id": "85407",
         "CO2_working_capacity [mL/g]": -1.9632524795559558,
         "_deepnote_index_column": 16793
        },
        {
         "id": "85408",
         "CO2_working_capacity [mL/g]": 6.607257545995448,
         "_deepnote_index_column": 16794
        },
        {
         "id": "85409",
         "CO2_working_capacity [mL/g]": -1.9403323624056208,
         "_deepnote_index_column": 16795
        },
        {
         "id": "85410",
         "CO2_working_capacity [mL/g]": 0.19914519503088793,
         "_deepnote_index_column": 16796
        },
        {
         "id": "85411",
         "CO2_working_capacity [mL/g]": 15.95745743813884,
         "_deepnote_index_column": 16797
        },
        {
         "id": "85412",
         "CO2_working_capacity [mL/g]": -7.584558454385253,
         "_deepnote_index_column": 16798
        },
        {
         "id": "85413",
         "CO2_working_capacity [mL/g]": 16.020583312245467,
         "_deepnote_index_column": 16799
        },
        {
         "id": "85414",
         "CO2_working_capacity [mL/g]": -8.282078615938161,
         "_deepnote_index_column": 16800
        },
        {
         "id": "85415",
         "CO2_working_capacity [mL/g]": -0.345683307493642,
         "_deepnote_index_column": 16801
        },
        {
         "id": "85416",
         "CO2_working_capacity [mL/g]": -1.8820470707646437,
         "_deepnote_index_column": 16802
        },
        {
         "id": "85417",
         "CO2_working_capacity [mL/g]": 26.2808978643356,
         "_deepnote_index_column": 16803
        },
        {
         "id": "85418",
         "CO2_working_capacity [mL/g]": -3.4887816792739756,
         "_deepnote_index_column": 16804
        },
        {
         "id": "85419",
         "CO2_working_capacity [mL/g]": 1.786766410322502,
         "_deepnote_index_column": 16805
        },
        {
         "id": "85420",
         "CO2_working_capacity [mL/g]": -0.8100805165529544,
         "_deepnote_index_column": 16806
        },
        {
         "id": "85421",
         "CO2_working_capacity [mL/g]": -1.3129171243334694,
         "_deepnote_index_column": 16807
        },
        {
         "id": "85422",
         "CO2_working_capacity [mL/g]": -5.380042387277066,
         "_deepnote_index_column": 16808
        },
        {
         "id": "85423",
         "CO2_working_capacity [mL/g]": 5.862844526543479,
         "_deepnote_index_column": 16809
        },
        {
         "id": "85424",
         "CO2_working_capacity [mL/g]": 11.187533863318663,
         "_deepnote_index_column": 16810
        },
        {
         "id": "85425",
         "CO2_working_capacity [mL/g]": 10.72149180563874,
         "_deepnote_index_column": 16811
        },
        {
         "id": "85426",
         "CO2_working_capacity [mL/g]": 5.220402088881632,
         "_deepnote_index_column": 16812
        },
        {
         "id": "85427",
         "CO2_working_capacity [mL/g]": -2.4674069181999987,
         "_deepnote_index_column": 16813
        },
        {
         "id": "85428",
         "CO2_working_capacity [mL/g]": 1.8818901685295994,
         "_deepnote_index_column": 16814
        },
        {
         "id": "85429",
         "CO2_working_capacity [mL/g]": 4.764848717722197,
         "_deepnote_index_column": 16815
        },
        {
         "id": "85430",
         "CO2_working_capacity [mL/g]": -3.0278860123960762,
         "_deepnote_index_column": 16816
        },
        {
         "id": "85431",
         "CO2_working_capacity [mL/g]": 5.691971729809055,
         "_deepnote_index_column": 16817
        },
        {
         "id": "85432",
         "CO2_working_capacity [mL/g]": -3.3069481611817593,
         "_deepnote_index_column": 16818
        },
        {
         "id": "85433",
         "CO2_working_capacity [mL/g]": 5.0896708080759305,
         "_deepnote_index_column": 16819
        },
        {
         "id": "85434",
         "CO2_working_capacity [mL/g]": -5.532416471070554,
         "_deepnote_index_column": 16820
        },
        {
         "id": "85435",
         "CO2_working_capacity [mL/g]": 68.88750171575919,
         "_deepnote_index_column": 16821
        },
        {
         "id": "85436",
         "CO2_working_capacity [mL/g]": -7.165981451572164,
         "_deepnote_index_column": 16822
        },
        {
         "id": "85437",
         "CO2_working_capacity [mL/g]": 5.001280771220433,
         "_deepnote_index_column": 16823
        },
        {
         "id": "85438",
         "CO2_working_capacity [mL/g]": -9.275396696147581,
         "_deepnote_index_column": 16824
        },
        {
         "id": "85439",
         "CO2_working_capacity [mL/g]": 20.814787474203072,
         "_deepnote_index_column": 16825
        },
        {
         "id": "85440",
         "CO2_working_capacity [mL/g]": 17.743401980652795,
         "_deepnote_index_column": 16826
        },
        {
         "id": "85441",
         "CO2_working_capacity [mL/g]": -0.4006082940706847,
         "_deepnote_index_column": 16827
        },
        {
         "id": "85442",
         "CO2_working_capacity [mL/g]": -2.933761752777573,
         "_deepnote_index_column": 16828
        },
        {
         "id": "85443",
         "CO2_working_capacity [mL/g]": 31.51356609953173,
         "_deepnote_index_column": 16829
        },
        {
         "id": "85444",
         "CO2_working_capacity [mL/g]": -5.220853713203529,
         "_deepnote_index_column": 16830
        },
        {
         "id": "85445",
         "CO2_working_capacity [mL/g]": 14.372397341409018,
         "_deepnote_index_column": 16831
        },
        {
         "id": "85446",
         "CO2_working_capacity [mL/g]": -3.276793444710608,
         "_deepnote_index_column": 16832
        },
        {
         "id": "85447",
         "CO2_working_capacity [mL/g]": 1.2120543599961897,
         "_deepnote_index_column": 16833
        },
        {
         "id": "85448",
         "CO2_working_capacity [mL/g]": 1.7411557540906575,
         "_deepnote_index_column": 16834
        },
        {
         "id": "85449",
         "CO2_working_capacity [mL/g]": 0.13780302330977592,
         "_deepnote_index_column": 16835
        },
        {
         "id": "85450",
         "CO2_working_capacity [mL/g]": 26.1660810235829,
         "_deepnote_index_column": 16836
        },
        {
         "id": "85451",
         "CO2_working_capacity [mL/g]": -3.330914752736858,
         "_deepnote_index_column": 16837
        },
        {
         "id": "85452",
         "CO2_working_capacity [mL/g]": -10.663727979090526,
         "_deepnote_index_column": 16838
        },
        {
         "id": "85453",
         "CO2_working_capacity [mL/g]": 2.640881169955393,
         "_deepnote_index_column": 16839
        },
        {
         "id": "85454",
         "CO2_working_capacity [mL/g]": -13.970375450911156,
         "_deepnote_index_column": 16840
        },
        {
         "id": "85455",
         "CO2_working_capacity [mL/g]": -7.527638277396406,
         "_deepnote_index_column": 16841
        },
        {
         "id": "85456",
         "CO2_working_capacity [mL/g]": 3.3565970968067833,
         "_deepnote_index_column": 16842
        },
        {
         "id": "85457",
         "CO2_working_capacity [mL/g]": -3.8631379728225386,
         "_deepnote_index_column": 16843
        },
        {
         "id": "85458",
         "CO2_working_capacity [mL/g]": -2.229574271952344,
         "_deepnote_index_column": 16844
        },
        {
         "id": "85459",
         "CO2_working_capacity [mL/g]": 5.462073597230905,
         "_deepnote_index_column": 16845
        },
        {
         "id": "85460",
         "CO2_working_capacity [mL/g]": 3.023649437911791,
         "_deepnote_index_column": 16846
        },
        {
         "id": "85461",
         "CO2_working_capacity [mL/g]": -4.258402123490843,
         "_deepnote_index_column": 16847
        },
        {
         "id": "85462",
         "CO2_working_capacity [mL/g]": 4.625266401335918,
         "_deepnote_index_column": 16848
        },
        {
         "id": "85463",
         "CO2_working_capacity [mL/g]": -1.4288998216797275,
         "_deepnote_index_column": 16849
        },
        {
         "id": "85464",
         "CO2_working_capacity [mL/g]": -6.220119524035997,
         "_deepnote_index_column": 16850
        },
        {
         "id": "85465",
         "CO2_working_capacity [mL/g]": -1.3333964405959973,
         "_deepnote_index_column": 16851
        },
        {
         "id": "85466",
         "CO2_working_capacity [mL/g]": -2.1815104152461364,
         "_deepnote_index_column": 16852
        },
        {
         "id": "85467",
         "CO2_working_capacity [mL/g]": 8.262039561887589,
         "_deepnote_index_column": 16853
        },
        {
         "id": "85468",
         "CO2_working_capacity [mL/g]": 15.053901817365315,
         "_deepnote_index_column": 16854
        },
        {
         "id": "85469",
         "CO2_working_capacity [mL/g]": -2.629569519591786,
         "_deepnote_index_column": 16855
        },
        {
         "id": "85470",
         "CO2_working_capacity [mL/g]": 3.828064009590523,
         "_deepnote_index_column": 16856
        },
        {
         "id": "85471",
         "CO2_working_capacity [mL/g]": 0.8027416087380944,
         "_deepnote_index_column": 16857
        },
        {
         "id": "85472",
         "CO2_working_capacity [mL/g]": 1.9165963316462136,
         "_deepnote_index_column": 16858
        },
        {
         "id": "85473",
         "CO2_working_capacity [mL/g]": 0.7360728181350265,
         "_deepnote_index_column": 16859
        },
        {
         "id": "85474",
         "CO2_working_capacity [mL/g]": 5.405354345200017,
         "_deepnote_index_column": 16860
        },
        {
         "id": "85475",
         "CO2_working_capacity [mL/g]": 4.065239285999721,
         "_deepnote_index_column": 16861
        },
        {
         "id": "85476",
         "CO2_working_capacity [mL/g]": 2.151790085374217,
         "_deepnote_index_column": 16862
        },
        {
         "id": "85477",
         "CO2_working_capacity [mL/g]": 14.623278364114425,
         "_deepnote_index_column": 16863
        },
        {
         "id": "85478",
         "CO2_working_capacity [mL/g]": 8.056744403068247,
         "_deepnote_index_column": 16864
        },
        {
         "id": "85479",
         "CO2_working_capacity [mL/g]": 21.597279315525935,
         "_deepnote_index_column": 16865
        },
        {
         "id": "85480",
         "CO2_working_capacity [mL/g]": 30.403138215744264,
         "_deepnote_index_column": 16866
        },
        {
         "id": "85481",
         "CO2_working_capacity [mL/g]": 3.6630159097559143,
         "_deepnote_index_column": 16867
        },
        {
         "id": "85482",
         "CO2_working_capacity [mL/g]": 18.036645909809934,
         "_deepnote_index_column": 16868
        },
        {
         "id": "85483",
         "CO2_working_capacity [mL/g]": 2.5035190756477066,
         "_deepnote_index_column": 16869
        },
        {
         "id": "85484",
         "CO2_working_capacity [mL/g]": -4.970441804247331,
         "_deepnote_index_column": 16870
        },
        {
         "id": "85485",
         "CO2_working_capacity [mL/g]": -0.12265588488197447,
         "_deepnote_index_column": 16871
        },
        {
         "id": "85486",
         "CO2_working_capacity [mL/g]": -1.9322665714336822,
         "_deepnote_index_column": 16872
        },
        {
         "id": "85487",
         "CO2_working_capacity [mL/g]": -0.0021386354454654053,
         "_deepnote_index_column": 16873
        },
        {
         "id": "85488",
         "CO2_working_capacity [mL/g]": -3.0498421834994858,
         "_deepnote_index_column": 16874
        },
        {
         "id": "85489",
         "CO2_working_capacity [mL/g]": -5.49082537637939,
         "_deepnote_index_column": 16875
        },
        {
         "id": "85490",
         "CO2_working_capacity [mL/g]": 10.729317748146471,
         "_deepnote_index_column": 16876
        },
        {
         "id": "85491",
         "CO2_working_capacity [mL/g]": 2.1392361478596182,
         "_deepnote_index_column": 16877
        },
        {
         "id": "85492",
         "CO2_working_capacity [mL/g]": -7.619817327983899,
         "_deepnote_index_column": 16878
        },
        {
         "id": "85493",
         "CO2_working_capacity [mL/g]": 27.530079310883707,
         "_deepnote_index_column": 16879
        },
        {
         "id": "85494",
         "CO2_working_capacity [mL/g]": -7.86910535095749,
         "_deepnote_index_column": 16880
        },
        {
         "id": "85495",
         "CO2_working_capacity [mL/g]": 22.174854586153202,
         "_deepnote_index_column": 16881
        },
        {
         "id": "85496",
         "CO2_working_capacity [mL/g]": 8.548932922965701,
         "_deepnote_index_column": 16882
        },
        {
         "id": "85497",
         "CO2_working_capacity [mL/g]": -13.302900795461747,
         "_deepnote_index_column": 16883
        },
        {
         "id": "85498",
         "CO2_working_capacity [mL/g]": 0.4021038140497157,
         "_deepnote_index_column": 16884
        },
        {
         "id": "85499",
         "CO2_working_capacity [mL/g]": -1.558300111545768,
         "_deepnote_index_column": 16885
        },
        {
         "id": "85500",
         "CO2_working_capacity [mL/g]": -1.1626208817404138,
         "_deepnote_index_column": 16886
        },
        {
         "id": "85501",
         "CO2_working_capacity [mL/g]": 3.719425552392178,
         "_deepnote_index_column": 16887
        },
        {
         "id": "85502",
         "CO2_working_capacity [mL/g]": 20.021970965001056,
         "_deepnote_index_column": 16888
        },
        {
         "id": "85503",
         "CO2_working_capacity [mL/g]": 1.4068539526554271,
         "_deepnote_index_column": 16889
        },
        {
         "id": "85504",
         "CO2_working_capacity [mL/g]": -1.7717209716766673,
         "_deepnote_index_column": 16890
        },
        {
         "id": "85505",
         "CO2_working_capacity [mL/g]": -1.5118791976040995,
         "_deepnote_index_column": 16891
        },
        {
         "id": "85506",
         "CO2_working_capacity [mL/g]": -3.3024098205950865,
         "_deepnote_index_column": 16892
        },
        {
         "id": "85507",
         "CO2_working_capacity [mL/g]": 9.321962857443355,
         "_deepnote_index_column": 16893
        },
        {
         "id": "85508",
         "CO2_working_capacity [mL/g]": 3.2542060241587643,
         "_deepnote_index_column": 16894
        },
        {
         "id": "85509",
         "CO2_working_capacity [mL/g]": -0.4293117806423827,
         "_deepnote_index_column": 16895
        },
        {
         "id": "85510",
         "CO2_working_capacity [mL/g]": 1.5219460338036424,
         "_deepnote_index_column": 16896
        },
        {
         "id": "85511",
         "CO2_working_capacity [mL/g]": 8.970444025687181,
         "_deepnote_index_column": 16897
        },
        {
         "id": "85512",
         "CO2_working_capacity [mL/g]": -2.443863873910623,
         "_deepnote_index_column": 16898
        },
        {
         "id": "85513",
         "CO2_working_capacity [mL/g]": 5.632538416162354,
         "_deepnote_index_column": 16899
        },
        {
         "id": "85514",
         "CO2_working_capacity [mL/g]": -1.1722654263586818,
         "_deepnote_index_column": 16900
        },
        {
         "id": "85515",
         "CO2_working_capacity [mL/g]": -6.225569629936937,
         "_deepnote_index_column": 16901
        },
        {
         "id": "85516",
         "CO2_working_capacity [mL/g]": -13.961204468142801,
         "_deepnote_index_column": 16902
        },
        {
         "id": "85517",
         "CO2_working_capacity [mL/g]": 2.5319232211676836,
         "_deepnote_index_column": 16903
        },
        {
         "id": "85518",
         "CO2_working_capacity [mL/g]": -3.969791930606903,
         "_deepnote_index_column": 16904
        },
        {
         "id": "85519",
         "CO2_working_capacity [mL/g]": -2.8205657793912775,
         "_deepnote_index_column": 16905
        },
        {
         "id": "85520",
         "CO2_working_capacity [mL/g]": -4.267077487874769,
         "_deepnote_index_column": 16906
        },
        {
         "id": "85521",
         "CO2_working_capacity [mL/g]": 33.00069969102332,
         "_deepnote_index_column": 16907
        },
        {
         "id": "85522",
         "CO2_working_capacity [mL/g]": -2.3205309797470037,
         "_deepnote_index_column": 16908
        },
        {
         "id": "85523",
         "CO2_working_capacity [mL/g]": 21.15730377507884,
         "_deepnote_index_column": 16909
        },
        {
         "id": "85524",
         "CO2_working_capacity [mL/g]": -6.337471714050435,
         "_deepnote_index_column": 16910
        },
        {
         "id": "85525",
         "CO2_working_capacity [mL/g]": -13.352083634710608,
         "_deepnote_index_column": 16911
        },
        {
         "id": "85526",
         "CO2_working_capacity [mL/g]": 0.1775014619221995,
         "_deepnote_index_column": 16912
        },
        {
         "id": "85527",
         "CO2_working_capacity [mL/g]": -4.349942400830222,
         "_deepnote_index_column": 16913
        },
        {
         "id": "85528",
         "CO2_working_capacity [mL/g]": -5.08206262358993,
         "_deepnote_index_column": 16914
        },
        {
         "id": "85529",
         "CO2_working_capacity [mL/g]": -0.8067781780866881,
         "_deepnote_index_column": 16915
        },
        {
         "id": "85530",
         "CO2_working_capacity [mL/g]": -0.8066424179168042,
         "_deepnote_index_column": 16916
        },
        {
         "id": "85531",
         "CO2_working_capacity [mL/g]": 3.7010429102004303,
         "_deepnote_index_column": 16917
        },
        {
         "id": "85532",
         "CO2_working_capacity [mL/g]": 4.07272247449627,
         "_deepnote_index_column": 16918
        },
        {
         "id": "85533",
         "CO2_working_capacity [mL/g]": 7.780499990533095,
         "_deepnote_index_column": 16919
        },
        {
         "id": "85534",
         "CO2_working_capacity [mL/g]": 59.978248785112925,
         "_deepnote_index_column": 16920
        },
        {
         "id": "85535",
         "CO2_working_capacity [mL/g]": 6.332758511972735,
         "_deepnote_index_column": 16921
        },
        {
         "id": "85536",
         "CO2_working_capacity [mL/g]": 8.061685062833705,
         "_deepnote_index_column": 16922
        },
        {
         "id": "85537",
         "CO2_working_capacity [mL/g]": -2.7802596433706745,
         "_deepnote_index_column": 16923
        },
        {
         "id": "85538",
         "CO2_working_capacity [mL/g]": 0.1944002365932115,
         "_deepnote_index_column": 16924
        },
        {
         "id": "85539",
         "CO2_working_capacity [mL/g]": -5.806154125813941,
         "_deepnote_index_column": 16925
        },
        {
         "id": "85540",
         "CO2_working_capacity [mL/g]": 3.239906875153647,
         "_deepnote_index_column": 16926
        },
        {
         "id": "85541",
         "CO2_working_capacity [mL/g]": 1.591005296483791,
         "_deepnote_index_column": 16927
        },
        {
         "id": "85542",
         "CO2_working_capacity [mL/g]": -0.10643375859027922,
         "_deepnote_index_column": 16928
        },
        {
         "id": "85543",
         "CO2_working_capacity [mL/g]": 11.351887639158328,
         "_deepnote_index_column": 16929
        },
        {
         "id": "85544",
         "CO2_working_capacity [mL/g]": 7.355414269780993,
         "_deepnote_index_column": 16930
        },
        {
         "id": "85545",
         "CO2_working_capacity [mL/g]": -2.128230407678366,
         "_deepnote_index_column": 16931
        },
        {
         "id": "85546",
         "CO2_working_capacity [mL/g]": -5.749387144946887,
         "_deepnote_index_column": 16932
        },
        {
         "id": "85547",
         "CO2_working_capacity [mL/g]": 1.0690972440090332,
         "_deepnote_index_column": 16933
        },
        {
         "id": "85548",
         "CO2_working_capacity [mL/g]": 45.61553655483035,
         "_deepnote_index_column": 16934
        },
        {
         "id": "85549",
         "CO2_working_capacity [mL/g]": -1.3827163387433743,
         "_deepnote_index_column": 16935
        },
        {
         "id": "85550",
         "CO2_working_capacity [mL/g]": -5.9322067243623975,
         "_deepnote_index_column": 16936
        },
        {
         "id": "85551",
         "CO2_working_capacity [mL/g]": 0.5511706287968181,
         "_deepnote_index_column": 16937
        },
        {
         "id": "85552",
         "CO2_working_capacity [mL/g]": -7.498578202124385,
         "_deepnote_index_column": 16938
        },
        {
         "id": "85553",
         "CO2_working_capacity [mL/g]": 17.93706992203855,
         "_deepnote_index_column": 16939
        },
        {
         "id": "85554",
         "CO2_working_capacity [mL/g]": 13.326032973671351,
         "_deepnote_index_column": 16940
        },
        {
         "id": "85555",
         "CO2_working_capacity [mL/g]": 20.111868076651128,
         "_deepnote_index_column": 16941
        },
        {
         "id": "85556",
         "CO2_working_capacity [mL/g]": 30.153790242450373,
         "_deepnote_index_column": 16942
        },
        {
         "id": "85557",
         "CO2_working_capacity [mL/g]": 3.134573599025654,
         "_deepnote_index_column": 16943
        },
        {
         "id": "85558",
         "CO2_working_capacity [mL/g]": -2.126929781918253,
         "_deepnote_index_column": 16944
        },
        {
         "id": "85559",
         "CO2_working_capacity [mL/g]": -9.6010224012264,
         "_deepnote_index_column": 16945
        },
        {
         "id": "85560",
         "CO2_working_capacity [mL/g]": -5.970867984941035,
         "_deepnote_index_column": 16946
        },
        {
         "id": "85561",
         "CO2_working_capacity [mL/g]": -1.0976418286990421,
         "_deepnote_index_column": 16947
        },
        {
         "id": "85562",
         "CO2_working_capacity [mL/g]": 40.85610534282227,
         "_deepnote_index_column": 16948
        },
        {
         "id": "85563",
         "CO2_working_capacity [mL/g]": -2.8491606148633593,
         "_deepnote_index_column": 16949
        },
        {
         "id": "85564",
         "CO2_working_capacity [mL/g]": 2.649098050471703,
         "_deepnote_index_column": 16950
        },
        {
         "id": "85565",
         "CO2_working_capacity [mL/g]": -0.08969301536838088,
         "_deepnote_index_column": 16951
        },
        {
         "id": "85566",
         "CO2_working_capacity [mL/g]": -3.542599917279569,
         "_deepnote_index_column": 16952
        },
        {
         "id": "85567",
         "CO2_working_capacity [mL/g]": -7.415954236421389,
         "_deepnote_index_column": 16953
        },
        {
         "id": "85568",
         "CO2_working_capacity [mL/g]": -5.986271653787629,
         "_deepnote_index_column": 16954
        },
        {
         "id": "85569",
         "CO2_working_capacity [mL/g]": 4.667846305638851,
         "_deepnote_index_column": 16955
        },
        {
         "id": "85570",
         "CO2_working_capacity [mL/g]": -5.601365000654996,
         "_deepnote_index_column": 16956
        },
        {
         "id": "85571",
         "CO2_working_capacity [mL/g]": 2.5196489924597265,
         "_deepnote_index_column": 16957
        },
        {
         "id": "85572",
         "CO2_working_capacity [mL/g]": -0.978098083268915,
         "_deepnote_index_column": 16958
        },
        {
         "id": "85573",
         "CO2_working_capacity [mL/g]": -0.8350268322136087,
         "_deepnote_index_column": 16959
        },
        {
         "id": "85574",
         "CO2_working_capacity [mL/g]": 6.377530750337091,
         "_deepnote_index_column": 16960
        },
        {
         "id": "85575",
         "CO2_working_capacity [mL/g]": 85.52187204494597,
         "_deepnote_index_column": 16961
        },
        {
         "id": "85576",
         "CO2_working_capacity [mL/g]": 2.398091621768137,
         "_deepnote_index_column": 16962
        },
        {
         "id": "85577",
         "CO2_working_capacity [mL/g]": 26.065547954459674,
         "_deepnote_index_column": 16963
        },
        {
         "id": "85578",
         "CO2_working_capacity [mL/g]": -6.867014294168977,
         "_deepnote_index_column": 16964
        },
        {
         "id": "85579",
         "CO2_working_capacity [mL/g]": -5.569815384579077,
         "_deepnote_index_column": 16965
        },
        {
         "id": "85580",
         "CO2_working_capacity [mL/g]": 2.5293627527297233,
         "_deepnote_index_column": 16966
        },
        {
         "id": "85581",
         "CO2_working_capacity [mL/g]": 43.82852783836615,
         "_deepnote_index_column": 16967
        },
        {
         "id": "85582",
         "CO2_working_capacity [mL/g]": -3.008332488267721,
         "_deepnote_index_column": 16968
        },
        {
         "id": "85583",
         "CO2_working_capacity [mL/g]": 3.084816875709232,
         "_deepnote_index_column": 16969
        },
        {
         "id": "85584",
         "CO2_working_capacity [mL/g]": -0.2075432851536234,
         "_deepnote_index_column": 16970
        },
        {
         "id": "85585",
         "CO2_working_capacity [mL/g]": 1.5840673580574396,
         "_deepnote_index_column": 16971
        },
        {
         "id": "85586",
         "CO2_working_capacity [mL/g]": -12.186359740145269,
         "_deepnote_index_column": 16972
        },
        {
         "id": "85587",
         "CO2_working_capacity [mL/g]": -0.8724144628916396,
         "_deepnote_index_column": 16973
        },
        {
         "id": "85588",
         "CO2_working_capacity [mL/g]": 3.928073099920937,
         "_deepnote_index_column": 16974
        },
        {
         "id": "85589",
         "CO2_working_capacity [mL/g]": -6.242074100477024,
         "_deepnote_index_column": 16975
        },
        {
         "id": "85590",
         "CO2_working_capacity [mL/g]": -2.283364689260942,
         "_deepnote_index_column": 16976
        },
        {
         "id": "85591",
         "CO2_working_capacity [mL/g]": -6.384275364541044,
         "_deepnote_index_column": 16977
        },
        {
         "id": "85592",
         "CO2_working_capacity [mL/g]": -3.0173802085915145,
         "_deepnote_index_column": 16978
        },
        {
         "id": "85593",
         "CO2_working_capacity [mL/g]": 23.13721517162406,
         "_deepnote_index_column": 16979
        },
        {
         "id": "85594",
         "CO2_working_capacity [mL/g]": 3.027139904277751,
         "_deepnote_index_column": 16980
        },
        {
         "id": "85595",
         "CO2_working_capacity [mL/g]": 0.7905151341427885,
         "_deepnote_index_column": 16981
        },
        {
         "id": "85596",
         "CO2_working_capacity [mL/g]": -0.5928071989858624,
         "_deepnote_index_column": 16982
        },
        {
         "id": "85597",
         "CO2_working_capacity [mL/g]": -1.8839405085343437,
         "_deepnote_index_column": 16983
        },
        {
         "id": "85598",
         "CO2_working_capacity [mL/g]": 2.5514015814143263,
         "_deepnote_index_column": 16984
        },
        {
         "id": "85599",
         "CO2_working_capacity [mL/g]": 4.485753613475935,
         "_deepnote_index_column": 16985
        },
        {
         "id": "85600",
         "CO2_working_capacity [mL/g]": 4.593827281280852,
         "_deepnote_index_column": 16986
        },
        {
         "id": "85601",
         "CO2_working_capacity [mL/g]": 0.006585566923009178,
         "_deepnote_index_column": 16987
        },
        {
         "id": "85602",
         "CO2_working_capacity [mL/g]": 12.766664975212386,
         "_deepnote_index_column": 16988
        },
        {
         "id": "85603",
         "CO2_working_capacity [mL/g]": 1.9796601341474365,
         "_deepnote_index_column": 16989
        },
        {
         "id": "85604",
         "CO2_working_capacity [mL/g]": 3.457153675420148,
         "_deepnote_index_column": 16990
        },
        {
         "id": "85605",
         "CO2_working_capacity [mL/g]": 8.341645404944552,
         "_deepnote_index_column": 16991
        },
        {
         "id": "85606",
         "CO2_working_capacity [mL/g]": -2.3822168357703464,
         "_deepnote_index_column": 16992
        },
        {
         "id": "85607",
         "CO2_working_capacity [mL/g]": -2.282930348602132,
         "_deepnote_index_column": 16993
        },
        {
         "id": "85608",
         "CO2_working_capacity [mL/g]": -3.080945556715258,
         "_deepnote_index_column": 16994
        },
        {
         "id": "85609",
         "CO2_working_capacity [mL/g]": -6.955296045836454,
         "_deepnote_index_column": 16995
        },
        {
         "id": "85610",
         "CO2_working_capacity [mL/g]": 0.8635673617767102,
         "_deepnote_index_column": 16996
        },
        {
         "id": "85611",
         "CO2_working_capacity [mL/g]": 1.868389547787296,
         "_deepnote_index_column": 16997
        },
        {
         "id": "85612",
         "CO2_working_capacity [mL/g]": 3.504433643121469,
         "_deepnote_index_column": 16998
        },
        {
         "id": "85613",
         "CO2_working_capacity [mL/g]": -4.145497455503278,
         "_deepnote_index_column": 16999
        }
       ]
      },
      "text/plain": "          id  CO2_working_capacity [mL/g]\n0      68614                   164.542813\n1      68615                    64.783463\n2      68616                    74.758122\n3      68617                    66.927417\n4      68618                    68.188738\n...      ...                          ...\n16995  85609                    -6.955296\n16996  85610                     0.863567\n16997  85611                     1.868390\n16998  85612                     3.504434\n16999  85613                    -4.145497\n\n[17000 rows x 2 columns]",
      "text/html": "<div>\n<style scoped>\n    .dataframe tbody tr th:only-of-type {\n        vertical-align: middle;\n    }\n\n    .dataframe tbody tr th {\n        vertical-align: top;\n    }\n\n    .dataframe thead th {\n        text-align: right;\n    }\n</style>\n<table border=\"1\" class=\"dataframe\">\n  <thead>\n    <tr style=\"text-align: right;\">\n      <th></th>\n      <th>id</th>\n      <th>CO2_working_capacity [mL/g]</th>\n    </tr>\n  </thead>\n  <tbody>\n    <tr>\n      <th>0</th>\n      <td>68614</td>\n      <td>164.542813</td>\n    </tr>\n    <tr>\n      <th>1</th>\n      <td>68615</td>\n      <td>64.783463</td>\n    </tr>\n    <tr>\n      <th>2</th>\n      <td>68616</td>\n      <td>74.758122</td>\n    </tr>\n    <tr>\n      <th>3</th>\n      <td>68617</td>\n      <td>66.927417</td>\n    </tr>\n    <tr>\n      <th>4</th>\n      <td>68618</td>\n      <td>68.188738</td>\n    </tr>\n    <tr>\n      <th>...</th>\n      <td>...</td>\n      <td>...</td>\n    </tr>\n    <tr>\n      <th>16995</th>\n      <td>85609</td>\n      <td>-6.955296</td>\n    </tr>\n    <tr>\n      <th>16996</th>\n      <td>85610</td>\n      <td>0.863567</td>\n    </tr>\n    <tr>\n      <th>16997</th>\n      <td>85611</td>\n      <td>1.868390</td>\n    </tr>\n    <tr>\n      <th>16998</th>\n      <td>85612</td>\n      <td>3.504434</td>\n    </tr>\n    <tr>\n      <th>16999</th>\n      <td>85613</td>\n      <td>-4.145497</td>\n    </tr>\n  </tbody>\n</table>\n<p>17000 rows × 2 columns</p>\n</div>"
     },
     "metadata": {}
    }
   ],
   "execution_count": null
  },
  {
   "cell_type": "code",
   "metadata": {
    "tags": [],
    "cell_id": "00029-493bcb14-d8e8-4176-beab-e0745a7f2710",
    "deepnote_to_be_reexecuted": false,
    "source_hash": "22c83f26",
    "execution_start": 1634396700349,
    "execution_millis": 506,
    "deepnote_cell_type": "code"
   },
   "source": "df.to_csv('submission_1.csv',index=False)",
   "outputs": [],
   "execution_count": null
  },
  {
   "cell_type": "markdown",
   "source": "<a style='text-decoration:none;line-height:16px;display:flex;color:#5B5B62;padding:10px;justify-content:end;' href='https://deepnote.com?utm_source=created-in-deepnote-cell&projectId=d67ce81e-9cfa-4bad-a987-ead48a3cce00' target=\"_blank\">\n<img alt='Created in deepnote.com' style='display:inline;max-height:16px;margin:0px;margin-right:7.5px;' src='data:image/svg+xml;base64,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' > </img>\nCreated in <span style='font-weight:600;margin-left:4px;'>Deepnote</span></a>",
   "metadata": {
    "tags": [],
    "created_in_deepnote_cell": true,
    "deepnote_cell_type": "markdown"
   }
  }
 ],
 "nbformat": 4,
 "nbformat_minor": 2,
 "metadata": {
  "orig_nbformat": 2,
  "deepnote": {
   "is_reactive": false
  },
  "deepnote_notebook_id": "b274bf00-e6d2-42cd-9c88-dbe59f16b2d8",
  "deepnote_execution_queue": []
 }
}