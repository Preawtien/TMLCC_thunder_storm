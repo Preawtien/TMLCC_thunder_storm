{
 "cells": [
  {
   "cell_type": "code",
   "metadata": {
    "tags": [],
    "cell_id": "00000-c953c03e-5d24-4069-aebc-ab508f2d6059",
    "deepnote_to_be_reexecuted": false,
    "source_hash": "5241c70a",
    "execution_start": 1634308966943,
    "execution_millis": 4641,
    "deepnote_cell_type": "code"
   },
   "source": "import pandas as pd\nimport numpy as np\nimport matplotlib.pyplot as plt\nimport math\nimport tensorflow as tf\nimport matplotlib\nimport seaborn as sns\nfrom tensorflow.keras import models\nfrom tensorflow.keras.layers import Dense, Flatten, Softmax, Dropout\nfrom sklearn.model_selection import train_test_split\nfrom sklearn.preprocessing import StandardScaler",
   "outputs": [],
   "execution_count": null
  },
  {
   "cell_type": "code",
   "metadata": {
    "tags": [],
    "cell_id": "00002-a4b02d9f-93ca-4d18-afc4-7eaae99079a8",
    "deepnote_to_be_reexecuted": false,
    "source_hash": "91153c1c",
    "execution_start": 1634308971585,
    "execution_millis": 644,
    "deepnote_cell_type": "code"
   },
   "source": "train_ = pd.read_csv('train_final.csv')\ntest = pd.read_csv('test_28_final.csv')\ntest_28 = pd.read_csv('test_28_final.csv')",
   "outputs": [],
   "execution_count": null
  },
  {
   "cell_type": "code",
   "metadata": {
    "tags": [],
    "cell_id": "00006-e927fc81-cc91-42c6-b0aa-568d40ffb5df",
    "deepnote_to_be_reexecuted": false,
    "source_hash": "7acd7949",
    "execution_start": 1634308977635,
    "execution_millis": 15,
    "deepnote_cell_type": "code"
   },
   "source": "for col in ['metal_linker', 'organic_linker1', 'organic_linker2']:\n    train_[col] = train_[col].astype('category')",
   "outputs": [],
   "execution_count": null
  },
  {
   "cell_type": "markdown",
   "source": "## Explore Data and remove outlier, multicollinearity (optional)",
   "metadata": {
    "tags": [],
    "is_collapsed": false,
    "cell_id": "00006-4b91f2fa-56ab-4f27-b0d3-1e1f74ccb59e",
    "deepnote_cell_type": "text-cell-h2"
   }
  },
  {
   "cell_type": "code",
   "metadata": {
    "tags": [],
    "cell_id": "00005-71f3b7f0-4a5e-44e0-a931-2864f833e95c",
    "deepnote_to_be_reexecuted": false,
    "source_hash": "9a5ea39a",
    "execution_start": 1634308983536,
    "execution_millis": 14,
    "deepnote_cell_type": "code"
   },
   "source": "train = train_.copy()",
   "outputs": [],
   "execution_count": null
  },
  {
   "cell_type": "code",
   "metadata": {
    "tags": [],
    "cell_id": "00008-ecb7e35a-30c7-4c09-8508-6b5dd02aadf5",
    "deepnote_to_be_reexecuted": false,
    "source_hash": "6d1d5103",
    "execution_start": 1634307590024,
    "execution_millis": 9,
    "deepnote_cell_type": "code"
   },
   "source": "train.columns",
   "outputs": [
    {
     "output_type": "execute_result",
     "execution_count": 6,
     "data": {
      "text/plain": "Index(['MOFname', 'volume [A^3]', 'weight [u]', 'density [g/cm^3]',\n       'surface_area [m^2/g]', 'gsa', 'vsa', 'smiles', 'MolWt', 'MolLogP',\n       'NumValenceElectrons', 'HeavyAtomCount', 'NOCount', 'NumAliphaticRings',\n       'NumAromaticRings', 'NumHAcceptors', 'NumHDonors', 'NumHeteroatoms',\n       'NumRotatableBonds', 'void_fraction', 'void_volume [cm^3/g]',\n       'functional_groups', 'metal_linker', 'organic_linker1',\n       'organic_linker2', 'topology', 'CO2/N2_selectivity',\n       'heat_adsorption_CO2_P0.15bar_T298K [kcal/mol]',\n       'CO2_working_capacity [mL/g]', 'CID', 'MolecularFormula',\n       'MolecularWeight', 'InChI', 'InChIKey', 'IUPACName', 'XLogP',\n       'ExactMass', 'MonoisotopicMass', 'TPSA', 'Complexity', 'Charge',\n       'HBondDonorCount', 'HBondAcceptorCount', 'RotatableBondCount',\n       'IsotopeAtomCount', 'AtomStereoCount', 'DefinedAtomStereoCount',\n       'UndefinedAtomStereoCount', 'BondStereoCount', 'DefinedBondStereoCount',\n       'UndefinedBondStereoCount', 'CovalentUnitCount'],\n      dtype='object')"
     },
     "metadata": {}
    }
   ],
   "execution_count": null
  },
  {
   "cell_type": "code",
   "metadata": {
    "tags": [],
    "cell_id": "00012-29d0a4c2-e66e-488b-bb7c-0f31f4a69acb",
    "deepnote_to_be_reexecuted": false,
    "source_hash": "70d369cb",
    "execution_start": 1634307594263,
    "execution_millis": 3,
    "deepnote_cell_type": "code"
   },
   "source": "check_col= ['volume [A^3]', 'weight [u]', 'density [g/cm^3]',\n       'surface_area [m^2/g]', 'void_fraction', 'void_volume [cm^3/g]',\n       'CO2/N2_selectivity',\n       'heat_adsorption_CO2_P0.15bar_T298K [kcal/mol]']\n",
   "outputs": [],
   "execution_count": null
  },
  {
   "cell_type": "code",
   "metadata": {
    "tags": [],
    "cell_id": "00014-758bf4f8-e5b2-4fae-b57b-092328e6a5ba",
    "deepnote_to_be_reexecuted": false,
    "source_hash": "a5666a80",
    "execution_start": 1634307601861,
    "execution_millis": 1,
    "deepnote_cell_type": "code"
   },
   "source": "def point_outlier(d):\n    Q1 = d.describe()['25%']\n    Q3 = d.describe()['75%']\n    IQR = Q3-Q1\n    min_ = Q1-1.5*IQR\n    max_ = Q3+1.5*IQR\n    return min_,max_",
   "outputs": [],
   "execution_count": null
  },
  {
   "cell_type": "code",
   "metadata": {
    "tags": [],
    "cell_id": "00014-9916ad08-236d-43f1-8c2c-073f0abab2cb",
    "deepnote_to_be_reexecuted": false,
    "source_hash": "b56762d4",
    "execution_start": 1634224246053,
    "execution_millis": 108,
    "deepnote_cell_type": "code"
   },
   "source": "# for col in check_col:\n#     min_,max_ = point_outlier(train[col])\n#     train.loc[train[col] < min_, col] = np.NAN\n#     train.loc[train[col] > max_, col] = np.NAN",
   "outputs": [],
   "execution_count": null
  },
  {
   "cell_type": "code",
   "metadata": {
    "tags": [],
    "cell_id": "00015-61569b58-8463-4690-8c4c-6aca9b5d6c6e",
    "deepnote_to_be_reexecuted": false,
    "source_hash": "f8683763",
    "execution_start": 1634224248813,
    "execution_millis": 135,
    "deepnote_cell_type": "code"
   },
   "source": "# train.isnull().sum()",
   "outputs": [
    {
     "output_type": "execute_result",
     "execution_count": 119,
     "data": {
      "text/plain": "MOFname                                             0\nvolume [A^3]                                     5229\nweight [u]                                       5477\ndensity [g/cm^3]                                  958\nsurface_area [m^2/g]                             1645\ngsa                                                 0\nvsa                                                 0\nsmiles                                              0\nMolWt                                               0\nMolLogP                                             0\nNumValenceElectrons                                 0\nHeavyAtomCount                                      0\nNOCount                                             0\nNumAliphaticRings                                   0\nNumAromaticRings                                    0\nNumHAcceptors                                       0\nNumHDonors                                          0\nNumHeteroatoms                                      0\nNumRotatableBonds                                   0\nvoid_fraction                                    2172\nvoid_volume [cm^3/g]                             4884\nfunctional_groups                                   0\nmetal_linker                                        0\norganic_linker1                                     0\norganic_linker2                                     0\ntopology                                            0\nCO2/N2_selectivity                               4801\nheat_adsorption_CO2_P0.15bar_T298K [kcal/mol]    2863\nCO2_working_capacity [mL/g]                         0\nCID                                                 0\nMolecularFormula                                    0\nMolecularWeight                                     0\nInChI                                               0\nInChIKey                                            0\nIUPACName                                           0\nXLogP                                               0\nExactMass                                           0\nMonoisotopicMass                                    0\nTPSA                                                0\nComplexity                                          0\nCharge                                              0\nHBondDonorCount                                     0\nHBondAcceptorCount                                  0\nRotatableBondCount                                  0\nIsotopeAtomCount                                    0\nAtomStereoCount                                     0\nDefinedAtomStereoCount                              0\nUndefinedAtomStereoCount                            0\nBondStereoCount                                     0\nDefinedBondStereoCount                              0\nUndefinedBondStereoCount                            0\nCovalentUnitCount                                   0\ndtype: int64"
     },
     "metadata": {}
    }
   ],
   "execution_count": null
  },
  {
   "cell_type": "code",
   "metadata": {
    "tags": [],
    "cell_id": "00012-64a5d241-05bc-4e9b-a744-1209d5001682",
    "deepnote_to_be_reexecuted": false,
    "source_hash": "16004683",
    "execution_start": 1634224253295,
    "execution_millis": 56,
    "deepnote_cell_type": "code"
   },
   "source": "# train = train.dropna()",
   "outputs": [],
   "execution_count": null
  },
  {
   "cell_type": "code",
   "metadata": {
    "tags": [],
    "cell_id": "00019-975728ce-dfea-4461-a63d-3d30f2eb38c5",
    "deepnote_to_be_reexecuted": false,
    "source_hash": "615423cc",
    "execution_start": 1634222958890,
    "execution_millis": 526,
    "deepnote_cell_type": "code"
   },
   "source": "train.corr()",
   "outputs": [
    {
     "output_type": "execute_result",
     "execution_count": 50,
     "data": {
      "application/vnd.deepnote.dataframe.v2+json": {
       "row_count": 41,
       "column_count": 41,
       "columns": [
        {
         "name": "volume [A^3]",
         "dtype": "float64",
         "stats": {
          "unique_count": 34,
          "nan_count": 7,
          "min": "-0.4211851055165421",
          "max": "1.0",
          "histogram": [
           {
            "bin_start": -0.4211851055165421,
            "bin_end": -0.2790665949648879,
            "count": 1
           },
           {
            "bin_start": -0.2790665949648879,
            "bin_end": -0.1369480844132337,
            "count": 2
           },
           {
            "bin_start": -0.1369480844132337,
            "bin_end": 0.005170426138420503,
            "count": 4
           },
           {
            "bin_start": 0.005170426138420503,
            "bin_end": 0.1472889366900747,
            "count": 19
           },
           {
            "bin_start": 0.1472889366900747,
            "bin_end": 0.28940744724172895,
            "count": 3
           },
           {
            "bin_start": 0.28940744724172895,
            "bin_end": 0.4315259577933831,
            "count": 1
           },
           {
            "bin_start": 0.4315259577933831,
            "bin_end": 0.5736444683450372,
            "count": 2
           },
           {
            "bin_start": 0.5736444683450372,
            "bin_end": 0.7157629788966915,
            "count": 0
           },
           {
            "bin_start": 0.7157629788966915,
            "bin_end": 0.8578814894483457,
            "count": 1
           },
           {
            "bin_start": 0.8578814894483457,
            "bin_end": 1,
            "count": 1
           }
          ]
         }
        },
        {
         "name": "weight [u]",
         "dtype": "float64",
         "stats": {
          "unique_count": 34,
          "nan_count": 7,
          "min": "-0.20664325195819108",
          "max": "1.0",
          "histogram": [
           {
            "bin_start": -0.20664325195819108,
            "bin_end": -0.08597892676237197,
            "count": 2
           },
           {
            "bin_start": -0.08597892676237197,
            "bin_end": 0.034685398433447145,
            "count": 5
           },
           {
            "bin_start": 0.034685398433447145,
            "bin_end": 0.15534972362926627,
            "count": 20
           },
           {
            "bin_start": 0.15534972362926627,
            "bin_end": 0.2760140488250854,
            "count": 5
           },
           {
            "bin_start": 0.2760140488250854,
            "bin_end": 0.39667837402090445,
            "count": 0
           },
           {
            "bin_start": 0.39667837402090445,
            "bin_end": 0.5173426992167236,
            "count": 0
           },
           {
            "bin_start": 0.5173426992167236,
            "bin_end": 0.6380070244125426,
            "count": 0
           },
           {
            "bin_start": 0.6380070244125426,
            "bin_end": 0.7586713496083618,
            "count": 0
           },
           {
            "bin_start": 0.7586713496083618,
            "bin_end": 0.879335674804181,
            "count": 1
           },
           {
            "bin_start": 0.879335674804181,
            "bin_end": 1,
            "count": 1
           }
          ]
         }
        },
        {
         "name": "density [g/cm^3]",
         "dtype": "float64",
         "stats": {
          "unique_count": 34,
          "nan_count": 7,
          "min": "-0.8853690014635106",
          "max": "1.0",
          "histogram": [
           {
            "bin_start": -0.8853690014635106,
            "bin_end": -0.6968321013171596,
            "count": 3
           },
           {
            "bin_start": -0.6968321013171596,
            "bin_end": -0.5082952011708085,
            "count": 2
           },
           {
            "bin_start": -0.5082952011708085,
            "bin_end": -0.31975830102445746,
            "count": 1
           },
           {
            "bin_start": -0.31975830102445746,
            "bin_end": -0.1312214008781064,
            "count": 0
           },
           {
            "bin_start": -0.1312214008781064,
            "bin_end": 0.05731549926824464,
            "count": 11
           },
           {
            "bin_start": 0.05731549926824464,
            "bin_end": 0.2458523994145957,
            "count": 13
           },
           {
            "bin_start": 0.2458523994145957,
            "bin_end": 0.43438929956094674,
            "count": 1
           },
           {
            "bin_start": 0.43438929956094674,
            "bin_end": 0.6229261997072978,
            "count": 1
           },
           {
            "bin_start": 0.6229261997072978,
            "bin_end": 0.8114630998536488,
            "count": 1
           },
           {
            "bin_start": 0.8114630998536488,
            "bin_end": 1,
            "count": 1
           }
          ]
         }
        },
        {
         "name": "surface_area [m^2/g]",
         "dtype": "float64",
         "stats": {
          "unique_count": 34,
          "nan_count": 7,
          "min": "-0.8437613793659494",
          "max": "1.0",
          "histogram": [
           {
            "bin_start": -0.8437613793659494,
            "bin_end": -0.6593852414293544,
            "count": 1
           },
           {
            "bin_start": -0.6593852414293544,
            "bin_end": -0.4750091034927595,
            "count": 2
           },
           {
            "bin_start": -0.4750091034927595,
            "bin_end": -0.29063296555616447,
            "count": 1
           },
           {
            "bin_start": -0.29063296555616447,
            "bin_end": -0.10625682761956956,
            "count": 4
           },
           {
            "bin_start": -0.10625682761956956,
            "bin_end": 0.07811931031702535,
            "count": 20
           },
           {
            "bin_start": 0.07811931031702535,
            "bin_end": 0.2624954482536205,
            "count": 0
           },
           {
            "bin_start": 0.2624954482536205,
            "bin_end": 0.4468715861902154,
            "count": 1
           },
           {
            "bin_start": 0.4468715861902154,
            "bin_end": 0.6312477241268103,
            "count": 0
           },
           {
            "bin_start": 0.6312477241268103,
            "bin_end": 0.8156238620634052,
            "count": 2
           },
           {
            "bin_start": 0.8156238620634052,
            "bin_end": 1,
            "count": 3
           }
          ]
         }
        },
        {
         "name": "gsa",
         "dtype": "float64",
         "stats": {
          "unique_count": 34,
          "nan_count": 7,
          "min": "-0.6794021566870816",
          "max": "1.0",
          "histogram": [
           {
            "bin_start": -0.6794021566870816,
            "bin_end": -0.5114619410183734,
            "count": 2
           },
           {
            "bin_start": -0.5114619410183734,
            "bin_end": -0.3435217253496653,
            "count": 1
           },
           {
            "bin_start": -0.3435217253496653,
            "bin_end": -0.1755815096809572,
            "count": 1
           },
           {
            "bin_start": -0.1755815096809572,
            "bin_end": -0.007641294012249,
            "count": 23
           },
           {
            "bin_start": -0.007641294012249,
            "bin_end": 0.1602989216564592,
            "count": 1
           },
           {
            "bin_start": 0.1602989216564592,
            "bin_end": 0.3282391373251672,
            "count": 1
           },
           {
            "bin_start": 0.3282391373251672,
            "bin_end": 0.4961793529938754,
            "count": 0
           },
           {
            "bin_start": 0.4961793529938754,
            "bin_end": 0.6641195686625836,
            "count": 0
           },
           {
            "bin_start": 0.6641195686625836,
            "bin_end": 0.8320597843312918,
            "count": 4
           },
           {
            "bin_start": 0.8320597843312918,
            "bin_end": 1,
            "count": 1
           }
          ]
         }
        },
        {
         "name": "vsa",
         "dtype": "float64",
         "stats": {
          "unique_count": 34,
          "nan_count": 7,
          "min": "-0.6295368022010225",
          "max": "1.0",
          "histogram": [
           {
            "bin_start": -0.6295368022010225,
            "bin_end": -0.4665831219809202,
            "count": 3
           },
           {
            "bin_start": -0.4665831219809202,
            "bin_end": -0.303629441760818,
            "count": 1
           },
           {
            "bin_start": -0.303629441760818,
            "bin_end": -0.14067576154071582,
            "count": 2
           },
           {
            "bin_start": -0.14067576154071582,
            "bin_end": 0.022277918679386444,
            "count": 20
           },
           {
            "bin_start": 0.022277918679386444,
            "bin_end": 0.1852315988994887,
            "count": 3
           },
           {
            "bin_start": 0.1852315988994887,
            "bin_end": 0.34818527911959085,
            "count": 0
           },
           {
            "bin_start": 0.34818527911959085,
            "bin_end": 0.5111389593396932,
            "count": 0
           },
           {
            "bin_start": 0.5111389593396932,
            "bin_end": 0.6740926395597954,
            "count": 0
           },
           {
            "bin_start": 0.6740926395597954,
            "bin_end": 0.8370463197798975,
            "count": 4
           },
           {
            "bin_start": 0.8370463197798975,
            "bin_end": 1,
            "count": 1
           }
          ]
         }
        },
        {
         "name": "MolWt",
         "dtype": "float64",
         "stats": {
          "unique_count": 34,
          "nan_count": 7,
          "min": "-0.12915794739499625",
          "max": "1.0",
          "histogram": [
           {
            "bin_start": -0.12915794739499625,
            "bin_end": -0.01624215265549664,
            "count": 5
           },
           {
            "bin_start": -0.01624215265549664,
            "bin_end": 0.09667364208400298,
            "count": 7
           },
           {
            "bin_start": 0.09667364208400298,
            "bin_end": 0.20958943682350256,
            "count": 3
           },
           {
            "bin_start": 0.20958943682350256,
            "bin_end": 0.3225052315630022,
            "count": 7
           },
           {
            "bin_start": 0.3225052315630022,
            "bin_end": 0.43542102630250185,
            "count": 4
           },
           {
            "bin_start": 0.43542102630250185,
            "bin_end": 0.5483368210420014,
            "count": 2
           },
           {
            "bin_start": 0.5483368210420014,
            "bin_end": 0.6612526157815011,
            "count": 2
           },
           {
            "bin_start": 0.6612526157815011,
            "bin_end": 0.7741684105210007,
            "count": 0
           },
           {
            "bin_start": 0.7741684105210007,
            "bin_end": 0.8870842052605004,
            "count": 0
           },
           {
            "bin_start": 0.8870842052605004,
            "bin_end": 1,
            "count": 4
           }
          ]
         }
        },
        {
         "name": "MolLogP",
         "dtype": "float64",
         "stats": {
          "unique_count": 34,
          "nan_count": 7,
          "min": "-0.5635071222222892",
          "max": "1.0",
          "histogram": [
           {
            "bin_start": -0.5635071222222892,
            "bin_end": -0.40715641000006025,
            "count": 7
           },
           {
            "bin_start": -0.40715641000006025,
            "bin_end": -0.25080569777783135,
            "count": 0
           },
           {
            "bin_start": -0.25080569777783135,
            "bin_end": -0.09445498555560244,
            "count": 1
           },
           {
            "bin_start": -0.09445498555560244,
            "bin_end": 0.06189572666662646,
            "count": 13
           },
           {
            "bin_start": 0.06189572666662646,
            "bin_end": 0.21824643888885542,
            "count": 3
           },
           {
            "bin_start": 0.21824643888885542,
            "bin_end": 0.37459715111108427,
            "count": 8
           },
           {
            "bin_start": 0.37459715111108427,
            "bin_end": 0.5309478633333131,
            "count": 1
           },
           {
            "bin_start": 0.5309478633333131,
            "bin_end": 0.6872985755555421,
            "count": 0
           },
           {
            "bin_start": 0.6872985755555421,
            "bin_end": 0.843649287777771,
            "count": 0
           },
           {
            "bin_start": 0.843649287777771,
            "bin_end": 1,
            "count": 1
           }
          ]
         }
        },
        {
         "name": "NumValenceElectrons",
         "dtype": "float64",
         "stats": {
          "unique_count": 34,
          "nan_count": 7,
          "min": "-0.15039336255069954",
          "max": "1.0",
          "histogram": [
           {
            "bin_start": -0.15039336255069954,
            "bin_end": -0.0353540262956296,
            "count": 7
           },
           {
            "bin_start": -0.0353540262956296,
            "bin_end": 0.07968530995944034,
            "count": 5
           },
           {
            "bin_start": 0.07968530995944034,
            "bin_end": 0.19472464621451027,
            "count": 5
           },
           {
            "bin_start": 0.19472464621451027,
            "bin_end": 0.30976398246958026,
            "count": 2
           },
           {
            "bin_start": 0.30976398246958026,
            "bin_end": 0.42480331872465016,
            "count": 1
           },
           {
            "bin_start": 0.42480331872465016,
            "bin_end": 0.5398426549797201,
            "count": 5
           },
           {
            "bin_start": 0.5398426549797201,
            "bin_end": 0.6548819912347901,
            "count": 4
           },
           {
            "bin_start": 0.6548819912347901,
            "bin_end": 0.76992132748986,
            "count": 3
           },
           {
            "bin_start": 0.76992132748986,
            "bin_end": 0.88496066374493,
            "count": 0
           },
           {
            "bin_start": 0.88496066374493,
            "bin_end": 1,
            "count": 2
           }
          ]
         }
        },
        {
         "name": "HeavyAtomCount",
         "dtype": "float64",
         "stats": {
          "unique_count": 34,
          "nan_count": 7,
          "min": "-0.13909479095599075",
          "max": "1.0",
          "histogram": [
           {
            "bin_start": -0.13909479095599075,
            "bin_end": -0.025185311860391676,
            "count": 7
           },
           {
            "bin_start": -0.025185311860391676,
            "bin_end": 0.0887241672352074,
            "count": 6
           },
           {
            "bin_start": 0.0887241672352074,
            "bin_end": 0.2026336463308065,
            "count": 4
           },
           {
            "bin_start": 0.2026336463308065,
            "bin_end": 0.31654312542640556,
            "count": 2
           },
           {
            "bin_start": 0.31654312542640556,
            "bin_end": 0.4304526045220046,
            "count": 0
           },
           {
            "bin_start": 0.4304526045220046,
            "bin_end": 0.5443620836176037,
            "count": 7
           },
           {
            "bin_start": 0.5443620836176037,
            "bin_end": 0.6582715627132028,
            "count": 4
           },
           {
            "bin_start": 0.6582715627132028,
            "bin_end": 0.7721810418088019,
            "count": 2
           },
           {
            "bin_start": 0.7721810418088019,
            "bin_end": 0.886090520904401,
            "count": 0
           },
           {
            "bin_start": 0.886090520904401,
            "bin_end": 1,
            "count": 2
           }
          ]
         }
        },
        {
         "name": "NOCount",
         "dtype": "float64",
         "stats": {
          "unique_count": 34,
          "nan_count": 7,
          "min": "-0.5260731530971406",
          "max": "1.0",
          "histogram": [
           {
            "bin_start": -0.5260731530971406,
            "bin_end": -0.3734658377874266,
            "count": 1
           },
           {
            "bin_start": -0.3734658377874266,
            "bin_end": -0.22085852247771254,
            "count": 0
           },
           {
            "bin_start": -0.22085852247771254,
            "bin_end": -0.06825120716799848,
            "count": 3
           },
           {
            "bin_start": -0.06825120716799848,
            "bin_end": 0.08435610814171557,
            "count": 7
           },
           {
            "bin_start": 0.08435610814171557,
            "bin_end": 0.23696342345142962,
            "count": 8
           },
           {
            "bin_start": 0.23696342345142962,
            "bin_end": 0.3895707387611437,
            "count": 5
           },
           {
            "bin_start": 0.3895707387611437,
            "bin_end": 0.5421780540708577,
            "count": 4
           },
           {
            "bin_start": 0.5421780540708577,
            "bin_end": 0.6947853693805718,
            "count": 1
           },
           {
            "bin_start": 0.6947853693805718,
            "bin_end": 0.8473926846902858,
            "count": 1
           },
           {
            "bin_start": 0.8473926846902858,
            "bin_end": 1,
            "count": 4
           }
          ]
         }
        },
        {
         "name": "NumAliphaticRings",
         "dtype": "float64",
         "stats": {
          "unique_count": 0,
          "nan_count": 41,
          "min": null,
          "max": null,
          "histogram": [
           {
            "bin_start": 0,
            "bin_end": 0.1,
            "count": 0
           },
           {
            "bin_start": 0.1,
            "bin_end": 0.2,
            "count": 0
           },
           {
            "bin_start": 0.2,
            "bin_end": 0.30000000000000004,
            "count": 0
           },
           {
            "bin_start": 0.30000000000000004,
            "bin_end": 0.4,
            "count": 0
           },
           {
            "bin_start": 0.4,
            "bin_end": 0.5,
            "count": 0
           },
           {
            "bin_start": 0.5,
            "bin_end": 0.6000000000000001,
            "count": 0
           },
           {
            "bin_start": 0.6000000000000001,
            "bin_end": 0.7000000000000001,
            "count": 0
           },
           {
            "bin_start": 0.7000000000000001,
            "bin_end": 0.8,
            "count": 0
           },
           {
            "bin_start": 0.8,
            "bin_end": 0.9,
            "count": 0
           },
           {
            "bin_start": 0.9,
            "bin_end": 1,
            "count": 0
           }
          ]
         }
        },
        {
         "name": "NumAromaticRings",
         "dtype": "float64",
         "stats": {
          "unique_count": 34,
          "nan_count": 7,
          "min": "-0.16228689572168192",
          "max": "1.0",
          "histogram": [
           {
            "bin_start": -0.16228689572168192,
            "bin_end": -0.04605820614951374,
            "count": 10
           },
           {
            "bin_start": -0.04605820614951374,
            "bin_end": 0.07017048342265444,
            "count": 15
           },
           {
            "bin_start": 0.07017048342265444,
            "bin_end": 0.18639917299482262,
            "count": 0
           },
           {
            "bin_start": 0.18639917299482262,
            "bin_end": 0.3026278625669908,
            "count": 5
           },
           {
            "bin_start": 0.3026278625669908,
            "bin_end": 0.418856552139159,
            "count": 1
           },
           {
            "bin_start": 0.418856552139159,
            "bin_end": 0.5350852417113272,
            "count": 2
           },
           {
            "bin_start": 0.5350852417113272,
            "bin_end": 0.6513139312834955,
            "count": 0
           },
           {
            "bin_start": 0.6513139312834955,
            "bin_end": 0.7675426208556635,
            "count": 0
           },
           {
            "bin_start": 0.7675426208556635,
            "bin_end": 0.8837713104278317,
            "count": 0
           },
           {
            "bin_start": 0.8837713104278317,
            "bin_end": 1,
            "count": 1
           }
          ]
         }
        },
        {
         "name": "NumHAcceptors",
         "dtype": "float64",
         "stats": {
          "unique_count": 34,
          "nan_count": 7,
          "min": "-0.4666590053398198",
          "max": "1.0",
          "histogram": [
           {
            "bin_start": -0.4666590053398198,
            "bin_end": -0.3199931048058378,
            "count": 1
           },
           {
            "bin_start": -0.3199931048058378,
            "bin_end": -0.17332720427185583,
            "count": 0
           },
           {
            "bin_start": -0.17332720427185583,
            "bin_end": -0.026661303737873843,
            "count": 6
           },
           {
            "bin_start": -0.026661303737873843,
            "bin_end": 0.12000459679610814,
            "count": 8
           },
           {
            "bin_start": 0.12000459679610814,
            "bin_end": 0.26667049733009013,
            "count": 3
           },
           {
            "bin_start": 0.26667049733009013,
            "bin_end": 0.4133363978640721,
            "count": 8
           },
           {
            "bin_start": 0.4133363978640721,
            "bin_end": 0.5600022983980539,
            "count": 3
           },
           {
            "bin_start": 0.5600022983980539,
            "bin_end": 0.706668198932036,
            "count": 0
           },
           {
            "bin_start": 0.706668198932036,
            "bin_end": 0.8533340994660181,
            "count": 3
           },
           {
            "bin_start": 0.8533340994660181,
            "bin_end": 1,
            "count": 2
           }
          ]
         }
        },
        {
         "name": "NumHDonors",
         "dtype": "float64",
         "stats": {
          "unique_count": 34,
          "nan_count": 7,
          "min": "-0.5277131951664776",
          "max": "1.0",
          "histogram": [
           {
            "bin_start": -0.5277131951664776,
            "bin_end": -0.3749418756498299,
            "count": 1
           },
           {
            "bin_start": -0.3749418756498299,
            "bin_end": -0.22217055613318215,
            "count": 0
           },
           {
            "bin_start": -0.22217055613318215,
            "bin_end": -0.06939923661653441,
            "count": 6
           },
           {
            "bin_start": -0.06939923661653441,
            "bin_end": 0.08337208290011333,
            "count": 16
           },
           {
            "bin_start": 0.08337208290011333,
            "bin_end": 0.23614340241676113,
            "count": 3
           },
           {
            "bin_start": 0.23614340241676113,
            "bin_end": 0.3889147219334088,
            "count": 2
           },
           {
            "bin_start": 0.3889147219334088,
            "bin_end": 0.5416860414500565,
            "count": 3
           },
           {
            "bin_start": 0.5416860414500565,
            "bin_end": 0.6944573609667043,
            "count": 2
           },
           {
            "bin_start": 0.6944573609667043,
            "bin_end": 0.8472286804833521,
            "count": 0
           },
           {
            "bin_start": 0.8472286804833521,
            "bin_end": 1,
            "count": 1
           }
          ]
         }
        },
        {
         "name": "NumHeteroatoms",
         "dtype": "float64",
         "stats": {
          "unique_count": 34,
          "nan_count": 7,
          "min": "-0.42873040146211605",
          "max": "1.0",
          "histogram": [
           {
            "bin_start": -0.42873040146211605,
            "bin_end": -0.28585736131590445,
            "count": 1
           },
           {
            "bin_start": -0.28585736131590445,
            "bin_end": -0.14298432116969284,
            "count": 1
           },
           {
            "bin_start": -0.14298432116969284,
            "bin_end": -0.00011128102348123559,
            "count": 6
           },
           {
            "bin_start": -0.00011128102348123559,
            "bin_end": 0.14276175912273037,
            "count": 4
           },
           {
            "bin_start": 0.14276175912273037,
            "bin_end": 0.285634799268942,
            "count": 8
           },
           {
            "bin_start": 0.285634799268942,
            "bin_end": 0.4285078394151536,
            "count": 1
           },
           {
            "bin_start": 0.4285078394151536,
            "bin_end": 0.5713808795613653,
            "count": 7
           },
           {
            "bin_start": 0.5713808795613653,
            "bin_end": 0.7142539197075768,
            "count": 1
           },
           {
            "bin_start": 0.7142539197075768,
            "bin_end": 0.8571269598537883,
            "count": 2
           },
           {
            "bin_start": 0.8571269598537883,
            "bin_end": 1,
            "count": 3
           }
          ]
         }
        },
        {
         "name": "NumRotatableBonds",
         "dtype": "float64",
         "stats": {
          "unique_count": 34,
          "nan_count": 7,
          "min": "-0.20147197231264363",
          "max": "1.0",
          "histogram": [
           {
            "bin_start": -0.20147197231264363,
            "bin_end": -0.08132477508137927,
            "count": 5
           },
           {
            "bin_start": -0.08132477508137927,
            "bin_end": 0.0388224221498851,
            "count": 10
           },
           {
            "bin_start": 0.0388224221498851,
            "bin_end": 0.15896961938114945,
            "count": 5
           },
           {
            "bin_start": 0.15896961938114945,
            "bin_end": 0.27911681661241383,
            "count": 4
           },
           {
            "bin_start": 0.27911681661241383,
            "bin_end": 0.3992640138436782,
            "count": 5
           },
           {
            "bin_start": 0.3992640138436782,
            "bin_end": 0.5194112110749425,
            "count": 1
           },
           {
            "bin_start": 0.5194112110749425,
            "bin_end": 0.6395584083062069,
            "count": 1
           },
           {
            "bin_start": 0.6395584083062069,
            "bin_end": 0.7597056055374714,
            "count": 2
           },
           {
            "bin_start": 0.7597056055374714,
            "bin_end": 0.8798528027687356,
            "count": 0
           },
           {
            "bin_start": 0.8798528027687356,
            "bin_end": 1,
            "count": 1
           }
          ]
         }
        },
        {
         "name": "void_fraction",
         "dtype": "float64",
         "stats": {
          "unique_count": 34,
          "nan_count": 7,
          "min": "-0.8281130136429203",
          "max": "1.0",
          "histogram": [
           {
            "bin_start": -0.8281130136429203,
            "bin_end": -0.6453017122786283,
            "count": 3
           },
           {
            "bin_start": -0.6453017122786283,
            "bin_end": -0.4624904109143363,
            "count": 0
           },
           {
            "bin_start": -0.4624904109143363,
            "bin_end": -0.27967910955004427,
            "count": 1
           },
           {
            "bin_start": -0.27967910955004427,
            "bin_end": -0.09686780818575225,
            "count": 0
           },
           {
            "bin_start": -0.09686780818575225,
            "bin_end": 0.08594349317853978,
            "count": 24
           },
           {
            "bin_start": 0.08594349317853978,
            "bin_end": 0.2687547945428318,
            "count": 0
           },
           {
            "bin_start": 0.2687547945428318,
            "bin_end": 0.4515660959071238,
            "count": 0
           },
           {
            "bin_start": 0.4515660959071238,
            "bin_end": 0.6343773972714158,
            "count": 1
           },
           {
            "bin_start": 0.6343773972714158,
            "bin_end": 0.8171886986357079,
            "count": 2
           },
           {
            "bin_start": 0.8171886986357079,
            "bin_end": 1,
            "count": 3
           }
          ]
         }
        },
        {
         "name": "void_volume [cm^3/g]",
         "dtype": "float64",
         "stats": {
          "unique_count": 34,
          "nan_count": 7,
          "min": "-0.8853690014635106",
          "max": "1.0",
          "histogram": [
           {
            "bin_start": -0.8853690014635106,
            "bin_end": -0.6968321013171596,
            "count": 2
           },
           {
            "bin_start": -0.6968321013171596,
            "bin_end": -0.5082952011708085,
            "count": 1
           },
           {
            "bin_start": -0.5082952011708085,
            "bin_end": -0.31975830102445746,
            "count": 1
           },
           {
            "bin_start": -0.31975830102445746,
            "bin_end": -0.1312214008781064,
            "count": 0
           },
           {
            "bin_start": -0.1312214008781064,
            "bin_end": 0.05731549926824464,
            "count": 24
           },
           {
            "bin_start": 0.05731549926824464,
            "bin_end": 0.2458523994145957,
            "count": 0
           },
           {
            "bin_start": 0.2458523994145957,
            "bin_end": 0.43438929956094674,
            "count": 0
           },
           {
            "bin_start": 0.43438929956094674,
            "bin_end": 0.6229261997072978,
            "count": 1
           },
           {
            "bin_start": 0.6229261997072978,
            "bin_end": 0.8114630998536488,
            "count": 2
           },
           {
            "bin_start": 0.8114630998536488,
            "bin_end": 1,
            "count": 3
           }
          ]
         }
        },
        {
         "name": "CO2/N2_selectivity",
         "dtype": "float64",
         "stats": {
          "unique_count": 34,
          "nan_count": 7,
          "min": "-0.6577999382769579",
          "max": "1.0",
          "histogram": [
           {
            "bin_start": -0.6577999382769579,
            "bin_end": -0.4920199444492621,
            "count": 5
           },
           {
            "bin_start": -0.4920199444492621,
            "bin_end": -0.32623995062156635,
            "count": 0
           },
           {
            "bin_start": -0.32623995062156635,
            "bin_end": -0.1604599567938706,
            "count": 0
           },
           {
            "bin_start": -0.1604599567938706,
            "bin_end": 0.00532003703382522,
            "count": 4
           },
           {
            "bin_start": 0.00532003703382522,
            "bin_end": 0.17110003086152104,
            "count": 21
           },
           {
            "bin_start": 0.17110003086152104,
            "bin_end": 0.33688002468921674,
            "count": 0
           },
           {
            "bin_start": 0.33688002468921674,
            "bin_end": 0.5026600185169126,
            "count": 0
           },
           {
            "bin_start": 0.5026600185169126,
            "bin_end": 0.6684400123446084,
            "count": 1
           },
           {
            "bin_start": 0.6684400123446084,
            "bin_end": 0.8342200061723042,
            "count": 2
           },
           {
            "bin_start": 0.8342200061723042,
            "bin_end": 1,
            "count": 1
           }
          ]
         }
        },
        {
         "name": "heat_adsorption_CO2_P0.15bar_T298K [kcal/mol]",
         "dtype": "float64",
         "stats": {
          "unique_count": 34,
          "nan_count": 7,
          "min": "-0.7692684840116015",
          "max": "1.0",
          "histogram": [
           {
            "bin_start": -0.7692684840116015,
            "bin_end": -0.5923416356104414,
            "count": 4
           },
           {
            "bin_start": -0.5923416356104414,
            "bin_end": -0.4154147872092812,
            "count": 1
           },
           {
            "bin_start": -0.4154147872092812,
            "bin_end": -0.23848793880812102,
            "count": 0
           },
           {
            "bin_start": -0.23848793880812102,
            "bin_end": -0.061561090406960894,
            "count": 1
           },
           {
            "bin_start": -0.061561090406960894,
            "bin_end": 0.11536575799419924,
            "count": 24
           },
           {
            "bin_start": 0.11536575799419924,
            "bin_end": 0.2922926063953595,
            "count": 0
           },
           {
            "bin_start": 0.2922926063953595,
            "bin_end": 0.4692194547965196,
            "count": 0
           },
           {
            "bin_start": 0.4692194547965196,
            "bin_end": 0.6461463031976797,
            "count": 1
           },
           {
            "bin_start": 0.6461463031976797,
            "bin_end": 0.8230731515988399,
            "count": 2
           },
           {
            "bin_start": 0.8230731515988399,
            "bin_end": 1,
            "count": 1
           }
          ]
         }
        },
        {
         "name": "CO2_working_capacity [mL/g]",
         "dtype": "float64",
         "stats": {
          "unique_count": 34,
          "nan_count": 7,
          "min": "-0.4270510582435097",
          "max": "1.0",
          "histogram": [
           {
            "bin_start": -0.4270510582435097,
            "bin_end": -0.2843459524191587,
            "count": 5
           },
           {
            "bin_start": -0.2843459524191587,
            "bin_end": -0.14164084659480775,
            "count": 0
           },
           {
            "bin_start": -0.14164084659480775,
            "bin_end": 0.0010642592295432296,
            "count": 19
           },
           {
            "bin_start": 0.0010642592295432296,
            "bin_end": 0.1437693650538942,
            "count": 6
           },
           {
            "bin_start": 0.1437693650538942,
            "bin_end": 0.2864744708782451,
            "count": 1
           },
           {
            "bin_start": 0.2864744708782451,
            "bin_end": 0.42917957670259615,
            "count": 0
           },
           {
            "bin_start": 0.42917957670259615,
            "bin_end": 0.5718846825269472,
            "count": 0
           },
           {
            "bin_start": 0.5718846825269472,
            "bin_end": 0.7145897883512982,
            "count": 2
           },
           {
            "bin_start": 0.7145897883512982,
            "bin_end": 0.8572948941756491,
            "count": 0
           },
           {
            "bin_start": 0.8572948941756491,
            "bin_end": 1,
            "count": 1
           }
          ]
         }
        },
        {
         "name": "CID",
         "dtype": "float64",
         "stats": {
          "unique_count": 34,
          "nan_count": 7,
          "min": "-0.07675956380070276",
          "max": "1.0",
          "histogram": [
           {
            "bin_start": -0.07675956380070276,
            "bin_end": 0.030916392579367527,
            "count": 10
           },
           {
            "bin_start": 0.030916392579367527,
            "bin_end": 0.1385923489594378,
            "count": 9
           },
           {
            "bin_start": 0.1385923489594378,
            "bin_end": 0.2462683053395081,
            "count": 6
           },
           {
            "bin_start": 0.2462683053395081,
            "bin_end": 0.3539442617195784,
            "count": 4
           },
           {
            "bin_start": 0.3539442617195784,
            "bin_end": 0.46162021809964865,
            "count": 4
           },
           {
            "bin_start": 0.46162021809964865,
            "bin_end": 0.5692961744797189,
            "count": 0
           },
           {
            "bin_start": 0.5692961744797189,
            "bin_end": 0.6769721308597891,
            "count": 0
           },
           {
            "bin_start": 0.6769721308597891,
            "bin_end": 0.7846480872398596,
            "count": 0
           },
           {
            "bin_start": 0.7846480872398596,
            "bin_end": 0.8923240436199298,
            "count": 0
           },
           {
            "bin_start": 0.8923240436199298,
            "bin_end": 1,
            "count": 1
           }
          ]
         }
        },
        {
         "name": "MolecularWeight",
         "dtype": "float64",
         "stats": {
          "unique_count": 34,
          "nan_count": 7,
          "min": "-0.129282624083912",
          "max": "1.0",
          "histogram": [
           {
            "bin_start": -0.129282624083912,
            "bin_end": -0.016354361675520804,
            "count": 5
           },
           {
            "bin_start": -0.016354361675520804,
            "bin_end": 0.0965739007328704,
            "count": 7
           },
           {
            "bin_start": 0.0965739007328704,
            "bin_end": 0.20950216314126158,
            "count": 3
           },
           {
            "bin_start": 0.20950216314126158,
            "bin_end": 0.3224304255496528,
            "count": 7
           },
           {
            "bin_start": 0.3224304255496528,
            "bin_end": 0.435358687958044,
            "count": 4
           },
           {
            "bin_start": 0.435358687958044,
            "bin_end": 0.5482869503664352,
            "count": 2
           },
           {
            "bin_start": 0.5482869503664352,
            "bin_end": 0.6612152127748264,
            "count": 2
           },
           {
            "bin_start": 0.6612152127748264,
            "bin_end": 0.7741434751832176,
            "count": 0
           },
           {
            "bin_start": 0.7741434751832176,
            "bin_end": 0.8870717375916088,
            "count": 0
           },
           {
            "bin_start": 0.8870717375916088,
            "bin_end": 1,
            "count": 4
           }
          ]
         }
        },
        {
         "name": "XLogP",
         "dtype": "float64",
         "stats": {
          "unique_count": 34,
          "nan_count": 7,
          "min": "-0.27097359126801795",
          "max": "1.0",
          "histogram": [
           {
            "bin_start": -0.27097359126801795,
            "bin_end": -0.14387623214121614,
            "count": 1
           },
           {
            "bin_start": -0.14387623214121614,
            "bin_end": -0.01677887301441433,
            "count": 10
           },
           {
            "bin_start": -0.01677887301441433,
            "bin_end": 0.11031848611238748,
            "count": 11
           },
           {
            "bin_start": 0.11031848611238748,
            "bin_end": 0.2374158452391893,
            "count": 3
           },
           {
            "bin_start": 0.2374158452391893,
            "bin_end": 0.36451320436599116,
            "count": 3
           },
           {
            "bin_start": 0.36451320436599116,
            "bin_end": 0.4916105634927929,
            "count": 1
           },
           {
            "bin_start": 0.4916105634927929,
            "bin_end": 0.6187079226195946,
            "count": 3
           },
           {
            "bin_start": 0.6187079226195946,
            "bin_end": 0.7458052817463965,
            "count": 0
           },
           {
            "bin_start": 0.7458052817463965,
            "bin_end": 0.8729026408731984,
            "count": 0
           },
           {
            "bin_start": 0.8729026408731984,
            "bin_end": 1,
            "count": 2
           }
          ]
         }
        },
        {
         "name": "ExactMass",
         "dtype": "float64",
         "stats": {
          "unique_count": 34,
          "nan_count": 7,
          "min": "-0.1290952752951849",
          "max": "1.0",
          "histogram": [
           {
            "bin_start": -0.1290952752951849,
            "bin_end": -0.016185747765666433,
            "count": 5
           },
           {
            "bin_start": -0.016185747765666433,
            "bin_end": 0.09672377976385205,
            "count": 7
           },
           {
            "bin_start": 0.09672377976385205,
            "bin_end": 0.2096333072933705,
            "count": 3
           },
           {
            "bin_start": 0.2096333072933705,
            "bin_end": 0.32254283482288904,
            "count": 7
           },
           {
            "bin_start": 0.32254283482288904,
            "bin_end": 0.4354523623524075,
            "count": 4
           },
           {
            "bin_start": 0.4354523623524075,
            "bin_end": 0.5483618898819259,
            "count": 2
           },
           {
            "bin_start": 0.5483618898819259,
            "bin_end": 0.6612714174114445,
            "count": 2
           },
           {
            "bin_start": 0.6612714174114445,
            "bin_end": 0.7741809449409629,
            "count": 0
           },
           {
            "bin_start": 0.7741809449409629,
            "bin_end": 0.8870904724704815,
            "count": 0
           },
           {
            "bin_start": 0.8870904724704815,
            "bin_end": 1,
            "count": 4
           }
          ]
         }
        },
        {
         "name": "MonoisotopicMass",
         "dtype": "float64",
         "stats": {
          "unique_count": 34,
          "nan_count": 7,
          "min": "-0.15278558706440576",
          "max": "1.0",
          "histogram": [
           {
            "bin_start": -0.15278558706440576,
            "bin_end": -0.03750702835796518,
            "count": 9
           },
           {
            "bin_start": -0.03750702835796518,
            "bin_end": 0.07777153034847539,
            "count": 4
           },
           {
            "bin_start": 0.07777153034847539,
            "bin_end": 0.193050089054916,
            "count": 3
           },
           {
            "bin_start": 0.193050089054916,
            "bin_end": 0.30832864776135654,
            "count": 5
           },
           {
            "bin_start": 0.30832864776135654,
            "bin_end": 0.4236072064677971,
            "count": 5
           },
           {
            "bin_start": 0.4236072064677971,
            "bin_end": 0.5388857651742378,
            "count": 1
           },
           {
            "bin_start": 0.5388857651742378,
            "bin_end": 0.6541643238806782,
            "count": 1
           },
           {
            "bin_start": 0.6541643238806782,
            "bin_end": 0.7694428825871189,
            "count": 2
           },
           {
            "bin_start": 0.7694428825871189,
            "bin_end": 0.8847214412935596,
            "count": 0
           },
           {
            "bin_start": 0.8847214412935596,
            "bin_end": 1,
            "count": 4
           }
          ]
         }
        },
        {
         "name": "TPSA",
         "dtype": "float64",
         "stats": {
          "unique_count": 34,
          "nan_count": 7,
          "min": "-0.5635071222222892",
          "max": "1.0",
          "histogram": [
           {
            "bin_start": -0.5635071222222892,
            "bin_end": -0.40715641000006025,
            "count": 1
           },
           {
            "bin_start": -0.40715641000006025,
            "bin_end": -0.25080569777783135,
            "count": 0
           },
           {
            "bin_start": -0.25080569777783135,
            "bin_end": -0.09445498555560244,
            "count": 2
           },
           {
            "bin_start": -0.09445498555560244,
            "bin_end": 0.06189572666662646,
            "count": 9
           },
           {
            "bin_start": 0.06189572666662646,
            "bin_end": 0.21824643888885542,
            "count": 8
           },
           {
            "bin_start": 0.21824643888885542,
            "bin_end": 0.37459715111108427,
            "count": 4
           },
           {
            "bin_start": 0.37459715111108427,
            "bin_end": 0.5309478633333131,
            "count": 3
           },
           {
            "bin_start": 0.5309478633333131,
            "bin_end": 0.6872985755555421,
            "count": 2
           },
           {
            "bin_start": 0.6872985755555421,
            "bin_end": 0.843649287777771,
            "count": 2
           },
           {
            "bin_start": 0.843649287777771,
            "bin_end": 1,
            "count": 3
           }
          ]
         }
        },
        {
         "name": "Complexity",
         "dtype": "float64",
         "stats": {
          "unique_count": 34,
          "nan_count": 7,
          "min": "-0.14071919910556469",
          "max": "1.0",
          "histogram": [
           {
            "bin_start": -0.14071919910556469,
            "bin_end": -0.026647279195008214,
            "count": 10
           },
           {
            "bin_start": -0.026647279195008214,
            "bin_end": 0.08742464071554826,
            "count": 4
           },
           {
            "bin_start": 0.08742464071554826,
            "bin_end": 0.20149656062610471,
            "count": 5
           },
           {
            "bin_start": 0.20149656062610471,
            "bin_end": 0.3155684805366612,
            "count": 3
           },
           {
            "bin_start": 0.3155684805366612,
            "bin_end": 0.4296404004472177,
            "count": 0
           },
           {
            "bin_start": 0.4296404004472177,
            "bin_end": 0.5437123203577741,
            "count": 4
           },
           {
            "bin_start": 0.5437123203577741,
            "bin_end": 0.6577842402683307,
            "count": 5
           },
           {
            "bin_start": 0.6577842402683307,
            "bin_end": 0.7718561601788871,
            "count": 2
           },
           {
            "bin_start": 0.7718561601788871,
            "bin_end": 0.8859280800894436,
            "count": 0
           },
           {
            "bin_start": 0.8859280800894436,
            "bin_end": 1,
            "count": 1
           }
          ]
         }
        },
        {
         "name": "Charge",
         "dtype": "float64",
         "stats": {
          "unique_count": 34,
          "nan_count": 7,
          "min": "-0.3807183128635043",
          "max": "1.0",
          "histogram": [
           {
            "bin_start": -0.3807183128635043,
            "bin_end": -0.2426464815771539,
            "count": 1
           },
           {
            "bin_start": -0.2426464815771539,
            "bin_end": -0.10457465029080348,
            "count": 3
           },
           {
            "bin_start": -0.10457465029080348,
            "bin_end": 0.03349718099554694,
            "count": 17
           },
           {
            "bin_start": 0.03349718099554694,
            "bin_end": 0.17156901228189736,
            "count": 7
           },
           {
            "bin_start": 0.17156901228189736,
            "bin_end": 0.30964084356824784,
            "count": 1
           },
           {
            "bin_start": 0.30964084356824784,
            "bin_end": 0.4477126748545982,
            "count": 1
           },
           {
            "bin_start": 0.4477126748545982,
            "bin_end": 0.5857845061409486,
            "count": 2
           },
           {
            "bin_start": 0.5857845061409486,
            "bin_end": 0.723856337427299,
            "count": 1
           },
           {
            "bin_start": 0.723856337427299,
            "bin_end": 0.8619281687136495,
            "count": 0
           },
           {
            "bin_start": 0.8619281687136495,
            "bin_end": 1,
            "count": 1
           }
          ]
         }
        },
        {
         "name": "HBondDonorCount",
         "dtype": "float64",
         "stats": {
          "unique_count": 34,
          "nan_count": 7,
          "min": "-0.5046814118657227",
          "max": "1.0",
          "histogram": [
           {
            "bin_start": -0.5046814118657227,
            "bin_end": -0.3542132706791504,
            "count": 1
           },
           {
            "bin_start": -0.3542132706791504,
            "bin_end": -0.20374512949257817,
            "count": 0
           },
           {
            "bin_start": -0.20374512949257817,
            "bin_end": -0.05327698830600591,
            "count": 4
           },
           {
            "bin_start": -0.05327698830600591,
            "bin_end": 0.09719115288056634,
            "count": 16
           },
           {
            "bin_start": 0.09719115288056634,
            "bin_end": 0.2476592940671386,
            "count": 2
           },
           {
            "bin_start": 0.2476592940671386,
            "bin_end": 0.39812743525371086,
            "count": 4
           },
           {
            "bin_start": 0.39812743525371086,
            "bin_end": 0.5485955764402831,
            "count": 5
           },
           {
            "bin_start": 0.5485955764402831,
            "bin_end": 0.6990637176268554,
            "count": 1
           },
           {
            "bin_start": 0.6990637176268554,
            "bin_end": 0.8495318588134276,
            "count": 0
           },
           {
            "bin_start": 0.8495318588134276,
            "bin_end": 1,
            "count": 1
           }
          ]
         }
        },
        {
         "name": "HBondAcceptorCount",
         "dtype": "float64",
         "stats": {
          "unique_count": 34,
          "nan_count": 7,
          "min": "-0.5118069965065761",
          "max": "1.0",
          "histogram": [
           {
            "bin_start": -0.5118069965065761,
            "bin_end": -0.3606262968559185,
            "count": 2
           },
           {
            "bin_start": -0.3606262968559185,
            "bin_end": -0.2094455972052609,
            "count": 2
           },
           {
            "bin_start": -0.2094455972052609,
            "bin_end": -0.05826489755460329,
            "count": 2
           },
           {
            "bin_start": -0.05826489755460329,
            "bin_end": 0.09291580209605432,
            "count": 10
           },
           {
            "bin_start": 0.09291580209605432,
            "bin_end": 0.24409650174671194,
            "count": 8
           },
           {
            "bin_start": 0.24409650174671194,
            "bin_end": 0.39527720139736955,
            "count": 1
           },
           {
            "bin_start": 0.39527720139736955,
            "bin_end": 0.5464579010480273,
            "count": 3
           },
           {
            "bin_start": 0.5464579010480273,
            "bin_end": 0.6976386006986848,
            "count": 1
           },
           {
            "bin_start": 0.6976386006986848,
            "bin_end": 0.8488193003493423,
            "count": 4
           },
           {
            "bin_start": 0.8488193003493423,
            "bin_end": 1,
            "count": 1
           }
          ]
         }
        },
        {
         "name": "RotatableBondCount",
         "dtype": "float64",
         "stats": {
          "unique_count": 34,
          "nan_count": 7,
          "min": "-0.07745254576703867",
          "max": "1.0",
          "histogram": [
           {
            "bin_start": -0.07745254576703867,
            "bin_end": 0.03029270880966521,
            "count": 10
           },
           {
            "bin_start": 0.03029270880966521,
            "bin_end": 0.1380379633863691,
            "count": 6
           },
           {
            "bin_start": 0.1380379633863691,
            "bin_end": 0.24578321796307298,
            "count": 3
           },
           {
            "bin_start": 0.24578321796307298,
            "bin_end": 0.3535284725397768,
            "count": 4
           },
           {
            "bin_start": 0.3535284725397768,
            "bin_end": 0.46127372711648074,
            "count": 4
           },
           {
            "bin_start": 0.46127372711648074,
            "bin_end": 0.5690189816931847,
            "count": 3
           },
           {
            "bin_start": 0.5690189816931847,
            "bin_end": 0.6767642362698885,
            "count": 3
           },
           {
            "bin_start": 0.6767642362698885,
            "bin_end": 0.7845094908465924,
            "count": 0
           },
           {
            "bin_start": 0.7845094908465924,
            "bin_end": 0.8922547454232963,
            "count": 0
           },
           {
            "bin_start": 0.8922547454232963,
            "bin_end": 1,
            "count": 1
           }
          ]
         }
        },
        {
         "name": "IsotopeAtomCount",
         "dtype": "float64",
         "stats": {
          "unique_count": 0,
          "nan_count": 41,
          "min": null,
          "max": null,
          "histogram": [
           {
            "bin_start": 0,
            "bin_end": 0.1,
            "count": 0
           },
           {
            "bin_start": 0.1,
            "bin_end": 0.2,
            "count": 0
           },
           {
            "bin_start": 0.2,
            "bin_end": 0.30000000000000004,
            "count": 0
           },
           {
            "bin_start": 0.30000000000000004,
            "bin_end": 0.4,
            "count": 0
           },
           {
            "bin_start": 0.4,
            "bin_end": 0.5,
            "count": 0
           },
           {
            "bin_start": 0.5,
            "bin_end": 0.6000000000000001,
            "count": 0
           },
           {
            "bin_start": 0.6000000000000001,
            "bin_end": 0.7000000000000001,
            "count": 0
           },
           {
            "bin_start": 0.7000000000000001,
            "bin_end": 0.8,
            "count": 0
           },
           {
            "bin_start": 0.8,
            "bin_end": 0.9,
            "count": 0
           },
           {
            "bin_start": 0.9,
            "bin_end": 1,
            "count": 0
           }
          ]
         }
        },
        {
         "name": "AtomStereoCount",
         "dtype": "float64",
         "stats": {
          "unique_count": 0,
          "nan_count": 41,
          "min": null,
          "max": null,
          "histogram": [
           {
            "bin_start": 0,
            "bin_end": 0.1,
            "count": 0
           },
           {
            "bin_start": 0.1,
            "bin_end": 0.2,
            "count": 0
           },
           {
            "bin_start": 0.2,
            "bin_end": 0.30000000000000004,
            "count": 0
           },
           {
            "bin_start": 0.30000000000000004,
            "bin_end": 0.4,
            "count": 0
           },
           {
            "bin_start": 0.4,
            "bin_end": 0.5,
            "count": 0
           },
           {
            "bin_start": 0.5,
            "bin_end": 0.6000000000000001,
            "count": 0
           },
           {
            "bin_start": 0.6000000000000001,
            "bin_end": 0.7000000000000001,
            "count": 0
           },
           {
            "bin_start": 0.7000000000000001,
            "bin_end": 0.8,
            "count": 0
           },
           {
            "bin_start": 0.8,
            "bin_end": 0.9,
            "count": 0
           },
           {
            "bin_start": 0.9,
            "bin_end": 1,
            "count": 0
           }
          ]
         }
        },
        {
         "name": "DefinedAtomStereoCount",
         "dtype": "float64",
         "stats": {
          "unique_count": 0,
          "nan_count": 41,
          "min": null,
          "max": null,
          "histogram": [
           {
            "bin_start": 0,
            "bin_end": 0.1,
            "count": 0
           },
           {
            "bin_start": 0.1,
            "bin_end": 0.2,
            "count": 0
           },
           {
            "bin_start": 0.2,
            "bin_end": 0.30000000000000004,
            "count": 0
           },
           {
            "bin_start": 0.30000000000000004,
            "bin_end": 0.4,
            "count": 0
           },
           {
            "bin_start": 0.4,
            "bin_end": 0.5,
            "count": 0
           },
           {
            "bin_start": 0.5,
            "bin_end": 0.6000000000000001,
            "count": 0
           },
           {
            "bin_start": 0.6000000000000001,
            "bin_end": 0.7000000000000001,
            "count": 0
           },
           {
            "bin_start": 0.7000000000000001,
            "bin_end": 0.8,
            "count": 0
           },
           {
            "bin_start": 0.8,
            "bin_end": 0.9,
            "count": 0
           },
           {
            "bin_start": 0.9,
            "bin_end": 1,
            "count": 0
           }
          ]
         }
        },
        {
         "name": "UndefinedAtomStereoCount",
         "dtype": "float64",
         "stats": {
          "unique_count": 0,
          "nan_count": 41,
          "min": null,
          "max": null,
          "histogram": [
           {
            "bin_start": 0,
            "bin_end": 0.1,
            "count": 0
           },
           {
            "bin_start": 0.1,
            "bin_end": 0.2,
            "count": 0
           },
           {
            "bin_start": 0.2,
            "bin_end": 0.30000000000000004,
            "count": 0
           },
           {
            "bin_start": 0.30000000000000004,
            "bin_end": 0.4,
            "count": 0
           },
           {
            "bin_start": 0.4,
            "bin_end": 0.5,
            "count": 0
           },
           {
            "bin_start": 0.5,
            "bin_end": 0.6000000000000001,
            "count": 0
           },
           {
            "bin_start": 0.6000000000000001,
            "bin_end": 0.7000000000000001,
            "count": 0
           },
           {
            "bin_start": 0.7000000000000001,
            "bin_end": 0.8,
            "count": 0
           },
           {
            "bin_start": 0.8,
            "bin_end": 0.9,
            "count": 0
           },
           {
            "bin_start": 0.9,
            "bin_end": 1,
            "count": 0
           }
          ]
         }
        },
        {
         "name": "BondStereoCount",
         "dtype": "float64",
         "stats": {
          "unique_count": 0,
          "nan_count": 41,
          "min": null,
          "max": null,
          "histogram": [
           {
            "bin_start": 0,
            "bin_end": 0.1,
            "count": 0
           },
           {
            "bin_start": 0.1,
            "bin_end": 0.2,
            "count": 0
           },
           {
            "bin_start": 0.2,
            "bin_end": 0.30000000000000004,
            "count": 0
           },
           {
            "bin_start": 0.30000000000000004,
            "bin_end": 0.4,
            "count": 0
           },
           {
            "bin_start": 0.4,
            "bin_end": 0.5,
            "count": 0
           },
           {
            "bin_start": 0.5,
            "bin_end": 0.6000000000000001,
            "count": 0
           },
           {
            "bin_start": 0.6000000000000001,
            "bin_end": 0.7000000000000001,
            "count": 0
           },
           {
            "bin_start": 0.7000000000000001,
            "bin_end": 0.8,
            "count": 0
           },
           {
            "bin_start": 0.8,
            "bin_end": 0.9,
            "count": 0
           },
           {
            "bin_start": 0.9,
            "bin_end": 1,
            "count": 0
           }
          ]
         }
        },
        {
         "name": "DefinedBondStereoCount",
         "dtype": "float64",
         "stats": {
          "unique_count": 0,
          "nan_count": 41,
          "min": null,
          "max": null,
          "histogram": [
           {
            "bin_start": 0,
            "bin_end": 0.1,
            "count": 0
           },
           {
            "bin_start": 0.1,
            "bin_end": 0.2,
            "count": 0
           },
           {
            "bin_start": 0.2,
            "bin_end": 0.30000000000000004,
            "count": 0
           },
           {
            "bin_start": 0.30000000000000004,
            "bin_end": 0.4,
            "count": 0
           },
           {
            "bin_start": 0.4,
            "bin_end": 0.5,
            "count": 0
           },
           {
            "bin_start": 0.5,
            "bin_end": 0.6000000000000001,
            "count": 0
           },
           {
            "bin_start": 0.6000000000000001,
            "bin_end": 0.7000000000000001,
            "count": 0
           },
           {
            "bin_start": 0.7000000000000001,
            "bin_end": 0.8,
            "count": 0
           },
           {
            "bin_start": 0.8,
            "bin_end": 0.9,
            "count": 0
           },
           {
            "bin_start": 0.9,
            "bin_end": 1,
            "count": 0
           }
          ]
         }
        },
        {
         "name": "UndefinedBondStereoCount",
         "dtype": "float64",
         "stats": {
          "unique_count": 34,
          "nan_count": 7,
          "min": "-0.2629505204394147",
          "max": "1.0",
          "histogram": [
           {
            "bin_start": -0.2629505204394147,
            "bin_end": -0.1366554683954732,
            "count": 3
           },
           {
            "bin_start": -0.1366554683954732,
            "bin_end": -0.010360416351531732,
            "count": 10
           },
           {
            "bin_start": -0.010360416351531732,
            "bin_end": 0.11593463569240975,
            "count": 9
           },
           {
            "bin_start": 0.11593463569240975,
            "bin_end": 0.24222968773635123,
            "count": 6
           },
           {
            "bin_start": 0.24222968773635123,
            "bin_end": 0.36852473978029265,
            "count": 0
           },
           {
            "bin_start": 0.36852473978029265,
            "bin_end": 0.4948197918242342,
            "count": 2
           },
           {
            "bin_start": 0.4948197918242342,
            "bin_end": 0.6211148438681757,
            "count": 1
           },
           {
            "bin_start": 0.6211148438681757,
            "bin_end": 0.7474098959121172,
            "count": 1
           },
           {
            "bin_start": 0.7474098959121172,
            "bin_end": 0.8737049479560586,
            "count": 0
           },
           {
            "bin_start": 0.8737049479560586,
            "bin_end": 1,
            "count": 2
           }
          ]
         }
        },
        {
         "name": "CovalentUnitCount",
         "dtype": "float64",
         "stats": {
          "unique_count": 34,
          "nan_count": 7,
          "min": "-0.17269277269562688",
          "max": "1.0",
          "histogram": [
           {
            "bin_start": -0.17269277269562688,
            "bin_end": -0.0554234954260642,
            "count": 3
           },
           {
            "bin_start": -0.0554234954260642,
            "bin_end": 0.06184578184349848,
            "count": 16
           },
           {
            "bin_start": 0.06184578184349848,
            "bin_end": 0.17911505911306114,
            "count": 8
           },
           {
            "bin_start": 0.17911505911306114,
            "bin_end": 0.29638433638262385,
            "count": 1
           },
           {
            "bin_start": 0.29638433638262385,
            "bin_end": 0.41365361365218656,
            "count": 0
           },
           {
            "bin_start": 0.41365361365218656,
            "bin_end": 0.5309228909217492,
            "count": 5
           },
           {
            "bin_start": 0.5309228909217492,
            "bin_end": 0.6481921681913119,
            "count": 0
           },
           {
            "bin_start": 0.6481921681913119,
            "bin_end": 0.7654614454608746,
            "count": 0
           },
           {
            "bin_start": 0.7654614454608746,
            "bin_end": 0.8827307227304373,
            "count": 0
           },
           {
            "bin_start": 0.8827307227304373,
            "bin_end": 1,
            "count": 1
           }
          ]
         }
        },
        {
         "name": "_deepnote_index_column",
         "dtype": "object"
        }
       ],
       "rows_top": [
        {
         "volume [A^3]": 1,
         "weight [u]": 0.8003785082961284,
         "density [g/cm^3]": -0.4211851055165421,
         "surface_area [m^2/g]": 0.35233645943111735,
         "gsa": 0.2107742058406845,
         "vsa": 0.09756987487626967,
         "MolWt": 0.11322422135228956,
         "MolLogP": 0.059942394742599776,
         "NumValenceElectrons": 0.15885116517829476,
         "HeavyAtomCount": 0.1534984835046112,
         "NOCount": 0.07171365148491209,
         "NumAliphaticRings": "nan",
         "NumAromaticRings": 0.06528261837145401,
         "NumHAcceptors": 0.07129814977024897,
         "NumHDonors": 0.006605645436697741,
         "NumHeteroatoms": 0.0706267054270065,
         "NumRotatableBonds": 0.12537102127029415,
         "void_fraction": 0.4519381374639768,
         "void_volume [cm^3/g]": 0.4675539285245267,
         "CO2/N2_selectivity": -0.14687262752136568,
         "heat_adsorption_CO2_P0.15bar_T298K [kcal/mol]": -0.21914633108016104,
         "CO2_working_capacity [mL/g]": -0.12124773105163518,
         "CID": 0.052053071155234824,
         "MolecularWeight": 0.1131975200063164,
         "XLogP": 0.009421927323955923,
         "ExactMass": 0.11352076464609963,
         "MonoisotopicMass": 0.11513016517818679,
         "TPSA": 0.053551863194960414,
         "Complexity": 0.09889280446885841,
         "Charge": 0.002126898438309595,
         "HBondDonorCount": -0.0107364490119595,
         "HBondAcceptorCount": 0.05919910720888233,
         "RotatableBondCount": 0.09429585685960032,
         "IsotopeAtomCount": "nan",
         "AtomStereoCount": "nan",
         "DefinedAtomStereoCount": "nan",
         "UndefinedAtomStereoCount": "nan",
         "BondStereoCount": "nan",
         "DefinedBondStereoCount": "nan",
         "UndefinedBondStereoCount": 0.004175432925873308,
         "CovalentUnitCount": 0.005675387499381312,
         "_deepnote_index_column": "volume [A^3]"
        },
        {
         "volume [A^3]": 0.8003785082961284,
         "weight [u]": 1,
         "density [g/cm^3]": 0.05125969905641939,
         "surface_area [m^2/g]": -0.07974325299508088,
         "gsa": -0.14280831530006574,
         "vsa": -0.20664325195819108,
         "MolWt": 0.2377045868419668,
         "MolLogP": 0.042522529896649154,
         "NumValenceElectrons": 0.14915961933997648,
         "HeavyAtomCount": 0.14256510038296194,
         "NOCount": 0.13004222959598002,
         "NumAliphaticRings": "nan",
         "NumAromaticRings": 0.026418274407723687,
         "NumHAcceptors": 0.10851695279909684,
         "NumHDonors": 0.025110746329749,
         "NumHeteroatoms": 0.18698915197976124,
         "NumRotatableBonds": 0.06805443142370132,
         "void_fraction": 0.050982224197236005,
         "void_volume [cm^3/g]": 0.033514913719114595,
         "CO2/N2_selectivity": 0.1297384857852002,
         "heat_adsorption_CO2_P0.15bar_T298K [kcal/mol]": 0.0728884992406059,
         "CO2_working_capacity [mL/g]": -0.019011773251790806,
         "CID": 0.11377506883512573,
         "MolecularWeight": 0.23781502821888512,
         "XLogP": 0.088536643720921,
         "ExactMass": 0.23768767934369117,
         "MonoisotopicMass": 0.2057454850480669,
         "TPSA": 0.10390779427109156,
         "Complexity": 0.1336295704325898,
         "Charge": 0.03975597703747787,
         "HBondDonorCount": 0.052531674506924364,
         "HBondAcceptorCount": 0.09785246760273478,
         "RotatableBondCount": 0.09688697141404039,
         "IsotopeAtomCount": "nan",
         "AtomStereoCount": "nan",
         "DefinedAtomStereoCount": "nan",
         "UndefinedAtomStereoCount": "nan",
         "BondStereoCount": "nan",
         "DefinedBondStereoCount": "nan",
         "UndefinedBondStereoCount": 0.0796698074216762,
         "CovalentUnitCount": 0.044122654932142194,
         "_deepnote_index_column": "weight [u]"
        },
        {
         "volume [A^3]": -0.4211851055165421,
         "weight [u]": 0.05125969905641939,
         "density [g/cm^3]": 1,
         "surface_area [m^2/g]": -0.8437613793659494,
         "gsa": -0.6794021566870816,
         "vsa": -0.5763153856509987,
         "MolWt": 0.1989444834590893,
         "MolLogP": -0.040142250809023734,
         "NumValenceElectrons": -0.04594039548453751,
         "HeavyAtomCount": -0.045155244059381094,
         "NOCount": 0.08525936674812334,
         "NumAliphaticRings": "nan",
         "NumAromaticRings": -0.06894596268110254,
         "NumHAcceptors": 0.0461274884288852,
         "NumHDonors": 0.021528458281566645,
         "NumHeteroatoms": 0.19227521281850168,
         "NumRotatableBonds": -0.12971102562935766,
         "void_fraction": -0.8281130136429203,
         "void_volume [cm^3/g]": -0.8853690014635106,
         "CO2/N2_selectivity": 0.5722061873254821,
         "heat_adsorption_CO2_P0.15bar_T298K [kcal/mol]": 0.6303247458930835,
         "CO2_working_capacity [mL/g]": 0.2604555704498761,
         "CID": 0.094254690353842,
         "MolecularWeight": 0.1992109118790487,
         "XLogP": 0.14791827850514172,
         "ExactMass": 0.19828209406922837,
         "MonoisotopicMass": 0.13548102509221818,
         "TPSA": 0.07475034431193193,
         "Complexity": 0.04090597579079347,
         "Charge": 0.06948081618567688,
         "HBondDonorCount": 0.11426862000170793,
         "HBondAcceptorCount": 0.05161851515324161,
         "RotatableBondCount": -0.012281454610074736,
         "IsotopeAtomCount": "nan",
         "AtomStereoCount": "nan",
         "DefinedAtomStereoCount": "nan",
         "UndefinedAtomStereoCount": "nan",
         "BondStereoCount": "nan",
         "DefinedBondStereoCount": "nan",
         "UndefinedBondStereoCount": 0.14414422900301324,
         "CovalentUnitCount": 0.07060312228359282,
         "_deepnote_index_column": "density [g/cm^3]"
        },
        {
         "volume [A^3]": 0.35233645943111735,
         "weight [u]": -0.07974325299508088,
         "density [g/cm^3]": -0.8437613793659494,
         "surface_area [m^2/g]": 1,
         "gsa": 0.7525501105796006,
         "vsa": 0.7202407168847593,
         "MolWt": -0.12543912806643845,
         "MolLogP": -0.00409489025963988,
         "NumValenceElectrons": -0.051621842553097916,
         "HeavyAtomCount": -0.047451631090073366,
         "NOCount": -0.07416329585827829,
         "NumAliphaticRings": "nan",
         "NumAromaticRings": 0.023701580571236603,
         "NumHAcceptors": -0.06133928416172214,
         "NumHDonors": -0.02617264530281205,
         "NumHeteroatoms": -0.11690317846931479,
         "NumRotatableBonds": -0.0018154669932057394,
         "void_fraction": 0.8732945355335331,
         "void_volume [cm^3/g]": 0.9146464887950126,
         "CO2/N2_selectivity": -0.5837210235163047,
         "heat_adsorption_CO2_P0.15bar_T298K [kcal/mol]": -0.6578400030036282,
         "CO2_working_capacity [mL/g]": -0.3568172400499184,
         "CID": -0.06228281035598891,
         "MolecularWeight": -0.12557466567112888,
         "XLogP": -0.05933547562321451,
         "ExactMass": -0.12528737985501426,
         "MonoisotopicMass": -0.10291365356413373,
         "TPSA": -0.05786066197572424,
         "Complexity": -0.05326618315390902,
         "Charge": -0.04409852334506418,
         "HBondDonorCount": -0.054266420625662955,
         "HBondAcceptorCount": -0.05309088034615072,
         "RotatableBondCount": -0.03750518803047307,
         "IsotopeAtomCount": "nan",
         "AtomStereoCount": "nan",
         "DefinedAtomStereoCount": "nan",
         "UndefinedAtomStereoCount": "nan",
         "BondStereoCount": "nan",
         "DefinedBondStereoCount": "nan",
         "UndefinedBondStereoCount": -0.06129108801922305,
         "CovalentUnitCount": -0.034502343361317744,
         "_deepnote_index_column": "surface_area [m^2/g]"
        },
        {
         "volume [A^3]": 0.2107742058406845,
         "weight [u]": -0.14280831530006574,
         "density [g/cm^3]": -0.6794021566870816,
         "surface_area [m^2/g]": 0.7525501105796006,
         "gsa": 1,
         "vsa": 0.7423745731514372,
         "MolWt": -0.12915794739499625,
         "MolLogP": -0.012720658888212,
         "NumValenceElectrons": -0.07396525399070789,
         "HeavyAtomCount": -0.0688792866719355,
         "NOCount": -0.0784139425958576,
         "NumAliphaticRings": "nan",
         "NumAromaticRings": 0.01229560240655944,
         "NumHAcceptors": -0.06515243364465143,
         "NumHDonors": -0.033063493347218476,
         "NumHeteroatoms": -0.11530303284947101,
         "NumRotatableBonds": -0.020348769362345014,
         "void_fraction": 0.7256057828303165,
         "void_volume [cm^3/g]": 0.7680113431359687,
         "CO2/N2_selectivity": -0.5056036986502116,
         "heat_adsorption_CO2_P0.15bar_T298K [kcal/mol]": -0.5669054595134037,
         "CO2_working_capacity [mL/g]": -0.3358428866242208,
         "CID": -0.06078511459828676,
         "MolecularWeight": -0.129282624083912,
         "XLogP": -0.05526922114298298,
         "ExactMass": -0.1290952752951849,
         "MonoisotopicMass": -0.1086315265513541,
         "TPSA": -0.057587903036649485,
         "Complexity": -0.06254887010636241,
         "Charge": -0.050300698988064226,
         "HBondDonorCount": -0.054767418089030476,
         "HBondAcceptorCount": -0.057296623658888816,
         "RotatableBondCount": -0.048502954191923964,
         "IsotopeAtomCount": "nan",
         "AtomStereoCount": "nan",
         "DefinedAtomStereoCount": "nan",
         "UndefinedAtomStereoCount": "nan",
         "BondStereoCount": "nan",
         "DefinedBondStereoCount": "nan",
         "UndefinedBondStereoCount": -0.057963316744550734,
         "CovalentUnitCount": -0.03301397760744316,
         "_deepnote_index_column": "gsa"
        },
        {
         "volume [A^3]": 0.09756987487626967,
         "weight [u]": -0.20664325195819108,
         "density [g/cm^3]": -0.5763153856509987,
         "surface_area [m^2/g]": 0.7202407168847593,
         "gsa": 0.7423745731514372,
         "vsa": 1,
         "MolWt": -0.014982800250476092,
         "MolLogP": -0.053166010318754425,
         "NumValenceElectrons": -0.15039336255069954,
         "HeavyAtomCount": -0.13909479095599075,
         "NOCount": -0.043096314273163766,
         "NumAliphaticRings": "nan",
         "NumAromaticRings": -0.03300215720570798,
         "NumHAcceptors": -0.05604326672338303,
         "NumHDonors": -0.04232498197533451,
         "NumHeteroatoms": -0.000030145271588555492,
         "NumRotatableBonds": -0.13577698278254516,
         "void_fraction": 0.761130592467196,
         "void_volume [cm^3/g]": 0.6960548755533144,
         "CO2/N2_selectivity": -0.5355652313671163,
         "heat_adsorption_CO2_P0.15bar_T298K [kcal/mol]": -0.6295368022010225,
         "CO2_working_capacity [mL/g]": -0.36015142676647827,
         "CID": -0.016741572165945184,
         "MolecularWeight": -0.014967870556442482,
         "XLogP": 0.05248788654972647,
         "ExactMass": -0.015516951201345573,
         "MonoisotopicMass": -0.045125540818748304,
         "TPSA": -0.01833453504852004,
         "Complexity": -0.044375557205978855,
         "Charge": -0.027148779300099013,
         "HBondDonorCount": 0.015692865004804744,
         "HBondAcceptorCount": -0.03766514440600924,
         "RotatableBondCount": -0.07606170103001916,
         "IsotopeAtomCount": "nan",
         "AtomStereoCount": "nan",
         "DefinedAtomStereoCount": "nan",
         "UndefinedAtomStereoCount": "nan",
         "BondStereoCount": "nan",
         "DefinedBondStereoCount": "nan",
         "UndefinedBondStereoCount": 0.04122286947704308,
         "CovalentUnitCount": 0.0061809604998236505,
         "_deepnote_index_column": "vsa"
        },
        {
         "volume [A^3]": 0.11322422135228956,
         "weight [u]": 0.2377045868419668,
         "density [g/cm^3]": 0.1989444834590893,
         "surface_area [m^2/g]": -0.12543912806643845,
         "gsa": -0.12915794739499625,
         "vsa": -0.014982800250476092,
         "MolWt": 1,
         "MolLogP": 0.3643860000950593,
         "NumValenceElectrons": 0.6498542565389156,
         "HeavyAtomCount": 0.6347039544247568,
         "NOCount": 0.31114739474519504,
         "NumAliphaticRings": "nan",
         "NumAromaticRings": 0.2606494998285195,
         "NumHAcceptors": 0.27208570323712394,
         "NumHDonors": 0.047852986944741605,
         "NumHeteroatoms": 0.4905225899992447,
         "NumRotatableBonds": 0.3514377580327072,
         "void_fraction": -0.04689720250777648,
         "void_volume [cm^3/g]": -0.10377306810887225,
         "CO2/N2_selectivity": 0.06888120149278087,
         "heat_adsorption_CO2_P0.15bar_T298K [kcal/mol]": 0.05396365534109761,
         "CO2_working_capacity [mL/g]": -0.07597816488646889,
         "CID": 0.39389777867291925,
         "MolecularWeight": 0.9999774320315985,
         "XLogP": 0.29172311421033686,
         "ExactMass": 0.9999568383845393,
         "MonoisotopicMass": 0.8882075366964135,
         "TPSA": 0.28211687754620846,
         "Complexity": 0.5024714543060852,
         "Charge": 0.056935139882886655,
         "HBondDonorCount": 0.054012956279372956,
         "HBondAcceptorCount": 0.22235121463172267,
         "RotatableBondCount": 0.37489550039287833,
         "IsotopeAtomCount": "nan",
         "AtomStereoCount": "nan",
         "DefinedAtomStereoCount": "nan",
         "UndefinedAtomStereoCount": "nan",
         "BondStereoCount": "nan",
         "DefinedBondStereoCount": "nan",
         "UndefinedBondStereoCount": 0.1991748942082109,
         "CovalentUnitCount": 0.09599252574621285,
         "_deepnote_index_column": "MolWt"
        },
        {
         "volume [A^3]": 0.059942394742599776,
         "weight [u]": 0.042522529896649154,
         "density [g/cm^3]": -0.040142250809023734,
         "surface_area [m^2/g]": -0.00409489025963988,
         "gsa": -0.012720658888212,
         "vsa": -0.053166010318754425,
         "MolWt": 0.3643860000950593,
         "MolLogP": 1,
         "NumValenceElectrons": 0.26585894294259516,
         "HeavyAtomCount": 0.2858959866715564,
         "NOCount": -0.5260731530971406,
         "NumAliphaticRings": "nan",
         "NumAromaticRings": 0.4546422974661653,
         "NumHAcceptors": -0.4666590053398198,
         "NumHDonors": -0.5277131951664776,
         "NumHeteroatoms": -0.42873040146211605,
         "NumRotatableBonds": 0.3257823165353097,
         "void_fraction": -0.039885364080277284,
         "void_volume [cm^3/g]": -0.0067817686082848935,
         "CO2/N2_selectivity": -0.07706822756960287,
         "heat_adsorption_CO2_P0.15bar_T298K [kcal/mol]": -0.01434572038074454,
         "CO2_working_capacity [mL/g]": -0.03672465756769064,
         "CID": 0.1336442477955508,
         "MolecularWeight": 0.36487958524701203,
         "XLogP": 0.10641854135894373,
         "ExactMass": 0.36369147787560574,
         "MonoisotopicMass": 0.30631739206329106,
         "TPSA": -0.5635071222222892,
         "Complexity": -0.061843267757902394,
         "Charge": 0.1301516391039222,
         "HBondDonorCount": -0.5046814118657227,
         "HBondAcceptorCount": -0.5118069965065761,
         "RotatableBondCount": 0.22988658276766677,
         "IsotopeAtomCount": "nan",
         "AtomStereoCount": "nan",
         "DefinedAtomStereoCount": "nan",
         "UndefinedAtomStereoCount": "nan",
         "BondStereoCount": "nan",
         "DefinedBondStereoCount": "nan",
         "UndefinedBondStereoCount": 0.052308565637682006,
         "CovalentUnitCount": -0.09939095655893328,
         "_deepnote_index_column": "MolLogP"
        },
        {
         "volume [A^3]": 0.15885116517829476,
         "weight [u]": 0.14915961933997648,
         "density [g/cm^3]": -0.04594039548453751,
         "surface_area [m^2/g]": -0.051621842553097916,
         "gsa": -0.07396525399070789,
         "vsa": -0.15039336255069954,
         "MolWt": 0.6498542565389156,
         "MolLogP": 0.26585894294259516,
         "NumValenceElectrons": 1,
         "HeavyAtomCount": 0.9833057357233158,
         "NOCount": 0.5400534210947918,
         "NumAliphaticRings": "nan",
         "NumAromaticRings": 0.38280245402218,
         "NumHAcceptors": 0.5207189030077998,
         "NumHDonors": 0.19087331430551627,
         "NumHeteroatoms": 0.5108873430866596,
         "NumRotatableBonds": 0.6709894586108932,
         "void_fraction": -0.09246787733564356,
         "void_volume [cm^3/g]": -0.04297185686054569,
         "CO2/N2_selectivity": 0.08835053360538311,
         "heat_adsorption_CO2_P0.15bar_T298K [kcal/mol]": 0.09917915990169682,
         "CO2_working_capacity [mL/g]": -0.0054790204237746085,
         "CID": 0.2562000876613559,
         "MolecularWeight": 0.649466230150719,
         "XLogP": -0.005216486552013663,
         "ExactMass": 0.6513678843374433,
         "MonoisotopicMass": 0.6974813362282891,
         "TPSA": 0.486376166285684,
         "Complexity": 0.6850446404608641,
         "Charge": -0.04291972197796385,
         "HBondDonorCount": 0.03129062551855612,
         "HBondAcceptorCount": 0.4820979881365767,
         "RotatableBondCount": 0.5105166641627756,
         "IsotopeAtomCount": "nan",
         "AtomStereoCount": "nan",
         "DefinedAtomStereoCount": "nan",
         "UndefinedAtomStereoCount": "nan",
         "BondStereoCount": "nan",
         "DefinedBondStereoCount": "nan",
         "UndefinedBondStereoCount": -0.018629364082091378,
         "CovalentUnitCount": 0.05225588153850478,
         "_deepnote_index_column": "NumValenceElectrons"
        },
        {
         "volume [A^3]": 0.1534984835046112,
         "weight [u]": 0.14256510038296194,
         "density [g/cm^3]": -0.045155244059381094,
         "surface_area [m^2/g]": -0.047451631090073366,
         "gsa": -0.0688792866719355,
         "vsa": -0.13909479095599075,
         "MolWt": 0.6347039544247568,
         "MolLogP": 0.2858959866715564,
         "NumValenceElectrons": 0.9833057357233158,
         "HeavyAtomCount": 1,
         "NOCount": 0.5289811789713758,
         "NumAliphaticRings": "nan",
         "NumAromaticRings": 0.496555335237844,
         "NumHAcceptors": 0.5101679100445835,
         "NumHDonors": 0.13998623408663094,
         "NumHeteroatoms": 0.48338180474401565,
         "NumRotatableBonds": 0.6107446369339169,
         "void_fraction": -0.08644001994881455,
         "void_volume [cm^3/g]": -0.0395962266939476,
         "CO2/N2_selectivity": 0.08655142669218527,
         "heat_adsorption_CO2_P0.15bar_T298K [kcal/mol]": 0.09294786035265057,
         "CO2_working_capacity [mL/g]": -0.004707532147375501,
         "CID": 0.2284135853286675,
         "MolecularWeight": 0.6345619989365505,
         "XLogP": -0.0091821213351467,
         "ExactMass": 0.6365332811731877,
         "MonoisotopicMass": 0.6847254911911118,
         "TPSA": 0.4795275153825092,
         "Complexity": 0.7108823258164151,
         "Charge": -0.03055527517210887,
         "HBondDonorCount": -0.0025980192006249177,
         "HBondAcceptorCount": 0.4617320453323622,
         "RotatableBondCount": 0.46296435087449167,
         "IsotopeAtomCount": "nan",
         "AtomStereoCount": "nan",
         "DefinedAtomStereoCount": "nan",
         "UndefinedAtomStereoCount": "nan",
         "BondStereoCount": "nan",
         "DefinedBondStereoCount": "nan",
         "UndefinedBondStereoCount": -0.02166547651343885,
         "CovalentUnitCount": 0.04465832064893325,
         "_deepnote_index_column": "HeavyAtomCount"
        },
        {
         "volume [A^3]": 0.07171365148491209,
         "weight [u]": 0.13004222959598002,
         "density [g/cm^3]": 0.08525936674812334,
         "surface_area [m^2/g]": -0.07416329585827829,
         "gsa": -0.0784139425958576,
         "vsa": -0.043096314273163766,
         "MolWt": 0.31114739474519504,
         "MolLogP": -0.5260731530971406,
         "NumValenceElectrons": 0.5400534210947918,
         "HeavyAtomCount": 0.5289811789713758,
         "NOCount": 1,
         "NumAliphaticRings": "nan",
         "NumAromaticRings": -0.14230294428432602,
         "NumHAcceptors": 0.9063125341732461,
         "NumHDonors": 0.46188390667485035,
         "NumHeteroatoms": 0.9150919294591513,
         "NumRotatableBonds": 0.18947788938307694,
         "void_fraction": -0.039773356308885115,
         "void_volume [cm^3/g]": -0.06122480813264187,
         "CO2/N2_selectivity": 0.16235468422164817,
         "heat_adsorption_CO2_P0.15bar_T298K [kcal/mol]": 0.09067741523848462,
         "CO2_working_capacity [mL/g]": 0.003475259856225801,
         "CID": 0.18143961173308185,
         "MolecularWeight": 0.31171882308053545,
         "XLogP": 0.05813565425042612,
         "ExactMass": 0.3136498425587099,
         "MonoisotopicMass": 0.3392754322008597,
         "TPSA": 0.9178013757549394,
         "Complexity": 0.6105808952631754,
         "Charge": -0.022482310290614198,
         "HBondDonorCount": 0.4549057879357445,
         "HBondAcceptorCount": 0.8350024278028069,
         "RotatableBondCount": 0.24538766363003597,
         "IsotopeAtomCount": "nan",
         "AtomStereoCount": "nan",
         "DefinedAtomStereoCount": "nan",
         "UndefinedAtomStereoCount": "nan",
         "BondStereoCount": "nan",
         "DefinedBondStereoCount": "nan",
         "UndefinedBondStereoCount": 0.0936084276987862,
         "CovalentUnitCount": 0.17516319142494272,
         "_deepnote_index_column": "NOCount"
        },
        {
         "volume [A^3]": "nan",
         "weight [u]": "nan",
         "density [g/cm^3]": "nan",
         "surface_area [m^2/g]": "nan",
         "gsa": "nan",
         "vsa": "nan",
         "MolWt": "nan",
         "MolLogP": "nan",
         "NumValenceElectrons": "nan",
         "HeavyAtomCount": "nan",
         "NOCount": "nan",
         "NumAliphaticRings": "nan",
         "NumAromaticRings": "nan",
         "NumHAcceptors": "nan",
         "NumHDonors": "nan",
         "NumHeteroatoms": "nan",
         "NumRotatableBonds": "nan",
         "void_fraction": "nan",
         "void_volume [cm^3/g]": "nan",
         "CO2/N2_selectivity": "nan",
         "heat_adsorption_CO2_P0.15bar_T298K [kcal/mol]": "nan",
         "CO2_working_capacity [mL/g]": "nan",
         "CID": "nan",
         "MolecularWeight": "nan",
         "XLogP": "nan",
         "ExactMass": "nan",
         "MonoisotopicMass": "nan",
         "TPSA": "nan",
         "Complexity": "nan",
         "Charge": "nan",
         "HBondDonorCount": "nan",
         "HBondAcceptorCount": "nan",
         "RotatableBondCount": "nan",
         "IsotopeAtomCount": "nan",
         "AtomStereoCount": "nan",
         "DefinedAtomStereoCount": "nan",
         "UndefinedAtomStereoCount": "nan",
         "BondStereoCount": "nan",
         "DefinedBondStereoCount": "nan",
         "UndefinedBondStereoCount": "nan",
         "CovalentUnitCount": "nan",
         "_deepnote_index_column": "NumAliphaticRings"
        }
       ],
       "rows_bottom": [
        {
         "volume [A^3]": 0.002126898438309595,
         "weight [u]": 0.03975597703747787,
         "density [g/cm^3]": 0.06948081618567688,
         "surface_area [m^2/g]": -0.04409852334506418,
         "gsa": -0.050300698988064226,
         "vsa": -0.027148779300099013,
         "MolWt": 0.056935139882886655,
         "MolLogP": 0.1301516391039222,
         "NumValenceElectrons": -0.04291972197796385,
         "HeavyAtomCount": -0.03055527517210887,
         "NOCount": -0.022482310290614198,
         "NumAliphaticRings": "nan",
         "NumAromaticRings": -0.00628413881921178,
         "NumHAcceptors": -0.003026446273601439,
         "NumHDonors": -0.21390335420270265,
         "NumHeteroatoms": -0.007551019997736236,
         "NumRotatableBonds": 0.007690870910232421,
         "void_fraction": -0.03104003694456483,
         "void_volume [cm^3/g]": -0.043487837882340154,
         "CO2/N2_selectivity": -0.008127270547940685,
         "heat_adsorption_CO2_P0.15bar_T298K [kcal/mol]": -0.0019916748192842734,
         "CO2_working_capacity [mL/g]": -0.03294333487159918,
         "CID": 0.1516464434927678,
         "MolecularWeight": 0.06099357520850037,
         "XLogP": 0.5372859244988588,
         "ExactMass": 0.060197079100746655,
         "MonoisotopicMass": -0.10992111501042295,
         "TPSA": -0.21439055868683243,
         "Complexity": -0.10106772422438325,
         "Charge": 1,
         "HBondDonorCount": 0.2793749416066566,
         "HBondAcceptorCount": -0.3807183128635043,
         "RotatableBondCount": 0.4240151922989606,
         "IsotopeAtomCount": "nan",
         "AtomStereoCount": "nan",
         "DefinedAtomStereoCount": "nan",
         "UndefinedAtomStereoCount": "nan",
         "BondStereoCount": "nan",
         "DefinedBondStereoCount": "nan",
         "UndefinedBondStereoCount": 0.6248893555531047,
         "CovalentUnitCount": 0.4861130815368061,
         "_deepnote_index_column": "Charge"
        },
        {
         "volume [A^3]": -0.0107364490119595,
         "weight [u]": 0.052531674506924364,
         "density [g/cm^3]": 0.11426862000170793,
         "surface_area [m^2/g]": -0.054266420625662955,
         "gsa": -0.054767418089030476,
         "vsa": 0.015692865004804744,
         "MolWt": 0.054012956279372956,
         "MolLogP": -0.5046814118657227,
         "NumValenceElectrons": 0.03129062551855612,
         "HeavyAtomCount": -0.0025980192006249177,
         "NOCount": 0.4549057879357445,
         "NumAliphaticRings": "nan",
         "NumAromaticRings": -0.1520347618367623,
         "NumHAcceptors": 0.33818597759510793,
         "NumHDonors": 0.6319626111211099,
         "NumHeteroatoms": 0.4810588114033081,
         "NumRotatableBonds": -0.20147197231264363,
         "void_fraction": -0.007003303406770978,
         "void_volume [cm^3/g]": -0.04896815349344699,
         "CO2/N2_selectivity": 0.06479833821286932,
         "heat_adsorption_CO2_P0.15bar_T298K [kcal/mol]": 0.026262514745159875,
         "CO2_working_capacity [mL/g]": -0.011460063412309061,
         "CID": 0.03353224913111129,
         "MolecularWeight": 0.05505739305462476,
         "XLogP": 0.3662206147020167,
         "ExactMass": 0.05523501452432921,
         "MonoisotopicMass": -0.03147384385865727,
         "TPSA": 0.4361962695430665,
         "Complexity": 0.050831142480841966,
         "Charge": 0.2793749416066566,
         "HBondDonorCount": 1,
         "HBondAcceptorCount": 0.20864762713151944,
         "RotatableBondCount": 0.2917321715140945,
         "IsotopeAtomCount": "nan",
         "AtomStereoCount": "nan",
         "DefinedAtomStereoCount": "nan",
         "UndefinedAtomStereoCount": "nan",
         "BondStereoCount": "nan",
         "DefinedBondStereoCount": "nan",
         "UndefinedBondStereoCount": 0.45199625249566916,
         "CovalentUnitCount": 0.4234311068505913,
         "_deepnote_index_column": "HBondDonorCount"
        },
        {
         "volume [A^3]": 0.05919910720888233,
         "weight [u]": 0.09785246760273478,
         "density [g/cm^3]": 0.05161851515324161,
         "surface_area [m^2/g]": -0.05309088034615072,
         "gsa": -0.057296623658888816,
         "vsa": -0.03766514440600924,
         "MolWt": 0.22235121463172267,
         "MolLogP": -0.5118069965065761,
         "NumValenceElectrons": 0.4820979881365767,
         "HeavyAtomCount": 0.4617320453323622,
         "NOCount": 0.8350024278028069,
         "NumAliphaticRings": "nan",
         "NumAromaticRings": -0.1417161760320187,
         "NumHAcceptors": 0.7813133664893517,
         "NumHDonors": 0.5192739004797076,
         "NumHeteroatoms": 0.7869090669303641,
         "NumRotatableBonds": 0.16684168822131987,
         "void_fraction": -0.028591460786411328,
         "void_volume [cm^3/g]": -0.04259353953838899,
         "CO2/N2_selectivity": 0.13410292722400458,
         "heat_adsorption_CO2_P0.15bar_T298K [kcal/mol]": 0.07592654415763243,
         "CO2_working_capacity [mL/g]": 0.010751244359495697,
         "CID": 0.1260312445111506,
         "MolecularWeight": 0.22164238244913892,
         "XLogP": -0.27097359126801795,
         "ExactMass": 0.22381523377595566,
         "MonoisotopicMass": 0.331749458670292,
         "TPSA": 0.8387806723039872,
         "Complexity": 0.6525153121604939,
         "Charge": -0.3807183128635043,
         "HBondDonorCount": 0.20864762713151944,
         "HBondAcceptorCount": 1,
         "RotatableBondCount": -0.05556888090382199,
         "IsotopeAtomCount": "nan",
         "AtomStereoCount": "nan",
         "DefinedAtomStereoCount": "nan",
         "UndefinedAtomStereoCount": "nan",
         "BondStereoCount": "nan",
         "DefinedBondStereoCount": "nan",
         "UndefinedBondStereoCount": -0.2629505204394147,
         "CovalentUnitCount": -0.17269277269562688,
         "_deepnote_index_column": "HBondAcceptorCount"
        },
        {
         "volume [A^3]": 0.09429585685960032,
         "weight [u]": 0.09688697141404039,
         "density [g/cm^3]": -0.012281454610074736,
         "surface_area [m^2/g]": -0.03750518803047307,
         "gsa": -0.048502954191923964,
         "vsa": -0.07606170103001916,
         "MolWt": 0.37489550039287833,
         "MolLogP": 0.22988658276766677,
         "NumValenceElectrons": 0.5105166641627756,
         "HeavyAtomCount": 0.46296435087449167,
         "NOCount": 0.24538766363003597,
         "NumAliphaticRings": "nan",
         "NumAromaticRings": -0.0033678441572657977,
         "NumHAcceptors": 0.2891394110180987,
         "NumHDonors": -0.07745254576703867,
         "NumHeteroatoms": 0.26475223097163125,
         "NumRotatableBonds": 0.6550149839858905,
         "void_fraction": -0.05316569334434366,
         "void_volume [cm^3/g]": -0.030532977342381137,
         "CO2/N2_selectivity": 0.035260949082204465,
         "heat_adsorption_CO2_P0.15bar_T298K [kcal/mol]": 0.04569144864542646,
         "CO2_working_capacity [mL/g]": -0.013405944957591051,
         "CID": 0.26513915601451965,
         "MolecularWeight": 0.3759711839681578,
         "XLogP": 0.5700660681778101,
         "ExactMass": 0.37644568062897266,
         "MonoisotopicMass": 0.20207890822841204,
         "TPSA": 0.10019798814651175,
         "Complexity": 0.10792129479429365,
         "Charge": 0.4240151922989606,
         "HBondDonorCount": 0.2917321715140945,
         "HBondAcceptorCount": -0.05556888090382199,
         "RotatableBondCount": 1,
         "IsotopeAtomCount": "nan",
         "AtomStereoCount": "nan",
         "DefinedAtomStereoCount": "nan",
         "UndefinedAtomStereoCount": "nan",
         "BondStereoCount": "nan",
         "DefinedBondStereoCount": "nan",
         "UndefinedBondStereoCount": 0.5859143618250524,
         "CovalentUnitCount": 0.49167135518611527,
         "_deepnote_index_column": "RotatableBondCount"
        },
        {
         "volume [A^3]": "nan",
         "weight [u]": "nan",
         "density [g/cm^3]": "nan",
         "surface_area [m^2/g]": "nan",
         "gsa": "nan",
         "vsa": "nan",
         "MolWt": "nan",
         "MolLogP": "nan",
         "NumValenceElectrons": "nan",
         "HeavyAtomCount": "nan",
         "NOCount": "nan",
         "NumAliphaticRings": "nan",
         "NumAromaticRings": "nan",
         "NumHAcceptors": "nan",
         "NumHDonors": "nan",
         "NumHeteroatoms": "nan",
         "NumRotatableBonds": "nan",
         "void_fraction": "nan",
         "void_volume [cm^3/g]": "nan",
         "CO2/N2_selectivity": "nan",
         "heat_adsorption_CO2_P0.15bar_T298K [kcal/mol]": "nan",
         "CO2_working_capacity [mL/g]": "nan",
         "CID": "nan",
         "MolecularWeight": "nan",
         "XLogP": "nan",
         "ExactMass": "nan",
         "MonoisotopicMass": "nan",
         "TPSA": "nan",
         "Complexity": "nan",
         "Charge": "nan",
         "HBondDonorCount": "nan",
         "HBondAcceptorCount": "nan",
         "RotatableBondCount": "nan",
         "IsotopeAtomCount": "nan",
         "AtomStereoCount": "nan",
         "DefinedAtomStereoCount": "nan",
         "UndefinedAtomStereoCount": "nan",
         "BondStereoCount": "nan",
         "DefinedBondStereoCount": "nan",
         "UndefinedBondStereoCount": "nan",
         "CovalentUnitCount": "nan",
         "_deepnote_index_column": "IsotopeAtomCount"
        },
        {
         "volume [A^3]": "nan",
         "weight [u]": "nan",
         "density [g/cm^3]": "nan",
         "surface_area [m^2/g]": "nan",
         "gsa": "nan",
         "vsa": "nan",
         "MolWt": "nan",
         "MolLogP": "nan",
         "NumValenceElectrons": "nan",
         "HeavyAtomCount": "nan",
         "NOCount": "nan",
         "NumAliphaticRings": "nan",
         "NumAromaticRings": "nan",
         "NumHAcceptors": "nan",
         "NumHDonors": "nan",
         "NumHeteroatoms": "nan",
         "NumRotatableBonds": "nan",
         "void_fraction": "nan",
         "void_volume [cm^3/g]": "nan",
         "CO2/N2_selectivity": "nan",
         "heat_adsorption_CO2_P0.15bar_T298K [kcal/mol]": "nan",
         "CO2_working_capacity [mL/g]": "nan",
         "CID": "nan",
         "MolecularWeight": "nan",
         "XLogP": "nan",
         "ExactMass": "nan",
         "MonoisotopicMass": "nan",
         "TPSA": "nan",
         "Complexity": "nan",
         "Charge": "nan",
         "HBondDonorCount": "nan",
         "HBondAcceptorCount": "nan",
         "RotatableBondCount": "nan",
         "IsotopeAtomCount": "nan",
         "AtomStereoCount": "nan",
         "DefinedAtomStereoCount": "nan",
         "UndefinedAtomStereoCount": "nan",
         "BondStereoCount": "nan",
         "DefinedBondStereoCount": "nan",
         "UndefinedBondStereoCount": "nan",
         "CovalentUnitCount": "nan",
         "_deepnote_index_column": "AtomStereoCount"
        },
        {
         "volume [A^3]": "nan",
         "weight [u]": "nan",
         "density [g/cm^3]": "nan",
         "surface_area [m^2/g]": "nan",
         "gsa": "nan",
         "vsa": "nan",
         "MolWt": "nan",
         "MolLogP": "nan",
         "NumValenceElectrons": "nan",
         "HeavyAtomCount": "nan",
         "NOCount": "nan",
         "NumAliphaticRings": "nan",
         "NumAromaticRings": "nan",
         "NumHAcceptors": "nan",
         "NumHDonors": "nan",
         "NumHeteroatoms": "nan",
         "NumRotatableBonds": "nan",
         "void_fraction": "nan",
         "void_volume [cm^3/g]": "nan",
         "CO2/N2_selectivity": "nan",
         "heat_adsorption_CO2_P0.15bar_T298K [kcal/mol]": "nan",
         "CO2_working_capacity [mL/g]": "nan",
         "CID": "nan",
         "MolecularWeight": "nan",
         "XLogP": "nan",
         "ExactMass": "nan",
         "MonoisotopicMass": "nan",
         "TPSA": "nan",
         "Complexity": "nan",
         "Charge": "nan",
         "HBondDonorCount": "nan",
         "HBondAcceptorCount": "nan",
         "RotatableBondCount": "nan",
         "IsotopeAtomCount": "nan",
         "AtomStereoCount": "nan",
         "DefinedAtomStereoCount": "nan",
         "UndefinedAtomStereoCount": "nan",
         "BondStereoCount": "nan",
         "DefinedBondStereoCount": "nan",
         "UndefinedBondStereoCount": "nan",
         "CovalentUnitCount": "nan",
         "_deepnote_index_column": "DefinedAtomStereoCount"
        },
        {
         "volume [A^3]": "nan",
         "weight [u]": "nan",
         "density [g/cm^3]": "nan",
         "surface_area [m^2/g]": "nan",
         "gsa": "nan",
         "vsa": "nan",
         "MolWt": "nan",
         "MolLogP": "nan",
         "NumValenceElectrons": "nan",
         "HeavyAtomCount": "nan",
         "NOCount": "nan",
         "NumAliphaticRings": "nan",
         "NumAromaticRings": "nan",
         "NumHAcceptors": "nan",
         "NumHDonors": "nan",
         "NumHeteroatoms": "nan",
         "NumRotatableBonds": "nan",
         "void_fraction": "nan",
         "void_volume [cm^3/g]": "nan",
         "CO2/N2_selectivity": "nan",
         "heat_adsorption_CO2_P0.15bar_T298K [kcal/mol]": "nan",
         "CO2_working_capacity [mL/g]": "nan",
         "CID": "nan",
         "MolecularWeight": "nan",
         "XLogP": "nan",
         "ExactMass": "nan",
         "MonoisotopicMass": "nan",
         "TPSA": "nan",
         "Complexity": "nan",
         "Charge": "nan",
         "HBondDonorCount": "nan",
         "HBondAcceptorCount": "nan",
         "RotatableBondCount": "nan",
         "IsotopeAtomCount": "nan",
         "AtomStereoCount": "nan",
         "DefinedAtomStereoCount": "nan",
         "UndefinedAtomStereoCount": "nan",
         "BondStereoCount": "nan",
         "DefinedBondStereoCount": "nan",
         "UndefinedBondStereoCount": "nan",
         "CovalentUnitCount": "nan",
         "_deepnote_index_column": "UndefinedAtomStereoCount"
        },
        {
         "volume [A^3]": "nan",
         "weight [u]": "nan",
         "density [g/cm^3]": "nan",
         "surface_area [m^2/g]": "nan",
         "gsa": "nan",
         "vsa": "nan",
         "MolWt": "nan",
         "MolLogP": "nan",
         "NumValenceElectrons": "nan",
         "HeavyAtomCount": "nan",
         "NOCount": "nan",
         "NumAliphaticRings": "nan",
         "NumAromaticRings": "nan",
         "NumHAcceptors": "nan",
         "NumHDonors": "nan",
         "NumHeteroatoms": "nan",
         "NumRotatableBonds": "nan",
         "void_fraction": "nan",
         "void_volume [cm^3/g]": "nan",
         "CO2/N2_selectivity": "nan",
         "heat_adsorption_CO2_P0.15bar_T298K [kcal/mol]": "nan",
         "CO2_working_capacity [mL/g]": "nan",
         "CID": "nan",
         "MolecularWeight": "nan",
         "XLogP": "nan",
         "ExactMass": "nan",
         "MonoisotopicMass": "nan",
         "TPSA": "nan",
         "Complexity": "nan",
         "Charge": "nan",
         "HBondDonorCount": "nan",
         "HBondAcceptorCount": "nan",
         "RotatableBondCount": "nan",
         "IsotopeAtomCount": "nan",
         "AtomStereoCount": "nan",
         "DefinedAtomStereoCount": "nan",
         "UndefinedAtomStereoCount": "nan",
         "BondStereoCount": "nan",
         "DefinedBondStereoCount": "nan",
         "UndefinedBondStereoCount": "nan",
         "CovalentUnitCount": "nan",
         "_deepnote_index_column": "BondStereoCount"
        },
        {
         "volume [A^3]": "nan",
         "weight [u]": "nan",
         "density [g/cm^3]": "nan",
         "surface_area [m^2/g]": "nan",
         "gsa": "nan",
         "vsa": "nan",
         "MolWt": "nan",
         "MolLogP": "nan",
         "NumValenceElectrons": "nan",
         "HeavyAtomCount": "nan",
         "NOCount": "nan",
         "NumAliphaticRings": "nan",
         "NumAromaticRings": "nan",
         "NumHAcceptors": "nan",
         "NumHDonors": "nan",
         "NumHeteroatoms": "nan",
         "NumRotatableBonds": "nan",
         "void_fraction": "nan",
         "void_volume [cm^3/g]": "nan",
         "CO2/N2_selectivity": "nan",
         "heat_adsorption_CO2_P0.15bar_T298K [kcal/mol]": "nan",
         "CO2_working_capacity [mL/g]": "nan",
         "CID": "nan",
         "MolecularWeight": "nan",
         "XLogP": "nan",
         "ExactMass": "nan",
         "MonoisotopicMass": "nan",
         "TPSA": "nan",
         "Complexity": "nan",
         "Charge": "nan",
         "HBondDonorCount": "nan",
         "HBondAcceptorCount": "nan",
         "RotatableBondCount": "nan",
         "IsotopeAtomCount": "nan",
         "AtomStereoCount": "nan",
         "DefinedAtomStereoCount": "nan",
         "UndefinedAtomStereoCount": "nan",
         "BondStereoCount": "nan",
         "DefinedBondStereoCount": "nan",
         "UndefinedBondStereoCount": "nan",
         "CovalentUnitCount": "nan",
         "_deepnote_index_column": "DefinedBondStereoCount"
        },
        {
         "volume [A^3]": 0.004175432925873308,
         "weight [u]": 0.0796698074216762,
         "density [g/cm^3]": 0.14414422900301324,
         "surface_area [m^2/g]": -0.06129108801922305,
         "gsa": -0.057963316744550734,
         "vsa": 0.04122286947704308,
         "MolWt": 0.1991748942082109,
         "MolLogP": 0.052308565637682006,
         "NumValenceElectrons": -0.018629364082091378,
         "HeavyAtomCount": -0.02166547651343885,
         "NOCount": 0.0936084276987862,
         "NumAliphaticRings": "nan",
         "NumAromaticRings": -0.046867604292183056,
         "NumHAcceptors": 0.0671502192149337,
         "NumHDonors": -0.07874371440509959,
         "NumHeteroatoms": 0.22500178726773734,
         "NumRotatableBonds": -0.09179905880610345,
         "void_fraction": -0.001031716943877606,
         "void_volume [cm^3/g]": -0.052489727903289915,
         "CO2/N2_selectivity": 0.024940309053483926,
         "heat_adsorption_CO2_P0.15bar_T298K [kcal/mol]": -0.002180984262976836,
         "CO2_working_capacity [mL/g]": -0.042283597440860174,
         "CID": 0.1414929096206339,
         "MolecularWeight": 0.20129098385413038,
         "XLogP": 0.8910415999239469,
         "ExactMass": 0.19991762518960926,
         "MonoisotopicMass": -0.15278558706440576,
         "TPSA": -0.06444808743687556,
         "Complexity": -0.14071919910556469,
         "Charge": 0.6248893555531047,
         "HBondDonorCount": 0.45199625249566916,
         "HBondAcceptorCount": -0.2629505204394147,
         "RotatableBondCount": 0.5859143618250524,
         "IsotopeAtomCount": "nan",
         "AtomStereoCount": "nan",
         "DefinedAtomStereoCount": "nan",
         "UndefinedAtomStereoCount": "nan",
         "BondStereoCount": "nan",
         "DefinedBondStereoCount": "nan",
         "UndefinedBondStereoCount": 1,
         "CovalentUnitCount": 0.46650452654863755,
         "_deepnote_index_column": "UndefinedBondStereoCount"
        },
        {
         "volume [A^3]": 0.005675387499381312,
         "weight [u]": 0.044122654932142194,
         "density [g/cm^3]": 0.07060312228359282,
         "surface_area [m^2/g]": -0.034502343361317744,
         "gsa": -0.03301397760744316,
         "vsa": 0.0061809604998236505,
         "MolWt": 0.09599252574621285,
         "MolLogP": -0.09939095655893328,
         "NumValenceElectrons": 0.05225588153850478,
         "HeavyAtomCount": 0.04465832064893325,
         "NOCount": 0.17516319142494272,
         "NumAliphaticRings": "nan",
         "NumAromaticRings": -0.030780302397931013,
         "NumHAcceptors": 0.1634802328053776,
         "NumHDonors": 0.06030382277998386,
         "NumHeteroatoms": 0.2281023396728433,
         "NumRotatableBonds": -0.014841276119951934,
         "void_fraction": -0.007348153155823096,
         "void_volume [cm^3/g]": -0.0301240985543186,
         "CO2/N2_selectivity": 0.031553301963619426,
         "heat_adsorption_CO2_P0.15bar_T298K [kcal/mol]": 0.015467742906216995,
         "CO2_working_capacity [mL/g]": -0.012646420917476798,
         "CID": 0.10231748957573289,
         "MolecularWeight": 0.09591451969100993,
         "XLogP": 0.5273937017114232,
         "ExactMass": 0.09590871188631217,
         "MonoisotopicMass": -0.015610645120321742,
         "TPSA": 0.17345186242183677,
         "Complexity": -0.09061595363043508,
         "Charge": 0.4861130815368061,
         "HBondDonorCount": 0.4234311068505913,
         "HBondAcceptorCount": -0.17269277269562688,
         "RotatableBondCount": 0.49167135518611527,
         "IsotopeAtomCount": "nan",
         "AtomStereoCount": "nan",
         "DefinedAtomStereoCount": "nan",
         "UndefinedAtomStereoCount": "nan",
         "BondStereoCount": "nan",
         "DefinedBondStereoCount": "nan",
         "UndefinedBondStereoCount": 0.46650452654863755,
         "CovalentUnitCount": 1,
         "_deepnote_index_column": "CovalentUnitCount"
        }
       ]
      },
      "text/plain": "                                               volume [A^3]  weight [u]  \\\nvolume [A^3]                                       1.000000    0.800379   \nweight [u]                                         0.800379    1.000000   \ndensity [g/cm^3]                                  -0.421185    0.051260   \nsurface_area [m^2/g]                               0.352336   -0.079743   \ngsa                                                0.210774   -0.142808   \nvsa                                                0.097570   -0.206643   \nMolWt                                              0.113224    0.237705   \nMolLogP                                            0.059942    0.042523   \nNumValenceElectrons                                0.158851    0.149160   \nHeavyAtomCount                                     0.153498    0.142565   \nNOCount                                            0.071714    0.130042   \nNumAliphaticRings                                       NaN         NaN   \nNumAromaticRings                                   0.065283    0.026418   \nNumHAcceptors                                      0.071298    0.108517   \nNumHDonors                                         0.006606    0.025111   \nNumHeteroatoms                                     0.070627    0.186989   \nNumRotatableBonds                                  0.125371    0.068054   \nvoid_fraction                                      0.451938    0.050982   \nvoid_volume [cm^3/g]                               0.467554    0.033515   \nCO2/N2_selectivity                                -0.146873    0.129738   \nheat_adsorption_CO2_P0.15bar_T298K [kcal/mol]     -0.219146    0.072888   \nCO2_working_capacity [mL/g]                       -0.121248   -0.019012   \nCID                                                0.052053    0.113775   \nMolecularWeight                                    0.113198    0.237815   \nXLogP                                              0.009422    0.088537   \nExactMass                                          0.113521    0.237688   \nMonoisotopicMass                                   0.115130    0.205745   \nTPSA                                               0.053552    0.103908   \nComplexity                                         0.098893    0.133630   \nCharge                                             0.002127    0.039756   \nHBondDonorCount                                   -0.010736    0.052532   \nHBondAcceptorCount                                 0.059199    0.097852   \nRotatableBondCount                                 0.094296    0.096887   \nIsotopeAtomCount                                        NaN         NaN   \nAtomStereoCount                                         NaN         NaN   \nDefinedAtomStereoCount                                  NaN         NaN   \nUndefinedAtomStereoCount                                NaN         NaN   \nBondStereoCount                                         NaN         NaN   \nDefinedBondStereoCount                                  NaN         NaN   \nUndefinedBondStereoCount                           0.004175    0.079670   \nCovalentUnitCount                                  0.005675    0.044123   \n\n                                               density [g/cm^3]  \\\nvolume [A^3]                                          -0.421185   \nweight [u]                                             0.051260   \ndensity [g/cm^3]                                       1.000000   \nsurface_area [m^2/g]                                  -0.843761   \ngsa                                                   -0.679402   \nvsa                                                   -0.576315   \nMolWt                                                  0.198944   \nMolLogP                                               -0.040142   \nNumValenceElectrons                                   -0.045940   \nHeavyAtomCount                                        -0.045155   \nNOCount                                                0.085259   \nNumAliphaticRings                                           NaN   \nNumAromaticRings                                      -0.068946   \nNumHAcceptors                                          0.046127   \nNumHDonors                                             0.021528   \nNumHeteroatoms                                         0.192275   \nNumRotatableBonds                                     -0.129711   \nvoid_fraction                                         -0.828113   \nvoid_volume [cm^3/g]                                  -0.885369   \nCO2/N2_selectivity                                     0.572206   \nheat_adsorption_CO2_P0.15bar_T298K [kcal/mol]          0.630325   \nCO2_working_capacity [mL/g]                            0.260456   \nCID                                                    0.094255   \nMolecularWeight                                        0.199211   \nXLogP                                                  0.147918   \nExactMass                                              0.198282   \nMonoisotopicMass                                       0.135481   \nTPSA                                                   0.074750   \nComplexity                                             0.040906   \nCharge                                                 0.069481   \nHBondDonorCount                                        0.114269   \nHBondAcceptorCount                                     0.051619   \nRotatableBondCount                                    -0.012281   \nIsotopeAtomCount                                            NaN   \nAtomStereoCount                                             NaN   \nDefinedAtomStereoCount                                      NaN   \nUndefinedAtomStereoCount                                    NaN   \nBondStereoCount                                             NaN   \nDefinedBondStereoCount                                      NaN   \nUndefinedBondStereoCount                               0.144144   \nCovalentUnitCount                                      0.070603   \n\n                                               surface_area [m^2/g]       gsa  \\\nvolume [A^3]                                               0.352336  0.210774   \nweight [u]                                                -0.079743 -0.142808   \ndensity [g/cm^3]                                          -0.843761 -0.679402   \nsurface_area [m^2/g]                                       1.000000  0.752550   \ngsa                                                        0.752550  1.000000   \nvsa                                                        0.720241  0.742375   \nMolWt                                                     -0.125439 -0.129158   \nMolLogP                                                   -0.004095 -0.012721   \nNumValenceElectrons                                       -0.051622 -0.073965   \nHeavyAtomCount                                            -0.047452 -0.068879   \nNOCount                                                   -0.074163 -0.078414   \nNumAliphaticRings                                               NaN       NaN   \nNumAromaticRings                                           0.023702  0.012296   \nNumHAcceptors                                             -0.061339 -0.065152   \nNumHDonors                                                -0.026173 -0.033063   \nNumHeteroatoms                                            -0.116903 -0.115303   \nNumRotatableBonds                                         -0.001815 -0.020349   \nvoid_fraction                                              0.873295  0.725606   \nvoid_volume [cm^3/g]                                       0.914646  0.768011   \nCO2/N2_selectivity                                        -0.583721 -0.505604   \nheat_adsorption_CO2_P0.15bar_T298K [kcal/mol]             -0.657840 -0.566905   \nCO2_working_capacity [mL/g]                               -0.356817 -0.335843   \nCID                                                       -0.062283 -0.060785   \nMolecularWeight                                           -0.125575 -0.129283   \nXLogP                                                     -0.059335 -0.055269   \nExactMass                                                 -0.125287 -0.129095   \nMonoisotopicMass                                          -0.102914 -0.108632   \nTPSA                                                      -0.057861 -0.057588   \nComplexity                                                -0.053266 -0.062549   \nCharge                                                    -0.044099 -0.050301   \nHBondDonorCount                                           -0.054266 -0.054767   \nHBondAcceptorCount                                        -0.053091 -0.057297   \nRotatableBondCount                                        -0.037505 -0.048503   \nIsotopeAtomCount                                                NaN       NaN   \nAtomStereoCount                                                 NaN       NaN   \nDefinedAtomStereoCount                                          NaN       NaN   \nUndefinedAtomStereoCount                                        NaN       NaN   \nBondStereoCount                                                 NaN       NaN   \nDefinedBondStereoCount                                          NaN       NaN   \nUndefinedBondStereoCount                                  -0.061291 -0.057963   \nCovalentUnitCount                                         -0.034502 -0.033014   \n\n                                                    vsa     MolWt   MolLogP  \\\nvolume [A^3]                                   0.097570  0.113224  0.059942   \nweight [u]                                    -0.206643  0.237705  0.042523   \ndensity [g/cm^3]                              -0.576315  0.198944 -0.040142   \nsurface_area [m^2/g]                           0.720241 -0.125439 -0.004095   \ngsa                                            0.742375 -0.129158 -0.012721   \nvsa                                            1.000000 -0.014983 -0.053166   \nMolWt                                         -0.014983  1.000000  0.364386   \nMolLogP                                       -0.053166  0.364386  1.000000   \nNumValenceElectrons                           -0.150393  0.649854  0.265859   \nHeavyAtomCount                                -0.139095  0.634704  0.285896   \nNOCount                                       -0.043096  0.311147 -0.526073   \nNumAliphaticRings                                   NaN       NaN       NaN   \nNumAromaticRings                              -0.033002  0.260649  0.454642   \nNumHAcceptors                                 -0.056043  0.272086 -0.466659   \nNumHDonors                                    -0.042325  0.047853 -0.527713   \nNumHeteroatoms                                -0.000030  0.490523 -0.428730   \nNumRotatableBonds                             -0.135777  0.351438  0.325782   \nvoid_fraction                                  0.761131 -0.046897 -0.039885   \nvoid_volume [cm^3/g]                           0.696055 -0.103773 -0.006782   \nCO2/N2_selectivity                            -0.535565  0.068881 -0.077068   \nheat_adsorption_CO2_P0.15bar_T298K [kcal/mol] -0.629537  0.053964 -0.014346   \nCO2_working_capacity [mL/g]                   -0.360151 -0.075978 -0.036725   \nCID                                           -0.016742  0.393898  0.133644   \nMolecularWeight                               -0.014968  0.999977  0.364880   \nXLogP                                          0.052488  0.291723  0.106419   \nExactMass                                     -0.015517  0.999957  0.363691   \nMonoisotopicMass                              -0.045126  0.888208  0.306317   \nTPSA                                          -0.018335  0.282117 -0.563507   \nComplexity                                    -0.044376  0.502471 -0.061843   \nCharge                                        -0.027149  0.056935  0.130152   \nHBondDonorCount                                0.015693  0.054013 -0.504681   \nHBondAcceptorCount                            -0.037665  0.222351 -0.511807   \nRotatableBondCount                            -0.076062  0.374896  0.229887   \nIsotopeAtomCount                                    NaN       NaN       NaN   \nAtomStereoCount                                     NaN       NaN       NaN   \nDefinedAtomStereoCount                              NaN       NaN       NaN   \nUndefinedAtomStereoCount                            NaN       NaN       NaN   \nBondStereoCount                                     NaN       NaN       NaN   \nDefinedBondStereoCount                              NaN       NaN       NaN   \nUndefinedBondStereoCount                       0.041223  0.199175  0.052309   \nCovalentUnitCount                              0.006181  0.095993 -0.099391   \n\n                                               NumValenceElectrons  \\\nvolume [A^3]                                              0.158851   \nweight [u]                                                0.149160   \ndensity [g/cm^3]                                         -0.045940   \nsurface_area [m^2/g]                                     -0.051622   \ngsa                                                      -0.073965   \nvsa                                                      -0.150393   \nMolWt                                                     0.649854   \nMolLogP                                                   0.265859   \nNumValenceElectrons                                       1.000000   \nHeavyAtomCount                                            0.983306   \nNOCount                                                   0.540053   \nNumAliphaticRings                                              NaN   \nNumAromaticRings                                          0.382802   \nNumHAcceptors                                             0.520719   \nNumHDonors                                                0.190873   \nNumHeteroatoms                                            0.510887   \nNumRotatableBonds                                         0.670989   \nvoid_fraction                                            -0.092468   \nvoid_volume [cm^3/g]                                     -0.042972   \nCO2/N2_selectivity                                        0.088351   \nheat_adsorption_CO2_P0.15bar_T298K [kcal/mol]             0.099179   \nCO2_working_capacity [mL/g]                              -0.005479   \nCID                                                       0.256200   \nMolecularWeight                                           0.649466   \nXLogP                                                    -0.005216   \nExactMass                                                 0.651368   \nMonoisotopicMass                                          0.697481   \nTPSA                                                      0.486376   \nComplexity                                                0.685045   \nCharge                                                   -0.042920   \nHBondDonorCount                                           0.031291   \nHBondAcceptorCount                                        0.482098   \nRotatableBondCount                                        0.510517   \nIsotopeAtomCount                                               NaN   \nAtomStereoCount                                                NaN   \nDefinedAtomStereoCount                                         NaN   \nUndefinedAtomStereoCount                                       NaN   \nBondStereoCount                                                NaN   \nDefinedBondStereoCount                                         NaN   \nUndefinedBondStereoCount                                 -0.018629   \nCovalentUnitCount                                         0.052256   \n\n                                               HeavyAtomCount  ...  \\\nvolume [A^3]                                         0.153498  ...   \nweight [u]                                           0.142565  ...   \ndensity [g/cm^3]                                    -0.045155  ...   \nsurface_area [m^2/g]                                -0.047452  ...   \ngsa                                                 -0.068879  ...   \nvsa                                                 -0.139095  ...   \nMolWt                                                0.634704  ...   \nMolLogP                                              0.285896  ...   \nNumValenceElectrons                                  0.983306  ...   \nHeavyAtomCount                                       1.000000  ...   \nNOCount                                              0.528981  ...   \nNumAliphaticRings                                         NaN  ...   \nNumAromaticRings                                     0.496555  ...   \nNumHAcceptors                                        0.510168  ...   \nNumHDonors                                           0.139986  ...   \nNumHeteroatoms                                       0.483382  ...   \nNumRotatableBonds                                    0.610745  ...   \nvoid_fraction                                       -0.086440  ...   \nvoid_volume [cm^3/g]                                -0.039596  ...   \nCO2/N2_selectivity                                   0.086551  ...   \nheat_adsorption_CO2_P0.15bar_T298K [kcal/mol]        0.092948  ...   \nCO2_working_capacity [mL/g]                         -0.004708  ...   \nCID                                                  0.228414  ...   \nMolecularWeight                                      0.634562  ...   \nXLogP                                               -0.009182  ...   \nExactMass                                            0.636533  ...   \nMonoisotopicMass                                     0.684725  ...   \nTPSA                                                 0.479528  ...   \nComplexity                                           0.710882  ...   \nCharge                                              -0.030555  ...   \nHBondDonorCount                                     -0.002598  ...   \nHBondAcceptorCount                                   0.461732  ...   \nRotatableBondCount                                   0.462964  ...   \nIsotopeAtomCount                                          NaN  ...   \nAtomStereoCount                                           NaN  ...   \nDefinedAtomStereoCount                                    NaN  ...   \nUndefinedAtomStereoCount                                  NaN  ...   \nBondStereoCount                                           NaN  ...   \nDefinedBondStereoCount                                    NaN  ...   \nUndefinedBondStereoCount                            -0.021665  ...   \nCovalentUnitCount                                    0.044658  ...   \n\n                                               HBondAcceptorCount  \\\nvolume [A^3]                                             0.059199   \nweight [u]                                               0.097852   \ndensity [g/cm^3]                                         0.051619   \nsurface_area [m^2/g]                                    -0.053091   \ngsa                                                     -0.057297   \nvsa                                                     -0.037665   \nMolWt                                                    0.222351   \nMolLogP                                                 -0.511807   \nNumValenceElectrons                                      0.482098   \nHeavyAtomCount                                           0.461732   \nNOCount                                                  0.835002   \nNumAliphaticRings                                             NaN   \nNumAromaticRings                                        -0.141716   \nNumHAcceptors                                            0.781313   \nNumHDonors                                               0.519274   \nNumHeteroatoms                                           0.786909   \nNumRotatableBonds                                        0.166842   \nvoid_fraction                                           -0.028591   \nvoid_volume [cm^3/g]                                    -0.042594   \nCO2/N2_selectivity                                       0.134103   \nheat_adsorption_CO2_P0.15bar_T298K [kcal/mol]            0.075927   \nCO2_working_capacity [mL/g]                              0.010751   \nCID                                                      0.126031   \nMolecularWeight                                          0.221642   \nXLogP                                                   -0.270974   \nExactMass                                                0.223815   \nMonoisotopicMass                                         0.331749   \nTPSA                                                     0.838781   \nComplexity                                               0.652515   \nCharge                                                  -0.380718   \nHBondDonorCount                                          0.208648   \nHBondAcceptorCount                                       1.000000   \nRotatableBondCount                                      -0.055569   \nIsotopeAtomCount                                              NaN   \nAtomStereoCount                                               NaN   \nDefinedAtomStereoCount                                        NaN   \nUndefinedAtomStereoCount                                      NaN   \nBondStereoCount                                               NaN   \nDefinedBondStereoCount                                        NaN   \nUndefinedBondStereoCount                                -0.262951   \nCovalentUnitCount                                       -0.172693   \n\n                                               RotatableBondCount  \\\nvolume [A^3]                                             0.094296   \nweight [u]                                               0.096887   \ndensity [g/cm^3]                                        -0.012281   \nsurface_area [m^2/g]                                    -0.037505   \ngsa                                                     -0.048503   \nvsa                                                     -0.076062   \nMolWt                                                    0.374896   \nMolLogP                                                  0.229887   \nNumValenceElectrons                                      0.510517   \nHeavyAtomCount                                           0.462964   \nNOCount                                                  0.245388   \nNumAliphaticRings                                             NaN   \nNumAromaticRings                                        -0.003368   \nNumHAcceptors                                            0.289139   \nNumHDonors                                              -0.077453   \nNumHeteroatoms                                           0.264752   \nNumRotatableBonds                                        0.655015   \nvoid_fraction                                           -0.053166   \nvoid_volume [cm^3/g]                                    -0.030533   \nCO2/N2_selectivity                                       0.035261   \nheat_adsorption_CO2_P0.15bar_T298K [kcal/mol]            0.045691   \nCO2_working_capacity [mL/g]                             -0.013406   \nCID                                                      0.265139   \nMolecularWeight                                          0.375971   \nXLogP                                                    0.570066   \nExactMass                                                0.376446   \nMonoisotopicMass                                         0.202079   \nTPSA                                                     0.100198   \nComplexity                                               0.107921   \nCharge                                                   0.424015   \nHBondDonorCount                                          0.291732   \nHBondAcceptorCount                                      -0.055569   \nRotatableBondCount                                       1.000000   \nIsotopeAtomCount                                              NaN   \nAtomStereoCount                                               NaN   \nDefinedAtomStereoCount                                        NaN   \nUndefinedAtomStereoCount                                      NaN   \nBondStereoCount                                               NaN   \nDefinedBondStereoCount                                        NaN   \nUndefinedBondStereoCount                                 0.585914   \nCovalentUnitCount                                        0.491671   \n\n                                               IsotopeAtomCount  \\\nvolume [A^3]                                                NaN   \nweight [u]                                                  NaN   \ndensity [g/cm^3]                                            NaN   \nsurface_area [m^2/g]                                        NaN   \ngsa                                                         NaN   \nvsa                                                         NaN   \nMolWt                                                       NaN   \nMolLogP                                                     NaN   \nNumValenceElectrons                                         NaN   \nHeavyAtomCount                                              NaN   \nNOCount                                                     NaN   \nNumAliphaticRings                                           NaN   \nNumAromaticRings                                            NaN   \nNumHAcceptors                                               NaN   \nNumHDonors                                                  NaN   \nNumHeteroatoms                                              NaN   \nNumRotatableBonds                                           NaN   \nvoid_fraction                                               NaN   \nvoid_volume [cm^3/g]                                        NaN   \nCO2/N2_selectivity                                          NaN   \nheat_adsorption_CO2_P0.15bar_T298K [kcal/mol]               NaN   \nCO2_working_capacity [mL/g]                                 NaN   \nCID                                                         NaN   \nMolecularWeight                                             NaN   \nXLogP                                                       NaN   \nExactMass                                                   NaN   \nMonoisotopicMass                                            NaN   \nTPSA                                                        NaN   \nComplexity                                                  NaN   \nCharge                                                      NaN   \nHBondDonorCount                                             NaN   \nHBondAcceptorCount                                          NaN   \nRotatableBondCount                                          NaN   \nIsotopeAtomCount                                            NaN   \nAtomStereoCount                                             NaN   \nDefinedAtomStereoCount                                      NaN   \nUndefinedAtomStereoCount                                    NaN   \nBondStereoCount                                             NaN   \nDefinedBondStereoCount                                      NaN   \nUndefinedBondStereoCount                                    NaN   \nCovalentUnitCount                                           NaN   \n\n                                               AtomStereoCount  \\\nvolume [A^3]                                               NaN   \nweight [u]                                                 NaN   \ndensity [g/cm^3]                                           NaN   \nsurface_area [m^2/g]                                       NaN   \ngsa                                                        NaN   \nvsa                                                        NaN   \nMolWt                                                      NaN   \nMolLogP                                                    NaN   \nNumValenceElectrons                                        NaN   \nHeavyAtomCount                                             NaN   \nNOCount                                                    NaN   \nNumAliphaticRings                                          NaN   \nNumAromaticRings                                           NaN   \nNumHAcceptors                                              NaN   \nNumHDonors                                                 NaN   \nNumHeteroatoms                                             NaN   \nNumRotatableBonds                                          NaN   \nvoid_fraction                                              NaN   \nvoid_volume [cm^3/g]                                       NaN   \nCO2/N2_selectivity                                         NaN   \nheat_adsorption_CO2_P0.15bar_T298K [kcal/mol]              NaN   \nCO2_working_capacity [mL/g]                                NaN   \nCID                                                        NaN   \nMolecularWeight                                            NaN   \nXLogP                                                      NaN   \nExactMass                                                  NaN   \nMonoisotopicMass                                           NaN   \nTPSA                                                       NaN   \nComplexity                                                 NaN   \nCharge                                                     NaN   \nHBondDonorCount                                            NaN   \nHBondAcceptorCount                                         NaN   \nRotatableBondCount                                         NaN   \nIsotopeAtomCount                                           NaN   \nAtomStereoCount                                            NaN   \nDefinedAtomStereoCount                                     NaN   \nUndefinedAtomStereoCount                                   NaN   \nBondStereoCount                                            NaN   \nDefinedBondStereoCount                                     NaN   \nUndefinedBondStereoCount                                   NaN   \nCovalentUnitCount                                          NaN   \n\n                                               DefinedAtomStereoCount  \\\nvolume [A^3]                                                      NaN   \nweight [u]                                                        NaN   \ndensity [g/cm^3]                                                  NaN   \nsurface_area [m^2/g]                                              NaN   \ngsa                                                               NaN   \nvsa                                                               NaN   \nMolWt                                                             NaN   \nMolLogP                                                           NaN   \nNumValenceElectrons                                               NaN   \nHeavyAtomCount                                                    NaN   \nNOCount                                                           NaN   \nNumAliphaticRings                                                 NaN   \nNumAromaticRings                                                  NaN   \nNumHAcceptors                                                     NaN   \nNumHDonors                                                        NaN   \nNumHeteroatoms                                                    NaN   \nNumRotatableBonds                                                 NaN   \nvoid_fraction                                                     NaN   \nvoid_volume [cm^3/g]                                              NaN   \nCO2/N2_selectivity                                                NaN   \nheat_adsorption_CO2_P0.15bar_T298K [kcal/mol]                     NaN   \nCO2_working_capacity [mL/g]                                       NaN   \nCID                                                               NaN   \nMolecularWeight                                                   NaN   \nXLogP                                                             NaN   \nExactMass                                                         NaN   \nMonoisotopicMass                                                  NaN   \nTPSA                                                              NaN   \nComplexity                                                        NaN   \nCharge                                                            NaN   \nHBondDonorCount                                                   NaN   \nHBondAcceptorCount                                                NaN   \nRotatableBondCount                                                NaN   \nIsotopeAtomCount                                                  NaN   \nAtomStereoCount                                                   NaN   \nDefinedAtomStereoCount                                            NaN   \nUndefinedAtomStereoCount                                          NaN   \nBondStereoCount                                                   NaN   \nDefinedBondStereoCount                                            NaN   \nUndefinedBondStereoCount                                          NaN   \nCovalentUnitCount                                                 NaN   \n\n                                               UndefinedAtomStereoCount  \\\nvolume [A^3]                                                        NaN   \nweight [u]                                                          NaN   \ndensity [g/cm^3]                                                    NaN   \nsurface_area [m^2/g]                                                NaN   \ngsa                                                                 NaN   \nvsa                                                                 NaN   \nMolWt                                                               NaN   \nMolLogP                                                             NaN   \nNumValenceElectrons                                                 NaN   \nHeavyAtomCount                                                      NaN   \nNOCount                                                             NaN   \nNumAliphaticRings                                                   NaN   \nNumAromaticRings                                                    NaN   \nNumHAcceptors                                                       NaN   \nNumHDonors                                                          NaN   \nNumHeteroatoms                                                      NaN   \nNumRotatableBonds                                                   NaN   \nvoid_fraction                                                       NaN   \nvoid_volume [cm^3/g]                                                NaN   \nCO2/N2_selectivity                                                  NaN   \nheat_adsorption_CO2_P0.15bar_T298K [kcal/mol]                       NaN   \nCO2_working_capacity [mL/g]                                         NaN   \nCID                                                                 NaN   \nMolecularWeight                                                     NaN   \nXLogP                                                               NaN   \nExactMass                                                           NaN   \nMonoisotopicMass                                                    NaN   \nTPSA                                                                NaN   \nComplexity                                                          NaN   \nCharge                                                              NaN   \nHBondDonorCount                                                     NaN   \nHBondAcceptorCount                                                  NaN   \nRotatableBondCount                                                  NaN   \nIsotopeAtomCount                                                    NaN   \nAtomStereoCount                                                     NaN   \nDefinedAtomStereoCount                                              NaN   \nUndefinedAtomStereoCount                                            NaN   \nBondStereoCount                                                     NaN   \nDefinedBondStereoCount                                              NaN   \nUndefinedBondStereoCount                                            NaN   \nCovalentUnitCount                                                   NaN   \n\n                                               BondStereoCount  \\\nvolume [A^3]                                               NaN   \nweight [u]                                                 NaN   \ndensity [g/cm^3]                                           NaN   \nsurface_area [m^2/g]                                       NaN   \ngsa                                                        NaN   \nvsa                                                        NaN   \nMolWt                                                      NaN   \nMolLogP                                                    NaN   \nNumValenceElectrons                                        NaN   \nHeavyAtomCount                                             NaN   \nNOCount                                                    NaN   \nNumAliphaticRings                                          NaN   \nNumAromaticRings                                           NaN   \nNumHAcceptors                                              NaN   \nNumHDonors                                                 NaN   \nNumHeteroatoms                                             NaN   \nNumRotatableBonds                                          NaN   \nvoid_fraction                                              NaN   \nvoid_volume [cm^3/g]                                       NaN   \nCO2/N2_selectivity                                         NaN   \nheat_adsorption_CO2_P0.15bar_T298K [kcal/mol]              NaN   \nCO2_working_capacity [mL/g]                                NaN   \nCID                                                        NaN   \nMolecularWeight                                            NaN   \nXLogP                                                      NaN   \nExactMass                                                  NaN   \nMonoisotopicMass                                           NaN   \nTPSA                                                       NaN   \nComplexity                                                 NaN   \nCharge                                                     NaN   \nHBondDonorCount                                            NaN   \nHBondAcceptorCount                                         NaN   \nRotatableBondCount                                         NaN   \nIsotopeAtomCount                                           NaN   \nAtomStereoCount                                            NaN   \nDefinedAtomStereoCount                                     NaN   \nUndefinedAtomStereoCount                                   NaN   \nBondStereoCount                                            NaN   \nDefinedBondStereoCount                                     NaN   \nUndefinedBondStereoCount                                   NaN   \nCovalentUnitCount                                          NaN   \n\n                                               DefinedBondStereoCount  \\\nvolume [A^3]                                                      NaN   \nweight [u]                                                        NaN   \ndensity [g/cm^3]                                                  NaN   \nsurface_area [m^2/g]                                              NaN   \ngsa                                                               NaN   \nvsa                                                               NaN   \nMolWt                                                             NaN   \nMolLogP                                                           NaN   \nNumValenceElectrons                                               NaN   \nHeavyAtomCount                                                    NaN   \nNOCount                                                           NaN   \nNumAliphaticRings                                                 NaN   \nNumAromaticRings                                                  NaN   \nNumHAcceptors                                                     NaN   \nNumHDonors                                                        NaN   \nNumHeteroatoms                                                    NaN   \nNumRotatableBonds                                                 NaN   \nvoid_fraction                                                     NaN   \nvoid_volume [cm^3/g]                                              NaN   \nCO2/N2_selectivity                                                NaN   \nheat_adsorption_CO2_P0.15bar_T298K [kcal/mol]                     NaN   \nCO2_working_capacity [mL/g]                                       NaN   \nCID                                                               NaN   \nMolecularWeight                                                   NaN   \nXLogP                                                             NaN   \nExactMass                                                         NaN   \nMonoisotopicMass                                                  NaN   \nTPSA                                                              NaN   \nComplexity                                                        NaN   \nCharge                                                            NaN   \nHBondDonorCount                                                   NaN   \nHBondAcceptorCount                                                NaN   \nRotatableBondCount                                                NaN   \nIsotopeAtomCount                                                  NaN   \nAtomStereoCount                                                   NaN   \nDefinedAtomStereoCount                                            NaN   \nUndefinedAtomStereoCount                                          NaN   \nBondStereoCount                                                   NaN   \nDefinedBondStereoCount                                            NaN   \nUndefinedBondStereoCount                                          NaN   \nCovalentUnitCount                                                 NaN   \n\n                                               UndefinedBondStereoCount  \\\nvolume [A^3]                                                   0.004175   \nweight [u]                                                     0.079670   \ndensity [g/cm^3]                                               0.144144   \nsurface_area [m^2/g]                                          -0.061291   \ngsa                                                           -0.057963   \nvsa                                                            0.041223   \nMolWt                                                          0.199175   \nMolLogP                                                        0.052309   \nNumValenceElectrons                                           -0.018629   \nHeavyAtomCount                                                -0.021665   \nNOCount                                                        0.093608   \nNumAliphaticRings                                                   NaN   \nNumAromaticRings                                              -0.046868   \nNumHAcceptors                                                  0.067150   \nNumHDonors                                                    -0.078744   \nNumHeteroatoms                                                 0.225002   \nNumRotatableBonds                                             -0.091799   \nvoid_fraction                                                 -0.001032   \nvoid_volume [cm^3/g]                                          -0.052490   \nCO2/N2_selectivity                                             0.024940   \nheat_adsorption_CO2_P0.15bar_T298K [kcal/mol]                 -0.002181   \nCO2_working_capacity [mL/g]                                   -0.042284   \nCID                                                            0.141493   \nMolecularWeight                                                0.201291   \nXLogP                                                          0.891042   \nExactMass                                                      0.199918   \nMonoisotopicMass                                              -0.152786   \nTPSA                                                          -0.064448   \nComplexity                                                    -0.140719   \nCharge                                                         0.624889   \nHBondDonorCount                                                0.451996   \nHBondAcceptorCount                                            -0.262951   \nRotatableBondCount                                             0.585914   \nIsotopeAtomCount                                                    NaN   \nAtomStereoCount                                                     NaN   \nDefinedAtomStereoCount                                              NaN   \nUndefinedAtomStereoCount                                            NaN   \nBondStereoCount                                                     NaN   \nDefinedBondStereoCount                                              NaN   \nUndefinedBondStereoCount                                       1.000000   \nCovalentUnitCount                                              0.466505   \n\n                                               CovalentUnitCount  \nvolume [A^3]                                            0.005675  \nweight [u]                                              0.044123  \ndensity [g/cm^3]                                        0.070603  \nsurface_area [m^2/g]                                   -0.034502  \ngsa                                                    -0.033014  \nvsa                                                     0.006181  \nMolWt                                                   0.095993  \nMolLogP                                                -0.099391  \nNumValenceElectrons                                     0.052256  \nHeavyAtomCount                                          0.044658  \nNOCount                                                 0.175163  \nNumAliphaticRings                                            NaN  \nNumAromaticRings                                       -0.030780  \nNumHAcceptors                                           0.163480  \nNumHDonors                                              0.060304  \nNumHeteroatoms                                          0.228102  \nNumRotatableBonds                                      -0.014841  \nvoid_fraction                                          -0.007348  \nvoid_volume [cm^3/g]                                   -0.030124  \nCO2/N2_selectivity                                      0.031553  \nheat_adsorption_CO2_P0.15bar_T298K [kcal/mol]           0.015468  \nCO2_working_capacity [mL/g]                            -0.012646  \nCID                                                     0.102317  \nMolecularWeight                                         0.095915  \nXLogP                                                   0.527394  \nExactMass                                               0.095909  \nMonoisotopicMass                                       -0.015611  \nTPSA                                                    0.173452  \nComplexity                                             -0.090616  \nCharge                                                  0.486113  \nHBondDonorCount                                         0.423431  \nHBondAcceptorCount                                     -0.172693  \nRotatableBondCount                                      0.491671  \nIsotopeAtomCount                                             NaN  \nAtomStereoCount                                              NaN  \nDefinedAtomStereoCount                                       NaN  \nUndefinedAtomStereoCount                                     NaN  \nBondStereoCount                                              NaN  \nDefinedBondStereoCount                                       NaN  \nUndefinedBondStereoCount                                0.466505  \nCovalentUnitCount                                       1.000000  \n\n[41 rows x 41 columns]",
      "text/html": "<div>\n<style scoped>\n    .dataframe tbody tr th:only-of-type {\n        vertical-align: middle;\n    }\n\n    .dataframe tbody tr th {\n        vertical-align: top;\n    }\n\n    .dataframe thead th {\n        text-align: right;\n    }\n</style>\n<table border=\"1\" class=\"dataframe\">\n  <thead>\n    <tr style=\"text-align: right;\">\n      <th></th>\n      <th>volume [A^3]</th>\n      <th>weight [u]</th>\n      <th>density [g/cm^3]</th>\n      <th>surface_area [m^2/g]</th>\n      <th>gsa</th>\n      <th>vsa</th>\n      <th>MolWt</th>\n      <th>MolLogP</th>\n      <th>NumValenceElectrons</th>\n      <th>HeavyAtomCount</th>\n      <th>...</th>\n      <th>HBondAcceptorCount</th>\n      <th>RotatableBondCount</th>\n      <th>IsotopeAtomCount</th>\n      <th>AtomStereoCount</th>\n      <th>DefinedAtomStereoCount</th>\n      <th>UndefinedAtomStereoCount</th>\n      <th>BondStereoCount</th>\n      <th>DefinedBondStereoCount</th>\n      <th>UndefinedBondStereoCount</th>\n      <th>CovalentUnitCount</th>\n    </tr>\n  </thead>\n  <tbody>\n    <tr>\n      <th>volume [A^3]</th>\n      <td>1.000000</td>\n      <td>0.800379</td>\n      <td>-0.421185</td>\n      <td>0.352336</td>\n      <td>0.210774</td>\n      <td>0.097570</td>\n      <td>0.113224</td>\n      <td>0.059942</td>\n      <td>0.158851</td>\n      <td>0.153498</td>\n      <td>...</td>\n      <td>0.059199</td>\n      <td>0.094296</td>\n      <td>NaN</td>\n      <td>NaN</td>\n      <td>NaN</td>\n      <td>NaN</td>\n      <td>NaN</td>\n      <td>NaN</td>\n      <td>0.004175</td>\n      <td>0.005675</td>\n    </tr>\n    <tr>\n      <th>weight [u]</th>\n      <td>0.800379</td>\n      <td>1.000000</td>\n      <td>0.051260</td>\n      <td>-0.079743</td>\n      <td>-0.142808</td>\n      <td>-0.206643</td>\n      <td>0.237705</td>\n      <td>0.042523</td>\n      <td>0.149160</td>\n      <td>0.142565</td>\n      <td>...</td>\n      <td>0.097852</td>\n      <td>0.096887</td>\n      <td>NaN</td>\n      <td>NaN</td>\n      <td>NaN</td>\n      <td>NaN</td>\n      <td>NaN</td>\n      <td>NaN</td>\n      <td>0.079670</td>\n      <td>0.044123</td>\n    </tr>\n    <tr>\n      <th>density [g/cm^3]</th>\n      <td>-0.421185</td>\n      <td>0.051260</td>\n      <td>1.000000</td>\n      <td>-0.843761</td>\n      <td>-0.679402</td>\n      <td>-0.576315</td>\n      <td>0.198944</td>\n      <td>-0.040142</td>\n      <td>-0.045940</td>\n      <td>-0.045155</td>\n      <td>...</td>\n      <td>0.051619</td>\n      <td>-0.012281</td>\n      <td>NaN</td>\n      <td>NaN</td>\n      <td>NaN</td>\n      <td>NaN</td>\n      <td>NaN</td>\n      <td>NaN</td>\n      <td>0.144144</td>\n      <td>0.070603</td>\n    </tr>\n    <tr>\n      <th>surface_area [m^2/g]</th>\n      <td>0.352336</td>\n      <td>-0.079743</td>\n      <td>-0.843761</td>\n      <td>1.000000</td>\n      <td>0.752550</td>\n      <td>0.720241</td>\n      <td>-0.125439</td>\n      <td>-0.004095</td>\n      <td>-0.051622</td>\n      <td>-0.047452</td>\n      <td>...</td>\n      <td>-0.053091</td>\n      <td>-0.037505</td>\n      <td>NaN</td>\n      <td>NaN</td>\n      <td>NaN</td>\n      <td>NaN</td>\n      <td>NaN</td>\n      <td>NaN</td>\n      <td>-0.061291</td>\n      <td>-0.034502</td>\n    </tr>\n    <tr>\n      <th>gsa</th>\n      <td>0.210774</td>\n      <td>-0.142808</td>\n      <td>-0.679402</td>\n      <td>0.752550</td>\n      <td>1.000000</td>\n      <td>0.742375</td>\n      <td>-0.129158</td>\n      <td>-0.012721</td>\n      <td>-0.073965</td>\n      <td>-0.068879</td>\n      <td>...</td>\n      <td>-0.057297</td>\n      <td>-0.048503</td>\n      <td>NaN</td>\n      <td>NaN</td>\n      <td>NaN</td>\n      <td>NaN</td>\n      <td>NaN</td>\n      <td>NaN</td>\n      <td>-0.057963</td>\n      <td>-0.033014</td>\n    </tr>\n    <tr>\n      <th>vsa</th>\n      <td>0.097570</td>\n      <td>-0.206643</td>\n      <td>-0.576315</td>\n      <td>0.720241</td>\n      <td>0.742375</td>\n      <td>1.000000</td>\n      <td>-0.014983</td>\n      <td>-0.053166</td>\n      <td>-0.150393</td>\n      <td>-0.139095</td>\n      <td>...</td>\n      <td>-0.037665</td>\n      <td>-0.076062</td>\n      <td>NaN</td>\n      <td>NaN</td>\n      <td>NaN</td>\n      <td>NaN</td>\n      <td>NaN</td>\n      <td>NaN</td>\n      <td>0.041223</td>\n      <td>0.006181</td>\n    </tr>\n    <tr>\n      <th>MolWt</th>\n      <td>0.113224</td>\n      <td>0.237705</td>\n      <td>0.198944</td>\n      <td>-0.125439</td>\n      <td>-0.129158</td>\n      <td>-0.014983</td>\n      <td>1.000000</td>\n      <td>0.364386</td>\n      <td>0.649854</td>\n      <td>0.634704</td>\n      <td>...</td>\n      <td>0.222351</td>\n      <td>0.374896</td>\n      <td>NaN</td>\n      <td>NaN</td>\n      <td>NaN</td>\n      <td>NaN</td>\n      <td>NaN</td>\n      <td>NaN</td>\n      <td>0.199175</td>\n      <td>0.095993</td>\n    </tr>\n    <tr>\n      <th>MolLogP</th>\n      <td>0.059942</td>\n      <td>0.042523</td>\n      <td>-0.040142</td>\n      <td>-0.004095</td>\n      <td>-0.012721</td>\n      <td>-0.053166</td>\n      <td>0.364386</td>\n      <td>1.000000</td>\n      <td>0.265859</td>\n      <td>0.285896</td>\n      <td>...</td>\n      <td>-0.511807</td>\n      <td>0.229887</td>\n      <td>NaN</td>\n      <td>NaN</td>\n      <td>NaN</td>\n      <td>NaN</td>\n      <td>NaN</td>\n      <td>NaN</td>\n      <td>0.052309</td>\n      <td>-0.099391</td>\n    </tr>\n    <tr>\n      <th>NumValenceElectrons</th>\n      <td>0.158851</td>\n      <td>0.149160</td>\n      <td>-0.045940</td>\n      <td>-0.051622</td>\n      <td>-0.073965</td>\n      <td>-0.150393</td>\n      <td>0.649854</td>\n      <td>0.265859</td>\n      <td>1.000000</td>\n      <td>0.983306</td>\n      <td>...</td>\n      <td>0.482098</td>\n      <td>0.510517</td>\n      <td>NaN</td>\n      <td>NaN</td>\n      <td>NaN</td>\n      <td>NaN</td>\n      <td>NaN</td>\n      <td>NaN</td>\n      <td>-0.018629</td>\n      <td>0.052256</td>\n    </tr>\n    <tr>\n      <th>HeavyAtomCount</th>\n      <td>0.153498</td>\n      <td>0.142565</td>\n      <td>-0.045155</td>\n      <td>-0.047452</td>\n      <td>-0.068879</td>\n      <td>-0.139095</td>\n      <td>0.634704</td>\n      <td>0.285896</td>\n      <td>0.983306</td>\n      <td>1.000000</td>\n      <td>...</td>\n      <td>0.461732</td>\n      <td>0.462964</td>\n      <td>NaN</td>\n      <td>NaN</td>\n      <td>NaN</td>\n      <td>NaN</td>\n      <td>NaN</td>\n      <td>NaN</td>\n      <td>-0.021665</td>\n      <td>0.044658</td>\n    </tr>\n    <tr>\n      <th>NOCount</th>\n      <td>0.071714</td>\n      <td>0.130042</td>\n      <td>0.085259</td>\n      <td>-0.074163</td>\n      <td>-0.078414</td>\n      <td>-0.043096</td>\n      <td>0.311147</td>\n      <td>-0.526073</td>\n      <td>0.540053</td>\n      <td>0.528981</td>\n      <td>...</td>\n      <td>0.835002</td>\n      <td>0.245388</td>\n      <td>NaN</td>\n      <td>NaN</td>\n      <td>NaN</td>\n      <td>NaN</td>\n      <td>NaN</td>\n      <td>NaN</td>\n      <td>0.093608</td>\n      <td>0.175163</td>\n    </tr>\n    <tr>\n      <th>NumAliphaticRings</th>\n      <td>NaN</td>\n      <td>NaN</td>\n      <td>NaN</td>\n      <td>NaN</td>\n      <td>NaN</td>\n      <td>NaN</td>\n      <td>NaN</td>\n      <td>NaN</td>\n      <td>NaN</td>\n      <td>NaN</td>\n      <td>...</td>\n      <td>NaN</td>\n      <td>NaN</td>\n      <td>NaN</td>\n      <td>NaN</td>\n      <td>NaN</td>\n      <td>NaN</td>\n      <td>NaN</td>\n      <td>NaN</td>\n      <td>NaN</td>\n      <td>NaN</td>\n    </tr>\n    <tr>\n      <th>NumAromaticRings</th>\n      <td>0.065283</td>\n      <td>0.026418</td>\n      <td>-0.068946</td>\n      <td>0.023702</td>\n      <td>0.012296</td>\n      <td>-0.033002</td>\n      <td>0.260649</td>\n      <td>0.454642</td>\n      <td>0.382802</td>\n      <td>0.496555</td>\n      <td>...</td>\n      <td>-0.141716</td>\n      <td>-0.003368</td>\n      <td>NaN</td>\n      <td>NaN</td>\n      <td>NaN</td>\n      <td>NaN</td>\n      <td>NaN</td>\n      <td>NaN</td>\n      <td>-0.046868</td>\n      <td>-0.030780</td>\n    </tr>\n    <tr>\n      <th>NumHAcceptors</th>\n      <td>0.071298</td>\n      <td>0.108517</td>\n      <td>0.046127</td>\n      <td>-0.061339</td>\n      <td>-0.065152</td>\n      <td>-0.056043</td>\n      <td>0.272086</td>\n      <td>-0.466659</td>\n      <td>0.520719</td>\n      <td>0.510168</td>\n      <td>...</td>\n      <td>0.781313</td>\n      <td>0.289139</td>\n      <td>NaN</td>\n      <td>NaN</td>\n      <td>NaN</td>\n      <td>NaN</td>\n      <td>NaN</td>\n      <td>NaN</td>\n      <td>0.067150</td>\n      <td>0.163480</td>\n    </tr>\n    <tr>\n      <th>NumHDonors</th>\n      <td>0.006606</td>\n      <td>0.025111</td>\n      <td>0.021528</td>\n      <td>-0.026173</td>\n      <td>-0.033063</td>\n      <td>-0.042325</td>\n      <td>0.047853</td>\n      <td>-0.527713</td>\n      <td>0.190873</td>\n      <td>0.139986</td>\n      <td>...</td>\n      <td>0.519274</td>\n      <td>-0.077453</td>\n      <td>NaN</td>\n      <td>NaN</td>\n      <td>NaN</td>\n      <td>NaN</td>\n      <td>NaN</td>\n      <td>NaN</td>\n      <td>-0.078744</td>\n      <td>0.060304</td>\n    </tr>\n    <tr>\n      <th>NumHeteroatoms</th>\n      <td>0.070627</td>\n      <td>0.186989</td>\n      <td>0.192275</td>\n      <td>-0.116903</td>\n      <td>-0.115303</td>\n      <td>-0.000030</td>\n      <td>0.490523</td>\n      <td>-0.428730</td>\n      <td>0.510887</td>\n      <td>0.483382</td>\n      <td>...</td>\n      <td>0.786909</td>\n      <td>0.264752</td>\n      <td>NaN</td>\n      <td>NaN</td>\n      <td>NaN</td>\n      <td>NaN</td>\n      <td>NaN</td>\n      <td>NaN</td>\n      <td>0.225002</td>\n      <td>0.228102</td>\n    </tr>\n    <tr>\n      <th>NumRotatableBonds</th>\n      <td>0.125371</td>\n      <td>0.068054</td>\n      <td>-0.129711</td>\n      <td>-0.001815</td>\n      <td>-0.020349</td>\n      <td>-0.135777</td>\n      <td>0.351438</td>\n      <td>0.325782</td>\n      <td>0.670989</td>\n      <td>0.610745</td>\n      <td>...</td>\n      <td>0.166842</td>\n      <td>0.655015</td>\n      <td>NaN</td>\n      <td>NaN</td>\n      <td>NaN</td>\n      <td>NaN</td>\n      <td>NaN</td>\n      <td>NaN</td>\n      <td>-0.091799</td>\n      <td>-0.014841</td>\n    </tr>\n    <tr>\n      <th>void_fraction</th>\n      <td>0.451938</td>\n      <td>0.050982</td>\n      <td>-0.828113</td>\n      <td>0.873295</td>\n      <td>0.725606</td>\n      <td>0.761131</td>\n      <td>-0.046897</td>\n      <td>-0.039885</td>\n      <td>-0.092468</td>\n      <td>-0.086440</td>\n      <td>...</td>\n      <td>-0.028591</td>\n      <td>-0.053166</td>\n      <td>NaN</td>\n      <td>NaN</td>\n      <td>NaN</td>\n      <td>NaN</td>\n      <td>NaN</td>\n      <td>NaN</td>\n      <td>-0.001032</td>\n      <td>-0.007348</td>\n    </tr>\n    <tr>\n      <th>void_volume [cm^3/g]</th>\n      <td>0.467554</td>\n      <td>0.033515</td>\n      <td>-0.885369</td>\n      <td>0.914646</td>\n      <td>0.768011</td>\n      <td>0.696055</td>\n      <td>-0.103773</td>\n      <td>-0.006782</td>\n      <td>-0.042972</td>\n      <td>-0.039596</td>\n      <td>...</td>\n      <td>-0.042594</td>\n      <td>-0.030533</td>\n      <td>NaN</td>\n      <td>NaN</td>\n      <td>NaN</td>\n      <td>NaN</td>\n      <td>NaN</td>\n      <td>NaN</td>\n      <td>-0.052490</td>\n      <td>-0.030124</td>\n    </tr>\n    <tr>\n      <th>CO2/N2_selectivity</th>\n      <td>-0.146873</td>\n      <td>0.129738</td>\n      <td>0.572206</td>\n      <td>-0.583721</td>\n      <td>-0.505604</td>\n      <td>-0.535565</td>\n      <td>0.068881</td>\n      <td>-0.077068</td>\n      <td>0.088351</td>\n      <td>0.086551</td>\n      <td>...</td>\n      <td>0.134103</td>\n      <td>0.035261</td>\n      <td>NaN</td>\n      <td>NaN</td>\n      <td>NaN</td>\n      <td>NaN</td>\n      <td>NaN</td>\n      <td>NaN</td>\n      <td>0.024940</td>\n      <td>0.031553</td>\n    </tr>\n    <tr>\n      <th>heat_adsorption_CO2_P0.15bar_T298K [kcal/mol]</th>\n      <td>-0.219146</td>\n      <td>0.072888</td>\n      <td>0.630325</td>\n      <td>-0.657840</td>\n      <td>-0.566905</td>\n      <td>-0.629537</td>\n      <td>0.053964</td>\n      <td>-0.014346</td>\n      <td>0.099179</td>\n      <td>0.092948</td>\n      <td>...</td>\n      <td>0.075927</td>\n      <td>0.045691</td>\n      <td>NaN</td>\n      <td>NaN</td>\n      <td>NaN</td>\n      <td>NaN</td>\n      <td>NaN</td>\n      <td>NaN</td>\n      <td>-0.002181</td>\n      <td>0.015468</td>\n    </tr>\n    <tr>\n      <th>CO2_working_capacity [mL/g]</th>\n      <td>-0.121248</td>\n      <td>-0.019012</td>\n      <td>0.260456</td>\n      <td>-0.356817</td>\n      <td>-0.335843</td>\n      <td>-0.360151</td>\n      <td>-0.075978</td>\n      <td>-0.036725</td>\n      <td>-0.005479</td>\n      <td>-0.004708</td>\n      <td>...</td>\n      <td>0.010751</td>\n      <td>-0.013406</td>\n      <td>NaN</td>\n      <td>NaN</td>\n      <td>NaN</td>\n      <td>NaN</td>\n      <td>NaN</td>\n      <td>NaN</td>\n      <td>-0.042284</td>\n      <td>-0.012646</td>\n    </tr>\n    <tr>\n      <th>CID</th>\n      <td>0.052053</td>\n      <td>0.113775</td>\n      <td>0.094255</td>\n      <td>-0.062283</td>\n      <td>-0.060785</td>\n      <td>-0.016742</td>\n      <td>0.393898</td>\n      <td>0.133644</td>\n      <td>0.256200</td>\n      <td>0.228414</td>\n      <td>...</td>\n      <td>0.126031</td>\n      <td>0.265139</td>\n      <td>NaN</td>\n      <td>NaN</td>\n      <td>NaN</td>\n      <td>NaN</td>\n      <td>NaN</td>\n      <td>NaN</td>\n      <td>0.141493</td>\n      <td>0.102317</td>\n    </tr>\n    <tr>\n      <th>MolecularWeight</th>\n      <td>0.113198</td>\n      <td>0.237815</td>\n      <td>0.199211</td>\n      <td>-0.125575</td>\n      <td>-0.129283</td>\n      <td>-0.014968</td>\n      <td>0.999977</td>\n      <td>0.364880</td>\n      <td>0.649466</td>\n      <td>0.634562</td>\n      <td>...</td>\n      <td>0.221642</td>\n      <td>0.375971</td>\n      <td>NaN</td>\n      <td>NaN</td>\n      <td>NaN</td>\n      <td>NaN</td>\n      <td>NaN</td>\n      <td>NaN</td>\n      <td>0.201291</td>\n      <td>0.095915</td>\n    </tr>\n    <tr>\n      <th>XLogP</th>\n      <td>0.009422</td>\n      <td>0.088537</td>\n      <td>0.147918</td>\n      <td>-0.059335</td>\n      <td>-0.055269</td>\n      <td>0.052488</td>\n      <td>0.291723</td>\n      <td>0.106419</td>\n      <td>-0.005216</td>\n      <td>-0.009182</td>\n      <td>...</td>\n      <td>-0.270974</td>\n      <td>0.570066</td>\n      <td>NaN</td>\n      <td>NaN</td>\n      <td>NaN</td>\n      <td>NaN</td>\n      <td>NaN</td>\n      <td>NaN</td>\n      <td>0.891042</td>\n      <td>0.527394</td>\n    </tr>\n    <tr>\n      <th>ExactMass</th>\n      <td>0.113521</td>\n      <td>0.237688</td>\n      <td>0.198282</td>\n      <td>-0.125287</td>\n      <td>-0.129095</td>\n      <td>-0.015517</td>\n      <td>0.999957</td>\n      <td>0.363691</td>\n      <td>0.651368</td>\n      <td>0.636533</td>\n      <td>...</td>\n      <td>0.223815</td>\n      <td>0.376446</td>\n      <td>NaN</td>\n      <td>NaN</td>\n      <td>NaN</td>\n      <td>NaN</td>\n      <td>NaN</td>\n      <td>NaN</td>\n      <td>0.199918</td>\n      <td>0.095909</td>\n    </tr>\n    <tr>\n      <th>MonoisotopicMass</th>\n      <td>0.115130</td>\n      <td>0.205745</td>\n      <td>0.135481</td>\n      <td>-0.102914</td>\n      <td>-0.108632</td>\n      <td>-0.045126</td>\n      <td>0.888208</td>\n      <td>0.306317</td>\n      <td>0.697481</td>\n      <td>0.684725</td>\n      <td>...</td>\n      <td>0.331749</td>\n      <td>0.202079</td>\n      <td>NaN</td>\n      <td>NaN</td>\n      <td>NaN</td>\n      <td>NaN</td>\n      <td>NaN</td>\n      <td>NaN</td>\n      <td>-0.152786</td>\n      <td>-0.015611</td>\n    </tr>\n    <tr>\n      <th>TPSA</th>\n      <td>0.053552</td>\n      <td>0.103908</td>\n      <td>0.074750</td>\n      <td>-0.057861</td>\n      <td>-0.057588</td>\n      <td>-0.018335</td>\n      <td>0.282117</td>\n      <td>-0.563507</td>\n      <td>0.486376</td>\n      <td>0.479528</td>\n      <td>...</td>\n      <td>0.838781</td>\n      <td>0.100198</td>\n      <td>NaN</td>\n      <td>NaN</td>\n      <td>NaN</td>\n      <td>NaN</td>\n      <td>NaN</td>\n      <td>NaN</td>\n      <td>-0.064448</td>\n      <td>0.173452</td>\n    </tr>\n    <tr>\n      <th>Complexity</th>\n      <td>0.098893</td>\n      <td>0.133630</td>\n      <td>0.040906</td>\n      <td>-0.053266</td>\n      <td>-0.062549</td>\n      <td>-0.044376</td>\n      <td>0.502471</td>\n      <td>-0.061843</td>\n      <td>0.685045</td>\n      <td>0.710882</td>\n      <td>...</td>\n      <td>0.652515</td>\n      <td>0.107921</td>\n      <td>NaN</td>\n      <td>NaN</td>\n      <td>NaN</td>\n      <td>NaN</td>\n      <td>NaN</td>\n      <td>NaN</td>\n      <td>-0.140719</td>\n      <td>-0.090616</td>\n    </tr>\n    <tr>\n      <th>Charge</th>\n      <td>0.002127</td>\n      <td>0.039756</td>\n      <td>0.069481</td>\n      <td>-0.044099</td>\n      <td>-0.050301</td>\n      <td>-0.027149</td>\n      <td>0.056935</td>\n      <td>0.130152</td>\n      <td>-0.042920</td>\n      <td>-0.030555</td>\n      <td>...</td>\n      <td>-0.380718</td>\n      <td>0.424015</td>\n      <td>NaN</td>\n      <td>NaN</td>\n      <td>NaN</td>\n      <td>NaN</td>\n      <td>NaN</td>\n      <td>NaN</td>\n      <td>0.624889</td>\n      <td>0.486113</td>\n    </tr>\n    <tr>\n      <th>HBondDonorCount</th>\n      <td>-0.010736</td>\n      <td>0.052532</td>\n      <td>0.114269</td>\n      <td>-0.054266</td>\n      <td>-0.054767</td>\n      <td>0.015693</td>\n      <td>0.054013</td>\n      <td>-0.504681</td>\n      <td>0.031291</td>\n      <td>-0.002598</td>\n      <td>...</td>\n      <td>0.208648</td>\n      <td>0.291732</td>\n      <td>NaN</td>\n      <td>NaN</td>\n      <td>NaN</td>\n      <td>NaN</td>\n      <td>NaN</td>\n      <td>NaN</td>\n      <td>0.451996</td>\n      <td>0.423431</td>\n    </tr>\n    <tr>\n      <th>HBondAcceptorCount</th>\n      <td>0.059199</td>\n      <td>0.097852</td>\n      <td>0.051619</td>\n      <td>-0.053091</td>\n      <td>-0.057297</td>\n      <td>-0.037665</td>\n      <td>0.222351</td>\n      <td>-0.511807</td>\n      <td>0.482098</td>\n      <td>0.461732</td>\n      <td>...</td>\n      <td>1.000000</td>\n      <td>-0.055569</td>\n      <td>NaN</td>\n      <td>NaN</td>\n      <td>NaN</td>\n      <td>NaN</td>\n      <td>NaN</td>\n      <td>NaN</td>\n      <td>-0.262951</td>\n      <td>-0.172693</td>\n    </tr>\n    <tr>\n      <th>RotatableBondCount</th>\n      <td>0.094296</td>\n      <td>0.096887</td>\n      <td>-0.012281</td>\n      <td>-0.037505</td>\n      <td>-0.048503</td>\n      <td>-0.076062</td>\n      <td>0.374896</td>\n      <td>0.229887</td>\n      <td>0.510517</td>\n      <td>0.462964</td>\n      <td>...</td>\n      <td>-0.055569</td>\n      <td>1.000000</td>\n      <td>NaN</td>\n      <td>NaN</td>\n      <td>NaN</td>\n      <td>NaN</td>\n      <td>NaN</td>\n      <td>NaN</td>\n      <td>0.585914</td>\n      <td>0.491671</td>\n    </tr>\n    <tr>\n      <th>IsotopeAtomCount</th>\n      <td>NaN</td>\n      <td>NaN</td>\n      <td>NaN</td>\n      <td>NaN</td>\n      <td>NaN</td>\n      <td>NaN</td>\n      <td>NaN</td>\n      <td>NaN</td>\n      <td>NaN</td>\n      <td>NaN</td>\n      <td>...</td>\n      <td>NaN</td>\n      <td>NaN</td>\n      <td>NaN</td>\n      <td>NaN</td>\n      <td>NaN</td>\n      <td>NaN</td>\n      <td>NaN</td>\n      <td>NaN</td>\n      <td>NaN</td>\n      <td>NaN</td>\n    </tr>\n    <tr>\n      <th>AtomStereoCount</th>\n      <td>NaN</td>\n      <td>NaN</td>\n      <td>NaN</td>\n      <td>NaN</td>\n      <td>NaN</td>\n      <td>NaN</td>\n      <td>NaN</td>\n      <td>NaN</td>\n      <td>NaN</td>\n      <td>NaN</td>\n      <td>...</td>\n      <td>NaN</td>\n      <td>NaN</td>\n      <td>NaN</td>\n      <td>NaN</td>\n      <td>NaN</td>\n      <td>NaN</td>\n      <td>NaN</td>\n      <td>NaN</td>\n      <td>NaN</td>\n      <td>NaN</td>\n    </tr>\n    <tr>\n      <th>DefinedAtomStereoCount</th>\n      <td>NaN</td>\n      <td>NaN</td>\n      <td>NaN</td>\n      <td>NaN</td>\n      <td>NaN</td>\n      <td>NaN</td>\n      <td>NaN</td>\n      <td>NaN</td>\n      <td>NaN</td>\n      <td>NaN</td>\n      <td>...</td>\n      <td>NaN</td>\n      <td>NaN</td>\n      <td>NaN</td>\n      <td>NaN</td>\n      <td>NaN</td>\n      <td>NaN</td>\n      <td>NaN</td>\n      <td>NaN</td>\n      <td>NaN</td>\n      <td>NaN</td>\n    </tr>\n    <tr>\n      <th>UndefinedAtomStereoCount</th>\n      <td>NaN</td>\n      <td>NaN</td>\n      <td>NaN</td>\n      <td>NaN</td>\n      <td>NaN</td>\n      <td>NaN</td>\n      <td>NaN</td>\n      <td>NaN</td>\n      <td>NaN</td>\n      <td>NaN</td>\n      <td>...</td>\n      <td>NaN</td>\n      <td>NaN</td>\n      <td>NaN</td>\n      <td>NaN</td>\n      <td>NaN</td>\n      <td>NaN</td>\n      <td>NaN</td>\n      <td>NaN</td>\n      <td>NaN</td>\n      <td>NaN</td>\n    </tr>\n    <tr>\n      <th>BondStereoCount</th>\n      <td>NaN</td>\n      <td>NaN</td>\n      <td>NaN</td>\n      <td>NaN</td>\n      <td>NaN</td>\n      <td>NaN</td>\n      <td>NaN</td>\n      <td>NaN</td>\n      <td>NaN</td>\n      <td>NaN</td>\n      <td>...</td>\n      <td>NaN</td>\n      <td>NaN</td>\n      <td>NaN</td>\n      <td>NaN</td>\n      <td>NaN</td>\n      <td>NaN</td>\n      <td>NaN</td>\n      <td>NaN</td>\n      <td>NaN</td>\n      <td>NaN</td>\n    </tr>\n    <tr>\n      <th>DefinedBondStereoCount</th>\n      <td>NaN</td>\n      <td>NaN</td>\n      <td>NaN</td>\n      <td>NaN</td>\n      <td>NaN</td>\n      <td>NaN</td>\n      <td>NaN</td>\n      <td>NaN</td>\n      <td>NaN</td>\n      <td>NaN</td>\n      <td>...</td>\n      <td>NaN</td>\n      <td>NaN</td>\n      <td>NaN</td>\n      <td>NaN</td>\n      <td>NaN</td>\n      <td>NaN</td>\n      <td>NaN</td>\n      <td>NaN</td>\n      <td>NaN</td>\n      <td>NaN</td>\n    </tr>\n    <tr>\n      <th>UndefinedBondStereoCount</th>\n      <td>0.004175</td>\n      <td>0.079670</td>\n      <td>0.144144</td>\n      <td>-0.061291</td>\n      <td>-0.057963</td>\n      <td>0.041223</td>\n      <td>0.199175</td>\n      <td>0.052309</td>\n      <td>-0.018629</td>\n      <td>-0.021665</td>\n      <td>...</td>\n      <td>-0.262951</td>\n      <td>0.585914</td>\n      <td>NaN</td>\n      <td>NaN</td>\n      <td>NaN</td>\n      <td>NaN</td>\n      <td>NaN</td>\n      <td>NaN</td>\n      <td>1.000000</td>\n      <td>0.466505</td>\n    </tr>\n    <tr>\n      <th>CovalentUnitCount</th>\n      <td>0.005675</td>\n      <td>0.044123</td>\n      <td>0.070603</td>\n      <td>-0.034502</td>\n      <td>-0.033014</td>\n      <td>0.006181</td>\n      <td>0.095993</td>\n      <td>-0.099391</td>\n      <td>0.052256</td>\n      <td>0.044658</td>\n      <td>...</td>\n      <td>-0.172693</td>\n      <td>0.491671</td>\n      <td>NaN</td>\n      <td>NaN</td>\n      <td>NaN</td>\n      <td>NaN</td>\n      <td>NaN</td>\n      <td>NaN</td>\n      <td>0.466505</td>\n      <td>1.000000</td>\n    </tr>\n  </tbody>\n</table>\n<p>41 rows × 41 columns</p>\n</div>"
     },
     "metadata": {}
    }
   ],
   "execution_count": null
  },
  {
   "cell_type": "code",
   "source": "#drop weight เพราะมี คสพกับตัวแปรอื่นคือ volume สูง\n#train = train.drop(columns = 'weight [u]')",
   "metadata": {
    "tags": [],
    "cell_id": "00012-e32bc8ea-736a-4770-b96f-ebde387e5824",
    "deepnote_cell_type": "code"
   },
   "outputs": [],
   "execution_count": null
  },
  {
   "cell_type": "markdown",
   "source": "## Train",
   "metadata": {
    "tags": [],
    "is_collapsed": false,
    "cell_id": "00018-605977c0-9012-409d-aabf-4b1ae6c4275e",
    "deepnote_cell_type": "text-cell-h2"
   }
  },
  {
   "cell_type": "code",
   "metadata": {
    "tags": [],
    "cell_id": "00002-a7c5ef6e-f780-4a5a-a96a-9817f5720ae6",
    "deepnote_to_be_reexecuted": false,
    "source_hash": "6f210f87",
    "execution_start": 1634308993956,
    "execution_millis": 1,
    "deepnote_cell_type": "code"
   },
   "source": "train_x = train.drop(columns=['gsa','vsa','CO2_working_capacity [mL/g]','functional_groups','MOFname','smiles','MolecularFormula','CID','InChI','InChIKey','IUPACName'])\ntrain_y = train['CO2_working_capacity [mL/g]']",
   "outputs": [],
   "execution_count": null
  },
  {
   "cell_type": "code",
   "metadata": {
    "tags": [],
    "cell_id": "00003-919a534d-e483-4844-9259-5159b0b89099",
    "deepnote_to_be_reexecuted": false,
    "source_hash": "2a949935",
    "execution_start": 1634308998413,
    "execution_millis": 44,
    "deepnote_cell_type": "code"
   },
   "source": "train_x = pd.get_dummies(train_x)\ntrain_x_column = train_x.columns",
   "outputs": [],
   "execution_count": null
  },
  {
   "cell_type": "code",
   "metadata": {
    "tags": [],
    "cell_id": "00026-41650122-c87d-4403-8d33-115c60b26c75",
    "deepnote_to_be_reexecuted": false,
    "source_hash": "61bb68b4",
    "execution_start": 1634307629600,
    "execution_millis": 6,
    "deepnote_cell_type": "code"
   },
   "source": "train_x.columns",
   "outputs": [
    {
     "output_type": "execute_result",
     "execution_count": 12,
     "data": {
      "text/plain": "Index(['volume [A^3]', 'weight [u]', 'density [g/cm^3]',\n       'surface_area [m^2/g]', 'MolWt', 'MolLogP', 'NumValenceElectrons',\n       'HeavyAtomCount', 'NOCount', 'NumAliphaticRings',\n       ...\n       'topology_bcu', 'topology_etb', 'topology_fof', 'topology_nbo',\n       'topology_pcu', 'topology_pts', 'topology_rht', 'topology_sra',\n       'topology_tbo', 'topology_the'],\n      dtype='object', length=169)"
     },
     "metadata": {}
    }
   ],
   "execution_count": null
  },
  {
   "cell_type": "markdown",
   "source": "## DNN method",
   "metadata": {
    "tags": [],
    "is_collapsed": false,
    "cell_id": "00001-26b1859b-193c-4b26-8697-cb03ab77431c",
    "deepnote_cell_type": "text-cell-h2"
   }
  },
  {
   "cell_type": "markdown",
   "source": "### train set",
   "metadata": {
    "tags": [],
    "is_collapsed": false,
    "cell_id": "00011-7f4907af-c50a-4090-a8e6-71083d8f8a8e",
    "deepnote_cell_type": "text-cell-h3"
   }
  },
  {
   "cell_type": "code",
   "metadata": {
    "tags": [],
    "cell_id": "00009-22b330ef-f2f6-45b5-a78f-fa4fed148c99",
    "deepnote_to_be_reexecuted": false,
    "source_hash": "c552e5e0",
    "execution_start": 1634309006956,
    "execution_millis": 1,
    "deepnote_cell_type": "code"
   },
   "source": "\nfrom tensorflow.keras.callbacks import ModelCheckpoint\nfrom sklearn.utils import class_weight \nfrom tensorflow.keras.callbacks import ModelCheckpoint, ReduceLROnPlateau, EarlyStopping,LearningRateScheduler",
   "outputs": [],
   "execution_count": null
  },
  {
   "cell_type": "code",
   "metadata": {
    "tags": [],
    "cell_id": "00004-26c83436-8858-4439-95b6-2c06ba94bd12",
    "deepnote_to_be_reexecuted": false,
    "source_hash": "fbefde13",
    "execution_start": 1634309004082,
    "execution_millis": 236,
    "deepnote_cell_type": "code"
   },
   "source": "X, Xval, y, yval = train_test_split(train_x,train_y, test_size =0.1)\nsc = StandardScaler()\nX = sc.fit_transform(X) #เราควรยึด distribution ของ traing set เป็นหลัก ถ้าใช้ distributionอื่นได้การฟิตด้วย ก้จะเกิดbiasได้\n\nXval = sc.transform (Xval)",
   "outputs": [],
   "execution_count": null
  },
  {
   "cell_type": "code",
   "metadata": {
    "tags": [],
    "cell_id": "00029-4e918c87-75b4-4bd8-84e4-b1ab7af38883",
    "deepnote_to_be_reexecuted": false,
    "source_hash": "6a450925",
    "execution_start": 1634228521273,
    "execution_millis": 3,
    "deepnote_cell_type": "code"
   },
   "source": "initial_learning_rate = 0.01\nepochs = 300\ndecay = initial_learning_rate / epochs\ndef lr_time_based_decay(epoch, lr):\n    return lr * 1 / (1 + decay * epoch)",
   "outputs": [],
   "execution_count": null
  },
  {
   "cell_type": "code",
   "metadata": {
    "tags": [],
    "cell_id": "00024-e7fd2c3b-40fc-400c-afc9-23b7c900517d",
    "deepnote_to_be_reexecuted": false,
    "source_hash": "83f8c40",
    "execution_start": 1634307645397,
    "execution_millis": 12,
    "deepnote_cell_type": "code"
   },
   "source": "X.shape",
   "outputs": [
    {
     "output_type": "execute_result",
     "execution_count": 16,
     "data": {
      "text/plain": "(52110, 169)"
     },
     "metadata": {}
    }
   ],
   "execution_count": null
  },
  {
   "cell_type": "code",
   "metadata": {
    "tags": [],
    "cell_id": "00005-d2a1a485-bbfc-4b11-a73a-c5a137123cb9",
    "deepnote_to_be_reexecuted": false,
    "source_hash": "2a3eed76",
    "execution_start": 1634309021471,
    "execution_millis": 1693,
    "deepnote_cell_type": "code"
   },
   "source": "from tensorflow.keras import models\nfrom tensorflow.keras.layers import Dense, Flatten, Softmax, Dropout\n\nmodel = models.Sequential()\nmodel.add(Dense(128, activation=\"relu\", input_shape=X.shape[1:]))\nmodel.add(Dropout(0.04))\nmodel.add(Dense(128, activation=\"relu\"))\nmodel.add(Dropout(0.04))\nmodel.add(Dense(1))\n\n\nmodel_checkpoint_callback = tf.keras.callbacks.ModelCheckpoint(\"best_weight_.hdf5\", save_weights_only=True, monitor='val_loss', mode='min', save_best_only=True)\n# compile the model\nmodel.compile(optimizer=tf.keras.optimizers.Adam(learning_rate=0.0002),loss=\"mean_absolute_error\")\n# train the model\n#history = model.fit(X, y, validation_data=(Xval, yval), epochs=400, batch_size=256,callbacks=[model_checkpoint_callback])\n",
   "outputs": [],
   "execution_count": null
  },
  {
   "cell_type": "code",
   "metadata": {
    "tags": [],
    "cell_id": "00031-7e2a2387-8573-4b71-a15a-f73a88546069",
    "deepnote_to_be_reexecuted": false,
    "source_hash": "2ccf1778",
    "execution_start": 1634228957883,
    "execution_millis": 0,
    "deepnote_cell_type": "code"
   },
   "source": "#history = model.fit(X, y, validation_data=(Xval, yval), epochs=300, batch_size=256,callbacks=[model_checkpoint_callback,LearningRateScheduler(lr_time_based_decay, verbose=1)])",
   "outputs": [],
   "execution_count": null
  },
  {
   "cell_type": "code",
   "metadata": {
    "tags": [],
    "cell_id": "00010-14df51ee-1298-483a-8bf1-0741f50f28dd",
    "deepnote_to_be_reexecuted": false,
    "source_hash": "e5c98ebe",
    "execution_start": 1634228971729,
    "execution_millis": 267,
    "deepnote_cell_type": "code"
   },
   "source": "plt.plot(history.history['loss'], label = 'loss')\nplt.plot(history.history['val_loss'], label = 'val_loss')\nplt.title('Loss vs Epochs')\nplt.xlabel(\"Epochs\")\nplt.ylabel(\"Accuracy\")\nplt.legend()\nplt.show()",
   "outputs": [
    {
     "data": {
      "text/plain": "<Figure size 432x288 with 1 Axes>",
      "image/png": "[encoded data removed]"
     },
     "metadata": {
      "needs_background": "light",
      "image/png": {
       "width": 389,
       "height": 278
      }
     },
     "output_type": "display_data"
    }
   ],
   "execution_count": null
  },
  {
   "cell_type": "code",
   "metadata": {
    "tags": [],
    "cell_id": "00028-b41d4e89-d552-4c30-87dc-1d85f1344900",
    "deepnote_to_be_reexecuted": false,
    "source_hash": "dd643ec1",
    "execution_start": 1634229247798,
    "execution_millis": 1,
    "deepnote_cell_type": "code"
   },
   "source": "model.load_weights('best_weight_.hdf5')",
   "outputs": [],
   "execution_count": null
  },
  {
   "cell_type": "markdown",
   "source": "### Test set",
   "metadata": {
    "tags": [],
    "is_collapsed": false,
    "cell_id": "00015-15fb8eba-5903-4639-9d6a-11850b58f12a",
    "deepnote_cell_type": "text-cell-h3"
   }
  },
  {
   "cell_type": "code",
   "metadata": {
    "tags": [],
    "cell_id": "00006-a2b6d990-fb77-40ad-bd8e-73fc18bad8da",
    "deepnote_to_be_reexecuted": false,
    "source_hash": "17e7eb4b",
    "execution_start": 1634296452009,
    "execution_millis": 5,
    "deepnote_cell_type": "code"
   },
   "source": "for col in ['metal_linker', 'organic_linker1', 'organic_linker2']:\n    test[col] = test[col].astype('category')\n#test= test.drop(columns=['MOFname','functional_groups','smiles','MolecularFormula','InChI','InChIKey','IUPACName'])\ntest= test.drop(columns=['functional_groups','MOFname','smiles','MolecularFormula','CID','InChI','InChIKey','IUPACName'])",
   "outputs": [],
   "execution_count": null
  },
  {
   "cell_type": "code",
   "metadata": {
    "tags": [],
    "cell_id": "00007-8421c979-4185-4748-8233-c4520f30dee4",
    "deepnote_to_be_reexecuted": false,
    "source_hash": "afaec861",
    "execution_start": 1634296456663,
    "execution_millis": 12,
    "deepnote_cell_type": "code"
   },
   "source": "test = pd.get_dummies(test)\ntest_column = test.columns",
   "outputs": [],
   "execution_count": null
  },
  {
   "cell_type": "code",
   "metadata": {
    "tags": [],
    "cell_id": "00008-5c1f08cd-9f13-4713-985e-8bbe19a841ad",
    "deepnote_to_be_reexecuted": false,
    "source_hash": "c9e87424",
    "execution_start": 1634296461066,
    "execution_millis": 8,
    "deepnote_cell_type": "code"
   },
   "source": "l = []\nfor col in train_x_column:\n    if col not in test_column:\n        l.append(col)\nlistofzeros = [0] *17000\nfor col in l:\n    test[col]= listofzeros\ntest.shape\ntest = test.reindex(columns = train_x_column)",
   "outputs": [],
   "execution_count": null
  },
  {
   "cell_type": "code",
   "metadata": {
    "tags": [],
    "cell_id": "00018-b8ccda41-67a2-4b79-9ed7-b4f3f2412053",
    "deepnote_to_be_reexecuted": false,
    "source_hash": "625d131c",
    "execution_start": 1634296464791,
    "execution_millis": 41,
    "deepnote_cell_type": "code"
   },
   "source": "test = sc.transform (test)",
   "outputs": [],
   "execution_count": null
  },
  {
   "cell_type": "code",
   "metadata": {
    "tags": [],
    "cell_id": "00010-f1729ddd-d154-49e8-8918-0517d6687a5e",
    "deepnote_to_be_reexecuted": false,
    "source_hash": "d8990e13",
    "execution_start": 1634230281811,
    "execution_millis": 1043,
    "deepnote_cell_type": "code"
   },
   "source": "#สำหรับ โมเดลเดียว\npred = model.predict(test)",
   "outputs": [],
   "execution_count": null
  },
  {
   "cell_type": "markdown",
   "source": "## Save to submission",
   "metadata": {
    "tags": [],
    "is_collapsed": false,
    "cell_id": "00020-dabed0d5-29ed-440b-9600-2ae916d69d0e",
    "deepnote_cell_type": "text-cell-h2"
   }
  },
  {
   "cell_type": "code",
   "metadata": {
    "tags": [],
    "cell_id": "00040-a6c6a8c8-f5ac-4946-bfc1-2a27309475a9",
    "deepnote_to_be_reexecuted": false,
    "source_hash": "7edf7935",
    "execution_start": 1634230287196,
    "execution_millis": 5,
    "deepnote_cell_type": "code"
   },
   "source": "#สำหรับการ weightหลายโมเดล\ndf = pd.DataFrame()\ndf['id'] = test_28['MOFname']\ndf['pred1'] = pred1\ndf['pred2'] = pred2\ndf['CO2_working_capacity [mL/g]'] = pred1*0.9+pred2*0.1",
   "outputs": [],
   "execution_count": null
  },
  {
   "cell_type": "code",
   "metadata": {
    "tags": [],
    "cell_id": "00041-cebaf79d-99a6-4590-a078-0bd6c489cd78",
    "deepnote_to_be_reexecuted": false,
    "source_hash": "13b4bce5",
    "execution_start": 1634230290568,
    "execution_millis": 3,
    "deepnote_cell_type": "code"
   },
   "source": "df=df[['id','CO2_working_capacity [mL/g]']]",
   "outputs": [],
   "execution_count": null
  },
  {
   "cell_type": "code",
   "metadata": {
    "tags": [],
    "cell_id": "00011-2bc20e86-fee9-4b5e-a767-670c6922ffa4",
    "deepnote_to_be_reexecuted": false,
    "source_hash": "b3450dbc",
    "execution_start": 1634230086426,
    "execution_millis": 156,
    "deepnote_cell_type": "code"
   },
   "source": "df = pd.DataFrame()\ndf['id'] = test_28['MOFname']\ndf['CO2_working_capacity [mL/g]'] = pred\ndf",
   "outputs": [
    {
     "output_type": "execute_result",
     "execution_count": 50,
     "data": {
      "application/vnd.deepnote.dataframe.v2+json": {
       "row_count": 17000,
       "column_count": 2,
       "columns": [
        {
         "name": "id",
         "dtype": "object",
         "stats": {
          "unique_count": 17000,
          "nan_count": 0,
          "categories": [
           {
            "name": "mof_unit_68614",
            "count": 1
           },
           {
            "name": "mof_unit_68615",
            "count": 1
           },
           {
            "name": "16998 others",
            "count": 16998
           }
          ]
         }
        },
        {
         "name": "CO2_working_capacity [mL/g]",
         "dtype": "float32",
         "stats": {
          "unique_count": 16994,
          "nan_count": 0,
          "min": "-16.562570571899414",
          "max": "566.5155639648438",
          "histogram": [
           {
            "bin_start": -16.562570571899414,
            "bin_end": 41.745243072509766,
            "count": 2342
           },
           {
            "bin_start": 41.745243072509766,
            "bin_end": 100.05305480957031,
            "count": 7441
           },
           {
            "bin_start": 100.05305480957031,
            "bin_end": 158.36087036132812,
            "count": 3873
           },
           {
            "bin_start": 158.36087036132812,
            "bin_end": 216.66868591308594,
            "count": 1770
           },
           {
            "bin_start": 216.66868591308594,
            "bin_end": 274.97650146484375,
            "count": 938
           },
           {
            "bin_start": 274.97650146484375,
            "bin_end": 333.2843017578125,
            "count": 347
           },
           {
            "bin_start": 333.2843017578125,
            "bin_end": 391.5921325683594,
            "count": 171
           },
           {
            "bin_start": 391.5921325683594,
            "bin_end": 449.8999328613281,
            "count": 81
           },
           {
            "bin_start": 449.8999328613281,
            "bin_end": 508.207763671875,
            "count": 29
           },
           {
            "bin_start": 508.207763671875,
            "bin_end": 566.5155639648438,
            "count": 8
           }
          ]
         }
        },
        {
         "name": "_deepnote_index_column",
         "dtype": "int64"
        }
       ],
       "rows_top": [
        {
         "id": "mof_unit_68614",
         "CO2_working_capacity [mL/g]": 189.5820770263672,
         "_deepnote_index_column": 0
        },
        {
         "id": "mof_unit_68615",
         "CO2_working_capacity [mL/g]": 62.03327560424805,
         "_deepnote_index_column": 1
        },
        {
         "id": "mof_unit_68616",
         "CO2_working_capacity [mL/g]": 75.94539642333984,
         "_deepnote_index_column": 2
        },
        {
         "id": "mof_unit_68617",
         "CO2_working_capacity [mL/g]": 57.636390686035156,
         "_deepnote_index_column": 3
        },
        {
         "id": "mof_unit_68618",
         "CO2_working_capacity [mL/g]": 59.4147834777832,
         "_deepnote_index_column": 4
        },
        {
         "id": "mof_unit_68619",
         "CO2_working_capacity [mL/g]": 72.76361083984375,
         "_deepnote_index_column": 5
        },
        {
         "id": "mof_unit_68620",
         "CO2_working_capacity [mL/g]": 149.0363311767578,
         "_deepnote_index_column": 6
        },
        {
         "id": "mof_unit_68621",
         "CO2_working_capacity [mL/g]": 180.86582946777344,
         "_deepnote_index_column": 7
        },
        {
         "id": "mof_unit_68622",
         "CO2_working_capacity [mL/g]": 74.74595642089844,
         "_deepnote_index_column": 8
        },
        {
         "id": "mof_unit_68623",
         "CO2_working_capacity [mL/g]": 166.38833618164062,
         "_deepnote_index_column": 9
        },
        {
         "id": "mof_unit_68624",
         "CO2_working_capacity [mL/g]": 59.162052154541016,
         "_deepnote_index_column": 10
        },
        {
         "id": "mof_unit_68625",
         "CO2_working_capacity [mL/g]": 75.63629150390625,
         "_deepnote_index_column": 11
        },
        {
         "id": "mof_unit_68626",
         "CO2_working_capacity [mL/g]": 246.49349975585938,
         "_deepnote_index_column": 12
        },
        {
         "id": "mof_unit_68627",
         "CO2_working_capacity [mL/g]": 206.9004364013672,
         "_deepnote_index_column": 13
        },
        {
         "id": "mof_unit_68628",
         "CO2_working_capacity [mL/g]": 73.14099884033203,
         "_deepnote_index_column": 14
        },
        {
         "id": "mof_unit_68629",
         "CO2_working_capacity [mL/g]": 164.0209197998047,
         "_deepnote_index_column": 15
        },
        {
         "id": "mof_unit_68630",
         "CO2_working_capacity [mL/g]": 60.32063674926758,
         "_deepnote_index_column": 16
        },
        {
         "id": "mof_unit_68631",
         "CO2_working_capacity [mL/g]": 53.5048713684082,
         "_deepnote_index_column": 17
        },
        {
         "id": "mof_unit_68632",
         "CO2_working_capacity [mL/g]": 126.11151123046875,
         "_deepnote_index_column": 18
        },
        {
         "id": "mof_unit_68633",
         "CO2_working_capacity [mL/g]": 59.47040939331055,
         "_deepnote_index_column": 19
        },
        {
         "id": "mof_unit_68634",
         "CO2_working_capacity [mL/g]": 208.38645935058594,
         "_deepnote_index_column": 20
        },
        {
         "id": "mof_unit_68635",
         "CO2_working_capacity [mL/g]": 133.2478485107422,
         "_deepnote_index_column": 21
        },
        {
         "id": "mof_unit_68636",
         "CO2_working_capacity [mL/g]": 87.78155517578125,
         "_deepnote_index_column": 22
        },
        {
         "id": "mof_unit_68637",
         "CO2_working_capacity [mL/g]": 84.54057312011719,
         "_deepnote_index_column": 23
        },
        {
         "id": "mof_unit_68638",
         "CO2_working_capacity [mL/g]": 257.5155334472656,
         "_deepnote_index_column": 24
        },
        {
         "id": "mof_unit_68639",
         "CO2_working_capacity [mL/g]": 133.55955505371094,
         "_deepnote_index_column": 25
        },
        {
         "id": "mof_unit_68640",
         "CO2_working_capacity [mL/g]": 110.09618377685547,
         "_deepnote_index_column": 26
        },
        {
         "id": "mof_unit_68641",
         "CO2_working_capacity [mL/g]": 209.96250915527344,
         "_deepnote_index_column": 27
        },
        {
         "id": "mof_unit_68642",
         "CO2_working_capacity [mL/g]": 67.21913146972656,
         "_deepnote_index_column": 28
        },
        {
         "id": "mof_unit_68643",
         "CO2_working_capacity [mL/g]": 73.76727294921875,
         "_deepnote_index_column": 29
        },
        {
         "id": "mof_unit_68644",
         "CO2_working_capacity [mL/g]": 111.21786499023438,
         "_deepnote_index_column": 30
        },
        {
         "id": "mof_unit_68645",
         "CO2_working_capacity [mL/g]": 105.36260986328125,
         "_deepnote_index_column": 31
        },
        {
         "id": "mof_unit_68646",
         "CO2_working_capacity [mL/g]": 294.87786865234375,
         "_deepnote_index_column": 32
        },
        {
         "id": "mof_unit_68647",
         "CO2_working_capacity [mL/g]": 96.17876434326172,
         "_deepnote_index_column": 33
        },
        {
         "id": "mof_unit_68648",
         "CO2_working_capacity [mL/g]": 133.7101593017578,
         "_deepnote_index_column": 34
        },
        {
         "id": "mof_unit_68649",
         "CO2_working_capacity [mL/g]": 72.36441802978516,
         "_deepnote_index_column": 35
        },
        {
         "id": "mof_unit_68650",
         "CO2_working_capacity [mL/g]": 273.8369445800781,
         "_deepnote_index_column": 36
        },
        {
         "id": "mof_unit_68651",
         "CO2_working_capacity [mL/g]": 61.30879592895508,
         "_deepnote_index_column": 37
        },
        {
         "id": "mof_unit_68652",
         "CO2_working_capacity [mL/g]": 78.39830017089844,
         "_deepnote_index_column": 38
        },
        {
         "id": "mof_unit_68653",
         "CO2_working_capacity [mL/g]": 152.71359252929688,
         "_deepnote_index_column": 39
        },
        {
         "id": "mof_unit_68654",
         "CO2_working_capacity [mL/g]": 95.28274536132812,
         "_deepnote_index_column": 40
        },
        {
         "id": "mof_unit_68655",
         "CO2_working_capacity [mL/g]": 99.09962463378906,
         "_deepnote_index_column": 41
        },
        {
         "id": "mof_unit_68656",
         "CO2_working_capacity [mL/g]": 88.7564697265625,
         "_deepnote_index_column": 42
        },
        {
         "id": "mof_unit_68657",
         "CO2_working_capacity [mL/g]": 201.55154418945312,
         "_deepnote_index_column": 43
        },
        {
         "id": "mof_unit_68658",
         "CO2_working_capacity [mL/g]": 62.244075775146484,
         "_deepnote_index_column": 44
        },
        {
         "id": "mof_unit_68659",
         "CO2_working_capacity [mL/g]": 114.76094818115234,
         "_deepnote_index_column": 45
        },
        {
         "id": "mof_unit_68660",
         "CO2_working_capacity [mL/g]": 209.36839294433594,
         "_deepnote_index_column": 46
        },
        {
         "id": "mof_unit_68661",
         "CO2_working_capacity [mL/g]": 147.52285766601562,
         "_deepnote_index_column": 47
        },
        {
         "id": "mof_unit_68662",
         "CO2_working_capacity [mL/g]": 69.77434539794922,
         "_deepnote_index_column": 48
        },
        {
         "id": "mof_unit_68663",
         "CO2_working_capacity [mL/g]": 77.03984832763672,
         "_deepnote_index_column": 49
        },
        {
         "id": "mof_unit_68664",
         "CO2_working_capacity [mL/g]": 80.68524932861328,
         "_deepnote_index_column": 50
        },
        {
         "id": "mof_unit_68665",
         "CO2_working_capacity [mL/g]": 98.83392333984375,
         "_deepnote_index_column": 51
        },
        {
         "id": "mof_unit_68666",
         "CO2_working_capacity [mL/g]": 175.11572265625,
         "_deepnote_index_column": 52
        },
        {
         "id": "mof_unit_68667",
         "CO2_working_capacity [mL/g]": 71.93806457519531,
         "_deepnote_index_column": 53
        },
        {
         "id": "mof_unit_68668",
         "CO2_working_capacity [mL/g]": 261.8817138671875,
         "_deepnote_index_column": 54
        },
        {
         "id": "mof_unit_68669",
         "CO2_working_capacity [mL/g]": 99.50792694091797,
         "_deepnote_index_column": 55
        },
        {
         "id": "mof_unit_68670",
         "CO2_working_capacity [mL/g]": 280.3539733886719,
         "_deepnote_index_column": 56
        },
        {
         "id": "mof_unit_68671",
         "CO2_working_capacity [mL/g]": 88.96653747558594,
         "_deepnote_index_column": 57
        },
        {
         "id": "mof_unit_68672",
         "CO2_working_capacity [mL/g]": 77.66309356689453,
         "_deepnote_index_column": 58
        },
        {
         "id": "mof_unit_68673",
         "CO2_working_capacity [mL/g]": 142.2017059326172,
         "_deepnote_index_column": 59
        },
        {
         "id": "mof_unit_68674",
         "CO2_working_capacity [mL/g]": 63.79973220825195,
         "_deepnote_index_column": 60
        },
        {
         "id": "mof_unit_68675",
         "CO2_working_capacity [mL/g]": 60.363948822021484,
         "_deepnote_index_column": 61
        },
        {
         "id": "mof_unit_68676",
         "CO2_working_capacity [mL/g]": 151.8177032470703,
         "_deepnote_index_column": 62
        },
        {
         "id": "mof_unit_68677",
         "CO2_working_capacity [mL/g]": 134.83680725097656,
         "_deepnote_index_column": 63
        },
        {
         "id": "mof_unit_68678",
         "CO2_working_capacity [mL/g]": 177.5751495361328,
         "_deepnote_index_column": 64
        },
        {
         "id": "mof_unit_68679",
         "CO2_working_capacity [mL/g]": 83.86285400390625,
         "_deepnote_index_column": 65
        },
        {
         "id": "mof_unit_68680",
         "CO2_working_capacity [mL/g]": 79.8145751953125,
         "_deepnote_index_column": 66
        },
        {
         "id": "mof_unit_68681",
         "CO2_working_capacity [mL/g]": 101.56021881103516,
         "_deepnote_index_column": 67
        },
        {
         "id": "mof_unit_68682",
         "CO2_working_capacity [mL/g]": 83.86112976074219,
         "_deepnote_index_column": 68
        },
        {
         "id": "mof_unit_68683",
         "CO2_working_capacity [mL/g]": 81.60834503173828,
         "_deepnote_index_column": 69
        },
        {
         "id": "mof_unit_68684",
         "CO2_working_capacity [mL/g]": 80.78657531738281,
         "_deepnote_index_column": 70
        },
        {
         "id": "mof_unit_68685",
         "CO2_working_capacity [mL/g]": 80.34709167480469,
         "_deepnote_index_column": 71
        },
        {
         "id": "mof_unit_68686",
         "CO2_working_capacity [mL/g]": 151.52987670898438,
         "_deepnote_index_column": 72
        },
        {
         "id": "mof_unit_68687",
         "CO2_working_capacity [mL/g]": 76.72359466552734,
         "_deepnote_index_column": 73
        },
        {
         "id": "mof_unit_68688",
         "CO2_working_capacity [mL/g]": 86.32112121582031,
         "_deepnote_index_column": 74
        },
        {
         "id": "mof_unit_68689",
         "CO2_working_capacity [mL/g]": 84.75148010253906,
         "_deepnote_index_column": 75
        },
        {
         "id": "mof_unit_68690",
         "CO2_working_capacity [mL/g]": 144.5298309326172,
         "_deepnote_index_column": 76
        },
        {
         "id": "mof_unit_68691",
         "CO2_working_capacity [mL/g]": 198.88168334960938,
         "_deepnote_index_column": 77
        },
        {
         "id": "mof_unit_68692",
         "CO2_working_capacity [mL/g]": 73.8504867553711,
         "_deepnote_index_column": 78
        },
        {
         "id": "mof_unit_68693",
         "CO2_working_capacity [mL/g]": 194.26515197753906,
         "_deepnote_index_column": 79
        },
        {
         "id": "mof_unit_68694",
         "CO2_working_capacity [mL/g]": 116.86795043945312,
         "_deepnote_index_column": 80
        },
        {
         "id": "mof_unit_68695",
         "CO2_working_capacity [mL/g]": 179.45770263671875,
         "_deepnote_index_column": 81
        },
        {
         "id": "mof_unit_68696",
         "CO2_working_capacity [mL/g]": 53.89303970336914,
         "_deepnote_index_column": 82
        },
        {
         "id": "mof_unit_68697",
         "CO2_working_capacity [mL/g]": 116.11043548583984,
         "_deepnote_index_column": 83
        },
        {
         "id": "mof_unit_68698",
         "CO2_working_capacity [mL/g]": 179.37591552734375,
         "_deepnote_index_column": 84
        },
        {
         "id": "mof_unit_68699",
         "CO2_working_capacity [mL/g]": 54.63136672973633,
         "_deepnote_index_column": 85
        },
        {
         "id": "mof_unit_68700",
         "CO2_working_capacity [mL/g]": 54.45379638671875,
         "_deepnote_index_column": 86
        },
        {
         "id": "mof_unit_68701",
         "CO2_working_capacity [mL/g]": 177.38558959960938,
         "_deepnote_index_column": 87
        },
        {
         "id": "mof_unit_68702",
         "CO2_working_capacity [mL/g]": 112.0889892578125,
         "_deepnote_index_column": 88
        },
        {
         "id": "mof_unit_68703",
         "CO2_working_capacity [mL/g]": 159.69947814941406,
         "_deepnote_index_column": 89
        },
        {
         "id": "mof_unit_68704",
         "CO2_working_capacity [mL/g]": 108.05398559570312,
         "_deepnote_index_column": 90
        },
        {
         "id": "mof_unit_68705",
         "CO2_working_capacity [mL/g]": 97.4489517211914,
         "_deepnote_index_column": 91
        },
        {
         "id": "mof_unit_68706",
         "CO2_working_capacity [mL/g]": 133.01788330078125,
         "_deepnote_index_column": 92
        },
        {
         "id": "mof_unit_68707",
         "CO2_working_capacity [mL/g]": 93.73722839355469,
         "_deepnote_index_column": 93
        },
        {
         "id": "mof_unit_68708",
         "CO2_working_capacity [mL/g]": 116.19744110107422,
         "_deepnote_index_column": 94
        },
        {
         "id": "mof_unit_68709",
         "CO2_working_capacity [mL/g]": 172.1494598388672,
         "_deepnote_index_column": 95
        },
        {
         "id": "mof_unit_68710",
         "CO2_working_capacity [mL/g]": 68.16767883300781,
         "_deepnote_index_column": 96
        },
        {
         "id": "mof_unit_68711",
         "CO2_working_capacity [mL/g]": 132.88624572753906,
         "_deepnote_index_column": 97
        },
        {
         "id": "mof_unit_68712",
         "CO2_working_capacity [mL/g]": 80.58153533935547,
         "_deepnote_index_column": 98
        },
        {
         "id": "mof_unit_68713",
         "CO2_working_capacity [mL/g]": 62.76322555541992,
         "_deepnote_index_column": 99
        },
        {
         "id": "mof_unit_68714",
         "CO2_working_capacity [mL/g]": 57.16177749633789,
         "_deepnote_index_column": 100
        },
        {
         "id": "mof_unit_68715",
         "CO2_working_capacity [mL/g]": 115.0396728515625,
         "_deepnote_index_column": 101
        },
        {
         "id": "mof_unit_68716",
         "CO2_working_capacity [mL/g]": 116.17962646484375,
         "_deepnote_index_column": 102
        },
        {
         "id": "mof_unit_68717",
         "CO2_working_capacity [mL/g]": 65.26947021484375,
         "_deepnote_index_column": 103
        },
        {
         "id": "mof_unit_68718",
         "CO2_working_capacity [mL/g]": 48.98844528198242,
         "_deepnote_index_column": 104
        },
        {
         "id": "mof_unit_68719",
         "CO2_working_capacity [mL/g]": 52.65617752075195,
         "_deepnote_index_column": 105
        },
        {
         "id": "mof_unit_68720",
         "CO2_working_capacity [mL/g]": 166.0423126220703,
         "_deepnote_index_column": 106
        },
        {
         "id": "mof_unit_68721",
         "CO2_working_capacity [mL/g]": 208.2939910888672,
         "_deepnote_index_column": 107
        },
        {
         "id": "mof_unit_68722",
         "CO2_working_capacity [mL/g]": 113.8055191040039,
         "_deepnote_index_column": 108
        },
        {
         "id": "mof_unit_68723",
         "CO2_working_capacity [mL/g]": 93.04044342041016,
         "_deepnote_index_column": 109
        },
        {
         "id": "mof_unit_68724",
         "CO2_working_capacity [mL/g]": 74.79495239257812,
         "_deepnote_index_column": 110
        },
        {
         "id": "mof_unit_68725",
         "CO2_working_capacity [mL/g]": 85.01399230957031,
         "_deepnote_index_column": 111
        },
        {
         "id": "mof_unit_68726",
         "CO2_working_capacity [mL/g]": 125.83787536621094,
         "_deepnote_index_column": 112
        },
        {
         "id": "mof_unit_68727",
         "CO2_working_capacity [mL/g]": 105.63008880615234,
         "_deepnote_index_column": 113
        },
        {
         "id": "mof_unit_68728",
         "CO2_working_capacity [mL/g]": 142.4674530029297,
         "_deepnote_index_column": 114
        },
        {
         "id": "mof_unit_68729",
         "CO2_working_capacity [mL/g]": 280.9932556152344,
         "_deepnote_index_column": 115
        },
        {
         "id": "mof_unit_68730",
         "CO2_working_capacity [mL/g]": 104.37633514404297,
         "_deepnote_index_column": 116
        },
        {
         "id": "mof_unit_68731",
         "CO2_working_capacity [mL/g]": 37.447452545166016,
         "_deepnote_index_column": 117
        },
        {
         "id": "mof_unit_68732",
         "CO2_working_capacity [mL/g]": 81.14039611816406,
         "_deepnote_index_column": 118
        },
        {
         "id": "mof_unit_68733",
         "CO2_working_capacity [mL/g]": 76.1151123046875,
         "_deepnote_index_column": 119
        },
        {
         "id": "mof_unit_68734",
         "CO2_working_capacity [mL/g]": 104.69853210449219,
         "_deepnote_index_column": 120
        },
        {
         "id": "mof_unit_68735",
         "CO2_working_capacity [mL/g]": 205.75474548339844,
         "_deepnote_index_column": 121
        },
        {
         "id": "mof_unit_68736",
         "CO2_working_capacity [mL/g]": 58.99894332885742,
         "_deepnote_index_column": 122
        },
        {
         "id": "mof_unit_68737",
         "CO2_working_capacity [mL/g]": 122.77993774414062,
         "_deepnote_index_column": 123
        },
        {
         "id": "mof_unit_68738",
         "CO2_working_capacity [mL/g]": 170.2222900390625,
         "_deepnote_index_column": 124
        },
        {
         "id": "mof_unit_68739",
         "CO2_working_capacity [mL/g]": 134.5670928955078,
         "_deepnote_index_column": 125
        },
        {
         "id": "mof_unit_68740",
         "CO2_working_capacity [mL/g]": 252.2987518310547,
         "_deepnote_index_column": 126
        },
        {
         "id": "mof_unit_68741",
         "CO2_working_capacity [mL/g]": 83.55131530761719,
         "_deepnote_index_column": 127
        },
        {
         "id": "mof_unit_68742",
         "CO2_working_capacity [mL/g]": 115.94796752929688,
         "_deepnote_index_column": 128
        },
        {
         "id": "mof_unit_68743",
         "CO2_working_capacity [mL/g]": 72.63845825195312,
         "_deepnote_index_column": 129
        },
        {
         "id": "mof_unit_68744",
         "CO2_working_capacity [mL/g]": 212.00135803222656,
         "_deepnote_index_column": 130
        },
        {
         "id": "mof_unit_68745",
         "CO2_working_capacity [mL/g]": 106.93319702148438,
         "_deepnote_index_column": 131
        },
        {
         "id": "mof_unit_68746",
         "CO2_working_capacity [mL/g]": 104.6167984008789,
         "_deepnote_index_column": 132
        },
        {
         "id": "mof_unit_68747",
         "CO2_working_capacity [mL/g]": 148.38917541503906,
         "_deepnote_index_column": 133
        },
        {
         "id": "mof_unit_68748",
         "CO2_working_capacity [mL/g]": 60.5416374206543,
         "_deepnote_index_column": 134
        },
        {
         "id": "mof_unit_68749",
         "CO2_working_capacity [mL/g]": 63.88853454589844,
         "_deepnote_index_column": 135
        },
        {
         "id": "mof_unit_68750",
         "CO2_working_capacity [mL/g]": 87.94528198242188,
         "_deepnote_index_column": 136
        },
        {
         "id": "mof_unit_68751",
         "CO2_working_capacity [mL/g]": 192.6839599609375,
         "_deepnote_index_column": 137
        },
        {
         "id": "mof_unit_68752",
         "CO2_working_capacity [mL/g]": 81.83147430419922,
         "_deepnote_index_column": 138
        },
        {
         "id": "mof_unit_68753",
         "CO2_working_capacity [mL/g]": 281.1670227050781,
         "_deepnote_index_column": 139
        },
        {
         "id": "mof_unit_68754",
         "CO2_working_capacity [mL/g]": 148.40399169921875,
         "_deepnote_index_column": 140
        },
        {
         "id": "mof_unit_68755",
         "CO2_working_capacity [mL/g]": 72.48323822021484,
         "_deepnote_index_column": 141
        },
        {
         "id": "mof_unit_68756",
         "CO2_working_capacity [mL/g]": 81.10900115966797,
         "_deepnote_index_column": 142
        },
        {
         "id": "mof_unit_68757",
         "CO2_working_capacity [mL/g]": 348.00567626953125,
         "_deepnote_index_column": 143
        },
        {
         "id": "mof_unit_68758",
         "CO2_working_capacity [mL/g]": 304.4989013671875,
         "_deepnote_index_column": 144
        },
        {
         "id": "mof_unit_68759",
         "CO2_working_capacity [mL/g]": 235.6223602294922,
         "_deepnote_index_column": 145
        },
        {
         "id": "mof_unit_68760",
         "CO2_working_capacity [mL/g]": 174.07652282714844,
         "_deepnote_index_column": 146
        },
        {
         "id": "mof_unit_68761",
         "CO2_working_capacity [mL/g]": 100.55868530273438,
         "_deepnote_index_column": 147
        },
        {
         "id": "mof_unit_68762",
         "CO2_working_capacity [mL/g]": 58.07882308959961,
         "_deepnote_index_column": 148
        },
        {
         "id": "mof_unit_68763",
         "CO2_working_capacity [mL/g]": 72.248046875,
         "_deepnote_index_column": 149
        },
        {
         "id": "mof_unit_68764",
         "CO2_working_capacity [mL/g]": 103.80508422851562,
         "_deepnote_index_column": 150
        },
        {
         "id": "mof_unit_68765",
         "CO2_working_capacity [mL/g]": 162.16152954101562,
         "_deepnote_index_column": 151
        },
        {
         "id": "mof_unit_68766",
         "CO2_working_capacity [mL/g]": 59.525997161865234,
         "_deepnote_index_column": 152
        },
        {
         "id": "mof_unit_68767",
         "CO2_working_capacity [mL/g]": 90.7173080444336,
         "_deepnote_index_column": 153
        },
        {
         "id": "mof_unit_68768",
         "CO2_working_capacity [mL/g]": 107.2401351928711,
         "_deepnote_index_column": 154
        },
        {
         "id": "mof_unit_68769",
         "CO2_working_capacity [mL/g]": 58.088504791259766,
         "_deepnote_index_column": 155
        },
        {
         "id": "mof_unit_68770",
         "CO2_working_capacity [mL/g]": 109.69364929199219,
         "_deepnote_index_column": 156
        },
        {
         "id": "mof_unit_68771",
         "CO2_working_capacity [mL/g]": 64.09339141845703,
         "_deepnote_index_column": 157
        },
        {
         "id": "mof_unit_68772",
         "CO2_working_capacity [mL/g]": 56.15608215332031,
         "_deepnote_index_column": 158
        },
        {
         "id": "mof_unit_68773",
         "CO2_working_capacity [mL/g]": 78.06657409667969,
         "_deepnote_index_column": 159
        },
        {
         "id": "mof_unit_68774",
         "CO2_working_capacity [mL/g]": 61.82057571411133,
         "_deepnote_index_column": 160
        },
        {
         "id": "mof_unit_68775",
         "CO2_working_capacity [mL/g]": 81.05975341796875,
         "_deepnote_index_column": 161
        },
        {
         "id": "mof_unit_68776",
         "CO2_working_capacity [mL/g]": 85.056884765625,
         "_deepnote_index_column": 162
        },
        {
         "id": "mof_unit_68777",
         "CO2_working_capacity [mL/g]": 63.42523193359375,
         "_deepnote_index_column": 163
        },
        {
         "id": "mof_unit_68778",
         "CO2_working_capacity [mL/g]": 65.3202133178711,
         "_deepnote_index_column": 164
        },
        {
         "id": "mof_unit_68779",
         "CO2_working_capacity [mL/g]": 47.972984313964844,
         "_deepnote_index_column": 165
        },
        {
         "id": "mof_unit_68780",
         "CO2_working_capacity [mL/g]": 130.61695861816406,
         "_deepnote_index_column": 166
        },
        {
         "id": "mof_unit_68781",
         "CO2_working_capacity [mL/g]": 78.05960845947266,
         "_deepnote_index_column": 167
        },
        {
         "id": "mof_unit_68782",
         "CO2_working_capacity [mL/g]": 110.95755004882812,
         "_deepnote_index_column": 168
        },
        {
         "id": "mof_unit_68783",
         "CO2_working_capacity [mL/g]": 62.46714401245117,
         "_deepnote_index_column": 169
        },
        {
         "id": "mof_unit_68784",
         "CO2_working_capacity [mL/g]": 77.32889556884766,
         "_deepnote_index_column": 170
        },
        {
         "id": "mof_unit_68785",
         "CO2_working_capacity [mL/g]": 99.00698852539062,
         "_deepnote_index_column": 171
        },
        {
         "id": "mof_unit_68786",
         "CO2_working_capacity [mL/g]": 107.76530456542969,
         "_deepnote_index_column": 172
        },
        {
         "id": "mof_unit_68787",
         "CO2_working_capacity [mL/g]": 268.9425048828125,
         "_deepnote_index_column": 173
        },
        {
         "id": "mof_unit_68788",
         "CO2_working_capacity [mL/g]": 72.98413848876953,
         "_deepnote_index_column": 174
        },
        {
         "id": "mof_unit_68789",
         "CO2_working_capacity [mL/g]": 98.43413543701172,
         "_deepnote_index_column": 175
        },
        {
         "id": "mof_unit_68790",
         "CO2_working_capacity [mL/g]": 271.4075927734375,
         "_deepnote_index_column": 176
        },
        {
         "id": "mof_unit_68791",
         "CO2_working_capacity [mL/g]": 66.80542755126953,
         "_deepnote_index_column": 177
        },
        {
         "id": "mof_unit_68792",
         "CO2_working_capacity [mL/g]": 135.82342529296875,
         "_deepnote_index_column": 178
        },
        {
         "id": "mof_unit_68793",
         "CO2_working_capacity [mL/g]": 88.64559173583984,
         "_deepnote_index_column": 179
        },
        {
         "id": "mof_unit_68794",
         "CO2_working_capacity [mL/g]": 105.62840270996094,
         "_deepnote_index_column": 180
        },
        {
         "id": "mof_unit_68795",
         "CO2_working_capacity [mL/g]": 105.88662719726562,
         "_deepnote_index_column": 181
        },
        {
         "id": "mof_unit_68796",
         "CO2_working_capacity [mL/g]": 69.61478424072266,
         "_deepnote_index_column": 182
        },
        {
         "id": "mof_unit_68797",
         "CO2_working_capacity [mL/g]": 115.49842834472656,
         "_deepnote_index_column": 183
        },
        {
         "id": "mof_unit_68798",
         "CO2_working_capacity [mL/g]": 71.5962142944336,
         "_deepnote_index_column": 184
        },
        {
         "id": "mof_unit_68799",
         "CO2_working_capacity [mL/g]": 74.04412841796875,
         "_deepnote_index_column": 185
        },
        {
         "id": "mof_unit_68800",
         "CO2_working_capacity [mL/g]": 59.064998626708984,
         "_deepnote_index_column": 186
        },
        {
         "id": "mof_unit_68801",
         "CO2_working_capacity [mL/g]": 103.86276245117188,
         "_deepnote_index_column": 187
        },
        {
         "id": "mof_unit_68802",
         "CO2_working_capacity [mL/g]": 119.46095275878906,
         "_deepnote_index_column": 188
        },
        {
         "id": "mof_unit_68803",
         "CO2_working_capacity [mL/g]": 76.03421783447266,
         "_deepnote_index_column": 189
        },
        {
         "id": "mof_unit_68804",
         "CO2_working_capacity [mL/g]": 59.626399993896484,
         "_deepnote_index_column": 190
        },
        {
         "id": "mof_unit_68805",
         "CO2_working_capacity [mL/g]": 64.75346374511719,
         "_deepnote_index_column": 191
        },
        {
         "id": "mof_unit_68806",
         "CO2_working_capacity [mL/g]": 78.91255187988281,
         "_deepnote_index_column": 192
        },
        {
         "id": "mof_unit_68807",
         "CO2_working_capacity [mL/g]": 131.69801330566406,
         "_deepnote_index_column": 193
        },
        {
         "id": "mof_unit_68808",
         "CO2_working_capacity [mL/g]": 66.23251342773438,
         "_deepnote_index_column": 194
        },
        {
         "id": "mof_unit_68809",
         "CO2_working_capacity [mL/g]": 162.6926727294922,
         "_deepnote_index_column": 195
        },
        {
         "id": "mof_unit_68810",
         "CO2_working_capacity [mL/g]": 122.04804992675781,
         "_deepnote_index_column": 196
        },
        {
         "id": "mof_unit_68811",
         "CO2_working_capacity [mL/g]": 171.19566345214844,
         "_deepnote_index_column": 197
        },
        {
         "id": "mof_unit_68812",
         "CO2_working_capacity [mL/g]": 105.9072265625,
         "_deepnote_index_column": 198
        },
        {
         "id": "mof_unit_68813",
         "CO2_working_capacity [mL/g]": 58.47197723388672,
         "_deepnote_index_column": 199
        },
        {
         "id": "mof_unit_68814",
         "CO2_working_capacity [mL/g]": 91.95848083496094,
         "_deepnote_index_column": 200
        },
        {
         "id": "mof_unit_68815",
         "CO2_working_capacity [mL/g]": 64.7987289428711,
         "_deepnote_index_column": 201
        },
        {
         "id": "mof_unit_68816",
         "CO2_working_capacity [mL/g]": 404.4519348144531,
         "_deepnote_index_column": 202
        },
        {
         "id": "mof_unit_68817",
         "CO2_working_capacity [mL/g]": 94.14490509033203,
         "_deepnote_index_column": 203
        },
        {
         "id": "mof_unit_68818",
         "CO2_working_capacity [mL/g]": 67.17012023925781,
         "_deepnote_index_column": 204
        },
        {
         "id": "mof_unit_68819",
         "CO2_working_capacity [mL/g]": 78.66107177734375,
         "_deepnote_index_column": 205
        },
        {
         "id": "mof_unit_68820",
         "CO2_working_capacity [mL/g]": 157.8548583984375,
         "_deepnote_index_column": 206
        },
        {
         "id": "mof_unit_68821",
         "CO2_working_capacity [mL/g]": 133.95932006835938,
         "_deepnote_index_column": 207
        },
        {
         "id": "mof_unit_68822",
         "CO2_working_capacity [mL/g]": 395.647705078125,
         "_deepnote_index_column": 208
        },
        {
         "id": "mof_unit_68823",
         "CO2_working_capacity [mL/g]": 75.86518859863281,
         "_deepnote_index_column": 209
        },
        {
         "id": "mof_unit_68824",
         "CO2_working_capacity [mL/g]": 184.0142059326172,
         "_deepnote_index_column": 210
        },
        {
         "id": "mof_unit_68825",
         "CO2_working_capacity [mL/g]": 80.56016540527344,
         "_deepnote_index_column": 211
        },
        {
         "id": "mof_unit_68826",
         "CO2_working_capacity [mL/g]": 165.7314453125,
         "_deepnote_index_column": 212
        },
        {
         "id": "mof_unit_68827",
         "CO2_working_capacity [mL/g]": 152.7146759033203,
         "_deepnote_index_column": 213
        },
        {
         "id": "mof_unit_68828",
         "CO2_working_capacity [mL/g]": 50.55763626098633,
         "_deepnote_index_column": 214
        },
        {
         "id": "mof_unit_68829",
         "CO2_working_capacity [mL/g]": 59.601051330566406,
         "_deepnote_index_column": 215
        },
        {
         "id": "mof_unit_68830",
         "CO2_working_capacity [mL/g]": 70.73211669921875,
         "_deepnote_index_column": 216
        },
        {
         "id": "mof_unit_68831",
         "CO2_working_capacity [mL/g]": 103.64952850341797,
         "_deepnote_index_column": 217
        },
        {
         "id": "mof_unit_68832",
         "CO2_working_capacity [mL/g]": 135.16000366210938,
         "_deepnote_index_column": 218
        },
        {
         "id": "mof_unit_68833",
         "CO2_working_capacity [mL/g]": 100.5216293334961,
         "_deepnote_index_column": 219
        },
        {
         "id": "mof_unit_68834",
         "CO2_working_capacity [mL/g]": 83.72224426269531,
         "_deepnote_index_column": 220
        },
        {
         "id": "mof_unit_68835",
         "CO2_working_capacity [mL/g]": 60.40224838256836,
         "_deepnote_index_column": 221
        },
        {
         "id": "mof_unit_68836",
         "CO2_working_capacity [mL/g]": 103.33303833007812,
         "_deepnote_index_column": 222
        },
        {
         "id": "mof_unit_68837",
         "CO2_working_capacity [mL/g]": 61.178871154785156,
         "_deepnote_index_column": 223
        },
        {
         "id": "mof_unit_68838",
         "CO2_working_capacity [mL/g]": 48.816619873046875,
         "_deepnote_index_column": 224
        },
        {
         "id": "mof_unit_68839",
         "CO2_working_capacity [mL/g]": 199.12327575683594,
         "_deepnote_index_column": 225
        },
        {
         "id": "mof_unit_68840",
         "CO2_working_capacity [mL/g]": 51.170047760009766,
         "_deepnote_index_column": 226
        },
        {
         "id": "mof_unit_68841",
         "CO2_working_capacity [mL/g]": 181.48277282714844,
         "_deepnote_index_column": 227
        },
        {
         "id": "mof_unit_68842",
         "CO2_working_capacity [mL/g]": 195.02037048339844,
         "_deepnote_index_column": 228
        },
        {
         "id": "mof_unit_68843",
         "CO2_working_capacity [mL/g]": 62.20085144042969,
         "_deepnote_index_column": 229
        },
        {
         "id": "mof_unit_68844",
         "CO2_working_capacity [mL/g]": 188.05545043945312,
         "_deepnote_index_column": 230
        },
        {
         "id": "mof_unit_68845",
         "CO2_working_capacity [mL/g]": 54.66519546508789,
         "_deepnote_index_column": 231
        },
        {
         "id": "mof_unit_68846",
         "CO2_working_capacity [mL/g]": 63.98664093017578,
         "_deepnote_index_column": 232
        },
        {
         "id": "mof_unit_68847",
         "CO2_working_capacity [mL/g]": 157.2587127685547,
         "_deepnote_index_column": 233
        },
        {
         "id": "mof_unit_68848",
         "CO2_working_capacity [mL/g]": 161.428955078125,
         "_deepnote_index_column": 234
        },
        {
         "id": "mof_unit_68849",
         "CO2_working_capacity [mL/g]": 121.39822387695312,
         "_deepnote_index_column": 235
        },
        {
         "id": "mof_unit_68850",
         "CO2_working_capacity [mL/g]": 108.1173095703125,
         "_deepnote_index_column": 236
        },
        {
         "id": "mof_unit_68851",
         "CO2_working_capacity [mL/g]": 67.14161682128906,
         "_deepnote_index_column": 237
        },
        {
         "id": "mof_unit_68852",
         "CO2_working_capacity [mL/g]": 68.54518127441406,
         "_deepnote_index_column": 238
        },
        {
         "id": "mof_unit_68853",
         "CO2_working_capacity [mL/g]": 187.37640380859375,
         "_deepnote_index_column": 239
        },
        {
         "id": "mof_unit_68854",
         "CO2_working_capacity [mL/g]": 90.08590698242188,
         "_deepnote_index_column": 240
        },
        {
         "id": "mof_unit_68855",
         "CO2_working_capacity [mL/g]": 65.54298400878906,
         "_deepnote_index_column": 241
        },
        {
         "id": "mof_unit_68856",
         "CO2_working_capacity [mL/g]": 343.52947998046875,
         "_deepnote_index_column": 242
        },
        {
         "id": "mof_unit_68857",
         "CO2_working_capacity [mL/g]": 60.03178024291992,
         "_deepnote_index_column": 243
        },
        {
         "id": "mof_unit_68858",
         "CO2_working_capacity [mL/g]": 90.25166320800781,
         "_deepnote_index_column": 244
        },
        {
         "id": "mof_unit_68859",
         "CO2_working_capacity [mL/g]": 75.84638977050781,
         "_deepnote_index_column": 245
        },
        {
         "id": "mof_unit_68860",
         "CO2_working_capacity [mL/g]": 47.092742919921875,
         "_deepnote_index_column": 246
        },
        {
         "id": "mof_unit_68861",
         "CO2_working_capacity [mL/g]": 77.396728515625,
         "_deepnote_index_column": 247
        },
        {
         "id": "mof_unit_68862",
         "CO2_working_capacity [mL/g]": 225.67686462402344,
         "_deepnote_index_column": 248
        },
        {
         "id": "mof_unit_68863",
         "CO2_working_capacity [mL/g]": 80.83209991455078,
         "_deepnote_index_column": 249
        }
       ],
       "rows_bottom": [
        {
         "id": "mof_unit_85364",
         "CO2_working_capacity [mL/g]": 6.130265712738037,
         "_deepnote_index_column": 16750
        },
        {
         "id": "mof_unit_85365",
         "CO2_working_capacity [mL/g]": -1.1189024448394775,
         "_deepnote_index_column": 16751
        },
        {
         "id": "mof_unit_85366",
         "CO2_working_capacity [mL/g]": 1.3172228336334229,
         "_deepnote_index_column": 16752
        },
        {
         "id": "mof_unit_85367",
         "CO2_working_capacity [mL/g]": 4.431408882141113,
         "_deepnote_index_column": 16753
        },
        {
         "id": "mof_unit_85368",
         "CO2_working_capacity [mL/g]": 0.27291351556777954,
         "_deepnote_index_column": 16754
        },
        {
         "id": "mof_unit_85369",
         "CO2_working_capacity [mL/g]": 28.523378372192383,
         "_deepnote_index_column": 16755
        },
        {
         "id": "mof_unit_85370",
         "CO2_working_capacity [mL/g]": -0.5313640236854553,
         "_deepnote_index_column": 16756
        },
        {
         "id": "mof_unit_85371",
         "CO2_working_capacity [mL/g]": -3.2003586292266846,
         "_deepnote_index_column": 16757
        },
        {
         "id": "mof_unit_85372",
         "CO2_working_capacity [mL/g]": -0.8183065056800842,
         "_deepnote_index_column": 16758
        },
        {
         "id": "mof_unit_85373",
         "CO2_working_capacity [mL/g]": 1.6915655136108398,
         "_deepnote_index_column": 16759
        },
        {
         "id": "mof_unit_85374",
         "CO2_working_capacity [mL/g]": -2.331763982772827,
         "_deepnote_index_column": 16760
        },
        {
         "id": "mof_unit_85375",
         "CO2_working_capacity [mL/g]": 5.296008110046387,
         "_deepnote_index_column": 16761
        },
        {
         "id": "mof_unit_85376",
         "CO2_working_capacity [mL/g]": -3.98449969291687,
         "_deepnote_index_column": 16762
        },
        {
         "id": "mof_unit_85377",
         "CO2_working_capacity [mL/g]": 6.041581630706787,
         "_deepnote_index_column": 16763
        },
        {
         "id": "mof_unit_85378",
         "CO2_working_capacity [mL/g]": -1.376070261001587,
         "_deepnote_index_column": 16764
        },
        {
         "id": "mof_unit_85379",
         "CO2_working_capacity [mL/g]": -5.811624050140381,
         "_deepnote_index_column": 16765
        },
        {
         "id": "mof_unit_85380",
         "CO2_working_capacity [mL/g]": -2.2116997241973877,
         "_deepnote_index_column": 16766
        },
        {
         "id": "mof_unit_85381",
         "CO2_working_capacity [mL/g]": -12.581683158874512,
         "_deepnote_index_column": 16767
        },
        {
         "id": "mof_unit_85382",
         "CO2_working_capacity [mL/g]": -3.2784554958343506,
         "_deepnote_index_column": 16768
        },
        {
         "id": "mof_unit_85383",
         "CO2_working_capacity [mL/g]": 5.851912021636963,
         "_deepnote_index_column": 16769
        },
        {
         "id": "mof_unit_85384",
         "CO2_working_capacity [mL/g]": 7.749335289001465,
         "_deepnote_index_column": 16770
        },
        {
         "id": "mof_unit_85385",
         "CO2_working_capacity [mL/g]": 0.05439716577529907,
         "_deepnote_index_column": 16771
        },
        {
         "id": "mof_unit_85386",
         "CO2_working_capacity [mL/g]": 4.488329887390137,
         "_deepnote_index_column": 16772
        },
        {
         "id": "mof_unit_85387",
         "CO2_working_capacity [mL/g]": 3.4236562252044678,
         "_deepnote_index_column": 16773
        },
        {
         "id": "mof_unit_85388",
         "CO2_working_capacity [mL/g]": -4.77109956741333,
         "_deepnote_index_column": 16774
        },
        {
         "id": "mof_unit_85389",
         "CO2_working_capacity [mL/g]": 1.8171720504760742,
         "_deepnote_index_column": 16775
        },
        {
         "id": "mof_unit_85390",
         "CO2_working_capacity [mL/g]": -1.2808868885040283,
         "_deepnote_index_column": 16776
        },
        {
         "id": "mof_unit_85391",
         "CO2_working_capacity [mL/g]": 8.016519546508789,
         "_deepnote_index_column": 16777
        },
        {
         "id": "mof_unit_85392",
         "CO2_working_capacity [mL/g]": 0.2267710566520691,
         "_deepnote_index_column": 16778
        },
        {
         "id": "mof_unit_85393",
         "CO2_working_capacity [mL/g]": 21.913135528564453,
         "_deepnote_index_column": 16779
        },
        {
         "id": "mof_unit_85394",
         "CO2_working_capacity [mL/g]": -5.47905969619751,
         "_deepnote_index_column": 16780
        },
        {
         "id": "mof_unit_85395",
         "CO2_working_capacity [mL/g]": 3.28163743019104,
         "_deepnote_index_column": 16781
        },
        {
         "id": "mof_unit_85396",
         "CO2_working_capacity [mL/g]": 3.0521602630615234,
         "_deepnote_index_column": 16782
        },
        {
         "id": "mof_unit_85397",
         "CO2_working_capacity [mL/g]": -2.8922955989837646,
         "_deepnote_index_column": 16783
        },
        {
         "id": "mof_unit_85398",
         "CO2_working_capacity [mL/g]": -9.599620819091797,
         "_deepnote_index_column": 16784
        },
        {
         "id": "mof_unit_85399",
         "CO2_working_capacity [mL/g]": 1.924025058746338,
         "_deepnote_index_column": 16785
        },
        {
         "id": "mof_unit_85400",
         "CO2_working_capacity [mL/g]": -2.007167339324951,
         "_deepnote_index_column": 16786
        },
        {
         "id": "mof_unit_85401",
         "CO2_working_capacity [mL/g]": 5.968325138092041,
         "_deepnote_index_column": 16787
        },
        {
         "id": "mof_unit_85402",
         "CO2_working_capacity [mL/g]": -0.7165409922599792,
         "_deepnote_index_column": 16788
        },
        {
         "id": "mof_unit_85403",
         "CO2_working_capacity [mL/g]": 1.712103247642517,
         "_deepnote_index_column": 16789
        },
        {
         "id": "mof_unit_85404",
         "CO2_working_capacity [mL/g]": -4.516628742218018,
         "_deepnote_index_column": 16790
        },
        {
         "id": "mof_unit_85405",
         "CO2_working_capacity [mL/g]": 3.7443253993988037,
         "_deepnote_index_column": 16791
        },
        {
         "id": "mof_unit_85406",
         "CO2_working_capacity [mL/g]": -2.8223025798797607,
         "_deepnote_index_column": 16792
        },
        {
         "id": "mof_unit_85407",
         "CO2_working_capacity [mL/g]": -0.6199045777320862,
         "_deepnote_index_column": 16793
        },
        {
         "id": "mof_unit_85408",
         "CO2_working_capacity [mL/g]": -2.446258306503296,
         "_deepnote_index_column": 16794
        },
        {
         "id": "mof_unit_85409",
         "CO2_working_capacity [mL/g]": -2.2783000469207764,
         "_deepnote_index_column": 16795
        },
        {
         "id": "mof_unit_85410",
         "CO2_working_capacity [mL/g]": 4.648684024810791,
         "_deepnote_index_column": 16796
        },
        {
         "id": "mof_unit_85411",
         "CO2_working_capacity [mL/g]": 6.759377956390381,
         "_deepnote_index_column": 16797
        },
        {
         "id": "mof_unit_85412",
         "CO2_working_capacity [mL/g]": -7.133813858032227,
         "_deepnote_index_column": 16798
        },
        {
         "id": "mof_unit_85413",
         "CO2_working_capacity [mL/g]": 8.174531936645508,
         "_deepnote_index_column": 16799
        },
        {
         "id": "mof_unit_85414",
         "CO2_working_capacity [mL/g]": -5.715451717376709,
         "_deepnote_index_column": 16800
        },
        {
         "id": "mof_unit_85415",
         "CO2_working_capacity [mL/g]": 1.8492043018341064,
         "_deepnote_index_column": 16801
        },
        {
         "id": "mof_unit_85416",
         "CO2_working_capacity [mL/g]": -0.7514435648918152,
         "_deepnote_index_column": 16802
        },
        {
         "id": "mof_unit_85417",
         "CO2_working_capacity [mL/g]": 0.07697397470474243,
         "_deepnote_index_column": 16803
        },
        {
         "id": "mof_unit_85418",
         "CO2_working_capacity [mL/g]": -3.8117058277130127,
         "_deepnote_index_column": 16804
        },
        {
         "id": "mof_unit_85419",
         "CO2_working_capacity [mL/g]": 1.9545798301696777,
         "_deepnote_index_column": 16805
        },
        {
         "id": "mof_unit_85420",
         "CO2_working_capacity [mL/g]": -1.2624609470367432,
         "_deepnote_index_column": 16806
        },
        {
         "id": "mof_unit_85421",
         "CO2_working_capacity [mL/g]": -0.3483300805091858,
         "_deepnote_index_column": 16807
        },
        {
         "id": "mof_unit_85422",
         "CO2_working_capacity [mL/g]": -3.478867769241333,
         "_deepnote_index_column": 16808
        },
        {
         "id": "mof_unit_85423",
         "CO2_working_capacity [mL/g]": 3.450204372406006,
         "_deepnote_index_column": 16809
        },
        {
         "id": "mof_unit_85424",
         "CO2_working_capacity [mL/g]": 7.624664306640625,
         "_deepnote_index_column": 16810
        },
        {
         "id": "mof_unit_85425",
         "CO2_working_capacity [mL/g]": -0.3018513321876526,
         "_deepnote_index_column": 16811
        },
        {
         "id": "mof_unit_85426",
         "CO2_working_capacity [mL/g]": 1.0386567115783691,
         "_deepnote_index_column": 16812
        },
        {
         "id": "mof_unit_85427",
         "CO2_working_capacity [mL/g]": -0.613308846950531,
         "_deepnote_index_column": 16813
        },
        {
         "id": "mof_unit_85428",
         "CO2_working_capacity [mL/g]": 1.5371458530426025,
         "_deepnote_index_column": 16814
        },
        {
         "id": "mof_unit_85429",
         "CO2_working_capacity [mL/g]": 8.708013534545898,
         "_deepnote_index_column": 16815
        },
        {
         "id": "mof_unit_85430",
         "CO2_working_capacity [mL/g]": -2.7810323238372803,
         "_deepnote_index_column": 16816
        },
        {
         "id": "mof_unit_85431",
         "CO2_working_capacity [mL/g]": 5.050028324127197,
         "_deepnote_index_column": 16817
        },
        {
         "id": "mof_unit_85432",
         "CO2_working_capacity [mL/g]": -3.2048633098602295,
         "_deepnote_index_column": 16818
        },
        {
         "id": "mof_unit_85433",
         "CO2_working_capacity [mL/g]": -1.6483569145202637,
         "_deepnote_index_column": 16819
        },
        {
         "id": "mof_unit_85434",
         "CO2_working_capacity [mL/g]": -3.7429912090301514,
         "_deepnote_index_column": 16820
        },
        {
         "id": "mof_unit_85435",
         "CO2_working_capacity [mL/g]": 61.141849517822266,
         "_deepnote_index_column": 16821
        },
        {
         "id": "mof_unit_85436",
         "CO2_working_capacity [mL/g]": -4.441159248352051,
         "_deepnote_index_column": 16822
        },
        {
         "id": "mof_unit_85437",
         "CO2_working_capacity [mL/g]": 1.1367919445037842,
         "_deepnote_index_column": 16823
        },
        {
         "id": "mof_unit_85438",
         "CO2_working_capacity [mL/g]": -6.940598964691162,
         "_deepnote_index_column": 16824
        },
        {
         "id": "mof_unit_85439",
         "CO2_working_capacity [mL/g]": 19.509977340698242,
         "_deepnote_index_column": 16825
        },
        {
         "id": "mof_unit_85440",
         "CO2_working_capacity [mL/g]": 1.550469160079956,
         "_deepnote_index_column": 16826
        },
        {
         "id": "mof_unit_85441",
         "CO2_working_capacity [mL/g]": -1.0070981979370117,
         "_deepnote_index_column": 16827
        },
        {
         "id": "mof_unit_85442",
         "CO2_working_capacity [mL/g]": -1.3477704524993896,
         "_deepnote_index_column": 16828
        },
        {
         "id": "mof_unit_85443",
         "CO2_working_capacity [mL/g]": 19.132139205932617,
         "_deepnote_index_column": 16829
        },
        {
         "id": "mof_unit_85444",
         "CO2_working_capacity [mL/g]": -4.86310338973999,
         "_deepnote_index_column": 16830
        },
        {
         "id": "mof_unit_85445",
         "CO2_working_capacity [mL/g]": 5.961122989654541,
         "_deepnote_index_column": 16831
        },
        {
         "id": "mof_unit_85446",
         "CO2_working_capacity [mL/g]": -4.413637638092041,
         "_deepnote_index_column": 16832
        },
        {
         "id": "mof_unit_85447",
         "CO2_working_capacity [mL/g]": 2.445228338241577,
         "_deepnote_index_column": 16833
        },
        {
         "id": "mof_unit_85448",
         "CO2_working_capacity [mL/g]": 3.43536376953125,
         "_deepnote_index_column": 16834
        },
        {
         "id": "mof_unit_85449",
         "CO2_working_capacity [mL/g]": -4.6022047996521,
         "_deepnote_index_column": 16835
        },
        {
         "id": "mof_unit_85450",
         "CO2_working_capacity [mL/g]": 32.71628952026367,
         "_deepnote_index_column": 16836
        },
        {
         "id": "mof_unit_85451",
         "CO2_working_capacity [mL/g]": -2.166999101638794,
         "_deepnote_index_column": 16837
        },
        {
         "id": "mof_unit_85452",
         "CO2_working_capacity [mL/g]": -7.896331310272217,
         "_deepnote_index_column": 16838
        },
        {
         "id": "mof_unit_85453",
         "CO2_working_capacity [mL/g]": 3.9416568279266357,
         "_deepnote_index_column": 16839
        },
        {
         "id": "mof_unit_85454",
         "CO2_working_capacity [mL/g]": -13.250471115112305,
         "_deepnote_index_column": 16840
        },
        {
         "id": "mof_unit_85455",
         "CO2_working_capacity [mL/g]": -4.986219882965088,
         "_deepnote_index_column": 16841
        },
        {
         "id": "mof_unit_85456",
         "CO2_working_capacity [mL/g]": 1.948190450668335,
         "_deepnote_index_column": 16842
        },
        {
         "id": "mof_unit_85457",
         "CO2_working_capacity [mL/g]": -3.7352373600006104,
         "_deepnote_index_column": 16843
        },
        {
         "id": "mof_unit_85458",
         "CO2_working_capacity [mL/g]": -2.635479688644409,
         "_deepnote_index_column": 16844
        },
        {
         "id": "mof_unit_85459",
         "CO2_working_capacity [mL/g]": 1.9406538009643555,
         "_deepnote_index_column": 16845
        },
        {
         "id": "mof_unit_85460",
         "CO2_working_capacity [mL/g]": 1.754368543624878,
         "_deepnote_index_column": 16846
        },
        {
         "id": "mof_unit_85461",
         "CO2_working_capacity [mL/g]": -3.438593626022339,
         "_deepnote_index_column": 16847
        },
        {
         "id": "mof_unit_85462",
         "CO2_working_capacity [mL/g]": -1.1117095947265625,
         "_deepnote_index_column": 16848
        },
        {
         "id": "mof_unit_85463",
         "CO2_working_capacity [mL/g]": -0.6076851487159729,
         "_deepnote_index_column": 16849
        },
        {
         "id": "mof_unit_85464",
         "CO2_working_capacity [mL/g]": -4.794656276702881,
         "_deepnote_index_column": 16850
        },
        {
         "id": "mof_unit_85465",
         "CO2_working_capacity [mL/g]": -1.0170719623565674,
         "_deepnote_index_column": 16851
        },
        {
         "id": "mof_unit_85466",
         "CO2_working_capacity [mL/g]": -1.1298716068267822,
         "_deepnote_index_column": 16852
        },
        {
         "id": "mof_unit_85467",
         "CO2_working_capacity [mL/g]": -3.6763556003570557,
         "_deepnote_index_column": 16853
        },
        {
         "id": "mof_unit_85468",
         "CO2_working_capacity [mL/g]": 4.350395202636719,
         "_deepnote_index_column": 16854
        },
        {
         "id": "mof_unit_85469",
         "CO2_working_capacity [mL/g]": -3.553504705429077,
         "_deepnote_index_column": 16855
        },
        {
         "id": "mof_unit_85470",
         "CO2_working_capacity [mL/g]": 0.9171413779258728,
         "_deepnote_index_column": 16856
        },
        {
         "id": "mof_unit_85471",
         "CO2_working_capacity [mL/g]": -1.1723933219909668,
         "_deepnote_index_column": 16857
        },
        {
         "id": "mof_unit_85472",
         "CO2_working_capacity [mL/g]": 0.8089171051979065,
         "_deepnote_index_column": 16858
        },
        {
         "id": "mof_unit_85473",
         "CO2_working_capacity [mL/g]": 0.7961373925209045,
         "_deepnote_index_column": 16859
        },
        {
         "id": "mof_unit_85474",
         "CO2_working_capacity [mL/g]": -0.5010395646095276,
         "_deepnote_index_column": 16860
        },
        {
         "id": "mof_unit_85475",
         "CO2_working_capacity [mL/g]": 14.368575096130371,
         "_deepnote_index_column": 16861
        },
        {
         "id": "mof_unit_85476",
         "CO2_working_capacity [mL/g]": 3.8109655380249023,
         "_deepnote_index_column": 16862
        },
        {
         "id": "mof_unit_85477",
         "CO2_working_capacity [mL/g]": 11.499585151672363,
         "_deepnote_index_column": 16863
        },
        {
         "id": "mof_unit_85478",
         "CO2_working_capacity [mL/g]": 6.267734050750732,
         "_deepnote_index_column": 16864
        },
        {
         "id": "mof_unit_85479",
         "CO2_working_capacity [mL/g]": -0.9613804221153259,
         "_deepnote_index_column": 16865
        },
        {
         "id": "mof_unit_85480",
         "CO2_working_capacity [mL/g]": 4.134748935699463,
         "_deepnote_index_column": 16866
        },
        {
         "id": "mof_unit_85481",
         "CO2_working_capacity [mL/g]": 4.8161492347717285,
         "_deepnote_index_column": 16867
        },
        {
         "id": "mof_unit_85482",
         "CO2_working_capacity [mL/g]": 4.820802211761475,
         "_deepnote_index_column": 16868
        },
        {
         "id": "mof_unit_85483",
         "CO2_working_capacity [mL/g]": 2.682799816131592,
         "_deepnote_index_column": 16869
        },
        {
         "id": "mof_unit_85484",
         "CO2_working_capacity [mL/g]": -4.673416614532471,
         "_deepnote_index_column": 16870
        },
        {
         "id": "mof_unit_85485",
         "CO2_working_capacity [mL/g]": 1.126152753829956,
         "_deepnote_index_column": 16871
        },
        {
         "id": "mof_unit_85486",
         "CO2_working_capacity [mL/g]": -3.112459897994995,
         "_deepnote_index_column": 16872
        },
        {
         "id": "mof_unit_85487",
         "CO2_working_capacity [mL/g]": -0.6079819798469543,
         "_deepnote_index_column": 16873
        },
        {
         "id": "mof_unit_85488",
         "CO2_working_capacity [mL/g]": -2.5524661540985107,
         "_deepnote_index_column": 16874
        },
        {
         "id": "mof_unit_85489",
         "CO2_working_capacity [mL/g]": -6.245086193084717,
         "_deepnote_index_column": 16875
        },
        {
         "id": "mof_unit_85490",
         "CO2_working_capacity [mL/g]": 0.9630997776985168,
         "_deepnote_index_column": 16876
        },
        {
         "id": "mof_unit_85491",
         "CO2_working_capacity [mL/g]": 1.182302713394165,
         "_deepnote_index_column": 16877
        },
        {
         "id": "mof_unit_85492",
         "CO2_working_capacity [mL/g]": -6.7797627449035645,
         "_deepnote_index_column": 16878
        },
        {
         "id": "mof_unit_85493",
         "CO2_working_capacity [mL/g]": 6.432835102081299,
         "_deepnote_index_column": 16879
        },
        {
         "id": "mof_unit_85494",
         "CO2_working_capacity [mL/g]": -5.855220317840576,
         "_deepnote_index_column": 16880
        },
        {
         "id": "mof_unit_85495",
         "CO2_working_capacity [mL/g]": 5.3073272705078125,
         "_deepnote_index_column": 16881
        },
        {
         "id": "mof_unit_85496",
         "CO2_working_capacity [mL/g]": 2.730633020401001,
         "_deepnote_index_column": 16882
        },
        {
         "id": "mof_unit_85497",
         "CO2_working_capacity [mL/g]": -12.959186553955078,
         "_deepnote_index_column": 16883
        },
        {
         "id": "mof_unit_85498",
         "CO2_working_capacity [mL/g]": 0.0665508508682251,
         "_deepnote_index_column": 16884
        },
        {
         "id": "mof_unit_85499",
         "CO2_working_capacity [mL/g]": -4.0070881843566895,
         "_deepnote_index_column": 16885
        },
        {
         "id": "mof_unit_85500",
         "CO2_working_capacity [mL/g]": -2.902409076690674,
         "_deepnote_index_column": 16886
        },
        {
         "id": "mof_unit_85501",
         "CO2_working_capacity [mL/g]": 4.300570487976074,
         "_deepnote_index_column": 16887
        },
        {
         "id": "mof_unit_85502",
         "CO2_working_capacity [mL/g]": 2.2385785579681396,
         "_deepnote_index_column": 16888
        },
        {
         "id": "mof_unit_85503",
         "CO2_working_capacity [mL/g]": -0.47753649950027466,
         "_deepnote_index_column": 16889
        },
        {
         "id": "mof_unit_85504",
         "CO2_working_capacity [mL/g]": -2.9937000274658203,
         "_deepnote_index_column": 16890
        },
        {
         "id": "mof_unit_85505",
         "CO2_working_capacity [mL/g]": -1.9385523796081543,
         "_deepnote_index_column": 16891
        },
        {
         "id": "mof_unit_85506",
         "CO2_working_capacity [mL/g]": -3.4033968448638916,
         "_deepnote_index_column": 16892
        },
        {
         "id": "mof_unit_85507",
         "CO2_working_capacity [mL/g]": 8.883322715759277,
         "_deepnote_index_column": 16893
        },
        {
         "id": "mof_unit_85508",
         "CO2_working_capacity [mL/g]": 2.2154574394226074,
         "_deepnote_index_column": 16894
        },
        {
         "id": "mof_unit_85509",
         "CO2_working_capacity [mL/g]": -0.25203174352645874,
         "_deepnote_index_column": 16895
        },
        {
         "id": "mof_unit_85510",
         "CO2_working_capacity [mL/g]": 2.190065860748291,
         "_deepnote_index_column": 16896
        },
        {
         "id": "mof_unit_85511",
         "CO2_working_capacity [mL/g]": 0.4814937710762024,
         "_deepnote_index_column": 16897
        },
        {
         "id": "mof_unit_85512",
         "CO2_working_capacity [mL/g]": -0.9521616101264954,
         "_deepnote_index_column": 16898
        },
        {
         "id": "mof_unit_85513",
         "CO2_working_capacity [mL/g]": 4.443886756896973,
         "_deepnote_index_column": 16899
        },
        {
         "id": "mof_unit_85514",
         "CO2_working_capacity [mL/g]": -0.02004915475845337,
         "_deepnote_index_column": 16900
        },
        {
         "id": "mof_unit_85515",
         "CO2_working_capacity [mL/g]": -5.146936893463135,
         "_deepnote_index_column": 16901
        },
        {
         "id": "mof_unit_85516",
         "CO2_working_capacity [mL/g]": -12.300354957580566,
         "_deepnote_index_column": 16902
        },
        {
         "id": "mof_unit_85517",
         "CO2_working_capacity [mL/g]": 0.1164904236793518,
         "_deepnote_index_column": 16903
        },
        {
         "id": "mof_unit_85518",
         "CO2_working_capacity [mL/g]": -3.708446741104126,
         "_deepnote_index_column": 16904
        },
        {
         "id": "mof_unit_85519",
         "CO2_working_capacity [mL/g]": -3.7341339588165283,
         "_deepnote_index_column": 16905
        },
        {
         "id": "mof_unit_85520",
         "CO2_working_capacity [mL/g]": -5.012712001800537,
         "_deepnote_index_column": 16906
        },
        {
         "id": "mof_unit_85521",
         "CO2_working_capacity [mL/g]": 5.9713826179504395,
         "_deepnote_index_column": 16907
        },
        {
         "id": "mof_unit_85522",
         "CO2_working_capacity [mL/g]": -2.671280860900879,
         "_deepnote_index_column": 16908
        },
        {
         "id": "mof_unit_85523",
         "CO2_working_capacity [mL/g]": 7.502668380737305,
         "_deepnote_index_column": 16909
        },
        {
         "id": "mof_unit_85524",
         "CO2_working_capacity [mL/g]": -6.314917087554932,
         "_deepnote_index_column": 16910
        },
        {
         "id": "mof_unit_85525",
         "CO2_working_capacity [mL/g]": -13.495243072509766,
         "_deepnote_index_column": 16911
        },
        {
         "id": "mof_unit_85526",
         "CO2_working_capacity [mL/g]": 0.4366897940635681,
         "_deepnote_index_column": 16912
        },
        {
         "id": "mof_unit_85527",
         "CO2_working_capacity [mL/g]": -4.499448299407959,
         "_deepnote_index_column": 16913
        },
        {
         "id": "mof_unit_85528",
         "CO2_working_capacity [mL/g]": -4.8738179206848145,
         "_deepnote_index_column": 16914
        },
        {
         "id": "mof_unit_85529",
         "CO2_working_capacity [mL/g]": 0.18296605348587036,
         "_deepnote_index_column": 16915
        },
        {
         "id": "mof_unit_85530",
         "CO2_working_capacity [mL/g]": 1.4875608682632446,
         "_deepnote_index_column": 16916
        },
        {
         "id": "mof_unit_85531",
         "CO2_working_capacity [mL/g]": 2.6763460636138916,
         "_deepnote_index_column": 16917
        },
        {
         "id": "mof_unit_85532",
         "CO2_working_capacity [mL/g]": 5.2657341957092285,
         "_deepnote_index_column": 16918
        },
        {
         "id": "mof_unit_85533",
         "CO2_working_capacity [mL/g]": 0.059506118297576904,
         "_deepnote_index_column": 16919
        },
        {
         "id": "mof_unit_85534",
         "CO2_working_capacity [mL/g]": 23.666833877563477,
         "_deepnote_index_column": 16920
        },
        {
         "id": "mof_unit_85535",
         "CO2_working_capacity [mL/g]": 0.10219818353652954,
         "_deepnote_index_column": 16921
        },
        {
         "id": "mof_unit_85536",
         "CO2_working_capacity [mL/g]": 3.6480815410614014,
         "_deepnote_index_column": 16922
        },
        {
         "id": "mof_unit_85537",
         "CO2_working_capacity [mL/g]": -3.913912534713745,
         "_deepnote_index_column": 16923
        },
        {
         "id": "mof_unit_85538",
         "CO2_working_capacity [mL/g]": 0.22020238637924194,
         "_deepnote_index_column": 16924
        },
        {
         "id": "mof_unit_85539",
         "CO2_working_capacity [mL/g]": -4.561471462249756,
         "_deepnote_index_column": 16925
        },
        {
         "id": "mof_unit_85540",
         "CO2_working_capacity [mL/g]": -0.18706363439559937,
         "_deepnote_index_column": 16926
        },
        {
         "id": "mof_unit_85541",
         "CO2_working_capacity [mL/g]": 1.5317151546478271,
         "_deepnote_index_column": 16927
        },
        {
         "id": "mof_unit_85542",
         "CO2_working_capacity [mL/g]": -1.0063822269439697,
         "_deepnote_index_column": 16928
        },
        {
         "id": "mof_unit_85543",
         "CO2_working_capacity [mL/g]": -1.5054681301116943,
         "_deepnote_index_column": 16929
        },
        {
         "id": "mof_unit_85544",
         "CO2_working_capacity [mL/g]": 0.01577305793762207,
         "_deepnote_index_column": 16930
        },
        {
         "id": "mof_unit_85545",
         "CO2_working_capacity [mL/g]": -0.620762050151825,
         "_deepnote_index_column": 16931
        },
        {
         "id": "mof_unit_85546",
         "CO2_working_capacity [mL/g]": -4.822564125061035,
         "_deepnote_index_column": 16932
        },
        {
         "id": "mof_unit_85547",
         "CO2_working_capacity [mL/g]": 0.7060838341712952,
         "_deepnote_index_column": 16933
        },
        {
         "id": "mof_unit_85548",
         "CO2_working_capacity [mL/g]": 53.246829986572266,
         "_deepnote_index_column": 16934
        },
        {
         "id": "mof_unit_85549",
         "CO2_working_capacity [mL/g]": -2.222959280014038,
         "_deepnote_index_column": 16935
        },
        {
         "id": "mof_unit_85550",
         "CO2_working_capacity [mL/g]": -7.543412685394287,
         "_deepnote_index_column": 16936
        },
        {
         "id": "mof_unit_85551",
         "CO2_working_capacity [mL/g]": -5.413205623626709,
         "_deepnote_index_column": 16937
        },
        {
         "id": "mof_unit_85552",
         "CO2_working_capacity [mL/g]": -6.689453601837158,
         "_deepnote_index_column": 16938
        },
        {
         "id": "mof_unit_85553",
         "CO2_working_capacity [mL/g]": -1.0386362075805664,
         "_deepnote_index_column": 16939
        },
        {
         "id": "mof_unit_85554",
         "CO2_working_capacity [mL/g]": 16.341585159301758,
         "_deepnote_index_column": 16940
        },
        {
         "id": "mof_unit_85555",
         "CO2_working_capacity [mL/g]": 20.610448837280273,
         "_deepnote_index_column": 16941
        },
        {
         "id": "mof_unit_85556",
         "CO2_working_capacity [mL/g]": 9.344038009643555,
         "_deepnote_index_column": 16942
        },
        {
         "id": "mof_unit_85557",
         "CO2_working_capacity [mL/g]": 1.6604576110839844,
         "_deepnote_index_column": 16943
        },
        {
         "id": "mof_unit_85558",
         "CO2_working_capacity [mL/g]": -3.693493127822876,
         "_deepnote_index_column": 16944
        },
        {
         "id": "mof_unit_85559",
         "CO2_working_capacity [mL/g]": -8.113015174865723,
         "_deepnote_index_column": 16945
        },
        {
         "id": "mof_unit_85560",
         "CO2_working_capacity [mL/g]": -6.741818904876709,
         "_deepnote_index_column": 16946
        },
        {
         "id": "mof_unit_85561",
         "CO2_working_capacity [mL/g]": -1.3430867195129395,
         "_deepnote_index_column": 16947
        },
        {
         "id": "mof_unit_85562",
         "CO2_working_capacity [mL/g]": 13.207932472229004,
         "_deepnote_index_column": 16948
        },
        {
         "id": "mof_unit_85563",
         "CO2_working_capacity [mL/g]": -1.7668399810791016,
         "_deepnote_index_column": 16949
        },
        {
         "id": "mof_unit_85564",
         "CO2_working_capacity [mL/g]": 3.0013163089752197,
         "_deepnote_index_column": 16950
        },
        {
         "id": "mof_unit_85565",
         "CO2_working_capacity [mL/g]": -0.04661452770233154,
         "_deepnote_index_column": 16951
        },
        {
         "id": "mof_unit_85566",
         "CO2_working_capacity [mL/g]": -2.504887104034424,
         "_deepnote_index_column": 16952
        },
        {
         "id": "mof_unit_85567",
         "CO2_working_capacity [mL/g]": -6.547055244445801,
         "_deepnote_index_column": 16953
        },
        {
         "id": "mof_unit_85568",
         "CO2_working_capacity [mL/g]": -6.445765972137451,
         "_deepnote_index_column": 16954
        },
        {
         "id": "mof_unit_85569",
         "CO2_working_capacity [mL/g]": -2.0164146423339844,
         "_deepnote_index_column": 16955
        },
        {
         "id": "mof_unit_85570",
         "CO2_working_capacity [mL/g]": -3.770615816116333,
         "_deepnote_index_column": 16956
        },
        {
         "id": "mof_unit_85571",
         "CO2_working_capacity [mL/g]": 3.5401313304901123,
         "_deepnote_index_column": 16957
        },
        {
         "id": "mof_unit_85572",
         "CO2_working_capacity [mL/g]": -0.4060845971107483,
         "_deepnote_index_column": 16958
        },
        {
         "id": "mof_unit_85573",
         "CO2_working_capacity [mL/g]": 0.9691932201385498,
         "_deepnote_index_column": 16959
        },
        {
         "id": "mof_unit_85574",
         "CO2_working_capacity [mL/g]": 2.7325055599212646,
         "_deepnote_index_column": 16960
        },
        {
         "id": "mof_unit_85575",
         "CO2_working_capacity [mL/g]": 66.6500015258789,
         "_deepnote_index_column": 16961
        },
        {
         "id": "mof_unit_85576",
         "CO2_working_capacity [mL/g]": 0.5144045948982239,
         "_deepnote_index_column": 16962
        },
        {
         "id": "mof_unit_85577",
         "CO2_working_capacity [mL/g]": 10.165278434753418,
         "_deepnote_index_column": 16963
        },
        {
         "id": "mof_unit_85578",
         "CO2_working_capacity [mL/g]": -5.9731669425964355,
         "_deepnote_index_column": 16964
        },
        {
         "id": "mof_unit_85579",
         "CO2_working_capacity [mL/g]": -2.0505707263946533,
         "_deepnote_index_column": 16965
        },
        {
         "id": "mof_unit_85580",
         "CO2_working_capacity [mL/g]": -1.694291591644287,
         "_deepnote_index_column": 16966
        },
        {
         "id": "mof_unit_85581",
         "CO2_working_capacity [mL/g]": 30.246816635131836,
         "_deepnote_index_column": 16967
        },
        {
         "id": "mof_unit_85582",
         "CO2_working_capacity [mL/g]": -3.9878437519073486,
         "_deepnote_index_column": 16968
        },
        {
         "id": "mof_unit_85583",
         "CO2_working_capacity [mL/g]": 3.9526169300079346,
         "_deepnote_index_column": 16969
        },
        {
         "id": "mof_unit_85584",
         "CO2_working_capacity [mL/g]": -0.36206716299057007,
         "_deepnote_index_column": 16970
        },
        {
         "id": "mof_unit_85585",
         "CO2_working_capacity [mL/g]": 0.7528355717658997,
         "_deepnote_index_column": 16971
        },
        {
         "id": "mof_unit_85586",
         "CO2_working_capacity [mL/g]": -13.348748207092285,
         "_deepnote_index_column": 16972
        },
        {
         "id": "mof_unit_85587",
         "CO2_working_capacity [mL/g]": 0.9072366952896118,
         "_deepnote_index_column": 16973
        },
        {
         "id": "mof_unit_85588",
         "CO2_working_capacity [mL/g]": 0.4581342339515686,
         "_deepnote_index_column": 16974
        },
        {
         "id": "mof_unit_85589",
         "CO2_working_capacity [mL/g]": -6.933553218841553,
         "_deepnote_index_column": 16975
        },
        {
         "id": "mof_unit_85590",
         "CO2_working_capacity [mL/g]": -2.8235862255096436,
         "_deepnote_index_column": 16976
        },
        {
         "id": "mof_unit_85591",
         "CO2_working_capacity [mL/g]": -8.277194023132324,
         "_deepnote_index_column": 16977
        },
        {
         "id": "mof_unit_85592",
         "CO2_working_capacity [mL/g]": -2.028167724609375,
         "_deepnote_index_column": 16978
        },
        {
         "id": "mof_unit_85593",
         "CO2_working_capacity [mL/g]": 11.062969207763672,
         "_deepnote_index_column": 16979
        },
        {
         "id": "mof_unit_85594",
         "CO2_working_capacity [mL/g]": 3.467484951019287,
         "_deepnote_index_column": 16980
        },
        {
         "id": "mof_unit_85595",
         "CO2_working_capacity [mL/g]": 2.49070143699646,
         "_deepnote_index_column": 16981
        },
        {
         "id": "mof_unit_85596",
         "CO2_working_capacity [mL/g]": -0.7702557444572449,
         "_deepnote_index_column": 16982
        },
        {
         "id": "mof_unit_85597",
         "CO2_working_capacity [mL/g]": -1.6585729122161865,
         "_deepnote_index_column": 16983
        },
        {
         "id": "mof_unit_85598",
         "CO2_working_capacity [mL/g]": 3.57629132270813,
         "_deepnote_index_column": 16984
        },
        {
         "id": "mof_unit_85599",
         "CO2_working_capacity [mL/g]": 8.897098541259766,
         "_deepnote_index_column": 16985
        },
        {
         "id": "mof_unit_85600",
         "CO2_working_capacity [mL/g]": 5.344003200531006,
         "_deepnote_index_column": 16986
        },
        {
         "id": "mof_unit_85601",
         "CO2_working_capacity [mL/g]": 0.4809807538986206,
         "_deepnote_index_column": 16987
        },
        {
         "id": "mof_unit_85602",
         "CO2_working_capacity [mL/g]": 1.3622875213623047,
         "_deepnote_index_column": 16988
        },
        {
         "id": "mof_unit_85603",
         "CO2_working_capacity [mL/g]": -1.3270933628082275,
         "_deepnote_index_column": 16989
        },
        {
         "id": "mof_unit_85604",
         "CO2_working_capacity [mL/g]": 3.701061487197876,
         "_deepnote_index_column": 16990
        },
        {
         "id": "mof_unit_85605",
         "CO2_working_capacity [mL/g]": 3.5475564002990723,
         "_deepnote_index_column": 16991
        },
        {
         "id": "mof_unit_85606",
         "CO2_working_capacity [mL/g]": -1.9206464290618896,
         "_deepnote_index_column": 16992
        },
        {
         "id": "mof_unit_85607",
         "CO2_working_capacity [mL/g]": -2.161142110824585,
         "_deepnote_index_column": 16993
        },
        {
         "id": "mof_unit_85608",
         "CO2_working_capacity [mL/g]": -2.4287490844726562,
         "_deepnote_index_column": 16994
        },
        {
         "id": "mof_unit_85609",
         "CO2_working_capacity [mL/g]": -5.46884822845459,
         "_deepnote_index_column": 16995
        },
        {
         "id": "mof_unit_85610",
         "CO2_working_capacity [mL/g]": 1.1266520023345947,
         "_deepnote_index_column": 16996
        },
        {
         "id": "mof_unit_85611",
         "CO2_working_capacity [mL/g]": 0.6937201023101807,
         "_deepnote_index_column": 16997
        },
        {
         "id": "mof_unit_85612",
         "CO2_working_capacity [mL/g]": -1.035078763961792,
         "_deepnote_index_column": 16998
        },
        {
         "id": "mof_unit_85613",
         "CO2_working_capacity [mL/g]": -5.552055835723877,
         "_deepnote_index_column": 16999
        }
       ]
      },
      "text/plain": "                   id  CO2_working_capacity [mL/g]\n0      mof_unit_68614                   189.582077\n1      mof_unit_68615                    62.033276\n2      mof_unit_68616                    75.945396\n3      mof_unit_68617                    57.636391\n4      mof_unit_68618                    59.414783\n...               ...                          ...\n16995  mof_unit_85609                    -5.468848\n16996  mof_unit_85610                     1.126652\n16997  mof_unit_85611                     0.693720\n16998  mof_unit_85612                    -1.035079\n16999  mof_unit_85613                    -5.552056\n\n[17000 rows x 2 columns]",
      "text/html": "<div>\n<style scoped>\n    .dataframe tbody tr th:only-of-type {\n        vertical-align: middle;\n    }\n\n    .dataframe tbody tr th {\n        vertical-align: top;\n    }\n\n    .dataframe thead th {\n        text-align: right;\n    }\n</style>\n<table border=\"1\" class=\"dataframe\">\n  <thead>\n    <tr style=\"text-align: right;\">\n      <th></th>\n      <th>id</th>\n      <th>CO2_working_capacity [mL/g]</th>\n    </tr>\n  </thead>\n  <tbody>\n    <tr>\n      <th>0</th>\n      <td>mof_unit_68614</td>\n      <td>189.582077</td>\n    </tr>\n    <tr>\n      <th>1</th>\n      <td>mof_unit_68615</td>\n      <td>62.033276</td>\n    </tr>\n    <tr>\n      <th>2</th>\n      <td>mof_unit_68616</td>\n      <td>75.945396</td>\n    </tr>\n    <tr>\n      <th>3</th>\n      <td>mof_unit_68617</td>\n      <td>57.636391</td>\n    </tr>\n    <tr>\n      <th>4</th>\n      <td>mof_unit_68618</td>\n      <td>59.414783</td>\n    </tr>\n    <tr>\n      <th>...</th>\n      <td>...</td>\n      <td>...</td>\n    </tr>\n    <tr>\n      <th>16995</th>\n      <td>mof_unit_85609</td>\n      <td>-5.468848</td>\n    </tr>\n    <tr>\n      <th>16996</th>\n      <td>mof_unit_85610</td>\n      <td>1.126652</td>\n    </tr>\n    <tr>\n      <th>16997</th>\n      <td>mof_unit_85611</td>\n      <td>0.693720</td>\n    </tr>\n    <tr>\n      <th>16998</th>\n      <td>mof_unit_85612</td>\n      <td>-1.035079</td>\n    </tr>\n    <tr>\n      <th>16999</th>\n      <td>mof_unit_85613</td>\n      <td>-5.552056</td>\n    </tr>\n  </tbody>\n</table>\n<p>17000 rows × 2 columns</p>\n</div>"
     },
     "metadata": {}
    }
   ],
   "execution_count": null
  },
  {
   "cell_type": "code",
   "metadata": {
    "tags": [],
    "cell_id": "00012-fc60ebe3-76ba-41c3-b07c-f8ad8a3a3469",
    "deepnote_to_be_reexecuted": false,
    "source_hash": "b3367c10",
    "execution_start": 1634297061390,
    "execution_millis": 15,
    "deepnote_cell_type": "code"
   },
   "source": "df['id'] = df['id'].apply(lambda x:x.replace(\"mof_unit_\",\"\"))",
   "outputs": [],
   "execution_count": null
  },
  {
   "cell_type": "code",
   "metadata": {
    "tags": [],
    "cell_id": "00016-91816f8f-4e20-49ed-807f-5daca0dca490",
    "deepnote_to_be_reexecuted": false,
    "source_hash": "b00377d5",
    "execution_start": 1634297074582,
    "execution_millis": 1109,
    "deepnote_cell_type": "code"
   },
   "source": "df.to_csv('submission.csv',index=False)",
   "outputs": [],
   "execution_count": null
  },
  {
   "cell_type": "code",
   "metadata": {
    "tags": [],
    "cell_id": "00044-be1f9f73-0d00-4440-ada8-64f6d82a9a11",
    "deepnote_to_be_reexecuted": false,
    "source_hash": "f804c160",
    "execution_start": 1634297064695,
    "execution_millis": 99,
    "deepnote_cell_type": "code"
   },
   "source": "df",
   "outputs": [
    {
     "output_type": "execute_result",
     "execution_count": 37,
     "data": {
      "application/vnd.deepnote.dataframe.v2+json": {
       "row_count": 17000,
       "column_count": 2,
       "columns": [
        {
         "name": "id",
         "dtype": "object",
         "stats": {
          "unique_count": 17000,
          "nan_count": 0,
          "categories": [
           {
            "name": "68614",
            "count": 1
           },
           {
            "name": "68615",
            "count": 1
           },
           {
            "name": "16998 others",
            "count": 16998
           }
          ]
         }
        },
        {
         "name": "CO2_working_capacity [mL/g]",
         "dtype": "float32",
         "stats": {
          "unique_count": 16998,
          "nan_count": 0,
          "min": "-14.000459671020508",
          "max": "1148.1121826171875",
          "histogram": [
           {
            "bin_start": -14.000459671020508,
            "bin_end": 102.21080780029297,
            "count": 10084
           },
           {
            "bin_start": 102.21080780029297,
            "bin_end": 218.4220733642578,
            "count": 5387
           },
           {
            "bin_start": 218.4220733642578,
            "bin_end": 334.6333312988281,
            "count": 1237
           },
           {
            "bin_start": 334.6333312988281,
            "bin_end": 450.8446044921875,
            "count": 251
           },
           {
            "bin_start": 450.8446044921875,
            "bin_end": 567.0558471679688,
            "count": 38
           },
           {
            "bin_start": 567.0558471679688,
            "bin_end": 683.2671508789062,
            "count": 0
           },
           {
            "bin_start": 683.2671508789062,
            "bin_end": 799.4783935546875,
            "count": 1
           },
           {
            "bin_start": 799.4783935546875,
            "bin_end": 915.6896362304688,
            "count": 0
           },
           {
            "bin_start": 915.6896362304688,
            "bin_end": 1031.90087890625,
            "count": 1
           },
           {
            "bin_start": 1031.90087890625,
            "bin_end": 1148.1121826171875,
            "count": 1
           }
          ]
         }
        },
        {
         "name": "_deepnote_index_column",
         "dtype": "int64"
        }
       ],
       "rows_top": [
        {
         "id": "68614",
         "CO2_working_capacity [mL/g]": 190.73182678222656,
         "_deepnote_index_column": 0
        },
        {
         "id": "68615",
         "CO2_working_capacity [mL/g]": 59.756839752197266,
         "_deepnote_index_column": 1
        },
        {
         "id": "68616",
         "CO2_working_capacity [mL/g]": 73.33140563964844,
         "_deepnote_index_column": 2
        },
        {
         "id": "68617",
         "CO2_working_capacity [mL/g]": 58.99152374267578,
         "_deepnote_index_column": 3
        },
        {
         "id": "68618",
         "CO2_working_capacity [mL/g]": 58.01631546020508,
         "_deepnote_index_column": 4
        },
        {
         "id": "68619",
         "CO2_working_capacity [mL/g]": 71.52075958251953,
         "_deepnote_index_column": 5
        },
        {
         "id": "68620",
         "CO2_working_capacity [mL/g]": 148.59458923339844,
         "_deepnote_index_column": 6
        },
        {
         "id": "68621",
         "CO2_working_capacity [mL/g]": 183.6660919189453,
         "_deepnote_index_column": 7
        },
        {
         "id": "68622",
         "CO2_working_capacity [mL/g]": 73.54951477050781,
         "_deepnote_index_column": 8
        },
        {
         "id": "68623",
         "CO2_working_capacity [mL/g]": 167.6035919189453,
         "_deepnote_index_column": 9
        },
        {
         "id": "68624",
         "CO2_working_capacity [mL/g]": 58.931339263916016,
         "_deepnote_index_column": 10
        },
        {
         "id": "68625",
         "CO2_working_capacity [mL/g]": 76.76349639892578,
         "_deepnote_index_column": 11
        },
        {
         "id": "68626",
         "CO2_working_capacity [mL/g]": 247.30018615722656,
         "_deepnote_index_column": 12
        },
        {
         "id": "68627",
         "CO2_working_capacity [mL/g]": 205.33367919921875,
         "_deepnote_index_column": 13
        },
        {
         "id": "68628",
         "CO2_working_capacity [mL/g]": 77.10761260986328,
         "_deepnote_index_column": 14
        },
        {
         "id": "68629",
         "CO2_working_capacity [mL/g]": 160.6572723388672,
         "_deepnote_index_column": 15
        },
        {
         "id": "68630",
         "CO2_working_capacity [mL/g]": 59.58319091796875,
         "_deepnote_index_column": 16
        },
        {
         "id": "68631",
         "CO2_working_capacity [mL/g]": 52.88600540161133,
         "_deepnote_index_column": 17
        },
        {
         "id": "68632",
         "CO2_working_capacity [mL/g]": 127.55839538574219,
         "_deepnote_index_column": 18
        },
        {
         "id": "68633",
         "CO2_working_capacity [mL/g]": 58.911376953125,
         "_deepnote_index_column": 19
        },
        {
         "id": "68634",
         "CO2_working_capacity [mL/g]": 205.62477111816406,
         "_deepnote_index_column": 20
        },
        {
         "id": "68635",
         "CO2_working_capacity [mL/g]": 132.48182678222656,
         "_deepnote_index_column": 21
        },
        {
         "id": "68636",
         "CO2_working_capacity [mL/g]": 89.61032104492188,
         "_deepnote_index_column": 22
        },
        {
         "id": "68637",
         "CO2_working_capacity [mL/g]": 83.98422241210938,
         "_deepnote_index_column": 23
        },
        {
         "id": "68638",
         "CO2_working_capacity [mL/g]": 254.12013244628906,
         "_deepnote_index_column": 24
        },
        {
         "id": "68639",
         "CO2_working_capacity [mL/g]": 130.76217651367188,
         "_deepnote_index_column": 25
        },
        {
         "id": "68640",
         "CO2_working_capacity [mL/g]": 108.57856750488281,
         "_deepnote_index_column": 26
        },
        {
         "id": "68641",
         "CO2_working_capacity [mL/g]": 213.185302734375,
         "_deepnote_index_column": 27
        },
        {
         "id": "68642",
         "CO2_working_capacity [mL/g]": 66.77001953125,
         "_deepnote_index_column": 28
        },
        {
         "id": "68643",
         "CO2_working_capacity [mL/g]": 73.9670181274414,
         "_deepnote_index_column": 29
        },
        {
         "id": "68644",
         "CO2_working_capacity [mL/g]": 110.53843688964844,
         "_deepnote_index_column": 30
        },
        {
         "id": "68645",
         "CO2_working_capacity [mL/g]": 104.37423706054688,
         "_deepnote_index_column": 31
        },
        {
         "id": "68646",
         "CO2_working_capacity [mL/g]": 296.56341552734375,
         "_deepnote_index_column": 32
        },
        {
         "id": "68647",
         "CO2_working_capacity [mL/g]": 96.43303680419922,
         "_deepnote_index_column": 33
        },
        {
         "id": "68648",
         "CO2_working_capacity [mL/g]": 137.56484985351562,
         "_deepnote_index_column": 34
        },
        {
         "id": "68649",
         "CO2_working_capacity [mL/g]": 73.38243865966797,
         "_deepnote_index_column": 35
        },
        {
         "id": "68650",
         "CO2_working_capacity [mL/g]": 272.96795654296875,
         "_deepnote_index_column": 36
        },
        {
         "id": "68651",
         "CO2_working_capacity [mL/g]": 63.82047653198242,
         "_deepnote_index_column": 37
        },
        {
         "id": "68652",
         "CO2_working_capacity [mL/g]": 71.45941162109375,
         "_deepnote_index_column": 38
        },
        {
         "id": "68653",
         "CO2_working_capacity [mL/g]": 155.0052032470703,
         "_deepnote_index_column": 39
        },
        {
         "id": "68654",
         "CO2_working_capacity [mL/g]": 95.3074951171875,
         "_deepnote_index_column": 40
        },
        {
         "id": "68655",
         "CO2_working_capacity [mL/g]": 97.98887634277344,
         "_deepnote_index_column": 41
        },
        {
         "id": "68656",
         "CO2_working_capacity [mL/g]": 89.09251403808594,
         "_deepnote_index_column": 42
        },
        {
         "id": "68657",
         "CO2_working_capacity [mL/g]": 204.2869110107422,
         "_deepnote_index_column": 43
        },
        {
         "id": "68658",
         "CO2_working_capacity [mL/g]": 63.81904602050781,
         "_deepnote_index_column": 44
        },
        {
         "id": "68659",
         "CO2_working_capacity [mL/g]": 115.67829895019531,
         "_deepnote_index_column": 45
        },
        {
         "id": "68660",
         "CO2_working_capacity [mL/g]": 209.94931030273438,
         "_deepnote_index_column": 46
        },
        {
         "id": "68661",
         "CO2_working_capacity [mL/g]": 149.29714965820312,
         "_deepnote_index_column": 47
        },
        {
         "id": "68662",
         "CO2_working_capacity [mL/g]": 70.58869171142578,
         "_deepnote_index_column": 48
        },
        {
         "id": "68663",
         "CO2_working_capacity [mL/g]": 78.02828216552734,
         "_deepnote_index_column": 49
        },
        {
         "id": "68664",
         "CO2_working_capacity [mL/g]": 80.11639404296875,
         "_deepnote_index_column": 50
        },
        {
         "id": "68665",
         "CO2_working_capacity [mL/g]": 100.1419448852539,
         "_deepnote_index_column": 51
        },
        {
         "id": "68666",
         "CO2_working_capacity [mL/g]": 176.2232666015625,
         "_deepnote_index_column": 52
        },
        {
         "id": "68667",
         "CO2_working_capacity [mL/g]": 72.53397369384766,
         "_deepnote_index_column": 53
        },
        {
         "id": "68668",
         "CO2_working_capacity [mL/g]": 270.5372009277344,
         "_deepnote_index_column": 54
        },
        {
         "id": "68669",
         "CO2_working_capacity [mL/g]": 100.91624450683594,
         "_deepnote_index_column": 55
        },
        {
         "id": "68670",
         "CO2_working_capacity [mL/g]": 275.2417297363281,
         "_deepnote_index_column": 56
        },
        {
         "id": "68671",
         "CO2_working_capacity [mL/g]": 89.50700378417969,
         "_deepnote_index_column": 57
        },
        {
         "id": "68672",
         "CO2_working_capacity [mL/g]": 77.0196533203125,
         "_deepnote_index_column": 58
        },
        {
         "id": "68673",
         "CO2_working_capacity [mL/g]": 140.1026153564453,
         "_deepnote_index_column": 59
        },
        {
         "id": "68674",
         "CO2_working_capacity [mL/g]": 63.496681213378906,
         "_deepnote_index_column": 60
        },
        {
         "id": "68675",
         "CO2_working_capacity [mL/g]": 63.66511535644531,
         "_deepnote_index_column": 61
        },
        {
         "id": "68676",
         "CO2_working_capacity [mL/g]": 152.8323974609375,
         "_deepnote_index_column": 62
        },
        {
         "id": "68677",
         "CO2_working_capacity [mL/g]": 134.47093200683594,
         "_deepnote_index_column": 63
        },
        {
         "id": "68678",
         "CO2_working_capacity [mL/g]": 179.51409912109375,
         "_deepnote_index_column": 64
        },
        {
         "id": "68679",
         "CO2_working_capacity [mL/g]": 85.37773132324219,
         "_deepnote_index_column": 65
        },
        {
         "id": "68680",
         "CO2_working_capacity [mL/g]": 79.48929595947266,
         "_deepnote_index_column": 66
        },
        {
         "id": "68681",
         "CO2_working_capacity [mL/g]": 101.12218475341797,
         "_deepnote_index_column": 67
        },
        {
         "id": "68682",
         "CO2_working_capacity [mL/g]": 82.51785278320312,
         "_deepnote_index_column": 68
        },
        {
         "id": "68683",
         "CO2_working_capacity [mL/g]": 81.7065200805664,
         "_deepnote_index_column": 69
        },
        {
         "id": "68684",
         "CO2_working_capacity [mL/g]": 83.05060577392578,
         "_deepnote_index_column": 70
        },
        {
         "id": "68685",
         "CO2_working_capacity [mL/g]": 82.16549682617188,
         "_deepnote_index_column": 71
        },
        {
         "id": "68686",
         "CO2_working_capacity [mL/g]": 151.83135986328125,
         "_deepnote_index_column": 72
        },
        {
         "id": "68687",
         "CO2_working_capacity [mL/g]": 78.75942993164062,
         "_deepnote_index_column": 73
        },
        {
         "id": "68688",
         "CO2_working_capacity [mL/g]": 83.82221221923828,
         "_deepnote_index_column": 74
        },
        {
         "id": "68689",
         "CO2_working_capacity [mL/g]": 84.29217529296875,
         "_deepnote_index_column": 75
        },
        {
         "id": "68690",
         "CO2_working_capacity [mL/g]": 142.0939178466797,
         "_deepnote_index_column": 76
        },
        {
         "id": "68691",
         "CO2_working_capacity [mL/g]": 197.65316772460938,
         "_deepnote_index_column": 77
        },
        {
         "id": "68692",
         "CO2_working_capacity [mL/g]": 71.0315933227539,
         "_deepnote_index_column": 78
        },
        {
         "id": "68693",
         "CO2_working_capacity [mL/g]": 186.74771118164062,
         "_deepnote_index_column": 79
        },
        {
         "id": "68694",
         "CO2_working_capacity [mL/g]": 112.24855041503906,
         "_deepnote_index_column": 80
        },
        {
         "id": "68695",
         "CO2_working_capacity [mL/g]": 181.2615509033203,
         "_deepnote_index_column": 81
        },
        {
         "id": "68696",
         "CO2_working_capacity [mL/g]": 56.02241897583008,
         "_deepnote_index_column": 82
        },
        {
         "id": "68697",
         "CO2_working_capacity [mL/g]": 111.19168090820312,
         "_deepnote_index_column": 83
        },
        {
         "id": "68698",
         "CO2_working_capacity [mL/g]": 182.86465454101562,
         "_deepnote_index_column": 84
        },
        {
         "id": "68699",
         "CO2_working_capacity [mL/g]": 55.97644805908203,
         "_deepnote_index_column": 85
        },
        {
         "id": "68700",
         "CO2_working_capacity [mL/g]": 56.10271072387695,
         "_deepnote_index_column": 86
        },
        {
         "id": "68701",
         "CO2_working_capacity [mL/g]": 177.94375610351562,
         "_deepnote_index_column": 87
        },
        {
         "id": "68702",
         "CO2_working_capacity [mL/g]": 107.65949249267578,
         "_deepnote_index_column": 88
        },
        {
         "id": "68703",
         "CO2_working_capacity [mL/g]": 161.33717346191406,
         "_deepnote_index_column": 89
        },
        {
         "id": "68704",
         "CO2_working_capacity [mL/g]": 105.79703521728516,
         "_deepnote_index_column": 90
        },
        {
         "id": "68705",
         "CO2_working_capacity [mL/g]": 96.91729736328125,
         "_deepnote_index_column": 91
        },
        {
         "id": "68706",
         "CO2_working_capacity [mL/g]": 133.71661376953125,
         "_deepnote_index_column": 92
        },
        {
         "id": "68707",
         "CO2_working_capacity [mL/g]": 92.18177795410156,
         "_deepnote_index_column": 93
        },
        {
         "id": "68708",
         "CO2_working_capacity [mL/g]": 118.02838134765625,
         "_deepnote_index_column": 94
        },
        {
         "id": "68709",
         "CO2_working_capacity [mL/g]": 171.00051879882812,
         "_deepnote_index_column": 95
        },
        {
         "id": "68710",
         "CO2_working_capacity [mL/g]": 64.85389709472656,
         "_deepnote_index_column": 96
        },
        {
         "id": "68711",
         "CO2_working_capacity [mL/g]": 129.9955596923828,
         "_deepnote_index_column": 97
        },
        {
         "id": "68712",
         "CO2_working_capacity [mL/g]": 82.13813018798828,
         "_deepnote_index_column": 98
        },
        {
         "id": "68713",
         "CO2_working_capacity [mL/g]": 63.13202667236328,
         "_deepnote_index_column": 99
        },
        {
         "id": "68714",
         "CO2_working_capacity [mL/g]": 57.77293395996094,
         "_deepnote_index_column": 100
        },
        {
         "id": "68715",
         "CO2_working_capacity [mL/g]": 113.11900329589844,
         "_deepnote_index_column": 101
        },
        {
         "id": "68716",
         "CO2_working_capacity [mL/g]": 117.96984100341797,
         "_deepnote_index_column": 102
        },
        {
         "id": "68717",
         "CO2_working_capacity [mL/g]": 65.4708023071289,
         "_deepnote_index_column": 103
        },
        {
         "id": "68718",
         "CO2_working_capacity [mL/g]": 48.196533203125,
         "_deepnote_index_column": 104
        },
        {
         "id": "68719",
         "CO2_working_capacity [mL/g]": 52.73384094238281,
         "_deepnote_index_column": 105
        },
        {
         "id": "68720",
         "CO2_working_capacity [mL/g]": 168.7364501953125,
         "_deepnote_index_column": 106
        },
        {
         "id": "68721",
         "CO2_working_capacity [mL/g]": 206.61251831054688,
         "_deepnote_index_column": 107
        },
        {
         "id": "68722",
         "CO2_working_capacity [mL/g]": 116.8221664428711,
         "_deepnote_index_column": 108
        },
        {
         "id": "68723",
         "CO2_working_capacity [mL/g]": 90.78631591796875,
         "_deepnote_index_column": 109
        },
        {
         "id": "68724",
         "CO2_working_capacity [mL/g]": 74.05785369873047,
         "_deepnote_index_column": 110
        },
        {
         "id": "68725",
         "CO2_working_capacity [mL/g]": 83.02264404296875,
         "_deepnote_index_column": 111
        },
        {
         "id": "68726",
         "CO2_working_capacity [mL/g]": 129.2550048828125,
         "_deepnote_index_column": 112
        },
        {
         "id": "68727",
         "CO2_working_capacity [mL/g]": 105.48499298095703,
         "_deepnote_index_column": 113
        },
        {
         "id": "68728",
         "CO2_working_capacity [mL/g]": 142.09381103515625,
         "_deepnote_index_column": 114
        },
        {
         "id": "68729",
         "CO2_working_capacity [mL/g]": 282.2247619628906,
         "_deepnote_index_column": 115
        },
        {
         "id": "68730",
         "CO2_working_capacity [mL/g]": 105.50554656982422,
         "_deepnote_index_column": 116
        },
        {
         "id": "68731",
         "CO2_working_capacity [mL/g]": 65.64215850830078,
         "_deepnote_index_column": 117
        },
        {
         "id": "68732",
         "CO2_working_capacity [mL/g]": 82.57756042480469,
         "_deepnote_index_column": 118
        },
        {
         "id": "68733",
         "CO2_working_capacity [mL/g]": 79.4948501586914,
         "_deepnote_index_column": 119
        },
        {
         "id": "68734",
         "CO2_working_capacity [mL/g]": 104.19872283935547,
         "_deepnote_index_column": 120
        },
        {
         "id": "68735",
         "CO2_working_capacity [mL/g]": 206.00738525390625,
         "_deepnote_index_column": 121
        },
        {
         "id": "68736",
         "CO2_working_capacity [mL/g]": 58.442100524902344,
         "_deepnote_index_column": 122
        },
        {
         "id": "68737",
         "CO2_working_capacity [mL/g]": 122.34400939941406,
         "_deepnote_index_column": 123
        },
        {
         "id": "68738",
         "CO2_working_capacity [mL/g]": 169.55982971191406,
         "_deepnote_index_column": 124
        },
        {
         "id": "68739",
         "CO2_working_capacity [mL/g]": 134.62969970703125,
         "_deepnote_index_column": 125
        },
        {
         "id": "68740",
         "CO2_working_capacity [mL/g]": 252.9751739501953,
         "_deepnote_index_column": 126
        },
        {
         "id": "68741",
         "CO2_working_capacity [mL/g]": 83.82534790039062,
         "_deepnote_index_column": 127
        },
        {
         "id": "68742",
         "CO2_working_capacity [mL/g]": 116.0331802368164,
         "_deepnote_index_column": 128
        },
        {
         "id": "68743",
         "CO2_working_capacity [mL/g]": 73.4461898803711,
         "_deepnote_index_column": 129
        },
        {
         "id": "68744",
         "CO2_working_capacity [mL/g]": 213.23500061035156,
         "_deepnote_index_column": 130
        },
        {
         "id": "68745",
         "CO2_working_capacity [mL/g]": 105.33856964111328,
         "_deepnote_index_column": 131
        },
        {
         "id": "68746",
         "CO2_working_capacity [mL/g]": 105.50926208496094,
         "_deepnote_index_column": 132
        },
        {
         "id": "68747",
         "CO2_working_capacity [mL/g]": 142.95132446289062,
         "_deepnote_index_column": 133
        },
        {
         "id": "68748",
         "CO2_working_capacity [mL/g]": 61.53675842285156,
         "_deepnote_index_column": 134
        },
        {
         "id": "68749",
         "CO2_working_capacity [mL/g]": 63.39724349975586,
         "_deepnote_index_column": 135
        },
        {
         "id": "68750",
         "CO2_working_capacity [mL/g]": 88.11432647705078,
         "_deepnote_index_column": 136
        },
        {
         "id": "68751",
         "CO2_working_capacity [mL/g]": 190.8247833251953,
         "_deepnote_index_column": 137
        },
        {
         "id": "68752",
         "CO2_working_capacity [mL/g]": 82.84800720214844,
         "_deepnote_index_column": 138
        },
        {
         "id": "68753",
         "CO2_working_capacity [mL/g]": 271.60772705078125,
         "_deepnote_index_column": 139
        },
        {
         "id": "68754",
         "CO2_working_capacity [mL/g]": 142.2474822998047,
         "_deepnote_index_column": 140
        },
        {
         "id": "68755",
         "CO2_working_capacity [mL/g]": 76.27696990966797,
         "_deepnote_index_column": 141
        },
        {
         "id": "68756",
         "CO2_working_capacity [mL/g]": 80.67683410644531,
         "_deepnote_index_column": 142
        },
        {
         "id": "68757",
         "CO2_working_capacity [mL/g]": 352.28546142578125,
         "_deepnote_index_column": 143
        },
        {
         "id": "68758",
         "CO2_working_capacity [mL/g]": 303.6118469238281,
         "_deepnote_index_column": 144
        },
        {
         "id": "68759",
         "CO2_working_capacity [mL/g]": 234.83233642578125,
         "_deepnote_index_column": 145
        },
        {
         "id": "68760",
         "CO2_working_capacity [mL/g]": 171.55093383789062,
         "_deepnote_index_column": 146
        },
        {
         "id": "68761",
         "CO2_working_capacity [mL/g]": 98.26991271972656,
         "_deepnote_index_column": 147
        },
        {
         "id": "68762",
         "CO2_working_capacity [mL/g]": 59.3569450378418,
         "_deepnote_index_column": 148
        },
        {
         "id": "68763",
         "CO2_working_capacity [mL/g]": 71.96348571777344,
         "_deepnote_index_column": 149
        },
        {
         "id": "68764",
         "CO2_working_capacity [mL/g]": 102.89232635498047,
         "_deepnote_index_column": 150
        },
        {
         "id": "68765",
         "CO2_working_capacity [mL/g]": 165.2999725341797,
         "_deepnote_index_column": 151
        },
        {
         "id": "68766",
         "CO2_working_capacity [mL/g]": 58.054229736328125,
         "_deepnote_index_column": 152
        },
        {
         "id": "68767",
         "CO2_working_capacity [mL/g]": 90.58052062988281,
         "_deepnote_index_column": 153
        },
        {
         "id": "68768",
         "CO2_working_capacity [mL/g]": 105.68490600585938,
         "_deepnote_index_column": 154
        },
        {
         "id": "68769",
         "CO2_working_capacity [mL/g]": 58.797847747802734,
         "_deepnote_index_column": 155
        },
        {
         "id": "68770",
         "CO2_working_capacity [mL/g]": 115.56861877441406,
         "_deepnote_index_column": 156
        },
        {
         "id": "68771",
         "CO2_working_capacity [mL/g]": 63.78065872192383,
         "_deepnote_index_column": 157
        },
        {
         "id": "68772",
         "CO2_working_capacity [mL/g]": 58.13836669921875,
         "_deepnote_index_column": 158
        },
        {
         "id": "68773",
         "CO2_working_capacity [mL/g]": 76.16567993164062,
         "_deepnote_index_column": 159
        },
        {
         "id": "68774",
         "CO2_working_capacity [mL/g]": 62.0876579284668,
         "_deepnote_index_column": 160
        },
        {
         "id": "68775",
         "CO2_working_capacity [mL/g]": 81.99107360839844,
         "_deepnote_index_column": 161
        },
        {
         "id": "68776",
         "CO2_working_capacity [mL/g]": 83.41799926757812,
         "_deepnote_index_column": 162
        },
        {
         "id": "68777",
         "CO2_working_capacity [mL/g]": 63.38979721069336,
         "_deepnote_index_column": 163
        },
        {
         "id": "68778",
         "CO2_working_capacity [mL/g]": 65.3697509765625,
         "_deepnote_index_column": 164
        },
        {
         "id": "68779",
         "CO2_working_capacity [mL/g]": 49.951324462890625,
         "_deepnote_index_column": 165
        },
        {
         "id": "68780",
         "CO2_working_capacity [mL/g]": 128.4698486328125,
         "_deepnote_index_column": 166
        },
        {
         "id": "68781",
         "CO2_working_capacity [mL/g]": 75.2831039428711,
         "_deepnote_index_column": 167
        },
        {
         "id": "68782",
         "CO2_working_capacity [mL/g]": 108.53278350830078,
         "_deepnote_index_column": 168
        },
        {
         "id": "68783",
         "CO2_working_capacity [mL/g]": 62.3900260925293,
         "_deepnote_index_column": 169
        },
        {
         "id": "68784",
         "CO2_working_capacity [mL/g]": 77.70821380615234,
         "_deepnote_index_column": 170
        },
        {
         "id": "68785",
         "CO2_working_capacity [mL/g]": 98.00434875488281,
         "_deepnote_index_column": 171
        },
        {
         "id": "68786",
         "CO2_working_capacity [mL/g]": 106.86395263671875,
         "_deepnote_index_column": 172
        },
        {
         "id": "68787",
         "CO2_working_capacity [mL/g]": 272.4720458984375,
         "_deepnote_index_column": 173
        },
        {
         "id": "68788",
         "CO2_working_capacity [mL/g]": 73.45841217041016,
         "_deepnote_index_column": 174
        },
        {
         "id": "68789",
         "CO2_working_capacity [mL/g]": 92.94673156738281,
         "_deepnote_index_column": 175
        },
        {
         "id": "68790",
         "CO2_working_capacity [mL/g]": 272.5809020996094,
         "_deepnote_index_column": 176
        },
        {
         "id": "68791",
         "CO2_working_capacity [mL/g]": 66.0591049194336,
         "_deepnote_index_column": 177
        },
        {
         "id": "68792",
         "CO2_working_capacity [mL/g]": 137.93067932128906,
         "_deepnote_index_column": 178
        },
        {
         "id": "68793",
         "CO2_working_capacity [mL/g]": 87.9292221069336,
         "_deepnote_index_column": 179
        },
        {
         "id": "68794",
         "CO2_working_capacity [mL/g]": 106.13093566894531,
         "_deepnote_index_column": 180
        },
        {
         "id": "68795",
         "CO2_working_capacity [mL/g]": 107.91544342041016,
         "_deepnote_index_column": 181
        },
        {
         "id": "68796",
         "CO2_working_capacity [mL/g]": 66.75126647949219,
         "_deepnote_index_column": 182
        },
        {
         "id": "68797",
         "CO2_working_capacity [mL/g]": 116.40972900390625,
         "_deepnote_index_column": 183
        },
        {
         "id": "68798",
         "CO2_working_capacity [mL/g]": 69.79444885253906,
         "_deepnote_index_column": 184
        },
        {
         "id": "68799",
         "CO2_working_capacity [mL/g]": 71.92790222167969,
         "_deepnote_index_column": 185
        },
        {
         "id": "68800",
         "CO2_working_capacity [mL/g]": 58.370574951171875,
         "_deepnote_index_column": 186
        },
        {
         "id": "68801",
         "CO2_working_capacity [mL/g]": 106.7111587524414,
         "_deepnote_index_column": 187
        },
        {
         "id": "68802",
         "CO2_working_capacity [mL/g]": 118.11589813232422,
         "_deepnote_index_column": 188
        },
        {
         "id": "68803",
         "CO2_working_capacity [mL/g]": 76.29737854003906,
         "_deepnote_index_column": 189
        },
        {
         "id": "68804",
         "CO2_working_capacity [mL/g]": 60.04561233520508,
         "_deepnote_index_column": 190
        },
        {
         "id": "68805",
         "CO2_working_capacity [mL/g]": 62.184085845947266,
         "_deepnote_index_column": 191
        },
        {
         "id": "68806",
         "CO2_working_capacity [mL/g]": 80.66450500488281,
         "_deepnote_index_column": 192
        },
        {
         "id": "68807",
         "CO2_working_capacity [mL/g]": 133.13766479492188,
         "_deepnote_index_column": 193
        },
        {
         "id": "68808",
         "CO2_working_capacity [mL/g]": 66.47185516357422,
         "_deepnote_index_column": 194
        },
        {
         "id": "68809",
         "CO2_working_capacity [mL/g]": 163.406005859375,
         "_deepnote_index_column": 195
        },
        {
         "id": "68810",
         "CO2_working_capacity [mL/g]": 121.39899444580078,
         "_deepnote_index_column": 196
        },
        {
         "id": "68811",
         "CO2_working_capacity [mL/g]": 174.54600524902344,
         "_deepnote_index_column": 197
        },
        {
         "id": "68812",
         "CO2_working_capacity [mL/g]": 103.43116760253906,
         "_deepnote_index_column": 198
        },
        {
         "id": "68813",
         "CO2_working_capacity [mL/g]": 58.07310104370117,
         "_deepnote_index_column": 199
        },
        {
         "id": "68814",
         "CO2_working_capacity [mL/g]": 91.6734848022461,
         "_deepnote_index_column": 200
        },
        {
         "id": "68815",
         "CO2_working_capacity [mL/g]": 68.32694244384766,
         "_deepnote_index_column": 201
        },
        {
         "id": "68816",
         "CO2_working_capacity [mL/g]": 414.063232421875,
         "_deepnote_index_column": 202
        },
        {
         "id": "68817",
         "CO2_working_capacity [mL/g]": 92.52208709716797,
         "_deepnote_index_column": 203
        },
        {
         "id": "68818",
         "CO2_working_capacity [mL/g]": 67.96919250488281,
         "_deepnote_index_column": 204
        },
        {
         "id": "68819",
         "CO2_working_capacity [mL/g]": 80.447998046875,
         "_deepnote_index_column": 205
        },
        {
         "id": "68820",
         "CO2_working_capacity [mL/g]": 155.23960876464844,
         "_deepnote_index_column": 206
        },
        {
         "id": "68821",
         "CO2_working_capacity [mL/g]": 137.24658203125,
         "_deepnote_index_column": 207
        },
        {
         "id": "68822",
         "CO2_working_capacity [mL/g]": 395.3785095214844,
         "_deepnote_index_column": 208
        },
        {
         "id": "68823",
         "CO2_working_capacity [mL/g]": 77.03904724121094,
         "_deepnote_index_column": 209
        },
        {
         "id": "68824",
         "CO2_working_capacity [mL/g]": 181.24322509765625,
         "_deepnote_index_column": 210
        },
        {
         "id": "68825",
         "CO2_working_capacity [mL/g]": 78.28050994873047,
         "_deepnote_index_column": 211
        },
        {
         "id": "68826",
         "CO2_working_capacity [mL/g]": 160.58172607421875,
         "_deepnote_index_column": 212
        },
        {
         "id": "68827",
         "CO2_working_capacity [mL/g]": 154.24465942382812,
         "_deepnote_index_column": 213
        },
        {
         "id": "68828",
         "CO2_working_capacity [mL/g]": 52.45621109008789,
         "_deepnote_index_column": 214
        },
        {
         "id": "68829",
         "CO2_working_capacity [mL/g]": 60.482872009277344,
         "_deepnote_index_column": 215
        },
        {
         "id": "68830",
         "CO2_working_capacity [mL/g]": 69.64647674560547,
         "_deepnote_index_column": 216
        },
        {
         "id": "68831",
         "CO2_working_capacity [mL/g]": 101.82312774658203,
         "_deepnote_index_column": 217
        },
        {
         "id": "68832",
         "CO2_working_capacity [mL/g]": 131.11697387695312,
         "_deepnote_index_column": 218
        },
        {
         "id": "68833",
         "CO2_working_capacity [mL/g]": 98.88240051269531,
         "_deepnote_index_column": 219
        },
        {
         "id": "68834",
         "CO2_working_capacity [mL/g]": 83.45707702636719,
         "_deepnote_index_column": 220
        },
        {
         "id": "68835",
         "CO2_working_capacity [mL/g]": 69.01373291015625,
         "_deepnote_index_column": 221
        },
        {
         "id": "68836",
         "CO2_working_capacity [mL/g]": 108.20639038085938,
         "_deepnote_index_column": 222
        },
        {
         "id": "68837",
         "CO2_working_capacity [mL/g]": 61.06315994262695,
         "_deepnote_index_column": 223
        },
        {
         "id": "68838",
         "CO2_working_capacity [mL/g]": 49.542728424072266,
         "_deepnote_index_column": 224
        },
        {
         "id": "68839",
         "CO2_working_capacity [mL/g]": 194.00904846191406,
         "_deepnote_index_column": 225
        },
        {
         "id": "68840",
         "CO2_working_capacity [mL/g]": 53.48400115966797,
         "_deepnote_index_column": 226
        },
        {
         "id": "68841",
         "CO2_working_capacity [mL/g]": 183.70677185058594,
         "_deepnote_index_column": 227
        },
        {
         "id": "68842",
         "CO2_working_capacity [mL/g]": 193.63580322265625,
         "_deepnote_index_column": 228
        },
        {
         "id": "68843",
         "CO2_working_capacity [mL/g]": 69.54350280761719,
         "_deepnote_index_column": 229
        },
        {
         "id": "68844",
         "CO2_working_capacity [mL/g]": 185.4456329345703,
         "_deepnote_index_column": 230
        },
        {
         "id": "68845",
         "CO2_working_capacity [mL/g]": 54.30781555175781,
         "_deepnote_index_column": 231
        },
        {
         "id": "68846",
         "CO2_working_capacity [mL/g]": 64.31893157958984,
         "_deepnote_index_column": 232
        },
        {
         "id": "68847",
         "CO2_working_capacity [mL/g]": 156.3916473388672,
         "_deepnote_index_column": 233
        },
        {
         "id": "68848",
         "CO2_working_capacity [mL/g]": 163.56832885742188,
         "_deepnote_index_column": 234
        },
        {
         "id": "68849",
         "CO2_working_capacity [mL/g]": 120.5378646850586,
         "_deepnote_index_column": 235
        },
        {
         "id": "68850",
         "CO2_working_capacity [mL/g]": 107.25041198730469,
         "_deepnote_index_column": 236
        },
        {
         "id": "68851",
         "CO2_working_capacity [mL/g]": 67.09082794189453,
         "_deepnote_index_column": 237
        },
        {
         "id": "68852",
         "CO2_working_capacity [mL/g]": 67.31314849853516,
         "_deepnote_index_column": 238
        },
        {
         "id": "68853",
         "CO2_working_capacity [mL/g]": 189.19227600097656,
         "_deepnote_index_column": 239
        },
        {
         "id": "68854",
         "CO2_working_capacity [mL/g]": 88.51768493652344,
         "_deepnote_index_column": 240
        },
        {
         "id": "68855",
         "CO2_working_capacity [mL/g]": 67.29107666015625,
         "_deepnote_index_column": 241
        },
        {
         "id": "68856",
         "CO2_working_capacity [mL/g]": 350.102294921875,
         "_deepnote_index_column": 242
        },
        {
         "id": "68857",
         "CO2_working_capacity [mL/g]": 61.849308013916016,
         "_deepnote_index_column": 243
        },
        {
         "id": "68858",
         "CO2_working_capacity [mL/g]": 89.36885833740234,
         "_deepnote_index_column": 244
        },
        {
         "id": "68859",
         "CO2_working_capacity [mL/g]": 74.91878509521484,
         "_deepnote_index_column": 245
        },
        {
         "id": "68860",
         "CO2_working_capacity [mL/g]": 46.27288818359375,
         "_deepnote_index_column": 246
        },
        {
         "id": "68861",
         "CO2_working_capacity [mL/g]": 76.51343536376953,
         "_deepnote_index_column": 247
        },
        {
         "id": "68862",
         "CO2_working_capacity [mL/g]": 226.2620849609375,
         "_deepnote_index_column": 248
        },
        {
         "id": "68863",
         "CO2_working_capacity [mL/g]": 77.84678649902344,
         "_deepnote_index_column": 249
        }
       ],
       "rows_bottom": [
        {
         "id": "85364",
         "CO2_working_capacity [mL/g]": 6.157416820526123,
         "_deepnote_index_column": 16750
        },
        {
         "id": "85365",
         "CO2_working_capacity [mL/g]": -1.4784409999847412,
         "_deepnote_index_column": 16751
        },
        {
         "id": "85366",
         "CO2_working_capacity [mL/g]": 1.1884428262710571,
         "_deepnote_index_column": 16752
        },
        {
         "id": "85367",
         "CO2_working_capacity [mL/g]": 3.627948522567749,
         "_deepnote_index_column": 16753
        },
        {
         "id": "85368",
         "CO2_working_capacity [mL/g]": -0.06546920537948608,
         "_deepnote_index_column": 16754
        },
        {
         "id": "85369",
         "CO2_working_capacity [mL/g]": 30.35325050354004,
         "_deepnote_index_column": 16755
        },
        {
         "id": "85370",
         "CO2_working_capacity [mL/g]": -1.0471316576004028,
         "_deepnote_index_column": 16756
        },
        {
         "id": "85371",
         "CO2_working_capacity [mL/g]": -3.6582212448120117,
         "_deepnote_index_column": 16757
        },
        {
         "id": "85372",
         "CO2_working_capacity [mL/g]": -1.134858250617981,
         "_deepnote_index_column": 16758
        },
        {
         "id": "85373",
         "CO2_working_capacity [mL/g]": 1.3738267421722412,
         "_deepnote_index_column": 16759
        },
        {
         "id": "85374",
         "CO2_working_capacity [mL/g]": -2.8227975368499756,
         "_deepnote_index_column": 16760
        },
        {
         "id": "85375",
         "CO2_working_capacity [mL/g]": 5.25381326675415,
         "_deepnote_index_column": 16761
        },
        {
         "id": "85376",
         "CO2_working_capacity [mL/g]": -4.194589614868164,
         "_deepnote_index_column": 16762
        },
        {
         "id": "85377",
         "CO2_working_capacity [mL/g]": 7.751220703125,
         "_deepnote_index_column": 16763
        },
        {
         "id": "85378",
         "CO2_working_capacity [mL/g]": -1.6321306228637695,
         "_deepnote_index_column": 16764
        },
        {
         "id": "85379",
         "CO2_working_capacity [mL/g]": -5.662139892578125,
         "_deepnote_index_column": 16765
        },
        {
         "id": "85380",
         "CO2_working_capacity [mL/g]": -2.836319923400879,
         "_deepnote_index_column": 16766
        },
        {
         "id": "85381",
         "CO2_working_capacity [mL/g]": -11.104702949523926,
         "_deepnote_index_column": 16767
        },
        {
         "id": "85382",
         "CO2_working_capacity [mL/g]": -3.1489477157592773,
         "_deepnote_index_column": 16768
        },
        {
         "id": "85383",
         "CO2_working_capacity [mL/g]": 7.015052795410156,
         "_deepnote_index_column": 16769
        },
        {
         "id": "85384",
         "CO2_working_capacity [mL/g]": 7.511723041534424,
         "_deepnote_index_column": 16770
        },
        {
         "id": "85385",
         "CO2_working_capacity [mL/g]": -0.034711048007011414,
         "_deepnote_index_column": 16771
        },
        {
         "id": "85386",
         "CO2_working_capacity [mL/g]": 5.775412082672119,
         "_deepnote_index_column": 16772
        },
        {
         "id": "85387",
         "CO2_working_capacity [mL/g]": 2.6800758838653564,
         "_deepnote_index_column": 16773
        },
        {
         "id": "85388",
         "CO2_working_capacity [mL/g]": -4.819182395935059,
         "_deepnote_index_column": 16774
        },
        {
         "id": "85389",
         "CO2_working_capacity [mL/g]": 1.4414408206939697,
         "_deepnote_index_column": 16775
        },
        {
         "id": "85390",
         "CO2_working_capacity [mL/g]": -1.8035986423492432,
         "_deepnote_index_column": 16776
        },
        {
         "id": "85391",
         "CO2_working_capacity [mL/g]": 7.099133014678955,
         "_deepnote_index_column": 16777
        },
        {
         "id": "85392",
         "CO2_working_capacity [mL/g]": 0.532172441482544,
         "_deepnote_index_column": 16778
        },
        {
         "id": "85393",
         "CO2_working_capacity [mL/g]": 18.687725067138672,
         "_deepnote_index_column": 16779
        },
        {
         "id": "85394",
         "CO2_working_capacity [mL/g]": -5.3554792404174805,
         "_deepnote_index_column": 16780
        },
        {
         "id": "85395",
         "CO2_working_capacity [mL/g]": 2.1064133644104004,
         "_deepnote_index_column": 16781
        },
        {
         "id": "85396",
         "CO2_working_capacity [mL/g]": 2.8531675338745117,
         "_deepnote_index_column": 16782
        },
        {
         "id": "85397",
         "CO2_working_capacity [mL/g]": -3.395634651184082,
         "_deepnote_index_column": 16783
        },
        {
         "id": "85398",
         "CO2_working_capacity [mL/g]": -8.64464282989502,
         "_deepnote_index_column": 16784
        },
        {
         "id": "85399",
         "CO2_working_capacity [mL/g]": 2.191757917404175,
         "_deepnote_index_column": 16785
        },
        {
         "id": "85400",
         "CO2_working_capacity [mL/g]": -2.1201884746551514,
         "_deepnote_index_column": 16786
        },
        {
         "id": "85401",
         "CO2_working_capacity [mL/g]": 8.432459831237793,
         "_deepnote_index_column": 16787
        },
        {
         "id": "85402",
         "CO2_working_capacity [mL/g]": 0.30306875705718994,
         "_deepnote_index_column": 16788
        },
        {
         "id": "85403",
         "CO2_working_capacity [mL/g]": 1.5371476411819458,
         "_deepnote_index_column": 16789
        },
        {
         "id": "85404",
         "CO2_working_capacity [mL/g]": -4.710797309875488,
         "_deepnote_index_column": 16790
        },
        {
         "id": "85405",
         "CO2_working_capacity [mL/g]": 3.9043633937835693,
         "_deepnote_index_column": 16791
        },
        {
         "id": "85406",
         "CO2_working_capacity [mL/g]": -2.762073040008545,
         "_deepnote_index_column": 16792
        },
        {
         "id": "85407",
         "CO2_working_capacity [mL/g]": -1.1882827281951904,
         "_deepnote_index_column": 16793
        },
        {
         "id": "85408",
         "CO2_working_capacity [mL/g]": -2.397775411605835,
         "_deepnote_index_column": 16794
        },
        {
         "id": "85409",
         "CO2_working_capacity [mL/g]": -2.3554646968841553,
         "_deepnote_index_column": 16795
        },
        {
         "id": "85410",
         "CO2_working_capacity [mL/g]": 6.020107269287109,
         "_deepnote_index_column": 16796
        },
        {
         "id": "85411",
         "CO2_working_capacity [mL/g]": 7.928873062133789,
         "_deepnote_index_column": 16797
        },
        {
         "id": "85412",
         "CO2_working_capacity [mL/g]": -6.912644386291504,
         "_deepnote_index_column": 16798
        },
        {
         "id": "85413",
         "CO2_working_capacity [mL/g]": 9.939492225646973,
         "_deepnote_index_column": 16799
        },
        {
         "id": "85414",
         "CO2_working_capacity [mL/g]": -5.518982887268066,
         "_deepnote_index_column": 16800
        },
        {
         "id": "85415",
         "CO2_working_capacity [mL/g]": 1.0415436029434204,
         "_deepnote_index_column": 16801
        },
        {
         "id": "85416",
         "CO2_working_capacity [mL/g]": -1.6966232061386108,
         "_deepnote_index_column": 16802
        },
        {
         "id": "85417",
         "CO2_working_capacity [mL/g]": -0.8779742121696472,
         "_deepnote_index_column": 16803
        },
        {
         "id": "85418",
         "CO2_working_capacity [mL/g]": -3.293550491333008,
         "_deepnote_index_column": 16804
        },
        {
         "id": "85419",
         "CO2_working_capacity [mL/g]": 1.54917573928833,
         "_deepnote_index_column": 16805
        },
        {
         "id": "85420",
         "CO2_working_capacity [mL/g]": -1.2538210153579712,
         "_deepnote_index_column": 16806
        },
        {
         "id": "85421",
         "CO2_working_capacity [mL/g]": -1.1443946361541748,
         "_deepnote_index_column": 16807
        },
        {
         "id": "85422",
         "CO2_working_capacity [mL/g]": -3.8014354705810547,
         "_deepnote_index_column": 16808
        },
        {
         "id": "85423",
         "CO2_working_capacity [mL/g]": 2.0758056640625,
         "_deepnote_index_column": 16809
        },
        {
         "id": "85424",
         "CO2_working_capacity [mL/g]": 8.773736953735352,
         "_deepnote_index_column": 16810
        },
        {
         "id": "85425",
         "CO2_working_capacity [mL/g]": -0.4623495638370514,
         "_deepnote_index_column": 16811
        },
        {
         "id": "85426",
         "CO2_working_capacity [mL/g]": 1.4212517738342285,
         "_deepnote_index_column": 16812
        },
        {
         "id": "85427",
         "CO2_working_capacity [mL/g]": -0.1875777244567871,
         "_deepnote_index_column": 16813
        },
        {
         "id": "85428",
         "CO2_working_capacity [mL/g]": 0.8894344568252563,
         "_deepnote_index_column": 16814
        },
        {
         "id": "85429",
         "CO2_working_capacity [mL/g]": 7.950467586517334,
         "_deepnote_index_column": 16815
        },
        {
         "id": "85430",
         "CO2_working_capacity [mL/g]": -3.1845080852508545,
         "_deepnote_index_column": 16816
        },
        {
         "id": "85431",
         "CO2_working_capacity [mL/g]": 4.780155181884766,
         "_deepnote_index_column": 16817
        },
        {
         "id": "85432",
         "CO2_working_capacity [mL/g]": -3.3705084323883057,
         "_deepnote_index_column": 16818
        },
        {
         "id": "85433",
         "CO2_working_capacity [mL/g]": -1.8535455465316772,
         "_deepnote_index_column": 16819
        },
        {
         "id": "85434",
         "CO2_working_capacity [mL/g]": -3.7931859493255615,
         "_deepnote_index_column": 16820
        },
        {
         "id": "85435",
         "CO2_working_capacity [mL/g]": 56.08632278442383,
         "_deepnote_index_column": 16821
        },
        {
         "id": "85436",
         "CO2_working_capacity [mL/g]": -4.59238338470459,
         "_deepnote_index_column": 16822
        },
        {
         "id": "85437",
         "CO2_working_capacity [mL/g]": 2.94057035446167,
         "_deepnote_index_column": 16823
        },
        {
         "id": "85438",
         "CO2_working_capacity [mL/g]": -6.4709248542785645,
         "_deepnote_index_column": 16824
        },
        {
         "id": "85439",
         "CO2_working_capacity [mL/g]": 17.23771095275879,
         "_deepnote_index_column": 16825
        },
        {
         "id": "85440",
         "CO2_working_capacity [mL/g]": 1.5575714111328125,
         "_deepnote_index_column": 16826
        },
        {
         "id": "85441",
         "CO2_working_capacity [mL/g]": -0.7429332733154297,
         "_deepnote_index_column": 16827
        },
        {
         "id": "85442",
         "CO2_working_capacity [mL/g]": -2.0894579887390137,
         "_deepnote_index_column": 16828
        },
        {
         "id": "85443",
         "CO2_working_capacity [mL/g]": 16.80644989013672,
         "_deepnote_index_column": 16829
        },
        {
         "id": "85444",
         "CO2_working_capacity [mL/g]": -4.807229042053223,
         "_deepnote_index_column": 16830
        },
        {
         "id": "85445",
         "CO2_working_capacity [mL/g]": 6.217619895935059,
         "_deepnote_index_column": 16831
        },
        {
         "id": "85446",
         "CO2_working_capacity [mL/g]": -4.442782878875732,
         "_deepnote_index_column": 16832
        },
        {
         "id": "85447",
         "CO2_working_capacity [mL/g]": 1.6288667917251587,
         "_deepnote_index_column": 16833
        },
        {
         "id": "85448",
         "CO2_working_capacity [mL/g]": 2.5208024978637695,
         "_deepnote_index_column": 16834
        },
        {
         "id": "85449",
         "CO2_working_capacity [mL/g]": -4.357015132904053,
         "_deepnote_index_column": 16835
        },
        {
         "id": "85450",
         "CO2_working_capacity [mL/g]": 29.628498077392578,
         "_deepnote_index_column": 16836
        },
        {
         "id": "85451",
         "CO2_working_capacity [mL/g]": -2.791501760482788,
         "_deepnote_index_column": 16837
        },
        {
         "id": "85452",
         "CO2_working_capacity [mL/g]": -7.30800724029541,
         "_deepnote_index_column": 16838
        },
        {
         "id": "85453",
         "CO2_working_capacity [mL/g]": 3.694713830947876,
         "_deepnote_index_column": 16839
        },
        {
         "id": "85454",
         "CO2_working_capacity [mL/g]": -11.736751556396484,
         "_deepnote_index_column": 16840
        },
        {
         "id": "85455",
         "CO2_working_capacity [mL/g]": -5.204236030578613,
         "_deepnote_index_column": 16841
        },
        {
         "id": "85456",
         "CO2_working_capacity [mL/g]": 1.9207179546356201,
         "_deepnote_index_column": 16842
        },
        {
         "id": "85457",
         "CO2_working_capacity [mL/g]": -3.842848539352417,
         "_deepnote_index_column": 16843
        },
        {
         "id": "85458",
         "CO2_working_capacity [mL/g]": -2.4590001106262207,
         "_deepnote_index_column": 16844
        },
        {
         "id": "85459",
         "CO2_working_capacity [mL/g]": 2.400322437286377,
         "_deepnote_index_column": 16845
        },
        {
         "id": "85460",
         "CO2_working_capacity [mL/g]": 1.962995171546936,
         "_deepnote_index_column": 16846
        },
        {
         "id": "85461",
         "CO2_working_capacity [mL/g]": -3.638874053955078,
         "_deepnote_index_column": 16847
        },
        {
         "id": "85462",
         "CO2_working_capacity [mL/g]": -0.8651535511016846,
         "_deepnote_index_column": 16848
        },
        {
         "id": "85463",
         "CO2_working_capacity [mL/g]": -1.2348716259002686,
         "_deepnote_index_column": 16849
        },
        {
         "id": "85464",
         "CO2_working_capacity [mL/g]": -5.029397964477539,
         "_deepnote_index_column": 16850
        },
        {
         "id": "85465",
         "CO2_working_capacity [mL/g]": -0.7958786487579346,
         "_deepnote_index_column": 16851
        },
        {
         "id": "85466",
         "CO2_working_capacity [mL/g]": -1.153177261352539,
         "_deepnote_index_column": 16852
        },
        {
         "id": "85467",
         "CO2_working_capacity [mL/g]": -3.369917154312134,
         "_deepnote_index_column": 16853
        },
        {
         "id": "85468",
         "CO2_working_capacity [mL/g]": 4.3870391845703125,
         "_deepnote_index_column": 16854
        },
        {
         "id": "85469",
         "CO2_working_capacity [mL/g]": -3.2669761180877686,
         "_deepnote_index_column": 16855
        },
        {
         "id": "85470",
         "CO2_working_capacity [mL/g]": 1.6293787956237793,
         "_deepnote_index_column": 16856
        },
        {
         "id": "85471",
         "CO2_working_capacity [mL/g]": -1.7262524366378784,
         "_deepnote_index_column": 16857
        },
        {
         "id": "85472",
         "CO2_working_capacity [mL/g]": 0.24608296155929565,
         "_deepnote_index_column": 16858
        },
        {
         "id": "85473",
         "CO2_working_capacity [mL/g]": 1.0779484510421753,
         "_deepnote_index_column": 16859
        },
        {
         "id": "85474",
         "CO2_working_capacity [mL/g]": -0.3169001340866089,
         "_deepnote_index_column": 16860
        },
        {
         "id": "85475",
         "CO2_working_capacity [mL/g]": 11.279044151306152,
         "_deepnote_index_column": 16861
        },
        {
         "id": "85476",
         "CO2_working_capacity [mL/g]": 4.767553329467773,
         "_deepnote_index_column": 16862
        },
        {
         "id": "85477",
         "CO2_working_capacity [mL/g]": 11.458898544311523,
         "_deepnote_index_column": 16863
        },
        {
         "id": "85478",
         "CO2_working_capacity [mL/g]": 7.348935127258301,
         "_deepnote_index_column": 16864
        },
        {
         "id": "85479",
         "CO2_working_capacity [mL/g]": 0.17768773436546326,
         "_deepnote_index_column": 16865
        },
        {
         "id": "85480",
         "CO2_working_capacity [mL/g]": 3.358452081680298,
         "_deepnote_index_column": 16866
        },
        {
         "id": "85481",
         "CO2_working_capacity [mL/g]": 5.550944805145264,
         "_deepnote_index_column": 16867
        },
        {
         "id": "85482",
         "CO2_working_capacity [mL/g]": 9.127351760864258,
         "_deepnote_index_column": 16868
        },
        {
         "id": "85483",
         "CO2_working_capacity [mL/g]": 2.0148825645446777,
         "_deepnote_index_column": 16869
        },
        {
         "id": "85484",
         "CO2_working_capacity [mL/g]": -4.491963863372803,
         "_deepnote_index_column": 16870
        },
        {
         "id": "85485",
         "CO2_working_capacity [mL/g]": 2.081973075866699,
         "_deepnote_index_column": 16871
        },
        {
         "id": "85486",
         "CO2_working_capacity [mL/g]": -2.4354896545410156,
         "_deepnote_index_column": 16872
        },
        {
         "id": "85487",
         "CO2_working_capacity [mL/g]": 0.0889022946357727,
         "_deepnote_index_column": 16873
        },
        {
         "id": "85488",
         "CO2_working_capacity [mL/g]": -2.8459312915802,
         "_deepnote_index_column": 16874
        },
        {
         "id": "85489",
         "CO2_working_capacity [mL/g]": -6.066656589508057,
         "_deepnote_index_column": 16875
        },
        {
         "id": "85490",
         "CO2_working_capacity [mL/g]": 0.5283562541007996,
         "_deepnote_index_column": 16876
        },
        {
         "id": "85491",
         "CO2_working_capacity [mL/g]": 1.0387437343597412,
         "_deepnote_index_column": 16877
        },
        {
         "id": "85492",
         "CO2_working_capacity [mL/g]": -6.053989887237549,
         "_deepnote_index_column": 16878
        },
        {
         "id": "85493",
         "CO2_working_capacity [mL/g]": 6.537098407745361,
         "_deepnote_index_column": 16879
        },
        {
         "id": "85494",
         "CO2_working_capacity [mL/g]": -5.619265556335449,
         "_deepnote_index_column": 16880
        },
        {
         "id": "85495",
         "CO2_working_capacity [mL/g]": 4.372680187225342,
         "_deepnote_index_column": 16881
        },
        {
         "id": "85496",
         "CO2_working_capacity [mL/g]": 4.014014720916748,
         "_deepnote_index_column": 16882
        },
        {
         "id": "85497",
         "CO2_working_capacity [mL/g]": -11.244795799255371,
         "_deepnote_index_column": 16883
        },
        {
         "id": "85498",
         "CO2_working_capacity [mL/g]": -0.07701142877340317,
         "_deepnote_index_column": 16884
        },
        {
         "id": "85499",
         "CO2_working_capacity [mL/g]": -4.105256080627441,
         "_deepnote_index_column": 16885
        },
        {
         "id": "85500",
         "CO2_working_capacity [mL/g]": -2.7246172428131104,
         "_deepnote_index_column": 16886
        },
        {
         "id": "85501",
         "CO2_working_capacity [mL/g]": 4.013874530792236,
         "_deepnote_index_column": 16887
        },
        {
         "id": "85502",
         "CO2_working_capacity [mL/g]": 2.087076425552368,
         "_deepnote_index_column": 16888
        },
        {
         "id": "85503",
         "CO2_working_capacity [mL/g]": -0.2701992988586426,
         "_deepnote_index_column": 16889
        },
        {
         "id": "85504",
         "CO2_working_capacity [mL/g]": -2.7493505477905273,
         "_deepnote_index_column": 16890
        },
        {
         "id": "85505",
         "CO2_working_capacity [mL/g]": -1.6409382820129395,
         "_deepnote_index_column": 16891
        },
        {
         "id": "85506",
         "CO2_working_capacity [mL/g]": -3.6719141006469727,
         "_deepnote_index_column": 16892
        },
        {
         "id": "85507",
         "CO2_working_capacity [mL/g]": 8.33108139038086,
         "_deepnote_index_column": 16893
        },
        {
         "id": "85508",
         "CO2_working_capacity [mL/g]": 2.069244384765625,
         "_deepnote_index_column": 16894
        },
        {
         "id": "85509",
         "CO2_working_capacity [mL/g]": -0.5370659232139587,
         "_deepnote_index_column": 16895
        },
        {
         "id": "85510",
         "CO2_working_capacity [mL/g]": 2.2293379306793213,
         "_deepnote_index_column": 16896
        },
        {
         "id": "85511",
         "CO2_working_capacity [mL/g]": -0.1841941475868225,
         "_deepnote_index_column": 16897
        },
        {
         "id": "85512",
         "CO2_working_capacity [mL/g]": -2.09791898727417,
         "_deepnote_index_column": 16898
        },
        {
         "id": "85513",
         "CO2_working_capacity [mL/g]": 4.595653057098389,
         "_deepnote_index_column": 16899
        },
        {
         "id": "85514",
         "CO2_working_capacity [mL/g]": -0.8333897590637207,
         "_deepnote_index_column": 16900
        },
        {
         "id": "85515",
         "CO2_working_capacity [mL/g]": -5.219204425811768,
         "_deepnote_index_column": 16901
        },
        {
         "id": "85516",
         "CO2_working_capacity [mL/g]": -10.966018676757812,
         "_deepnote_index_column": 16902
        },
        {
         "id": "85517",
         "CO2_working_capacity [mL/g]": -0.3291547894477844,
         "_deepnote_index_column": 16903
        },
        {
         "id": "85518",
         "CO2_working_capacity [mL/g]": -3.744473457336426,
         "_deepnote_index_column": 16904
        },
        {
         "id": "85519",
         "CO2_working_capacity [mL/g]": -3.5231196880340576,
         "_deepnote_index_column": 16905
        },
        {
         "id": "85520",
         "CO2_working_capacity [mL/g]": -4.935805320739746,
         "_deepnote_index_column": 16906
        },
        {
         "id": "85521",
         "CO2_working_capacity [mL/g]": 7.210615158081055,
         "_deepnote_index_column": 16907
        },
        {
         "id": "85522",
         "CO2_working_capacity [mL/g]": -2.850898504257202,
         "_deepnote_index_column": 16908
        },
        {
         "id": "85523",
         "CO2_working_capacity [mL/g]": 6.548165321350098,
         "_deepnote_index_column": 16909
        },
        {
         "id": "85524",
         "CO2_working_capacity [mL/g]": -5.923905372619629,
         "_deepnote_index_column": 16910
        },
        {
         "id": "85525",
         "CO2_working_capacity [mL/g]": -11.28809642791748,
         "_deepnote_index_column": 16911
        },
        {
         "id": "85526",
         "CO2_working_capacity [mL/g]": -0.04689967632293701,
         "_deepnote_index_column": 16912
        },
        {
         "id": "85527",
         "CO2_working_capacity [mL/g]": -4.896320343017578,
         "_deepnote_index_column": 16913
        },
        {
         "id": "85528",
         "CO2_working_capacity [mL/g]": -4.850957870483398,
         "_deepnote_index_column": 16914
        },
        {
         "id": "85529",
         "CO2_working_capacity [mL/g]": -0.3573957085609436,
         "_deepnote_index_column": 16915
        },
        {
         "id": "85530",
         "CO2_working_capacity [mL/g]": 0.9003125429153442,
         "_deepnote_index_column": 16916
        },
        {
         "id": "85531",
         "CO2_working_capacity [mL/g]": 1.8538494110107422,
         "_deepnote_index_column": 16917
        },
        {
         "id": "85532",
         "CO2_working_capacity [mL/g]": 4.916317939758301,
         "_deepnote_index_column": 16918
        },
        {
         "id": "85533",
         "CO2_working_capacity [mL/g]": -0.3044210970401764,
         "_deepnote_index_column": 16919
        },
        {
         "id": "85534",
         "CO2_working_capacity [mL/g]": 22.721269607543945,
         "_deepnote_index_column": 16920
        },
        {
         "id": "85535",
         "CO2_working_capacity [mL/g]": -0.46558862924575806,
         "_deepnote_index_column": 16921
        },
        {
         "id": "85536",
         "CO2_working_capacity [mL/g]": 3.8184661865234375,
         "_deepnote_index_column": 16922
        },
        {
         "id": "85537",
         "CO2_working_capacity [mL/g]": -4.10009765625,
         "_deepnote_index_column": 16923
        },
        {
         "id": "85538",
         "CO2_working_capacity [mL/g]": 0.12253065407276154,
         "_deepnote_index_column": 16924
        },
        {
         "id": "85539",
         "CO2_working_capacity [mL/g]": -4.6654953956604,
         "_deepnote_index_column": 16925
        },
        {
         "id": "85540",
         "CO2_working_capacity [mL/g]": 0.11918951570987701,
         "_deepnote_index_column": 16926
        },
        {
         "id": "85541",
         "CO2_working_capacity [mL/g]": 0.24193498492240906,
         "_deepnote_index_column": 16927
        },
        {
         "id": "85542",
         "CO2_working_capacity [mL/g]": -1.510284662246704,
         "_deepnote_index_column": 16928
        },
        {
         "id": "85543",
         "CO2_working_capacity [mL/g]": -1.5027574300765991,
         "_deepnote_index_column": 16929
        },
        {
         "id": "85544",
         "CO2_working_capacity [mL/g]": 1.1838911771774292,
         "_deepnote_index_column": 16930
        },
        {
         "id": "85545",
         "CO2_working_capacity [mL/g]": -0.2607383131980896,
         "_deepnote_index_column": 16931
        },
        {
         "id": "85546",
         "CO2_working_capacity [mL/g]": -4.85756254196167,
         "_deepnote_index_column": 16932
        },
        {
         "id": "85547",
         "CO2_working_capacity [mL/g]": -0.53955078125,
         "_deepnote_index_column": 16933
        },
        {
         "id": "85548",
         "CO2_working_capacity [mL/g]": 55.45185852050781,
         "_deepnote_index_column": 16934
        },
        {
         "id": "85549",
         "CO2_working_capacity [mL/g]": -0.8821507096290588,
         "_deepnote_index_column": 16935
        },
        {
         "id": "85550",
         "CO2_working_capacity [mL/g]": -7.117287635803223,
         "_deepnote_index_column": 16936
        },
        {
         "id": "85551",
         "CO2_working_capacity [mL/g]": -4.981169700622559,
         "_deepnote_index_column": 16937
        },
        {
         "id": "85552",
         "CO2_working_capacity [mL/g]": -6.252800941467285,
         "_deepnote_index_column": 16938
        },
        {
         "id": "85553",
         "CO2_working_capacity [mL/g]": -2.08477783203125,
         "_deepnote_index_column": 16939
        },
        {
         "id": "85554",
         "CO2_working_capacity [mL/g]": 12.84570026397705,
         "_deepnote_index_column": 16940
        },
        {
         "id": "85555",
         "CO2_working_capacity [mL/g]": 19.427074432373047,
         "_deepnote_index_column": 16941
        },
        {
         "id": "85556",
         "CO2_working_capacity [mL/g]": 11.744746208190918,
         "_deepnote_index_column": 16942
        },
        {
         "id": "85557",
         "CO2_working_capacity [mL/g]": 3.5109474658966064,
         "_deepnote_index_column": 16943
        },
        {
         "id": "85558",
         "CO2_working_capacity [mL/g]": -3.5231270790100098,
         "_deepnote_index_column": 16944
        },
        {
         "id": "85559",
         "CO2_working_capacity [mL/g]": -7.407700538635254,
         "_deepnote_index_column": 16945
        },
        {
         "id": "85560",
         "CO2_working_capacity [mL/g]": -6.325711727142334,
         "_deepnote_index_column": 16946
        },
        {
         "id": "85561",
         "CO2_working_capacity [mL/g]": -1.4631226062774658,
         "_deepnote_index_column": 16947
        },
        {
         "id": "85562",
         "CO2_working_capacity [mL/g]": 12.805983543395996,
         "_deepnote_index_column": 16948
        },
        {
         "id": "85563",
         "CO2_working_capacity [mL/g]": -2.4400742053985596,
         "_deepnote_index_column": 16949
        },
        {
         "id": "85564",
         "CO2_working_capacity [mL/g]": 1.0860387086868286,
         "_deepnote_index_column": 16950
        },
        {
         "id": "85565",
         "CO2_working_capacity [mL/g]": -0.506820559501648,
         "_deepnote_index_column": 16951
        },
        {
         "id": "85566",
         "CO2_working_capacity [mL/g]": -2.734436511993408,
         "_deepnote_index_column": 16952
        },
        {
         "id": "85567",
         "CO2_working_capacity [mL/g]": -6.141639232635498,
         "_deepnote_index_column": 16953
        },
        {
         "id": "85568",
         "CO2_working_capacity [mL/g]": -5.927189826965332,
         "_deepnote_index_column": 16954
        },
        {
         "id": "85569",
         "CO2_working_capacity [mL/g]": -1.6401482820510864,
         "_deepnote_index_column": 16955
        },
        {
         "id": "85570",
         "CO2_working_capacity [mL/g]": -4.040332317352295,
         "_deepnote_index_column": 16956
        },
        {
         "id": "85571",
         "CO2_working_capacity [mL/g]": 3.5129897594451904,
         "_deepnote_index_column": 16957
        },
        {
         "id": "85572",
         "CO2_working_capacity [mL/g]": -0.7017218470573425,
         "_deepnote_index_column": 16958
        },
        {
         "id": "85573",
         "CO2_working_capacity [mL/g]": 1.3145439624786377,
         "_deepnote_index_column": 16959
        },
        {
         "id": "85574",
         "CO2_working_capacity [mL/g]": 2.9436299800872803,
         "_deepnote_index_column": 16960
        },
        {
         "id": "85575",
         "CO2_working_capacity [mL/g]": 68.75801849365234,
         "_deepnote_index_column": 16961
        },
        {
         "id": "85576",
         "CO2_working_capacity [mL/g]": 0.16058024764060974,
         "_deepnote_index_column": 16962
        },
        {
         "id": "85577",
         "CO2_working_capacity [mL/g]": 8.422378540039062,
         "_deepnote_index_column": 16963
        },
        {
         "id": "85578",
         "CO2_working_capacity [mL/g]": -5.768594264984131,
         "_deepnote_index_column": 16964
        },
        {
         "id": "85579",
         "CO2_working_capacity [mL/g]": -2.855489492416382,
         "_deepnote_index_column": 16965
        },
        {
         "id": "85580",
         "CO2_working_capacity [mL/g]": -0.26874786615371704,
         "_deepnote_index_column": 16966
        },
        {
         "id": "85581",
         "CO2_working_capacity [mL/g]": 28.228540420532227,
         "_deepnote_index_column": 16967
        },
        {
         "id": "85582",
         "CO2_working_capacity [mL/g]": -4.18876838684082,
         "_deepnote_index_column": 16968
        },
        {
         "id": "85583",
         "CO2_working_capacity [mL/g]": 3.627493381500244,
         "_deepnote_index_column": 16969
        },
        {
         "id": "85584",
         "CO2_working_capacity [mL/g]": 0.05716690421104431,
         "_deepnote_index_column": 16970
        },
        {
         "id": "85585",
         "CO2_working_capacity [mL/g]": 1.1845784187316895,
         "_deepnote_index_column": 16971
        },
        {
         "id": "85586",
         "CO2_working_capacity [mL/g]": -11.50691032409668,
         "_deepnote_index_column": 16972
        },
        {
         "id": "85587",
         "CO2_working_capacity [mL/g]": 0.11144445091485977,
         "_deepnote_index_column": 16973
        },
        {
         "id": "85588",
         "CO2_working_capacity [mL/g]": 0.8960633277893066,
         "_deepnote_index_column": 16974
        },
        {
         "id": "85589",
         "CO2_working_capacity [mL/g]": -6.299510478973389,
         "_deepnote_index_column": 16975
        },
        {
         "id": "85590",
         "CO2_working_capacity [mL/g]": -3.2594456672668457,
         "_deepnote_index_column": 16976
        },
        {
         "id": "85591",
         "CO2_working_capacity [mL/g]": -7.419698715209961,
         "_deepnote_index_column": 16977
        },
        {
         "id": "85592",
         "CO2_working_capacity [mL/g]": -1.9112468957901,
         "_deepnote_index_column": 16978
        },
        {
         "id": "85593",
         "CO2_working_capacity [mL/g]": 12.265252113342285,
         "_deepnote_index_column": 16979
        },
        {
         "id": "85594",
         "CO2_working_capacity [mL/g]": 3.7909276485443115,
         "_deepnote_index_column": 16980
        },
        {
         "id": "85595",
         "CO2_working_capacity [mL/g]": 1.9962899684906006,
         "_deepnote_index_column": 16981
        },
        {
         "id": "85596",
         "CO2_working_capacity [mL/g]": -0.7377406358718872,
         "_deepnote_index_column": 16982
        },
        {
         "id": "85597",
         "CO2_working_capacity [mL/g]": -2.4514806270599365,
         "_deepnote_index_column": 16983
        },
        {
         "id": "85598",
         "CO2_working_capacity [mL/g]": 3.462143659591675,
         "_deepnote_index_column": 16984
        },
        {
         "id": "85599",
         "CO2_working_capacity [mL/g]": 12.242562294006348,
         "_deepnote_index_column": 16985
        },
        {
         "id": "85600",
         "CO2_working_capacity [mL/g]": 4.6270432472229,
         "_deepnote_index_column": 16986
        },
        {
         "id": "85601",
         "CO2_working_capacity [mL/g]": 0.14034825563430786,
         "_deepnote_index_column": 16987
        },
        {
         "id": "85602",
         "CO2_working_capacity [mL/g]": 1.0909045934677124,
         "_deepnote_index_column": 16988
        },
        {
         "id": "85603",
         "CO2_working_capacity [mL/g]": -1.9429376125335693,
         "_deepnote_index_column": 16989
        },
        {
         "id": "85604",
         "CO2_working_capacity [mL/g]": 3.7537801265716553,
         "_deepnote_index_column": 16990
        },
        {
         "id": "85605",
         "CO2_working_capacity [mL/g]": 4.594583034515381,
         "_deepnote_index_column": 16991
        },
        {
         "id": "85606",
         "CO2_working_capacity [mL/g]": -2.3798980712890625,
         "_deepnote_index_column": 16992
        },
        {
         "id": "85607",
         "CO2_working_capacity [mL/g]": -2.9577889442443848,
         "_deepnote_index_column": 16993
        },
        {
         "id": "85608",
         "CO2_working_capacity [mL/g]": -2.616175889968872,
         "_deepnote_index_column": 16994
        },
        {
         "id": "85609",
         "CO2_working_capacity [mL/g]": -5.380281925201416,
         "_deepnote_index_column": 16995
        },
        {
         "id": "85610",
         "CO2_working_capacity [mL/g]": 1.4242340326309204,
         "_deepnote_index_column": 16996
        },
        {
         "id": "85611",
         "CO2_working_capacity [mL/g]": 1.100455403327942,
         "_deepnote_index_column": 16997
        },
        {
         "id": "85612",
         "CO2_working_capacity [mL/g]": -0.930252194404602,
         "_deepnote_index_column": 16998
        },
        {
         "id": "85613",
         "CO2_working_capacity [mL/g]": -5.049609661102295,
         "_deepnote_index_column": 16999
        }
       ]
      },
      "text/plain": "          id  CO2_working_capacity [mL/g]\n0      68614                   190.731827\n1      68615                    59.756840\n2      68616                    73.331406\n3      68617                    58.991524\n4      68618                    58.016315\n...      ...                          ...\n16995  85609                    -5.380282\n16996  85610                     1.424234\n16997  85611                     1.100455\n16998  85612                    -0.930252\n16999  85613                    -5.049610\n\n[17000 rows x 2 columns]",
      "text/html": "<div>\n<style scoped>\n    .dataframe tbody tr th:only-of-type {\n        vertical-align: middle;\n    }\n\n    .dataframe tbody tr th {\n        vertical-align: top;\n    }\n\n    .dataframe thead th {\n        text-align: right;\n    }\n</style>\n<table border=\"1\" class=\"dataframe\">\n  <thead>\n    <tr style=\"text-align: right;\">\n      <th></th>\n      <th>id</th>\n      <th>CO2_working_capacity [mL/g]</th>\n    </tr>\n  </thead>\n  <tbody>\n    <tr>\n      <th>0</th>\n      <td>68614</td>\n      <td>190.731827</td>\n    </tr>\n    <tr>\n      <th>1</th>\n      <td>68615</td>\n      <td>59.756840</td>\n    </tr>\n    <tr>\n      <th>2</th>\n      <td>68616</td>\n      <td>73.331406</td>\n    </tr>\n    <tr>\n      <th>3</th>\n      <td>68617</td>\n      <td>58.991524</td>\n    </tr>\n    <tr>\n      <th>4</th>\n      <td>68618</td>\n      <td>58.016315</td>\n    </tr>\n    <tr>\n      <th>...</th>\n      <td>...</td>\n      <td>...</td>\n    </tr>\n    <tr>\n      <th>16995</th>\n      <td>85609</td>\n      <td>-5.380282</td>\n    </tr>\n    <tr>\n      <th>16996</th>\n      <td>85610</td>\n      <td>1.424234</td>\n    </tr>\n    <tr>\n      <th>16997</th>\n      <td>85611</td>\n      <td>1.100455</td>\n    </tr>\n    <tr>\n      <th>16998</th>\n      <td>85612</td>\n      <td>-0.930252</td>\n    </tr>\n    <tr>\n      <th>16999</th>\n      <td>85613</td>\n      <td>-5.049610</td>\n    </tr>\n  </tbody>\n</table>\n<p>17000 rows × 2 columns</p>\n</div>"
     },
     "metadata": {}
    }
   ],
   "execution_count": null
  },
  {
   "cell_type": "markdown",
   "source": "# Improve model : HyperBand",
   "metadata": {
    "tags": [],
    "is_collapsed": false,
    "cell_id": "00027-b6955d75-f908-4555-92ca-8ecc1bd32565",
    "deepnote_cell_type": "text-cell-h1"
   }
  },
  {
   "cell_type": "code",
   "metadata": {
    "tags": [],
    "cell_id": "00028-ad72e9d4-8744-4283-96f5-36a135af616b",
    "deepnote_to_be_reexecuted": false,
    "source_hash": "91f7ae34",
    "execution_start": 1634221568128,
    "execution_millis": 4839,
    "deepnote_cell_type": "code"
   },
   "source": "! pip install keras-tuner \nimport kerastuner as kt",
   "outputs": [
    {
     "name": "stdout",
     "text": "Collecting keras-tuner\n  Downloading keras_tuner-1.0.4-py3-none-any.whl (97 kB)\n\u001b[K     |████████████████████████████████| 97 kB 12.3 MB/s \n\u001b[?25hRequirement already satisfied: requests in /shared-libs/python3.7/py/lib/python3.7/site-packages (from keras-tuner) (2.26.0)\nRequirement already satisfied: scipy in /shared-libs/python3.7/py/lib/python3.7/site-packages (from keras-tuner) (1.7.1)\nRequirement already satisfied: packaging in /shared-libs/python3.7/py-core/lib/python3.7/site-packages (from keras-tuner) (21.0)\nRequirement already satisfied: ipython in /shared-libs/python3.7/py-core/lib/python3.7/site-packages (from keras-tuner) (7.28.0)\nRequirement already satisfied: tensorboard in /shared-libs/python3.7/py/lib/python3.7/site-packages (from keras-tuner) (2.6.0)\nCollecting kt-legacy\n  Downloading kt_legacy-1.0.4-py3-none-any.whl (9.6 kB)\nRequirement already satisfied: numpy in /shared-libs/python3.7/py/lib/python3.7/site-packages (from keras-tuner) (1.19.5)\nRequirement already satisfied: pygments in /shared-libs/python3.7/py-core/lib/python3.7/site-packages (from ipython->keras-tuner) (2.10.0)\nRequirement already satisfied: decorator in /shared-libs/python3.7/py-core/lib/python3.7/site-packages (from ipython->keras-tuner) (5.1.0)\nRequirement already satisfied: pickleshare in /shared-libs/python3.7/py-core/lib/python3.7/site-packages (from ipython->keras-tuner) (0.7.5)\nRequirement already satisfied: matplotlib-inline in /shared-libs/python3.7/py-core/lib/python3.7/site-packages (from ipython->keras-tuner) (0.1.3)\nRequirement already satisfied: setuptools>=18.5 in /root/venv/lib/python3.7/site-packages (from ipython->keras-tuner) (58.1.0)\nRequirement already satisfied: jedi>=0.16 in /shared-libs/python3.7/py-core/lib/python3.7/site-packages (from ipython->keras-tuner) (0.17.2)\nRequirement already satisfied: backcall in /shared-libs/python3.7/py-core/lib/python3.7/site-packages (from ipython->keras-tuner) (0.2.0)\nRequirement already satisfied: traitlets>=4.2 in /shared-libs/python3.7/py-core/lib/python3.7/site-packages (from ipython->keras-tuner) (4.3.3)\nRequirement already satisfied: prompt-toolkit!=3.0.0,!=3.0.1,<3.1.0,>=2.0.0 in /shared-libs/python3.7/py-core/lib/python3.7/site-packages (from ipython->keras-tuner) (3.0.20)\nRequirement already satisfied: pexpect>4.3 in /shared-libs/python3.7/py-core/lib/python3.7/site-packages (from ipython->keras-tuner) (4.8.0)\nRequirement already satisfied: parso<0.8.0,>=0.7.0 in /shared-libs/python3.7/py-core/lib/python3.7/site-packages (from jedi>=0.16->ipython->keras-tuner) (0.7.1)\nRequirement already satisfied: ptyprocess>=0.5 in /shared-libs/python3.7/py-core/lib/python3.7/site-packages (from pexpect>4.3->ipython->keras-tuner) (0.7.0)\nRequirement already satisfied: wcwidth in /shared-libs/python3.7/py-core/lib/python3.7/site-packages (from prompt-toolkit!=3.0.0,!=3.0.1,<3.1.0,>=2.0.0->ipython->keras-tuner) (0.2.5)\nRequirement already satisfied: six in /shared-libs/python3.7/py-core/lib/python3.7/site-packages (from traitlets>=4.2->ipython->keras-tuner) (1.16.0)\nRequirement already satisfied: ipython-genutils in /shared-libs/python3.7/py-core/lib/python3.7/site-packages (from traitlets>=4.2->ipython->keras-tuner) (0.2.0)\nRequirement already satisfied: pyparsing>=2.0.2 in /shared-libs/python3.7/py-core/lib/python3.7/site-packages (from packaging->keras-tuner) (2.4.7)\nRequirement already satisfied: idna<4,>=2.5 in /shared-libs/python3.7/py-core/lib/python3.7/site-packages (from requests->keras-tuner) (3.3)\nRequirement already satisfied: charset-normalizer~=2.0.0 in /shared-libs/python3.7/py/lib/python3.7/site-packages (from requests->keras-tuner) (2.0.7)\nRequirement already satisfied: certifi>=2017.4.17 in /shared-libs/python3.7/py/lib/python3.7/site-packages (from requests->keras-tuner) (2021.10.8)\nRequirement already satisfied: urllib3<1.27,>=1.21.1 in /shared-libs/python3.7/py/lib/python3.7/site-packages (from requests->keras-tuner) (1.26.7)\nRequirement already satisfied: protobuf>=3.6.0 in /shared-libs/python3.7/py/lib/python3.7/site-packages (from tensorboard->keras-tuner) (3.17.3)\nRequirement already satisfied: wheel>=0.26 in /root/venv/lib/python3.7/site-packages (from tensorboard->keras-tuner) (0.37.0)\nRequirement already satisfied: tensorboard-data-server<0.7.0,>=0.6.0 in /shared-libs/python3.7/py/lib/python3.7/site-packages (from tensorboard->keras-tuner) (0.6.1)\nRequirement already satisfied: werkzeug>=0.11.15 in /shared-libs/python3.7/py/lib/python3.7/site-packages (from tensorboard->keras-tuner) (2.0.2)\nRequirement already satisfied: grpcio>=1.24.3 in /shared-libs/python3.7/py/lib/python3.7/site-packages (from tensorboard->keras-tuner) (1.32.0)\nRequirement already satisfied: absl-py>=0.4 in /shared-libs/python3.7/py/lib/python3.7/site-packages (from tensorboard->keras-tuner) (0.14.1)\nRequirement already satisfied: google-auth-oauthlib<0.5,>=0.4.1 in /shared-libs/python3.7/py/lib/python3.7/site-packages (from tensorboard->keras-tuner) (0.4.6)\nRequirement already satisfied: google-auth<2,>=1.6.3 in /shared-libs/python3.7/py/lib/python3.7/site-packages (from tensorboard->keras-tuner) (1.35.0)\nRequirement already satisfied: markdown>=2.6.8 in /shared-libs/python3.7/py/lib/python3.7/site-packages (from tensorboard->keras-tuner) (3.3.4)\nRequirement already satisfied: tensorboard-plugin-wit>=1.6.0 in /shared-libs/python3.7/py/lib/python3.7/site-packages (from tensorboard->keras-tuner) (1.8.0)\nRequirement already satisfied: pyasn1-modules>=0.2.1 in /shared-libs/python3.7/py/lib/python3.7/site-packages (from google-auth<2,>=1.6.3->tensorboard->keras-tuner) (0.2.8)\nRequirement already satisfied: cachetools<5.0,>=2.0.0 in /shared-libs/python3.7/py/lib/python3.7/site-packages (from google-auth<2,>=1.6.3->tensorboard->keras-tuner) (4.2.4)\nRequirement already satisfied: rsa<5,>=3.1.4 in /shared-libs/python3.7/py/lib/python3.7/site-packages (from google-auth<2,>=1.6.3->tensorboard->keras-tuner) (4.7.2)\nRequirement already satisfied: requests-oauthlib>=0.7.0 in /shared-libs/python3.7/py/lib/python3.7/site-packages (from google-auth-oauthlib<0.5,>=0.4.1->tensorboard->keras-tuner) (1.3.0)\nRequirement already satisfied: importlib-metadata in /shared-libs/python3.7/py-core/lib/python3.7/site-packages (from markdown>=2.6.8->tensorboard->keras-tuner) (4.8.1)\nRequirement already satisfied: pyasn1<0.5.0,>=0.4.6 in /shared-libs/python3.7/py/lib/python3.7/site-packages (from pyasn1-modules>=0.2.1->google-auth<2,>=1.6.3->tensorboard->keras-tuner) (0.4.8)\nRequirement already satisfied: oauthlib>=3.0.0 in /shared-libs/python3.7/py/lib/python3.7/site-packages (from requests-oauthlib>=0.7.0->google-auth-oauthlib<0.5,>=0.4.1->tensorboard->keras-tuner) (3.1.1)\nRequirement already satisfied: zipp>=0.5 in /shared-libs/python3.7/py-core/lib/python3.7/site-packages (from importlib-metadata->markdown>=2.6.8->tensorboard->keras-tuner) (3.6.0)\nRequirement already satisfied: typing-extensions>=3.6.4 in /shared-libs/python3.7/py-core/lib/python3.7/site-packages (from importlib-metadata->markdown>=2.6.8->tensorboard->keras-tuner) (3.10.0.2)\nInstalling collected packages: kt-legacy, keras-tuner\nSuccessfully installed keras-tuner-1.0.4 kt-legacy-1.0.4\n\u001b[33mWARNING: You are using pip version 21.2.4; however, version 21.3 is available.\nYou should consider upgrading via the '/root/venv/bin/python -m pip install --upgrade pip' command.\u001b[0m\n/shared-libs/python3.7/py-core/lib/python3.7/site-packages/ipykernel_launcher.py:2: DeprecationWarning: `import kerastuner` is deprecated, please use `import keras_tuner`.\n  \n",
     "output_type": "stream"
    }
   ],
   "execution_count": null
  },
  {
   "cell_type": "code",
   "metadata": {
    "tags": [],
    "cell_id": "00029-a82610df-8223-4a2c-b519-03197aaeb423",
    "deepnote_to_be_reexecuted": false,
    "source_hash": "ce6a910d",
    "execution_start": 1634221594095,
    "execution_millis": 0,
    "deepnote_cell_type": "code"
   },
   "source": "def build_model(hp):\n    '''\n    Builds model and sets up hyperparameter space to search.\n    \n    Parameters\n    ----------\n    hp : HyperParameter object\n        Configures hyperparameters to tune.\n        \n    Returns\n    -------\n    model : keras model\n        Compiled model with hyperparameters to tune.\n    '''\n    # build the model\n    model = models.Sequential()\n    Flatten(input_shape=(X.shape[1:],))\n    for i in range(hp.Int(\"num_layers\", 1, 5)):\n      model.add(Dense(units=hp.Int(\"units_\" + str(i), min_value=16, max_value=100, step=1), activation=hp.Choice(\"activation\", values=['relu', 'elu', 'selu'])))\n      model.add(Dropout(hp.Float(\"dropout_\" + str(i), 0, 0.5, step=0.1)))\n    model.add(Dense(1, activation='sigmoid'))\n\n    #  \n    # compile the model\n    model.compile(optimizer=tf.keras.optimizers.Adam(learning_rate=hp.Float(\"lr\", 1e-4, 1e-2, sampling ='log')),\n                  loss='binary_crossentropy',\n                  metrics=['accuracy'])\n\n    return model",
   "outputs": [],
   "execution_count": null
  },
  {
   "cell_type": "code",
   "metadata": {
    "tags": [],
    "cell_id": "00030-755e515a-5b4f-4824-8be1-749dd4c5b32f",
    "deepnote_to_be_reexecuted": false,
    "source_hash": "3659e685",
    "execution_start": 1634221596917,
    "execution_millis": 927,
    "deepnote_cell_type": "code"
   },
   "source": "# Instantiate the tuner\ntuner = kt.Hyperband(build_model, # A HyperModel - takes a hyperparameter and return model instance\n                     objective=\"val_accuracy\", # metrics to be optimized\n                     max_epochs=10, # the maximum number of epochs to train one model\n                     factor=3, # the reduction factor for the number of epoch\n                     hyperband_iterations=5, # the number of times to iterate over the full Hyperband algorithm\n                     directory=\"kt_dir\", # saves logs and checkpoints for each trial run during the hyperparameter search\n                     project_name=\"kt_hyperband\",) # differentiate with other runs and is a subdirectory under directory",
   "outputs": [
    {
     "name": "stdout",
     "text": "INFO:tensorflow:Reloading Oracle from existing project kt_dir/kt_hyperband/oracle.json\nINFO:tensorflow:Reloading Tuner from kt_dir/kt_hyperband/tuner0.json\n",
     "output_type": "stream"
    }
   ],
   "execution_count": null
  },
  {
   "cell_type": "code",
   "metadata": {
    "tags": [],
    "cell_id": "00031-3f40ff14-270b-40dc-bfaf-47653e63c55d",
    "deepnote_to_be_reexecuted": false,
    "source_hash": "53e78a3e",
    "execution_start": 1634221602719,
    "execution_millis": 149,
    "deepnote_cell_type": "code"
   },
   "source": "tuner.search_space_summary() #ดูว่า search hyperparameter space ตัวไหนยังไงบ้าง",
   "outputs": [
    {
     "name": "stdout",
     "text": "Search space summary\nDefault search space size: 13\nnum_layers (Int)\n{'default': None, 'conditions': [], 'min_value': 1, 'max_value': 5, 'step': 1, 'sampling': None}\nunits_0 (Int)\n{'default': None, 'conditions': [], 'min_value': 16, 'max_value': 100, 'step': 1, 'sampling': None}\nactivation (Choice)\n{'default': 'relu', 'conditions': [], 'values': ['relu', 'elu', 'selu'], 'ordered': False}\ndropout_0 (Float)\n{'default': 0.0, 'conditions': [], 'min_value': 0.0, 'max_value': 0.5, 'step': 0.1, 'sampling': None}\nlr (Float)\n{'default': 0.0001, 'conditions': [], 'min_value': 0.0001, 'max_value': 0.01, 'step': None, 'sampling': 'log'}\nunits_1 (Int)\n{'default': None, 'conditions': [], 'min_value': 16, 'max_value': 100, 'step': 1, 'sampling': None}\ndropout_1 (Float)\n{'default': 0.0, 'conditions': [], 'min_value': 0.0, 'max_value': 0.5, 'step': 0.1, 'sampling': None}\nunits_2 (Int)\n{'default': None, 'conditions': [], 'min_value': 16, 'max_value': 100, 'step': 1, 'sampling': None}\ndropout_2 (Float)\n{'default': 0.0, 'conditions': [], 'min_value': 0.0, 'max_value': 0.5, 'step': 0.1, 'sampling': None}\nunits_3 (Int)\n{'default': None, 'conditions': [], 'min_value': 16, 'max_value': 100, 'step': 1, 'sampling': None}\ndropout_3 (Float)\n{'default': 0.0, 'conditions': [], 'min_value': 0.0, 'max_value': 0.5, 'step': 0.1, 'sampling': None}\nunits_4 (Int)\n{'default': None, 'conditions': [], 'min_value': 16, 'max_value': 100, 'step': 1, 'sampling': None}\ndropout_4 (Float)\n{'default': 0.0, 'conditions': [], 'min_value': 0.0, 'max_value': 0.5, 'step': 0.1, 'sampling': None}\n",
     "output_type": "stream"
    }
   ],
   "execution_count": null
  },
  {
   "cell_type": "code",
   "metadata": {
    "tags": [],
    "cell_id": "00032-2a09485c-ffd0-4583-9b17-cb46b0eb68e3",
    "deepnote_to_be_reexecuted": false,
    "source_hash": "9b34bd6c",
    "execution_start": 1634221606222,
    "execution_millis": 1,
    "deepnote_cell_type": "code"
   },
   "source": "stop_early = tf.keras.callbacks.EarlyStopping(monitor='val_loss', patience=5)\ntuner.search(X,y, epochs=5, validation_split=0.4, callbacks=[stop_early], verbose=2)",
   "outputs": [
    {
     "name": "stdout",
     "text": "INFO:tensorflow:Oracle triggered exit\n",
     "output_type": "stream"
    }
   ],
   "execution_count": null
  },
  {
   "cell_type": "code",
   "metadata": {
    "tags": [],
    "cell_id": "00054-4511efdb-3862-4033-ae8f-6c053d5f819e",
    "deepnote_to_be_reexecuted": false,
    "source_hash": "f4d5754a",
    "execution_start": 1634221620422,
    "execution_millis": 29,
    "deepnote_cell_type": "code"
   },
   "source": "best_hp=tuner.get_best_hyperparameters()[0]\nprint(best_hp.get('units_0'))\nprint(best_hp.get('lr'))\nprint(best_hp.get('num_layers'))\nprint(best_hp.get('activation'))\nprint(best_hp.get('dropout_0'))",
   "outputs": [
    {
     "name": "stdout",
     "text": "47\n0.0020187460474604367\n3\nrelu\n0.2\n",
     "output_type": "stream"
    }
   ],
   "execution_count": null
  },
  {
   "cell_type": "code",
   "metadata": {
    "tags": [],
    "cell_id": "00056-4941dcd8-a9ac-456c-84b8-72f20259877f",
    "deepnote_to_be_reexecuted": false,
    "source_hash": "d014afe0",
    "execution_start": 1634221677232,
    "execution_millis": 216956,
    "deepnote_cell_type": "code"
   },
   "source": "model = tuner.hypermodel.build(best_hp)\nhistory = model.fit(X, y, validation_split=0.4, epochs=300, batch_size=256,callbacks=[model_checkpoint_callback])\nmodel.summary()",
   "outputs": [
    {
     "name": "stdout",
     "text": "Epoch 1/300\n123/123 [==============================] - 6s 37ms/step - loss: -26807.1165 - accuracy: 0.0000e+00 - val_loss: -964604.9375 - val_accuracy: 0.0000e+00\nEpoch 2/300\n123/123 [==============================] - 0s 3ms/step - loss: -4271321.7208 - accuracy: 0.0000e+00 - val_loss: -32533842.0000 - val_accuracy: 0.0000e+00\nEpoch 3/300\n123/123 [==============================] - 0s 3ms/step - loss: -63016379.1935 - accuracy: 0.0000e+00 - val_loss: -220245632.0000 - val_accuracy: 0.0000e+00\nEpoch 4/300\n123/123 [==============================] - 0s 3ms/step - loss: -332436929.1613 - accuracy: 0.0000e+00 - val_loss: -803517504.0000 - val_accuracy: 0.0000e+00\nEpoch 5/300\n123/123 [==============================] - 0s 3ms/step - loss: -1072054282.3226 - accuracy: 0.0000e+00 - val_loss: -2111350784.0000 - val_accuracy: 0.0000e+00\nEpoch 6/300\n123/123 [==============================] - 0s 4ms/step - loss: -2629827143.2258 - accuracy: 0.0000e+00 - val_loss: -4528471040.0000 - val_accuracy: 0.0000e+00\nEpoch 7/300\n123/123 [==============================] - 0s 3ms/step - loss: -5444936200.2581 - accuracy: 0.0000e+00 - val_loss: -8467590656.0000 - val_accuracy: 0.0000e+00\nEpoch 8/300\n123/123 [==============================] - 0s 3ms/step - loss: -9863243478.7097 - accuracy: 0.0000e+00 - val_loss: -14377219072.0000 - val_accuracy: 0.0000e+00\nEpoch 9/300\n123/123 [==============================] - 0s 3ms/step - loss: -16320407254.7097 - accuracy: 0.0000e+00 - val_loss: -22709708800.0000 - val_accuracy: 0.0000e+00\nEpoch 10/300\n123/123 [==============================] - 0s 3ms/step - loss: -25711080002.0645 - accuracy: 0.0000e+00 - val_loss: -33984673792.0000 - val_accuracy: 0.0000e+00\nEpoch 11/300\n123/123 [==============================] - 0s 3ms/step - loss: -37690305222.1936 - accuracy: 0.0000e+00 - val_loss: -48629780480.0000 - val_accuracy: 0.0000e+00\nEpoch 12/300\n123/123 [==============================] - 0s 3ms/step - loss: -53410318369.0323 - accuracy: 0.0000e+00 - val_loss: -67126816768.0000 - val_accuracy: 0.0000e+00\nEpoch 13/300\n123/123 [==============================] - 0s 4ms/step - loss: -73123941904.5161 - accuracy: 0.0000e+00 - val_loss: -90013630464.0000 - val_accuracy: 0.0000e+00\nEpoch 14/300\n123/123 [==============================] - 0s 3ms/step - loss: -96498601587.6129 - accuracy: 0.0000e+00 - val_loss: -117731033088.0000 - val_accuracy: 0.0000e+00\nEpoch 15/300\n123/123 [==============================] - 0s 4ms/step - loss: -126395036110.4516 - accuracy: 0.0000e+00 - val_loss: -150664249344.0000 - val_accuracy: 0.0000e+00\nEpoch 16/300\n123/123 [==============================] - 0s 3ms/step - loss: -160903847011.0968 - accuracy: 0.0000e+00 - val_loss: -189580460032.0000 - val_accuracy: 0.0000e+00\nEpoch 17/300\n123/123 [==============================] - 0s 4ms/step - loss: -200470066605.4193 - accuracy: 0.0000e+00 - val_loss: -234627842048.0000 - val_accuracy: 0.0000e+00\nEpoch 18/300\n123/123 [==============================] - 0s 3ms/step - loss: -249969863118.4516 - accuracy: 0.0000e+00 - val_loss: -286330781696.0000 - val_accuracy: 0.0000e+00\nEpoch 19/300\n123/123 [==============================] - 0s 3ms/step - loss: -299616527921.5484 - accuracy: 0.0000e+00 - val_loss: -345284771840.0000 - val_accuracy: 0.0000e+00\nEpoch 20/300\n123/123 [==============================] - 0s 3ms/step - loss: -362246729331.6129 - accuracy: 0.0000e+00 - val_loss: -411762589696.0000 - val_accuracy: 0.0000e+00\nEpoch 21/300\n123/123 [==============================] - 0s 3ms/step - loss: -435549374530.0645 - accuracy: 0.0000e+00 - val_loss: -486102204416.0000 - val_accuracy: 0.0000e+00\nEpoch 22/300\n123/123 [==============================] - 0s 3ms/step - loss: -510445952495.4839 - accuracy: 0.0000e+00 - val_loss: -568965529600.0000 - val_accuracy: 0.0000e+00\nEpoch 23/300\n123/123 [==============================] - 0s 4ms/step - loss: -593285048121.8064 - accuracy: 0.0000e+00 - val_loss: -660414070784.0000 - val_accuracy: 0.0000e+00\nEpoch 24/300\n123/123 [==============================] - 0s 3ms/step - loss: -691640877584.5161 - accuracy: 0.0000e+00 - val_loss: -761404391424.0000 - val_accuracy: 0.0000e+00\nEpoch 25/300\n123/123 [==============================] - 1s 5ms/step - loss: -796416946043.8710 - accuracy: 0.0000e+00 - val_loss: -871522697216.0000 - val_accuracy: 0.0000e+00\nEpoch 26/300\n123/123 [==============================] - 1s 5ms/step - loss: -911435702007.7419 - accuracy: 0.0000e+00 - val_loss: -992631455744.0000 - val_accuracy: 0.0000e+00\nEpoch 27/300\n123/123 [==============================] - 1s 5ms/step - loss: -1032998536753.5483 - accuracy: 0.0000e+00 - val_loss: -1124104273920.0000 - val_accuracy: 0.0000e+00\nEpoch 28/300\n123/123 [==============================] - 1s 6ms/step - loss: -1158376919700.6453 - accuracy: 0.0000e+00 - val_loss: -1266307301376.0000 - val_accuracy: 0.0000e+00\nEpoch 29/300\n123/123 [==============================] - 1s 5ms/step - loss: -1317744810182.1936 - accuracy: 0.0000e+00 - val_loss: -1420538413056.0000 - val_accuracy: 0.0000e+00\nEpoch 30/300\n123/123 [==============================] - 1s 6ms/step - loss: -1480580643278.4517 - accuracy: 0.0000e+00 - val_loss: -1586146574336.0000 - val_accuracy: 0.0000e+00\nEpoch 31/300\n123/123 [==============================] - 1s 6ms/step - loss: -1632137147292.9033 - accuracy: 0.0000e+00 - val_loss: -1763313975296.0000 - val_accuracy: 0.0000e+00\nEpoch 32/300\n123/123 [==============================] - 1s 6ms/step - loss: -1828514582131.6128 - accuracy: 0.0000e+00 - val_loss: -1954612772864.0000 - val_accuracy: 0.0000e+00\nEpoch 33/300\n123/123 [==============================] - 1s 5ms/step - loss: -2016798221609.2903 - accuracy: 0.0000e+00 - val_loss: -2158657929216.0000 - val_accuracy: 0.0000e+00\nEpoch 34/300\n123/123 [==============================] - 1s 6ms/step - loss: -2202890562394.8389 - accuracy: 0.0000e+00 - val_loss: -2375579860992.0000 - val_accuracy: 0.0000e+00\nEpoch 35/300\n123/123 [==============================] - 1s 6ms/step - loss: -2432203749309.9355 - accuracy: 0.0000e+00 - val_loss: -2606641709056.0000 - val_accuracy: 0.0000e+00\nEpoch 36/300\n123/123 [==============================] - 1s 5ms/step - loss: -2723258659740.9033 - accuracy: 0.0000e+00 - val_loss: -2852699766784.0000 - val_accuracy: 0.0000e+00\nEpoch 37/300\n123/123 [==============================] - 1s 6ms/step - loss: -2946989669871.4839 - accuracy: 0.0000e+00 - val_loss: -3112913338368.0000 - val_accuracy: 0.0000e+00\nEpoch 38/300\n123/123 [==============================] - 1s 6ms/step - loss: -3238089007368.2583 - accuracy: 0.0000e+00 - val_loss: -3389204987904.0000 - val_accuracy: 0.0000e+00\nEpoch 39/300\n123/123 [==============================] - 1s 5ms/step - loss: -3499229040243.6128 - accuracy: 0.0000e+00 - val_loss: -3680974405632.0000 - val_accuracy: 0.0000e+00\nEpoch 40/300\n123/123 [==============================] - 1s 6ms/step - loss: -3786079847985.5483 - accuracy: 0.0000e+00 - val_loss: -3987781189632.0000 - val_accuracy: 0.0000e+00\nEpoch 41/300\n123/123 [==============================] - 1s 5ms/step - loss: -4069507712561.5483 - accuracy: 0.0000e+00 - val_loss: -4311838621696.0000 - val_accuracy: 0.0000e+00\nEpoch 42/300\n123/123 [==============================] - 1s 5ms/step - loss: -4466126369164.3867 - accuracy: 0.0000e+00 - val_loss: -4653511081984.0000 - val_accuracy: 0.0000e+00\nEpoch 43/300\n123/123 [==============================] - 1s 5ms/step - loss: -4777744916215.7422 - accuracy: 0.0000e+00 - val_loss: -5013729968128.0000 - val_accuracy: 0.0000e+00\nEpoch 44/300\n123/123 [==============================] - 1s 6ms/step - loss: -5171445793825.0322 - accuracy: 0.0000e+00 - val_loss: -5390879686656.0000 - val_accuracy: 0.0000e+00\nEpoch 45/300\n123/123 [==============================] - 1s 5ms/step - loss: -5543456166548.6455 - accuracy: 0.0000e+00 - val_loss: -5786633764864.0000 - val_accuracy: 0.0000e+00\nEpoch 46/300\n123/123 [==============================] - 1s 5ms/step - loss: -5935377154048.0000 - accuracy: 0.0000e+00 - val_loss: -6200605802496.0000 - val_accuracy: 0.0000e+00\nEpoch 47/300\n123/123 [==============================] - 1s 5ms/step - loss: -6357936432953.8066 - accuracy: 0.0000e+00 - val_loss: -6635724996608.0000 - val_accuracy: 0.0000e+00\nEpoch 48/300\n123/123 [==============================] - 1s 5ms/step - loss: -6770320157002.3223 - accuracy: 0.0000e+00 - val_loss: -7089884758016.0000 - val_accuracy: 0.0000e+00\nEpoch 49/300\n123/123 [==============================] - 1s 7ms/step - loss: -7283277599909.1611 - accuracy: 0.0000e+00 - val_loss: -7566236581888.0000 - val_accuracy: 0.0000e+00\nEpoch 50/300\n123/123 [==============================] - 1s 5ms/step - loss: -7673906395069.9355 - accuracy: 0.0000e+00 - val_loss: -8061054353408.0000 - val_accuracy: 0.0000e+00\nEpoch 51/300\n123/123 [==============================] - 1s 5ms/step - loss: -8327889441428.6455 - accuracy: 0.0000e+00 - val_loss: -8576698417152.0000 - val_accuracy: 0.0000e+00\nEpoch 52/300\n123/123 [==============================] - 1s 5ms/step - loss: -8711585035164.9033 - accuracy: 0.0000e+00 - val_loss: -9114983858176.0000 - val_accuracy: 0.0000e+00\nEpoch 53/300\n123/123 [==============================] - 1s 6ms/step - loss: -9425010903634.5801 - accuracy: 0.0000e+00 - val_loss: -9676814024704.0000 - val_accuracy: 0.0000e+00\nEpoch 54/300\n123/123 [==============================] - 1s 6ms/step - loss: -9963968989250.0645 - accuracy: 0.0000e+00 - val_loss: -10259404947456.0000 - val_accuracy: 0.0000e+00\nEpoch 55/300\n123/123 [==============================] - 1s 5ms/step - loss: -10430038671360.0000 - accuracy: 0.0000e+00 - val_loss: -10865008967680.0000 - val_accuracy: 0.0000e+00\nEpoch 56/300\n123/123 [==============================] - 1s 6ms/step - loss: -11185442385787.8711 - accuracy: 0.0000e+00 - val_loss: -11496335605760.0000 - val_accuracy: 0.0000e+00\nEpoch 57/300\n123/123 [==============================] - 1s 5ms/step - loss: -11781700092961.0332 - accuracy: 0.0000e+00 - val_loss: -12151784734720.0000 - val_accuracy: 0.0000e+00\nEpoch 58/300\n123/123 [==============================] - 1s 5ms/step - loss: -12578326695539.6133 - accuracy: 0.0000e+00 - val_loss: -12833289928704.0000 - val_accuracy: 0.0000e+00\nEpoch 59/300\n123/123 [==============================] - 1s 6ms/step - loss: -13115103049661.9355 - accuracy: 0.0000e+00 - val_loss: -13542384205824.0000 - val_accuracy: 0.0000e+00\nEpoch 60/300\n123/123 [==============================] - 1s 6ms/step - loss: -13683045999913.2910 - accuracy: 0.0000e+00 - val_loss: -14272561152000.0000 - val_accuracy: 0.0000e+00\nEpoch 61/300\n123/123 [==============================] - 1s 5ms/step - loss: -14511594300184.7734 - accuracy: 0.0000e+00 - val_loss: -15033587204096.0000 - val_accuracy: 0.0000e+00\nEpoch 62/300\n123/123 [==============================] - 1s 5ms/step - loss: -15293546758144.0000 - accuracy: 0.0000e+00 - val_loss: -15819156226048.0000 - val_accuracy: 0.0000e+00\nEpoch 63/300\n123/123 [==============================] - 1s 5ms/step - loss: -16254466582329.8066 - accuracy: 0.0000e+00 - val_loss: -16632226250752.0000 - val_accuracy: 0.0000e+00\nEpoch 64/300\n123/123 [==============================] - 1s 7ms/step - loss: -17046621304237.4199 - accuracy: 0.0000e+00 - val_loss: -17472561348608.0000 - val_accuracy: 0.0000e+00\nEpoch 65/300\n123/123 [==============================] - 1s 6ms/step - loss: -17706351371561.2891 - accuracy: 0.0000e+00 - val_loss: -18345988456448.0000 - val_accuracy: 0.0000e+00\nEpoch 66/300\n123/123 [==============================] - 1s 8ms/step - loss: -18723459073057.0312 - accuracy: 0.0000e+00 - val_loss: -19244743917568.0000 - val_accuracy: 0.0000e+00\nEpoch 67/300\n123/123 [==============================] - 1s 6ms/step - loss: -19620404049325.4180 - accuracy: 0.0000e+00 - val_loss: -20175378186240.0000 - val_accuracy: 0.0000e+00\nEpoch 68/300\n123/123 [==============================] - 1s 6ms/step - loss: -20335972911170.0664 - accuracy: 0.0000e+00 - val_loss: -21134705688576.0000 - val_accuracy: 0.0000e+00\nEpoch 69/300\n123/123 [==============================] - 1s 5ms/step - loss: -21777646557382.1953 - accuracy: 0.0000e+00 - val_loss: -22126635515904.0000 - val_accuracy: 0.0000e+00\nEpoch 70/300\n123/123 [==============================] - 1s 5ms/step - loss: -22560357194983.2266 - accuracy: 0.0000e+00 - val_loss: -23149454295040.0000 - val_accuracy: 0.0000e+00\nEpoch 71/300\n123/123 [==============================] - 1s 5ms/step - loss: -23818807575585.0312 - accuracy: 0.0000e+00 - val_loss: -24206509080576.0000 - val_accuracy: 0.0000e+00\nEpoch 72/300\n123/123 [==============================] - 1s 5ms/step - loss: -24423231152920.7734 - accuracy: 0.0000e+00 - val_loss: -25296984080384.0000 - val_accuracy: 0.0000e+00\nEpoch 73/300\n123/123 [==============================] - 1s 5ms/step - loss: -25695821648532.6445 - accuracy: 0.0000e+00 - val_loss: -26417496588288.0000 - val_accuracy: 0.0000e+00\nEpoch 74/300\n123/123 [==============================] - 1s 5ms/step - loss: -26777010932835.0977 - accuracy: 0.0000e+00 - val_loss: -27574279340032.0000 - val_accuracy: 0.0000e+00\nEpoch 75/300\n123/123 [==============================] - 1s 6ms/step - loss: -27674505329102.4531 - accuracy: 0.0000e+00 - val_loss: -28761412075520.0000 - val_accuracy: 0.0000e+00\nEpoch 76/300\n123/123 [==============================] - 1s 5ms/step - loss: -29590850506884.1289 - accuracy: 0.0000e+00 - val_loss: -29987904159744.0000 - val_accuracy: 0.0000e+00\nEpoch 77/300\n123/123 [==============================] - 1s 5ms/step - loss: -30357312326226.5820 - accuracy: 0.0000e+00 - val_loss: -31245635420160.0000 - val_accuracy: 0.0000e+00\nEpoch 78/300\n123/123 [==============================] - 1s 5ms/step - loss: -31695370376885.6758 - accuracy: 0.0000e+00 - val_loss: -32536258412544.0000 - val_accuracy: 0.0000e+00\nEpoch 79/300\n123/123 [==============================] - 1s 5ms/step - loss: -32651672771286.7109 - accuracy: 0.0000e+00 - val_loss: -33875717783552.0000 - val_accuracy: 0.0000e+00\nEpoch 80/300\n123/123 [==============================] - 1s 8ms/step - loss: -34155678036892.9023 - accuracy: 0.0000e+00 - val_loss: -35250210078720.0000 - val_accuracy: 0.0000e+00\nEpoch 81/300\n123/123 [==============================] - 1s 5ms/step - loss: -35949709597927.2266 - accuracy: 0.0000e+00 - val_loss: -36661949890560.0000 - val_accuracy: 0.0000e+00\nEpoch 82/300\n123/123 [==============================] - 1s 5ms/step - loss: -36753990204911.4844 - accuracy: 0.0000e+00 - val_loss: -38107051196416.0000 - val_accuracy: 0.0000e+00\nEpoch 83/300\n123/123 [==============================] - 1s 5ms/step - loss: -39012169450529.0312 - accuracy: 0.0000e+00 - val_loss: -39594582081536.0000 - val_accuracy: 0.0000e+00\nEpoch 84/300\n123/123 [==============================] - 1s 5ms/step - loss: -39905598534556.9062 - accuracy: 0.0000e+00 - val_loss: -41124794204160.0000 - val_accuracy: 0.0000e+00\nEpoch 85/300\n123/123 [==============================] - 1s 5ms/step - loss: -41965185316269.4219 - accuracy: 0.0000e+00 - val_loss: -42686715265024.0000 - val_accuracy: 0.0000e+00\nEpoch 86/300\n123/123 [==============================] - 1s 5ms/step - loss: -43150542711114.3203 - accuracy: 0.0000e+00 - val_loss: -44299169300480.0000 - val_accuracy: 0.0000e+00\nEpoch 87/300\n123/123 [==============================] - 1s 6ms/step - loss: -44334050147294.9688 - accuracy: 0.0000e+00 - val_loss: -45942564716544.0000 - val_accuracy: 0.0000e+00\nEpoch 88/300\n123/123 [==============================] - 1s 5ms/step - loss: -46632930411553.0312 - accuracy: 0.0000e+00 - val_loss: -47636736376832.0000 - val_accuracy: 0.0000e+00\nEpoch 89/300\n123/123 [==============================] - 1s 5ms/step - loss: -48200152125572.1328 - accuracy: 0.0000e+00 - val_loss: -49372347760640.0000 - val_accuracy: 0.0000e+00\nEpoch 90/300\n123/123 [==============================] - 1s 5ms/step - loss: -50191763801121.0312 - accuracy: 0.0000e+00 - val_loss: -51151852535808.0000 - val_accuracy: 0.0000e+00\nEpoch 91/300\n123/123 [==============================] - 1s 5ms/step - loss: -52090732975269.1641 - accuracy: 0.0000e+00 - val_loss: -52978870386688.0000 - val_accuracy: 0.0000e+00\nEpoch 92/300\n123/123 [==============================] - 1s 5ms/step - loss: -54637796058937.8047 - accuracy: 0.0000e+00 - val_loss: -54848825327616.0000 - val_accuracy: 0.0000e+00\nEpoch 93/300\n123/123 [==============================] - 1s 5ms/step - loss: -56258339384683.3516 - accuracy: 0.0000e+00 - val_loss: -56773490769920.0000 - val_accuracy: 0.0000e+00\nEpoch 94/300\n123/123 [==============================] - 1s 5ms/step - loss: -57854133272576.0000 - accuracy: 0.0000e+00 - val_loss: -58737922408448.0000 - val_accuracy: 0.0000e+00\nEpoch 95/300\n123/123 [==============================] - 1s 6ms/step - loss: -59826458997132.3906 - accuracy: 0.0000e+00 - val_loss: -60748684328960.0000 - val_accuracy: 0.0000e+00\nEpoch 96/300\n123/123 [==============================] - 1s 6ms/step - loss: -62271350898688.0000 - accuracy: 0.0000e+00 - val_loss: -62805277409280.0000 - val_accuracy: 0.0000e+00\nEpoch 97/300\n123/123 [==============================] - 1s 5ms/step - loss: -64295186904493.4219 - accuracy: 0.0000e+00 - val_loss: -64910620884992.0000 - val_accuracy: 0.0000e+00\nEpoch 98/300\n123/123 [==============================] - 1s 6ms/step - loss: -65792015310055.2266 - accuracy: 0.0000e+00 - val_loss: -67064467292160.0000 - val_accuracy: 0.0000e+00\nEpoch 99/300\n123/123 [==============================] - 1s 5ms/step - loss: -67896275200858.8359 - accuracy: 0.0000e+00 - val_loss: -69270675390464.0000 - val_accuracy: 0.0000e+00\nEpoch 100/300\n123/123 [==============================] - 1s 6ms/step - loss: -70475831625265.5469 - accuracy: 0.0000e+00 - val_loss: -71537210163200.0000 - val_accuracy: 0.0000e+00\nEpoch 101/300\n123/123 [==============================] - 1s 5ms/step - loss: -72684661535644.9062 - accuracy: 0.0000e+00 - val_loss: -73835596480512.0000 - val_accuracy: 0.0000e+00\nEpoch 102/300\n123/123 [==============================] - 1s 5ms/step - loss: -75725301857775.4844 - accuracy: 0.0000e+00 - val_loss: -76189305667584.0000 - val_accuracy: 0.0000e+00\nEpoch 103/300\n123/123 [==============================] - 1s 5ms/step - loss: -76206939908426.3281 - accuracy: 0.0000e+00 - val_loss: -78592096600064.0000 - val_accuracy: 0.0000e+00\nEpoch 104/300\n123/123 [==============================] - 1s 5ms/step - loss: -79647908450964.6406 - accuracy: 0.0000e+00 - val_loss: -81056610910208.0000 - val_accuracy: 0.0000e+00\nEpoch 105/300\n123/123 [==============================] - 1s 5ms/step - loss: -82582483416493.4219 - accuracy: 0.0000e+00 - val_loss: -83577563774976.0000 - val_accuracy: 0.0000e+00\nEpoch 106/300\n123/123 [==============================] - 1s 5ms/step - loss: -85144919706723.0938 - accuracy: 0.0000e+00 - val_loss: -86159317270528.0000 - val_accuracy: 0.0000e+00\nEpoch 107/300\n123/123 [==============================] - 1s 5ms/step - loss: -87384391341749.6719 - accuracy: 0.0000e+00 - val_loss: -88791746347008.0000 - val_accuracy: 0.0000e+00\nEpoch 108/300\n123/123 [==============================] - 1s 5ms/step - loss: -89470641398552.7812 - accuracy: 0.0000e+00 - val_loss: -91483415773184.0000 - val_accuracy: 0.0000e+00\nEpoch 109/300\n123/123 [==============================] - 1s 7ms/step - loss: -91517115314572.3906 - accuracy: 0.0000e+00 - val_loss: -94229300772864.0000 - val_accuracy: 0.0000e+00\nEpoch 110/300\n123/123 [==============================] - 1s 5ms/step - loss: -94335684558319.4844 - accuracy: 0.0000e+00 - val_loss: -97028218552320.0000 - val_accuracy: 0.0000e+00\nEpoch 111/300\n123/123 [==============================] - 1s 6ms/step - loss: -98352386979245.4219 - accuracy: 0.0000e+00 - val_loss: -99895344103424.0000 - val_accuracy: 0.0000e+00\nEpoch 112/300\n123/123 [==============================] - 1s 6ms/step - loss: -100705765898702.4531 - accuracy: 0.0000e+00 - val_loss: -102818757214208.0000 - val_accuracy: 0.0000e+00\nEpoch 113/300\n123/123 [==============================] - 1s 5ms/step - loss: -103257385281866.3281 - accuracy: 0.0000e+00 - val_loss: -105800378875904.0000 - val_accuracy: 0.0000e+00\nEpoch 114/300\n123/123 [==============================] - 1s 5ms/step - loss: -108280012569566.9688 - accuracy: 0.0000e+00 - val_loss: -108836383883264.0000 - val_accuracy: 0.0000e+00\nEpoch 115/300\n123/123 [==============================] - 1s 6ms/step - loss: -110936065319176.2656 - accuracy: 0.0000e+00 - val_loss: -111930748436480.0000 - val_accuracy: 0.0000e+00\nEpoch 116/300\n123/123 [==============================] - 1s 5ms/step - loss: -113573086008485.1562 - accuracy: 0.0000e+00 - val_loss: -115106960637952.0000 - val_accuracy: 0.0000e+00\nEpoch 117/300\n123/123 [==============================] - 1s 6ms/step - loss: -117803604576322.0625 - accuracy: 0.0000e+00 - val_loss: -118332732735488.0000 - val_accuracy: 0.0000e+00\nEpoch 118/300\n123/123 [==============================] - 1s 6ms/step - loss: -118586705419495.2188 - accuracy: 0.0000e+00 - val_loss: -121625596919808.0000 - val_accuracy: 0.0000e+00\nEpoch 119/300\n123/123 [==============================] - 1s 6ms/step - loss: -121991263648734.9688 - accuracy: 0.0000e+00 - val_loss: -124996533878784.0000 - val_accuracy: 0.0000e+00\nEpoch 120/300\n123/123 [==============================] - 1s 5ms/step - loss: -126600365237016.7812 - accuracy: 0.0000e+00 - val_loss: -128415998935040.0000 - val_accuracy: 0.0000e+00\nEpoch 121/300\n123/123 [==============================] - 1s 5ms/step - loss: -128991939315249.5469 - accuracy: 0.0000e+00 - val_loss: -131895610310656.0000 - val_accuracy: 0.0000e+00\nEpoch 122/300\n123/123 [==============================] - 1s 5ms/step - loss: -133008741046470.1875 - accuracy: 0.0000e+00 - val_loss: -135454368202752.0000 - val_accuracy: 0.0000e+00\nEpoch 123/300\n123/123 [==============================] - 1s 6ms/step - loss: -137156659359083.3594 - accuracy: 0.0000e+00 - val_loss: -139066880294912.0000 - val_accuracy: 0.0000e+00\nEpoch 124/300\n123/123 [==============================] - 1s 5ms/step - loss: -142113450956998.1875 - accuracy: 0.0000e+00 - val_loss: -142757934923776.0000 - val_accuracy: 0.0000e+00\nEpoch 125/300\n123/123 [==============================] - 1s 5ms/step - loss: -143779646203705.8125 - accuracy: 0.0000e+00 - val_loss: -146524604465152.0000 - val_accuracy: 0.0000e+00\nEpoch 126/300\n123/123 [==============================] - 1s 5ms/step - loss: -147302928266669.4062 - accuracy: 0.0000e+00 - val_loss: -150350413692928.0000 - val_accuracy: 0.0000e+00\nEpoch 127/300\n123/123 [==============================] - 1s 5ms/step - loss: -151488344604143.4688 - accuracy: 0.0000e+00 - val_loss: -154245798035456.0000 - val_accuracy: 0.0000e+00\nEpoch 128/300\n123/123 [==============================] - 1s 5ms/step - loss: -156050305192068.1250 - accuracy: 0.0000e+00 - val_loss: -158217032171520.0000 - val_accuracy: 0.0000e+00\nEpoch 129/300\n123/123 [==============================] - 1s 7ms/step - loss: -159826194354836.6562 - accuracy: 0.0000e+00 - val_loss: -162276128587776.0000 - val_accuracy: 0.0000e+00\nEpoch 130/300\n123/123 [==============================] - 1s 5ms/step - loss: -166862832186797.4062 - accuracy: 0.0000e+00 - val_loss: -166416460283904.0000 - val_accuracy: 0.0000e+00\nEpoch 131/300\n123/123 [==============================] - 1s 5ms/step - loss: -169012189065083.8750 - accuracy: 0.0000e+00 - val_loss: -170602090463232.0000 - val_accuracy: 0.0000e+00\nEpoch 132/300\n123/123 [==============================] - 1s 5ms/step - loss: -172674185285235.6250 - accuracy: 0.0000e+00 - val_loss: -174858403053568.0000 - val_accuracy: 0.0000e+00\nEpoch 133/300\n123/123 [==============================] - 1s 5ms/step - loss: -174725533591353.8125 - accuracy: 0.0000e+00 - val_loss: -179210127671296.0000 - val_accuracy: 0.0000e+00\nEpoch 134/300\n123/123 [==============================] - 1s 6ms/step - loss: -180993091800163.0938 - accuracy: 0.0000e+00 - val_loss: -183630907310080.0000 - val_accuracy: 0.0000e+00\nEpoch 135/300\n123/123 [==============================] - 1s 5ms/step - loss: -182594616561796.1250 - accuracy: 0.0000e+00 - val_loss: -188130959294464.0000 - val_accuracy: 0.0000e+00\nEpoch 136/300\n123/123 [==============================] - 1s 5ms/step - loss: -188861038384821.6875 - accuracy: 0.0000e+00 - val_loss: -192719158771712.0000 - val_accuracy: 0.0000e+00\nEpoch 137/300\n123/123 [==============================] - 1s 6ms/step - loss: -195330033455236.1250 - accuracy: 0.0000e+00 - val_loss: -197375188533248.0000 - val_accuracy: 0.0000e+00\nEpoch 138/300\n123/123 [==============================] - 1s 6ms/step - loss: -198611800728873.2812 - accuracy: 0.0000e+00 - val_loss: -202113074331648.0000 - val_accuracy: 0.0000e+00\nEpoch 139/300\n123/123 [==============================] - 1s 7ms/step - loss: -202621256745488.5312 - accuracy: 0.0000e+00 - val_loss: -206933252374528.0000 - val_accuracy: 0.0000e+00\nEpoch 140/300\n123/123 [==============================] - 1s 6ms/step - loss: -210795538652391.2188 - accuracy: 0.0000e+00 - val_loss: -211832367218688.0000 - val_accuracy: 0.0000e+00\nEpoch 141/300\n123/123 [==============================] - 1s 6ms/step - loss: -214509146730363.8750 - accuracy: 0.0000e+00 - val_loss: -216801594048512.0000 - val_accuracy: 0.0000e+00\nEpoch 142/300\n123/123 [==============================] - 1s 5ms/step - loss: -221541995076310.7188 - accuracy: 0.0000e+00 - val_loss: -221882674577408.0000 - val_accuracy: 0.0000e+00\nEpoch 143/300\n123/123 [==============================] - 1s 5ms/step - loss: -225422183455446.7188 - accuracy: 0.0000e+00 - val_loss: -227039755894784.0000 - val_accuracy: 0.0000e+00\nEpoch 144/300\n123/123 [==============================] - 1s 6ms/step - loss: -228059985300050.5938 - accuracy: 0.0000e+00 - val_loss: -232270824734720.0000 - val_accuracy: 0.0000e+00\nEpoch 145/300\n123/123 [==============================] - 1s 5ms/step - loss: -236973796740723.6250 - accuracy: 0.0000e+00 - val_loss: -237606633734144.0000 - val_accuracy: 0.0000e+00\nEpoch 146/300\n123/123 [==============================] - 1s 5ms/step - loss: -238516845057189.1562 - accuracy: 0.0000e+00 - val_loss: -242997136457728.0000 - val_accuracy: 0.0000e+00\nEpoch 147/300\n123/123 [==============================] - 1s 5ms/step - loss: -245549361376619.3438 - accuracy: 0.0000e+00 - val_loss: -248492161236992.0000 - val_accuracy: 0.0000e+00\nEpoch 148/300\n123/123 [==============================] - 1s 5ms/step - loss: -251174134379420.9062 - accuracy: 0.0000e+00 - val_loss: -254082195390464.0000 - val_accuracy: 0.0000e+00\nEpoch 149/300\n123/123 [==============================] - 1s 5ms/step - loss: -259507616912549.1562 - accuracy: 0.0000e+00 - val_loss: -259770627915776.0000 - val_accuracy: 0.0000e+00\nEpoch 150/300\n123/123 [==============================] - 1s 5ms/step - loss: -263910188807068.9062 - accuracy: 0.0000e+00 - val_loss: -265543349174272.0000 - val_accuracy: 0.0000e+00\nEpoch 151/300\n123/123 [==============================] - 1s 5ms/step - loss: -268898106402617.8125 - accuracy: 0.0000e+00 - val_loss: -271390796152832.0000 - val_accuracy: 0.0000e+00\nEpoch 152/300\n123/123 [==============================] - 1s 6ms/step - loss: -275562917561377.0312 - accuracy: 0.0000e+00 - val_loss: -277344812007424.0000 - val_accuracy: 0.0000e+00\nEpoch 153/300\n123/123 [==============================] - 1s 7ms/step - loss: -279543538143892.6562 - accuracy: 0.0000e+00 - val_loss: -283388317532160.0000 - val_accuracy: 0.0000e+00\nEpoch 154/300\n123/123 [==============================] - 1s 6ms/step - loss: -287062599545228.3750 - accuracy: 0.0000e+00 - val_loss: -289531597160448.0000 - val_accuracy: 0.0000e+00\nEpoch 155/300\n123/123 [==============================] - 1s 7ms/step - loss: -292904483794283.3750 - accuracy: 0.0000e+00 - val_loss: -295748931420160.0000 - val_accuracy: 0.0000e+00\nEpoch 156/300\n123/123 [==============================] - 1s 5ms/step - loss: -295658955210752.0000 - accuracy: 0.0000e+00 - val_loss: -302068606697472.0000 - val_accuracy: 0.0000e+00\nEpoch 157/300\n123/123 [==============================] - 1s 5ms/step - loss: -309289574583923.6250 - accuracy: 0.0000e+00 - val_loss: -308495085731840.0000 - val_accuracy: 0.0000e+00\nEpoch 158/300\n123/123 [==============================] - 1s 6ms/step - loss: -310504066155553.0625 - accuracy: 0.0000e+00 - val_loss: -315010987327488.0000 - val_accuracy: 0.0000e+00\nEpoch 159/300\n123/123 [==============================] - 1s 5ms/step - loss: -324087480666706.5625 - accuracy: 0.0000e+00 - val_loss: -321632115621888.0000 - val_accuracy: 0.0000e+00\nEpoch 160/300\n123/123 [==============================] - 1s 6ms/step - loss: -330248741682142.9375 - accuracy: 0.0000e+00 - val_loss: -328356088250368.0000 - val_accuracy: 0.0000e+00\nEpoch 161/300\n123/123 [==============================] - 1s 5ms/step - loss: -327615101940108.3750 - accuracy: 0.0000e+00 - val_loss: -335167872827392.0000 - val_accuracy: 0.0000e+00\nEpoch 162/300\n123/123 [==============================] - 1s 5ms/step - loss: -339071416038300.8750 - accuracy: 0.0000e+00 - val_loss: -342089816604672.0000 - val_accuracy: 0.0000e+00\nEpoch 163/300\n123/123 [==============================] - 1s 5ms/step - loss: -350082296404694.6875 - accuracy: 0.0000e+00 - val_loss: -349128664023040.0000 - val_accuracy: 0.0000e+00\nEpoch 164/300\n123/123 [==============================] - 1s 5ms/step - loss: -351297798938888.2500 - accuracy: 0.0000e+00 - val_loss: -356263175127040.0000 - val_accuracy: 0.0000e+00\nEpoch 165/300\n123/123 [==============================] - 1s 5ms/step - loss: -359739766333175.7500 - accuracy: 0.0000e+00 - val_loss: -363449259393024.0000 - val_accuracy: 0.0000e+00\nEpoch 166/300\n123/123 [==============================] - 1s 6ms/step - loss: -372176794216249.8125 - accuracy: 0.0000e+00 - val_loss: -370781406101504.0000 - val_accuracy: 0.0000e+00\nEpoch 167/300\n123/123 [==============================] - 1s 5ms/step - loss: -372783726782265.8125 - accuracy: 0.0000e+00 - val_loss: -378201230540800.0000 - val_accuracy: 0.0000e+00\nEpoch 168/300\n123/123 [==============================] - 1s 6ms/step - loss: -381421933213101.4375 - accuracy: 0.0000e+00 - val_loss: -385767452966912.0000 - val_accuracy: 0.0000e+00\nEpoch 169/300\n123/123 [==============================] - 1s 7ms/step - loss: -390383801906605.4375 - accuracy: 0.0000e+00 - val_loss: -393432291868672.0000 - val_accuracy: 0.0000e+00\nEpoch 170/300\n123/123 [==============================] - 1s 5ms/step - loss: -393028214786114.0625 - accuracy: 0.0000e+00 - val_loss: -401219906437120.0000 - val_accuracy: 0.0000e+00\nEpoch 171/300\n123/123 [==============================] - 1s 5ms/step - loss: -405536016001882.8125 - accuracy: 0.0000e+00 - val_loss: -409105701273600.0000 - val_accuracy: 0.0000e+00\nEpoch 172/300\n123/123 [==============================] - 1s 5ms/step - loss: -414816306513457.5625 - accuracy: 0.0000e+00 - val_loss: -417097192570880.0000 - val_accuracy: 0.0000e+00\nEpoch 173/300\n123/123 [==============================] - 1s 5ms/step - loss: -420215375088210.5625 - accuracy: 0.0000e+00 - val_loss: -425215385403392.0000 - val_accuracy: 0.0000e+00\nEpoch 174/300\n123/123 [==============================] - 1s 5ms/step - loss: -429038357658062.4375 - accuracy: 0.0000e+00 - val_loss: -433483365220352.0000 - val_accuracy: 0.0000e+00\nEpoch 175/300\n123/123 [==============================] - 1s 5ms/step - loss: -439418917207535.5000 - accuracy: 0.0000e+00 - val_loss: -441774598258688.0000 - val_accuracy: 0.0000e+00\nEpoch 176/300\n123/123 [==============================] - 1s 7ms/step - loss: -443734141097653.6875 - accuracy: 0.0000e+00 - val_loss: -450186459480064.0000 - val_accuracy: 0.0000e+00\nEpoch 177/300\n123/123 [==============================] - 1s 5ms/step - loss: -456137202153934.4375 - accuracy: 0.0000e+00 - val_loss: -458765857980416.0000 - val_accuracy: 0.0000e+00\nEpoch 178/300\n123/123 [==============================] - 1s 5ms/step - loss: -457795653227156.6250 - accuracy: 0.0000e+00 - val_loss: -467424847593472.0000 - val_accuracy: 0.0000e+00\nEpoch 179/300\n123/123 [==============================] - 1s 4ms/step - loss: -480122251103859.6250 - accuracy: 0.0000e+00 - val_loss: -476199398670336.0000 - val_accuracy: 0.0000e+00\nEpoch 180/300\n123/123 [==============================] - 1s 5ms/step - loss: -484491143684360.2500 - accuracy: 0.0000e+00 - val_loss: -485093940396032.0000 - val_accuracy: 0.0000e+00\nEpoch 181/300\n123/123 [==============================] - 1s 5ms/step - loss: -492487214079207.2500 - accuracy: 0.0000e+00 - val_loss: -494103808704512.0000 - val_accuracy: 0.0000e+00\nEpoch 182/300\n123/123 [==============================] - 1s 6ms/step - loss: -501800529187476.6250 - accuracy: 0.0000e+00 - val_loss: -503267893182464.0000 - val_accuracy: 0.0000e+00\nEpoch 183/300\n123/123 [==============================] - 1s 5ms/step - loss: -500674126659055.5000 - accuracy: 0.0000e+00 - val_loss: -512511367446528.0000 - val_accuracy: 0.0000e+00\nEpoch 184/300\n123/123 [==============================] - 1s 6ms/step - loss: -517007538482010.8125 - accuracy: 0.0000e+00 - val_loss: -521903454289920.0000 - val_accuracy: 0.0000e+00\nEpoch 185/300\n123/123 [==============================] - 1s 6ms/step - loss: -521851837290694.1875 - accuracy: 0.0000e+00 - val_loss: -531405935214592.0000 - val_accuracy: 0.0000e+00\nEpoch 186/300\n123/123 [==============================] - 1s 5ms/step - loss: -530481634277309.9375 - accuracy: 0.0000e+00 - val_loss: -541062531645440.0000 - val_accuracy: 0.0000e+00\nEpoch 187/300\n123/123 [==============================] - 1s 6ms/step - loss: -546049732285605.1875 - accuracy: 0.0000e+00 - val_loss: -550842138624000.0000 - val_accuracy: 0.0000e+00\nEpoch 188/300\n123/123 [==============================] - 1s 5ms/step - loss: -552406958760728.7500 - accuracy: 0.0000e+00 - val_loss: -560742373785600.0000 - val_accuracy: 0.0000e+00\nEpoch 189/300\n123/123 [==============================] - 1s 5ms/step - loss: -574345080200951.7500 - accuracy: 0.0000e+00 - val_loss: -570797999521792.0000 - val_accuracy: 0.0000e+00\nEpoch 190/300\n123/123 [==============================] - 1s 5ms/step - loss: -580509515898615.7500 - accuracy: 0.0000e+00 - val_loss: -581004183994368.0000 - val_accuracy: 0.0000e+00\nEpoch 191/300\n123/123 [==============================] - 1s 5ms/step - loss: -590242271960295.2500 - accuracy: 0.0000e+00 - val_loss: -591299556147200.0000 - val_accuracy: 0.0000e+00\nEpoch 192/300\n123/123 [==============================] - 1s 5ms/step - loss: -598005563083346.6250 - accuracy: 0.0000e+00 - val_loss: -601753909198848.0000 - val_accuracy: 0.0000e+00\nEpoch 193/300\n123/123 [==============================] - 1s 6ms/step - loss: -603926575448064.0000 - accuracy: 0.0000e+00 - val_loss: -612249735528448.0000 - val_accuracy: 0.0000e+00\nEpoch 194/300\n123/123 [==============================] - 1s 12ms/step - loss: -624110916591351.7500 - accuracy: 0.0000e+00 - val_loss: -622911723405312.0000 - val_accuracy: 0.0000e+00\nEpoch 195/300\n123/123 [==============================] - 1s 8ms/step - loss: -627235349433443.1250 - accuracy: 0.0000e+00 - val_loss: -633665180663808.0000 - val_accuracy: 0.0000e+00\nEpoch 196/300\n123/123 [==============================] - 1s 5ms/step - loss: -648376423766742.7500 - accuracy: 0.0000e+00 - val_loss: -644694790897664.0000 - val_accuracy: 0.0000e+00\nEpoch 197/300\n123/123 [==============================] - 1s 5ms/step - loss: -651665705744846.5000 - accuracy: 0.0000e+00 - val_loss: -655774263017472.0000 - val_accuracy: 0.0000e+00\nEpoch 198/300\n123/123 [==============================] - 1s 5ms/step - loss: -666921688815285.6250 - accuracy: 0.0000e+00 - val_loss: -667021171752960.0000 - val_accuracy: 0.0000e+00\nEpoch 199/300\n123/123 [==============================] - 1s 5ms/step - loss: -673297893027707.8750 - accuracy: 0.0000e+00 - val_loss: -678390889709568.0000 - val_accuracy: 0.0000e+00\nEpoch 200/300\n123/123 [==============================] - 1s 5ms/step - loss: -683958979805712.5000 - accuracy: 0.0000e+00 - val_loss: -689869726679040.0000 - val_accuracy: 0.0000e+00\nEpoch 201/300\n123/123 [==============================] - 1s 5ms/step - loss: -691236030136848.5000 - accuracy: 0.0000e+00 - val_loss: -701461709193216.0000 - val_accuracy: 0.0000e+00\nEpoch 202/300\n123/123 [==============================] - 1s 6ms/step - loss: -701206627318751.0000 - accuracy: 0.0000e+00 - val_loss: -713276828680192.0000 - val_accuracy: 0.0000e+00\nEpoch 203/300\n123/123 [==============================] - 1s 5ms/step - loss: -718272737236661.6250 - accuracy: 0.0000e+00 - val_loss: -725195631362048.0000 - val_accuracy: 0.0000e+00\nEpoch 204/300\n123/123 [==============================] - 1s 5ms/step - loss: -737321609389881.7500 - accuracy: 0.0000e+00 - val_loss: -737275562426368.0000 - val_accuracy: 0.0000e+00\nEpoch 205/300\n123/123 [==============================] - 1s 5ms/step - loss: -748006832628504.7500 - accuracy: 0.0000e+00 - val_loss: -749492798226432.0000 - val_accuracy: 0.0000e+00\nEpoch 206/300\n123/123 [==============================] - 1s 5ms/step - loss: -764875849766053.1250 - accuracy: 0.0000e+00 - val_loss: -761835192057856.0000 - val_accuracy: 0.0000e+00\nEpoch 207/300\n123/123 [==============================] - 1s 6ms/step - loss: -766121522876019.6250 - accuracy: 0.0000e+00 - val_loss: -774358310060032.0000 - val_accuracy: 0.0000e+00\nEpoch 208/300\n123/123 [==============================] - 1s 6ms/step - loss: -791455788501058.1250 - accuracy: 0.0000e+00 - val_loss: -787069802643456.0000 - val_accuracy: 0.0000e+00\nEpoch 209/300\n123/123 [==============================] - 1s 8ms/step - loss: -793030140802477.3750 - accuracy: 0.0000e+00 - val_loss: -799907191455744.0000 - val_accuracy: 0.0000e+00\nEpoch 210/300\n123/123 [==============================] - 1s 5ms/step - loss: -824527268314079.0000 - accuracy: 0.0000e+00 - val_loss: -812866449965056.0000 - val_accuracy: 0.0000e+00\nEpoch 211/300\n123/123 [==============================] - 1s 5ms/step - loss: -826183029620736.0000 - accuracy: 0.0000e+00 - val_loss: -825990863388672.0000 - val_accuracy: 0.0000e+00\nEpoch 212/300\n123/123 [==============================] - 1s 6ms/step - loss: -822514842337280.0000 - accuracy: 0.0000e+00 - val_loss: -839302242107392.0000 - val_accuracy: 0.0000e+00\nEpoch 213/300\n123/123 [==============================] - 1s 5ms/step - loss: -865964827573215.0000 - accuracy: 0.0000e+00 - val_loss: -852744416002048.0000 - val_accuracy: 0.0000e+00\nEpoch 214/300\n123/123 [==============================] - 1s 7ms/step - loss: -851308411870967.7500 - accuracy: 0.0000e+00 - val_loss: -866258597707776.0000 - val_accuracy: 0.0000e+00\nEpoch 215/300\n123/123 [==============================] - 1s 7ms/step - loss: -877919979987736.7500 - accuracy: 0.0000e+00 - val_loss: -879982360395776.0000 - val_accuracy: 0.0000e+00\nEpoch 216/300\n123/123 [==============================] - 1s 7ms/step - loss: -905893068973353.2500 - accuracy: 0.0000e+00 - val_loss: -893866781704192.0000 - val_accuracy: 0.0000e+00\nEpoch 217/300\n123/123 [==============================] - 1s 5ms/step - loss: -912288602703409.5000 - accuracy: 0.0000e+00 - val_loss: -907919444934656.0000 - val_accuracy: 0.0000e+00\nEpoch 218/300\n123/123 [==============================] - 1s 5ms/step - loss: -906189828699565.3750 - accuracy: 0.0000e+00 - val_loss: -922164375060480.0000 - val_accuracy: 0.0000e+00\nEpoch 219/300\n123/123 [==============================] - 1s 6ms/step - loss: -924613618045060.1250 - accuracy: 0.0000e+00 - val_loss: -936476816703488.0000 - val_accuracy: 0.0000e+00\nEpoch 220/300\n123/123 [==============================] - 1s 6ms/step - loss: -945959340317927.2500 - accuracy: 0.0000e+00 - val_loss: -951067625914368.0000 - val_accuracy: 0.0000e+00\nEpoch 221/300\n123/123 [==============================] - 1s 6ms/step - loss: -968315309687841.0000 - accuracy: 0.0000e+00 - val_loss: -965835938070528.0000 - val_accuracy: 0.0000e+00\nEpoch 222/300\n123/123 [==============================] - 1s 7ms/step - loss: -971636199940888.7500 - accuracy: 0.0000e+00 - val_loss: -980706054373376.0000 - val_accuracy: 0.0000e+00\nEpoch 223/300\n123/123 [==============================] - 1s 5ms/step - loss: -1001139422439754.3750 - accuracy: 0.0000e+00 - val_loss: -995726762967040.0000 - val_accuracy: 0.0000e+00\nEpoch 224/300\n123/123 [==============================] - 1s 5ms/step - loss: -1003107960301898.3750 - accuracy: 0.0000e+00 - val_loss: -1010913565999104.0000 - val_accuracy: 0.0000e+00\nEpoch 225/300\n123/123 [==============================] - 1s 6ms/step - loss: -1023336110003365.1250 - accuracy: 0.0000e+00 - val_loss: -1026312231714816.0000 - val_accuracy: 0.0000e+00\nEpoch 226/300\n123/123 [==============================] - 1s 6ms/step - loss: -1029578106770597.1250 - accuracy: 0.0000e+00 - val_loss: -1041829881446400.0000 - val_accuracy: 0.0000e+00\nEpoch 227/300\n123/123 [==============================] - 1s 5ms/step - loss: -1032519178171821.3750 - accuracy: 0.0000e+00 - val_loss: -1057512887418880.0000 - val_accuracy: 0.0000e+00\nEpoch 228/300\n123/123 [==============================] - 1s 5ms/step - loss: -1068938220764127.0000 - accuracy: 0.0000e+00 - val_loss: -1073389099810816.0000 - val_accuracy: 0.0000e+00\nEpoch 229/300\n123/123 [==============================] - 1s 5ms/step - loss: -1096897748347210.3750 - accuracy: 0.0000e+00 - val_loss: -1089511668842496.0000 - val_accuracy: 0.0000e+00\nEpoch 230/300\n123/123 [==============================] - 1s 5ms/step - loss: -1095826722808600.7500 - accuracy: 0.0000e+00 - val_loss: -1105684905066496.0000 - val_accuracy: 0.0000e+00\nEpoch 231/300\n123/123 [==============================] - 1s 6ms/step - loss: -1127027804978671.5000 - accuracy: 0.0000e+00 - val_loss: -1122115570892800.0000 - val_accuracy: 0.0000e+00\nEpoch 232/300\n123/123 [==============================] - 1s 6ms/step - loss: -1127235445215892.7500 - accuracy: 0.0000e+00 - val_loss: -1138701727956992.0000 - val_accuracy: 0.0000e+00\nEpoch 233/300\n123/123 [==============================] - 1s 6ms/step - loss: -1153384268490553.7500 - accuracy: 0.0000e+00 - val_loss: -1155484312666112.0000 - val_accuracy: 0.0000e+00\nEpoch 234/300\n123/123 [==============================] - 1s 6ms/step - loss: -1178415152801065.2500 - accuracy: 0.0000e+00 - val_loss: -1172426750689280.0000 - val_accuracy: 0.0000e+00\nEpoch 235/300\n123/123 [==============================] - 1s 5ms/step - loss: -1182062740910476.5000 - accuracy: 0.0000e+00 - val_loss: -1189518438825984.0000 - val_accuracy: 0.0000e+00\nEpoch 236/300\n123/123 [==============================] - 1s 5ms/step - loss: -1201254981410023.2500 - accuracy: 0.0000e+00 - val_loss: -1206815480086528.0000 - val_accuracy: 0.0000e+00\nEpoch 237/300\n123/123 [==============================] - 1s 5ms/step - loss: -1218003330856894.0000 - accuracy: 0.0000e+00 - val_loss: -1224262442549248.0000 - val_accuracy: 0.0000e+00\nEpoch 238/300\n123/123 [==============================] - 1s 5ms/step - loss: -1234791495884535.7500 - accuracy: 0.0000e+00 - val_loss: -1241908047249408.0000 - val_accuracy: 0.0000e+00\nEpoch 239/300\n123/123 [==============================] - 1s 5ms/step - loss: -1232929050100769.0000 - accuracy: 0.0000e+00 - val_loss: -1259777124466688.0000 - val_accuracy: 0.0000e+00\nEpoch 240/300\n123/123 [==============================] - 1s 6ms/step - loss: -1246052241493619.5000 - accuracy: 0.0000e+00 - val_loss: -1277826724528128.0000 - val_accuracy: 0.0000e+00\nEpoch 241/300\n123/123 [==============================] - 2s 14ms/step - loss: -1290809839156191.0000 - accuracy: 0.0000e+00 - val_loss: -1296013360889856.0000 - val_accuracy: 0.0000e+00\nEpoch 242/300\n123/123 [==============================] - 1s 6ms/step - loss: -1319398772656722.5000 - accuracy: 0.0000e+00 - val_loss: -1314445078822912.0000 - val_accuracy: 0.0000e+00\nEpoch 243/300\n123/123 [==============================] - 1s 6ms/step - loss: -1324187753195850.2500 - accuracy: 0.0000e+00 - val_loss: -1333024838909952.0000 - val_accuracy: 0.0000e+00\nEpoch 244/300\n123/123 [==============================] - 1s 6ms/step - loss: -1346134170157584.5000 - accuracy: 0.0000e+00 - val_loss: -1351900280651776.0000 - val_accuracy: 0.0000e+00\nEpoch 245/300\n123/123 [==============================] - 1s 6ms/step - loss: -1354821228594209.0000 - accuracy: 0.0000e+00 - val_loss: -1370860011126784.0000 - val_accuracy: 0.0000e+00\nEpoch 246/300\n123/123 [==============================] - 1s 6ms/step - loss: -1385045850815455.0000 - accuracy: 0.0000e+00 - val_loss: -1390014357307392.0000 - val_accuracy: 0.0000e+00\nEpoch 247/300\n123/123 [==============================] - 1s 5ms/step - loss: -1401615772946564.2500 - accuracy: 0.0000e+00 - val_loss: -1409471230246912.0000 - val_accuracy: 0.0000e+00\nEpoch 248/300\n123/123 [==============================] - 1s 5ms/step - loss: -1428904598848016.5000 - accuracy: 0.0000e+00 - val_loss: -1429074132074496.0000 - val_accuracy: 0.0000e+00\nEpoch 249/300\n123/123 [==============================] - 1s 7ms/step - loss: -1433705410030426.7500 - accuracy: 0.0000e+00 - val_loss: -1448887621517312.0000 - val_accuracy: 0.0000e+00\nEpoch 250/300\n123/123 [==============================] - 1s 4ms/step - loss: -1474049166786031.5000 - accuracy: 0.0000e+00 - val_loss: -1468769830436864.0000 - val_accuracy: 0.0000e+00\nEpoch 251/300\n123/123 [==============================] - 1s 5ms/step - loss: -1485020225618448.5000 - accuracy: 0.0000e+00 - val_loss: -1488984094015488.0000 - val_accuracy: 0.0000e+00\nEpoch 252/300\n123/123 [==============================] - 1s 6ms/step - loss: -1515376769795105.0000 - accuracy: 0.0000e+00 - val_loss: -1509413240176640.0000 - val_accuracy: 0.0000e+00\nEpoch 253/300\n123/123 [==============================] - 1s 5ms/step - loss: -1521819258623141.2500 - accuracy: 0.0000e+00 - val_loss: -1530010561150976.0000 - val_accuracy: 0.0000e+00\nEpoch 254/300\n123/123 [==============================] - 1s 6ms/step - loss: -1546246173981663.0000 - accuracy: 0.0000e+00 - val_loss: -1550763306254336.0000 - val_accuracy: 0.0000e+00\nEpoch 255/300\n123/123 [==============================] - 1s 5ms/step - loss: -1581172394506702.5000 - accuracy: 0.0000e+00 - val_loss: -1571739523874816.0000 - val_accuracy: 0.0000e+00\nEpoch 256/300\n123/123 [==============================] - 1s 6ms/step - loss: -1591322251911960.7500 - accuracy: 0.0000e+00 - val_loss: -1592875729027072.0000 - val_accuracy: 0.0000e+00\nEpoch 257/300\n123/123 [==============================] - 1s 7ms/step - loss: -1602875192220903.2500 - accuracy: 0.0000e+00 - val_loss: -1614284396167168.0000 - val_accuracy: 0.0000e+00\nEpoch 258/300\n123/123 [==============================] - 1s 6ms/step - loss: -1613137011024136.2500 - accuracy: 0.0000e+00 - val_loss: -1635794934562816.0000 - val_accuracy: 0.0000e+00\nEpoch 259/300\n123/123 [==============================] - 1s 5ms/step - loss: -1661090578495422.0000 - accuracy: 0.0000e+00 - val_loss: -1657766913507328.0000 - val_accuracy: 0.0000e+00\nEpoch 260/300\n123/123 [==============================] - 1s 6ms/step - loss: -1667458141359203.0000 - accuracy: 0.0000e+00 - val_loss: -1679804659138560.0000 - val_accuracy: 0.0000e+00\nEpoch 261/300\n123/123 [==============================] - 1s 6ms/step - loss: -1701584070280225.0000 - accuracy: 0.0000e+00 - val_loss: -1701986286174208.0000 - val_accuracy: 0.0000e+00\nEpoch 262/300\n123/123 [==============================] - 1s 5ms/step - loss: -1735761517160778.2500 - accuracy: 0.0000e+00 - val_loss: -1724399707226112.0000 - val_accuracy: 0.0000e+00\nEpoch 263/300\n123/123 [==============================] - 1s 5ms/step - loss: -1748202402991731.5000 - accuracy: 0.0000e+00 - val_loss: -1746979155607552.0000 - val_accuracy: 0.0000e+00\nEpoch 264/300\n123/123 [==============================] - 1s 5ms/step - loss: -1758278594347536.5000 - accuracy: 0.0000e+00 - val_loss: -1769888779599872.0000 - val_accuracy: 0.0000e+00\nEpoch 265/300\n123/123 [==============================] - 1s 5ms/step - loss: -1797680765033174.7500 - accuracy: 0.0000e+00 - val_loss: -1793006441070592.0000 - val_accuracy: 0.0000e+00\nEpoch 266/300\n123/123 [==============================] - 1s 5ms/step - loss: -1806851553903120.5000 - accuracy: 0.0000e+00 - val_loss: -1816380726837248.0000 - val_accuracy: 0.0000e+00\nEpoch 267/300\n123/123 [==============================] - 1s 6ms/step - loss: -1848138474869396.7500 - accuracy: 0.0000e+00 - val_loss: -1839974592806912.0000 - val_accuracy: 0.0000e+00\nEpoch 268/300\n123/123 [==============================] - 1s 6ms/step - loss: -1855065084877526.7500 - accuracy: 0.0000e+00 - val_loss: -1863771798634496.0000 - val_accuracy: 0.0000e+00\nEpoch 269/300\n123/123 [==============================] - 1s 5ms/step - loss: -1907326319456123.7500 - accuracy: 0.0000e+00 - val_loss: -1887776236634112.0000 - val_accuracy: 0.0000e+00\nEpoch 270/300\n123/123 [==============================] - 1s 7ms/step - loss: -1900427515248111.5000 - accuracy: 0.0000e+00 - val_loss: -1911901739024384.0000 - val_accuracy: 0.0000e+00\nEpoch 271/300\n123/123 [==============================] - 1s 6ms/step - loss: -1909917985850929.5000 - accuracy: 0.0000e+00 - val_loss: -1936438887186432.0000 - val_accuracy: 0.0000e+00\nEpoch 272/300\n123/123 [==============================] - 1s 8ms/step - loss: -1943264623912761.7500 - accuracy: 0.0000e+00 - val_loss: -1961196689293312.0000 - val_accuracy: 0.0000e+00\nEpoch 273/300\n123/123 [==============================] - 1s 5ms/step - loss: -1972376876664369.5000 - accuracy: 0.0000e+00 - val_loss: -1986033679859712.0000 - val_accuracy: 0.0000e+00\nEpoch 274/300\n123/123 [==============================] - 1s 5ms/step - loss: -2008867964410582.7500 - accuracy: 0.0000e+00 - val_loss: -2011159104323584.0000 - val_accuracy: 0.0000e+00\nEpoch 275/300\n123/123 [==============================] - 1s 5ms/step - loss: -2000125647236459.2500 - accuracy: 0.0000e+00 - val_loss: -2036612020043776.0000 - val_accuracy: 0.0000e+00\nEpoch 276/300\n123/123 [==============================] - 1s 6ms/step - loss: -2042950440342164.7500 - accuracy: 0.0000e+00 - val_loss: -2062161572528128.0000 - val_accuracy: 0.0000e+00\nEpoch 277/300\n123/123 [==============================] - 1s 5ms/step - loss: -2081257436580963.0000 - accuracy: 0.0000e+00 - val_loss: -2088046266679296.0000 - val_accuracy: 0.0000e+00\nEpoch 278/300\n123/123 [==============================] - 1s 6ms/step - loss: -2095066993621983.0000 - accuracy: 0.0000e+00 - val_loss: -2114210402140160.0000 - val_accuracy: 0.0000e+00\nEpoch 279/300\n123/123 [==============================] - 1s 7ms/step - loss: -2143851094982127.5000 - accuracy: 0.0000e+00 - val_loss: -2140556939493376.0000 - val_accuracy: 0.0000e+00\nEpoch 280/300\n123/123 [==============================] - 1s 5ms/step - loss: -2146807084575578.7500 - accuracy: 0.0000e+00 - val_loss: -2167089905270784.0000 - val_accuracy: 0.0000e+00\nEpoch 281/300\n123/123 [==============================] - 1s 5ms/step - loss: -2165210413294360.7500 - accuracy: 0.0000e+00 - val_loss: -2193885266706432.0000 - val_accuracy: 0.0000e+00\nEpoch 282/300\n123/123 [==============================] - 1s 6ms/step - loss: -2224395835467577.7500 - accuracy: 0.0000e+00 - val_loss: -2220970269999104.0000 - val_accuracy: 0.0000e+00\nEpoch 283/300\n123/123 [==============================] - 1s 4ms/step - loss: -2290690585602378.5000 - accuracy: 0.0000e+00 - val_loss: -2248294046629888.0000 - val_accuracy: 0.0000e+00\nEpoch 284/300\n123/123 [==============================] - 1s 6ms/step - loss: -2279962224894216.5000 - accuracy: 0.0000e+00 - val_loss: -2275844382785536.0000 - val_accuracy: 0.0000e+00\nEpoch 285/300\n123/123 [==============================] - 1s 7ms/step - loss: -2301971277156484.0000 - accuracy: 0.0000e+00 - val_loss: -2303677649911808.0000 - val_accuracy: 0.0000e+00\nEpoch 286/300\n123/123 [==============================] - 1s 7ms/step - loss: -2320291583551290.0000 - accuracy: 0.0000e+00 - val_loss: -2331627686461440.0000 - val_accuracy: 0.0000e+00\nEpoch 287/300\n123/123 [==============================] - 1s 6ms/step - loss: -2400015431093875.5000 - accuracy: 0.0000e+00 - val_loss: -2359844010983424.0000 - val_accuracy: 0.0000e+00\nEpoch 288/300\n123/123 [==============================] - 1s 6ms/step - loss: -2394876429120941.5000 - accuracy: 0.0000e+00 - val_loss: -2388307296124928.0000 - val_accuracy: 0.0000e+00\nEpoch 289/300\n123/123 [==============================] - 1s 7ms/step - loss: -2412021085634560.0000 - accuracy: 0.0000e+00 - val_loss: -2417174845063168.0000 - val_accuracy: 0.0000e+00\nEpoch 290/300\n123/123 [==============================] - 1s 5ms/step - loss: -2410202926830228.5000 - accuracy: 0.0000e+00 - val_loss: -2446176880164864.0000 - val_accuracy: 0.0000e+00\nEpoch 291/300\n123/123 [==============================] - 1s 5ms/step - loss: -2481788701080543.0000 - accuracy: 0.0000e+00 - val_loss: -2475537813471232.0000 - val_accuracy: 0.0000e+00\nEpoch 292/300\n123/123 [==============================] - 1s 6ms/step - loss: -2524520469394333.0000 - accuracy: 0.0000e+00 - val_loss: -2504918342565888.0000 - val_accuracy: 0.0000e+00\nEpoch 293/300\n123/123 [==============================] - 1s 5ms/step - loss: -2514305309652397.5000 - accuracy: 0.0000e+00 - val_loss: -2534689176813568.0000 - val_accuracy: 0.0000e+00\nEpoch 294/300\n123/123 [==============================] - 1s 5ms/step - loss: -2555211047941549.5000 - accuracy: 0.0000e+00 - val_loss: -2564712340389888.0000 - val_accuracy: 0.0000e+00\nEpoch 295/300\n123/123 [==============================] - 1s 6ms/step - loss: -2620736558393146.0000 - accuracy: 0.0000e+00 - val_loss: -2595028367048704.0000 - val_accuracy: 0.0000e+00\nEpoch 296/300\n123/123 [==============================] - 1s 5ms/step - loss: -2668774529332125.0000 - accuracy: 0.0000e+00 - val_loss: -2625521829543936.0000 - val_accuracy: 0.0000e+00\nEpoch 297/300\n123/123 [==============================] - 1s 5ms/step - loss: -2630523842842227.5000 - accuracy: 0.0000e+00 - val_loss: -2656394859773952.0000 - val_accuracy: 0.0000e+00\nEpoch 298/300\n123/123 [==============================] - 1s 5ms/step - loss: -2673670491142078.0000 - accuracy: 0.0000e+00 - val_loss: -2687506260688896.0000 - val_accuracy: 0.0000e+00\nEpoch 299/300\n123/123 [==============================] - 1s 7ms/step - loss: -2725680581621165.5000 - accuracy: 0.0000e+00 - val_loss: -2718839926161408.0000 - val_accuracy: 0.0000e+00\nEpoch 300/300\n123/123 [==============================] - 1s 5ms/step - loss: -2753950437368601.0000 - accuracy: 0.0000e+00 - val_loss: -2750461086007296.0000 - val_accuracy: 0.0000e+00\nModel: \"sequential\"\n_________________________________________________________________\nLayer (type)                 Output Shape              Param #   \n=================================================================\ndense (Dense)                (None, 47)                7990      \n_________________________________________________________________\ndropout (Dropout)            (None, 47)                0         \n_________________________________________________________________\ndense_1 (Dense)              (None, 28)                1344      \n_________________________________________________________________\ndropout_1 (Dropout)          (None, 28)                0         \n_________________________________________________________________\ndense_2 (Dense)              (None, 33)                957       \n_________________________________________________________________\ndropout_2 (Dropout)          (None, 33)                0         \n_________________________________________________________________\ndense_3 (Dense)              (None, 1)                 34        \n=================================================================\nTotal params: 10,325\nTrainable params: 10,325\nNon-trainable params: 0\n_________________________________________________________________\n",
     "output_type": "stream"
    }
   ],
   "execution_count": null
  },
  {
   "cell_type": "markdown",
   "source": "## Ensemble model",
   "metadata": {
    "tags": [],
    "is_collapsed": false,
    "cell_id": "00055-1ec906a1-0548-4179-8ea5-6ef0401d3b56",
    "deepnote_cell_type": "text-cell-h2"
   }
  },
  {
   "cell_type": "code",
   "metadata": {
    "tags": [],
    "cell_id": "00056-b584e84a-2d7b-414c-bbe0-168b3a4f3933",
    "deepnote_to_be_reexecuted": false,
    "source_hash": "6e62d1bb",
    "execution_start": 1634296826763,
    "execution_millis": 114,
    "deepnote_cell_type": "code"
   },
   "source": "# submission7,8,14\nmodel_7 = models.Sequential()\nmodel_7.add(Dense(128, activation=\"relu\", input_shape=X.shape[1:]))\nmodel_7.add(Dropout(0.04))\nmodel_7.add(Dense(128, activation=\"relu\"))\nmodel_7.add(Dropout(0.04))\nmodel_7.add(Dense(1))\n\nmodel_8 = models.Sequential()\nmodel_8.add(Dense(48, activation=\"relu\", input_shape=X.shape[1:]))\nmodel_8.add(Dropout(0.04))\nmodel_8.add(Dense(48, activation=\"relu\"))\nmodel_8.add(Dropout(0.04))\nmodel_8.add(Dense(1))\n\nmodel_14 = models.Sequential()\nmodel_14.add(Dense(47, activation=\"relu\", input_shape=X.shape[1:]))\nmodel_14.add(Dropout(0.2))\nmodel_14.add(Dense(28, activation=\"relu\"))\nmodel_14.add(Dropout(0.1))\nmodel_14.add(Dense(33, activation=\"relu\"))\nmodel_14.add(Dropout(0.1))\nmodel_14.add(Dense(1))\n\nmodel_5 = models.Sequential()\nmodel_5.add(Dense(30, activation=\"relu\", input_shape=X.shape[1:]))\nmodel_5.add(Dense(30, activation=\"relu\"))\nmodel_5.add(Dense(1))",
   "outputs": [],
   "execution_count": null
  },
  {
   "cell_type": "code",
   "metadata": {
    "tags": [],
    "cell_id": "00057-6256ec8b-7af0-4ae1-8fec-6b2553d5afe7",
    "deepnote_to_be_reexecuted": false,
    "source_hash": "c01f334a",
    "execution_start": 1634296834053,
    "execution_millis": 23,
    "deepnote_cell_type": "code"
   },
   "source": "model_7.load_weights('best_weight_7_2.hdf5')\nmodel_8.load_weights('best_weight_8_2.hdf5')\nmodel_14.load_weights('best_weight_14_2.hdf5')\nmodel_5.load_weights('best_weight_5_2.hdf5')",
   "outputs": [],
   "execution_count": null
  },
  {
   "cell_type": "code",
   "metadata": {
    "tags": [],
    "cell_id": "00058-5928a880-107a-4ead-9610-f830fc064327",
    "deepnote_to_be_reexecuted": false,
    "source_hash": "3cd89015",
    "execution_start": 1634296851325,
    "execution_millis": 1367,
    "deepnote_cell_type": "code"
   },
   "source": "pred_7 = model_7.predict(test)\npred_8 = model_8.predict(test)\npred_14 = model_14.predict(test)\npred_5  = model_5.predict(test)",
   "outputs": [],
   "execution_count": null
  },
  {
   "cell_type": "code",
   "metadata": {
    "tags": [],
    "cell_id": "00059-5009434c-c468-49f9-a1ea-63da9d3f88f0",
    "deepnote_to_be_reexecuted": false,
    "source_hash": "5fb5fd80",
    "execution_start": 1634297052531,
    "execution_millis": 1,
    "deepnote_cell_type": "code"
   },
   "source": "df = pd.DataFrame()\ndf['id'] = test_28['MOFname']\ndf['CO2_working_capacity [mL/g]'] = pred_7*0.7+pred_8*0.2+pred_14*0.1",
   "outputs": [],
   "execution_count": null
  },
  {
   "cell_type": "markdown",
   "source": "# Functional API",
   "metadata": {
    "tags": [],
    "is_collapsed": false,
    "cell_id": "00060-b325555f-940f-4b17-a735-083b4de54c81",
    "deepnote_cell_type": "text-cell-h1"
   }
  },
  {
   "cell_type": "code",
   "metadata": {
    "tags": [],
    "cell_id": "00061-fccd7789-6a3d-4d30-baee-a0276bbff006",
    "deepnote_to_be_reexecuted": false,
    "source_hash": "751f728b",
    "execution_start": 1634309034759,
    "execution_millis": 5,
    "deepnote_cell_type": "code"
   },
   "source": "from tensorflow.keras.models import Sequential, Model \nfrom tensorflow.keras.layers import concatenate\nfrom tensorflow.keras.optimizers import Adam",
   "outputs": [],
   "execution_count": null
  },
  {
   "cell_type": "code",
   "metadata": {
    "tags": [],
    "cell_id": "00061-077e19dc-b5c8-46a5-b6e6-330fc6cbc374",
    "deepnote_to_be_reexecuted": false,
    "source_hash": "17bda1d5",
    "execution_start": 1634309037016,
    "execution_millis": 3,
    "deepnote_cell_type": "code"
   },
   "source": "def create_model7():\n    model = Sequential()\n    model.add(Dense(128, activation=\"relu\", input_shape=X.shape[1:]))\n    model.add(Dropout(0.04))\n    model.add(Dense(128, activation=\"relu\"))\n    model.add(Dropout(0.04))\n    model.add(Dense(1))\n    return model",
   "outputs": [],
   "execution_count": null
  },
  {
   "cell_type": "code",
   "metadata": {
    "tags": [],
    "cell_id": "00062-50e57433-894d-44d7-8ef2-835efb5ff631",
    "deepnote_to_be_reexecuted": false,
    "source_hash": "ba18d3ec",
    "execution_start": 1634309042063,
    "execution_millis": 0,
    "deepnote_cell_type": "code"
   },
   "source": "def create_model8():\n    model = Sequential()\n    model.add(Dense(48, activation=\"relu\", input_shape=X.shape[1:]))\n    model.add(Dropout(0.04))\n    model.add(Dense(48, activation=\"relu\"))\n    model.add(Dropout(0.04))\n    model.add(Dense(1))\n    return model",
   "outputs": [],
   "execution_count": null
  },
  {
   "cell_type": "code",
   "metadata": {
    "tags": [],
    "cell_id": "00063-1b5e509e-cc17-4ba8-a9a5-7911bfdd94b9",
    "deepnote_to_be_reexecuted": false,
    "source_hash": "9ad94629",
    "execution_start": 1634309047212,
    "execution_millis": 50,
    "deepnote_cell_type": "code"
   },
   "source": "model_7 = create_model7()\nmodel_8 = create_model8()",
   "outputs": [],
   "execution_count": null
  },
  {
   "cell_type": "code",
   "metadata": {
    "tags": [],
    "cell_id": "00064-2afb9dd8-0719-4c89-aa6a-afc95f1f8c24",
    "deepnote_to_be_reexecuted": false,
    "source_hash": "fd10f439",
    "execution_start": 1634309203524,
    "execution_millis": 16,
    "deepnote_cell_type": "code"
   },
   "source": "combinedInput = concatenate([model_7.output,model_8.output])\n# our final FC layer head will have two dense layers, the final one\n# being our regression head\nx = Dense(4, activation=\"relu\")(combinedInput)\nx = Dense(1, activation=\"relu\")(x)\n# our final model will accept categorical/numerical data on the MLP\n# input and images on the CNN input, outputting a single value (the\n# predicted price of the house)\nmodel = Model(inputs=[model_7.input,model_8.input], outputs=x)",
   "outputs": [],
   "execution_count": null
  },
  {
   "cell_type": "code",
   "metadata": {
    "tags": [],
    "cell_id": "00065-13e8c47f-431d-4da2-b97e-cf3c76289d97",
    "deepnote_to_be_reexecuted": false,
    "source_hash": "4e6a3b95",
    "execution_start": 1634309060114,
    "execution_millis": 18,
    "deepnote_cell_type": "code"
   },
   "source": "model.summary()",
   "outputs": [
    {
     "name": "stdout",
     "text": "Model: \"model\"\n__________________________________________________________________________________________________\nLayer (type)                    Output Shape         Param #     Connected to                     \n==================================================================================================\ndense_3_input (InputLayer)      [(None, 169)]        0                                            \n__________________________________________________________________________________________________\ndense_6_input (InputLayer)      [(None, 169)]        0                                            \n__________________________________________________________________________________________________\ndense_3 (Dense)                 (None, 128)          21760       dense_3_input[0][0]              \n__________________________________________________________________________________________________\ndense_6 (Dense)                 (None, 48)           8160        dense_6_input[0][0]              \n__________________________________________________________________________________________________\ndropout_2 (Dropout)             (None, 128)          0           dense_3[0][0]                    \n__________________________________________________________________________________________________\ndropout_4 (Dropout)             (None, 48)           0           dense_6[0][0]                    \n__________________________________________________________________________________________________\ndense_4 (Dense)                 (None, 128)          16512       dropout_2[0][0]                  \n__________________________________________________________________________________________________\ndense_7 (Dense)                 (None, 48)           2352        dropout_4[0][0]                  \n__________________________________________________________________________________________________\ndropout_3 (Dropout)             (None, 128)          0           dense_4[0][0]                    \n__________________________________________________________________________________________________\ndropout_5 (Dropout)             (None, 48)           0           dense_7[0][0]                    \n__________________________________________________________________________________________________\ndense_5 (Dense)                 (None, 1)            129         dropout_3[0][0]                  \n__________________________________________________________________________________________________\ndense_8 (Dense)                 (None, 1)            49          dropout_5[0][0]                  \n__________________________________________________________________________________________________\nconcatenate (Concatenate)       (None, 2)            0           dense_5[0][0]                    \n                                                                 dense_8[0][0]                    \n__________________________________________________________________________________________________\ndense_9 (Dense)                 (None, 16)           48          concatenate[0][0]                \n__________________________________________________________________________________________________\ndense_10 (Dense)                (None, 1)            17          dense_9[0][0]                    \n==================================================================================================\nTotal params: 49,027\nTrainable params: 49,027\nNon-trainable params: 0\n__________________________________________________________________________________________________\n",
     "output_type": "stream"
    }
   ],
   "execution_count": null
  },
  {
   "cell_type": "code",
   "metadata": {
    "tags": [],
    "cell_id": "00066-17ef4847-e9e2-40dc-a3e9-cf4474924323",
    "deepnote_to_be_reexecuted": false,
    "source_hash": "8de23cbc",
    "execution_start": 1634309483163,
    "execution_millis": 743674,
    "deepnote_cell_type": "code"
   },
   "source": "opt = Adam(lr=1e-1, decay=1e-1 / 200)\nmodel.compile(loss=\"mean_absolute_error\", optimizer=opt)\n# train the model\nprint(\"[INFO] training model...\")\nhistory = model.fit(\n\t\tx=[X,X], y=y,\n\t\tvalidation_data=([Xval,Xval], yval),\n\t\tepochs=200, batch_size=32,callbacks=[model_checkpoint_callback])",
   "outputs": [
    {
     "name": "stdout",
     "text": "[INFO] training model...\nEpoch 1/200\n1629/1629 [==============================] - 5s 2ms/step - loss: 40.8011 - val_loss: 31.0489\nEpoch 2/200\n1629/1629 [==============================] - 4s 2ms/step - loss: 28.1646 - val_loss: 23.6394\nEpoch 3/200\n1629/1629 [==============================] - 4s 2ms/step - loss: 25.6851 - val_loss: 23.7372\nEpoch 4/200\n1629/1629 [==============================] - 4s 2ms/step - loss: 24.3367 - val_loss: 22.4307\nEpoch 5/200\n1629/1629 [==============================] - 4s 2ms/step - loss: 23.2908 - val_loss: 21.8750\nEpoch 6/200\n1629/1629 [==============================] - 4s 2ms/step - loss: 22.8835 - val_loss: 21.4120\nEpoch 7/200\n1629/1629 [==============================] - 4s 2ms/step - loss: 22.2961 - val_loss: 21.7109\nEpoch 8/200\n1629/1629 [==============================] - 4s 2ms/step - loss: 22.1605 - val_loss: 22.4642\nEpoch 9/200\n1629/1629 [==============================] - 3s 2ms/step - loss: 21.8572 - val_loss: 20.9689\nEpoch 10/200\n1629/1629 [==============================] - 3s 2ms/step - loss: 21.4274 - val_loss: 22.1162\nEpoch 11/200\n1629/1629 [==============================] - 4s 2ms/step - loss: 21.1797 - val_loss: 21.4445\nEpoch 12/200\n1629/1629 [==============================] - 4s 2ms/step - loss: 21.2780 - val_loss: 20.8064\nEpoch 13/200\n1629/1629 [==============================] - 4s 2ms/step - loss: 20.7759 - val_loss: 22.2811\nEpoch 14/200\n1629/1629 [==============================] - 4s 2ms/step - loss: 20.7414 - val_loss: 20.6630\nEpoch 15/200\n1629/1629 [==============================] - 4s 2ms/step - loss: 20.2134 - val_loss: 22.0635\nEpoch 16/200\n1629/1629 [==============================] - 4s 2ms/step - loss: 20.5591 - val_loss: 20.4637\nEpoch 17/200\n1629/1629 [==============================] - 4s 2ms/step - loss: 20.3099 - val_loss: 20.8313\nEpoch 18/200\n1629/1629 [==============================] - 4s 2ms/step - loss: 20.2407 - val_loss: 20.6880\nEpoch 19/200\n1629/1629 [==============================] - 4s 2ms/step - loss: 20.2083 - val_loss: 20.4542\nEpoch 20/200\n1629/1629 [==============================] - 4s 2ms/step - loss: 20.1209 - val_loss: 20.3259\nEpoch 21/200\n1629/1629 [==============================] - 4s 2ms/step - loss: 20.0049 - val_loss: 20.3808\nEpoch 22/200\n1629/1629 [==============================] - 4s 2ms/step - loss: 19.6255 - val_loss: 20.5003\nEpoch 23/200\n1629/1629 [==============================] - 4s 2ms/step - loss: 19.8454 - val_loss: 20.7642\nEpoch 24/200\n1629/1629 [==============================] - 4s 2ms/step - loss: 19.5154 - val_loss: 20.3573\nEpoch 25/200\n1629/1629 [==============================] - 4s 2ms/step - loss: 19.6384 - val_loss: 20.2366\nEpoch 26/200\n1629/1629 [==============================] - 4s 2ms/step - loss: 19.4682 - val_loss: 20.2745\nEpoch 27/200\n1629/1629 [==============================] - 4s 2ms/step - loss: 19.5065 - val_loss: 20.4464\nEpoch 28/200\n1629/1629 [==============================] - 4s 2ms/step - loss: 19.6174 - val_loss: 20.4209\nEpoch 29/200\n1629/1629 [==============================] - 4s 2ms/step - loss: 19.3005 - val_loss: 22.9338\nEpoch 30/200\n1629/1629 [==============================] - 4s 2ms/step - loss: 19.3955 - val_loss: 20.3149\nEpoch 31/200\n1629/1629 [==============================] - 4s 2ms/step - loss: 19.2258 - val_loss: 20.2276\nEpoch 32/200\n1629/1629 [==============================] - 4s 2ms/step - loss: 19.1918 - val_loss: 20.1625\nEpoch 33/200\n1629/1629 [==============================] - 3s 2ms/step - loss: 18.9923 - val_loss: 20.1819\nEpoch 34/200\n1629/1629 [==============================] - 4s 2ms/step - loss: 19.1527 - val_loss: 20.1072\nEpoch 35/200\n1629/1629 [==============================] - 4s 2ms/step - loss: 19.1339 - val_loss: 20.5545\nEpoch 36/200\n1629/1629 [==============================] - 4s 2ms/step - loss: 18.9224 - val_loss: 20.0252\nEpoch 37/200\n1629/1629 [==============================] - 4s 2ms/step - loss: 18.9721 - val_loss: 20.0365\nEpoch 38/200\n1629/1629 [==============================] - 4s 2ms/step - loss: 18.8410 - val_loss: 20.3132\nEpoch 39/200\n1629/1629 [==============================] - 4s 2ms/step - loss: 19.0167 - val_loss: 20.2773\nEpoch 40/200\n1629/1629 [==============================] - 4s 2ms/step - loss: 18.9702 - val_loss: 20.4475\nEpoch 41/200\n1629/1629 [==============================] - 4s 2ms/step - loss: 18.9108 - val_loss: 20.0956\nEpoch 42/200\n1629/1629 [==============================] - 3s 2ms/step - loss: 18.9976 - val_loss: 19.9792\nEpoch 43/200\n1629/1629 [==============================] - 2s 1ms/step - loss: 18.7354 - val_loss: 20.0915\nEpoch 44/200\n1629/1629 [==============================] - 4s 2ms/step - loss: 18.8130 - val_loss: 20.0728\nEpoch 45/200\n1629/1629 [==============================] - 4s 2ms/step - loss: 18.7624 - val_loss: 20.0380\nEpoch 46/200\n1629/1629 [==============================] - 4s 2ms/step - loss: 18.6968 - val_loss: 20.1050\nEpoch 47/200\n1629/1629 [==============================] - 4s 2ms/step - loss: 18.8034 - val_loss: 20.5633\nEpoch 48/200\n1629/1629 [==============================] - 4s 2ms/step - loss: 18.6224 - val_loss: 20.1177\nEpoch 49/200\n1629/1629 [==============================] - 4s 2ms/step - loss: 18.7131 - val_loss: 20.4592\nEpoch 50/200\n1629/1629 [==============================] - 4s 2ms/step - loss: 18.5955 - val_loss: 20.1872\nEpoch 51/200\n1629/1629 [==============================] - 4s 2ms/step - loss: 18.4234 - val_loss: 20.1382\nEpoch 52/200\n1629/1629 [==============================] - 4s 2ms/step - loss: 18.7109 - val_loss: 20.4606\nEpoch 53/200\n1629/1629 [==============================] - 4s 2ms/step - loss: 18.4218 - val_loss: 20.1407\nEpoch 54/200\n1629/1629 [==============================] - 3s 2ms/step - loss: 18.6251 - val_loss: 20.1523\nEpoch 55/200\n1629/1629 [==============================] - 4s 2ms/step - loss: 18.3704 - val_loss: 20.0235\nEpoch 56/200\n1629/1629 [==============================] - 4s 2ms/step - loss: 18.5861 - val_loss: 20.0681\nEpoch 57/200\n1629/1629 [==============================] - 4s 2ms/step - loss: 18.3341 - val_loss: 20.2628\nEpoch 58/200\n1629/1629 [==============================] - 4s 2ms/step - loss: 18.3439 - val_loss: 20.0247\nEpoch 59/200\n1629/1629 [==============================] - 4s 2ms/step - loss: 18.4500 - val_loss: 20.0546\nEpoch 60/200\n1629/1629 [==============================] - 6s 4ms/step - loss: 18.3147 - val_loss: 20.0248\nEpoch 61/200\n1629/1629 [==============================] - 4s 2ms/step - loss: 18.3875 - val_loss: 20.0250\nEpoch 62/200\n1629/1629 [==============================] - 4s 2ms/step - loss: 18.1981 - val_loss: 20.0880\nEpoch 63/200\n1629/1629 [==============================] - 3s 2ms/step - loss: 18.3391 - val_loss: 20.1324\nEpoch 64/200\n1629/1629 [==============================] - 4s 2ms/step - loss: 18.3026 - val_loss: 20.0217\nEpoch 65/200\n1629/1629 [==============================] - 4s 2ms/step - loss: 18.1456 - val_loss: 20.0841\nEpoch 66/200\n1629/1629 [==============================] - 5s 3ms/step - loss: 18.4940 - val_loss: 20.0422\nEpoch 67/200\n1629/1629 [==============================] - 4s 2ms/step - loss: 18.2722 - val_loss: 20.1497\nEpoch 68/200\n1629/1629 [==============================] - 5s 3ms/step - loss: 18.1468 - val_loss: 20.0453\nEpoch 69/200\n1629/1629 [==============================] - 4s 2ms/step - loss: 18.1680 - val_loss: 20.0890\nEpoch 70/200\n1629/1629 [==============================] - 4s 2ms/step - loss: 18.1003 - val_loss: 20.0636\nEpoch 71/200\n1629/1629 [==============================] - 4s 2ms/step - loss: 18.2218 - val_loss: 20.0663\nEpoch 72/200\n1629/1629 [==============================] - 4s 2ms/step - loss: 18.2122 - val_loss: 20.0242\nEpoch 73/200\n1629/1629 [==============================] - 4s 2ms/step - loss: 18.1653 - val_loss: 20.0063\nEpoch 74/200\n1629/1629 [==============================] - 4s 2ms/step - loss: 18.2195 - val_loss: 19.9857\nEpoch 75/200\n1629/1629 [==============================] - 4s 2ms/step - loss: 18.1612 - val_loss: 20.0964\nEpoch 76/200\n1629/1629 [==============================] - 4s 2ms/step - loss: 18.2058 - val_loss: 20.0149\nEpoch 77/200\n1629/1629 [==============================] - 4s 2ms/step - loss: 18.3587 - val_loss: 20.0734\nEpoch 78/200\n1629/1629 [==============================] - 4s 2ms/step - loss: 18.1305 - val_loss: 20.0881\nEpoch 79/200\n1629/1629 [==============================] - 4s 2ms/step - loss: 18.1684 - val_loss: 20.0764\nEpoch 80/200\n1629/1629 [==============================] - 4s 2ms/step - loss: 18.0903 - val_loss: 20.0656\nEpoch 81/200\n1629/1629 [==============================] - 4s 2ms/step - loss: 18.2155 - val_loss: 20.0277\nEpoch 82/200\n1629/1629 [==============================] - 3s 2ms/step - loss: 18.1674 - val_loss: 20.0995\nEpoch 83/200\n1629/1629 [==============================] - 2s 2ms/step - loss: 18.0474 - val_loss: 20.0931\nEpoch 84/200\n1629/1629 [==============================] - 3s 2ms/step - loss: 18.1784 - val_loss: 20.0681\nEpoch 85/200\n1629/1629 [==============================] - 2s 1ms/step - loss: 17.9383 - val_loss: 20.0016\nEpoch 86/200\n1629/1629 [==============================] - 3s 2ms/step - loss: 17.9691 - val_loss: 20.0221\nEpoch 87/200\n1629/1629 [==============================] - 3s 2ms/step - loss: 17.9794 - val_loss: 20.0162\nEpoch 88/200\n1629/1629 [==============================] - 4s 2ms/step - loss: 18.1537 - val_loss: 20.0649\nEpoch 89/200\n1629/1629 [==============================] - 4s 2ms/step - loss: 18.1876 - val_loss: 20.1306\nEpoch 90/200\n1629/1629 [==============================] - 4s 2ms/step - loss: 18.1195 - val_loss: 20.0704\nEpoch 91/200\n1629/1629 [==============================] - 4s 2ms/step - loss: 18.0131 - val_loss: 20.0526\nEpoch 92/200\n1629/1629 [==============================] - 4s 2ms/step - loss: 18.0948 - val_loss: 19.9959\nEpoch 93/200\n1629/1629 [==============================] - 4s 2ms/step - loss: 17.8848 - val_loss: 20.0842\nEpoch 94/200\n1629/1629 [==============================] - 4s 2ms/step - loss: 17.9452 - val_loss: 20.0253\nEpoch 95/200\n1629/1629 [==============================] - 4s 2ms/step - loss: 17.9881 - val_loss: 20.1860\nEpoch 96/200\n1629/1629 [==============================] - 4s 2ms/step - loss: 17.9109 - val_loss: 19.9992\nEpoch 97/200\n1629/1629 [==============================] - 4s 2ms/step - loss: 17.8905 - val_loss: 19.9923\nEpoch 98/200\n1629/1629 [==============================] - 3s 2ms/step - loss: 17.9487 - val_loss: 20.1945\nEpoch 99/200\n1629/1629 [==============================] - 3s 2ms/step - loss: 17.9326 - val_loss: 19.9897\nEpoch 100/200\n1629/1629 [==============================] - 4s 2ms/step - loss: 17.8533 - val_loss: 19.9798\nEpoch 101/200\n1629/1629 [==============================] - 4s 2ms/step - loss: 18.1283 - val_loss: 20.0172\nEpoch 102/200\n1629/1629 [==============================] - 5s 3ms/step - loss: 17.9988 - val_loss: 20.1189\nEpoch 103/200\n1629/1629 [==============================] - 4s 2ms/step - loss: 17.9021 - val_loss: 19.9989\nEpoch 104/200\n1629/1629 [==============================] - 4s 2ms/step - loss: 17.9145 - val_loss: 20.0150\nEpoch 105/200\n1629/1629 [==============================] - 4s 2ms/step - loss: 17.9104 - val_loss: 20.0364\nEpoch 106/200\n1629/1629 [==============================] - 4s 2ms/step - loss: 17.7400 - val_loss: 20.0541\nEpoch 107/200\n1629/1629 [==============================] - 4s 2ms/step - loss: 17.8619 - val_loss: 20.0338\nEpoch 108/200\n1629/1629 [==============================] - 4s 2ms/step - loss: 18.0250 - val_loss: 20.1133\nEpoch 109/200\n1629/1629 [==============================] - 4s 2ms/step - loss: 18.0459 - val_loss: 20.0529\nEpoch 110/200\n1629/1629 [==============================] - 4s 2ms/step - loss: 17.9900 - val_loss: 20.0175\nEpoch 111/200\n1629/1629 [==============================] - 4s 2ms/step - loss: 18.0181 - val_loss: 20.0689\nEpoch 112/200\n1629/1629 [==============================] - 4s 2ms/step - loss: 17.8775 - val_loss: 20.0806\nEpoch 113/200\n1629/1629 [==============================] - 4s 2ms/step - loss: 17.8915 - val_loss: 20.0170\nEpoch 114/200\n1629/1629 [==============================] - 5s 3ms/step - loss: 17.9259 - val_loss: 19.9958\nEpoch 115/200\n1629/1629 [==============================] - 4s 2ms/step - loss: 17.9890 - val_loss: 19.9941\nEpoch 116/200\n1629/1629 [==============================] - 4s 2ms/step - loss: 17.7333 - val_loss: 20.0389\nEpoch 117/200\n1629/1629 [==============================] - 4s 2ms/step - loss: 17.8463 - val_loss: 20.0187\nEpoch 118/200\n1629/1629 [==============================] - 5s 3ms/step - loss: 17.7925 - val_loss: 20.0222\nEpoch 119/200\n1629/1629 [==============================] - 4s 2ms/step - loss: 17.7509 - val_loss: 20.0541\nEpoch 120/200\n1629/1629 [==============================] - 4s 2ms/step - loss: 17.7914 - val_loss: 19.9933\nEpoch 121/200\n1629/1629 [==============================] - 4s 2ms/step - loss: 17.6856 - val_loss: 20.0209\nEpoch 122/200\n1629/1629 [==============================] - 4s 2ms/step - loss: 17.6865 - val_loss: 20.1153\nEpoch 123/200\n1629/1629 [==============================] - 4s 2ms/step - loss: 17.6894 - val_loss: 19.9866\nEpoch 124/200\n1629/1629 [==============================] - 3s 2ms/step - loss: 17.9732 - val_loss: 20.0516\nEpoch 125/200\n1629/1629 [==============================] - 3s 2ms/step - loss: 17.5785 - val_loss: 20.0373\nEpoch 126/200\n1629/1629 [==============================] - 4s 2ms/step - loss: 17.6970 - val_loss: 20.0436\nEpoch 127/200\n1629/1629 [==============================] - 4s 2ms/step - loss: 17.7645 - val_loss: 20.0067\nEpoch 128/200\n1629/1629 [==============================] - 4s 2ms/step - loss: 17.8434 - val_loss: 20.0273\nEpoch 129/200\n1629/1629 [==============================] - 4s 2ms/step - loss: 17.8398 - val_loss: 20.0442\nEpoch 130/200\n1629/1629 [==============================] - 4s 2ms/step - loss: 17.7019 - val_loss: 20.0048\nEpoch 131/200\n1629/1629 [==============================] - 4s 2ms/step - loss: 17.8597 - val_loss: 20.0075\nEpoch 132/200\n1629/1629 [==============================] - 4s 2ms/step - loss: 17.6500 - val_loss: 20.0318\nEpoch 133/200\n1629/1629 [==============================] - 4s 2ms/step - loss: 17.6940 - val_loss: 20.0413\nEpoch 134/200\n1629/1629 [==============================] - 4s 2ms/step - loss: 17.6473 - val_loss: 20.0818\nEpoch 135/200\n1629/1629 [==============================] - 4s 2ms/step - loss: 17.6711 - val_loss: 19.9997\nEpoch 136/200\n1629/1629 [==============================] - 4s 2ms/step - loss: 17.7444 - val_loss: 20.1376\nEpoch 137/200\n1629/1629 [==============================] - 4s 2ms/step - loss: 17.7083 - val_loss: 20.0199\nEpoch 138/200\n1629/1629 [==============================] - 4s 2ms/step - loss: 17.7536 - val_loss: 19.9963\nEpoch 139/200\n1629/1629 [==============================] - 4s 2ms/step - loss: 17.6370 - val_loss: 20.1489\nEpoch 140/200\n1629/1629 [==============================] - 3s 2ms/step - loss: 17.6401 - val_loss: 20.0179\nEpoch 141/200\n1629/1629 [==============================] - 4s 2ms/step - loss: 17.7106 - val_loss: 20.0448\nEpoch 142/200\n1629/1629 [==============================] - 4s 2ms/step - loss: 17.7098 - val_loss: 20.0844\nEpoch 143/200\n1629/1629 [==============================] - 4s 2ms/step - loss: 17.4674 - val_loss: 20.0025\nEpoch 144/200\n1629/1629 [==============================] - 4s 2ms/step - loss: 17.5684 - val_loss: 20.0318\nEpoch 145/200\n1629/1629 [==============================] - 4s 2ms/step - loss: 17.5076 - val_loss: 20.0303\nEpoch 146/200\n1629/1629 [==============================] - 4s 2ms/step - loss: 17.7113 - val_loss: 20.0109\nEpoch 147/200\n1629/1629 [==============================] - 4s 2ms/step - loss: 17.5687 - val_loss: 19.9916\nEpoch 148/200\n1629/1629 [==============================] - 4s 2ms/step - loss: 17.6855 - val_loss: 20.0195\nEpoch 149/200\n1629/1629 [==============================] - 2s 2ms/step - loss: 17.5662 - val_loss: 20.0033\nEpoch 150/200\n1629/1629 [==============================] - 2s 1ms/step - loss: 17.8023 - val_loss: 20.2445\nEpoch 151/200\n1629/1629 [==============================] - 3s 2ms/step - loss: 17.5928 - val_loss: 19.9960\nEpoch 152/200\n1629/1629 [==============================] - 4s 2ms/step - loss: 17.6480 - val_loss: 20.0155\nEpoch 153/200\n1629/1629 [==============================] - 6s 4ms/step - loss: 17.6525 - val_loss: 19.9902\nEpoch 154/200\n1629/1629 [==============================] - 4s 2ms/step - loss: 17.4559 - val_loss: 20.0134\nEpoch 155/200\n1629/1629 [==============================] - 4s 2ms/step - loss: 17.6099 - val_loss: 20.0100\nEpoch 156/200\n1629/1629 [==============================] - 4s 2ms/step - loss: 17.6942 - val_loss: 20.0208\nEpoch 157/200\n1629/1629 [==============================] - 4s 2ms/step - loss: 17.6432 - val_loss: 20.0146\nEpoch 158/200\n1629/1629 [==============================] - 4s 2ms/step - loss: 17.7096 - val_loss: 20.0012\nEpoch 159/200\n1629/1629 [==============================] - 4s 2ms/step - loss: 17.4709 - val_loss: 20.0246\nEpoch 160/200\n1629/1629 [==============================] - 4s 2ms/step - loss: 17.6449 - val_loss: 20.0290\nEpoch 161/200\n1629/1629 [==============================] - 4s 2ms/step - loss: 17.4683 - val_loss: 20.0287\nEpoch 162/200\n1629/1629 [==============================] - 4s 2ms/step - loss: 17.6187 - val_loss: 20.3452\nEpoch 163/200\n1629/1629 [==============================] - 4s 2ms/step - loss: 17.5904 - val_loss: 20.0251\nEpoch 164/200\n1629/1629 [==============================] - 4s 2ms/step - loss: 17.5898 - val_loss: 20.0727\nEpoch 165/200\n1629/1629 [==============================] - 4s 2ms/step - loss: 17.5928 - val_loss: 20.0347\nEpoch 166/200\n1629/1629 [==============================] - 4s 2ms/step - loss: 17.4542 - val_loss: 20.0891\nEpoch 167/200\n1629/1629 [==============================] - 4s 2ms/step - loss: 17.5843 - val_loss: 20.0125\nEpoch 168/200\n1629/1629 [==============================] - 4s 2ms/step - loss: 17.6304 - val_loss: 20.0243\nEpoch 169/200\n1629/1629 [==============================] - 4s 2ms/step - loss: 17.7020 - val_loss: 20.0054\nEpoch 170/200\n1629/1629 [==============================] - 4s 2ms/step - loss: 17.6446 - val_loss: 20.0641\nEpoch 171/200\n1629/1629 [==============================] - 3s 2ms/step - loss: 17.6660 - val_loss: 20.0879\nEpoch 172/200\n1629/1629 [==============================] - 3s 2ms/step - loss: 17.4561 - val_loss: 20.0434\nEpoch 173/200\n1629/1629 [==============================] - 3s 2ms/step - loss: 17.5516 - val_loss: 20.0111\nEpoch 174/200\n1629/1629 [==============================] - 4s 2ms/step - loss: 17.7315 - val_loss: 20.0487\nEpoch 175/200\n1629/1629 [==============================] - 4s 2ms/step - loss: 17.5639 - val_loss: 20.0198\nEpoch 176/200\n1629/1629 [==============================] - 4s 2ms/step - loss: 17.5099 - val_loss: 20.0236\nEpoch 177/200\n1629/1629 [==============================] - 4s 2ms/step - loss: 17.5137 - val_loss: 20.0116\nEpoch 178/200\n1629/1629 [==============================] - 4s 2ms/step - loss: 17.5138 - val_loss: 20.0613\nEpoch 179/200\n1629/1629 [==============================] - 4s 2ms/step - loss: 17.3272 - val_loss: 20.1267\nEpoch 180/200\n1629/1629 [==============================] - 4s 2ms/step - loss: 17.5510 - val_loss: 20.0202\nEpoch 181/200\n1629/1629 [==============================] - 4s 2ms/step - loss: 17.6596 - val_loss: 20.0137\nEpoch 182/200\n1629/1629 [==============================] - 4s 2ms/step - loss: 17.6047 - val_loss: 20.0096\nEpoch 183/200\n1629/1629 [==============================] - 4s 2ms/step - loss: 17.5441 - val_loss: 20.1099\nEpoch 184/200\n1629/1629 [==============================] - 4s 2ms/step - loss: 17.4826 - val_loss: 20.1444\nEpoch 185/200\n1629/1629 [==============================] - 4s 2ms/step - loss: 17.4600 - val_loss: 20.0449\nEpoch 186/200\n1629/1629 [==============================] - 7s 4ms/step - loss: 17.4030 - val_loss: 20.0404\nEpoch 187/200\n1629/1629 [==============================] - 4s 2ms/step - loss: 17.6057 - val_loss: 19.9974\nEpoch 188/200\n1629/1629 [==============================] - 4s 2ms/step - loss: 17.3915 - val_loss: 20.0156\nEpoch 189/200\n1629/1629 [==============================] - 4s 2ms/step - loss: 17.4716 - val_loss: 19.9903\nEpoch 190/200\n1629/1629 [==============================] - 4s 2ms/step - loss: 17.3725 - val_loss: 20.0677\nEpoch 191/200\n1629/1629 [==============================] - 4s 2ms/step - loss: 17.6697 - val_loss: 20.0236\nEpoch 192/200\n1629/1629 [==============================] - 4s 2ms/step - loss: 17.3723 - val_loss: 20.0276\nEpoch 193/200\n1629/1629 [==============================] - 4s 2ms/step - loss: 17.4581 - val_loss: 20.0805\nEpoch 194/200\n1629/1629 [==============================] - 4s 2ms/step - loss: 17.5396 - val_loss: 20.0230\nEpoch 195/200\n1629/1629 [==============================] - 4s 2ms/step - loss: 17.2988 - val_loss: 20.0356\nEpoch 196/200\n1629/1629 [==============================] - 4s 2ms/step - loss: 17.4218 - val_loss: 20.0460\nEpoch 197/200\n1629/1629 [==============================] - 4s 2ms/step - loss: 17.4639 - val_loss: 20.0349\nEpoch 198/200\n1629/1629 [==============================] - 4s 2ms/step - loss: 17.4961 - val_loss: 20.0245\nEpoch 199/200\n1629/1629 [==============================] - 4s 2ms/step - loss: 17.3789 - val_loss: 20.0105\nEpoch 200/200\n1629/1629 [==============================] - 4s 2ms/step - loss: 17.5242 - val_loss: 20.0954\n",
     "output_type": "stream"
    }
   ],
   "execution_count": null
  },
  {
   "cell_type": "code",
   "metadata": {
    "tags": [],
    "cell_id": "00067-f7553e8f-e00d-49e7-accd-5dd85dc8f15b",
    "deepnote_to_be_reexecuted": false,
    "source_hash": "e5c98ebe",
    "execution_start": 1634310232524,
    "execution_millis": 379,
    "deepnote_cell_type": "code"
   },
   "source": "plt.plot(history.history['loss'], label = 'loss')\nplt.plot(history.history['val_loss'], label = 'val_loss')\nplt.title('Loss vs Epochs')\nplt.xlabel(\"Epochs\")\nplt.ylabel(\"Accuracy\")\nplt.legend()\nplt.show()",
   "outputs": [
    {
     "data": {
      "text/plain": "<Figure size 432x288 with 1 Axes>",
      "image/png": "[encoded data removed]"
     },
     "metadata": {
      "needs_background": "light",
      "image/png": {
       "width": 392,
       "height": 278
      }
     },
     "output_type": "display_data"
    }
   ],
   "execution_count": null
  },
  {
   "cell_type": "markdown",
   "source": "# XG Boost",
   "metadata": {
    "tags": [],
    "is_collapsed": false,
    "cell_id": "00070-7c0a905c-9ec2-4d08-bbb7-3ce80d4fbae1",
    "deepnote_cell_type": "text-cell-h1"
   }
  },
  {
   "cell_type": "code",
   "metadata": {
    "tags": [],
    "cell_id": "00071-a368b292-e812-4b85-b316-48eff06a81fc",
    "deepnote_cell_type": "code"
   },
   "source": "import xgboost as xgb\nfrom sklearn.metrics import mean_absolute_error\nfrom sklearn.metrics import r2_score\nfrom sklearn.model_selection import RandomizedSearchCV\nfrom sklearn.metrics import mean_absolute_error\nfrom sklearn.metrics import fbeta_score, make_scorer\nfrom xgboost.sklearn import XGBRegressor\n\nparameters = {'objective':['reg:squarederror'],\n              'booster':['gbtree','gblinear'],\n              'learning_rate': [0.1], \n              'max_depth': [7,10,15,20],\n              'min_child_weight': [10,15,20,25],\n              'colsample_bytree': [0.8, 0.9, 1],\n              'n_estimators': [300,400,500,600],\n              \"reg_alpha\"   : [0.5,0.2,1],\n              \"reg_lambda\"  : [2,3,5],\n              \"gamma\"       : [1,2,3]}\n\nxgb_model = XGBRegressor(random_state=30)\n\ngrid_obj_xgb = RandomizedSearchCV(xgb_model,parameters, cv=5,n_iter=15,scoring='neg_mean_absolute_error',verbose=5,n_jobs=12)\ngrid_obj_xgb.fit(df_train, y_train,verbose = 1)\n\ny_pred_train = grid_obj_xgb.predict(df_train)\ny_pred_test = grid_obj_xgb.predict(df_test)\n\nerr_xgb_train=mean_absolute_error(y_train, y_pred_train, multioutput='raw_values')",
   "outputs": [],
   "execution_count": null
  },
  {
   "cell_type": "markdown",
   "source": "<a style='text-decoration:none;line-height:16px;display:flex;color:#5B5B62;padding:10px;justify-content:end;' href='https://deepnote.com?utm_source=created-in-deepnote-cell&projectId=2f689462-c414-443c-b5c3-3cbe297a247a' target=\"_blank\">\n<img alt='Created in deepnote.com' style='display:inline;max-height:16px;margin:0px;margin-right:7.5px;' src='data:image/svg+xml;base64,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' > </img>\nCreated in <span style='font-weight:600;margin-left:4px;'>Deepnote</span></a>",
   "metadata": {
    "tags": [],
    "created_in_deepnote_cell": true,
    "deepnote_cell_type": "markdown"
   }
  }
 ],
 "nbformat": 4,
 "nbformat_minor": 2,
 "metadata": {
  "orig_nbformat": 2,
  "deepnote": {
   "is_reactive": false
  },
  "deepnote_notebook_id": "81b854c6-e601-42b0-a0de-54fddb77e103",
  "deepnote_execution_queue": []
 }
}